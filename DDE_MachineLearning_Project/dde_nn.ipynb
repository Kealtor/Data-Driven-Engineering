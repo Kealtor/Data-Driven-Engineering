{
 "cells": [
  {
   "cell_type": "code",
   "execution_count": 1,
   "metadata": {},
   "outputs": [],
   "source": [
    "import numpy as np\n",
    "import pandas as pd\n",
    "from datetime import date\n",
    "import plotly.express as px\n",
    "import plotly.graph_objects as go\n",
    "import math\n",
    "import matplotlib.pyplot as plt\n",
    "from sklearn import preprocessing as pp\n",
    "import matplotlib as mpl\n",
    "from sklearn.decomposition import PCA\n",
    "from pandas.plotting import lag_plot, autocorrelation_plot\n",
    "from statsmodels.graphics.tsaplots import plot_acf, plot_pacf \n",
    "import statsmodels.api as smw\n",
    "from datetime import timedelta\n",
    "from statsmodels.tsa.statespace.sarimax import SARIMAX\n",
    "from sklearn.svm import SVR\n",
    "from sklearn.metrics import r2_score\n",
    "# ML Algorithms to be used\n",
    "import tensorflow as tf\n",
    "from tensorflow import keras\n",
    "from keras import optimizers, models, layers, regularizers\n",
    "tf.__version__\n",
    "from utils.dde_preprocessing_utils import (set_timestamp_index,\n",
    "remove_duplicates,\n",
    "remove_columns,\n",
    "extract_correlations,\n",
    "prepare_data_sarimax,\n",
    "create_test_train_split,\n",
    "create_sarimax_test_train_split,\n",
    "create_eval_df,\n",
    "convert_to_sample_time_feature)\n",
    "from utils.dde_plotting_utils import(\n",
    "display_double_timestamps,\n",
    "display_seasonal_decomposition,\n",
    "plot_predictions,\n",
    "plot_accuracy,\n",
    "plot_error_variations,\n",
    "plot_learning_curves,\n",
    ")\n",
    "\n",
    "%load_ext skip_kernel_extension"
   ]
  },
  {
   "cell_type": "code",
   "execution_count": 2,
   "metadata": {},
   "outputs": [],
   "source": [
    "SKIP_RETRAIN_NN = False\n",
    "SKIP_RETRAIN_RNN = True\n",
    "SKIP_RETRAIN_LSTM = True\n",
    "SKIP_RETRAIN_ED_LSTM = True"
   ]
  },
  {
   "cell_type": "markdown",
   "metadata": {},
   "source": [
    "## Loading Data"
   ]
  },
  {
   "cell_type": "code",
   "execution_count": 3,
   "metadata": {},
   "outputs": [],
   "source": [
    "combined_df = pd.read_csv(\"preprocessed_data.csv\")\n",
    "combined_df = set_timestamp_index(combined_df,\"Unnamed: 0\")"
   ]
  },
  {
   "cell_type": "code",
   "execution_count": 4,
   "metadata": {},
   "outputs": [
    {
     "data": {
      "text/html": [
       "<div>\n",
       "<style scoped>\n",
       "    .dataframe tbody tr th:only-of-type {\n",
       "        vertical-align: middle;\n",
       "    }\n",
       "\n",
       "    .dataframe tbody tr th {\n",
       "        vertical-align: top;\n",
       "    }\n",
       "\n",
       "    .dataframe thead th {\n",
       "        text-align: right;\n",
       "    }\n",
       "</style>\n",
       "<table border=\"1\" class=\"dataframe\">\n",
       "  <thead>\n",
       "    <tr style=\"text-align: right;\">\n",
       "      <th></th>\n",
       "      <th>temp</th>\n",
       "      <th>pressure</th>\n",
       "      <th>humidity</th>\n",
       "      <th>wind_speed</th>\n",
       "      <th>wind_deg</th>\n",
       "      <th>generation biomass</th>\n",
       "      <th>generation fossil brown coal/lignite</th>\n",
       "      <th>generation fossil gas</th>\n",
       "      <th>generation fossil hard coal</th>\n",
       "      <th>generation fossil oil</th>\n",
       "      <th>...</th>\n",
       "      <th>generation solar</th>\n",
       "      <th>generation waste</th>\n",
       "      <th>generation wind onshore</th>\n",
       "      <th>total load actual</th>\n",
       "      <th>price actual</th>\n",
       "      <th>generation</th>\n",
       "      <th>energy_difference</th>\n",
       "      <th>month</th>\n",
       "      <th>day</th>\n",
       "      <th>weekend</th>\n",
       "    </tr>\n",
       "  </thead>\n",
       "  <tbody>\n",
       "    <tr>\n",
       "      <th>2015-01-01 00:00:00+01:00</th>\n",
       "      <td>-2.675</td>\n",
       "      <td>1001.0</td>\n",
       "      <td>77</td>\n",
       "      <td>1.0</td>\n",
       "      <td>62</td>\n",
       "      <td>447.0</td>\n",
       "      <td>329.0</td>\n",
       "      <td>4844.0</td>\n",
       "      <td>4821.0</td>\n",
       "      <td>162.0</td>\n",
       "      <td>...</td>\n",
       "      <td>49.0</td>\n",
       "      <td>196.0</td>\n",
       "      <td>6378.0</td>\n",
       "      <td>25385.0</td>\n",
       "      <td>65.41</td>\n",
       "      <td>28251.0</td>\n",
       "      <td>2866.0</td>\n",
       "      <td>1</td>\n",
       "      <td>1</td>\n",
       "      <td>0</td>\n",
       "    </tr>\n",
       "    <tr>\n",
       "      <th>2015-01-01 01:00:00+01:00</th>\n",
       "      <td>-2.675</td>\n",
       "      <td>1001.0</td>\n",
       "      <td>77</td>\n",
       "      <td>1.0</td>\n",
       "      <td>62</td>\n",
       "      <td>449.0</td>\n",
       "      <td>328.0</td>\n",
       "      <td>5196.0</td>\n",
       "      <td>4755.0</td>\n",
       "      <td>158.0</td>\n",
       "      <td>...</td>\n",
       "      <td>50.0</td>\n",
       "      <td>195.0</td>\n",
       "      <td>5890.0</td>\n",
       "      <td>24382.0</td>\n",
       "      <td>64.92</td>\n",
       "      <td>27818.0</td>\n",
       "      <td>3436.0</td>\n",
       "      <td>1</td>\n",
       "      <td>1</td>\n",
       "      <td>0</td>\n",
       "    </tr>\n",
       "    <tr>\n",
       "      <th>2015-01-01 02:00:00+01:00</th>\n",
       "      <td>-3.464</td>\n",
       "      <td>1002.0</td>\n",
       "      <td>78</td>\n",
       "      <td>0.0</td>\n",
       "      <td>23</td>\n",
       "      <td>448.0</td>\n",
       "      <td>323.0</td>\n",
       "      <td>4857.0</td>\n",
       "      <td>4581.0</td>\n",
       "      <td>157.0</td>\n",
       "      <td>...</td>\n",
       "      <td>50.0</td>\n",
       "      <td>196.0</td>\n",
       "      <td>5461.0</td>\n",
       "      <td>22734.0</td>\n",
       "      <td>64.48</td>\n",
       "      <td>26796.0</td>\n",
       "      <td>4062.0</td>\n",
       "      <td>1</td>\n",
       "      <td>1</td>\n",
       "      <td>0</td>\n",
       "    </tr>\n",
       "    <tr>\n",
       "      <th>2015-01-01 03:00:00+01:00</th>\n",
       "      <td>-3.464</td>\n",
       "      <td>1002.0</td>\n",
       "      <td>78</td>\n",
       "      <td>0.0</td>\n",
       "      <td>23</td>\n",
       "      <td>438.0</td>\n",
       "      <td>254.0</td>\n",
       "      <td>4314.0</td>\n",
       "      <td>4131.0</td>\n",
       "      <td>160.0</td>\n",
       "      <td>...</td>\n",
       "      <td>50.0</td>\n",
       "      <td>191.0</td>\n",
       "      <td>5238.0</td>\n",
       "      <td>21286.0</td>\n",
       "      <td>59.32</td>\n",
       "      <td>25223.0</td>\n",
       "      <td>3937.0</td>\n",
       "      <td>1</td>\n",
       "      <td>1</td>\n",
       "      <td>0</td>\n",
       "    </tr>\n",
       "    <tr>\n",
       "      <th>2015-01-01 04:00:00+01:00</th>\n",
       "      <td>-3.464</td>\n",
       "      <td>1002.0</td>\n",
       "      <td>78</td>\n",
       "      <td>0.0</td>\n",
       "      <td>23</td>\n",
       "      <td>428.0</td>\n",
       "      <td>187.0</td>\n",
       "      <td>4130.0</td>\n",
       "      <td>3840.0</td>\n",
       "      <td>156.0</td>\n",
       "      <td>...</td>\n",
       "      <td>42.0</td>\n",
       "      <td>189.0</td>\n",
       "      <td>4935.0</td>\n",
       "      <td>20264.0</td>\n",
       "      <td>56.04</td>\n",
       "      <td>24620.0</td>\n",
       "      <td>4356.0</td>\n",
       "      <td>1</td>\n",
       "      <td>1</td>\n",
       "      <td>0</td>\n",
       "    </tr>\n",
       "    <tr>\n",
       "      <th>...</th>\n",
       "      <td>...</td>\n",
       "      <td>...</td>\n",
       "      <td>...</td>\n",
       "      <td>...</td>\n",
       "      <td>...</td>\n",
       "      <td>...</td>\n",
       "      <td>...</td>\n",
       "      <td>...</td>\n",
       "      <td>...</td>\n",
       "      <td>...</td>\n",
       "      <td>...</td>\n",
       "      <td>...</td>\n",
       "      <td>...</td>\n",
       "      <td>...</td>\n",
       "      <td>...</td>\n",
       "      <td>...</td>\n",
       "      <td>...</td>\n",
       "      <td>...</td>\n",
       "      <td>...</td>\n",
       "      <td>...</td>\n",
       "      <td>...</td>\n",
       "    </tr>\n",
       "    <tr>\n",
       "      <th>2018-12-31 19:00:00+01:00</th>\n",
       "      <td>12.490</td>\n",
       "      <td>1028.0</td>\n",
       "      <td>62</td>\n",
       "      <td>2.0</td>\n",
       "      <td>140</td>\n",
       "      <td>297.0</td>\n",
       "      <td>0.0</td>\n",
       "      <td>7634.0</td>\n",
       "      <td>2628.0</td>\n",
       "      <td>178.0</td>\n",
       "      <td>...</td>\n",
       "      <td>85.0</td>\n",
       "      <td>277.0</td>\n",
       "      <td>3113.0</td>\n",
       "      <td>30653.0</td>\n",
       "      <td>77.02</td>\n",
       "      <td>26415.0</td>\n",
       "      <td>-4238.0</td>\n",
       "      <td>12</td>\n",
       "      <td>31</td>\n",
       "      <td>0</td>\n",
       "    </tr>\n",
       "    <tr>\n",
       "      <th>2018-12-31 20:00:00+01:00</th>\n",
       "      <td>9.990</td>\n",
       "      <td>1029.0</td>\n",
       "      <td>71</td>\n",
       "      <td>1.0</td>\n",
       "      <td>242</td>\n",
       "      <td>296.0</td>\n",
       "      <td>0.0</td>\n",
       "      <td>7241.0</td>\n",
       "      <td>2566.0</td>\n",
       "      <td>174.0</td>\n",
       "      <td>...</td>\n",
       "      <td>33.0</td>\n",
       "      <td>280.0</td>\n",
       "      <td>3288.0</td>\n",
       "      <td>29735.0</td>\n",
       "      <td>76.16</td>\n",
       "      <td>25213.0</td>\n",
       "      <td>-4522.0</td>\n",
       "      <td>12</td>\n",
       "      <td>31</td>\n",
       "      <td>0</td>\n",
       "    </tr>\n",
       "    <tr>\n",
       "      <th>2018-12-31 21:00:00+01:00</th>\n",
       "      <td>8.510</td>\n",
       "      <td>1029.0</td>\n",
       "      <td>81</td>\n",
       "      <td>3.0</td>\n",
       "      <td>300</td>\n",
       "      <td>292.0</td>\n",
       "      <td>0.0</td>\n",
       "      <td>7025.0</td>\n",
       "      <td>2422.0</td>\n",
       "      <td>168.0</td>\n",
       "      <td>...</td>\n",
       "      <td>31.0</td>\n",
       "      <td>286.0</td>\n",
       "      <td>3503.0</td>\n",
       "      <td>28071.0</td>\n",
       "      <td>74.30</td>\n",
       "      <td>23987.0</td>\n",
       "      <td>-4084.0</td>\n",
       "      <td>12</td>\n",
       "      <td>31</td>\n",
       "      <td>0</td>\n",
       "    </tr>\n",
       "    <tr>\n",
       "      <th>2018-12-31 22:00:00+01:00</th>\n",
       "      <td>6.990</td>\n",
       "      <td>1029.0</td>\n",
       "      <td>81</td>\n",
       "      <td>2.0</td>\n",
       "      <td>310</td>\n",
       "      <td>293.0</td>\n",
       "      <td>0.0</td>\n",
       "      <td>6562.0</td>\n",
       "      <td>2293.0</td>\n",
       "      <td>163.0</td>\n",
       "      <td>...</td>\n",
       "      <td>31.0</td>\n",
       "      <td>287.0</td>\n",
       "      <td>3586.0</td>\n",
       "      <td>25801.0</td>\n",
       "      <td>69.89</td>\n",
       "      <td>22748.0</td>\n",
       "      <td>-3053.0</td>\n",
       "      <td>12</td>\n",
       "      <td>31</td>\n",
       "      <td>0</td>\n",
       "    </tr>\n",
       "    <tr>\n",
       "      <th>2018-12-31 23:00:00+01:00</th>\n",
       "      <td>5.990</td>\n",
       "      <td>1029.0</td>\n",
       "      <td>75</td>\n",
       "      <td>2.0</td>\n",
       "      <td>300</td>\n",
       "      <td>290.0</td>\n",
       "      <td>0.0</td>\n",
       "      <td>6926.0</td>\n",
       "      <td>2166.0</td>\n",
       "      <td>163.0</td>\n",
       "      <td>...</td>\n",
       "      <td>31.0</td>\n",
       "      <td>287.0</td>\n",
       "      <td>3651.0</td>\n",
       "      <td>24455.0</td>\n",
       "      <td>69.88</td>\n",
       "      <td>22605.0</td>\n",
       "      <td>-1850.0</td>\n",
       "      <td>12</td>\n",
       "      <td>31</td>\n",
       "      <td>0</td>\n",
       "    </tr>\n",
       "  </tbody>\n",
       "</table>\n",
       "<p>35064 rows × 26 columns</p>\n",
       "</div>"
      ],
      "text/plain": [
       "                             temp  pressure  humidity  wind_speed  wind_deg  \\\n",
       "2015-01-01 00:00:00+01:00  -2.675    1001.0        77         1.0        62   \n",
       "2015-01-01 01:00:00+01:00  -2.675    1001.0        77         1.0        62   \n",
       "2015-01-01 02:00:00+01:00  -3.464    1002.0        78         0.0        23   \n",
       "2015-01-01 03:00:00+01:00  -3.464    1002.0        78         0.0        23   \n",
       "2015-01-01 04:00:00+01:00  -3.464    1002.0        78         0.0        23   \n",
       "...                           ...       ...       ...         ...       ...   \n",
       "2018-12-31 19:00:00+01:00  12.490    1028.0        62         2.0       140   \n",
       "2018-12-31 20:00:00+01:00   9.990    1029.0        71         1.0       242   \n",
       "2018-12-31 21:00:00+01:00   8.510    1029.0        81         3.0       300   \n",
       "2018-12-31 22:00:00+01:00   6.990    1029.0        81         2.0       310   \n",
       "2018-12-31 23:00:00+01:00   5.990    1029.0        75         2.0       300   \n",
       "\n",
       "                           generation biomass  \\\n",
       "2015-01-01 00:00:00+01:00               447.0   \n",
       "2015-01-01 01:00:00+01:00               449.0   \n",
       "2015-01-01 02:00:00+01:00               448.0   \n",
       "2015-01-01 03:00:00+01:00               438.0   \n",
       "2015-01-01 04:00:00+01:00               428.0   \n",
       "...                                       ...   \n",
       "2018-12-31 19:00:00+01:00               297.0   \n",
       "2018-12-31 20:00:00+01:00               296.0   \n",
       "2018-12-31 21:00:00+01:00               292.0   \n",
       "2018-12-31 22:00:00+01:00               293.0   \n",
       "2018-12-31 23:00:00+01:00               290.0   \n",
       "\n",
       "                           generation fossil brown coal/lignite  \\\n",
       "2015-01-01 00:00:00+01:00                                 329.0   \n",
       "2015-01-01 01:00:00+01:00                                 328.0   \n",
       "2015-01-01 02:00:00+01:00                                 323.0   \n",
       "2015-01-01 03:00:00+01:00                                 254.0   \n",
       "2015-01-01 04:00:00+01:00                                 187.0   \n",
       "...                                                         ...   \n",
       "2018-12-31 19:00:00+01:00                                   0.0   \n",
       "2018-12-31 20:00:00+01:00                                   0.0   \n",
       "2018-12-31 21:00:00+01:00                                   0.0   \n",
       "2018-12-31 22:00:00+01:00                                   0.0   \n",
       "2018-12-31 23:00:00+01:00                                   0.0   \n",
       "\n",
       "                           generation fossil gas  generation fossil hard coal  \\\n",
       "2015-01-01 00:00:00+01:00                 4844.0                       4821.0   \n",
       "2015-01-01 01:00:00+01:00                 5196.0                       4755.0   \n",
       "2015-01-01 02:00:00+01:00                 4857.0                       4581.0   \n",
       "2015-01-01 03:00:00+01:00                 4314.0                       4131.0   \n",
       "2015-01-01 04:00:00+01:00                 4130.0                       3840.0   \n",
       "...                                          ...                          ...   \n",
       "2018-12-31 19:00:00+01:00                 7634.0                       2628.0   \n",
       "2018-12-31 20:00:00+01:00                 7241.0                       2566.0   \n",
       "2018-12-31 21:00:00+01:00                 7025.0                       2422.0   \n",
       "2018-12-31 22:00:00+01:00                 6562.0                       2293.0   \n",
       "2018-12-31 23:00:00+01:00                 6926.0                       2166.0   \n",
       "\n",
       "                           generation fossil oil  ...  generation solar  \\\n",
       "2015-01-01 00:00:00+01:00                  162.0  ...              49.0   \n",
       "2015-01-01 01:00:00+01:00                  158.0  ...              50.0   \n",
       "2015-01-01 02:00:00+01:00                  157.0  ...              50.0   \n",
       "2015-01-01 03:00:00+01:00                  160.0  ...              50.0   \n",
       "2015-01-01 04:00:00+01:00                  156.0  ...              42.0   \n",
       "...                                          ...  ...               ...   \n",
       "2018-12-31 19:00:00+01:00                  178.0  ...              85.0   \n",
       "2018-12-31 20:00:00+01:00                  174.0  ...              33.0   \n",
       "2018-12-31 21:00:00+01:00                  168.0  ...              31.0   \n",
       "2018-12-31 22:00:00+01:00                  163.0  ...              31.0   \n",
       "2018-12-31 23:00:00+01:00                  163.0  ...              31.0   \n",
       "\n",
       "                           generation waste  generation wind onshore  \\\n",
       "2015-01-01 00:00:00+01:00             196.0                   6378.0   \n",
       "2015-01-01 01:00:00+01:00             195.0                   5890.0   \n",
       "2015-01-01 02:00:00+01:00             196.0                   5461.0   \n",
       "2015-01-01 03:00:00+01:00             191.0                   5238.0   \n",
       "2015-01-01 04:00:00+01:00             189.0                   4935.0   \n",
       "...                                     ...                      ...   \n",
       "2018-12-31 19:00:00+01:00             277.0                   3113.0   \n",
       "2018-12-31 20:00:00+01:00             280.0                   3288.0   \n",
       "2018-12-31 21:00:00+01:00             286.0                   3503.0   \n",
       "2018-12-31 22:00:00+01:00             287.0                   3586.0   \n",
       "2018-12-31 23:00:00+01:00             287.0                   3651.0   \n",
       "\n",
       "                           total load actual  price actual  generation  \\\n",
       "2015-01-01 00:00:00+01:00            25385.0         65.41     28251.0   \n",
       "2015-01-01 01:00:00+01:00            24382.0         64.92     27818.0   \n",
       "2015-01-01 02:00:00+01:00            22734.0         64.48     26796.0   \n",
       "2015-01-01 03:00:00+01:00            21286.0         59.32     25223.0   \n",
       "2015-01-01 04:00:00+01:00            20264.0         56.04     24620.0   \n",
       "...                                      ...           ...         ...   \n",
       "2018-12-31 19:00:00+01:00            30653.0         77.02     26415.0   \n",
       "2018-12-31 20:00:00+01:00            29735.0         76.16     25213.0   \n",
       "2018-12-31 21:00:00+01:00            28071.0         74.30     23987.0   \n",
       "2018-12-31 22:00:00+01:00            25801.0         69.89     22748.0   \n",
       "2018-12-31 23:00:00+01:00            24455.0         69.88     22605.0   \n",
       "\n",
       "                           energy_difference  month  day  weekend  \n",
       "2015-01-01 00:00:00+01:00             2866.0      1    1        0  \n",
       "2015-01-01 01:00:00+01:00             3436.0      1    1        0  \n",
       "2015-01-01 02:00:00+01:00             4062.0      1    1        0  \n",
       "2015-01-01 03:00:00+01:00             3937.0      1    1        0  \n",
       "2015-01-01 04:00:00+01:00             4356.0      1    1        0  \n",
       "...                                      ...    ...  ...      ...  \n",
       "2018-12-31 19:00:00+01:00            -4238.0     12   31        0  \n",
       "2018-12-31 20:00:00+01:00            -4522.0     12   31        0  \n",
       "2018-12-31 21:00:00+01:00            -4084.0     12   31        0  \n",
       "2018-12-31 22:00:00+01:00            -3053.0     12   31        0  \n",
       "2018-12-31 23:00:00+01:00            -1850.0     12   31        0  \n",
       "\n",
       "[35064 rows x 26 columns]"
      ]
     },
     "execution_count": 4,
     "metadata": {},
     "output_type": "execute_result"
    }
   ],
   "source": [
    "combined_df"
   ]
  },
  {
   "cell_type": "markdown",
   "metadata": {},
   "source": [
    "# Simple NN\n"
   ]
  },
  {
   "cell_type": "markdown",
   "metadata": {},
   "source": [
    "Scale the input data"
   ]
  },
  {
   "cell_type": "code",
   "execution_count": 5,
   "metadata": {},
   "outputs": [],
   "source": [
    "#Rescaling the data\n",
    "scaled_df = combined_df.copy(deep=True)\n",
    "featuresToScale = scaled_df.columns\n",
    "sX = pp.StandardScaler(copy=True)\n",
    "scaled_df.loc[:,featuresToScale] = sX.fit_transform(scaled_df[featuresToScale])"
   ]
  },
  {
   "cell_type": "markdown",
   "metadata": {},
   "source": [
    "Create Train Validation Test Split"
   ]
  },
  {
   "cell_type": "code",
   "execution_count": 6,
   "metadata": {},
   "outputs": [],
   "source": [
    "train_start = '2015-01-01'\n",
    "validation_start = '2017-01-01'\n",
    "test_start = '2017-03-01'\n",
    "test_end = '2017-03-06'\n",
    "feature = 'total load actual'\n",
    "feature_df = combined_df[feature]\n",
    "data_x_train,data_x_val,data_x_test,data_y_train,data_y_val,data_y_test = create_test_train_split(scaled_df,feature_df,train_start,test_start,test_end,validation_start=validation_start)\n"
   ]
  },
  {
   "cell_type": "markdown",
   "metadata": {},
   "source": [
    "Define the Model"
   ]
  },
  {
   "cell_type": "code",
   "execution_count": 7,
   "metadata": {},
   "outputs": [],
   "source": [
    "def build_model_batch():\n",
    "  #Here we will use Sequential API\n",
    "  model = models.Sequential([\n",
    "  layers.Dense(32, kernel_initializer=\"he_normal\", input_shape=(data_x_train.shape[1],)),keras.layers.LeakyReLU(alpha=0.1),                           \n",
    "  layers.BatchNormalization(),\n",
    "  layers.Dense(32, kernel_regularizer=regularizers.l2(0.0001), kernel_initializer=\"he_normal\"),keras.layers.LeakyReLU(alpha=0.1),\n",
    "  layers.BatchNormalization(),\n",
    "  layers.Dense(1)\n",
    "  ])\n",
    "  \n",
    "  model.compile(optimizer='Adam', loss=['mse'], metrics=['mae'])\n",
    "  return model\n"
   ]
  },
  {
   "cell_type": "code",
   "execution_count": 8,
   "metadata": {},
   "outputs": [
    {
     "name": "stdout",
     "output_type": "stream",
     "text": [
      "Model: \"sequential\"\n",
      "_________________________________________________________________\n",
      "Layer (type)                 Output Shape              Param #   \n",
      "=================================================================\n",
      "dense (Dense)                (None, 32)                864       \n",
      "_________________________________________________________________\n",
      "leaky_re_lu (LeakyReLU)      (None, 32)                0         \n",
      "_________________________________________________________________\n",
      "batch_normalization (BatchNo (None, 32)                128       \n",
      "_________________________________________________________________\n",
      "dense_1 (Dense)              (None, 32)                1056      \n",
      "_________________________________________________________________\n",
      "leaky_re_lu_1 (LeakyReLU)    (None, 32)                0         \n",
      "_________________________________________________________________\n",
      "batch_normalization_1 (Batch (None, 32)                128       \n",
      "_________________________________________________________________\n",
      "dense_2 (Dense)              (None, 1)                 33        \n",
      "=================================================================\n",
      "Total params: 2,209\n",
      "Trainable params: 2,081\n",
      "Non-trainable params: 128\n",
      "_________________________________________________________________\n"
     ]
    }
   ],
   "source": [
    "build_model_batch().summary()"
   ]
  },
  {
   "cell_type": "markdown",
   "metadata": {},
   "source": [
    "Define Callback functions"
   ]
  },
  {
   "cell_type": "code",
   "execution_count": 9,
   "metadata": {},
   "outputs": [],
   "source": [
    "#We will first create the object to feed fit() method:\n",
    "myCheckpoint= keras.callbacks.ModelCheckpoint(\"./NN/my_best_NN_model.h5\", save_best_only=True)\n",
    "myEarly_stopping = keras.callbacks.EarlyStopping(patience=20,restore_best_weights=True)"
   ]
  },
  {
   "cell_type": "markdown",
   "metadata": {},
   "source": [
    "Hyperparameters"
   ]
  },
  {
   "cell_type": "code",
   "execution_count": 10,
   "metadata": {},
   "outputs": [],
   "source": [
    "#Model Training\n",
    "#--------------------------------------------------------------------------\n",
    "#Hyperparameters\n",
    "num_epochs = 1000\n",
    "batch_size = 10"
   ]
  },
  {
   "cell_type": "markdown",
   "metadata": {},
   "source": [
    "Training the model"
   ]
  },
  {
   "cell_type": "code",
   "execution_count": 11,
   "metadata": {},
   "outputs": [
    {
     "name": "stdout",
     "output_type": "stream",
     "text": [
      "Epoch 1/1000\n",
      "1755/1755 [==============================] - 6s 3ms/step - loss: 823763008.0000 - mae: 28357.2188 - val_loss: 881147136.0000 - val_mae: 29312.3105\n",
      "Epoch 2/1000\n",
      "1755/1755 [==============================] - 5s 3ms/step - loss: 797331392.0000 - mae: 27951.9160 - val_loss: 832616448.0000 - val_mae: 28583.7988\n",
      "Epoch 3/1000\n",
      "1755/1755 [==============================] - 5s 3ms/step - loss: 754763264.0000 - mae: 27265.9023 - val_loss: 768639040.0000 - val_mae: 27558.7480\n",
      "Epoch 4/1000\n",
      "1755/1755 [==============================] - 4s 3ms/step - loss: 701730688.0000 - mae: 26356.0820 - val_loss: 701652352.0000 - val_mae: 26421.2539\n",
      "Epoch 5/1000\n",
      "1755/1755 [==============================] - 5s 3ms/step - loss: 641188864.0000 - mae: 25242.0273 - val_loss: 621222016.0000 - val_mae: 24911.7344\n",
      "Epoch 6/1000\n",
      "1755/1755 [==============================] - 5s 3ms/step - loss: 575662592.0000 - mae: 23933.2539 - val_loss: 540640512.0000 - val_mae: 23249.3359\n",
      "Epoch 7/1000\n",
      "1755/1755 [==============================] - 4s 2ms/step - loss: 505799136.0000 - mae: 22430.6895 - val_loss: 472914400.0000 - val_mae: 21745.1973\n",
      "Epoch 8/1000\n",
      "1755/1755 [==============================] - 4s 2ms/step - loss: 432761536.0000 - mae: 20739.7246 - val_loss: 400425600.0000 - val_mae: 20009.1484\n",
      "Epoch 9/1000\n",
      "1755/1755 [==============================] - 4s 2ms/step - loss: 358587872.0000 - mae: 18871.0293 - val_loss: 336281216.0000 - val_mae: 18325.0547\n",
      "Epoch 10/1000\n",
      "1755/1755 [==============================] - 4s 2ms/step - loss: 285933024.0000 - mae: 16836.4258 - val_loss: 250985712.0000 - val_mae: 15838.8604\n",
      "Epoch 11/1000\n",
      "1755/1755 [==============================] - 4s 2ms/step - loss: 217219680.0000 - mae: 14652.5107 - val_loss: 186779328.0000 - val_mae: 13662.8926\n",
      "Epoch 12/1000\n",
      "1755/1755 [==============================] - 4s 2ms/step - loss: 154874672.0000 - mae: 12333.8203 - val_loss: 127052096.0000 - val_mae: 11269.5088\n",
      "Epoch 13/1000\n",
      "1755/1755 [==============================] - 4s 2ms/step - loss: 101082928.0000 - mae: 9918.7773 - val_loss: 77362296.0000 - val_mae: 8791.5146\n",
      "Epoch 14/1000\n",
      "1755/1755 [==============================] - 4s 2ms/step - loss: 58056528.0000 - mae: 7449.6226 - val_loss: 38883964.0000 - val_mae: 6234.0952\n",
      "Epoch 15/1000\n",
      "1755/1755 [==============================] - 4s 2ms/step - loss: 27622480.0000 - mae: 5008.9946 - val_loss: 16473959.0000 - val_mae: 4053.6069\n",
      "Epoch 16/1000\n",
      "1755/1755 [==============================] - 5s 3ms/step - loss: 10197156.0000 - mae: 2817.1780 - val_loss: 2758053.0000 - val_mae: 1657.2319\n",
      "Epoch 17/1000\n",
      "1755/1755 [==============================] - 4s 2ms/step - loss: 3498469.5000 - mae: 1510.7202 - val_loss: 407523.8750 - val_mae: 626.9657\n",
      "Epoch 18/1000\n",
      "1755/1755 [==============================] - 4s 2ms/step - loss: 2268042.5000 - mae: 1195.8373 - val_loss: 22944.3926 - val_mae: 117.8140\n",
      "Epoch 19/1000\n",
      "1755/1755 [==============================] - 4s 2ms/step - loss: 2179604.2500 - mae: 1175.4269 - val_loss: 37091.0156 - val_mae: 161.7598\n",
      "Epoch 20/1000\n",
      "1755/1755 [==============================] - 4s 2ms/step - loss: 2083911.8750 - mae: 1156.0868 - val_loss: 16593.9727 - val_mae: 109.4960\n",
      "Epoch 21/1000\n",
      "1755/1755 [==============================] - 4s 2ms/step - loss: 2076397.5000 - mae: 1147.8136 - val_loss: 21034.7910 - val_mae: 125.0213\n",
      "Epoch 22/1000\n",
      "1755/1755 [==============================] - 4s 2ms/step - loss: 2174308.2500 - mae: 1186.4940 - val_loss: 42161.5977 - val_mae: 176.4680\n",
      "Epoch 23/1000\n",
      "1755/1755 [==============================] - 4s 2ms/step - loss: 2072285.7500 - mae: 1151.7993 - val_loss: 21669.7422 - val_mae: 122.6907\n",
      "Epoch 24/1000\n",
      "1755/1755 [==============================] - 4s 2ms/step - loss: 2087153.1250 - mae: 1152.0746 - val_loss: 42677.7852 - val_mae: 178.5279\n",
      "Epoch 25/1000\n",
      "1755/1755 [==============================] - 4s 2ms/step - loss: 2212395.0000 - mae: 1197.0172 - val_loss: 117933.1172 - val_mae: 275.7664\n",
      "Epoch 26/1000\n",
      "1755/1755 [==============================] - 4s 2ms/step - loss: 2010179.7500 - mae: 1137.1720 - val_loss: 10651.8340 - val_mae: 78.5467\n",
      "Epoch 27/1000\n",
      "1755/1755 [==============================] - 4s 2ms/step - loss: 2134954.7500 - mae: 1175.9119 - val_loss: 33139.3594 - val_mae: 159.1475\n",
      "Epoch 28/1000\n",
      "1755/1755 [==============================] - 4s 2ms/step - loss: 1988108.3750 - mae: 1142.3945 - val_loss: 70450.5625 - val_mae: 238.3836\n",
      "Epoch 29/1000\n",
      "1755/1755 [==============================] - 4s 2ms/step - loss: 2000049.2500 - mae: 1127.4668 - val_loss: 19369.5645 - val_mae: 109.9814\n",
      "Epoch 30/1000\n",
      "1755/1755 [==============================] - 4s 2ms/step - loss: 2115335.0000 - mae: 1158.3922 - val_loss: 6175.6758 - val_mae: 65.2861\n",
      "Epoch 31/1000\n",
      "1755/1755 [==============================] - 4s 2ms/step - loss: 2042962.1250 - mae: 1146.1425 - val_loss: 12071.3193 - val_mae: 89.6385\n",
      "Epoch 32/1000\n",
      "1755/1755 [==============================] - 4s 2ms/step - loss: 2101013.2500 - mae: 1168.8804 - val_loss: 13182.7939 - val_mae: 92.0187\n",
      "Epoch 33/1000\n",
      "1755/1755 [==============================] - 4s 2ms/step - loss: 2133237.7500 - mae: 1170.9243 - val_loss: 29850.5332 - val_mae: 115.2730\n",
      "Epoch 34/1000\n",
      "1755/1755 [==============================] - 4s 2ms/step - loss: 2170483.2500 - mae: 1182.5415 - val_loss: 68375.4766 - val_mae: 229.4431\n",
      "Epoch 35/1000\n",
      "1755/1755 [==============================] - 4s 2ms/step - loss: 2080136.8750 - mae: 1157.2186 - val_loss: 45663.1445 - val_mae: 180.6833\n",
      "Epoch 36/1000\n",
      "1755/1755 [==============================] - 4s 2ms/step - loss: 1933677.1250 - mae: 1117.9706 - val_loss: 442907.1250 - val_mae: 548.0924\n",
      "Epoch 37/1000\n",
      "1755/1755 [==============================] - 4s 2ms/step - loss: 2096431.5000 - mae: 1164.9537 - val_loss: 52486.2383 - val_mae: 195.3032\n",
      "Epoch 38/1000\n",
      "1755/1755 [==============================] - 4s 2ms/step - loss: 1970346.6250 - mae: 1126.3555 - val_loss: 79935.5391 - val_mae: 232.5685\n",
      "Epoch 39/1000\n",
      "1755/1755 [==============================] - 4s 2ms/step - loss: 2118164.0000 - mae: 1168.1366 - val_loss: 11450.2510 - val_mae: 83.7170\n",
      "Epoch 40/1000\n",
      "1755/1755 [==============================] - 4s 2ms/step - loss: 2032659.1250 - mae: 1137.5457 - val_loss: 12059.5830 - val_mae: 91.8327\n",
      "Epoch 41/1000\n",
      "1755/1755 [==============================] - 4s 2ms/step - loss: 2180257.7500 - mae: 1197.0048 - val_loss: 75024.7500 - val_mae: 227.3358\n",
      "Epoch 42/1000\n",
      "1755/1755 [==============================] - 4s 3ms/step - loss: 2034831.1250 - mae: 1139.9647 - val_loss: 113077.8281 - val_mae: 284.3990\n",
      "Epoch 43/1000\n",
      "1755/1755 [==============================] - 4s 3ms/step - loss: 2170948.5000 - mae: 1175.2430 - val_loss: 236615.1562 - val_mae: 403.7419\n",
      "Epoch 44/1000\n",
      "1755/1755 [==============================] - 4s 2ms/step - loss: 2071691.1250 - mae: 1157.2043 - val_loss: 17229.7109 - val_mae: 107.7300\n",
      "Epoch 45/1000\n",
      "1755/1755 [==============================] - 4s 2ms/step - loss: 2091990.8750 - mae: 1164.2124 - val_loss: 10677.8633 - val_mae: 83.9489\n",
      "Epoch 46/1000\n",
      "1755/1755 [==============================] - 4s 3ms/step - loss: 2160389.2500 - mae: 1165.7458 - val_loss: 41220.8320 - val_mae: 181.5178\n",
      "Epoch 47/1000\n",
      "1755/1755 [==============================] - 5s 3ms/step - loss: 1953795.7500 - mae: 1128.4913 - val_loss: 113328.0547 - val_mae: 269.4897\n",
      "Epoch 48/1000\n",
      "1755/1755 [==============================] - 5s 3ms/step - loss: 1984865.5000 - mae: 1132.7036 - val_loss: 1421659.2500 - val_mae: 1106.6382\n",
      "Epoch 49/1000\n",
      "1755/1755 [==============================] - 5s 3ms/step - loss: 2026265.7500 - mae: 1148.9259 - val_loss: 289269.9688 - val_mae: 445.9138\n",
      "Epoch 50/1000\n",
      "1755/1755 [==============================] - 5s 3ms/step - loss: 1953487.7500 - mae: 1115.1560 - val_loss: 68342.0391 - val_mae: 224.3147\n"
     ]
    }
   ],
   "source": [
    "%%skip $SKIP_RETRAIN_NN\n",
    "\n",
    "model_base = build_model_batch()\n",
    "history_base = model_base.fit(data_x_train, data_y_train, epochs=num_epochs, batch_size=batch_size, validation_data=(data_x_val, data_y_val) , \n",
    "                                callbacks=[myCheckpoint,myEarly_stopping])#, verbose=0)\n",
    "\n"
   ]
  },
  {
   "cell_type": "markdown",
   "metadata": {},
   "source": [
    "Evaluate the training process"
   ]
  },
  {
   "cell_type": "code",
   "execution_count": 12,
   "metadata": {
    "colab": {
     "base_uri": "https://localhost:8080/",
     "height": 159
    },
    "id": "m2wbpzv8gPh0",
    "outputId": "1ead09f5-6fa5-499d-b0b2-7f94452a48be"
   },
   "outputs": [],
   "source": [
    "%%skip $SKIP_RETRAIN_NN\n",
    "\n",
    "hist = pd.DataFrame(history_base.history)\n",
    "hist['epoch'] = history_base.epoch"
   ]
  },
  {
   "cell_type": "code",
   "execution_count": 14,
   "metadata": {
    "colab": {
     "base_uri": "https://localhost:8080/",
     "height": 296
    },
    "id": "2VoMpChceA-8",
    "outputId": "ed11291b-62a2-468b-f749-c1e62639ccb4"
   },
   "outputs": [
    {
     "data": {
      "image/png": "[encoded data removed]",
      "text/plain": [
       "<Figure size 432x288 with 1 Axes>"
      ]
     },
     "metadata": {
      "needs_background": "light"
     },
     "output_type": "display_data"
    }
   ],
   "source": [
    "%%skip $SKIP_RETRAIN_NN\n",
    "fig = plot_learning_curves(hist,'Simple NN',\"./NN/learningcurve_NN.png\")"
   ]
  },
  {
   "cell_type": "markdown",
   "metadata": {},
   "source": [
    "Load best model"
   ]
  },
  {
   "cell_type": "code",
   "execution_count": 15,
   "metadata": {},
   "outputs": [
    {
     "name": "stdout",
     "output_type": "stream",
     "text": [
      "Model: \"sequential_1\"\n",
      "_________________________________________________________________\n",
      "Layer (type)                 Output Shape              Param #   \n",
      "=================================================================\n",
      "dense_3 (Dense)              (None, 32)                864       \n",
      "_________________________________________________________________\n",
      "leaky_re_lu_2 (LeakyReLU)    (None, 32)                0         \n",
      "_________________________________________________________________\n",
      "batch_normalization_2 (Batch (None, 32)                128       \n",
      "_________________________________________________________________\n",
      "dense_4 (Dense)              (None, 32)                1056      \n",
      "_________________________________________________________________\n",
      "leaky_re_lu_3 (LeakyReLU)    (None, 32)                0         \n",
      "_________________________________________________________________\n",
      "batch_normalization_3 (Batch (None, 32)                128       \n",
      "_________________________________________________________________\n",
      "dense_5 (Dense)              (None, 1)                 33        \n",
      "=================================================================\n",
      "Total params: 2,209\n",
      "Trainable params: 2,081\n",
      "Non-trainable params: 128\n",
      "_________________________________________________________________\n"
     ]
    }
   ],
   "source": [
    "model_best = keras.models.load_model(\"./NN/my_best_NN_model.h5\")\n",
    "model_best.summary()"
   ]
  },
  {
   "cell_type": "markdown",
   "metadata": {},
   "source": [
    "Evaluate Predictions"
   ]
  },
  {
   "cell_type": "code",
   "execution_count": 16,
   "metadata": {},
   "outputs": [],
   "source": [
    "Y_test_predictions = pd.Series(model_best.predict(data_x_test).flatten(),index=data_x_test.index)"
   ]
  },
  {
   "cell_type": "code",
   "execution_count": 17,
   "metadata": {},
   "outputs": [],
   "source": [
    "eval_df = create_eval_df(Y_test_predictions,data_y_test,)"
   ]
  },
  {
   "cell_type": "code",
   "execution_count": 18,
   "metadata": {},
   "outputs": [
    {
     "data": {
      "image/png": "[encoded data removed]",
      "text/plain": [
       "<Figure size 432x288 with 1 Axes>"
      ]
     },
     "metadata": {
      "needs_background": "light"
     },
     "output_type": "display_data"
    }
   ],
   "source": [
    "fig = plot_accuracy(eval_df,'Simple NN',\"./NN/accuracy_NN.png\")"
   ]
  },
  {
   "cell_type": "code",
   "execution_count": 19,
   "metadata": {},
   "outputs": [
    {
     "data": {
      "image/png": "[encoded data removed]",
      "text/plain": [
       "<Figure size 432x288 with 1 Axes>"
      ]
     },
     "metadata": {
      "needs_background": "light"
     },
     "output_type": "display_data"
    }
   ],
   "source": [
    "fig = plot_error_variations(eval_df,'Simple NN',\"./NN/error_variations_NN.png\")\n"
   ]
  },
  {
   "cell_type": "code",
   "execution_count": 20,
   "metadata": {},
   "outputs": [
    {
     "data": {
      "text/plain": [
       "0.22783753586937816"
      ]
     },
     "execution_count": 20,
     "metadata": {},
     "output_type": "execute_result"
    }
   ],
   "source": [
    "#Calculating the mean absolutepercentage error:\n",
    "abs_error_nn = abs(Y_test_predictions - data_y_test)/data_y_test*100\n",
    "np.average(abs_error_nn)\n"
   ]
  },
  {
   "cell_type": "code",
   "execution_count": 21,
   "metadata": {},
   "outputs": [
    {
     "name": "stdout",
     "output_type": "stream",
     "text": [
      "R^2 score is  1.00\n"
     ]
    }
   ],
   "source": [
    "#Calculating R2 value:\n",
    "r2_test = r2_score(data_y_test, Y_test_predictions)\n",
    "print('R^2 score is  %3.2f' %r2_test)"
   ]
  },
  {
   "cell_type": "code",
   "execution_count": 22,
   "metadata": {},
   "outputs": [
    {
     "name": "stderr",
     "output_type": "stream",
     "text": [
      "<ipython-input-22-9117c4f63da2>:2: UserWarning: Matplotlib is currently using module://ipykernel.pylab.backend_inline, which is a non-GUI backend, so cannot show the figure.\n",
      "  fig.show()\n"
     ]
    },
    {
     "data": {
      "image/png": "[encoded data removed]",
      "text/plain": [
       "<Figure size 432x288 with 1 Axes>"
      ]
     },
     "metadata": {
      "needs_background": "light"
     },
     "output_type": "display_data"
    }
   ],
   "source": [
    "fig = plot_predictions(eval_df,1,'Simple NN','Total Load',\"./NN/prediction_NN.png\")\n",
    "fig.show()"
   ]
  },
  {
   "cell_type": "code",
   "execution_count": null,
   "metadata": {},
   "outputs": [],
   "source": []
  }
 ],
 "metadata": {
  "interpreter": {
   "hash": "39d1545a961fb91480a52a0b6f0ba22788119e75d6e41681ee81894caf37680e"
  },
  "kernelspec": {
   "display_name": "Python 3",
   "language": "python",
   "name": "python3"
  },
  "language_info": {
   "codemirror_mode": {
    "name": "ipython",
    "version": 3
   },
   "file_extension": ".py",
   "mimetype": "text/x-python",
   "name": "python",
   "nbconvert_exporter": "python",
   "pygments_lexer": "ipython3",
   "version": "3.9.4"
  }
 },
 "nbformat": 4,
 "nbformat_minor": 2
}
