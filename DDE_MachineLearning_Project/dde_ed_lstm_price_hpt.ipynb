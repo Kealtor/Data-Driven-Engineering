{
 "cells": [
  {
   "cell_type": "code",
   "execution_count": 1,
   "metadata": {},
   "outputs": [],
   "source": [
    "%load_ext skip_kernel_extension\n",
    "\n",
    "import numpy as np\n",
    "import pandas as pd\n",
    "from datetime import date\n",
    "import plotly.express as px\n",
    "import plotly.graph_objects as go\n",
    "import math\n",
    "import matplotlib.pyplot as plt\n",
    "from sklearn import preprocessing as pp\n",
    "import matplotlib as mpl\n",
    "from sklearn.decomposition import PCA\n",
    "from pandas.plotting import lag_plot, autocorrelation_plot\n",
    "from statsmodels.graphics.tsaplots import plot_acf, plot_pacf \n",
    "import statsmodels.api as smw\n",
    "from datetime import timedelta\n",
    "from statsmodels.tsa.statespace.sarimax import SARIMAX\n",
    "from sklearn.svm import SVR\n",
    "from sklearn.metrics import r2_score\n",
    "import tensorflow as tf\n",
    "from tensorflow import keras\n",
    "from keras import optimizers, models, layers, regularizers\n",
    "tf.__version__\n",
    "from utils.dde_preprocessing_utils import (set_timestamp_index,\n",
    "remove_duplicates,\n",
    "remove_columns,\n",
    "extract_correlations,\n",
    "prepare_data_sarimax,\n",
    "create_test_train_split,\n",
    "create_sarimax_test_train_split,\n",
    "create_eval_df,\n",
    "convert_to_sample_time_feature)\n",
    "from utils.dde_plotting_utils import(\n",
    "display_double_timestamps,\n",
    "display_seasonal_decomposition,\n",
    "plot_predictions,\n",
    "plot_accuracy,\n",
    "plot_error_variations,\n",
    "plot_learning_curves,\n",
    ")\n"
   ]
  },
  {
   "cell_type": "code",
   "execution_count": 2,
   "metadata": {},
   "outputs": [],
   "source": [
    "config = tf.compat.v1.ConfigProto(gpu_options=tf.compat.v1.GPUOptions(per_process_gpu_memory_fraction=0.8))\n",
    "config.gpu_options.allow_growth = True\n",
    "session = tf.compat.v1.Session(config=config)\n",
    "tf.compat.v1.keras.backend.set_session(session)"
   ]
  },
  {
   "cell_type": "code",
   "execution_count": 3,
   "metadata": {},
   "outputs": [],
   "source": [
    "import keras_tuner as kt\n"
   ]
  },
  {
   "cell_type": "code",
   "execution_count": 4,
   "metadata": {},
   "outputs": [],
   "source": [
    "mpl.rcParams['figure.figsize'] = [8.0, 8.0]"
   ]
  },
  {
   "cell_type": "code",
   "execution_count": 5,
   "metadata": {},
   "outputs": [],
   "source": [
    "SKIP_RETRAIN_NN =True\n",
    "SKIP_RETRAIN_RNN = True\n",
    "SKIP_RETRAIN_LSTM = True\n",
    "SKIP_RETRAIN_ED_LSTM = True"
   ]
  },
  {
   "cell_type": "markdown",
   "metadata": {},
   "source": [
    "## Loading Data"
   ]
  },
  {
   "cell_type": "code",
   "execution_count": 6,
   "metadata": {},
   "outputs": [],
   "source": [
    "combined_df = pd.read_csv(\"preprocessed_data.csv\")\n",
    "combined_df = set_timestamp_index(combined_df,\"Unnamed: 0\")"
   ]
  },
  {
   "cell_type": "code",
   "execution_count": 7,
   "metadata": {},
   "outputs": [
    {
     "data": {
      "text/html": [
       "<div>\n",
       "<style scoped>\n",
       "    .dataframe tbody tr th:only-of-type {\n",
       "        vertical-align: middle;\n",
       "    }\n",
       "\n",
       "    .dataframe tbody tr th {\n",
       "        vertical-align: top;\n",
       "    }\n",
       "\n",
       "    .dataframe thead th {\n",
       "        text-align: right;\n",
       "    }\n",
       "</style>\n",
       "<table border=\"1\" class=\"dataframe\">\n",
       "  <thead>\n",
       "    <tr style=\"text-align: right;\">\n",
       "      <th></th>\n",
       "      <th>temp</th>\n",
       "      <th>pressure</th>\n",
       "      <th>humidity</th>\n",
       "      <th>wind_speed</th>\n",
       "      <th>wind_deg</th>\n",
       "      <th>generation biomass</th>\n",
       "      <th>generation fossil brown coal/lignite</th>\n",
       "      <th>generation fossil gas</th>\n",
       "      <th>generation fossil hard coal</th>\n",
       "      <th>generation fossil oil</th>\n",
       "      <th>...</th>\n",
       "      <th>generation solar</th>\n",
       "      <th>generation waste</th>\n",
       "      <th>generation wind onshore</th>\n",
       "      <th>total load actual</th>\n",
       "      <th>price actual</th>\n",
       "      <th>generation</th>\n",
       "      <th>energy_difference</th>\n",
       "      <th>month</th>\n",
       "      <th>day</th>\n",
       "      <th>weekend</th>\n",
       "    </tr>\n",
       "  </thead>\n",
       "  <tbody>\n",
       "    <tr>\n",
       "      <th>2015-01-01 00:00:00+01:00</th>\n",
       "      <td>-2.675</td>\n",
       "      <td>1001.0</td>\n",
       "      <td>77</td>\n",
       "      <td>1.0</td>\n",
       "      <td>62</td>\n",
       "      <td>447.0</td>\n",
       "      <td>329.0</td>\n",
       "      <td>4844.0</td>\n",
       "      <td>4821.0</td>\n",
       "      <td>162.0</td>\n",
       "      <td>...</td>\n",
       "      <td>49.0</td>\n",
       "      <td>196.0</td>\n",
       "      <td>6378.0</td>\n",
       "      <td>25385.0</td>\n",
       "      <td>65.41</td>\n",
       "      <td>28251.0</td>\n",
       "      <td>2866.0</td>\n",
       "      <td>1</td>\n",
       "      <td>1</td>\n",
       "      <td>0</td>\n",
       "    </tr>\n",
       "    <tr>\n",
       "      <th>2015-01-01 01:00:00+01:00</th>\n",
       "      <td>-2.675</td>\n",
       "      <td>1001.0</td>\n",
       "      <td>77</td>\n",
       "      <td>1.0</td>\n",
       "      <td>62</td>\n",
       "      <td>449.0</td>\n",
       "      <td>328.0</td>\n",
       "      <td>5196.0</td>\n",
       "      <td>4755.0</td>\n",
       "      <td>158.0</td>\n",
       "      <td>...</td>\n",
       "      <td>50.0</td>\n",
       "      <td>195.0</td>\n",
       "      <td>5890.0</td>\n",
       "      <td>24382.0</td>\n",
       "      <td>64.92</td>\n",
       "      <td>27818.0</td>\n",
       "      <td>3436.0</td>\n",
       "      <td>1</td>\n",
       "      <td>1</td>\n",
       "      <td>0</td>\n",
       "    </tr>\n",
       "    <tr>\n",
       "      <th>2015-01-01 02:00:00+01:00</th>\n",
       "      <td>-3.464</td>\n",
       "      <td>1002.0</td>\n",
       "      <td>78</td>\n",
       "      <td>0.0</td>\n",
       "      <td>23</td>\n",
       "      <td>448.0</td>\n",
       "      <td>323.0</td>\n",
       "      <td>4857.0</td>\n",
       "      <td>4581.0</td>\n",
       "      <td>157.0</td>\n",
       "      <td>...</td>\n",
       "      <td>50.0</td>\n",
       "      <td>196.0</td>\n",
       "      <td>5461.0</td>\n",
       "      <td>22734.0</td>\n",
       "      <td>64.48</td>\n",
       "      <td>26796.0</td>\n",
       "      <td>4062.0</td>\n",
       "      <td>1</td>\n",
       "      <td>1</td>\n",
       "      <td>0</td>\n",
       "    </tr>\n",
       "    <tr>\n",
       "      <th>2015-01-01 03:00:00+01:00</th>\n",
       "      <td>-3.464</td>\n",
       "      <td>1002.0</td>\n",
       "      <td>78</td>\n",
       "      <td>0.0</td>\n",
       "      <td>23</td>\n",
       "      <td>438.0</td>\n",
       "      <td>254.0</td>\n",
       "      <td>4314.0</td>\n",
       "      <td>4131.0</td>\n",
       "      <td>160.0</td>\n",
       "      <td>...</td>\n",
       "      <td>50.0</td>\n",
       "      <td>191.0</td>\n",
       "      <td>5238.0</td>\n",
       "      <td>21286.0</td>\n",
       "      <td>59.32</td>\n",
       "      <td>25223.0</td>\n",
       "      <td>3937.0</td>\n",
       "      <td>1</td>\n",
       "      <td>1</td>\n",
       "      <td>0</td>\n",
       "    </tr>\n",
       "    <tr>\n",
       "      <th>2015-01-01 04:00:00+01:00</th>\n",
       "      <td>-3.464</td>\n",
       "      <td>1002.0</td>\n",
       "      <td>78</td>\n",
       "      <td>0.0</td>\n",
       "      <td>23</td>\n",
       "      <td>428.0</td>\n",
       "      <td>187.0</td>\n",
       "      <td>4130.0</td>\n",
       "      <td>3840.0</td>\n",
       "      <td>156.0</td>\n",
       "      <td>...</td>\n",
       "      <td>42.0</td>\n",
       "      <td>189.0</td>\n",
       "      <td>4935.0</td>\n",
       "      <td>20264.0</td>\n",
       "      <td>56.04</td>\n",
       "      <td>24620.0</td>\n",
       "      <td>4356.0</td>\n",
       "      <td>1</td>\n",
       "      <td>1</td>\n",
       "      <td>0</td>\n",
       "    </tr>\n",
       "    <tr>\n",
       "      <th>...</th>\n",
       "      <td>...</td>\n",
       "      <td>...</td>\n",
       "      <td>...</td>\n",
       "      <td>...</td>\n",
       "      <td>...</td>\n",
       "      <td>...</td>\n",
       "      <td>...</td>\n",
       "      <td>...</td>\n",
       "      <td>...</td>\n",
       "      <td>...</td>\n",
       "      <td>...</td>\n",
       "      <td>...</td>\n",
       "      <td>...</td>\n",
       "      <td>...</td>\n",
       "      <td>...</td>\n",
       "      <td>...</td>\n",
       "      <td>...</td>\n",
       "      <td>...</td>\n",
       "      <td>...</td>\n",
       "      <td>...</td>\n",
       "      <td>...</td>\n",
       "    </tr>\n",
       "    <tr>\n",
       "      <th>2018-12-31 19:00:00+01:00</th>\n",
       "      <td>12.490</td>\n",
       "      <td>1028.0</td>\n",
       "      <td>62</td>\n",
       "      <td>2.0</td>\n",
       "      <td>140</td>\n",
       "      <td>297.0</td>\n",
       "      <td>0.0</td>\n",
       "      <td>7634.0</td>\n",
       "      <td>2628.0</td>\n",
       "      <td>178.0</td>\n",
       "      <td>...</td>\n",
       "      <td>85.0</td>\n",
       "      <td>277.0</td>\n",
       "      <td>3113.0</td>\n",
       "      <td>30653.0</td>\n",
       "      <td>77.02</td>\n",
       "      <td>26415.0</td>\n",
       "      <td>-4238.0</td>\n",
       "      <td>12</td>\n",
       "      <td>31</td>\n",
       "      <td>0</td>\n",
       "    </tr>\n",
       "    <tr>\n",
       "      <th>2018-12-31 20:00:00+01:00</th>\n",
       "      <td>9.990</td>\n",
       "      <td>1029.0</td>\n",
       "      <td>71</td>\n",
       "      <td>1.0</td>\n",
       "      <td>242</td>\n",
       "      <td>296.0</td>\n",
       "      <td>0.0</td>\n",
       "      <td>7241.0</td>\n",
       "      <td>2566.0</td>\n",
       "      <td>174.0</td>\n",
       "      <td>...</td>\n",
       "      <td>33.0</td>\n",
       "      <td>280.0</td>\n",
       "      <td>3288.0</td>\n",
       "      <td>29735.0</td>\n",
       "      <td>76.16</td>\n",
       "      <td>25213.0</td>\n",
       "      <td>-4522.0</td>\n",
       "      <td>12</td>\n",
       "      <td>31</td>\n",
       "      <td>0</td>\n",
       "    </tr>\n",
       "    <tr>\n",
       "      <th>2018-12-31 21:00:00+01:00</th>\n",
       "      <td>8.510</td>\n",
       "      <td>1029.0</td>\n",
       "      <td>81</td>\n",
       "      <td>3.0</td>\n",
       "      <td>300</td>\n",
       "      <td>292.0</td>\n",
       "      <td>0.0</td>\n",
       "      <td>7025.0</td>\n",
       "      <td>2422.0</td>\n",
       "      <td>168.0</td>\n",
       "      <td>...</td>\n",
       "      <td>31.0</td>\n",
       "      <td>286.0</td>\n",
       "      <td>3503.0</td>\n",
       "      <td>28071.0</td>\n",
       "      <td>74.30</td>\n",
       "      <td>23987.0</td>\n",
       "      <td>-4084.0</td>\n",
       "      <td>12</td>\n",
       "      <td>31</td>\n",
       "      <td>0</td>\n",
       "    </tr>\n",
       "    <tr>\n",
       "      <th>2018-12-31 22:00:00+01:00</th>\n",
       "      <td>6.990</td>\n",
       "      <td>1029.0</td>\n",
       "      <td>81</td>\n",
       "      <td>2.0</td>\n",
       "      <td>310</td>\n",
       "      <td>293.0</td>\n",
       "      <td>0.0</td>\n",
       "      <td>6562.0</td>\n",
       "      <td>2293.0</td>\n",
       "      <td>163.0</td>\n",
       "      <td>...</td>\n",
       "      <td>31.0</td>\n",
       "      <td>287.0</td>\n",
       "      <td>3586.0</td>\n",
       "      <td>25801.0</td>\n",
       "      <td>69.89</td>\n",
       "      <td>22748.0</td>\n",
       "      <td>-3053.0</td>\n",
       "      <td>12</td>\n",
       "      <td>31</td>\n",
       "      <td>0</td>\n",
       "    </tr>\n",
       "    <tr>\n",
       "      <th>2018-12-31 23:00:00+01:00</th>\n",
       "      <td>5.990</td>\n",
       "      <td>1029.0</td>\n",
       "      <td>75</td>\n",
       "      <td>2.0</td>\n",
       "      <td>300</td>\n",
       "      <td>290.0</td>\n",
       "      <td>0.0</td>\n",
       "      <td>6926.0</td>\n",
       "      <td>2166.0</td>\n",
       "      <td>163.0</td>\n",
       "      <td>...</td>\n",
       "      <td>31.0</td>\n",
       "      <td>287.0</td>\n",
       "      <td>3651.0</td>\n",
       "      <td>24455.0</td>\n",
       "      <td>69.88</td>\n",
       "      <td>22605.0</td>\n",
       "      <td>-1850.0</td>\n",
       "      <td>12</td>\n",
       "      <td>31</td>\n",
       "      <td>0</td>\n",
       "    </tr>\n",
       "  </tbody>\n",
       "</table>\n",
       "<p>35064 rows × 26 columns</p>\n",
       "</div>"
      ],
      "text/plain": [
       "                             temp  pressure  humidity  wind_speed  wind_deg  \\\n",
       "2015-01-01 00:00:00+01:00  -2.675    1001.0        77         1.0        62   \n",
       "2015-01-01 01:00:00+01:00  -2.675    1001.0        77         1.0        62   \n",
       "2015-01-01 02:00:00+01:00  -3.464    1002.0        78         0.0        23   \n",
       "2015-01-01 03:00:00+01:00  -3.464    1002.0        78         0.0        23   \n",
       "2015-01-01 04:00:00+01:00  -3.464    1002.0        78         0.0        23   \n",
       "...                           ...       ...       ...         ...       ...   \n",
       "2018-12-31 19:00:00+01:00  12.490    1028.0        62         2.0       140   \n",
       "2018-12-31 20:00:00+01:00   9.990    1029.0        71         1.0       242   \n",
       "2018-12-31 21:00:00+01:00   8.510    1029.0        81         3.0       300   \n",
       "2018-12-31 22:00:00+01:00   6.990    1029.0        81         2.0       310   \n",
       "2018-12-31 23:00:00+01:00   5.990    1029.0        75         2.0       300   \n",
       "\n",
       "                           generation biomass  \\\n",
       "2015-01-01 00:00:00+01:00               447.0   \n",
       "2015-01-01 01:00:00+01:00               449.0   \n",
       "2015-01-01 02:00:00+01:00               448.0   \n",
       "2015-01-01 03:00:00+01:00               438.0   \n",
       "2015-01-01 04:00:00+01:00               428.0   \n",
       "...                                       ...   \n",
       "2018-12-31 19:00:00+01:00               297.0   \n",
       "2018-12-31 20:00:00+01:00               296.0   \n",
       "2018-12-31 21:00:00+01:00               292.0   \n",
       "2018-12-31 22:00:00+01:00               293.0   \n",
       "2018-12-31 23:00:00+01:00               290.0   \n",
       "\n",
       "                           generation fossil brown coal/lignite  \\\n",
       "2015-01-01 00:00:00+01:00                                 329.0   \n",
       "2015-01-01 01:00:00+01:00                                 328.0   \n",
       "2015-01-01 02:00:00+01:00                                 323.0   \n",
       "2015-01-01 03:00:00+01:00                                 254.0   \n",
       "2015-01-01 04:00:00+01:00                                 187.0   \n",
       "...                                                         ...   \n",
       "2018-12-31 19:00:00+01:00                                   0.0   \n",
       "2018-12-31 20:00:00+01:00                                   0.0   \n",
       "2018-12-31 21:00:00+01:00                                   0.0   \n",
       "2018-12-31 22:00:00+01:00                                   0.0   \n",
       "2018-12-31 23:00:00+01:00                                   0.0   \n",
       "\n",
       "                           generation fossil gas  generation fossil hard coal  \\\n",
       "2015-01-01 00:00:00+01:00                 4844.0                       4821.0   \n",
       "2015-01-01 01:00:00+01:00                 5196.0                       4755.0   \n",
       "2015-01-01 02:00:00+01:00                 4857.0                       4581.0   \n",
       "2015-01-01 03:00:00+01:00                 4314.0                       4131.0   \n",
       "2015-01-01 04:00:00+01:00                 4130.0                       3840.0   \n",
       "...                                          ...                          ...   \n",
       "2018-12-31 19:00:00+01:00                 7634.0                       2628.0   \n",
       "2018-12-31 20:00:00+01:00                 7241.0                       2566.0   \n",
       "2018-12-31 21:00:00+01:00                 7025.0                       2422.0   \n",
       "2018-12-31 22:00:00+01:00                 6562.0                       2293.0   \n",
       "2018-12-31 23:00:00+01:00                 6926.0                       2166.0   \n",
       "\n",
       "                           generation fossil oil  ...  generation solar  \\\n",
       "2015-01-01 00:00:00+01:00                  162.0  ...              49.0   \n",
       "2015-01-01 01:00:00+01:00                  158.0  ...              50.0   \n",
       "2015-01-01 02:00:00+01:00                  157.0  ...              50.0   \n",
       "2015-01-01 03:00:00+01:00                  160.0  ...              50.0   \n",
       "2015-01-01 04:00:00+01:00                  156.0  ...              42.0   \n",
       "...                                          ...  ...               ...   \n",
       "2018-12-31 19:00:00+01:00                  178.0  ...              85.0   \n",
       "2018-12-31 20:00:00+01:00                  174.0  ...              33.0   \n",
       "2018-12-31 21:00:00+01:00                  168.0  ...              31.0   \n",
       "2018-12-31 22:00:00+01:00                  163.0  ...              31.0   \n",
       "2018-12-31 23:00:00+01:00                  163.0  ...              31.0   \n",
       "\n",
       "                           generation waste  generation wind onshore  \\\n",
       "2015-01-01 00:00:00+01:00             196.0                   6378.0   \n",
       "2015-01-01 01:00:00+01:00             195.0                   5890.0   \n",
       "2015-01-01 02:00:00+01:00             196.0                   5461.0   \n",
       "2015-01-01 03:00:00+01:00             191.0                   5238.0   \n",
       "2015-01-01 04:00:00+01:00             189.0                   4935.0   \n",
       "...                                     ...                      ...   \n",
       "2018-12-31 19:00:00+01:00             277.0                   3113.0   \n",
       "2018-12-31 20:00:00+01:00             280.0                   3288.0   \n",
       "2018-12-31 21:00:00+01:00             286.0                   3503.0   \n",
       "2018-12-31 22:00:00+01:00             287.0                   3586.0   \n",
       "2018-12-31 23:00:00+01:00             287.0                   3651.0   \n",
       "\n",
       "                           total load actual  price actual  generation  \\\n",
       "2015-01-01 00:00:00+01:00            25385.0         65.41     28251.0   \n",
       "2015-01-01 01:00:00+01:00            24382.0         64.92     27818.0   \n",
       "2015-01-01 02:00:00+01:00            22734.0         64.48     26796.0   \n",
       "2015-01-01 03:00:00+01:00            21286.0         59.32     25223.0   \n",
       "2015-01-01 04:00:00+01:00            20264.0         56.04     24620.0   \n",
       "...                                      ...           ...         ...   \n",
       "2018-12-31 19:00:00+01:00            30653.0         77.02     26415.0   \n",
       "2018-12-31 20:00:00+01:00            29735.0         76.16     25213.0   \n",
       "2018-12-31 21:00:00+01:00            28071.0         74.30     23987.0   \n",
       "2018-12-31 22:00:00+01:00            25801.0         69.89     22748.0   \n",
       "2018-12-31 23:00:00+01:00            24455.0         69.88     22605.0   \n",
       "\n",
       "                           energy_difference  month  day  weekend  \n",
       "2015-01-01 00:00:00+01:00             2866.0      1    1        0  \n",
       "2015-01-01 01:00:00+01:00             3436.0      1    1        0  \n",
       "2015-01-01 02:00:00+01:00             4062.0      1    1        0  \n",
       "2015-01-01 03:00:00+01:00             3937.0      1    1        0  \n",
       "2015-01-01 04:00:00+01:00             4356.0      1    1        0  \n",
       "...                                      ...    ...  ...      ...  \n",
       "2018-12-31 19:00:00+01:00            -4238.0     12   31        0  \n",
       "2018-12-31 20:00:00+01:00            -4522.0     12   31        0  \n",
       "2018-12-31 21:00:00+01:00            -4084.0     12   31        0  \n",
       "2018-12-31 22:00:00+01:00            -3053.0     12   31        0  \n",
       "2018-12-31 23:00:00+01:00            -1850.0     12   31        0  \n",
       "\n",
       "[35064 rows x 26 columns]"
      ]
     },
     "execution_count": 7,
     "metadata": {},
     "output_type": "execute_result"
    }
   ],
   "source": [
    "combined_df"
   ]
  },
  {
   "cell_type": "markdown",
   "metadata": {},
   "source": [
    "# Multistep LSTM"
   ]
  },
  {
   "cell_type": "markdown",
   "metadata": {},
   "source": [
    "Scale the input data"
   ]
  },
  {
   "cell_type": "code",
   "execution_count": 8,
   "metadata": {},
   "outputs": [],
   "source": [
    "scaled_df = combined_df.copy(deep=True)\n",
    "featuresToScale = scaled_df.columns\n",
    "sX = pp.StandardScaler(copy=True)\n",
    "scaled_df.loc[:,featuresToScale] = sX.fit_transform(scaled_df[featuresToScale])"
   ]
  },
  {
   "cell_type": "markdown",
   "metadata": {},
   "source": [
    "Create Train Validation Test Split"
   ]
  },
  {
   "cell_type": "code",
   "execution_count": 9,
   "metadata": {},
   "outputs": [],
   "source": [
    "train_start = '2015-01-01'\n",
    "validation_start = '2017-01-01'\n",
    "test_start = '2017-03-01'\n",
    "test_end = '2017-03-06'\n",
    "feature = 'price actual'\n",
    "feature_df = combined_df[[feature]]\n",
    "data_x_train0,data_x_val0,data_x_test0,data_y_train0,data_y_val0,data_y_test0 = create_test_train_split(scaled_df,feature_df,train_start,test_start,test_end,validation_start=validation_start)"
   ]
  },
  {
   "cell_type": "markdown",
   "metadata": {},
   "source": [
    "Convert to (sample,timestep,feature) format"
   ]
  },
  {
   "cell_type": "code",
   "execution_count": 10,
   "metadata": {},
   "outputs": [],
   "source": [
    "data_x_train,data_y_train,idx_train = convert_to_sample_time_feature(data_x_train0,data_y_train0,24,24,32)\n",
    "data_x_test,data_y_test,idx_test = convert_to_sample_time_feature(data_x_test0,data_y_test0,24,24,32)\n",
    "data_x_val,data_y_val,idx_val = convert_to_sample_time_feature(data_x_val0,data_y_val0,24,24,32)\n"
   ]
  },
  {
   "cell_type": "code",
   "execution_count": 11,
   "metadata": {},
   "outputs": [
    {
     "name": "stdout",
     "output_type": "stream",
     "text": [
      "(17464, 24, 26) (17464, 24)\n",
      "(1336, 24, 26) (1336, 24)\n",
      "(24, 24, 26) (24, 24)\n"
     ]
    }
   ],
   "source": [
    "print(data_x_train.shape,data_y_train.shape)\n",
    "print(data_x_val.shape,data_y_val.shape)\n",
    "print(data_x_test.shape,data_y_test.shape)"
   ]
  },
  {
   "cell_type": "markdown",
   "metadata": {},
   "source": [
    "Define LSTM Model"
   ]
  },
  {
   "cell_type": "code",
   "execution_count": 12,
   "metadata": {},
   "outputs": [],
   "source": [
    "def build_model_ED_LSTM(hp):\n",
    "  n_timesteps, n_features, n_outputs = data_x_train.shape[1], data_x_train.shape[2], data_y_train.shape[1]\n",
    "  model = models.Sequential()\n",
    "  # Encoder\n",
    "  model.add(layers.LSTM(hp.Int('Neurons',min_value=32,max_value=96,step=16), return_sequences=True,input_shape=(None, n_features), stateful=False)) \n",
    "  model.add(layers.BatchNormalization())\n",
    "  \n",
    "  for i in range(hp.Int('n_layers',1,4,1)):\n",
    "    model.add(layers.LSTM(hp.Int('Neurons',min_value=32,max_value=96,step=16), return_sequences=True, stateful=False))\n",
    "    model.add(layers.BatchNormalization())\n",
    "  \n",
    "  model.add(layers.LSTM(hp.Int('Neurons',min_value=32,max_value=96,step=16), return_sequences=False, stateful=False)) \n",
    "  model.add(layers.BatchNormalization())  \n",
    "  \n",
    "  # Repeat Vector\n",
    "  model.add(layers.RepeatVector(n_timesteps))\n",
    "  \n",
    "  # Decoder\n",
    "  model.add(layers.LSTM(hp.Int('Neurons',min_value=32,max_value=96,step=16), return_sequences=True,stateful=False))\n",
    "  model.add(layers.BatchNormalization())\n",
    "\n",
    "  for i in range(hp.Int('n_layers',1,4,1)):\n",
    "      model.add(layers.LSTM(hp.Int('Neurons',min_value=32,max_value=96,step=16), return_sequences=True, stateful=False))\n",
    "      model.add(layers.BatchNormalization())\n",
    "\n",
    "  model.add(layers.LSTM(hp.Int('Neurons',min_value=32,max_value=96,step=16), return_sequences=True,stateful=False))\n",
    "  model.add(layers.BatchNormalization())\n",
    "\n",
    "  # End\n",
    "  model.add(layers.Dense(32, kernel_regularizer=regularizers.l2(0.0001), kernel_initializer=\"he_normal\"))\n",
    "  model.add(layers.LeakyReLU(alpha=0.1))\n",
    "  model.add(layers.BatchNormalization())\n",
    "  model.add(layers.TimeDistributed(layers.Dense(1)))                     \n",
    "              \n",
    "  \n",
    "  model.compile(optimizer='Adam',loss='mae',metrics='mse') \n",
    "  return model"
   ]
  },
  {
   "cell_type": "code",
   "execution_count": 13,
   "metadata": {},
   "outputs": [
    {
     "name": "stdout",
     "output_type": "stream",
     "text": [
      "INFO:tensorflow:Reloading Oracle from existing project ./hpt_ED_LSTM/DDE\\oracle.json\n",
      "INFO:tensorflow:Reloading Tuner from ./hpt_ED_LSTM/DDE\\tuner0.json\n",
      "Search space summary\n",
      "Default search space size: 2\n",
      "Neurons (Int)\n",
      "{'default': None, 'conditions': [], 'min_value': 32, 'max_value': 96, 'step': 16, 'sampling': None}\n",
      "n_layers (Int)\n",
      "{'default': None, 'conditions': [], 'min_value': 1, 'max_value': 4, 'step': 1, 'sampling': None}\n"
     ]
    }
   ],
   "source": [
    "tuner = kt.RandomSearch(\n",
    "    build_model_ED_LSTM,\n",
    "    objective='val_loss',\n",
    "    max_trials=10,\n",
    "    executions_per_trial = 2,\n",
    "    directory = \"./hpt_ED_LSTM/\",\n",
    "    project_name=\"DDE\")\n",
    "tuner.search_space_summary()\n"
   ]
  },
  {
   "cell_type": "code",
   "execution_count": 14,
   "metadata": {},
   "outputs": [],
   "source": [
    "myCheckpointLSTM= keras.callbacks.ModelCheckpoint(\"./EDLSTM/my_best_hpt_MS_ED_LSTM_model.h5\", save_best_only=True)\n",
    "myEarly_stoppingLSTM = keras.callbacks.EarlyStopping(patience=20,restore_best_weights=True)"
   ]
  },
  {
   "cell_type": "code",
   "execution_count": 15,
   "metadata": {},
   "outputs": [],
   "source": [
    "num_epochs = 150\n",
    "batch_size = 32"
   ]
  },
  {
   "cell_type": "code",
   "execution_count": 16,
   "metadata": {},
   "outputs": [
    {
     "name": "stdout",
     "output_type": "stream",
     "text": [
      "INFO:tensorflow:Oracle triggered exit\n"
     ]
    }
   ],
   "source": [
    "tuner.search(data_x_train,data_y_train,epochs=150,validation_data=(data_x_val,data_y_val),batch_size=batch_size,callbacks=[myCheckpointLSTM,myEarly_stoppingLSTM])"
   ]
  },
  {
   "cell_type": "code",
   "execution_count": 17,
   "metadata": {},
   "outputs": [
    {
     "name": "stdout",
     "output_type": "stream",
     "text": [
      "Results summary\n",
      "Results in ./hpt_ED_LSTM/DDE\n",
      "Showing 10 best trials\n",
      "Objective(name='val_loss', direction='min')\n",
      "Trial summary\n",
      "Hyperparameters:\n",
      "Neurons: 80\n",
      "n_layers: 3\n",
      "Score: 10.074690341949463\n",
      "Trial summary\n",
      "Hyperparameters:\n",
      "Neurons: 80\n",
      "n_layers: 4\n",
      "Score: 10.227522850036621\n",
      "Trial summary\n",
      "Hyperparameters:\n",
      "Neurons: 64\n",
      "n_layers: 3\n",
      "Score: 10.876497268676758\n",
      "Trial summary\n",
      "Hyperparameters:\n",
      "Neurons: 48\n",
      "n_layers: 4\n",
      "Score: 11.198130130767822\n",
      "Trial summary\n",
      "Hyperparameters:\n",
      "Neurons: 32\n",
      "n_layers: 3\n",
      "Score: 11.31832504272461\n",
      "Trial summary\n",
      "Hyperparameters:\n",
      "Neurons: 48\n",
      "n_layers: 2\n",
      "Score: 12.445674896240234\n",
      "Trial summary\n",
      "Hyperparameters:\n",
      "Neurons: 64\n",
      "n_layers: 2\n",
      "Score: 13.349409580230713\n",
      "Trial summary\n",
      "Hyperparameters:\n",
      "Neurons: 80\n",
      "n_layers: 2\n",
      "Score: 13.478788375854492\n",
      "Trial summary\n",
      "Hyperparameters:\n",
      "Neurons: 32\n",
      "n_layers: 2\n",
      "Score: 13.664177417755127\n",
      "Trial summary\n",
      "Hyperparameters:\n",
      "Neurons: 64\n",
      "n_layers: 1\n",
      "Score: 15.003725051879883\n"
     ]
    }
   ],
   "source": [
    "tuner.results_summary()"
   ]
  },
  {
   "cell_type": "code",
   "execution_count": 18,
   "metadata": {},
   "outputs": [],
   "source": [
    "best_models = tuner.get_best_models()\n",
    "best_hps = tuner.get_best_hyperparameters(5)"
   ]
  },
  {
   "cell_type": "code",
   "execution_count": 19,
   "metadata": {},
   "outputs": [
    {
     "data": {
      "text/plain": [
       "<keras_tuner.engine.hyperparameters.HyperParameters at 0x1f13d08cac0>"
      ]
     },
     "execution_count": 19,
     "metadata": {},
     "output_type": "execute_result"
    }
   ],
   "source": [
    "best_hps[0]"
   ]
  },
  {
   "cell_type": "code",
   "execution_count": 21,
   "metadata": {},
   "outputs": [
    {
     "name": "stdout",
     "output_type": "stream",
     "text": [
      "Epoch 1/150\n",
      "546/546 [==============================] - 26s 35ms/step - loss: 44.9222 - mse: 2300.0242 - val_loss: 43.0719 - val_mse: 2268.6582\n",
      "Epoch 2/150\n",
      "546/546 [==============================] - 17s 32ms/step - loss: 13.6101 - mse: 309.5818 - val_loss: 18.5646 - val_mse: 494.9907\n",
      "Epoch 3/150\n",
      "546/546 [==============================] - 18s 33ms/step - loss: 8.6180 - mse: 122.2278 - val_loss: 16.8639 - val_mse: 411.3756\n",
      "Epoch 4/150\n",
      "546/546 [==============================] - 18s 33ms/step - loss: 8.0054 - mse: 106.3212 - val_loss: 16.7790 - val_mse: 393.4277\n",
      "Epoch 5/150\n",
      "546/546 [==============================] - 18s 33ms/step - loss: 7.5964 - mse: 95.5954 - val_loss: 15.4598 - val_mse: 341.0424\n",
      "Epoch 6/150\n",
      "546/546 [==============================] - 18s 32ms/step - loss: 7.0988 - mse: 85.2163 - val_loss: 15.3387 - val_mse: 344.2462\n",
      "Epoch 7/150\n",
      "546/546 [==============================] - 17s 32ms/step - loss: 6.4122 - mse: 71.4173 - val_loss: 14.4506 - val_mse: 306.7854\n",
      "Epoch 8/150\n",
      "546/546 [==============================] - 18s 32ms/step - loss: 5.9506 - mse: 62.2224 - val_loss: 16.0332 - val_mse: 362.6838\n",
      "Epoch 9/150\n",
      "546/546 [==============================] - 18s 33ms/step - loss: 5.5746 - mse: 55.3681 - val_loss: 14.5948 - val_mse: 306.8319\n",
      "Epoch 10/150\n",
      "546/546 [==============================] - 18s 33ms/step - loss: 5.2871 - mse: 49.6649 - val_loss: 18.7428 - val_mse: 472.0092\n",
      "Epoch 11/150\n",
      "546/546 [==============================] - 17s 32ms/step - loss: 5.1259 - mse: 46.7331 - val_loss: 17.4129 - val_mse: 412.2558\n",
      "Epoch 12/150\n",
      "546/546 [==============================] - 18s 32ms/step - loss: 4.8342 - mse: 41.9441 - val_loss: 16.8367 - val_mse: 382.2181\n",
      "Epoch 13/150\n",
      "546/546 [==============================] - 18s 33ms/step - loss: 4.7579 - mse: 40.8386 - val_loss: 15.7521 - val_mse: 368.1731\n",
      "Epoch 14/150\n",
      "546/546 [==============================] - 18s 32ms/step - loss: 4.6767 - mse: 39.0869 - val_loss: 15.3661 - val_mse: 335.1543\n",
      "Epoch 15/150\n",
      "546/546 [==============================] - 18s 32ms/step - loss: 4.4623 - mse: 35.4783 - val_loss: 12.9023 - val_mse: 249.4719\n",
      "Epoch 16/150\n",
      "546/546 [==============================] - 17s 32ms/step - loss: 4.7898 - mse: 41.4836 - val_loss: 13.9235 - val_mse: 267.2162\n",
      "Epoch 17/150\n",
      "546/546 [==============================] - 18s 32ms/step - loss: 5.1186 - mse: 47.9330 - val_loss: 12.6742 - val_mse: 242.1896\n",
      "Epoch 18/150\n",
      "546/546 [==============================] - 18s 33ms/step - loss: 5.1059 - mse: 48.4641 - val_loss: 13.3460 - val_mse: 272.3340\n",
      "Epoch 19/150\n",
      "546/546 [==============================] - 18s 32ms/step - loss: 4.7306 - mse: 40.8602 - val_loss: 14.8422 - val_mse: 309.8184\n",
      "Epoch 20/150\n",
      "546/546 [==============================] - 17s 32ms/step - loss: 4.4337 - mse: 35.5428 - val_loss: 14.4767 - val_mse: 300.8106\n",
      "Epoch 21/150\n",
      "546/546 [==============================] - 18s 33ms/step - loss: 4.2001 - mse: 31.4385 - val_loss: 15.8794 - val_mse: 350.4098\n",
      "Epoch 22/150\n",
      "546/546 [==============================] - 17s 32ms/step - loss: 4.1703 - mse: 31.3425 - val_loss: 15.3288 - val_mse: 327.4650\n",
      "Epoch 23/150\n",
      "546/546 [==============================] - 17s 32ms/step - loss: 3.9330 - mse: 27.4707 - val_loss: 14.2618 - val_mse: 293.8777\n",
      "Epoch 24/150\n",
      "546/546 [==============================] - 18s 33ms/step - loss: 3.7334 - mse: 24.5790 - val_loss: 13.5679 - val_mse: 273.6662\n",
      "Epoch 25/150\n",
      "546/546 [==============================] - 18s 33ms/step - loss: 3.6821 - mse: 23.8976 - val_loss: 15.5113 - val_mse: 350.2577\n",
      "Epoch 26/150\n",
      "546/546 [==============================] - 17s 32ms/step - loss: 3.5504 - mse: 22.1972 - val_loss: 16.3207 - val_mse: 380.0267\n",
      "Epoch 27/150\n",
      "546/546 [==============================] - 18s 32ms/step - loss: 3.5289 - mse: 21.9141 - val_loss: 14.4075 - val_mse: 316.4052\n",
      "Epoch 28/150\n",
      "546/546 [==============================] - 18s 32ms/step - loss: 3.5373 - mse: 21.8149 - val_loss: 14.0826 - val_mse: 309.4168\n",
      "Epoch 29/150\n",
      "546/546 [==============================] - 17s 32ms/step - loss: 3.3561 - mse: 19.4263 - val_loss: 14.8833 - val_mse: 329.7932\n",
      "Epoch 30/150\n",
      "546/546 [==============================] - 18s 32ms/step - loss: 3.2556 - mse: 18.3939 - val_loss: 14.9150 - val_mse: 346.0190\n",
      "Epoch 31/150\n",
      "546/546 [==============================] - 17s 32ms/step - loss: 3.2546 - mse: 18.5178 - val_loss: 15.6728 - val_mse: 373.2828\n",
      "Epoch 32/150\n",
      "546/546 [==============================] - 18s 32ms/step - loss: 3.2000 - mse: 17.5991 - val_loss: 13.6338 - val_mse: 290.3421\n",
      "Epoch 33/150\n",
      "546/546 [==============================] - 18s 32ms/step - loss: 3.1754 - mse: 17.3709 - val_loss: 14.2370 - val_mse: 312.7428\n",
      "Epoch 34/150\n",
      "546/546 [==============================] - 18s 32ms/step - loss: 3.1099 - mse: 16.7488 - val_loss: 15.0375 - val_mse: 345.2173\n",
      "Epoch 35/150\n",
      "546/546 [==============================] - 18s 33ms/step - loss: 3.1029 - mse: 16.5843 - val_loss: 16.3939 - val_mse: 405.3792\n",
      "Epoch 36/150\n",
      "546/546 [==============================] - 18s 33ms/step - loss: 3.0595 - mse: 16.0675 - val_loss: 14.9554 - val_mse: 341.6456\n",
      "Epoch 37/150\n",
      "546/546 [==============================] - 17s 32ms/step - loss: 2.9924 - mse: 15.4997 - val_loss: 14.7344 - val_mse: 341.2213\n"
     ]
    }
   ],
   "source": [
    "\n",
    "model_LSTM= build_model_ED_LSTM(best_hps[0])\n",
    "history_LSTM = model_LSTM.fit(data_x_train, data_y_train, epochs=num_epochs, batch_size=batch_size, validation_data=(data_x_val, data_y_val) , \n",
    "                                 callbacks=[myCheckpointLSTM,myEarly_stoppingLSTM])"
   ]
  },
  {
   "cell_type": "markdown",
   "metadata": {},
   "source": [
    "Evaluate the training process"
   ]
  },
  {
   "cell_type": "code",
   "execution_count": 22,
   "metadata": {
    "colab": {
     "base_uri": "https://localhost:8080/",
     "height": 159
    },
    "id": "0f_FwfmlHyAl",
    "outputId": "080474a2-3f61-42ca-95ef-7bc23f76c853"
   },
   "outputs": [],
   "source": [
    "%%skip $SKIP_RETRAIN_LSTM\n",
    "\n",
    "histLSTM = pd.DataFrame(history_LSTM.history)\n",
    "histLSTM['epoch'] = history_LSTM.epoch"
   ]
  },
  {
   "cell_type": "code",
   "execution_count": 23,
   "metadata": {
    "colab": {
     "base_uri": "https://localhost:8080/",
     "height": 405
    },
    "id": "d2SviC32HyAr",
    "outputId": "512e600c-f7c8-46cd-9801-7387d6bf4f7f"
   },
   "outputs": [],
   "source": [
    "%%skip $SKIP_RETRAIN_LSTM\n",
    "\n",
    "fig = plot_learning_curves(histLSTM,'LSTM','./EDLSTM/learning_curve_MS_hpt_ED_LSTM.png')\n",
    "fig.show()"
   ]
  },
  {
   "cell_type": "markdown",
   "metadata": {},
   "source": [
    "Load best model"
   ]
  },
  {
   "cell_type": "code",
   "execution_count": 24,
   "metadata": {},
   "outputs": [
    {
     "name": "stdout",
     "output_type": "stream",
     "text": [
      "Model: \"sequential_2\"\n",
      "_________________________________________________________________\n",
      "Layer (type)                 Output Shape              Param #   \n",
      "=================================================================\n",
      "lstm_20 (LSTM)               (None, None, 80)          34240     \n",
      "_________________________________________________________________\n",
      "batch_normalization_22 (Batc (None, None, 80)          320       \n",
      "_________________________________________________________________\n",
      "lstm_21 (LSTM)               (None, None, 80)          51520     \n",
      "_________________________________________________________________\n",
      "batch_normalization_23 (Batc (None, None, 80)          320       \n",
      "_________________________________________________________________\n",
      "lstm_22 (LSTM)               (None, None, 80)          51520     \n",
      "_________________________________________________________________\n",
      "batch_normalization_24 (Batc (None, None, 80)          320       \n",
      "_________________________________________________________________\n",
      "lstm_23 (LSTM)               (None, None, 80)          51520     \n",
      "_________________________________________________________________\n",
      "batch_normalization_25 (Batc (None, None, 80)          320       \n",
      "_________________________________________________________________\n",
      "lstm_24 (LSTM)               (None, 80)                51520     \n",
      "_________________________________________________________________\n",
      "batch_normalization_26 (Batc (None, 80)                320       \n",
      "_________________________________________________________________\n",
      "repeat_vector_2 (RepeatVecto (None, 24, 80)            0         \n",
      "_________________________________________________________________\n",
      "lstm_25 (LSTM)               (None, 24, 80)            51520     \n",
      "_________________________________________________________________\n",
      "batch_normalization_27 (Batc (None, 24, 80)            320       \n",
      "_________________________________________________________________\n",
      "lstm_26 (LSTM)               (None, 24, 80)            51520     \n",
      "_________________________________________________________________\n",
      "batch_normalization_28 (Batc (None, 24, 80)            320       \n",
      "_________________________________________________________________\n",
      "lstm_27 (LSTM)               (None, 24, 80)            51520     \n",
      "_________________________________________________________________\n",
      "batch_normalization_29 (Batc (None, 24, 80)            320       \n",
      "_________________________________________________________________\n",
      "lstm_28 (LSTM)               (None, 24, 80)            51520     \n",
      "_________________________________________________________________\n",
      "batch_normalization_30 (Batc (None, 24, 80)            320       \n",
      "_________________________________________________________________\n",
      "lstm_29 (LSTM)               (None, 24, 80)            51520     \n",
      "_________________________________________________________________\n",
      "batch_normalization_31 (Batc (None, 24, 80)            320       \n",
      "_________________________________________________________________\n",
      "dense_4 (Dense)              (None, 24, 32)            2592      \n",
      "_________________________________________________________________\n",
      "leaky_re_lu_2 (LeakyReLU)    (None, 24, 32)            0         \n",
      "_________________________________________________________________\n",
      "batch_normalization_32 (Batc (None, 24, 32)            128       \n",
      "_________________________________________________________________\n",
      "time_distributed_2 (TimeDist (None, 24, 1)             33        \n",
      "=================================================================\n",
      "Total params: 503,873\n",
      "Trainable params: 502,209\n",
      "Non-trainable params: 1,664\n",
      "_________________________________________________________________\n"
     ]
    }
   ],
   "source": [
    "#Calling back the best model:\n",
    "model_best_MS_LSTM = keras.models.load_model(\"./EDLSTM/my_best_hpt_MS_ED_LSTM_model.h5\")\n",
    "model_best_MS_LSTM.summary()"
   ]
  },
  {
   "cell_type": "code",
   "execution_count": 25,
   "metadata": {},
   "outputs": [],
   "source": [
    "i=1\n",
    "case_test = data_x_test[i].reshape((1,data_x_test[0].shape[0], data_x_test[0].shape[1]))\n",
    "\n",
    "Y_test_predictions = pd.Series(model_best_MS_LSTM.predict(case_test).flatten(),index=pd.date_range(start=idx_test[i],freq='h',periods=24))\n",
    "y_test_filtered = data_y_test0.loc[Y_test_predictions.index]\n"
   ]
  },
  {
   "cell_type": "code",
   "execution_count": 26,
   "metadata": {},
   "outputs": [],
   "source": [
    "eval_df = create_eval_df(Y_test_predictions,y_test_filtered)"
   ]
  },
  {
   "cell_type": "code",
   "execution_count": 27,
   "metadata": {
    "colab": {
     "base_uri": "https://localhost:8080/",
     "height": 426
    },
    "id": "5X3Hs_GtHyAs",
    "outputId": "7281486a-4a6c-492c-e48f-37fa6e7d7c25"
   },
   "outputs": [
    {
     "name": "stderr",
     "output_type": "stream",
     "text": [
      "<ipython-input-27-7acfb625daac>:2: UserWarning: Matplotlib is currently using module://ipykernel.pylab.backend_inline, which is a non-GUI backend, so cannot show the figure.\n",
      "  fig.show()\n"
     ]
    },
    {
     "data": {
      "image/png": "[encoded data removed]",
      "text/plain": [
       "<Figure size 576x576 with 1 Axes>"
      ]
     },
     "metadata": {
      "needs_background": "light"
     },
     "output_type": "display_data"
    }
   ],
   "source": [
    "fig = plot_accuracy(eval_df,'LSTM',\"./LSTM/accuracy_MS_hpt_LSTM.png\")\n",
    "fig.show()"
   ]
  },
  {
   "cell_type": "code",
   "execution_count": 28,
   "metadata": {
    "colab": {
     "base_uri": "https://localhost:8080/",
     "height": 422
    },
    "id": "olr-44nOHyAt",
    "outputId": "ac65b698-1f77-4a62-87cf-c99f30d4d246"
   },
   "outputs": [
    {
     "name": "stderr",
     "output_type": "stream",
     "text": [
      "<ipython-input-28-286c2bf8181f>:2: UserWarning: Matplotlib is currently using module://ipykernel.pylab.backend_inline, which is a non-GUI backend, so cannot show the figure.\n",
      "  fig.show()\n"
     ]
    },
    {
     "data": {
      "image/png": "[encoded data removed]",
      "text/plain": [
       "<Figure size 576x576 with 1 Axes>"
      ]
     },
     "metadata": {
      "needs_background": "light"
     },
     "output_type": "display_data"
    }
   ],
   "source": [
    "fig = plot_error_variations(eval_df,'LSTM',\"./LSTM/error_variations_MS_hpt_LSTM.png\")\n",
    "fig.show()"
   ]
  },
  {
   "cell_type": "code",
   "execution_count": 29,
   "metadata": {
    "colab": {
     "base_uri": "https://localhost:8080/"
    },
    "id": "-HSnhihhHyAt",
    "outputId": "b45d472e-df1f-4ab2-97ba-6318127d0d9e"
   },
   "outputs": [
    {
     "data": {
      "text/plain": [
       "nan"
      ]
     },
     "execution_count": 29,
     "metadata": {},
     "output_type": "execute_result"
    }
   ],
   "source": [
    "#Calculating the mean absolutepercentage error:\n",
    "abs_error_LSTM = abs(Y_test_predictions - y_test_filtered)/y_test_filtered*100\n",
    "np.average(abs_error_LSTM)"
   ]
  },
  {
   "cell_type": "code",
   "execution_count": 30,
   "metadata": {
    "colab": {
     "base_uri": "https://localhost:8080/"
    },
    "id": "-Og3-ec1HyAv",
    "outputId": "f0d3e172-622e-4dd4-a8ec-3f84e320356b"
   },
   "outputs": [
    {
     "name": "stdout",
     "output_type": "stream",
     "text": [
      "R^2 score is  -0.75\n"
     ]
    }
   ],
   "source": [
    "#Calculating R2 value:\n",
    "r2_test = r2_score(y_test_filtered, Y_test_predictions)\n",
    "print('R^2 score is  %3.2f' %r2_test)"
   ]
  },
  {
   "cell_type": "code",
   "execution_count": 31,
   "metadata": {
    "colab": {
     "base_uri": "https://localhost:8080/",
     "height": 421
    },
    "id": "bUVtrW7kHyAw",
    "outputId": "e4abb863-ccd1-4159-bd9d-7fb1a9711a9f"
   },
   "outputs": [
    {
     "name": "stderr",
     "output_type": "stream",
     "text": [
      "<ipython-input-31-161827b186c6>:2: UserWarning: Matplotlib is currently using module://ipykernel.pylab.backend_inline, which is a non-GUI backend, so cannot show the figure.\n",
      "  fig.show()\n"
     ]
    },
    {
     "data": {
      "image/png": "[encoded data removed]",
      "text/plain": [
       "<Figure size 576x576 with 1 Axes>"
      ]
     },
     "metadata": {
      "needs_background": "light"
     },
     "output_type": "display_data"
    }
   ],
   "source": [
    "fig = plot_predictions(eval_df,1,'LSTM','Total Load',\"./LSTM/predictions_MS_hpt_LSTM\")\n",
    "fig.show()"
   ]
  },
  {
   "cell_type": "code",
   "execution_count": 32,
   "metadata": {},
   "outputs": [],
   "source": [
    "idx_prediction = pd.date_range(start=idx_test[0],freq='h',periods=len(idx_test)+24)\n",
    "y_test_filtered2 = data_y_test0.loc[idx_prediction]"
   ]
  },
  {
   "cell_type": "code",
   "execution_count": 33,
   "metadata": {},
   "outputs": [
    {
     "data": {
      "application/vnd.plotly.v1+json": {
       "config": {
        "plotlyServerURL": "https://plot.ly"
       },
       "data": [
        {
         "type": "scatter",
         "x": [
          "2017-03-02T00:00:00+01:00",
          "2017-03-02T01:00:00+01:00",
          "2017-03-02T02:00:00+01:00",
          "2017-03-02T03:00:00+01:00",
          "2017-03-02T04:00:00+01:00",
          "2017-03-02T05:00:00+01:00",
          "2017-03-02T06:00:00+01:00",
          "2017-03-02T07:00:00+01:00",
          "2017-03-02T08:00:00+01:00",
          "2017-03-02T09:00:00+01:00",
          "2017-03-02T10:00:00+01:00",
          "2017-03-02T11:00:00+01:00",
          "2017-03-02T12:00:00+01:00",
          "2017-03-02T13:00:00+01:00",
          "2017-03-02T14:00:00+01:00",
          "2017-03-02T15:00:00+01:00",
          "2017-03-02T16:00:00+01:00",
          "2017-03-02T17:00:00+01:00",
          "2017-03-02T18:00:00+01:00",
          "2017-03-02T19:00:00+01:00",
          "2017-03-02T20:00:00+01:00",
          "2017-03-02T21:00:00+01:00",
          "2017-03-02T22:00:00+01:00",
          "2017-03-02T23:00:00+01:00",
          "2017-03-03T00:00:00+01:00",
          "2017-03-03T01:00:00+01:00",
          "2017-03-03T02:00:00+01:00",
          "2017-03-03T03:00:00+01:00",
          "2017-03-03T04:00:00+01:00",
          "2017-03-03T05:00:00+01:00",
          "2017-03-03T06:00:00+01:00",
          "2017-03-03T07:00:00+01:00",
          "2017-03-03T08:00:00+01:00",
          "2017-03-03T09:00:00+01:00",
          "2017-03-03T10:00:00+01:00",
          "2017-03-03T11:00:00+01:00",
          "2017-03-03T12:00:00+01:00",
          "2017-03-03T13:00:00+01:00",
          "2017-03-03T14:00:00+01:00",
          "2017-03-03T15:00:00+01:00",
          "2017-03-03T16:00:00+01:00",
          "2017-03-03T17:00:00+01:00",
          "2017-03-03T18:00:00+01:00",
          "2017-03-03T19:00:00+01:00",
          "2017-03-03T20:00:00+01:00",
          "2017-03-03T21:00:00+01:00",
          "2017-03-03T22:00:00+01:00",
          "2017-03-03T23:00:00+01:00"
         ],
         "y": [
          58.41,
          55.8,
          51.32,
          49.07,
          49.58,
          55.63,
          57.47,
          58.89,
          61.91,
          61.65,
          60.37,
          59.06,
          57.65,
          56.67,
          55.64,
          54.61,
          54.43,
          58.09,
          62.27,
          66.31,
          63.76,
          61.77,
          57.79,
          54.98,
          55.66,
          49.9,
          44.49,
          42.41,
          41.64,
          42.08,
          49.4,
          54.58,
          55.68,
          55.9,
          54.7,
          51.99,
          49.92,
          48.94,
          48.45,
          45.91,
          45.46,
          47.45,
          51.79,
          54.2,
          50.44,
          48.76,
          45.14,
          43.76
         ]
        },
        {
         "mode": "markers",
         "type": "scatter",
         "x": [
          "2017-03-02T00:00:00+01:00",
          "2017-03-02T01:00:00+01:00",
          "2017-03-02T02:00:00+01:00",
          "2017-03-02T03:00:00+01:00",
          "2017-03-02T04:00:00+01:00",
          "2017-03-02T05:00:00+01:00",
          "2017-03-02T06:00:00+01:00",
          "2017-03-02T07:00:00+01:00",
          "2017-03-02T08:00:00+01:00",
          "2017-03-02T09:00:00+01:00",
          "2017-03-02T10:00:00+01:00",
          "2017-03-02T11:00:00+01:00",
          "2017-03-02T12:00:00+01:00",
          "2017-03-02T13:00:00+01:00",
          "2017-03-02T14:00:00+01:00",
          "2017-03-02T15:00:00+01:00",
          "2017-03-02T16:00:00+01:00",
          "2017-03-02T17:00:00+01:00",
          "2017-03-02T18:00:00+01:00",
          "2017-03-02T19:00:00+01:00",
          "2017-03-02T20:00:00+01:00",
          "2017-03-02T21:00:00+01:00",
          "2017-03-02T22:00:00+01:00",
          "2017-03-02T23:00:00+01:00"
         ],
         "y": [
          52.42498016357422,
          49.85394287109375,
          47.90773010253906,
          46.964256286621094,
          46.923973083496094,
          48.635955810546875,
          52.44309997558594,
          57.57158660888672,
          62.39308166503906,
          65.96800994873047,
          67.54451751708984,
          66.87126159667969,
          65.30247497558594,
          63.092185974121094,
          60.90050506591797,
          59.39433288574219,
          58.961265563964844,
          60.41315460205078,
          63.944915771484375,
          67.87821960449219,
          67.99913024902344,
          62.370033264160156,
          56.947044372558594,
          53.98967742919922
         ]
        },
        {
         "mode": "markers",
         "type": "scatter",
         "x": [
          "2017-03-02T01:00:00+01:00",
          "2017-03-02T02:00:00+01:00",
          "2017-03-02T03:00:00+01:00",
          "2017-03-02T04:00:00+01:00",
          "2017-03-02T05:00:00+01:00",
          "2017-03-02T06:00:00+01:00",
          "2017-03-02T07:00:00+01:00",
          "2017-03-02T08:00:00+01:00",
          "2017-03-02T09:00:00+01:00",
          "2017-03-02T10:00:00+01:00",
          "2017-03-02T11:00:00+01:00",
          "2017-03-02T12:00:00+01:00",
          "2017-03-02T13:00:00+01:00",
          "2017-03-02T14:00:00+01:00",
          "2017-03-02T15:00:00+01:00",
          "2017-03-02T16:00:00+01:00",
          "2017-03-02T17:00:00+01:00",
          "2017-03-02T18:00:00+01:00",
          "2017-03-02T19:00:00+01:00",
          "2017-03-02T20:00:00+01:00",
          "2017-03-02T21:00:00+01:00",
          "2017-03-02T22:00:00+01:00",
          "2017-03-02T23:00:00+01:00",
          "2017-03-03T00:00:00+01:00"
         ],
         "y": [
          51.2120361328125,
          49.892578125,
          49.45442199707031,
          50.35823059082031,
          52.35038757324219,
          55.70054626464844,
          61.88050079345703,
          66.04424285888672,
          68.21551513671875,
          69.40364837646484,
          69.16905975341797,
          67.94921875,
          66.13615417480469,
          64.15037536621094,
          62.61946105957031,
          62.05950164794922,
          62.93995666503906,
          65.0735855102539,
          67.19194793701172,
          67.10698699951172,
          63.05425262451172,
          57.82945251464844,
          55.700035095214844,
          53.47259521484375
         ]
        },
        {
         "mode": "markers",
         "type": "scatter",
         "x": [
          "2017-03-02T02:00:00+01:00",
          "2017-03-02T03:00:00+01:00",
          "2017-03-02T04:00:00+01:00",
          "2017-03-02T05:00:00+01:00",
          "2017-03-02T06:00:00+01:00",
          "2017-03-02T07:00:00+01:00",
          "2017-03-02T08:00:00+01:00",
          "2017-03-02T09:00:00+01:00",
          "2017-03-02T10:00:00+01:00",
          "2017-03-02T11:00:00+01:00",
          "2017-03-02T12:00:00+01:00",
          "2017-03-02T13:00:00+01:00",
          "2017-03-02T14:00:00+01:00",
          "2017-03-02T15:00:00+01:00",
          "2017-03-02T16:00:00+01:00",
          "2017-03-02T17:00:00+01:00",
          "2017-03-02T18:00:00+01:00",
          "2017-03-02T19:00:00+01:00",
          "2017-03-02T20:00:00+01:00",
          "2017-03-02T21:00:00+01:00",
          "2017-03-02T22:00:00+01:00",
          "2017-03-02T23:00:00+01:00",
          "2017-03-03T00:00:00+01:00",
          "2017-03-03T01:00:00+01:00"
         ],
         "y": [
          49.127174377441406,
          48.801902770996094,
          49.66950988769531,
          51.955360412597656,
          55.1092529296875,
          61.461639404296875,
          66.14796447753906,
          68.53919219970703,
          69.69393920898438,
          69.56591033935547,
          68.27543640136719,
          66.30403137207031,
          64.19496154785156,
          62.573402404785156,
          62.06885528564453,
          63.23394012451172,
          65.83609008789062,
          68.5549087524414,
          68.70449829101562,
          63.747589111328125,
          57.61864471435547,
          54.74052429199219,
          51.6475830078125,
          49.157569885253906
         ]
        },
        {
         "mode": "markers",
         "type": "scatter",
         "x": [
          "2017-03-02T03:00:00+01:00",
          "2017-03-02T04:00:00+01:00",
          "2017-03-02T05:00:00+01:00",
          "2017-03-02T06:00:00+01:00",
          "2017-03-02T07:00:00+01:00",
          "2017-03-02T08:00:00+01:00",
          "2017-03-02T09:00:00+01:00",
          "2017-03-02T10:00:00+01:00",
          "2017-03-02T11:00:00+01:00",
          "2017-03-02T12:00:00+01:00",
          "2017-03-02T13:00:00+01:00",
          "2017-03-02T14:00:00+01:00",
          "2017-03-02T15:00:00+01:00",
          "2017-03-02T16:00:00+01:00",
          "2017-03-02T17:00:00+01:00",
          "2017-03-02T18:00:00+01:00",
          "2017-03-02T19:00:00+01:00",
          "2017-03-02T20:00:00+01:00",
          "2017-03-02T21:00:00+01:00",
          "2017-03-02T22:00:00+01:00",
          "2017-03-02T23:00:00+01:00",
          "2017-03-03T00:00:00+01:00",
          "2017-03-03T01:00:00+01:00",
          "2017-03-03T02:00:00+01:00"
         ],
         "y": [
          46.11664581298828,
          46.765045166015625,
          48.979454040527344,
          53.385536193847656,
          59.690635681152344,
          64.97205352783203,
          68.09996032714844,
          69.27534484863281,
          69.3857192993164,
          68.15802764892578,
          66.02670288085938,
          63.69477081298828,
          61.86986541748047,
          61.224021911621094,
          62.52838897705078,
          65.71600341796875,
          69.25021362304688,
          70.17365264892578,
          65.5093765258789,
          57.93724822998047,
          54.10581970214844,
          49.79241180419922,
          46.951271057128906,
          45.09307861328125
         ]
        },
        {
         "mode": "markers",
         "type": "scatter",
         "x": [
          "2017-03-02T04:00:00+01:00",
          "2017-03-02T05:00:00+01:00",
          "2017-03-02T06:00:00+01:00",
          "2017-03-02T07:00:00+01:00",
          "2017-03-02T08:00:00+01:00",
          "2017-03-02T09:00:00+01:00",
          "2017-03-02T10:00:00+01:00",
          "2017-03-02T11:00:00+01:00",
          "2017-03-02T12:00:00+01:00",
          "2017-03-02T13:00:00+01:00",
          "2017-03-02T14:00:00+01:00",
          "2017-03-02T15:00:00+01:00",
          "2017-03-02T16:00:00+01:00",
          "2017-03-02T17:00:00+01:00",
          "2017-03-02T18:00:00+01:00",
          "2017-03-02T19:00:00+01:00",
          "2017-03-02T20:00:00+01:00",
          "2017-03-02T21:00:00+01:00",
          "2017-03-02T22:00:00+01:00",
          "2017-03-02T23:00:00+01:00",
          "2017-03-03T00:00:00+01:00",
          "2017-03-03T01:00:00+01:00",
          "2017-03-03T02:00:00+01:00",
          "2017-03-03T03:00:00+01:00"
         ],
         "y": [
          42.37860107421875,
          43.95799255371094,
          46.745338439941406,
          52.96709442138672,
          59.630531311035156,
          64.2014389038086,
          66.78079223632812,
          67.35887145996094,
          66.57315063476562,
          64.45020294189453,
          61.67462158203125,
          59.322723388671875,
          58.073143005371094,
          59.00660705566406,
          62.62060546875,
          67.99925994873047,
          71.23171997070312,
          69.89651489257812,
          62.31714630126953,
          56.05634307861328,
          51.07684326171875,
          47.00471496582031,
          43.9375,
          41.788414001464844
         ]
        },
        {
         "mode": "markers",
         "type": "scatter",
         "x": [
          "2017-03-02T05:00:00+01:00",
          "2017-03-02T06:00:00+01:00",
          "2017-03-02T07:00:00+01:00",
          "2017-03-02T08:00:00+01:00",
          "2017-03-02T09:00:00+01:00",
          "2017-03-02T10:00:00+01:00",
          "2017-03-02T11:00:00+01:00",
          "2017-03-02T12:00:00+01:00",
          "2017-03-02T13:00:00+01:00",
          "2017-03-02T14:00:00+01:00",
          "2017-03-02T15:00:00+01:00",
          "2017-03-02T16:00:00+01:00",
          "2017-03-02T17:00:00+01:00",
          "2017-03-02T18:00:00+01:00",
          "2017-03-02T19:00:00+01:00",
          "2017-03-02T20:00:00+01:00",
          "2017-03-02T21:00:00+01:00",
          "2017-03-02T22:00:00+01:00",
          "2017-03-02T23:00:00+01:00",
          "2017-03-03T00:00:00+01:00",
          "2017-03-03T01:00:00+01:00",
          "2017-03-03T02:00:00+01:00",
          "2017-03-03T03:00:00+01:00",
          "2017-03-03T04:00:00+01:00"
         ],
         "y": [
          41.61205291748047,
          44.05524444580078,
          48.668731689453125,
          54.32476043701172,
          60.75054931640625,
          64.46660614013672,
          65.59465026855469,
          64.9486083984375,
          62.920875549316406,
          60.05242156982422,
          57.303794860839844,
          55.852806091308594,
          56.26525115966797,
          60.039947509765625,
          66.55425262451172,
          71.00901794433594,
          70.94791412353516,
          64.83491516113281,
          56.86311340332031,
          51.68512725830078,
          46.91846466064453,
          42.43714904785156,
          39.31977844238281,
          38.02545928955078
         ]
        },
        {
         "mode": "markers",
         "type": "scatter",
         "x": [
          "2017-03-02T06:00:00+01:00",
          "2017-03-02T07:00:00+01:00",
          "2017-03-02T08:00:00+01:00",
          "2017-03-02T09:00:00+01:00",
          "2017-03-02T10:00:00+01:00",
          "2017-03-02T11:00:00+01:00",
          "2017-03-02T12:00:00+01:00",
          "2017-03-02T13:00:00+01:00",
          "2017-03-02T14:00:00+01:00",
          "2017-03-02T15:00:00+01:00",
          "2017-03-02T16:00:00+01:00",
          "2017-03-02T17:00:00+01:00",
          "2017-03-02T18:00:00+01:00",
          "2017-03-02T19:00:00+01:00",
          "2017-03-02T20:00:00+01:00",
          "2017-03-02T21:00:00+01:00",
          "2017-03-02T22:00:00+01:00",
          "2017-03-02T23:00:00+01:00",
          "2017-03-03T00:00:00+01:00",
          "2017-03-03T01:00:00+01:00",
          "2017-03-03T02:00:00+01:00",
          "2017-03-03T03:00:00+01:00",
          "2017-03-03T04:00:00+01:00",
          "2017-03-03T05:00:00+01:00"
         ],
         "y": [
          45.303138732910156,
          49.98126983642578,
          55.083335876464844,
          61.21446228027344,
          64.38311004638672,
          64.81130981445312,
          63.679954528808594,
          61.555564880371094,
          58.981361389160156,
          56.662269592285156,
          55.76258850097656,
          56.88489532470703,
          61.955718994140625,
          68.87113189697266,
          72.0663833618164,
          71.11959075927734,
          64.86421966552734,
          57.157073974609375,
          52.402198791503906,
          47.77485656738281,
          43.697166442871094,
          40.16657257080078,
          38.584678649902344,
          37.773597717285156
         ]
        },
        {
         "mode": "markers",
         "type": "scatter",
         "x": [
          "2017-03-02T07:00:00+01:00",
          "2017-03-02T08:00:00+01:00",
          "2017-03-02T09:00:00+01:00",
          "2017-03-02T10:00:00+01:00",
          "2017-03-02T11:00:00+01:00",
          "2017-03-02T12:00:00+01:00",
          "2017-03-02T13:00:00+01:00",
          "2017-03-02T14:00:00+01:00",
          "2017-03-02T15:00:00+01:00",
          "2017-03-02T16:00:00+01:00",
          "2017-03-02T17:00:00+01:00",
          "2017-03-02T18:00:00+01:00",
          "2017-03-02T19:00:00+01:00",
          "2017-03-02T20:00:00+01:00",
          "2017-03-02T21:00:00+01:00",
          "2017-03-02T22:00:00+01:00",
          "2017-03-02T23:00:00+01:00",
          "2017-03-03T00:00:00+01:00",
          "2017-03-03T01:00:00+01:00",
          "2017-03-03T02:00:00+01:00",
          "2017-03-03T03:00:00+01:00",
          "2017-03-03T04:00:00+01:00",
          "2017-03-03T05:00:00+01:00",
          "2017-03-03T06:00:00+01:00"
         ],
         "y": [
          48.92527770996094,
          53.7220458984375,
          58.5213623046875,
          61.45008087158203,
          62.36015319824219,
          61.25238800048828,
          59.35386657714844,
          56.9949951171875,
          55.30839538574219,
          54.609703063964844,
          55.32275390625,
          59.980430603027344,
          66.87430572509766,
          70.56269836425781,
          69.83943939208984,
          64.00130462646484,
          56.912269592285156,
          52.34337615966797,
          47.841590881347656,
          43.69953918457031,
          39.99992370605469,
          38.05255889892578,
          37.16180419921875,
          37.784019470214844
         ]
        },
        {
         "mode": "markers",
         "type": "scatter",
         "x": [
          "2017-03-02T08:00:00+01:00",
          "2017-03-02T09:00:00+01:00",
          "2017-03-02T10:00:00+01:00",
          "2017-03-02T11:00:00+01:00",
          "2017-03-02T12:00:00+01:00",
          "2017-03-02T13:00:00+01:00",
          "2017-03-02T14:00:00+01:00",
          "2017-03-02T15:00:00+01:00",
          "2017-03-02T16:00:00+01:00",
          "2017-03-02T17:00:00+01:00",
          "2017-03-02T18:00:00+01:00",
          "2017-03-02T19:00:00+01:00",
          "2017-03-02T20:00:00+01:00",
          "2017-03-02T21:00:00+01:00",
          "2017-03-02T22:00:00+01:00",
          "2017-03-02T23:00:00+01:00",
          "2017-03-03T00:00:00+01:00",
          "2017-03-03T01:00:00+01:00",
          "2017-03-03T02:00:00+01:00",
          "2017-03-03T03:00:00+01:00",
          "2017-03-03T04:00:00+01:00",
          "2017-03-03T05:00:00+01:00",
          "2017-03-03T06:00:00+01:00",
          "2017-03-03T07:00:00+01:00"
         ],
         "y": [
          53.26594543457031,
          56.66355895996094,
          59.93174743652344,
          61.23853302001953,
          60.57960510253906,
          58.99681091308594,
          56.97888946533203,
          55.474571228027344,
          54.73179626464844,
          55.061363220214844,
          59.01140594482422,
          65.58930206298828,
          69.55516815185547,
          68.91597747802734,
          63.520729064941406,
          56.975616455078125,
          52.72657775878906,
          48.606056213378906,
          44.98303985595703,
          41.336456298828125,
          39.30796813964844,
          38.455299377441406,
          38.9991455078125,
          40.673744201660156
         ]
        },
        {
         "mode": "markers",
         "type": "scatter",
         "x": [
          "2017-03-02T09:00:00+01:00",
          "2017-03-02T10:00:00+01:00",
          "2017-03-02T11:00:00+01:00",
          "2017-03-02T12:00:00+01:00",
          "2017-03-02T13:00:00+01:00",
          "2017-03-02T14:00:00+01:00",
          "2017-03-02T15:00:00+01:00",
          "2017-03-02T16:00:00+01:00",
          "2017-03-02T17:00:00+01:00",
          "2017-03-02T18:00:00+01:00",
          "2017-03-02T19:00:00+01:00",
          "2017-03-02T20:00:00+01:00",
          "2017-03-02T21:00:00+01:00",
          "2017-03-02T22:00:00+01:00",
          "2017-03-02T23:00:00+01:00",
          "2017-03-03T00:00:00+01:00",
          "2017-03-03T01:00:00+01:00",
          "2017-03-03T02:00:00+01:00",
          "2017-03-03T03:00:00+01:00",
          "2017-03-03T04:00:00+01:00",
          "2017-03-03T05:00:00+01:00",
          "2017-03-03T06:00:00+01:00",
          "2017-03-03T07:00:00+01:00",
          "2017-03-03T08:00:00+01:00"
         ],
         "y": [
          57.576141357421875,
          59.98484802246094,
          61.27606201171875,
          60.97669219970703,
          59.59644317626953,
          57.84899139404297,
          56.309844970703125,
          55.432830810546875,
          55.686744689941406,
          59.26597595214844,
          65.5830078125,
          69.1868896484375,
          68.36815643310547,
          63.34282684326172,
          57.246315002441406,
          53.732643127441406,
          50.045196533203125,
          47.09333801269531,
          44.22898864746094,
          42.127967834472656,
          41.50175476074219,
          42.33837127685547,
          44.33575439453125,
          46.60169219970703
         ]
        },
        {
         "mode": "markers",
         "type": "scatter",
         "x": [
          "2017-03-02T10:00:00+01:00",
          "2017-03-02T11:00:00+01:00",
          "2017-03-02T12:00:00+01:00",
          "2017-03-02T13:00:00+01:00",
          "2017-03-02T14:00:00+01:00",
          "2017-03-02T15:00:00+01:00",
          "2017-03-02T16:00:00+01:00",
          "2017-03-02T17:00:00+01:00",
          "2017-03-02T18:00:00+01:00",
          "2017-03-02T19:00:00+01:00",
          "2017-03-02T20:00:00+01:00",
          "2017-03-02T21:00:00+01:00",
          "2017-03-02T22:00:00+01:00",
          "2017-03-02T23:00:00+01:00",
          "2017-03-03T00:00:00+01:00",
          "2017-03-03T01:00:00+01:00",
          "2017-03-03T02:00:00+01:00",
          "2017-03-03T03:00:00+01:00",
          "2017-03-03T04:00:00+01:00",
          "2017-03-03T05:00:00+01:00",
          "2017-03-03T06:00:00+01:00",
          "2017-03-03T07:00:00+01:00",
          "2017-03-03T08:00:00+01:00",
          "2017-03-03T09:00:00+01:00"
         ],
         "y": [
          59.853416442871094,
          60.81804656982422,
          61.19288635253906,
          60.2593994140625,
          58.490455627441406,
          56.69819641113281,
          55.748504638671875,
          55.825340270996094,
          58.290000915527344,
          64.05400848388672,
          68.5619888305664,
          68.7667236328125,
          64.91654205322266,
          58.665321350097656,
          55.89491271972656,
          52.55195617675781,
          49.692710876464844,
          47.38002014160156,
          45.302879333496094,
          44.28593444824219,
          45.46623229980469,
          48.74884033203125,
          52.111083984375,
          55.09815216064453
         ]
        },
        {
         "mode": "markers",
         "type": "scatter",
         "x": [
          "2017-03-02T11:00:00+01:00",
          "2017-03-02T12:00:00+01:00",
          "2017-03-02T13:00:00+01:00",
          "2017-03-02T14:00:00+01:00",
          "2017-03-02T15:00:00+01:00",
          "2017-03-02T16:00:00+01:00",
          "2017-03-02T17:00:00+01:00",
          "2017-03-02T18:00:00+01:00",
          "2017-03-02T19:00:00+01:00",
          "2017-03-02T20:00:00+01:00",
          "2017-03-02T21:00:00+01:00",
          "2017-03-02T22:00:00+01:00",
          "2017-03-02T23:00:00+01:00",
          "2017-03-03T00:00:00+01:00",
          "2017-03-03T01:00:00+01:00",
          "2017-03-03T02:00:00+01:00",
          "2017-03-03T03:00:00+01:00",
          "2017-03-03T04:00:00+01:00",
          "2017-03-03T05:00:00+01:00",
          "2017-03-03T06:00:00+01:00",
          "2017-03-03T07:00:00+01:00",
          "2017-03-03T08:00:00+01:00",
          "2017-03-03T09:00:00+01:00",
          "2017-03-03T10:00:00+01:00"
         ],
         "y": [
          60.074424743652344,
          60.089508056640625,
          59.898170471191406,
          58.64904022216797,
          56.791778564453125,
          55.68511199951172,
          55.62675476074219,
          57.258399963378906,
          61.84295654296875,
          67.08283233642578,
          68.78252410888672,
          66.34805297851562,
          60.99054718017578,
          56.896270751953125,
          54.47954559326172,
          52.032737731933594,
          49.95477294921875,
          48.51158905029297,
          47.94384002685547,
          50.13825225830078,
          53.93431091308594,
          57.072227478027344,
          60.03461456298828,
          61.856910705566406
         ]
        },
        {
         "mode": "markers",
         "type": "scatter",
         "x": [
          "2017-03-02T12:00:00+01:00",
          "2017-03-02T13:00:00+01:00",
          "2017-03-02T14:00:00+01:00",
          "2017-03-02T15:00:00+01:00",
          "2017-03-02T16:00:00+01:00",
          "2017-03-02T17:00:00+01:00",
          "2017-03-02T18:00:00+01:00",
          "2017-03-02T19:00:00+01:00",
          "2017-03-02T20:00:00+01:00",
          "2017-03-02T21:00:00+01:00",
          "2017-03-02T22:00:00+01:00",
          "2017-03-02T23:00:00+01:00",
          "2017-03-03T00:00:00+01:00",
          "2017-03-03T01:00:00+01:00",
          "2017-03-03T02:00:00+01:00",
          "2017-03-03T03:00:00+01:00",
          "2017-03-03T04:00:00+01:00",
          "2017-03-03T05:00:00+01:00",
          "2017-03-03T06:00:00+01:00",
          "2017-03-03T07:00:00+01:00",
          "2017-03-03T08:00:00+01:00",
          "2017-03-03T09:00:00+01:00",
          "2017-03-03T10:00:00+01:00",
          "2017-03-03T11:00:00+01:00"
         ],
         "y": [
          58.23053741455078,
          57.5267333984375,
          56.652137756347656,
          55.784210205078125,
          55.057769775390625,
          55.264503479003906,
          56.68128204345703,
          60.309654235839844,
          64.89192962646484,
          66.49015808105469,
          64.12532043457031,
          59.30543518066406,
          56.46874237060547,
          54.06739044189453,
          51.91461944580078,
          50.11083984375,
          49.06487274169922,
          49.38450622558594,
          52.36888885498047,
          55.773109436035156,
          58.91437530517578,
          61.69275665283203,
          63.32603454589844,
          63.49004364013672
         ]
        },
        {
         "mode": "markers",
         "type": "scatter",
         "x": [
          "2017-03-02T13:00:00+01:00",
          "2017-03-02T14:00:00+01:00",
          "2017-03-02T15:00:00+01:00",
          "2017-03-02T16:00:00+01:00",
          "2017-03-02T17:00:00+01:00",
          "2017-03-02T18:00:00+01:00",
          "2017-03-02T19:00:00+01:00",
          "2017-03-02T20:00:00+01:00",
          "2017-03-02T21:00:00+01:00",
          "2017-03-02T22:00:00+01:00",
          "2017-03-02T23:00:00+01:00",
          "2017-03-03T00:00:00+01:00",
          "2017-03-03T01:00:00+01:00",
          "2017-03-03T02:00:00+01:00",
          "2017-03-03T03:00:00+01:00",
          "2017-03-03T04:00:00+01:00",
          "2017-03-03T05:00:00+01:00",
          "2017-03-03T06:00:00+01:00",
          "2017-03-03T07:00:00+01:00",
          "2017-03-03T08:00:00+01:00",
          "2017-03-03T09:00:00+01:00",
          "2017-03-03T10:00:00+01:00",
          "2017-03-03T11:00:00+01:00",
          "2017-03-03T12:00:00+01:00"
         ],
         "y": [
          55.49401092529297,
          54.75755310058594,
          54.438560485839844,
          54.17335510253906,
          54.41687774658203,
          55.42327117919922,
          58.381858825683594,
          63.019012451171875,
          65.1371841430664,
          62.667266845703125,
          57.785072326660156,
          55.63136291503906,
          52.756019592285156,
          50.12922668457031,
          48.082763671875,
          46.706573486328125,
          47.55232238769531,
          52.110618591308594,
          56.04058074951172,
          60.01538848876953,
          62.79010009765625,
          64.4455337524414,
          64.62378692626953,
          63.30968475341797
         ]
        },
        {
         "mode": "markers",
         "type": "scatter",
         "x": [
          "2017-03-02T14:00:00+01:00",
          "2017-03-02T15:00:00+01:00",
          "2017-03-02T16:00:00+01:00",
          "2017-03-02T17:00:00+01:00",
          "2017-03-02T18:00:00+01:00",
          "2017-03-02T19:00:00+01:00",
          "2017-03-02T20:00:00+01:00",
          "2017-03-02T21:00:00+01:00",
          "2017-03-02T22:00:00+01:00",
          "2017-03-02T23:00:00+01:00",
          "2017-03-03T00:00:00+01:00",
          "2017-03-03T01:00:00+01:00",
          "2017-03-03T02:00:00+01:00",
          "2017-03-03T03:00:00+01:00",
          "2017-03-03T04:00:00+01:00",
          "2017-03-03T05:00:00+01:00",
          "2017-03-03T06:00:00+01:00",
          "2017-03-03T07:00:00+01:00",
          "2017-03-03T08:00:00+01:00",
          "2017-03-03T09:00:00+01:00",
          "2017-03-03T10:00:00+01:00",
          "2017-03-03T11:00:00+01:00",
          "2017-03-03T12:00:00+01:00",
          "2017-03-03T13:00:00+01:00"
         ],
         "y": [
          53.550628662109375,
          53.277130126953125,
          52.736106872558594,
          53.460487365722656,
          54.57439422607422,
          57.423309326171875,
          62.25452423095703,
          64.81682586669922,
          62.10655212402344,
          57.001792907714844,
          54.68731689453125,
          51.46721649169922,
          48.50697326660156,
          46.206260681152344,
          44.83921813964844,
          45.79905700683594,
          51.25544738769531,
          55.842529296875,
          60.228485107421875,
          63.03972625732422,
          64.64797973632812,
          64.86087036132812,
          63.743316650390625,
          61.73976135253906
         ]
        },
        {
         "mode": "markers",
         "type": "scatter",
         "x": [
          "2017-03-02T15:00:00+01:00",
          "2017-03-02T16:00:00+01:00",
          "2017-03-02T17:00:00+01:00",
          "2017-03-02T18:00:00+01:00",
          "2017-03-02T19:00:00+01:00",
          "2017-03-02T20:00:00+01:00",
          "2017-03-02T21:00:00+01:00",
          "2017-03-02T22:00:00+01:00",
          "2017-03-02T23:00:00+01:00",
          "2017-03-03T00:00:00+01:00",
          "2017-03-03T01:00:00+01:00",
          "2017-03-03T02:00:00+01:00",
          "2017-03-03T03:00:00+01:00",
          "2017-03-03T04:00:00+01:00",
          "2017-03-03T05:00:00+01:00",
          "2017-03-03T06:00:00+01:00",
          "2017-03-03T07:00:00+01:00",
          "2017-03-03T08:00:00+01:00",
          "2017-03-03T09:00:00+01:00",
          "2017-03-03T10:00:00+01:00",
          "2017-03-03T11:00:00+01:00",
          "2017-03-03T12:00:00+01:00",
          "2017-03-03T13:00:00+01:00",
          "2017-03-03T14:00:00+01:00"
         ],
         "y": [
          51.56352233886719,
          51.17662811279297,
          51.58557891845703,
          53.791175842285156,
          57.83470916748047,
          62.81248474121094,
          64.70909881591797,
          61.387725830078125,
          56.48191833496094,
          54.041053771972656,
          50.82701110839844,
          47.735740661621094,
          45.50926208496094,
          44.488136291503906,
          46.03666687011719,
          51.78996276855469,
          56.17900085449219,
          60.42430114746094,
          62.96729278564453,
          64.30554962158203,
          64.48297882080078,
          63.373138427734375,
          61.39252471923828,
          60.05810546875
         ]
        },
        {
         "mode": "markers",
         "type": "scatter",
         "x": [
          "2017-03-02T16:00:00+01:00",
          "2017-03-02T17:00:00+01:00",
          "2017-03-02T18:00:00+01:00",
          "2017-03-02T19:00:00+01:00",
          "2017-03-02T20:00:00+01:00",
          "2017-03-02T21:00:00+01:00",
          "2017-03-02T22:00:00+01:00",
          "2017-03-02T23:00:00+01:00",
          "2017-03-03T00:00:00+01:00",
          "2017-03-03T01:00:00+01:00",
          "2017-03-03T02:00:00+01:00",
          "2017-03-03T03:00:00+01:00",
          "2017-03-03T04:00:00+01:00",
          "2017-03-03T05:00:00+01:00",
          "2017-03-03T06:00:00+01:00",
          "2017-03-03T07:00:00+01:00",
          "2017-03-03T08:00:00+01:00",
          "2017-03-03T09:00:00+01:00",
          "2017-03-03T10:00:00+01:00",
          "2017-03-03T11:00:00+01:00",
          "2017-03-03T12:00:00+01:00",
          "2017-03-03T13:00:00+01:00",
          "2017-03-03T14:00:00+01:00",
          "2017-03-03T15:00:00+01:00"
         ],
         "y": [
          50.917091369628906,
          51.554786682128906,
          54.59752655029297,
          60.373863220214844,
          64.06798553466797,
          63.50407409667969,
          59.147422790527344,
          55.81211853027344,
          52.813392639160156,
          49.579689025878906,
          46.90501403808594,
          44.97112274169922,
          44.36139678955078,
          46.33220672607422,
          51.74108123779297,
          55.71784210205078,
          58.86756134033203,
          60.66496276855469,
          61.58294677734375,
          61.61705017089844,
          60.50019073486328,
          58.69525909423828,
          57.479469299316406,
          56.98004913330078
         ]
        },
        {
         "mode": "markers",
         "type": "scatter",
         "x": [
          "2017-03-02T17:00:00+01:00",
          "2017-03-02T18:00:00+01:00",
          "2017-03-02T19:00:00+01:00",
          "2017-03-02T20:00:00+01:00",
          "2017-03-02T21:00:00+01:00",
          "2017-03-02T22:00:00+01:00",
          "2017-03-02T23:00:00+01:00",
          "2017-03-03T00:00:00+01:00",
          "2017-03-03T01:00:00+01:00",
          "2017-03-03T02:00:00+01:00",
          "2017-03-03T03:00:00+01:00",
          "2017-03-03T04:00:00+01:00",
          "2017-03-03T05:00:00+01:00",
          "2017-03-03T06:00:00+01:00",
          "2017-03-03T07:00:00+01:00",
          "2017-03-03T08:00:00+01:00",
          "2017-03-03T09:00:00+01:00",
          "2017-03-03T10:00:00+01:00",
          "2017-03-03T11:00:00+01:00",
          "2017-03-03T12:00:00+01:00",
          "2017-03-03T13:00:00+01:00",
          "2017-03-03T14:00:00+01:00",
          "2017-03-03T15:00:00+01:00",
          "2017-03-03T16:00:00+01:00"
         ],
         "y": [
          52.451019287109375,
          56.115814208984375,
          61.69379425048828,
          65.2280502319336,
          63.464385986328125,
          58.72834777832031,
          55.94728088378906,
          53.066856384277344,
          50.325843811035156,
          47.88695526123047,
          46.192909240722656,
          45.85820007324219,
          48.11036682128906,
          52.255950927734375,
          55.592613220214844,
          57.75926208496094,
          59.10662078857422,
          59.760765075683594,
          59.639503479003906,
          58.467803955078125,
          56.76896667480469,
          55.82771301269531,
          55.559486389160156,
          55.64514923095703
         ]
        },
        {
         "mode": "markers",
         "type": "scatter",
         "x": [
          "2017-03-02T18:00:00+01:00",
          "2017-03-02T19:00:00+01:00",
          "2017-03-02T20:00:00+01:00",
          "2017-03-02T21:00:00+01:00",
          "2017-03-02T22:00:00+01:00",
          "2017-03-02T23:00:00+01:00",
          "2017-03-03T00:00:00+01:00",
          "2017-03-03T01:00:00+01:00",
          "2017-03-03T02:00:00+01:00",
          "2017-03-03T03:00:00+01:00",
          "2017-03-03T04:00:00+01:00",
          "2017-03-03T05:00:00+01:00",
          "2017-03-03T06:00:00+01:00",
          "2017-03-03T07:00:00+01:00",
          "2017-03-03T08:00:00+01:00",
          "2017-03-03T09:00:00+01:00",
          "2017-03-03T10:00:00+01:00",
          "2017-03-03T11:00:00+01:00",
          "2017-03-03T12:00:00+01:00",
          "2017-03-03T13:00:00+01:00",
          "2017-03-03T14:00:00+01:00",
          "2017-03-03T15:00:00+01:00",
          "2017-03-03T16:00:00+01:00",
          "2017-03-03T17:00:00+01:00"
         ],
         "y": [
          59.17359161376953,
          64.53437805175781,
          67.81092071533203,
          66.39256286621094,
          61.44334411621094,
          57.032928466796875,
          55.36921691894531,
          53.23716735839844,
          51.44457244873047,
          50.221343994140625,
          50.00402069091797,
          51.61132049560547,
          53.574798583984375,
          55.8748779296875,
          57.707763671875,
          58.96484375,
          59.51860046386719,
          59.359764099121094,
          58.22984313964844,
          56.63067626953125,
          55.85041046142578,
          55.653839111328125,
          55.873291015625,
          56.63079071044922
         ]
        },
        {
         "mode": "markers",
         "type": "scatter",
         "x": [
          "2017-03-02T19:00:00+01:00",
          "2017-03-02T20:00:00+01:00",
          "2017-03-02T21:00:00+01:00",
          "2017-03-02T22:00:00+01:00",
          "2017-03-02T23:00:00+01:00",
          "2017-03-03T00:00:00+01:00",
          "2017-03-03T01:00:00+01:00",
          "2017-03-03T02:00:00+01:00",
          "2017-03-03T03:00:00+01:00",
          "2017-03-03T04:00:00+01:00",
          "2017-03-03T05:00:00+01:00",
          "2017-03-03T06:00:00+01:00",
          "2017-03-03T07:00:00+01:00",
          "2017-03-03T08:00:00+01:00",
          "2017-03-03T09:00:00+01:00",
          "2017-03-03T10:00:00+01:00",
          "2017-03-03T11:00:00+01:00",
          "2017-03-03T12:00:00+01:00",
          "2017-03-03T13:00:00+01:00",
          "2017-03-03T14:00:00+01:00",
          "2017-03-03T15:00:00+01:00",
          "2017-03-03T16:00:00+01:00",
          "2017-03-03T17:00:00+01:00",
          "2017-03-03T18:00:00+01:00"
         ],
         "y": [
          60.651756286621094,
          65.04561614990234,
          66.4321517944336,
          62.410377502441406,
          57.26670837402344,
          55.270904541015625,
          52.705711364746094,
          50.61283874511719,
          49.03654479980469,
          48.55248260498047,
          50.24589538574219,
          52.94585418701172,
          55.76100158691406,
          58.12645721435547,
          59.7696533203125,
          60.55036163330078,
          60.619895935058594,
          59.94993591308594,
          58.317718505859375,
          56.760231018066406,
          56.15614318847656,
          56.280792236328125,
          57.24699401855469,
          59.18439483642578
         ]
        },
        {
         "mode": "markers",
         "type": "scatter",
         "x": [
          "2017-03-02T20:00:00+01:00",
          "2017-03-02T21:00:00+01:00",
          "2017-03-02T22:00:00+01:00",
          "2017-03-02T23:00:00+01:00",
          "2017-03-03T00:00:00+01:00",
          "2017-03-03T01:00:00+01:00",
          "2017-03-03T02:00:00+01:00",
          "2017-03-03T03:00:00+01:00",
          "2017-03-03T04:00:00+01:00",
          "2017-03-03T05:00:00+01:00",
          "2017-03-03T06:00:00+01:00",
          "2017-03-03T07:00:00+01:00",
          "2017-03-03T08:00:00+01:00",
          "2017-03-03T09:00:00+01:00",
          "2017-03-03T10:00:00+01:00",
          "2017-03-03T11:00:00+01:00",
          "2017-03-03T12:00:00+01:00",
          "2017-03-03T13:00:00+01:00",
          "2017-03-03T14:00:00+01:00",
          "2017-03-03T15:00:00+01:00",
          "2017-03-03T16:00:00+01:00",
          "2017-03-03T17:00:00+01:00",
          "2017-03-03T18:00:00+01:00",
          "2017-03-03T19:00:00+01:00"
         ],
         "y": [
          60.502464294433594,
          63.529808044433594,
          61.86021423339844,
          56.84705352783203,
          54.537567138671875,
          51.755226135253906,
          49.472389221191406,
          47.794639587402344,
          47.253997802734375,
          49.04369354248047,
          52.61231994628906,
          56.026702880859375,
          59.36779022216797,
          61.32127380371094,
          62.1656494140625,
          62.20744323730469,
          61.599700927734375,
          60.05589294433594,
          58.46678924560547,
          57.709381103515625,
          58.14301300048828,
          60.068023681640625,
          63.47993469238281,
          66.32130432128906
         ]
        },
        {
         "mode": "markers",
         "type": "scatter",
         "x": [
          "2017-03-02T21:00:00+01:00",
          "2017-03-02T22:00:00+01:00",
          "2017-03-02T23:00:00+01:00",
          "2017-03-03T00:00:00+01:00",
          "2017-03-03T01:00:00+01:00",
          "2017-03-03T02:00:00+01:00",
          "2017-03-03T03:00:00+01:00",
          "2017-03-03T04:00:00+01:00",
          "2017-03-03T05:00:00+01:00",
          "2017-03-03T06:00:00+01:00",
          "2017-03-03T07:00:00+01:00",
          "2017-03-03T08:00:00+01:00",
          "2017-03-03T09:00:00+01:00",
          "2017-03-03T10:00:00+01:00",
          "2017-03-03T11:00:00+01:00",
          "2017-03-03T12:00:00+01:00",
          "2017-03-03T13:00:00+01:00",
          "2017-03-03T14:00:00+01:00",
          "2017-03-03T15:00:00+01:00",
          "2017-03-03T16:00:00+01:00",
          "2017-03-03T17:00:00+01:00",
          "2017-03-03T18:00:00+01:00",
          "2017-03-03T19:00:00+01:00",
          "2017-03-03T20:00:00+01:00"
         ],
         "y": [
          59.83770751953125,
          58.194091796875,
          55.001007080078125,
          52.447410583496094,
          50.42365264892578,
          49.0482177734375,
          48.84661865234375,
          50.61791229248047,
          53.34809112548828,
          56.857177734375,
          60.217742919921875,
          62.07173156738281,
          62.873878479003906,
          62.85455322265625,
          62.097450256347656,
          60.685523986816406,
          59.489288330078125,
          59.36927032470703,
          61.301536560058594,
          65.6895751953125,
          69.70353698730469,
          70.82389831542969,
          69.44073486328125,
          66.95751190185547
         ]
        },
        {
         "mode": "markers",
         "type": "scatter",
         "x": [
          "2017-03-02T22:00:00+01:00",
          "2017-03-02T23:00:00+01:00",
          "2017-03-03T00:00:00+01:00",
          "2017-03-03T01:00:00+01:00",
          "2017-03-03T02:00:00+01:00",
          "2017-03-03T03:00:00+01:00",
          "2017-03-03T04:00:00+01:00",
          "2017-03-03T05:00:00+01:00",
          "2017-03-03T06:00:00+01:00",
          "2017-03-03T07:00:00+01:00",
          "2017-03-03T08:00:00+01:00",
          "2017-03-03T09:00:00+01:00",
          "2017-03-03T10:00:00+01:00",
          "2017-03-03T11:00:00+01:00",
          "2017-03-03T12:00:00+01:00",
          "2017-03-03T13:00:00+01:00",
          "2017-03-03T14:00:00+01:00",
          "2017-03-03T15:00:00+01:00",
          "2017-03-03T16:00:00+01:00",
          "2017-03-03T17:00:00+01:00",
          "2017-03-03T18:00:00+01:00",
          "2017-03-03T19:00:00+01:00",
          "2017-03-03T20:00:00+01:00",
          "2017-03-03T21:00:00+01:00"
         ],
         "y": [
          60.24024200439453,
          58.86022186279297,
          57.79950714111328,
          56.71581268310547,
          56.09068298339844,
          55.818336486816406,
          55.69214630126953,
          55.744422912597656,
          56.1024169921875,
          57.708030700683594,
          60.172462463378906,
          62.28962707519531,
          63.50636291503906,
          64.08558654785156,
          64.36934661865234,
          64.28142547607422,
          63.40144348144531,
          61.955474853515625,
          60.99720001220703,
          60.659141540527344,
          60.687339782714844,
          60.85417175292969,
          61.15093994140625,
          61.92363739013672
         ]
        },
        {
         "mode": "markers",
         "type": "scatter",
         "x": [
          "2017-03-02T23:00:00+01:00",
          "2017-03-03T00:00:00+01:00",
          "2017-03-03T01:00:00+01:00",
          "2017-03-03T02:00:00+01:00",
          "2017-03-03T03:00:00+01:00",
          "2017-03-03T04:00:00+01:00",
          "2017-03-03T05:00:00+01:00",
          "2017-03-03T06:00:00+01:00",
          "2017-03-03T07:00:00+01:00",
          "2017-03-03T08:00:00+01:00",
          "2017-03-03T09:00:00+01:00",
          "2017-03-03T10:00:00+01:00",
          "2017-03-03T11:00:00+01:00",
          "2017-03-03T12:00:00+01:00",
          "2017-03-03T13:00:00+01:00",
          "2017-03-03T14:00:00+01:00",
          "2017-03-03T15:00:00+01:00",
          "2017-03-03T16:00:00+01:00",
          "2017-03-03T17:00:00+01:00",
          "2017-03-03T18:00:00+01:00",
          "2017-03-03T19:00:00+01:00",
          "2017-03-03T20:00:00+01:00",
          "2017-03-03T21:00:00+01:00",
          "2017-03-03T22:00:00+01:00"
         ],
         "y": [
          53.07981872558594,
          52.87727355957031,
          52.90576171875,
          53.186485290527344,
          53.40223693847656,
          53.586395263671875,
          53.73969268798828,
          53.874290466308594,
          53.998130798339844,
          54.110130310058594,
          54.21001434326172,
          54.29443359375,
          54.365447998046875,
          54.424102783203125,
          54.469566345214844,
          54.505943298339844,
          54.53413391113281,
          54.557350158691406,
          54.580787658691406,
          54.61572265625,
          54.680633544921875,
          54.78600311279297,
          54.8760986328125,
          54.91252899169922
         ]
        },
        {
         "type": "scatter",
         "x": [
          "2017-03-02T00:00:00+01:00",
          "2017-03-02T01:00:00+01:00",
          "2017-03-02T02:00:00+01:00",
          "2017-03-02T03:00:00+01:00",
          "2017-03-02T04:00:00+01:00",
          "2017-03-02T05:00:00+01:00",
          "2017-03-02T06:00:00+01:00",
          "2017-03-02T07:00:00+01:00",
          "2017-03-02T08:00:00+01:00",
          "2017-03-02T09:00:00+01:00",
          "2017-03-02T10:00:00+01:00",
          "2017-03-02T11:00:00+01:00",
          "2017-03-02T12:00:00+01:00",
          "2017-03-02T13:00:00+01:00",
          "2017-03-02T14:00:00+01:00",
          "2017-03-02T15:00:00+01:00",
          "2017-03-02T16:00:00+01:00",
          "2017-03-02T17:00:00+01:00",
          "2017-03-02T18:00:00+01:00",
          "2017-03-02T19:00:00+01:00",
          "2017-03-02T20:00:00+01:00",
          "2017-03-02T21:00:00+01:00",
          "2017-03-02T22:00:00+01:00",
          "2017-03-02T23:00:00+01:00",
          "2017-03-03T00:00:00+01:00",
          "2017-03-03T01:00:00+01:00",
          "2017-03-03T02:00:00+01:00",
          "2017-03-03T03:00:00+01:00",
          "2017-03-03T04:00:00+01:00",
          "2017-03-03T05:00:00+01:00",
          "2017-03-03T06:00:00+01:00",
          "2017-03-03T07:00:00+01:00",
          "2017-03-03T08:00:00+01:00",
          "2017-03-03T09:00:00+01:00",
          "2017-03-03T10:00:00+01:00",
          "2017-03-03T11:00:00+01:00",
          "2017-03-03T12:00:00+01:00",
          "2017-03-03T13:00:00+01:00",
          "2017-03-03T14:00:00+01:00",
          "2017-03-03T15:00:00+01:00",
          "2017-03-03T16:00:00+01:00",
          "2017-03-03T17:00:00+01:00",
          "2017-03-03T18:00:00+01:00",
          "2017-03-03T19:00:00+01:00",
          "2017-03-03T20:00:00+01:00",
          "2017-03-03T21:00:00+01:00",
          "2017-03-03T22:00:00+01:00",
          "2017-03-03T23:00:00+01:00"
         ],
         "y": [
          52.42498016357422,
          50.532989501953125,
          48.975830078125,
          47.83430480957031,
          47.21907424926758,
          47.91520309448242,
          50.3917350769043,
          55.143341064453125,
          59.50933074951172,
          62.97501754760742,
          64.7970962524414,
          64.87700653076172,
          63.63141632080078,
          61.54365158081055,
          59.171443939208984,
          57.21200180053711,
          56.13359451293945,
          56.529354095458984,
          59.43947982788086,
          64.07234191894531,
          67.08924102783203,
          66.16509246826172,
          61.599525451660156,
          56.659332275390625,
          53.76874542236328,
          50.822628021240234,
          48.36190414428711,
          46.51839065551758,
          45.8388671875,
          46.89280700683594,
          50.13028335571289,
          53.90155029296875,
          57.57004928588867,
          60.34453582763672,
          61.75505065917969,
          61.7874870300293,
          60.786598205566406,
          59.184104919433594,
          57.96881866455078,
          57.48125457763672,
          58.16948318481445,
          59.81488037109375,
          61.75825881958008,
          62.82421112060547,
          60.96481704711914,
          58.39986801147461,
          54.91252899169922,
          null
         ]
        },
        {
         "type": "scatter",
         "x": [
          "2017-03-02T00:00:00+01:00",
          "2017-03-02T01:00:00+01:00",
          "2017-03-02T02:00:00+01:00",
          "2017-03-02T03:00:00+01:00",
          "2017-03-02T04:00:00+01:00",
          "2017-03-02T05:00:00+01:00",
          "2017-03-02T06:00:00+01:00",
          "2017-03-02T07:00:00+01:00",
          "2017-03-02T08:00:00+01:00",
          "2017-03-02T09:00:00+01:00",
          "2017-03-02T10:00:00+01:00",
          "2017-03-02T11:00:00+01:00",
          "2017-03-02T12:00:00+01:00",
          "2017-03-02T13:00:00+01:00",
          "2017-03-02T14:00:00+01:00",
          "2017-03-02T15:00:00+01:00",
          "2017-03-02T16:00:00+01:00",
          "2017-03-02T17:00:00+01:00",
          "2017-03-02T18:00:00+01:00",
          "2017-03-02T19:00:00+01:00",
          "2017-03-02T20:00:00+01:00",
          "2017-03-02T21:00:00+01:00",
          "2017-03-02T22:00:00+01:00",
          "2017-03-02T23:00:00+01:00",
          "2017-03-03T00:00:00+01:00",
          "2017-03-03T01:00:00+01:00",
          "2017-03-03T02:00:00+01:00",
          "2017-03-03T03:00:00+01:00",
          "2017-03-03T04:00:00+01:00",
          "2017-03-03T05:00:00+01:00",
          "2017-03-03T06:00:00+01:00",
          "2017-03-03T07:00:00+01:00",
          "2017-03-03T08:00:00+01:00",
          "2017-03-03T09:00:00+01:00",
          "2017-03-03T10:00:00+01:00",
          "2017-03-03T11:00:00+01:00",
          "2017-03-03T12:00:00+01:00",
          "2017-03-03T13:00:00+01:00",
          "2017-03-03T14:00:00+01:00",
          "2017-03-03T15:00:00+01:00",
          "2017-03-03T16:00:00+01:00",
          "2017-03-03T17:00:00+01:00",
          "2017-03-03T18:00:00+01:00",
          "2017-03-03T19:00:00+01:00",
          "2017-03-03T20:00:00+01:00",
          "2017-03-03T21:00:00+01:00",
          "2017-03-03T22:00:00+01:00",
          "2017-03-03T23:00:00+01:00"
         ],
         "y": [
          52.42498016357422,
          50.532989501953125,
          49.0515022277832,
          47.83430480957031,
          47.07152557373047,
          48.635955810546875,
          51.41741943359375,
          55.143341064453125,
          59.56993103027344,
          62.97501754760742,
          64.63185119628906,
          64.87700653076172,
          63.65568542480469,
          61.54365158081055,
          58.81520080566406,
          56.69819641113281,
          55.7168083190918,
          55.686744689941406,
          59.219783782958984,
          64.53437805175781,
          67.45895385742188,
          66.16509246826172,
          61.98338317871094,
          56.86311340332031,
          53.60261917114258,
          50.822628021240234,
          48.43444061279297,
          46.51839065551758,
          45.848533630371094,
          47.55232238769531,
          51.95029067993164,
          55.76100158691406,
          58.49700927734375,
          60.66496276855469,
          62.01128005981445,
          62.097450256347656,
          60.736061096191406,
          59.184104919433594,
          57.724143981933594,
          56.98004913330078,
          57.2119026184082,
          59.81488037109375,
          61.222801208496094,
          62.82421112060547,
          61.05787658691406,
          58.39986801147461,
          54.91252899169922,
          null
         ]
        }
       ],
       "layout": {
        "template": {
         "data": {
          "bar": [
           {
            "error_x": {
             "color": "#2a3f5f"
            },
            "error_y": {
             "color": "#2a3f5f"
            },
            "marker": {
             "line": {
              "color": "#E5ECF6",
              "width": 0.5
             },
             "pattern": {
              "fillmode": "overlay",
              "size": 10,
              "solidity": 0.2
             }
            },
            "type": "bar"
           }
          ],
          "barpolar": [
           {
            "marker": {
             "line": {
              "color": "#E5ECF6",
              "width": 0.5
             },
             "pattern": {
              "fillmode": "overlay",
              "size": 10,
              "solidity": 0.2
             }
            },
            "type": "barpolar"
           }
          ],
          "carpet": [
           {
            "aaxis": {
             "endlinecolor": "#2a3f5f",
             "gridcolor": "white",
             "linecolor": "white",
             "minorgridcolor": "white",
             "startlinecolor": "#2a3f5f"
            },
            "baxis": {
             "endlinecolor": "#2a3f5f",
             "gridcolor": "white",
             "linecolor": "white",
             "minorgridcolor": "white",
             "startlinecolor": "#2a3f5f"
            },
            "type": "carpet"
           }
          ],
          "choropleth": [
           {
            "colorbar": {
             "outlinewidth": 0,
             "ticks": ""
            },
            "type": "choropleth"
           }
          ],
          "contour": [
           {
            "colorbar": {
             "outlinewidth": 0,
             "ticks": ""
            },
            "colorscale": [
             [
              0,
              "#0d0887"
             ],
             [
              0.1111111111111111,
              "#46039f"
             ],
             [
              0.2222222222222222,
              "#7201a8"
             ],
             [
              0.3333333333333333,
              "#9c179e"
             ],
             [
              0.4444444444444444,
              "#bd3786"
             ],
             [
              0.5555555555555556,
              "#d8576b"
             ],
             [
              0.6666666666666666,
              "#ed7953"
             ],
             [
              0.7777777777777778,
              "#fb9f3a"
             ],
             [
              0.8888888888888888,
              "#fdca26"
             ],
             [
              1,
              "#f0f921"
             ]
            ],
            "type": "contour"
           }
          ],
          "contourcarpet": [
           {
            "colorbar": {
             "outlinewidth": 0,
             "ticks": ""
            },
            "type": "contourcarpet"
           }
          ],
          "heatmap": [
           {
            "colorbar": {
             "outlinewidth": 0,
             "ticks": ""
            },
            "colorscale": [
             [
              0,
              "#0d0887"
             ],
             [
              0.1111111111111111,
              "#46039f"
             ],
             [
              0.2222222222222222,
              "#7201a8"
             ],
             [
              0.3333333333333333,
              "#9c179e"
             ],
             [
              0.4444444444444444,
              "#bd3786"
             ],
             [
              0.5555555555555556,
              "#d8576b"
             ],
             [
              0.6666666666666666,
              "#ed7953"
             ],
             [
              0.7777777777777778,
              "#fb9f3a"
             ],
             [
              0.8888888888888888,
              "#fdca26"
             ],
             [
              1,
              "#f0f921"
             ]
            ],
            "type": "heatmap"
           }
          ],
          "heatmapgl": [
           {
            "colorbar": {
             "outlinewidth": 0,
             "ticks": ""
            },
            "colorscale": [
             [
              0,
              "#0d0887"
             ],
             [
              0.1111111111111111,
              "#46039f"
             ],
             [
              0.2222222222222222,
              "#7201a8"
             ],
             [
              0.3333333333333333,
              "#9c179e"
             ],
             [
              0.4444444444444444,
              "#bd3786"
             ],
             [
              0.5555555555555556,
              "#d8576b"
             ],
             [
              0.6666666666666666,
              "#ed7953"
             ],
             [
              0.7777777777777778,
              "#fb9f3a"
             ],
             [
              0.8888888888888888,
              "#fdca26"
             ],
             [
              1,
              "#f0f921"
             ]
            ],
            "type": "heatmapgl"
           }
          ],
          "histogram": [
           {
            "marker": {
             "pattern": {
              "fillmode": "overlay",
              "size": 10,
              "solidity": 0.2
             }
            },
            "type": "histogram"
           }
          ],
          "histogram2d": [
           {
            "colorbar": {
             "outlinewidth": 0,
             "ticks": ""
            },
            "colorscale": [
             [
              0,
              "#0d0887"
             ],
             [
              0.1111111111111111,
              "#46039f"
             ],
             [
              0.2222222222222222,
              "#7201a8"
             ],
             [
              0.3333333333333333,
              "#9c179e"
             ],
             [
              0.4444444444444444,
              "#bd3786"
             ],
             [
              0.5555555555555556,
              "#d8576b"
             ],
             [
              0.6666666666666666,
              "#ed7953"
             ],
             [
              0.7777777777777778,
              "#fb9f3a"
             ],
             [
              0.8888888888888888,
              "#fdca26"
             ],
             [
              1,
              "#f0f921"
             ]
            ],
            "type": "histogram2d"
           }
          ],
          "histogram2dcontour": [
           {
            "colorbar": {
             "outlinewidth": 0,
             "ticks": ""
            },
            "colorscale": [
             [
              0,
              "#0d0887"
             ],
             [
              0.1111111111111111,
              "#46039f"
             ],
             [
              0.2222222222222222,
              "#7201a8"
             ],
             [
              0.3333333333333333,
              "#9c179e"
             ],
             [
              0.4444444444444444,
              "#bd3786"
             ],
             [
              0.5555555555555556,
              "#d8576b"
             ],
             [
              0.6666666666666666,
              "#ed7953"
             ],
             [
              0.7777777777777778,
              "#fb9f3a"
             ],
             [
              0.8888888888888888,
              "#fdca26"
             ],
             [
              1,
              "#f0f921"
             ]
            ],
            "type": "histogram2dcontour"
           }
          ],
          "mesh3d": [
           {
            "colorbar": {
             "outlinewidth": 0,
             "ticks": ""
            },
            "type": "mesh3d"
           }
          ],
          "parcoords": [
           {
            "line": {
             "colorbar": {
              "outlinewidth": 0,
              "ticks": ""
             }
            },
            "type": "parcoords"
           }
          ],
          "pie": [
           {
            "automargin": true,
            "type": "pie"
           }
          ],
          "scatter": [
           {
            "marker": {
             "colorbar": {
              "outlinewidth": 0,
              "ticks": ""
             }
            },
            "type": "scatter"
           }
          ],
          "scatter3d": [
           {
            "line": {
             "colorbar": {
              "outlinewidth": 0,
              "ticks": ""
             }
            },
            "marker": {
             "colorbar": {
              "outlinewidth": 0,
              "ticks": ""
             }
            },
            "type": "scatter3d"
           }
          ],
          "scattercarpet": [
           {
            "marker": {
             "colorbar": {
              "outlinewidth": 0,
              "ticks": ""
             }
            },
            "type": "scattercarpet"
           }
          ],
          "scattergeo": [
           {
            "marker": {
             "colorbar": {
              "outlinewidth": 0,
              "ticks": ""
             }
            },
            "type": "scattergeo"
           }
          ],
          "scattergl": [
           {
            "marker": {
             "colorbar": {
              "outlinewidth": 0,
              "ticks": ""
             }
            },
            "type": "scattergl"
           }
          ],
          "scattermapbox": [
           {
            "marker": {
             "colorbar": {
              "outlinewidth": 0,
              "ticks": ""
             }
            },
            "type": "scattermapbox"
           }
          ],
          "scatterpolar": [
           {
            "marker": {
             "colorbar": {
              "outlinewidth": 0,
              "ticks": ""
             }
            },
            "type": "scatterpolar"
           }
          ],
          "scatterpolargl": [
           {
            "marker": {
             "colorbar": {
              "outlinewidth": 0,
              "ticks": ""
             }
            },
            "type": "scatterpolargl"
           }
          ],
          "scatterternary": [
           {
            "marker": {
             "colorbar": {
              "outlinewidth": 0,
              "ticks": ""
             }
            },
            "type": "scatterternary"
           }
          ],
          "surface": [
           {
            "colorbar": {
             "outlinewidth": 0,
             "ticks": ""
            },
            "colorscale": [
             [
              0,
              "#0d0887"
             ],
             [
              0.1111111111111111,
              "#46039f"
             ],
             [
              0.2222222222222222,
              "#7201a8"
             ],
             [
              0.3333333333333333,
              "#9c179e"
             ],
             [
              0.4444444444444444,
              "#bd3786"
             ],
             [
              0.5555555555555556,
              "#d8576b"
             ],
             [
              0.6666666666666666,
              "#ed7953"
             ],
             [
              0.7777777777777778,
              "#fb9f3a"
             ],
             [
              0.8888888888888888,
              "#fdca26"
             ],
             [
              1,
              "#f0f921"
             ]
            ],
            "type": "surface"
           }
          ],
          "table": [
           {
            "cells": {
             "fill": {
              "color": "#EBF0F8"
             },
             "line": {
              "color": "white"
             }
            },
            "header": {
             "fill": {
              "color": "#C8D4E3"
             },
             "line": {
              "color": "white"
             }
            },
            "type": "table"
           }
          ]
         },
         "layout": {
          "annotationdefaults": {
           "arrowcolor": "#2a3f5f",
           "arrowhead": 0,
           "arrowwidth": 1
          },
          "autotypenumbers": "strict",
          "coloraxis": {
           "colorbar": {
            "outlinewidth": 0,
            "ticks": ""
           }
          },
          "colorscale": {
           "diverging": [
            [
             0,
             "#8e0152"
            ],
            [
             0.1,
             "#c51b7d"
            ],
            [
             0.2,
             "#de77ae"
            ],
            [
             0.3,
             "#f1b6da"
            ],
            [
             0.4,
             "#fde0ef"
            ],
            [
             0.5,
             "#f7f7f7"
            ],
            [
             0.6,
             "#e6f5d0"
            ],
            [
             0.7,
             "#b8e186"
            ],
            [
             0.8,
             "#7fbc41"
            ],
            [
             0.9,
             "#4d9221"
            ],
            [
             1,
             "#276419"
            ]
           ],
           "sequential": [
            [
             0,
             "#0d0887"
            ],
            [
             0.1111111111111111,
             "#46039f"
            ],
            [
             0.2222222222222222,
             "#7201a8"
            ],
            [
             0.3333333333333333,
             "#9c179e"
            ],
            [
             0.4444444444444444,
             "#bd3786"
            ],
            [
             0.5555555555555556,
             "#d8576b"
            ],
            [
             0.6666666666666666,
             "#ed7953"
            ],
            [
             0.7777777777777778,
             "#fb9f3a"
            ],
            [
             0.8888888888888888,
             "#fdca26"
            ],
            [
             1,
             "#f0f921"
            ]
           ],
           "sequentialminus": [
            [
             0,
             "#0d0887"
            ],
            [
             0.1111111111111111,
             "#46039f"
            ],
            [
             0.2222222222222222,
             "#7201a8"
            ],
            [
             0.3333333333333333,
             "#9c179e"
            ],
            [
             0.4444444444444444,
             "#bd3786"
            ],
            [
             0.5555555555555556,
             "#d8576b"
            ],
            [
             0.6666666666666666,
             "#ed7953"
            ],
            [
             0.7777777777777778,
             "#fb9f3a"
            ],
            [
             0.8888888888888888,
             "#fdca26"
            ],
            [
             1,
             "#f0f921"
            ]
           ]
          },
          "colorway": [
           "#636efa",
           "#EF553B",
           "#00cc96",
           "#ab63fa",
           "#FFA15A",
           "#19d3f3",
           "#FF6692",
           "#B6E880",
           "#FF97FF",
           "#FECB52"
          ],
          "font": {
           "color": "#2a3f5f"
          },
          "geo": {
           "bgcolor": "white",
           "lakecolor": "white",
           "landcolor": "#E5ECF6",
           "showlakes": true,
           "showland": true,
           "subunitcolor": "white"
          },
          "hoverlabel": {
           "align": "left"
          },
          "hovermode": "closest",
          "mapbox": {
           "style": "light"
          },
          "paper_bgcolor": "white",
          "plot_bgcolor": "#E5ECF6",
          "polar": {
           "angularaxis": {
            "gridcolor": "white",
            "linecolor": "white",
            "ticks": ""
           },
           "bgcolor": "#E5ECF6",
           "radialaxis": {
            "gridcolor": "white",
            "linecolor": "white",
            "ticks": ""
           }
          },
          "scene": {
           "xaxis": {
            "backgroundcolor": "#E5ECF6",
            "gridcolor": "white",
            "gridwidth": 2,
            "linecolor": "white",
            "showbackground": true,
            "ticks": "",
            "zerolinecolor": "white"
           },
           "yaxis": {
            "backgroundcolor": "#E5ECF6",
            "gridcolor": "white",
            "gridwidth": 2,
            "linecolor": "white",
            "showbackground": true,
            "ticks": "",
            "zerolinecolor": "white"
           },
           "zaxis": {
            "backgroundcolor": "#E5ECF6",
            "gridcolor": "white",
            "gridwidth": 2,
            "linecolor": "white",
            "showbackground": true,
            "ticks": "",
            "zerolinecolor": "white"
           }
          },
          "shapedefaults": {
           "line": {
            "color": "#2a3f5f"
           }
          },
          "ternary": {
           "aaxis": {
            "gridcolor": "white",
            "linecolor": "white",
            "ticks": ""
           },
           "baxis": {
            "gridcolor": "white",
            "linecolor": "white",
            "ticks": ""
           },
           "bgcolor": "#E5ECF6",
           "caxis": {
            "gridcolor": "white",
            "linecolor": "white",
            "ticks": ""
           }
          },
          "title": {
           "x": 0.05
          },
          "xaxis": {
           "automargin": true,
           "gridcolor": "white",
           "linecolor": "white",
           "ticks": "",
           "title": {
            "standoff": 15
           },
           "zerolinecolor": "white",
           "zerolinewidth": 2
          },
          "yaxis": {
           "automargin": true,
           "gridcolor": "white",
           "linecolor": "white",
           "ticks": "",
           "title": {
            "standoff": 15
           },
           "zerolinecolor": "white",
           "zerolinewidth": 2
          }
         }
        }
       }
      }
     },
     "metadata": {},
     "output_type": "display_data"
    }
   ],
   "source": [
    "fig = go.Figure()\n",
    "df_pred =pd.DataFrame(index=y_test_filtered2.index)\n",
    "fig.add_trace(go.Scatter(x = y_test_filtered2.index,y=y_test_filtered2['price actual']))\n",
    "for i in range(len(data_x_test)):\n",
    "    case_test = data_x_test[i].reshape((1,data_x_test[0].shape[0], data_x_test[0].shape[1]))\n",
    "    Y_test_predictions = pd.Series(model_best_MS_LSTM.predict(case_test).flatten(),index=pd.date_range(start=idx_test[i],freq='h',periods=24))\n",
    "    df_pred[f'pred_{i}'] = Y_test_predictions\n",
    "    fig.add_trace(go.Scatter(x = Y_test_predictions.index,y=Y_test_predictions,mode='markers'))\n",
    "\n",
    "df_pred['mean'] = df_pred.mean(axis=1)\n",
    "df_pred['median'] = df_pred.median(axis=1)\n",
    "fig.add_trace(go.Scatter(x = y_test_filtered2.index,y=df_pred['mean']))\n",
    "fig.add_trace(go.Scatter(x = y_test_filtered2.index,y=df_pred['median']))\n",
    "fig.show()\n",
    "eval_df2  =create_eval_df(df_pred['mean'],y_test_filtered2)"
   ]
  },
  {
   "cell_type": "markdown",
   "metadata": {},
   "source": []
  },
  {
   "cell_type": "code",
   "execution_count": 34,
   "metadata": {},
   "outputs": [
    {
     "name": "stdout",
     "output_type": "stream",
     "text": [
      "R^2 score is  -0.13\n"
     ]
    }
   ],
   "source": [
    "#Calculating R2 value:\n",
    "r2_test = r2_score(y_test_filtered2[:-1],df_pred['mean'][:-1])\n",
    "print('R^2 score is  %3.2f' %r2_test)"
   ]
  },
  {
   "cell_type": "code",
   "execution_count": null,
   "metadata": {},
   "outputs": [],
   "source": []
  }
 ],
 "metadata": {
  "interpreter": {
   "hash": "39d1545a961fb91480a52a0b6f0ba22788119e75d6e41681ee81894caf37680e"
  },
  "kernelspec": {
   "display_name": "Python 3",
   "language": "python",
   "name": "python3"
  },
  "language_info": {
   "codemirror_mode": {
    "name": "ipython",
    "version": 3
   },
   "file_extension": ".py",
   "mimetype": "text/x-python",
   "name": "python",
   "nbconvert_exporter": "python",
   "pygments_lexer": "ipython3",
   "version": "3.9.4"
  }
 },
 "nbformat": 4,
 "nbformat_minor": 2
}
