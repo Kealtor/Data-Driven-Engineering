{
 "cells": [
  {
   "cell_type": "code",
   "execution_count": 1,
   "metadata": {},
   "outputs": [],
   "source": [
    "import numpy as np\n",
    "import pandas as pd\n",
    "from datetime import date\n",
    "import plotly.express as px\n",
    "import plotly.graph_objects as go\n",
    "import math\n",
    "import matplotlib.pyplot as plt\n",
    "from sklearn import preprocessing as pp\n",
    "import matplotlib as mpl\n",
    "from sklearn.decomposition import PCA\n",
    "from pandas.plotting import lag_plot, autocorrelation_plot\n",
    "from statsmodels.graphics.tsaplots import plot_acf, plot_pacf \n",
    "import statsmodels.api as smw\n",
    "from datetime import timedelta\n",
    "from statsmodels.tsa.statespace.sarimax import SARIMAX\n",
    "from sklearn.svm import SVR\n",
    "from sklearn.metrics import r2_score\n",
    "# ML Algorithms to be used\n",
    "import tensorflow as tf\n",
    "from tensorflow import keras\n",
    "from keras import optimizers, models, layers, regularizers\n",
    "tf.__version__\n",
    "from utils.dde_preprocessing_utils import (set_timestamp_index,\n",
    "remove_duplicates,\n",
    "remove_columns,\n",
    "extract_correlations,\n",
    "prepare_data_sarimax,\n",
    "create_test_train_split,\n",
    "create_sarimax_test_train_split,\n",
    "create_eval_df,\n",
    "convert_to_sample_time_feature)\n",
    "from utils.dde_plotting_utils import(\n",
    "display_double_timestamps,\n",
    "display_seasonal_decomposition,\n",
    "plot_predictions,\n",
    "plot_accuracy,\n",
    "plot_error_variations,\n",
    "plot_learning_curves,\n",
    ")\n",
    "%load_ext skip_kernel_extension"
   ]
  },
  {
   "cell_type": "code",
   "execution_count": 2,
   "metadata": {},
   "outputs": [],
   "source": [
    "config = tf.compat.v1.ConfigProto(gpu_options=tf.compat.v1.GPUOptions(per_process_gpu_memory_fraction=0.8))\n",
    "config.gpu_options.allow_growth = True\n",
    "session = tf.compat.v1.Session(config=config)\n",
    "tf.compat.v1.keras.backend.set_session(session)\n",
    "mpl.rcParams['figure.figsize'] = [8.0, 8.0]"
   ]
  },
  {
   "cell_type": "code",
   "execution_count": 3,
   "metadata": {},
   "outputs": [],
   "source": [
    "SKIP_RETRAIN_RNN = False"
   ]
  },
  {
   "cell_type": "markdown",
   "metadata": {},
   "source": [
    "## Loading Data"
   ]
  },
  {
   "cell_type": "code",
   "execution_count": 4,
   "metadata": {},
   "outputs": [],
   "source": [
    "combined_df = pd.read_csv(\"preprocessed_data.csv\")\n",
    "combined_df = set_timestamp_index(combined_df,\"Unnamed: 0\")"
   ]
  },
  {
   "cell_type": "code",
   "execution_count": 5,
   "metadata": {},
   "outputs": [
    {
     "data": {
      "text/html": [
       "<div>\n",
       "<style scoped>\n",
       "    .dataframe tbody tr th:only-of-type {\n",
       "        vertical-align: middle;\n",
       "    }\n",
       "\n",
       "    .dataframe tbody tr th {\n",
       "        vertical-align: top;\n",
       "    }\n",
       "\n",
       "    .dataframe thead th {\n",
       "        text-align: right;\n",
       "    }\n",
       "</style>\n",
       "<table border=\"1\" class=\"dataframe\">\n",
       "  <thead>\n",
       "    <tr style=\"text-align: right;\">\n",
       "      <th></th>\n",
       "      <th>temp</th>\n",
       "      <th>pressure</th>\n",
       "      <th>humidity</th>\n",
       "      <th>wind_speed</th>\n",
       "      <th>wind_deg</th>\n",
       "      <th>generation biomass</th>\n",
       "      <th>generation fossil brown coal/lignite</th>\n",
       "      <th>generation fossil gas</th>\n",
       "      <th>generation fossil hard coal</th>\n",
       "      <th>generation fossil oil</th>\n",
       "      <th>...</th>\n",
       "      <th>generation solar</th>\n",
       "      <th>generation waste</th>\n",
       "      <th>generation wind onshore</th>\n",
       "      <th>total load actual</th>\n",
       "      <th>price actual</th>\n",
       "      <th>generation</th>\n",
       "      <th>energy_difference</th>\n",
       "      <th>month</th>\n",
       "      <th>day</th>\n",
       "      <th>weekend</th>\n",
       "    </tr>\n",
       "  </thead>\n",
       "  <tbody>\n",
       "    <tr>\n",
       "      <th>2015-01-01 00:00:00+01:00</th>\n",
       "      <td>-2.675</td>\n",
       "      <td>1001.0</td>\n",
       "      <td>77</td>\n",
       "      <td>1.0</td>\n",
       "      <td>62</td>\n",
       "      <td>447.0</td>\n",
       "      <td>329.0</td>\n",
       "      <td>4844.0</td>\n",
       "      <td>4821.0</td>\n",
       "      <td>162.0</td>\n",
       "      <td>...</td>\n",
       "      <td>49.0</td>\n",
       "      <td>196.0</td>\n",
       "      <td>6378.0</td>\n",
       "      <td>25385.0</td>\n",
       "      <td>65.41</td>\n",
       "      <td>28251.0</td>\n",
       "      <td>2866.0</td>\n",
       "      <td>1</td>\n",
       "      <td>1</td>\n",
       "      <td>0</td>\n",
       "    </tr>\n",
       "    <tr>\n",
       "      <th>2015-01-01 01:00:00+01:00</th>\n",
       "      <td>-2.675</td>\n",
       "      <td>1001.0</td>\n",
       "      <td>77</td>\n",
       "      <td>1.0</td>\n",
       "      <td>62</td>\n",
       "      <td>449.0</td>\n",
       "      <td>328.0</td>\n",
       "      <td>5196.0</td>\n",
       "      <td>4755.0</td>\n",
       "      <td>158.0</td>\n",
       "      <td>...</td>\n",
       "      <td>50.0</td>\n",
       "      <td>195.0</td>\n",
       "      <td>5890.0</td>\n",
       "      <td>24382.0</td>\n",
       "      <td>64.92</td>\n",
       "      <td>27818.0</td>\n",
       "      <td>3436.0</td>\n",
       "      <td>1</td>\n",
       "      <td>1</td>\n",
       "      <td>0</td>\n",
       "    </tr>\n",
       "    <tr>\n",
       "      <th>2015-01-01 02:00:00+01:00</th>\n",
       "      <td>-3.464</td>\n",
       "      <td>1002.0</td>\n",
       "      <td>78</td>\n",
       "      <td>0.0</td>\n",
       "      <td>23</td>\n",
       "      <td>448.0</td>\n",
       "      <td>323.0</td>\n",
       "      <td>4857.0</td>\n",
       "      <td>4581.0</td>\n",
       "      <td>157.0</td>\n",
       "      <td>...</td>\n",
       "      <td>50.0</td>\n",
       "      <td>196.0</td>\n",
       "      <td>5461.0</td>\n",
       "      <td>22734.0</td>\n",
       "      <td>64.48</td>\n",
       "      <td>26796.0</td>\n",
       "      <td>4062.0</td>\n",
       "      <td>1</td>\n",
       "      <td>1</td>\n",
       "      <td>0</td>\n",
       "    </tr>\n",
       "    <tr>\n",
       "      <th>2015-01-01 03:00:00+01:00</th>\n",
       "      <td>-3.464</td>\n",
       "      <td>1002.0</td>\n",
       "      <td>78</td>\n",
       "      <td>0.0</td>\n",
       "      <td>23</td>\n",
       "      <td>438.0</td>\n",
       "      <td>254.0</td>\n",
       "      <td>4314.0</td>\n",
       "      <td>4131.0</td>\n",
       "      <td>160.0</td>\n",
       "      <td>...</td>\n",
       "      <td>50.0</td>\n",
       "      <td>191.0</td>\n",
       "      <td>5238.0</td>\n",
       "      <td>21286.0</td>\n",
       "      <td>59.32</td>\n",
       "      <td>25223.0</td>\n",
       "      <td>3937.0</td>\n",
       "      <td>1</td>\n",
       "      <td>1</td>\n",
       "      <td>0</td>\n",
       "    </tr>\n",
       "    <tr>\n",
       "      <th>2015-01-01 04:00:00+01:00</th>\n",
       "      <td>-3.464</td>\n",
       "      <td>1002.0</td>\n",
       "      <td>78</td>\n",
       "      <td>0.0</td>\n",
       "      <td>23</td>\n",
       "      <td>428.0</td>\n",
       "      <td>187.0</td>\n",
       "      <td>4130.0</td>\n",
       "      <td>3840.0</td>\n",
       "      <td>156.0</td>\n",
       "      <td>...</td>\n",
       "      <td>42.0</td>\n",
       "      <td>189.0</td>\n",
       "      <td>4935.0</td>\n",
       "      <td>20264.0</td>\n",
       "      <td>56.04</td>\n",
       "      <td>24620.0</td>\n",
       "      <td>4356.0</td>\n",
       "      <td>1</td>\n",
       "      <td>1</td>\n",
       "      <td>0</td>\n",
       "    </tr>\n",
       "    <tr>\n",
       "      <th>...</th>\n",
       "      <td>...</td>\n",
       "      <td>...</td>\n",
       "      <td>...</td>\n",
       "      <td>...</td>\n",
       "      <td>...</td>\n",
       "      <td>...</td>\n",
       "      <td>...</td>\n",
       "      <td>...</td>\n",
       "      <td>...</td>\n",
       "      <td>...</td>\n",
       "      <td>...</td>\n",
       "      <td>...</td>\n",
       "      <td>...</td>\n",
       "      <td>...</td>\n",
       "      <td>...</td>\n",
       "      <td>...</td>\n",
       "      <td>...</td>\n",
       "      <td>...</td>\n",
       "      <td>...</td>\n",
       "      <td>...</td>\n",
       "      <td>...</td>\n",
       "    </tr>\n",
       "    <tr>\n",
       "      <th>2018-12-31 19:00:00+01:00</th>\n",
       "      <td>12.490</td>\n",
       "      <td>1028.0</td>\n",
       "      <td>62</td>\n",
       "      <td>2.0</td>\n",
       "      <td>140</td>\n",
       "      <td>297.0</td>\n",
       "      <td>0.0</td>\n",
       "      <td>7634.0</td>\n",
       "      <td>2628.0</td>\n",
       "      <td>178.0</td>\n",
       "      <td>...</td>\n",
       "      <td>85.0</td>\n",
       "      <td>277.0</td>\n",
       "      <td>3113.0</td>\n",
       "      <td>30653.0</td>\n",
       "      <td>77.02</td>\n",
       "      <td>26415.0</td>\n",
       "      <td>-4238.0</td>\n",
       "      <td>12</td>\n",
       "      <td>31</td>\n",
       "      <td>0</td>\n",
       "    </tr>\n",
       "    <tr>\n",
       "      <th>2018-12-31 20:00:00+01:00</th>\n",
       "      <td>9.990</td>\n",
       "      <td>1029.0</td>\n",
       "      <td>71</td>\n",
       "      <td>1.0</td>\n",
       "      <td>242</td>\n",
       "      <td>296.0</td>\n",
       "      <td>0.0</td>\n",
       "      <td>7241.0</td>\n",
       "      <td>2566.0</td>\n",
       "      <td>174.0</td>\n",
       "      <td>...</td>\n",
       "      <td>33.0</td>\n",
       "      <td>280.0</td>\n",
       "      <td>3288.0</td>\n",
       "      <td>29735.0</td>\n",
       "      <td>76.16</td>\n",
       "      <td>25213.0</td>\n",
       "      <td>-4522.0</td>\n",
       "      <td>12</td>\n",
       "      <td>31</td>\n",
       "      <td>0</td>\n",
       "    </tr>\n",
       "    <tr>\n",
       "      <th>2018-12-31 21:00:00+01:00</th>\n",
       "      <td>8.510</td>\n",
       "      <td>1029.0</td>\n",
       "      <td>81</td>\n",
       "      <td>3.0</td>\n",
       "      <td>300</td>\n",
       "      <td>292.0</td>\n",
       "      <td>0.0</td>\n",
       "      <td>7025.0</td>\n",
       "      <td>2422.0</td>\n",
       "      <td>168.0</td>\n",
       "      <td>...</td>\n",
       "      <td>31.0</td>\n",
       "      <td>286.0</td>\n",
       "      <td>3503.0</td>\n",
       "      <td>28071.0</td>\n",
       "      <td>74.30</td>\n",
       "      <td>23987.0</td>\n",
       "      <td>-4084.0</td>\n",
       "      <td>12</td>\n",
       "      <td>31</td>\n",
       "      <td>0</td>\n",
       "    </tr>\n",
       "    <tr>\n",
       "      <th>2018-12-31 22:00:00+01:00</th>\n",
       "      <td>6.990</td>\n",
       "      <td>1029.0</td>\n",
       "      <td>81</td>\n",
       "      <td>2.0</td>\n",
       "      <td>310</td>\n",
       "      <td>293.0</td>\n",
       "      <td>0.0</td>\n",
       "      <td>6562.0</td>\n",
       "      <td>2293.0</td>\n",
       "      <td>163.0</td>\n",
       "      <td>...</td>\n",
       "      <td>31.0</td>\n",
       "      <td>287.0</td>\n",
       "      <td>3586.0</td>\n",
       "      <td>25801.0</td>\n",
       "      <td>69.89</td>\n",
       "      <td>22748.0</td>\n",
       "      <td>-3053.0</td>\n",
       "      <td>12</td>\n",
       "      <td>31</td>\n",
       "      <td>0</td>\n",
       "    </tr>\n",
       "    <tr>\n",
       "      <th>2018-12-31 23:00:00+01:00</th>\n",
       "      <td>5.990</td>\n",
       "      <td>1029.0</td>\n",
       "      <td>75</td>\n",
       "      <td>2.0</td>\n",
       "      <td>300</td>\n",
       "      <td>290.0</td>\n",
       "      <td>0.0</td>\n",
       "      <td>6926.0</td>\n",
       "      <td>2166.0</td>\n",
       "      <td>163.0</td>\n",
       "      <td>...</td>\n",
       "      <td>31.0</td>\n",
       "      <td>287.0</td>\n",
       "      <td>3651.0</td>\n",
       "      <td>24455.0</td>\n",
       "      <td>69.88</td>\n",
       "      <td>22605.0</td>\n",
       "      <td>-1850.0</td>\n",
       "      <td>12</td>\n",
       "      <td>31</td>\n",
       "      <td>0</td>\n",
       "    </tr>\n",
       "  </tbody>\n",
       "</table>\n",
       "<p>35064 rows × 26 columns</p>\n",
       "</div>"
      ],
      "text/plain": [
       "                             temp  pressure  humidity  wind_speed  wind_deg  \\\n",
       "2015-01-01 00:00:00+01:00  -2.675    1001.0        77         1.0        62   \n",
       "2015-01-01 01:00:00+01:00  -2.675    1001.0        77         1.0        62   \n",
       "2015-01-01 02:00:00+01:00  -3.464    1002.0        78         0.0        23   \n",
       "2015-01-01 03:00:00+01:00  -3.464    1002.0        78         0.0        23   \n",
       "2015-01-01 04:00:00+01:00  -3.464    1002.0        78         0.0        23   \n",
       "...                           ...       ...       ...         ...       ...   \n",
       "2018-12-31 19:00:00+01:00  12.490    1028.0        62         2.0       140   \n",
       "2018-12-31 20:00:00+01:00   9.990    1029.0        71         1.0       242   \n",
       "2018-12-31 21:00:00+01:00   8.510    1029.0        81         3.0       300   \n",
       "2018-12-31 22:00:00+01:00   6.990    1029.0        81         2.0       310   \n",
       "2018-12-31 23:00:00+01:00   5.990    1029.0        75         2.0       300   \n",
       "\n",
       "                           generation biomass  \\\n",
       "2015-01-01 00:00:00+01:00               447.0   \n",
       "2015-01-01 01:00:00+01:00               449.0   \n",
       "2015-01-01 02:00:00+01:00               448.0   \n",
       "2015-01-01 03:00:00+01:00               438.0   \n",
       "2015-01-01 04:00:00+01:00               428.0   \n",
       "...                                       ...   \n",
       "2018-12-31 19:00:00+01:00               297.0   \n",
       "2018-12-31 20:00:00+01:00               296.0   \n",
       "2018-12-31 21:00:00+01:00               292.0   \n",
       "2018-12-31 22:00:00+01:00               293.0   \n",
       "2018-12-31 23:00:00+01:00               290.0   \n",
       "\n",
       "                           generation fossil brown coal/lignite  \\\n",
       "2015-01-01 00:00:00+01:00                                 329.0   \n",
       "2015-01-01 01:00:00+01:00                                 328.0   \n",
       "2015-01-01 02:00:00+01:00                                 323.0   \n",
       "2015-01-01 03:00:00+01:00                                 254.0   \n",
       "2015-01-01 04:00:00+01:00                                 187.0   \n",
       "...                                                         ...   \n",
       "2018-12-31 19:00:00+01:00                                   0.0   \n",
       "2018-12-31 20:00:00+01:00                                   0.0   \n",
       "2018-12-31 21:00:00+01:00                                   0.0   \n",
       "2018-12-31 22:00:00+01:00                                   0.0   \n",
       "2018-12-31 23:00:00+01:00                                   0.0   \n",
       "\n",
       "                           generation fossil gas  generation fossil hard coal  \\\n",
       "2015-01-01 00:00:00+01:00                 4844.0                       4821.0   \n",
       "2015-01-01 01:00:00+01:00                 5196.0                       4755.0   \n",
       "2015-01-01 02:00:00+01:00                 4857.0                       4581.0   \n",
       "2015-01-01 03:00:00+01:00                 4314.0                       4131.0   \n",
       "2015-01-01 04:00:00+01:00                 4130.0                       3840.0   \n",
       "...                                          ...                          ...   \n",
       "2018-12-31 19:00:00+01:00                 7634.0                       2628.0   \n",
       "2018-12-31 20:00:00+01:00                 7241.0                       2566.0   \n",
       "2018-12-31 21:00:00+01:00                 7025.0                       2422.0   \n",
       "2018-12-31 22:00:00+01:00                 6562.0                       2293.0   \n",
       "2018-12-31 23:00:00+01:00                 6926.0                       2166.0   \n",
       "\n",
       "                           generation fossil oil  ...  generation solar  \\\n",
       "2015-01-01 00:00:00+01:00                  162.0  ...              49.0   \n",
       "2015-01-01 01:00:00+01:00                  158.0  ...              50.0   \n",
       "2015-01-01 02:00:00+01:00                  157.0  ...              50.0   \n",
       "2015-01-01 03:00:00+01:00                  160.0  ...              50.0   \n",
       "2015-01-01 04:00:00+01:00                  156.0  ...              42.0   \n",
       "...                                          ...  ...               ...   \n",
       "2018-12-31 19:00:00+01:00                  178.0  ...              85.0   \n",
       "2018-12-31 20:00:00+01:00                  174.0  ...              33.0   \n",
       "2018-12-31 21:00:00+01:00                  168.0  ...              31.0   \n",
       "2018-12-31 22:00:00+01:00                  163.0  ...              31.0   \n",
       "2018-12-31 23:00:00+01:00                  163.0  ...              31.0   \n",
       "\n",
       "                           generation waste  generation wind onshore  \\\n",
       "2015-01-01 00:00:00+01:00             196.0                   6378.0   \n",
       "2015-01-01 01:00:00+01:00             195.0                   5890.0   \n",
       "2015-01-01 02:00:00+01:00             196.0                   5461.0   \n",
       "2015-01-01 03:00:00+01:00             191.0                   5238.0   \n",
       "2015-01-01 04:00:00+01:00             189.0                   4935.0   \n",
       "...                                     ...                      ...   \n",
       "2018-12-31 19:00:00+01:00             277.0                   3113.0   \n",
       "2018-12-31 20:00:00+01:00             280.0                   3288.0   \n",
       "2018-12-31 21:00:00+01:00             286.0                   3503.0   \n",
       "2018-12-31 22:00:00+01:00             287.0                   3586.0   \n",
       "2018-12-31 23:00:00+01:00             287.0                   3651.0   \n",
       "\n",
       "                           total load actual  price actual  generation  \\\n",
       "2015-01-01 00:00:00+01:00            25385.0         65.41     28251.0   \n",
       "2015-01-01 01:00:00+01:00            24382.0         64.92     27818.0   \n",
       "2015-01-01 02:00:00+01:00            22734.0         64.48     26796.0   \n",
       "2015-01-01 03:00:00+01:00            21286.0         59.32     25223.0   \n",
       "2015-01-01 04:00:00+01:00            20264.0         56.04     24620.0   \n",
       "...                                      ...           ...         ...   \n",
       "2018-12-31 19:00:00+01:00            30653.0         77.02     26415.0   \n",
       "2018-12-31 20:00:00+01:00            29735.0         76.16     25213.0   \n",
       "2018-12-31 21:00:00+01:00            28071.0         74.30     23987.0   \n",
       "2018-12-31 22:00:00+01:00            25801.0         69.89     22748.0   \n",
       "2018-12-31 23:00:00+01:00            24455.0         69.88     22605.0   \n",
       "\n",
       "                           energy_difference  month  day  weekend  \n",
       "2015-01-01 00:00:00+01:00             2866.0      1    1        0  \n",
       "2015-01-01 01:00:00+01:00             3436.0      1    1        0  \n",
       "2015-01-01 02:00:00+01:00             4062.0      1    1        0  \n",
       "2015-01-01 03:00:00+01:00             3937.0      1    1        0  \n",
       "2015-01-01 04:00:00+01:00             4356.0      1    1        0  \n",
       "...                                      ...    ...  ...      ...  \n",
       "2018-12-31 19:00:00+01:00            -4238.0     12   31        0  \n",
       "2018-12-31 20:00:00+01:00            -4522.0     12   31        0  \n",
       "2018-12-31 21:00:00+01:00            -4084.0     12   31        0  \n",
       "2018-12-31 22:00:00+01:00            -3053.0     12   31        0  \n",
       "2018-12-31 23:00:00+01:00            -1850.0     12   31        0  \n",
       "\n",
       "[35064 rows x 26 columns]"
      ]
     },
     "execution_count": 5,
     "metadata": {},
     "output_type": "execute_result"
    }
   ],
   "source": [
    "combined_df"
   ]
  },
  {
   "cell_type": "markdown",
   "metadata": {},
   "source": [
    "# RNN"
   ]
  },
  {
   "cell_type": "markdown",
   "metadata": {},
   "source": [
    "Scale the input data"
   ]
  },
  {
   "cell_type": "code",
   "execution_count": 6,
   "metadata": {},
   "outputs": [],
   "source": [
    "scaled_df = combined_df.copy(deep=True)\n",
    "featuresToScale = scaled_df.columns\n",
    "sX = pp.StandardScaler(copy=True)\n",
    "scaled_df.loc[:,featuresToScale] = sX.fit_transform(scaled_df[featuresToScale])"
   ]
  },
  {
   "cell_type": "markdown",
   "metadata": {},
   "source": [
    "Create Train Validation Test Split"
   ]
  },
  {
   "cell_type": "code",
   "execution_count": 7,
   "metadata": {},
   "outputs": [],
   "source": [
    "train_start = '2015-01-01'\n",
    "validation_start = '2017-01-01'\n",
    "test_start = '2017-03-01'\n",
    "test_end = '2017-03-06'\n",
    "feature = 'total load actual'\n",
    "namespace = \"RNN\"\n",
    "modeltype = \"RNN\"\n",
    "feature_df = combined_df[[feature]]\n",
    "data_x_train0,data_x_val0,data_x_test0,data_y_train0,data_y_val0,data_y_test0 = create_test_train_split(scaled_df,feature_df,train_start,test_start,test_end,validation_start=validation_start)"
   ]
  },
  {
   "cell_type": "markdown",
   "metadata": {},
   "source": [
    "Convert to (sample,timestep,feature) format"
   ]
  },
  {
   "cell_type": "code",
   "execution_count": 8,
   "metadata": {},
   "outputs": [],
   "source": [
    "data_x_train,data_y_train,idx_train = convert_to_sample_time_feature(data_x_train0,data_y_train0,24,1,32)\n",
    "data_x_test,data_y_test,idx_test = convert_to_sample_time_feature(data_x_test0,data_y_test0,24,1,32)\n",
    "data_x_val,data_y_val,idx_val = convert_to_sample_time_feature(data_x_val0,data_y_val0,24,1,32)"
   ]
  },
  {
   "cell_type": "code",
   "execution_count": 9,
   "metadata": {},
   "outputs": [
    {
     "name": "stdout",
     "output_type": "stream",
     "text": [
      "(17510, 24, 26) (17510, 1)\n",
      "(1382, 24, 26) (1382, 1)\n",
      "(70, 24, 26) (70, 1)\n"
     ]
    }
   ],
   "source": [
    "print(data_x_train.shape,data_y_train.shape)\n",
    "print(data_x_val.shape,data_y_val.shape)\n",
    "print(data_x_test.shape,data_y_test.shape)"
   ]
  },
  {
   "cell_type": "markdown",
   "metadata": {},
   "source": [
    "Define RNN Model"
   ]
  },
  {
   "cell_type": "code",
   "execution_count": 10,
   "metadata": {},
   "outputs": [],
   "source": [
    "def build_model_RNN(data_x_train,data_y_train):\n",
    "    n_timesteps, n_features, n_outputs = data_x_train.shape[1], data_x_train.shape[2], data_y_train.shape[1]\n",
    "    model = models.Sequential([\n",
    "    layers.SimpleRNN(32, return_sequences=True,input_shape=(None, n_features), stateful=False), \n",
    "    layers.BatchNormalization(),\n",
    "    layers.SimpleRNN(32, return_sequences=True, stateful=False),\n",
    "    layers.BatchNormalization(),\n",
    "    layers.SimpleRNN(32, stateful=False),\n",
    "    layers.BatchNormalization(),\n",
    "    layers.Dense(n_outputs)                     \n",
    "    ])\n",
    "    model.compile(optimizer='Adam',loss='mse',metrics='mae') \n",
    "    return model"
   ]
  },
  {
   "cell_type": "markdown",
   "metadata": {},
   "source": [
    "Define Callback functions"
   ]
  },
  {
   "cell_type": "code",
   "execution_count": 11,
   "metadata": {},
   "outputs": [],
   "source": [
    "myCheckpointRNN= keras.callbacks.ModelCheckpoint(f\"./{modeltype}/my_best_model_{namespace}.h5\", save_best_only=True)\n",
    "myEarly_stoppingRNN = keras.callbacks.EarlyStopping(patience=10,restore_best_weights=True)"
   ]
  },
  {
   "cell_type": "markdown",
   "metadata": {},
   "source": [
    "Hyperparameters"
   ]
  },
  {
   "cell_type": "code",
   "execution_count": 12,
   "metadata": {},
   "outputs": [],
   "source": [
    "num_epochs = 150\n",
    "batch_size = 32"
   ]
  },
  {
   "cell_type": "markdown",
   "metadata": {},
   "source": [
    "Training the Model"
   ]
  },
  {
   "cell_type": "code",
   "execution_count": 13,
   "metadata": {},
   "outputs": [
    {
     "name": "stdout",
     "output_type": "stream",
     "text": [
      "Epoch 1/150\n",
      "548/548 [==============================] - 30s 52ms/step - loss: 828877568.0000 - mae: 28433.3848 - val_loss: 905687040.0000 - val_mae: 29683.3867\n",
      "Epoch 2/150\n",
      "548/548 [==============================] - 27s 49ms/step - loss: 825617216.0000 - mae: 28387.1992 - val_loss: 899148032.0000 - val_mae: 29590.0605\n",
      "Epoch 3/150\n",
      "548/548 [==============================] - 27s 50ms/step - loss: 819686272.0000 - mae: 28299.4375 - val_loss: 889192640.0000 - val_mae: 29445.0996\n",
      "Epoch 4/150\n",
      "548/548 [==============================] - 27s 50ms/step - loss: 811531712.0000 - mae: 28176.2344 - val_loss: 876956352.0000 - val_mae: 29268.8359\n",
      "Epoch 5/150\n",
      "548/548 [==============================] - 28s 51ms/step - loss: 801521344.0000 - mae: 28022.3965 - val_loss: 862196928.0000 - val_mae: 29040.2422\n",
      "Epoch 6/150\n",
      "548/548 [==============================] - 27s 50ms/step - loss: 789905920.0000 - mae: 27841.6387 - val_loss: 847593984.0000 - val_mae: 28809.7070\n",
      "Epoch 7/150\n",
      "548/548 [==============================] - 27s 50ms/step - loss: 776959296.0000 - mae: 27635.8516 - val_loss: 831544384.0000 - val_mae: 28573.9219\n",
      "Epoch 8/150\n",
      "548/548 [==============================] - 27s 50ms/step - loss: 762750720.0000 - mae: 27406.9609 - val_loss: 810762816.0000 - val_mae: 28237.3770\n",
      "Epoch 9/150\n",
      "548/548 [==============================] - 28s 50ms/step - loss: 747491968.0000 - mae: 27156.2617 - val_loss: 791502528.0000 - val_mae: 27935.5898\n",
      "Epoch 10/150\n",
      "548/548 [==============================] - 28s 51ms/step - loss: 731224896.0000 - mae: 26883.8789 - val_loss: 765945344.0000 - val_mae: 27505.0938\n",
      "Epoch 11/150\n",
      "548/548 [==============================] - 27s 48ms/step - loss: 714141440.0000 - mae: 26591.3828 - val_loss: 742027008.0000 - val_mae: 27118.6719\n",
      "Epoch 12/150\n",
      "548/548 [==============================] - 26s 48ms/step - loss: 696223232.0000 - mae: 26278.6113 - val_loss: 719348672.0000 - val_mae: 26707.8145\n",
      "Epoch 13/150\n",
      "548/548 [==============================] - 27s 48ms/step - loss: 677672704.0000 - mae: 25945.9551 - val_loss: 694914944.0000 - val_mae: 26272.4609\n",
      "Epoch 14/150\n",
      "548/548 [==============================] - 26s 47ms/step - loss: 658486848.0000 - mae: 25594.1680 - val_loss: 672550976.0000 - val_mae: 25875.0020\n",
      "Epoch 15/150\n",
      "548/548 [==============================] - 25s 45ms/step - loss: 638791744.0000 - mae: 25223.1621 - val_loss: 649528320.0000 - val_mae: 25452.1191\n",
      "Epoch 16/150\n",
      "548/548 [==============================] - 24s 43ms/step - loss: 618661056.0000 - mae: 24832.9043 - val_loss: 619100736.0000 - val_mae: 24859.7656\n",
      "Epoch 17/150\n",
      "548/548 [==============================] - 24s 44ms/step - loss: 598035904.0000 - mae: 24424.4277 - val_loss: 594563008.0000 - val_mae: 24368.3008\n",
      "Epoch 18/150\n",
      "548/548 [==============================] - 24s 44ms/step - loss: 577145344.0000 - mae: 23997.0645 - val_loss: 577784896.0000 - val_mae: 24022.0234\n",
      "Epoch 19/150\n",
      "548/548 [==============================] - 24s 44ms/step - loss: 555888832.0000 - mae: 23551.1211 - val_loss: 549514240.0000 - val_mae: 23429.2051\n",
      "Epoch 20/150\n",
      "548/548 [==============================] - 24s 44ms/step - loss: 534154144.0000 - mae: 23085.4746 - val_loss: 533055232.0000 - val_mae: 23074.0020\n",
      "Epoch 21/150\n",
      "548/548 [==============================] - 24s 44ms/step - loss: 511990368.0000 - mae: 22600.2305 - val_loss: 498498080.0000 - val_mae: 22315.2031\n",
      "Epoch 22/150\n",
      "548/548 [==============================] - 24s 44ms/step - loss: 489404064.0000 - mae: 22096.6289 - val_loss: 475531488.0000 - val_mae: 21794.8848\n",
      "Epoch 23/150\n",
      "548/548 [==============================] - 25s 45ms/step - loss: 466588992.0000 - mae: 21575.3789 - val_loss: 461829824.0000 - val_mae: 21479.1992\n",
      "Epoch 24/150\n",
      "548/548 [==============================] - 23s 42ms/step - loss: 443552448.0000 - mae: 21035.5254 - val_loss: 432702624.0000 - val_mae: 20789.2617\n",
      "Epoch 25/150\n",
      "548/548 [==============================] - 24s 44ms/step - loss: 420473472.0000 - mae: 20478.7031 - val_loss: 418991552.0000 - val_mae: 20456.7461\n",
      "Epoch 26/150\n",
      "548/548 [==============================] - 24s 44ms/step - loss: 397206304.0000 - mae: 19904.1309 - val_loss: 391403008.0000 - val_mae: 19768.0820\n",
      "Epoch 27/150\n",
      "548/548 [==============================] - 23s 42ms/step - loss: 374031872.0000 - mae: 19312.9180 - val_loss: 359711232.0000 - val_mae: 18953.7188\n",
      "Epoch 28/150\n",
      "548/548 [==============================] - 28s 52ms/step - loss: 350908768.0000 - mae: 18705.2617 - val_loss: 342614304.0000 - val_mae: 18496.7324\n",
      "Epoch 29/150\n",
      "548/548 [==============================] - 26s 48ms/step - loss: 327917088.0000 - mae: 18080.7891 - val_loss: 316580224.0000 - val_mae: 17780.2051\n",
      "Epoch 30/150\n",
      "548/548 [==============================] - 27s 49ms/step - loss: 305223584.0000 - mae: 17441.9844 - val_loss: 295679616.0000 - val_mae: 17183.2949\n",
      "Epoch 31/150\n",
      "548/548 [==============================] - 28s 50ms/step - loss: 282806272.0000 - mae: 16786.5586 - val_loss: 272331232.0000 - val_mae: 16489.6113\n",
      "Epoch 32/150\n",
      "548/548 [==============================] - 27s 49ms/step - loss: 260779648.0000 - mae: 16116.9199 - val_loss: 253331184.0000 - val_mae: 15902.1289\n",
      "Epoch 33/150\n",
      "548/548 [==============================] - 26s 47ms/step - loss: 239142912.0000 - mae: 15432.5801 - val_loss: 228050704.0000 - val_mae: 15088.2500\n",
      "Epoch 34/150\n",
      "548/548 [==============================] - 26s 47ms/step - loss: 218098496.0000 - mae: 14734.4043 - val_loss: 211368000.0000 - val_mae: 14524.6357\n",
      "Epoch 35/150\n",
      "548/548 [==============================] - 26s 48ms/step - loss: 197637776.0000 - mae: 14023.3184 - val_loss: 192862912.0000 - val_mae: 13869.2305\n",
      "Epoch 36/150\n",
      "548/548 [==============================] - 27s 49ms/step - loss: 177914000.0000 - mae: 13298.7734 - val_loss: 172239280.0000 - val_mae: 13105.9971\n",
      "Epoch 37/150\n",
      "548/548 [==============================] - 26s 47ms/step - loss: 158824848.0000 - mae: 12564.3574 - val_loss: 155663072.0000 - val_mae: 12460.9736\n",
      "Epoch 38/150\n",
      "548/548 [==============================] - 26s 47ms/step - loss: 140611856.0000 - mae: 11817.3682 - val_loss: 136695488.0000 - val_mae: 11674.9590\n",
      "Epoch 39/150\n",
      "548/548 [==============================] - 26s 48ms/step - loss: 123311824.0000 - mae: 11062.8701 - val_loss: 116493760.0000 - val_mae: 10775.4707\n",
      "Epoch 40/150\n",
      "548/548 [==============================] - 27s 50ms/step - loss: 106961232.0000 - mae: 10298.0020 - val_loss: 98361672.0000 - val_mae: 9893.9727\n",
      "Epoch 41/150\n",
      "548/548 [==============================] - 28s 51ms/step - loss: 91710968.0000 - mae: 9525.5996 - val_loss: 81978264.0000 - val_mae: 9027.8018\n",
      "Epoch 42/150\n",
      "548/548 [==============================] - 26s 48ms/step - loss: 77521016.0000 - mae: 8750.2930 - val_loss: 70885072.0000 - val_mae: 8395.6738\n",
      "Epoch 43/150\n",
      "548/548 [==============================] - 27s 49ms/step - loss: 64538984.0000 - mae: 7971.5171 - val_loss: 59079340.0000 - val_mae: 7663.4370\n",
      "Epoch 44/150\n",
      "548/548 [==============================] - 26s 47ms/step - loss: 52695280.0000 - mae: 7190.7007 - val_loss: 46908884.0000 - val_mae: 6822.2930\n",
      "Epoch 45/150\n",
      "548/548 [==============================] - 26s 48ms/step - loss: 42131240.0000 - mae: 6414.4600 - val_loss: 36038192.0000 - val_mae: 5974.5864\n",
      "Epoch 46/150\n",
      "548/548 [==============================] - 27s 48ms/step - loss: 32805064.0000 - mae: 5642.4019 - val_loss: 28887300.0000 - val_mae: 5338.1260\n",
      "Epoch 47/150\n",
      "548/548 [==============================] - 26s 48ms/step - loss: 24807466.0000 - mae: 4884.6616 - val_loss: 20535070.0000 - val_mae: 4483.8765\n",
      "Epoch 48/150\n",
      "548/548 [==============================] - 27s 49ms/step - loss: 18123454.0000 - mae: 4144.0249 - val_loss: 15002944.0000 - val_mae: 3822.0051\n",
      "Epoch 49/150\n",
      "548/548 [==============================] - 27s 49ms/step - loss: 12624133.0000 - mae: 3427.3650 - val_loss: 9320952.0000 - val_mae: 2992.6155\n",
      "Epoch 50/150\n",
      "548/548 [==============================] - 26s 48ms/step - loss: 8426002.0000 - mae: 2746.1541 - val_loss: 5824774.5000 - val_mae: 2341.7939\n",
      "Epoch 51/150\n",
      "548/548 [==============================] - 26s 48ms/step - loss: 5342799.0000 - mae: 2124.1167 - val_loss: 4290498.5000 - val_mae: 1988.0469\n",
      "Epoch 52/150\n",
      "548/548 [==============================] - 26s 48ms/step - loss: 3250213.7500 - mae: 1572.6261 - val_loss: 1874729.5000 - val_mae: 1250.7074\n",
      "Epoch 53/150\n",
      "548/548 [==============================] - 27s 50ms/step - loss: 1995406.2500 - mae: 1179.4800 - val_loss: 1122373.7500 - val_mae: 901.4103\n",
      "Epoch 54/150\n",
      "548/548 [==============================] - 26s 48ms/step - loss: 1271106.7500 - mae: 900.1522 - val_loss: 698113.8750 - val_mae: 655.4945\n",
      "Epoch 55/150\n",
      "548/548 [==============================] - 27s 50ms/step - loss: 1015437.6875 - mae: 803.3503 - val_loss: 481199.2500 - val_mae: 496.9796\n",
      "Epoch 56/150\n",
      "548/548 [==============================] - 26s 48ms/step - loss: 926942.3750 - mae: 757.4567 - val_loss: 389386.5938 - val_mae: 440.1994\n",
      "Epoch 57/150\n",
      "548/548 [==============================] - 27s 49ms/step - loss: 881619.6250 - mae: 742.9753 - val_loss: 347050.6250 - val_mae: 402.7383\n",
      "Epoch 58/150\n",
      "548/548 [==============================] - 26s 48ms/step - loss: 851188.1875 - mae: 720.2553 - val_loss: 377989.0938 - val_mae: 413.7579\n",
      "Epoch 59/150\n",
      "548/548 [==============================] - 26s 47ms/step - loss: 826375.1250 - mae: 710.5673 - val_loss: 348802.7188 - val_mae: 397.0443\n",
      "Epoch 60/150\n",
      "548/548 [==============================] - 27s 49ms/step - loss: 824793.5000 - mae: 713.4116 - val_loss: 375535.4688 - val_mae: 429.7909\n",
      "Epoch 61/150\n",
      "548/548 [==============================] - 27s 49ms/step - loss: 883977.0625 - mae: 739.8801 - val_loss: 371413.1250 - val_mae: 429.1169\n",
      "Epoch 62/150\n",
      "548/548 [==============================] - 27s 49ms/step - loss: 925874.8125 - mae: 738.8485 - val_loss: 374425.5938 - val_mae: 412.5736\n",
      "Epoch 63/150\n",
      "548/548 [==============================] - 27s 50ms/step - loss: 844109.5625 - mae: 713.1518 - val_loss: 386718.5312 - val_mae: 421.6122\n",
      "Epoch 64/150\n",
      "548/548 [==============================] - 27s 48ms/step - loss: 839313.8750 - mae: 709.5138 - val_loss: 371896.7812 - val_mae: 412.8753\n",
      "Epoch 65/150\n",
      "548/548 [==============================] - 27s 49ms/step - loss: 809191.3750 - mae: 704.9578 - val_loss: 317396.0625 - val_mae: 388.2413\n",
      "Epoch 66/150\n",
      "548/548 [==============================] - 27s 50ms/step - loss: 804422.3125 - mae: 705.7689 - val_loss: 341981.3750 - val_mae: 396.8131\n",
      "Epoch 67/150\n",
      "548/548 [==============================] - 26s 48ms/step - loss: 971887.6250 - mae: 772.6362 - val_loss: 350959.1250 - val_mae: 409.2425\n",
      "Epoch 68/150\n",
      "548/548 [==============================] - 25s 47ms/step - loss: 836012.5625 - mae: 718.3676 - val_loss: 396333.6250 - val_mae: 446.0925\n",
      "Epoch 69/150\n",
      "548/548 [==============================] - 25s 46ms/step - loss: 795542.9375 - mae: 692.7059 - val_loss: 372969.4062 - val_mae: 421.7123\n",
      "Epoch 70/150\n",
      "548/548 [==============================] - 25s 46ms/step - loss: 849248.0000 - mae: 717.1751 - val_loss: 345479.4375 - val_mae: 406.3725\n",
      "Epoch 71/150\n",
      "548/548 [==============================] - 25s 46ms/step - loss: 784763.6875 - mae: 696.0486 - val_loss: 324976.4375 - val_mae: 393.7599\n",
      "Epoch 72/150\n",
      "548/548 [==============================] - 26s 48ms/step - loss: 824152.6250 - mae: 712.3688 - val_loss: 364419.7188 - val_mae: 418.9014\n",
      "Epoch 73/150\n",
      "548/548 [==============================] - 25s 45ms/step - loss: 857355.4375 - mae: 724.9706 - val_loss: 329747.3438 - val_mae: 396.5393\n",
      "Epoch 74/150\n",
      "548/548 [==============================] - 24s 44ms/step - loss: 847515.0625 - mae: 719.0148 - val_loss: 395781.8750 - val_mae: 440.0097\n",
      "Epoch 75/150\n",
      "548/548 [==============================] - 26s 47ms/step - loss: 875815.3125 - mae: 737.5922 - val_loss: 399346.0938 - val_mae: 441.9345\n"
     ]
    }
   ],
   "source": [
    "%%skip $SKIP_RETRAIN_RNN\n",
    "\n",
    "model_rnn = build_model_RNN(data_x_train,data_y_train)\n",
    "history_rnn = model_rnn.fit(data_x_train, data_y_train, epochs=num_epochs, batch_size=batch_size, validation_data=(data_x_val, data_y_val) , \n",
    "                                 callbacks=[myCheckpointRNN,myEarly_stoppingRNN])#, verbose=0)\n",
    "\n"
   ]
  },
  {
   "cell_type": "markdown",
   "metadata": {},
   "source": [
    "Evaluate the training process"
   ]
  },
  {
   "cell_type": "code",
   "execution_count": 14,
   "metadata": {
    "colab": {
     "base_uri": "https://localhost:8080/",
     "height": 159
    },
    "id": "0f_FwfmlHyAl",
    "outputId": "080474a2-3f61-42ca-95ef-7bc23f76c853"
   },
   "outputs": [],
   "source": [
    "%%skip $SKIP_RETRAIN_RNN\n",
    "\n",
    "histRNN = pd.DataFrame(history_rnn.history)\n",
    "histRNN['epoch'] = history_rnn.epoch"
   ]
  },
  {
   "cell_type": "code",
   "execution_count": 15,
   "metadata": {
    "colab": {
     "base_uri": "https://localhost:8080/",
     "height": 405
    },
    "id": "d2SviC32HyAr",
    "outputId": "512e600c-f7c8-46cd-9801-7387d6bf4f7f"
   },
   "outputs": [
    {
     "data": {
      "image/png": "[encoded data removed]",
      "text/plain": [
       "<Figure size 576x576 with 1 Axes>"
      ]
     },
     "metadata": {
      "needs_background": "light"
     },
     "output_type": "display_data"
    }
   ],
   "source": [
    "%%skip $SKIP_RETRAIN_RNN\n",
    "\n",
    "fig = plot_learning_curves(histRNN,modeltype,f\"./{modeltype}/learningcurve_{namespace}.png\")"
   ]
  },
  {
   "cell_type": "markdown",
   "metadata": {},
   "source": [
    "Load best model"
   ]
  },
  {
   "cell_type": "code",
   "execution_count": 16,
   "metadata": {},
   "outputs": [
    {
     "name": "stdout",
     "output_type": "stream",
     "text": [
      "Model: \"sequential\"\n",
      "_________________________________________________________________\n",
      "Layer (type)                 Output Shape              Param #   \n",
      "=================================================================\n",
      "simple_rnn (SimpleRNN)       (None, None, 32)          1888      \n",
      "_________________________________________________________________\n",
      "batch_normalization (BatchNo (None, None, 32)          128       \n",
      "_________________________________________________________________\n",
      "simple_rnn_1 (SimpleRNN)     (None, None, 32)          2080      \n",
      "_________________________________________________________________\n",
      "batch_normalization_1 (Batch (None, None, 32)          128       \n",
      "_________________________________________________________________\n",
      "simple_rnn_2 (SimpleRNN)     (None, 32)                2080      \n",
      "_________________________________________________________________\n",
      "batch_normalization_2 (Batch (None, 32)                128       \n",
      "_________________________________________________________________\n",
      "dense (Dense)                (None, 1)                 33        \n",
      "=================================================================\n",
      "Total params: 6,465\n",
      "Trainable params: 6,273\n",
      "Non-trainable params: 192\n",
      "_________________________________________________________________\n"
     ]
    }
   ],
   "source": [
    "model_best_RNN = keras.models.load_model(f\"./{modeltype}/my_best_model_{namespace}.h5\")\n",
    "model_best_RNN.summary()"
   ]
  },
  {
   "cell_type": "markdown",
   "metadata": {},
   "source": [
    "Evaluate predictions"
   ]
  },
  {
   "cell_type": "code",
   "execution_count": 17,
   "metadata": {
    "colab": {
     "base_uri": "https://localhost:8080/"
    },
    "id": "9uYdwycxdrO0",
    "outputId": "a8fcc94c-f612-4f97-f5fa-e55b79b33234"
   },
   "outputs": [],
   "source": [
    "y_test_filtered = data_y_test0.loc[idx_test]\n",
    "y_test_filtered = y_test_filtered.squeeze(axis=1)\n",
    "Y_test_predictions = pd.Series(model_best_RNN.predict(data_x_test).flatten(),index=y_test_filtered.index)"
   ]
  },
  {
   "cell_type": "code",
   "execution_count": 18,
   "metadata": {},
   "outputs": [],
   "source": [
    "eval_df = create_eval_df(Y_test_predictions,y_test_filtered)"
   ]
  },
  {
   "cell_type": "code",
   "execution_count": 19,
   "metadata": {
    "colab": {
     "base_uri": "https://localhost:8080/",
     "height": 426
    },
    "id": "5X3Hs_GtHyAs",
    "outputId": "7281486a-4a6c-492c-e48f-37fa6e7d7c25"
   },
   "outputs": [
    {
     "data": {
      "image/png": "[encoded data removed]",
      "text/plain": [
       "<Figure size 576x576 with 1 Axes>"
      ]
     },
     "metadata": {
      "needs_background": "light"
     },
     "output_type": "display_data"
    }
   ],
   "source": [
    "fig = plot_accuracy( eval_df,modeltype,f\"./{modeltype}/accuracy_{namespace}.png\" )"
   ]
  },
  {
   "cell_type": "code",
   "execution_count": 20,
   "metadata": {
    "colab": {
     "base_uri": "https://localhost:8080/",
     "height": 422
    },
    "id": "olr-44nOHyAt",
    "outputId": "ac65b698-1f77-4a62-87cf-c99f30d4d246"
   },
   "outputs": [
    {
     "data": {
      "image/png": "[encoded data removed]",
      "text/plain": [
       "<Figure size 576x576 with 1 Axes>"
      ]
     },
     "metadata": {
      "needs_background": "light"
     },
     "output_type": "display_data"
    }
   ],
   "source": [
    "fig = plot_error_variations(eval_df,modeltype,f\"./{modeltype}/error_variations_{namespace}.png\")"
   ]
  },
  {
   "cell_type": "code",
   "execution_count": 21,
   "metadata": {
    "colab": {
     "base_uri": "https://localhost:8080/"
    },
    "id": "-HSnhihhHyAt",
    "outputId": "b45d472e-df1f-4ab2-97ba-6318127d0d9e"
   },
   "outputs": [
    {
     "data": {
      "text/plain": [
       "1.4485005601905898"
      ]
     },
     "execution_count": 21,
     "metadata": {},
     "output_type": "execute_result"
    }
   ],
   "source": [
    "abs_error_rnn = abs(Y_test_predictions - y_test_filtered)/y_test_filtered*100\n",
    "np.average(abs_error_rnn)"
   ]
  },
  {
   "cell_type": "code",
   "execution_count": 22,
   "metadata": {
    "colab": {
     "base_uri": "https://localhost:8080/"
    },
    "id": "-Og3-ec1HyAv",
    "outputId": "f0d3e172-622e-4dd4-a8ec-3f84e320356b"
   },
   "outputs": [
    {
     "name": "stdout",
     "output_type": "stream",
     "text": [
      "R^2 score is  0.98\n"
     ]
    }
   ],
   "source": [
    "#Calculating R2 value:\n",
    "r2_test = r2_score(y_test_filtered, Y_test_predictions)\n",
    "print('R^2 score is  %3.2f' %r2_test)"
   ]
  },
  {
   "cell_type": "code",
   "execution_count": 23,
   "metadata": {
    "colab": {
     "base_uri": "https://localhost:8080/",
     "height": 421
    },
    "id": "bUVtrW7kHyAw",
    "outputId": "e4abb863-ccd1-4159-bd9d-7fb1a9711a9f"
   },
   "outputs": [
    {
     "data": {
      "image/png": "[encoded data removed]",
      "text/plain": [
       "<Figure size 576x576 with 1 Axes>"
      ]
     },
     "metadata": {
      "needs_background": "light"
     },
     "output_type": "display_data"
    }
   ],
   "source": [
    "fig = plot_predictions(eval_df,1,modeltype,feature,f\"./{modeltype}/predictions_{namespace}.png\")"
   ]
  }
 ],
 "metadata": {
  "interpreter": {
   "hash": "39d1545a961fb91480a52a0b6f0ba22788119e75d6e41681ee81894caf37680e"
  },
  "kernelspec": {
   "display_name": "Python 3",
   "language": "python",
   "name": "python3"
  },
  "language_info": {
   "codemirror_mode": {
    "name": "ipython",
    "version": 3
   },
   "file_extension": ".py",
   "mimetype": "text/x-python",
   "name": "python",
   "nbconvert_exporter": "python",
   "pygments_lexer": "ipython3",
   "version": "3.9.4"
  }
 },
 "nbformat": 4,
 "nbformat_minor": 2
}
