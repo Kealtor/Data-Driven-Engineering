{
 "cells": [
  {
   "cell_type": "code",
   "execution_count": 1,
   "metadata": {},
   "outputs": [],
   "source": [
    "import numpy as np\n",
    "import pandas as pd\n",
    "from datetime import date\n",
    "import plotly.express as px\n",
    "import plotly.graph_objects as go\n",
    "import math\n",
    "import matplotlib.pyplot as plt\n",
    "from sklearn import preprocessing as pp\n",
    "import matplotlib as mpl\n",
    "from sklearn.decomposition import PCA\n",
    "from pandas.plotting import lag_plot, autocorrelation_plot\n",
    "from statsmodels.graphics.tsaplots import plot_acf, plot_pacf \n",
    "import statsmodels.api as smw\n",
    "from datetime import timedelta\n",
    "from statsmodels.tsa.statespace.sarimax import SARIMAX\n",
    "from sklearn.svm import SVR\n",
    "from sklearn.metrics import r2_score\n",
    "# ML Algorithms to be used\n",
    "import tensorflow as tf\n",
    "from tensorflow import keras\n",
    "from keras import optimizers, models, layers, regularizers\n",
    "tf.__version__\n",
    "from utils.dde_preprocessing_utils import (set_timestamp_index,\n",
    "remove_duplicates,\n",
    "remove_columns,\n",
    "extract_correlations,\n",
    "prepare_data_sarimax,\n",
    "create_test_train_split,\n",
    "create_sarimax_test_train_split,\n",
    "create_eval_df,\n",
    "convert_to_sample_time_feature)\n",
    "from utils.dde_plotting_utils import(\n",
    "display_double_timestamps,\n",
    "display_seasonal_decomposition,\n",
    "plot_predictions,\n",
    "plot_accuracy,\n",
    "plot_error_variations,\n",
    "plot_learning_curves,\n",
    ")\n",
    "%load_ext skip_kernel_extension"
   ]
  },
  {
   "cell_type": "code",
   "execution_count": 2,
   "metadata": {},
   "outputs": [],
   "source": [
    "config = tf.compat.v1.ConfigProto(gpu_options=tf.compat.v1.GPUOptions(per_process_gpu_memory_fraction=0.8))\n",
    "config.gpu_options.allow_growth = True\n",
    "session = tf.compat.v1.Session(config=config)\n",
    "tf.compat.v1.keras.backend.set_session(session)\n",
    "mpl.rcParams['figure.figsize'] = [8.0, 8.0]"
   ]
  },
  {
   "cell_type": "code",
   "execution_count": 3,
   "metadata": {},
   "outputs": [],
   "source": [
    "SKIP_RETRAIN_RNN = False"
   ]
  },
  {
   "cell_type": "markdown",
   "metadata": {},
   "source": [
    "## Loading Data"
   ]
  },
  {
   "cell_type": "code",
   "execution_count": 4,
   "metadata": {},
   "outputs": [],
   "source": [
    "combined_df = pd.read_csv(\"preprocessed_data.csv\")\n",
    "combined_df = set_timestamp_index(combined_df,\"Unnamed: 0\")"
   ]
  },
  {
   "cell_type": "code",
   "execution_count": 5,
   "metadata": {},
   "outputs": [
    {
     "data": {
      "text/html": [
       "<div>\n",
       "<style scoped>\n",
       "    .dataframe tbody tr th:only-of-type {\n",
       "        vertical-align: middle;\n",
       "    }\n",
       "\n",
       "    .dataframe tbody tr th {\n",
       "        vertical-align: top;\n",
       "    }\n",
       "\n",
       "    .dataframe thead th {\n",
       "        text-align: right;\n",
       "    }\n",
       "</style>\n",
       "<table border=\"1\" class=\"dataframe\">\n",
       "  <thead>\n",
       "    <tr style=\"text-align: right;\">\n",
       "      <th></th>\n",
       "      <th>temp</th>\n",
       "      <th>pressure</th>\n",
       "      <th>humidity</th>\n",
       "      <th>wind_speed</th>\n",
       "      <th>wind_deg</th>\n",
       "      <th>generation biomass</th>\n",
       "      <th>generation fossil brown coal/lignite</th>\n",
       "      <th>generation fossil gas</th>\n",
       "      <th>generation fossil hard coal</th>\n",
       "      <th>generation fossil oil</th>\n",
       "      <th>...</th>\n",
       "      <th>generation solar</th>\n",
       "      <th>generation waste</th>\n",
       "      <th>generation wind onshore</th>\n",
       "      <th>total load actual</th>\n",
       "      <th>price actual</th>\n",
       "      <th>generation</th>\n",
       "      <th>energy_difference</th>\n",
       "      <th>month</th>\n",
       "      <th>day</th>\n",
       "      <th>weekend</th>\n",
       "    </tr>\n",
       "  </thead>\n",
       "  <tbody>\n",
       "    <tr>\n",
       "      <th>2015-01-01 00:00:00+01:00</th>\n",
       "      <td>-2.675</td>\n",
       "      <td>1001.0</td>\n",
       "      <td>77</td>\n",
       "      <td>1.0</td>\n",
       "      <td>62</td>\n",
       "      <td>447.0</td>\n",
       "      <td>329.0</td>\n",
       "      <td>4844.0</td>\n",
       "      <td>4821.0</td>\n",
       "      <td>162.0</td>\n",
       "      <td>...</td>\n",
       "      <td>49.0</td>\n",
       "      <td>196.0</td>\n",
       "      <td>6378.0</td>\n",
       "      <td>25385.0</td>\n",
       "      <td>65.41</td>\n",
       "      <td>28251.0</td>\n",
       "      <td>2866.0</td>\n",
       "      <td>1</td>\n",
       "      <td>1</td>\n",
       "      <td>0</td>\n",
       "    </tr>\n",
       "    <tr>\n",
       "      <th>2015-01-01 01:00:00+01:00</th>\n",
       "      <td>-2.675</td>\n",
       "      <td>1001.0</td>\n",
       "      <td>77</td>\n",
       "      <td>1.0</td>\n",
       "      <td>62</td>\n",
       "      <td>449.0</td>\n",
       "      <td>328.0</td>\n",
       "      <td>5196.0</td>\n",
       "      <td>4755.0</td>\n",
       "      <td>158.0</td>\n",
       "      <td>...</td>\n",
       "      <td>50.0</td>\n",
       "      <td>195.0</td>\n",
       "      <td>5890.0</td>\n",
       "      <td>24382.0</td>\n",
       "      <td>64.92</td>\n",
       "      <td>27818.0</td>\n",
       "      <td>3436.0</td>\n",
       "      <td>1</td>\n",
       "      <td>1</td>\n",
       "      <td>0</td>\n",
       "    </tr>\n",
       "    <tr>\n",
       "      <th>2015-01-01 02:00:00+01:00</th>\n",
       "      <td>-3.464</td>\n",
       "      <td>1002.0</td>\n",
       "      <td>78</td>\n",
       "      <td>0.0</td>\n",
       "      <td>23</td>\n",
       "      <td>448.0</td>\n",
       "      <td>323.0</td>\n",
       "      <td>4857.0</td>\n",
       "      <td>4581.0</td>\n",
       "      <td>157.0</td>\n",
       "      <td>...</td>\n",
       "      <td>50.0</td>\n",
       "      <td>196.0</td>\n",
       "      <td>5461.0</td>\n",
       "      <td>22734.0</td>\n",
       "      <td>64.48</td>\n",
       "      <td>26796.0</td>\n",
       "      <td>4062.0</td>\n",
       "      <td>1</td>\n",
       "      <td>1</td>\n",
       "      <td>0</td>\n",
       "    </tr>\n",
       "    <tr>\n",
       "      <th>2015-01-01 03:00:00+01:00</th>\n",
       "      <td>-3.464</td>\n",
       "      <td>1002.0</td>\n",
       "      <td>78</td>\n",
       "      <td>0.0</td>\n",
       "      <td>23</td>\n",
       "      <td>438.0</td>\n",
       "      <td>254.0</td>\n",
       "      <td>4314.0</td>\n",
       "      <td>4131.0</td>\n",
       "      <td>160.0</td>\n",
       "      <td>...</td>\n",
       "      <td>50.0</td>\n",
       "      <td>191.0</td>\n",
       "      <td>5238.0</td>\n",
       "      <td>21286.0</td>\n",
       "      <td>59.32</td>\n",
       "      <td>25223.0</td>\n",
       "      <td>3937.0</td>\n",
       "      <td>1</td>\n",
       "      <td>1</td>\n",
       "      <td>0</td>\n",
       "    </tr>\n",
       "    <tr>\n",
       "      <th>2015-01-01 04:00:00+01:00</th>\n",
       "      <td>-3.464</td>\n",
       "      <td>1002.0</td>\n",
       "      <td>78</td>\n",
       "      <td>0.0</td>\n",
       "      <td>23</td>\n",
       "      <td>428.0</td>\n",
       "      <td>187.0</td>\n",
       "      <td>4130.0</td>\n",
       "      <td>3840.0</td>\n",
       "      <td>156.0</td>\n",
       "      <td>...</td>\n",
       "      <td>42.0</td>\n",
       "      <td>189.0</td>\n",
       "      <td>4935.0</td>\n",
       "      <td>20264.0</td>\n",
       "      <td>56.04</td>\n",
       "      <td>24620.0</td>\n",
       "      <td>4356.0</td>\n",
       "      <td>1</td>\n",
       "      <td>1</td>\n",
       "      <td>0</td>\n",
       "    </tr>\n",
       "    <tr>\n",
       "      <th>...</th>\n",
       "      <td>...</td>\n",
       "      <td>...</td>\n",
       "      <td>...</td>\n",
       "      <td>...</td>\n",
       "      <td>...</td>\n",
       "      <td>...</td>\n",
       "      <td>...</td>\n",
       "      <td>...</td>\n",
       "      <td>...</td>\n",
       "      <td>...</td>\n",
       "      <td>...</td>\n",
       "      <td>...</td>\n",
       "      <td>...</td>\n",
       "      <td>...</td>\n",
       "      <td>...</td>\n",
       "      <td>...</td>\n",
       "      <td>...</td>\n",
       "      <td>...</td>\n",
       "      <td>...</td>\n",
       "      <td>...</td>\n",
       "      <td>...</td>\n",
       "    </tr>\n",
       "    <tr>\n",
       "      <th>2018-12-31 19:00:00+01:00</th>\n",
       "      <td>12.490</td>\n",
       "      <td>1028.0</td>\n",
       "      <td>62</td>\n",
       "      <td>2.0</td>\n",
       "      <td>140</td>\n",
       "      <td>297.0</td>\n",
       "      <td>0.0</td>\n",
       "      <td>7634.0</td>\n",
       "      <td>2628.0</td>\n",
       "      <td>178.0</td>\n",
       "      <td>...</td>\n",
       "      <td>85.0</td>\n",
       "      <td>277.0</td>\n",
       "      <td>3113.0</td>\n",
       "      <td>30653.0</td>\n",
       "      <td>77.02</td>\n",
       "      <td>26415.0</td>\n",
       "      <td>-4238.0</td>\n",
       "      <td>12</td>\n",
       "      <td>31</td>\n",
       "      <td>0</td>\n",
       "    </tr>\n",
       "    <tr>\n",
       "      <th>2018-12-31 20:00:00+01:00</th>\n",
       "      <td>9.990</td>\n",
       "      <td>1029.0</td>\n",
       "      <td>71</td>\n",
       "      <td>1.0</td>\n",
       "      <td>242</td>\n",
       "      <td>296.0</td>\n",
       "      <td>0.0</td>\n",
       "      <td>7241.0</td>\n",
       "      <td>2566.0</td>\n",
       "      <td>174.0</td>\n",
       "      <td>...</td>\n",
       "      <td>33.0</td>\n",
       "      <td>280.0</td>\n",
       "      <td>3288.0</td>\n",
       "      <td>29735.0</td>\n",
       "      <td>76.16</td>\n",
       "      <td>25213.0</td>\n",
       "      <td>-4522.0</td>\n",
       "      <td>12</td>\n",
       "      <td>31</td>\n",
       "      <td>0</td>\n",
       "    </tr>\n",
       "    <tr>\n",
       "      <th>2018-12-31 21:00:00+01:00</th>\n",
       "      <td>8.510</td>\n",
       "      <td>1029.0</td>\n",
       "      <td>81</td>\n",
       "      <td>3.0</td>\n",
       "      <td>300</td>\n",
       "      <td>292.0</td>\n",
       "      <td>0.0</td>\n",
       "      <td>7025.0</td>\n",
       "      <td>2422.0</td>\n",
       "      <td>168.0</td>\n",
       "      <td>...</td>\n",
       "      <td>31.0</td>\n",
       "      <td>286.0</td>\n",
       "      <td>3503.0</td>\n",
       "      <td>28071.0</td>\n",
       "      <td>74.30</td>\n",
       "      <td>23987.0</td>\n",
       "      <td>-4084.0</td>\n",
       "      <td>12</td>\n",
       "      <td>31</td>\n",
       "      <td>0</td>\n",
       "    </tr>\n",
       "    <tr>\n",
       "      <th>2018-12-31 22:00:00+01:00</th>\n",
       "      <td>6.990</td>\n",
       "      <td>1029.0</td>\n",
       "      <td>81</td>\n",
       "      <td>2.0</td>\n",
       "      <td>310</td>\n",
       "      <td>293.0</td>\n",
       "      <td>0.0</td>\n",
       "      <td>6562.0</td>\n",
       "      <td>2293.0</td>\n",
       "      <td>163.0</td>\n",
       "      <td>...</td>\n",
       "      <td>31.0</td>\n",
       "      <td>287.0</td>\n",
       "      <td>3586.0</td>\n",
       "      <td>25801.0</td>\n",
       "      <td>69.89</td>\n",
       "      <td>22748.0</td>\n",
       "      <td>-3053.0</td>\n",
       "      <td>12</td>\n",
       "      <td>31</td>\n",
       "      <td>0</td>\n",
       "    </tr>\n",
       "    <tr>\n",
       "      <th>2018-12-31 23:00:00+01:00</th>\n",
       "      <td>5.990</td>\n",
       "      <td>1029.0</td>\n",
       "      <td>75</td>\n",
       "      <td>2.0</td>\n",
       "      <td>300</td>\n",
       "      <td>290.0</td>\n",
       "      <td>0.0</td>\n",
       "      <td>6926.0</td>\n",
       "      <td>2166.0</td>\n",
       "      <td>163.0</td>\n",
       "      <td>...</td>\n",
       "      <td>31.0</td>\n",
       "      <td>287.0</td>\n",
       "      <td>3651.0</td>\n",
       "      <td>24455.0</td>\n",
       "      <td>69.88</td>\n",
       "      <td>22605.0</td>\n",
       "      <td>-1850.0</td>\n",
       "      <td>12</td>\n",
       "      <td>31</td>\n",
       "      <td>0</td>\n",
       "    </tr>\n",
       "  </tbody>\n",
       "</table>\n",
       "<p>35064 rows × 26 columns</p>\n",
       "</div>"
      ],
      "text/plain": [
       "                             temp  pressure  humidity  wind_speed  wind_deg  \\\n",
       "2015-01-01 00:00:00+01:00  -2.675    1001.0        77         1.0        62   \n",
       "2015-01-01 01:00:00+01:00  -2.675    1001.0        77         1.0        62   \n",
       "2015-01-01 02:00:00+01:00  -3.464    1002.0        78         0.0        23   \n",
       "2015-01-01 03:00:00+01:00  -3.464    1002.0        78         0.0        23   \n",
       "2015-01-01 04:00:00+01:00  -3.464    1002.0        78         0.0        23   \n",
       "...                           ...       ...       ...         ...       ...   \n",
       "2018-12-31 19:00:00+01:00  12.490    1028.0        62         2.0       140   \n",
       "2018-12-31 20:00:00+01:00   9.990    1029.0        71         1.0       242   \n",
       "2018-12-31 21:00:00+01:00   8.510    1029.0        81         3.0       300   \n",
       "2018-12-31 22:00:00+01:00   6.990    1029.0        81         2.0       310   \n",
       "2018-12-31 23:00:00+01:00   5.990    1029.0        75         2.0       300   \n",
       "\n",
       "                           generation biomass  \\\n",
       "2015-01-01 00:00:00+01:00               447.0   \n",
       "2015-01-01 01:00:00+01:00               449.0   \n",
       "2015-01-01 02:00:00+01:00               448.0   \n",
       "2015-01-01 03:00:00+01:00               438.0   \n",
       "2015-01-01 04:00:00+01:00               428.0   \n",
       "...                                       ...   \n",
       "2018-12-31 19:00:00+01:00               297.0   \n",
       "2018-12-31 20:00:00+01:00               296.0   \n",
       "2018-12-31 21:00:00+01:00               292.0   \n",
       "2018-12-31 22:00:00+01:00               293.0   \n",
       "2018-12-31 23:00:00+01:00               290.0   \n",
       "\n",
       "                           generation fossil brown coal/lignite  \\\n",
       "2015-01-01 00:00:00+01:00                                 329.0   \n",
       "2015-01-01 01:00:00+01:00                                 328.0   \n",
       "2015-01-01 02:00:00+01:00                                 323.0   \n",
       "2015-01-01 03:00:00+01:00                                 254.0   \n",
       "2015-01-01 04:00:00+01:00                                 187.0   \n",
       "...                                                         ...   \n",
       "2018-12-31 19:00:00+01:00                                   0.0   \n",
       "2018-12-31 20:00:00+01:00                                   0.0   \n",
       "2018-12-31 21:00:00+01:00                                   0.0   \n",
       "2018-12-31 22:00:00+01:00                                   0.0   \n",
       "2018-12-31 23:00:00+01:00                                   0.0   \n",
       "\n",
       "                           generation fossil gas  generation fossil hard coal  \\\n",
       "2015-01-01 00:00:00+01:00                 4844.0                       4821.0   \n",
       "2015-01-01 01:00:00+01:00                 5196.0                       4755.0   \n",
       "2015-01-01 02:00:00+01:00                 4857.0                       4581.0   \n",
       "2015-01-01 03:00:00+01:00                 4314.0                       4131.0   \n",
       "2015-01-01 04:00:00+01:00                 4130.0                       3840.0   \n",
       "...                                          ...                          ...   \n",
       "2018-12-31 19:00:00+01:00                 7634.0                       2628.0   \n",
       "2018-12-31 20:00:00+01:00                 7241.0                       2566.0   \n",
       "2018-12-31 21:00:00+01:00                 7025.0                       2422.0   \n",
       "2018-12-31 22:00:00+01:00                 6562.0                       2293.0   \n",
       "2018-12-31 23:00:00+01:00                 6926.0                       2166.0   \n",
       "\n",
       "                           generation fossil oil  ...  generation solar  \\\n",
       "2015-01-01 00:00:00+01:00                  162.0  ...              49.0   \n",
       "2015-01-01 01:00:00+01:00                  158.0  ...              50.0   \n",
       "2015-01-01 02:00:00+01:00                  157.0  ...              50.0   \n",
       "2015-01-01 03:00:00+01:00                  160.0  ...              50.0   \n",
       "2015-01-01 04:00:00+01:00                  156.0  ...              42.0   \n",
       "...                                          ...  ...               ...   \n",
       "2018-12-31 19:00:00+01:00                  178.0  ...              85.0   \n",
       "2018-12-31 20:00:00+01:00                  174.0  ...              33.0   \n",
       "2018-12-31 21:00:00+01:00                  168.0  ...              31.0   \n",
       "2018-12-31 22:00:00+01:00                  163.0  ...              31.0   \n",
       "2018-12-31 23:00:00+01:00                  163.0  ...              31.0   \n",
       "\n",
       "                           generation waste  generation wind onshore  \\\n",
       "2015-01-01 00:00:00+01:00             196.0                   6378.0   \n",
       "2015-01-01 01:00:00+01:00             195.0                   5890.0   \n",
       "2015-01-01 02:00:00+01:00             196.0                   5461.0   \n",
       "2015-01-01 03:00:00+01:00             191.0                   5238.0   \n",
       "2015-01-01 04:00:00+01:00             189.0                   4935.0   \n",
       "...                                     ...                      ...   \n",
       "2018-12-31 19:00:00+01:00             277.0                   3113.0   \n",
       "2018-12-31 20:00:00+01:00             280.0                   3288.0   \n",
       "2018-12-31 21:00:00+01:00             286.0                   3503.0   \n",
       "2018-12-31 22:00:00+01:00             287.0                   3586.0   \n",
       "2018-12-31 23:00:00+01:00             287.0                   3651.0   \n",
       "\n",
       "                           total load actual  price actual  generation  \\\n",
       "2015-01-01 00:00:00+01:00            25385.0         65.41     28251.0   \n",
       "2015-01-01 01:00:00+01:00            24382.0         64.92     27818.0   \n",
       "2015-01-01 02:00:00+01:00            22734.0         64.48     26796.0   \n",
       "2015-01-01 03:00:00+01:00            21286.0         59.32     25223.0   \n",
       "2015-01-01 04:00:00+01:00            20264.0         56.04     24620.0   \n",
       "...                                      ...           ...         ...   \n",
       "2018-12-31 19:00:00+01:00            30653.0         77.02     26415.0   \n",
       "2018-12-31 20:00:00+01:00            29735.0         76.16     25213.0   \n",
       "2018-12-31 21:00:00+01:00            28071.0         74.30     23987.0   \n",
       "2018-12-31 22:00:00+01:00            25801.0         69.89     22748.0   \n",
       "2018-12-31 23:00:00+01:00            24455.0         69.88     22605.0   \n",
       "\n",
       "                           energy_difference  month  day  weekend  \n",
       "2015-01-01 00:00:00+01:00             2866.0      1    1        0  \n",
       "2015-01-01 01:00:00+01:00             3436.0      1    1        0  \n",
       "2015-01-01 02:00:00+01:00             4062.0      1    1        0  \n",
       "2015-01-01 03:00:00+01:00             3937.0      1    1        0  \n",
       "2015-01-01 04:00:00+01:00             4356.0      1    1        0  \n",
       "...                                      ...    ...  ...      ...  \n",
       "2018-12-31 19:00:00+01:00            -4238.0     12   31        0  \n",
       "2018-12-31 20:00:00+01:00            -4522.0     12   31        0  \n",
       "2018-12-31 21:00:00+01:00            -4084.0     12   31        0  \n",
       "2018-12-31 22:00:00+01:00            -3053.0     12   31        0  \n",
       "2018-12-31 23:00:00+01:00            -1850.0     12   31        0  \n",
       "\n",
       "[35064 rows x 26 columns]"
      ]
     },
     "execution_count": 5,
     "metadata": {},
     "output_type": "execute_result"
    }
   ],
   "source": [
    "combined_df"
   ]
  },
  {
   "cell_type": "markdown",
   "metadata": {},
   "source": [
    "# RNN"
   ]
  },
  {
   "cell_type": "markdown",
   "metadata": {},
   "source": [
    "Scale the input data"
   ]
  },
  {
   "cell_type": "code",
   "execution_count": 6,
   "metadata": {},
   "outputs": [],
   "source": [
    "scaled_df = combined_df.copy(deep=True)\n",
    "featuresToScale = scaled_df.columns\n",
    "sX = pp.StandardScaler(copy=True)\n",
    "scaled_df.loc[:,featuresToScale] = sX.fit_transform(scaled_df[featuresToScale])"
   ]
  },
  {
   "cell_type": "markdown",
   "metadata": {},
   "source": [
    "Create Train Validation Test Split"
   ]
  },
  {
   "cell_type": "code",
   "execution_count": 7,
   "metadata": {},
   "outputs": [],
   "source": [
    "train_start = '2015-01-01'\n",
    "validation_start = '2017-01-01'\n",
    "test_start = '2017-03-01'\n",
    "test_end = '2017-03-06'\n",
    "feature = 'total load actual'\n",
    "namespace = \"RNN\"\n",
    "modeltype = \"RNN\"\n",
    "feature_df = combined_df[[feature]]\n",
    "data_x_train0,data_x_val0,data_x_test0,data_y_train0,data_y_val0,data_y_test0 = create_test_train_split(scaled_df,feature_df,train_start,test_start,test_end,validation_start=validation_start)"
   ]
  },
  {
   "cell_type": "markdown",
   "metadata": {},
   "source": [
    "Convert to (sample,timestep,feature) format"
   ]
  },
  {
   "cell_type": "code",
   "execution_count": 8,
   "metadata": {},
   "outputs": [],
   "source": [
    "data_x_train,data_y_train,idx_train = convert_to_sample_time_feature(data_x_train0,data_y_train0,24,1,32)\n",
    "data_x_test,data_y_test,idx_test = convert_to_sample_time_feature(data_x_test0,data_y_test0,24,1,32)\n",
    "data_x_val,data_y_val,idx_val = convert_to_sample_time_feature(data_x_val0,data_y_val0,24,1,32)"
   ]
  },
  {
   "cell_type": "code",
   "execution_count": 9,
   "metadata": {},
   "outputs": [
    {
     "name": "stdout",
     "output_type": "stream",
     "text": [
      "(17510, 24, 26) (17510, 1)\n",
      "(1382, 24, 26) (1382, 1)\n",
      "(70, 24, 26) (70, 1)\n"
     ]
    }
   ],
   "source": [
    "print(data_x_train.shape,data_y_train.shape)\n",
    "print(data_x_val.shape,data_y_val.shape)\n",
    "print(data_x_test.shape,data_y_test.shape)"
   ]
  },
  {
   "cell_type": "markdown",
   "metadata": {},
   "source": [
    "Define RNN Model"
   ]
  },
  {
   "cell_type": "code",
   "execution_count": 10,
   "metadata": {},
   "outputs": [],
   "source": [
    "def build_model_RNN(data_x_train,data_y_train):\n",
    "    n_timesteps, n_features, n_outputs = data_x_train.shape[1], data_x_train.shape[2], data_y_train.shape[1]\n",
    "    model = models.Sequential([\n",
    "    layers.SimpleRNN(32, return_sequences=True,input_shape=(None, n_features), stateful=False), \n",
    "    layers.BatchNormalization(),\n",
    "    layers.SimpleRNN(32, return_sequences=True, stateful=False),\n",
    "    layers.BatchNormalization(),\n",
    "    layers.SimpleRNN(32, stateful=False),\n",
    "    layers.BatchNormalization(),\n",
    "    layers.Dense(n_outputs)                     \n",
    "    ])\n",
    "    model.compile(optimizer='Adam',loss='mse',metrics='mae') \n",
    "    return model"
   ]
  },
  {
   "cell_type": "markdown",
   "metadata": {},
   "source": [
    "Define Callback functions"
   ]
  },
  {
   "cell_type": "code",
   "execution_count": 11,
   "metadata": {},
   "outputs": [],
   "source": [
    "myCheckpointRNN= keras.callbacks.ModelCheckpoint(f\"./{modeltype}/my_best_model_{namespace}.h5\", save_best_only=True)\n",
    "myEarly_stoppingRNN = keras.callbacks.EarlyStopping(patience=10,restore_best_weights=True)"
   ]
  },
  {
   "cell_type": "markdown",
   "metadata": {},
   "source": [
    "Hyperparameters"
   ]
  },
  {
   "cell_type": "code",
   "execution_count": 12,
   "metadata": {},
   "outputs": [],
   "source": [
    "num_epochs = 150\n",
    "batch_size = 32"
   ]
  },
  {
   "cell_type": "markdown",
   "metadata": {},
   "source": [
    "Training the Model"
   ]
  },
  {
   "cell_type": "code",
   "execution_count": 13,
   "metadata": {},
   "outputs": [
    {
     "name": "stdout",
     "output_type": "stream",
     "text": [
      "Epoch 1/150\n",
      "548/548 [==============================] - 27s 45ms/step - loss: 828882112.0000 - mae: 28433.4316 - val_loss: 905961856.0000 - val_mae: 29687.8906\n",
      "Epoch 2/150\n",
      "548/548 [==============================] - 24s 44ms/step - loss: 825613632.0000 - mae: 28387.0586 - val_loss: 899359232.0000 - val_mae: 29592.8945\n",
      "Epoch 3/150\n",
      "548/548 [==============================] - 25s 46ms/step - loss: 819676224.0000 - mae: 28299.1270 - val_loss: 890612544.0000 - val_mae: 29467.9199\n",
      "Epoch 4/150\n",
      "548/548 [==============================] - 25s 46ms/step - loss: 811524416.0000 - mae: 28175.8730 - val_loss: 877743872.0000 - val_mae: 29274.9590\n",
      "Epoch 5/150\n",
      "548/548 [==============================] - 25s 46ms/step - loss: 801503680.0000 - mae: 28022.0918 - val_loss: 863749184.0000 - val_mae: 29063.0996\n",
      "Epoch 6/150\n",
      "548/548 [==============================] - 24s 44ms/step - loss: 789899136.0000 - mae: 27840.9805 - val_loss: 845963328.0000 - val_mae: 28786.5410\n",
      "Epoch 7/150\n",
      "548/548 [==============================] - 25s 46ms/step - loss: 776909632.0000 - mae: 27635.1250 - val_loss: 826776576.0000 - val_mae: 28489.0820\n",
      "Epoch 8/150\n",
      "548/548 [==============================] - 25s 46ms/step - loss: 762700352.0000 - mae: 27406.1113 - val_loss: 810427968.0000 - val_mae: 28237.3086\n",
      "Epoch 9/150\n",
      "548/548 [==============================] - 25s 45ms/step - loss: 747414528.0000 - mae: 27155.1758 - val_loss: 786463488.0000 - val_mae: 27850.0000\n",
      "Epoch 10/150\n",
      "548/548 [==============================] - 25s 46ms/step - loss: 731159680.0000 - mae: 26883.0215 - val_loss: 768050752.0000 - val_mae: 27538.7695\n",
      "Epoch 11/150\n",
      "548/548 [==============================] - 26s 47ms/step - loss: 714037888.0000 - mae: 26590.2812 - val_loss: 751585472.0000 - val_mae: 27285.7480\n",
      "Epoch 12/150\n",
      "548/548 [==============================] - 26s 47ms/step - loss: 696126336.0000 - mae: 26277.3262 - val_loss: 720269440.0000 - val_mae: 26742.6074\n",
      "Epoch 13/150\n",
      "548/548 [==============================] - 25s 46ms/step - loss: 677550912.0000 - mae: 25944.4570 - val_loss: 692270464.0000 - val_mae: 26237.9082\n",
      "Epoch 14/150\n",
      "548/548 [==============================] - 24s 45ms/step - loss: 658331264.0000 - mae: 25592.8691 - val_loss: 678802752.0000 - val_mae: 25993.9043\n",
      "Epoch 15/150\n",
      "548/548 [==============================] - 24s 44ms/step - loss: 638677888.0000 - mae: 25221.4395 - val_loss: 644726976.0000 - val_mae: 25356.7676\n",
      "Epoch 16/150\n",
      "548/548 [==============================] - 24s 44ms/step - loss: 618475840.0000 - mae: 24831.5273 - val_loss: 622880768.0000 - val_mae: 24932.7852\n",
      "Epoch 17/150\n",
      "548/548 [==============================] - 24s 45ms/step - loss: 597895104.0000 - mae: 24422.6660 - val_loss: 597999616.0000 - val_mae: 24431.4844\n",
      "Epoch 18/150\n",
      "548/548 [==============================] - 25s 45ms/step - loss: 576993024.0000 - mae: 23995.4922 - val_loss: 564623360.0000 - val_mae: 23746.5605\n",
      "Epoch 19/150\n",
      "548/548 [==============================] - 25s 45ms/step - loss: 555752384.0000 - mae: 23549.2441 - val_loss: 552372800.0000 - val_mae: 23492.1699\n",
      "Epoch 20/150\n",
      "548/548 [==============================] - 24s 44ms/step - loss: 533929504.0000 - mae: 23083.6270 - val_loss: 520827968.0000 - val_mae: 22807.7773\n",
      "Epoch 21/150\n",
      "548/548 [==============================] - 24s 43ms/step - loss: 511806240.0000 - mae: 22598.5332 - val_loss: 501336640.0000 - val_mae: 22379.9316\n",
      "Epoch 22/150\n",
      "548/548 [==============================] - 25s 45ms/step - loss: 489274464.0000 - mae: 22095.0703 - val_loss: 484732384.0000 - val_mae: 22005.0801\n",
      "Epoch 23/150\n",
      "548/548 [==============================] - 25s 46ms/step - loss: 466528352.0000 - mae: 21573.3418 - val_loss: 461646496.0000 - val_mae: 21474.4238\n",
      "Epoch 24/150\n",
      "548/548 [==============================] - 24s 45ms/step - loss: 443481184.0000 - mae: 21033.3125 - val_loss: 438180800.0000 - val_mae: 20916.2832\n",
      "Epoch 25/150\n",
      "548/548 [==============================] - 24s 44ms/step - loss: 420341632.0000 - mae: 20475.9492 - val_loss: 404173408.0000 - val_mae: 20092.0820\n",
      "Epoch 26/150\n",
      "548/548 [==============================] - 25s 45ms/step - loss: 397109952.0000 - mae: 19901.8223 - val_loss: 386385728.0000 - val_mae: 19646.8906\n",
      "Epoch 27/150\n",
      "548/548 [==============================] - 24s 45ms/step - loss: 373851904.0000 - mae: 19310.3008 - val_loss: 359388320.0000 - val_mae: 18946.5898\n",
      "Epoch 28/150\n",
      "548/548 [==============================] - 24s 44ms/step - loss: 350783392.0000 - mae: 18703.0352 - val_loss: 343690240.0000 - val_mae: 18527.5117\n",
      "Epoch 29/150\n",
      "548/548 [==============================] - 25s 45ms/step - loss: 327789920.0000 - mae: 18079.0371 - val_loss: 321200672.0000 - val_mae: 17909.4297\n",
      "Epoch 30/150\n",
      "548/548 [==============================] - 25s 45ms/step - loss: 305157664.0000 - mae: 17439.2305 - val_loss: 294707904.0000 - val_mae: 17154.5840\n",
      "Epoch 31/150\n",
      "548/548 [==============================] - 25s 45ms/step - loss: 282718304.0000 - mae: 16783.6797 - val_loss: 277896384.0000 - val_mae: 16654.4316\n",
      "Epoch 32/150\n",
      "548/548 [==============================] - 25s 45ms/step - loss: 260658832.0000 - mae: 16113.6445 - val_loss: 248741936.0000 - val_mae: 15757.2012\n",
      "Epoch 33/150\n",
      "548/548 [==============================] - 25s 45ms/step - loss: 239021856.0000 - mae: 15429.7676 - val_loss: 235570000.0000 - val_mae: 15335.6826\n",
      "Epoch 34/150\n",
      "548/548 [==============================] - 25s 46ms/step - loss: 217938848.0000 - mae: 14732.0537 - val_loss: 209858736.0000 - val_mae: 14472.3359\n",
      "Epoch 35/150\n",
      "548/548 [==============================] - 25s 46ms/step - loss: 197574048.0000 - mae: 14018.8262 - val_loss: 185778992.0000 - val_mae: 13613.4297\n",
      "Epoch 36/150\n",
      "548/548 [==============================] - 24s 44ms/step - loss: 177710704.0000 - mae: 13296.6504 - val_loss: 168717104.0000 - val_mae: 12972.6045\n",
      "Epoch 37/150\n",
      "548/548 [==============================] - 24s 43ms/step - loss: 158686272.0000 - mae: 12560.8809 - val_loss: 150886816.0000 - val_mae: 12267.2197\n",
      "Epoch 38/150\n",
      "548/548 [==============================] - 25s 45ms/step - loss: 140582928.0000 - mae: 11814.0928 - val_loss: 132457376.0000 - val_mae: 11493.6162\n",
      "Epoch 39/150\n",
      "548/548 [==============================] - 24s 44ms/step - loss: 123250816.0000 - mae: 11059.2373 - val_loss: 119595200.0000 - val_mae: 10920.1660\n",
      "Epoch 40/150\n",
      "548/548 [==============================] - 25s 45ms/step - loss: 106911688.0000 - mae: 10294.0859 - val_loss: 102401432.0000 - val_mae: 10097.1855\n",
      "Epoch 41/150\n",
      "548/548 [==============================] - 25s 45ms/step - loss: 91621600.0000 - mae: 9523.3389 - val_loss: 87868544.0000 - val_mae: 9355.2686\n",
      "Epoch 42/150\n",
      "548/548 [==============================] - 24s 44ms/step - loss: 77434880.0000 - mae: 8745.8691 - val_loss: 72216144.0000 - val_mae: 8476.4961\n",
      "Epoch 43/150\n",
      "548/548 [==============================] - 24s 45ms/step - loss: 64417268.0000 - mae: 7968.0156 - val_loss: 61639200.0000 - val_mae: 7828.5845\n",
      "Epoch 44/150\n",
      "548/548 [==============================] - 24s 45ms/step - loss: 52647960.0000 - mae: 7186.2607 - val_loss: 46789332.0000 - val_mae: 6811.8516\n",
      "Epoch 45/150\n",
      "548/548 [==============================] - 24s 43ms/step - loss: 42008528.0000 - mae: 6409.7178 - val_loss: 37842984.0000 - val_mae: 6121.3247\n",
      "Epoch 46/150\n",
      "548/548 [==============================] - 25s 45ms/step - loss: 32649874.0000 - mae: 5640.0020 - val_loss: 30005494.0000 - val_mae: 5444.2827\n",
      "Epoch 47/150\n",
      "548/548 [==============================] - 24s 44ms/step - loss: 24743826.0000 - mae: 4879.5161 - val_loss: 20887332.0000 - val_mae: 4528.2046\n",
      "Epoch 48/150\n",
      "548/548 [==============================] - 25s 45ms/step - loss: 18087608.0000 - mae: 4136.3623 - val_loss: 15638586.0000 - val_mae: 3896.9529\n",
      "Epoch 49/150\n",
      "548/548 [==============================] - 24s 43ms/step - loss: 12634457.0000 - mae: 3419.7659 - val_loss: 10541441.0000 - val_mae: 3190.4851\n",
      "Epoch 50/150\n",
      "548/548 [==============================] - 24s 44ms/step - loss: 8436377.0000 - mae: 2745.6638 - val_loss: 6701233.0000 - val_mae: 2514.2056\n",
      "Epoch 51/150\n",
      "548/548 [==============================] - 25s 45ms/step - loss: 5315383.5000 - mae: 2116.7913 - val_loss: 4385718.0000 - val_mae: 2000.2061\n",
      "Epoch 52/150\n",
      "548/548 [==============================] - 25s 46ms/step - loss: 3232420.0000 - mae: 1583.6172 - val_loss: 2126124.7500 - val_mae: 1338.8413\n",
      "Epoch 53/150\n",
      "548/548 [==============================] - 24s 45ms/step - loss: 1907983.8750 - mae: 1157.3683 - val_loss: 1459159.5000 - val_mae: 1064.5621\n",
      "Epoch 54/150\n",
      "548/548 [==============================] - 24s 43ms/step - loss: 1268920.3750 - mae: 902.2443 - val_loss: 560483.0625 - val_mae: 547.2660\n",
      "Epoch 55/150\n",
      "548/548 [==============================] - 24s 44ms/step - loss: 1018156.1250 - mae: 791.8693 - val_loss: 541471.7500 - val_mae: 543.7042\n",
      "Epoch 56/150\n",
      "548/548 [==============================] - 25s 45ms/step - loss: 929212.0000 - mae: 762.3306 - val_loss: 393879.9062 - val_mae: 451.7432\n",
      "Epoch 57/150\n",
      "548/548 [==============================] - 24s 45ms/step - loss: 921967.8750 - mae: 748.1577 - val_loss: 368407.6562 - val_mae: 426.4612\n",
      "Epoch 58/150\n",
      "548/548 [==============================] - 24s 44ms/step - loss: 815847.3125 - mae: 708.4744 - val_loss: 470323.9688 - val_mae: 484.8292\n",
      "Epoch 59/150\n",
      "548/548 [==============================] - 25s 45ms/step - loss: 838258.2500 - mae: 715.9954 - val_loss: 427232.7812 - val_mae: 461.8103\n",
      "Epoch 60/150\n",
      "548/548 [==============================] - 24s 44ms/step - loss: 897822.8125 - mae: 743.2095 - val_loss: 343334.2188 - val_mae: 411.5048\n",
      "Epoch 61/150\n",
      "548/548 [==============================] - 25s 46ms/step - loss: 864477.0000 - mae: 736.2313 - val_loss: 394716.5312 - val_mae: 447.6028\n",
      "Epoch 62/150\n",
      "548/548 [==============================] - 25s 45ms/step - loss: 811877.1875 - mae: 705.6577 - val_loss: 424334.2500 - val_mae: 475.4469\n",
      "Epoch 63/150\n",
      "548/548 [==============================] - 25s 46ms/step - loss: 945632.1250 - mae: 765.5648 - val_loss: 470885.9688 - val_mae: 479.1940\n",
      "Epoch 64/150\n",
      "548/548 [==============================] - 25s 45ms/step - loss: 901544.3750 - mae: 740.4904 - val_loss: 432644.3438 - val_mae: 464.0144\n",
      "Epoch 65/150\n",
      "548/548 [==============================] - 25s 45ms/step - loss: 891498.8750 - mae: 743.4742 - val_loss: 478939.1875 - val_mae: 484.2382\n",
      "Epoch 66/150\n",
      "548/548 [==============================] - 24s 44ms/step - loss: 881800.0625 - mae: 734.1093 - val_loss: 376310.9062 - val_mae: 437.9210\n",
      "Epoch 67/150\n",
      "548/548 [==============================] - 24s 44ms/step - loss: 877610.9375 - mae: 737.7914 - val_loss: 357938.2812 - val_mae: 429.7835\n",
      "Epoch 68/150\n",
      "548/548 [==============================] - 25s 46ms/step - loss: 778829.1875 - mae: 692.7526 - val_loss: 360646.4375 - val_mae: 419.5929\n",
      "Epoch 69/150\n",
      "548/548 [==============================] - 25s 45ms/step - loss: 995439.9375 - mae: 778.7263 - val_loss: 412232.6250 - val_mae: 471.8612\n",
      "Epoch 70/150\n",
      "548/548 [==============================] - 24s 45ms/step - loss: 908282.0625 - mae: 752.3856 - val_loss: 381677.4375 - val_mae: 436.4418\n"
     ]
    }
   ],
   "source": [
    "%%skip $SKIP_RETRAIN_RNN\n",
    "\n",
    "model_rnn = build_model_RNN(data_x_train,data_y_train)\n",
    "history_rnn = model_rnn.fit(data_x_train, data_y_train, epochs=num_epochs, batch_size=batch_size, validation_data=(data_x_val, data_y_val) , \n",
    "                                 callbacks=[myCheckpointRNN,myEarly_stoppingRNN])#, verbose=0)\n",
    "\n"
   ]
  },
  {
   "cell_type": "markdown",
   "metadata": {},
   "source": [
    "Evaluate the training process"
   ]
  },
  {
   "cell_type": "code",
   "execution_count": 14,
   "metadata": {
    "colab": {
     "base_uri": "https://localhost:8080/",
     "height": 159
    },
    "id": "0f_FwfmlHyAl",
    "outputId": "080474a2-3f61-42ca-95ef-7bc23f76c853"
   },
   "outputs": [],
   "source": [
    "%%skip $SKIP_RETRAIN_RNN\n",
    "\n",
    "histRNN = pd.DataFrame(history_rnn.history)\n",
    "histRNN['epoch'] = history_rnn.epoch"
   ]
  },
  {
   "cell_type": "code",
   "execution_count": 15,
   "metadata": {
    "colab": {
     "base_uri": "https://localhost:8080/",
     "height": 405
    },
    "id": "d2SviC32HyAr",
    "outputId": "512e600c-f7c8-46cd-9801-7387d6bf4f7f"
   },
   "outputs": [
    {
     "data": {
      "image/png": "[encoded data removed]",
      "text/plain": [
       "<Figure size 576x576 with 1 Axes>"
      ]
     },
     "metadata": {
      "needs_background": "light"
     },
     "output_type": "display_data"
    }
   ],
   "source": [
    "%%skip $SKIP_RETRAIN_RNN\n",
    "\n",
    "fig = plot_learning_curves(histRNN,modeltype,f\"./{modeltype}/learningcurve_{namespace}.png\")"
   ]
  },
  {
   "cell_type": "markdown",
   "metadata": {},
   "source": [
    "Load best model"
   ]
  },
  {
   "cell_type": "code",
   "execution_count": 16,
   "metadata": {},
   "outputs": [
    {
     "name": "stdout",
     "output_type": "stream",
     "text": [
      "Model: \"sequential\"\n",
      "_________________________________________________________________\n",
      "Layer (type)                 Output Shape              Param #   \n",
      "=================================================================\n",
      "simple_rnn (SimpleRNN)       (None, None, 32)          1888      \n",
      "_________________________________________________________________\n",
      "batch_normalization (BatchNo (None, None, 32)          128       \n",
      "_________________________________________________________________\n",
      "simple_rnn_1 (SimpleRNN)     (None, None, 32)          2080      \n",
      "_________________________________________________________________\n",
      "batch_normalization_1 (Batch (None, None, 32)          128       \n",
      "_________________________________________________________________\n",
      "simple_rnn_2 (SimpleRNN)     (None, 32)                2080      \n",
      "_________________________________________________________________\n",
      "batch_normalization_2 (Batch (None, 32)                128       \n",
      "_________________________________________________________________\n",
      "dense (Dense)                (None, 1)                 33        \n",
      "=================================================================\n",
      "Total params: 6,465\n",
      "Trainable params: 6,273\n",
      "Non-trainable params: 192\n",
      "_________________________________________________________________\n"
     ]
    }
   ],
   "source": [
    "model_best_RNN = keras.models.load_model(f\"./{modeltype}/my_best_model_{namespace}.h5\")\n",
    "model_best_RNN.summary()"
   ]
  },
  {
   "cell_type": "markdown",
   "metadata": {},
   "source": [
    "Evaluate predictions"
   ]
  },
  {
   "cell_type": "code",
   "execution_count": 17,
   "metadata": {
    "colab": {
     "base_uri": "https://localhost:8080/"
    },
    "id": "9uYdwycxdrO0",
    "outputId": "a8fcc94c-f612-4f97-f5fa-e55b79b33234"
   },
   "outputs": [],
   "source": [
    "y_test_filtered = data_y_test0.loc[idx_test]\n",
    "y_test_filtered = y_test_filtered.squeeze(axis=1)\n",
    "Y_test_predictions = pd.Series(model_best_RNN.predict(data_x_test).flatten(),index=y_test_filtered.index)"
   ]
  },
  {
   "cell_type": "code",
   "execution_count": 18,
   "metadata": {},
   "outputs": [],
   "source": [
    "eval_df = create_eval_df(Y_test_predictions,y_test_filtered)"
   ]
  },
  {
   "cell_type": "code",
   "execution_count": 19,
   "metadata": {
    "colab": {
     "base_uri": "https://localhost:8080/",
     "height": 426
    },
    "id": "5X3Hs_GtHyAs",
    "outputId": "7281486a-4a6c-492c-e48f-37fa6e7d7c25"
   },
   "outputs": [
    {
     "data": {
      "image/png": "[encoded data removed]",
      "text/plain": [
       "<Figure size 576x576 with 1 Axes>"
      ]
     },
     "metadata": {
      "needs_background": "light"
     },
     "output_type": "display_data"
    }
   ],
   "source": [
    "fig = plot_accuracy( eval_df,modeltype,f\"./{modeltype}/accuracy_{namespace}.png\" )"
   ]
  },
  {
   "cell_type": "code",
   "execution_count": 20,
   "metadata": {
    "colab": {
     "base_uri": "https://localhost:8080/",
     "height": 422
    },
    "id": "olr-44nOHyAt",
    "outputId": "ac65b698-1f77-4a62-87cf-c99f30d4d246"
   },
   "outputs": [
    {
     "data": {
      "image/png": "[encoded data removed]",
      "text/plain": [
       "<Figure size 576x576 with 1 Axes>"
      ]
     },
     "metadata": {
      "needs_background": "light"
     },
     "output_type": "display_data"
    }
   ],
   "source": [
    "fig = plot_error_variations(eval_df,modeltype,f\"./{modeltype}/error_variations_{namespace}.png\")"
   ]
  },
  {
   "cell_type": "code",
   "execution_count": 21,
   "metadata": {
    "colab": {
     "base_uri": "https://localhost:8080/"
    },
    "id": "-HSnhihhHyAt",
    "outputId": "b45d472e-df1f-4ab2-97ba-6318127d0d9e"
   },
   "outputs": [
    {
     "data": {
      "text/plain": [
       "1.195733442556456"
      ]
     },
     "execution_count": 21,
     "metadata": {},
     "output_type": "execute_result"
    }
   ],
   "source": [
    "abs_error_rnn = abs(Y_test_predictions - y_test_filtered)/y_test_filtered*100\n",
    "np.average(abs_error_rnn)"
   ]
  },
  {
   "cell_type": "code",
   "execution_count": 22,
   "metadata": {
    "colab": {
     "base_uri": "https://localhost:8080/"
    },
    "id": "-Og3-ec1HyAv",
    "outputId": "f0d3e172-622e-4dd4-a8ec-3f84e320356b"
   },
   "outputs": [
    {
     "name": "stdout",
     "output_type": "stream",
     "text": [
      "R^2 score is  0.98\n"
     ]
    }
   ],
   "source": [
    "#Calculating R2 value:\n",
    "r2_test = r2_score(y_test_filtered, Y_test_predictions)\n",
    "print('R^2 score is  %3.2f' %r2_test)"
   ]
  },
  {
   "cell_type": "code",
   "execution_count": 23,
   "metadata": {
    "colab": {
     "base_uri": "https://localhost:8080/",
     "height": 421
    },
    "id": "bUVtrW7kHyAw",
    "outputId": "e4abb863-ccd1-4159-bd9d-7fb1a9711a9f"
   },
   "outputs": [
    {
     "data": {
      "image/png": "[encoded data removed]",
      "text/plain": [
       "<Figure size 576x576 with 1 Axes>"
      ]
     },
     "metadata": {
      "needs_background": "light"
     },
     "output_type": "display_data"
    }
   ],
   "source": [
    "fig = plot_predictions(eval_df,1,modeltype,feature,f\"./{modeltype}/predictions_{namespace}.png\")"
   ]
  }
 ],
 "metadata": {
  "interpreter": {
   "hash": "39d1545a961fb91480a52a0b6f0ba22788119e75d6e41681ee81894caf37680e"
  },
  "kernelspec": {
   "display_name": "Python 3",
   "language": "python",
   "name": "python3"
  },
  "language_info": {
   "codemirror_mode": {
    "name": "ipython",
    "version": 3
   },
   "file_extension": ".py",
   "mimetype": "text/x-python",
   "name": "python",
   "nbconvert_exporter": "python",
   "pygments_lexer": "ipython3",
   "version": "3.9.4"
  }
 },
 "nbformat": 4,
 "nbformat_minor": 2
}
