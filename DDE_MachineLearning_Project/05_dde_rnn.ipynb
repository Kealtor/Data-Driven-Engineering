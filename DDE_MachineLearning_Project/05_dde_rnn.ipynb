{
 "cells": [
  {
   "cell_type": "code",
   "execution_count": 1,
   "metadata": {},
   "outputs": [],
   "source": [
    "import numpy as np\n",
    "import pandas as pd\n",
    "from datetime import date\n",
    "import plotly.express as px\n",
    "import plotly.graph_objects as go\n",
    "import math\n",
    "import matplotlib.pyplot as plt\n",
    "from sklearn import preprocessing as pp\n",
    "import matplotlib as mpl\n",
    "from sklearn.decomposition import PCA\n",
    "from pandas.plotting import lag_plot, autocorrelation_plot\n",
    "from statsmodels.graphics.tsaplots import plot_acf, plot_pacf \n",
    "import statsmodels.api as smw\n",
    "from datetime import timedelta\n",
    "from statsmodels.tsa.statespace.sarimax import SARIMAX\n",
    "from sklearn.svm import SVR\n",
    "from sklearn.metrics import r2_score\n",
    "# ML Algorithms to be used\n",
    "import tensorflow as tf\n",
    "from tensorflow import keras\n",
    "from keras import optimizers, models, layers, regularizers\n",
    "tf.__version__\n",
    "from utils.dde_preprocessing_utils import (set_timestamp_index,\n",
    "remove_duplicates,\n",
    "remove_columns,\n",
    "extract_correlations,\n",
    "prepare_data_sarimax,\n",
    "create_test_train_split,\n",
    "create_sarimax_test_train_split,\n",
    "create_eval_df,\n",
    "convert_to_sample_time_feature)\n",
    "from utils.dde_plotting_utils import(\n",
    "display_double_timestamps,\n",
    "display_seasonal_decomposition,\n",
    "plot_predictions,\n",
    "plot_accuracy,\n",
    "plot_error_variations,\n",
    "plot_learning_curves,\n",
    ")\n",
    "%load_ext skip_kernel_extension"
   ]
  },
  {
   "cell_type": "code",
   "execution_count": 2,
   "metadata": {},
   "outputs": [],
   "source": [
    "SKIP_RETRAIN_RNN = False\n"
   ]
  },
  {
   "cell_type": "markdown",
   "metadata": {},
   "source": [
    "## Loading Data"
   ]
  },
  {
   "cell_type": "code",
   "execution_count": 3,
   "metadata": {},
   "outputs": [],
   "source": [
    "combined_df = pd.read_csv(\"preprocessed_data.csv\")\n",
    "combined_df = set_timestamp_index(combined_df,\"Unnamed: 0\")"
   ]
  },
  {
   "cell_type": "code",
   "execution_count": 4,
   "metadata": {},
   "outputs": [
    {
     "data": {
      "text/html": [
       "<div>\n",
       "<style scoped>\n",
       "    .dataframe tbody tr th:only-of-type {\n",
       "        vertical-align: middle;\n",
       "    }\n",
       "\n",
       "    .dataframe tbody tr th {\n",
       "        vertical-align: top;\n",
       "    }\n",
       "\n",
       "    .dataframe thead th {\n",
       "        text-align: right;\n",
       "    }\n",
       "</style>\n",
       "<table border=\"1\" class=\"dataframe\">\n",
       "  <thead>\n",
       "    <tr style=\"text-align: right;\">\n",
       "      <th></th>\n",
       "      <th>temp</th>\n",
       "      <th>pressure</th>\n",
       "      <th>humidity</th>\n",
       "      <th>wind_speed</th>\n",
       "      <th>wind_deg</th>\n",
       "      <th>generation biomass</th>\n",
       "      <th>generation fossil brown coal/lignite</th>\n",
       "      <th>generation fossil gas</th>\n",
       "      <th>generation fossil hard coal</th>\n",
       "      <th>generation fossil oil</th>\n",
       "      <th>...</th>\n",
       "      <th>generation solar</th>\n",
       "      <th>generation waste</th>\n",
       "      <th>generation wind onshore</th>\n",
       "      <th>total load actual</th>\n",
       "      <th>price actual</th>\n",
       "      <th>generation</th>\n",
       "      <th>energy_difference</th>\n",
       "      <th>month</th>\n",
       "      <th>day</th>\n",
       "      <th>weekend</th>\n",
       "    </tr>\n",
       "  </thead>\n",
       "  <tbody>\n",
       "    <tr>\n",
       "      <th>2015-01-01 00:00:00+01:00</th>\n",
       "      <td>-2.675</td>\n",
       "      <td>1001.0</td>\n",
       "      <td>77</td>\n",
       "      <td>1.0</td>\n",
       "      <td>62</td>\n",
       "      <td>447.0</td>\n",
       "      <td>329.0</td>\n",
       "      <td>4844.0</td>\n",
       "      <td>4821.0</td>\n",
       "      <td>162.0</td>\n",
       "      <td>...</td>\n",
       "      <td>49.0</td>\n",
       "      <td>196.0</td>\n",
       "      <td>6378.0</td>\n",
       "      <td>25385.0</td>\n",
       "      <td>65.41</td>\n",
       "      <td>28251.0</td>\n",
       "      <td>2866.0</td>\n",
       "      <td>1</td>\n",
       "      <td>1</td>\n",
       "      <td>0</td>\n",
       "    </tr>\n",
       "    <tr>\n",
       "      <th>2015-01-01 01:00:00+01:00</th>\n",
       "      <td>-2.675</td>\n",
       "      <td>1001.0</td>\n",
       "      <td>77</td>\n",
       "      <td>1.0</td>\n",
       "      <td>62</td>\n",
       "      <td>449.0</td>\n",
       "      <td>328.0</td>\n",
       "      <td>5196.0</td>\n",
       "      <td>4755.0</td>\n",
       "      <td>158.0</td>\n",
       "      <td>...</td>\n",
       "      <td>50.0</td>\n",
       "      <td>195.0</td>\n",
       "      <td>5890.0</td>\n",
       "      <td>24382.0</td>\n",
       "      <td>64.92</td>\n",
       "      <td>27818.0</td>\n",
       "      <td>3436.0</td>\n",
       "      <td>1</td>\n",
       "      <td>1</td>\n",
       "      <td>0</td>\n",
       "    </tr>\n",
       "    <tr>\n",
       "      <th>2015-01-01 02:00:00+01:00</th>\n",
       "      <td>-3.464</td>\n",
       "      <td>1002.0</td>\n",
       "      <td>78</td>\n",
       "      <td>0.0</td>\n",
       "      <td>23</td>\n",
       "      <td>448.0</td>\n",
       "      <td>323.0</td>\n",
       "      <td>4857.0</td>\n",
       "      <td>4581.0</td>\n",
       "      <td>157.0</td>\n",
       "      <td>...</td>\n",
       "      <td>50.0</td>\n",
       "      <td>196.0</td>\n",
       "      <td>5461.0</td>\n",
       "      <td>22734.0</td>\n",
       "      <td>64.48</td>\n",
       "      <td>26796.0</td>\n",
       "      <td>4062.0</td>\n",
       "      <td>1</td>\n",
       "      <td>1</td>\n",
       "      <td>0</td>\n",
       "    </tr>\n",
       "    <tr>\n",
       "      <th>2015-01-01 03:00:00+01:00</th>\n",
       "      <td>-3.464</td>\n",
       "      <td>1002.0</td>\n",
       "      <td>78</td>\n",
       "      <td>0.0</td>\n",
       "      <td>23</td>\n",
       "      <td>438.0</td>\n",
       "      <td>254.0</td>\n",
       "      <td>4314.0</td>\n",
       "      <td>4131.0</td>\n",
       "      <td>160.0</td>\n",
       "      <td>...</td>\n",
       "      <td>50.0</td>\n",
       "      <td>191.0</td>\n",
       "      <td>5238.0</td>\n",
       "      <td>21286.0</td>\n",
       "      <td>59.32</td>\n",
       "      <td>25223.0</td>\n",
       "      <td>3937.0</td>\n",
       "      <td>1</td>\n",
       "      <td>1</td>\n",
       "      <td>0</td>\n",
       "    </tr>\n",
       "    <tr>\n",
       "      <th>2015-01-01 04:00:00+01:00</th>\n",
       "      <td>-3.464</td>\n",
       "      <td>1002.0</td>\n",
       "      <td>78</td>\n",
       "      <td>0.0</td>\n",
       "      <td>23</td>\n",
       "      <td>428.0</td>\n",
       "      <td>187.0</td>\n",
       "      <td>4130.0</td>\n",
       "      <td>3840.0</td>\n",
       "      <td>156.0</td>\n",
       "      <td>...</td>\n",
       "      <td>42.0</td>\n",
       "      <td>189.0</td>\n",
       "      <td>4935.0</td>\n",
       "      <td>20264.0</td>\n",
       "      <td>56.04</td>\n",
       "      <td>24620.0</td>\n",
       "      <td>4356.0</td>\n",
       "      <td>1</td>\n",
       "      <td>1</td>\n",
       "      <td>0</td>\n",
       "    </tr>\n",
       "    <tr>\n",
       "      <th>...</th>\n",
       "      <td>...</td>\n",
       "      <td>...</td>\n",
       "      <td>...</td>\n",
       "      <td>...</td>\n",
       "      <td>...</td>\n",
       "      <td>...</td>\n",
       "      <td>...</td>\n",
       "      <td>...</td>\n",
       "      <td>...</td>\n",
       "      <td>...</td>\n",
       "      <td>...</td>\n",
       "      <td>...</td>\n",
       "      <td>...</td>\n",
       "      <td>...</td>\n",
       "      <td>...</td>\n",
       "      <td>...</td>\n",
       "      <td>...</td>\n",
       "      <td>...</td>\n",
       "      <td>...</td>\n",
       "      <td>...</td>\n",
       "      <td>...</td>\n",
       "    </tr>\n",
       "    <tr>\n",
       "      <th>2018-12-31 19:00:00+01:00</th>\n",
       "      <td>12.490</td>\n",
       "      <td>1028.0</td>\n",
       "      <td>62</td>\n",
       "      <td>2.0</td>\n",
       "      <td>140</td>\n",
       "      <td>297.0</td>\n",
       "      <td>0.0</td>\n",
       "      <td>7634.0</td>\n",
       "      <td>2628.0</td>\n",
       "      <td>178.0</td>\n",
       "      <td>...</td>\n",
       "      <td>85.0</td>\n",
       "      <td>277.0</td>\n",
       "      <td>3113.0</td>\n",
       "      <td>30653.0</td>\n",
       "      <td>77.02</td>\n",
       "      <td>26415.0</td>\n",
       "      <td>-4238.0</td>\n",
       "      <td>12</td>\n",
       "      <td>31</td>\n",
       "      <td>0</td>\n",
       "    </tr>\n",
       "    <tr>\n",
       "      <th>2018-12-31 20:00:00+01:00</th>\n",
       "      <td>9.990</td>\n",
       "      <td>1029.0</td>\n",
       "      <td>71</td>\n",
       "      <td>1.0</td>\n",
       "      <td>242</td>\n",
       "      <td>296.0</td>\n",
       "      <td>0.0</td>\n",
       "      <td>7241.0</td>\n",
       "      <td>2566.0</td>\n",
       "      <td>174.0</td>\n",
       "      <td>...</td>\n",
       "      <td>33.0</td>\n",
       "      <td>280.0</td>\n",
       "      <td>3288.0</td>\n",
       "      <td>29735.0</td>\n",
       "      <td>76.16</td>\n",
       "      <td>25213.0</td>\n",
       "      <td>-4522.0</td>\n",
       "      <td>12</td>\n",
       "      <td>31</td>\n",
       "      <td>0</td>\n",
       "    </tr>\n",
       "    <tr>\n",
       "      <th>2018-12-31 21:00:00+01:00</th>\n",
       "      <td>8.510</td>\n",
       "      <td>1029.0</td>\n",
       "      <td>81</td>\n",
       "      <td>3.0</td>\n",
       "      <td>300</td>\n",
       "      <td>292.0</td>\n",
       "      <td>0.0</td>\n",
       "      <td>7025.0</td>\n",
       "      <td>2422.0</td>\n",
       "      <td>168.0</td>\n",
       "      <td>...</td>\n",
       "      <td>31.0</td>\n",
       "      <td>286.0</td>\n",
       "      <td>3503.0</td>\n",
       "      <td>28071.0</td>\n",
       "      <td>74.30</td>\n",
       "      <td>23987.0</td>\n",
       "      <td>-4084.0</td>\n",
       "      <td>12</td>\n",
       "      <td>31</td>\n",
       "      <td>0</td>\n",
       "    </tr>\n",
       "    <tr>\n",
       "      <th>2018-12-31 22:00:00+01:00</th>\n",
       "      <td>6.990</td>\n",
       "      <td>1029.0</td>\n",
       "      <td>81</td>\n",
       "      <td>2.0</td>\n",
       "      <td>310</td>\n",
       "      <td>293.0</td>\n",
       "      <td>0.0</td>\n",
       "      <td>6562.0</td>\n",
       "      <td>2293.0</td>\n",
       "      <td>163.0</td>\n",
       "      <td>...</td>\n",
       "      <td>31.0</td>\n",
       "      <td>287.0</td>\n",
       "      <td>3586.0</td>\n",
       "      <td>25801.0</td>\n",
       "      <td>69.89</td>\n",
       "      <td>22748.0</td>\n",
       "      <td>-3053.0</td>\n",
       "      <td>12</td>\n",
       "      <td>31</td>\n",
       "      <td>0</td>\n",
       "    </tr>\n",
       "    <tr>\n",
       "      <th>2018-12-31 23:00:00+01:00</th>\n",
       "      <td>5.990</td>\n",
       "      <td>1029.0</td>\n",
       "      <td>75</td>\n",
       "      <td>2.0</td>\n",
       "      <td>300</td>\n",
       "      <td>290.0</td>\n",
       "      <td>0.0</td>\n",
       "      <td>6926.0</td>\n",
       "      <td>2166.0</td>\n",
       "      <td>163.0</td>\n",
       "      <td>...</td>\n",
       "      <td>31.0</td>\n",
       "      <td>287.0</td>\n",
       "      <td>3651.0</td>\n",
       "      <td>24455.0</td>\n",
       "      <td>69.88</td>\n",
       "      <td>22605.0</td>\n",
       "      <td>-1850.0</td>\n",
       "      <td>12</td>\n",
       "      <td>31</td>\n",
       "      <td>0</td>\n",
       "    </tr>\n",
       "  </tbody>\n",
       "</table>\n",
       "<p>35064 rows × 26 columns</p>\n",
       "</div>"
      ],
      "text/plain": [
       "                             temp  pressure  humidity  wind_speed  wind_deg  \\\n",
       "2015-01-01 00:00:00+01:00  -2.675    1001.0        77         1.0        62   \n",
       "2015-01-01 01:00:00+01:00  -2.675    1001.0        77         1.0        62   \n",
       "2015-01-01 02:00:00+01:00  -3.464    1002.0        78         0.0        23   \n",
       "2015-01-01 03:00:00+01:00  -3.464    1002.0        78         0.0        23   \n",
       "2015-01-01 04:00:00+01:00  -3.464    1002.0        78         0.0        23   \n",
       "...                           ...       ...       ...         ...       ...   \n",
       "2018-12-31 19:00:00+01:00  12.490    1028.0        62         2.0       140   \n",
       "2018-12-31 20:00:00+01:00   9.990    1029.0        71         1.0       242   \n",
       "2018-12-31 21:00:00+01:00   8.510    1029.0        81         3.0       300   \n",
       "2018-12-31 22:00:00+01:00   6.990    1029.0        81         2.0       310   \n",
       "2018-12-31 23:00:00+01:00   5.990    1029.0        75         2.0       300   \n",
       "\n",
       "                           generation biomass  \\\n",
       "2015-01-01 00:00:00+01:00               447.0   \n",
       "2015-01-01 01:00:00+01:00               449.0   \n",
       "2015-01-01 02:00:00+01:00               448.0   \n",
       "2015-01-01 03:00:00+01:00               438.0   \n",
       "2015-01-01 04:00:00+01:00               428.0   \n",
       "...                                       ...   \n",
       "2018-12-31 19:00:00+01:00               297.0   \n",
       "2018-12-31 20:00:00+01:00               296.0   \n",
       "2018-12-31 21:00:00+01:00               292.0   \n",
       "2018-12-31 22:00:00+01:00               293.0   \n",
       "2018-12-31 23:00:00+01:00               290.0   \n",
       "\n",
       "                           generation fossil brown coal/lignite  \\\n",
       "2015-01-01 00:00:00+01:00                                 329.0   \n",
       "2015-01-01 01:00:00+01:00                                 328.0   \n",
       "2015-01-01 02:00:00+01:00                                 323.0   \n",
       "2015-01-01 03:00:00+01:00                                 254.0   \n",
       "2015-01-01 04:00:00+01:00                                 187.0   \n",
       "...                                                         ...   \n",
       "2018-12-31 19:00:00+01:00                                   0.0   \n",
       "2018-12-31 20:00:00+01:00                                   0.0   \n",
       "2018-12-31 21:00:00+01:00                                   0.0   \n",
       "2018-12-31 22:00:00+01:00                                   0.0   \n",
       "2018-12-31 23:00:00+01:00                                   0.0   \n",
       "\n",
       "                           generation fossil gas  generation fossil hard coal  \\\n",
       "2015-01-01 00:00:00+01:00                 4844.0                       4821.0   \n",
       "2015-01-01 01:00:00+01:00                 5196.0                       4755.0   \n",
       "2015-01-01 02:00:00+01:00                 4857.0                       4581.0   \n",
       "2015-01-01 03:00:00+01:00                 4314.0                       4131.0   \n",
       "2015-01-01 04:00:00+01:00                 4130.0                       3840.0   \n",
       "...                                          ...                          ...   \n",
       "2018-12-31 19:00:00+01:00                 7634.0                       2628.0   \n",
       "2018-12-31 20:00:00+01:00                 7241.0                       2566.0   \n",
       "2018-12-31 21:00:00+01:00                 7025.0                       2422.0   \n",
       "2018-12-31 22:00:00+01:00                 6562.0                       2293.0   \n",
       "2018-12-31 23:00:00+01:00                 6926.0                       2166.0   \n",
       "\n",
       "                           generation fossil oil  ...  generation solar  \\\n",
       "2015-01-01 00:00:00+01:00                  162.0  ...              49.0   \n",
       "2015-01-01 01:00:00+01:00                  158.0  ...              50.0   \n",
       "2015-01-01 02:00:00+01:00                  157.0  ...              50.0   \n",
       "2015-01-01 03:00:00+01:00                  160.0  ...              50.0   \n",
       "2015-01-01 04:00:00+01:00                  156.0  ...              42.0   \n",
       "...                                          ...  ...               ...   \n",
       "2018-12-31 19:00:00+01:00                  178.0  ...              85.0   \n",
       "2018-12-31 20:00:00+01:00                  174.0  ...              33.0   \n",
       "2018-12-31 21:00:00+01:00                  168.0  ...              31.0   \n",
       "2018-12-31 22:00:00+01:00                  163.0  ...              31.0   \n",
       "2018-12-31 23:00:00+01:00                  163.0  ...              31.0   \n",
       "\n",
       "                           generation waste  generation wind onshore  \\\n",
       "2015-01-01 00:00:00+01:00             196.0                   6378.0   \n",
       "2015-01-01 01:00:00+01:00             195.0                   5890.0   \n",
       "2015-01-01 02:00:00+01:00             196.0                   5461.0   \n",
       "2015-01-01 03:00:00+01:00             191.0                   5238.0   \n",
       "2015-01-01 04:00:00+01:00             189.0                   4935.0   \n",
       "...                                     ...                      ...   \n",
       "2018-12-31 19:00:00+01:00             277.0                   3113.0   \n",
       "2018-12-31 20:00:00+01:00             280.0                   3288.0   \n",
       "2018-12-31 21:00:00+01:00             286.0                   3503.0   \n",
       "2018-12-31 22:00:00+01:00             287.0                   3586.0   \n",
       "2018-12-31 23:00:00+01:00             287.0                   3651.0   \n",
       "\n",
       "                           total load actual  price actual  generation  \\\n",
       "2015-01-01 00:00:00+01:00            25385.0         65.41     28251.0   \n",
       "2015-01-01 01:00:00+01:00            24382.0         64.92     27818.0   \n",
       "2015-01-01 02:00:00+01:00            22734.0         64.48     26796.0   \n",
       "2015-01-01 03:00:00+01:00            21286.0         59.32     25223.0   \n",
       "2015-01-01 04:00:00+01:00            20264.0         56.04     24620.0   \n",
       "...                                      ...           ...         ...   \n",
       "2018-12-31 19:00:00+01:00            30653.0         77.02     26415.0   \n",
       "2018-12-31 20:00:00+01:00            29735.0         76.16     25213.0   \n",
       "2018-12-31 21:00:00+01:00            28071.0         74.30     23987.0   \n",
       "2018-12-31 22:00:00+01:00            25801.0         69.89     22748.0   \n",
       "2018-12-31 23:00:00+01:00            24455.0         69.88     22605.0   \n",
       "\n",
       "                           energy_difference  month  day  weekend  \n",
       "2015-01-01 00:00:00+01:00             2866.0      1    1        0  \n",
       "2015-01-01 01:00:00+01:00             3436.0      1    1        0  \n",
       "2015-01-01 02:00:00+01:00             4062.0      1    1        0  \n",
       "2015-01-01 03:00:00+01:00             3937.0      1    1        0  \n",
       "2015-01-01 04:00:00+01:00             4356.0      1    1        0  \n",
       "...                                      ...    ...  ...      ...  \n",
       "2018-12-31 19:00:00+01:00            -4238.0     12   31        0  \n",
       "2018-12-31 20:00:00+01:00            -4522.0     12   31        0  \n",
       "2018-12-31 21:00:00+01:00            -4084.0     12   31        0  \n",
       "2018-12-31 22:00:00+01:00            -3053.0     12   31        0  \n",
       "2018-12-31 23:00:00+01:00            -1850.0     12   31        0  \n",
       "\n",
       "[35064 rows x 26 columns]"
      ]
     },
     "execution_count": 4,
     "metadata": {},
     "output_type": "execute_result"
    }
   ],
   "source": [
    "combined_df"
   ]
  },
  {
   "cell_type": "markdown",
   "metadata": {},
   "source": [
    "# RNN"
   ]
  },
  {
   "cell_type": "markdown",
   "metadata": {},
   "source": [
    "Scale the input data"
   ]
  },
  {
   "cell_type": "code",
   "execution_count": null,
   "metadata": {},
   "outputs": [],
   "source": [
    "scaled_df = combined_df.copy(deep=True)\n",
    "featuresToScale = scaled_df.columns\n",
    "sX = pp.StandardScaler(copy=True)\n",
    "scaled_df.loc[:,featuresToScale] = sX.fit_transform(scaled_df[featuresToScale])"
   ]
  },
  {
   "cell_type": "markdown",
   "metadata": {},
   "source": [
    "Create Train Validation Test Split"
   ]
  },
  {
   "cell_type": "code",
   "execution_count": null,
   "metadata": {},
   "outputs": [],
   "source": [
    "train_start = '2015-01-01'\n",
    "validation_start = '2017-01-01'\n",
    "test_start = '2017-03-01'\n",
    "test_end = '2017-03-06'\n",
    "feature = 'total load actual'\n",
    "namespace = \"RNN\"\n",
    "modeltype = \"RNN\"\n",
    "feature_df = combined_df[[feature]]\n",
    "data_x_train0,data_x_val0,data_x_test0,data_y_train0,data_y_val0,data_y_test0 = create_test_train_split(scaled_df,feature_df,train_start,test_start,test_end,validation_start=validation_start)"
   ]
  },
  {
   "cell_type": "markdown",
   "metadata": {},
   "source": [
    "Convert to (sample,timestep,feature) format"
   ]
  },
  {
   "cell_type": "code",
   "execution_count": null,
   "metadata": {},
   "outputs": [],
   "source": [
    "data_x_train,data_y_train,idx_train = convert_to_sample_time_feature(data_x_train0,data_y_train0,24,1,32)\n",
    "data_x_test,data_y_test,idx_test = convert_to_sample_time_feature(data_x_test0,data_y_test0,24,1,32)\n",
    "data_x_val,data_y_val,idx_val = convert_to_sample_time_feature(data_x_val0,data_y_val0,24,1,32)"
   ]
  },
  {
   "cell_type": "code",
   "execution_count": null,
   "metadata": {},
   "outputs": [
    {
     "name": "stdout",
     "output_type": "stream",
     "text": [
      "(17510, 24, 26) (17510, 1)\n",
      "(1382, 24, 26) (1382, 1)\n",
      "(70, 24, 26) (70, 1)\n"
     ]
    }
   ],
   "source": [
    "print(data_x_train.shape,data_y_train.shape)\n",
    "print(data_x_val.shape,data_y_val.shape)\n",
    "print(data_x_test.shape,data_y_test.shape)"
   ]
  },
  {
   "cell_type": "markdown",
   "metadata": {},
   "source": [
    "Define RNN Model"
   ]
  },
  {
   "cell_type": "code",
   "execution_count": null,
   "metadata": {},
   "outputs": [],
   "source": [
    "def build_model_RNN(data_x_train,data_y_train):\n",
    "    n_timesteps, n_features, n_outputs = data_x_train.shape[1], data_x_train.shape[2], data_y_train.shape[1]\n",
    "    model = models.Sequential([\n",
    "    layers.SimpleRNN(32, return_sequences=True,input_shape=(None, n_features), stateful=False), \n",
    "    layers.BatchNormalization(),\n",
    "    layers.SimpleRNN(32, return_sequences=True, stateful=False),\n",
    "    layers.BatchNormalization(),\n",
    "    layers.SimpleRNN(32, stateful=False),\n",
    "    layers.BatchNormalization(),\n",
    "    layers.Dense(n_outputs)                     \n",
    "    ])\n",
    "    model.compile(optimizer='Adam',loss='mse',metrics='mae') \n",
    "    return model"
   ]
  },
  {
   "cell_type": "markdown",
   "metadata": {},
   "source": [
    "Define Callback functions"
   ]
  },
  {
   "cell_type": "code",
   "execution_count": null,
   "metadata": {},
   "outputs": [],
   "source": [
    "myCheckpointRNN= keras.callbacks.ModelCheckpoint(f\"./{modeltype}/my_best_model_{namespace}.h5\", save_best_only=True)\n",
    "myEarly_stoppingRNN = keras.callbacks.EarlyStopping(patience=10,restore_best_weights=True)"
   ]
  },
  {
   "cell_type": "markdown",
   "metadata": {},
   "source": [
    "Hyperparameters"
   ]
  },
  {
   "cell_type": "code",
   "execution_count": null,
   "metadata": {},
   "outputs": [],
   "source": [
    "num_epochs = 150\n",
    "batch_size = 32"
   ]
  },
  {
   "cell_type": "markdown",
   "metadata": {},
   "source": [
    "Training the Model"
   ]
  },
  {
   "cell_type": "code",
   "execution_count": null,
   "metadata": {},
   "outputs": [
    {
     "name": "stdout",
     "output_type": "stream",
     "text": [
      "Epoch 1/150\n",
      "548/548 [==============================] - 39s 68ms/step - loss: 828874944.0000 - mae: 28433.3496 - val_loss: 905776448.0000 - val_mae: 29684.7930\n",
      "Epoch 2/150\n",
      "548/548 [==============================] - 37s 67ms/step - loss: 825602368.0000 - mae: 28386.9336 - val_loss: 899187776.0000 - val_mae: 29591.6211\n",
      "Epoch 3/150\n",
      "548/548 [==============================] - 38s 70ms/step - loss: 819659840.0000 - mae: 28299.0352 - val_loss: 888493056.0000 - val_mae: 29432.6738\n",
      "Epoch 4/150\n",
      "548/548 [==============================] - 39s 71ms/step - loss: 811496832.0000 - mae: 28175.7637 - val_loss: 878313088.0000 - val_mae: 29288.4512\n",
      "Epoch 5/150\n",
      "548/548 [==============================] - 38s 70ms/step - loss: 801479488.0000 - mae: 28021.8008 - val_loss: 862474240.0000 - val_mae: 29045.7598\n",
      "Epoch 6/150\n",
      "548/548 [==============================] - 37s 67ms/step - loss: 789860352.0000 - mae: 27840.7969 - val_loss: 847632128.0000 - val_mae: 28818.8574\n",
      "Epoch 7/150\n",
      "548/548 [==============================] - 36s 65ms/step - loss: 776891520.0000 - mae: 27634.9980 - val_loss: 829469696.0000 - val_mae: 28539.4551\n",
      "Epoch 8/150\n",
      "548/548 [==============================] - 35s 64ms/step - loss: 762709760.0000 - mae: 27405.9688 - val_loss: 808542656.0000 - val_mae: 28206.6660\n",
      "Epoch 9/150\n",
      "548/548 [==============================] - 39s 71ms/step - loss: 747391936.0000 - mae: 27154.9863 - val_loss: 792807744.0000 - val_mae: 27955.6934\n",
      "Epoch 10/150\n",
      "548/548 [==============================] - 41s 76ms/step - loss: 731118912.0000 - mae: 26882.7305 - val_loss: 768945792.0000 - val_mae: 27563.9355\n",
      "Epoch 11/150\n",
      "548/548 [==============================] - 40s 73ms/step - loss: 714010816.0000 - mae: 26589.7305 - val_loss: 743327424.0000 - val_mae: 27129.3867\n",
      "Epoch 12/150\n",
      "548/548 [==============================] - 40s 73ms/step - loss: 696236160.0000 - mae: 26277.0000 - val_loss: 720341504.0000 - val_mae: 26717.5684\n",
      "Epoch 13/150\n",
      "548/548 [==============================] - 39s 72ms/step - loss: 677582464.0000 - mae: 25944.5625 - val_loss: 699496512.0000 - val_mae: 26371.0684\n",
      "Epoch 14/150\n",
      "548/548 [==============================] - 40s 73ms/step - loss: 658344448.0000 - mae: 25592.3125 - val_loss: 679931840.0000 - val_mae: 26018.4102\n",
      "Epoch 15/150\n",
      "548/548 [==============================] - 42s 76ms/step - loss: 638684992.0000 - mae: 25221.0391 - val_loss: 648929280.0000 - val_mae: 25427.5840\n",
      "Epoch 16/150\n",
      "548/548 [==============================] - 41s 75ms/step - loss: 618539840.0000 - mae: 24831.2637 - val_loss: 627597760.0000 - val_mae: 25028.7578\n",
      "Epoch 17/150\n",
      "548/548 [==============================] - 41s 74ms/step - loss: 597934336.0000 - mae: 24422.2207 - val_loss: 600520768.0000 - val_mae: 24490.8340\n",
      "Epoch 18/150\n",
      "548/548 [==============================] - 38s 70ms/step - loss: 577040192.0000 - mae: 23995.0391 - val_loss: 577578624.0000 - val_mae: 24018.9473\n",
      "Epoch 19/150\n",
      "548/548 [==============================] - 39s 72ms/step - loss: 555734208.0000 - mae: 23549.1211 - val_loss: 559564736.0000 - val_mae: 23644.6602\n",
      "Epoch 20/150\n",
      "548/548 [==============================] - 40s 73ms/step - loss: 533913760.0000 - mae: 23083.1543 - val_loss: 530064448.0000 - val_mae: 23011.3184\n",
      "Epoch 21/150\n",
      "548/548 [==============================] - 41s 75ms/step - loss: 511728576.0000 - mae: 22598.0469 - val_loss: 495997536.0000 - val_mae: 22259.8477\n",
      "Epoch 22/150\n",
      "548/548 [==============================] - 40s 73ms/step - loss: 489225152.0000 - mae: 22093.9297 - val_loss: 480475616.0000 - val_mae: 21908.4570\n",
      "Epoch 23/150\n",
      "548/548 [==============================] - 40s 73ms/step - loss: 466416352.0000 - mae: 21572.4629 - val_loss: 460867040.0000 - val_mae: 21457.1250\n",
      "Epoch 24/150\n",
      "548/548 [==============================] - 39s 71ms/step - loss: 443421024.0000 - mae: 21032.6895 - val_loss: 431667296.0000 - val_mae: 20765.7070\n",
      "Epoch 25/150\n",
      "548/548 [==============================] - 40s 73ms/step - loss: 420329280.0000 - mae: 20475.5957 - val_loss: 409523968.0000 - val_mae: 20221.2246\n",
      "Epoch 26/150\n",
      "548/548 [==============================] - 40s 72ms/step - loss: 397119776.0000 - mae: 19900.5469 - val_loss: 385154848.0000 - val_mae: 19614.1328\n",
      "Epoch 27/150\n",
      "548/548 [==============================] - 40s 73ms/step - loss: 373838176.0000 - mae: 19309.7129 - val_loss: 362875264.0000 - val_mae: 19036.7480\n",
      "Epoch 28/150\n",
      "548/548 [==============================] - 40s 73ms/step - loss: 350796160.0000 - mae: 18702.0254 - val_loss: 350248128.0000 - val_mae: 18702.2207\n",
      "Epoch 29/150\n",
      "548/548 [==============================] - 40s 73ms/step - loss: 327870656.0000 - mae: 18078.5840 - val_loss: 323347904.0000 - val_mae: 17969.3320\n",
      "Epoch 30/150\n",
      "548/548 [==============================] - 30s 54ms/step - loss: 305045120.0000 - mae: 17437.7598 - val_loss: 294958368.0000 - val_mae: 17161.9805\n",
      "Epoch 31/150\n",
      "548/548 [==============================] - 28s 52ms/step - loss: 282700320.0000 - mae: 16782.4570 - val_loss: 268615520.0000 - val_mae: 16376.4053\n",
      "Epoch 32/150\n",
      "548/548 [==============================] - 28s 51ms/step - loss: 260638768.0000 - mae: 16113.3027 - val_loss: 251140112.0000 - val_mae: 15833.9229\n",
      "Epoch 33/150\n",
      "548/548 [==============================] - 27s 49ms/step - loss: 239090224.0000 - mae: 15429.3857 - val_loss: 229226368.0000 - val_mae: 15124.6855\n",
      "Epoch 34/150\n",
      "548/548 [==============================] - 26s 47ms/step - loss: 217934800.0000 - mae: 14731.0010 - val_loss: 210356384.0000 - val_mae: 14490.3184\n",
      "Epoch 35/150\n",
      "548/548 [==============================] - 25s 46ms/step - loss: 197480448.0000 - mae: 14018.7324 - val_loss: 187498816.0000 - val_mae: 13675.4932\n",
      "Epoch 36/150\n",
      "548/548 [==============================] - 26s 47ms/step - loss: 177751216.0000 - mae: 13295.0498 - val_loss: 168604752.0000 - val_mae: 12968.9727\n",
      "Epoch 37/150\n",
      "548/548 [==============================] - 26s 48ms/step - loss: 158647360.0000 - mae: 12559.8516 - val_loss: 147679680.0000 - val_mae: 12136.7568\n",
      "Epoch 38/150\n",
      "548/548 [==============================] - 26s 47ms/step - loss: 140495216.0000 - mae: 11813.7168 - val_loss: 132838224.0000 - val_mae: 11508.4902\n",
      "Epoch 39/150\n",
      "548/548 [==============================] - 25s 46ms/step - loss: 123254600.0000 - mae: 11056.5986 - val_loss: 114062136.0000 - val_mae: 10662.1631\n",
      "Epoch 40/150\n",
      "548/548 [==============================] - 26s 48ms/step - loss: 106929440.0000 - mae: 10292.9863 - val_loss: 99746808.0000 - val_mae: 9964.7100\n",
      "Epoch 41/150\n",
      "548/548 [==============================] - 27s 49ms/step - loss: 91637664.0000 - mae: 9522.3711 - val_loss: 85091392.0000 - val_mae: 9202.2188\n",
      "Epoch 42/150\n",
      "548/548 [==============================] - 26s 47ms/step - loss: 77458960.0000 - mae: 8746.4102 - val_loss: 70593768.0000 - val_mae: 8381.2324\n",
      "Epoch 43/150\n",
      "548/548 [==============================] - 26s 47ms/step - loss: 64472968.0000 - mae: 7964.9854 - val_loss: 57158084.0000 - val_mae: 7536.6499\n",
      "Epoch 44/150\n",
      "548/548 [==============================] - 27s 49ms/step - loss: 52607928.0000 - mae: 7186.4380 - val_loss: 46383692.0000 - val_mae: 6782.2642\n",
      "Epoch 45/150\n",
      "548/548 [==============================] - 26s 47ms/step - loss: 41969432.0000 - mae: 6409.3970 - val_loss: 37858800.0000 - val_mae: 6122.1396\n",
      "Epoch 46/150\n",
      "548/548 [==============================] - 26s 48ms/step - loss: 32796228.0000 - mae: 5637.8320 - val_loss: 31917286.0000 - val_mae: 5605.6777\n",
      "Epoch 47/150\n",
      "548/548 [==============================] - 26s 47ms/step - loss: 24780116.0000 - mae: 4877.3901 - val_loss: 20317850.0000 - val_mae: 4467.8506\n",
      "Epoch 48/150\n",
      "548/548 [==============================] - 26s 47ms/step - loss: 18084168.0000 - mae: 4136.6499 - val_loss: 13544890.0000 - val_mae: 3635.0586\n",
      "Epoch 49/150\n",
      "548/548 [==============================] - 26s 47ms/step - loss: 12630021.0000 - mae: 3424.9570 - val_loss: 11028104.0000 - val_mae: 3268.0247\n",
      "Epoch 50/150\n",
      "548/548 [==============================] - 26s 48ms/step - loss: 8427499.0000 - mae: 2743.3142 - val_loss: 7168973.0000 - val_mae: 2617.1155\n",
      "Epoch 51/150\n",
      "548/548 [==============================] - 26s 47ms/step - loss: 5285212.0000 - mae: 2111.7131 - val_loss: 3404275.0000 - val_mae: 1752.4354\n",
      "Epoch 52/150\n",
      "548/548 [==============================] - 26s 47ms/step - loss: 3295110.2500 - mae: 1579.9954 - val_loss: 1942881.1250 - val_mae: 1286.7533\n",
      "Epoch 53/150\n",
      "548/548 [==============================] - 26s 48ms/step - loss: 1910272.2500 - mae: 1157.3616 - val_loss: 1294068.1250 - val_mae: 997.9848\n",
      "Epoch 54/150\n",
      "548/548 [==============================] - 26s 47ms/step - loss: 1357957.7500 - mae: 939.4164 - val_loss: 587139.1250 - val_mae: 605.3452\n",
      "Epoch 55/150\n",
      "548/548 [==============================] - 26s 48ms/step - loss: 1119023.8750 - mae: 832.8140 - val_loss: 447157.3125 - val_mae: 494.5905\n",
      "Epoch 56/150\n",
      "548/548 [==============================] - 27s 48ms/step - loss: 920969.6875 - mae: 743.0989 - val_loss: 378585.5938 - val_mae: 435.8147\n",
      "Epoch 57/150\n",
      "548/548 [==============================] - 26s 48ms/step - loss: 877025.6250 - mae: 729.1626 - val_loss: 345326.9062 - val_mae: 406.8813\n",
      "Epoch 58/150\n",
      "548/548 [==============================] - 26s 48ms/step - loss: 899970.6250 - mae: 744.8592 - val_loss: 380347.1250 - val_mae: 446.1935\n",
      "Epoch 59/150\n",
      "548/548 [==============================] - 26s 48ms/step - loss: 874515.3125 - mae: 735.5844 - val_loss: 337243.5312 - val_mae: 405.5582\n",
      "Epoch 60/150\n",
      "548/548 [==============================] - 26s 47ms/step - loss: 876975.5625 - mae: 733.6074 - val_loss: 375083.2188 - val_mae: 433.4919\n",
      "Epoch 61/150\n",
      "548/548 [==============================] - 26s 47ms/step - loss: 866886.1250 - mae: 731.1763 - val_loss: 378381.7812 - val_mae: 435.9653\n",
      "Epoch 62/150\n",
      "548/548 [==============================] - 26s 48ms/step - loss: 886989.4375 - mae: 730.9823 - val_loss: 335639.0312 - val_mae: 404.2400\n",
      "Epoch 63/150\n",
      "548/548 [==============================] - 26s 48ms/step - loss: 865586.0625 - mae: 730.1827 - val_loss: 348260.3125 - val_mae: 419.3409\n",
      "Epoch 64/150\n",
      "548/548 [==============================] - 26s 48ms/step - loss: 877612.4375 - mae: 732.3649 - val_loss: 321583.5000 - val_mae: 393.9507\n",
      "Epoch 65/150\n",
      "548/548 [==============================] - 26s 47ms/step - loss: 914602.0625 - mae: 747.7750 - val_loss: 368891.8125 - val_mae: 430.0435\n",
      "Epoch 66/150\n",
      "548/548 [==============================] - 26s 47ms/step - loss: 865210.8125 - mae: 729.7959 - val_loss: 347708.2812 - val_mae: 413.0746\n",
      "Epoch 67/150\n",
      "548/548 [==============================] - 26s 48ms/step - loss: 880574.0625 - mae: 733.9044 - val_loss: 349949.5938 - val_mae: 411.8409\n",
      "Epoch 68/150\n",
      "548/548 [==============================] - 26s 47ms/step - loss: 831641.6875 - mae: 716.4420 - val_loss: 348686.5312 - val_mae: 415.9803\n",
      "Epoch 69/150\n",
      "548/548 [==============================] - 26s 48ms/step - loss: 899326.0000 - mae: 739.9116 - val_loss: 379451.7188 - val_mae: 445.1468\n",
      "Epoch 70/150\n",
      "548/548 [==============================] - 26s 47ms/step - loss: 828811.1875 - mae: 713.6417 - val_loss: 343092.0000 - val_mae: 393.3832\n",
      "Epoch 71/150\n",
      "548/548 [==============================] - 26s 47ms/step - loss: 895924.3125 - mae: 741.2548 - val_loss: 342822.7500 - val_mae: 406.9714\n",
      "Epoch 72/150\n",
      "548/548 [==============================] - 25s 46ms/step - loss: 857356.3750 - mae: 729.8450 - val_loss: 432075.8438 - val_mae: 471.8336\n",
      "Epoch 73/150\n",
      "548/548 [==============================] - 25s 46ms/step - loss: 920656.6250 - mae: 753.8087 - val_loss: 386995.8125 - val_mae: 424.0252\n",
      "Epoch 74/150\n",
      "548/548 [==============================] - 26s 48ms/step - loss: 896630.4375 - mae: 742.1823 - val_loss: 426495.5000 - val_mae: 470.9810\n"
     ]
    }
   ],
   "source": [
    "%%skip $SKIP_RETRAIN_RNN\n",
    "\n",
    "model_rnn = build_model_RNN(data_x_train,data_y_train)\n",
    "history_rnn = model_rnn.fit(data_x_train, data_y_train, epochs=num_epochs, batch_size=batch_size, validation_data=(data_x_val, data_y_val) , \n",
    "                                 callbacks=[myCheckpointRNN,myEarly_stoppingRNN])#, verbose=0)\n",
    "\n"
   ]
  },
  {
   "cell_type": "markdown",
   "metadata": {},
   "source": [
    "Evaluate the training process"
   ]
  },
  {
   "cell_type": "code",
   "execution_count": null,
   "metadata": {
    "colab": {
     "base_uri": "https://localhost:8080/",
     "height": 159
    },
    "id": "0f_FwfmlHyAl",
    "outputId": "080474a2-3f61-42ca-95ef-7bc23f76c853"
   },
   "outputs": [],
   "source": [
    "%%skip $SKIP_RETRAIN_RNN\n",
    "\n",
    "histRNN = pd.DataFrame(history_rnn.history)\n",
    "histRNN['epoch'] = history_rnn.epoch"
   ]
  },
  {
   "cell_type": "code",
   "execution_count": null,
   "metadata": {
    "colab": {
     "base_uri": "https://localhost:8080/",
     "height": 405
    },
    "id": "d2SviC32HyAr",
    "outputId": "512e600c-f7c8-46cd-9801-7387d6bf4f7f"
   },
   "outputs": [
    {
     "data": {
      "image/png": "[encoded data removed]",
      "text/plain": [
       "<Figure size 432x288 with 1 Axes>"
      ]
     },
     "metadata": {},
     "output_type": "display_data"
    }
   ],
   "source": [
    "%%skip $SKIP_RETRAIN_RNN\n",
    "\n",
    "fig = plot_learning_curves(histRNN,modeltype,f\"./{modeltype}/learningcurve_{namespace}.png\")"
   ]
  },
  {
   "cell_type": "markdown",
   "metadata": {},
   "source": [
    "Load best model"
   ]
  },
  {
   "cell_type": "code",
   "execution_count": null,
   "metadata": {},
   "outputs": [
    {
     "name": "stdout",
     "output_type": "stream",
     "text": [
      "Model: \"sequential_2\"\n",
      "_________________________________________________________________\n",
      "Layer (type)                 Output Shape              Param #   \n",
      "=================================================================\n",
      "simple_rnn (SimpleRNN)       (None, None, 32)          1888      \n",
      "_________________________________________________________________\n",
      "batch_normalization_4 (Batch (None, None, 32)          128       \n",
      "_________________________________________________________________\n",
      "simple_rnn_1 (SimpleRNN)     (None, None, 32)          2080      \n",
      "_________________________________________________________________\n",
      "batch_normalization_5 (Batch (None, None, 32)          128       \n",
      "_________________________________________________________________\n",
      "simple_rnn_2 (SimpleRNN)     (None, 32)                2080      \n",
      "_________________________________________________________________\n",
      "batch_normalization_6 (Batch (None, 32)                128       \n",
      "_________________________________________________________________\n",
      "dense_6 (Dense)              (None, 1)                 33        \n",
      "=================================================================\n",
      "Total params: 6,465\n",
      "Trainable params: 6,273\n",
      "Non-trainable params: 192\n",
      "_________________________________________________________________\n"
     ]
    }
   ],
   "source": [
    "model_best_RNN = keras.models.load_model(f\"./{modeltype}/my_best_model_{namespace}.h5\")\n",
    "model_best_RNN.summary()"
   ]
  },
  {
   "cell_type": "markdown",
   "metadata": {},
   "source": [
    "Evaluate predictions"
   ]
  },
  {
   "cell_type": "code",
   "execution_count": null,
   "metadata": {
    "colab": {
     "base_uri": "https://localhost:8080/"
    },
    "id": "9uYdwycxdrO0",
    "outputId": "a8fcc94c-f612-4f97-f5fa-e55b79b33234"
   },
   "outputs": [],
   "source": [
    "y_test_filtered = data_y_test0.loc[idx_test]\n",
    "y_test_filtered = y_test_filtered.squeeze(axis=1)\n",
    "Y_test_predictions = pd.Series(model_best_RNN.predict(data_x_test).flatten(),index=y_test_filtered.index)"
   ]
  },
  {
   "cell_type": "code",
   "execution_count": null,
   "metadata": {},
   "outputs": [],
   "source": [
    "eval_df = create_eval_df(Y_test_predictions,y_test_filtered)"
   ]
  },
  {
   "cell_type": "code",
   "execution_count": null,
   "metadata": {
    "colab": {
     "base_uri": "https://localhost:8080/",
     "height": 426
    },
    "id": "5X3Hs_GtHyAs",
    "outputId": "7281486a-4a6c-492c-e48f-37fa6e7d7c25"
   },
   "outputs": [
    {
     "data": {
      "image/png": "[encoded data removed]",
      "text/plain": [
       "<Figure size 432x288 with 1 Axes>"
      ]
     },
     "metadata": {},
     "output_type": "display_data"
    }
   ],
   "source": [
    "fig = plot_accuracy( eval_df,modeltype,f\"./{modeltype}/accuracy_{namespace}.png\" )"
   ]
  },
  {
   "cell_type": "code",
   "execution_count": null,
   "metadata": {
    "colab": {
     "base_uri": "https://localhost:8080/",
     "height": 422
    },
    "id": "olr-44nOHyAt",
    "outputId": "ac65b698-1f77-4a62-87cf-c99f30d4d246"
   },
   "outputs": [
    {
     "data": {
      "image/png": "[encoded data removed]",
      "text/plain": [
       "<Figure size 432x288 with 1 Axes>"
      ]
     },
     "metadata": {},
     "output_type": "display_data"
    }
   ],
   "source": [
    "fig = plot_error_variations(eval_df,modeltype,f\"./{modeltype}/error_variations_{namespace}.png\")"
   ]
  },
  {
   "cell_type": "code",
   "execution_count": null,
   "metadata": {
    "colab": {
     "base_uri": "https://localhost:8080/"
    },
    "id": "-HSnhihhHyAt",
    "outputId": "b45d472e-df1f-4ab2-97ba-6318127d0d9e"
   },
   "outputs": [
    {
     "data": {
      "text/plain": [
       "1.4522104265860996"
      ]
     },
     "metadata": {},
     "output_type": "display_data"
    }
   ],
   "source": [
    "abs_error_rnn = abs(Y_test_predictions - y_test_filtered)/y_test_filtered*100\n",
    "np.average(abs_error_rnn)"
   ]
  },
  {
   "cell_type": "code",
   "execution_count": null,
   "metadata": {
    "colab": {
     "base_uri": "https://localhost:8080/"
    },
    "id": "-Og3-ec1HyAv",
    "outputId": "f0d3e172-622e-4dd4-a8ec-3f84e320356b"
   },
   "outputs": [
    {
     "name": "stdout",
     "output_type": "stream",
     "text": [
      "R^2 score is  0.98\n"
     ]
    }
   ],
   "source": [
    "#Calculating R2 value:\n",
    "r2_test = r2_score(y_test_filtered, Y_test_predictions)\n",
    "print('R^2 score is  %3.2f' %r2_test)"
   ]
  },
  {
   "cell_type": "code",
   "execution_count": null,
   "metadata": {
    "colab": {
     "base_uri": "https://localhost:8080/",
     "height": 421
    },
    "id": "bUVtrW7kHyAw",
    "outputId": "e4abb863-ccd1-4159-bd9d-7fb1a9711a9f"
   },
   "outputs": [
    {
     "data": {
      "image/png": "[encoded data removed]",
      "text/plain": [
       "<Figure size 432x288 with 1 Axes>"
      ]
     },
     "metadata": {},
     "output_type": "display_data"
    }
   ],
   "source": [
    "fig = plot_predictions(eval_df,1,modeltype,feature,f\"./{modeltype}/predictions_{namespace}.png\")"
   ]
  }
 ],
 "metadata": {
  "interpreter": {
   "hash": "39d1545a961fb91480a52a0b6f0ba22788119e75d6e41681ee81894caf37680e"
  },
  "kernelspec": {
   "display_name": "Python 3",
   "language": "python",
   "name": "python3"
  },
  "language_info": {
   "codemirror_mode": {
    "name": "ipython",
    "version": 3
   },
   "file_extension": ".py",
   "mimetype": "text/x-python",
   "name": "python",
   "nbconvert_exporter": "python",
   "pygments_lexer": "ipython3",
   "version": "3.9.4"
  }
 },
 "nbformat": 4,
 "nbformat_minor": 2
}
