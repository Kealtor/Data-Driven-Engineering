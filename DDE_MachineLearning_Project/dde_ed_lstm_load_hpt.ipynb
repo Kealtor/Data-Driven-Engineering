{
 "cells": [
  {
   "cell_type": "code",
   "execution_count": 1,
   "metadata": {},
   "outputs": [],
   "source": [
    "import numpy as np\n",
    "import pandas as pd\n",
    "from datetime import date\n",
    "import plotly.express as px\n",
    "import plotly.graph_objects as go\n",
    "import math\n",
    "import matplotlib.pyplot as plt\n",
    "from sklearn import preprocessing as pp\n",
    "import matplotlib as mpl\n",
    "from sklearn.decomposition import PCA\n",
    "from pandas.plotting import lag_plot, autocorrelation_plot\n",
    "from statsmodels.graphics.tsaplots import plot_acf, plot_pacf \n",
    "import statsmodels.api as smw\n",
    "from datetime import timedelta\n",
    "from statsmodels.tsa.statespace.sarimax import SARIMAX\n",
    "from sklearn.svm import SVR\n",
    "from sklearn.metrics import r2_score\n",
    "# ML Algorithms to be used\n",
    "import tensorflow as tf\n",
    "from tensorflow import keras\n",
    "from keras import optimizers, models, layers, regularizers\n",
    "tf.__version__\n",
    "from utils.dde_preprocessing_utils import (set_timestamp_index,\n",
    "remove_duplicates,\n",
    "remove_columns,\n",
    "extract_correlations,\n",
    "prepare_data_sarimax,\n",
    "create_test_train_split,\n",
    "create_sarimax_test_train_split,\n",
    "create_eval_df,\n",
    "convert_to_sample_time_feature)\n",
    "from utils.dde_plotting_utils import(\n",
    "display_double_timestamps,\n",
    "display_seasonal_decomposition,\n",
    "plot_predictions,\n",
    "plot_accuracy,\n",
    "plot_error_variations,\n",
    "plot_learning_curves,\n",
    ")\n",
    "%load_ext skip_kernel_extension"
   ]
  },
  {
   "cell_type": "code",
   "execution_count": 2,
   "metadata": {},
   "outputs": [],
   "source": [
    "import keras_tuner as kt\n"
   ]
  },
  {
   "cell_type": "code",
   "execution_count": 3,
   "metadata": {},
   "outputs": [],
   "source": [
    "config = tf.compat.v1.ConfigProto(gpu_options=tf.compat.v1.GPUOptions(per_process_gpu_memory_fraction=0.8))\n",
    "config.gpu_options.allow_growth = True\n",
    "session = tf.compat.v1.Session(config=config)\n",
    "tf.compat.v1.keras.backend.set_session(session)\n",
    "mpl.rcParams['figure.figsize'] = [8.0, 8.0]"
   ]
  },
  {
   "cell_type": "code",
   "execution_count": 4,
   "metadata": {},
   "outputs": [],
   "source": [
    "SKIP_RETRAIN_NN =True\n",
    "SKIP_RETRAIN_RNN = True\n",
    "SKIP_RETRAIN_LSTM = True\n",
    "SKIP_RETRAIN_ED_LSTM = True"
   ]
  },
  {
   "cell_type": "markdown",
   "metadata": {},
   "source": [
    "## Loading Data"
   ]
  },
  {
   "cell_type": "code",
   "execution_count": 5,
   "metadata": {},
   "outputs": [],
   "source": [
    "combined_df = pd.read_csv(\"preprocessed_data.csv\")\n",
    "combined_df = set_timestamp_index(combined_df,\"Unnamed: 0\")"
   ]
  },
  {
   "cell_type": "code",
   "execution_count": 6,
   "metadata": {},
   "outputs": [
    {
     "data": {
      "text/html": [
       "<div>\n",
       "<style scoped>\n",
       "    .dataframe tbody tr th:only-of-type {\n",
       "        vertical-align: middle;\n",
       "    }\n",
       "\n",
       "    .dataframe tbody tr th {\n",
       "        vertical-align: top;\n",
       "    }\n",
       "\n",
       "    .dataframe thead th {\n",
       "        text-align: right;\n",
       "    }\n",
       "</style>\n",
       "<table border=\"1\" class=\"dataframe\">\n",
       "  <thead>\n",
       "    <tr style=\"text-align: right;\">\n",
       "      <th></th>\n",
       "      <th>temp</th>\n",
       "      <th>pressure</th>\n",
       "      <th>humidity</th>\n",
       "      <th>wind_speed</th>\n",
       "      <th>wind_deg</th>\n",
       "      <th>generation biomass</th>\n",
       "      <th>generation fossil brown coal/lignite</th>\n",
       "      <th>generation fossil gas</th>\n",
       "      <th>generation fossil hard coal</th>\n",
       "      <th>generation fossil oil</th>\n",
       "      <th>...</th>\n",
       "      <th>generation solar</th>\n",
       "      <th>generation waste</th>\n",
       "      <th>generation wind onshore</th>\n",
       "      <th>total load actual</th>\n",
       "      <th>price actual</th>\n",
       "      <th>generation</th>\n",
       "      <th>energy_difference</th>\n",
       "      <th>month</th>\n",
       "      <th>day</th>\n",
       "      <th>weekend</th>\n",
       "    </tr>\n",
       "  </thead>\n",
       "  <tbody>\n",
       "    <tr>\n",
       "      <th>2015-01-01 00:00:00+01:00</th>\n",
       "      <td>-2.675</td>\n",
       "      <td>1001.0</td>\n",
       "      <td>77</td>\n",
       "      <td>1.0</td>\n",
       "      <td>62</td>\n",
       "      <td>447.0</td>\n",
       "      <td>329.0</td>\n",
       "      <td>4844.0</td>\n",
       "      <td>4821.0</td>\n",
       "      <td>162.0</td>\n",
       "      <td>...</td>\n",
       "      <td>49.0</td>\n",
       "      <td>196.0</td>\n",
       "      <td>6378.0</td>\n",
       "      <td>25385.0</td>\n",
       "      <td>65.41</td>\n",
       "      <td>28251.0</td>\n",
       "      <td>2866.0</td>\n",
       "      <td>1</td>\n",
       "      <td>1</td>\n",
       "      <td>0</td>\n",
       "    </tr>\n",
       "    <tr>\n",
       "      <th>2015-01-01 01:00:00+01:00</th>\n",
       "      <td>-2.675</td>\n",
       "      <td>1001.0</td>\n",
       "      <td>77</td>\n",
       "      <td>1.0</td>\n",
       "      <td>62</td>\n",
       "      <td>449.0</td>\n",
       "      <td>328.0</td>\n",
       "      <td>5196.0</td>\n",
       "      <td>4755.0</td>\n",
       "      <td>158.0</td>\n",
       "      <td>...</td>\n",
       "      <td>50.0</td>\n",
       "      <td>195.0</td>\n",
       "      <td>5890.0</td>\n",
       "      <td>24382.0</td>\n",
       "      <td>64.92</td>\n",
       "      <td>27818.0</td>\n",
       "      <td>3436.0</td>\n",
       "      <td>1</td>\n",
       "      <td>1</td>\n",
       "      <td>0</td>\n",
       "    </tr>\n",
       "    <tr>\n",
       "      <th>2015-01-01 02:00:00+01:00</th>\n",
       "      <td>-3.464</td>\n",
       "      <td>1002.0</td>\n",
       "      <td>78</td>\n",
       "      <td>0.0</td>\n",
       "      <td>23</td>\n",
       "      <td>448.0</td>\n",
       "      <td>323.0</td>\n",
       "      <td>4857.0</td>\n",
       "      <td>4581.0</td>\n",
       "      <td>157.0</td>\n",
       "      <td>...</td>\n",
       "      <td>50.0</td>\n",
       "      <td>196.0</td>\n",
       "      <td>5461.0</td>\n",
       "      <td>22734.0</td>\n",
       "      <td>64.48</td>\n",
       "      <td>26796.0</td>\n",
       "      <td>4062.0</td>\n",
       "      <td>1</td>\n",
       "      <td>1</td>\n",
       "      <td>0</td>\n",
       "    </tr>\n",
       "    <tr>\n",
       "      <th>2015-01-01 03:00:00+01:00</th>\n",
       "      <td>-3.464</td>\n",
       "      <td>1002.0</td>\n",
       "      <td>78</td>\n",
       "      <td>0.0</td>\n",
       "      <td>23</td>\n",
       "      <td>438.0</td>\n",
       "      <td>254.0</td>\n",
       "      <td>4314.0</td>\n",
       "      <td>4131.0</td>\n",
       "      <td>160.0</td>\n",
       "      <td>...</td>\n",
       "      <td>50.0</td>\n",
       "      <td>191.0</td>\n",
       "      <td>5238.0</td>\n",
       "      <td>21286.0</td>\n",
       "      <td>59.32</td>\n",
       "      <td>25223.0</td>\n",
       "      <td>3937.0</td>\n",
       "      <td>1</td>\n",
       "      <td>1</td>\n",
       "      <td>0</td>\n",
       "    </tr>\n",
       "    <tr>\n",
       "      <th>2015-01-01 04:00:00+01:00</th>\n",
       "      <td>-3.464</td>\n",
       "      <td>1002.0</td>\n",
       "      <td>78</td>\n",
       "      <td>0.0</td>\n",
       "      <td>23</td>\n",
       "      <td>428.0</td>\n",
       "      <td>187.0</td>\n",
       "      <td>4130.0</td>\n",
       "      <td>3840.0</td>\n",
       "      <td>156.0</td>\n",
       "      <td>...</td>\n",
       "      <td>42.0</td>\n",
       "      <td>189.0</td>\n",
       "      <td>4935.0</td>\n",
       "      <td>20264.0</td>\n",
       "      <td>56.04</td>\n",
       "      <td>24620.0</td>\n",
       "      <td>4356.0</td>\n",
       "      <td>1</td>\n",
       "      <td>1</td>\n",
       "      <td>0</td>\n",
       "    </tr>\n",
       "    <tr>\n",
       "      <th>...</th>\n",
       "      <td>...</td>\n",
       "      <td>...</td>\n",
       "      <td>...</td>\n",
       "      <td>...</td>\n",
       "      <td>...</td>\n",
       "      <td>...</td>\n",
       "      <td>...</td>\n",
       "      <td>...</td>\n",
       "      <td>...</td>\n",
       "      <td>...</td>\n",
       "      <td>...</td>\n",
       "      <td>...</td>\n",
       "      <td>...</td>\n",
       "      <td>...</td>\n",
       "      <td>...</td>\n",
       "      <td>...</td>\n",
       "      <td>...</td>\n",
       "      <td>...</td>\n",
       "      <td>...</td>\n",
       "      <td>...</td>\n",
       "      <td>...</td>\n",
       "    </tr>\n",
       "    <tr>\n",
       "      <th>2018-12-31 19:00:00+01:00</th>\n",
       "      <td>12.490</td>\n",
       "      <td>1028.0</td>\n",
       "      <td>62</td>\n",
       "      <td>2.0</td>\n",
       "      <td>140</td>\n",
       "      <td>297.0</td>\n",
       "      <td>0.0</td>\n",
       "      <td>7634.0</td>\n",
       "      <td>2628.0</td>\n",
       "      <td>178.0</td>\n",
       "      <td>...</td>\n",
       "      <td>85.0</td>\n",
       "      <td>277.0</td>\n",
       "      <td>3113.0</td>\n",
       "      <td>30653.0</td>\n",
       "      <td>77.02</td>\n",
       "      <td>26415.0</td>\n",
       "      <td>-4238.0</td>\n",
       "      <td>12</td>\n",
       "      <td>31</td>\n",
       "      <td>0</td>\n",
       "    </tr>\n",
       "    <tr>\n",
       "      <th>2018-12-31 20:00:00+01:00</th>\n",
       "      <td>9.990</td>\n",
       "      <td>1029.0</td>\n",
       "      <td>71</td>\n",
       "      <td>1.0</td>\n",
       "      <td>242</td>\n",
       "      <td>296.0</td>\n",
       "      <td>0.0</td>\n",
       "      <td>7241.0</td>\n",
       "      <td>2566.0</td>\n",
       "      <td>174.0</td>\n",
       "      <td>...</td>\n",
       "      <td>33.0</td>\n",
       "      <td>280.0</td>\n",
       "      <td>3288.0</td>\n",
       "      <td>29735.0</td>\n",
       "      <td>76.16</td>\n",
       "      <td>25213.0</td>\n",
       "      <td>-4522.0</td>\n",
       "      <td>12</td>\n",
       "      <td>31</td>\n",
       "      <td>0</td>\n",
       "    </tr>\n",
       "    <tr>\n",
       "      <th>2018-12-31 21:00:00+01:00</th>\n",
       "      <td>8.510</td>\n",
       "      <td>1029.0</td>\n",
       "      <td>81</td>\n",
       "      <td>3.0</td>\n",
       "      <td>300</td>\n",
       "      <td>292.0</td>\n",
       "      <td>0.0</td>\n",
       "      <td>7025.0</td>\n",
       "      <td>2422.0</td>\n",
       "      <td>168.0</td>\n",
       "      <td>...</td>\n",
       "      <td>31.0</td>\n",
       "      <td>286.0</td>\n",
       "      <td>3503.0</td>\n",
       "      <td>28071.0</td>\n",
       "      <td>74.30</td>\n",
       "      <td>23987.0</td>\n",
       "      <td>-4084.0</td>\n",
       "      <td>12</td>\n",
       "      <td>31</td>\n",
       "      <td>0</td>\n",
       "    </tr>\n",
       "    <tr>\n",
       "      <th>2018-12-31 22:00:00+01:00</th>\n",
       "      <td>6.990</td>\n",
       "      <td>1029.0</td>\n",
       "      <td>81</td>\n",
       "      <td>2.0</td>\n",
       "      <td>310</td>\n",
       "      <td>293.0</td>\n",
       "      <td>0.0</td>\n",
       "      <td>6562.0</td>\n",
       "      <td>2293.0</td>\n",
       "      <td>163.0</td>\n",
       "      <td>...</td>\n",
       "      <td>31.0</td>\n",
       "      <td>287.0</td>\n",
       "      <td>3586.0</td>\n",
       "      <td>25801.0</td>\n",
       "      <td>69.89</td>\n",
       "      <td>22748.0</td>\n",
       "      <td>-3053.0</td>\n",
       "      <td>12</td>\n",
       "      <td>31</td>\n",
       "      <td>0</td>\n",
       "    </tr>\n",
       "    <tr>\n",
       "      <th>2018-12-31 23:00:00+01:00</th>\n",
       "      <td>5.990</td>\n",
       "      <td>1029.0</td>\n",
       "      <td>75</td>\n",
       "      <td>2.0</td>\n",
       "      <td>300</td>\n",
       "      <td>290.0</td>\n",
       "      <td>0.0</td>\n",
       "      <td>6926.0</td>\n",
       "      <td>2166.0</td>\n",
       "      <td>163.0</td>\n",
       "      <td>...</td>\n",
       "      <td>31.0</td>\n",
       "      <td>287.0</td>\n",
       "      <td>3651.0</td>\n",
       "      <td>24455.0</td>\n",
       "      <td>69.88</td>\n",
       "      <td>22605.0</td>\n",
       "      <td>-1850.0</td>\n",
       "      <td>12</td>\n",
       "      <td>31</td>\n",
       "      <td>0</td>\n",
       "    </tr>\n",
       "  </tbody>\n",
       "</table>\n",
       "<p>35064 rows × 26 columns</p>\n",
       "</div>"
      ],
      "text/plain": [
       "                             temp  pressure  humidity  wind_speed  wind_deg  \\\n",
       "2015-01-01 00:00:00+01:00  -2.675    1001.0        77         1.0        62   \n",
       "2015-01-01 01:00:00+01:00  -2.675    1001.0        77         1.0        62   \n",
       "2015-01-01 02:00:00+01:00  -3.464    1002.0        78         0.0        23   \n",
       "2015-01-01 03:00:00+01:00  -3.464    1002.0        78         0.0        23   \n",
       "2015-01-01 04:00:00+01:00  -3.464    1002.0        78         0.0        23   \n",
       "...                           ...       ...       ...         ...       ...   \n",
       "2018-12-31 19:00:00+01:00  12.490    1028.0        62         2.0       140   \n",
       "2018-12-31 20:00:00+01:00   9.990    1029.0        71         1.0       242   \n",
       "2018-12-31 21:00:00+01:00   8.510    1029.0        81         3.0       300   \n",
       "2018-12-31 22:00:00+01:00   6.990    1029.0        81         2.0       310   \n",
       "2018-12-31 23:00:00+01:00   5.990    1029.0        75         2.0       300   \n",
       "\n",
       "                           generation biomass  \\\n",
       "2015-01-01 00:00:00+01:00               447.0   \n",
       "2015-01-01 01:00:00+01:00               449.0   \n",
       "2015-01-01 02:00:00+01:00               448.0   \n",
       "2015-01-01 03:00:00+01:00               438.0   \n",
       "2015-01-01 04:00:00+01:00               428.0   \n",
       "...                                       ...   \n",
       "2018-12-31 19:00:00+01:00               297.0   \n",
       "2018-12-31 20:00:00+01:00               296.0   \n",
       "2018-12-31 21:00:00+01:00               292.0   \n",
       "2018-12-31 22:00:00+01:00               293.0   \n",
       "2018-12-31 23:00:00+01:00               290.0   \n",
       "\n",
       "                           generation fossil brown coal/lignite  \\\n",
       "2015-01-01 00:00:00+01:00                                 329.0   \n",
       "2015-01-01 01:00:00+01:00                                 328.0   \n",
       "2015-01-01 02:00:00+01:00                                 323.0   \n",
       "2015-01-01 03:00:00+01:00                                 254.0   \n",
       "2015-01-01 04:00:00+01:00                                 187.0   \n",
       "...                                                         ...   \n",
       "2018-12-31 19:00:00+01:00                                   0.0   \n",
       "2018-12-31 20:00:00+01:00                                   0.0   \n",
       "2018-12-31 21:00:00+01:00                                   0.0   \n",
       "2018-12-31 22:00:00+01:00                                   0.0   \n",
       "2018-12-31 23:00:00+01:00                                   0.0   \n",
       "\n",
       "                           generation fossil gas  generation fossil hard coal  \\\n",
       "2015-01-01 00:00:00+01:00                 4844.0                       4821.0   \n",
       "2015-01-01 01:00:00+01:00                 5196.0                       4755.0   \n",
       "2015-01-01 02:00:00+01:00                 4857.0                       4581.0   \n",
       "2015-01-01 03:00:00+01:00                 4314.0                       4131.0   \n",
       "2015-01-01 04:00:00+01:00                 4130.0                       3840.0   \n",
       "...                                          ...                          ...   \n",
       "2018-12-31 19:00:00+01:00                 7634.0                       2628.0   \n",
       "2018-12-31 20:00:00+01:00                 7241.0                       2566.0   \n",
       "2018-12-31 21:00:00+01:00                 7025.0                       2422.0   \n",
       "2018-12-31 22:00:00+01:00                 6562.0                       2293.0   \n",
       "2018-12-31 23:00:00+01:00                 6926.0                       2166.0   \n",
       "\n",
       "                           generation fossil oil  ...  generation solar  \\\n",
       "2015-01-01 00:00:00+01:00                  162.0  ...              49.0   \n",
       "2015-01-01 01:00:00+01:00                  158.0  ...              50.0   \n",
       "2015-01-01 02:00:00+01:00                  157.0  ...              50.0   \n",
       "2015-01-01 03:00:00+01:00                  160.0  ...              50.0   \n",
       "2015-01-01 04:00:00+01:00                  156.0  ...              42.0   \n",
       "...                                          ...  ...               ...   \n",
       "2018-12-31 19:00:00+01:00                  178.0  ...              85.0   \n",
       "2018-12-31 20:00:00+01:00                  174.0  ...              33.0   \n",
       "2018-12-31 21:00:00+01:00                  168.0  ...              31.0   \n",
       "2018-12-31 22:00:00+01:00                  163.0  ...              31.0   \n",
       "2018-12-31 23:00:00+01:00                  163.0  ...              31.0   \n",
       "\n",
       "                           generation waste  generation wind onshore  \\\n",
       "2015-01-01 00:00:00+01:00             196.0                   6378.0   \n",
       "2015-01-01 01:00:00+01:00             195.0                   5890.0   \n",
       "2015-01-01 02:00:00+01:00             196.0                   5461.0   \n",
       "2015-01-01 03:00:00+01:00             191.0                   5238.0   \n",
       "2015-01-01 04:00:00+01:00             189.0                   4935.0   \n",
       "...                                     ...                      ...   \n",
       "2018-12-31 19:00:00+01:00             277.0                   3113.0   \n",
       "2018-12-31 20:00:00+01:00             280.0                   3288.0   \n",
       "2018-12-31 21:00:00+01:00             286.0                   3503.0   \n",
       "2018-12-31 22:00:00+01:00             287.0                   3586.0   \n",
       "2018-12-31 23:00:00+01:00             287.0                   3651.0   \n",
       "\n",
       "                           total load actual  price actual  generation  \\\n",
       "2015-01-01 00:00:00+01:00            25385.0         65.41     28251.0   \n",
       "2015-01-01 01:00:00+01:00            24382.0         64.92     27818.0   \n",
       "2015-01-01 02:00:00+01:00            22734.0         64.48     26796.0   \n",
       "2015-01-01 03:00:00+01:00            21286.0         59.32     25223.0   \n",
       "2015-01-01 04:00:00+01:00            20264.0         56.04     24620.0   \n",
       "...                                      ...           ...         ...   \n",
       "2018-12-31 19:00:00+01:00            30653.0         77.02     26415.0   \n",
       "2018-12-31 20:00:00+01:00            29735.0         76.16     25213.0   \n",
       "2018-12-31 21:00:00+01:00            28071.0         74.30     23987.0   \n",
       "2018-12-31 22:00:00+01:00            25801.0         69.89     22748.0   \n",
       "2018-12-31 23:00:00+01:00            24455.0         69.88     22605.0   \n",
       "\n",
       "                           energy_difference  month  day  weekend  \n",
       "2015-01-01 00:00:00+01:00             2866.0      1    1        0  \n",
       "2015-01-01 01:00:00+01:00             3436.0      1    1        0  \n",
       "2015-01-01 02:00:00+01:00             4062.0      1    1        0  \n",
       "2015-01-01 03:00:00+01:00             3937.0      1    1        0  \n",
       "2015-01-01 04:00:00+01:00             4356.0      1    1        0  \n",
       "...                                      ...    ...  ...      ...  \n",
       "2018-12-31 19:00:00+01:00            -4238.0     12   31        0  \n",
       "2018-12-31 20:00:00+01:00            -4522.0     12   31        0  \n",
       "2018-12-31 21:00:00+01:00            -4084.0     12   31        0  \n",
       "2018-12-31 22:00:00+01:00            -3053.0     12   31        0  \n",
       "2018-12-31 23:00:00+01:00            -1850.0     12   31        0  \n",
       "\n",
       "[35064 rows x 26 columns]"
      ]
     },
     "execution_count": 6,
     "metadata": {},
     "output_type": "execute_result"
    }
   ],
   "source": [
    "combined_df"
   ]
  },
  {
   "cell_type": "markdown",
   "metadata": {},
   "source": [
    "# Encode- Decoder + LSTM"
   ]
  },
  {
   "cell_type": "markdown",
   "metadata": {},
   "source": [
    "Scale the input data"
   ]
  },
  {
   "cell_type": "code",
   "execution_count": 7,
   "metadata": {},
   "outputs": [],
   "source": [
    "scaled_df = combined_df.copy(deep=True)\n",
    "featuresToScale = scaled_df.columns\n",
    "sX = pp.StandardScaler(copy=True)\n",
    "scaled_df.loc[:,featuresToScale] = sX.fit_transform(scaled_df[featuresToScale])"
   ]
  },
  {
   "cell_type": "markdown",
   "metadata": {},
   "source": [
    "Create Train Validation Test Split"
   ]
  },
  {
   "cell_type": "code",
   "execution_count": 8,
   "metadata": {},
   "outputs": [],
   "source": [
    "train_start = '2015-01-01'\n",
    "validation_start = '2017-01-01'\n",
    "test_start = '2017-03-01'\n",
    "test_end = '2017-03-14'\n",
    "feature = 'total load actual'\n",
    "namespace= 'MS_EDLSTM_LOAD_HPT'\n",
    "model_type = 'EDLSTM'\n",
    "feature_df = combined_df[[feature]]\n",
    "data_x_train0,data_x_val0,data_x_test0,data_y_train0,data_y_val0,data_y_test0 = create_test_train_split(scaled_df,feature_df,train_start,test_start,test_end,validation_start=validation_start)"
   ]
  },
  {
   "cell_type": "markdown",
   "metadata": {},
   "source": [
    "Convert to (sample,timestep,feature) format"
   ]
  },
  {
   "cell_type": "code",
   "execution_count": 9,
   "metadata": {},
   "outputs": [],
   "source": [
    "data_x_train,data_y_train,idx_train = convert_to_sample_time_feature(data_x_train0,data_y_train0,72,24,32)\n",
    "data_x_test,data_y_test,idx_test = convert_to_sample_time_feature(data_x_test0,data_y_test0,72,24,32)\n",
    "data_x_val,data_y_val,idx_val = convert_to_sample_time_feature(data_x_val0,data_y_val0,72,24,32)\n"
   ]
  },
  {
   "cell_type": "code",
   "execution_count": 10,
   "metadata": {},
   "outputs": [
    {
     "name": "stdout",
     "output_type": "stream",
     "text": [
      "(17416, 72, 26) (17416, 24)\n",
      "(1288, 72, 26) (1288, 24)\n",
      "(168, 72, 26) (168, 24)\n"
     ]
    }
   ],
   "source": [
    "print(data_x_train.shape,data_y_train.shape)\n",
    "print(data_x_val.shape,data_y_val.shape)\n",
    "print(data_x_test.shape,data_y_test.shape)"
   ]
  },
  {
   "cell_type": "code",
   "execution_count": 11,
   "metadata": {},
   "outputs": [
    {
     "data": {
      "text/plain": [
       "(Timestamp('2017-03-04 00:00:00+0100', tz='Europe/Berlin', freq='H'),\n",
       " array([23883., 22318., 21483., 21167., 21195., 21938., 24929., 28875.,\n",
       "        31046., 32130., 32136., 32019., 32064., 31784., 30638., 29929.,\n",
       "        29513., 29215., 28744., 28696., 30553., 32696., 30130., 27524.]))"
      ]
     },
     "execution_count": 11,
     "metadata": {},
     "output_type": "execute_result"
    }
   ],
   "source": [
    "idx_test[0],data_y_test[0]"
   ]
  },
  {
   "cell_type": "code",
   "execution_count": 12,
   "metadata": {},
   "outputs": [
    {
     "data": {
      "text/plain": [
       "(total load actual    23883.0\n",
       " Name: 2017-03-04 00:00:00+01:00, dtype: float64,\n",
       " total load actual    22318.0\n",
       " Name: 2017-03-04 01:00:00+01:00, dtype: float64,\n",
       " total load actual    21483.0\n",
       " Name: 2017-03-04 02:00:00+01:00, dtype: float64)"
      ]
     },
     "execution_count": 12,
     "metadata": {},
     "output_type": "execute_result"
    }
   ],
   "source": [
    "#Original dataset:\n",
    "data_y_test0.loc['2017-03-04 00:00:00+0100'],data_y_test0.loc['2017-03-04 01:00:00+0100'],data_y_test0.loc['2017-03-04 02:00:00+0100']#, data_y_test0.loc[24],data_y_test0.loc[25]"
   ]
  },
  {
   "cell_type": "markdown",
   "metadata": {},
   "source": [
    "Evaluate the training process"
   ]
  },
  {
   "cell_type": "markdown",
   "metadata": {},
   "source": [
    "Define LSTM Model"
   ]
  },
  {
   "cell_type": "code",
   "execution_count": 13,
   "metadata": {},
   "outputs": [],
   "source": [
    "def build_model_ED_LSTM(hp):\n",
    "  n_timesteps, n_features, n_outputs = data_x_train.shape[1], data_x_train.shape[2], data_y_train.shape[1]\n",
    "  model = models.Sequential()\n",
    "  # Encoder\n",
    "  model.add(layers.LSTM(hp.Int('Neurons',min_value=32,max_value=96,step=16), return_sequences=True,input_shape=(None, n_features), stateful=False)) \n",
    "  model.add(layers.BatchNormalization())\n",
    "  \n",
    "  for i in range(hp.Int('n_layers',1,4,1)):\n",
    "    model.add(layers.LSTM(hp.Int('Neurons',min_value=32,max_value=96,step=16), return_sequences=True, stateful=False))\n",
    "    model.add(layers.BatchNormalization())\n",
    "  \n",
    "  model.add(layers.LSTM(hp.Int('Neurons',min_value=32,max_value=96,step=16), return_sequences=False, stateful=False)) \n",
    "  model.add(layers.BatchNormalization())  \n",
    "  \n",
    "  # Repeat Vector\n",
    "  model.add(layers.RepeatVector(n_outputs))\n",
    "  \n",
    "  # Decoder\n",
    "  model.add(layers.LSTM(hp.Int('Neurons',min_value=32,max_value=96,step=16), return_sequences=True,stateful=False))\n",
    "  model.add(layers.BatchNormalization())\n",
    "\n",
    "  for i in range(hp.Int('n_layers',1,4,1)):\n",
    "      model.add(layers.LSTM(hp.Int('Neurons',min_value=32,max_value=96,step=16), return_sequences=True, stateful=False))\n",
    "      model.add(layers.BatchNormalization())\n",
    "\n",
    "  model.add(layers.LSTM(hp.Int('Neurons',min_value=32,max_value=96,step=16), return_sequences=True,stateful=False))\n",
    "  model.add(layers.BatchNormalization())\n",
    "\n",
    "  # End\n",
    "  model.add(layers.TimeDistributed(layers.Dense(1)))                     \n",
    "              \n",
    "  \n",
    "  model.compile(optimizer='Adam',loss='mse',metrics='mae') \n",
    "  return model"
   ]
  },
  {
   "cell_type": "code",
   "execution_count": 14,
   "metadata": {},
   "outputs": [
    {
     "name": "stdout",
     "output_type": "stream",
     "text": [
      "INFO:tensorflow:Reloading Oracle from existing project ./hpt_ED_LSTM/DDE_2\\oracle.json\n",
      "INFO:tensorflow:Reloading Tuner from ./hpt_ED_LSTM/DDE_2\\tuner0.json\n",
      "Search space summary\n",
      "Default search space size: 2\n",
      "Neurons (Int)\n",
      "{'default': None, 'conditions': [], 'min_value': 32, 'max_value': 96, 'step': 16, 'sampling': None}\n",
      "n_layers (Int)\n",
      "{'default': None, 'conditions': [], 'min_value': 1, 'max_value': 4, 'step': 1, 'sampling': None}\n"
     ]
    }
   ],
   "source": [
    "tuner = kt.RandomSearch(\n",
    "    build_model_ED_LSTM,\n",
    "    objective='val_loss',\n",
    "    max_trials=10,\n",
    "    executions_per_trial = 1,\n",
    "    directory = \"./hpt_ED_LSTM/\",\n",
    "    project_name=\"DDE_2\")\n",
    "tuner.search_space_summary()\n"
   ]
  },
  {
   "cell_type": "code",
   "execution_count": 15,
   "metadata": {},
   "outputs": [],
   "source": [
    "myCheckpointLSTM= keras.callbacks.ModelCheckpoint(f\"./{model_type}/my_best_model_{namespace}.h5\", save_best_only=True)\n",
    "myEarly_stoppingLSTM = keras.callbacks.EarlyStopping(patience=10,restore_best_weights=True)"
   ]
  },
  {
   "cell_type": "code",
   "execution_count": 16,
   "metadata": {},
   "outputs": [],
   "source": [
    "num_epochs = 150\n",
    "batch_size = 32"
   ]
  },
  {
   "cell_type": "code",
   "execution_count": 17,
   "metadata": {},
   "outputs": [
    {
     "name": "stdout",
     "output_type": "stream",
     "text": [
      "INFO:tensorflow:Oracle triggered exit\n"
     ]
    }
   ],
   "source": [
    "tuner.search(data_x_train,data_y_train,epochs=150,validation_data=(data_x_val,data_y_val),batch_size=batch_size,callbacks=[myCheckpointLSTM,myEarly_stoppingLSTM])"
   ]
  },
  {
   "cell_type": "code",
   "execution_count": 18,
   "metadata": {},
   "outputs": [
    {
     "name": "stdout",
     "output_type": "stream",
     "text": [
      "Results summary\n",
      "Results in ./hpt_ED_LSTM/DDE_2\n",
      "Showing 10 best trials\n",
      "Objective(name='val_loss', direction='min')\n",
      "Trial summary\n",
      "Hyperparameters:\n",
      "Neurons: 80\n",
      "n_layers: 2\n",
      "Score: 6554375.0\n",
      "Trial summary\n",
      "Hyperparameters:\n",
      "Neurons: 64\n",
      "n_layers: 1\n",
      "Score: 6809337.0\n",
      "Trial summary\n",
      "Hyperparameters:\n",
      "Neurons: 80\n",
      "n_layers: 3\n",
      "Score: 7097545.0\n",
      "Trial summary\n",
      "Hyperparameters:\n",
      "Neurons: 64\n",
      "n_layers: 3\n",
      "Score: 7223991.5\n",
      "Trial summary\n",
      "Hyperparameters:\n",
      "Neurons: 96\n",
      "n_layers: 3\n",
      "Score: 8044475.5\n",
      "Trial summary\n",
      "Hyperparameters:\n",
      "Neurons: 32\n",
      "n_layers: 4\n",
      "Score: 9238089.0\n",
      "Trial summary\n",
      "Hyperparameters:\n",
      "Neurons: 48\n",
      "n_layers: 2\n",
      "Score: 9645877.0\n",
      "Trial summary\n",
      "Hyperparameters:\n",
      "Neurons: 32\n",
      "n_layers: 2\n",
      "Score: 9690508.0\n",
      "Trial summary\n",
      "Hyperparameters:\n",
      "Neurons: 48\n",
      "n_layers: 3\n",
      "Score: 10513382.0\n",
      "Trial summary\n",
      "Hyperparameters:\n",
      "Neurons: 32\n",
      "n_layers: 3\n",
      "Score: 10803020.0\n"
     ]
    }
   ],
   "source": [
    "tuner.results_summary()"
   ]
  },
  {
   "cell_type": "code",
   "execution_count": 19,
   "metadata": {},
   "outputs": [],
   "source": [
    "best_models = tuner.get_best_models()\n",
    "best_hps = tuner.get_best_hyperparameters(5)"
   ]
  },
  {
   "cell_type": "code",
   "execution_count": 20,
   "metadata": {},
   "outputs": [
    {
     "data": {
      "text/plain": [
       "<keras_tuner.engine.hyperparameters.HyperParameters at 0x2335450c7c0>"
      ]
     },
     "execution_count": 20,
     "metadata": {},
     "output_type": "execute_result"
    }
   ],
   "source": [
    "best_hps[0]"
   ]
  },
  {
   "cell_type": "code",
   "execution_count": 21,
   "metadata": {},
   "outputs": [],
   "source": [
    "%%skip $SKIP_RETRAIN_ED_LSTM\n",
    "model_ED_LSTM= build_model_ED_LSTM(best_hps[0])\n",
    "history_ED_LSTM = model_ED_LSTM.fit(data_x_train, data_y_train, epochs=num_epochs, batch_size=batch_size, validation_data=(data_x_val, data_y_val) , \n",
    "                                 callbacks=[myCheckpointLSTM,myEarly_stoppingLSTM])"
   ]
  },
  {
   "cell_type": "code",
   "execution_count": 22,
   "metadata": {
    "colab": {
     "base_uri": "https://localhost:8080/",
     "height": 159
    },
    "id": "0f_FwfmlHyAl",
    "outputId": "080474a2-3f61-42ca-95ef-7bc23f76c853"
   },
   "outputs": [],
   "source": [
    "%%skip $SKIP_RETRAIN_ED_LSTM\n",
    "histEDLSTM = pd.DataFrame(history_ED_LSTM.history)\n",
    "histEDLSTM['epoch'] = history_ED_LSTM.epoch"
   ]
  },
  {
   "cell_type": "code",
   "execution_count": 23,
   "metadata": {
    "colab": {
     "base_uri": "https://localhost:8080/",
     "height": 405
    },
    "id": "d2SviC32HyAr",
    "outputId": "512e600c-f7c8-46cd-9801-7387d6bf4f7f"
   },
   "outputs": [],
   "source": [
    "%%skip $SKIP_RETRAIN_ED_LSTM\n",
    "fig = plot_learning_curves(histEDLSTM,model_type,f\"./{model_type}/learningcurve_{namespace}.png\")\n",
    "fig.show()"
   ]
  },
  {
   "cell_type": "markdown",
   "metadata": {},
   "source": [
    "Load best model"
   ]
  },
  {
   "cell_type": "code",
   "execution_count": 24,
   "metadata": {},
   "outputs": [
    {
     "name": "stdout",
     "output_type": "stream",
     "text": [
      "Model: \"sequential_1\"\n",
      "_________________________________________________________________\n",
      "Layer (type)                 Output Shape              Param #   \n",
      "=================================================================\n",
      "lstm_8 (LSTM)                (None, None, 80)          34240     \n",
      "_________________________________________________________________\n",
      "batch_normalization_8 (Batch (None, None, 80)          320       \n",
      "_________________________________________________________________\n",
      "lstm_9 (LSTM)                (None, None, 80)          51520     \n",
      "_________________________________________________________________\n",
      "batch_normalization_9 (Batch (None, None, 80)          320       \n",
      "_________________________________________________________________\n",
      "lstm_10 (LSTM)               (None, None, 80)          51520     \n",
      "_________________________________________________________________\n",
      "batch_normalization_10 (Batc (None, None, 80)          320       \n",
      "_________________________________________________________________\n",
      "lstm_11 (LSTM)               (None, 80)                51520     \n",
      "_________________________________________________________________\n",
      "batch_normalization_11 (Batc (None, 80)                320       \n",
      "_________________________________________________________________\n",
      "repeat_vector_1 (RepeatVecto (None, 24, 80)            0         \n",
      "_________________________________________________________________\n",
      "lstm_12 (LSTM)               (None, 24, 80)            51520     \n",
      "_________________________________________________________________\n",
      "batch_normalization_12 (Batc (None, 24, 80)            320       \n",
      "_________________________________________________________________\n",
      "lstm_13 (LSTM)               (None, 24, 80)            51520     \n",
      "_________________________________________________________________\n",
      "batch_normalization_13 (Batc (None, 24, 80)            320       \n",
      "_________________________________________________________________\n",
      "lstm_14 (LSTM)               (None, 24, 80)            51520     \n",
      "_________________________________________________________________\n",
      "batch_normalization_14 (Batc (None, 24, 80)            320       \n",
      "_________________________________________________________________\n",
      "lstm_15 (LSTM)               (None, 24, 80)            51520     \n",
      "_________________________________________________________________\n",
      "batch_normalization_15 (Batc (None, 24, 80)            320       \n",
      "_________________________________________________________________\n",
      "time_distributed_1 (TimeDist (None, 24, 1)             81        \n",
      "=================================================================\n",
      "Total params: 397,521\n",
      "Trainable params: 396,241\n",
      "Non-trainable params: 1,280\n",
      "_________________________________________________________________\n"
     ]
    }
   ],
   "source": [
    "#Calling back the best model:\n",
    "model_best_ED_LSTM = keras.models.load_model(f\"./{model_type}/my_best_model_{namespace}.h5\")\n",
    "model_best_ED_LSTM.summary()"
   ]
  },
  {
   "cell_type": "code",
   "execution_count": 25,
   "metadata": {},
   "outputs": [],
   "source": [
    "i=1\n",
    "case_test = data_x_test[i].reshape((1,data_x_test[0].shape[0], data_x_test[0].shape[1]))\n",
    "Y_test_predictions = pd.Series(model_best_ED_LSTM.predict(case_test).flatten(),index=pd.date_range(start=idx_test[i],freq='h',periods=24))\n",
    "y_test_filtered = data_y_test0.loc[Y_test_predictions.index]\n",
    "#y_test_filtered = y_test_filtered.squeeze(axis=1)"
   ]
  },
  {
   "cell_type": "code",
   "execution_count": 26,
   "metadata": {},
   "outputs": [],
   "source": [
    "eval_df = create_eval_df(Y_test_predictions,y_test_filtered)"
   ]
  },
  {
   "cell_type": "code",
   "execution_count": 27,
   "metadata": {
    "colab": {
     "base_uri": "https://localhost:8080/",
     "height": 426
    },
    "id": "5X3Hs_GtHyAs",
    "outputId": "7281486a-4a6c-492c-e48f-37fa6e7d7c25"
   },
   "outputs": [
    {
     "name": "stderr",
     "output_type": "stream",
     "text": [
      "<ipython-input-27-f128fcf0dccf>:2: UserWarning: Matplotlib is currently using module://ipykernel.pylab.backend_inline, which is a non-GUI backend, so cannot show the figure.\n",
      "  fig.show()\n"
     ]
    },
    {
     "data": {
      "image/png": "[encoded data removed]",
      "text/plain": [
       "<Figure size 576x576 with 1 Axes>"
      ]
     },
     "metadata": {
      "needs_background": "light"
     },
     "output_type": "display_data"
    }
   ],
   "source": [
    "fig = plot_accuracy(eval_df,model_type,f\"./{model_type}/accuracy_{namespace}.png\")\n",
    "fig.show()"
   ]
  },
  {
   "cell_type": "code",
   "execution_count": 28,
   "metadata": {
    "colab": {
     "base_uri": "https://localhost:8080/",
     "height": 422
    },
    "id": "olr-44nOHyAt",
    "outputId": "ac65b698-1f77-4a62-87cf-c99f30d4d246"
   },
   "outputs": [
    {
     "name": "stderr",
     "output_type": "stream",
     "text": [
      "<ipython-input-28-05c98d64636b>:2: UserWarning: Matplotlib is currently using module://ipykernel.pylab.backend_inline, which is a non-GUI backend, so cannot show the figure.\n",
      "  fig.show()\n"
     ]
    },
    {
     "data": {
      "image/png": "[encoded data removed]",
      "text/plain": [
       "<Figure size 576x576 with 1 Axes>"
      ]
     },
     "metadata": {
      "needs_background": "light"
     },
     "output_type": "display_data"
    }
   ],
   "source": [
    "fig = plot_error_variations(eval_df,model_type,f\"./{model_type}/error_variations_{namespace}.png\")\n",
    "fig.show()"
   ]
  },
  {
   "cell_type": "code",
   "execution_count": 29,
   "metadata": {
    "colab": {
     "base_uri": "https://localhost:8080/"
    },
    "id": "-HSnhihhHyAt",
    "outputId": "b45d472e-df1f-4ab2-97ba-6318127d0d9e"
   },
   "outputs": [
    {
     "data": {
      "text/plain": [
       "nan"
      ]
     },
     "execution_count": 29,
     "metadata": {},
     "output_type": "execute_result"
    }
   ],
   "source": [
    "#Calculating the mean absolutepercentage error:\n",
    "abs_error_ED_LSTM = abs(Y_test_predictions - y_test_filtered)/y_test_filtered*100\n",
    "np.average(abs_error_ED_LSTM)"
   ]
  },
  {
   "cell_type": "code",
   "execution_count": 30,
   "metadata": {
    "colab": {
     "base_uri": "https://localhost:8080/"
    },
    "id": "-Og3-ec1HyAv",
    "outputId": "f0d3e172-622e-4dd4-a8ec-3f84e320356b"
   },
   "outputs": [
    {
     "name": "stdout",
     "output_type": "stream",
     "text": [
      "R^2 score is  0.04\n"
     ]
    }
   ],
   "source": [
    "#Calculating R2 value:\n",
    "r2_test = r2_score(y_test_filtered, Y_test_predictions)\n",
    "print('R^2 score is  %3.2f' %r2_test)"
   ]
  },
  {
   "cell_type": "code",
   "execution_count": 31,
   "metadata": {
    "colab": {
     "base_uri": "https://localhost:8080/",
     "height": 421
    },
    "id": "bUVtrW7kHyAw",
    "outputId": "e4abb863-ccd1-4159-bd9d-7fb1a9711a9f"
   },
   "outputs": [
    {
     "name": "stderr",
     "output_type": "stream",
     "text": [
      "<ipython-input-31-65a49c2caced>:2: UserWarning: Matplotlib is currently using module://ipykernel.pylab.backend_inline, which is a non-GUI backend, so cannot show the figure.\n",
      "  fig.show()\n"
     ]
    },
    {
     "data": {
      "image/png": "[encoded data removed]",
      "text/plain": [
       "<Figure size 576x576 with 1 Axes>"
      ]
     },
     "metadata": {
      "needs_background": "light"
     },
     "output_type": "display_data"
    }
   ],
   "source": [
    "fig=plot_predictions(eval_df,1,model_type,feature,f\"./{model_type}/predictions_{namespace}.png\")\n",
    "fig.show()"
   ]
  },
  {
   "cell_type": "code",
   "execution_count": 32,
   "metadata": {},
   "outputs": [],
   "source": [
    "idx_prediction = pd.date_range(start=idx_test[0],freq='h',periods=len(idx_test)+24)\n",
    "y_test_filtered2 = data_y_test0.loc[idx_prediction]"
   ]
  },
  {
   "cell_type": "code",
   "execution_count": 33,
   "metadata": {},
   "outputs": [
    {
     "data": {
      "application/vnd.plotly.v1+json": {
       "config": {
        "plotlyServerURL": "https://plot.ly"
       },
       "data": [
        {
         "type": "scatter",
         "x": [
          "2017-03-04T00:00:00+01:00",
          "2017-03-04T01:00:00+01:00",
          "2017-03-04T02:00:00+01:00",
          "2017-03-04T03:00:00+01:00",
          "2017-03-04T04:00:00+01:00",
          "2017-03-04T05:00:00+01:00",
          "2017-03-04T06:00:00+01:00",
          "2017-03-04T07:00:00+01:00",
          "2017-03-04T08:00:00+01:00",
          "2017-03-04T09:00:00+01:00",
          "2017-03-04T10:00:00+01:00",
          "2017-03-04T11:00:00+01:00",
          "2017-03-04T12:00:00+01:00",
          "2017-03-04T13:00:00+01:00",
          "2017-03-04T14:00:00+01:00",
          "2017-03-04T15:00:00+01:00",
          "2017-03-04T16:00:00+01:00",
          "2017-03-04T17:00:00+01:00",
          "2017-03-04T18:00:00+01:00",
          "2017-03-04T19:00:00+01:00",
          "2017-03-04T20:00:00+01:00",
          "2017-03-04T21:00:00+01:00",
          "2017-03-04T22:00:00+01:00",
          "2017-03-04T23:00:00+01:00",
          "2017-03-05T00:00:00+01:00",
          "2017-03-05T01:00:00+01:00",
          "2017-03-05T02:00:00+01:00",
          "2017-03-05T03:00:00+01:00",
          "2017-03-05T04:00:00+01:00",
          "2017-03-05T05:00:00+01:00",
          "2017-03-05T06:00:00+01:00",
          "2017-03-05T07:00:00+01:00",
          "2017-03-05T08:00:00+01:00",
          "2017-03-05T09:00:00+01:00",
          "2017-03-05T10:00:00+01:00",
          "2017-03-05T11:00:00+01:00",
          "2017-03-05T12:00:00+01:00",
          "2017-03-05T13:00:00+01:00",
          "2017-03-05T14:00:00+01:00",
          "2017-03-05T15:00:00+01:00",
          "2017-03-05T16:00:00+01:00",
          "2017-03-05T17:00:00+01:00",
          "2017-03-05T18:00:00+01:00",
          "2017-03-05T19:00:00+01:00",
          "2017-03-05T20:00:00+01:00",
          "2017-03-05T21:00:00+01:00",
          "2017-03-05T22:00:00+01:00",
          "2017-03-05T23:00:00+01:00",
          "2017-03-06T00:00:00+01:00",
          "2017-03-06T01:00:00+01:00",
          "2017-03-06T02:00:00+01:00",
          "2017-03-06T03:00:00+01:00",
          "2017-03-06T04:00:00+01:00",
          "2017-03-06T05:00:00+01:00",
          "2017-03-06T06:00:00+01:00",
          "2017-03-06T07:00:00+01:00",
          "2017-03-06T08:00:00+01:00",
          "2017-03-06T09:00:00+01:00",
          "2017-03-06T10:00:00+01:00",
          "2017-03-06T11:00:00+01:00",
          "2017-03-06T12:00:00+01:00",
          "2017-03-06T13:00:00+01:00",
          "2017-03-06T14:00:00+01:00",
          "2017-03-06T15:00:00+01:00",
          "2017-03-06T16:00:00+01:00",
          "2017-03-06T17:00:00+01:00",
          "2017-03-06T18:00:00+01:00",
          "2017-03-06T19:00:00+01:00",
          "2017-03-06T20:00:00+01:00",
          "2017-03-06T21:00:00+01:00",
          "2017-03-06T22:00:00+01:00",
          "2017-03-06T23:00:00+01:00",
          "2017-03-07T00:00:00+01:00",
          "2017-03-07T01:00:00+01:00",
          "2017-03-07T02:00:00+01:00",
          "2017-03-07T03:00:00+01:00",
          "2017-03-07T04:00:00+01:00",
          "2017-03-07T05:00:00+01:00",
          "2017-03-07T06:00:00+01:00",
          "2017-03-07T07:00:00+01:00",
          "2017-03-07T08:00:00+01:00",
          "2017-03-07T09:00:00+01:00",
          "2017-03-07T10:00:00+01:00",
          "2017-03-07T11:00:00+01:00",
          "2017-03-07T12:00:00+01:00",
          "2017-03-07T13:00:00+01:00",
          "2017-03-07T14:00:00+01:00",
          "2017-03-07T15:00:00+01:00",
          "2017-03-07T16:00:00+01:00",
          "2017-03-07T17:00:00+01:00",
          "2017-03-07T18:00:00+01:00",
          "2017-03-07T19:00:00+01:00",
          "2017-03-07T20:00:00+01:00",
          "2017-03-07T21:00:00+01:00",
          "2017-03-07T22:00:00+01:00",
          "2017-03-07T23:00:00+01:00",
          "2017-03-08T00:00:00+01:00",
          "2017-03-08T01:00:00+01:00",
          "2017-03-08T02:00:00+01:00",
          "2017-03-08T03:00:00+01:00",
          "2017-03-08T04:00:00+01:00",
          "2017-03-08T05:00:00+01:00",
          "2017-03-08T06:00:00+01:00",
          "2017-03-08T07:00:00+01:00",
          "2017-03-08T08:00:00+01:00",
          "2017-03-08T09:00:00+01:00",
          "2017-03-08T10:00:00+01:00",
          "2017-03-08T11:00:00+01:00",
          "2017-03-08T12:00:00+01:00",
          "2017-03-08T13:00:00+01:00",
          "2017-03-08T14:00:00+01:00",
          "2017-03-08T15:00:00+01:00",
          "2017-03-08T16:00:00+01:00",
          "2017-03-08T17:00:00+01:00",
          "2017-03-08T18:00:00+01:00",
          "2017-03-08T19:00:00+01:00",
          "2017-03-08T20:00:00+01:00",
          "2017-03-08T21:00:00+01:00",
          "2017-03-08T22:00:00+01:00",
          "2017-03-08T23:00:00+01:00",
          "2017-03-09T00:00:00+01:00",
          "2017-03-09T01:00:00+01:00",
          "2017-03-09T02:00:00+01:00",
          "2017-03-09T03:00:00+01:00",
          "2017-03-09T04:00:00+01:00",
          "2017-03-09T05:00:00+01:00",
          "2017-03-09T06:00:00+01:00",
          "2017-03-09T07:00:00+01:00",
          "2017-03-09T08:00:00+01:00",
          "2017-03-09T09:00:00+01:00",
          "2017-03-09T10:00:00+01:00",
          "2017-03-09T11:00:00+01:00",
          "2017-03-09T12:00:00+01:00",
          "2017-03-09T13:00:00+01:00",
          "2017-03-09T14:00:00+01:00",
          "2017-03-09T15:00:00+01:00",
          "2017-03-09T16:00:00+01:00",
          "2017-03-09T17:00:00+01:00",
          "2017-03-09T18:00:00+01:00",
          "2017-03-09T19:00:00+01:00",
          "2017-03-09T20:00:00+01:00",
          "2017-03-09T21:00:00+01:00",
          "2017-03-09T22:00:00+01:00",
          "2017-03-09T23:00:00+01:00",
          "2017-03-10T00:00:00+01:00",
          "2017-03-10T01:00:00+01:00",
          "2017-03-10T02:00:00+01:00",
          "2017-03-10T03:00:00+01:00",
          "2017-03-10T04:00:00+01:00",
          "2017-03-10T05:00:00+01:00",
          "2017-03-10T06:00:00+01:00",
          "2017-03-10T07:00:00+01:00",
          "2017-03-10T08:00:00+01:00",
          "2017-03-10T09:00:00+01:00",
          "2017-03-10T10:00:00+01:00",
          "2017-03-10T11:00:00+01:00",
          "2017-03-10T12:00:00+01:00",
          "2017-03-10T13:00:00+01:00",
          "2017-03-10T14:00:00+01:00",
          "2017-03-10T15:00:00+01:00",
          "2017-03-10T16:00:00+01:00",
          "2017-03-10T17:00:00+01:00",
          "2017-03-10T18:00:00+01:00",
          "2017-03-10T19:00:00+01:00",
          "2017-03-10T20:00:00+01:00",
          "2017-03-10T21:00:00+01:00",
          "2017-03-10T22:00:00+01:00",
          "2017-03-10T23:00:00+01:00",
          "2017-03-11T00:00:00+01:00",
          "2017-03-11T01:00:00+01:00",
          "2017-03-11T02:00:00+01:00",
          "2017-03-11T03:00:00+01:00",
          "2017-03-11T04:00:00+01:00",
          "2017-03-11T05:00:00+01:00",
          "2017-03-11T06:00:00+01:00",
          "2017-03-11T07:00:00+01:00",
          "2017-03-11T08:00:00+01:00",
          "2017-03-11T09:00:00+01:00",
          "2017-03-11T10:00:00+01:00",
          "2017-03-11T11:00:00+01:00",
          "2017-03-11T12:00:00+01:00",
          "2017-03-11T13:00:00+01:00",
          "2017-03-11T14:00:00+01:00",
          "2017-03-11T15:00:00+01:00",
          "2017-03-11T16:00:00+01:00",
          "2017-03-11T17:00:00+01:00",
          "2017-03-11T18:00:00+01:00",
          "2017-03-11T19:00:00+01:00",
          "2017-03-11T20:00:00+01:00",
          "2017-03-11T21:00:00+01:00",
          "2017-03-11T22:00:00+01:00",
          "2017-03-11T23:00:00+01:00"
         ],
         "y": [
          23883,
          22318,
          21483,
          21167,
          21195,
          21938,
          24929,
          28875,
          31046,
          32130,
          32136,
          32019,
          32064,
          31784,
          30638,
          29929,
          29513,
          29215,
          28744,
          28696,
          30553,
          32696,
          30130,
          27524,
          25015,
          23547,
          22649,
          22339,
          22247,
          22720,
          24762,
          27435,
          29946,
          30890,
          31370,
          31645,
          31831,
          31721,
          30677,
          30071,
          29832,
          29559,
          29261,
          29317,
          29990,
          31776,
          29932,
          27290,
          26782,
          25481,
          24225,
          23607,
          23236,
          22950,
          22654,
          23121,
          24929,
          27033,
          28767,
          29360,
          29680,
          29961,
          29133,
          27708,
          26808,
          26605,
          26678,
          26964,
          27488,
          27911,
          27432,
          25886,
          25206,
          23707,
          22755,
          22256,
          22322,
          22805,
          24608,
          26837,
          28863,
          30697,
          31828,
          32508,
          33433,
          33913,
          33221,
          32522,
          32432,
          32528,
          32238,
          32048,
          31683,
          31481,
          31060,
          28976,
          29358,
          27451,
          26115,
          25333,
          24997,
          25102,
          26732,
          28380,
          30877,
          33294,
          34958,
          36149,
          37164,
          37866,
          37376,
          36739,
          36723,
          36666,
          36271,
          35653,
          35095,
          35319,
          34820,
          32510,
          24748,
          23412,
          22186,
          21459,
          21052,
          20925,
          21073,
          21168,
          21210,
          22680,
          24312,
          25222,
          25955,
          26606,
          26881,
          25980,
          25386,
          25300,
          25471,
          25687,
          26871,
          29148,
          28083,
          26372,
          25601,
          24541,
          23766,
          23387,
          23158,
          23362,
          25143,
          28384,
          29829,
          30576,
          31193,
          31830,
          32462,
          32779,
          31872,
          31194,
          31107,
          31032,
          30530,
          30617,
          32867,
          32111,
          29419,
          26964,
          24943,
          23587,
          22979,
          22672,
          22592,
          22986,
          25256,
          28699,
          30462,
          31568,
          31862,
          31981,
          32174,
          32059,
          30867,
          30064,
          29622,
          29929,
          31697,
          32137,
          31837,
          30702,
          28285,
          26207
         ]
        },
        {
         "type": "scatter",
         "x": [
          "2017-03-04T00:00:00+01:00",
          "2017-03-04T01:00:00+01:00",
          "2017-03-04T02:00:00+01:00",
          "2017-03-04T03:00:00+01:00",
          "2017-03-04T04:00:00+01:00",
          "2017-03-04T05:00:00+01:00",
          "2017-03-04T06:00:00+01:00",
          "2017-03-04T07:00:00+01:00",
          "2017-03-04T08:00:00+01:00",
          "2017-03-04T09:00:00+01:00",
          "2017-03-04T10:00:00+01:00",
          "2017-03-04T11:00:00+01:00",
          "2017-03-04T12:00:00+01:00",
          "2017-03-04T13:00:00+01:00",
          "2017-03-04T14:00:00+01:00",
          "2017-03-04T15:00:00+01:00",
          "2017-03-04T16:00:00+01:00",
          "2017-03-04T17:00:00+01:00",
          "2017-03-04T18:00:00+01:00",
          "2017-03-04T19:00:00+01:00",
          "2017-03-04T20:00:00+01:00",
          "2017-03-04T21:00:00+01:00",
          "2017-03-04T22:00:00+01:00",
          "2017-03-04T23:00:00+01:00",
          "2017-03-05T00:00:00+01:00",
          "2017-03-05T01:00:00+01:00",
          "2017-03-05T02:00:00+01:00",
          "2017-03-05T03:00:00+01:00",
          "2017-03-05T04:00:00+01:00",
          "2017-03-05T05:00:00+01:00",
          "2017-03-05T06:00:00+01:00",
          "2017-03-05T07:00:00+01:00",
          "2017-03-05T08:00:00+01:00",
          "2017-03-05T09:00:00+01:00",
          "2017-03-05T10:00:00+01:00",
          "2017-03-05T11:00:00+01:00",
          "2017-03-05T12:00:00+01:00",
          "2017-03-05T13:00:00+01:00",
          "2017-03-05T14:00:00+01:00",
          "2017-03-05T15:00:00+01:00",
          "2017-03-05T16:00:00+01:00",
          "2017-03-05T17:00:00+01:00",
          "2017-03-05T18:00:00+01:00",
          "2017-03-05T19:00:00+01:00",
          "2017-03-05T20:00:00+01:00",
          "2017-03-05T21:00:00+01:00",
          "2017-03-05T22:00:00+01:00",
          "2017-03-05T23:00:00+01:00",
          "2017-03-06T00:00:00+01:00",
          "2017-03-06T01:00:00+01:00",
          "2017-03-06T02:00:00+01:00",
          "2017-03-06T03:00:00+01:00",
          "2017-03-06T04:00:00+01:00",
          "2017-03-06T05:00:00+01:00",
          "2017-03-06T06:00:00+01:00",
          "2017-03-06T07:00:00+01:00",
          "2017-03-06T08:00:00+01:00",
          "2017-03-06T09:00:00+01:00",
          "2017-03-06T10:00:00+01:00",
          "2017-03-06T11:00:00+01:00",
          "2017-03-06T12:00:00+01:00",
          "2017-03-06T13:00:00+01:00",
          "2017-03-06T14:00:00+01:00",
          "2017-03-06T15:00:00+01:00",
          "2017-03-06T16:00:00+01:00",
          "2017-03-06T17:00:00+01:00",
          "2017-03-06T18:00:00+01:00",
          "2017-03-06T19:00:00+01:00",
          "2017-03-06T20:00:00+01:00",
          "2017-03-06T21:00:00+01:00",
          "2017-03-06T22:00:00+01:00",
          "2017-03-06T23:00:00+01:00",
          "2017-03-07T00:00:00+01:00",
          "2017-03-07T01:00:00+01:00",
          "2017-03-07T02:00:00+01:00",
          "2017-03-07T03:00:00+01:00",
          "2017-03-07T04:00:00+01:00",
          "2017-03-07T05:00:00+01:00",
          "2017-03-07T06:00:00+01:00",
          "2017-03-07T07:00:00+01:00",
          "2017-03-07T08:00:00+01:00",
          "2017-03-07T09:00:00+01:00",
          "2017-03-07T10:00:00+01:00",
          "2017-03-07T11:00:00+01:00",
          "2017-03-07T12:00:00+01:00",
          "2017-03-07T13:00:00+01:00",
          "2017-03-07T14:00:00+01:00",
          "2017-03-07T15:00:00+01:00",
          "2017-03-07T16:00:00+01:00",
          "2017-03-07T17:00:00+01:00",
          "2017-03-07T18:00:00+01:00",
          "2017-03-07T19:00:00+01:00",
          "2017-03-07T20:00:00+01:00",
          "2017-03-07T21:00:00+01:00",
          "2017-03-07T22:00:00+01:00",
          "2017-03-07T23:00:00+01:00",
          "2017-03-08T00:00:00+01:00",
          "2017-03-08T01:00:00+01:00",
          "2017-03-08T02:00:00+01:00",
          "2017-03-08T03:00:00+01:00",
          "2017-03-08T04:00:00+01:00",
          "2017-03-08T05:00:00+01:00",
          "2017-03-08T06:00:00+01:00",
          "2017-03-08T07:00:00+01:00",
          "2017-03-08T08:00:00+01:00",
          "2017-03-08T09:00:00+01:00",
          "2017-03-08T10:00:00+01:00",
          "2017-03-08T11:00:00+01:00",
          "2017-03-08T12:00:00+01:00",
          "2017-03-08T13:00:00+01:00",
          "2017-03-08T14:00:00+01:00",
          "2017-03-08T15:00:00+01:00",
          "2017-03-08T16:00:00+01:00",
          "2017-03-08T17:00:00+01:00",
          "2017-03-08T18:00:00+01:00",
          "2017-03-08T19:00:00+01:00",
          "2017-03-08T20:00:00+01:00",
          "2017-03-08T21:00:00+01:00",
          "2017-03-08T22:00:00+01:00",
          "2017-03-08T23:00:00+01:00",
          "2017-03-09T00:00:00+01:00",
          "2017-03-09T01:00:00+01:00",
          "2017-03-09T02:00:00+01:00",
          "2017-03-09T03:00:00+01:00",
          "2017-03-09T04:00:00+01:00",
          "2017-03-09T05:00:00+01:00",
          "2017-03-09T06:00:00+01:00",
          "2017-03-09T07:00:00+01:00",
          "2017-03-09T08:00:00+01:00",
          "2017-03-09T09:00:00+01:00",
          "2017-03-09T10:00:00+01:00",
          "2017-03-09T11:00:00+01:00",
          "2017-03-09T12:00:00+01:00",
          "2017-03-09T13:00:00+01:00",
          "2017-03-09T14:00:00+01:00",
          "2017-03-09T15:00:00+01:00",
          "2017-03-09T16:00:00+01:00",
          "2017-03-09T17:00:00+01:00",
          "2017-03-09T18:00:00+01:00",
          "2017-03-09T19:00:00+01:00",
          "2017-03-09T20:00:00+01:00",
          "2017-03-09T21:00:00+01:00",
          "2017-03-09T22:00:00+01:00",
          "2017-03-09T23:00:00+01:00",
          "2017-03-10T00:00:00+01:00",
          "2017-03-10T01:00:00+01:00",
          "2017-03-10T02:00:00+01:00",
          "2017-03-10T03:00:00+01:00",
          "2017-03-10T04:00:00+01:00",
          "2017-03-10T05:00:00+01:00",
          "2017-03-10T06:00:00+01:00",
          "2017-03-10T07:00:00+01:00",
          "2017-03-10T08:00:00+01:00",
          "2017-03-10T09:00:00+01:00",
          "2017-03-10T10:00:00+01:00",
          "2017-03-10T11:00:00+01:00",
          "2017-03-10T12:00:00+01:00",
          "2017-03-10T13:00:00+01:00",
          "2017-03-10T14:00:00+01:00",
          "2017-03-10T15:00:00+01:00",
          "2017-03-10T16:00:00+01:00",
          "2017-03-10T17:00:00+01:00",
          "2017-03-10T18:00:00+01:00",
          "2017-03-10T19:00:00+01:00",
          "2017-03-10T20:00:00+01:00",
          "2017-03-10T21:00:00+01:00",
          "2017-03-10T22:00:00+01:00",
          "2017-03-10T23:00:00+01:00",
          "2017-03-11T00:00:00+01:00",
          "2017-03-11T01:00:00+01:00",
          "2017-03-11T02:00:00+01:00",
          "2017-03-11T03:00:00+01:00",
          "2017-03-11T04:00:00+01:00",
          "2017-03-11T05:00:00+01:00",
          "2017-03-11T06:00:00+01:00",
          "2017-03-11T07:00:00+01:00",
          "2017-03-11T08:00:00+01:00",
          "2017-03-11T09:00:00+01:00",
          "2017-03-11T10:00:00+01:00",
          "2017-03-11T11:00:00+01:00",
          "2017-03-11T12:00:00+01:00",
          "2017-03-11T13:00:00+01:00",
          "2017-03-11T14:00:00+01:00",
          "2017-03-11T15:00:00+01:00",
          "2017-03-11T16:00:00+01:00",
          "2017-03-11T17:00:00+01:00",
          "2017-03-11T18:00:00+01:00",
          "2017-03-11T19:00:00+01:00",
          "2017-03-11T20:00:00+01:00",
          "2017-03-11T21:00:00+01:00",
          "2017-03-11T22:00:00+01:00",
          "2017-03-11T23:00:00+01:00"
         ],
         "y": [
          28251.55078125,
          26083.6484375,
          24613.810546875,
          23933.2578125,
          23787.06640625,
          24436.75,
          27060.224609375,
          31343.13671875,
          34065.01171875,
          35381.46875,
          36025.90625,
          36048.32421875,
          35718.16015625,
          35286.34765625,
          34012.046875,
          33345.3359375,
          32976.45703125,
          32912.2421875,
          33147.57421875,
          35162.1484375,
          35809.5546875,
          34950.1328125,
          32631.5703125,
          29814.46875,
          25345.365234375,
          23549.373046875,
          22332.0546875,
          21631.236328125,
          21308.607421875,
          21260.359375,
          21482.779296875,
          22102.783203125,
          23173.279296875,
          25269.880859375,
          27477.755859375,
          28574.515625,
          28916.052734375,
          29315.333984375,
          29042.724609375,
          27934.2890625,
          27380.775390625,
          27288.455078125,
          27818.802734375,
          28970.498046875,
          30379.744140625,
          31181.484375,
          29718.099609375,
          27530.697265625,
          25022.705078125,
          23185.296875,
          22015.720703125,
          21377.990234375,
          21093.1171875,
          21236.51171875,
          21968.609375,
          23394.78125,
          25422.685546875,
          27824.650390625,
          29653.412109375,
          30417.412109375,
          30527.837890625,
          30622.712890625,
          29950.421875,
          28986.837890625,
          28389.427734375,
          28338.962890625,
          28512.443359375,
          28782.416015625,
          29477.412109375,
          31223.962890625,
          30394.892578125,
          28487.2734375,
          26491.017578125,
          24773.166015625,
          23355.685546875,
          22499.291015625,
          21996.099609375,
          21780.966796875,
          21888.28125,
          22654.962890625,
          24190.623046875,
          26295.291015625,
          28550.134765625,
          29984.787109375,
          30698.927734375,
          31200.884765625,
          31277.2734375,
          30693.287109375,
          30077.900390625,
          30042.552734375,
          30353.166015625,
          30506.8125,
          30629.5625,
          31569.671875,
          31794.458984375,
          29690.595703125,
          29226.0390625,
          28367.9375,
          26770.361328125,
          25929.166015625,
          25528.8984375,
          25520.306640625,
          26512.416015625,
          28211.447265625,
          30347.603515625,
          32357.083984375,
          33594.98046875,
          34264.43359375,
          34778.99609375,
          35049.59375,
          34645.734375,
          33693.99609375,
          33210.12109375,
          33017.4140625,
          32778.48046875,
          32394.890625,
          31977.541015625,
          31804.099609375,
          31964.384765625,
          30619.046875,
          28205.140625,
          24923.9375,
          23412.724609375,
          22401.248046875,
          21899.904296875,
          21693.966796875,
          21841.9765625,
          22422.46875,
          23486.904296875,
          25288.484375,
          27359.478515625,
          28338.59375,
          28608.0546875,
          28699.427734375,
          28566.439453125,
          27682.462890625,
          26698.015625,
          26324.138671875,
          26536.494140625,
          27162.392578125,
          28214.7109375,
          29312.84375,
          28629.755859375,
          26773.423828125,
          25041.7265625,
          23385.318359375,
          22073.494140625,
          21280.845703125,
          20838.716796875,
          20759.326171875,
          21288.216796875,
          23197.2578125,
          25859.115234375,
          28008.958984375,
          29609.546875,
          30683.025390625,
          31069.396484375,
          31335.177734375,
          31127.099609375,
          30250.1171875,
          29668.162109375,
          29912.5,
          30985.876953125,
          32370.080078125,
          32905.63671875,
          32599.205078125,
          30738.111328125,
          27992.833984375,
          26146.818359375,
          24661.693359375,
          23418.296875,
          22862.09765625,
          22716.2109375,
          23214.796875,
          25557.14453125,
          29530.880859375,
          31892.05078125,
          32932.33984375,
          33194.74609375,
          33184.51171875,
          33108.3984375,
          32737.87890625,
          31505.1328125,
          30765.16015625,
          30586.767578125,
          30859.4140625,
          31722.55078125,
          32620.103515625,
          33522.41796875,
          32549.7890625,
          30298.1484375,
          null
         ]
        }
       ],
       "layout": {
        "template": {
         "data": {
          "bar": [
           {
            "error_x": {
             "color": "#2a3f5f"
            },
            "error_y": {
             "color": "#2a3f5f"
            },
            "marker": {
             "line": {
              "color": "#E5ECF6",
              "width": 0.5
             },
             "pattern": {
              "fillmode": "overlay",
              "size": 10,
              "solidity": 0.2
             }
            },
            "type": "bar"
           }
          ],
          "barpolar": [
           {
            "marker": {
             "line": {
              "color": "#E5ECF6",
              "width": 0.5
             },
             "pattern": {
              "fillmode": "overlay",
              "size": 10,
              "solidity": 0.2
             }
            },
            "type": "barpolar"
           }
          ],
          "carpet": [
           {
            "aaxis": {
             "endlinecolor": "#2a3f5f",
             "gridcolor": "white",
             "linecolor": "white",
             "minorgridcolor": "white",
             "startlinecolor": "#2a3f5f"
            },
            "baxis": {
             "endlinecolor": "#2a3f5f",
             "gridcolor": "white",
             "linecolor": "white",
             "minorgridcolor": "white",
             "startlinecolor": "#2a3f5f"
            },
            "type": "carpet"
           }
          ],
          "choropleth": [
           {
            "colorbar": {
             "outlinewidth": 0,
             "ticks": ""
            },
            "type": "choropleth"
           }
          ],
          "contour": [
           {
            "colorbar": {
             "outlinewidth": 0,
             "ticks": ""
            },
            "colorscale": [
             [
              0,
              "#0d0887"
             ],
             [
              0.1111111111111111,
              "#46039f"
             ],
             [
              0.2222222222222222,
              "#7201a8"
             ],
             [
              0.3333333333333333,
              "#9c179e"
             ],
             [
              0.4444444444444444,
              "#bd3786"
             ],
             [
              0.5555555555555556,
              "#d8576b"
             ],
             [
              0.6666666666666666,
              "#ed7953"
             ],
             [
              0.7777777777777778,
              "#fb9f3a"
             ],
             [
              0.8888888888888888,
              "#fdca26"
             ],
             [
              1,
              "#f0f921"
             ]
            ],
            "type": "contour"
           }
          ],
          "contourcarpet": [
           {
            "colorbar": {
             "outlinewidth": 0,
             "ticks": ""
            },
            "type": "contourcarpet"
           }
          ],
          "heatmap": [
           {
            "colorbar": {
             "outlinewidth": 0,
             "ticks": ""
            },
            "colorscale": [
             [
              0,
              "#0d0887"
             ],
             [
              0.1111111111111111,
              "#46039f"
             ],
             [
              0.2222222222222222,
              "#7201a8"
             ],
             [
              0.3333333333333333,
              "#9c179e"
             ],
             [
              0.4444444444444444,
              "#bd3786"
             ],
             [
              0.5555555555555556,
              "#d8576b"
             ],
             [
              0.6666666666666666,
              "#ed7953"
             ],
             [
              0.7777777777777778,
              "#fb9f3a"
             ],
             [
              0.8888888888888888,
              "#fdca26"
             ],
             [
              1,
              "#f0f921"
             ]
            ],
            "type": "heatmap"
           }
          ],
          "heatmapgl": [
           {
            "colorbar": {
             "outlinewidth": 0,
             "ticks": ""
            },
            "colorscale": [
             [
              0,
              "#0d0887"
             ],
             [
              0.1111111111111111,
              "#46039f"
             ],
             [
              0.2222222222222222,
              "#7201a8"
             ],
             [
              0.3333333333333333,
              "#9c179e"
             ],
             [
              0.4444444444444444,
              "#bd3786"
             ],
             [
              0.5555555555555556,
              "#d8576b"
             ],
             [
              0.6666666666666666,
              "#ed7953"
             ],
             [
              0.7777777777777778,
              "#fb9f3a"
             ],
             [
              0.8888888888888888,
              "#fdca26"
             ],
             [
              1,
              "#f0f921"
             ]
            ],
            "type": "heatmapgl"
           }
          ],
          "histogram": [
           {
            "marker": {
             "pattern": {
              "fillmode": "overlay",
              "size": 10,
              "solidity": 0.2
             }
            },
            "type": "histogram"
           }
          ],
          "histogram2d": [
           {
            "colorbar": {
             "outlinewidth": 0,
             "ticks": ""
            },
            "colorscale": [
             [
              0,
              "#0d0887"
             ],
             [
              0.1111111111111111,
              "#46039f"
             ],
             [
              0.2222222222222222,
              "#7201a8"
             ],
             [
              0.3333333333333333,
              "#9c179e"
             ],
             [
              0.4444444444444444,
              "#bd3786"
             ],
             [
              0.5555555555555556,
              "#d8576b"
             ],
             [
              0.6666666666666666,
              "#ed7953"
             ],
             [
              0.7777777777777778,
              "#fb9f3a"
             ],
             [
              0.8888888888888888,
              "#fdca26"
             ],
             [
              1,
              "#f0f921"
             ]
            ],
            "type": "histogram2d"
           }
          ],
          "histogram2dcontour": [
           {
            "colorbar": {
             "outlinewidth": 0,
             "ticks": ""
            },
            "colorscale": [
             [
              0,
              "#0d0887"
             ],
             [
              0.1111111111111111,
              "#46039f"
             ],
             [
              0.2222222222222222,
              "#7201a8"
             ],
             [
              0.3333333333333333,
              "#9c179e"
             ],
             [
              0.4444444444444444,
              "#bd3786"
             ],
             [
              0.5555555555555556,
              "#d8576b"
             ],
             [
              0.6666666666666666,
              "#ed7953"
             ],
             [
              0.7777777777777778,
              "#fb9f3a"
             ],
             [
              0.8888888888888888,
              "#fdca26"
             ],
             [
              1,
              "#f0f921"
             ]
            ],
            "type": "histogram2dcontour"
           }
          ],
          "mesh3d": [
           {
            "colorbar": {
             "outlinewidth": 0,
             "ticks": ""
            },
            "type": "mesh3d"
           }
          ],
          "parcoords": [
           {
            "line": {
             "colorbar": {
              "outlinewidth": 0,
              "ticks": ""
             }
            },
            "type": "parcoords"
           }
          ],
          "pie": [
           {
            "automargin": true,
            "type": "pie"
           }
          ],
          "scatter": [
           {
            "marker": {
             "colorbar": {
              "outlinewidth": 0,
              "ticks": ""
             }
            },
            "type": "scatter"
           }
          ],
          "scatter3d": [
           {
            "line": {
             "colorbar": {
              "outlinewidth": 0,
              "ticks": ""
             }
            },
            "marker": {
             "colorbar": {
              "outlinewidth": 0,
              "ticks": ""
             }
            },
            "type": "scatter3d"
           }
          ],
          "scattercarpet": [
           {
            "marker": {
             "colorbar": {
              "outlinewidth": 0,
              "ticks": ""
             }
            },
            "type": "scattercarpet"
           }
          ],
          "scattergeo": [
           {
            "marker": {
             "colorbar": {
              "outlinewidth": 0,
              "ticks": ""
             }
            },
            "type": "scattergeo"
           }
          ],
          "scattergl": [
           {
            "marker": {
             "colorbar": {
              "outlinewidth": 0,
              "ticks": ""
             }
            },
            "type": "scattergl"
           }
          ],
          "scattermapbox": [
           {
            "marker": {
             "colorbar": {
              "outlinewidth": 0,
              "ticks": ""
             }
            },
            "type": "scattermapbox"
           }
          ],
          "scatterpolar": [
           {
            "marker": {
             "colorbar": {
              "outlinewidth": 0,
              "ticks": ""
             }
            },
            "type": "scatterpolar"
           }
          ],
          "scatterpolargl": [
           {
            "marker": {
             "colorbar": {
              "outlinewidth": 0,
              "ticks": ""
             }
            },
            "type": "scatterpolargl"
           }
          ],
          "scatterternary": [
           {
            "marker": {
             "colorbar": {
              "outlinewidth": 0,
              "ticks": ""
             }
            },
            "type": "scatterternary"
           }
          ],
          "surface": [
           {
            "colorbar": {
             "outlinewidth": 0,
             "ticks": ""
            },
            "colorscale": [
             [
              0,
              "#0d0887"
             ],
             [
              0.1111111111111111,
              "#46039f"
             ],
             [
              0.2222222222222222,
              "#7201a8"
             ],
             [
              0.3333333333333333,
              "#9c179e"
             ],
             [
              0.4444444444444444,
              "#bd3786"
             ],
             [
              0.5555555555555556,
              "#d8576b"
             ],
             [
              0.6666666666666666,
              "#ed7953"
             ],
             [
              0.7777777777777778,
              "#fb9f3a"
             ],
             [
              0.8888888888888888,
              "#fdca26"
             ],
             [
              1,
              "#f0f921"
             ]
            ],
            "type": "surface"
           }
          ],
          "table": [
           {
            "cells": {
             "fill": {
              "color": "#EBF0F8"
             },
             "line": {
              "color": "white"
             }
            },
            "header": {
             "fill": {
              "color": "#C8D4E3"
             },
             "line": {
              "color": "white"
             }
            },
            "type": "table"
           }
          ]
         },
         "layout": {
          "annotationdefaults": {
           "arrowcolor": "#2a3f5f",
           "arrowhead": 0,
           "arrowwidth": 1
          },
          "autotypenumbers": "strict",
          "coloraxis": {
           "colorbar": {
            "outlinewidth": 0,
            "ticks": ""
           }
          },
          "colorscale": {
           "diverging": [
            [
             0,
             "#8e0152"
            ],
            [
             0.1,
             "#c51b7d"
            ],
            [
             0.2,
             "#de77ae"
            ],
            [
             0.3,
             "#f1b6da"
            ],
            [
             0.4,
             "#fde0ef"
            ],
            [
             0.5,
             "#f7f7f7"
            ],
            [
             0.6,
             "#e6f5d0"
            ],
            [
             0.7,
             "#b8e186"
            ],
            [
             0.8,
             "#7fbc41"
            ],
            [
             0.9,
             "#4d9221"
            ],
            [
             1,
             "#276419"
            ]
           ],
           "sequential": [
            [
             0,
             "#0d0887"
            ],
            [
             0.1111111111111111,
             "#46039f"
            ],
            [
             0.2222222222222222,
             "#7201a8"
            ],
            [
             0.3333333333333333,
             "#9c179e"
            ],
            [
             0.4444444444444444,
             "#bd3786"
            ],
            [
             0.5555555555555556,
             "#d8576b"
            ],
            [
             0.6666666666666666,
             "#ed7953"
            ],
            [
             0.7777777777777778,
             "#fb9f3a"
            ],
            [
             0.8888888888888888,
             "#fdca26"
            ],
            [
             1,
             "#f0f921"
            ]
           ],
           "sequentialminus": [
            [
             0,
             "#0d0887"
            ],
            [
             0.1111111111111111,
             "#46039f"
            ],
            [
             0.2222222222222222,
             "#7201a8"
            ],
            [
             0.3333333333333333,
             "#9c179e"
            ],
            [
             0.4444444444444444,
             "#bd3786"
            ],
            [
             0.5555555555555556,
             "#d8576b"
            ],
            [
             0.6666666666666666,
             "#ed7953"
            ],
            [
             0.7777777777777778,
             "#fb9f3a"
            ],
            [
             0.8888888888888888,
             "#fdca26"
            ],
            [
             1,
             "#f0f921"
            ]
           ]
          },
          "colorway": [
           "#636efa",
           "#EF553B",
           "#00cc96",
           "#ab63fa",
           "#FFA15A",
           "#19d3f3",
           "#FF6692",
           "#B6E880",
           "#FF97FF",
           "#FECB52"
          ],
          "font": {
           "color": "#2a3f5f"
          },
          "geo": {
           "bgcolor": "white",
           "lakecolor": "white",
           "landcolor": "#E5ECF6",
           "showlakes": true,
           "showland": true,
           "subunitcolor": "white"
          },
          "hoverlabel": {
           "align": "left"
          },
          "hovermode": "closest",
          "mapbox": {
           "style": "light"
          },
          "paper_bgcolor": "white",
          "plot_bgcolor": "#E5ECF6",
          "polar": {
           "angularaxis": {
            "gridcolor": "white",
            "linecolor": "white",
            "ticks": ""
           },
           "bgcolor": "#E5ECF6",
           "radialaxis": {
            "gridcolor": "white",
            "linecolor": "white",
            "ticks": ""
           }
          },
          "scene": {
           "xaxis": {
            "backgroundcolor": "#E5ECF6",
            "gridcolor": "white",
            "gridwidth": 2,
            "linecolor": "white",
            "showbackground": true,
            "ticks": "",
            "zerolinecolor": "white"
           },
           "yaxis": {
            "backgroundcolor": "#E5ECF6",
            "gridcolor": "white",
            "gridwidth": 2,
            "linecolor": "white",
            "showbackground": true,
            "ticks": "",
            "zerolinecolor": "white"
           },
           "zaxis": {
            "backgroundcolor": "#E5ECF6",
            "gridcolor": "white",
            "gridwidth": 2,
            "linecolor": "white",
            "showbackground": true,
            "ticks": "",
            "zerolinecolor": "white"
           }
          },
          "shapedefaults": {
           "line": {
            "color": "#2a3f5f"
           }
          },
          "ternary": {
           "aaxis": {
            "gridcolor": "white",
            "linecolor": "white",
            "ticks": ""
           },
           "baxis": {
            "gridcolor": "white",
            "linecolor": "white",
            "ticks": ""
           },
           "bgcolor": "#E5ECF6",
           "caxis": {
            "gridcolor": "white",
            "linecolor": "white",
            "ticks": ""
           }
          },
          "title": {
           "x": 0.05
          },
          "xaxis": {
           "automargin": true,
           "gridcolor": "white",
           "linecolor": "white",
           "ticks": "",
           "title": {
            "standoff": 15
           },
           "zerolinecolor": "white",
           "zerolinewidth": 2
          },
          "yaxis": {
           "automargin": true,
           "gridcolor": "white",
           "linecolor": "white",
           "ticks": "",
           "title": {
            "standoff": 15
           },
           "zerolinecolor": "white",
           "zerolinewidth": 2
          }
         }
        }
       }
      }
     },
     "metadata": {},
     "output_type": "display_data"
    }
   ],
   "source": [
    "fig = go.Figure()\n",
    "df_pred =pd.DataFrame(index=y_test_filtered2.index)\n",
    "fig.add_trace(go.Scatter(x = y_test_filtered2.index,y=y_test_filtered2[feature]))\n",
    "for i in range(len(data_x_test)):\n",
    "    case_test = data_x_test[i].reshape((1,data_x_test[0].shape[0], data_x_test[0].shape[1]))\n",
    "    Y_test_predictions = pd.Series(model_best_ED_LSTM.predict(case_test).flatten(),index=pd.date_range(start=idx_test[i],freq='h',periods=24))\n",
    "    df_pred[f'pred_{i}'] = Y_test_predictions\n",
    "    #fig.add_trace(go.Scatter(x = Y_test_predictions.index,y=Y_test_predictions,mode='markers'))\n",
    "\n",
    "df_pred['mean'] = df_pred.mean(axis=1)\n",
    "df_pred['median'] = df_pred.median(axis=1)\n",
    "fig.add_trace(go.Scatter(x = y_test_filtered2.index,y=df_pred['mean']))\n",
    "fig.show()\n",
    "eval_df2  =create_eval_df(df_pred['mean'],y_test_filtered2)"
   ]
  },
  {
   "cell_type": "code",
   "execution_count": 34,
   "metadata": {},
   "outputs": [
    {
     "name": "stdout",
     "output_type": "stream",
     "text": [
      "R^2 score is  0.68\n"
     ]
    }
   ],
   "source": [
    "#Calculating R2 value:\n",
    "r2_test = r2_score(y_test_filtered2[:-1],df_pred['mean'][:-1])\n",
    "print('R^2 score is  %3.2f' %r2_test)"
   ]
  },
  {
   "cell_type": "code",
   "execution_count": 36,
   "metadata": {},
   "outputs": [
    {
     "name": "stderr",
     "output_type": "stream",
     "text": [
      "<ipython-input-36-c9c5c3e61439>:2: UserWarning:\n",
      "\n",
      "Matplotlib is currently using module://ipykernel.pylab.backend_inline, which is a non-GUI backend, so cannot show the figure.\n",
      "\n",
      "<ipython-input-36-c9c5c3e61439>:4: UserWarning:\n",
      "\n",
      "Matplotlib is currently using module://ipykernel.pylab.backend_inline, which is a non-GUI backend, so cannot show the figure.\n",
      "\n"
     ]
    },
    {
     "data": {
      "image/png": "[encoded data removed]",
      "text/plain": [
       "<Figure size 576x576 with 1 Axes>"
      ]
     },
     "metadata": {
      "needs_background": "light"
     },
     "output_type": "display_data"
    },
    {
     "data": {
      "image/png": "[encoded data removed]",
      "text/plain": [
       "<Figure size 576x576 with 1 Axes>"
      ]
     },
     "metadata": {
      "needs_background": "light"
     },
     "output_type": "display_data"
    }
   ],
   "source": [
    "fig = plot_accuracy(eval_df2,model_type,f\"./{model_type}/accuracy2_{namespace}.png\")\n",
    "fig.show()\n",
    "fig = plot_error_variations(eval_df2,model_type,f\"./{model_type}/error_variations2_{namespace}.png\")\n",
    "fig.show()"
   ]
  },
  {
   "cell_type": "code",
   "execution_count": null,
   "metadata": {},
   "outputs": [],
   "source": []
  }
 ],
 "metadata": {
  "interpreter": {
   "hash": "39d1545a961fb91480a52a0b6f0ba22788119e75d6e41681ee81894caf37680e"
  },
  "kernelspec": {
   "display_name": "Python 3",
   "language": "python",
   "name": "python3"
  },
  "language_info": {
   "codemirror_mode": {
    "name": "ipython",
    "version": 3
   },
   "file_extension": ".py",
   "mimetype": "text/x-python",
   "name": "python",
   "nbconvert_exporter": "python",
   "pygments_lexer": "ipython3",
   "version": "3.9.4"
  }
 },
 "nbformat": 4,
 "nbformat_minor": 2
}
