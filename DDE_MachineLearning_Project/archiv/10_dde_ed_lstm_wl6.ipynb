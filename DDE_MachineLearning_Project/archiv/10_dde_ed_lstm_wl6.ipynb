{
 "cells": [
  {
   "cell_type": "code",
   "execution_count": 1,
   "metadata": {},
   "outputs": [],
   "source": [
    "import numpy as np\n",
    "import pandas as pd\n",
    "from datetime import date\n",
    "import plotly.express as px\n",
    "import plotly.graph_objects as go\n",
    "import math\n",
    "import matplotlib.pyplot as plt\n",
    "from sklearn import preprocessing as pp\n",
    "import matplotlib as mpl\n",
    "from sklearn.decomposition import PCA\n",
    "from pandas.plotting import lag_plot, autocorrelation_plot\n",
    "from statsmodels.graphics.tsaplots import plot_acf, plot_pacf \n",
    "import statsmodels.api as smw\n",
    "from datetime import timedelta\n",
    "from statsmodels.tsa.statespace.sarimax import SARIMAX\n",
    "from sklearn.svm import SVR\n",
    "from sklearn.metrics import r2_score\n",
    "# ML Algorithms to be used\n",
    "import tensorflow as tf\n",
    "from tensorflow import keras\n",
    "from keras import optimizers, models, layers, regularizers\n",
    "tf.__version__\n",
    "from utils.dde_preprocessing_utils import (set_timestamp_index,\n",
    "remove_duplicates,\n",
    "remove_columns,\n",
    "extract_correlations,\n",
    "prepare_data_sarimax,\n",
    "create_test_train_split,\n",
    "create_sarimax_test_train_split,\n",
    "create_eval_df,\n",
    "convert_to_sample_time_feature)\n",
    "from utils.dde_plotting_utils import(\n",
    "display_double_timestamps,\n",
    "display_seasonal_decomposition,\n",
    "plot_predictions,\n",
    "plot_accuracy,\n",
    "plot_error_variations,\n",
    "plot_learning_curves,\n",
    ")\n",
    "%load_ext skip_kernel_extension"
   ]
  },
  {
   "cell_type": "code",
   "execution_count": 2,
   "metadata": {},
   "outputs": [],
   "source": [
    "import keras_tuner as kt\n"
   ]
  },
  {
   "cell_type": "code",
   "execution_count": 3,
   "metadata": {},
   "outputs": [],
   "source": [
    "config = tf.compat.v1.ConfigProto(gpu_options=tf.compat.v1.GPUOptions(per_process_gpu_memory_fraction=0.8))\n",
    "config.gpu_options.allow_growth = True\n",
    "session = tf.compat.v1.Session(config=config)\n",
    "tf.compat.v1.keras.backend.set_session(session)\n",
    "mpl.rcParams['figure.figsize'] = [8.0, 8.0]\n",
    "tf.random.set_seed(2022)"
   ]
  },
  {
   "cell_type": "code",
   "execution_count": 4,
   "metadata": {},
   "outputs": [],
   "source": [
    "SKIP_RETRAIN_NN =True\n",
    "SKIP_RETRAIN_RNN = True\n",
    "SKIP_RETRAIN_LSTM = True\n",
    "SKIP_RETRAIN_ED_LSTM = True"
   ]
  },
  {
   "cell_type": "markdown",
   "metadata": {},
   "source": [
    "## Loading Data"
   ]
  },
  {
   "cell_type": "code",
   "execution_count": 5,
   "metadata": {},
   "outputs": [],
   "source": [
    "base_df = pd.read_csv(\"extended_preprocessed_data.csv\")\n",
    "base_df = set_timestamp_index(base_df,\"Unnamed: 0\")"
   ]
  },
  {
   "cell_type": "code",
   "execution_count": 6,
   "metadata": {},
   "outputs": [
    {
     "data": {
      "text/html": [
       "<div>\n",
       "<style scoped>\n",
       "    .dataframe tbody tr th:only-of-type {\n",
       "        vertical-align: middle;\n",
       "    }\n",
       "\n",
       "    .dataframe tbody tr th {\n",
       "        vertical-align: top;\n",
       "    }\n",
       "\n",
       "    .dataframe thead th {\n",
       "        text-align: right;\n",
       "    }\n",
       "</style>\n",
       "<table border=\"1\" class=\"dataframe\">\n",
       "  <thead>\n",
       "    <tr style=\"text-align: right;\">\n",
       "      <th></th>\n",
       "      <th>temp</th>\n",
       "      <th>pressure</th>\n",
       "      <th>humidity</th>\n",
       "      <th>wind_speed</th>\n",
       "      <th>wind_deg</th>\n",
       "      <th>generation biomass</th>\n",
       "      <th>generation fossil brown coal/lignite</th>\n",
       "      <th>generation fossil gas</th>\n",
       "      <th>generation fossil hard coal</th>\n",
       "      <th>generation fossil oil</th>\n",
       "      <th>...</th>\n",
       "      <th>generation wind onshore</th>\n",
       "      <th>total load actual</th>\n",
       "      <th>price actual</th>\n",
       "      <th>generation</th>\n",
       "      <th>energy_difference</th>\n",
       "      <th>energy_stored</th>\n",
       "      <th>month</th>\n",
       "      <th>day</th>\n",
       "      <th>weekend</th>\n",
       "      <th>hour</th>\n",
       "    </tr>\n",
       "  </thead>\n",
       "  <tbody>\n",
       "    <tr>\n",
       "      <th>2015-01-01 00:00:00+01:00</th>\n",
       "      <td>-2.675</td>\n",
       "      <td>1001.0</td>\n",
       "      <td>77</td>\n",
       "      <td>1.0</td>\n",
       "      <td>62</td>\n",
       "      <td>447.0</td>\n",
       "      <td>329.0</td>\n",
       "      <td>4844.0</td>\n",
       "      <td>4821.0</td>\n",
       "      <td>162.0</td>\n",
       "      <td>...</td>\n",
       "      <td>6378.0</td>\n",
       "      <td>25385.0</td>\n",
       "      <td>65.41</td>\n",
       "      <td>28251.0</td>\n",
       "      <td>2866.0</td>\n",
       "      <td>2866.0</td>\n",
       "      <td>1</td>\n",
       "      <td>1</td>\n",
       "      <td>0</td>\n",
       "      <td>0</td>\n",
       "    </tr>\n",
       "    <tr>\n",
       "      <th>2015-01-01 01:00:00+01:00</th>\n",
       "      <td>-2.675</td>\n",
       "      <td>1001.0</td>\n",
       "      <td>77</td>\n",
       "      <td>1.0</td>\n",
       "      <td>62</td>\n",
       "      <td>449.0</td>\n",
       "      <td>328.0</td>\n",
       "      <td>5196.0</td>\n",
       "      <td>4755.0</td>\n",
       "      <td>158.0</td>\n",
       "      <td>...</td>\n",
       "      <td>5890.0</td>\n",
       "      <td>24382.0</td>\n",
       "      <td>64.92</td>\n",
       "      <td>27818.0</td>\n",
       "      <td>3436.0</td>\n",
       "      <td>6302.0</td>\n",
       "      <td>1</td>\n",
       "      <td>1</td>\n",
       "      <td>0</td>\n",
       "      <td>1</td>\n",
       "    </tr>\n",
       "    <tr>\n",
       "      <th>2015-01-01 02:00:00+01:00</th>\n",
       "      <td>-3.464</td>\n",
       "      <td>1002.0</td>\n",
       "      <td>78</td>\n",
       "      <td>0.0</td>\n",
       "      <td>23</td>\n",
       "      <td>448.0</td>\n",
       "      <td>323.0</td>\n",
       "      <td>4857.0</td>\n",
       "      <td>4581.0</td>\n",
       "      <td>157.0</td>\n",
       "      <td>...</td>\n",
       "      <td>5461.0</td>\n",
       "      <td>22734.0</td>\n",
       "      <td>64.48</td>\n",
       "      <td>26796.0</td>\n",
       "      <td>4062.0</td>\n",
       "      <td>10364.0</td>\n",
       "      <td>1</td>\n",
       "      <td>1</td>\n",
       "      <td>0</td>\n",
       "      <td>2</td>\n",
       "    </tr>\n",
       "    <tr>\n",
       "      <th>2015-01-01 03:00:00+01:00</th>\n",
       "      <td>-3.464</td>\n",
       "      <td>1002.0</td>\n",
       "      <td>78</td>\n",
       "      <td>0.0</td>\n",
       "      <td>23</td>\n",
       "      <td>438.0</td>\n",
       "      <td>254.0</td>\n",
       "      <td>4314.0</td>\n",
       "      <td>4131.0</td>\n",
       "      <td>160.0</td>\n",
       "      <td>...</td>\n",
       "      <td>5238.0</td>\n",
       "      <td>21286.0</td>\n",
       "      <td>59.32</td>\n",
       "      <td>25223.0</td>\n",
       "      <td>3937.0</td>\n",
       "      <td>14301.0</td>\n",
       "      <td>1</td>\n",
       "      <td>1</td>\n",
       "      <td>0</td>\n",
       "      <td>3</td>\n",
       "    </tr>\n",
       "    <tr>\n",
       "      <th>2015-01-01 04:00:00+01:00</th>\n",
       "      <td>-3.464</td>\n",
       "      <td>1002.0</td>\n",
       "      <td>78</td>\n",
       "      <td>0.0</td>\n",
       "      <td>23</td>\n",
       "      <td>428.0</td>\n",
       "      <td>187.0</td>\n",
       "      <td>4130.0</td>\n",
       "      <td>3840.0</td>\n",
       "      <td>156.0</td>\n",
       "      <td>...</td>\n",
       "      <td>4935.0</td>\n",
       "      <td>20264.0</td>\n",
       "      <td>56.04</td>\n",
       "      <td>24620.0</td>\n",
       "      <td>4356.0</td>\n",
       "      <td>18657.0</td>\n",
       "      <td>1</td>\n",
       "      <td>1</td>\n",
       "      <td>0</td>\n",
       "      <td>4</td>\n",
       "    </tr>\n",
       "    <tr>\n",
       "      <th>...</th>\n",
       "      <td>...</td>\n",
       "      <td>...</td>\n",
       "      <td>...</td>\n",
       "      <td>...</td>\n",
       "      <td>...</td>\n",
       "      <td>...</td>\n",
       "      <td>...</td>\n",
       "      <td>...</td>\n",
       "      <td>...</td>\n",
       "      <td>...</td>\n",
       "      <td>...</td>\n",
       "      <td>...</td>\n",
       "      <td>...</td>\n",
       "      <td>...</td>\n",
       "      <td>...</td>\n",
       "      <td>...</td>\n",
       "      <td>...</td>\n",
       "      <td>...</td>\n",
       "      <td>...</td>\n",
       "      <td>...</td>\n",
       "      <td>...</td>\n",
       "    </tr>\n",
       "    <tr>\n",
       "      <th>2018-12-31 19:00:00+01:00</th>\n",
       "      <td>12.490</td>\n",
       "      <td>1028.0</td>\n",
       "      <td>62</td>\n",
       "      <td>2.0</td>\n",
       "      <td>140</td>\n",
       "      <td>297.0</td>\n",
       "      <td>0.0</td>\n",
       "      <td>7634.0</td>\n",
       "      <td>2628.0</td>\n",
       "      <td>178.0</td>\n",
       "      <td>...</td>\n",
       "      <td>3113.0</td>\n",
       "      <td>30653.0</td>\n",
       "      <td>77.02</td>\n",
       "      <td>26415.0</td>\n",
       "      <td>-4238.0</td>\n",
       "      <td>-2062312.5</td>\n",
       "      <td>12</td>\n",
       "      <td>31</td>\n",
       "      <td>0</td>\n",
       "      <td>19</td>\n",
       "    </tr>\n",
       "    <tr>\n",
       "      <th>2018-12-31 20:00:00+01:00</th>\n",
       "      <td>9.990</td>\n",
       "      <td>1029.0</td>\n",
       "      <td>71</td>\n",
       "      <td>1.0</td>\n",
       "      <td>242</td>\n",
       "      <td>296.0</td>\n",
       "      <td>0.0</td>\n",
       "      <td>7241.0</td>\n",
       "      <td>2566.0</td>\n",
       "      <td>174.0</td>\n",
       "      <td>...</td>\n",
       "      <td>3288.0</td>\n",
       "      <td>29735.0</td>\n",
       "      <td>76.16</td>\n",
       "      <td>25213.0</td>\n",
       "      <td>-4522.0</td>\n",
       "      <td>-2066834.5</td>\n",
       "      <td>12</td>\n",
       "      <td>31</td>\n",
       "      <td>0</td>\n",
       "      <td>20</td>\n",
       "    </tr>\n",
       "    <tr>\n",
       "      <th>2018-12-31 21:00:00+01:00</th>\n",
       "      <td>8.510</td>\n",
       "      <td>1029.0</td>\n",
       "      <td>81</td>\n",
       "      <td>3.0</td>\n",
       "      <td>300</td>\n",
       "      <td>292.0</td>\n",
       "      <td>0.0</td>\n",
       "      <td>7025.0</td>\n",
       "      <td>2422.0</td>\n",
       "      <td>168.0</td>\n",
       "      <td>...</td>\n",
       "      <td>3503.0</td>\n",
       "      <td>28071.0</td>\n",
       "      <td>74.30</td>\n",
       "      <td>23987.0</td>\n",
       "      <td>-4084.0</td>\n",
       "      <td>-2070918.5</td>\n",
       "      <td>12</td>\n",
       "      <td>31</td>\n",
       "      <td>0</td>\n",
       "      <td>21</td>\n",
       "    </tr>\n",
       "    <tr>\n",
       "      <th>2018-12-31 22:00:00+01:00</th>\n",
       "      <td>6.990</td>\n",
       "      <td>1029.0</td>\n",
       "      <td>81</td>\n",
       "      <td>2.0</td>\n",
       "      <td>310</td>\n",
       "      <td>293.0</td>\n",
       "      <td>0.0</td>\n",
       "      <td>6562.0</td>\n",
       "      <td>2293.0</td>\n",
       "      <td>163.0</td>\n",
       "      <td>...</td>\n",
       "      <td>3586.0</td>\n",
       "      <td>25801.0</td>\n",
       "      <td>69.89</td>\n",
       "      <td>22748.0</td>\n",
       "      <td>-3053.0</td>\n",
       "      <td>-2073971.5</td>\n",
       "      <td>12</td>\n",
       "      <td>31</td>\n",
       "      <td>0</td>\n",
       "      <td>22</td>\n",
       "    </tr>\n",
       "    <tr>\n",
       "      <th>2018-12-31 23:00:00+01:00</th>\n",
       "      <td>5.990</td>\n",
       "      <td>1029.0</td>\n",
       "      <td>75</td>\n",
       "      <td>2.0</td>\n",
       "      <td>300</td>\n",
       "      <td>290.0</td>\n",
       "      <td>0.0</td>\n",
       "      <td>6926.0</td>\n",
       "      <td>2166.0</td>\n",
       "      <td>163.0</td>\n",
       "      <td>...</td>\n",
       "      <td>3651.0</td>\n",
       "      <td>24455.0</td>\n",
       "      <td>69.88</td>\n",
       "      <td>22605.0</td>\n",
       "      <td>-1850.0</td>\n",
       "      <td>-2075821.5</td>\n",
       "      <td>12</td>\n",
       "      <td>31</td>\n",
       "      <td>0</td>\n",
       "      <td>23</td>\n",
       "    </tr>\n",
       "  </tbody>\n",
       "</table>\n",
       "<p>35064 rows × 28 columns</p>\n",
       "</div>"
      ],
      "text/plain": [
       "                             temp  pressure  humidity  wind_speed  wind_deg  \\\n",
       "2015-01-01 00:00:00+01:00  -2.675    1001.0        77         1.0        62   \n",
       "2015-01-01 01:00:00+01:00  -2.675    1001.0        77         1.0        62   \n",
       "2015-01-01 02:00:00+01:00  -3.464    1002.0        78         0.0        23   \n",
       "2015-01-01 03:00:00+01:00  -3.464    1002.0        78         0.0        23   \n",
       "2015-01-01 04:00:00+01:00  -3.464    1002.0        78         0.0        23   \n",
       "...                           ...       ...       ...         ...       ...   \n",
       "2018-12-31 19:00:00+01:00  12.490    1028.0        62         2.0       140   \n",
       "2018-12-31 20:00:00+01:00   9.990    1029.0        71         1.0       242   \n",
       "2018-12-31 21:00:00+01:00   8.510    1029.0        81         3.0       300   \n",
       "2018-12-31 22:00:00+01:00   6.990    1029.0        81         2.0       310   \n",
       "2018-12-31 23:00:00+01:00   5.990    1029.0        75         2.0       300   \n",
       "\n",
       "                           generation biomass  \\\n",
       "2015-01-01 00:00:00+01:00               447.0   \n",
       "2015-01-01 01:00:00+01:00               449.0   \n",
       "2015-01-01 02:00:00+01:00               448.0   \n",
       "2015-01-01 03:00:00+01:00               438.0   \n",
       "2015-01-01 04:00:00+01:00               428.0   \n",
       "...                                       ...   \n",
       "2018-12-31 19:00:00+01:00               297.0   \n",
       "2018-12-31 20:00:00+01:00               296.0   \n",
       "2018-12-31 21:00:00+01:00               292.0   \n",
       "2018-12-31 22:00:00+01:00               293.0   \n",
       "2018-12-31 23:00:00+01:00               290.0   \n",
       "\n",
       "                           generation fossil brown coal/lignite  \\\n",
       "2015-01-01 00:00:00+01:00                                 329.0   \n",
       "2015-01-01 01:00:00+01:00                                 328.0   \n",
       "2015-01-01 02:00:00+01:00                                 323.0   \n",
       "2015-01-01 03:00:00+01:00                                 254.0   \n",
       "2015-01-01 04:00:00+01:00                                 187.0   \n",
       "...                                                         ...   \n",
       "2018-12-31 19:00:00+01:00                                   0.0   \n",
       "2018-12-31 20:00:00+01:00                                   0.0   \n",
       "2018-12-31 21:00:00+01:00                                   0.0   \n",
       "2018-12-31 22:00:00+01:00                                   0.0   \n",
       "2018-12-31 23:00:00+01:00                                   0.0   \n",
       "\n",
       "                           generation fossil gas  generation fossil hard coal  \\\n",
       "2015-01-01 00:00:00+01:00                 4844.0                       4821.0   \n",
       "2015-01-01 01:00:00+01:00                 5196.0                       4755.0   \n",
       "2015-01-01 02:00:00+01:00                 4857.0                       4581.0   \n",
       "2015-01-01 03:00:00+01:00                 4314.0                       4131.0   \n",
       "2015-01-01 04:00:00+01:00                 4130.0                       3840.0   \n",
       "...                                          ...                          ...   \n",
       "2018-12-31 19:00:00+01:00                 7634.0                       2628.0   \n",
       "2018-12-31 20:00:00+01:00                 7241.0                       2566.0   \n",
       "2018-12-31 21:00:00+01:00                 7025.0                       2422.0   \n",
       "2018-12-31 22:00:00+01:00                 6562.0                       2293.0   \n",
       "2018-12-31 23:00:00+01:00                 6926.0                       2166.0   \n",
       "\n",
       "                           generation fossil oil  ...  \\\n",
       "2015-01-01 00:00:00+01:00                  162.0  ...   \n",
       "2015-01-01 01:00:00+01:00                  158.0  ...   \n",
       "2015-01-01 02:00:00+01:00                  157.0  ...   \n",
       "2015-01-01 03:00:00+01:00                  160.0  ...   \n",
       "2015-01-01 04:00:00+01:00                  156.0  ...   \n",
       "...                                          ...  ...   \n",
       "2018-12-31 19:00:00+01:00                  178.0  ...   \n",
       "2018-12-31 20:00:00+01:00                  174.0  ...   \n",
       "2018-12-31 21:00:00+01:00                  168.0  ...   \n",
       "2018-12-31 22:00:00+01:00                  163.0  ...   \n",
       "2018-12-31 23:00:00+01:00                  163.0  ...   \n",
       "\n",
       "                           generation wind onshore  total load actual  \\\n",
       "2015-01-01 00:00:00+01:00                   6378.0            25385.0   \n",
       "2015-01-01 01:00:00+01:00                   5890.0            24382.0   \n",
       "2015-01-01 02:00:00+01:00                   5461.0            22734.0   \n",
       "2015-01-01 03:00:00+01:00                   5238.0            21286.0   \n",
       "2015-01-01 04:00:00+01:00                   4935.0            20264.0   \n",
       "...                                            ...                ...   \n",
       "2018-12-31 19:00:00+01:00                   3113.0            30653.0   \n",
       "2018-12-31 20:00:00+01:00                   3288.0            29735.0   \n",
       "2018-12-31 21:00:00+01:00                   3503.0            28071.0   \n",
       "2018-12-31 22:00:00+01:00                   3586.0            25801.0   \n",
       "2018-12-31 23:00:00+01:00                   3651.0            24455.0   \n",
       "\n",
       "                           price actual  generation  energy_difference  \\\n",
       "2015-01-01 00:00:00+01:00         65.41     28251.0             2866.0   \n",
       "2015-01-01 01:00:00+01:00         64.92     27818.0             3436.0   \n",
       "2015-01-01 02:00:00+01:00         64.48     26796.0             4062.0   \n",
       "2015-01-01 03:00:00+01:00         59.32     25223.0             3937.0   \n",
       "2015-01-01 04:00:00+01:00         56.04     24620.0             4356.0   \n",
       "...                                 ...         ...                ...   \n",
       "2018-12-31 19:00:00+01:00         77.02     26415.0            -4238.0   \n",
       "2018-12-31 20:00:00+01:00         76.16     25213.0            -4522.0   \n",
       "2018-12-31 21:00:00+01:00         74.30     23987.0            -4084.0   \n",
       "2018-12-31 22:00:00+01:00         69.89     22748.0            -3053.0   \n",
       "2018-12-31 23:00:00+01:00         69.88     22605.0            -1850.0   \n",
       "\n",
       "                           energy_stored  month  day  weekend  hour  \n",
       "2015-01-01 00:00:00+01:00         2866.0      1    1        0     0  \n",
       "2015-01-01 01:00:00+01:00         6302.0      1    1        0     1  \n",
       "2015-01-01 02:00:00+01:00        10364.0      1    1        0     2  \n",
       "2015-01-01 03:00:00+01:00        14301.0      1    1        0     3  \n",
       "2015-01-01 04:00:00+01:00        18657.0      1    1        0     4  \n",
       "...                                  ...    ...  ...      ...   ...  \n",
       "2018-12-31 19:00:00+01:00     -2062312.5     12   31        0    19  \n",
       "2018-12-31 20:00:00+01:00     -2066834.5     12   31        0    20  \n",
       "2018-12-31 21:00:00+01:00     -2070918.5     12   31        0    21  \n",
       "2018-12-31 22:00:00+01:00     -2073971.5     12   31        0    22  \n",
       "2018-12-31 23:00:00+01:00     -2075821.5     12   31        0    23  \n",
       "\n",
       "[35064 rows x 28 columns]"
      ]
     },
     "execution_count": 6,
     "metadata": {},
     "output_type": "execute_result"
    }
   ],
   "source": [
    "base_df"
   ]
  },
  {
   "cell_type": "code",
   "execution_count": 7,
   "metadata": {},
   "outputs": [],
   "source": [
    "combined_df = base_df.diff().dropna()\n",
    "combined_df.index = combined_df.index.tz_convert('utc')"
   ]
  },
  {
   "cell_type": "code",
   "execution_count": 8,
   "metadata": {},
   "outputs": [
    {
     "data": {
      "text/html": [
       "<div>\n",
       "<style scoped>\n",
       "    .dataframe tbody tr th:only-of-type {\n",
       "        vertical-align: middle;\n",
       "    }\n",
       "\n",
       "    .dataframe tbody tr th {\n",
       "        vertical-align: top;\n",
       "    }\n",
       "\n",
       "    .dataframe thead th {\n",
       "        text-align: right;\n",
       "    }\n",
       "</style>\n",
       "<table border=\"1\" class=\"dataframe\">\n",
       "  <thead>\n",
       "    <tr style=\"text-align: right;\">\n",
       "      <th></th>\n",
       "      <th>temp</th>\n",
       "      <th>pressure</th>\n",
       "      <th>humidity</th>\n",
       "      <th>wind_speed</th>\n",
       "      <th>wind_deg</th>\n",
       "      <th>generation biomass</th>\n",
       "      <th>generation fossil brown coal/lignite</th>\n",
       "      <th>generation fossil gas</th>\n",
       "      <th>generation fossil hard coal</th>\n",
       "      <th>generation fossil oil</th>\n",
       "      <th>...</th>\n",
       "      <th>generation wind onshore</th>\n",
       "      <th>total load actual</th>\n",
       "      <th>price actual</th>\n",
       "      <th>generation</th>\n",
       "      <th>energy_difference</th>\n",
       "      <th>energy_stored</th>\n",
       "      <th>month</th>\n",
       "      <th>day</th>\n",
       "      <th>weekend</th>\n",
       "      <th>hour</th>\n",
       "    </tr>\n",
       "  </thead>\n",
       "  <tbody>\n",
       "    <tr>\n",
       "      <th>2015-01-01 00:00:00+00:00</th>\n",
       "      <td>0.000</td>\n",
       "      <td>0.0</td>\n",
       "      <td>0.0</td>\n",
       "      <td>0.0</td>\n",
       "      <td>0.0</td>\n",
       "      <td>2.0</td>\n",
       "      <td>-1.0</td>\n",
       "      <td>352.0</td>\n",
       "      <td>-66.0</td>\n",
       "      <td>-4.0</td>\n",
       "      <td>...</td>\n",
       "      <td>-488.0</td>\n",
       "      <td>-1003.0</td>\n",
       "      <td>-0.49</td>\n",
       "      <td>-433.0</td>\n",
       "      <td>570.0</td>\n",
       "      <td>3436.0</td>\n",
       "      <td>0.0</td>\n",
       "      <td>0.0</td>\n",
       "      <td>0.0</td>\n",
       "      <td>1.0</td>\n",
       "    </tr>\n",
       "    <tr>\n",
       "      <th>2015-01-01 01:00:00+00:00</th>\n",
       "      <td>-0.789</td>\n",
       "      <td>1.0</td>\n",
       "      <td>1.0</td>\n",
       "      <td>-1.0</td>\n",
       "      <td>-39.0</td>\n",
       "      <td>-1.0</td>\n",
       "      <td>-5.0</td>\n",
       "      <td>-339.0</td>\n",
       "      <td>-174.0</td>\n",
       "      <td>-1.0</td>\n",
       "      <td>...</td>\n",
       "      <td>-429.0</td>\n",
       "      <td>-1648.0</td>\n",
       "      <td>-0.44</td>\n",
       "      <td>-1022.0</td>\n",
       "      <td>626.0</td>\n",
       "      <td>4062.0</td>\n",
       "      <td>0.0</td>\n",
       "      <td>0.0</td>\n",
       "      <td>0.0</td>\n",
       "      <td>1.0</td>\n",
       "    </tr>\n",
       "    <tr>\n",
       "      <th>2015-01-01 02:00:00+00:00</th>\n",
       "      <td>0.000</td>\n",
       "      <td>0.0</td>\n",
       "      <td>0.0</td>\n",
       "      <td>0.0</td>\n",
       "      <td>0.0</td>\n",
       "      <td>-10.0</td>\n",
       "      <td>-69.0</td>\n",
       "      <td>-543.0</td>\n",
       "      <td>-450.0</td>\n",
       "      <td>3.0</td>\n",
       "      <td>...</td>\n",
       "      <td>-223.0</td>\n",
       "      <td>-1448.0</td>\n",
       "      <td>-5.16</td>\n",
       "      <td>-1573.0</td>\n",
       "      <td>-125.0</td>\n",
       "      <td>3937.0</td>\n",
       "      <td>0.0</td>\n",
       "      <td>0.0</td>\n",
       "      <td>0.0</td>\n",
       "      <td>1.0</td>\n",
       "    </tr>\n",
       "    <tr>\n",
       "      <th>2015-01-01 03:00:00+00:00</th>\n",
       "      <td>0.000</td>\n",
       "      <td>0.0</td>\n",
       "      <td>0.0</td>\n",
       "      <td>0.0</td>\n",
       "      <td>0.0</td>\n",
       "      <td>-10.0</td>\n",
       "      <td>-67.0</td>\n",
       "      <td>-184.0</td>\n",
       "      <td>-291.0</td>\n",
       "      <td>-4.0</td>\n",
       "      <td>...</td>\n",
       "      <td>-303.0</td>\n",
       "      <td>-1022.0</td>\n",
       "      <td>-3.28</td>\n",
       "      <td>-603.0</td>\n",
       "      <td>419.0</td>\n",
       "      <td>4356.0</td>\n",
       "      <td>0.0</td>\n",
       "      <td>0.0</td>\n",
       "      <td>0.0</td>\n",
       "      <td>1.0</td>\n",
       "    </tr>\n",
       "    <tr>\n",
       "      <th>2015-01-01 04:00:00+00:00</th>\n",
       "      <td>0.606</td>\n",
       "      <td>2.0</td>\n",
       "      <td>-7.0</td>\n",
       "      <td>2.0</td>\n",
       "      <td>298.0</td>\n",
       "      <td>-18.0</td>\n",
       "      <td>-9.0</td>\n",
       "      <td>-92.0</td>\n",
       "      <td>-250.0</td>\n",
       "      <td>0.0</td>\n",
       "      <td>...</td>\n",
       "      <td>-317.0</td>\n",
       "      <td>-359.0</td>\n",
       "      <td>-2.41</td>\n",
       "      <td>-389.0</td>\n",
       "      <td>-30.0</td>\n",
       "      <td>4326.0</td>\n",
       "      <td>0.0</td>\n",
       "      <td>0.0</td>\n",
       "      <td>0.0</td>\n",
       "      <td>1.0</td>\n",
       "    </tr>\n",
       "    <tr>\n",
       "      <th>...</th>\n",
       "      <td>...</td>\n",
       "      <td>...</td>\n",
       "      <td>...</td>\n",
       "      <td>...</td>\n",
       "      <td>...</td>\n",
       "      <td>...</td>\n",
       "      <td>...</td>\n",
       "      <td>...</td>\n",
       "      <td>...</td>\n",
       "      <td>...</td>\n",
       "      <td>...</td>\n",
       "      <td>...</td>\n",
       "      <td>...</td>\n",
       "      <td>...</td>\n",
       "      <td>...</td>\n",
       "      <td>...</td>\n",
       "      <td>...</td>\n",
       "      <td>...</td>\n",
       "      <td>...</td>\n",
       "      <td>...</td>\n",
       "      <td>...</td>\n",
       "    </tr>\n",
       "    <tr>\n",
       "      <th>2018-12-31 18:00:00+00:00</th>\n",
       "      <td>-3.510</td>\n",
       "      <td>0.0</td>\n",
       "      <td>18.0</td>\n",
       "      <td>-1.0</td>\n",
       "      <td>0.0</td>\n",
       "      <td>4.0</td>\n",
       "      <td>0.0</td>\n",
       "      <td>41.0</td>\n",
       "      <td>24.0</td>\n",
       "      <td>0.0</td>\n",
       "      <td>...</td>\n",
       "      <td>161.0</td>\n",
       "      <td>1061.0</td>\n",
       "      <td>-0.59</td>\n",
       "      <td>878.0</td>\n",
       "      <td>-183.0</td>\n",
       "      <td>-4238.0</td>\n",
       "      <td>0.0</td>\n",
       "      <td>0.0</td>\n",
       "      <td>0.0</td>\n",
       "      <td>1.0</td>\n",
       "    </tr>\n",
       "    <tr>\n",
       "      <th>2018-12-31 19:00:00+00:00</th>\n",
       "      <td>-2.500</td>\n",
       "      <td>1.0</td>\n",
       "      <td>9.0</td>\n",
       "      <td>-1.0</td>\n",
       "      <td>102.0</td>\n",
       "      <td>-1.0</td>\n",
       "      <td>0.0</td>\n",
       "      <td>-393.0</td>\n",
       "      <td>-62.0</td>\n",
       "      <td>-4.0</td>\n",
       "      <td>...</td>\n",
       "      <td>175.0</td>\n",
       "      <td>-918.0</td>\n",
       "      <td>-0.86</td>\n",
       "      <td>-1202.0</td>\n",
       "      <td>-284.0</td>\n",
       "      <td>-4522.0</td>\n",
       "      <td>0.0</td>\n",
       "      <td>0.0</td>\n",
       "      <td>0.0</td>\n",
       "      <td>1.0</td>\n",
       "    </tr>\n",
       "    <tr>\n",
       "      <th>2018-12-31 20:00:00+00:00</th>\n",
       "      <td>-1.480</td>\n",
       "      <td>0.0</td>\n",
       "      <td>10.0</td>\n",
       "      <td>2.0</td>\n",
       "      <td>58.0</td>\n",
       "      <td>-4.0</td>\n",
       "      <td>0.0</td>\n",
       "      <td>-216.0</td>\n",
       "      <td>-144.0</td>\n",
       "      <td>-6.0</td>\n",
       "      <td>...</td>\n",
       "      <td>215.0</td>\n",
       "      <td>-1664.0</td>\n",
       "      <td>-1.86</td>\n",
       "      <td>-1226.0</td>\n",
       "      <td>438.0</td>\n",
       "      <td>-4084.0</td>\n",
       "      <td>0.0</td>\n",
       "      <td>0.0</td>\n",
       "      <td>0.0</td>\n",
       "      <td>1.0</td>\n",
       "    </tr>\n",
       "    <tr>\n",
       "      <th>2018-12-31 21:00:00+00:00</th>\n",
       "      <td>-1.520</td>\n",
       "      <td>0.0</td>\n",
       "      <td>0.0</td>\n",
       "      <td>-1.0</td>\n",
       "      <td>10.0</td>\n",
       "      <td>1.0</td>\n",
       "      <td>0.0</td>\n",
       "      <td>-463.0</td>\n",
       "      <td>-129.0</td>\n",
       "      <td>-5.0</td>\n",
       "      <td>...</td>\n",
       "      <td>83.0</td>\n",
       "      <td>-2270.0</td>\n",
       "      <td>-4.41</td>\n",
       "      <td>-1239.0</td>\n",
       "      <td>1031.0</td>\n",
       "      <td>-3053.0</td>\n",
       "      <td>0.0</td>\n",
       "      <td>0.0</td>\n",
       "      <td>0.0</td>\n",
       "      <td>1.0</td>\n",
       "    </tr>\n",
       "    <tr>\n",
       "      <th>2018-12-31 22:00:00+00:00</th>\n",
       "      <td>-1.000</td>\n",
       "      <td>0.0</td>\n",
       "      <td>-6.0</td>\n",
       "      <td>0.0</td>\n",
       "      <td>-10.0</td>\n",
       "      <td>-3.0</td>\n",
       "      <td>0.0</td>\n",
       "      <td>364.0</td>\n",
       "      <td>-127.0</td>\n",
       "      <td>0.0</td>\n",
       "      <td>...</td>\n",
       "      <td>65.0</td>\n",
       "      <td>-1346.0</td>\n",
       "      <td>-0.01</td>\n",
       "      <td>-143.0</td>\n",
       "      <td>1203.0</td>\n",
       "      <td>-1850.0</td>\n",
       "      <td>0.0</td>\n",
       "      <td>0.0</td>\n",
       "      <td>0.0</td>\n",
       "      <td>1.0</td>\n",
       "    </tr>\n",
       "  </tbody>\n",
       "</table>\n",
       "<p>35063 rows × 28 columns</p>\n",
       "</div>"
      ],
      "text/plain": [
       "                            temp  pressure  humidity  wind_speed  wind_deg  \\\n",
       "2015-01-01 00:00:00+00:00  0.000       0.0       0.0         0.0       0.0   \n",
       "2015-01-01 01:00:00+00:00 -0.789       1.0       1.0        -1.0     -39.0   \n",
       "2015-01-01 02:00:00+00:00  0.000       0.0       0.0         0.0       0.0   \n",
       "2015-01-01 03:00:00+00:00  0.000       0.0       0.0         0.0       0.0   \n",
       "2015-01-01 04:00:00+00:00  0.606       2.0      -7.0         2.0     298.0   \n",
       "...                          ...       ...       ...         ...       ...   \n",
       "2018-12-31 18:00:00+00:00 -3.510       0.0      18.0        -1.0       0.0   \n",
       "2018-12-31 19:00:00+00:00 -2.500       1.0       9.0        -1.0     102.0   \n",
       "2018-12-31 20:00:00+00:00 -1.480       0.0      10.0         2.0      58.0   \n",
       "2018-12-31 21:00:00+00:00 -1.520       0.0       0.0        -1.0      10.0   \n",
       "2018-12-31 22:00:00+00:00 -1.000       0.0      -6.0         0.0     -10.0   \n",
       "\n",
       "                           generation biomass  \\\n",
       "2015-01-01 00:00:00+00:00                 2.0   \n",
       "2015-01-01 01:00:00+00:00                -1.0   \n",
       "2015-01-01 02:00:00+00:00               -10.0   \n",
       "2015-01-01 03:00:00+00:00               -10.0   \n",
       "2015-01-01 04:00:00+00:00               -18.0   \n",
       "...                                       ...   \n",
       "2018-12-31 18:00:00+00:00                 4.0   \n",
       "2018-12-31 19:00:00+00:00                -1.0   \n",
       "2018-12-31 20:00:00+00:00                -4.0   \n",
       "2018-12-31 21:00:00+00:00                 1.0   \n",
       "2018-12-31 22:00:00+00:00                -3.0   \n",
       "\n",
       "                           generation fossil brown coal/lignite  \\\n",
       "2015-01-01 00:00:00+00:00                                  -1.0   \n",
       "2015-01-01 01:00:00+00:00                                  -5.0   \n",
       "2015-01-01 02:00:00+00:00                                 -69.0   \n",
       "2015-01-01 03:00:00+00:00                                 -67.0   \n",
       "2015-01-01 04:00:00+00:00                                  -9.0   \n",
       "...                                                         ...   \n",
       "2018-12-31 18:00:00+00:00                                   0.0   \n",
       "2018-12-31 19:00:00+00:00                                   0.0   \n",
       "2018-12-31 20:00:00+00:00                                   0.0   \n",
       "2018-12-31 21:00:00+00:00                                   0.0   \n",
       "2018-12-31 22:00:00+00:00                                   0.0   \n",
       "\n",
       "                           generation fossil gas  generation fossil hard coal  \\\n",
       "2015-01-01 00:00:00+00:00                  352.0                        -66.0   \n",
       "2015-01-01 01:00:00+00:00                 -339.0                       -174.0   \n",
       "2015-01-01 02:00:00+00:00                 -543.0                       -450.0   \n",
       "2015-01-01 03:00:00+00:00                 -184.0                       -291.0   \n",
       "2015-01-01 04:00:00+00:00                  -92.0                       -250.0   \n",
       "...                                          ...                          ...   \n",
       "2018-12-31 18:00:00+00:00                   41.0                         24.0   \n",
       "2018-12-31 19:00:00+00:00                 -393.0                        -62.0   \n",
       "2018-12-31 20:00:00+00:00                 -216.0                       -144.0   \n",
       "2018-12-31 21:00:00+00:00                 -463.0                       -129.0   \n",
       "2018-12-31 22:00:00+00:00                  364.0                       -127.0   \n",
       "\n",
       "                           generation fossil oil  ...  \\\n",
       "2015-01-01 00:00:00+00:00                   -4.0  ...   \n",
       "2015-01-01 01:00:00+00:00                   -1.0  ...   \n",
       "2015-01-01 02:00:00+00:00                    3.0  ...   \n",
       "2015-01-01 03:00:00+00:00                   -4.0  ...   \n",
       "2015-01-01 04:00:00+00:00                    0.0  ...   \n",
       "...                                          ...  ...   \n",
       "2018-12-31 18:00:00+00:00                    0.0  ...   \n",
       "2018-12-31 19:00:00+00:00                   -4.0  ...   \n",
       "2018-12-31 20:00:00+00:00                   -6.0  ...   \n",
       "2018-12-31 21:00:00+00:00                   -5.0  ...   \n",
       "2018-12-31 22:00:00+00:00                    0.0  ...   \n",
       "\n",
       "                           generation wind onshore  total load actual  \\\n",
       "2015-01-01 00:00:00+00:00                   -488.0            -1003.0   \n",
       "2015-01-01 01:00:00+00:00                   -429.0            -1648.0   \n",
       "2015-01-01 02:00:00+00:00                   -223.0            -1448.0   \n",
       "2015-01-01 03:00:00+00:00                   -303.0            -1022.0   \n",
       "2015-01-01 04:00:00+00:00                   -317.0             -359.0   \n",
       "...                                            ...                ...   \n",
       "2018-12-31 18:00:00+00:00                    161.0             1061.0   \n",
       "2018-12-31 19:00:00+00:00                    175.0             -918.0   \n",
       "2018-12-31 20:00:00+00:00                    215.0            -1664.0   \n",
       "2018-12-31 21:00:00+00:00                     83.0            -2270.0   \n",
       "2018-12-31 22:00:00+00:00                     65.0            -1346.0   \n",
       "\n",
       "                           price actual  generation  energy_difference  \\\n",
       "2015-01-01 00:00:00+00:00         -0.49      -433.0              570.0   \n",
       "2015-01-01 01:00:00+00:00         -0.44     -1022.0              626.0   \n",
       "2015-01-01 02:00:00+00:00         -5.16     -1573.0             -125.0   \n",
       "2015-01-01 03:00:00+00:00         -3.28      -603.0              419.0   \n",
       "2015-01-01 04:00:00+00:00         -2.41      -389.0              -30.0   \n",
       "...                                 ...         ...                ...   \n",
       "2018-12-31 18:00:00+00:00         -0.59       878.0             -183.0   \n",
       "2018-12-31 19:00:00+00:00         -0.86     -1202.0             -284.0   \n",
       "2018-12-31 20:00:00+00:00         -1.86     -1226.0              438.0   \n",
       "2018-12-31 21:00:00+00:00         -4.41     -1239.0             1031.0   \n",
       "2018-12-31 22:00:00+00:00         -0.01      -143.0             1203.0   \n",
       "\n",
       "                           energy_stored  month  day  weekend  hour  \n",
       "2015-01-01 00:00:00+00:00         3436.0    0.0  0.0      0.0   1.0  \n",
       "2015-01-01 01:00:00+00:00         4062.0    0.0  0.0      0.0   1.0  \n",
       "2015-01-01 02:00:00+00:00         3937.0    0.0  0.0      0.0   1.0  \n",
       "2015-01-01 03:00:00+00:00         4356.0    0.0  0.0      0.0   1.0  \n",
       "2015-01-01 04:00:00+00:00         4326.0    0.0  0.0      0.0   1.0  \n",
       "...                                  ...    ...  ...      ...   ...  \n",
       "2018-12-31 18:00:00+00:00        -4238.0    0.0  0.0      0.0   1.0  \n",
       "2018-12-31 19:00:00+00:00        -4522.0    0.0  0.0      0.0   1.0  \n",
       "2018-12-31 20:00:00+00:00        -4084.0    0.0  0.0      0.0   1.0  \n",
       "2018-12-31 21:00:00+00:00        -3053.0    0.0  0.0      0.0   1.0  \n",
       "2018-12-31 22:00:00+00:00        -1850.0    0.0  0.0      0.0   1.0  \n",
       "\n",
       "[35063 rows x 28 columns]"
      ]
     },
     "execution_count": 8,
     "metadata": {},
     "output_type": "execute_result"
    }
   ],
   "source": [
    "combined_df"
   ]
  },
  {
   "cell_type": "markdown",
   "metadata": {},
   "source": [
    "# Encode- Decoder + LSTM"
   ]
  },
  {
   "cell_type": "markdown",
   "metadata": {},
   "source": [
    "Scale the input data"
   ]
  },
  {
   "cell_type": "code",
   "execution_count": 9,
   "metadata": {},
   "outputs": [],
   "source": [
    "scaled_df = combined_df.copy(deep=True)\n",
    "featuresToScale = scaled_df.columns\n",
    "sX = pp.StandardScaler(copy=True)\n",
    "scaled_df.loc[:,featuresToScale] = sX.fit_transform(scaled_df[featuresToScale])"
   ]
  },
  {
   "cell_type": "markdown",
   "metadata": {},
   "source": [
    "Create Train Validation Test Split"
   ]
  },
  {
   "cell_type": "code",
   "execution_count": 15,
   "metadata": {},
   "outputs": [],
   "source": [
    "train_start = '2015-01-01'\n",
    "validation_start = '2017-01-01'\n",
    "test_start = '2017-03-01'\n",
    "test_end = '2017-03-28'\n",
    "feature = 'total load actual'\n",
    "namespace= 'MS_EDLSTM_WL6'\n",
    "modeltype = 'EDLSTM'\n",
    "feature_df = combined_df[[feature]]\n",
    "data_x_train0,data_x_val0,data_x_test0,data_y_train0,data_y_val0,data_y_test0 = create_test_train_split(scaled_df,feature_df,train_start,test_start,test_end,validation_start=validation_start)"
   ]
  },
  {
   "cell_type": "markdown",
   "metadata": {},
   "source": [
    "Convert to (sample,timestep,feature) format"
   ]
  },
  {
   "cell_type": "code",
   "execution_count": 16,
   "metadata": {},
   "outputs": [],
   "source": [
    "data_x_train,data_y_train,idx_train = convert_to_sample_time_feature(data_x_train0,data_y_train0,24*14,24,32)\n",
    "data_x_test,data_y_test,idx_test = convert_to_sample_time_feature(data_x_test0,data_y_test0,24*14,24,32)\n",
    "data_x_val,data_y_val,idx_val = convert_to_sample_time_feature(data_x_val0,data_y_val0,24*14,24,32)\n"
   ]
  },
  {
   "cell_type": "code",
   "execution_count": 17,
   "metadata": {},
   "outputs": [
    {
     "name": "stdout",
     "output_type": "stream",
     "text": [
      "(17152, 336, 28) (17152, 24)\n",
      "(1024, 336, 28) (1024, 24)\n",
      "(256, 336, 28) (256, 24)\n"
     ]
    }
   ],
   "source": [
    "print(data_x_train.shape,data_y_train.shape)\n",
    "print(data_x_val.shape,data_y_val.shape)\n",
    "print(data_x_test.shape,data_y_test.shape)"
   ]
  },
  {
   "cell_type": "code",
   "execution_count": 24,
   "metadata": {},
   "outputs": [],
   "source": [
    "idx_init = idx_test[0] - timedelta(hours=1)"
   ]
  },
  {
   "cell_type": "code",
   "execution_count": 25,
   "metadata": {},
   "outputs": [],
   "source": [
    "start = idx_test[0]\n",
    "end= idx_test[0]+ timedelta(hours=23)"
   ]
  },
  {
   "cell_type": "code",
   "execution_count": 29,
   "metadata": {},
   "outputs": [],
   "source": [
    "init = np.array(base_df.loc[idx_init,feature])"
   ]
  },
  {
   "cell_type": "code",
   "execution_count": 34,
   "metadata": {},
   "outputs": [],
   "source": [
    "prediction = np.insert(data_y_test[0],0,init)"
   ]
  },
  {
   "cell_type": "code",
   "execution_count": 40,
   "metadata": {},
   "outputs": [
    {
     "data": {
      "text/plain": [
       "array([24214., 23173., 22844., 22757., 23453., 25974., 29265., 31604.,\n",
       "       32426., 32524., 32276., 32017., 31644., 30656., 30115., 29683.,\n",
       "       29475., 29425., 31679., 33805., 33164., 30549., 27769., 25842.])"
      ]
     },
     "execution_count": 40,
     "metadata": {},
     "output_type": "execute_result"
    }
   ],
   "source": [
    "prediction.cumsum()[1:]"
   ]
  },
  {
   "cell_type": "code",
   "execution_count": 39,
   "metadata": {},
   "outputs": [
    {
     "data": {
      "text/plain": [
       "2017-03-15 01:00:00+01:00    24214.0\n",
       "2017-03-15 02:00:00+01:00    23173.0\n",
       "2017-03-15 03:00:00+01:00    22844.0\n",
       "2017-03-15 04:00:00+01:00    22757.0\n",
       "2017-03-15 05:00:00+01:00    23453.0\n",
       "2017-03-15 06:00:00+01:00    25974.0\n",
       "2017-03-15 07:00:00+01:00    29265.0\n",
       "2017-03-15 08:00:00+01:00    31604.0\n",
       "2017-03-15 09:00:00+01:00    32426.0\n",
       "2017-03-15 10:00:00+01:00    32524.0\n",
       "2017-03-15 11:00:00+01:00    32276.0\n",
       "2017-03-15 12:00:00+01:00    32017.0\n",
       "2017-03-15 13:00:00+01:00    31644.0\n",
       "2017-03-15 14:00:00+01:00    30656.0\n",
       "2017-03-15 15:00:00+01:00    30115.0\n",
       "2017-03-15 16:00:00+01:00    29683.0\n",
       "2017-03-15 17:00:00+01:00    29475.0\n",
       "2017-03-15 18:00:00+01:00    29425.0\n",
       "2017-03-15 19:00:00+01:00    31679.0\n",
       "2017-03-15 20:00:00+01:00    33805.0\n",
       "2017-03-15 21:00:00+01:00    33164.0\n",
       "2017-03-15 22:00:00+01:00    30549.0\n",
       "2017-03-15 23:00:00+01:00    27769.0\n",
       "2017-03-16 00:00:00+01:00    25842.0\n",
       "Freq: H, Name: total load actual, dtype: float64"
      ]
     },
     "execution_count": 39,
     "metadata": {},
     "output_type": "execute_result"
    }
   ],
   "source": [
    "base_df[start:end][feature]"
   ]
  },
  {
   "cell_type": "markdown",
   "metadata": {},
   "source": [
    "Define LSTM Model"
   ]
  },
  {
   "cell_type": "code",
   "execution_count": 43,
   "metadata": {},
   "outputs": [],
   "source": [
    "def build_model_ED_LSTM():\n",
    "    n_timesteps, n_features, n_outputs = data_x_train.shape[1], data_x_train.shape[2], data_y_train.shape[1]\n",
    "    model = models.Sequential()\n",
    "    # Encoder\n",
    "    model.add(layers.LSTM(64, return_sequences=True,input_shape=(None, n_features), stateful=False)) \n",
    "    model.add(layers.BatchNormalization())\n",
    "    \n",
    "    for i in range(4):\n",
    "        model.add(layers.LSTM(64, return_sequences=True, stateful=False))\n",
    "        model.add(layers.BatchNormalization())\n",
    "      \n",
    "    model.add(layers.LSTM(64, return_sequences=False, stateful=False)) \n",
    "    model.add(layers.BatchNormalization())  \n",
    "    \n",
    "    # Repeat Vector\n",
    "    model.add(layers.RepeatVector(n_outputs))\n",
    "    \n",
    "    # Decoder\n",
    "    model.add(layers.LSTM(64, return_sequences=True,stateful=False))\n",
    "    \n",
    "    model.add(layers.BatchNormalization())\n",
    "\n",
    "    for i in range(4):\n",
    "        model.add(layers.LSTM(64, return_sequences=True, stateful=False))\n",
    "        model.add(layers.BatchNormalization())\n",
    "\n",
    "    model.add(layers.LSTM(64, return_sequences=True,stateful=False))\n",
    "    model.add(layers.BatchNormalization())\n",
    "\n",
    "    # End\n",
    "    model.add(layers.TimeDistributed(layers.Dense(64, kernel_regularizer=regularizers.l2(0.0001), kernel_initializer=\"he_normal\")))\n",
    "    \n",
    "    model.add(layers.TimeDistributed(layers.LeakyReLU(alpha=0.1)))                     \n",
    "    model.add(layers.TimeDistributed(layers.BatchNormalization()))\n",
    "    model.add(layers.TimeDistributed(layers.Dense(1)))                     \n",
    "                \n",
    "    model.compile(optimizer='Adam',loss='mse',metrics='mae') \n",
    "    return model"
   ]
  },
  {
   "cell_type": "code",
   "execution_count": 44,
   "metadata": {},
   "outputs": [],
   "source": [
    "myCheckpointLSTM= keras.callbacks.ModelCheckpoint(f\"./{modeltype}/my_best_model_{namespace}.h5\", save_best_only=True)\n",
    "myEarly_stoppingLSTM = keras.callbacks.EarlyStopping(patience=20,restore_best_weights=True)"
   ]
  },
  {
   "cell_type": "code",
   "execution_count": 45,
   "metadata": {},
   "outputs": [],
   "source": [
    "num_epochs = 150\n",
    "batch_size = 32"
   ]
  },
  {
   "cell_type": "code",
   "execution_count": 46,
   "metadata": {},
   "outputs": [],
   "source": [
    "%%skip $SKIP_RETRAIN_ED_LSTM\n",
    "model_ED_LSTM= build_model_ED_LSTM()\n",
    "history_ED_LSTM = model_ED_LSTM.fit(data_x_train, data_y_train, epochs=num_epochs, batch_size=batch_size, validation_data=(data_x_val, data_y_val) , \n",
    "                                 callbacks=[myCheckpointLSTM,myEarly_stoppingLSTM])"
   ]
  },
  {
   "cell_type": "code",
   "execution_count": 47,
   "metadata": {
    "colab": {
     "base_uri": "https://localhost:8080/",
     "height": 159
    },
    "id": "0f_FwfmlHyAl",
    "outputId": "080474a2-3f61-42ca-95ef-7bc23f76c853"
   },
   "outputs": [],
   "source": [
    "%%skip $SKIP_RETRAIN_ED_LSTM\n",
    "histEDLSTM = pd.DataFrame(history_ED_LSTM.history)\n",
    "histEDLSTM['epoch'] = history_ED_LSTM.epoch"
   ]
  },
  {
   "cell_type": "code",
   "execution_count": 48,
   "metadata": {
    "colab": {
     "base_uri": "https://localhost:8080/",
     "height": 405
    },
    "id": "d2SviC32HyAr",
    "outputId": "512e600c-f7c8-46cd-9801-7387d6bf4f7f"
   },
   "outputs": [],
   "source": [
    "%%skip $SKIP_RETRAIN_ED_LSTM\n",
    "fig = plot_learning_curves(histEDLSTM,modeltype,f\"./{modeltype}/learningcurve_{namespace}.png\")"
   ]
  },
  {
   "cell_type": "markdown",
   "metadata": {},
   "source": [
    "Load best model"
   ]
  },
  {
   "cell_type": "code",
   "execution_count": 49,
   "metadata": {},
   "outputs": [
    {
     "name": "stdout",
     "output_type": "stream",
     "text": [
      "Model: \"sequential\"\n",
      "_________________________________________________________________\n",
      "Layer (type)                 Output Shape              Param #   \n",
      "=================================================================\n",
      "lstm (LSTM)                  (None, None, 64)          23808     \n",
      "_________________________________________________________________\n",
      "batch_normalization (BatchNo (None, None, 64)          256       \n",
      "_________________________________________________________________\n",
      "lstm_1 (LSTM)                (None, None, 64)          33024     \n",
      "_________________________________________________________________\n",
      "batch_normalization_1 (Batch (None, None, 64)          256       \n",
      "_________________________________________________________________\n",
      "lstm_2 (LSTM)                (None, None, 64)          33024     \n",
      "_________________________________________________________________\n",
      "batch_normalization_2 (Batch (None, None, 64)          256       \n",
      "_________________________________________________________________\n",
      "lstm_3 (LSTM)                (None, None, 64)          33024     \n",
      "_________________________________________________________________\n",
      "batch_normalization_3 (Batch (None, None, 64)          256       \n",
      "_________________________________________________________________\n",
      "lstm_4 (LSTM)                (None, None, 64)          33024     \n",
      "_________________________________________________________________\n",
      "batch_normalization_4 (Batch (None, None, 64)          256       \n",
      "_________________________________________________________________\n",
      "lstm_5 (LSTM)                (None, 64)                33024     \n",
      "_________________________________________________________________\n",
      "batch_normalization_5 (Batch (None, 64)                256       \n",
      "_________________________________________________________________\n",
      "repeat_vector (RepeatVector) (None, 24, 64)            0         \n",
      "_________________________________________________________________\n",
      "lstm_6 (LSTM)                (None, 24, 64)            33024     \n",
      "_________________________________________________________________\n",
      "batch_normalization_6 (Batch (None, 24, 64)            256       \n",
      "_________________________________________________________________\n",
      "lstm_7 (LSTM)                (None, 24, 64)            33024     \n",
      "_________________________________________________________________\n",
      "batch_normalization_7 (Batch (None, 24, 64)            256       \n",
      "_________________________________________________________________\n",
      "lstm_8 (LSTM)                (None, 24, 64)            33024     \n",
      "_________________________________________________________________\n",
      "batch_normalization_8 (Batch (None, 24, 64)            256       \n",
      "_________________________________________________________________\n",
      "lstm_9 (LSTM)                (None, 24, 64)            33024     \n",
      "_________________________________________________________________\n",
      "batch_normalization_9 (Batch (None, 24, 64)            256       \n",
      "_________________________________________________________________\n",
      "lstm_10 (LSTM)               (None, 24, 64)            33024     \n",
      "_________________________________________________________________\n",
      "batch_normalization_10 (Batc (None, 24, 64)            256       \n",
      "_________________________________________________________________\n",
      "lstm_11 (LSTM)               (None, 24, 64)            33024     \n",
      "_________________________________________________________________\n",
      "batch_normalization_11 (Batc (None, 24, 64)            256       \n",
      "_________________________________________________________________\n",
      "time_distributed (TimeDistri (None, 24, 64)            4160      \n",
      "_________________________________________________________________\n",
      "time_distributed_1 (TimeDist (None, 24, 64)            0         \n",
      "_________________________________________________________________\n",
      "time_distributed_2 (TimeDist (None, 24, 64)            256       \n",
      "_________________________________________________________________\n",
      "time_distributed_3 (TimeDist (None, 24, 1)             65        \n",
      "=================================================================\n",
      "Total params: 394,625\n",
      "Trainable params: 392,961\n",
      "Non-trainable params: 1,664\n",
      "_________________________________________________________________\n"
     ]
    }
   ],
   "source": [
    "model_best_ED_LSTM = keras.models.load_model(f\"./{modeltype}/my_best_model_{namespace}.h5\")\n",
    "model_best_ED_LSTM.summary()"
   ]
  },
  {
   "cell_type": "code",
   "execution_count": 130,
   "metadata": {},
   "outputs": [],
   "source": [
    "i=9\n",
    "case_test = data_x_test[i].reshape((1,data_x_test[0].shape[0], data_x_test[0].shape[1]))\n",
    "Y_test_predictions = pd.Series(model_best_ED_LSTM.predict(case_test).flatten(),index=pd.date_range(start=idx_test[i],freq='h',periods=24))\n",
    "y_test_filtered = base_df.loc[Y_test_predictions.index][feature]\n"
   ]
  },
  {
   "cell_type": "code",
   "execution_count": 131,
   "metadata": {},
   "outputs": [],
   "source": [
    "def convert_from_differencing(Y_test_predictions,base_df,feature):\n",
    "    idx_init = Y_test_predictions.index[0] - timedelta(hours=1)\n",
    "    init_val = base_df.loc[idx_init,feature]\n",
    "    Y_test_predictions.loc[idx_init] = init\n",
    "    Y_test_predictions.sort_index(inplace=True)\n",
    "    Y_test_predictions = Y_test_predictions.cumsum()[1:]\n",
    "    return Y_test_predictions\n",
    "\n",
    "Y_test_predictions = convert_from_differencing(Y_test_predictions,base_df,feature)"
   ]
  },
  {
   "cell_type": "code",
   "execution_count": 132,
   "metadata": {},
   "outputs": [],
   "source": [
    "# idx_init = idx_test[i] - timedelta(hours=1)\n",
    "# start = idx_test[i]\n",
    "# end= idx_test[i]+ timedelta(hours=23)\n",
    "# init = base_df.loc[idx_init,feature]\n",
    "# print(idx_init)\n",
    "# Y_test_predictions.loc[idx_init] = init\n",
    "# Y_test_predictions.sort_index(inplace=True)\n",
    "# Y_test_predictions = Y_test_predictions.cumsum()[1:]"
   ]
  },
  {
   "cell_type": "code",
   "execution_count": 133,
   "metadata": {},
   "outputs": [
    {
     "data": {
      "text/plain": [
       "2017-03-15 09:00:00+00:00    32524.0\n",
       "2017-03-15 10:00:00+00:00    32276.0\n",
       "2017-03-15 11:00:00+00:00    32017.0\n",
       "2017-03-15 12:00:00+00:00    31644.0\n",
       "2017-03-15 13:00:00+00:00    30656.0\n",
       "2017-03-15 14:00:00+00:00    30115.0\n",
       "2017-03-15 15:00:00+00:00    29683.0\n",
       "2017-03-15 16:00:00+00:00    29475.0\n",
       "2017-03-15 17:00:00+00:00    29425.0\n",
       "2017-03-15 18:00:00+00:00    31679.0\n",
       "2017-03-15 19:00:00+00:00    33805.0\n",
       "2017-03-15 20:00:00+00:00    33164.0\n",
       "2017-03-15 21:00:00+00:00    30549.0\n",
       "2017-03-15 22:00:00+00:00    27769.0\n",
       "2017-03-15 23:00:00+00:00    25842.0\n",
       "2017-03-16 00:00:00+00:00    24324.0\n",
       "2017-03-16 01:00:00+00:00    23345.0\n",
       "2017-03-16 02:00:00+00:00    23010.0\n",
       "2017-03-16 03:00:00+00:00    22906.0\n",
       "2017-03-16 04:00:00+00:00    23439.0\n",
       "2017-03-16 05:00:00+00:00    25669.0\n",
       "2017-03-16 06:00:00+00:00    28850.0\n",
       "2017-03-16 07:00:00+00:00    31307.0\n",
       "2017-03-16 08:00:00+00:00    32065.0\n",
       "Freq: H, Name: total load actual, dtype: float64"
      ]
     },
     "execution_count": 133,
     "metadata": {},
     "output_type": "execute_result"
    }
   ],
   "source": [
    "y_test_filtered"
   ]
  },
  {
   "cell_type": "code",
   "execution_count": 134,
   "metadata": {},
   "outputs": [
    {
     "data": {
      "text/plain": [
       "2017-03-15 09:00:00+00:00    26390.500977\n",
       "2017-03-15 10:00:00+00:00    26548.598175\n",
       "2017-03-15 11:00:00+00:00    26536.328502\n",
       "2017-03-15 12:00:00+00:00    26476.087634\n",
       "2017-03-15 13:00:00+00:00    25397.148425\n",
       "2017-03-15 14:00:00+00:00    24655.934497\n",
       "2017-03-15 15:00:00+00:00    24438.313098\n",
       "2017-03-15 16:00:00+00:00    24438.794934\n",
       "2017-03-15 17:00:00+00:00    24423.857935\n",
       "2017-03-15 18:00:00+00:00    25997.540796\n",
       "2017-03-15 19:00:00+00:00    28021.916528\n",
       "2017-03-15 20:00:00+00:00    27230.503687\n",
       "2017-03-15 21:00:00+00:00    24449.816919\n",
       "2017-03-15 22:00:00+00:00    21574.947534\n",
       "2017-03-15 23:00:00+00:00    19340.658960\n",
       "2017-03-16 00:00:00+00:00    17582.495630\n",
       "2017-03-16 01:00:00+00:00    16595.811121\n",
       "2017-03-16 02:00:00+00:00    16158.914636\n",
       "2017-03-16 03:00:00+00:00    16106.059026\n",
       "2017-03-16 04:00:00+00:00    16662.821050\n",
       "2017-03-16 05:00:00+00:00    19056.177496\n",
       "2017-03-16 06:00:00+00:00    22724.315923\n",
       "2017-03-16 07:00:00+00:00    25108.055669\n",
       "2017-03-16 08:00:00+00:00    26160.163824\n",
       "dtype: float64"
      ]
     },
     "execution_count": 134,
     "metadata": {},
     "output_type": "execute_result"
    }
   ],
   "source": [
    "Y_test_predictions\n"
   ]
  },
  {
   "cell_type": "code",
   "execution_count": 135,
   "metadata": {},
   "outputs": [],
   "source": [
    "eval_df = create_eval_df(Y_test_predictions,y_test_filtered)"
   ]
  },
  {
   "cell_type": "code",
   "execution_count": 136,
   "metadata": {
    "colab": {
     "base_uri": "https://localhost:8080/",
     "height": 426
    },
    "id": "5X3Hs_GtHyAs",
    "outputId": "7281486a-4a6c-492c-e48f-37fa6e7d7c25"
   },
   "outputs": [
    {
     "data": {
      "image/png": "[encoded data removed]",
      "text/plain": [
       "<Figure size 1152x576 with 1 Axes>"
      ]
     },
     "metadata": {
      "needs_background": "light"
     },
     "output_type": "display_data"
    }
   ],
   "source": [
    "fig = plot_accuracy(eval_df,modeltype,f\"./{modeltype}/accuracy_{namespace}.png\")"
   ]
  },
  {
   "cell_type": "code",
   "execution_count": 137,
   "metadata": {
    "colab": {
     "base_uri": "https://localhost:8080/",
     "height": 422
    },
    "id": "olr-44nOHyAt",
    "outputId": "ac65b698-1f77-4a62-87cf-c99f30d4d246"
   },
   "outputs": [
    {
     "data": {
      "image/png": "[encoded data removed]",
      "text/plain": [
       "<Figure size 1152x576 with 1 Axes>"
      ]
     },
     "metadata": {
      "needs_background": "light"
     },
     "output_type": "display_data"
    }
   ],
   "source": [
    "fig = plot_error_variations(eval_df,modeltype,f\"./{modeltype}/error_variations_{namespace}.png\")"
   ]
  },
  {
   "cell_type": "code",
   "execution_count": 138,
   "metadata": {
    "colab": {
     "base_uri": "https://localhost:8080/"
    },
    "id": "-HSnhihhHyAt",
    "outputId": "b45d472e-df1f-4ab2-97ba-6318127d0d9e"
   },
   "outputs": [
    {
     "data": {
      "text/plain": [
       "21.15230394355707"
      ]
     },
     "execution_count": 138,
     "metadata": {},
     "output_type": "execute_result"
    }
   ],
   "source": [
    "abs_error_ED_LSTM = abs(Y_test_predictions - y_test_filtered)/y_test_filtered*100\n",
    "np.average(abs_error_ED_LSTM)"
   ]
  },
  {
   "cell_type": "code",
   "execution_count": 139,
   "metadata": {
    "colab": {
     "base_uri": "https://localhost:8080/"
    },
    "id": "-Og3-ec1HyAv",
    "outputId": "f0d3e172-622e-4dd4-a8ec-3f84e320356b"
   },
   "outputs": [
    {
     "name": "stdout",
     "output_type": "stream",
     "text": [
      "R^2 score is  -1.99\n"
     ]
    }
   ],
   "source": [
    "r2_test = r2_score(y_test_filtered, Y_test_predictions)\n",
    "print('R^2 score is  %3.2f' %r2_test)"
   ]
  },
  {
   "cell_type": "code",
   "execution_count": 140,
   "metadata": {
    "colab": {
     "base_uri": "https://localhost:8080/",
     "height": 421
    },
    "id": "bUVtrW7kHyAw",
    "outputId": "e4abb863-ccd1-4159-bd9d-7fb1a9711a9f"
   },
   "outputs": [
    {
     "data": {
      "image/png": "[encoded data removed]",
      "text/plain": [
       "<Figure size 1152x576 with 1 Axes>"
      ]
     },
     "metadata": {
      "needs_background": "light"
     },
     "output_type": "display_data"
    }
   ],
   "source": [
    "fig=plot_predictions(eval_df,1,modeltype,feature,f\"./{modeltype}/predictions_{namespace}.png\")"
   ]
  },
  {
   "cell_type": "code",
   "execution_count": 116,
   "metadata": {},
   "outputs": [],
   "source": [
    "idx_prediction = pd.date_range(start=idx_test[0],freq='h',periods=len(idx_test)+24)\n",
    "y_test_filtered2 = data_y_test0.loc[idx_prediction]"
   ]
  },
  {
   "cell_type": "code",
   "execution_count": 120,
   "metadata": {},
   "outputs": [],
   "source": [
    "def make_twoweek_predictions(idx_test,data_y_test0,data_x_test):\n",
    "    idx_prediction = pd.date_range(start=idx_test[0],freq='h',periods=len(idx_test)+24)\n",
    "    # y_test_filtered2 = data_y_test0.loc[idx_prediction]\n",
    "    y_test_filtered2 = base_df.loc[idx_prediction][feature]\n",
    "    df_pred =pd.DataFrame(index=y_test_filtered2.index)\n",
    "        \n",
    "    for i in range(len(data_x_test)):\n",
    "        case_test = data_x_test[i].reshape((1,data_x_test[0].shape[0], data_x_test[0].shape[1]))\n",
    "        date_range = pd.date_range(start=idx_test[i],freq='h',periods=24)\n",
    "        Y_test_predictions = pd.Series(model_best_ED_LSTM.predict(case_test).flatten(),index=date_range)\n",
    "        \n",
    "        Y_test_predictions = convert_from_differencing(Y_test_predictions,base_df,feature)\n",
    "        df_pred[f'pred_{i}'] = Y_test_predictions\n",
    "        \n",
    "    df_pred['mean'] = df_pred.mean(axis=1)\n",
    "    df_pred['Actual'] = y_test_filtered2\n",
    "    return df_pred\n",
    "\n",
    "def calculate_r2_scores(df_pred):\n",
    "    r2_list=[]\n",
    "    for column in df_pred.columns:\n",
    "        if column not in ['Actual','mean']:\n",
    "            pred = df_pred[column].dropna()\n",
    "            act = df_pred.loc[pred.index,'Actual']\n",
    "            r2= r2_score(pred,act)\n",
    "            r2_list.append(r2)\n",
    "    return r2_list      \n",
    "    \n",
    "def plot_twoweek_predictions(df_pred,path,add_traces = False):\n",
    "    mpl.rcParams['figure.figsize'] = [16, 8.0]\n",
    "    fig,ax = plt.subplots(1)\n",
    "    ax.plot(df_pred.index,df_pred['Actual'])\n",
    "    ax.plot(df_pred.index,df_pred['mean'])\n",
    "    if add_traces:\n",
    "        for column in df_pred.columns:\n",
    "            if column not in ['Actual','mean']:\n",
    "                ax.plot(df_pred[column],'o')\n",
    "    fig.savefig(path)\n",
    "    return fig\n",
    "    pass\n",
    "\n"
   ]
  },
  {
   "cell_type": "code",
   "execution_count": 121,
   "metadata": {},
   "outputs": [],
   "source": [
    "df_pred = make_twoweek_predictions(idx_test=idx_test,data_y_test0=data_y_test0,data_x_test=data_x_test)"
   ]
  },
  {
   "cell_type": "code",
   "execution_count": 127,
   "metadata": {},
   "outputs": [
    {
     "data": {
      "image/png": "[encoded data removed]",
      "text/plain": [
       "<Figure size 1152x576 with 1 Axes>"
      ]
     },
     "metadata": {
      "needs_background": "light"
     },
     "output_type": "display_data"
    }
   ],
   "source": [
    "fig = plot_twoweek_predictions(df_pred,f'./{modeltype}/twoweek_predictions_{namespace}.png',add_traces=False)"
   ]
  },
  {
   "cell_type": "code",
   "execution_count": 129,
   "metadata": {},
   "outputs": [
    {
     "data": {
      "text/plain": [
       "(-1.0, 1.0)"
      ]
     },
     "execution_count": 129,
     "metadata": {},
     "output_type": "execute_result"
    },
    {
     "data": {
      "image/png": "[encoded data removed]",
      "text/plain": [
       "<Figure size 1152x576 with 1 Axes>"
      ]
     },
     "metadata": {
      "needs_background": "light"
     },
     "output_type": "display_data"
    }
   ],
   "source": [
    "r2 = calculate_r2_scores(df_pred)\n",
    "plt.figure()\n",
    "plt.plot(r2)\n",
    "plt.xlim(0,10)\n",
    "plt.ylim(-1,1)"
   ]
  },
  {
   "cell_type": "code",
   "execution_count": 124,
   "metadata": {},
   "outputs": [
    {
     "data": {
      "text/plain": [
       "-0.7498902925663138"
      ]
     },
     "execution_count": 124,
     "metadata": {},
     "output_type": "execute_result"
    }
   ],
   "source": [
    "sum(r2)/len(r2)"
   ]
  },
  {
   "cell_type": "code",
   "execution_count": 125,
   "metadata": {},
   "outputs": [
    {
     "name": "stdout",
     "output_type": "stream",
     "text": [
      "R^2 score is  -341.93\n"
     ]
    }
   ],
   "source": [
    "r2_test = r2_score(y_test_filtered2[:-1],df_pred['mean'][:-1])\n",
    "print('R^2 score is  %3.2f' %r2_test)"
   ]
  },
  {
   "cell_type": "code",
   "execution_count": null,
   "metadata": {},
   "outputs": [],
   "source": [
    "eval_df2 = create_eval_df(df_pred['mean'][:-1],y_test_filtered2[:-1])"
   ]
  },
  {
   "cell_type": "code",
   "execution_count": null,
   "metadata": {},
   "outputs": [
    {
     "data": {
      "image/png": "[encoded data removed]",
      "text/plain": [
       "<Figure size 1152x576 with 1 Axes>"
      ]
     },
     "metadata": {
      "needs_background": "light"
     },
     "output_type": "display_data"
    }
   ],
   "source": [
    "fig = plot_accuracy(eval_df2,modeltype,f\"./{modeltype}/accuracy3_{namespace}.png\")"
   ]
  },
  {
   "cell_type": "code",
   "execution_count": null,
   "metadata": {},
   "outputs": [
    {
     "data": {
      "image/png": "[encoded data removed]",
      "text/plain": [
       "<Figure size 1152x576 with 1 Axes>"
      ]
     },
     "metadata": {
      "needs_background": "light"
     },
     "output_type": "display_data"
    }
   ],
   "source": [
    "fig = plot_error_variations(eval_df2,modeltype,f\"./{modeltype}/error_variations3_{namespace}.png\")"
   ]
  },
  {
   "cell_type": "code",
   "execution_count": null,
   "metadata": {},
   "outputs": [],
   "source": []
  }
 ],
 "metadata": {
  "interpreter": {
   "hash": "39d1545a961fb91480a52a0b6f0ba22788119e75d6e41681ee81894caf37680e"
  },
  "kernelspec": {
   "display_name": "Python 3",
   "language": "python",
   "name": "python3"
  },
  "language_info": {
   "codemirror_mode": {
    "name": "ipython",
    "version": 3
   },
   "file_extension": ".py",
   "mimetype": "text/x-python",
   "name": "python",
   "nbconvert_exporter": "python",
   "pygments_lexer": "ipython3",
   "version": "3.9.4"
  }
 },
 "nbformat": 4,
 "nbformat_minor": 2
}
