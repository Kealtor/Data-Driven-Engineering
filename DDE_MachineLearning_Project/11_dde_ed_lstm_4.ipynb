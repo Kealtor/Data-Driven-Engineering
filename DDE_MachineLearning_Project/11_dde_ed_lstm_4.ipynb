{
 "cells": [
  {
   "cell_type": "code",
   "execution_count": 2,
   "metadata": {},
   "outputs": [],
   "source": [
    "import numpy as np\n",
    "import pandas as pd\n",
    "from datetime import date\n",
    "import plotly.express as px\n",
    "import plotly.graph_objects as go\n",
    "import math\n",
    "import matplotlib.pyplot as plt\n",
    "from sklearn import preprocessing as pp\n",
    "import matplotlib as mpl\n",
    "from sklearn.decomposition import PCA\n",
    "from pandas.plotting import lag_plot, autocorrelation_plot\n",
    "from statsmodels.graphics.tsaplots import plot_acf, plot_pacf \n",
    "import statsmodels.api as smw\n",
    "from datetime import timedelta\n",
    "from statsmodels.tsa.statespace.sarimax import SARIMAX\n",
    "from sklearn.svm import SVR\n",
    "from sklearn.metrics import r2_score\n",
    "# ML Algorithms to be used\n",
    "import tensorflow as tf\n",
    "from tensorflow import keras\n",
    "from keras import optimizers, models, layers, regularizers\n",
    "tf.__version__\n",
    "from utils.dde_preprocessing_utils import (set_timestamp_index,\n",
    "remove_duplicates,\n",
    "remove_columns,\n",
    "extract_correlations,\n",
    "prepare_data_sarimax,\n",
    "create_test_train_split,\n",
    "create_sarimax_test_train_split,\n",
    "create_eval_df,\n",
    "convert_to_sample_time_feature,\n",
    "convert_from_differencing,\n",
    "make_multiple_predictions,\n",
    "calculate_r2_scores,\n",
    "apply_differencing)\n",
    "from utils.dde_plotting_utils import(\n",
    "display_double_timestamps,\n",
    "display_seasonal_decomposition,\n",
    "plot_predictions,\n",
    "plot_accuracy,\n",
    "plot_error_variations,\n",
    "plot_learning_curves,\n",
    "plot_multiple_predictions,\n",
    ")\n",
    "%load_ext skip_kernel_extension"
   ]
  },
  {
   "cell_type": "code",
   "execution_count": 3,
   "metadata": {},
   "outputs": [],
   "source": [
    "import keras_tuner as kt\n",
    "from scipy.signal import savgol_filter"
   ]
  },
  {
   "cell_type": "code",
   "execution_count": 4,
   "metadata": {},
   "outputs": [],
   "source": [
    "config = tf.compat.v1.ConfigProto(gpu_options=tf.compat.v1.GPUOptions(per_process_gpu_memory_fraction=0.8))\n",
    "config.gpu_options.allow_growth = True\n",
    "session = tf.compat.v1.Session(config=config)\n",
    "tf.compat.v1.keras.backend.set_session(session)\n",
    "mpl.rcParams['figure.figsize'] = [8.0, 8.0]\n",
    "tf.random.set_seed(2022)"
   ]
  },
  {
   "cell_type": "code",
   "execution_count": 5,
   "metadata": {},
   "outputs": [],
   "source": [
    "SKIP_RETRAIN_NN =True\n",
    "SKIP_RETRAIN_RNN = True\n",
    "SKIP_RETRAIN_LSTM = True\n",
    "SKIP_RETRAIN_ED_LSTM = False"
   ]
  },
  {
   "cell_type": "markdown",
   "metadata": {},
   "source": [
    "## Loading Data"
   ]
  },
  {
   "cell_type": "code",
   "execution_count": 6,
   "metadata": {},
   "outputs": [],
   "source": [
    "bench_df = pd.read_csv(\"energy_dataset.csv\")\n",
    "bench_df = set_timestamp_index(bench_df,\"time\")\n",
    "bench_df = bench_df['price day ahead']"
   ]
  },
  {
   "cell_type": "code",
   "execution_count": 7,
   "metadata": {},
   "outputs": [],
   "source": [
    "base_df = pd.read_csv(\"extended_preprocessed_data.csv\")\n",
    "base_df = set_timestamp_index(base_df,\"Unnamed: 0\")"
   ]
  },
  {
   "cell_type": "code",
   "execution_count": 8,
   "metadata": {},
   "outputs": [
    {
     "data": {
      "text/html": [
       "<div>\n",
       "<style scoped>\n",
       "    .dataframe tbody tr th:only-of-type {\n",
       "        vertical-align: middle;\n",
       "    }\n",
       "\n",
       "    .dataframe tbody tr th {\n",
       "        vertical-align: top;\n",
       "    }\n",
       "\n",
       "    .dataframe thead th {\n",
       "        text-align: right;\n",
       "    }\n",
       "</style>\n",
       "<table border=\"1\" class=\"dataframe\">\n",
       "  <thead>\n",
       "    <tr style=\"text-align: right;\">\n",
       "      <th></th>\n",
       "      <th>temp</th>\n",
       "      <th>pressure</th>\n",
       "      <th>humidity</th>\n",
       "      <th>wind_speed</th>\n",
       "      <th>wind_deg</th>\n",
       "      <th>generation biomass</th>\n",
       "      <th>generation fossil brown coal/lignite</th>\n",
       "      <th>generation fossil gas</th>\n",
       "      <th>generation fossil hard coal</th>\n",
       "      <th>generation fossil oil</th>\n",
       "      <th>...</th>\n",
       "      <th>generation wind onshore</th>\n",
       "      <th>total load actual</th>\n",
       "      <th>price actual</th>\n",
       "      <th>generation</th>\n",
       "      <th>energy_difference</th>\n",
       "      <th>energy_stored</th>\n",
       "      <th>month</th>\n",
       "      <th>day</th>\n",
       "      <th>weekend</th>\n",
       "      <th>hour</th>\n",
       "    </tr>\n",
       "  </thead>\n",
       "  <tbody>\n",
       "    <tr>\n",
       "      <th>2015-01-01 00:00:00+01:00</th>\n",
       "      <td>-2.675</td>\n",
       "      <td>1001.0</td>\n",
       "      <td>77</td>\n",
       "      <td>1.0</td>\n",
       "      <td>62</td>\n",
       "      <td>447.0</td>\n",
       "      <td>329.0</td>\n",
       "      <td>4844.0</td>\n",
       "      <td>4821.0</td>\n",
       "      <td>162.0</td>\n",
       "      <td>...</td>\n",
       "      <td>6378.0</td>\n",
       "      <td>25385.0</td>\n",
       "      <td>65.41</td>\n",
       "      <td>28251.0</td>\n",
       "      <td>2866.0</td>\n",
       "      <td>2866.0</td>\n",
       "      <td>1</td>\n",
       "      <td>1</td>\n",
       "      <td>0</td>\n",
       "      <td>0</td>\n",
       "    </tr>\n",
       "    <tr>\n",
       "      <th>2015-01-01 01:00:00+01:00</th>\n",
       "      <td>-2.675</td>\n",
       "      <td>1001.0</td>\n",
       "      <td>77</td>\n",
       "      <td>1.0</td>\n",
       "      <td>62</td>\n",
       "      <td>449.0</td>\n",
       "      <td>328.0</td>\n",
       "      <td>5196.0</td>\n",
       "      <td>4755.0</td>\n",
       "      <td>158.0</td>\n",
       "      <td>...</td>\n",
       "      <td>5890.0</td>\n",
       "      <td>24382.0</td>\n",
       "      <td>64.92</td>\n",
       "      <td>27818.0</td>\n",
       "      <td>3436.0</td>\n",
       "      <td>6302.0</td>\n",
       "      <td>1</td>\n",
       "      <td>1</td>\n",
       "      <td>0</td>\n",
       "      <td>1</td>\n",
       "    </tr>\n",
       "    <tr>\n",
       "      <th>2015-01-01 02:00:00+01:00</th>\n",
       "      <td>-3.464</td>\n",
       "      <td>1002.0</td>\n",
       "      <td>78</td>\n",
       "      <td>0.0</td>\n",
       "      <td>23</td>\n",
       "      <td>448.0</td>\n",
       "      <td>323.0</td>\n",
       "      <td>4857.0</td>\n",
       "      <td>4581.0</td>\n",
       "      <td>157.0</td>\n",
       "      <td>...</td>\n",
       "      <td>5461.0</td>\n",
       "      <td>22734.0</td>\n",
       "      <td>64.48</td>\n",
       "      <td>26796.0</td>\n",
       "      <td>4062.0</td>\n",
       "      <td>10364.0</td>\n",
       "      <td>1</td>\n",
       "      <td>1</td>\n",
       "      <td>0</td>\n",
       "      <td>2</td>\n",
       "    </tr>\n",
       "    <tr>\n",
       "      <th>2015-01-01 03:00:00+01:00</th>\n",
       "      <td>-3.464</td>\n",
       "      <td>1002.0</td>\n",
       "      <td>78</td>\n",
       "      <td>0.0</td>\n",
       "      <td>23</td>\n",
       "      <td>438.0</td>\n",
       "      <td>254.0</td>\n",
       "      <td>4314.0</td>\n",
       "      <td>4131.0</td>\n",
       "      <td>160.0</td>\n",
       "      <td>...</td>\n",
       "      <td>5238.0</td>\n",
       "      <td>21286.0</td>\n",
       "      <td>59.32</td>\n",
       "      <td>25223.0</td>\n",
       "      <td>3937.0</td>\n",
       "      <td>14301.0</td>\n",
       "      <td>1</td>\n",
       "      <td>1</td>\n",
       "      <td>0</td>\n",
       "      <td>3</td>\n",
       "    </tr>\n",
       "    <tr>\n",
       "      <th>2015-01-01 04:00:00+01:00</th>\n",
       "      <td>-3.464</td>\n",
       "      <td>1002.0</td>\n",
       "      <td>78</td>\n",
       "      <td>0.0</td>\n",
       "      <td>23</td>\n",
       "      <td>428.0</td>\n",
       "      <td>187.0</td>\n",
       "      <td>4130.0</td>\n",
       "      <td>3840.0</td>\n",
       "      <td>156.0</td>\n",
       "      <td>...</td>\n",
       "      <td>4935.0</td>\n",
       "      <td>20264.0</td>\n",
       "      <td>56.04</td>\n",
       "      <td>24620.0</td>\n",
       "      <td>4356.0</td>\n",
       "      <td>18657.0</td>\n",
       "      <td>1</td>\n",
       "      <td>1</td>\n",
       "      <td>0</td>\n",
       "      <td>4</td>\n",
       "    </tr>\n",
       "    <tr>\n",
       "      <th>...</th>\n",
       "      <td>...</td>\n",
       "      <td>...</td>\n",
       "      <td>...</td>\n",
       "      <td>...</td>\n",
       "      <td>...</td>\n",
       "      <td>...</td>\n",
       "      <td>...</td>\n",
       "      <td>...</td>\n",
       "      <td>...</td>\n",
       "      <td>...</td>\n",
       "      <td>...</td>\n",
       "      <td>...</td>\n",
       "      <td>...</td>\n",
       "      <td>...</td>\n",
       "      <td>...</td>\n",
       "      <td>...</td>\n",
       "      <td>...</td>\n",
       "      <td>...</td>\n",
       "      <td>...</td>\n",
       "      <td>...</td>\n",
       "      <td>...</td>\n",
       "    </tr>\n",
       "    <tr>\n",
       "      <th>2018-12-31 19:00:00+01:00</th>\n",
       "      <td>12.490</td>\n",
       "      <td>1028.0</td>\n",
       "      <td>62</td>\n",
       "      <td>2.0</td>\n",
       "      <td>140</td>\n",
       "      <td>297.0</td>\n",
       "      <td>0.0</td>\n",
       "      <td>7634.0</td>\n",
       "      <td>2628.0</td>\n",
       "      <td>178.0</td>\n",
       "      <td>...</td>\n",
       "      <td>3113.0</td>\n",
       "      <td>30653.0</td>\n",
       "      <td>77.02</td>\n",
       "      <td>26415.0</td>\n",
       "      <td>-4238.0</td>\n",
       "      <td>-2062312.5</td>\n",
       "      <td>12</td>\n",
       "      <td>31</td>\n",
       "      <td>0</td>\n",
       "      <td>19</td>\n",
       "    </tr>\n",
       "    <tr>\n",
       "      <th>2018-12-31 20:00:00+01:00</th>\n",
       "      <td>9.990</td>\n",
       "      <td>1029.0</td>\n",
       "      <td>71</td>\n",
       "      <td>1.0</td>\n",
       "      <td>242</td>\n",
       "      <td>296.0</td>\n",
       "      <td>0.0</td>\n",
       "      <td>7241.0</td>\n",
       "      <td>2566.0</td>\n",
       "      <td>174.0</td>\n",
       "      <td>...</td>\n",
       "      <td>3288.0</td>\n",
       "      <td>29735.0</td>\n",
       "      <td>76.16</td>\n",
       "      <td>25213.0</td>\n",
       "      <td>-4522.0</td>\n",
       "      <td>-2066834.5</td>\n",
       "      <td>12</td>\n",
       "      <td>31</td>\n",
       "      <td>0</td>\n",
       "      <td>20</td>\n",
       "    </tr>\n",
       "    <tr>\n",
       "      <th>2018-12-31 21:00:00+01:00</th>\n",
       "      <td>8.510</td>\n",
       "      <td>1029.0</td>\n",
       "      <td>81</td>\n",
       "      <td>3.0</td>\n",
       "      <td>300</td>\n",
       "      <td>292.0</td>\n",
       "      <td>0.0</td>\n",
       "      <td>7025.0</td>\n",
       "      <td>2422.0</td>\n",
       "      <td>168.0</td>\n",
       "      <td>...</td>\n",
       "      <td>3503.0</td>\n",
       "      <td>28071.0</td>\n",
       "      <td>74.30</td>\n",
       "      <td>23987.0</td>\n",
       "      <td>-4084.0</td>\n",
       "      <td>-2070918.5</td>\n",
       "      <td>12</td>\n",
       "      <td>31</td>\n",
       "      <td>0</td>\n",
       "      <td>21</td>\n",
       "    </tr>\n",
       "    <tr>\n",
       "      <th>2018-12-31 22:00:00+01:00</th>\n",
       "      <td>6.990</td>\n",
       "      <td>1029.0</td>\n",
       "      <td>81</td>\n",
       "      <td>2.0</td>\n",
       "      <td>310</td>\n",
       "      <td>293.0</td>\n",
       "      <td>0.0</td>\n",
       "      <td>6562.0</td>\n",
       "      <td>2293.0</td>\n",
       "      <td>163.0</td>\n",
       "      <td>...</td>\n",
       "      <td>3586.0</td>\n",
       "      <td>25801.0</td>\n",
       "      <td>69.89</td>\n",
       "      <td>22748.0</td>\n",
       "      <td>-3053.0</td>\n",
       "      <td>-2073971.5</td>\n",
       "      <td>12</td>\n",
       "      <td>31</td>\n",
       "      <td>0</td>\n",
       "      <td>22</td>\n",
       "    </tr>\n",
       "    <tr>\n",
       "      <th>2018-12-31 23:00:00+01:00</th>\n",
       "      <td>5.990</td>\n",
       "      <td>1029.0</td>\n",
       "      <td>75</td>\n",
       "      <td>2.0</td>\n",
       "      <td>300</td>\n",
       "      <td>290.0</td>\n",
       "      <td>0.0</td>\n",
       "      <td>6926.0</td>\n",
       "      <td>2166.0</td>\n",
       "      <td>163.0</td>\n",
       "      <td>...</td>\n",
       "      <td>3651.0</td>\n",
       "      <td>24455.0</td>\n",
       "      <td>69.88</td>\n",
       "      <td>22605.0</td>\n",
       "      <td>-1850.0</td>\n",
       "      <td>-2075821.5</td>\n",
       "      <td>12</td>\n",
       "      <td>31</td>\n",
       "      <td>0</td>\n",
       "      <td>23</td>\n",
       "    </tr>\n",
       "  </tbody>\n",
       "</table>\n",
       "<p>35064 rows × 28 columns</p>\n",
       "</div>"
      ],
      "text/plain": [
       "                             temp  pressure  humidity  wind_speed  wind_deg  \\\n",
       "2015-01-01 00:00:00+01:00  -2.675    1001.0        77         1.0        62   \n",
       "2015-01-01 01:00:00+01:00  -2.675    1001.0        77         1.0        62   \n",
       "2015-01-01 02:00:00+01:00  -3.464    1002.0        78         0.0        23   \n",
       "2015-01-01 03:00:00+01:00  -3.464    1002.0        78         0.0        23   \n",
       "2015-01-01 04:00:00+01:00  -3.464    1002.0        78         0.0        23   \n",
       "...                           ...       ...       ...         ...       ...   \n",
       "2018-12-31 19:00:00+01:00  12.490    1028.0        62         2.0       140   \n",
       "2018-12-31 20:00:00+01:00   9.990    1029.0        71         1.0       242   \n",
       "2018-12-31 21:00:00+01:00   8.510    1029.0        81         3.0       300   \n",
       "2018-12-31 22:00:00+01:00   6.990    1029.0        81         2.0       310   \n",
       "2018-12-31 23:00:00+01:00   5.990    1029.0        75         2.0       300   \n",
       "\n",
       "                           generation biomass  \\\n",
       "2015-01-01 00:00:00+01:00               447.0   \n",
       "2015-01-01 01:00:00+01:00               449.0   \n",
       "2015-01-01 02:00:00+01:00               448.0   \n",
       "2015-01-01 03:00:00+01:00               438.0   \n",
       "2015-01-01 04:00:00+01:00               428.0   \n",
       "...                                       ...   \n",
       "2018-12-31 19:00:00+01:00               297.0   \n",
       "2018-12-31 20:00:00+01:00               296.0   \n",
       "2018-12-31 21:00:00+01:00               292.0   \n",
       "2018-12-31 22:00:00+01:00               293.0   \n",
       "2018-12-31 23:00:00+01:00               290.0   \n",
       "\n",
       "                           generation fossil brown coal/lignite  \\\n",
       "2015-01-01 00:00:00+01:00                                 329.0   \n",
       "2015-01-01 01:00:00+01:00                                 328.0   \n",
       "2015-01-01 02:00:00+01:00                                 323.0   \n",
       "2015-01-01 03:00:00+01:00                                 254.0   \n",
       "2015-01-01 04:00:00+01:00                                 187.0   \n",
       "...                                                         ...   \n",
       "2018-12-31 19:00:00+01:00                                   0.0   \n",
       "2018-12-31 20:00:00+01:00                                   0.0   \n",
       "2018-12-31 21:00:00+01:00                                   0.0   \n",
       "2018-12-31 22:00:00+01:00                                   0.0   \n",
       "2018-12-31 23:00:00+01:00                                   0.0   \n",
       "\n",
       "                           generation fossil gas  generation fossil hard coal  \\\n",
       "2015-01-01 00:00:00+01:00                 4844.0                       4821.0   \n",
       "2015-01-01 01:00:00+01:00                 5196.0                       4755.0   \n",
       "2015-01-01 02:00:00+01:00                 4857.0                       4581.0   \n",
       "2015-01-01 03:00:00+01:00                 4314.0                       4131.0   \n",
       "2015-01-01 04:00:00+01:00                 4130.0                       3840.0   \n",
       "...                                          ...                          ...   \n",
       "2018-12-31 19:00:00+01:00                 7634.0                       2628.0   \n",
       "2018-12-31 20:00:00+01:00                 7241.0                       2566.0   \n",
       "2018-12-31 21:00:00+01:00                 7025.0                       2422.0   \n",
       "2018-12-31 22:00:00+01:00                 6562.0                       2293.0   \n",
       "2018-12-31 23:00:00+01:00                 6926.0                       2166.0   \n",
       "\n",
       "                           generation fossil oil  ...  \\\n",
       "2015-01-01 00:00:00+01:00                  162.0  ...   \n",
       "2015-01-01 01:00:00+01:00                  158.0  ...   \n",
       "2015-01-01 02:00:00+01:00                  157.0  ...   \n",
       "2015-01-01 03:00:00+01:00                  160.0  ...   \n",
       "2015-01-01 04:00:00+01:00                  156.0  ...   \n",
       "...                                          ...  ...   \n",
       "2018-12-31 19:00:00+01:00                  178.0  ...   \n",
       "2018-12-31 20:00:00+01:00                  174.0  ...   \n",
       "2018-12-31 21:00:00+01:00                  168.0  ...   \n",
       "2018-12-31 22:00:00+01:00                  163.0  ...   \n",
       "2018-12-31 23:00:00+01:00                  163.0  ...   \n",
       "\n",
       "                           generation wind onshore  total load actual  \\\n",
       "2015-01-01 00:00:00+01:00                   6378.0            25385.0   \n",
       "2015-01-01 01:00:00+01:00                   5890.0            24382.0   \n",
       "2015-01-01 02:00:00+01:00                   5461.0            22734.0   \n",
       "2015-01-01 03:00:00+01:00                   5238.0            21286.0   \n",
       "2015-01-01 04:00:00+01:00                   4935.0            20264.0   \n",
       "...                                            ...                ...   \n",
       "2018-12-31 19:00:00+01:00                   3113.0            30653.0   \n",
       "2018-12-31 20:00:00+01:00                   3288.0            29735.0   \n",
       "2018-12-31 21:00:00+01:00                   3503.0            28071.0   \n",
       "2018-12-31 22:00:00+01:00                   3586.0            25801.0   \n",
       "2018-12-31 23:00:00+01:00                   3651.0            24455.0   \n",
       "\n",
       "                           price actual  generation  energy_difference  \\\n",
       "2015-01-01 00:00:00+01:00         65.41     28251.0             2866.0   \n",
       "2015-01-01 01:00:00+01:00         64.92     27818.0             3436.0   \n",
       "2015-01-01 02:00:00+01:00         64.48     26796.0             4062.0   \n",
       "2015-01-01 03:00:00+01:00         59.32     25223.0             3937.0   \n",
       "2015-01-01 04:00:00+01:00         56.04     24620.0             4356.0   \n",
       "...                                 ...         ...                ...   \n",
       "2018-12-31 19:00:00+01:00         77.02     26415.0            -4238.0   \n",
       "2018-12-31 20:00:00+01:00         76.16     25213.0            -4522.0   \n",
       "2018-12-31 21:00:00+01:00         74.30     23987.0            -4084.0   \n",
       "2018-12-31 22:00:00+01:00         69.89     22748.0            -3053.0   \n",
       "2018-12-31 23:00:00+01:00         69.88     22605.0            -1850.0   \n",
       "\n",
       "                           energy_stored  month  day  weekend  hour  \n",
       "2015-01-01 00:00:00+01:00         2866.0      1    1        0     0  \n",
       "2015-01-01 01:00:00+01:00         6302.0      1    1        0     1  \n",
       "2015-01-01 02:00:00+01:00        10364.0      1    1        0     2  \n",
       "2015-01-01 03:00:00+01:00        14301.0      1    1        0     3  \n",
       "2015-01-01 04:00:00+01:00        18657.0      1    1        0     4  \n",
       "...                                  ...    ...  ...      ...   ...  \n",
       "2018-12-31 19:00:00+01:00     -2062312.5     12   31        0    19  \n",
       "2018-12-31 20:00:00+01:00     -2066834.5     12   31        0    20  \n",
       "2018-12-31 21:00:00+01:00     -2070918.5     12   31        0    21  \n",
       "2018-12-31 22:00:00+01:00     -2073971.5     12   31        0    22  \n",
       "2018-12-31 23:00:00+01:00     -2075821.5     12   31        0    23  \n",
       "\n",
       "[35064 rows x 28 columns]"
      ]
     },
     "execution_count": 8,
     "metadata": {},
     "output_type": "execute_result"
    }
   ],
   "source": [
    "base_df"
   ]
  },
  {
   "cell_type": "code",
   "execution_count": 9,
   "metadata": {},
   "outputs": [],
   "source": [
    "base_df['price actual'] = savgol_filter(base_df['price actual'],7,4)"
   ]
  },
  {
   "cell_type": "code",
   "execution_count": 17,
   "metadata": {},
   "outputs": [
    {
     "name": "stdout",
     "output_type": "stream",
     "text": [
      "2015-01-01 01:30:00+01:00\n"
     ]
    }
   ],
   "source": [
    "resample_df = base_df.copy(deep=True)\n",
    "resample_df = resample_df.resample('30min').asfreq().interpolate('cubic')\n",
    "resample_df.index.inferred_freq\n",
    "\n",
    "print(resample_df.index[0] + pd.Timedelta(resample_df.index.inferred_freq*3))"
   ]
  },
  {
   "cell_type": "code",
   "execution_count": null,
   "metadata": {},
   "outputs": [],
   "source": [
    "assert False"
   ]
  },
  {
   "cell_type": "code",
   "execution_count": null,
   "metadata": {},
   "outputs": [],
   "source": [
    "diff_df = apply_differencing(resample_df,['month','day','weekend','hour'])\n",
    "diff_df.index = diff_df.index.tz_convert('utc')"
   ]
  },
  {
   "cell_type": "code",
   "execution_count": null,
   "metadata": {},
   "outputs": [
    {
     "data": {
      "text/html": [
       "<div>\n",
       "<style scoped>\n",
       "    .dataframe tbody tr th:only-of-type {\n",
       "        vertical-align: middle;\n",
       "    }\n",
       "\n",
       "    .dataframe tbody tr th {\n",
       "        vertical-align: top;\n",
       "    }\n",
       "\n",
       "    .dataframe thead th {\n",
       "        text-align: right;\n",
       "    }\n",
       "</style>\n",
       "<table border=\"1\" class=\"dataframe\">\n",
       "  <thead>\n",
       "    <tr style=\"text-align: right;\">\n",
       "      <th></th>\n",
       "      <th>temp</th>\n",
       "      <th>pressure</th>\n",
       "      <th>humidity</th>\n",
       "      <th>wind_speed</th>\n",
       "      <th>wind_deg</th>\n",
       "      <th>generation biomass</th>\n",
       "      <th>generation fossil brown coal/lignite</th>\n",
       "      <th>generation fossil gas</th>\n",
       "      <th>generation fossil hard coal</th>\n",
       "      <th>generation fossil oil</th>\n",
       "      <th>...</th>\n",
       "      <th>generation wind onshore</th>\n",
       "      <th>total load actual</th>\n",
       "      <th>price actual</th>\n",
       "      <th>generation</th>\n",
       "      <th>energy_difference</th>\n",
       "      <th>energy_stored</th>\n",
       "      <th>month</th>\n",
       "      <th>day</th>\n",
       "      <th>weekend</th>\n",
       "      <th>hour</th>\n",
       "    </tr>\n",
       "  </thead>\n",
       "  <tbody>\n",
       "    <tr>\n",
       "      <th>2014-12-31 23:30:00+00:00</th>\n",
       "      <td>0.245250</td>\n",
       "      <td>-0.286606</td>\n",
       "      <td>-0.368813</td>\n",
       "      <td>0.323198</td>\n",
       "      <td>14.612551</td>\n",
       "      <td>0.641915</td>\n",
       "      <td>-5.752631e+00</td>\n",
       "      <td>287.446012</td>\n",
       "      <td>-42.721115</td>\n",
       "      <td>-1.997218</td>\n",
       "      <td>...</td>\n",
       "      <td>-233.592903</td>\n",
       "      <td>-357.002406</td>\n",
       "      <td>0.595206</td>\n",
       "      <td>-176.312041</td>\n",
       "      <td>180.690364</td>\n",
       "      <td>1566.504310</td>\n",
       "      <td>1.0</td>\n",
       "      <td>1.0</td>\n",
       "      <td>-2.331020e-27</td>\n",
       "      <td>0.5</td>\n",
       "    </tr>\n",
       "    <tr>\n",
       "      <th>2015-01-01 00:00:00+00:00</th>\n",
       "      <td>-0.245250</td>\n",
       "      <td>0.286606</td>\n",
       "      <td>0.368813</td>\n",
       "      <td>-0.323198</td>\n",
       "      <td>-14.612551</td>\n",
       "      <td>1.358085</td>\n",
       "      <td>4.752631e+00</td>\n",
       "      <td>64.553988</td>\n",
       "      <td>-23.278885</td>\n",
       "      <td>-2.002782</td>\n",
       "      <td>...</td>\n",
       "      <td>-254.407097</td>\n",
       "      <td>-645.997594</td>\n",
       "      <td>-0.240748</td>\n",
       "      <td>-256.687959</td>\n",
       "      <td>389.309636</td>\n",
       "      <td>1869.495690</td>\n",
       "      <td>1.0</td>\n",
       "      <td>1.0</td>\n",
       "      <td>0.000000e+00</td>\n",
       "      <td>1.0</td>\n",
       "    </tr>\n",
       "    <tr>\n",
       "      <th>2015-01-01 00:30:00+00:00</th>\n",
       "      <td>-0.442500</td>\n",
       "      <td>0.536606</td>\n",
       "      <td>0.618813</td>\n",
       "      <td>-0.573198</td>\n",
       "      <td>-24.362551</td>\n",
       "      <td>0.608085</td>\n",
       "      <td>3.752631e+00</td>\n",
       "      <td>-108.196012</td>\n",
       "      <td>-50.278885</td>\n",
       "      <td>-1.252782</td>\n",
       "      <td>...</td>\n",
       "      <td>-239.657097</td>\n",
       "      <td>-807.247594</td>\n",
       "      <td>-0.881278</td>\n",
       "      <td>-403.937959</td>\n",
       "      <td>403.309636</td>\n",
       "      <td>2025.995690</td>\n",
       "      <td>1.0</td>\n",
       "      <td>1.0</td>\n",
       "      <td>2.331020e-27</td>\n",
       "      <td>1.5</td>\n",
       "    </tr>\n",
       "    <tr>\n",
       "      <th>2015-01-01 01:00:00+00:00</th>\n",
       "      <td>-0.346500</td>\n",
       "      <td>0.463394</td>\n",
       "      <td>0.381187</td>\n",
       "      <td>-0.426802</td>\n",
       "      <td>-14.637449</td>\n",
       "      <td>-1.608085</td>\n",
       "      <td>-8.752631e+00</td>\n",
       "      <td>-230.803988</td>\n",
       "      <td>-123.721115</td>\n",
       "      <td>0.252782</td>\n",
       "      <td>...</td>\n",
       "      <td>-189.342903</td>\n",
       "      <td>-840.752406</td>\n",
       "      <td>-1.326384</td>\n",
       "      <td>-618.062041</td>\n",
       "      <td>222.690364</td>\n",
       "      <td>2036.004310</td>\n",
       "      <td>1.0</td>\n",
       "      <td>1.0</td>\n",
       "      <td>0.000000e+00</td>\n",
       "      <td>2.0</td>\n",
       "    </tr>\n",
       "    <tr>\n",
       "      <th>2015-01-01 01:30:00+00:00</th>\n",
       "      <td>-0.053251</td>\n",
       "      <td>0.140181</td>\n",
       "      <td>-0.106438</td>\n",
       "      <td>-0.030405</td>\n",
       "      <td>4.837653</td>\n",
       "      <td>-4.574256</td>\n",
       "      <td>-2.875789e+01</td>\n",
       "      <td>-292.536965</td>\n",
       "      <td>-218.163345</td>\n",
       "      <td>1.883345</td>\n",
       "      <td>...</td>\n",
       "      <td>-120.653710</td>\n",
       "      <td>-768.632217</td>\n",
       "      <td>-1.611529</td>\n",
       "      <td>-827.436123</td>\n",
       "      <td>-58.803907</td>\n",
       "      <td>1952.137930</td>\n",
       "      <td>1.0</td>\n",
       "      <td>1.0</td>\n",
       "      <td>-6.993059e-27</td>\n",
       "      <td>2.5</td>\n",
       "    </tr>\n",
       "    <tr>\n",
       "      <th>...</th>\n",
       "      <td>...</td>\n",
       "      <td>...</td>\n",
       "      <td>...</td>\n",
       "      <td>...</td>\n",
       "      <td>...</td>\n",
       "      <td>...</td>\n",
       "      <td>...</td>\n",
       "      <td>...</td>\n",
       "      <td>...</td>\n",
       "      <td>...</td>\n",
       "      <td>...</td>\n",
       "      <td>...</td>\n",
       "      <td>...</td>\n",
       "      <td>...</td>\n",
       "      <td>...</td>\n",
       "      <td>...</td>\n",
       "      <td>...</td>\n",
       "      <td>...</td>\n",
       "      <td>...</td>\n",
       "      <td>...</td>\n",
       "      <td>...</td>\n",
       "    </tr>\n",
       "    <tr>\n",
       "      <th>2018-12-31 20:00:00+00:00</th>\n",
       "      <td>-0.682128</td>\n",
       "      <td>-0.102528</td>\n",
       "      <td>4.613087</td>\n",
       "      <td>1.003690</td>\n",
       "      <td>20.024939</td>\n",
       "      <td>-1.664243</td>\n",
       "      <td>-3.769573e-38</td>\n",
       "      <td>-116.644257</td>\n",
       "      <td>-75.568388</td>\n",
       "      <td>-3.076761</td>\n",
       "      <td>...</td>\n",
       "      <td>99.450219</td>\n",
       "      <td>-919.411288</td>\n",
       "      <td>-1.597281</td>\n",
       "      <td>-589.321198</td>\n",
       "      <td>330.090090</td>\n",
       "      <td>-1938.305299</td>\n",
       "      <td>12.0</td>\n",
       "      <td>31.0</td>\n",
       "      <td>0.000000e+00</td>\n",
       "      <td>21.0</td>\n",
       "    </tr>\n",
       "    <tr>\n",
       "      <th>2018-12-31 20:30:00+00:00</th>\n",
       "      <td>-0.757376</td>\n",
       "      <td>-0.034176</td>\n",
       "      <td>1.371029</td>\n",
       "      <td>-0.165437</td>\n",
       "      <td>8.841646</td>\n",
       "      <td>0.153586</td>\n",
       "      <td>-1.256524e-38</td>\n",
       "      <td>-237.964752</td>\n",
       "      <td>-67.647796</td>\n",
       "      <td>-2.858920</td>\n",
       "      <td>...</td>\n",
       "      <td>56.066740</td>\n",
       "      <td>-1126.887096</td>\n",
       "      <td>-1.620170</td>\n",
       "      <td>-655.648733</td>\n",
       "      <td>471.238363</td>\n",
       "      <td>-1670.935100</td>\n",
       "      <td>12.0</td>\n",
       "      <td>31.0</td>\n",
       "      <td>1.242473e-13</td>\n",
       "      <td>21.5</td>\n",
       "    </tr>\n",
       "    <tr>\n",
       "      <th>2018-12-31 21:00:00+00:00</th>\n",
       "      <td>-0.762624</td>\n",
       "      <td>0.034176</td>\n",
       "      <td>-1.371029</td>\n",
       "      <td>-0.834563</td>\n",
       "      <td>1.158354</td>\n",
       "      <td>0.846414</td>\n",
       "      <td>1.256524e-38</td>\n",
       "      <td>-225.035248</td>\n",
       "      <td>-61.352204</td>\n",
       "      <td>-2.141080</td>\n",
       "      <td>...</td>\n",
       "      <td>26.933260</td>\n",
       "      <td>-1143.112904</td>\n",
       "      <td>-1.350674</td>\n",
       "      <td>-583.351267</td>\n",
       "      <td>559.761637</td>\n",
       "      <td>-1382.064900</td>\n",
       "      <td>12.0</td>\n",
       "      <td>31.0</td>\n",
       "      <td>0.000000e+00</td>\n",
       "      <td>22.0</td>\n",
       "    </tr>\n",
       "    <tr>\n",
       "      <th>2018-12-31 21:30:00+00:00</th>\n",
       "      <td>-0.632624</td>\n",
       "      <td>0.034176</td>\n",
       "      <td>-2.871029</td>\n",
       "      <td>-0.584563</td>\n",
       "      <td>-3.841646</td>\n",
       "      <td>-0.153586</td>\n",
       "      <td>1.256524e-38</td>\n",
       "      <td>-18.285248</td>\n",
       "      <td>-60.852204</td>\n",
       "      <td>-0.891080</td>\n",
       "      <td>...</td>\n",
       "      <td>22.433260</td>\n",
       "      <td>-912.112904</td>\n",
       "      <td>-0.802000</td>\n",
       "      <td>-309.351267</td>\n",
       "      <td>602.761637</td>\n",
       "      <td>-1081.314900</td>\n",
       "      <td>12.0</td>\n",
       "      <td>31.0</td>\n",
       "      <td>-1.242473e-13</td>\n",
       "      <td>22.5</td>\n",
       "    </tr>\n",
       "    <tr>\n",
       "      <th>2018-12-31 22:00:00+00:00</th>\n",
       "      <td>-0.367376</td>\n",
       "      <td>-0.034176</td>\n",
       "      <td>-3.128971</td>\n",
       "      <td>0.584563</td>\n",
       "      <td>-6.158354</td>\n",
       "      <td>-2.846414</td>\n",
       "      <td>-1.256524e-38</td>\n",
       "      <td>382.285248</td>\n",
       "      <td>-66.147796</td>\n",
       "      <td>0.891080</td>\n",
       "      <td>...</td>\n",
       "      <td>42.566740</td>\n",
       "      <td>-433.887096</td>\n",
       "      <td>0.025852</td>\n",
       "      <td>166.351267</td>\n",
       "      <td>600.238363</td>\n",
       "      <td>-768.685100</td>\n",
       "      <td>12.0</td>\n",
       "      <td>31.0</td>\n",
       "      <td>0.000000e+00</td>\n",
       "      <td>23.0</td>\n",
       "    </tr>\n",
       "  </tbody>\n",
       "</table>\n",
       "<p>70126 rows × 28 columns</p>\n",
       "</div>"
      ],
      "text/plain": [
       "                               temp  pressure  humidity  wind_speed  \\\n",
       "2014-12-31 23:30:00+00:00  0.245250 -0.286606 -0.368813    0.323198   \n",
       "2015-01-01 00:00:00+00:00 -0.245250  0.286606  0.368813   -0.323198   \n",
       "2015-01-01 00:30:00+00:00 -0.442500  0.536606  0.618813   -0.573198   \n",
       "2015-01-01 01:00:00+00:00 -0.346500  0.463394  0.381187   -0.426802   \n",
       "2015-01-01 01:30:00+00:00 -0.053251  0.140181 -0.106438   -0.030405   \n",
       "...                             ...       ...       ...         ...   \n",
       "2018-12-31 20:00:00+00:00 -0.682128 -0.102528  4.613087    1.003690   \n",
       "2018-12-31 20:30:00+00:00 -0.757376 -0.034176  1.371029   -0.165437   \n",
       "2018-12-31 21:00:00+00:00 -0.762624  0.034176 -1.371029   -0.834563   \n",
       "2018-12-31 21:30:00+00:00 -0.632624  0.034176 -2.871029   -0.584563   \n",
       "2018-12-31 22:00:00+00:00 -0.367376 -0.034176 -3.128971    0.584563   \n",
       "\n",
       "                            wind_deg  generation biomass  \\\n",
       "2014-12-31 23:30:00+00:00  14.612551            0.641915   \n",
       "2015-01-01 00:00:00+00:00 -14.612551            1.358085   \n",
       "2015-01-01 00:30:00+00:00 -24.362551            0.608085   \n",
       "2015-01-01 01:00:00+00:00 -14.637449           -1.608085   \n",
       "2015-01-01 01:30:00+00:00   4.837653           -4.574256   \n",
       "...                              ...                 ...   \n",
       "2018-12-31 20:00:00+00:00  20.024939           -1.664243   \n",
       "2018-12-31 20:30:00+00:00   8.841646            0.153586   \n",
       "2018-12-31 21:00:00+00:00   1.158354            0.846414   \n",
       "2018-12-31 21:30:00+00:00  -3.841646           -0.153586   \n",
       "2018-12-31 22:00:00+00:00  -6.158354           -2.846414   \n",
       "\n",
       "                           generation fossil brown coal/lignite  \\\n",
       "2014-12-31 23:30:00+00:00                         -5.752631e+00   \n",
       "2015-01-01 00:00:00+00:00                          4.752631e+00   \n",
       "2015-01-01 00:30:00+00:00                          3.752631e+00   \n",
       "2015-01-01 01:00:00+00:00                         -8.752631e+00   \n",
       "2015-01-01 01:30:00+00:00                         -2.875789e+01   \n",
       "...                                                         ...   \n",
       "2018-12-31 20:00:00+00:00                         -3.769573e-38   \n",
       "2018-12-31 20:30:00+00:00                         -1.256524e-38   \n",
       "2018-12-31 21:00:00+00:00                          1.256524e-38   \n",
       "2018-12-31 21:30:00+00:00                          1.256524e-38   \n",
       "2018-12-31 22:00:00+00:00                         -1.256524e-38   \n",
       "\n",
       "                           generation fossil gas  generation fossil hard coal  \\\n",
       "2014-12-31 23:30:00+00:00             287.446012                   -42.721115   \n",
       "2015-01-01 00:00:00+00:00              64.553988                   -23.278885   \n",
       "2015-01-01 00:30:00+00:00            -108.196012                   -50.278885   \n",
       "2015-01-01 01:00:00+00:00            -230.803988                  -123.721115   \n",
       "2015-01-01 01:30:00+00:00            -292.536965                  -218.163345   \n",
       "...                                          ...                          ...   \n",
       "2018-12-31 20:00:00+00:00            -116.644257                   -75.568388   \n",
       "2018-12-31 20:30:00+00:00            -237.964752                   -67.647796   \n",
       "2018-12-31 21:00:00+00:00            -225.035248                   -61.352204   \n",
       "2018-12-31 21:30:00+00:00             -18.285248                   -60.852204   \n",
       "2018-12-31 22:00:00+00:00             382.285248                   -66.147796   \n",
       "\n",
       "                           generation fossil oil  ...  \\\n",
       "2014-12-31 23:30:00+00:00              -1.997218  ...   \n",
       "2015-01-01 00:00:00+00:00              -2.002782  ...   \n",
       "2015-01-01 00:30:00+00:00              -1.252782  ...   \n",
       "2015-01-01 01:00:00+00:00               0.252782  ...   \n",
       "2015-01-01 01:30:00+00:00               1.883345  ...   \n",
       "...                                          ...  ...   \n",
       "2018-12-31 20:00:00+00:00              -3.076761  ...   \n",
       "2018-12-31 20:30:00+00:00              -2.858920  ...   \n",
       "2018-12-31 21:00:00+00:00              -2.141080  ...   \n",
       "2018-12-31 21:30:00+00:00              -0.891080  ...   \n",
       "2018-12-31 22:00:00+00:00               0.891080  ...   \n",
       "\n",
       "                           generation wind onshore  total load actual  \\\n",
       "2014-12-31 23:30:00+00:00              -233.592903        -357.002406   \n",
       "2015-01-01 00:00:00+00:00              -254.407097        -645.997594   \n",
       "2015-01-01 00:30:00+00:00              -239.657097        -807.247594   \n",
       "2015-01-01 01:00:00+00:00              -189.342903        -840.752406   \n",
       "2015-01-01 01:30:00+00:00              -120.653710        -768.632217   \n",
       "...                                            ...                ...   \n",
       "2018-12-31 20:00:00+00:00                99.450219        -919.411288   \n",
       "2018-12-31 20:30:00+00:00                56.066740       -1126.887096   \n",
       "2018-12-31 21:00:00+00:00                26.933260       -1143.112904   \n",
       "2018-12-31 21:30:00+00:00                22.433260        -912.112904   \n",
       "2018-12-31 22:00:00+00:00                42.566740        -433.887096   \n",
       "\n",
       "                           price actual  generation  energy_difference  \\\n",
       "2014-12-31 23:30:00+00:00      0.595206 -176.312041         180.690364   \n",
       "2015-01-01 00:00:00+00:00     -0.240748 -256.687959         389.309636   \n",
       "2015-01-01 00:30:00+00:00     -0.881278 -403.937959         403.309636   \n",
       "2015-01-01 01:00:00+00:00     -1.326384 -618.062041         222.690364   \n",
       "2015-01-01 01:30:00+00:00     -1.611529 -827.436123         -58.803907   \n",
       "...                                 ...         ...                ...   \n",
       "2018-12-31 20:00:00+00:00     -1.597281 -589.321198         330.090090   \n",
       "2018-12-31 20:30:00+00:00     -1.620170 -655.648733         471.238363   \n",
       "2018-12-31 21:00:00+00:00     -1.350674 -583.351267         559.761637   \n",
       "2018-12-31 21:30:00+00:00     -0.802000 -309.351267         602.761637   \n",
       "2018-12-31 22:00:00+00:00      0.025852  166.351267         600.238363   \n",
       "\n",
       "                           energy_stored  month   day       weekend  hour  \n",
       "2014-12-31 23:30:00+00:00    1566.504310    1.0   1.0 -2.331020e-27   0.5  \n",
       "2015-01-01 00:00:00+00:00    1869.495690    1.0   1.0  0.000000e+00   1.0  \n",
       "2015-01-01 00:30:00+00:00    2025.995690    1.0   1.0  2.331020e-27   1.5  \n",
       "2015-01-01 01:00:00+00:00    2036.004310    1.0   1.0  0.000000e+00   2.0  \n",
       "2015-01-01 01:30:00+00:00    1952.137930    1.0   1.0 -6.993059e-27   2.5  \n",
       "...                                  ...    ...   ...           ...   ...  \n",
       "2018-12-31 20:00:00+00:00   -1938.305299   12.0  31.0  0.000000e+00  21.0  \n",
       "2018-12-31 20:30:00+00:00   -1670.935100   12.0  31.0  1.242473e-13  21.5  \n",
       "2018-12-31 21:00:00+00:00   -1382.064900   12.0  31.0  0.000000e+00  22.0  \n",
       "2018-12-31 21:30:00+00:00   -1081.314900   12.0  31.0 -1.242473e-13  22.5  \n",
       "2018-12-31 22:00:00+00:00    -768.685100   12.0  31.0  0.000000e+00  23.0  \n",
       "\n",
       "[70126 rows x 28 columns]"
      ]
     },
     "execution_count": 11,
     "metadata": {},
     "output_type": "execute_result"
    }
   ],
   "source": [
    "diff_df"
   ]
  },
  {
   "cell_type": "markdown",
   "metadata": {},
   "source": [
    "# Encode- Decoder + LSTM"
   ]
  },
  {
   "cell_type": "markdown",
   "metadata": {},
   "source": [
    "Scale the input data"
   ]
  },
  {
   "cell_type": "code",
   "execution_count": null,
   "metadata": {},
   "outputs": [],
   "source": [
    "scaled_df = diff_df.copy(deep=True)\n",
    "featuresToScale = scaled_df.columns\n",
    "sX = pp.MinMaxScaler(feature_range=(-1,1),copy=True)\n",
    "scaled_df.loc[:,featuresToScale] = sX.fit_transform(scaled_df[featuresToScale])"
   ]
  },
  {
   "cell_type": "markdown",
   "metadata": {},
   "source": [
    "Create Train Validation Test Split"
   ]
  },
  {
   "cell_type": "code",
   "execution_count": null,
   "metadata": {},
   "outputs": [],
   "source": [
    "train_start = '2015-01-01'\n",
    "validation_start = '2018-11-01'\n",
    "test_start = '2018-12-01'\n",
    "test_end = '2018-12-19'\n",
    "feature = 'price actual'\n",
    "namespace= 'MS_EDLSTM_Price12'\n",
    "modeltype = 'EDLSTM'\n",
    "feature_df = diff_df[[feature]]\n",
    "data_x_train0,data_x_val0,data_x_test0,data_y_train0,data_y_val0,data_y_test0 = create_test_train_split(scaled_df,feature_df,train_start,test_start,test_end,validation_start=validation_start)"
   ]
  },
  {
   "cell_type": "markdown",
   "metadata": {},
   "source": [
    "Convert to (sample,timestep,feature) format"
   ]
  },
  {
   "cell_type": "code",
   "execution_count": null,
   "metadata": {},
   "outputs": [],
   "source": [
    "data_x_train,data_y_train,idx_train = convert_to_sample_time_feature(data_x_train0,data_y_train0,24*14*2,24*2,32)\n",
    "data_x_test,data_y_test,idx_test = convert_to_sample_time_feature(data_x_test0,data_y_test0,24*14*2,24*2,32)\n",
    "data_x_val,data_y_val,idx_val = convert_to_sample_time_feature(data_x_val0,data_y_val0,24*14*2,24*2,32)\n"
   ]
  },
  {
   "cell_type": "code",
   "execution_count": null,
   "metadata": {},
   "outputs": [
    {
     "name": "stdout",
     "output_type": "stream",
     "text": [
      "(32832, 1343, 28) (32832, 95)\n",
      "(0,) (0,)\n",
      "(0,) (0,)\n"
     ]
    }
   ],
   "source": [
    "print(data_x_train.shape,data_y_train.shape)\n",
    "print(data_x_val.shape,data_y_val.shape)\n",
    "print(data_x_test.shape,data_y_test.shape)"
   ]
  },
  {
   "cell_type": "markdown",
   "metadata": {},
   "source": [
    "Define LSTM Model"
   ]
  },
  {
   "cell_type": "code",
   "execution_count": null,
   "metadata": {},
   "outputs": [],
   "source": [
    "def build_model_ED_LSTM():\n",
    "    n_timesteps, n_features, n_outputs = data_x_train.shape[1], data_x_train.shape[2], data_y_train.shape[1]\n",
    "    model = models.Sequential()\n",
    "    # Encoder\n",
    "    model.add(layers.LSTM(64, return_sequences=True,input_shape=(None, n_features), stateful=False)) \n",
    "    model.add(layers.BatchNormalization())\n",
    "    \n",
    "    model.add(layers.LSTM(64, return_sequences=False, stateful=False)) \n",
    "    model.add(layers.BatchNormalization())  \n",
    "    \n",
    "    # Repeat Vector\n",
    "    model.add(layers.RepeatVector(n_outputs))\n",
    "    \n",
    "    # Decoder\n",
    "    model.add(layers.LSTM(64, return_sequences=True,stateful=False))\n",
    "    model.add(layers.BatchNormalization())\n",
    "        \n",
    "    model.add(layers.LSTM(64, return_sequences=True,stateful=False))\n",
    "    model.add(layers.BatchNormalization())\n",
    "\n",
    "    # End\n",
    "    model.add(layers.TimeDistributed(layers.Dense(64, kernel_regularizer=regularizers.l2(0.001), kernel_initializer=\"he_normal\")))\n",
    "    model.add(layers.TimeDistributed(layers.Dense(64, kernel_regularizer=regularizers.l2(0.001), kernel_initializer=\"he_normal\")))\n",
    "    \n",
    "    model.add(layers.TimeDistributed(layers.LeakyReLU(alpha=0.2)))                     \n",
    "    model.add(layers.TimeDistributed(layers.BatchNormalization()))\n",
    "    model.add(layers.TimeDistributed(layers.Dense(1)))                     \n",
    "                \n",
    "    model.compile(optimizer='Adam',loss='mse',metrics='mae') \n",
    "    return model"
   ]
  },
  {
   "cell_type": "code",
   "execution_count": null,
   "metadata": {},
   "outputs": [],
   "source": [
    "myCheckpointLSTM= keras.callbacks.ModelCheckpoint(f\"./{modeltype}/my_best_model_{namespace}.h5\", save_best_only=True)\n",
    "myEarly_stoppingLSTM = keras.callbacks.EarlyStopping(patience=20,restore_best_weights=True)"
   ]
  },
  {
   "cell_type": "code",
   "execution_count": null,
   "metadata": {},
   "outputs": [],
   "source": [
    "initial_learning_rate = 0.005\n",
    "num_epochs =100 \n",
    "decay = initial_learning_rate/num_epochs\n",
    "\n",
    "def scheduler(epoch,lr):\n",
    "    return lr*1/(1+decay*epoch)\n",
    "\n",
    "myLearningRate_LSTM = keras.callbacks.LearningRateScheduler(scheduler, verbose=1)\n"
   ]
  },
  {
   "cell_type": "code",
   "execution_count": null,
   "metadata": {},
   "outputs": [],
   "source": [
    "batch_size = 64"
   ]
  },
  {
   "cell_type": "code",
   "execution_count": null,
   "metadata": {},
   "outputs": [
    {
     "ename": "KeyboardInterrupt",
     "evalue": "",
     "output_type": "error",
     "traceback": [
      "\u001b[1;31m---------------------------------------------------------------------------\u001b[0m",
      "\u001b[1;31mKeyboardInterrupt\u001b[0m                         Traceback (most recent call last)",
      "\u001b[1;32m<ipython-input-20-53ae32c14c7e>\u001b[0m in \u001b[0;36m<module>\u001b[1;34m\u001b[0m\n\u001b[1;32m----> 1\u001b[1;33m \u001b[0mget_ipython\u001b[0m\u001b[1;33m(\u001b[0m\u001b[1;33m)\u001b[0m\u001b[1;33m.\u001b[0m\u001b[0mrun_cell_magic\u001b[0m\u001b[1;33m(\u001b[0m\u001b[1;34m'skip'\u001b[0m\u001b[1;33m,\u001b[0m \u001b[1;34m'$SKIP_RETRAIN_ED_LSTM'\u001b[0m\u001b[1;33m,\u001b[0m \u001b[1;34m'model_ED_LSTM= build_model_ED_LSTM()\\nhistory_ED_LSTM = model_ED_LSTM.fit(data_x_train, data_y_train, epochs=num_epochs, batch_size=batch_size, validation_data=(data_x_val, data_y_val) , \\n                                 callbacks=[myCheckpointLSTM,myEarly_stoppingLSTM,myLearningRate_LSTM])#\\n'\u001b[0m\u001b[1;33m)\u001b[0m\u001b[1;33m\u001b[0m\u001b[1;33m\u001b[0m\u001b[0m\n\u001b[0m",
      "\u001b[1;32m~\\anaconda3\\envs\\dde\\lib\\site-packages\\IPython\\core\\interactiveshell.py\u001b[0m in \u001b[0;36mrun_cell_magic\u001b[1;34m(self, magic_name, line, cell)\u001b[0m\n\u001b[0;32m   2397\u001b[0m             \u001b[1;32mwith\u001b[0m \u001b[0mself\u001b[0m\u001b[1;33m.\u001b[0m\u001b[0mbuiltin_trap\u001b[0m\u001b[1;33m:\u001b[0m\u001b[1;33m\u001b[0m\u001b[1;33m\u001b[0m\u001b[0m\n\u001b[0;32m   2398\u001b[0m                 \u001b[0margs\u001b[0m \u001b[1;33m=\u001b[0m \u001b[1;33m(\u001b[0m\u001b[0mmagic_arg_s\u001b[0m\u001b[1;33m,\u001b[0m \u001b[0mcell\u001b[0m\u001b[1;33m)\u001b[0m\u001b[1;33m\u001b[0m\u001b[1;33m\u001b[0m\u001b[0m\n\u001b[1;32m-> 2399\u001b[1;33m                 \u001b[0mresult\u001b[0m \u001b[1;33m=\u001b[0m \u001b[0mfn\u001b[0m\u001b[1;33m(\u001b[0m\u001b[1;33m*\u001b[0m\u001b[0margs\u001b[0m\u001b[1;33m,\u001b[0m \u001b[1;33m**\u001b[0m\u001b[0mkwargs\u001b[0m\u001b[1;33m)\u001b[0m\u001b[1;33m\u001b[0m\u001b[1;33m\u001b[0m\u001b[0m\n\u001b[0m\u001b[0;32m   2400\u001b[0m             \u001b[1;32mreturn\u001b[0m \u001b[0mresult\u001b[0m\u001b[1;33m\u001b[0m\u001b[1;33m\u001b[0m\u001b[0m\n\u001b[0;32m   2401\u001b[0m \u001b[1;33m\u001b[0m\u001b[0m\n",
      "\u001b[1;32mc:\\Users\\Benjamin\\Documents\\Data Driven Engineering\\DDE_MachineLearning_Project\\skip_kernel_extension.py\u001b[0m in \u001b[0;36mskip\u001b[1;34m(line, cell)\u001b[0m\n\u001b[0;32m      4\u001b[0m         \u001b[1;32mreturn\u001b[0m\u001b[1;33m\u001b[0m\u001b[1;33m\u001b[0m\u001b[0m\n\u001b[0;32m      5\u001b[0m \u001b[1;33m\u001b[0m\u001b[0m\n\u001b[1;32m----> 6\u001b[1;33m     \u001b[0mget_ipython\u001b[0m\u001b[1;33m(\u001b[0m\u001b[1;33m)\u001b[0m\u001b[1;33m.\u001b[0m\u001b[0mex\u001b[0m\u001b[1;33m(\u001b[0m\u001b[0mcell\u001b[0m\u001b[1;33m)\u001b[0m\u001b[1;33m\u001b[0m\u001b[1;33m\u001b[0m\u001b[0m\n\u001b[0m\u001b[0;32m      7\u001b[0m \u001b[1;33m\u001b[0m\u001b[0m\n\u001b[0;32m      8\u001b[0m \u001b[1;32mdef\u001b[0m \u001b[0mload_ipython_extension\u001b[0m\u001b[1;33m(\u001b[0m\u001b[0mshell\u001b[0m\u001b[1;33m)\u001b[0m\u001b[1;33m:\u001b[0m\u001b[1;33m\u001b[0m\u001b[1;33m\u001b[0m\u001b[0m\n",
      "\u001b[1;32m~\\anaconda3\\envs\\dde\\lib\\site-packages\\IPython\\core\\interactiveshell.py\u001b[0m in \u001b[0;36mex\u001b[1;34m(self, cmd)\u001b[0m\n\u001b[0;32m   2701\u001b[0m         \u001b[1;34m\"\"\"Execute a normal python statement in user namespace.\"\"\"\u001b[0m\u001b[1;33m\u001b[0m\u001b[1;33m\u001b[0m\u001b[0m\n\u001b[0;32m   2702\u001b[0m         \u001b[1;32mwith\u001b[0m \u001b[0mself\u001b[0m\u001b[1;33m.\u001b[0m\u001b[0mbuiltin_trap\u001b[0m\u001b[1;33m:\u001b[0m\u001b[1;33m\u001b[0m\u001b[1;33m\u001b[0m\u001b[0m\n\u001b[1;32m-> 2703\u001b[1;33m             \u001b[0mexec\u001b[0m\u001b[1;33m(\u001b[0m\u001b[0mcmd\u001b[0m\u001b[1;33m,\u001b[0m \u001b[0mself\u001b[0m\u001b[1;33m.\u001b[0m\u001b[0muser_global_ns\u001b[0m\u001b[1;33m,\u001b[0m \u001b[0mself\u001b[0m\u001b[1;33m.\u001b[0m\u001b[0muser_ns\u001b[0m\u001b[1;33m)\u001b[0m\u001b[1;33m\u001b[0m\u001b[1;33m\u001b[0m\u001b[0m\n\u001b[0m\u001b[0;32m   2704\u001b[0m \u001b[1;33m\u001b[0m\u001b[0m\n\u001b[0;32m   2705\u001b[0m     \u001b[1;32mdef\u001b[0m \u001b[0mev\u001b[0m\u001b[1;33m(\u001b[0m\u001b[0mself\u001b[0m\u001b[1;33m,\u001b[0m \u001b[0mexpr\u001b[0m\u001b[1;33m)\u001b[0m\u001b[1;33m:\u001b[0m\u001b[1;33m\u001b[0m\u001b[1;33m\u001b[0m\u001b[0m\n",
      "\u001b[1;32m<string>\u001b[0m in \u001b[0;36m<module>\u001b[1;34m\u001b[0m\n",
      "\u001b[1;32m~\\anaconda3\\envs\\dde\\lib\\site-packages\\keras\\engine\\training.py\u001b[0m in \u001b[0;36mfit\u001b[1;34m(self, x, y, batch_size, epochs, verbose, callbacks, validation_split, validation_data, shuffle, class_weight, sample_weight, initial_epoch, steps_per_epoch, validation_steps, validation_batch_size, validation_freq, max_queue_size, workers, use_multiprocessing)\u001b[0m\n\u001b[0;32m   1132\u001b[0m          \u001b[0mtraining_utils\u001b[0m\u001b[1;33m.\u001b[0m\u001b[0mRespectCompiledTrainableState\u001b[0m\u001b[1;33m(\u001b[0m\u001b[0mself\u001b[0m\u001b[1;33m)\u001b[0m\u001b[1;33m:\u001b[0m\u001b[1;33m\u001b[0m\u001b[1;33m\u001b[0m\u001b[0m\n\u001b[0;32m   1133\u001b[0m       \u001b[1;31m# Creates a `tf.data.Dataset` and handles batch and epoch iteration.\u001b[0m\u001b[1;33m\u001b[0m\u001b[1;33m\u001b[0m\u001b[1;33m\u001b[0m\u001b[0m\n\u001b[1;32m-> 1134\u001b[1;33m       data_handler = data_adapter.get_data_handler(\n\u001b[0m\u001b[0;32m   1135\u001b[0m           \u001b[0mx\u001b[0m\u001b[1;33m=\u001b[0m\u001b[0mx\u001b[0m\u001b[1;33m,\u001b[0m\u001b[1;33m\u001b[0m\u001b[1;33m\u001b[0m\u001b[0m\n\u001b[0;32m   1136\u001b[0m           \u001b[0my\u001b[0m\u001b[1;33m=\u001b[0m\u001b[0my\u001b[0m\u001b[1;33m,\u001b[0m\u001b[1;33m\u001b[0m\u001b[1;33m\u001b[0m\u001b[0m\n",
      "\u001b[1;32m~\\anaconda3\\envs\\dde\\lib\\site-packages\\keras\\engine\\data_adapter.py\u001b[0m in \u001b[0;36mget_data_handler\u001b[1;34m(*args, **kwargs)\u001b[0m\n\u001b[0;32m   1381\u001b[0m   \u001b[1;32mif\u001b[0m \u001b[0mgetattr\u001b[0m\u001b[1;33m(\u001b[0m\u001b[0mkwargs\u001b[0m\u001b[1;33m[\u001b[0m\u001b[1;34m\"model\"\u001b[0m\u001b[1;33m]\u001b[0m\u001b[1;33m,\u001b[0m \u001b[1;34m\"_cluster_coordinator\"\u001b[0m\u001b[1;33m,\u001b[0m \u001b[1;32mNone\u001b[0m\u001b[1;33m)\u001b[0m\u001b[1;33m:\u001b[0m\u001b[1;33m\u001b[0m\u001b[1;33m\u001b[0m\u001b[0m\n\u001b[0;32m   1382\u001b[0m     \u001b[1;32mreturn\u001b[0m \u001b[0m_ClusterCoordinatorDataHandler\u001b[0m\u001b[1;33m(\u001b[0m\u001b[1;33m*\u001b[0m\u001b[0margs\u001b[0m\u001b[1;33m,\u001b[0m \u001b[1;33m**\u001b[0m\u001b[0mkwargs\u001b[0m\u001b[1;33m)\u001b[0m\u001b[1;33m\u001b[0m\u001b[1;33m\u001b[0m\u001b[0m\n\u001b[1;32m-> 1383\u001b[1;33m   \u001b[1;32mreturn\u001b[0m \u001b[0mDataHandler\u001b[0m\u001b[1;33m(\u001b[0m\u001b[1;33m*\u001b[0m\u001b[0margs\u001b[0m\u001b[1;33m,\u001b[0m \u001b[1;33m**\u001b[0m\u001b[0mkwargs\u001b[0m\u001b[1;33m)\u001b[0m\u001b[1;33m\u001b[0m\u001b[1;33m\u001b[0m\u001b[0m\n\u001b[0m\u001b[0;32m   1384\u001b[0m \u001b[1;33m\u001b[0m\u001b[0m\n\u001b[0;32m   1385\u001b[0m \u001b[1;33m\u001b[0m\u001b[0m\n",
      "\u001b[1;32m~\\anaconda3\\envs\\dde\\lib\\site-packages\\keras\\engine\\data_adapter.py\u001b[0m in \u001b[0;36m__init__\u001b[1;34m(self, x, y, sample_weight, batch_size, steps_per_epoch, initial_epoch, epochs, shuffle, class_weight, max_queue_size, workers, use_multiprocessing, model, steps_per_execution, distribute)\u001b[0m\n\u001b[0;32m   1136\u001b[0m \u001b[1;33m\u001b[0m\u001b[0m\n\u001b[0;32m   1137\u001b[0m     \u001b[0madapter_cls\u001b[0m \u001b[1;33m=\u001b[0m \u001b[0mselect_data_adapter\u001b[0m\u001b[1;33m(\u001b[0m\u001b[0mx\u001b[0m\u001b[1;33m,\u001b[0m \u001b[0my\u001b[0m\u001b[1;33m)\u001b[0m\u001b[1;33m\u001b[0m\u001b[1;33m\u001b[0m\u001b[0m\n\u001b[1;32m-> 1138\u001b[1;33m     self._adapter = adapter_cls(\n\u001b[0m\u001b[0;32m   1139\u001b[0m         \u001b[0mx\u001b[0m\u001b[1;33m,\u001b[0m\u001b[1;33m\u001b[0m\u001b[1;33m\u001b[0m\u001b[0m\n\u001b[0;32m   1140\u001b[0m         \u001b[0my\u001b[0m\u001b[1;33m,\u001b[0m\u001b[1;33m\u001b[0m\u001b[1;33m\u001b[0m\u001b[0m\n",
      "\u001b[1;32m~\\anaconda3\\envs\\dde\\lib\\site-packages\\keras\\engine\\data_adapter.py\u001b[0m in \u001b[0;36m__init__\u001b[1;34m(self, x, y, sample_weights, sample_weight_modes, batch_size, epochs, steps, shuffle, **kwargs)\u001b[0m\n\u001b[0;32m    320\u001b[0m     \u001b[0mindices_dataset\u001b[0m \u001b[1;33m=\u001b[0m \u001b[0mindices_dataset\u001b[0m\u001b[1;33m.\u001b[0m\u001b[0mflat_map\u001b[0m\u001b[1;33m(\u001b[0m\u001b[0mslice_batch_indices\u001b[0m\u001b[1;33m)\u001b[0m\u001b[1;33m\u001b[0m\u001b[1;33m\u001b[0m\u001b[0m\n\u001b[0;32m    321\u001b[0m \u001b[1;33m\u001b[0m\u001b[0m\n\u001b[1;32m--> 322\u001b[1;33m     \u001b[0mdataset\u001b[0m \u001b[1;33m=\u001b[0m \u001b[0mself\u001b[0m\u001b[1;33m.\u001b[0m\u001b[0mslice_inputs\u001b[0m\u001b[1;33m(\u001b[0m\u001b[0mindices_dataset\u001b[0m\u001b[1;33m,\u001b[0m \u001b[0minputs\u001b[0m\u001b[1;33m)\u001b[0m\u001b[1;33m\u001b[0m\u001b[1;33m\u001b[0m\u001b[0m\n\u001b[0m\u001b[0;32m    323\u001b[0m \u001b[1;33m\u001b[0m\u001b[0m\n\u001b[0;32m    324\u001b[0m     \u001b[1;32mif\u001b[0m \u001b[0mshuffle\u001b[0m \u001b[1;33m==\u001b[0m \u001b[1;34m\"batch\"\u001b[0m\u001b[1;33m:\u001b[0m\u001b[1;33m\u001b[0m\u001b[1;33m\u001b[0m\u001b[0m\n",
      "\u001b[1;32m~\\anaconda3\\envs\\dde\\lib\\site-packages\\keras\\engine\\data_adapter.py\u001b[0m in \u001b[0;36mslice_inputs\u001b[1;34m(self, indices_dataset, inputs)\u001b[0m\n\u001b[0;32m    346\u001b[0m     dataset = tf.data.Dataset.zip((\n\u001b[0;32m    347\u001b[0m         \u001b[0mindices_dataset\u001b[0m\u001b[1;33m,\u001b[0m\u001b[1;33m\u001b[0m\u001b[1;33m\u001b[0m\u001b[0m\n\u001b[1;32m--> 348\u001b[1;33m         \u001b[0mtf\u001b[0m\u001b[1;33m.\u001b[0m\u001b[0mdata\u001b[0m\u001b[1;33m.\u001b[0m\u001b[0mDataset\u001b[0m\u001b[1;33m.\u001b[0m\u001b[0mfrom_tensors\u001b[0m\u001b[1;33m(\u001b[0m\u001b[0minputs\u001b[0m\u001b[1;33m)\u001b[0m\u001b[1;33m.\u001b[0m\u001b[0mrepeat\u001b[0m\u001b[1;33m(\u001b[0m\u001b[1;33m)\u001b[0m\u001b[1;33m\u001b[0m\u001b[1;33m\u001b[0m\u001b[0m\n\u001b[0m\u001b[0;32m    349\u001b[0m     ))\n\u001b[0;32m    350\u001b[0m \u001b[1;33m\u001b[0m\u001b[0m\n",
      "\u001b[1;32m~\\anaconda3\\envs\\dde\\lib\\site-packages\\tensorflow\\python\\data\\ops\\dataset_ops.py\u001b[0m in \u001b[0;36mfrom_tensors\u001b[1;34m(tensors)\u001b[0m\n\u001b[0;32m    604\u001b[0m       \u001b[0mDataset\u001b[0m\u001b[1;33m:\u001b[0m \u001b[0mA\u001b[0m\u001b[0;31m \u001b[0m\u001b[0;31m`\u001b[0m\u001b[0mDataset\u001b[0m\u001b[0;31m`\u001b[0m\u001b[1;33m.\u001b[0m\u001b[1;33m\u001b[0m\u001b[1;33m\u001b[0m\u001b[0m\n\u001b[0;32m    605\u001b[0m     \"\"\"\n\u001b[1;32m--> 606\u001b[1;33m     \u001b[1;32mreturn\u001b[0m \u001b[0mTensorDataset\u001b[0m\u001b[1;33m(\u001b[0m\u001b[0mtensors\u001b[0m\u001b[1;33m)\u001b[0m\u001b[1;33m\u001b[0m\u001b[1;33m\u001b[0m\u001b[0m\n\u001b[0m\u001b[0;32m    607\u001b[0m \u001b[1;33m\u001b[0m\u001b[0m\n\u001b[0;32m    608\u001b[0m   \u001b[1;33m@\u001b[0m\u001b[0mstaticmethod\u001b[0m\u001b[1;33m\u001b[0m\u001b[1;33m\u001b[0m\u001b[0m\n",
      "\u001b[1;32m~\\anaconda3\\envs\\dde\\lib\\site-packages\\tensorflow\\python\\data\\ops\\dataset_ops.py\u001b[0m in \u001b[0;36m__init__\u001b[1;34m(self, element)\u001b[0m\n\u001b[0;32m   3827\u001b[0m     \u001b[0mself\u001b[0m\u001b[1;33m.\u001b[0m\u001b[0m_tensors\u001b[0m \u001b[1;33m=\u001b[0m \u001b[0mstructure\u001b[0m\u001b[1;33m.\u001b[0m\u001b[0mto_tensor_list\u001b[0m\u001b[1;33m(\u001b[0m\u001b[0mself\u001b[0m\u001b[1;33m.\u001b[0m\u001b[0m_structure\u001b[0m\u001b[1;33m,\u001b[0m \u001b[0melement\u001b[0m\u001b[1;33m)\u001b[0m\u001b[1;33m\u001b[0m\u001b[1;33m\u001b[0m\u001b[0m\n\u001b[0;32m   3828\u001b[0m \u001b[1;33m\u001b[0m\u001b[0m\n\u001b[1;32m-> 3829\u001b[1;33m     variant_tensor = gen_dataset_ops.tensor_dataset(\n\u001b[0m\u001b[0;32m   3830\u001b[0m         \u001b[0mself\u001b[0m\u001b[1;33m.\u001b[0m\u001b[0m_tensors\u001b[0m\u001b[1;33m,\u001b[0m\u001b[1;33m\u001b[0m\u001b[1;33m\u001b[0m\u001b[0m\n\u001b[0;32m   3831\u001b[0m         output_shapes=structure.get_flat_tensor_shapes(self._structure))\n",
      "\u001b[1;32m~\\anaconda3\\envs\\dde\\lib\\site-packages\\tensorflow\\python\\ops\\gen_dataset_ops.py\u001b[0m in \u001b[0;36mtensor_dataset\u001b[1;34m(components, output_shapes, name)\u001b[0m\n\u001b[0;32m   7036\u001b[0m   \u001b[1;32mif\u001b[0m \u001b[0mtld\u001b[0m\u001b[1;33m.\u001b[0m\u001b[0mis_eager\u001b[0m\u001b[1;33m:\u001b[0m\u001b[1;33m\u001b[0m\u001b[1;33m\u001b[0m\u001b[0m\n\u001b[0;32m   7037\u001b[0m     \u001b[1;32mtry\u001b[0m\u001b[1;33m:\u001b[0m\u001b[1;33m\u001b[0m\u001b[1;33m\u001b[0m\u001b[0m\n\u001b[1;32m-> 7038\u001b[1;33m       _result = pywrap_tfe.TFE_Py_FastPathExecute(\n\u001b[0m\u001b[0;32m   7039\u001b[0m         \u001b[0m_ctx\u001b[0m\u001b[1;33m,\u001b[0m \u001b[1;34m\"TensorDataset\"\u001b[0m\u001b[1;33m,\u001b[0m \u001b[0mname\u001b[0m\u001b[1;33m,\u001b[0m \u001b[0mcomponents\u001b[0m\u001b[1;33m,\u001b[0m \u001b[1;34m\"output_shapes\"\u001b[0m\u001b[1;33m,\u001b[0m\u001b[1;33m\u001b[0m\u001b[1;33m\u001b[0m\u001b[0m\n\u001b[0;32m   7040\u001b[0m         output_shapes)\n",
      "\u001b[1;31mKeyboardInterrupt\u001b[0m: "
     ]
    }
   ],
   "source": [
    "%%skip $SKIP_RETRAIN_ED_LSTM\n",
    "model_ED_LSTM= build_model_ED_LSTM()\n",
    "history_ED_LSTM = model_ED_LSTM.fit(data_x_train, data_y_train, epochs=num_epochs, batch_size=batch_size, validation_data=(data_x_val, data_y_val) , \n",
    "                                 callbacks=[myCheckpointLSTM,myEarly_stoppingLSTM,myLearningRate_LSTM])#"
   ]
  },
  {
   "cell_type": "code",
   "execution_count": null,
   "metadata": {
    "colab": {
     "base_uri": "https://localhost:8080/",
     "height": 159
    },
    "id": "0f_FwfmlHyAl",
    "outputId": "080474a2-3f61-42ca-95ef-7bc23f76c853"
   },
   "outputs": [],
   "source": [
    "%%skip $SKIP_RETRAIN_ED_LSTM\n",
    "histEDLSTM = pd.DataFrame(history_ED_LSTM.history)\n",
    "histEDLSTM['epoch'] = history_ED_LSTM.epoch"
   ]
  },
  {
   "cell_type": "code",
   "execution_count": null,
   "metadata": {
    "colab": {
     "base_uri": "https://localhost:8080/",
     "height": 405
    },
    "id": "d2SviC32HyAr",
    "outputId": "512e600c-f7c8-46cd-9801-7387d6bf4f7f"
   },
   "outputs": [],
   "source": [
    "%%skip $SKIP_RETRAIN_ED_LSTM\n",
    "fig = plot_learning_curves(histEDLSTM,modeltype,f\"./{modeltype}/learningcurve_{namespace}.png\")"
   ]
  },
  {
   "cell_type": "markdown",
   "metadata": {},
   "source": [
    "Load best model"
   ]
  },
  {
   "cell_type": "code",
   "execution_count": null,
   "metadata": {},
   "outputs": [],
   "source": [
    "model_best_ED_LSTM = keras.models.load_model(f\"./{modeltype}/my_best_model_{namespace}.h5\")\n",
    "model_best_ED_LSTM.summary()"
   ]
  },
  {
   "cell_type": "markdown",
   "metadata": {},
   "source": [
    "Evaluate differencing Performance"
   ]
  },
  {
   "cell_type": "code",
   "execution_count": null,
   "metadata": {},
   "outputs": [],
   "source": [
    "i=0\n",
    "case_test = data_x_val[i].reshape((1,data_x_val[0].shape[0], data_x_val[0].shape[1]))\n",
    "Y_test_predictions_diff = pd.Series(model_best_ED_LSTM.predict(case_test).flatten(),index=pd.date_range(start=idx_val[i],freq='h',periods=24))\n",
    "y_test_filtered_diff = data_y_val0.loc[Y_test_predictions_diff.index]\n",
    "y_test_filtered_diff = y_test_filtered_diff.squeeze(axis=1)"
   ]
  },
  {
   "cell_type": "code",
   "execution_count": null,
   "metadata": {},
   "outputs": [],
   "source": [
    "eval_df_diff = create_eval_df(Y_test_predictions_diff,y_test_filtered_diff)"
   ]
  },
  {
   "cell_type": "code",
   "execution_count": null,
   "metadata": {
    "colab": {
     "base_uri": "https://localhost:8080/",
     "height": 426
    },
    "id": "5X3Hs_GtHyAs",
    "outputId": "7281486a-4a6c-492c-e48f-37fa6e7d7c25"
   },
   "outputs": [],
   "source": [
    "fig = plot_accuracy(eval_df_diff,modeltype,f\"./{modeltype}/diff_accuracy_{namespace}.png\")"
   ]
  },
  {
   "cell_type": "code",
   "execution_count": null,
   "metadata": {
    "colab": {
     "base_uri": "https://localhost:8080/",
     "height": 422
    },
    "id": "olr-44nOHyAt",
    "outputId": "ac65b698-1f77-4a62-87cf-c99f30d4d246"
   },
   "outputs": [],
   "source": [
    "fig = plot_error_variations(eval_df_diff,modeltype,f\"./{modeltype}/diff_error_variations_{namespace}.png\")"
   ]
  },
  {
   "cell_type": "code",
   "execution_count": null,
   "metadata": {
    "colab": {
     "base_uri": "https://localhost:8080/"
    },
    "id": "-HSnhihhHyAt",
    "outputId": "b45d472e-df1f-4ab2-97ba-6318127d0d9e"
   },
   "outputs": [],
   "source": [
    "abs_error_ED_LSTM = abs(Y_test_predictions_diff - y_test_filtered_diff)/y_test_filtered_diff*100\n",
    "np.average(abs_error_ED_LSTM)"
   ]
  },
  {
   "cell_type": "code",
   "execution_count": null,
   "metadata": {
    "colab": {
     "base_uri": "https://localhost:8080/"
    },
    "id": "-Og3-ec1HyAv",
    "outputId": "f0d3e172-622e-4dd4-a8ec-3f84e320356b"
   },
   "outputs": [],
   "source": [
    "r2_test = r2_score(y_test_filtered_diff, Y_test_predictions_diff)\n",
    "print('R^2 score is  %3.2f' %r2_test)"
   ]
  },
  {
   "cell_type": "code",
   "execution_count": null,
   "metadata": {
    "colab": {
     "base_uri": "https://localhost:8080/",
     "height": 421
    },
    "id": "bUVtrW7kHyAw",
    "outputId": "e4abb863-ccd1-4159-bd9d-7fb1a9711a9f"
   },
   "outputs": [],
   "source": [
    "fig=plot_predictions(eval_df_diff,1,modeltype,feature,f\"./{modeltype}/diff_predictions_{namespace}.png\")"
   ]
  },
  {
   "cell_type": "code",
   "execution_count": null,
   "metadata": {},
   "outputs": [],
   "source": [
    "df_pred_diff = make_multiple_predictions(model_best_ED_LSTM,idx_test,data_x_test,data_y_test0,feature,convert=False)"
   ]
  },
  {
   "cell_type": "code",
   "execution_count": null,
   "metadata": {},
   "outputs": [],
   "source": [
    "eval_df_diff = create_eval_df(df_pred_diff['mean'],df_pred_diff['Actual'])"
   ]
  },
  {
   "cell_type": "code",
   "execution_count": null,
   "metadata": {
    "colab": {
     "base_uri": "https://localhost:8080/",
     "height": 426
    },
    "id": "5X3Hs_GtHyAs",
    "outputId": "7281486a-4a6c-492c-e48f-37fa6e7d7c25"
   },
   "outputs": [],
   "source": [
    "fig = plot_accuracy(eval_df_diff,modeltype,f\"./{modeltype}/accuracy_diff_{namespace}.png\")"
   ]
  },
  {
   "cell_type": "code",
   "execution_count": null,
   "metadata": {
    "colab": {
     "base_uri": "https://localhost:8080/",
     "height": 422
    },
    "id": "olr-44nOHyAt",
    "outputId": "ac65b698-1f77-4a62-87cf-c99f30d4d246"
   },
   "outputs": [],
   "source": [
    "# fig = plot_error_variations(eval_df_diff,modeltype,f\"./{modeltype}/error_variations_diff_{namespace}.png\")"
   ]
  },
  {
   "cell_type": "code",
   "execution_count": null,
   "metadata": {
    "colab": {
     "base_uri": "https://localhost:8080/",
     "height": 421
    },
    "id": "bUVtrW7kHyAw",
    "outputId": "e4abb863-ccd1-4159-bd9d-7fb1a9711a9f"
   },
   "outputs": [],
   "source": [
    "fig=plot_predictions(eval_df_diff,1,modeltype,feature,f\"./{modeltype}/predictions_diff_{namespace}.png\")"
   ]
  },
  {
   "cell_type": "code",
   "execution_count": null,
   "metadata": {},
   "outputs": [],
   "source": [
    "r2_test = r2_score(df_pred_diff['Actual'][:-1], df_pred_diff['mean'][:-1])\n",
    "print('R^2 score is  %3.2f' %r2_test)"
   ]
  },
  {
   "cell_type": "markdown",
   "metadata": {},
   "source": [
    "Reverting differencing"
   ]
  },
  {
   "cell_type": "code",
   "execution_count": null,
   "metadata": {},
   "outputs": [],
   "source": [
    "df_pred = make_multiple_predictions(model_best_ED_LSTM,idx_val,data_x_val,base_df,feature,convert=True)"
   ]
  },
  {
   "cell_type": "code",
   "execution_count": null,
   "metadata": {},
   "outputs": [],
   "source": [
    "eval_df = create_eval_df(df_pred['mean'],df_pred['Actual'])"
   ]
  },
  {
   "cell_type": "code",
   "execution_count": null,
   "metadata": {
    "colab": {
     "base_uri": "https://localhost:8080/",
     "height": 426
    },
    "id": "5X3Hs_GtHyAs",
    "outputId": "7281486a-4a6c-492c-e48f-37fa6e7d7c25"
   },
   "outputs": [],
   "source": [
    "fig = plot_accuracy(eval_df,modeltype,f\"./{modeltype}/accuracy_{namespace}.png\")"
   ]
  },
  {
   "cell_type": "code",
   "execution_count": null,
   "metadata": {
    "colab": {
     "base_uri": "https://localhost:8080/",
     "height": 422
    },
    "id": "olr-44nOHyAt",
    "outputId": "ac65b698-1f77-4a62-87cf-c99f30d4d246"
   },
   "outputs": [],
   "source": [
    "fig = plot_error_variations(eval_df,modeltype,f\"./{modeltype}/error_variations_{namespace}.png\")"
   ]
  },
  {
   "cell_type": "code",
   "execution_count": null,
   "metadata": {
    "colab": {
     "base_uri": "https://localhost:8080/"
    },
    "id": "-Og3-ec1HyAv",
    "outputId": "f0d3e172-622e-4dd4-a8ec-3f84e320356b"
   },
   "outputs": [],
   "source": [
    "r2_test = r2_score(df_pred['Actual'][:-1],df_pred['mean'][:-1],)\n",
    "print('R^2 score is  %3.2f' %r2_test)"
   ]
  },
  {
   "cell_type": "code",
   "execution_count": null,
   "metadata": {},
   "outputs": [],
   "source": [
    "fig=plot_multiple_predictions(df_pred,f\"./{modeltype}/multiple_predictions_bench_{namespace}.png\",add_traces=False)"
   ]
  },
  {
   "cell_type": "code",
   "execution_count": null,
   "metadata": {},
   "outputs": [],
   "source": [
    "r2 = calculate_r2_scores(df_pred)\n",
    "plt.figure()\n",
    "plt.plot(r2)\n"
   ]
  },
  {
   "cell_type": "markdown",
   "metadata": {},
   "source": [
    "Comparing to Benchmark"
   ]
  },
  {
   "cell_type": "code",
   "execution_count": null,
   "metadata": {},
   "outputs": [],
   "source": [
    "eval_df_bench = create_eval_df(bench_df[idx_val[0]:idx_val[-1]+timedelta(hours=24)],df_pred['Actual'])\n",
    "eval_df_bench"
   ]
  },
  {
   "cell_type": "code",
   "execution_count": null,
   "metadata": {},
   "outputs": [],
   "source": [
    "r2_test = r2_score(eval_df_bench['Prediction'][:-1], eval_df_bench['Actual'][:-1])\n",
    "print('R^2 score is  %3.2f' %r2_test)"
   ]
  },
  {
   "cell_type": "code",
   "execution_count": null,
   "metadata": {},
   "outputs": [],
   "source": [
    "df_pred_24h = df_pred.iloc[:,0::24]\n",
    "df_pred_24h['total'] = df_pred_24h.mean(axis=1)\n",
    "df_pred_24h = df_pred_24h['total'].dropna()"
   ]
  },
  {
   "cell_type": "code",
   "execution_count": null,
   "metadata": {},
   "outputs": [],
   "source": [
    "fig = plt.figure(figsize=(16,8))\n",
    "plt.plot(df_pred['Actual'],label = 'Actual')\n",
    "plt.plot(df_pred['mean'], label= 'Prediction')\n",
    "plt.plot(bench_df[idx_val[0]:idx_val[-1]+timedelta(hours=24)], label = 'Benchmark')\n",
    "# plt.plot(df_pred_24h,label='only24h')\n",
    "plt.legend()\n",
    "plt.xlim(idx_val[0],idx_val[0]+timedelta(hours=24*14-1))"
   ]
  },
  {
   "cell_type": "markdown",
   "metadata": {},
   "source": [
    "Weighted Mean"
   ]
  },
  {
   "cell_type": "code",
   "execution_count": null,
   "metadata": {},
   "outputs": [],
   "source": [
    "df_pred_wm = df_pred.copy(deep=True)\n",
    "df_pred_wm = remove_columns(df_pred_wm,['mean','Actual'])\n"
   ]
  },
  {
   "cell_type": "code",
   "execution_count": null,
   "metadata": {},
   "outputs": [],
   "source": [
    "df_pred_wm = df_pred_wm.iloc[:-1,:]"
   ]
  },
  {
   "cell_type": "code",
   "execution_count": null,
   "metadata": {},
   "outputs": [],
   "source": [
    "df_pred_wm = df_pred_wm.iloc[23:-23,:]"
   ]
  },
  {
   "cell_type": "code",
   "execution_count": null,
   "metadata": {},
   "outputs": [],
   "source": [
    "idx = df_pred_wm.index"
   ]
  },
  {
   "cell_type": "code",
   "execution_count": null,
   "metadata": {},
   "outputs": [],
   "source": [
    "cols = [f'pred_{x}h' for x in range(24,0,-1)]\n",
    "new_df = pd.DataFrame()\n",
    "liste=[]\n",
    "for row in df_pred_wm.iterrows():\n",
    "    a = list(row)\n",
    "    new_series = list(a[1].dropna())\n",
    "    liste.append(new_series)\n",
    "weights = [x/24 for x in range(1,25,1)]\n",
    "print(weights)\n",
    "# weights = [x/sum(weights) for x in weights]\n",
    "# print(weights)\n",
    "new_list = []\n",
    "for item in liste:\n",
    "    new_list.append(np.average(item,weights=weights))\n",
    "    \n",
    "    \n",
    "df_wp = pd.DataFrame(new_list,index=idx,columns=['Weighted Average Prediction'])"
   ]
  },
  {
   "cell_type": "code",
   "execution_count": null,
   "metadata": {},
   "outputs": [],
   "source": [
    "fig = plt.figure(figsize=(16,8))\n",
    "plt.plot(df_pred['Actual'],label = 'Actual')\n",
    "plt.plot(df_pred['mean'], label= 'Prediction')\n",
    "plt.plot(bench_df[idx_val[0]:idx_val[-1]+timedelta(hours=24)], label = 'Benchmark')\n",
    "# plt.plot(df_wp,label='Weighted Average')\n",
    "plt.legend()\n"
   ]
  },
  {
   "cell_type": "markdown",
   "metadata": {},
   "source": []
  }
 ],
 "metadata": {
  "interpreter": {
   "hash": "39d1545a961fb91480a52a0b6f0ba22788119e75d6e41681ee81894caf37680e"
  },
  "kernelspec": {
   "display_name": "Python 3",
   "language": "python",
   "name": "python3"
  },
  "language_info": {
   "codemirror_mode": {
    "name": "ipython",
    "version": 3
   },
   "file_extension": ".py",
   "mimetype": "text/x-python",
   "name": "python",
   "nbconvert_exporter": "python",
   "pygments_lexer": "ipython3",
   "version": "3.9.4"
  }
 },
 "nbformat": 4,
 "nbformat_minor": 2
}
