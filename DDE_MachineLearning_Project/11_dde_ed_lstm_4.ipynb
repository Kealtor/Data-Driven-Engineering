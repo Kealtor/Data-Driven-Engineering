{
 "cells": [
  {
   "cell_type": "code",
   "execution_count": 1,
   "metadata": {},
   "outputs": [],
   "source": [
    "import numpy as np\n",
    "import pandas as pd\n",
    "from datetime import date\n",
    "import plotly.express as px\n",
    "import plotly.graph_objects as go\n",
    "import math\n",
    "import matplotlib.pyplot as plt\n",
    "from sklearn import preprocessing as pp\n",
    "import matplotlib as mpl\n",
    "from sklearn.decomposition import PCA\n",
    "from pandas.plotting import lag_plot, autocorrelation_plot\n",
    "from statsmodels.graphics.tsaplots import plot_acf, plot_pacf \n",
    "import statsmodels.api as smw\n",
    "from datetime import timedelta\n",
    "from statsmodels.tsa.statespace.sarimax import SARIMAX\n",
    "from sklearn.svm import SVR\n",
    "from sklearn.metrics import r2_score\n",
    "# ML Algorithms to be used\n",
    "import tensorflow as tf\n",
    "from tensorflow import keras\n",
    "from keras import optimizers, models, layers, regularizers\n",
    "tf.__version__\n",
    "from utils.dde_preprocessing_utils import (set_timestamp_index,\n",
    "remove_duplicates,\n",
    "remove_columns,\n",
    "extract_correlations,\n",
    "prepare_data_sarimax,\n",
    "create_test_train_split,\n",
    "create_sarimax_test_train_split,\n",
    "create_eval_df,\n",
    "convert_to_sample_time_feature,\n",
    "convert_from_differencing,\n",
    "make_multiple_predictions,\n",
    "calculate_r2_scores,\n",
    "apply_differencing)\n",
    "from utils.dde_plotting_utils import(\n",
    "display_double_timestamps,\n",
    "display_seasonal_decomposition,\n",
    "plot_predictions,\n",
    "plot_accuracy,\n",
    "plot_error_variations,\n",
    "plot_learning_curves,\n",
    "plot_multiple_predictions,\n",
    ")\n",
    "%load_ext skip_kernel_extension"
   ]
  },
  {
   "cell_type": "code",
   "execution_count": 2,
   "metadata": {},
   "outputs": [],
   "source": [
    "import keras_tuner as kt\n",
    "from scipy.signal import savgol_filter"
   ]
  },
  {
   "cell_type": "code",
   "execution_count": 3,
   "metadata": {},
   "outputs": [],
   "source": [
    "config = tf.compat.v1.ConfigProto(gpu_options=tf.compat.v1.GPUOptions(per_process_gpu_memory_fraction=0.8))\n",
    "config.gpu_options.allow_growth = True\n",
    "session = tf.compat.v1.Session(config=config)\n",
    "tf.compat.v1.keras.backend.set_session(session)\n",
    "mpl.rcParams['figure.figsize'] = [8.0, 8.0]\n",
    "tf.random.set_seed(2022)"
   ]
  },
  {
   "cell_type": "code",
   "execution_count": 4,
   "metadata": {},
   "outputs": [],
   "source": [
    "SKIP_RETRAIN_NN =True\n",
    "SKIP_RETRAIN_RNN = True\n",
    "SKIP_RETRAIN_LSTM = True\n",
    "SKIP_RETRAIN_ED_LSTM = False"
   ]
  },
  {
   "cell_type": "markdown",
   "metadata": {},
   "source": [
    "## Loading Data"
   ]
  },
  {
   "cell_type": "code",
   "execution_count": 5,
   "metadata": {},
   "outputs": [],
   "source": [
    "bench_df = pd.read_csv(\"energy_dataset.csv\")\n",
    "bench_df = set_timestamp_index(bench_df,\"time\")\n",
    "bench_df = bench_df['price day ahead']"
   ]
  },
  {
   "cell_type": "code",
   "execution_count": 6,
   "metadata": {},
   "outputs": [],
   "source": [
    "base_df = pd.read_csv(\"extended_preprocessed_data.csv\")\n",
    "base_df = set_timestamp_index(base_df,\"Unnamed: 0\")"
   ]
  },
  {
   "cell_type": "code",
   "execution_count": 7,
   "metadata": {},
   "outputs": [
    {
     "data": {
      "text/html": [
       "<div>\n",
       "<style scoped>\n",
       "    .dataframe tbody tr th:only-of-type {\n",
       "        vertical-align: middle;\n",
       "    }\n",
       "\n",
       "    .dataframe tbody tr th {\n",
       "        vertical-align: top;\n",
       "    }\n",
       "\n",
       "    .dataframe thead th {\n",
       "        text-align: right;\n",
       "    }\n",
       "</style>\n",
       "<table border=\"1\" class=\"dataframe\">\n",
       "  <thead>\n",
       "    <tr style=\"text-align: right;\">\n",
       "      <th></th>\n",
       "      <th>temp</th>\n",
       "      <th>pressure</th>\n",
       "      <th>humidity</th>\n",
       "      <th>wind_speed</th>\n",
       "      <th>wind_deg</th>\n",
       "      <th>generation biomass</th>\n",
       "      <th>generation fossil brown coal/lignite</th>\n",
       "      <th>generation fossil gas</th>\n",
       "      <th>generation fossil hard coal</th>\n",
       "      <th>generation fossil oil</th>\n",
       "      <th>...</th>\n",
       "      <th>generation wind onshore</th>\n",
       "      <th>total load actual</th>\n",
       "      <th>price actual</th>\n",
       "      <th>generation</th>\n",
       "      <th>energy_difference</th>\n",
       "      <th>energy_stored</th>\n",
       "      <th>month</th>\n",
       "      <th>day</th>\n",
       "      <th>weekend</th>\n",
       "      <th>hour</th>\n",
       "    </tr>\n",
       "  </thead>\n",
       "  <tbody>\n",
       "    <tr>\n",
       "      <th>2015-01-01 00:00:00+01:00</th>\n",
       "      <td>-2.675</td>\n",
       "      <td>1001.0</td>\n",
       "      <td>77</td>\n",
       "      <td>1.0</td>\n",
       "      <td>62</td>\n",
       "      <td>447.0</td>\n",
       "      <td>329.0</td>\n",
       "      <td>4844.0</td>\n",
       "      <td>4821.0</td>\n",
       "      <td>162.0</td>\n",
       "      <td>...</td>\n",
       "      <td>6378.0</td>\n",
       "      <td>25385.0</td>\n",
       "      <td>65.41</td>\n",
       "      <td>28251.0</td>\n",
       "      <td>2866.0</td>\n",
       "      <td>2866.0</td>\n",
       "      <td>1</td>\n",
       "      <td>1</td>\n",
       "      <td>0</td>\n",
       "      <td>0</td>\n",
       "    </tr>\n",
       "    <tr>\n",
       "      <th>2015-01-01 01:00:00+01:00</th>\n",
       "      <td>-2.675</td>\n",
       "      <td>1001.0</td>\n",
       "      <td>77</td>\n",
       "      <td>1.0</td>\n",
       "      <td>62</td>\n",
       "      <td>449.0</td>\n",
       "      <td>328.0</td>\n",
       "      <td>5196.0</td>\n",
       "      <td>4755.0</td>\n",
       "      <td>158.0</td>\n",
       "      <td>...</td>\n",
       "      <td>5890.0</td>\n",
       "      <td>24382.0</td>\n",
       "      <td>64.92</td>\n",
       "      <td>27818.0</td>\n",
       "      <td>3436.0</td>\n",
       "      <td>6302.0</td>\n",
       "      <td>1</td>\n",
       "      <td>1</td>\n",
       "      <td>0</td>\n",
       "      <td>1</td>\n",
       "    </tr>\n",
       "    <tr>\n",
       "      <th>2015-01-01 02:00:00+01:00</th>\n",
       "      <td>-3.464</td>\n",
       "      <td>1002.0</td>\n",
       "      <td>78</td>\n",
       "      <td>0.0</td>\n",
       "      <td>23</td>\n",
       "      <td>448.0</td>\n",
       "      <td>323.0</td>\n",
       "      <td>4857.0</td>\n",
       "      <td>4581.0</td>\n",
       "      <td>157.0</td>\n",
       "      <td>...</td>\n",
       "      <td>5461.0</td>\n",
       "      <td>22734.0</td>\n",
       "      <td>64.48</td>\n",
       "      <td>26796.0</td>\n",
       "      <td>4062.0</td>\n",
       "      <td>10364.0</td>\n",
       "      <td>1</td>\n",
       "      <td>1</td>\n",
       "      <td>0</td>\n",
       "      <td>2</td>\n",
       "    </tr>\n",
       "    <tr>\n",
       "      <th>2015-01-01 03:00:00+01:00</th>\n",
       "      <td>-3.464</td>\n",
       "      <td>1002.0</td>\n",
       "      <td>78</td>\n",
       "      <td>0.0</td>\n",
       "      <td>23</td>\n",
       "      <td>438.0</td>\n",
       "      <td>254.0</td>\n",
       "      <td>4314.0</td>\n",
       "      <td>4131.0</td>\n",
       "      <td>160.0</td>\n",
       "      <td>...</td>\n",
       "      <td>5238.0</td>\n",
       "      <td>21286.0</td>\n",
       "      <td>59.32</td>\n",
       "      <td>25223.0</td>\n",
       "      <td>3937.0</td>\n",
       "      <td>14301.0</td>\n",
       "      <td>1</td>\n",
       "      <td>1</td>\n",
       "      <td>0</td>\n",
       "      <td>3</td>\n",
       "    </tr>\n",
       "    <tr>\n",
       "      <th>2015-01-01 04:00:00+01:00</th>\n",
       "      <td>-3.464</td>\n",
       "      <td>1002.0</td>\n",
       "      <td>78</td>\n",
       "      <td>0.0</td>\n",
       "      <td>23</td>\n",
       "      <td>428.0</td>\n",
       "      <td>187.0</td>\n",
       "      <td>4130.0</td>\n",
       "      <td>3840.0</td>\n",
       "      <td>156.0</td>\n",
       "      <td>...</td>\n",
       "      <td>4935.0</td>\n",
       "      <td>20264.0</td>\n",
       "      <td>56.04</td>\n",
       "      <td>24620.0</td>\n",
       "      <td>4356.0</td>\n",
       "      <td>18657.0</td>\n",
       "      <td>1</td>\n",
       "      <td>1</td>\n",
       "      <td>0</td>\n",
       "      <td>4</td>\n",
       "    </tr>\n",
       "    <tr>\n",
       "      <th>...</th>\n",
       "      <td>...</td>\n",
       "      <td>...</td>\n",
       "      <td>...</td>\n",
       "      <td>...</td>\n",
       "      <td>...</td>\n",
       "      <td>...</td>\n",
       "      <td>...</td>\n",
       "      <td>...</td>\n",
       "      <td>...</td>\n",
       "      <td>...</td>\n",
       "      <td>...</td>\n",
       "      <td>...</td>\n",
       "      <td>...</td>\n",
       "      <td>...</td>\n",
       "      <td>...</td>\n",
       "      <td>...</td>\n",
       "      <td>...</td>\n",
       "      <td>...</td>\n",
       "      <td>...</td>\n",
       "      <td>...</td>\n",
       "      <td>...</td>\n",
       "    </tr>\n",
       "    <tr>\n",
       "      <th>2018-12-31 19:00:00+01:00</th>\n",
       "      <td>12.490</td>\n",
       "      <td>1028.0</td>\n",
       "      <td>62</td>\n",
       "      <td>2.0</td>\n",
       "      <td>140</td>\n",
       "      <td>297.0</td>\n",
       "      <td>0.0</td>\n",
       "      <td>7634.0</td>\n",
       "      <td>2628.0</td>\n",
       "      <td>178.0</td>\n",
       "      <td>...</td>\n",
       "      <td>3113.0</td>\n",
       "      <td>30653.0</td>\n",
       "      <td>77.02</td>\n",
       "      <td>26415.0</td>\n",
       "      <td>-4238.0</td>\n",
       "      <td>-2062312.5</td>\n",
       "      <td>12</td>\n",
       "      <td>31</td>\n",
       "      <td>0</td>\n",
       "      <td>19</td>\n",
       "    </tr>\n",
       "    <tr>\n",
       "      <th>2018-12-31 20:00:00+01:00</th>\n",
       "      <td>9.990</td>\n",
       "      <td>1029.0</td>\n",
       "      <td>71</td>\n",
       "      <td>1.0</td>\n",
       "      <td>242</td>\n",
       "      <td>296.0</td>\n",
       "      <td>0.0</td>\n",
       "      <td>7241.0</td>\n",
       "      <td>2566.0</td>\n",
       "      <td>174.0</td>\n",
       "      <td>...</td>\n",
       "      <td>3288.0</td>\n",
       "      <td>29735.0</td>\n",
       "      <td>76.16</td>\n",
       "      <td>25213.0</td>\n",
       "      <td>-4522.0</td>\n",
       "      <td>-2066834.5</td>\n",
       "      <td>12</td>\n",
       "      <td>31</td>\n",
       "      <td>0</td>\n",
       "      <td>20</td>\n",
       "    </tr>\n",
       "    <tr>\n",
       "      <th>2018-12-31 21:00:00+01:00</th>\n",
       "      <td>8.510</td>\n",
       "      <td>1029.0</td>\n",
       "      <td>81</td>\n",
       "      <td>3.0</td>\n",
       "      <td>300</td>\n",
       "      <td>292.0</td>\n",
       "      <td>0.0</td>\n",
       "      <td>7025.0</td>\n",
       "      <td>2422.0</td>\n",
       "      <td>168.0</td>\n",
       "      <td>...</td>\n",
       "      <td>3503.0</td>\n",
       "      <td>28071.0</td>\n",
       "      <td>74.30</td>\n",
       "      <td>23987.0</td>\n",
       "      <td>-4084.0</td>\n",
       "      <td>-2070918.5</td>\n",
       "      <td>12</td>\n",
       "      <td>31</td>\n",
       "      <td>0</td>\n",
       "      <td>21</td>\n",
       "    </tr>\n",
       "    <tr>\n",
       "      <th>2018-12-31 22:00:00+01:00</th>\n",
       "      <td>6.990</td>\n",
       "      <td>1029.0</td>\n",
       "      <td>81</td>\n",
       "      <td>2.0</td>\n",
       "      <td>310</td>\n",
       "      <td>293.0</td>\n",
       "      <td>0.0</td>\n",
       "      <td>6562.0</td>\n",
       "      <td>2293.0</td>\n",
       "      <td>163.0</td>\n",
       "      <td>...</td>\n",
       "      <td>3586.0</td>\n",
       "      <td>25801.0</td>\n",
       "      <td>69.89</td>\n",
       "      <td>22748.0</td>\n",
       "      <td>-3053.0</td>\n",
       "      <td>-2073971.5</td>\n",
       "      <td>12</td>\n",
       "      <td>31</td>\n",
       "      <td>0</td>\n",
       "      <td>22</td>\n",
       "    </tr>\n",
       "    <tr>\n",
       "      <th>2018-12-31 23:00:00+01:00</th>\n",
       "      <td>5.990</td>\n",
       "      <td>1029.0</td>\n",
       "      <td>75</td>\n",
       "      <td>2.0</td>\n",
       "      <td>300</td>\n",
       "      <td>290.0</td>\n",
       "      <td>0.0</td>\n",
       "      <td>6926.0</td>\n",
       "      <td>2166.0</td>\n",
       "      <td>163.0</td>\n",
       "      <td>...</td>\n",
       "      <td>3651.0</td>\n",
       "      <td>24455.0</td>\n",
       "      <td>69.88</td>\n",
       "      <td>22605.0</td>\n",
       "      <td>-1850.0</td>\n",
       "      <td>-2075821.5</td>\n",
       "      <td>12</td>\n",
       "      <td>31</td>\n",
       "      <td>0</td>\n",
       "      <td>23</td>\n",
       "    </tr>\n",
       "  </tbody>\n",
       "</table>\n",
       "<p>35064 rows × 28 columns</p>\n",
       "</div>"
      ],
      "text/plain": [
       "                             temp  pressure  humidity  wind_speed  wind_deg  \\\n",
       "2015-01-01 00:00:00+01:00  -2.675    1001.0        77         1.0        62   \n",
       "2015-01-01 01:00:00+01:00  -2.675    1001.0        77         1.0        62   \n",
       "2015-01-01 02:00:00+01:00  -3.464    1002.0        78         0.0        23   \n",
       "2015-01-01 03:00:00+01:00  -3.464    1002.0        78         0.0        23   \n",
       "2015-01-01 04:00:00+01:00  -3.464    1002.0        78         0.0        23   \n",
       "...                           ...       ...       ...         ...       ...   \n",
       "2018-12-31 19:00:00+01:00  12.490    1028.0        62         2.0       140   \n",
       "2018-12-31 20:00:00+01:00   9.990    1029.0        71         1.0       242   \n",
       "2018-12-31 21:00:00+01:00   8.510    1029.0        81         3.0       300   \n",
       "2018-12-31 22:00:00+01:00   6.990    1029.0        81         2.0       310   \n",
       "2018-12-31 23:00:00+01:00   5.990    1029.0        75         2.0       300   \n",
       "\n",
       "                           generation biomass  \\\n",
       "2015-01-01 00:00:00+01:00               447.0   \n",
       "2015-01-01 01:00:00+01:00               449.0   \n",
       "2015-01-01 02:00:00+01:00               448.0   \n",
       "2015-01-01 03:00:00+01:00               438.0   \n",
       "2015-01-01 04:00:00+01:00               428.0   \n",
       "...                                       ...   \n",
       "2018-12-31 19:00:00+01:00               297.0   \n",
       "2018-12-31 20:00:00+01:00               296.0   \n",
       "2018-12-31 21:00:00+01:00               292.0   \n",
       "2018-12-31 22:00:00+01:00               293.0   \n",
       "2018-12-31 23:00:00+01:00               290.0   \n",
       "\n",
       "                           generation fossil brown coal/lignite  \\\n",
       "2015-01-01 00:00:00+01:00                                 329.0   \n",
       "2015-01-01 01:00:00+01:00                                 328.0   \n",
       "2015-01-01 02:00:00+01:00                                 323.0   \n",
       "2015-01-01 03:00:00+01:00                                 254.0   \n",
       "2015-01-01 04:00:00+01:00                                 187.0   \n",
       "...                                                         ...   \n",
       "2018-12-31 19:00:00+01:00                                   0.0   \n",
       "2018-12-31 20:00:00+01:00                                   0.0   \n",
       "2018-12-31 21:00:00+01:00                                   0.0   \n",
       "2018-12-31 22:00:00+01:00                                   0.0   \n",
       "2018-12-31 23:00:00+01:00                                   0.0   \n",
       "\n",
       "                           generation fossil gas  generation fossil hard coal  \\\n",
       "2015-01-01 00:00:00+01:00                 4844.0                       4821.0   \n",
       "2015-01-01 01:00:00+01:00                 5196.0                       4755.0   \n",
       "2015-01-01 02:00:00+01:00                 4857.0                       4581.0   \n",
       "2015-01-01 03:00:00+01:00                 4314.0                       4131.0   \n",
       "2015-01-01 04:00:00+01:00                 4130.0                       3840.0   \n",
       "...                                          ...                          ...   \n",
       "2018-12-31 19:00:00+01:00                 7634.0                       2628.0   \n",
       "2018-12-31 20:00:00+01:00                 7241.0                       2566.0   \n",
       "2018-12-31 21:00:00+01:00                 7025.0                       2422.0   \n",
       "2018-12-31 22:00:00+01:00                 6562.0                       2293.0   \n",
       "2018-12-31 23:00:00+01:00                 6926.0                       2166.0   \n",
       "\n",
       "                           generation fossil oil  ...  \\\n",
       "2015-01-01 00:00:00+01:00                  162.0  ...   \n",
       "2015-01-01 01:00:00+01:00                  158.0  ...   \n",
       "2015-01-01 02:00:00+01:00                  157.0  ...   \n",
       "2015-01-01 03:00:00+01:00                  160.0  ...   \n",
       "2015-01-01 04:00:00+01:00                  156.0  ...   \n",
       "...                                          ...  ...   \n",
       "2018-12-31 19:00:00+01:00                  178.0  ...   \n",
       "2018-12-31 20:00:00+01:00                  174.0  ...   \n",
       "2018-12-31 21:00:00+01:00                  168.0  ...   \n",
       "2018-12-31 22:00:00+01:00                  163.0  ...   \n",
       "2018-12-31 23:00:00+01:00                  163.0  ...   \n",
       "\n",
       "                           generation wind onshore  total load actual  \\\n",
       "2015-01-01 00:00:00+01:00                   6378.0            25385.0   \n",
       "2015-01-01 01:00:00+01:00                   5890.0            24382.0   \n",
       "2015-01-01 02:00:00+01:00                   5461.0            22734.0   \n",
       "2015-01-01 03:00:00+01:00                   5238.0            21286.0   \n",
       "2015-01-01 04:00:00+01:00                   4935.0            20264.0   \n",
       "...                                            ...                ...   \n",
       "2018-12-31 19:00:00+01:00                   3113.0            30653.0   \n",
       "2018-12-31 20:00:00+01:00                   3288.0            29735.0   \n",
       "2018-12-31 21:00:00+01:00                   3503.0            28071.0   \n",
       "2018-12-31 22:00:00+01:00                   3586.0            25801.0   \n",
       "2018-12-31 23:00:00+01:00                   3651.0            24455.0   \n",
       "\n",
       "                           price actual  generation  energy_difference  \\\n",
       "2015-01-01 00:00:00+01:00         65.41     28251.0             2866.0   \n",
       "2015-01-01 01:00:00+01:00         64.92     27818.0             3436.0   \n",
       "2015-01-01 02:00:00+01:00         64.48     26796.0             4062.0   \n",
       "2015-01-01 03:00:00+01:00         59.32     25223.0             3937.0   \n",
       "2015-01-01 04:00:00+01:00         56.04     24620.0             4356.0   \n",
       "...                                 ...         ...                ...   \n",
       "2018-12-31 19:00:00+01:00         77.02     26415.0            -4238.0   \n",
       "2018-12-31 20:00:00+01:00         76.16     25213.0            -4522.0   \n",
       "2018-12-31 21:00:00+01:00         74.30     23987.0            -4084.0   \n",
       "2018-12-31 22:00:00+01:00         69.89     22748.0            -3053.0   \n",
       "2018-12-31 23:00:00+01:00         69.88     22605.0            -1850.0   \n",
       "\n",
       "                           energy_stored  month  day  weekend  hour  \n",
       "2015-01-01 00:00:00+01:00         2866.0      1    1        0     0  \n",
       "2015-01-01 01:00:00+01:00         6302.0      1    1        0     1  \n",
       "2015-01-01 02:00:00+01:00        10364.0      1    1        0     2  \n",
       "2015-01-01 03:00:00+01:00        14301.0      1    1        0     3  \n",
       "2015-01-01 04:00:00+01:00        18657.0      1    1        0     4  \n",
       "...                                  ...    ...  ...      ...   ...  \n",
       "2018-12-31 19:00:00+01:00     -2062312.5     12   31        0    19  \n",
       "2018-12-31 20:00:00+01:00     -2066834.5     12   31        0    20  \n",
       "2018-12-31 21:00:00+01:00     -2070918.5     12   31        0    21  \n",
       "2018-12-31 22:00:00+01:00     -2073971.5     12   31        0    22  \n",
       "2018-12-31 23:00:00+01:00     -2075821.5     12   31        0    23  \n",
       "\n",
       "[35064 rows x 28 columns]"
      ]
     },
     "execution_count": 7,
     "metadata": {},
     "output_type": "execute_result"
    }
   ],
   "source": [
    "base_df"
   ]
  },
  {
   "cell_type": "code",
   "execution_count": 8,
   "metadata": {},
   "outputs": [],
   "source": [
    "base_df['price actual'] = savgol_filter(base_df['price actual'],7,4)"
   ]
  },
  {
   "cell_type": "code",
   "execution_count": 9,
   "metadata": {},
   "outputs": [
    {
     "name": "stdout",
     "output_type": "stream",
     "text": [
      "2015-01-01 01:30:00+01:00\n"
     ]
    }
   ],
   "source": [
    "resample_df = base_df.copy(deep=True)\n",
    "resample_df = resample_df.resample('30min').asfreq().interpolate('cubic')\n",
    "resample_df.index.inferred_freq\n",
    "\n",
    "print(resample_df.index[0] + pd.Timedelta(resample_df.index.inferred_freq*3))"
   ]
  },
  {
   "cell_type": "code",
   "execution_count": 10,
   "metadata": {},
   "outputs": [],
   "source": [
    "diff_df = apply_differencing(resample_df,['month','day','weekend','hour'])\n",
    "diff_df.index = diff_df.index.tz_convert('utc')"
   ]
  },
  {
   "cell_type": "code",
   "execution_count": 11,
   "metadata": {},
   "outputs": [
    {
     "data": {
      "text/html": [
       "<div>\n",
       "<style scoped>\n",
       "    .dataframe tbody tr th:only-of-type {\n",
       "        vertical-align: middle;\n",
       "    }\n",
       "\n",
       "    .dataframe tbody tr th {\n",
       "        vertical-align: top;\n",
       "    }\n",
       "\n",
       "    .dataframe thead th {\n",
       "        text-align: right;\n",
       "    }\n",
       "</style>\n",
       "<table border=\"1\" class=\"dataframe\">\n",
       "  <thead>\n",
       "    <tr style=\"text-align: right;\">\n",
       "      <th></th>\n",
       "      <th>temp</th>\n",
       "      <th>pressure</th>\n",
       "      <th>humidity</th>\n",
       "      <th>wind_speed</th>\n",
       "      <th>wind_deg</th>\n",
       "      <th>generation biomass</th>\n",
       "      <th>generation fossil brown coal/lignite</th>\n",
       "      <th>generation fossil gas</th>\n",
       "      <th>generation fossil hard coal</th>\n",
       "      <th>generation fossil oil</th>\n",
       "      <th>...</th>\n",
       "      <th>generation wind onshore</th>\n",
       "      <th>total load actual</th>\n",
       "      <th>price actual</th>\n",
       "      <th>generation</th>\n",
       "      <th>energy_difference</th>\n",
       "      <th>energy_stored</th>\n",
       "      <th>month</th>\n",
       "      <th>day</th>\n",
       "      <th>weekend</th>\n",
       "      <th>hour</th>\n",
       "    </tr>\n",
       "  </thead>\n",
       "  <tbody>\n",
       "    <tr>\n",
       "      <th>2014-12-31 23:30:00+00:00</th>\n",
       "      <td>0.245250</td>\n",
       "      <td>-0.286606</td>\n",
       "      <td>-0.368813</td>\n",
       "      <td>0.323198</td>\n",
       "      <td>14.612551</td>\n",
       "      <td>0.641915</td>\n",
       "      <td>-5.752631e+00</td>\n",
       "      <td>287.446012</td>\n",
       "      <td>-42.721115</td>\n",
       "      <td>-1.997218</td>\n",
       "      <td>...</td>\n",
       "      <td>-233.592903</td>\n",
       "      <td>-357.002406</td>\n",
       "      <td>0.595206</td>\n",
       "      <td>-176.312041</td>\n",
       "      <td>180.690364</td>\n",
       "      <td>1566.504310</td>\n",
       "      <td>1.0</td>\n",
       "      <td>1.0</td>\n",
       "      <td>-2.331020e-27</td>\n",
       "      <td>0.5</td>\n",
       "    </tr>\n",
       "    <tr>\n",
       "      <th>2015-01-01 00:00:00+00:00</th>\n",
       "      <td>-0.245250</td>\n",
       "      <td>0.286606</td>\n",
       "      <td>0.368813</td>\n",
       "      <td>-0.323198</td>\n",
       "      <td>-14.612551</td>\n",
       "      <td>1.358085</td>\n",
       "      <td>4.752631e+00</td>\n",
       "      <td>64.553988</td>\n",
       "      <td>-23.278885</td>\n",
       "      <td>-2.002782</td>\n",
       "      <td>...</td>\n",
       "      <td>-254.407097</td>\n",
       "      <td>-645.997594</td>\n",
       "      <td>-0.240748</td>\n",
       "      <td>-256.687959</td>\n",
       "      <td>389.309636</td>\n",
       "      <td>1869.495690</td>\n",
       "      <td>1.0</td>\n",
       "      <td>1.0</td>\n",
       "      <td>0.000000e+00</td>\n",
       "      <td>1.0</td>\n",
       "    </tr>\n",
       "    <tr>\n",
       "      <th>2015-01-01 00:30:00+00:00</th>\n",
       "      <td>-0.442500</td>\n",
       "      <td>0.536606</td>\n",
       "      <td>0.618813</td>\n",
       "      <td>-0.573198</td>\n",
       "      <td>-24.362551</td>\n",
       "      <td>0.608085</td>\n",
       "      <td>3.752631e+00</td>\n",
       "      <td>-108.196012</td>\n",
       "      <td>-50.278885</td>\n",
       "      <td>-1.252782</td>\n",
       "      <td>...</td>\n",
       "      <td>-239.657097</td>\n",
       "      <td>-807.247594</td>\n",
       "      <td>-0.881278</td>\n",
       "      <td>-403.937959</td>\n",
       "      <td>403.309636</td>\n",
       "      <td>2025.995690</td>\n",
       "      <td>1.0</td>\n",
       "      <td>1.0</td>\n",
       "      <td>2.331020e-27</td>\n",
       "      <td>1.5</td>\n",
       "    </tr>\n",
       "    <tr>\n",
       "      <th>2015-01-01 01:00:00+00:00</th>\n",
       "      <td>-0.346500</td>\n",
       "      <td>0.463394</td>\n",
       "      <td>0.381187</td>\n",
       "      <td>-0.426802</td>\n",
       "      <td>-14.637449</td>\n",
       "      <td>-1.608085</td>\n",
       "      <td>-8.752631e+00</td>\n",
       "      <td>-230.803988</td>\n",
       "      <td>-123.721115</td>\n",
       "      <td>0.252782</td>\n",
       "      <td>...</td>\n",
       "      <td>-189.342903</td>\n",
       "      <td>-840.752406</td>\n",
       "      <td>-1.326384</td>\n",
       "      <td>-618.062041</td>\n",
       "      <td>222.690364</td>\n",
       "      <td>2036.004310</td>\n",
       "      <td>1.0</td>\n",
       "      <td>1.0</td>\n",
       "      <td>0.000000e+00</td>\n",
       "      <td>2.0</td>\n",
       "    </tr>\n",
       "    <tr>\n",
       "      <th>2015-01-01 01:30:00+00:00</th>\n",
       "      <td>-0.053251</td>\n",
       "      <td>0.140181</td>\n",
       "      <td>-0.106438</td>\n",
       "      <td>-0.030405</td>\n",
       "      <td>4.837653</td>\n",
       "      <td>-4.574256</td>\n",
       "      <td>-2.875789e+01</td>\n",
       "      <td>-292.536965</td>\n",
       "      <td>-218.163345</td>\n",
       "      <td>1.883345</td>\n",
       "      <td>...</td>\n",
       "      <td>-120.653710</td>\n",
       "      <td>-768.632217</td>\n",
       "      <td>-1.611529</td>\n",
       "      <td>-827.436123</td>\n",
       "      <td>-58.803907</td>\n",
       "      <td>1952.137930</td>\n",
       "      <td>1.0</td>\n",
       "      <td>1.0</td>\n",
       "      <td>-6.993059e-27</td>\n",
       "      <td>2.5</td>\n",
       "    </tr>\n",
       "    <tr>\n",
       "      <th>...</th>\n",
       "      <td>...</td>\n",
       "      <td>...</td>\n",
       "      <td>...</td>\n",
       "      <td>...</td>\n",
       "      <td>...</td>\n",
       "      <td>...</td>\n",
       "      <td>...</td>\n",
       "      <td>...</td>\n",
       "      <td>...</td>\n",
       "      <td>...</td>\n",
       "      <td>...</td>\n",
       "      <td>...</td>\n",
       "      <td>...</td>\n",
       "      <td>...</td>\n",
       "      <td>...</td>\n",
       "      <td>...</td>\n",
       "      <td>...</td>\n",
       "      <td>...</td>\n",
       "      <td>...</td>\n",
       "      <td>...</td>\n",
       "      <td>...</td>\n",
       "    </tr>\n",
       "    <tr>\n",
       "      <th>2018-12-31 20:00:00+00:00</th>\n",
       "      <td>-0.682128</td>\n",
       "      <td>-0.102528</td>\n",
       "      <td>4.613087</td>\n",
       "      <td>1.003690</td>\n",
       "      <td>20.024939</td>\n",
       "      <td>-1.664243</td>\n",
       "      <td>-3.769573e-38</td>\n",
       "      <td>-116.644257</td>\n",
       "      <td>-75.568388</td>\n",
       "      <td>-3.076761</td>\n",
       "      <td>...</td>\n",
       "      <td>99.450219</td>\n",
       "      <td>-919.411288</td>\n",
       "      <td>-1.597281</td>\n",
       "      <td>-589.321198</td>\n",
       "      <td>330.090090</td>\n",
       "      <td>-1938.305299</td>\n",
       "      <td>12.0</td>\n",
       "      <td>31.0</td>\n",
       "      <td>0.000000e+00</td>\n",
       "      <td>21.0</td>\n",
       "    </tr>\n",
       "    <tr>\n",
       "      <th>2018-12-31 20:30:00+00:00</th>\n",
       "      <td>-0.757376</td>\n",
       "      <td>-0.034176</td>\n",
       "      <td>1.371029</td>\n",
       "      <td>-0.165437</td>\n",
       "      <td>8.841646</td>\n",
       "      <td>0.153586</td>\n",
       "      <td>-1.256524e-38</td>\n",
       "      <td>-237.964752</td>\n",
       "      <td>-67.647796</td>\n",
       "      <td>-2.858920</td>\n",
       "      <td>...</td>\n",
       "      <td>56.066740</td>\n",
       "      <td>-1126.887096</td>\n",
       "      <td>-1.620170</td>\n",
       "      <td>-655.648733</td>\n",
       "      <td>471.238363</td>\n",
       "      <td>-1670.935100</td>\n",
       "      <td>12.0</td>\n",
       "      <td>31.0</td>\n",
       "      <td>1.242473e-13</td>\n",
       "      <td>21.5</td>\n",
       "    </tr>\n",
       "    <tr>\n",
       "      <th>2018-12-31 21:00:00+00:00</th>\n",
       "      <td>-0.762624</td>\n",
       "      <td>0.034176</td>\n",
       "      <td>-1.371029</td>\n",
       "      <td>-0.834563</td>\n",
       "      <td>1.158354</td>\n",
       "      <td>0.846414</td>\n",
       "      <td>1.256524e-38</td>\n",
       "      <td>-225.035248</td>\n",
       "      <td>-61.352204</td>\n",
       "      <td>-2.141080</td>\n",
       "      <td>...</td>\n",
       "      <td>26.933260</td>\n",
       "      <td>-1143.112904</td>\n",
       "      <td>-1.350674</td>\n",
       "      <td>-583.351267</td>\n",
       "      <td>559.761637</td>\n",
       "      <td>-1382.064900</td>\n",
       "      <td>12.0</td>\n",
       "      <td>31.0</td>\n",
       "      <td>0.000000e+00</td>\n",
       "      <td>22.0</td>\n",
       "    </tr>\n",
       "    <tr>\n",
       "      <th>2018-12-31 21:30:00+00:00</th>\n",
       "      <td>-0.632624</td>\n",
       "      <td>0.034176</td>\n",
       "      <td>-2.871029</td>\n",
       "      <td>-0.584563</td>\n",
       "      <td>-3.841646</td>\n",
       "      <td>-0.153586</td>\n",
       "      <td>1.256524e-38</td>\n",
       "      <td>-18.285248</td>\n",
       "      <td>-60.852204</td>\n",
       "      <td>-0.891080</td>\n",
       "      <td>...</td>\n",
       "      <td>22.433260</td>\n",
       "      <td>-912.112904</td>\n",
       "      <td>-0.802000</td>\n",
       "      <td>-309.351267</td>\n",
       "      <td>602.761637</td>\n",
       "      <td>-1081.314900</td>\n",
       "      <td>12.0</td>\n",
       "      <td>31.0</td>\n",
       "      <td>-1.242473e-13</td>\n",
       "      <td>22.5</td>\n",
       "    </tr>\n",
       "    <tr>\n",
       "      <th>2018-12-31 22:00:00+00:00</th>\n",
       "      <td>-0.367376</td>\n",
       "      <td>-0.034176</td>\n",
       "      <td>-3.128971</td>\n",
       "      <td>0.584563</td>\n",
       "      <td>-6.158354</td>\n",
       "      <td>-2.846414</td>\n",
       "      <td>-1.256524e-38</td>\n",
       "      <td>382.285248</td>\n",
       "      <td>-66.147796</td>\n",
       "      <td>0.891080</td>\n",
       "      <td>...</td>\n",
       "      <td>42.566740</td>\n",
       "      <td>-433.887096</td>\n",
       "      <td>0.025852</td>\n",
       "      <td>166.351267</td>\n",
       "      <td>600.238363</td>\n",
       "      <td>-768.685100</td>\n",
       "      <td>12.0</td>\n",
       "      <td>31.0</td>\n",
       "      <td>0.000000e+00</td>\n",
       "      <td>23.0</td>\n",
       "    </tr>\n",
       "  </tbody>\n",
       "</table>\n",
       "<p>70126 rows × 28 columns</p>\n",
       "</div>"
      ],
      "text/plain": [
       "                               temp  pressure  humidity  wind_speed  \\\n",
       "2014-12-31 23:30:00+00:00  0.245250 -0.286606 -0.368813    0.323198   \n",
       "2015-01-01 00:00:00+00:00 -0.245250  0.286606  0.368813   -0.323198   \n",
       "2015-01-01 00:30:00+00:00 -0.442500  0.536606  0.618813   -0.573198   \n",
       "2015-01-01 01:00:00+00:00 -0.346500  0.463394  0.381187   -0.426802   \n",
       "2015-01-01 01:30:00+00:00 -0.053251  0.140181 -0.106438   -0.030405   \n",
       "...                             ...       ...       ...         ...   \n",
       "2018-12-31 20:00:00+00:00 -0.682128 -0.102528  4.613087    1.003690   \n",
       "2018-12-31 20:30:00+00:00 -0.757376 -0.034176  1.371029   -0.165437   \n",
       "2018-12-31 21:00:00+00:00 -0.762624  0.034176 -1.371029   -0.834563   \n",
       "2018-12-31 21:30:00+00:00 -0.632624  0.034176 -2.871029   -0.584563   \n",
       "2018-12-31 22:00:00+00:00 -0.367376 -0.034176 -3.128971    0.584563   \n",
       "\n",
       "                            wind_deg  generation biomass  \\\n",
       "2014-12-31 23:30:00+00:00  14.612551            0.641915   \n",
       "2015-01-01 00:00:00+00:00 -14.612551            1.358085   \n",
       "2015-01-01 00:30:00+00:00 -24.362551            0.608085   \n",
       "2015-01-01 01:00:00+00:00 -14.637449           -1.608085   \n",
       "2015-01-01 01:30:00+00:00   4.837653           -4.574256   \n",
       "...                              ...                 ...   \n",
       "2018-12-31 20:00:00+00:00  20.024939           -1.664243   \n",
       "2018-12-31 20:30:00+00:00   8.841646            0.153586   \n",
       "2018-12-31 21:00:00+00:00   1.158354            0.846414   \n",
       "2018-12-31 21:30:00+00:00  -3.841646           -0.153586   \n",
       "2018-12-31 22:00:00+00:00  -6.158354           -2.846414   \n",
       "\n",
       "                           generation fossil brown coal/lignite  \\\n",
       "2014-12-31 23:30:00+00:00                         -5.752631e+00   \n",
       "2015-01-01 00:00:00+00:00                          4.752631e+00   \n",
       "2015-01-01 00:30:00+00:00                          3.752631e+00   \n",
       "2015-01-01 01:00:00+00:00                         -8.752631e+00   \n",
       "2015-01-01 01:30:00+00:00                         -2.875789e+01   \n",
       "...                                                         ...   \n",
       "2018-12-31 20:00:00+00:00                         -3.769573e-38   \n",
       "2018-12-31 20:30:00+00:00                         -1.256524e-38   \n",
       "2018-12-31 21:00:00+00:00                          1.256524e-38   \n",
       "2018-12-31 21:30:00+00:00                          1.256524e-38   \n",
       "2018-12-31 22:00:00+00:00                         -1.256524e-38   \n",
       "\n",
       "                           generation fossil gas  generation fossil hard coal  \\\n",
       "2014-12-31 23:30:00+00:00             287.446012                   -42.721115   \n",
       "2015-01-01 00:00:00+00:00              64.553988                   -23.278885   \n",
       "2015-01-01 00:30:00+00:00            -108.196012                   -50.278885   \n",
       "2015-01-01 01:00:00+00:00            -230.803988                  -123.721115   \n",
       "2015-01-01 01:30:00+00:00            -292.536965                  -218.163345   \n",
       "...                                          ...                          ...   \n",
       "2018-12-31 20:00:00+00:00            -116.644257                   -75.568388   \n",
       "2018-12-31 20:30:00+00:00            -237.964752                   -67.647796   \n",
       "2018-12-31 21:00:00+00:00            -225.035248                   -61.352204   \n",
       "2018-12-31 21:30:00+00:00             -18.285248                   -60.852204   \n",
       "2018-12-31 22:00:00+00:00             382.285248                   -66.147796   \n",
       "\n",
       "                           generation fossil oil  ...  \\\n",
       "2014-12-31 23:30:00+00:00              -1.997218  ...   \n",
       "2015-01-01 00:00:00+00:00              -2.002782  ...   \n",
       "2015-01-01 00:30:00+00:00              -1.252782  ...   \n",
       "2015-01-01 01:00:00+00:00               0.252782  ...   \n",
       "2015-01-01 01:30:00+00:00               1.883345  ...   \n",
       "...                                          ...  ...   \n",
       "2018-12-31 20:00:00+00:00              -3.076761  ...   \n",
       "2018-12-31 20:30:00+00:00              -2.858920  ...   \n",
       "2018-12-31 21:00:00+00:00              -2.141080  ...   \n",
       "2018-12-31 21:30:00+00:00              -0.891080  ...   \n",
       "2018-12-31 22:00:00+00:00               0.891080  ...   \n",
       "\n",
       "                           generation wind onshore  total load actual  \\\n",
       "2014-12-31 23:30:00+00:00              -233.592903        -357.002406   \n",
       "2015-01-01 00:00:00+00:00              -254.407097        -645.997594   \n",
       "2015-01-01 00:30:00+00:00              -239.657097        -807.247594   \n",
       "2015-01-01 01:00:00+00:00              -189.342903        -840.752406   \n",
       "2015-01-01 01:30:00+00:00              -120.653710        -768.632217   \n",
       "...                                            ...                ...   \n",
       "2018-12-31 20:00:00+00:00                99.450219        -919.411288   \n",
       "2018-12-31 20:30:00+00:00                56.066740       -1126.887096   \n",
       "2018-12-31 21:00:00+00:00                26.933260       -1143.112904   \n",
       "2018-12-31 21:30:00+00:00                22.433260        -912.112904   \n",
       "2018-12-31 22:00:00+00:00                42.566740        -433.887096   \n",
       "\n",
       "                           price actual  generation  energy_difference  \\\n",
       "2014-12-31 23:30:00+00:00      0.595206 -176.312041         180.690364   \n",
       "2015-01-01 00:00:00+00:00     -0.240748 -256.687959         389.309636   \n",
       "2015-01-01 00:30:00+00:00     -0.881278 -403.937959         403.309636   \n",
       "2015-01-01 01:00:00+00:00     -1.326384 -618.062041         222.690364   \n",
       "2015-01-01 01:30:00+00:00     -1.611529 -827.436123         -58.803907   \n",
       "...                                 ...         ...                ...   \n",
       "2018-12-31 20:00:00+00:00     -1.597281 -589.321198         330.090090   \n",
       "2018-12-31 20:30:00+00:00     -1.620170 -655.648733         471.238363   \n",
       "2018-12-31 21:00:00+00:00     -1.350674 -583.351267         559.761637   \n",
       "2018-12-31 21:30:00+00:00     -0.802000 -309.351267         602.761637   \n",
       "2018-12-31 22:00:00+00:00      0.025852  166.351267         600.238363   \n",
       "\n",
       "                           energy_stored  month   day       weekend  hour  \n",
       "2014-12-31 23:30:00+00:00    1566.504310    1.0   1.0 -2.331020e-27   0.5  \n",
       "2015-01-01 00:00:00+00:00    1869.495690    1.0   1.0  0.000000e+00   1.0  \n",
       "2015-01-01 00:30:00+00:00    2025.995690    1.0   1.0  2.331020e-27   1.5  \n",
       "2015-01-01 01:00:00+00:00    2036.004310    1.0   1.0  0.000000e+00   2.0  \n",
       "2015-01-01 01:30:00+00:00    1952.137930    1.0   1.0 -6.993059e-27   2.5  \n",
       "...                                  ...    ...   ...           ...   ...  \n",
       "2018-12-31 20:00:00+00:00   -1938.305299   12.0  31.0  0.000000e+00  21.0  \n",
       "2018-12-31 20:30:00+00:00   -1670.935100   12.0  31.0  1.242473e-13  21.5  \n",
       "2018-12-31 21:00:00+00:00   -1382.064900   12.0  31.0  0.000000e+00  22.0  \n",
       "2018-12-31 21:30:00+00:00   -1081.314900   12.0  31.0 -1.242473e-13  22.5  \n",
       "2018-12-31 22:00:00+00:00    -768.685100   12.0  31.0  0.000000e+00  23.0  \n",
       "\n",
       "[70126 rows x 28 columns]"
      ]
     },
     "execution_count": 11,
     "metadata": {},
     "output_type": "execute_result"
    }
   ],
   "source": [
    "diff_df"
   ]
  },
  {
   "cell_type": "markdown",
   "metadata": {},
   "source": [
    "# Encode- Decoder + LSTM"
   ]
  },
  {
   "cell_type": "markdown",
   "metadata": {},
   "source": [
    "Scale the input data"
   ]
  },
  {
   "cell_type": "code",
   "execution_count": 12,
   "metadata": {},
   "outputs": [],
   "source": [
    "scaled_df = diff_df.copy(deep=True)\n",
    "featuresToScale = scaled_df.columns\n",
    "sX = pp.MinMaxScaler(feature_range=(-1,1),copy=True)\n",
    "scaled_df.loc[:,featuresToScale] = sX.fit_transform(scaled_df[featuresToScale])"
   ]
  },
  {
   "cell_type": "markdown",
   "metadata": {},
   "source": [
    "Create Train Validation Test Split"
   ]
  },
  {
   "cell_type": "code",
   "execution_count": 13,
   "metadata": {},
   "outputs": [],
   "source": [
    "train_start = '2015-01-01'\n",
    "validation_start = '2018-11-01'\n",
    "test_start = '2018-12-01'\n",
    "test_end = '2018-12-19'\n",
    "feature = 'price actual'\n",
    "namespace= 'MS_EDLSTM_Price12'\n",
    "modeltype = 'EDLSTM'\n",
    "feature_df = diff_df[[feature]]\n",
    "data_x_train0,data_x_val0,data_x_test0,data_y_train0,data_y_val0,data_y_test0 = create_test_train_split(scaled_df,feature_df,train_start,test_start,test_end,validation_start=validation_start)"
   ]
  },
  {
   "cell_type": "markdown",
   "metadata": {},
   "source": [
    "Convert to (sample,timestep,feature) format"
   ]
  },
  {
   "cell_type": "code",
   "execution_count": 14,
   "metadata": {},
   "outputs": [],
   "source": [
    "data_x_train,data_y_train,idx_train = convert_to_sample_time_feature(data_x_train0,data_y_train0,24*14*2,24*2,32)\n",
    "data_x_test,data_y_test,idx_test = convert_to_sample_time_feature(data_x_test0,data_y_test0,24*14*2,24*2,32)\n",
    "data_x_val,data_y_val,idx_val = convert_to_sample_time_feature(data_x_val0,data_y_val0,24*14*2,24*2,32)\n"
   ]
  },
  {
   "cell_type": "code",
   "execution_count": 15,
   "metadata": {},
   "outputs": [
    {
     "name": "stdout",
     "output_type": "stream",
     "text": [
      "(33216, 672, 28) (33216, 48)\n",
      "(336, 672, 28) (336, 48)\n",
      "(48, 672, 28) (48, 48)\n"
     ]
    }
   ],
   "source": [
    "print(data_x_train.shape,data_y_train.shape)\n",
    "print(data_x_val.shape,data_y_val.shape)\n",
    "print(data_x_test.shape,data_y_test.shape)"
   ]
  },
  {
   "cell_type": "markdown",
   "metadata": {},
   "source": [
    "Define LSTM Model"
   ]
  },
  {
   "cell_type": "code",
   "execution_count": 16,
   "metadata": {},
   "outputs": [],
   "source": [
    "def build_model_ED_LSTM():\n",
    "    n_timesteps, n_features, n_outputs = data_x_train.shape[1], data_x_train.shape[2], data_y_train.shape[1]\n",
    "    model = models.Sequential()\n",
    "    # Encoder\n",
    "    model.add(layers.LSTM(64, return_sequences=True,input_shape=(None, n_features), stateful=False)) \n",
    "    model.add(layers.BatchNormalization())\n",
    "    \n",
    "    model.add(layers.LSTM(64, return_sequences=False, stateful=False)) \n",
    "    model.add(layers.BatchNormalization())  \n",
    "    \n",
    "    # Repeat Vector\n",
    "    model.add(layers.RepeatVector(n_outputs))\n",
    "    \n",
    "    # Decoder\n",
    "    model.add(layers.LSTM(64, return_sequences=True,stateful=False))\n",
    "    model.add(layers.BatchNormalization())\n",
    "        \n",
    "    model.add(layers.LSTM(64, return_sequences=True,stateful=False))\n",
    "    model.add(layers.BatchNormalization())\n",
    "\n",
    "    # End\n",
    "    model.add(layers.TimeDistributed(layers.Dense(64, kernel_regularizer=regularizers.l2(0.001), kernel_initializer=\"he_normal\")))\n",
    "    model.add(layers.TimeDistributed(layers.Dense(64, kernel_regularizer=regularizers.l2(0.001), kernel_initializer=\"he_normal\")))\n",
    "    \n",
    "    model.add(layers.TimeDistributed(layers.LeakyReLU(alpha=0.2)))                     \n",
    "    model.add(layers.TimeDistributed(layers.BatchNormalization()))\n",
    "    model.add(layers.TimeDistributed(layers.Dense(1)))                     \n",
    "                \n",
    "    model.compile(optimizer='Adam',loss='mse',metrics='mae') \n",
    "    return model"
   ]
  },
  {
   "cell_type": "code",
   "execution_count": 17,
   "metadata": {},
   "outputs": [],
   "source": [
    "myCheckpointLSTM= keras.callbacks.ModelCheckpoint(f\"./{modeltype}/my_best_model_{namespace}.h5\", save_best_only=True)\n",
    "myEarly_stoppingLSTM = keras.callbacks.EarlyStopping(patience=20,restore_best_weights=True)"
   ]
  },
  {
   "cell_type": "code",
   "execution_count": 18,
   "metadata": {},
   "outputs": [],
   "source": [
    "initial_learning_rate = 0.005\n",
    "num_epochs =100 \n",
    "decay = initial_learning_rate/num_epochs\n",
    "\n",
    "def scheduler(epoch,lr):\n",
    "    return lr*1/(1+decay*epoch)\n",
    "\n",
    "myLearningRate_LSTM = keras.callbacks.LearningRateScheduler(scheduler, verbose=1)\n"
   ]
  },
  {
   "cell_type": "code",
   "execution_count": 19,
   "metadata": {},
   "outputs": [
    {
     "data": {
      "text/plain": [
       "[1, 3, 5, 7, 9]"
      ]
     },
     "execution_count": 19,
     "metadata": {},
     "output_type": "execute_result"
    }
   ],
   "source": [
    "liste=[1,2,3,4,5,6,7,8,9]\n",
    "liste[::2]"
   ]
  },
  {
   "cell_type": "code",
   "execution_count": 20,
   "metadata": {},
   "outputs": [],
   "source": [
    "batch_size = 64"
   ]
  },
  {
   "cell_type": "code",
   "execution_count": 21,
   "metadata": {},
   "outputs": [
    {
     "name": "stdout",
     "output_type": "stream",
     "text": [
      "Epoch 1/100\n",
      "\n",
      "Epoch 00001: LearningRateScheduler setting learning rate to 0.0010000000474974513.\n",
      "519/519 [==============================] - 45s 77ms/step - loss: 2.7313 - mae: 1.1440 - val_loss: 1.5965 - val_mae: 0.9137\n",
      "Epoch 2/100\n",
      "\n",
      "Epoch 00002: LearningRateScheduler setting learning rate to 0.0009999500499949514.\n",
      "519/519 [==============================] - 38s 74ms/step - loss: 1.8018 - mae: 0.9182 - val_loss: 1.1529 - val_mae: 0.7638\n",
      "Epoch 3/100\n",
      "\n",
      "Epoch 00003: LearningRateScheduler setting learning rate to 0.0009998501203123563.\n",
      "519/519 [==============================] - 40s 77ms/step - loss: 1.4637 - mae: 0.8282 - val_loss: 0.9039 - val_mae: 0.6804\n",
      "Epoch 4/100\n",
      "\n",
      "Epoch 00004: LearningRateScheduler setting learning rate to 0.000999700149540507.\n",
      "519/519 [==============================] - 39s 74ms/step - loss: 1.3057 - mae: 0.7851 - val_loss: 0.8688 - val_mae: 0.6680\n",
      "Epoch 5/100\n",
      "\n",
      "Epoch 00005: LearningRateScheduler setting learning rate to 0.00099950026157611.\n",
      "519/519 [==============================] - 39s 76ms/step - loss: 1.1867 - mae: 0.7539 - val_loss: 0.7897 - val_mae: 0.6510\n",
      "Epoch 6/100\n",
      "\n",
      "Epoch 00006: LearningRateScheduler setting learning rate to 0.000999250463904872.\n",
      "519/519 [==============================] - 39s 75ms/step - loss: 1.1093 - mae: 0.7354 - val_loss: 0.8049 - val_mae: 0.6532\n",
      "Epoch 7/100\n",
      "\n",
      "Epoch 00007: LearningRateScheduler setting learning rate to 0.0009989507640110044.\n",
      "519/519 [==============================] - 40s 77ms/step - loss: 1.0473 - mae: 0.7192 - val_loss: 0.7228 - val_mae: 0.6255\n",
      "Epoch 8/100\n",
      "\n",
      "Epoch 00008: LearningRateScheduler setting learning rate to 0.000998601285751812.\n",
      "519/519 [==============================] - 38s 73ms/step - loss: 1.0072 - mae: 0.7095 - val_loss: 0.7168 - val_mae: 0.6306\n",
      "Epoch 9/100\n",
      "\n",
      "Epoch 00009: LearningRateScheduler setting learning rate to 0.0009982020365910643.\n",
      "519/519 [==============================] - 39s 74ms/step - loss: 0.9592 - mae: 0.6959 - val_loss: 0.7077 - val_mae: 0.6264\n",
      "Epoch 10/100\n",
      "\n",
      "Epoch 00010: LearningRateScheduler setting learning rate to 0.0009977530239910382.\n",
      "519/519 [==============================] - 39s 75ms/step - loss: 0.9331 - mae: 0.6892 - val_loss: 0.6921 - val_mae: 0.6413\n",
      "Epoch 11/100\n",
      "\n",
      "Epoch 00011: LearningRateScheduler setting learning rate to 0.000997254371769663.\n",
      "519/519 [==============================] - 39s 74ms/step - loss: 0.8920 - mae: 0.6770 - val_loss: 0.6527 - val_mae: 0.6162\n",
      "Epoch 12/100\n",
      "\n",
      "Epoch 00012: LearningRateScheduler setting learning rate to 0.000996706203720117.\n",
      "519/519 [==============================] - 38s 73ms/step - loss: 0.8755 - mae: 0.6725 - val_loss: 0.6987 - val_mae: 0.6378\n",
      "Epoch 13/100\n",
      "\n",
      "Epoch 00013: LearningRateScheduler setting learning rate to 0.000996108527265321.\n",
      "519/519 [==============================] - 41s 79ms/step - loss: 0.8484 - mae: 0.6646 - val_loss: 0.6519 - val_mae: 0.6100\n",
      "Epoch 14/100\n",
      "\n",
      "Epoch 00014: LearningRateScheduler setting learning rate to 0.0009954614661664123.\n",
      "519/519 [==============================] - 41s 79ms/step - loss: 0.8308 - mae: 0.6597 - val_loss: 0.6432 - val_mae: 0.6087\n",
      "Epoch 15/100\n",
      "\n",
      "Epoch 00015: LearningRateScheduler setting learning rate to 0.0009947651441597947.\n",
      "519/519 [==============================] - 40s 77ms/step - loss: 0.8047 - mae: 0.6510 - val_loss: 0.6982 - val_mae: 0.6441\n",
      "Epoch 16/100\n",
      "\n",
      "Epoch 00016: LearningRateScheduler setting learning rate to 0.0009940196849571416.\n",
      "519/519 [==============================] - 40s 77ms/step - loss: 0.7965 - mae: 0.6485 - val_loss: 0.8255 - val_mae: 0.6933\n",
      "Epoch 17/100\n",
      "\n",
      "Epoch 00017: LearningRateScheduler setting learning rate to 0.0009932250959231413.\n",
      "519/519 [==============================] - 42s 80ms/step - loss: 0.7625 - mae: 0.6364 - val_loss: 0.6191 - val_mae: 0.6012\n",
      "Epoch 18/100\n",
      "\n",
      "Epoch 00018: LearningRateScheduler setting learning rate to 0.0009923816170539152.\n",
      "519/519 [==============================] - 40s 77ms/step - loss: 0.7684 - mae: 0.6395 - val_loss: 0.5949 - val_mae: 0.5935\n",
      "Epoch 19/100\n",
      "\n",
      "Epoch 00019: LearningRateScheduler setting learning rate to 0.0009914892556763444.\n",
      "519/519 [==============================] - 38s 74ms/step - loss: 0.7302 - mae: 0.6251 - val_loss: 0.7094 - val_mae: 0.6501\n",
      "Epoch 20/100\n",
      "\n",
      "Epoch 00020: LearningRateScheduler setting learning rate to 0.0009905482517255104.\n",
      "519/519 [==============================] - 38s 73ms/step - loss: 0.7052 - mae: 0.6162 - val_loss: 0.5692 - val_mae: 0.5876\n",
      "Epoch 21/100\n",
      "\n",
      "Epoch 00021: LearningRateScheduler setting learning rate to 0.000989558728789533.\n",
      "519/519 [==============================] - 40s 78ms/step - loss: 0.6854 - mae: 0.6087 - val_loss: 0.5551 - val_mae: 0.5689\n",
      "Epoch 22/100\n",
      "\n",
      "Epoch 00022: LearningRateScheduler setting learning rate to 0.00098852081043184.\n",
      "519/519 [==============================] - 39s 76ms/step - loss: 0.6688 - mae: 0.6025 - val_loss: 0.5762 - val_mae: 0.5800\n",
      "Epoch 23/100\n",
      "\n",
      "Epoch 00023: LearningRateScheduler setting learning rate to 0.0009874346201911742.\n",
      "519/519 [==============================] - 39s 75ms/step - loss: 0.6542 - mae: 0.5967 - val_loss: 0.6540 - val_mae: 0.6033\n",
      "Epoch 24/100\n",
      "\n",
      "Epoch 00024: LearningRateScheduler setting learning rate to 0.0009863003978631967.\n",
      "519/519 [==============================] - 38s 72ms/step - loss: 0.6315 - mae: 0.5870 - val_loss: 0.6179 - val_mae: 0.5990\n",
      "Epoch 25/100\n",
      "\n",
      "Epoch 00025: LearningRateScheduler setting learning rate to 0.0009851182669198754.\n",
      "519/519 [==============================] - 42s 82ms/step - loss: 0.6184 - mae: 0.5821 - val_loss: 0.5474 - val_mae: 0.5675\n",
      "Epoch 26/100\n",
      "\n",
      "Epoch 00026: LearningRateScheduler setting learning rate to 0.0009838883508085164.\n",
      "519/519 [==============================] - 42s 80ms/step - loss: 0.6041 - mae: 0.5759 - val_loss: 0.7180 - val_mae: 0.6480\n",
      "Epoch 27/100\n",
      "\n",
      "Epoch 00027: LearningRateScheduler setting learning rate to 0.0009826110054801229.\n",
      "519/519 [==============================] - 43s 83ms/step - loss: 0.5917 - mae: 0.5710 - val_loss: 0.7139 - val_mae: 0.6289\n",
      "Epoch 28/100\n",
      "\n",
      "Epoch 00028: LearningRateScheduler setting learning rate to 0.000981286238039487.\n",
      "519/519 [==============================] - 42s 82ms/step - loss: 0.5751 - mae: 0.5633 - val_loss: 0.6679 - val_mae: 0.6066\n",
      "Epoch 29/100\n",
      "\n",
      "Epoch 00029: LearningRateScheduler setting learning rate to 0.0009799144043476848.\n",
      "519/519 [==============================] - 43s 82ms/step - loss: 0.5561 - mae: 0.5552 - val_loss: 0.5897 - val_mae: 0.5851\n",
      "Epoch 30/100\n",
      "\n",
      "Epoch 00030: LearningRateScheduler setting learning rate to 0.0009784956277011962.\n",
      "519/519 [==============================] - 42s 82ms/step - loss: 0.5486 - mae: 0.5511 - val_loss: 0.5855 - val_mae: 0.5792\n",
      "Epoch 31/100\n",
      "\n",
      "Epoch 00031: LearningRateScheduler setting learning rate to 0.0009770300313718784.\n",
      "519/519 [==============================] - 43s 83ms/step - loss: 0.5374 - mae: 0.5460 - val_loss: 0.5842 - val_mae: 0.5700\n",
      "Epoch 32/100\n",
      "\n",
      "Epoch 00032: LearningRateScheduler setting learning rate to 0.0009755179710772872.\n",
      "519/519 [==============================] - 43s 82ms/step - loss: 0.5244 - mae: 0.5402 - val_loss: 0.5840 - val_mae: 0.5777\n",
      "Epoch 33/100\n",
      "\n",
      "Epoch 00033: LearningRateScheduler setting learning rate to 0.0009739596281199159.\n",
      "519/519 [==============================] - 43s 83ms/step - loss: 0.5171 - mae: 0.5366 - val_loss: 0.5534 - val_mae: 0.5550\n",
      "Epoch 34/100\n",
      "\n",
      "Epoch 00034: LearningRateScheduler setting learning rate to 0.0009723552418778341.\n",
      "519/519 [==============================] - 43s 83ms/step - loss: 0.5010 - mae: 0.5289 - val_loss: 0.6185 - val_mae: 0.5914\n",
      "Epoch 35/100\n",
      "\n",
      "Epoch 00035: LearningRateScheduler setting learning rate to 0.0009707050516813163.\n",
      "519/519 [==============================] - 43s 82ms/step - loss: 0.4936 - mae: 0.5254 - val_loss: 0.6423 - val_mae: 0.5995\n",
      "Epoch 36/100\n",
      "\n",
      "Epoch 00036: LearningRateScheduler setting learning rate to 0.0009690092968128554.\n",
      "519/519 [==============================] - 42s 82ms/step - loss: 0.4812 - mae: 0.5196 - val_loss: 0.7623 - val_mae: 0.6568\n",
      "Epoch 37/100\n",
      "\n",
      "Epoch 00037: LearningRateScheduler setting learning rate to 0.0009672682165071728.\n",
      "519/519 [==============================] - 42s 81ms/step - loss: 0.4765 - mae: 0.5169 - val_loss: 0.6127 - val_mae: 0.5994\n",
      "Epoch 38/100\n",
      "\n",
      "Epoch 00038: LearningRateScheduler setting learning rate to 0.0009654820499512324.\n",
      "519/519 [==============================] - 42s 82ms/step - loss: 0.4638 - mae: 0.5106 - val_loss: 0.5943 - val_mae: 0.5834\n",
      "Epoch 39/100\n",
      "\n",
      "Epoch 00039: LearningRateScheduler setting learning rate to 0.0009636510943815265.\n",
      "519/519 [==============================] - 42s 81ms/step - loss: 0.4593 - mae: 0.5084 - val_loss: 0.6648 - val_mae: 0.6116\n",
      "Epoch 40/100\n",
      "\n",
      "Epoch 00040: LearningRateScheduler setting learning rate to 0.0009617756469752168.\n",
      "519/519 [==============================] - 42s 82ms/step - loss: 0.4464 - mae: 0.5017 - val_loss: 0.6852 - val_mae: 0.6257\n",
      "Epoch 41/100\n",
      "\n",
      "Epoch 00041: LearningRateScheduler setting learning rate to 0.0009598559467586691.\n",
      "519/519 [==============================] - 43s 82ms/step - loss: 0.4380 - mae: 0.4973 - val_loss: 0.5564 - val_mae: 0.5691\n",
      "Epoch 42/100\n",
      "\n",
      "Epoch 00042: LearningRateScheduler setting learning rate to 0.000957892290799122.\n",
      "519/519 [==============================] - 42s 81ms/step - loss: 0.4304 - mae: 0.4934 - val_loss: 0.5874 - val_mae: 0.5791\n",
      "Epoch 43/100\n",
      "\n",
      "Epoch 00043: LearningRateScheduler setting learning rate to 0.0009558849180188439.\n",
      "519/519 [==============================] - 42s 80ms/step - loss: 0.4288 - mae: 0.4922 - val_loss: 0.6335 - val_mae: 0.6002\n",
      "Epoch 44/100\n",
      "\n",
      "Epoch 00044: LearningRateScheduler setting learning rate to 0.000953834183457987.\n",
      "519/519 [==============================] - 41s 78ms/step - loss: 0.4145 - mae: 0.4851 - val_loss: 0.6395 - val_mae: 0.6013\n",
      "Epoch 45/100\n",
      "\n",
      "Epoch 00045: LearningRateScheduler setting learning rate to 0.000951740325926081.\n",
      "519/519 [==============================] - 43s 82ms/step - loss: 0.4096 - mae: 0.4824 - val_loss: 0.6633 - val_mae: 0.6097\n"
     ]
    }
   ],
   "source": [
    "%%skip $SKIP_RETRAIN_ED_LSTM\n",
    "model_ED_LSTM= build_model_ED_LSTM()\n",
    "history_ED_LSTM = model_ED_LSTM.fit(data_x_train, data_y_train, epochs=num_epochs, batch_size=batch_size, validation_data=(data_x_val, data_y_val) , \n",
    "                                 callbacks=[myCheckpointLSTM,myEarly_stoppingLSTM,myLearningRate_LSTM])#"
   ]
  },
  {
   "cell_type": "code",
   "execution_count": 22,
   "metadata": {
    "colab": {
     "base_uri": "https://localhost:8080/",
     "height": 159
    },
    "id": "0f_FwfmlHyAl",
    "outputId": "080474a2-3f61-42ca-95ef-7bc23f76c853"
   },
   "outputs": [],
   "source": [
    "%%skip $SKIP_RETRAIN_ED_LSTM\n",
    "histEDLSTM = pd.DataFrame(history_ED_LSTM.history)\n",
    "histEDLSTM['epoch'] = history_ED_LSTM.epoch"
   ]
  },
  {
   "cell_type": "code",
   "execution_count": 23,
   "metadata": {
    "colab": {
     "base_uri": "https://localhost:8080/",
     "height": 405
    },
    "id": "d2SviC32HyAr",
    "outputId": "512e600c-f7c8-46cd-9801-7387d6bf4f7f"
   },
   "outputs": [
    {
     "data": {
      "image/png": "[encoded data removed]",
      "text/plain": [
       "<Figure size 576x576 with 1 Axes>"
      ]
     },
     "metadata": {
      "needs_background": "light"
     },
     "output_type": "display_data"
    }
   ],
   "source": [
    "%%skip $SKIP_RETRAIN_ED_LSTM\n",
    "fig = plot_learning_curves(histEDLSTM,modeltype,f\"./{modeltype}/learningcurve_{namespace}.png\")"
   ]
  },
  {
   "cell_type": "markdown",
   "metadata": {},
   "source": [
    "Load best model"
   ]
  },
  {
   "cell_type": "code",
   "execution_count": 24,
   "metadata": {},
   "outputs": [
    {
     "name": "stdout",
     "output_type": "stream",
     "text": [
      "Model: \"sequential\"\n",
      "_________________________________________________________________\n",
      "Layer (type)                 Output Shape              Param #   \n",
      "=================================================================\n",
      "lstm (LSTM)                  (None, None, 64)          23808     \n",
      "_________________________________________________________________\n",
      "batch_normalization (BatchNo (None, None, 64)          256       \n",
      "_________________________________________________________________\n",
      "lstm_1 (LSTM)                (None, 64)                33024     \n",
      "_________________________________________________________________\n",
      "batch_normalization_1 (Batch (None, 64)                256       \n",
      "_________________________________________________________________\n",
      "repeat_vector (RepeatVector) (None, 48, 64)            0         \n",
      "_________________________________________________________________\n",
      "lstm_2 (LSTM)                (None, 48, 64)            33024     \n",
      "_________________________________________________________________\n",
      "batch_normalization_2 (Batch (None, 48, 64)            256       \n",
      "_________________________________________________________________\n",
      "lstm_3 (LSTM)                (None, 48, 64)            33024     \n",
      "_________________________________________________________________\n",
      "batch_normalization_3 (Batch (None, 48, 64)            256       \n",
      "_________________________________________________________________\n",
      "time_distributed (TimeDistri (None, 48, 64)            4160      \n",
      "_________________________________________________________________\n",
      "time_distributed_1 (TimeDist (None, 48, 64)            4160      \n",
      "_________________________________________________________________\n",
      "time_distributed_2 (TimeDist (None, 48, 64)            0         \n",
      "_________________________________________________________________\n",
      "time_distributed_3 (TimeDist (None, 48, 64)            256       \n",
      "_________________________________________________________________\n",
      "time_distributed_4 (TimeDist (None, 48, 1)             65        \n",
      "=================================================================\n",
      "Total params: 132,545\n",
      "Trainable params: 131,905\n",
      "Non-trainable params: 640\n",
      "_________________________________________________________________\n"
     ]
    }
   ],
   "source": [
    "model_best_ED_LSTM = keras.models.load_model(f\"./{modeltype}/my_best_model_{namespace}.h5\")\n",
    "model_best_ED_LSTM.summary()"
   ]
  },
  {
   "cell_type": "markdown",
   "metadata": {},
   "source": [
    "Evaluate differencing Performance"
   ]
  },
  {
   "cell_type": "code",
   "execution_count": 26,
   "metadata": {},
   "outputs": [],
   "source": [
    "i=0\n",
    "case_test = data_x_val[i].reshape((1,data_x_val[0].shape[0], data_x_val[0].shape[1]))\n",
    "Y_test_predictions_diff = pd.Series(model_best_ED_LSTM.predict(case_test).flatten(),index=pd.date_range(start=idx_val[i],freq='30min',periods=24*2))\n",
    "y_test_filtered_diff = data_y_val0.loc[Y_test_predictions_diff.index]\n",
    "y_test_filtered_diff = y_test_filtered_diff.squeeze(axis=1)"
   ]
  },
  {
   "cell_type": "code",
   "execution_count": 27,
   "metadata": {},
   "outputs": [],
   "source": [
    "eval_df_diff = create_eval_df(Y_test_predictions_diff,y_test_filtered_diff)"
   ]
  },
  {
   "cell_type": "code",
   "execution_count": 28,
   "metadata": {
    "colab": {
     "base_uri": "https://localhost:8080/",
     "height": 426
    },
    "id": "5X3Hs_GtHyAs",
    "outputId": "7281486a-4a6c-492c-e48f-37fa6e7d7c25"
   },
   "outputs": [
    {
     "data": {
      "image/png": "[encoded data removed]",
      "text/plain": [
       "<Figure size 576x576 with 1 Axes>"
      ]
     },
     "metadata": {
      "needs_background": "light"
     },
     "output_type": "display_data"
    }
   ],
   "source": [
    "fig = plot_accuracy(eval_df_diff,modeltype,f\"./{modeltype}/diff_accuracy_{namespace}.png\")"
   ]
  },
  {
   "cell_type": "code",
   "execution_count": 29,
   "metadata": {
    "colab": {
     "base_uri": "https://localhost:8080/",
     "height": 422
    },
    "id": "olr-44nOHyAt",
    "outputId": "ac65b698-1f77-4a62-87cf-c99f30d4d246"
   },
   "outputs": [
    {
     "data": {
      "image/png": "[encoded data removed]",
      "text/plain": [
       "<Figure size 576x576 with 1 Axes>"
      ]
     },
     "metadata": {
      "needs_background": "light"
     },
     "output_type": "display_data"
    }
   ],
   "source": [
    "fig = plot_error_variations(eval_df_diff,modeltype,f\"./{modeltype}/diff_error_variations_{namespace}.png\")"
   ]
  },
  {
   "cell_type": "code",
   "execution_count": 30,
   "metadata": {
    "colab": {
     "base_uri": "https://localhost:8080/"
    },
    "id": "-HSnhihhHyAt",
    "outputId": "b45d472e-df1f-4ab2-97ba-6318127d0d9e"
   },
   "outputs": [
    {
     "data": {
      "text/plain": [
       "-4054.1193867790876"
      ]
     },
     "execution_count": 30,
     "metadata": {},
     "output_type": "execute_result"
    }
   ],
   "source": [
    "abs_error_ED_LSTM = abs(Y_test_predictions_diff - y_test_filtered_diff)/y_test_filtered_diff*100\n",
    "np.average(abs_error_ED_LSTM)"
   ]
  },
  {
   "cell_type": "code",
   "execution_count": 31,
   "metadata": {
    "colab": {
     "base_uri": "https://localhost:8080/"
    },
    "id": "-Og3-ec1HyAv",
    "outputId": "f0d3e172-622e-4dd4-a8ec-3f84e320356b"
   },
   "outputs": [
    {
     "name": "stdout",
     "output_type": "stream",
     "text": [
      "R^2 score is  0.65\n"
     ]
    }
   ],
   "source": [
    "r2_test = r2_score(y_test_filtered_diff, Y_test_predictions_diff)\n",
    "print('R^2 score is  %3.2f' %r2_test)"
   ]
  },
  {
   "cell_type": "code",
   "execution_count": 32,
   "metadata": {
    "colab": {
     "base_uri": "https://localhost:8080/",
     "height": 421
    },
    "id": "bUVtrW7kHyAw",
    "outputId": "e4abb863-ccd1-4159-bd9d-7fb1a9711a9f"
   },
   "outputs": [
    {
     "data": {
      "image/png": "[encoded data removed]",
      "text/plain": [
       "<Figure size 1152x576 with 1 Axes>"
      ]
     },
     "metadata": {
      "needs_background": "light"
     },
     "output_type": "display_data"
    }
   ],
   "source": [
    "fig=plot_predictions(eval_df_diff,1,modeltype,feature,f\"./{modeltype}/diff_predictions_{namespace}.png\")"
   ]
  },
  {
   "cell_type": "code",
   "execution_count": 34,
   "metadata": {},
   "outputs": [],
   "source": [
    "\n",
    "def make_multiple_predictions(model,idx_test,data_x_test,base_df,feature,convert=False):\n",
    "    idx_prediction = pd.date_range(start=idx_test[0],freq='30min',periods=len(idx_test)+48)\n",
    "    y_test_filtered = base_df.loc[idx_prediction][feature]\n",
    "    df_pred =pd.DataFrame(index=y_test_filtered.index)\n",
    "        \n",
    "    for i in range(len(data_x_test)):\n",
    "        case_test = data_x_test[i].reshape((1,data_x_test[0].shape[0], data_x_test[0].shape[1]))\n",
    "        date_range = pd.date_range(start=idx_test[i],freq='30min',periods=48)\n",
    "        Y_test_predictions = pd.Series(model.predict(case_test).flatten(),index=date_range)\n",
    "        if convert:\n",
    "            Y_test_predictions = convert_from_differencing(Y_test_predictions,base_df,feature)\n",
    "        df_pred[f'pred_{i}'] = Y_test_predictions\n",
    "        \n",
    "    df_pred['mean'] = df_pred.mean(axis=1)\n",
    "    df_pred['Actual'] = y_test_filtered\n",
    "    return df_pred"
   ]
  },
  {
   "cell_type": "code",
   "execution_count": 35,
   "metadata": {},
   "outputs": [],
   "source": [
    "df_pred_diff = make_multiple_predictions(model_best_ED_LSTM,idx_test,data_x_test,data_y_test0,feature,convert=False)"
   ]
  },
  {
   "cell_type": "code",
   "execution_count": 36,
   "metadata": {},
   "outputs": [],
   "source": [
    "eval_df_diff = create_eval_df(df_pred_diff['mean'],df_pred_diff['Actual'])"
   ]
  },
  {
   "cell_type": "code",
   "execution_count": 37,
   "metadata": {
    "colab": {
     "base_uri": "https://localhost:8080/",
     "height": 426
    },
    "id": "5X3Hs_GtHyAs",
    "outputId": "7281486a-4a6c-492c-e48f-37fa6e7d7c25"
   },
   "outputs": [
    {
     "data": {
      "image/png": "[encoded data removed]",
      "text/plain": [
       "<Figure size 576x576 with 1 Axes>"
      ]
     },
     "metadata": {
      "needs_background": "light"
     },
     "output_type": "display_data"
    }
   ],
   "source": [
    "fig = plot_accuracy(eval_df_diff,modeltype,f\"./{modeltype}/accuracy_diff_{namespace}.png\")"
   ]
  },
  {
   "cell_type": "code",
   "execution_count": 38,
   "metadata": {
    "colab": {
     "base_uri": "https://localhost:8080/",
     "height": 422
    },
    "id": "olr-44nOHyAt",
    "outputId": "ac65b698-1f77-4a62-87cf-c99f30d4d246"
   },
   "outputs": [],
   "source": [
    "# fig = plot_error_variations(eval_df_diff,modeltype,f\"./{modeltype}/error_variations_diff_{namespace}.png\")"
   ]
  },
  {
   "cell_type": "code",
   "execution_count": 39,
   "metadata": {
    "colab": {
     "base_uri": "https://localhost:8080/",
     "height": 421
    },
    "id": "bUVtrW7kHyAw",
    "outputId": "e4abb863-ccd1-4159-bd9d-7fb1a9711a9f"
   },
   "outputs": [
    {
     "data": {
      "image/png": "[encoded data removed]",
      "text/plain": [
       "<Figure size 1152x576 with 1 Axes>"
      ]
     },
     "metadata": {
      "needs_background": "light"
     },
     "output_type": "display_data"
    }
   ],
   "source": [
    "fig=plot_predictions(eval_df_diff,1,modeltype,feature,f\"./{modeltype}/predictions_diff_{namespace}.png\")"
   ]
  },
  {
   "cell_type": "code",
   "execution_count": 40,
   "metadata": {},
   "outputs": [
    {
     "name": "stdout",
     "output_type": "stream",
     "text": [
      "R^2 score is  0.21\n"
     ]
    }
   ],
   "source": [
    "r2_test = r2_score(df_pred_diff['Actual'][:-1], df_pred_diff['mean'][:-1])\n",
    "print('R^2 score is  %3.2f' %r2_test)"
   ]
  },
  {
   "cell_type": "code",
   "execution_count": null,
   "metadata": {},
   "outputs": [],
   "source": [
    "\n",
    "def make_multiple_predictions(model,idx_test,data_x_test,base_df,feature,convert=False):\n",
    "    idx_prediction = pd.date_range(start=idx_test[0],freq='30min',periods=len(idx_test)+48)\n",
    "    y_test_filtered = base_df.loc[idx_prediction][feature]\n",
    "    df_pred =pd.DataFrame(index=y_test_filtered.index)\n",
    "        \n",
    "    for i in range(len(data_x_test)):\n",
    "        case_test = data_x_test[i].reshape((1,data_x_test[0].shape[0], data_x_test[0].shape[1]))\n",
    "        date_range = pd.date_range(start=idx_test[i],freq='30min',periods=48)\n",
    "        Y_test_predictions = pd.Series(model.predict(case_test).flatten(),index=date_range)\n",
    "        if convert:\n",
    "            Y_test_predictions = convert_from_differencing(Y_test_predictions,base_df,feature)\n",
    "        df_pred[f'pred_{i}'] = Y_test_predictions\n",
    "        "
   ]
  },
  {
   "cell_type": "markdown",
   "metadata": {},
   "source": [
    "Reverting differencing"
   ]
  },
  {
   "cell_type": "code",
   "execution_count": 43,
   "metadata": {},
   "outputs": [],
   "source": [
    "df_pred = make_multiple_predictions(model_best_ED_LSTM,idx_test,data_x_test,resample_df,feature,convert=True)"
   ]
  },
  {
   "cell_type": "code",
   "execution_count": 44,
   "metadata": {},
   "outputs": [],
   "source": [
    "eval_df = create_eval_df(df_pred['mean'],df_pred['Actual'])"
   ]
  },
  {
   "cell_type": "code",
   "execution_count": 45,
   "metadata": {
    "colab": {
     "base_uri": "https://localhost:8080/",
     "height": 426
    },
    "id": "5X3Hs_GtHyAs",
    "outputId": "7281486a-4a6c-492c-e48f-37fa6e7d7c25"
   },
   "outputs": [
    {
     "data": {
      "image/png": "[encoded data removed]",
      "text/plain": [
       "<Figure size 576x576 with 1 Axes>"
      ]
     },
     "metadata": {
      "needs_background": "light"
     },
     "output_type": "display_data"
    }
   ],
   "source": [
    "fig = plot_accuracy(eval_df,modeltype,f\"./{modeltype}/accuracy_{namespace}.png\")"
   ]
  },
  {
   "cell_type": "code",
   "execution_count": 46,
   "metadata": {
    "colab": {
     "base_uri": "https://localhost:8080/",
     "height": 422
    },
    "id": "olr-44nOHyAt",
    "outputId": "ac65b698-1f77-4a62-87cf-c99f30d4d246"
   },
   "outputs": [
    {
     "data": {
      "image/png": "[encoded data removed]",
      "text/plain": [
       "<Figure size 576x576 with 1 Axes>"
      ]
     },
     "metadata": {
      "needs_background": "light"
     },
     "output_type": "display_data"
    }
   ],
   "source": [
    "fig = plot_error_variations(eval_df,modeltype,f\"./{modeltype}/error_variations_{namespace}.png\")"
   ]
  },
  {
   "cell_type": "code",
   "execution_count": 47,
   "metadata": {
    "colab": {
     "base_uri": "https://localhost:8080/"
    },
    "id": "-Og3-ec1HyAv",
    "outputId": "f0d3e172-622e-4dd4-a8ec-3f84e320356b"
   },
   "outputs": [
    {
     "name": "stdout",
     "output_type": "stream",
     "text": [
      "R^2 score is  0.11\n"
     ]
    }
   ],
   "source": [
    "r2_test = r2_score(df_pred['Actual'][:-1],df_pred['mean'][:-1],)\n",
    "print('R^2 score is  %3.2f' %r2_test)"
   ]
  },
  {
   "cell_type": "code",
   "execution_count": 48,
   "metadata": {},
   "outputs": [
    {
     "data": {
      "image/png": "[encoded data removed]",
      "text/plain": [
       "<Figure size 1152x576 with 1 Axes>"
      ]
     },
     "metadata": {
      "needs_background": "light"
     },
     "output_type": "display_data"
    }
   ],
   "source": [
    "fig=plot_multiple_predictions(df_pred,f\"./{modeltype}/multiple_predictions_bench_{namespace}.png\",add_traces=False)"
   ]
  },
  {
   "cell_type": "code",
   "execution_count": 49,
   "metadata": {},
   "outputs": [
    {
     "data": {
      "text/plain": [
       "[<matplotlib.lines.Line2D at 0x197ad873c40>]"
      ]
     },
     "execution_count": 49,
     "metadata": {},
     "output_type": "execute_result"
    },
    {
     "data": {
      "image/png": "[encoded data removed]",
      "text/plain": [
       "<Figure size 576x576 with 1 Axes>"
      ]
     },
     "metadata": {
      "needs_background": "light"
     },
     "output_type": "display_data"
    }
   ],
   "source": [
    "r2 = calculate_r2_scores(df_pred)\n",
    "plt.figure()\n",
    "plt.plot(r2)\n"
   ]
  },
  {
   "cell_type": "markdown",
   "metadata": {},
   "source": [
    "Comparing to Benchmark"
   ]
  },
  {
   "cell_type": "code",
   "execution_count": 50,
   "metadata": {},
   "outputs": [
    {
     "ename": "ValueError",
     "evalue": "Length mismatch: Expected 192 rows, received array of length 96",
     "output_type": "error",
     "traceback": [
      "\u001b[1;31m---------------------------------------------------------------------------\u001b[0m",
      "\u001b[1;31mValueError\u001b[0m                                Traceback (most recent call last)",
      "\u001b[1;32m<ipython-input-50-5c3864927211>\u001b[0m in \u001b[0;36m<module>\u001b[1;34m\u001b[0m\n\u001b[1;32m----> 1\u001b[1;33m \u001b[0meval_df_bench\u001b[0m \u001b[1;33m=\u001b[0m \u001b[0mcreate_eval_df\u001b[0m\u001b[1;33m(\u001b[0m\u001b[0mbench_df\u001b[0m\u001b[1;33m[\u001b[0m\u001b[0midx_val\u001b[0m\u001b[1;33m[\u001b[0m\u001b[1;36m0\u001b[0m\u001b[1;33m]\u001b[0m\u001b[1;33m:\u001b[0m\u001b[0midx_val\u001b[0m\u001b[1;33m[\u001b[0m\u001b[1;33m-\u001b[0m\u001b[1;36m1\u001b[0m\u001b[1;33m]\u001b[0m\u001b[1;33m+\u001b[0m\u001b[0mtimedelta\u001b[0m\u001b[1;33m(\u001b[0m\u001b[0mhours\u001b[0m\u001b[1;33m=\u001b[0m\u001b[1;36m24\u001b[0m\u001b[1;33m)\u001b[0m\u001b[1;33m]\u001b[0m\u001b[1;33m,\u001b[0m\u001b[0mdf_pred\u001b[0m\u001b[1;33m[\u001b[0m\u001b[1;34m'Actual'\u001b[0m\u001b[1;33m]\u001b[0m\u001b[1;33m)\u001b[0m\u001b[1;33m\u001b[0m\u001b[1;33m\u001b[0m\u001b[0m\n\u001b[0m\u001b[0;32m      2\u001b[0m \u001b[0meval_df_bench\u001b[0m\u001b[1;33m\u001b[0m\u001b[1;33m\u001b[0m\u001b[0m\n",
      "\u001b[1;32mc:\\Users\\Benjamin\\Documents\\Data Driven Engineering\\DDE_MachineLearning_Project\\utils\\dde_preprocessing_utils.py\u001b[0m in \u001b[0;36mcreate_eval_df\u001b[1;34m(predictions, data_y_test)\u001b[0m\n\u001b[0;32m    177\u001b[0m     \u001b[0meval_df\u001b[0m \u001b[1;33m=\u001b[0m \u001b[0mpd\u001b[0m\u001b[1;33m.\u001b[0m\u001b[0mDataFrame\u001b[0m\u001b[1;33m(\u001b[0m\u001b[0mpredictions\u001b[0m\u001b[1;33m)\u001b[0m\u001b[1;33m\u001b[0m\u001b[1;33m\u001b[0m\u001b[0m\n\u001b[0;32m    178\u001b[0m     \u001b[0meval_df\u001b[0m\u001b[1;33m.\u001b[0m\u001b[0mcolumns\u001b[0m \u001b[1;33m=\u001b[0m \u001b[1;33m[\u001b[0m\u001b[1;34m'Prediction'\u001b[0m\u001b[1;33m]\u001b[0m\u001b[1;33m\u001b[0m\u001b[1;33m\u001b[0m\u001b[0m\n\u001b[1;32m--> 179\u001b[1;33m     \u001b[0meval_df\u001b[0m \u001b[1;33m=\u001b[0m \u001b[1;33m(\u001b[0m\u001b[0meval_df\u001b[0m\u001b[1;33m.\u001b[0m\u001b[0mset_index\u001b[0m\u001b[1;33m(\u001b[0m\u001b[0mdata_y_test\u001b[0m\u001b[1;33m.\u001b[0m\u001b[0mindex\u001b[0m\u001b[1;33m)\u001b[0m\u001b[1;33m)\u001b[0m\u001b[1;33m\u001b[0m\u001b[1;33m\u001b[0m\u001b[0m\n\u001b[0m\u001b[0;32m    180\u001b[0m     \u001b[0meval_df\u001b[0m\u001b[1;33m[\u001b[0m\u001b[1;34m'Actual'\u001b[0m\u001b[1;33m]\u001b[0m \u001b[1;33m=\u001b[0m \u001b[0mdata_y_test\u001b[0m\u001b[1;33m\u001b[0m\u001b[1;33m\u001b[0m\u001b[0m\n\u001b[0;32m    181\u001b[0m     \u001b[1;32mreturn\u001b[0m \u001b[0meval_df\u001b[0m\u001b[1;33m\u001b[0m\u001b[1;33m\u001b[0m\u001b[0m\n",
      "\u001b[1;32m~\\anaconda3\\envs\\dde\\lib\\site-packages\\pandas\\core\\frame.py\u001b[0m in \u001b[0;36mset_index\u001b[1;34m(self, keys, drop, append, inplace, verify_integrity)\u001b[0m\n\u001b[0;32m   4768\u001b[0m                 \u001b[1;31m# check newest element against length of calling frame, since\u001b[0m\u001b[1;33m\u001b[0m\u001b[1;33m\u001b[0m\u001b[1;33m\u001b[0m\u001b[0m\n\u001b[0;32m   4769\u001b[0m                 \u001b[1;31m# ensure_index_from_sequences would not raise for append=False.\u001b[0m\u001b[1;33m\u001b[0m\u001b[1;33m\u001b[0m\u001b[1;33m\u001b[0m\u001b[0m\n\u001b[1;32m-> 4770\u001b[1;33m                 raise ValueError(\n\u001b[0m\u001b[0;32m   4771\u001b[0m                     \u001b[1;34mf\"Length mismatch: Expected {len(self)} rows, \"\u001b[0m\u001b[1;33m\u001b[0m\u001b[1;33m\u001b[0m\u001b[0m\n\u001b[0;32m   4772\u001b[0m                     \u001b[1;34mf\"received array of length {len(arrays[-1])}\"\u001b[0m\u001b[1;33m\u001b[0m\u001b[1;33m\u001b[0m\u001b[0m\n",
      "\u001b[1;31mValueError\u001b[0m: Length mismatch: Expected 192 rows, received array of length 96"
     ]
    }
   ],
   "source": [
    "eval_df_bench = create_eval_df(bench_df[idx_val[0]:idx_val[-1]+timedelta(hours=24)],df_pred['Actual'])\n",
    "eval_df_bench"
   ]
  },
  {
   "cell_type": "code",
   "execution_count": null,
   "metadata": {},
   "outputs": [],
   "source": [
    "r2_test = r2_score(eval_df_bench['Prediction'][:-1], eval_df_bench['Actual'][:-1])\n",
    "print('R^2 score is  %3.2f' %r2_test)"
   ]
  },
  {
   "cell_type": "code",
   "execution_count": null,
   "metadata": {},
   "outputs": [],
   "source": [
    "df_pred_24h = df_pred.iloc[:,0::24]\n",
    "df_pred_24h['total'] = df_pred_24h.mean(axis=1)\n",
    "df_pred_24h = df_pred_24h['total'].dropna()"
   ]
  },
  {
   "cell_type": "code",
   "execution_count": null,
   "metadata": {},
   "outputs": [],
   "source": [
    "fig = plt.figure(figsize=(16,8))\n",
    "plt.plot(df_pred['Actual'],label = 'Actual')\n",
    "plt.plot(df_pred['mean'], label= 'Prediction')\n",
    "plt.plot(bench_df[idx_val[0]:idx_val[-1]+timedelta(hours=24)], label = 'Benchmark')\n",
    "# plt.plot(df_pred_24h,label='only24h')\n",
    "plt.legend()\n",
    "plt.xlim(idx_val[0],idx_val[0]+timedelta(hours=24*14-1))"
   ]
  },
  {
   "cell_type": "markdown",
   "metadata": {},
   "source": [
    "Weighted Mean"
   ]
  },
  {
   "cell_type": "code",
   "execution_count": null,
   "metadata": {},
   "outputs": [],
   "source": [
    "df_pred_wm = df_pred.copy(deep=True)\n",
    "df_pred_wm = remove_columns(df_pred_wm,['mean','Actual'])\n"
   ]
  },
  {
   "cell_type": "code",
   "execution_count": null,
   "metadata": {},
   "outputs": [],
   "source": [
    "df_pred_wm = df_pred_wm.iloc[:-1,:]"
   ]
  },
  {
   "cell_type": "code",
   "execution_count": null,
   "metadata": {},
   "outputs": [],
   "source": [
    "df_pred_wm = df_pred_wm.iloc[23:-23,:]"
   ]
  },
  {
   "cell_type": "code",
   "execution_count": null,
   "metadata": {},
   "outputs": [],
   "source": [
    "idx = df_pred_wm.index"
   ]
  },
  {
   "cell_type": "code",
   "execution_count": null,
   "metadata": {},
   "outputs": [],
   "source": [
    "cols = [f'pred_{x}h' for x in range(24,0,-1)]\n",
    "new_df = pd.DataFrame()\n",
    "liste=[]\n",
    "for row in df_pred_wm.iterrows():\n",
    "    a = list(row)\n",
    "    new_series = list(a[1].dropna())\n",
    "    liste.append(new_series)\n",
    "weights = [x/24 for x in range(1,25,1)]\n",
    "print(weights)\n",
    "# weights = [x/sum(weights) for x in weights]\n",
    "# print(weights)\n",
    "new_list = []\n",
    "for item in liste:\n",
    "    new_list.append(np.average(item,weights=weights))\n",
    "    \n",
    "    \n",
    "df_wp = pd.DataFrame(new_list,index=idx,columns=['Weighted Average Prediction'])"
   ]
  },
  {
   "cell_type": "code",
   "execution_count": null,
   "metadata": {},
   "outputs": [],
   "source": [
    "fig = plt.figure(figsize=(16,8))\n",
    "plt.plot(df_pred['Actual'],label = 'Actual')\n",
    "plt.plot(df_pred['mean'], label= 'Prediction')\n",
    "plt.plot(bench_df[idx_val[0]:idx_val[-1]+timedelta(hours=24)], label = 'Benchmark')\n",
    "# plt.plot(df_wp,label='Weighted Average')\n",
    "plt.legend()\n"
   ]
  },
  {
   "cell_type": "markdown",
   "metadata": {},
   "source": []
  }
 ],
 "metadata": {
  "interpreter": {
   "hash": "39d1545a961fb91480a52a0b6f0ba22788119e75d6e41681ee81894caf37680e"
  },
  "kernelspec": {
   "display_name": "Python 3",
   "language": "python",
   "name": "python3"
  },
  "language_info": {
   "codemirror_mode": {
    "name": "ipython",
    "version": 3
   },
   "file_extension": ".py",
   "mimetype": "text/x-python",
   "name": "python",
   "nbconvert_exporter": "python",
   "pygments_lexer": "ipython3",
   "version": "3.9.4"
  }
 },
 "nbformat": 4,
 "nbformat_minor": 2
}
