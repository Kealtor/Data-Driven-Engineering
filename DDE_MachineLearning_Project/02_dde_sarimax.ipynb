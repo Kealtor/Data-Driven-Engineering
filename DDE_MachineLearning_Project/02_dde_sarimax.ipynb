{
 "cells": [
  {
   "cell_type": "code",
   "execution_count": 1,
   "metadata": {},
   "outputs": [],
   "source": [
    "import numpy as np\n",
    "import pandas as pd\n",
    "from datetime import date\n",
    "import plotly.express as px\n",
    "import plotly.graph_objects as go\n",
    "import math\n",
    "from datetime import timedelta\n",
    "import matplotlib.pyplot as plt\n",
    "from sklearn import preprocessing as pp\n",
    "import matplotlib as mpl\n",
    "from sklearn.decomposition import PCA\n",
    "from pandas.plotting import lag_plot, autocorrelation_plot\n",
    "from statsmodels.graphics.tsaplots import plot_acf, plot_pacf \n",
    "import statsmodels.api as smw\n",
    "from statsmodels.tsa.statespace.sarimax import SARIMAX\n",
    "from sklearn.svm import SVR\n",
    "from sklearn.metrics import r2_score\n",
    "from utils.dde_preprocessing_utils import (set_timestamp_index,\n",
    "remove_duplicates,\n",
    "remove_columns,\n",
    "extract_correlations,\n",
    "prepare_data_sarimax,\n",
    "create_test_train_split,\n",
    "create_sarimax_test_train_split)\n",
    "from utils.dde_plotting_utils import(\n",
    "display_double_timestamps,\n",
    "display_seasonal_decomposition,\n",
    "plot_predictions,\n",
    "plot_accuracy,\n",
    "plot_error_variations,\n",
    ")\n",
    "%load_ext skip_kernel_extension"
   ]
  },
  {
   "cell_type": "code",
   "execution_count": 2,
   "metadata": {},
   "outputs": [],
   "source": [
    "SKIP_SARIMAX =False"
   ]
  },
  {
   "cell_type": "code",
   "execution_count": 3,
   "metadata": {},
   "outputs": [],
   "source": [
    "import warnings\n",
    "from statsmodels.tools.sm_exceptions import ConvergenceWarning\n",
    "warnings.simplefilter('ignore', ConvergenceWarning)"
   ]
  },
  {
   "cell_type": "markdown",
   "metadata": {},
   "source": [
    "# Loading Data"
   ]
  },
  {
   "cell_type": "code",
   "execution_count": 4,
   "metadata": {},
   "outputs": [],
   "source": [
    "combined_df = pd.read_csv(\"preprocessed_data.csv\")\n",
    "combined_df = set_timestamp_index(combined_df,\"Unnamed: 0\")"
   ]
  },
  {
   "cell_type": "code",
   "execution_count": 5,
   "metadata": {},
   "outputs": [
    {
     "data": {
      "text/html": [
       "<div>\n",
       "<style scoped>\n",
       "    .dataframe tbody tr th:only-of-type {\n",
       "        vertical-align: middle;\n",
       "    }\n",
       "\n",
       "    .dataframe tbody tr th {\n",
       "        vertical-align: top;\n",
       "    }\n",
       "\n",
       "    .dataframe thead th {\n",
       "        text-align: right;\n",
       "    }\n",
       "</style>\n",
       "<table border=\"1\" class=\"dataframe\">\n",
       "  <thead>\n",
       "    <tr style=\"text-align: right;\">\n",
       "      <th></th>\n",
       "      <th>temp</th>\n",
       "      <th>pressure</th>\n",
       "      <th>humidity</th>\n",
       "      <th>wind_speed</th>\n",
       "      <th>wind_deg</th>\n",
       "      <th>generation biomass</th>\n",
       "      <th>generation fossil brown coal/lignite</th>\n",
       "      <th>generation fossil gas</th>\n",
       "      <th>generation fossil hard coal</th>\n",
       "      <th>generation fossil oil</th>\n",
       "      <th>...</th>\n",
       "      <th>generation solar</th>\n",
       "      <th>generation waste</th>\n",
       "      <th>generation wind onshore</th>\n",
       "      <th>total load actual</th>\n",
       "      <th>price actual</th>\n",
       "      <th>generation</th>\n",
       "      <th>energy_difference</th>\n",
       "      <th>month</th>\n",
       "      <th>day</th>\n",
       "      <th>weekend</th>\n",
       "    </tr>\n",
       "  </thead>\n",
       "  <tbody>\n",
       "    <tr>\n",
       "      <th>2015-01-01 00:00:00+01:00</th>\n",
       "      <td>-2.675</td>\n",
       "      <td>1001.0</td>\n",
       "      <td>77</td>\n",
       "      <td>1.0</td>\n",
       "      <td>62</td>\n",
       "      <td>447.0</td>\n",
       "      <td>329.0</td>\n",
       "      <td>4844.0</td>\n",
       "      <td>4821.0</td>\n",
       "      <td>162.0</td>\n",
       "      <td>...</td>\n",
       "      <td>49.0</td>\n",
       "      <td>196.0</td>\n",
       "      <td>6378.0</td>\n",
       "      <td>25385.0</td>\n",
       "      <td>65.41</td>\n",
       "      <td>28251.0</td>\n",
       "      <td>2866.0</td>\n",
       "      <td>1</td>\n",
       "      <td>1</td>\n",
       "      <td>0</td>\n",
       "    </tr>\n",
       "    <tr>\n",
       "      <th>2015-01-01 01:00:00+01:00</th>\n",
       "      <td>-2.675</td>\n",
       "      <td>1001.0</td>\n",
       "      <td>77</td>\n",
       "      <td>1.0</td>\n",
       "      <td>62</td>\n",
       "      <td>449.0</td>\n",
       "      <td>328.0</td>\n",
       "      <td>5196.0</td>\n",
       "      <td>4755.0</td>\n",
       "      <td>158.0</td>\n",
       "      <td>...</td>\n",
       "      <td>50.0</td>\n",
       "      <td>195.0</td>\n",
       "      <td>5890.0</td>\n",
       "      <td>24382.0</td>\n",
       "      <td>64.92</td>\n",
       "      <td>27818.0</td>\n",
       "      <td>3436.0</td>\n",
       "      <td>1</td>\n",
       "      <td>1</td>\n",
       "      <td>0</td>\n",
       "    </tr>\n",
       "    <tr>\n",
       "      <th>2015-01-01 02:00:00+01:00</th>\n",
       "      <td>-3.464</td>\n",
       "      <td>1002.0</td>\n",
       "      <td>78</td>\n",
       "      <td>0.0</td>\n",
       "      <td>23</td>\n",
       "      <td>448.0</td>\n",
       "      <td>323.0</td>\n",
       "      <td>4857.0</td>\n",
       "      <td>4581.0</td>\n",
       "      <td>157.0</td>\n",
       "      <td>...</td>\n",
       "      <td>50.0</td>\n",
       "      <td>196.0</td>\n",
       "      <td>5461.0</td>\n",
       "      <td>22734.0</td>\n",
       "      <td>64.48</td>\n",
       "      <td>26796.0</td>\n",
       "      <td>4062.0</td>\n",
       "      <td>1</td>\n",
       "      <td>1</td>\n",
       "      <td>0</td>\n",
       "    </tr>\n",
       "    <tr>\n",
       "      <th>2015-01-01 03:00:00+01:00</th>\n",
       "      <td>-3.464</td>\n",
       "      <td>1002.0</td>\n",
       "      <td>78</td>\n",
       "      <td>0.0</td>\n",
       "      <td>23</td>\n",
       "      <td>438.0</td>\n",
       "      <td>254.0</td>\n",
       "      <td>4314.0</td>\n",
       "      <td>4131.0</td>\n",
       "      <td>160.0</td>\n",
       "      <td>...</td>\n",
       "      <td>50.0</td>\n",
       "      <td>191.0</td>\n",
       "      <td>5238.0</td>\n",
       "      <td>21286.0</td>\n",
       "      <td>59.32</td>\n",
       "      <td>25223.0</td>\n",
       "      <td>3937.0</td>\n",
       "      <td>1</td>\n",
       "      <td>1</td>\n",
       "      <td>0</td>\n",
       "    </tr>\n",
       "    <tr>\n",
       "      <th>2015-01-01 04:00:00+01:00</th>\n",
       "      <td>-3.464</td>\n",
       "      <td>1002.0</td>\n",
       "      <td>78</td>\n",
       "      <td>0.0</td>\n",
       "      <td>23</td>\n",
       "      <td>428.0</td>\n",
       "      <td>187.0</td>\n",
       "      <td>4130.0</td>\n",
       "      <td>3840.0</td>\n",
       "      <td>156.0</td>\n",
       "      <td>...</td>\n",
       "      <td>42.0</td>\n",
       "      <td>189.0</td>\n",
       "      <td>4935.0</td>\n",
       "      <td>20264.0</td>\n",
       "      <td>56.04</td>\n",
       "      <td>24620.0</td>\n",
       "      <td>4356.0</td>\n",
       "      <td>1</td>\n",
       "      <td>1</td>\n",
       "      <td>0</td>\n",
       "    </tr>\n",
       "    <tr>\n",
       "      <th>...</th>\n",
       "      <td>...</td>\n",
       "      <td>...</td>\n",
       "      <td>...</td>\n",
       "      <td>...</td>\n",
       "      <td>...</td>\n",
       "      <td>...</td>\n",
       "      <td>...</td>\n",
       "      <td>...</td>\n",
       "      <td>...</td>\n",
       "      <td>...</td>\n",
       "      <td>...</td>\n",
       "      <td>...</td>\n",
       "      <td>...</td>\n",
       "      <td>...</td>\n",
       "      <td>...</td>\n",
       "      <td>...</td>\n",
       "      <td>...</td>\n",
       "      <td>...</td>\n",
       "      <td>...</td>\n",
       "      <td>...</td>\n",
       "      <td>...</td>\n",
       "    </tr>\n",
       "    <tr>\n",
       "      <th>2018-12-31 19:00:00+01:00</th>\n",
       "      <td>12.490</td>\n",
       "      <td>1028.0</td>\n",
       "      <td>62</td>\n",
       "      <td>2.0</td>\n",
       "      <td>140</td>\n",
       "      <td>297.0</td>\n",
       "      <td>0.0</td>\n",
       "      <td>7634.0</td>\n",
       "      <td>2628.0</td>\n",
       "      <td>178.0</td>\n",
       "      <td>...</td>\n",
       "      <td>85.0</td>\n",
       "      <td>277.0</td>\n",
       "      <td>3113.0</td>\n",
       "      <td>30653.0</td>\n",
       "      <td>77.02</td>\n",
       "      <td>26415.0</td>\n",
       "      <td>-4238.0</td>\n",
       "      <td>12</td>\n",
       "      <td>31</td>\n",
       "      <td>0</td>\n",
       "    </tr>\n",
       "    <tr>\n",
       "      <th>2018-12-31 20:00:00+01:00</th>\n",
       "      <td>9.990</td>\n",
       "      <td>1029.0</td>\n",
       "      <td>71</td>\n",
       "      <td>1.0</td>\n",
       "      <td>242</td>\n",
       "      <td>296.0</td>\n",
       "      <td>0.0</td>\n",
       "      <td>7241.0</td>\n",
       "      <td>2566.0</td>\n",
       "      <td>174.0</td>\n",
       "      <td>...</td>\n",
       "      <td>33.0</td>\n",
       "      <td>280.0</td>\n",
       "      <td>3288.0</td>\n",
       "      <td>29735.0</td>\n",
       "      <td>76.16</td>\n",
       "      <td>25213.0</td>\n",
       "      <td>-4522.0</td>\n",
       "      <td>12</td>\n",
       "      <td>31</td>\n",
       "      <td>0</td>\n",
       "    </tr>\n",
       "    <tr>\n",
       "      <th>2018-12-31 21:00:00+01:00</th>\n",
       "      <td>8.510</td>\n",
       "      <td>1029.0</td>\n",
       "      <td>81</td>\n",
       "      <td>3.0</td>\n",
       "      <td>300</td>\n",
       "      <td>292.0</td>\n",
       "      <td>0.0</td>\n",
       "      <td>7025.0</td>\n",
       "      <td>2422.0</td>\n",
       "      <td>168.0</td>\n",
       "      <td>...</td>\n",
       "      <td>31.0</td>\n",
       "      <td>286.0</td>\n",
       "      <td>3503.0</td>\n",
       "      <td>28071.0</td>\n",
       "      <td>74.30</td>\n",
       "      <td>23987.0</td>\n",
       "      <td>-4084.0</td>\n",
       "      <td>12</td>\n",
       "      <td>31</td>\n",
       "      <td>0</td>\n",
       "    </tr>\n",
       "    <tr>\n",
       "      <th>2018-12-31 22:00:00+01:00</th>\n",
       "      <td>6.990</td>\n",
       "      <td>1029.0</td>\n",
       "      <td>81</td>\n",
       "      <td>2.0</td>\n",
       "      <td>310</td>\n",
       "      <td>293.0</td>\n",
       "      <td>0.0</td>\n",
       "      <td>6562.0</td>\n",
       "      <td>2293.0</td>\n",
       "      <td>163.0</td>\n",
       "      <td>...</td>\n",
       "      <td>31.0</td>\n",
       "      <td>287.0</td>\n",
       "      <td>3586.0</td>\n",
       "      <td>25801.0</td>\n",
       "      <td>69.89</td>\n",
       "      <td>22748.0</td>\n",
       "      <td>-3053.0</td>\n",
       "      <td>12</td>\n",
       "      <td>31</td>\n",
       "      <td>0</td>\n",
       "    </tr>\n",
       "    <tr>\n",
       "      <th>2018-12-31 23:00:00+01:00</th>\n",
       "      <td>5.990</td>\n",
       "      <td>1029.0</td>\n",
       "      <td>75</td>\n",
       "      <td>2.0</td>\n",
       "      <td>300</td>\n",
       "      <td>290.0</td>\n",
       "      <td>0.0</td>\n",
       "      <td>6926.0</td>\n",
       "      <td>2166.0</td>\n",
       "      <td>163.0</td>\n",
       "      <td>...</td>\n",
       "      <td>31.0</td>\n",
       "      <td>287.0</td>\n",
       "      <td>3651.0</td>\n",
       "      <td>24455.0</td>\n",
       "      <td>69.88</td>\n",
       "      <td>22605.0</td>\n",
       "      <td>-1850.0</td>\n",
       "      <td>12</td>\n",
       "      <td>31</td>\n",
       "      <td>0</td>\n",
       "    </tr>\n",
       "  </tbody>\n",
       "</table>\n",
       "<p>35064 rows × 26 columns</p>\n",
       "</div>"
      ],
      "text/plain": [
       "                             temp  pressure  humidity  wind_speed  wind_deg  \\\n",
       "2015-01-01 00:00:00+01:00  -2.675    1001.0        77         1.0        62   \n",
       "2015-01-01 01:00:00+01:00  -2.675    1001.0        77         1.0        62   \n",
       "2015-01-01 02:00:00+01:00  -3.464    1002.0        78         0.0        23   \n",
       "2015-01-01 03:00:00+01:00  -3.464    1002.0        78         0.0        23   \n",
       "2015-01-01 04:00:00+01:00  -3.464    1002.0        78         0.0        23   \n",
       "...                           ...       ...       ...         ...       ...   \n",
       "2018-12-31 19:00:00+01:00  12.490    1028.0        62         2.0       140   \n",
       "2018-12-31 20:00:00+01:00   9.990    1029.0        71         1.0       242   \n",
       "2018-12-31 21:00:00+01:00   8.510    1029.0        81         3.0       300   \n",
       "2018-12-31 22:00:00+01:00   6.990    1029.0        81         2.0       310   \n",
       "2018-12-31 23:00:00+01:00   5.990    1029.0        75         2.0       300   \n",
       "\n",
       "                           generation biomass  \\\n",
       "2015-01-01 00:00:00+01:00               447.0   \n",
       "2015-01-01 01:00:00+01:00               449.0   \n",
       "2015-01-01 02:00:00+01:00               448.0   \n",
       "2015-01-01 03:00:00+01:00               438.0   \n",
       "2015-01-01 04:00:00+01:00               428.0   \n",
       "...                                       ...   \n",
       "2018-12-31 19:00:00+01:00               297.0   \n",
       "2018-12-31 20:00:00+01:00               296.0   \n",
       "2018-12-31 21:00:00+01:00               292.0   \n",
       "2018-12-31 22:00:00+01:00               293.0   \n",
       "2018-12-31 23:00:00+01:00               290.0   \n",
       "\n",
       "                           generation fossil brown coal/lignite  \\\n",
       "2015-01-01 00:00:00+01:00                                 329.0   \n",
       "2015-01-01 01:00:00+01:00                                 328.0   \n",
       "2015-01-01 02:00:00+01:00                                 323.0   \n",
       "2015-01-01 03:00:00+01:00                                 254.0   \n",
       "2015-01-01 04:00:00+01:00                                 187.0   \n",
       "...                                                         ...   \n",
       "2018-12-31 19:00:00+01:00                                   0.0   \n",
       "2018-12-31 20:00:00+01:00                                   0.0   \n",
       "2018-12-31 21:00:00+01:00                                   0.0   \n",
       "2018-12-31 22:00:00+01:00                                   0.0   \n",
       "2018-12-31 23:00:00+01:00                                   0.0   \n",
       "\n",
       "                           generation fossil gas  generation fossil hard coal  \\\n",
       "2015-01-01 00:00:00+01:00                 4844.0                       4821.0   \n",
       "2015-01-01 01:00:00+01:00                 5196.0                       4755.0   \n",
       "2015-01-01 02:00:00+01:00                 4857.0                       4581.0   \n",
       "2015-01-01 03:00:00+01:00                 4314.0                       4131.0   \n",
       "2015-01-01 04:00:00+01:00                 4130.0                       3840.0   \n",
       "...                                          ...                          ...   \n",
       "2018-12-31 19:00:00+01:00                 7634.0                       2628.0   \n",
       "2018-12-31 20:00:00+01:00                 7241.0                       2566.0   \n",
       "2018-12-31 21:00:00+01:00                 7025.0                       2422.0   \n",
       "2018-12-31 22:00:00+01:00                 6562.0                       2293.0   \n",
       "2018-12-31 23:00:00+01:00                 6926.0                       2166.0   \n",
       "\n",
       "                           generation fossil oil  ...  generation solar  \\\n",
       "2015-01-01 00:00:00+01:00                  162.0  ...              49.0   \n",
       "2015-01-01 01:00:00+01:00                  158.0  ...              50.0   \n",
       "2015-01-01 02:00:00+01:00                  157.0  ...              50.0   \n",
       "2015-01-01 03:00:00+01:00                  160.0  ...              50.0   \n",
       "2015-01-01 04:00:00+01:00                  156.0  ...              42.0   \n",
       "...                                          ...  ...               ...   \n",
       "2018-12-31 19:00:00+01:00                  178.0  ...              85.0   \n",
       "2018-12-31 20:00:00+01:00                  174.0  ...              33.0   \n",
       "2018-12-31 21:00:00+01:00                  168.0  ...              31.0   \n",
       "2018-12-31 22:00:00+01:00                  163.0  ...              31.0   \n",
       "2018-12-31 23:00:00+01:00                  163.0  ...              31.0   \n",
       "\n",
       "                           generation waste  generation wind onshore  \\\n",
       "2015-01-01 00:00:00+01:00             196.0                   6378.0   \n",
       "2015-01-01 01:00:00+01:00             195.0                   5890.0   \n",
       "2015-01-01 02:00:00+01:00             196.0                   5461.0   \n",
       "2015-01-01 03:00:00+01:00             191.0                   5238.0   \n",
       "2015-01-01 04:00:00+01:00             189.0                   4935.0   \n",
       "...                                     ...                      ...   \n",
       "2018-12-31 19:00:00+01:00             277.0                   3113.0   \n",
       "2018-12-31 20:00:00+01:00             280.0                   3288.0   \n",
       "2018-12-31 21:00:00+01:00             286.0                   3503.0   \n",
       "2018-12-31 22:00:00+01:00             287.0                   3586.0   \n",
       "2018-12-31 23:00:00+01:00             287.0                   3651.0   \n",
       "\n",
       "                           total load actual  price actual  generation  \\\n",
       "2015-01-01 00:00:00+01:00            25385.0         65.41     28251.0   \n",
       "2015-01-01 01:00:00+01:00            24382.0         64.92     27818.0   \n",
       "2015-01-01 02:00:00+01:00            22734.0         64.48     26796.0   \n",
       "2015-01-01 03:00:00+01:00            21286.0         59.32     25223.0   \n",
       "2015-01-01 04:00:00+01:00            20264.0         56.04     24620.0   \n",
       "...                                      ...           ...         ...   \n",
       "2018-12-31 19:00:00+01:00            30653.0         77.02     26415.0   \n",
       "2018-12-31 20:00:00+01:00            29735.0         76.16     25213.0   \n",
       "2018-12-31 21:00:00+01:00            28071.0         74.30     23987.0   \n",
       "2018-12-31 22:00:00+01:00            25801.0         69.89     22748.0   \n",
       "2018-12-31 23:00:00+01:00            24455.0         69.88     22605.0   \n",
       "\n",
       "                           energy_difference  month  day  weekend  \n",
       "2015-01-01 00:00:00+01:00             2866.0      1    1        0  \n",
       "2015-01-01 01:00:00+01:00             3436.0      1    1        0  \n",
       "2015-01-01 02:00:00+01:00             4062.0      1    1        0  \n",
       "2015-01-01 03:00:00+01:00             3937.0      1    1        0  \n",
       "2015-01-01 04:00:00+01:00             4356.0      1    1        0  \n",
       "...                                      ...    ...  ...      ...  \n",
       "2018-12-31 19:00:00+01:00            -4238.0     12   31        0  \n",
       "2018-12-31 20:00:00+01:00            -4522.0     12   31        0  \n",
       "2018-12-31 21:00:00+01:00            -4084.0     12   31        0  \n",
       "2018-12-31 22:00:00+01:00            -3053.0     12   31        0  \n",
       "2018-12-31 23:00:00+01:00            -1850.0     12   31        0  \n",
       "\n",
       "[35064 rows x 26 columns]"
      ]
     },
     "execution_count": 5,
     "metadata": {},
     "output_type": "execute_result"
    }
   ],
   "source": [
    "combined_df"
   ]
  },
  {
   "cell_type": "markdown",
   "metadata": {},
   "source": [
    "### Singlestep prediction\n"
   ]
  },
  {
   "cell_type": "markdown",
   "metadata": {},
   "source": [
    "Creating test-train-split datasets\n"
   ]
  },
  {
   "cell_type": "code",
   "execution_count": 6,
   "metadata": {},
   "outputs": [],
   "source": [
    "%%skip $SKIP_SARIMAX\n",
    "\n",
    "train_start = \"2015-01-01\"\n",
    "test_start = \"2017-01-01\"\n",
    "test_end = \"2017-01-02\"\n",
    "combined_df.index.freq = \"h\"\n",
    "modeltype = 'SARIMAX'\n",
    "namespace = \"SARIMAX\"\n",
    "feature = 'total load actual'\n",
    "exog_feature = 'temp'\n",
    "\n",
    "data_y_train,data_y_test,data_exog_train,data_exog_test = create_sarimax_test_train_split(combined_df,feature,exog_feature,train_start=train_start,test_start=test_start,test_end=test_end,)"
   ]
  },
  {
   "cell_type": "markdown",
   "metadata": {},
   "source": [
    "Scaling dataset with MinMaxScaler\n"
   ]
  },
  {
   "cell_type": "code",
   "execution_count": 7,
   "metadata": {},
   "outputs": [],
   "source": [
    "%%skip $SKIP_SARIMAX\n",
    "\n",
    "scaler_1 = pp.MinMaxScaler()\n",
    "scaler_2 = pp.MinMaxScaler()\n",
    "data_y_train[feature] = scaler_1.fit_transform(data_y_train)\n",
    "data_y_test[feature] = scaler_1.transform(data_y_test)\n",
    "\n",
    "data_exog_train[exog_feature] = scaler_2.fit_transform(data_exog_train)\n",
    "data_exog_test[exog_feature] = scaler_2.transform(data_exog_test)"
   ]
  },
  {
   "cell_type": "markdown",
   "metadata": {},
   "source": [
    "Hyperparameter setttings for SARIMAX"
   ]
  },
  {
   "cell_type": "code",
   "execution_count": 8,
   "metadata": {},
   "outputs": [],
   "source": [
    "%%skip $SKIP_SARIMAX\n",
    "\n",
    "horizon = 1\n",
    "order = (3, 2, 8)\n",
    "seasonal_order = (1, 1, 1, 24)\n",
    "exog = data_exog_train"
   ]
  },
  {
   "cell_type": "markdown",
   "metadata": {},
   "source": [
    "Preparing data for SARIMAX\n"
   ]
  },
  {
   "cell_type": "code",
   "execution_count": 9,
   "metadata": {},
   "outputs": [],
   "source": [
    "%%skip $SKIP_SARIMAX\n",
    "\n",
    "test_ts, history, predictions, history_temp, predictions_temp = prepare_data_sarimax(\n",
    "    data_y_train = data_y_train,\n",
    "    data_y_test = data_y_test,\n",
    "    exog_y_train = data_exog_train,\n",
    "    exog_y_test = data_exog_test,\n",
    "    horizon = horizon,\n",
    "    training_window=720,\n",
    "    feature=feature,\n",
    "    exog_feature=exog_feature,\n",
    ")"
   ]
  },
  {
   "cell_type": "markdown",
   "metadata": {},
   "source": [
    "Model Predictions\n"
   ]
  },
  {
   "cell_type": "code",
   "execution_count": 10,
   "metadata": {},
   "outputs": [
    {
     "name": "stdout",
     "output_type": "stream",
     "text": [
      "2017-01-01 00:00:00+01:00\n",
      "1 : predicted = [0.26147010122792247] true value = [0.2854193780011668]\n",
      "2017-01-01 01:00:00+01:00\n",
      "2 : predicted = [0.1708390250035782] true value = [0.24018309922362346]\n",
      "2017-01-01 02:00:00+01:00\n",
      "3 : predicted = [0.0988264418414272] true value = [0.17358524435668443]\n",
      "2017-01-01 03:00:00+01:00\n",
      "4 : predicted = [0.06475170827689242] true value = [0.11551406902122696]\n",
      "2017-01-01 04:00:00+01:00\n",
      "5 : predicted = [0.05682645212776574] true value = [0.07122021271821566]\n",
      "2017-01-01 05:00:00+01:00\n",
      "6 : predicted = [0.06966539571311856] true value = [0.054346362698020845]\n",
      "2017-01-01 06:00:00+01:00\n",
      "7 : predicted = [0.1267495338873731] true value = [0.058789211506529604]\n",
      "2017-01-01 07:00:00+01:00\n",
      "8 : predicted = [0.2373707344369346] true value = [0.07404748014181217]\n",
      "2017-01-01 08:00:00+01:00\n",
      "9 : predicted = [0.3388399213290621] true value = [0.06996364941883948]\n",
      "2017-01-01 09:00:00+01:00\n",
      "10 : predicted = [0.4355451608385327] true value = [0.09859534174034013]\n",
      "2017-01-01 10:00:00+01:00\n",
      "11 : predicted = [0.49800122420727616] true value = [0.17771395234034915]\n",
      "2017-01-01 11:00:00+01:00\n",
      "12 : predicted = [0.5037454258199522] true value = [0.24126015348023155]\n",
      "2017-01-01 12:00:00+01:00\n",
      "13 : predicted = [0.4843450202302913] true value = [0.2702957411479604]\n",
      "2017-01-01 13:00:00+01:00\n",
      "14 : predicted = [0.4814143762327323] true value = [0.29681820221693667]\n",
      "2017-01-01 14:00:00+01:00\n",
      "15 : predicted = [0.44373909136869594] true value = [0.2979401337342368]\n",
      "2017-01-01 15:00:00+01:00\n",
      "16 : predicted = [0.3986019976870708] true value = [0.24170892608715155]\n",
      "2017-01-01 16:00:00+01:00\n",
      "17 : predicted = [0.38363824975323857] true value = [0.22128977247228832]\n",
      "2017-01-01 17:00:00+01:00\n",
      "18 : predicted = [0.41266640198710264] true value = [0.24678005654534851]\n",
      "2017-01-01 18:00:00+01:00\n",
      "19 : predicted = [0.5193157739062588] true value = [0.36880132836691637]\n",
      "2017-01-01 19:00:00+01:00\n",
      "20 : predicted = [0.5513054711515624] true value = [0.43203338868195484]\n",
      "2017-01-01 20:00:00+01:00\n",
      "21 : predicted = [0.5443400936004151] true value = [0.4775838082843423]\n",
      "2017-01-01 21:00:00+01:00\n",
      "22 : predicted = [0.5106058035718832] true value = [0.49988780684827006]\n",
      "2017-01-01 22:00:00+01:00\n",
      "23 : predicted = [0.4230789446029262] true value = [0.47466678633936177]\n",
      "2017-01-01 23:00:00+01:00\n",
      "24 : predicted = [0.32401643397398666] true value = [0.3731992999147332]\n"
     ]
    }
   ],
   "source": [
    "%%skip $SKIP_SARIMAX\n",
    "\n",
    "for t in range(0, test_ts.shape[0], horizon):\n",
    "\n",
    "    model = SARIMAX(\n",
    "        endog=history, exog=history_temp, order=order, seasonal_order=seasonal_order\n",
    "    )\n",
    "    model_fit = model.fit()\n",
    "    y_p = model_fit.forecast(\n",
    "        steps=horizon, exog=predictions_temp.iloc[:horizon].to_frame()\n",
    "    ).tolist()\n",
    "\n",
    "    obs = list(test_ts.iloc[t])\n",
    "    predictions.extend(y_p)\n",
    "\n",
    "    history = history.append(\n",
    "        pd.Series(\n",
    "            y_p,\n",
    "            index=pd.date_range(\n",
    "                start=history.index[-1] + timedelta(hours=1), periods=horizon, freq=\"h\"\n",
    "            ),\n",
    "        )\n",
    "    )\n",
    "    history = history[horizon:]\n",
    "\n",
    "    history_temp = history_temp.append(predictions_temp.iloc[:horizon])\n",
    "    history_temp.drop(index=history_temp.index[:horizon], inplace=True)\n",
    "    predictions_temp.drop(index=predictions_temp.index[:horizon], inplace=True)\n",
    "\n",
    "    print(test_ts.index[t])\n",
    "    print(t + 1, \": predicted =\", y_p, \"true value =\", obs)\n",
    "\n"
   ]
  },
  {
   "cell_type": "markdown",
   "metadata": {},
   "source": [
    "Create eval_df\n"
   ]
  },
  {
   "cell_type": "code",
   "execution_count": 11,
   "metadata": {},
   "outputs": [],
   "source": [
    "%%skip $SKIP_SARIMAX\n",
    "\n",
    "eval_df = pd.DataFrame(predictions)\n",
    "eval_df.columns = ['Prediction']\n",
    "eval_df=(eval_df.set_index(data_y_test.index)) \n",
    "eval_df['Actual'] = data_y_test\n",
    "eval_df[['Prediction', 'Actual']] = scaler_1.inverse_transform(eval_df[['Prediction', 'Actual']])"
   ]
  },
  {
   "cell_type": "code",
   "execution_count": 12,
   "metadata": {},
   "outputs": [
    {
     "data": {
      "image/png": "[encoded data removed]",
      "text/plain": [
       "<Figure size 432x288 with 1 Axes>"
      ]
     },
     "metadata": {
      "needs_background": "light"
     },
     "output_type": "display_data"
    }
   ],
   "source": [
    "%%skip $SKIP_SARIMAX\n",
    "\n",
    "fig = plot_predictions(eval_df,horizon,modeltype,feature,f\"./{modeltype}/predictions_{namespace}\")"
   ]
  },
  {
   "cell_type": "code",
   "execution_count": 13,
   "metadata": {},
   "outputs": [
    {
     "data": {
      "image/png": "[encoded data removed]",
      "text/plain": [
       "<Figure size 432x288 with 1 Axes>"
      ]
     },
     "metadata": {
      "needs_background": "light"
     },
     "output_type": "display_data"
    }
   ],
   "source": [
    "%%skip $SKIP_SARIMAX\n",
    "\n",
    "fig = plot_accuracy(eval_df,modeltype,f\"./{modeltype}/accuracy_{namespace}\")"
   ]
  },
  {
   "cell_type": "code",
   "execution_count": 14,
   "metadata": {},
   "outputs": [
    {
     "data": {
      "image/png": "[encoded data removed]",
      "text/plain": [
       "<Figure size 432x288 with 1 Axes>"
      ]
     },
     "metadata": {
      "needs_background": "light"
     },
     "output_type": "display_data"
    }
   ],
   "source": [
    "%%skip $SKIP_SARIMAX\n",
    "\n",
    "fig = plot_error_variations(eval_df,modeltype,f\"./{modeltype}/error_variations_{namespace}\")"
   ]
  },
  {
   "cell_type": "code",
   "execution_count": 15,
   "metadata": {},
   "outputs": [
    {
     "name": "stdout",
     "output_type": "stream",
     "text": [
      "R^2 score is  -0.38\n"
     ]
    }
   ],
   "source": [
    "%%skip $SKIP_SARIMAX\n",
    "\n",
    "Score_sarimax = r2_score(eval_df['Actual'],eval_df['Prediction'])\n",
    "print('R^2 score is  %3.2f' %np.mean(Score_sarimax))"
   ]
  },
  {
   "cell_type": "markdown",
   "metadata": {},
   "source": [
    "### Multistep Prediction\n"
   ]
  },
  {
   "cell_type": "markdown",
   "metadata": {},
   "source": [
    "Creating test-train-split datasets\n"
   ]
  },
  {
   "cell_type": "code",
   "execution_count": 16,
   "metadata": {},
   "outputs": [],
   "source": [
    "%%skip $SKIP_SARIMAX\n",
    "\n",
    "train_start = \"2015-01-01\"\n",
    "test_start = \"2017-01-01\"\n",
    "test_end = \"2017-01-02\"\n",
    "modeltype = 'SARIMAX'\n",
    "namespace = \"MS_SARIMAX\"\n",
    "feature = 'total load actual'\n",
    "exog_feature = 'temp'\n",
    "combined_df.index.freq = \"h\"\n",
    "\n",
    "data_y_train,data_y_test,data_exog_train,data_exog_test = create_sarimax_test_train_split(combined_df,'total load actual','temp',train_start=train_start,test_start=test_start,test_end=test_end,)\n"
   ]
  },
  {
   "cell_type": "markdown",
   "metadata": {},
   "source": [
    "Scaling dataset with MinMaxScaler\n"
   ]
  },
  {
   "cell_type": "code",
   "execution_count": 17,
   "metadata": {},
   "outputs": [],
   "source": [
    "%%skip $SKIP_SARIMAX\n",
    "\n",
    "scaler_1 = pp.MinMaxScaler()\n",
    "scaler_2 = pp.MinMaxScaler()\n",
    "data_y_train[feature] = scaler_1.fit_transform(data_y_train)\n",
    "data_y_test[feature] = scaler_1.transform(data_y_test)\n",
    "\n",
    "data_exog_train[exog_feature] = scaler_2.fit_transform(data_exog_train)\n",
    "data_exog_test[exog_feature] = scaler_2.transform(data_exog_test)"
   ]
  },
  {
   "cell_type": "markdown",
   "metadata": {},
   "source": [
    "Hyperparameter setttings for SARIMAX\n"
   ]
  },
  {
   "cell_type": "code",
   "execution_count": 18,
   "metadata": {},
   "outputs": [],
   "source": [
    "%%skip $SKIP_SARIMAX\n",
    "\n",
    "horizon = 6\n",
    "order = (3, 2, 8)\n",
    "seasonal_order = (1, 1, 1, 24)\n",
    "exog = data_exog_train"
   ]
  },
  {
   "cell_type": "markdown",
   "metadata": {},
   "source": [
    "Preparing data for SARIMAX\n"
   ]
  },
  {
   "cell_type": "code",
   "execution_count": 19,
   "metadata": {},
   "outputs": [],
   "source": [
    "%%skip $SKIP_SARIMAX\n",
    "\n",
    "test_ts, history, predictions, history_temp, predictions_temp = prepare_data_sarimax(\n",
    "    data_y_train = data_y_train,\n",
    "    data_y_test = data_y_test,\n",
    "    exog_y_train = data_exog_train,\n",
    "    exog_y_test = data_exog_test,\n",
    "    horizon = horizon,\n",
    "    training_window=720,\n",
    "    feature=feature,\n",
    "    exog_feature=exog_feature,\n",
    ")"
   ]
  },
  {
   "cell_type": "markdown",
   "metadata": {},
   "source": [
    "Model Predictions\n"
   ]
  },
  {
   "cell_type": "code",
   "execution_count": 20,
   "metadata": {},
   "outputs": [
    {
     "name": "stdout",
     "output_type": "stream",
     "text": [
      "2017-01-01 00:00:00+01:00\n",
      "1 : predicted = [0.26147010122792247, 0.17113258149196484, 0.0999416431429474, 0.06731052671354729, 0.06028758847078777, 0.0731103245773861] true value = [0.2854193780011668, 0.24018309922362346, 0.17358524435668443, 0.11551406902122696, 0.07122021271821566, 0.054346362698020845]\n",
      "2017-01-01 06:00:00+01:00\n",
      "7 : predicted = [0.12847368056615255, 0.23861239937089515, 0.340275689942, 0.4358124592999023, 0.49721369562723433, 0.502825659563985] true value = [0.058789211506529604, 0.07404748014181217, 0.06996364941883948, 0.09859534174034013, 0.17771395234034915, 0.24126015348023155]\n",
      "2017-01-01 12:00:00+01:00\n",
      "13 : predicted = [0.48507391059670363, 0.48323863778492165, 0.4459973822629454, 0.40095465030257976, 0.38637383417036975, 0.41706297869042164] true value = [0.2702957411479604, 0.29681820221693667, 0.2979401337342368, 0.24170892608715155, 0.22128977247228832, 0.24678005654534851]\n",
      "2017-01-01 18:00:00+01:00\n",
      "19 : predicted = [0.5243369921806, 0.5568144690680438, 0.5509543461352955, 0.5182447510398953, 0.431097803067847, 0.3320940693839055] true value = [0.36880132836691637, 0.43203338868195484, 0.4775838082843423, 0.49988780684827006, 0.47466678633936177, 0.3731992999147332]\n"
     ]
    }
   ],
   "source": [
    "%%skip $SKIP_SARIMAX\n",
    "\n",
    "for t in range(0, test_ts.shape[0], horizon):\n",
    "\n",
    "    model = SARIMAX(\n",
    "        endog=history, exog=history_temp, order=order, seasonal_order=seasonal_order\n",
    "    )\n",
    "    \n",
    "    model_fit = model.fit()\n",
    "    \n",
    "    y_p = model_fit.forecast(\n",
    "        steps=horizon, exog=predictions_temp.iloc[:horizon].to_frame()\n",
    "    ).tolist()\n",
    "\n",
    "    obs = list(test_ts.iloc[t])\n",
    "    predictions.extend(y_p)\n",
    "\n",
    "    history = history.append(\n",
    "        pd.Series(\n",
    "            y_p,\n",
    "            index=pd.date_range(\n",
    "                start=history.index[-1] + timedelta(hours=1), periods=horizon, freq=\"h\"\n",
    "            ),\n",
    "        )\n",
    "    )\n",
    "    history = history[horizon:]\n",
    "\n",
    "    history_temp = history_temp.append(predictions_temp.iloc[:horizon])\n",
    "    history_temp.drop(index=history_temp.index[:horizon], inplace=True)\n",
    "    predictions_temp.drop(index=predictions_temp.index[:horizon], inplace=True)\n",
    "\n",
    "    print(test_ts.index[t])\n",
    "    print(t + 1, \": predicted =\", y_p, \"true value =\", obs)\n",
    "\n"
   ]
  },
  {
   "cell_type": "markdown",
   "metadata": {},
   "source": [
    "Create eval_df\n"
   ]
  },
  {
   "cell_type": "code",
   "execution_count": 21,
   "metadata": {},
   "outputs": [],
   "source": [
    "%%skip $SKIP_SARIMAX\n",
    "\n",
    "eval_df = pd.DataFrame(predictions)\n",
    "eval_df.columns = ['Prediction']\n",
    "eval_df=(eval_df.set_index(data_y_test.index)) \n",
    "eval_df['Actual'] = data_y_test[feature]\n",
    "eval_df[['Prediction', 'Actual']] = scaler_1.inverse_transform(eval_df[['Prediction', 'Actual']])"
   ]
  },
  {
   "cell_type": "code",
   "execution_count": 22,
   "metadata": {},
   "outputs": [
    {
     "data": {
      "image/png": "[encoded data removed]",
      "text/plain": [
       "<Figure size 432x288 with 1 Axes>"
      ]
     },
     "metadata": {
      "needs_background": "light"
     },
     "output_type": "display_data"
    }
   ],
   "source": [
    "%%skip $SKIP_SARIMAX\n",
    "\n",
    "fig = plot_predictions(eval_df,horizon,modeltype,feature,f\"./{modeltype}/predictions_{namespace}\")"
   ]
  },
  {
   "cell_type": "code",
   "execution_count": 23,
   "metadata": {},
   "outputs": [
    {
     "data": {
      "image/png": "[encoded data removed]",
      "text/plain": [
       "<Figure size 432x288 with 1 Axes>"
      ]
     },
     "metadata": {
      "needs_background": "light"
     },
     "output_type": "display_data"
    }
   ],
   "source": [
    "%%skip $SKIP_SARIMAX\n",
    "\n",
    "fig = plot_accuracy(eval_df,modeltype,f\"./{modeltype}/accuracy_{namespace}\")"
   ]
  },
  {
   "cell_type": "code",
   "execution_count": 24,
   "metadata": {},
   "outputs": [
    {
     "data": {
      "image/png": "[encoded data removed]",
      "text/plain": [
       "<Figure size 432x288 with 1 Axes>"
      ]
     },
     "metadata": {
      "needs_background": "light"
     },
     "output_type": "display_data"
    }
   ],
   "source": [
    "%%skip $SKIP_SARIMAX\n",
    "\n",
    "fig = plot_error_variations(eval_df,modeltype,f\"./{modeltype}/error_variations_{namespace}\")"
   ]
  },
  {
   "cell_type": "code",
   "execution_count": 25,
   "metadata": {},
   "outputs": [
    {
     "name": "stdout",
     "output_type": "stream",
     "text": [
      "R^2 score is  -0.40\n"
     ]
    }
   ],
   "source": [
    "%%skip $SKIP_SARIMAX\n",
    "\n",
    "Score_sarimax = r2_score(eval_df['Actual'],eval_df['Prediction'])\n",
    "print('R^2 score is  %3.2f' %np.mean(Score_sarimax))"
   ]
  }
 ],
 "metadata": {
  "interpreter": {
   "hash": "39d1545a961fb91480a52a0b6f0ba22788119e75d6e41681ee81894caf37680e"
  },
  "kernelspec": {
   "display_name": "Python 3.9.5 64-bit ('env': conda)",
   "language": "python",
   "name": "python3"
  },
  "language_info": {
   "codemirror_mode": {
    "name": "ipython",
    "version": 3
   },
   "file_extension": ".py",
   "mimetype": "text/x-python",
   "name": "python",
   "nbconvert_exporter": "python",
   "pygments_lexer": "ipython3",
   "version": "3.9.4"
  },
  "orig_nbformat": 4
 },
 "nbformat": 4,
 "nbformat_minor": 2
}
