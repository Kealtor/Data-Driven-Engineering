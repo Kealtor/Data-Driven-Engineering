{
 "cells": [
  {
   "cell_type": "code",
   "execution_count": 1,
   "metadata": {},
   "outputs": [],
   "source": [
    "import pandas as pd\n",
    "from utils.dde_preprocessing_utils import set_timestamp_index,remove_duplicates\n",
    "import datetime"
   ]
  },
  {
   "cell_type": "code",
   "execution_count": 2,
   "metadata": {},
   "outputs": [],
   "source": [
    "def process_energy_exchange(path,year,country):\n",
    "    df = pd.read_csv(path)\n",
    "    date_range = pd.date_range(start=f'{year}-01-01 00:00:00+1:00', end=f'{year+1}-01-01 00:00:00+1:00',freq='1H')\n",
    "    df=(df.set_index(date_range)).drop(['Time (CET)'],axis=1)\n",
    "    # df.index = df.index.tz_localize( 'Europe/Berlin')\n",
    "    df[f'energy_exchange_{country}'] = df[f'CTA|ES > CTA|{country} [MW]'] - df[f'CTA|{country} > CTA|ES [MW]'] \n",
    "    df.drop([f'CTA|{country} > CTA|ES [MW]',f'CTA|ES > CTA|{country} [MW]'],axis=1,inplace=True)\n",
    "    return df"
   ]
  },
  {
   "cell_type": "code",
   "execution_count": 3,
   "metadata": {},
   "outputs": [],
   "source": [
    "df_fr_15 = process_energy_exchange(\".\\extra_data\\Cross-Border Physical Flow_201501010000-201601010000_FR.csv\",2015,'FR')\n",
    "df_fr_16 = process_energy_exchange(\".\\extra_data\\Cross-Border Physical Flow_201601010000-201701010000_FR.csv\",2016,'FR')\n",
    "df_fr_17 = process_energy_exchange(\".\\extra_data\\Cross-Border Physical Flow_201701010000-201801010000_FR.csv\",2017,'FR')\n",
    "df_fr_18 = process_energy_exchange(\".\\extra_data\\Cross-Border Physical Flow_201801010000-201901010000_FR.csv\",2018,'FR')"
   ]
  },
  {
   "cell_type": "code",
   "execution_count": 4,
   "metadata": {},
   "outputs": [],
   "source": [
    "df_fr = pd.concat([df_fr_15,df_fr_16,df_fr_17,df_fr_18])"
   ]
  },
  {
   "cell_type": "code",
   "execution_count": 5,
   "metadata": {},
   "outputs": [],
   "source": [
    "df_fr = remove_duplicates(df_fr)"
   ]
  },
  {
   "cell_type": "code",
   "execution_count": 6,
   "metadata": {},
   "outputs": [],
   "source": [
    "df_fr.to_csv('transer_france.csv')"
   ]
  },
  {
   "cell_type": "code",
   "execution_count": 7,
   "metadata": {},
   "outputs": [],
   "source": [
    "df_pt_15 = process_energy_exchange(\".\\extra_data\\Cross-Border Physical Flow_201501010000-201601010000_PT.csv\",2015,'PT')\n",
    "df_pt_16 = process_energy_exchange(\".\\extra_data\\Cross-Border Physical Flow_201601010000-201701010000_PT.csv\",2016,'PT')\n",
    "df_pt_17 = process_energy_exchange(\".\\extra_data\\Cross-Border Physical Flow_201701010000-201801010000_PT.csv\",2017,'PT')\n",
    "df_pt_18 = process_energy_exchange(\".\\extra_data\\Cross-Border Physical Flow_201801010000-201901010000_PT.csv\",2018,'PT')\n",
    "df_pt = pd.concat([df_pt_15,df_pt_16,df_pt_17,df_pt_18])"
   ]
  },
  {
   "cell_type": "code",
   "execution_count": 8,
   "metadata": {},
   "outputs": [],
   "source": [
    "df_pt = remove_duplicates(df_pt)"
   ]
  },
  {
   "cell_type": "code",
   "execution_count": 9,
   "metadata": {},
   "outputs": [],
   "source": [
    "df_pt.to_csv('transer_portugal.csv')"
   ]
  },
  {
   "cell_type": "code",
   "execution_count": 10,
   "metadata": {},
   "outputs": [],
   "source": [
    "df = pd.concat([df_pt,df_fr],axis=1)"
   ]
  },
  {
   "cell_type": "code",
   "execution_count": 11,
   "metadata": {},
   "outputs": [],
   "source": [
    "df[:-1].to_csv('transfer.csv')"
   ]
  },
  {
   "cell_type": "code",
   "execution_count": 12,
   "metadata": {},
   "outputs": [
    {
     "data": {
      "text/plain": [
       "35065"
      ]
     },
     "execution_count": 12,
     "metadata": {},
     "output_type": "execute_result"
    }
   ],
   "source": [
    "len(df)"
   ]
  },
  {
   "cell_type": "code",
   "execution_count": 13,
   "metadata": {},
   "outputs": [
    {
     "data": {
      "text/html": [
       "<div>\n",
       "<style scoped>\n",
       "    .dataframe tbody tr th:only-of-type {\n",
       "        vertical-align: middle;\n",
       "    }\n",
       "\n",
       "    .dataframe tbody tr th {\n",
       "        vertical-align: top;\n",
       "    }\n",
       "\n",
       "    .dataframe thead th {\n",
       "        text-align: right;\n",
       "    }\n",
       "</style>\n",
       "<table border=\"1\" class=\"dataframe\">\n",
       "  <thead>\n",
       "    <tr style=\"text-align: right;\">\n",
       "      <th></th>\n",
       "      <th>energy_exchange_PT</th>\n",
       "      <th>energy_exchange_FR</th>\n",
       "    </tr>\n",
       "  </thead>\n",
       "  <tbody>\n",
       "    <tr>\n",
       "      <th>count</th>\n",
       "      <td>35061.000000</td>\n",
       "      <td>35056.000000</td>\n",
       "    </tr>\n",
       "    <tr>\n",
       "      <th>mean</th>\n",
       "      <td>-227.750692</td>\n",
       "      <td>-1122.184733</td>\n",
       "    </tr>\n",
       "    <tr>\n",
       "      <th>std</th>\n",
       "      <td>1125.397255</td>\n",
       "      <td>1590.866162</td>\n",
       "    </tr>\n",
       "    <tr>\n",
       "      <th>min</th>\n",
       "      <td>-3978.000000</td>\n",
       "      <td>-5567.000000</td>\n",
       "    </tr>\n",
       "    <tr>\n",
       "      <th>25%</th>\n",
       "      <td>-1006.000000</td>\n",
       "      <td>-2363.000000</td>\n",
       "    </tr>\n",
       "    <tr>\n",
       "      <th>50%</th>\n",
       "      <td>-159.000000</td>\n",
       "      <td>-1487.000000</td>\n",
       "    </tr>\n",
       "    <tr>\n",
       "      <th>75%</th>\n",
       "      <td>604.000000</td>\n",
       "      <td>-330.750000</td>\n",
       "    </tr>\n",
       "    <tr>\n",
       "      <th>max</th>\n",
       "      <td>3060.000000</td>\n",
       "      <td>3447.000000</td>\n",
       "    </tr>\n",
       "  </tbody>\n",
       "</table>\n",
       "</div>"
      ],
      "text/plain": [
       "       energy_exchange_PT  energy_exchange_FR\n",
       "count        35061.000000        35056.000000\n",
       "mean          -227.750692        -1122.184733\n",
       "std           1125.397255         1590.866162\n",
       "min          -3978.000000        -5567.000000\n",
       "25%          -1006.000000        -2363.000000\n",
       "50%           -159.000000        -1487.000000\n",
       "75%            604.000000         -330.750000\n",
       "max           3060.000000         3447.000000"
      ]
     },
     "execution_count": 13,
     "metadata": {},
     "output_type": "execute_result"
    }
   ],
   "source": [
    "df.describe()"
   ]
  },
  {
   "cell_type": "code",
   "execution_count": null,
   "metadata": {},
   "outputs": [],
   "source": []
  }
 ],
 "metadata": {
  "interpreter": {
   "hash": "a0222dbdd73fd60b7ff92b20beaaf370868796ede1305c92cd6e056c07507b06"
  },
  "kernelspec": {
   "display_name": "Python 3.9.4 64-bit ('dde': conda)",
   "language": "python",
   "name": "python3"
  },
  "language_info": {
   "codemirror_mode": {
    "name": "ipython",
    "version": 3
   },
   "file_extension": ".py",
   "mimetype": "text/x-python",
   "name": "python",
   "nbconvert_exporter": "python",
   "pygments_lexer": "ipython3",
   "version": "3.9.4"
  },
  "orig_nbformat": 4
 },
 "nbformat": 4,
 "nbformat_minor": 2
}
