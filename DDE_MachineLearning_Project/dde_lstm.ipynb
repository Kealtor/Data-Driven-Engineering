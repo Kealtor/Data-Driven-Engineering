{
 "cells": [
  {
   "cell_type": "code",
   "execution_count": 1,
   "metadata": {},
   "outputs": [],
   "source": [
    "import numpy as np\n",
    "import pandas as pd\n",
    "from datetime import date\n",
    "import plotly.express as px\n",
    "import plotly.graph_objects as go\n",
    "import math\n",
    "import matplotlib.pyplot as plt\n",
    "from sklearn import preprocessing as pp\n",
    "import matplotlib as mpl\n",
    "from sklearn.decomposition import PCA\n",
    "from pandas.plotting import lag_plot, autocorrelation_plot\n",
    "from statsmodels.graphics.tsaplots import plot_acf, plot_pacf \n",
    "import statsmodels.api as smw\n",
    "from datetime import timedelta\n",
    "from statsmodels.tsa.statespace.sarimax import SARIMAX\n",
    "from sklearn.svm import SVR\n",
    "from sklearn.metrics import r2_score\n",
    "import tensorflow as tf\n",
    "from tensorflow import keras\n",
    "from keras import optimizers, models, layers, regularizers\n",
    "tf.__version__\n",
    "from utils.dde_preprocessing_utils import (set_timestamp_index,\n",
    "remove_duplicates,\n",
    "remove_columns,\n",
    "extract_correlations,\n",
    "prepare_data_sarimax,\n",
    "create_test_train_split,\n",
    "create_sarimax_test_train_split,\n",
    "create_eval_df,\n",
    "convert_to_sample_time_feature)\n",
    "from utils.dde_plotting_utils import(\n",
    "display_double_timestamps,\n",
    "display_seasonal_decomposition,\n",
    "plot_predictions,\n",
    "plot_accuracy,\n",
    "plot_error_variations,\n",
    "plot_learning_curves,\n",
    ")\n",
    "%load_ext skip_kernel_extension"
   ]
  },
  {
   "cell_type": "code",
   "execution_count": 2,
   "metadata": {},
   "outputs": [],
   "source": [
    "config = tf.compat.v1.ConfigProto(gpu_options=tf.compat.v1.GPUOptions(per_process_gpu_memory_fraction=0.8))\n",
    "config.gpu_options.allow_growth = True\n",
    "session = tf.compat.v1.Session(config=config)\n",
    "tf.compat.v1.keras.backend.set_session(session)\n",
    "mpl.rcParams['figure.figsize'] = [8.0, 8.0]"
   ]
  },
  {
   "cell_type": "code",
   "execution_count": 3,
   "metadata": {},
   "outputs": [],
   "source": [
    "SKIP_RETRAIN_NN =True\n",
    "SKIP_RETRAIN_RNN = True\n",
    "SKIP_RETRAIN_LSTM = False\n",
    "SKIP_RETRAIN_ED_LSTM = True"
   ]
  },
  {
   "cell_type": "markdown",
   "metadata": {},
   "source": [
    "## Loading Data"
   ]
  },
  {
   "cell_type": "code",
   "execution_count": 4,
   "metadata": {},
   "outputs": [],
   "source": [
    "combined_df = pd.read_csv(\"preprocessed_data.csv\")\n",
    "combined_df = set_timestamp_index(combined_df,\"Unnamed: 0\")"
   ]
  },
  {
   "cell_type": "code",
   "execution_count": 5,
   "metadata": {},
   "outputs": [
    {
     "data": {
      "text/html": [
       "<div>\n",
       "<style scoped>\n",
       "    .dataframe tbody tr th:only-of-type {\n",
       "        vertical-align: middle;\n",
       "    }\n",
       "\n",
       "    .dataframe tbody tr th {\n",
       "        vertical-align: top;\n",
       "    }\n",
       "\n",
       "    .dataframe thead th {\n",
       "        text-align: right;\n",
       "    }\n",
       "</style>\n",
       "<table border=\"1\" class=\"dataframe\">\n",
       "  <thead>\n",
       "    <tr style=\"text-align: right;\">\n",
       "      <th></th>\n",
       "      <th>temp</th>\n",
       "      <th>pressure</th>\n",
       "      <th>humidity</th>\n",
       "      <th>wind_speed</th>\n",
       "      <th>wind_deg</th>\n",
       "      <th>generation biomass</th>\n",
       "      <th>generation fossil brown coal/lignite</th>\n",
       "      <th>generation fossil gas</th>\n",
       "      <th>generation fossil hard coal</th>\n",
       "      <th>generation fossil oil</th>\n",
       "      <th>...</th>\n",
       "      <th>generation solar</th>\n",
       "      <th>generation waste</th>\n",
       "      <th>generation wind onshore</th>\n",
       "      <th>total load actual</th>\n",
       "      <th>price actual</th>\n",
       "      <th>generation</th>\n",
       "      <th>energy_difference</th>\n",
       "      <th>month</th>\n",
       "      <th>day</th>\n",
       "      <th>weekend</th>\n",
       "    </tr>\n",
       "  </thead>\n",
       "  <tbody>\n",
       "    <tr>\n",
       "      <th>2015-01-01 00:00:00+01:00</th>\n",
       "      <td>-2.675</td>\n",
       "      <td>1001.0</td>\n",
       "      <td>77</td>\n",
       "      <td>1.0</td>\n",
       "      <td>62</td>\n",
       "      <td>447.0</td>\n",
       "      <td>329.0</td>\n",
       "      <td>4844.0</td>\n",
       "      <td>4821.0</td>\n",
       "      <td>162.0</td>\n",
       "      <td>...</td>\n",
       "      <td>49.0</td>\n",
       "      <td>196.0</td>\n",
       "      <td>6378.0</td>\n",
       "      <td>25385.0</td>\n",
       "      <td>65.41</td>\n",
       "      <td>28251.0</td>\n",
       "      <td>2866.0</td>\n",
       "      <td>1</td>\n",
       "      <td>1</td>\n",
       "      <td>0</td>\n",
       "    </tr>\n",
       "    <tr>\n",
       "      <th>2015-01-01 01:00:00+01:00</th>\n",
       "      <td>-2.675</td>\n",
       "      <td>1001.0</td>\n",
       "      <td>77</td>\n",
       "      <td>1.0</td>\n",
       "      <td>62</td>\n",
       "      <td>449.0</td>\n",
       "      <td>328.0</td>\n",
       "      <td>5196.0</td>\n",
       "      <td>4755.0</td>\n",
       "      <td>158.0</td>\n",
       "      <td>...</td>\n",
       "      <td>50.0</td>\n",
       "      <td>195.0</td>\n",
       "      <td>5890.0</td>\n",
       "      <td>24382.0</td>\n",
       "      <td>64.92</td>\n",
       "      <td>27818.0</td>\n",
       "      <td>3436.0</td>\n",
       "      <td>1</td>\n",
       "      <td>1</td>\n",
       "      <td>0</td>\n",
       "    </tr>\n",
       "    <tr>\n",
       "      <th>2015-01-01 02:00:00+01:00</th>\n",
       "      <td>-3.464</td>\n",
       "      <td>1002.0</td>\n",
       "      <td>78</td>\n",
       "      <td>0.0</td>\n",
       "      <td>23</td>\n",
       "      <td>448.0</td>\n",
       "      <td>323.0</td>\n",
       "      <td>4857.0</td>\n",
       "      <td>4581.0</td>\n",
       "      <td>157.0</td>\n",
       "      <td>...</td>\n",
       "      <td>50.0</td>\n",
       "      <td>196.0</td>\n",
       "      <td>5461.0</td>\n",
       "      <td>22734.0</td>\n",
       "      <td>64.48</td>\n",
       "      <td>26796.0</td>\n",
       "      <td>4062.0</td>\n",
       "      <td>1</td>\n",
       "      <td>1</td>\n",
       "      <td>0</td>\n",
       "    </tr>\n",
       "    <tr>\n",
       "      <th>2015-01-01 03:00:00+01:00</th>\n",
       "      <td>-3.464</td>\n",
       "      <td>1002.0</td>\n",
       "      <td>78</td>\n",
       "      <td>0.0</td>\n",
       "      <td>23</td>\n",
       "      <td>438.0</td>\n",
       "      <td>254.0</td>\n",
       "      <td>4314.0</td>\n",
       "      <td>4131.0</td>\n",
       "      <td>160.0</td>\n",
       "      <td>...</td>\n",
       "      <td>50.0</td>\n",
       "      <td>191.0</td>\n",
       "      <td>5238.0</td>\n",
       "      <td>21286.0</td>\n",
       "      <td>59.32</td>\n",
       "      <td>25223.0</td>\n",
       "      <td>3937.0</td>\n",
       "      <td>1</td>\n",
       "      <td>1</td>\n",
       "      <td>0</td>\n",
       "    </tr>\n",
       "    <tr>\n",
       "      <th>2015-01-01 04:00:00+01:00</th>\n",
       "      <td>-3.464</td>\n",
       "      <td>1002.0</td>\n",
       "      <td>78</td>\n",
       "      <td>0.0</td>\n",
       "      <td>23</td>\n",
       "      <td>428.0</td>\n",
       "      <td>187.0</td>\n",
       "      <td>4130.0</td>\n",
       "      <td>3840.0</td>\n",
       "      <td>156.0</td>\n",
       "      <td>...</td>\n",
       "      <td>42.0</td>\n",
       "      <td>189.0</td>\n",
       "      <td>4935.0</td>\n",
       "      <td>20264.0</td>\n",
       "      <td>56.04</td>\n",
       "      <td>24620.0</td>\n",
       "      <td>4356.0</td>\n",
       "      <td>1</td>\n",
       "      <td>1</td>\n",
       "      <td>0</td>\n",
       "    </tr>\n",
       "    <tr>\n",
       "      <th>...</th>\n",
       "      <td>...</td>\n",
       "      <td>...</td>\n",
       "      <td>...</td>\n",
       "      <td>...</td>\n",
       "      <td>...</td>\n",
       "      <td>...</td>\n",
       "      <td>...</td>\n",
       "      <td>...</td>\n",
       "      <td>...</td>\n",
       "      <td>...</td>\n",
       "      <td>...</td>\n",
       "      <td>...</td>\n",
       "      <td>...</td>\n",
       "      <td>...</td>\n",
       "      <td>...</td>\n",
       "      <td>...</td>\n",
       "      <td>...</td>\n",
       "      <td>...</td>\n",
       "      <td>...</td>\n",
       "      <td>...</td>\n",
       "      <td>...</td>\n",
       "    </tr>\n",
       "    <tr>\n",
       "      <th>2018-12-31 19:00:00+01:00</th>\n",
       "      <td>12.490</td>\n",
       "      <td>1028.0</td>\n",
       "      <td>62</td>\n",
       "      <td>2.0</td>\n",
       "      <td>140</td>\n",
       "      <td>297.0</td>\n",
       "      <td>0.0</td>\n",
       "      <td>7634.0</td>\n",
       "      <td>2628.0</td>\n",
       "      <td>178.0</td>\n",
       "      <td>...</td>\n",
       "      <td>85.0</td>\n",
       "      <td>277.0</td>\n",
       "      <td>3113.0</td>\n",
       "      <td>30653.0</td>\n",
       "      <td>77.02</td>\n",
       "      <td>26415.0</td>\n",
       "      <td>-4238.0</td>\n",
       "      <td>12</td>\n",
       "      <td>31</td>\n",
       "      <td>0</td>\n",
       "    </tr>\n",
       "    <tr>\n",
       "      <th>2018-12-31 20:00:00+01:00</th>\n",
       "      <td>9.990</td>\n",
       "      <td>1029.0</td>\n",
       "      <td>71</td>\n",
       "      <td>1.0</td>\n",
       "      <td>242</td>\n",
       "      <td>296.0</td>\n",
       "      <td>0.0</td>\n",
       "      <td>7241.0</td>\n",
       "      <td>2566.0</td>\n",
       "      <td>174.0</td>\n",
       "      <td>...</td>\n",
       "      <td>33.0</td>\n",
       "      <td>280.0</td>\n",
       "      <td>3288.0</td>\n",
       "      <td>29735.0</td>\n",
       "      <td>76.16</td>\n",
       "      <td>25213.0</td>\n",
       "      <td>-4522.0</td>\n",
       "      <td>12</td>\n",
       "      <td>31</td>\n",
       "      <td>0</td>\n",
       "    </tr>\n",
       "    <tr>\n",
       "      <th>2018-12-31 21:00:00+01:00</th>\n",
       "      <td>8.510</td>\n",
       "      <td>1029.0</td>\n",
       "      <td>81</td>\n",
       "      <td>3.0</td>\n",
       "      <td>300</td>\n",
       "      <td>292.0</td>\n",
       "      <td>0.0</td>\n",
       "      <td>7025.0</td>\n",
       "      <td>2422.0</td>\n",
       "      <td>168.0</td>\n",
       "      <td>...</td>\n",
       "      <td>31.0</td>\n",
       "      <td>286.0</td>\n",
       "      <td>3503.0</td>\n",
       "      <td>28071.0</td>\n",
       "      <td>74.30</td>\n",
       "      <td>23987.0</td>\n",
       "      <td>-4084.0</td>\n",
       "      <td>12</td>\n",
       "      <td>31</td>\n",
       "      <td>0</td>\n",
       "    </tr>\n",
       "    <tr>\n",
       "      <th>2018-12-31 22:00:00+01:00</th>\n",
       "      <td>6.990</td>\n",
       "      <td>1029.0</td>\n",
       "      <td>81</td>\n",
       "      <td>2.0</td>\n",
       "      <td>310</td>\n",
       "      <td>293.0</td>\n",
       "      <td>0.0</td>\n",
       "      <td>6562.0</td>\n",
       "      <td>2293.0</td>\n",
       "      <td>163.0</td>\n",
       "      <td>...</td>\n",
       "      <td>31.0</td>\n",
       "      <td>287.0</td>\n",
       "      <td>3586.0</td>\n",
       "      <td>25801.0</td>\n",
       "      <td>69.89</td>\n",
       "      <td>22748.0</td>\n",
       "      <td>-3053.0</td>\n",
       "      <td>12</td>\n",
       "      <td>31</td>\n",
       "      <td>0</td>\n",
       "    </tr>\n",
       "    <tr>\n",
       "      <th>2018-12-31 23:00:00+01:00</th>\n",
       "      <td>5.990</td>\n",
       "      <td>1029.0</td>\n",
       "      <td>75</td>\n",
       "      <td>2.0</td>\n",
       "      <td>300</td>\n",
       "      <td>290.0</td>\n",
       "      <td>0.0</td>\n",
       "      <td>6926.0</td>\n",
       "      <td>2166.0</td>\n",
       "      <td>163.0</td>\n",
       "      <td>...</td>\n",
       "      <td>31.0</td>\n",
       "      <td>287.0</td>\n",
       "      <td>3651.0</td>\n",
       "      <td>24455.0</td>\n",
       "      <td>69.88</td>\n",
       "      <td>22605.0</td>\n",
       "      <td>-1850.0</td>\n",
       "      <td>12</td>\n",
       "      <td>31</td>\n",
       "      <td>0</td>\n",
       "    </tr>\n",
       "  </tbody>\n",
       "</table>\n",
       "<p>35064 rows × 26 columns</p>\n",
       "</div>"
      ],
      "text/plain": [
       "                             temp  pressure  humidity  wind_speed  wind_deg  \\\n",
       "2015-01-01 00:00:00+01:00  -2.675    1001.0        77         1.0        62   \n",
       "2015-01-01 01:00:00+01:00  -2.675    1001.0        77         1.0        62   \n",
       "2015-01-01 02:00:00+01:00  -3.464    1002.0        78         0.0        23   \n",
       "2015-01-01 03:00:00+01:00  -3.464    1002.0        78         0.0        23   \n",
       "2015-01-01 04:00:00+01:00  -3.464    1002.0        78         0.0        23   \n",
       "...                           ...       ...       ...         ...       ...   \n",
       "2018-12-31 19:00:00+01:00  12.490    1028.0        62         2.0       140   \n",
       "2018-12-31 20:00:00+01:00   9.990    1029.0        71         1.0       242   \n",
       "2018-12-31 21:00:00+01:00   8.510    1029.0        81         3.0       300   \n",
       "2018-12-31 22:00:00+01:00   6.990    1029.0        81         2.0       310   \n",
       "2018-12-31 23:00:00+01:00   5.990    1029.0        75         2.0       300   \n",
       "\n",
       "                           generation biomass  \\\n",
       "2015-01-01 00:00:00+01:00               447.0   \n",
       "2015-01-01 01:00:00+01:00               449.0   \n",
       "2015-01-01 02:00:00+01:00               448.0   \n",
       "2015-01-01 03:00:00+01:00               438.0   \n",
       "2015-01-01 04:00:00+01:00               428.0   \n",
       "...                                       ...   \n",
       "2018-12-31 19:00:00+01:00               297.0   \n",
       "2018-12-31 20:00:00+01:00               296.0   \n",
       "2018-12-31 21:00:00+01:00               292.0   \n",
       "2018-12-31 22:00:00+01:00               293.0   \n",
       "2018-12-31 23:00:00+01:00               290.0   \n",
       "\n",
       "                           generation fossil brown coal/lignite  \\\n",
       "2015-01-01 00:00:00+01:00                                 329.0   \n",
       "2015-01-01 01:00:00+01:00                                 328.0   \n",
       "2015-01-01 02:00:00+01:00                                 323.0   \n",
       "2015-01-01 03:00:00+01:00                                 254.0   \n",
       "2015-01-01 04:00:00+01:00                                 187.0   \n",
       "...                                                         ...   \n",
       "2018-12-31 19:00:00+01:00                                   0.0   \n",
       "2018-12-31 20:00:00+01:00                                   0.0   \n",
       "2018-12-31 21:00:00+01:00                                   0.0   \n",
       "2018-12-31 22:00:00+01:00                                   0.0   \n",
       "2018-12-31 23:00:00+01:00                                   0.0   \n",
       "\n",
       "                           generation fossil gas  generation fossil hard coal  \\\n",
       "2015-01-01 00:00:00+01:00                 4844.0                       4821.0   \n",
       "2015-01-01 01:00:00+01:00                 5196.0                       4755.0   \n",
       "2015-01-01 02:00:00+01:00                 4857.0                       4581.0   \n",
       "2015-01-01 03:00:00+01:00                 4314.0                       4131.0   \n",
       "2015-01-01 04:00:00+01:00                 4130.0                       3840.0   \n",
       "...                                          ...                          ...   \n",
       "2018-12-31 19:00:00+01:00                 7634.0                       2628.0   \n",
       "2018-12-31 20:00:00+01:00                 7241.0                       2566.0   \n",
       "2018-12-31 21:00:00+01:00                 7025.0                       2422.0   \n",
       "2018-12-31 22:00:00+01:00                 6562.0                       2293.0   \n",
       "2018-12-31 23:00:00+01:00                 6926.0                       2166.0   \n",
       "\n",
       "                           generation fossil oil  ...  generation solar  \\\n",
       "2015-01-01 00:00:00+01:00                  162.0  ...              49.0   \n",
       "2015-01-01 01:00:00+01:00                  158.0  ...              50.0   \n",
       "2015-01-01 02:00:00+01:00                  157.0  ...              50.0   \n",
       "2015-01-01 03:00:00+01:00                  160.0  ...              50.0   \n",
       "2015-01-01 04:00:00+01:00                  156.0  ...              42.0   \n",
       "...                                          ...  ...               ...   \n",
       "2018-12-31 19:00:00+01:00                  178.0  ...              85.0   \n",
       "2018-12-31 20:00:00+01:00                  174.0  ...              33.0   \n",
       "2018-12-31 21:00:00+01:00                  168.0  ...              31.0   \n",
       "2018-12-31 22:00:00+01:00                  163.0  ...              31.0   \n",
       "2018-12-31 23:00:00+01:00                  163.0  ...              31.0   \n",
       "\n",
       "                           generation waste  generation wind onshore  \\\n",
       "2015-01-01 00:00:00+01:00             196.0                   6378.0   \n",
       "2015-01-01 01:00:00+01:00             195.0                   5890.0   \n",
       "2015-01-01 02:00:00+01:00             196.0                   5461.0   \n",
       "2015-01-01 03:00:00+01:00             191.0                   5238.0   \n",
       "2015-01-01 04:00:00+01:00             189.0                   4935.0   \n",
       "...                                     ...                      ...   \n",
       "2018-12-31 19:00:00+01:00             277.0                   3113.0   \n",
       "2018-12-31 20:00:00+01:00             280.0                   3288.0   \n",
       "2018-12-31 21:00:00+01:00             286.0                   3503.0   \n",
       "2018-12-31 22:00:00+01:00             287.0                   3586.0   \n",
       "2018-12-31 23:00:00+01:00             287.0                   3651.0   \n",
       "\n",
       "                           total load actual  price actual  generation  \\\n",
       "2015-01-01 00:00:00+01:00            25385.0         65.41     28251.0   \n",
       "2015-01-01 01:00:00+01:00            24382.0         64.92     27818.0   \n",
       "2015-01-01 02:00:00+01:00            22734.0         64.48     26796.0   \n",
       "2015-01-01 03:00:00+01:00            21286.0         59.32     25223.0   \n",
       "2015-01-01 04:00:00+01:00            20264.0         56.04     24620.0   \n",
       "...                                      ...           ...         ...   \n",
       "2018-12-31 19:00:00+01:00            30653.0         77.02     26415.0   \n",
       "2018-12-31 20:00:00+01:00            29735.0         76.16     25213.0   \n",
       "2018-12-31 21:00:00+01:00            28071.0         74.30     23987.0   \n",
       "2018-12-31 22:00:00+01:00            25801.0         69.89     22748.0   \n",
       "2018-12-31 23:00:00+01:00            24455.0         69.88     22605.0   \n",
       "\n",
       "                           energy_difference  month  day  weekend  \n",
       "2015-01-01 00:00:00+01:00             2866.0      1    1        0  \n",
       "2015-01-01 01:00:00+01:00             3436.0      1    1        0  \n",
       "2015-01-01 02:00:00+01:00             4062.0      1    1        0  \n",
       "2015-01-01 03:00:00+01:00             3937.0      1    1        0  \n",
       "2015-01-01 04:00:00+01:00             4356.0      1    1        0  \n",
       "...                                      ...    ...  ...      ...  \n",
       "2018-12-31 19:00:00+01:00            -4238.0     12   31        0  \n",
       "2018-12-31 20:00:00+01:00            -4522.0     12   31        0  \n",
       "2018-12-31 21:00:00+01:00            -4084.0     12   31        0  \n",
       "2018-12-31 22:00:00+01:00            -3053.0     12   31        0  \n",
       "2018-12-31 23:00:00+01:00            -1850.0     12   31        0  \n",
       "\n",
       "[35064 rows x 26 columns]"
      ]
     },
     "execution_count": 5,
     "metadata": {},
     "output_type": "execute_result"
    }
   ],
   "source": [
    "combined_df"
   ]
  },
  {
   "cell_type": "markdown",
   "metadata": {},
   "source": [
    "# LSTM"
   ]
  },
  {
   "cell_type": "markdown",
   "metadata": {},
   "source": [
    "Scale the input data"
   ]
  },
  {
   "cell_type": "code",
   "execution_count": 6,
   "metadata": {},
   "outputs": [],
   "source": [
    "scaled_df = combined_df.copy(deep=True)\n",
    "featuresToScale = scaled_df.columns\n",
    "sX = pp.StandardScaler(copy=True)\n",
    "scaled_df.loc[:,featuresToScale] = sX.fit_transform(scaled_df[featuresToScale])"
   ]
  },
  {
   "cell_type": "markdown",
   "metadata": {},
   "source": [
    "Create Train Validation Test Split"
   ]
  },
  {
   "cell_type": "code",
   "execution_count": 7,
   "metadata": {},
   "outputs": [],
   "source": [
    "train_start = '2015-01-01'\n",
    "validation_start = '2017-01-01'\n",
    "test_start = '2017-03-01'\n",
    "test_end = '2017-03-07'\n",
    "feature = 'price actual'\n",
    "feature_df = combined_df[[feature]]\n",
    "data_x_train0,data_x_val0,data_x_test0,data_y_train0,data_y_val0,data_y_test0 = create_test_train_split(scaled_df,feature_df,train_start,test_start,test_end,validation_start=validation_start)"
   ]
  },
  {
   "cell_type": "markdown",
   "metadata": {},
   "source": [
    "Convert to (sample,timestep,feature) format"
   ]
  },
  {
   "cell_type": "code",
   "execution_count": 8,
   "metadata": {},
   "outputs": [],
   "source": [
    "data_x_train,data_y_train,idx_train = convert_to_sample_time_feature(data_x_train0,data_y_train0,72,1,32)\n",
    "data_x_test,data_y_test,idx_test = convert_to_sample_time_feature(data_x_test0,data_y_test0,72,1,32)\n",
    "data_x_val,data_y_val,idx_val = convert_to_sample_time_feature(data_x_val0,data_y_val0,72,1,32)\n"
   ]
  },
  {
   "cell_type": "code",
   "execution_count": 9,
   "metadata": {},
   "outputs": [
    {
     "name": "stdout",
     "output_type": "stream",
     "text": [
      "(17462, 72, 26) (17462, 1)\n",
      "(1334, 72, 26) (1334, 1)\n",
      "(54, 72, 26) (54, 1)\n"
     ]
    }
   ],
   "source": [
    "print(data_x_train.shape,data_y_train.shape)\n",
    "print(data_x_val.shape,data_y_val.shape)\n",
    "print(data_x_test.shape,data_y_test.shape)"
   ]
  },
  {
   "cell_type": "markdown",
   "metadata": {},
   "source": [
    "Define LSTM Model"
   ]
  },
  {
   "cell_type": "code",
   "execution_count": 10,
   "metadata": {},
   "outputs": [],
   "source": [
    "def build_model_LSTM(data_x_train,data_y_train):\n",
    "  n_timesteps, n_features, n_outputs = data_x_train.shape[1], data_x_train.shape[2], data_y_train.shape[1]\n",
    "  model = models.Sequential([\n",
    "  layers.LSTM(32, return_sequences=True,input_shape=(None, n_features), stateful=False), \n",
    "  layers.BatchNormalization(),\n",
    "  layers.LSTM(32, return_sequences=True, stateful=False),\n",
    "  layers.BatchNormalization(),\n",
    "  layers.LSTM(32, stateful=False),\n",
    "  layers.BatchNormalization(),\n",
    "  layers.Dense(n_outputs)                     \n",
    "  ])\n",
    "  model.compile(optimizer='Adam',loss='mae',metrics='mse') \n",
    "  return model"
   ]
  },
  {
   "cell_type": "markdown",
   "metadata": {},
   "source": [
    "Definening callback functions"
   ]
  },
  {
   "cell_type": "code",
   "execution_count": 11,
   "metadata": {},
   "outputs": [],
   "source": [
    "myCheckpointLSTM= keras.callbacks.ModelCheckpoint(\"./LSTM/my_best_LSTM_model.h5\", save_best_only=True)\n",
    "myEarly_stoppingLSTM = keras.callbacks.EarlyStopping(patience=20,restore_best_weights=True)"
   ]
  },
  {
   "cell_type": "markdown",
   "metadata": {},
   "source": [
    "Hypterparameters"
   ]
  },
  {
   "cell_type": "code",
   "execution_count": 12,
   "metadata": {},
   "outputs": [],
   "source": [
    "num_epochs = 150\n",
    "batch_size = 32"
   ]
  },
  {
   "cell_type": "markdown",
   "metadata": {},
   "source": [
    "Training the model"
   ]
  },
  {
   "cell_type": "code",
   "execution_count": 13,
   "metadata": {},
   "outputs": [
    {
     "name": "stdout",
     "output_type": "stream",
     "text": [
      "Epoch 1/150\n",
      "546/546 [==============================] - 14s 16ms/step - loss: 45.2686 - mse: 2313.8379 - val_loss: 38.3052 - val_mse: 1691.5596\n",
      "Epoch 2/150\n",
      "546/546 [==============================] - 9s 16ms/step - loss: 10.1134 - mse: 211.7388 - val_loss: 8.2475 - val_mse: 105.5572\n",
      "Epoch 3/150\n",
      "546/546 [==============================] - 9s 16ms/step - loss: 3.5041 - mse: 20.4178 - val_loss: 5.5670 - val_mse: 54.3346\n",
      "Epoch 4/150\n",
      "546/546 [==============================] - 9s 16ms/step - loss: 3.3003 - mse: 18.1844 - val_loss: 4.7941 - val_mse: 39.6723\n",
      "Epoch 5/150\n",
      "546/546 [==============================] - 8s 15ms/step - loss: 3.2136 - mse: 17.2221 - val_loss: 4.8680 - val_mse: 41.0627\n",
      "Epoch 6/150\n",
      "546/546 [==============================] - 8s 15ms/step - loss: 3.0723 - mse: 15.8681 - val_loss: 4.5837 - val_mse: 36.3090\n",
      "Epoch 7/150\n",
      "546/546 [==============================] - 8s 15ms/step - loss: 3.1051 - mse: 15.9342 - val_loss: 4.8682 - val_mse: 41.8218\n",
      "Epoch 8/150\n",
      "546/546 [==============================] - 9s 16ms/step - loss: 3.1178 - mse: 16.2550 - val_loss: 4.5178 - val_mse: 34.2986\n",
      "Epoch 9/150\n",
      "546/546 [==============================] - 10s 18ms/step - loss: 3.0098 - mse: 15.2273 - val_loss: 5.2628 - val_mse: 44.7222\n",
      "Epoch 10/150\n",
      "546/546 [==============================] - 10s 19ms/step - loss: 3.0659 - mse: 15.6643 - val_loss: 4.2413 - val_mse: 31.7840\n",
      "Epoch 11/150\n",
      "546/546 [==============================] - 11s 20ms/step - loss: 3.0258 - mse: 15.2596 - val_loss: 4.9777 - val_mse: 41.7331\n",
      "Epoch 12/150\n",
      "546/546 [==============================] - 10s 18ms/step - loss: 2.9783 - mse: 14.6935 - val_loss: 4.6111 - val_mse: 35.5838\n",
      "Epoch 13/150\n",
      "546/546 [==============================] - 9s 17ms/step - loss: 3.0112 - mse: 15.0698 - val_loss: 4.2395 - val_mse: 32.0769\n",
      "Epoch 14/150\n",
      "546/546 [==============================] - 10s 18ms/step - loss: 2.9564 - mse: 14.6096 - val_loss: 4.5976 - val_mse: 36.6928\n",
      "Epoch 15/150\n",
      "546/546 [==============================] - 9s 17ms/step - loss: 3.0079 - mse: 14.9470 - val_loss: 5.1604 - val_mse: 44.1609\n",
      "Epoch 16/150\n",
      "546/546 [==============================] - 9s 17ms/step - loss: 3.0968 - mse: 15.7047 - val_loss: 4.5551 - val_mse: 35.5859\n",
      "Epoch 17/150\n",
      "546/546 [==============================] - 9s 17ms/step - loss: 2.9385 - mse: 14.2825 - val_loss: 4.6222 - val_mse: 37.2539\n",
      "Epoch 18/150\n",
      "546/546 [==============================] - 9s 17ms/step - loss: 2.8725 - mse: 13.9127 - val_loss: 5.0359 - val_mse: 41.7618\n",
      "Epoch 19/150\n",
      "546/546 [==============================] - 10s 19ms/step - loss: 2.8809 - mse: 14.0126 - val_loss: 4.4319 - val_mse: 34.6605\n",
      "Epoch 20/150\n",
      "546/546 [==============================] - 11s 19ms/step - loss: 2.7759 - mse: 12.8334 - val_loss: 4.3656 - val_mse: 32.6789\n",
      "Epoch 21/150\n",
      "546/546 [==============================] - 10s 19ms/step - loss: 2.9094 - mse: 14.2111 - val_loss: 5.1031 - val_mse: 43.1835\n",
      "Epoch 22/150\n",
      "546/546 [==============================] - 10s 19ms/step - loss: 2.8623 - mse: 13.5815 - val_loss: 5.0634 - val_mse: 43.8903\n",
      "Epoch 23/150\n",
      "546/546 [==============================] - 11s 20ms/step - loss: 2.7667 - mse: 12.9147 - val_loss: 4.8930 - val_mse: 40.4657\n",
      "Epoch 24/150\n",
      "546/546 [==============================] - 11s 20ms/step - loss: 2.7860 - mse: 13.0339 - val_loss: 4.7182 - val_mse: 37.3418\n",
      "Epoch 25/150\n",
      "546/546 [==============================] - 11s 19ms/step - loss: 2.8231 - mse: 13.3978 - val_loss: 5.1009 - val_mse: 40.4321\n",
      "Epoch 26/150\n",
      "546/546 [==============================] - 11s 20ms/step - loss: 2.8022 - mse: 12.9943 - val_loss: 5.0671 - val_mse: 41.4545\n",
      "Epoch 27/150\n",
      "546/546 [==============================] - 10s 19ms/step - loss: 2.8315 - mse: 13.3722 - val_loss: 4.8087 - val_mse: 39.7340\n",
      "Epoch 28/150\n",
      "546/546 [==============================] - 11s 20ms/step - loss: 2.7480 - mse: 12.4491 - val_loss: 4.8992 - val_mse: 38.4128\n",
      "Epoch 29/150\n",
      "546/546 [==============================] - 11s 20ms/step - loss: 2.8599 - mse: 13.5142 - val_loss: 5.0298 - val_mse: 42.0855\n",
      "Epoch 30/150\n",
      "546/546 [==============================] - 11s 19ms/step - loss: 2.7762 - mse: 12.8955 - val_loss: 4.9112 - val_mse: 40.6091\n",
      "Epoch 31/150\n",
      "546/546 [==============================] - 10s 19ms/step - loss: 2.8540 - mse: 13.4485 - val_loss: 4.4080 - val_mse: 32.4592\n",
      "Epoch 32/150\n",
      "546/546 [==============================] - 11s 20ms/step - loss: 2.7836 - mse: 12.8984 - val_loss: 4.3770 - val_mse: 32.7813\n",
      "Epoch 33/150\n",
      "546/546 [==============================] - 11s 20ms/step - loss: 2.7348 - mse: 12.3666 - val_loss: 4.8838 - val_mse: 40.1742\n"
     ]
    }
   ],
   "source": [
    "%%skip $SKIP_RETRAIN_LSTM\n",
    "\n",
    "model_LSTM = build_model_LSTM(data_x_train,data_y_train)\n",
    "history_LSTM = model_LSTM.fit(data_x_train, data_y_train, epochs=num_epochs, batch_size=batch_size, validation_data=(data_x_val, data_y_val) , \n",
    "                                 callbacks=[myCheckpointLSTM,myEarly_stoppingLSTM])#, verbose=0)"
   ]
  },
  {
   "cell_type": "markdown",
   "metadata": {},
   "source": [
    "Evaluate the training process"
   ]
  },
  {
   "cell_type": "code",
   "execution_count": 14,
   "metadata": {
    "colab": {
     "base_uri": "https://localhost:8080/",
     "height": 159
    },
    "id": "0f_FwfmlHyAl",
    "outputId": "080474a2-3f61-42ca-95ef-7bc23f76c853"
   },
   "outputs": [],
   "source": [
    "%%skip $SKIP_RETRAIN_LSTM\n",
    "\n",
    "histLSTM = pd.DataFrame(history_LSTM.history)\n",
    "histLSTM['epoch'] = history_LSTM.epoch"
   ]
  },
  {
   "cell_type": "code",
   "execution_count": 15,
   "metadata": {
    "colab": {
     "base_uri": "https://localhost:8080/",
     "height": 405
    },
    "id": "d2SviC32HyAr",
    "outputId": "512e600c-f7c8-46cd-9801-7387d6bf4f7f"
   },
   "outputs": [
    {
     "name": "stderr",
     "output_type": "stream",
     "text": [
      "<string>:3: UserWarning: Matplotlib is currently using module://ipykernel.pylab.backend_inline, which is a non-GUI backend, so cannot show the figure.\n"
     ]
    },
    {
     "data": {
      "image/png": "[encoded data removed]",
      "text/plain": [
       "<Figure size 576x576 with 1 Axes>"
      ]
     },
     "metadata": {
      "needs_background": "light"
     },
     "output_type": "display_data"
    }
   ],
   "source": [
    "%%skip $SKIP_RETRAIN_LSTM\n",
    "\n",
    "fig = plot_learning_curves(histLSTM,'LSTM','./LSTM/learning_curve_LSTM.png')\n",
    "fig.show()"
   ]
  },
  {
   "cell_type": "markdown",
   "metadata": {},
   "source": [
    "Load best model"
   ]
  },
  {
   "cell_type": "code",
   "execution_count": 16,
   "metadata": {},
   "outputs": [
    {
     "name": "stdout",
     "output_type": "stream",
     "text": [
      "Model: \"sequential\"\n",
      "_________________________________________________________________\n",
      "Layer (type)                 Output Shape              Param #   \n",
      "=================================================================\n",
      "lstm (LSTM)                  (None, None, 32)          7552      \n",
      "_________________________________________________________________\n",
      "batch_normalization (BatchNo (None, None, 32)          128       \n",
      "_________________________________________________________________\n",
      "lstm_1 (LSTM)                (None, None, 32)          8320      \n",
      "_________________________________________________________________\n",
      "batch_normalization_1 (Batch (None, None, 32)          128       \n",
      "_________________________________________________________________\n",
      "lstm_2 (LSTM)                (None, 32)                8320      \n",
      "_________________________________________________________________\n",
      "batch_normalization_2 (Batch (None, 32)                128       \n",
      "_________________________________________________________________\n",
      "dense (Dense)                (None, 1)                 33        \n",
      "=================================================================\n",
      "Total params: 24,609\n",
      "Trainable params: 24,417\n",
      "Non-trainable params: 192\n",
      "_________________________________________________________________\n"
     ]
    }
   ],
   "source": [
    "#Calling back the best model:\n",
    "model_best_LSTM = keras.models.load_model(\"./LSTM/my_best_LSTM_model.h5\")\n",
    "model_best_LSTM.summary()"
   ]
  },
  {
   "cell_type": "code",
   "execution_count": 17,
   "metadata": {},
   "outputs": [],
   "source": [
    "y_test_filtered = data_y_test0.loc[idx_test]\n",
    "y_test_filtered =y_test_filtered.squeeze(axis=1)\n",
    "Y_test_predictions = pd.Series(model_best_LSTM.predict(data_x_test).flatten(),index=y_test_filtered.index)\n"
   ]
  },
  {
   "cell_type": "code",
   "execution_count": 18,
   "metadata": {},
   "outputs": [],
   "source": [
    "eval_df = create_eval_df(Y_test_predictions,y_test_filtered)"
   ]
  },
  {
   "cell_type": "code",
   "execution_count": 19,
   "metadata": {
    "colab": {
     "base_uri": "https://localhost:8080/",
     "height": 426
    },
    "id": "5X3Hs_GtHyAs",
    "outputId": "7281486a-4a6c-492c-e48f-37fa6e7d7c25"
   },
   "outputs": [
    {
     "name": "stderr",
     "output_type": "stream",
     "text": [
      "<ipython-input-19-8f3049a6a1b7>:2: UserWarning: Matplotlib is currently using module://ipykernel.pylab.backend_inline, which is a non-GUI backend, so cannot show the figure.\n",
      "  fig.show()\n"
     ]
    },
    {
     "data": {
      "image/png": "[encoded data removed]",
      "text/plain": [
       "<Figure size 576x576 with 1 Axes>"
      ]
     },
     "metadata": {
      "needs_background": "light"
     },
     "output_type": "display_data"
    }
   ],
   "source": [
    "fig = plot_accuracy(eval_df,'LSTM',\"./LSTM/accuracy_LSTM.png\")\n",
    "fig.show()"
   ]
  },
  {
   "cell_type": "code",
   "execution_count": 20,
   "metadata": {
    "colab": {
     "base_uri": "https://localhost:8080/",
     "height": 422
    },
    "id": "olr-44nOHyAt",
    "outputId": "ac65b698-1f77-4a62-87cf-c99f30d4d246"
   },
   "outputs": [
    {
     "name": "stderr",
     "output_type": "stream",
     "text": [
      "<ipython-input-20-ac0d7f1f6964>:2: UserWarning: Matplotlib is currently using module://ipykernel.pylab.backend_inline, which is a non-GUI backend, so cannot show the figure.\n",
      "  fig.show()\n"
     ]
    },
    {
     "data": {
      "image/png": "[encoded data removed]",
      "text/plain": [
       "<Figure size 576x576 with 1 Axes>"
      ]
     },
     "metadata": {
      "needs_background": "light"
     },
     "output_type": "display_data"
    }
   ],
   "source": [
    "fig = plot_error_variations(eval_df,'LSTM',\"./LSTM/error_variations_LSTM.png\")\n",
    "fig.show()"
   ]
  },
  {
   "cell_type": "code",
   "execution_count": 21,
   "metadata": {
    "colab": {
     "base_uri": "https://localhost:8080/"
    },
    "id": "-HSnhihhHyAt",
    "outputId": "b45d472e-df1f-4ab2-97ba-6318127d0d9e"
   },
   "outputs": [
    {
     "data": {
      "text/plain": [
       "8.467427731754888"
      ]
     },
     "execution_count": 21,
     "metadata": {},
     "output_type": "execute_result"
    }
   ],
   "source": [
    "#Calculating the mean absolutepercentage error:\n",
    "abs_error_LSTM = abs(Y_test_predictions - y_test_filtered)/y_test_filtered*100\n",
    "np.average(abs_error_LSTM)"
   ]
  },
  {
   "cell_type": "code",
   "execution_count": 22,
   "metadata": {
    "colab": {
     "base_uri": "https://localhost:8080/"
    },
    "id": "-Og3-ec1HyAv",
    "outputId": "f0d3e172-622e-4dd4-a8ec-3f84e320356b"
   },
   "outputs": [
    {
     "name": "stdout",
     "output_type": "stream",
     "text": [
      "R^2 score is  0.74\n"
     ]
    }
   ],
   "source": [
    "#Calculating R2 value:\n",
    "r2_test = r2_score(y_test_filtered, Y_test_predictions)\n",
    "print('R^2 score is  %3.2f' %r2_test)"
   ]
  },
  {
   "cell_type": "code",
   "execution_count": 23,
   "metadata": {
    "colab": {
     "base_uri": "https://localhost:8080/",
     "height": 421
    },
    "id": "bUVtrW7kHyAw",
    "outputId": "e4abb863-ccd1-4159-bd9d-7fb1a9711a9f"
   },
   "outputs": [
    {
     "name": "stderr",
     "output_type": "stream",
     "text": [
      "<ipython-input-23-4006464a61a2>:2: UserWarning: Matplotlib is currently using module://ipykernel.pylab.backend_inline, which is a non-GUI backend, so cannot show the figure.\n",
      "  fig.show()\n"
     ]
    },
    {
     "data": {
      "image/png": "[encoded data removed]",
      "text/plain": [
       "<Figure size 576x576 with 1 Axes>"
      ]
     },
     "metadata": {
      "needs_background": "light"
     },
     "output_type": "display_data"
    }
   ],
   "source": [
    "fig = plot_predictions(eval_df,1,'LSTM','Total Load',\"./LSTM/predictions_LSTM\")\n",
    "fig.show()"
   ]
  },
  {
   "cell_type": "markdown",
   "metadata": {},
   "source": [
    "# Multistep LSTM"
   ]
  },
  {
   "cell_type": "markdown",
   "metadata": {},
   "source": [
    "Scale the input data"
   ]
  },
  {
   "cell_type": "code",
   "execution_count": 45,
   "metadata": {},
   "outputs": [],
   "source": [
    "scaled_df = combined_df.copy(deep=True)\n",
    "featuresToScale = scaled_df.columns\n",
    "sX = pp.StandardScaler(copy=True)\n",
    "scaled_df.loc[:,featuresToScale] = sX.fit_transform(scaled_df[featuresToScale])"
   ]
  },
  {
   "cell_type": "markdown",
   "metadata": {},
   "source": [
    "Create Train Validation Test Split"
   ]
  },
  {
   "cell_type": "code",
   "execution_count": 46,
   "metadata": {},
   "outputs": [],
   "source": [
    "train_start = '2015-01-01'\n",
    "validation_start = '2017-01-01'\n",
    "test_start = '2017-03-01'\n",
    "test_end = '2017-03-07'\n",
    "feature = 'price actual'\n",
    "feature_df = combined_df[[feature]]\n",
    "data_x_train0,data_x_val0,data_x_test0,data_y_train0,data_y_val0,data_y_test0 = create_test_train_split(scaled_df,feature_df,train_start,test_start,test_end,validation_start=validation_start)"
   ]
  },
  {
   "cell_type": "markdown",
   "metadata": {},
   "source": [
    "Convert to (sample,timestep,feature) format"
   ]
  },
  {
   "cell_type": "code",
   "execution_count": 47,
   "metadata": {},
   "outputs": [],
   "source": [
    "data_x_train,data_y_train,idx_train = convert_to_sample_time_feature(data_x_train0,data_y_train0,72,24,32)\n",
    "data_x_test,data_y_test,idx_test = convert_to_sample_time_feature(data_x_test0,data_y_test0,72,24,32)\n",
    "data_x_val,data_y_val,idx_val = convert_to_sample_time_feature(data_x_val0,data_y_val0,72,24,32)\n"
   ]
  },
  {
   "cell_type": "code",
   "execution_count": 48,
   "metadata": {},
   "outputs": [
    {
     "name": "stdout",
     "output_type": "stream",
     "text": [
      "(17416, 72, 26) (17416, 24)\n",
      "(1288, 72, 26) (1288, 24)\n",
      "(8, 72, 26) (8, 24)\n"
     ]
    }
   ],
   "source": [
    "print(data_x_train.shape,data_y_train.shape)\n",
    "print(data_x_val.shape,data_y_val.shape)\n",
    "print(data_x_test.shape,data_y_test.shape)"
   ]
  },
  {
   "cell_type": "markdown",
   "metadata": {},
   "source": [
    "Define LSTM Model"
   ]
  },
  {
   "cell_type": "code",
   "execution_count": 49,
   "metadata": {},
   "outputs": [],
   "source": [
    "def build_model_LSTM(data_x_train,data_y_train):\n",
    "  n_timesteps, n_features, n_outputs = data_x_train.shape[1], data_x_train.shape[2], data_y_train.shape[1]\n",
    "  model = models.Sequential([\n",
    "  layers.LSTM(32, return_sequences=True,input_shape=(None, n_features), stateful=False), \n",
    "  layers.BatchNormalization(),\n",
    "  layers.LSTM(32, return_sequences=True, stateful=False),\n",
    "  layers.BatchNormalization(),\n",
    "  layers.LSTM(32, stateful=False),\n",
    "  layers.BatchNormalization(),\n",
    "  layers.Dense(n_outputs)                     \n",
    "  ])\n",
    "  model.compile(optimizer='Adam',loss='mae',metrics='mse') \n",
    "  return model"
   ]
  },
  {
   "cell_type": "markdown",
   "metadata": {},
   "source": [
    "Definening callback functions"
   ]
  },
  {
   "cell_type": "code",
   "execution_count": 50,
   "metadata": {},
   "outputs": [],
   "source": [
    "myCheckpointLSTM= keras.callbacks.ModelCheckpoint(\"./LSTM/my_best_MS_LSTM_model.h5\", save_best_only=True)\n",
    "myEarly_stoppingLSTM = keras.callbacks.EarlyStopping(patience=20,restore_best_weights=True)"
   ]
  },
  {
   "cell_type": "markdown",
   "metadata": {},
   "source": [
    "Hypterparameters"
   ]
  },
  {
   "cell_type": "code",
   "execution_count": 51,
   "metadata": {},
   "outputs": [],
   "source": [
    "num_epochs = 150\n",
    "batch_size = 32"
   ]
  },
  {
   "cell_type": "markdown",
   "metadata": {},
   "source": [
    "Training the model"
   ]
  },
  {
   "cell_type": "code",
   "execution_count": 52,
   "metadata": {},
   "outputs": [
    {
     "name": "stdout",
     "output_type": "stream",
     "text": [
      "Epoch 1/150\n",
      "545/545 [==============================] - 14s 20ms/step - loss: 46.1450 - mse: 2389.5913 - val_loss: 52.1044 - val_mse: 2974.3879\n",
      "Epoch 2/150\n",
      "545/545 [==============================] - 10s 19ms/step - loss: 12.4725 - mse: 275.5341 - val_loss: 17.5074 - val_mse: 423.9775\n",
      "Epoch 3/150\n",
      "545/545 [==============================] - 11s 19ms/step - loss: 6.9735 - mse: 82.1103 - val_loss: 19.3723 - val_mse: 502.5536\n",
      "Epoch 4/150\n",
      "545/545 [==============================] - 10s 19ms/step - loss: 6.7439 - mse: 77.9573 - val_loss: 17.8850 - val_mse: 436.3778\n",
      "Epoch 5/150\n",
      "545/545 [==============================] - 10s 19ms/step - loss: 6.5851 - mse: 74.8927 - val_loss: 18.4531 - val_mse: 459.6287\n",
      "Epoch 6/150\n",
      "545/545 [==============================] - 11s 20ms/step - loss: 6.3943 - mse: 70.9916 - val_loss: 18.0590 - val_mse: 442.5821\n",
      "Epoch 7/150\n",
      "545/545 [==============================] - 11s 20ms/step - loss: 6.1303 - mse: 65.5522 - val_loss: 17.3199 - val_mse: 413.2240\n",
      "Epoch 8/150\n",
      "545/545 [==============================] - 11s 20ms/step - loss: 5.7513 - mse: 57.5463 - val_loss: 17.3860 - val_mse: 416.6828\n",
      "Epoch 9/150\n",
      "545/545 [==============================] - 11s 20ms/step - loss: 5.4726 - mse: 52.1124 - val_loss: 15.9094 - val_mse: 356.4923\n",
      "Epoch 10/150\n",
      "545/545 [==============================] - 11s 20ms/step - loss: 5.1466 - mse: 46.1088 - val_loss: 17.1450 - val_mse: 398.3181\n",
      "Epoch 11/150\n",
      "545/545 [==============================] - 11s 19ms/step - loss: 4.7170 - mse: 39.3646 - val_loss: 15.4723 - val_mse: 325.8477\n",
      "Epoch 12/150\n",
      "545/545 [==============================] - 11s 20ms/step - loss: 4.3678 - mse: 33.7346 - val_loss: 16.8193 - val_mse: 374.6460\n",
      "Epoch 13/150\n",
      "545/545 [==============================] - 11s 20ms/step - loss: 4.1541 - mse: 30.1744 - val_loss: 17.9433 - val_mse: 421.9576\n",
      "Epoch 14/150\n",
      "545/545 [==============================] - 11s 20ms/step - loss: 3.9940 - mse: 27.8450 - val_loss: 17.2705 - val_mse: 395.1747\n",
      "Epoch 15/150\n",
      "545/545 [==============================] - 11s 21ms/step - loss: 3.8272 - mse: 25.3069 - val_loss: 18.1498 - val_mse: 436.9496\n",
      "Epoch 16/150\n",
      "545/545 [==============================] - 11s 20ms/step - loss: 3.7761 - mse: 24.5463 - val_loss: 16.3964 - val_mse: 362.1668\n",
      "Epoch 17/150\n",
      "545/545 [==============================] - 11s 20ms/step - loss: 3.6622 - mse: 23.0189 - val_loss: 16.1409 - val_mse: 351.4189\n",
      "Epoch 18/150\n",
      "545/545 [==============================] - 11s 20ms/step - loss: 3.5594 - mse: 21.7455 - val_loss: 16.8483 - val_mse: 378.7339\n",
      "Epoch 19/150\n",
      "545/545 [==============================] - 11s 20ms/step - loss: 3.5117 - mse: 21.0564 - val_loss: 15.6397 - val_mse: 324.6052\n",
      "Epoch 20/150\n",
      "545/545 [==============================] - 11s 21ms/step - loss: 3.4660 - mse: 20.5165 - val_loss: 16.8135 - val_mse: 367.2823\n",
      "Epoch 21/150\n",
      "545/545 [==============================] - 11s 20ms/step - loss: 3.3811 - mse: 19.5586 - val_loss: 16.8019 - val_mse: 365.5458\n",
      "Epoch 22/150\n",
      "545/545 [==============================] - 11s 20ms/step - loss: 3.3785 - mse: 19.4238 - val_loss: 17.3495 - val_mse: 390.6314\n",
      "Epoch 23/150\n",
      "545/545 [==============================] - 11s 20ms/step - loss: 3.3159 - mse: 18.7256 - val_loss: 15.4129 - val_mse: 321.9268\n",
      "Epoch 24/150\n",
      "545/545 [==============================] - 11s 20ms/step - loss: 3.2889 - mse: 18.4493 - val_loss: 16.2256 - val_mse: 346.1776\n",
      "Epoch 25/150\n",
      "545/545 [==============================] - 11s 19ms/step - loss: 3.3043 - mse: 18.5045 - val_loss: 15.7410 - val_mse: 332.5583\n",
      "Epoch 26/150\n",
      "545/545 [==============================] - 10s 19ms/step - loss: 3.2150 - mse: 17.4805 - val_loss: 15.2034 - val_mse: 312.0018\n",
      "Epoch 27/150\n",
      "545/545 [==============================] - 10s 18ms/step - loss: 3.2285 - mse: 17.6944 - val_loss: 15.3649 - val_mse: 318.5126\n",
      "Epoch 28/150\n",
      "545/545 [==============================] - 11s 20ms/step - loss: 3.1938 - mse: 17.2335 - val_loss: 15.6768 - val_mse: 333.6255\n",
      "Epoch 29/150\n",
      "545/545 [==============================] - 11s 20ms/step - loss: 3.1781 - mse: 17.0399 - val_loss: 15.3245 - val_mse: 320.5999\n",
      "Epoch 30/150\n",
      "545/545 [==============================] - 11s 20ms/step - loss: 3.1302 - mse: 16.6037 - val_loss: 15.0486 - val_mse: 310.7335\n",
      "Epoch 31/150\n",
      "545/545 [==============================] - 11s 20ms/step - loss: 3.1715 - mse: 16.8625 - val_loss: 15.5523 - val_mse: 324.1335\n",
      "Epoch 32/150\n",
      "545/545 [==============================] - 11s 20ms/step - loss: 3.1253 - mse: 16.5000 - val_loss: 14.8125 - val_mse: 301.0164\n",
      "Epoch 33/150\n",
      "545/545 [==============================] - 11s 21ms/step - loss: 3.1500 - mse: 16.6452 - val_loss: 15.0037 - val_mse: 307.0938\n",
      "Epoch 34/150\n",
      "545/545 [==============================] - 11s 20ms/step - loss: 3.1263 - mse: 16.5227 - val_loss: 15.8555 - val_mse: 338.3076\n",
      "Epoch 35/150\n",
      "545/545 [==============================] - 11s 20ms/step - loss: 3.1288 - mse: 16.4989 - val_loss: 14.8988 - val_mse: 301.9463\n",
      "Epoch 36/150\n",
      "545/545 [==============================] - 11s 20ms/step - loss: 3.0963 - mse: 16.0633 - val_loss: 14.7596 - val_mse: 296.2475\n",
      "Epoch 37/150\n",
      "545/545 [==============================] - 11s 20ms/step - loss: 3.0997 - mse: 16.1243 - val_loss: 15.0678 - val_mse: 305.2439\n",
      "Epoch 38/150\n",
      "545/545 [==============================] - 11s 20ms/step - loss: 3.0616 - mse: 15.8260 - val_loss: 15.5694 - val_mse: 327.0034\n",
      "Epoch 39/150\n",
      "545/545 [==============================] - 11s 20ms/step - loss: 3.0295 - mse: 15.3970 - val_loss: 16.4756 - val_mse: 361.1581\n",
      "Epoch 40/150\n",
      "545/545 [==============================] - 11s 20ms/step - loss: 3.0353 - mse: 15.4522 - val_loss: 15.8048 - val_mse: 337.1619\n",
      "Epoch 41/150\n",
      "545/545 [==============================] - 11s 20ms/step - loss: 2.9938 - mse: 15.0077 - val_loss: 15.4234 - val_mse: 323.2742\n",
      "Epoch 42/150\n",
      "545/545 [==============================] - 11s 20ms/step - loss: 3.0448 - mse: 15.5706 - val_loss: 15.5289 - val_mse: 323.6747\n",
      "Epoch 43/150\n",
      "545/545 [==============================] - 11s 20ms/step - loss: 3.0192 - mse: 15.2730 - val_loss: 15.0418 - val_mse: 307.1018\n",
      "Epoch 44/150\n",
      "545/545 [==============================] - 11s 20ms/step - loss: 3.0203 - mse: 15.2804 - val_loss: 15.7573 - val_mse: 332.2085\n",
      "Epoch 45/150\n",
      "545/545 [==============================] - 11s 20ms/step - loss: 2.9833 - mse: 14.8199 - val_loss: 16.0294 - val_mse: 342.8735\n",
      "Epoch 46/150\n",
      "545/545 [==============================] - 11s 20ms/step - loss: 3.0063 - mse: 15.0927 - val_loss: 14.6499 - val_mse: 291.6836\n",
      "Epoch 47/150\n",
      "545/545 [==============================] - 11s 20ms/step - loss: 3.0065 - mse: 15.0732 - val_loss: 15.7678 - val_mse: 335.0161\n",
      "Epoch 48/150\n",
      "545/545 [==============================] - 11s 20ms/step - loss: 3.0323 - mse: 15.3072 - val_loss: 15.8840 - val_mse: 336.1384\n",
      "Epoch 49/150\n",
      "545/545 [==============================] - 11s 20ms/step - loss: 2.9447 - mse: 14.5067 - val_loss: 15.7477 - val_mse: 333.9712\n",
      "Epoch 50/150\n",
      "545/545 [==============================] - 11s 20ms/step - loss: 2.9916 - mse: 14.9456 - val_loss: 15.6634 - val_mse: 327.2651\n",
      "Epoch 51/150\n",
      "545/545 [==============================] - 11s 20ms/step - loss: 2.8994 - mse: 14.1107 - val_loss: 15.6204 - val_mse: 326.0078\n",
      "Epoch 52/150\n",
      "545/545 [==============================] - 11s 20ms/step - loss: 2.9081 - mse: 14.1377 - val_loss: 15.8260 - val_mse: 332.8630\n",
      "Epoch 53/150\n",
      "545/545 [==============================] - 11s 20ms/step - loss: 2.8904 - mse: 13.9939 - val_loss: 15.6236 - val_mse: 328.6875\n",
      "Epoch 54/150\n",
      "545/545 [==============================] - 11s 20ms/step - loss: 2.9437 - mse: 14.4135 - val_loss: 14.8301 - val_mse: 299.7335\n",
      "Epoch 55/150\n",
      "545/545 [==============================] - 11s 20ms/step - loss: 2.9656 - mse: 14.5842 - val_loss: 16.2996 - val_mse: 350.7979\n",
      "Epoch 56/150\n",
      "545/545 [==============================] - 11s 20ms/step - loss: 2.8644 - mse: 13.7336 - val_loss: 15.7905 - val_mse: 334.5449\n",
      "Epoch 57/150\n",
      "545/545 [==============================] - 11s 20ms/step - loss: 2.9038 - mse: 13.9998 - val_loss: 16.1290 - val_mse: 342.9984\n",
      "Epoch 58/150\n",
      "545/545 [==============================] - 11s 20ms/step - loss: 2.9071 - mse: 14.1325 - val_loss: 16.1657 - val_mse: 344.2591\n",
      "Epoch 59/150\n",
      "545/545 [==============================] - 11s 20ms/step - loss: 2.9207 - mse: 14.1447 - val_loss: 17.1191 - val_mse: 380.4535\n",
      "Epoch 60/150\n",
      "545/545 [==============================] - 11s 20ms/step - loss: 2.9093 - mse: 14.0313 - val_loss: 16.4370 - val_mse: 353.7318\n",
      "Epoch 61/150\n",
      "545/545 [==============================] - 11s 20ms/step - loss: 2.8095 - mse: 13.1800 - val_loss: 16.4716 - val_mse: 357.5515\n",
      "Epoch 62/150\n",
      "545/545 [==============================] - 11s 20ms/step - loss: 2.8670 - mse: 13.6076 - val_loss: 16.8365 - val_mse: 367.4956\n",
      "Epoch 63/150\n",
      "545/545 [==============================] - 11s 20ms/step - loss: 2.8858 - mse: 13.9012 - val_loss: 15.8726 - val_mse: 336.2122\n",
      "Epoch 64/150\n",
      "545/545 [==============================] - 11s 20ms/step - loss: 2.8443 - mse: 13.4495 - val_loss: 16.1503 - val_mse: 342.5867\n",
      "Epoch 65/150\n",
      "545/545 [==============================] - 11s 20ms/step - loss: 2.8715 - mse: 13.7006 - val_loss: 16.3393 - val_mse: 351.2934\n",
      "Epoch 66/150\n",
      "545/545 [==============================] - 11s 20ms/step - loss: 2.8668 - mse: 13.6276 - val_loss: 15.4477 - val_mse: 319.2690\n"
     ]
    }
   ],
   "source": [
    "%%skip $SKIP_RETRAIN_LSTM\n",
    "\n",
    "model_LSTM = build_model_LSTM(data_x_train,data_y_train)\n",
    "history_LSTM = model_LSTM.fit(data_x_train, data_y_train, epochs=num_epochs, batch_size=batch_size, validation_data=(data_x_val, data_y_val) , \n",
    "                                 callbacks=[myCheckpointLSTM,myEarly_stoppingLSTM])#, verbose=0)"
   ]
  },
  {
   "cell_type": "markdown",
   "metadata": {},
   "source": [
    "Evaluate the training process"
   ]
  },
  {
   "cell_type": "code",
   "execution_count": 53,
   "metadata": {
    "colab": {
     "base_uri": "https://localhost:8080/",
     "height": 159
    },
    "id": "0f_FwfmlHyAl",
    "outputId": "080474a2-3f61-42ca-95ef-7bc23f76c853"
   },
   "outputs": [],
   "source": [
    "%%skip $SKIP_RETRAIN_LSTM\n",
    "\n",
    "histLSTM = pd.DataFrame(history_LSTM.history)\n",
    "histLSTM['epoch'] = history_LSTM.epoch"
   ]
  },
  {
   "cell_type": "code",
   "execution_count": 54,
   "metadata": {
    "colab": {
     "base_uri": "https://localhost:8080/",
     "height": 405
    },
    "id": "d2SviC32HyAr",
    "outputId": "512e600c-f7c8-46cd-9801-7387d6bf4f7f"
   },
   "outputs": [
    {
     "name": "stderr",
     "output_type": "stream",
     "text": [
      "<string>:3: UserWarning:\n",
      "\n",
      "Matplotlib is currently using module://ipykernel.pylab.backend_inline, which is a non-GUI backend, so cannot show the figure.\n",
      "\n"
     ]
    },
    {
     "data": {
      "image/png": "[encoded data removed]",
      "text/plain": [
       "<Figure size 576x576 with 1 Axes>"
      ]
     },
     "metadata": {
      "needs_background": "light"
     },
     "output_type": "display_data"
    }
   ],
   "source": [
    "%%skip $SKIP_RETRAIN_LSTM\n",
    "\n",
    "fig = plot_learning_curves(histLSTM,'LSTM','./LSTM/learning_curve_MS_LSTM.png')\n",
    "fig.show()"
   ]
  },
  {
   "cell_type": "markdown",
   "metadata": {},
   "source": [
    "Load best model"
   ]
  },
  {
   "cell_type": "code",
   "execution_count": 55,
   "metadata": {},
   "outputs": [
    {
     "name": "stdout",
     "output_type": "stream",
     "text": [
      "Model: \"sequential_2\"\n",
      "_________________________________________________________________\n",
      "Layer (type)                 Output Shape              Param #   \n",
      "=================================================================\n",
      "lstm_6 (LSTM)                (None, None, 32)          7552      \n",
      "_________________________________________________________________\n",
      "batch_normalization_6 (Batch (None, None, 32)          128       \n",
      "_________________________________________________________________\n",
      "lstm_7 (LSTM)                (None, None, 32)          8320      \n",
      "_________________________________________________________________\n",
      "batch_normalization_7 (Batch (None, None, 32)          128       \n",
      "_________________________________________________________________\n",
      "lstm_8 (LSTM)                (None, 32)                8320      \n",
      "_________________________________________________________________\n",
      "batch_normalization_8 (Batch (None, 32)                128       \n",
      "_________________________________________________________________\n",
      "dense_2 (Dense)              (None, 24)                792       \n",
      "=================================================================\n",
      "Total params: 25,368\n",
      "Trainable params: 25,176\n",
      "Non-trainable params: 192\n",
      "_________________________________________________________________\n"
     ]
    }
   ],
   "source": [
    "#Calling back the best model:\n",
    "model_best_MS_LSTM = keras.models.load_model(\"./LSTM/my_best_MS_LSTM_model.h5\")\n",
    "model_best_MS_LSTM.summary()"
   ]
  },
  {
   "cell_type": "code",
   "execution_count": 56,
   "metadata": {},
   "outputs": [],
   "source": [
    "i=1\n",
    "case_test = data_x_test[i].reshape((1,data_x_test[0].shape[0], data_x_test[0].shape[1]))\n",
    "\n",
    "Y_test_predictions = pd.Series(model_best_MS_LSTM.predict(case_test).flatten(),index=pd.date_range(start=idx_test[i],freq='h',periods=24))\n",
    "y_test_filtered = data_y_test0.loc[Y_test_predictions.index]\n"
   ]
  },
  {
   "cell_type": "code",
   "execution_count": 57,
   "metadata": {},
   "outputs": [],
   "source": [
    "eval_df = create_eval_df(Y_test_predictions,y_test_filtered)"
   ]
  },
  {
   "cell_type": "code",
   "execution_count": 58,
   "metadata": {
    "colab": {
     "base_uri": "https://localhost:8080/",
     "height": 426
    },
    "id": "5X3Hs_GtHyAs",
    "outputId": "7281486a-4a6c-492c-e48f-37fa6e7d7c25"
   },
   "outputs": [
    {
     "name": "stderr",
     "output_type": "stream",
     "text": [
      "<ipython-input-58-002f5216c571>:2: UserWarning:\n",
      "\n",
      "Matplotlib is currently using module://ipykernel.pylab.backend_inline, which is a non-GUI backend, so cannot show the figure.\n",
      "\n"
     ]
    },
    {
     "data": {
      "image/png": "[encoded data removed]",
      "text/plain": [
       "<Figure size 576x576 with 1 Axes>"
      ]
     },
     "metadata": {
      "needs_background": "light"
     },
     "output_type": "display_data"
    }
   ],
   "source": [
    "fig = plot_accuracy(eval_df,'LSTM',\"./LSTM/accuracy_MS_LSTM.png\")\n",
    "fig.show()"
   ]
  },
  {
   "cell_type": "code",
   "execution_count": 59,
   "metadata": {
    "colab": {
     "base_uri": "https://localhost:8080/",
     "height": 422
    },
    "id": "olr-44nOHyAt",
    "outputId": "ac65b698-1f77-4a62-87cf-c99f30d4d246"
   },
   "outputs": [
    {
     "name": "stderr",
     "output_type": "stream",
     "text": [
      "<ipython-input-59-b9b05ae7d6d5>:2: UserWarning:\n",
      "\n",
      "Matplotlib is currently using module://ipykernel.pylab.backend_inline, which is a non-GUI backend, so cannot show the figure.\n",
      "\n"
     ]
    },
    {
     "data": {
      "image/png": "[encoded data removed]",
      "text/plain": [
       "<Figure size 576x576 with 1 Axes>"
      ]
     },
     "metadata": {
      "needs_background": "light"
     },
     "output_type": "display_data"
    }
   ],
   "source": [
    "fig = plot_error_variations(eval_df,'LSTM',\"./LSTM/error_variations_MS_LSTM.png\")\n",
    "fig.show()"
   ]
  },
  {
   "cell_type": "code",
   "execution_count": 60,
   "metadata": {
    "colab": {
     "base_uri": "https://localhost:8080/"
    },
    "id": "-HSnhihhHyAt",
    "outputId": "b45d472e-df1f-4ab2-97ba-6318127d0d9e"
   },
   "outputs": [
    {
     "data": {
      "text/plain": [
       "nan"
      ]
     },
     "execution_count": 60,
     "metadata": {},
     "output_type": "execute_result"
    }
   ],
   "source": [
    "#Calculating the mean absolutepercentage error:\n",
    "abs_error_LSTM = abs(Y_test_predictions - y_test_filtered)/y_test_filtered*100\n",
    "np.average(abs_error_LSTM)"
   ]
  },
  {
   "cell_type": "code",
   "execution_count": 61,
   "metadata": {
    "colab": {
     "base_uri": "https://localhost:8080/"
    },
    "id": "-Og3-ec1HyAv",
    "outputId": "f0d3e172-622e-4dd4-a8ec-3f84e320356b"
   },
   "outputs": [
    {
     "name": "stdout",
     "output_type": "stream",
     "text": [
      "R^2 score is  -1.29\n"
     ]
    }
   ],
   "source": [
    "#Calculating R2 value:\n",
    "r2_test = r2_score(y_test_filtered, Y_test_predictions)\n",
    "print('R^2 score is  %3.2f' %r2_test)"
   ]
  },
  {
   "cell_type": "code",
   "execution_count": 62,
   "metadata": {
    "colab": {
     "base_uri": "https://localhost:8080/",
     "height": 421
    },
    "id": "bUVtrW7kHyAw",
    "outputId": "e4abb863-ccd1-4159-bd9d-7fb1a9711a9f"
   },
   "outputs": [
    {
     "name": "stderr",
     "output_type": "stream",
     "text": [
      "<ipython-input-62-161e8ab2ef2d>:2: UserWarning:\n",
      "\n",
      "Matplotlib is currently using module://ipykernel.pylab.backend_inline, which is a non-GUI backend, so cannot show the figure.\n",
      "\n"
     ]
    },
    {
     "data": {
      "image/png": "[encoded data removed]",
      "text/plain": [
       "<Figure size 576x576 with 1 Axes>"
      ]
     },
     "metadata": {
      "needs_background": "light"
     },
     "output_type": "display_data"
    }
   ],
   "source": [
    "fig = plot_predictions(eval_df,1,'LSTM','Total Load',\"./LSTM/predictions_MS_LSTM\")\n",
    "fig.show()"
   ]
  },
  {
   "cell_type": "code",
   "execution_count": 63,
   "metadata": {},
   "outputs": [],
   "source": [
    "idx_prediction = pd.date_range(start=idx_test[0],freq='h',periods=len(idx_test)+24)\n",
    "y_test_filtered2 = data_y_test0.loc[idx_prediction]"
   ]
  },
  {
   "cell_type": "code",
   "execution_count": 64,
   "metadata": {},
   "outputs": [
    {
     "data": {
      "application/vnd.plotly.v1+json": {
       "config": {
        "plotlyServerURL": "https://plot.ly"
       },
       "data": [
        {
         "type": "scatter",
         "x": [
          "2017-03-04T00:00:00+01:00",
          "2017-03-04T01:00:00+01:00",
          "2017-03-04T02:00:00+01:00",
          "2017-03-04T03:00:00+01:00",
          "2017-03-04T04:00:00+01:00",
          "2017-03-04T05:00:00+01:00",
          "2017-03-04T06:00:00+01:00",
          "2017-03-04T07:00:00+01:00",
          "2017-03-04T08:00:00+01:00",
          "2017-03-04T09:00:00+01:00",
          "2017-03-04T10:00:00+01:00",
          "2017-03-04T11:00:00+01:00",
          "2017-03-04T12:00:00+01:00",
          "2017-03-04T13:00:00+01:00",
          "2017-03-04T14:00:00+01:00",
          "2017-03-04T15:00:00+01:00",
          "2017-03-04T16:00:00+01:00",
          "2017-03-04T17:00:00+01:00",
          "2017-03-04T18:00:00+01:00",
          "2017-03-04T19:00:00+01:00",
          "2017-03-04T20:00:00+01:00",
          "2017-03-04T21:00:00+01:00",
          "2017-03-04T22:00:00+01:00",
          "2017-03-04T23:00:00+01:00",
          "2017-03-05T00:00:00+01:00",
          "2017-03-05T01:00:00+01:00",
          "2017-03-05T02:00:00+01:00",
          "2017-03-05T03:00:00+01:00",
          "2017-03-05T04:00:00+01:00",
          "2017-03-05T05:00:00+01:00",
          "2017-03-05T06:00:00+01:00",
          "2017-03-05T07:00:00+01:00"
         ],
         "y": [
          38.44,
          37.62,
          32.16,
          31.67,
          30.4,
          31.62,
          35.28,
          36.93,
          41.86,
          46.5,
          46.85,
          46.91,
          47.38,
          48.84,
          47.88,
          46.91,
          43.32,
          47.6,
          52.28,
          54.85,
          55.23,
          54.56,
          50.29,
          47.32,
          45.02,
          38.32,
          32.25,
          25.94,
          24.36,
          21.71,
          23.16,
          28.14
         ]
        },
        {
         "mode": "markers",
         "type": "scatter",
         "x": [
          "2017-03-04T00:00:00+01:00",
          "2017-03-04T01:00:00+01:00",
          "2017-03-04T02:00:00+01:00",
          "2017-03-04T03:00:00+01:00",
          "2017-03-04T04:00:00+01:00",
          "2017-03-04T05:00:00+01:00",
          "2017-03-04T06:00:00+01:00",
          "2017-03-04T07:00:00+01:00",
          "2017-03-04T08:00:00+01:00",
          "2017-03-04T09:00:00+01:00",
          "2017-03-04T10:00:00+01:00",
          "2017-03-04T11:00:00+01:00",
          "2017-03-04T12:00:00+01:00",
          "2017-03-04T13:00:00+01:00",
          "2017-03-04T14:00:00+01:00",
          "2017-03-04T15:00:00+01:00",
          "2017-03-04T16:00:00+01:00",
          "2017-03-04T17:00:00+01:00",
          "2017-03-04T18:00:00+01:00",
          "2017-03-04T19:00:00+01:00",
          "2017-03-04T20:00:00+01:00",
          "2017-03-04T21:00:00+01:00",
          "2017-03-04T22:00:00+01:00",
          "2017-03-04T23:00:00+01:00"
         ],
         "y": [
          36.1469841003418,
          32.68860626220703,
          29.439176559448242,
          27.30766487121582,
          26.572057723999023,
          27.562280654907227,
          29.968441009521484,
          33.14961242675781,
          36.28360366821289,
          38.72871780395508,
          40.204524993896484,
          40.56010055541992,
          39.15615463256836,
          36.7659797668457,
          34.912445068359375,
          33.09406280517578,
          32.67604446411133,
          33.91033935546875,
          35.8984489440918,
          38.2200813293457,
          39.995689392089844,
          40.58149337768555,
          39.72272872924805,
          38.383365631103516
         ]
        },
        {
         "mode": "markers",
         "type": "scatter",
         "x": [
          "2017-03-04T01:00:00+01:00",
          "2017-03-04T02:00:00+01:00",
          "2017-03-04T03:00:00+01:00",
          "2017-03-04T04:00:00+01:00",
          "2017-03-04T05:00:00+01:00",
          "2017-03-04T06:00:00+01:00",
          "2017-03-04T07:00:00+01:00",
          "2017-03-04T08:00:00+01:00",
          "2017-03-04T09:00:00+01:00",
          "2017-03-04T10:00:00+01:00",
          "2017-03-04T11:00:00+01:00",
          "2017-03-04T12:00:00+01:00",
          "2017-03-04T13:00:00+01:00",
          "2017-03-04T14:00:00+01:00",
          "2017-03-04T15:00:00+01:00",
          "2017-03-04T16:00:00+01:00",
          "2017-03-04T17:00:00+01:00",
          "2017-03-04T18:00:00+01:00",
          "2017-03-04T19:00:00+01:00",
          "2017-03-04T20:00:00+01:00",
          "2017-03-04T21:00:00+01:00",
          "2017-03-04T22:00:00+01:00",
          "2017-03-04T23:00:00+01:00",
          "2017-03-05T00:00:00+01:00"
         ],
         "y": [
          30.891162872314453,
          27.897186279296875,
          25.83561897277832,
          25.63133430480957,
          27.048391342163086,
          29.729881286621094,
          33.16330337524414,
          36.241973876953125,
          38.28770446777344,
          38.96298599243164,
          38.718353271484375,
          37.652286529541016,
          35.58742904663086,
          33.49215316772461,
          32.850486755371094,
          32.559669494628906,
          33.481807708740234,
          35.301300048828125,
          36.987342834472656,
          38.10653305053711,
          37.93540954589844,
          36.48321533203125,
          33.793235778808594,
          31.297380447387695
         ]
        },
        {
         "mode": "markers",
         "type": "scatter",
         "x": [
          "2017-03-04T02:00:00+01:00",
          "2017-03-04T03:00:00+01:00",
          "2017-03-04T04:00:00+01:00",
          "2017-03-04T05:00:00+01:00",
          "2017-03-04T06:00:00+01:00",
          "2017-03-04T07:00:00+01:00",
          "2017-03-04T08:00:00+01:00",
          "2017-03-04T09:00:00+01:00",
          "2017-03-04T10:00:00+01:00",
          "2017-03-04T11:00:00+01:00",
          "2017-03-04T12:00:00+01:00",
          "2017-03-04T13:00:00+01:00",
          "2017-03-04T14:00:00+01:00",
          "2017-03-04T15:00:00+01:00",
          "2017-03-04T16:00:00+01:00",
          "2017-03-04T17:00:00+01:00",
          "2017-03-04T18:00:00+01:00",
          "2017-03-04T19:00:00+01:00",
          "2017-03-04T20:00:00+01:00",
          "2017-03-04T21:00:00+01:00",
          "2017-03-04T22:00:00+01:00",
          "2017-03-04T23:00:00+01:00",
          "2017-03-05T00:00:00+01:00",
          "2017-03-05T01:00:00+01:00"
         ],
         "y": [
          26.35959815979004,
          24.60674285888672,
          24.16046714782715,
          25.858333587646484,
          28.98828887939453,
          32.509342193603516,
          35.942100524902344,
          38.02669906616211,
          38.53127670288086,
          37.4789924621582,
          36.04475021362305,
          34.422752380371094,
          32.75767517089844,
          31.786479949951172,
          32.81169128417969,
          34.039554595947266,
          35.661869049072266,
          36.96400833129883,
          37.32231903076172,
          36.5970458984375,
          34.63095474243164,
          32.176307678222656,
          29.141576766967773,
          26.85063934326172
         ]
        },
        {
         "mode": "markers",
         "type": "scatter",
         "x": [
          "2017-03-04T03:00:00+01:00",
          "2017-03-04T04:00:00+01:00",
          "2017-03-04T05:00:00+01:00",
          "2017-03-04T06:00:00+01:00",
          "2017-03-04T07:00:00+01:00",
          "2017-03-04T08:00:00+01:00",
          "2017-03-04T09:00:00+01:00",
          "2017-03-04T10:00:00+01:00",
          "2017-03-04T11:00:00+01:00",
          "2017-03-04T12:00:00+01:00",
          "2017-03-04T13:00:00+01:00",
          "2017-03-04T14:00:00+01:00",
          "2017-03-04T15:00:00+01:00",
          "2017-03-04T16:00:00+01:00",
          "2017-03-04T17:00:00+01:00",
          "2017-03-04T18:00:00+01:00",
          "2017-03-04T19:00:00+01:00",
          "2017-03-04T20:00:00+01:00",
          "2017-03-04T21:00:00+01:00",
          "2017-03-04T22:00:00+01:00",
          "2017-03-04T23:00:00+01:00",
          "2017-03-05T00:00:00+01:00",
          "2017-03-05T01:00:00+01:00",
          "2017-03-05T02:00:00+01:00"
         ],
         "y": [
          23.683944702148438,
          23.71525001525879,
          25.045700073242188,
          28.181222915649414,
          31.992063522338867,
          35.26247024536133,
          37.832759857177734,
          38.71625518798828,
          38.03049087524414,
          36.029396057128906,
          34.215763092041016,
          32.72227478027344,
          31.88454818725586,
          32.07867431640625,
          34.24531936645508,
          36.05112075805664,
          37.40715408325195,
          37.444637298583984,
          36.1582145690918,
          33.77666091918945,
          30.6897029876709,
          27.879798889160156,
          25.2980899810791,
          23.872663497924805
         ]
        },
        {
         "mode": "markers",
         "type": "scatter",
         "x": [
          "2017-03-04T04:00:00+01:00",
          "2017-03-04T05:00:00+01:00",
          "2017-03-04T06:00:00+01:00",
          "2017-03-04T07:00:00+01:00",
          "2017-03-04T08:00:00+01:00",
          "2017-03-04T09:00:00+01:00",
          "2017-03-04T10:00:00+01:00",
          "2017-03-04T11:00:00+01:00",
          "2017-03-04T12:00:00+01:00",
          "2017-03-04T13:00:00+01:00",
          "2017-03-04T14:00:00+01:00",
          "2017-03-04T15:00:00+01:00",
          "2017-03-04T16:00:00+01:00",
          "2017-03-04T17:00:00+01:00",
          "2017-03-04T18:00:00+01:00",
          "2017-03-04T19:00:00+01:00",
          "2017-03-04T20:00:00+01:00",
          "2017-03-04T21:00:00+01:00",
          "2017-03-04T22:00:00+01:00",
          "2017-03-04T23:00:00+01:00",
          "2017-03-05T00:00:00+01:00",
          "2017-03-05T01:00:00+01:00",
          "2017-03-05T02:00:00+01:00",
          "2017-03-05T03:00:00+01:00"
         ],
         "y": [
          24.008941650390625,
          25.699419021606445,
          28.354976654052734,
          32.034576416015625,
          35.39323043823242,
          37.62228012084961,
          38.90360641479492,
          38.70247268676758,
          37.30100631713867,
          35.0528450012207,
          33.49384307861328,
          32.72038269042969,
          32.93073654174805,
          34.033695220947266,
          36.515289306640625,
          37.818504333496094,
          38.03181838989258,
          36.47333908081055,
          33.733943939208984,
          30.39942741394043,
          27.051681518554688,
          24.59992218017578,
          23.046833038330078,
          22.894283294677734
         ]
        },
        {
         "mode": "markers",
         "type": "scatter",
         "x": [
          "2017-03-04T05:00:00+01:00",
          "2017-03-04T06:00:00+01:00",
          "2017-03-04T07:00:00+01:00",
          "2017-03-04T08:00:00+01:00",
          "2017-03-04T09:00:00+01:00",
          "2017-03-04T10:00:00+01:00",
          "2017-03-04T11:00:00+01:00",
          "2017-03-04T12:00:00+01:00",
          "2017-03-04T13:00:00+01:00",
          "2017-03-04T14:00:00+01:00",
          "2017-03-04T15:00:00+01:00",
          "2017-03-04T16:00:00+01:00",
          "2017-03-04T17:00:00+01:00",
          "2017-03-04T18:00:00+01:00",
          "2017-03-04T19:00:00+01:00",
          "2017-03-04T20:00:00+01:00",
          "2017-03-04T21:00:00+01:00",
          "2017-03-04T22:00:00+01:00",
          "2017-03-04T23:00:00+01:00",
          "2017-03-05T00:00:00+01:00",
          "2017-03-05T01:00:00+01:00",
          "2017-03-05T02:00:00+01:00",
          "2017-03-05T03:00:00+01:00",
          "2017-03-05T04:00:00+01:00"
         ],
         "y": [
          27.093589782714844,
          29.81429672241211,
          32.778526306152344,
          35.893611907958984,
          37.8505744934082,
          38.57402420043945,
          38.494056701660156,
          37.55636215209961,
          36.08123779296875,
          34.42475128173828,
          33.79661560058594,
          34.1202278137207,
          35.17516326904297,
          36.433204650878906,
          38.161685943603516,
          38.01571273803711,
          36.617244720458984,
          33.690948486328125,
          30.189870834350586,
          26.824304580688477,
          24.131385803222656,
          22.706707000732422,
          22.609664916992188,
          23.87824821472168
         ]
        },
        {
         "mode": "markers",
         "type": "scatter",
         "x": [
          "2017-03-04T06:00:00+01:00",
          "2017-03-04T07:00:00+01:00",
          "2017-03-04T08:00:00+01:00",
          "2017-03-04T09:00:00+01:00",
          "2017-03-04T10:00:00+01:00",
          "2017-03-04T11:00:00+01:00",
          "2017-03-04T12:00:00+01:00",
          "2017-03-04T13:00:00+01:00",
          "2017-03-04T14:00:00+01:00",
          "2017-03-04T15:00:00+01:00",
          "2017-03-04T16:00:00+01:00",
          "2017-03-04T17:00:00+01:00",
          "2017-03-04T18:00:00+01:00",
          "2017-03-04T19:00:00+01:00",
          "2017-03-04T20:00:00+01:00",
          "2017-03-04T21:00:00+01:00",
          "2017-03-04T22:00:00+01:00",
          "2017-03-04T23:00:00+01:00",
          "2017-03-05T00:00:00+01:00",
          "2017-03-05T01:00:00+01:00",
          "2017-03-05T02:00:00+01:00",
          "2017-03-05T03:00:00+01:00",
          "2017-03-05T04:00:00+01:00",
          "2017-03-05T05:00:00+01:00"
         ],
         "y": [
          31.4465274810791,
          34.226200103759766,
          36.43632888793945,
          38.24082946777344,
          38.588016510009766,
          37.99021530151367,
          36.993839263916016,
          35.89359664916992,
          34.95625305175781,
          34.466819763183594,
          35.03271484375,
          36.273414611816406,
          37.53504180908203,
          38.1005973815918,
          38.38831329345703,
          36.573326110839844,
          33.8099479675293,
          30.26998519897461,
          26.86443519592285,
          24.19650650024414,
          22.766061782836914,
          22.74298095703125,
          24.14002799987793,
          26.596595764160156
         ]
        },
        {
         "mode": "markers",
         "type": "scatter",
         "x": [
          "2017-03-04T07:00:00+01:00",
          "2017-03-04T08:00:00+01:00",
          "2017-03-04T09:00:00+01:00",
          "2017-03-04T10:00:00+01:00",
          "2017-03-04T11:00:00+01:00",
          "2017-03-04T12:00:00+01:00",
          "2017-03-04T13:00:00+01:00",
          "2017-03-04T14:00:00+01:00",
          "2017-03-04T15:00:00+01:00",
          "2017-03-04T16:00:00+01:00",
          "2017-03-04T17:00:00+01:00",
          "2017-03-04T18:00:00+01:00",
          "2017-03-04T19:00:00+01:00",
          "2017-03-04T20:00:00+01:00",
          "2017-03-04T21:00:00+01:00",
          "2017-03-04T22:00:00+01:00",
          "2017-03-04T23:00:00+01:00",
          "2017-03-05T00:00:00+01:00",
          "2017-03-05T01:00:00+01:00",
          "2017-03-05T02:00:00+01:00",
          "2017-03-05T03:00:00+01:00",
          "2017-03-05T04:00:00+01:00",
          "2017-03-05T05:00:00+01:00",
          "2017-03-05T06:00:00+01:00"
         ],
         "y": [
          36.39273452758789,
          38.30809783935547,
          39.13560104370117,
          39.204811096191406,
          37.97147750854492,
          36.389991760253906,
          35.106754302978516,
          34.64005661010742,
          35.02911376953125,
          36.13909149169922,
          37.68611526489258,
          39.03449630737305,
          39.39230728149414,
          38.44157028198242,
          36.90996551513672,
          33.59049606323242,
          30.019489288330078,
          26.66570472717285,
          24.145530700683594,
          23.116601943969727,
          23.87828826904297,
          26.03487205505371,
          29.173200607299805,
          32.38391876220703
         ]
        },
        {
         "type": "scatter",
         "x": [
          "2017-03-04T00:00:00+01:00",
          "2017-03-04T01:00:00+01:00",
          "2017-03-04T02:00:00+01:00",
          "2017-03-04T03:00:00+01:00",
          "2017-03-04T04:00:00+01:00",
          "2017-03-04T05:00:00+01:00",
          "2017-03-04T06:00:00+01:00",
          "2017-03-04T07:00:00+01:00",
          "2017-03-04T08:00:00+01:00",
          "2017-03-04T09:00:00+01:00",
          "2017-03-04T10:00:00+01:00",
          "2017-03-04T11:00:00+01:00",
          "2017-03-04T12:00:00+01:00",
          "2017-03-04T13:00:00+01:00",
          "2017-03-04T14:00:00+01:00",
          "2017-03-04T15:00:00+01:00",
          "2017-03-04T16:00:00+01:00",
          "2017-03-04T17:00:00+01:00",
          "2017-03-04T18:00:00+01:00",
          "2017-03-04T19:00:00+01:00",
          "2017-03-04T20:00:00+01:00",
          "2017-03-04T21:00:00+01:00",
          "2017-03-04T22:00:00+01:00",
          "2017-03-04T23:00:00+01:00",
          "2017-03-05T00:00:00+01:00",
          "2017-03-05T01:00:00+01:00",
          "2017-03-05T02:00:00+01:00",
          "2017-03-05T03:00:00+01:00",
          "2017-03-05T04:00:00+01:00",
          "2017-03-05T05:00:00+01:00",
          "2017-03-05T06:00:00+01:00",
          "2017-03-05T07:00:00+01:00"
         ],
         "y": [
          36.1469841003418,
          31.789884567260742,
          27.898653030395508,
          25.35849380493164,
          24.817609786987305,
          26.384618759155273,
          29.497661590576172,
          33.280792236328125,
          36.220176696777344,
          38.21564483642578,
          38.96068572998047,
          38.49327087402344,
          37.140472412109375,
          35.39079284667969,
          33.92493438720703,
          33.20356369018555,
          33.543609619140625,
          34.85567855834961,
          36.55384826660156,
          37.88146209716797,
          38.21832275390625,
          37.23075866699219,
          34.92986297607422,
          31.99017333984375,
          27.960697174072266,
          24.870346069335938,
          23.10177230834961,
          23.03130340576172,
          24.68438148498535,
          27.884899139404297,
          32.38391876220703,
          null
         ]
        },
        {
         "type": "scatter",
         "x": [
          "2017-03-04T00:00:00+01:00",
          "2017-03-04T01:00:00+01:00",
          "2017-03-04T02:00:00+01:00",
          "2017-03-04T03:00:00+01:00",
          "2017-03-04T04:00:00+01:00",
          "2017-03-04T05:00:00+01:00",
          "2017-03-04T06:00:00+01:00",
          "2017-03-04T07:00:00+01:00",
          "2017-03-04T08:00:00+01:00",
          "2017-03-04T09:00:00+01:00",
          "2017-03-04T10:00:00+01:00",
          "2017-03-04T11:00:00+01:00",
          "2017-03-04T12:00:00+01:00",
          "2017-03-04T13:00:00+01:00",
          "2017-03-04T14:00:00+01:00",
          "2017-03-04T15:00:00+01:00",
          "2017-03-04T16:00:00+01:00",
          "2017-03-04T17:00:00+01:00",
          "2017-03-04T18:00:00+01:00",
          "2017-03-04T19:00:00+01:00",
          "2017-03-04T20:00:00+01:00",
          "2017-03-04T21:00:00+01:00",
          "2017-03-04T22:00:00+01:00",
          "2017-03-04T23:00:00+01:00",
          "2017-03-05T00:00:00+01:00",
          "2017-03-05T01:00:00+01:00",
          "2017-03-05T02:00:00+01:00",
          "2017-03-05T03:00:00+01:00",
          "2017-03-05T04:00:00+01:00",
          "2017-03-05T05:00:00+01:00",
          "2017-03-05T06:00:00+01:00",
          "2017-03-05T07:00:00+01:00"
         ],
         "y": [
          36.1469841003418,
          31.789884567260742,
          27.897918701171875,
          25.35849380493164,
          24.489038467407227,
          26.384618759155273,
          29.613771438598633,
          33.14961242675781,
          36.220176696777344,
          38.21564483642578,
          38.90360641479492,
          38.49327087402344,
          37.140472412109375,
          35.39079284667969,
          33.92493438720703,
          33.09406280517578,
          32.93073654174805,
          34.24531936645508,
          36.433204650878906,
          37.88146209716797,
          38.10653305053711,
          36.617244720458984,
          33.8099479675293,
          30.6897029876709,
          27.465740203857422,
          24.59992218017578,
          23.074302673339844,
          22.894283294677734,
          24.41220474243164,
          27.884899139404297,
          32.38391876220703,
          null
         ]
        }
       ],
       "layout": {
        "template": {
         "data": {
          "bar": [
           {
            "error_x": {
             "color": "#2a3f5f"
            },
            "error_y": {
             "color": "#2a3f5f"
            },
            "marker": {
             "line": {
              "color": "#E5ECF6",
              "width": 0.5
             },
             "pattern": {
              "fillmode": "overlay",
              "size": 10,
              "solidity": 0.2
             }
            },
            "type": "bar"
           }
          ],
          "barpolar": [
           {
            "marker": {
             "line": {
              "color": "#E5ECF6",
              "width": 0.5
             },
             "pattern": {
              "fillmode": "overlay",
              "size": 10,
              "solidity": 0.2
             }
            },
            "type": "barpolar"
           }
          ],
          "carpet": [
           {
            "aaxis": {
             "endlinecolor": "#2a3f5f",
             "gridcolor": "white",
             "linecolor": "white",
             "minorgridcolor": "white",
             "startlinecolor": "#2a3f5f"
            },
            "baxis": {
             "endlinecolor": "#2a3f5f",
             "gridcolor": "white",
             "linecolor": "white",
             "minorgridcolor": "white",
             "startlinecolor": "#2a3f5f"
            },
            "type": "carpet"
           }
          ],
          "choropleth": [
           {
            "colorbar": {
             "outlinewidth": 0,
             "ticks": ""
            },
            "type": "choropleth"
           }
          ],
          "contour": [
           {
            "colorbar": {
             "outlinewidth": 0,
             "ticks": ""
            },
            "colorscale": [
             [
              0,
              "#0d0887"
             ],
             [
              0.1111111111111111,
              "#46039f"
             ],
             [
              0.2222222222222222,
              "#7201a8"
             ],
             [
              0.3333333333333333,
              "#9c179e"
             ],
             [
              0.4444444444444444,
              "#bd3786"
             ],
             [
              0.5555555555555556,
              "#d8576b"
             ],
             [
              0.6666666666666666,
              "#ed7953"
             ],
             [
              0.7777777777777778,
              "#fb9f3a"
             ],
             [
              0.8888888888888888,
              "#fdca26"
             ],
             [
              1,
              "#f0f921"
             ]
            ],
            "type": "contour"
           }
          ],
          "contourcarpet": [
           {
            "colorbar": {
             "outlinewidth": 0,
             "ticks": ""
            },
            "type": "contourcarpet"
           }
          ],
          "heatmap": [
           {
            "colorbar": {
             "outlinewidth": 0,
             "ticks": ""
            },
            "colorscale": [
             [
              0,
              "#0d0887"
             ],
             [
              0.1111111111111111,
              "#46039f"
             ],
             [
              0.2222222222222222,
              "#7201a8"
             ],
             [
              0.3333333333333333,
              "#9c179e"
             ],
             [
              0.4444444444444444,
              "#bd3786"
             ],
             [
              0.5555555555555556,
              "#d8576b"
             ],
             [
              0.6666666666666666,
              "#ed7953"
             ],
             [
              0.7777777777777778,
              "#fb9f3a"
             ],
             [
              0.8888888888888888,
              "#fdca26"
             ],
             [
              1,
              "#f0f921"
             ]
            ],
            "type": "heatmap"
           }
          ],
          "heatmapgl": [
           {
            "colorbar": {
             "outlinewidth": 0,
             "ticks": ""
            },
            "colorscale": [
             [
              0,
              "#0d0887"
             ],
             [
              0.1111111111111111,
              "#46039f"
             ],
             [
              0.2222222222222222,
              "#7201a8"
             ],
             [
              0.3333333333333333,
              "#9c179e"
             ],
             [
              0.4444444444444444,
              "#bd3786"
             ],
             [
              0.5555555555555556,
              "#d8576b"
             ],
             [
              0.6666666666666666,
              "#ed7953"
             ],
             [
              0.7777777777777778,
              "#fb9f3a"
             ],
             [
              0.8888888888888888,
              "#fdca26"
             ],
             [
              1,
              "#f0f921"
             ]
            ],
            "type": "heatmapgl"
           }
          ],
          "histogram": [
           {
            "marker": {
             "pattern": {
              "fillmode": "overlay",
              "size": 10,
              "solidity": 0.2
             }
            },
            "type": "histogram"
           }
          ],
          "histogram2d": [
           {
            "colorbar": {
             "outlinewidth": 0,
             "ticks": ""
            },
            "colorscale": [
             [
              0,
              "#0d0887"
             ],
             [
              0.1111111111111111,
              "#46039f"
             ],
             [
              0.2222222222222222,
              "#7201a8"
             ],
             [
              0.3333333333333333,
              "#9c179e"
             ],
             [
              0.4444444444444444,
              "#bd3786"
             ],
             [
              0.5555555555555556,
              "#d8576b"
             ],
             [
              0.6666666666666666,
              "#ed7953"
             ],
             [
              0.7777777777777778,
              "#fb9f3a"
             ],
             [
              0.8888888888888888,
              "#fdca26"
             ],
             [
              1,
              "#f0f921"
             ]
            ],
            "type": "histogram2d"
           }
          ],
          "histogram2dcontour": [
           {
            "colorbar": {
             "outlinewidth": 0,
             "ticks": ""
            },
            "colorscale": [
             [
              0,
              "#0d0887"
             ],
             [
              0.1111111111111111,
              "#46039f"
             ],
             [
              0.2222222222222222,
              "#7201a8"
             ],
             [
              0.3333333333333333,
              "#9c179e"
             ],
             [
              0.4444444444444444,
              "#bd3786"
             ],
             [
              0.5555555555555556,
              "#d8576b"
             ],
             [
              0.6666666666666666,
              "#ed7953"
             ],
             [
              0.7777777777777778,
              "#fb9f3a"
             ],
             [
              0.8888888888888888,
              "#fdca26"
             ],
             [
              1,
              "#f0f921"
             ]
            ],
            "type": "histogram2dcontour"
           }
          ],
          "mesh3d": [
           {
            "colorbar": {
             "outlinewidth": 0,
             "ticks": ""
            },
            "type": "mesh3d"
           }
          ],
          "parcoords": [
           {
            "line": {
             "colorbar": {
              "outlinewidth": 0,
              "ticks": ""
             }
            },
            "type": "parcoords"
           }
          ],
          "pie": [
           {
            "automargin": true,
            "type": "pie"
           }
          ],
          "scatter": [
           {
            "marker": {
             "colorbar": {
              "outlinewidth": 0,
              "ticks": ""
             }
            },
            "type": "scatter"
           }
          ],
          "scatter3d": [
           {
            "line": {
             "colorbar": {
              "outlinewidth": 0,
              "ticks": ""
             }
            },
            "marker": {
             "colorbar": {
              "outlinewidth": 0,
              "ticks": ""
             }
            },
            "type": "scatter3d"
           }
          ],
          "scattercarpet": [
           {
            "marker": {
             "colorbar": {
              "outlinewidth": 0,
              "ticks": ""
             }
            },
            "type": "scattercarpet"
           }
          ],
          "scattergeo": [
           {
            "marker": {
             "colorbar": {
              "outlinewidth": 0,
              "ticks": ""
             }
            },
            "type": "scattergeo"
           }
          ],
          "scattergl": [
           {
            "marker": {
             "colorbar": {
              "outlinewidth": 0,
              "ticks": ""
             }
            },
            "type": "scattergl"
           }
          ],
          "scattermapbox": [
           {
            "marker": {
             "colorbar": {
              "outlinewidth": 0,
              "ticks": ""
             }
            },
            "type": "scattermapbox"
           }
          ],
          "scatterpolar": [
           {
            "marker": {
             "colorbar": {
              "outlinewidth": 0,
              "ticks": ""
             }
            },
            "type": "scatterpolar"
           }
          ],
          "scatterpolargl": [
           {
            "marker": {
             "colorbar": {
              "outlinewidth": 0,
              "ticks": ""
             }
            },
            "type": "scatterpolargl"
           }
          ],
          "scatterternary": [
           {
            "marker": {
             "colorbar": {
              "outlinewidth": 0,
              "ticks": ""
             }
            },
            "type": "scatterternary"
           }
          ],
          "surface": [
           {
            "colorbar": {
             "outlinewidth": 0,
             "ticks": ""
            },
            "colorscale": [
             [
              0,
              "#0d0887"
             ],
             [
              0.1111111111111111,
              "#46039f"
             ],
             [
              0.2222222222222222,
              "#7201a8"
             ],
             [
              0.3333333333333333,
              "#9c179e"
             ],
             [
              0.4444444444444444,
              "#bd3786"
             ],
             [
              0.5555555555555556,
              "#d8576b"
             ],
             [
              0.6666666666666666,
              "#ed7953"
             ],
             [
              0.7777777777777778,
              "#fb9f3a"
             ],
             [
              0.8888888888888888,
              "#fdca26"
             ],
             [
              1,
              "#f0f921"
             ]
            ],
            "type": "surface"
           }
          ],
          "table": [
           {
            "cells": {
             "fill": {
              "color": "#EBF0F8"
             },
             "line": {
              "color": "white"
             }
            },
            "header": {
             "fill": {
              "color": "#C8D4E3"
             },
             "line": {
              "color": "white"
             }
            },
            "type": "table"
           }
          ]
         },
         "layout": {
          "annotationdefaults": {
           "arrowcolor": "#2a3f5f",
           "arrowhead": 0,
           "arrowwidth": 1
          },
          "autotypenumbers": "strict",
          "coloraxis": {
           "colorbar": {
            "outlinewidth": 0,
            "ticks": ""
           }
          },
          "colorscale": {
           "diverging": [
            [
             0,
             "#8e0152"
            ],
            [
             0.1,
             "#c51b7d"
            ],
            [
             0.2,
             "#de77ae"
            ],
            [
             0.3,
             "#f1b6da"
            ],
            [
             0.4,
             "#fde0ef"
            ],
            [
             0.5,
             "#f7f7f7"
            ],
            [
             0.6,
             "#e6f5d0"
            ],
            [
             0.7,
             "#b8e186"
            ],
            [
             0.8,
             "#7fbc41"
            ],
            [
             0.9,
             "#4d9221"
            ],
            [
             1,
             "#276419"
            ]
           ],
           "sequential": [
            [
             0,
             "#0d0887"
            ],
            [
             0.1111111111111111,
             "#46039f"
            ],
            [
             0.2222222222222222,
             "#7201a8"
            ],
            [
             0.3333333333333333,
             "#9c179e"
            ],
            [
             0.4444444444444444,
             "#bd3786"
            ],
            [
             0.5555555555555556,
             "#d8576b"
            ],
            [
             0.6666666666666666,
             "#ed7953"
            ],
            [
             0.7777777777777778,
             "#fb9f3a"
            ],
            [
             0.8888888888888888,
             "#fdca26"
            ],
            [
             1,
             "#f0f921"
            ]
           ],
           "sequentialminus": [
            [
             0,
             "#0d0887"
            ],
            [
             0.1111111111111111,
             "#46039f"
            ],
            [
             0.2222222222222222,
             "#7201a8"
            ],
            [
             0.3333333333333333,
             "#9c179e"
            ],
            [
             0.4444444444444444,
             "#bd3786"
            ],
            [
             0.5555555555555556,
             "#d8576b"
            ],
            [
             0.6666666666666666,
             "#ed7953"
            ],
            [
             0.7777777777777778,
             "#fb9f3a"
            ],
            [
             0.8888888888888888,
             "#fdca26"
            ],
            [
             1,
             "#f0f921"
            ]
           ]
          },
          "colorway": [
           "#636efa",
           "#EF553B",
           "#00cc96",
           "#ab63fa",
           "#FFA15A",
           "#19d3f3",
           "#FF6692",
           "#B6E880",
           "#FF97FF",
           "#FECB52"
          ],
          "font": {
           "color": "#2a3f5f"
          },
          "geo": {
           "bgcolor": "white",
           "lakecolor": "white",
           "landcolor": "#E5ECF6",
           "showlakes": true,
           "showland": true,
           "subunitcolor": "white"
          },
          "hoverlabel": {
           "align": "left"
          },
          "hovermode": "closest",
          "mapbox": {
           "style": "light"
          },
          "paper_bgcolor": "white",
          "plot_bgcolor": "#E5ECF6",
          "polar": {
           "angularaxis": {
            "gridcolor": "white",
            "linecolor": "white",
            "ticks": ""
           },
           "bgcolor": "#E5ECF6",
           "radialaxis": {
            "gridcolor": "white",
            "linecolor": "white",
            "ticks": ""
           }
          },
          "scene": {
           "xaxis": {
            "backgroundcolor": "#E5ECF6",
            "gridcolor": "white",
            "gridwidth": 2,
            "linecolor": "white",
            "showbackground": true,
            "ticks": "",
            "zerolinecolor": "white"
           },
           "yaxis": {
            "backgroundcolor": "#E5ECF6",
            "gridcolor": "white",
            "gridwidth": 2,
            "linecolor": "white",
            "showbackground": true,
            "ticks": "",
            "zerolinecolor": "white"
           },
           "zaxis": {
            "backgroundcolor": "#E5ECF6",
            "gridcolor": "white",
            "gridwidth": 2,
            "linecolor": "white",
            "showbackground": true,
            "ticks": "",
            "zerolinecolor": "white"
           }
          },
          "shapedefaults": {
           "line": {
            "color": "#2a3f5f"
           }
          },
          "ternary": {
           "aaxis": {
            "gridcolor": "white",
            "linecolor": "white",
            "ticks": ""
           },
           "baxis": {
            "gridcolor": "white",
            "linecolor": "white",
            "ticks": ""
           },
           "bgcolor": "#E5ECF6",
           "caxis": {
            "gridcolor": "white",
            "linecolor": "white",
            "ticks": ""
           }
          },
          "title": {
           "x": 0.05
          },
          "xaxis": {
           "automargin": true,
           "gridcolor": "white",
           "linecolor": "white",
           "ticks": "",
           "title": {
            "standoff": 15
           },
           "zerolinecolor": "white",
           "zerolinewidth": 2
          },
          "yaxis": {
           "automargin": true,
           "gridcolor": "white",
           "linecolor": "white",
           "ticks": "",
           "title": {
            "standoff": 15
           },
           "zerolinecolor": "white",
           "zerolinewidth": 2
          }
         }
        }
       }
      }
     },
     "metadata": {},
     "output_type": "display_data"
    }
   ],
   "source": [
    "fig = go.Figure()\n",
    "df_pred =pd.DataFrame(index=y_test_filtered2.index)\n",
    "fig.add_trace(go.Scatter(x = y_test_filtered2.index,y=y_test_filtered2['price actual']))\n",
    "for i in range(len(data_x_test)):\n",
    "    case_test = data_x_test[i].reshape((1,data_x_test[0].shape[0], data_x_test[0].shape[1]))\n",
    "    Y_test_predictions = pd.Series(model_best_MS_LSTM.predict(case_test).flatten(),index=pd.date_range(start=idx_test[i],freq='h',periods=24))\n",
    "    df_pred[f'pred_{i}'] = Y_test_predictions\n",
    "    fig.add_trace(go.Scatter(x = Y_test_predictions.index,y=Y_test_predictions,mode='markers'))\n",
    "\n",
    "df_pred['mean'] = df_pred.mean(axis=1)\n",
    "df_pred['median'] = df_pred.median(axis=1)\n",
    "fig.add_trace(go.Scatter(x = y_test_filtered2.index,y=df_pred['mean']))\n",
    "fig.add_trace(go.Scatter(x = y_test_filtered2.index,y=df_pred['median']))\n",
    "fig.show()\n",
    "eval_df2  =create_eval_df(df_pred['mean'],y_test_filtered2)"
   ]
  },
  {
   "cell_type": "code",
   "execution_count": 65,
   "metadata": {},
   "outputs": [
    {
     "name": "stdout",
     "output_type": "stream",
     "text": [
      "R^2 score is  -0.26\n"
     ]
    }
   ],
   "source": [
    "#Calculating R2 value:\n",
    "r2_test = r2_score(y_test_filtered2[:-1],df_pred['mean'][:-1])\n",
    "print('R^2 score is  %3.2f' %r2_test)"
   ]
  },
  {
   "cell_type": "code",
   "execution_count": null,
   "metadata": {},
   "outputs": [],
   "source": []
  }
 ],
 "metadata": {
  "interpreter": {
   "hash": "39d1545a961fb91480a52a0b6f0ba22788119e75d6e41681ee81894caf37680e"
  },
  "kernelspec": {
   "display_name": "Python 3",
   "language": "python",
   "name": "python3"
  },
  "language_info": {
   "codemirror_mode": {
    "name": "ipython",
    "version": 3
   },
   "file_extension": ".py",
   "mimetype": "text/x-python",
   "name": "python",
   "nbconvert_exporter": "python",
   "pygments_lexer": "ipython3",
   "version": "3.9.4"
  }
 },
 "nbformat": 4,
 "nbformat_minor": 2
}
