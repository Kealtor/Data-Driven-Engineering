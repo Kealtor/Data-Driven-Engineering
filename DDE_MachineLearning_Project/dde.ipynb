{
 "cells": [
  {
   "cell_type": "code",
   "execution_count": null,
   "metadata": {
    "slideshow": {
     "slide_type": "skip"
    }
   },
   "outputs": [],
   "source": [
    "import numpy as np\n",
    "from datetime import timedelta\n",
    "import pandas as pd\n",
    "from pandas.plotting import lag_plot, autocorrelation_plot\n",
    "from datetime import date\n",
    "\n",
    "import plotly.express as px\n",
    "import plotly.graph_objects as go\n",
    "import matplotlib.pyplot as plt\n",
    "import matplotlib as mpl\n",
    "\n",
    "from statsmodels.graphics.tsaplots import plot_acf, plot_pacf \n",
    "import statsmodels.api as smw\n",
    "from statsmodels.tsa.statespace.sarimax import SARIMAX\n",
    "\n",
    "from sklearn import preprocessing as pp\n",
    "from sklearn.decomposition import PCA\n",
    "from sklearn.svm import SVR\n",
    "from sklearn.metrics import r2_score\n",
    "\n",
    "import tensorflow as tf\n",
    "from tensorflow import keras\n",
    "from keras import optimizers, models, layers, regularizers\n",
    "tf.__version__"
   ]
  },
  {
   "cell_type": "code",
   "execution_count": null,
   "metadata": {},
   "outputs": [],
   "source": [
    "%load_ext skip_kernel_extension"
   ]
  },
  {
   "cell_type": "code",
   "execution_count": null,
   "metadata": {},
   "outputs": [],
   "source": [
    "from utils.dde_preprocessing_utils import (set_timestamp_index,\n",
    "remove_duplicates,\n",
    "remove_columns,\n",
    "extract_correlations,\n",
    "prepare_data_sarimax,\n",
    "create_test_train_split,\n",
    "create_sarimax_test_train_split,\n",
    "create_eval_df,\n",
    "convert_to_sample_time_feature,\n",
    "average_over_year,\n",
    "average_over_day)\n",
    "from utils.dde_plotting_utils import(\n",
    "display_double_timestamps,\n",
    "display_seasonal_decomposition,\n",
    "plot_predictions,\n",
    "plot_accuracy,\n",
    "plot_error_variations,\n",
    "plot_learning_curves,\n",
    ")"
   ]
  },
  {
   "cell_type": "markdown",
   "metadata": {
    "slideshow": {
     "slide_type": "slide"
    }
   },
   "source": [
    "# Project Outline\n"
   ]
  },
  {
   "cell_type": "markdown",
   "metadata": {
    "slideshow": {
     "slide_type": "slide"
    }
   },
   "source": [
    "- [Introduction](#introduction)\n",
    "- [Analyzing Energy dataset](#analyzing-energy-dataset)\n",
    "- [Analyzing Weather Data](#analyzing-weather-dateset)\n",
    "- [Feature engineering](#feature-engineering)\n",
    "- [Baseline models](#baseline-models)\n",
    "  - [SARIMAX](#sarimax)\n",
    "  - [SVM](#svm)\n",
    "- [Advanced models](#advanced-models)\n",
    "  - [Simple NN](#simple-nn)\n",
    "  - [RNN](#rnn)\n",
    "  - [LSTM](#lstm)\n",
    "- [Hyperparameter Tuning](#hyperparameter-tuning)\n",
    "- [Conclusion and outlook](#conclusion-and-outlook)\n"
   ]
  },
  {
   "cell_type": "markdown",
   "metadata": {},
   "source": [
    "# Introduction\n"
   ]
  },
  {
   "cell_type": "markdown",
   "metadata": {},
   "source": [
    "\"Climate change is one of the greatest challenges facing humanity, and we, as machine learning experts,\n",
    "may wonder how we can help. Here we describe how machine learning can be a powerful tool in\n",
    "reducing greenhouse gas emissions and helping society adapt to a changing climate. \\\n",
    "From smart grids to disaster management, we identify high impact problems where existing gaps can be filled by machine\n",
    "learning, in collaboration with other fields. Our recommendations encompass exciting research questions\n",
    "as well as promising business opportunities. We call on the machine learning community to join\n",
    "the global effort against climate change.\" \\\n",
    "[David Rolnick et. al., 2019, Tackling Climate Change with Machine Learning](https://arxiv.org/abs/1906.05433)"
   ]
  },
  {
   "cell_type": "markdown",
   "metadata": {},
   "source": [
    "\"This dataset contains 4 years of electrical consumption, generation, pricing, and weather data for Spain. Consumption and generation data was retrieved from ENTSOE a public portal for Transmission Service Operator (TSO) data. Settlement prices were obtained from the Spanish TSO Red Electric España. Weather data was purchased as part of a personal project from the Open Weather API for the 5 largest cities in Spain and made public here.\" \\\n",
    "[Nicholas Jhana, 2019, Hourly energy demand generation and weather](https://www.kaggle.com/nicholasjhana/energy-consumption-generation-prices-and-weather)"
   ]
  },
  {
   "cell_type": "markdown",
   "metadata": {},
   "source": [
    "As described, in this project we are presented with two files, containing electrical consumption, generation, pricing and weather data for the region of Spain. \\\n",
    "In total there are up to 45 columns/features in the dataset and the data for each feature is hourly collected from 2015 to 2018, which results in 35064 timesteps.\n",
    "With a dataset of this size and detail, it is only natural to thing about the application of Machine Learning and Neural Networks. "
   ]
  },
  {
   "cell_type": "markdown",
   "metadata": {},
   "source": [
    "On one hand it is interesting to forecast the electrical prices, especially for businesses. On the other hand the prediction of electrical consumption can play a crucial role in our fight against global warming. With accurate predictions on the electrical load and sufficient storage capacities, renewable energy sources, where energy production heavily depends on weather, can be planned ahead in time, stored and used later on, which reduces the necessity for other energy generation methods. In turn this might also have an influence on the price. \\\n",
    "Therefore it is interesting to investigate the dependencies between weather, energy generation, consumption and pricing. \\\n",
    "From intuition one might say that the weather and energy consumption are the most basic and indepent variables in this project, because the energy generation from renewable energy sources are dependent from the weather. The increase and decrease of energy prices depends on the supply and demand, or in our case the generation and consumption. \n"
   ]
  },
  {
   "cell_type": "markdown",
   "metadata": {},
   "source": [
    "![energy graph](./files/energy.jpg)"
   ]
  },
  {
   "cell_type": "markdown",
   "metadata": {},
   "source": [
    "There are many ways to tackle a problem of this size and complexity. \\\n",
    "So first of all, we should define the goals of this project. This dataset is very suited for short term load forecasting, since the overall dataset has a length of 4 years and the resolution is down to hours. The model should be able to predict features for up to 24 hours into the future. \\\n",
    "For this project we are going to start with analyzing the dataset with statistical methods to get a feel for the dataset itself. \\\n",
    "And with a dataset that rich in features, it would be very beneficial apply Feature engineering methods like Correlation Analysis and Dimensionality Reduction to compress the dataset. \\\n",
    "With data like Weather and Energy demand it is worthwhile to look into seasonal trends and patterns and apply a Decomposition to the dataset. Furthermore, it would be practical to look into the history dependcy of the data and apply Autocorrelation and Partial Autocorrelation functions to analyze the dataset. \\\n",
    "For the Basemodel I choose to approach the task as a Regression Problem and model it with the SARIMAX-Model and the SVR-Model. \\\n",
    "The advanced model will be a neural network. And for this NN we will investigate different architectures to find the most suitable Model for this task. We especially will look into recurrent neural networks for their capability to process past data to predict the future. Furthermore, we will model it in a way, that a direct multistep prediction is possible.\\"
   ]
  },
  {
   "cell_type": "markdown",
   "metadata": {},
   "source": [
    "![model graph](./files/DDE_graphs_1.png)"
   ]
  },
  {
   "cell_type": "code",
   "execution_count": null,
   "metadata": {},
   "outputs": [],
   "source": [
    "SKIP_SARIMAX = True\n",
    "SKIP_SVM = True\n",
    "SKIP_RETRAIN_NN =True\n",
    "SKIP_RETRAIN_RNN = True\n",
    "SKIP_RETRAIN_LSTM = True\n",
    "SKIP_RETRAIN_ED_LSTM = True"
   ]
  },
  {
   "cell_type": "markdown",
   "metadata": {},
   "source": [
    "# Analyzing energy dataset\n"
   ]
  },
  {
   "cell_type": "code",
   "execution_count": null,
   "metadata": {
    "slideshow": {
     "slide_type": "slide"
    }
   },
   "outputs": [],
   "source": [
    "df_energy = pd.read_csv(\"energy_dataset.csv\")\n",
    "df_energy = set_timestamp_index(df_energy, \"time\")\n",
    "df_energy"
   ]
  },
  {
   "cell_type": "markdown",
   "metadata": {},
   "source": [
    "## General Analysis\n"
   ]
  },
  {
   "cell_type": "code",
   "execution_count": null,
   "metadata": {
    "slideshow": {
     "slide_type": "slide"
    }
   },
   "outputs": [],
   "source": [
    "df_energy.describe()"
   ]
  },
  {
   "cell_type": "code",
   "execution_count": null,
   "metadata": {
    "slideshow": {
     "slide_type": "slide"
    }
   },
   "outputs": [],
   "source": [
    "df_energy.hist(bins=50, figsize=(25, 15))\n",
    "plt.show()"
   ]
  },
  {
   "cell_type": "markdown",
   "metadata": {},
   "source": [
    "## Data Preparation and Cleaning\n"
   ]
  },
  {
   "cell_type": "markdown",
   "metadata": {},
   "source": [
    "### Dataframe cleaning\n"
   ]
  },
  {
   "cell_type": "markdown",
   "metadata": {},
   "source": [
    "- Columns with no actual data:\n",
    "  - generation fossil coal-derived gas\n",
    "  - generation fossil oil shale\n",
    "  - generation fossil peat\n",
    "  - generation geothermal\n",
    "  - generation hydro pumped storage aggregated\n",
    "  - generation marine\n",
    "  - generation wind offshore\n",
    "  - forecast wind offshore eday ahead\n",
    "- The Count of values is different from the length of the DataFrame\n",
    "- Therefore NaN-Values are in the Dataframe\n"
   ]
  },
  {
   "cell_type": "code",
   "execution_count": null,
   "metadata": {},
   "outputs": [],
   "source": [
    "# remove data with no values\n",
    "df_energy = remove_columns(\n",
    "    df_energy,\n",
    "    [\n",
    "        \"generation fossil coal-derived gas\",\n",
    "        \"generation fossil oil shale\",\n",
    "        \"generation fossil peat\",\n",
    "        \"generation geothermal\",\n",
    "        \"generation hydro pumped storage aggregated\",\n",
    "        \"generation marine\",\n",
    "        \"generation wind offshore\",\n",
    "        \"forecast wind offshore eday ahead\",\n",
    "    ],\n",
    ")\n",
    "# remove useless data\n",
    "df_energy = remove_columns(\n",
    "    df_energy,\n",
    "    [\n",
    "        \"forecast solar day ahead\",\n",
    "        \"forecast wind onshore day ahead\",\n",
    "        \"total load forecast\",\n",
    "        \"price day ahead\",\n",
    "    ],\n",
    ")\n",
    "# interpolate for missing data\n",
    "df_energy.interpolate(inplace=True)\n",
    "generation_parameters = [x for x in df_energy.columns if \"generation\" in x]\n",
    "energy_parameters = [x for x in df_energy.columns if x not in generation_parameters]\n",
    "df_energy.describe()"
   ]
  },
  {
   "cell_type": "code",
   "execution_count": null,
   "metadata": {},
   "outputs": [],
   "source": [
    "df_energy.hist(bins=50, figsize=(25, 15))\n",
    "plt.show()"
   ]
  },
  {
   "cell_type": "markdown",
   "metadata": {},
   "source": [
    "### Checking for overall length of the dataframe\n"
   ]
  },
  {
   "cell_type": "code",
   "execution_count": null,
   "metadata": {},
   "outputs": [],
   "source": [
    "date_period = pd.date_range(\n",
    "    start=\"2015-01-01 00:00:00+1\", end=\"2018-12-31 23:00:00+1\", freq=\"H\"\n",
    ")\n",
    "print(\"Length of the data frames: \", len(df_energy))\n",
    "print(\"Length of the time periode: \", len(date_period))"
   ]
  },
  {
   "cell_type": "markdown",
   "metadata": {},
   "source": [
    "## Checking energy mix"
   ]
  },
  {
   "cell_type": "code",
   "execution_count": null,
   "metadata": {},
   "outputs": [],
   "source": [
    "df_generation = average_over_year(df_energy)\n",
    "df_generation = remove_columns(df_generation,[\"total load actual\",\"price actual\"])"
   ]
  },
  {
   "cell_type": "code",
   "execution_count": null,
   "metadata": {},
   "outputs": [],
   "source": [
    "months_list = ['January','February','March','April','May','June','July','August','September','October','November','December']\n",
    "df_generation['month'] = months_list\n",
    "df_generation.set_index('month',inplace=True)"
   ]
  },
  {
   "cell_type": "code",
   "execution_count": null,
   "metadata": {},
   "outputs": [],
   "source": [
    "fig= px.bar(df_generation)\n",
    "fig.update_layout(barmode=\"relative\")\n",
    "fig.show()"
   ]
  },
  {
   "cell_type": "code",
   "execution_count": null,
   "metadata": {},
   "outputs": [],
   "source": [
    "df_generation['sum'] = df_generation.sum(axis=1)\n",
    "for col in df_generation.columns:\n",
    "    df_generation[col]= df_generation[col]/df_generation['sum']\n",
    "df_generation = remove_columns(df_generation,[\"sum\"])"
   ]
  },
  {
   "cell_type": "code",
   "execution_count": null,
   "metadata": {},
   "outputs": [],
   "source": [
    "fig= px.bar(df_generation)\n",
    "fig.show()"
   ]
  },
  {
   "cell_type": "markdown",
   "metadata": {},
   "source": [
    "# Analyzing weather dataset\n"
   ]
  },
  {
   "cell_type": "code",
   "execution_count": null,
   "metadata": {},
   "outputs": [],
   "source": [
    "df_weather = pd.read_csv(\"weather_features.csv\")\n",
    "df_weather"
   ]
  },
  {
   "cell_type": "markdown",
   "metadata": {},
   "source": [
    "## General Analysis\n"
   ]
  },
  {
   "cell_type": "code",
   "execution_count": null,
   "metadata": {},
   "outputs": [],
   "source": [
    "df_weather.describe()"
   ]
  },
  {
   "cell_type": "code",
   "execution_count": null,
   "metadata": {},
   "outputs": [],
   "source": [
    "df_weather.hist(bins=50, figsize=(25, 15))\n",
    "plt.show()"
   ]
  },
  {
   "cell_type": "markdown",
   "metadata": {},
   "source": [
    "## Data Preparation and Analysis\n"
   ]
  },
  {
   "cell_type": "markdown",
   "metadata": {},
   "source": [
    "### Outlier Handling\n"
   ]
  },
  {
   "cell_type": "markdown",
   "metadata": {},
   "source": [
    "- Outliers in:\n",
    "  - pressure\n",
    "  - windspeed\n",
    "- Removing Outliers by masking dataframe\n",
    "- Data with no useful information:\n",
    "  - temp_min\n",
    "  - temp_max\n",
    "  - rain_1h\n",
    "  - rain_3h\n",
    "  - snow_3h\n",
    "  - clouds_all\n",
    "  - weather_id\n",
    "  - weather_main\n",
    "  - weather_description\n",
    "  - weather_icon\n"
   ]
  },
  {
   "cell_type": "code",
   "execution_count": null,
   "metadata": {},
   "outputs": [],
   "source": [
    "# Removing outliers with upper and lower treshhold\n",
    "df_weather[\"pressure\"].mask(df_weather[\"pressure\"] >= 1.1e3, inplace=True)\n",
    "df_weather[\"pressure\"].mask(df_weather[\"pressure\"] <= 0.9e3, inplace=True)\n",
    "df_weather[\"wind_speed\"].mask(df_weather[\"wind_speed\"] >= 15, inplace=True)\n",
    "# interpolating missing data\n",
    "df_weather.interpolate(inplace=True)\n",
    "# dropping columns with no useful data\n",
    "df_weather = remove_columns(\n",
    "    df_weather,\n",
    "    [\n",
    "        \"temp_min\",\n",
    "        \"temp_max\",\n",
    "        \"rain_1h\",\n",
    "        \"rain_3h\",\n",
    "        \"snow_3h\",\n",
    "        \"clouds_all\",\n",
    "        \"weather_id\",\n",
    "        \"weather_main\",\n",
    "        \"weather_description\",\n",
    "        \"weather_icon\",\n",
    "    ],\n",
    ")\n",
    "weather_parameters = [x for x in df_weather.columns]"
   ]
  },
  {
   "cell_type": "code",
   "execution_count": null,
   "metadata": {},
   "outputs": [],
   "source": [
    "df_weather.describe()"
   ]
  },
  {
   "cell_type": "code",
   "execution_count": null,
   "metadata": {},
   "outputs": [],
   "source": [
    "df_weather.hist(bins=50, figsize=(25, 15))\n",
    "plt.show()"
   ]
  },
  {
   "cell_type": "markdown",
   "metadata": {},
   "source": [
    "### Splitting into city data\n"
   ]
  },
  {
   "cell_type": "code",
   "execution_count": null,
   "metadata": {},
   "outputs": [],
   "source": [
    "city_list = [\"Valencia\", \"Madrid\", \"Bilbao\", \"Barcelona\", \"Seville\"]\n",
    "df_weather[\"temp\"] = df_weather[\"temp\"].apply(lambda x: x - 273.15)\n",
    "df_cities = [\n",
    "    df_weather.query(f\"city_name == '{x}'\") for x in df_weather.city_name.unique()\n",
    "]\n",
    "for i, df in enumerate(df_cities):\n",
    "    df_cities[i] = set_timestamp_index(df.copy(deep=True), \"dt_iso\")"
   ]
  },
  {
   "cell_type": "code",
   "execution_count": null,
   "metadata": {},
   "outputs": [],
   "source": [
    "for name, df in zip(city_list, df_cities):\n",
    "    print(f\"Length of the {name} DataFrame: \", len(df))"
   ]
  },
  {
   "cell_type": "markdown",
   "metadata": {},
   "source": [
    "### Cleaning timeseries\n"
   ]
  },
  {
   "cell_type": "code",
   "execution_count": null,
   "metadata": {},
   "outputs": [],
   "source": [
    "df_city_duplicates = display_double_timestamps()\n",
    "df_valencia_duplicates = df_city_duplicates[0]\n",
    "df_valencia_duplicates"
   ]
  },
  {
   "cell_type": "markdown",
   "metadata": {},
   "source": [
    "As you can see in the DataFrame the difference mostly occours due to a slight weather change within the hour timestamp.\n"
   ]
  },
  {
   "cell_type": "code",
   "execution_count": null,
   "metadata": {},
   "outputs": [],
   "source": [
    "for i, item in enumerate(df_cities):\n",
    "    df_cities[i] = remove_duplicates(item)\n",
    "\n",
    "for name, df in zip(city_list, df_cities):\n",
    "    print(f\"Length of the {name} DataFrame: \", len(df))\n",
    "\n",
    "df_valencia = df_cities[0]\n",
    "df_madrid = df_cities[1]\n",
    "df_bilbao = df_cities[2]\n",
    "df_barcelona = df_cities[3]\n",
    "df_seville = df_cities[4]"
   ]
  },
  {
   "cell_type": "markdown",
   "metadata": {},
   "source": [
    "# Feature Engineering\n"
   ]
  },
  {
   "cell_type": "code",
   "execution_count": null,
   "metadata": {},
   "outputs": [],
   "source": [
    "combined_df = pd.concat([df_valencia, df_energy], axis=1)\n",
    "combined_df = remove_columns(combined_df, [\"city_name\"])"
   ]
  },
  {
   "cell_type": "markdown",
   "metadata": {},
   "source": [
    "## General Feature Extension\n"
   ]
  },
  {
   "cell_type": "code",
   "execution_count": null,
   "metadata": {},
   "outputs": [],
   "source": [
    "combined_df[\"generation\"] = combined_df[generation_parameters].sum(axis=1)\n",
    "combined_df[\"energy_difference\"] = (\n",
    "    combined_df[\"generation\"] - combined_df[\"total load actual\"]\n",
    ")"
   ]
  },
  {
   "cell_type": "markdown",
   "metadata": {},
   "source": [
    "## Time Feature Extension\n"
   ]
  },
  {
   "cell_type": "code",
   "execution_count": null,
   "metadata": {},
   "outputs": [],
   "source": [
    "combined_df[\"month\"] = combined_df.index.month\n",
    "combined_df[\"day\"] = combined_df.index.day\n",
    "combined_df[\"weekend\"] = np.where(df.index.weekday <= 4, 0, 1)\n",
    "combined_df"
   ]
  },
  {
   "cell_type": "markdown",
   "metadata": {},
   "source": [
    "## Data Scaling\n"
   ]
  },
  {
   "cell_type": "code",
   "execution_count": null,
   "metadata": {},
   "outputs": [],
   "source": [
    "featuresToScale = combined_df.columns\n",
    "sX = pp.StandardScaler(copy=True)\n",
    "scaled_df = combined_df.copy(deep=True)\n",
    "scaled_df.loc[:, featuresToScale] = sX.fit_transform(scaled_df[featuresToScale])\n",
    "scaled_df.sort_index(inplace=True)\n",
    "scaled_df.describe()"
   ]
  },
  {
   "cell_type": "markdown",
   "metadata": {},
   "source": [
    "## Correlation Matrix\n"
   ]
  },
  {
   "cell_type": "code",
   "execution_count": null,
   "metadata": {},
   "outputs": [],
   "source": [
    "correlationMatrix = pd.DataFrame(scaled_df).corr()\n",
    "f = plt.figure(figsize=(25, 25))\n",
    "plt.matshow(correlationMatrix, fignum=f.number)\n",
    "plt.xticks(range(scaled_df.shape[1]), scaled_df.columns, fontsize=14, rotation=90)\n",
    "plt.yticks(range(scaled_df.shape[1]), scaled_df.columns, fontsize=14)\n",
    "cb = plt.colorbar()\n",
    "cb.ax.tick_params(labelsize=14)\n",
    "plt.show()"
   ]
  },
  {
   "cell_type": "code",
   "execution_count": null,
   "metadata": {},
   "outputs": [],
   "source": [
    "correlations = extract_correlations(correlationMatrix, 0.5, -0.4)\n",
    "for item in correlations:\n",
    "    print(item)"
   ]
  },
  {
   "cell_type": "markdown",
   "metadata": {},
   "source": [
    "## PCA Analysis\n"
   ]
  },
  {
   "cell_type": "code",
   "execution_count": null,
   "metadata": {},
   "outputs": [],
   "source": [
    "n_components = None\n",
    "whiten = False\n",
    "svd_solver = \"auto\"\n",
    "random_state = 2020\n",
    "\n",
    "pca = PCA(\n",
    "    n_components=n_components,\n",
    "    whiten=whiten,\n",
    "    svd_solver=svd_solver,\n",
    "    random_state=random_state,\n",
    ")\n",
    "x_pca = pca.fit(scaled_df)"
   ]
  },
  {
   "cell_type": "code",
   "execution_count": null,
   "metadata": {},
   "outputs": [],
   "source": [
    "plt.plot(np.cumsum(pca.explained_variance_ratio_))\n",
    "plt.xlabel(\"number of components\")\n",
    "plt.ylabel(\"cumulative explained variance\")"
   ]
  },
  {
   "cell_type": "code",
   "execution_count": null,
   "metadata": {},
   "outputs": [],
   "source": [
    "pca = PCA(n_components=0.95)\n",
    "X_pca = pca.fit_transform(scaled_df) \n",
    "print(pca.n_components_)  "
   ]
  },
  {
   "cell_type": "code",
   "execution_count": null,
   "metadata": {},
   "outputs": [],
   "source": [
    "pd.DataFrame(pca.components_, columns=scaled_df.columns)"
   ]
  },
  {
   "cell_type": "code",
   "execution_count": null,
   "metadata": {},
   "outputs": [],
   "source": [
    "n_pcs = pca.n_components_\n",
    "# get the index of the most important feature on EACH component\n",
    "most_important = [np.abs(pca.components_[i]).argmax() for i in range(n_pcs)]\n",
    "initial_feature_names = scaled_df.columns\n",
    "# get the most important feature names\n",
    "most_important_names = [initial_feature_names[most_important[i]] for i in range(n_pcs)]\n",
    "print(\"Most important components:\")\n",
    "for item in most_important_names:\n",
    "    print(item)\n",
    "print(\"\")\n",
    "print(\"Least important components:\")\n",
    "for item in scaled_df.columns:\n",
    "    if item not in most_important_names:\n",
    "        print(item)\n"
   ]
  },
  {
   "cell_type": "markdown",
   "metadata": {},
   "source": [
    "## Decomposition\n"
   ]
  },
  {
   "cell_type": "code",
   "execution_count": null,
   "metadata": {},
   "outputs": [],
   "source": [
    "fig = display_seasonal_decomposition(\n",
    "    scaled_df[\"2015-01-01 00:00:00\":\"2015-12-31 23:00:00\"],\n",
    "    \"total load actual\",\n",
    "    48,\n",
    "    \"median\",\n",
    ")"
   ]
  },
  {
   "cell_type": "markdown",
   "metadata": {},
   "source": [
    "## Autocorrelation and Partial Autocorrelation\n"
   ]
  },
  {
   "cell_type": "code",
   "execution_count": null,
   "metadata": {},
   "outputs": [],
   "source": [
    "plt.figure()\n",
    "lag_plot(combined_df[\"total load actual\"])"
   ]
  },
  {
   "cell_type": "code",
   "execution_count": null,
   "metadata": {},
   "outputs": [],
   "source": [
    "plt.figure()\n",
    "autocorrelation_plot(combined_df[\"total load actual\"])"
   ]
  },
  {
   "cell_type": "code",
   "execution_count": null,
   "metadata": {},
   "outputs": [],
   "source": [
    "plt.figure()\n",
    "subset = combined_df[\"total load actual\"][\"2015-01-01\":\"2015-01-07\"]\n",
    "autocorrelation_plot(subset)"
   ]
  },
  {
   "cell_type": "code",
   "execution_count": null,
   "metadata": {},
   "outputs": [],
   "source": [
    "plt.figure()\n",
    "plot_acf(combined_df[\"total load actual\"])"
   ]
  },
  {
   "cell_type": "code",
   "execution_count": null,
   "metadata": {},
   "outputs": [],
   "source": [
    "plot_pacf(combined_df[\"total load actual\"], lags=25)"
   ]
  },
  {
   "cell_type": "markdown",
   "metadata": {},
   "source": [
    "# Baseline Models\n"
   ]
  },
  {
   "cell_type": "code",
   "execution_count": null,
   "metadata": {},
   "outputs": [],
   "source": [
    "combined_df"
   ]
  },
  {
   "cell_type": "markdown",
   "metadata": {},
   "source": [
    "## SARIMAX\n"
   ]
  },
  {
   "cell_type": "code",
   "execution_count": null,
   "metadata": {},
   "outputs": [],
   "source": [
    "%%skip $SKIP_SARIMAX\n",
    "\n",
    "import warnings\n",
    "from statsmodels.tools.sm_exceptions import ConvergenceWarning\n",
    "warnings.simplefilter('ignore', ConvergenceWarning)"
   ]
  },
  {
   "cell_type": "markdown",
   "metadata": {},
   "source": [
    "### Singlestep prediction\n"
   ]
  },
  {
   "cell_type": "markdown",
   "metadata": {},
   "source": [
    "Creating test-train-split datasets\n"
   ]
  },
  {
   "cell_type": "code",
   "execution_count": null,
   "metadata": {},
   "outputs": [],
   "source": [
    "%%skip $SKIP_SARIMAX\n",
    "\n",
    "train_start = \"2015-01-01\"\n",
    "test_start = \"2017-01-01\"\n",
    "test_end = \"2017-01-02\"\n",
    "combined_df.index.freq = \"h\"\n",
    "modeltype = 'SARIMAX'\n",
    "namespace = \"SARIMAX\"\n",
    "feature = 'total load actual'\n",
    "exog_feature = 'temp'\n",
    "\n",
    "data_y_train,data_y_test,data_exog_train,data_exog_test = create_sarimax_test_train_split(combined_df,feature,exog_feature,train_start=train_start,test_start=test_start,test_end=test_end,)\n"
   ]
  },
  {
   "cell_type": "markdown",
   "metadata": {},
   "source": [
    "Scaling dataset with MinMaxScaler\n"
   ]
  },
  {
   "cell_type": "code",
   "execution_count": null,
   "metadata": {},
   "outputs": [],
   "source": [
    "%%skip $SKIP_SARIMAX\n",
    "\n",
    "scaler_1 = pp.MinMaxScaler()\n",
    "scaler_2 = pp.MinMaxScaler()\n",
    "data_y_train[feature] = scaler_1.fit_transform(data_y_train)\n",
    "data_y_test[feature] = scaler_1.transform(data_y_test)\n",
    "\n",
    "data_exog_train[exog_feature] = scaler_2.fit_transform(data_exog_train)\n",
    "data_exog_test[exog_feature] = scaler_2.transform(data_exog_test)"
   ]
  },
  {
   "cell_type": "markdown",
   "metadata": {},
   "source": [
    "Hyperparameter setttings for SARIMAX"
   ]
  },
  {
   "cell_type": "code",
   "execution_count": null,
   "metadata": {},
   "outputs": [],
   "source": [
    "%%skip $SKIP_SARIMAX\n",
    "\n",
    "horizon = 1\n",
    "order = (3, 2, 8)\n",
    "seasonal_order = (1, 1, 1, 24)\n",
    "exog = data_exog_train"
   ]
  },
  {
   "cell_type": "markdown",
   "metadata": {},
   "source": [
    "Preparing data for SARIMAX\n"
   ]
  },
  {
   "cell_type": "code",
   "execution_count": null,
   "metadata": {},
   "outputs": [],
   "source": [
    "%%skip $SKIP_SARIMAX\n",
    "\n",
    "test_ts, history, predictions, history_temp, predictions_temp = prepare_data_sarimax(\n",
    "    data_y_train = data_y_train,\n",
    "    data_y_test = data_y_test,\n",
    "    exog_y_train = data_exog_train,\n",
    "    exog_y_test = data_exog_test,\n",
    "    horizon = horizon,\n",
    "    training_window=720,\n",
    "    feature=feature,\n",
    "    exog_feature=exog_feature,\n",
    ")"
   ]
  },
  {
   "cell_type": "markdown",
   "metadata": {},
   "source": [
    "Model Predictions\n"
   ]
  },
  {
   "cell_type": "code",
   "execution_count": null,
   "metadata": {},
   "outputs": [],
   "source": [
    "%%skip $SKIP_SARIMAX\n",
    "\n",
    "for t in range(0, test_ts.shape[0], horizon):\n",
    "\n",
    "    model = SARIMAX(\n",
    "        endog=history, exog=history_temp, order=order, seasonal_order=seasonal_order\n",
    "    )\n",
    "    model_fit = model.fit()\n",
    "    y_p = model_fit.forecast(\n",
    "        steps=horizon, exog=predictions_temp.iloc[:horizon].to_frame()\n",
    "    ).tolist()\n",
    "\n",
    "    obs = list(test_ts.iloc[t])\n",
    "    predictions.extend(y_p)\n",
    "\n",
    "    history = history.append(\n",
    "        pd.Series(\n",
    "            y_p,\n",
    "            index=pd.date_range(\n",
    "                start=history.index[-1] + timedelta(hours=1), periods=horizon, freq=\"h\"\n",
    "            ),\n",
    "        )\n",
    "    )\n",
    "    history = history[horizon:]\n",
    "\n",
    "    history_temp = history_temp.append(predictions_temp.iloc[:horizon])\n",
    "    history_temp.drop(index=history_temp.index[:horizon], inplace=True)\n",
    "    predictions_temp.drop(index=predictions_temp.index[:horizon], inplace=True)\n",
    "\n",
    "    print(test_ts.index[t])\n",
    "    print(t + 1, \": predicted =\", y_p, \"true value =\", obs)\n",
    "\n"
   ]
  },
  {
   "cell_type": "markdown",
   "metadata": {},
   "source": [
    "Create eval_df\n"
   ]
  },
  {
   "cell_type": "code",
   "execution_count": null,
   "metadata": {},
   "outputs": [],
   "source": [
    "%%skip $SKIP_SARIMAX\n",
    "\n",
    "eval_df = pd.DataFrame(predictions)\n",
    "eval_df.columns = ['prediction']\n",
    "eval_df=(eval_df.set_index(data_y_test.index)) \n",
    "eval_df['actual'] = data_y_test\n",
    "eval_df[['prediction', 'actual']] = scaler_1.inverse_transform(eval_df[['prediction', 'actual']])"
   ]
  },
  {
   "cell_type": "code",
   "execution_count": null,
   "metadata": {},
   "outputs": [],
   "source": [
    "%%skip $SKIP_SARIMAX\n",
    "\n",
    "fig = plot_predictions(eval_df,horizon,modeltype,feature,f\"./{modeltype}/predictions_{namespace}\")"
   ]
  },
  {
   "cell_type": "code",
   "execution_count": null,
   "metadata": {},
   "outputs": [],
   "source": [
    "%%skip $SKIP_SARIMAX\n",
    "\n",
    "fig = plot_accuracy(eval_df,modeltype,f\"./{modeltype}/accuracy_{namespace}\")"
   ]
  },
  {
   "cell_type": "code",
   "execution_count": null,
   "metadata": {},
   "outputs": [],
   "source": [
    "%%skip $SKIP_SARIMAX\n",
    "\n",
    "fig = plot_error_variations(eval_df,modeltype,f\"./{modeltype}/error_variations_{namespace}\")"
   ]
  },
  {
   "cell_type": "code",
   "execution_count": null,
   "metadata": {},
   "outputs": [],
   "source": [
    "%%skip $SKIP_SARIMAX\n",
    "\n",
    "Score_sarimax = r2_score(eval_df['actual'],eval_df['prediction'])\n",
    "print('R^2 score is  %3.2f' %np.mean(Score_sarimax))"
   ]
  },
  {
   "cell_type": "markdown",
   "metadata": {},
   "source": [
    "### Multistep Prediction\n"
   ]
  },
  {
   "cell_type": "markdown",
   "metadata": {},
   "source": [
    "Creating test-train-split datasets\n"
   ]
  },
  {
   "cell_type": "code",
   "execution_count": null,
   "metadata": {},
   "outputs": [],
   "source": [
    "%%skip $SKIP_SARIMAX\n",
    "\n",
    "train_start = \"2015-01-01\"\n",
    "test_start = \"2017-01-01\"\n",
    "test_end = \"2017-01-02\"\n",
    "modeltype = 'SARIMAX'\n",
    "namespace = \"MS_SARIMAX\"\n",
    "feature = 'total load actual'\n",
    "exog_feature = 'temp'\n",
    "combined_df.index.freq = \"h\"\n",
    "\n",
    "data_y_train,data_y_test,data_exog_train,data_exog_test = create_sarimax_test_train_split(combined_df,'total load actual','temp',train_start=train_start,test_start=test_start,test_end=test_end,)\n"
   ]
  },
  {
   "cell_type": "markdown",
   "metadata": {},
   "source": [
    "Scaling dataset with MinMaxScaler\n"
   ]
  },
  {
   "cell_type": "code",
   "execution_count": null,
   "metadata": {},
   "outputs": [],
   "source": [
    "%%skip $SKIP_SARIMAX\n",
    "\n",
    "scaler_1 = pp.MinMaxScaler()\n",
    "scaler_2 = pp.MinMaxScaler()\n",
    "data_y_train[feature] = scaler_1.fit_transform(data_y_train)\n",
    "data_y_test[feature] = scaler_1.transform(data_y_test)\n",
    "\n",
    "data_exog_train[exog_feature] = scaler_2.fit_transform(data_exog_train)\n",
    "data_exog_test[exog_feature] = scaler_2.transform(data_exog_test)"
   ]
  },
  {
   "cell_type": "markdown",
   "metadata": {},
   "source": [
    "Hyperparameter setttings for SARIMAX\n"
   ]
  },
  {
   "cell_type": "code",
   "execution_count": null,
   "metadata": {},
   "outputs": [],
   "source": [
    "%%skip $SKIP_SARIMAX\n",
    "\n",
    "horizon = 6\n",
    "order = (3, 2, 8)\n",
    "seasonal_order = (1, 1, 1, 24)\n",
    "exog = data_exog_train"
   ]
  },
  {
   "cell_type": "markdown",
   "metadata": {},
   "source": [
    "Preparing data for SARIMAX\n"
   ]
  },
  {
   "cell_type": "code",
   "execution_count": null,
   "metadata": {},
   "outputs": [],
   "source": [
    "%%skip $SKIP_SARIMAX\n",
    "\n",
    "test_ts, history, predictions, history_temp, predictions_temp = prepare_data_sarimax(\n",
    "    data_y_train = data_y_train,\n",
    "    data_y_test = data_y_test,\n",
    "    exog_y_train = data_exog_train,\n",
    "    exog_y_test = data_exog_test,\n",
    "    horizon = horizon,\n",
    "    training_window=720,\n",
    "    feature=feature,\n",
    "    exog_feature=exog_feature,\n",
    ")"
   ]
  },
  {
   "cell_type": "markdown",
   "metadata": {},
   "source": [
    "Model Predictions\n"
   ]
  },
  {
   "cell_type": "code",
   "execution_count": null,
   "metadata": {},
   "outputs": [],
   "source": [
    "%%skip $SKIP_SARIMAX\n",
    "\n",
    "for t in range(0, test_ts.shape[0], horizon):\n",
    "\n",
    "    model = SARIMAX(\n",
    "        endog=history, exog=history_temp, order=order, seasonal_order=seasonal_order\n",
    "    )\n",
    "    \n",
    "    model_fit = model.fit()\n",
    "    \n",
    "    y_p = model_fit.forecast(\n",
    "        steps=horizon, exog=predictions_temp.iloc[:horizon].to_frame()\n",
    "    ).tolist()\n",
    "\n",
    "    obs = list(test_ts.iloc[t])\n",
    "    predictions.extend(y_p)\n",
    "\n",
    "    history = history.append(\n",
    "        pd.Series(\n",
    "            y_p,\n",
    "            index=pd.date_range(\n",
    "                start=history.index[-1] + timedelta(hours=1), periods=horizon, freq=\"h\"\n",
    "            ),\n",
    "        )\n",
    "    )\n",
    "    history = history[horizon:]\n",
    "\n",
    "    history_temp = history_temp.append(predictions_temp.iloc[:horizon])\n",
    "    history_temp.drop(index=history_temp.index[:horizon], inplace=True)\n",
    "    predictions_temp.drop(index=predictions_temp.index[:horizon], inplace=True)\n",
    "\n",
    "    print(test_ts.index[t])\n",
    "    print(t + 1, \": predicted =\", y_p, \"true value =\", obs)\n",
    "\n"
   ]
  },
  {
   "cell_type": "markdown",
   "metadata": {},
   "source": [
    "Create eval_df\n"
   ]
  },
  {
   "cell_type": "code",
   "execution_count": null,
   "metadata": {},
   "outputs": [],
   "source": [
    "%%skip $SKIP_SARIMAX\n",
    "\n",
    "eval_df = pd.DataFrame(predictions)\n",
    "eval_df.columns = ['prediction']\n",
    "eval_df=(eval_df.set_index(data_y_test.index)) \n",
    "eval_df['actual'] = data_y_test[feature]\n",
    "eval_df[['prediction', 'actual']] = scaler_1.inverse_transform(eval_df[['prediction', 'actual']])"
   ]
  },
  {
   "cell_type": "code",
   "execution_count": null,
   "metadata": {},
   "outputs": [],
   "source": [
    "%%skip $SKIP_SARIMAX\n",
    "\n",
    "fig = plot_predictions(eval_df,horizon,modeltype,feature,f\"./{modeltype}/predictions_{namespace}\")"
   ]
  },
  {
   "cell_type": "code",
   "execution_count": null,
   "metadata": {},
   "outputs": [],
   "source": [
    "%%skip $SKIP_SARIMAX\n",
    "\n",
    "fig = plot_accuracy(eval_df,modeltype,f\"./{modeltype}/accuracy_{namespace}\")"
   ]
  },
  {
   "cell_type": "code",
   "execution_count": null,
   "metadata": {},
   "outputs": [],
   "source": [
    "%%skip $SKIP_SARIMAX\n",
    "\n",
    "fig = plot_error_variations(eval_df,modeltype,f\"./{modeltype}/error_variations_{namespace}\")"
   ]
  },
  {
   "cell_type": "code",
   "execution_count": null,
   "metadata": {},
   "outputs": [],
   "source": [
    "%%skip $SKIP_SARIMAX\n",
    "\n",
    "Score_sarimax = r2_score(eval_df['actual'],eval_df['prediction'])\n",
    "print('R^2 score is  %3.2f' %np.mean(Score_sarimax))"
   ]
  },
  {
   "cell_type": "markdown",
   "metadata": {},
   "source": [
    "## SVM\n"
   ]
  },
  {
   "cell_type": "markdown",
   "metadata": {},
   "source": [
    "### Singlestep prediction\n"
   ]
  },
  {
   "cell_type": "markdown",
   "metadata": {},
   "source": [
    "Loading the data set"
   ]
  },
  {
   "cell_type": "code",
   "execution_count": null,
   "metadata": {},
   "outputs": [],
   "source": [
    "%%skip $SKIP_SVM\n",
    "\n",
    "scaled_df = combined_df.copy(deep=True)"
   ]
  },
  {
   "cell_type": "markdown",
   "metadata": {},
   "source": [
    "Scaling the data set"
   ]
  },
  {
   "cell_type": "code",
   "execution_count": null,
   "metadata": {},
   "outputs": [],
   "source": [
    "%%skip $SKIP_SVM\n",
    "\n",
    "featuresToScale = scaled_df.columns\n",
    "sX = pp.StandardScaler(copy=True)\n",
    "scaled_df.loc[:,featuresToScale] = sX.fit_transform(scaled_df[featuresToScale])"
   ]
  },
  {
   "cell_type": "markdown",
   "metadata": {},
   "source": [
    "Creating Test-Train split"
   ]
  },
  {
   "cell_type": "code",
   "execution_count": null,
   "metadata": {},
   "outputs": [],
   "source": [
    "%%skip $SKIP_SVM\n",
    "\n",
    "train_start = '2015-01-01'\n",
    "test_start = '2017-01-01'\n",
    "test_end = '2017-01-04'\n",
    "scaled_df.index.freq = 'h' \n",
    "feature = 'total load acutal'\n",
    "namespace = 'SVR'\n",
    "modeltype = 'SVR'\n",
    "feature_df = combined_df[feature]\n",
    "(\n",
    "    data_x_train,\n",
    "    data_x_test,\n",
    "    data_y_train,\n",
    "    data_y_test,\n",
    "\n",
    ") = create_test_train_split(\n",
    "    df_x=scaled_df,df_y=feature_df,train_start=train_start,test_start=test_start,test_end=test_end,)\n"
   ]
  },
  {
   "cell_type": "markdown",
   "metadata": {},
   "source": [
    "Hyperparameters"
   ]
  },
  {
   "cell_type": "code",
   "execution_count": null,
   "metadata": {},
   "outputs": [],
   "source": [
    "%%skip $SKIP_SVM\n",
    "\n",
    "kernel='linear' \n",
    "gamma='scale'\n",
    "epsilon=0.1    \n",
    "shrinking=True \n",
    "tol=0.00001\n",
    "\n",
    "svr = SVR(kernel= kernel, gamma=gamma, tol=tol, C=C, epsilon=epsilon, shrinking=shrinking)"
   ]
  },
  {
   "cell_type": "markdown",
   "metadata": {},
   "source": [
    "Fitting the model to the training data"
   ]
  },
  {
   "cell_type": "code",
   "execution_count": null,
   "metadata": {},
   "outputs": [],
   "source": [
    "%%skip $SKIP_SVM\n",
    "\n",
    "model = svr\n",
    "model.fit(data_x_train, data_y_train)"
   ]
  },
  {
   "cell_type": "markdown",
   "metadata": {},
   "source": [
    "Getting model prediction scores"
   ]
  },
  {
   "cell_type": "code",
   "execution_count": null,
   "metadata": {},
   "outputs": [],
   "source": [
    "%%skip $SKIP_SVM\n",
    "\n",
    "scoreTraining = model.score(data_x_train, data_y_train)\n",
    "print('-----------------------------------')\n",
    "print('SVM Regression Training R^2 Score: ', scoreTraining)\n",
    "print('-----------------------------------')\n",
    "scoreValidation = model.score(data_x_test, data_y_test)\n",
    "print('-----------------------------------')\n",
    "print('SVM Regression Validation R^2 Score: ', scoreValidation)\n",
    "print('-----------------------------------')"
   ]
  },
  {
   "cell_type": "markdown",
   "metadata": {},
   "source": [
    "Model predictions"
   ]
  },
  {
   "cell_type": "code",
   "execution_count": null,
   "metadata": {},
   "outputs": [],
   "source": [
    "%%skip $SKIP_SVM\n",
    "\n",
    "y_predict = pd.Series(svr.predict(data_x_test),index=data_y_test.index)"
   ]
  },
  {
   "cell_type": "code",
   "execution_count": null,
   "metadata": {},
   "outputs": [],
   "source": [
    "%%skip $SKIP_SVM\n",
    "\n",
    "plt.figure();\n",
    "plt.plot(data_y_test, 'k.-');\n",
    "plt.plot(y_predict, 'x', alpha=0.70);\n",
    "\n",
    "plt.legend(['Actual',\n",
    "            'Predicted 1 hr ahead for 72 hours'\n",
    "            ]);\n",
    "plt.ylabel('Load');\n",
    "plt.xlabel('Time Index');\n",
    "plt.title('SVM');"
   ]
  },
  {
   "cell_type": "markdown",
   "metadata": {},
   "source": [
    "### Multistep prediction\n"
   ]
  },
  {
   "cell_type": "markdown",
   "metadata": {},
   "source": [
    "Loading the data set"
   ]
  },
  {
   "cell_type": "code",
   "execution_count": null,
   "metadata": {},
   "outputs": [],
   "source": [
    "%%skip $SKIP_SVM\n",
    "\n",
    "scaled_df = combined_df.copy(deep=True)"
   ]
  },
  {
   "cell_type": "markdown",
   "metadata": {},
   "source": [
    "Scaling the data set"
   ]
  },
  {
   "cell_type": "code",
   "execution_count": null,
   "metadata": {},
   "outputs": [],
   "source": [
    "%%skip $SKIP_SVM\n",
    "\n",
    "featuresToScale = scaled_df.columns\n",
    "sX = pp.StandardScaler(copy=True)\n",
    "scaled_df.loc[:,featuresToScale] = sX.fit_transform(scaled_df[featuresToScale])"
   ]
  },
  {
   "cell_type": "markdown",
   "metadata": {},
   "source": [
    "Creating Test-Train split"
   ]
  },
  {
   "cell_type": "code",
   "execution_count": null,
   "metadata": {},
   "outputs": [],
   "source": [
    "%%skip $SKIP_SVM\n",
    "\n",
    "train_start = '2015-01-01'\n",
    "test_start = '2017-01-01'\n",
    "test_end = '2017-01-04'\n",
    "scaled_df.index.freq = 'h' \n",
    "feature = 'total load acutal'\n",
    "namespace = 'MS_SVR'\n",
    "modeltype = 'SVR'\n",
    "feature_df = combined_df[feature]\n",
    "(\n",
    "    data_x_train,\n",
    "    data_x_test,\n",
    "    data_y_train,\n",
    "    data_y_test,\n",
    "\n",
    ") = create_test_train_split(\n",
    "    df_x=scaled_df,df_y=feature_df,train_start=train_start,test_start=test_start,test_end=test_end,)\n"
   ]
  },
  {
   "cell_type": "markdown",
   "metadata": {},
   "source": [
    "Hyperparameters"
   ]
  },
  {
   "cell_type": "code",
   "execution_count": null,
   "metadata": {},
   "outputs": [],
   "source": [
    "%%skip $SKIP_SVM\n",
    "\n",
    "pd.options.mode.chained_assignment = None \n",
    "\n",
    "kernel='linear' \n",
    "gamma='scale' \n",
    "epsilon=0.1    \n",
    "shrinking=True \n",
    "tol=0.00001\n",
    "\n",
    "svr = SVR(kernel= kernel, gamma=gamma, tol=tol, C=C, epsilon=epsilon, shrinking=shrinking)"
   ]
  },
  {
   "cell_type": "markdown",
   "metadata": {},
   "source": [
    "Fitting the model to the training data"
   ]
  },
  {
   "cell_type": "code",
   "execution_count": null,
   "metadata": {},
   "outputs": [],
   "source": [
    "%%skip $SKIP_SVM\n",
    "\n",
    "model = svr\n",
    "model.fit(data_x_train, data_y_train)"
   ]
  },
  {
   "cell_type": "code",
   "execution_count": null,
   "metadata": {},
   "outputs": [],
   "source": [
    "%%skip $SKIP_SVM\n",
    "\n",
    "y_predicted =pd.Series(index=data_y_test.index)"
   ]
  },
  {
   "cell_type": "markdown",
   "metadata": {},
   "source": [
    "Model predictions"
   ]
  },
  {
   "cell_type": "code",
   "execution_count": null,
   "metadata": {},
   "outputs": [],
   "source": [
    "%%skip $SKIP_SVM\n",
    "\n",
    "case_indices = data_y_test.index\n",
    "window = 720\n",
    "start_case_index = case_indices[0]-timedelta(hours=window)\n",
    "end_case_index = case_indices[0]-timedelta(hours=1)\n",
    "data_x_last = scaled_df[start_case_index:end_case_index]\n",
    "dummy_array = np.zeros((1,data_x_last.shape[1])) \n",
    "\n",
    "for case_index in case_indices:\n",
    "\n",
    "  load_prediction = svr.predict(data_x_last).flatten()[0]\n",
    "\n",
    "  y_predicted.update(pd.Series(load_prediction,index=[case_index]))\n",
    "\n",
    "  dummy_array[0,data_x_last.shape[1]-1] = load_prediction\n",
    "  load_scaled = sX.transform(dummy_array)[0,data_x_last.shape[1]-1]\n",
    "  \n",
    "  start_case_index = case_index-timedelta(hours=window-1)\n",
    "  end_case_index=case_index\n",
    "\n",
    "  data_x_last = scaled_df[start_case_index:end_case_index]\n",
    "  data_x_last.loc[case_index,'total load actual'] = load_scaled\n"
   ]
  },
  {
   "cell_type": "code",
   "execution_count": null,
   "metadata": {},
   "outputs": [],
   "source": [
    "%%skip $SKIP_SVM\n",
    "\n",
    "plt.figure();\n",
    "plt.plot(data_y_test, 'k.-');\n",
    "plt.plot(y_predicted, 'x', alpha=0.70);\n",
    "\n",
    "plt.legend(['Actual',\n",
    "            'Predicted 1 hr ahead for 72 hours'\n",
    "            ]);\n",
    "plt.ylabel('Load');\n",
    "plt.xlabel('Time Index');\n",
    "plt.title('SVM');"
   ]
  },
  {
   "cell_type": "markdown",
   "metadata": {},
   "source": [
    "# Advanced Models"
   ]
  },
  {
   "cell_type": "markdown",
   "metadata": {},
   "source": [
    "## Simple NN\n"
   ]
  },
  {
   "cell_type": "markdown",
   "metadata": {},
   "source": [
    "Scale the input data"
   ]
  },
  {
   "cell_type": "code",
   "execution_count": null,
   "metadata": {},
   "outputs": [],
   "source": [
    "scaled_df = combined_df.copy(deep=True)\n",
    "featuresToScale = scaled_df.columns\n",
    "sX = pp.StandardScaler(copy=True)\n",
    "scaled_df.loc[:,featuresToScale] = sX.fit_transform(scaled_df[featuresToScale])"
   ]
  },
  {
   "cell_type": "markdown",
   "metadata": {},
   "source": [
    "Create Train Validation Test Split"
   ]
  },
  {
   "cell_type": "code",
   "execution_count": null,
   "metadata": {},
   "outputs": [],
   "source": [
    "train_start = '2015-01-01'\n",
    "validation_start = '2017-01-01'\n",
    "test_start = '2017-03-01'\n",
    "test_end = '2017-03-06'\n",
    "feature = 'total load actual'\n",
    "namespace = 'NN'\n",
    "modeltype = 'NN'\n",
    "feature_df = combined_df[[feature]]\n",
    "data_x_train,data_x_val,data_x_test,data_y_train,data_y_val,data_y_test = create_test_train_split(scaled_df,feature_df,train_start,test_start,test_end,validation_start=validation_start)\n"
   ]
  },
  {
   "cell_type": "markdown",
   "metadata": {},
   "source": [
    "Define the Model"
   ]
  },
  {
   "cell_type": "code",
   "execution_count": null,
   "metadata": {},
   "outputs": [],
   "source": [
    "def build_model_batch():\n",
    "  model = models.Sequential([\n",
    "  layers.Dense(32, kernel_initializer=\"he_normal\", input_shape=(data_x_train.shape[1],)),keras.layers.LeakyReLU(alpha=0.1),                           \n",
    "  layers.BatchNormalization(),\n",
    "  layers.Dense(32, kernel_regularizer=regularizers.l2(0.0001), kernel_initializer=\"he_normal\"),keras.layers.LeakyReLU(alpha=0.1),\n",
    "  layers.BatchNormalization(),\n",
    "  layers.Dense(1)\n",
    "  ])\n",
    "  \n",
    "  model.compile(optimizer='Adam', loss=['mse'], metrics=['mae'])\n",
    "  return model\n"
   ]
  },
  {
   "cell_type": "code",
   "execution_count": null,
   "metadata": {},
   "outputs": [],
   "source": [
    "build_model_batch().summary()"
   ]
  },
  {
   "cell_type": "markdown",
   "metadata": {},
   "source": [
    "Define Callback functions"
   ]
  },
  {
   "cell_type": "code",
   "execution_count": null,
   "metadata": {},
   "outputs": [],
   "source": [
    "myCheckpoint= keras.callbacks.ModelCheckpoint(f\"./{modeltype}/my_best_model_{namespace}.h5\", save_best_only=True)\n",
    "myEarly_stopping = keras.callbacks.EarlyStopping(patience=20,restore_best_weights=True)"
   ]
  },
  {
   "cell_type": "markdown",
   "metadata": {},
   "source": [
    "Hyperparameters"
   ]
  },
  {
   "cell_type": "code",
   "execution_count": null,
   "metadata": {},
   "outputs": [],
   "source": [
    "num_epochs = 100\n",
    "batch_size = 10"
   ]
  },
  {
   "cell_type": "markdown",
   "metadata": {},
   "source": [
    "Training the model"
   ]
  },
  {
   "cell_type": "code",
   "execution_count": null,
   "metadata": {},
   "outputs": [],
   "source": [
    "%%skip $SKIP_RETRAIN_NN\n",
    "\n",
    "model_base = build_model_batch()\n",
    "history_base = model_base.fit(data_x_train, data_y_train, epochs=num_epochs, batch_size=batch_size, validation_data=(data_x_val, data_y_val) , \n",
    "                                callbacks=[myCheckpoint,myEarly_stopping])"
   ]
  },
  {
   "cell_type": "markdown",
   "metadata": {},
   "source": [
    "Evaluate the training process"
   ]
  },
  {
   "cell_type": "code",
   "execution_count": null,
   "metadata": {
    "colab": {
     "base_uri": "https://localhost:8080/",
     "height": 159
    },
    "id": "m2wbpzv8gPh0",
    "outputId": "1ead09f5-6fa5-499d-b0b2-7f94452a48be"
   },
   "outputs": [],
   "source": [
    "%%skip $SKIP_RETRAIN_NN\n",
    "\n",
    "hist = pd.DataFrame(history_base.history)\n",
    "hist['epoch'] = history_base.epoch"
   ]
  },
  {
   "cell_type": "code",
   "execution_count": null,
   "metadata": {
    "colab": {
     "base_uri": "https://localhost:8080/",
     "height": 296
    },
    "id": "2VoMpChceA-8",
    "outputId": "ed11291b-62a2-468b-f749-c1e62639ccb4"
   },
   "outputs": [],
   "source": [
    "%%skip $SKIP_RETRAIN_NN\n",
    "\n",
    "fig = plot_learning_curves(hist,modeltype, f\"./{modeltype}/learningcurve_{namespace}\")"
   ]
  },
  {
   "cell_type": "markdown",
   "metadata": {},
   "source": [
    "Load best model"
   ]
  },
  {
   "cell_type": "code",
   "execution_count": null,
   "metadata": {},
   "outputs": [],
   "source": [
    "model_best = keras.models.load_model(f\"my_best_model_{namespace}.h5\")\n",
    "model_best.summary()"
   ]
  },
  {
   "cell_type": "markdown",
   "metadata": {},
   "source": [
    "Evaluate Predictions"
   ]
  },
  {
   "cell_type": "code",
   "execution_count": null,
   "metadata": {},
   "outputs": [],
   "source": [
    "Y_test_predictions = pd.Series(model_best.predict(data_x_test).flatten(),index=data_x_test.index)"
   ]
  },
  {
   "cell_type": "code",
   "execution_count": null,
   "metadata": {},
   "outputs": [],
   "source": [
    "eval_df = create_eval_df(Y_test_predictions,data_y_test,)"
   ]
  },
  {
   "cell_type": "code",
   "execution_count": null,
   "metadata": {},
   "outputs": [],
   "source": [
    "fig = plot_accuracy(eval_df,modeltype, f\"./{modeltype}/accuracy_{namespace}\")"
   ]
  },
  {
   "cell_type": "code",
   "execution_count": null,
   "metadata": {},
   "outputs": [],
   "source": [
    "fig = plot_error_variations(eval_df,modeltype, f\"./{modeltype}/error_variations_{namespace}\")"
   ]
  },
  {
   "cell_type": "code",
   "execution_count": null,
   "metadata": {},
   "outputs": [],
   "source": [
    "abs_error_nn = abs(Y_test_predictions - data_y_test)/data_y_test*100\n",
    "np.average(abs_error_nn)\n"
   ]
  },
  {
   "cell_type": "code",
   "execution_count": null,
   "metadata": {},
   "outputs": [],
   "source": [
    "r2_test = r2_score(data_y_test, Y_test_predictions)\n",
    "print('R^2 score is  %3.2f' %r2_test)"
   ]
  },
  {
   "cell_type": "code",
   "execution_count": null,
   "metadata": {},
   "outputs": [],
   "source": [
    "fig = plot_predictions(eval_df,1,modeltype,feature ,f\"./{modeltype}/predictions_{namespace}\")"
   ]
  },
  {
   "cell_type": "markdown",
   "metadata": {},
   "source": [
    "## RNN"
   ]
  },
  {
   "cell_type": "markdown",
   "metadata": {},
   "source": [
    "Scale the input data"
   ]
  },
  {
   "cell_type": "code",
   "execution_count": null,
   "metadata": {},
   "outputs": [],
   "source": [
    "scaled_df = combined_df.copy(deep=True)\n",
    "featuresToScale = scaled_df.columns\n",
    "sX = pp.StandardScaler(copy=True)\n",
    "scaled_df.loc[:,featuresToScale] = sX.fit_transform(scaled_df[featuresToScale])"
   ]
  },
  {
   "cell_type": "markdown",
   "metadata": {},
   "source": [
    "Create Train Validation Test Split"
   ]
  },
  {
   "cell_type": "code",
   "execution_count": null,
   "metadata": {},
   "outputs": [],
   "source": [
    "train_start = '2015-01-01'\n",
    "validation_start = '2017-01-01'\n",
    "test_start = '2017-03-01'\n",
    "test_end = '2017-03-06'\n",
    "feature = 'total load actual'\n",
    "namespace = \"RNN\"\n",
    "modeltype = \"RNN\"\n",
    "feature_df = combined_df[[feature]]\n",
    "data_x_train0,data_x_val0,data_x_test0,data_y_train0,data_y_val0,data_y_test0 = create_test_train_split(scaled_df,feature_df,train_start,test_start,test_end,validation_start=validation_start)"
   ]
  },
  {
   "cell_type": "markdown",
   "metadata": {},
   "source": [
    "Convert to (sample,timestep,feature) format"
   ]
  },
  {
   "cell_type": "code",
   "execution_count": null,
   "metadata": {},
   "outputs": [],
   "source": [
    "data_x_train,data_y_train,idx_train = convert_to_sample_time_feature(data_x_train0,data_y_train0,24,1,32)\n",
    "data_x_test,data_y_test,idx_test = convert_to_sample_time_feature(data_x_test0,data_y_test0,24,1,32)\n",
    "data_x_val,data_y_val,idx_val = convert_to_sample_time_feature(data_x_val0,data_y_val0,24,1,32)"
   ]
  },
  {
   "cell_type": "code",
   "execution_count": null,
   "metadata": {},
   "outputs": [],
   "source": [
    "print(data_x_train.shape,data_y_train.shape)\n",
    "print(data_x_val.shape,data_y_val.shape)\n",
    "print(data_x_test.shape,data_y_test.shape)"
   ]
  },
  {
   "cell_type": "markdown",
   "metadata": {},
   "source": [
    "Define RNN Model"
   ]
  },
  {
   "cell_type": "code",
   "execution_count": null,
   "metadata": {},
   "outputs": [],
   "source": [
    "def build_model_RNN(data_x_train,data_y_train):\n",
    "    n_timesteps, n_features, n_outputs = data_x_train.shape[1], data_x_train.shape[2], data_y_train.shape[1]\n",
    "    model = models.Sequential([\n",
    "    layers.SimpleRNN(32, return_sequences=True,input_shape=(None, n_features), stateful=False), \n",
    "    layers.BatchNormalization(),\n",
    "    layers.SimpleRNN(32, return_sequences=True, stateful=False),\n",
    "    layers.BatchNormalization(),\n",
    "    layers.SimpleRNN(32, stateful=False),\n",
    "    layers.BatchNormalization(),\n",
    "    layers.Dense(n_outputs)                     \n",
    "    ])\n",
    "    model.compile(optimizer='Adam',loss='mse',metrics='mae') \n",
    "    return model"
   ]
  },
  {
   "cell_type": "markdown",
   "metadata": {},
   "source": [
    "Define Callback functions"
   ]
  },
  {
   "cell_type": "code",
   "execution_count": null,
   "metadata": {},
   "outputs": [],
   "source": [
    "myCheckpointRNN= keras.callbacks.ModelCheckpoint(f\"./{modeltype}/my_best_model_{namespace}.h5\", save_best_only=True)\n",
    "myEarly_stoppingRNN = keras.callbacks.EarlyStopping(patience=10,restore_best_weights=True)"
   ]
  },
  {
   "cell_type": "markdown",
   "metadata": {},
   "source": [
    "Hyperparameters"
   ]
  },
  {
   "cell_type": "code",
   "execution_count": null,
   "metadata": {},
   "outputs": [],
   "source": [
    "num_epochs = 150\n",
    "batch_size = 32"
   ]
  },
  {
   "cell_type": "markdown",
   "metadata": {},
   "source": [
    "Training the Model"
   ]
  },
  {
   "cell_type": "code",
   "execution_count": null,
   "metadata": {},
   "outputs": [],
   "source": [
    "%%skip $SKIP_RETRAIN_RNN\n",
    "\n",
    "model_rnn = build_model_RNN(data_x_train,data_y_train)\n",
    "history_rnn = model_rnn.fit(data_x_train, data_y_train, epochs=num_epochs, batch_size=batch_size, validation_data=(data_x_val, data_y_val) , \n",
    "                                 callbacks=[myCheckpointRNN,myEarly_stoppingRNN])#, verbose=0)\n",
    "\n"
   ]
  },
  {
   "cell_type": "markdown",
   "metadata": {},
   "source": [
    "Evaluate the training process"
   ]
  },
  {
   "cell_type": "code",
   "execution_count": null,
   "metadata": {
    "colab": {
     "base_uri": "https://localhost:8080/",
     "height": 159
    },
    "id": "0f_FwfmlHyAl",
    "outputId": "080474a2-3f61-42ca-95ef-7bc23f76c853"
   },
   "outputs": [],
   "source": [
    "%%skip $SKIP_RETRAIN_RNN\n",
    "\n",
    "histRNN = pd.DataFrame(history_rnn.history)\n",
    "histRNN['epoch'] = history_rnn.epoch"
   ]
  },
  {
   "cell_type": "code",
   "execution_count": null,
   "metadata": {
    "colab": {
     "base_uri": "https://localhost:8080/",
     "height": 405
    },
    "id": "d2SviC32HyAr",
    "outputId": "512e600c-f7c8-46cd-9801-7387d6bf4f7f"
   },
   "outputs": [],
   "source": [
    "%%skip $SKIP_RETRAIN_RNN\n",
    "\n",
    "fig = plot_learning_curves(histRNN,modeltype,f\"./{modeltype}/learningcurve_{namespace}.png\")"
   ]
  },
  {
   "cell_type": "markdown",
   "metadata": {},
   "source": [
    "Load best model"
   ]
  },
  {
   "cell_type": "code",
   "execution_count": null,
   "metadata": {},
   "outputs": [],
   "source": [
    "model_best_RNN = keras.models.load_model(f\"./{modeltype}/my_best_model_{namespace}.h5\")\n",
    "model_best_RNN.summary()"
   ]
  },
  {
   "cell_type": "markdown",
   "metadata": {},
   "source": [
    "Evaluate predictions"
   ]
  },
  {
   "cell_type": "code",
   "execution_count": null,
   "metadata": {
    "colab": {
     "base_uri": "https://localhost:8080/"
    },
    "id": "9uYdwycxdrO0",
    "outputId": "a8fcc94c-f612-4f97-f5fa-e55b79b33234"
   },
   "outputs": [],
   "source": [
    "y_test_filtered = data_y_test0.loc[idx_test]\n",
    "y_test_filtered = y_test_filtered.squeeze(axis=1)\n",
    "Y_test_predictions = pd.Series(model_best_RNN.predict(data_x_test).flatten(),index=y_test_filtered.index)"
   ]
  },
  {
   "cell_type": "code",
   "execution_count": null,
   "metadata": {},
   "outputs": [],
   "source": [
    "eval_df = create_eval_df(Y_test_predictions,y_test_filtered)"
   ]
  },
  {
   "cell_type": "code",
   "execution_count": null,
   "metadata": {
    "colab": {
     "base_uri": "https://localhost:8080/",
     "height": 426
    },
    "id": "5X3Hs_GtHyAs",
    "outputId": "7281486a-4a6c-492c-e48f-37fa6e7d7c25"
   },
   "outputs": [],
   "source": [
    "fig = plot_accuracy( eval_df,modeltype,f\"./{modeltype}/accuracy_{namespace}.png\" )"
   ]
  },
  {
   "cell_type": "code",
   "execution_count": null,
   "metadata": {
    "colab": {
     "base_uri": "https://localhost:8080/",
     "height": 422
    },
    "id": "olr-44nOHyAt",
    "outputId": "ac65b698-1f77-4a62-87cf-c99f30d4d246"
   },
   "outputs": [],
   "source": [
    "fig = plot_error_variations(eval_df,,modeltype,f\"./{modeltype}/error_variations_{namespace}.png\")"
   ]
  },
  {
   "cell_type": "code",
   "execution_count": null,
   "metadata": {
    "colab": {
     "base_uri": "https://localhost:8080/"
    },
    "id": "-HSnhihhHyAt",
    "outputId": "b45d472e-df1f-4ab2-97ba-6318127d0d9e"
   },
   "outputs": [],
   "source": [
    "abs_error_rnn = abs(Y_test_predictions - y_test_filtered)/y_test_filtered*100\n",
    "np.average(abs_error_rnn)"
   ]
  },
  {
   "cell_type": "code",
   "execution_count": null,
   "metadata": {
    "colab": {
     "base_uri": "https://localhost:8080/"
    },
    "id": "-Og3-ec1HyAv",
    "outputId": "f0d3e172-622e-4dd4-a8ec-3f84e320356b"
   },
   "outputs": [],
   "source": [
    "#Calculating R2 value:\n",
    "r2_test = r2_score(y_test_filtered, Y_test_predictions)\n",
    "print('R^2 score is  %3.2f' %r2_test)"
   ]
  },
  {
   "cell_type": "code",
   "execution_count": null,
   "metadata": {
    "colab": {
     "base_uri": "https://localhost:8080/",
     "height": 421
    },
    "id": "bUVtrW7kHyAw",
    "outputId": "e4abb863-ccd1-4159-bd9d-7fb1a9711a9f"
   },
   "outputs": [],
   "source": [
    "fig = plot_predictions(eval_df,1,modeltype,feature,f\"./{modeltype}/predictions_{namespace}.png\")"
   ]
  },
  {
   "cell_type": "markdown",
   "metadata": {},
   "source": [
    "## Single Step LSTM"
   ]
  },
  {
   "cell_type": "markdown",
   "metadata": {},
   "source": [
    "Scale the input data"
   ]
  },
  {
   "cell_type": "code",
   "execution_count": null,
   "metadata": {},
   "outputs": [],
   "source": [
    "scaled_df = combined_df.copy(deep=True)\n",
    "featuresToScale = scaled_df.columns\n",
    "sX = pp.StandardScaler(copy=True)\n",
    "scaled_df.loc[:,featuresToScale] = sX.fit_transform(scaled_df[featuresToScale])"
   ]
  },
  {
   "cell_type": "markdown",
   "metadata": {},
   "source": [
    "Create Train Validation Test Split"
   ]
  },
  {
   "cell_type": "code",
   "execution_count": null,
   "metadata": {},
   "outputs": [],
   "source": [
    "train_start = '2015-01-01'\n",
    "validation_start = '2017-01-01'\n",
    "test_start = '2017-03-01'\n",
    "test_end = '2017-03-06'\n",
    "feature = 'total load actual'\n",
    "namespace = 'LSTM'\n",
    "modeltype = 'LSTM'\n",
    "feature_df = combined_df[[feature]]\n",
    "data_x_train0,data_x_val0,data_x_test0,data_y_train0,data_y_val0,data_y_test0 = create_test_train_split(scaled_df,feature_df,train_start,test_start,test_end,validation_start=validation_start)"
   ]
  },
  {
   "cell_type": "markdown",
   "metadata": {},
   "source": [
    "Convert to (sample,timestep,feature) format"
   ]
  },
  {
   "cell_type": "code",
   "execution_count": null,
   "metadata": {},
   "outputs": [],
   "source": [
    "data_x_train,data_y_train,idx_train = convert_to_sample_time_feature(data_x_train0,data_y_train0,24,1,32)\n",
    "data_x_test,data_y_test,idx_test = convert_to_sample_time_feature(data_x_test0,data_y_test0,24,1,32)\n",
    "data_x_val,data_y_val,idx_val = convert_to_sample_time_feature(data_x_val0,data_y_val0,24,1,32)"
   ]
  },
  {
   "cell_type": "code",
   "execution_count": null,
   "metadata": {},
   "outputs": [],
   "source": [
    "print(data_x_train.shape,data_y_train.shape)\n",
    "print(data_x_val.shape,data_y_val.shape)\n",
    "print(data_x_test.shape,data_y_test.shape)"
   ]
  },
  {
   "cell_type": "markdown",
   "metadata": {},
   "source": [
    "Define LSTM Model"
   ]
  },
  {
   "cell_type": "code",
   "execution_count": null,
   "metadata": {},
   "outputs": [],
   "source": [
    "def build_model_LSTM(data_x_train,data_y_train):\n",
    "    n_timesteps, n_features, n_outputs = data_x_train.shape[1], data_x_train.shape[2], data_y_train.shape[1]\n",
    "    model = models.Sequential([\n",
    "    layers.LSTM(32, return_sequences=True,input_shape=(None, n_features), stateful=False), \n",
    "    layers.BatchNormalization(),\n",
    "    layers.LSTM(32, return_sequences=True, stateful=False),\n",
    "    layers.BatchNormalization(),\n",
    "    layers.LSTM(32, stateful=False),\n",
    "    layers.BatchNormalization(),\n",
    "    layers.Dense(n_outputs)                     \n",
    "    ])\n",
    "    model.compile(optimizer='Adam',loss='mse',metrics='mae') \n",
    "    return model"
   ]
  },
  {
   "cell_type": "markdown",
   "metadata": {},
   "source": [
    "Definening callback functions"
   ]
  },
  {
   "cell_type": "code",
   "execution_count": null,
   "metadata": {},
   "outputs": [],
   "source": [
    "myCheckpointLSTM= keras.callbacks.ModelCheckpoint(f\"./{modeltype}/my_best_model_{namespace}.h5\", save_best_only=True)\n",
    "myEarly_stoppingLSTM = keras.callbacks.EarlyStopping(patience=10,restore_best_weights=True)"
   ]
  },
  {
   "cell_type": "markdown",
   "metadata": {},
   "source": [
    "Hypterparameters"
   ]
  },
  {
   "cell_type": "code",
   "execution_count": null,
   "metadata": {},
   "outputs": [],
   "source": [
    "num_epochs = 150\n",
    "batch_size = 32"
   ]
  },
  {
   "cell_type": "markdown",
   "metadata": {},
   "source": [
    "Training the model"
   ]
  },
  {
   "cell_type": "code",
   "execution_count": null,
   "metadata": {},
   "outputs": [],
   "source": [
    "%%skip $SKIP_RETRAIN_LSTM\n",
    "\n",
    "model_LSTM = build_model_LSTM(data_x_train,data_y_train)\n",
    "history_LSTM = model_LSTM.fit(data_x_train, data_y_train, epochs=num_epochs, batch_size=batch_size, validation_data=(data_x_val, data_y_val) , \n",
    "                                 callbacks=[myCheckpointLSTM,myEarly_stoppingLSTM])#, verbose=0)"
   ]
  },
  {
   "cell_type": "markdown",
   "metadata": {},
   "source": [
    "Evaluate the training process"
   ]
  },
  {
   "cell_type": "code",
   "execution_count": null,
   "metadata": {
    "colab": {
     "base_uri": "https://localhost:8080/",
     "height": 159
    },
    "id": "0f_FwfmlHyAl",
    "outputId": "080474a2-3f61-42ca-95ef-7bc23f76c853"
   },
   "outputs": [],
   "source": [
    "%%skip $SKIP_RETRAIN_LSTM\n",
    "\n",
    "histLSTM = pd.DataFrame(history_LSTM.history)\n",
    "histLSTM['epoch'] = history_LSTM.epoch"
   ]
  },
  {
   "cell_type": "code",
   "execution_count": null,
   "metadata": {
    "colab": {
     "base_uri": "https://localhost:8080/",
     "height": 405
    },
    "id": "d2SviC32HyAr",
    "outputId": "512e600c-f7c8-46cd-9801-7387d6bf4f7f"
   },
   "outputs": [],
   "source": [
    "%%skip $SKIP_RETRAIN_LSTM\n",
    "\n",
    "fig = plot_learning_curves(histLSTM,modeltype,f\"./{modeltype}/learningcurve_{namespace}.png\")"
   ]
  },
  {
   "cell_type": "markdown",
   "metadata": {},
   "source": [
    "Load best model"
   ]
  },
  {
   "cell_type": "code",
   "execution_count": null,
   "metadata": {},
   "outputs": [],
   "source": [
    "model_best_LSTM = keras.models.load_model(f\"./{modeltype}/my_best_model_{namespace}.h5\")\n",
    "model_best_LSTM.summary()"
   ]
  },
  {
   "cell_type": "code",
   "execution_count": null,
   "metadata": {},
   "outputs": [],
   "source": [
    "Y_test_predictions = pd.Series(model_best_LSTM.predict(data_x_test).flatten(),index=y_test_filtered.index)\n",
    "y_test_filtered = data_y_test0.loc[idx_test]\n",
    "y_test_filtered =y_test_filtered.squeeze(axis=1)"
   ]
  },
  {
   "cell_type": "code",
   "execution_count": null,
   "metadata": {},
   "outputs": [],
   "source": [
    "eval_df = create_eval_df(Y_test_predictions,y_test_filtered)"
   ]
  },
  {
   "cell_type": "code",
   "execution_count": null,
   "metadata": {
    "colab": {
     "base_uri": "https://localhost:8080/",
     "height": 426
    },
    "id": "5X3Hs_GtHyAs",
    "outputId": "7281486a-4a6c-492c-e48f-37fa6e7d7c25"
   },
   "outputs": [],
   "source": [
    "fig = plot_accuracy(eval_df,modeltype,f\"./{modeltype}/accuracy_{namespace}.png\")"
   ]
  },
  {
   "cell_type": "code",
   "execution_count": null,
   "metadata": {
    "colab": {
     "base_uri": "https://localhost:8080/",
     "height": 422
    },
    "id": "olr-44nOHyAt",
    "outputId": "ac65b698-1f77-4a62-87cf-c99f30d4d246"
   },
   "outputs": [],
   "source": [
    "fig = plot_error_variations(eval_df,modeltype,f\"./{modeltype}/error_variations_{namespace}.png\")"
   ]
  },
  {
   "cell_type": "code",
   "execution_count": null,
   "metadata": {
    "colab": {
     "base_uri": "https://localhost:8080/"
    },
    "id": "-HSnhihhHyAt",
    "outputId": "b45d472e-df1f-4ab2-97ba-6318127d0d9e"
   },
   "outputs": [],
   "source": [
    "abs_error_LSTM = abs(Y_test_predictions - y_test_filtered)/y_test_filtered*100\n",
    "np.average(abs_error_LSTM)"
   ]
  },
  {
   "cell_type": "code",
   "execution_count": null,
   "metadata": {
    "colab": {
     "base_uri": "https://localhost:8080/"
    },
    "id": "-Og3-ec1HyAv",
    "outputId": "f0d3e172-622e-4dd4-a8ec-3f84e320356b"
   },
   "outputs": [],
   "source": [
    "r2_test = r2_score(y_test_filtered, Y_test_predictions)\n",
    "print('R^2 score is  %3.2f' %r2_test)"
   ]
  },
  {
   "cell_type": "code",
   "execution_count": null,
   "metadata": {
    "colab": {
     "base_uri": "https://localhost:8080/",
     "height": 421
    },
    "id": "bUVtrW7kHyAw",
    "outputId": "e4abb863-ccd1-4159-bd9d-7fb1a9711a9f"
   },
   "outputs": [],
   "source": [
    "fig = plot_predictions(eval_df,1,modeltype,feature,f\"./{modeltype}/learningcurve_{namespace}.png\")"
   ]
  },
  {
   "cell_type": "markdown",
   "metadata": {},
   "source": [
    "## Mulitstep LSTM"
   ]
  },
  {
   "cell_type": "markdown",
   "metadata": {},
   "source": [
    "Scale the input data"
   ]
  },
  {
   "cell_type": "code",
   "execution_count": null,
   "metadata": {},
   "outputs": [],
   "source": [
    "scaled_df = combined_df.copy(deep=True)\n",
    "featuresToScale = scaled_df.columns\n",
    "sX = pp.StandardScaler(copy=True)\n",
    "scaled_df.loc[:,featuresToScale] = sX.fit_transform(scaled_df[featuresToScale])"
   ]
  },
  {
   "cell_type": "markdown",
   "metadata": {},
   "source": [
    "Create Train Validation Test Split"
   ]
  },
  {
   "cell_type": "code",
   "execution_count": null,
   "metadata": {},
   "outputs": [
    {
     "data": {
      "text/html": [
       "<div>\n",
       "<style scoped>\n",
       "    .dataframe tbody tr th:only-of-type {\n",
       "        vertical-align: middle;\n",
       "    }\n",
       "\n",
       "    .dataframe tbody tr th {\n",
       "        vertical-align: top;\n",
       "    }\n",
       "\n",
       "    .dataframe thead th {\n",
       "        text-align: right;\n",
       "    }\n",
       "</style>\n",
       "<table border=\"1\" class=\"dataframe\">\n",
       "  <thead>\n",
       "    <tr style=\"text-align: right;\">\n",
       "      <th></th>\n",
       "      <th>temp</th>\n",
       "      <th>pressure</th>\n",
       "      <th>humidity</th>\n",
       "      <th>wind_speed</th>\n",
       "      <th>wind_deg</th>\n",
       "      <th>generation biomass</th>\n",
       "      <th>generation fossil brown coal/lignite</th>\n",
       "      <th>generation fossil gas</th>\n",
       "      <th>generation fossil hard coal</th>\n",
       "      <th>generation fossil oil</th>\n",
       "      <th>...</th>\n",
       "      <th>generation solar</th>\n",
       "      <th>generation waste</th>\n",
       "      <th>generation wind onshore</th>\n",
       "      <th>total load actual</th>\n",
       "      <th>price actual</th>\n",
       "      <th>generation</th>\n",
       "      <th>energy_difference</th>\n",
       "      <th>month</th>\n",
       "      <th>day</th>\n",
       "      <th>weekend</th>\n",
       "    </tr>\n",
       "  </thead>\n",
       "  <tbody>\n",
       "    <tr>\n",
       "      <th>2015-01-01 00:00:00+01:00</th>\n",
       "      <td>-2.807250</td>\n",
       "      <td>-1.254819</td>\n",
       "      <td>0.605043</td>\n",
       "      <td>-0.724273</td>\n",
       "      <td>-0.820537</td>\n",
       "      <td>0.743671</td>\n",
       "      <td>-0.335844</td>\n",
       "      <td>-0.353717</td>\n",
       "      <td>0.287706</td>\n",
       "      <td>-2.596050</td>\n",
       "      <td>...</td>\n",
       "      <td>-0.823732</td>\n",
       "      <td>-1.462008</td>\n",
       "      <td>0.284116</td>\n",
       "      <td>-0.724094</td>\n",
       "      <td>0.529854</td>\n",
       "      <td>-0.092704</td>\n",
       "      <td>1.133008</td>\n",
       "      <td>-1.601685</td>\n",
       "      <td>-1.673784</td>\n",
       "      <td>-0.633062</td>\n",
       "    </tr>\n",
       "    <tr>\n",
       "      <th>2015-01-01 01:00:00+01:00</th>\n",
       "      <td>-2.807250</td>\n",
       "      <td>-1.254819</td>\n",
       "      <td>0.605043</td>\n",
       "      <td>-0.724273</td>\n",
       "      <td>-0.820537</td>\n",
       "      <td>0.767106</td>\n",
       "      <td>-0.338664</td>\n",
       "      <td>-0.193824</td>\n",
       "      <td>0.254067</td>\n",
       "      <td>-2.672213</td>\n",
       "      <td>...</td>\n",
       "      <td>-0.823137</td>\n",
       "      <td>-1.481921</td>\n",
       "      <td>0.132259</td>\n",
       "      <td>-0.943292</td>\n",
       "      <td>0.495356</td>\n",
       "      <td>-0.196137</td>\n",
       "      <td>1.353784</td>\n",
       "      <td>-1.601685</td>\n",
       "      <td>-1.673784</td>\n",
       "      <td>-0.633062</td>\n",
       "    </tr>\n",
       "    <tr>\n",
       "      <th>2015-01-01 02:00:00+01:00</th>\n",
       "      <td>-2.916311</td>\n",
       "      <td>-1.171050</td>\n",
       "      <td>0.655861</td>\n",
       "      <td>-1.161697</td>\n",
       "      <td>-1.144428</td>\n",
       "      <td>0.755388</td>\n",
       "      <td>-0.352763</td>\n",
       "      <td>-0.347812</td>\n",
       "      <td>0.165380</td>\n",
       "      <td>-2.691253</td>\n",
       "      <td>...</td>\n",
       "      <td>-0.823137</td>\n",
       "      <td>-1.462008</td>\n",
       "      <td>-0.001239</td>\n",
       "      <td>-1.303451</td>\n",
       "      <td>0.464379</td>\n",
       "      <td>-0.440270</td>\n",
       "      <td>1.596250</td>\n",
       "      <td>-1.601685</td>\n",
       "      <td>-1.673784</td>\n",
       "      <td>-0.633062</td>\n",
       "    </tr>\n",
       "    <tr>\n",
       "      <th>2015-01-01 03:00:00+01:00</th>\n",
       "      <td>-2.916311</td>\n",
       "      <td>-1.171050</td>\n",
       "      <td>0.655861</td>\n",
       "      <td>-1.161697</td>\n",
       "      <td>-1.144428</td>\n",
       "      <td>0.638217</td>\n",
       "      <td>-0.547342</td>\n",
       "      <td>-0.594464</td>\n",
       "      <td>-0.063983</td>\n",
       "      <td>-2.634131</td>\n",
       "      <td>...</td>\n",
       "      <td>-0.823137</td>\n",
       "      <td>-1.561575</td>\n",
       "      <td>-0.070633</td>\n",
       "      <td>-1.619900</td>\n",
       "      <td>0.101098</td>\n",
       "      <td>-0.816024</td>\n",
       "      <td>1.547834</td>\n",
       "      <td>-1.601685</td>\n",
       "      <td>-1.673784</td>\n",
       "      <td>-0.633062</td>\n",
       "    </tr>\n",
       "    <tr>\n",
       "      <th>2015-01-01 04:00:00+01:00</th>\n",
       "      <td>-2.916311</td>\n",
       "      <td>-1.171050</td>\n",
       "      <td>0.655861</td>\n",
       "      <td>-1.161697</td>\n",
       "      <td>-1.144428</td>\n",
       "      <td>0.521046</td>\n",
       "      <td>-0.736280</td>\n",
       "      <td>-0.678044</td>\n",
       "      <td>-0.212304</td>\n",
       "      <td>-2.710294</td>\n",
       "      <td>...</td>\n",
       "      <td>-0.827899</td>\n",
       "      <td>-1.601401</td>\n",
       "      <td>-0.164921</td>\n",
       "      <td>-1.843251</td>\n",
       "      <td>-0.129825</td>\n",
       "      <td>-0.960067</td>\n",
       "      <td>1.710124</td>\n",
       "      <td>-1.601685</td>\n",
       "      <td>-1.673784</td>\n",
       "      <td>-0.633062</td>\n",
       "    </tr>\n",
       "    <tr>\n",
       "      <th>...</th>\n",
       "      <td>...</td>\n",
       "      <td>...</td>\n",
       "      <td>...</td>\n",
       "      <td>...</td>\n",
       "      <td>...</td>\n",
       "      <td>...</td>\n",
       "      <td>...</td>\n",
       "      <td>...</td>\n",
       "      <td>...</td>\n",
       "      <td>...</td>\n",
       "      <td>...</td>\n",
       "      <td>...</td>\n",
       "      <td>...</td>\n",
       "      <td>...</td>\n",
       "      <td>...</td>\n",
       "      <td>...</td>\n",
       "      <td>...</td>\n",
       "      <td>...</td>\n",
       "      <td>...</td>\n",
       "      <td>...</td>\n",
       "      <td>...</td>\n",
       "    </tr>\n",
       "    <tr>\n",
       "      <th>2018-12-31 19:00:00+01:00</th>\n",
       "      <td>-0.711034</td>\n",
       "      <td>1.006965</td>\n",
       "      <td>-0.157230</td>\n",
       "      <td>-0.286850</td>\n",
       "      <td>-0.172756</td>\n",
       "      <td>-1.013900</td>\n",
       "      <td>-1.263615</td>\n",
       "      <td>0.913613</td>\n",
       "      <td>-0.830053</td>\n",
       "      <td>-2.291399</td>\n",
       "      <td>...</td>\n",
       "      <td>-0.802303</td>\n",
       "      <td>0.150969</td>\n",
       "      <td>-0.731897</td>\n",
       "      <td>0.427190</td>\n",
       "      <td>1.347236</td>\n",
       "      <td>-0.531282</td>\n",
       "      <td>-1.618560</td>\n",
       "      <td>1.587925</td>\n",
       "      <td>1.735195</td>\n",
       "      <td>-0.633062</td>\n",
       "    </tr>\n",
       "    <tr>\n",
       "      <th>2018-12-31 20:00:00+01:00</th>\n",
       "      <td>-1.056602</td>\n",
       "      <td>1.090734</td>\n",
       "      <td>0.300134</td>\n",
       "      <td>-0.724273</td>\n",
       "      <td>0.674344</td>\n",
       "      <td>-1.025617</td>\n",
       "      <td>-1.263615</td>\n",
       "      <td>0.735096</td>\n",
       "      <td>-0.861654</td>\n",
       "      <td>-2.367562</td>\n",
       "      <td>...</td>\n",
       "      <td>-0.833256</td>\n",
       "      <td>0.210709</td>\n",
       "      <td>-0.677440</td>\n",
       "      <td>0.226567</td>\n",
       "      <td>1.286689</td>\n",
       "      <td>-0.818413</td>\n",
       "      <td>-1.728560</td>\n",
       "      <td>1.587925</td>\n",
       "      <td>1.735195</td>\n",
       "      <td>-0.633062</td>\n",
       "    </tr>\n",
       "    <tr>\n",
       "      <th>2018-12-31 21:00:00+01:00</th>\n",
       "      <td>-1.261179</td>\n",
       "      <td>1.090734</td>\n",
       "      <td>0.808315</td>\n",
       "      <td>0.150573</td>\n",
       "      <td>1.156028</td>\n",
       "      <td>-1.072486</td>\n",
       "      <td>-1.263615</td>\n",
       "      <td>0.636980</td>\n",
       "      <td>-0.935050</td>\n",
       "      <td>-2.481806</td>\n",
       "      <td>...</td>\n",
       "      <td>-0.834447</td>\n",
       "      <td>0.330188</td>\n",
       "      <td>-0.610535</td>\n",
       "      <td>-0.137088</td>\n",
       "      <td>1.155739</td>\n",
       "      <td>-1.111276</td>\n",
       "      <td>-1.558911</td>\n",
       "      <td>1.587925</td>\n",
       "      <td>1.735195</td>\n",
       "      <td>-0.633062</td>\n",
       "    </tr>\n",
       "    <tr>\n",
       "      <th>2018-12-31 22:00:00+01:00</th>\n",
       "      <td>-1.471284</td>\n",
       "      <td>1.090734</td>\n",
       "      <td>0.808315</td>\n",
       "      <td>-0.286850</td>\n",
       "      <td>1.239077</td>\n",
       "      <td>-1.060769</td>\n",
       "      <td>-1.263615</td>\n",
       "      <td>0.426667</td>\n",
       "      <td>-1.000800</td>\n",
       "      <td>-2.577009</td>\n",
       "      <td>...</td>\n",
       "      <td>-0.834447</td>\n",
       "      <td>0.350102</td>\n",
       "      <td>-0.584707</td>\n",
       "      <td>-0.633180</td>\n",
       "      <td>0.845260</td>\n",
       "      <td>-1.407245</td>\n",
       "      <td>-1.159578</td>\n",
       "      <td>1.587925</td>\n",
       "      <td>1.735195</td>\n",
       "      <td>-0.633062</td>\n",
       "    </tr>\n",
       "    <tr>\n",
       "      <th>2018-12-31 23:00:00+01:00</th>\n",
       "      <td>-1.609511</td>\n",
       "      <td>1.090734</td>\n",
       "      <td>0.503406</td>\n",
       "      <td>-0.286850</td>\n",
       "      <td>1.156028</td>\n",
       "      <td>-1.095920</td>\n",
       "      <td>-1.263615</td>\n",
       "      <td>0.592011</td>\n",
       "      <td>-1.065532</td>\n",
       "      <td>-2.577009</td>\n",
       "      <td>...</td>\n",
       "      <td>-0.834447</td>\n",
       "      <td>0.350102</td>\n",
       "      <td>-0.564480</td>\n",
       "      <td>-0.927338</td>\n",
       "      <td>0.844556</td>\n",
       "      <td>-1.441405</td>\n",
       "      <td>-0.693624</td>\n",
       "      <td>1.587925</td>\n",
       "      <td>1.735195</td>\n",
       "      <td>-0.633062</td>\n",
       "    </tr>\n",
       "  </tbody>\n",
       "</table>\n",
       "<p>35064 rows × 26 columns</p>\n",
       "</div>"
      ],
      "text/plain": [
       "                               temp  pressure  humidity  wind_speed  wind_deg  \\\n",
       "2015-01-01 00:00:00+01:00 -2.807250 -1.254819  0.605043   -0.724273 -0.820537   \n",
       "2015-01-01 01:00:00+01:00 -2.807250 -1.254819  0.605043   -0.724273 -0.820537   \n",
       "2015-01-01 02:00:00+01:00 -2.916311 -1.171050  0.655861   -1.161697 -1.144428   \n",
       "2015-01-01 03:00:00+01:00 -2.916311 -1.171050  0.655861   -1.161697 -1.144428   \n",
       "2015-01-01 04:00:00+01:00 -2.916311 -1.171050  0.655861   -1.161697 -1.144428   \n",
       "...                             ...       ...       ...         ...       ...   \n",
       "2018-12-31 19:00:00+01:00 -0.711034  1.006965 -0.157230   -0.286850 -0.172756   \n",
       "2018-12-31 20:00:00+01:00 -1.056602  1.090734  0.300134   -0.724273  0.674344   \n",
       "2018-12-31 21:00:00+01:00 -1.261179  1.090734  0.808315    0.150573  1.156028   \n",
       "2018-12-31 22:00:00+01:00 -1.471284  1.090734  0.808315   -0.286850  1.239077   \n",
       "2018-12-31 23:00:00+01:00 -1.609511  1.090734  0.503406   -0.286850  1.156028   \n",
       "\n",
       "                           generation biomass  \\\n",
       "2015-01-01 00:00:00+01:00            0.743671   \n",
       "2015-01-01 01:00:00+01:00            0.767106   \n",
       "2015-01-01 02:00:00+01:00            0.755388   \n",
       "2015-01-01 03:00:00+01:00            0.638217   \n",
       "2015-01-01 04:00:00+01:00            0.521046   \n",
       "...                                       ...   \n",
       "2018-12-31 19:00:00+01:00           -1.013900   \n",
       "2018-12-31 20:00:00+01:00           -1.025617   \n",
       "2018-12-31 21:00:00+01:00           -1.072486   \n",
       "2018-12-31 22:00:00+01:00           -1.060769   \n",
       "2018-12-31 23:00:00+01:00           -1.095920   \n",
       "\n",
       "                           generation fossil brown coal/lignite  \\\n",
       "2015-01-01 00:00:00+01:00                             -0.335844   \n",
       "2015-01-01 01:00:00+01:00                             -0.338664   \n",
       "2015-01-01 02:00:00+01:00                             -0.352763   \n",
       "2015-01-01 03:00:00+01:00                             -0.547342   \n",
       "2015-01-01 04:00:00+01:00                             -0.736280   \n",
       "...                                                         ...   \n",
       "2018-12-31 19:00:00+01:00                             -1.263615   \n",
       "2018-12-31 20:00:00+01:00                             -1.263615   \n",
       "2018-12-31 21:00:00+01:00                             -1.263615   \n",
       "2018-12-31 22:00:00+01:00                             -1.263615   \n",
       "2018-12-31 23:00:00+01:00                             -1.263615   \n",
       "\n",
       "                           generation fossil gas  generation fossil hard coal  \\\n",
       "2015-01-01 00:00:00+01:00              -0.353717                     0.287706   \n",
       "2015-01-01 01:00:00+01:00              -0.193824                     0.254067   \n",
       "2015-01-01 02:00:00+01:00              -0.347812                     0.165380   \n",
       "2015-01-01 03:00:00+01:00              -0.594464                    -0.063983   \n",
       "2015-01-01 04:00:00+01:00              -0.678044                    -0.212304   \n",
       "...                                          ...                          ...   \n",
       "2018-12-31 19:00:00+01:00               0.913613                    -0.830053   \n",
       "2018-12-31 20:00:00+01:00               0.735096                    -0.861654   \n",
       "2018-12-31 21:00:00+01:00               0.636980                    -0.935050   \n",
       "2018-12-31 22:00:00+01:00               0.426667                    -1.000800   \n",
       "2018-12-31 23:00:00+01:00               0.592011                    -1.065532   \n",
       "\n",
       "                           generation fossil oil  ...  generation solar  \\\n",
       "2015-01-01 00:00:00+01:00              -2.596050  ...         -0.823732   \n",
       "2015-01-01 01:00:00+01:00              -2.672213  ...         -0.823137   \n",
       "2015-01-01 02:00:00+01:00              -2.691253  ...         -0.823137   \n",
       "2015-01-01 03:00:00+01:00              -2.634131  ...         -0.823137   \n",
       "2015-01-01 04:00:00+01:00              -2.710294  ...         -0.827899   \n",
       "...                                          ...  ...               ...   \n",
       "2018-12-31 19:00:00+01:00              -2.291399  ...         -0.802303   \n",
       "2018-12-31 20:00:00+01:00              -2.367562  ...         -0.833256   \n",
       "2018-12-31 21:00:00+01:00              -2.481806  ...         -0.834447   \n",
       "2018-12-31 22:00:00+01:00              -2.577009  ...         -0.834447   \n",
       "2018-12-31 23:00:00+01:00              -2.577009  ...         -0.834447   \n",
       "\n",
       "                           generation waste  generation wind onshore  \\\n",
       "2015-01-01 00:00:00+01:00         -1.462008                 0.284116   \n",
       "2015-01-01 01:00:00+01:00         -1.481921                 0.132259   \n",
       "2015-01-01 02:00:00+01:00         -1.462008                -0.001239   \n",
       "2015-01-01 03:00:00+01:00         -1.561575                -0.070633   \n",
       "2015-01-01 04:00:00+01:00         -1.601401                -0.164921   \n",
       "...                                     ...                      ...   \n",
       "2018-12-31 19:00:00+01:00          0.150969                -0.731897   \n",
       "2018-12-31 20:00:00+01:00          0.210709                -0.677440   \n",
       "2018-12-31 21:00:00+01:00          0.330188                -0.610535   \n",
       "2018-12-31 22:00:00+01:00          0.350102                -0.584707   \n",
       "2018-12-31 23:00:00+01:00          0.350102                -0.564480   \n",
       "\n",
       "                           total load actual  price actual  generation  \\\n",
       "2015-01-01 00:00:00+01:00          -0.724094      0.529854   -0.092704   \n",
       "2015-01-01 01:00:00+01:00          -0.943292      0.495356   -0.196137   \n",
       "2015-01-01 02:00:00+01:00          -1.303451      0.464379   -0.440270   \n",
       "2015-01-01 03:00:00+01:00          -1.619900      0.101098   -0.816024   \n",
       "2015-01-01 04:00:00+01:00          -1.843251     -0.129825   -0.960067   \n",
       "...                                      ...           ...         ...   \n",
       "2018-12-31 19:00:00+01:00           0.427190      1.347236   -0.531282   \n",
       "2018-12-31 20:00:00+01:00           0.226567      1.286689   -0.818413   \n",
       "2018-12-31 21:00:00+01:00          -0.137088      1.155739   -1.111276   \n",
       "2018-12-31 22:00:00+01:00          -0.633180      0.845260   -1.407245   \n",
       "2018-12-31 23:00:00+01:00          -0.927338      0.844556   -1.441405   \n",
       "\n",
       "                           energy_difference     month       day   weekend  \n",
       "2015-01-01 00:00:00+01:00           1.133008 -1.601685 -1.673784 -0.633062  \n",
       "2015-01-01 01:00:00+01:00           1.353784 -1.601685 -1.673784 -0.633062  \n",
       "2015-01-01 02:00:00+01:00           1.596250 -1.601685 -1.673784 -0.633062  \n",
       "2015-01-01 03:00:00+01:00           1.547834 -1.601685 -1.673784 -0.633062  \n",
       "2015-01-01 04:00:00+01:00           1.710124 -1.601685 -1.673784 -0.633062  \n",
       "...                                      ...       ...       ...       ...  \n",
       "2018-12-31 19:00:00+01:00          -1.618560  1.587925  1.735195 -0.633062  \n",
       "2018-12-31 20:00:00+01:00          -1.728560  1.587925  1.735195 -0.633062  \n",
       "2018-12-31 21:00:00+01:00          -1.558911  1.587925  1.735195 -0.633062  \n",
       "2018-12-31 22:00:00+01:00          -1.159578  1.587925  1.735195 -0.633062  \n",
       "2018-12-31 23:00:00+01:00          -0.693624  1.587925  1.735195 -0.633062  \n",
       "\n",
       "[35064 rows x 26 columns]"
      ]
     },
     "metadata": {},
     "output_type": "display_data"
    }
   ],
   "source": [
    "scaled_df"
   ]
  },
  {
   "cell_type": "code",
   "execution_count": null,
   "metadata": {},
   "outputs": [],
   "source": [
    "train_start = '2015-01-01'\n",
    "validation_start = '2017-01-01'\n",
    "test_start = '2017-03-01'\n",
    "test_end = '2017-03-14'\n",
    "feature = 'total load actual'\n",
    "model_type = 'LSTM'\n",
    "namespace = 'MS_LSTM_LOAD'\n",
    "feature_df = combined_df[[feature]]\n",
    "data_x_train0,data_x_val0,data_x_test0,data_y_train0,data_y_val0,data_y_test0 = create_test_train_split(scaled_df,feature_df,train_start,test_start,test_end,validation_start=validation_start)"
   ]
  },
  {
   "cell_type": "markdown",
   "metadata": {},
   "source": [
    "Convert to (sample,timestep,feature) format"
   ]
  },
  {
   "cell_type": "code",
   "execution_count": null,
   "metadata": {},
   "outputs": [],
   "source": [
    "data_x_train,data_y_train,idx_train = convert_to_sample_time_feature(data_x_train0,data_y_train0,72,24,32)\n",
    "data_x_test,data_y_test,idx_test = convert_to_sample_time_feature(data_x_test0,data_y_test0,72,24,32)\n",
    "data_x_val,data_y_val,idx_val = convert_to_sample_time_feature(data_x_val0,data_y_val0,72,24,32)\n"
   ]
  },
  {
   "cell_type": "code",
   "execution_count": null,
   "metadata": {},
   "outputs": [
    {
     "name": "stdout",
     "output_type": "stream",
     "text": [
      "(17416, 72, 26) (17416, 24)\n",
      "(1288, 72, 26) (1288, 24)\n",
      "(168, 72, 26) (168, 24)\n"
     ]
    }
   ],
   "source": [
    "print(data_x_train.shape,data_y_train.shape)\n",
    "print(data_x_val.shape,data_y_val.shape)\n",
    "print(data_x_test.shape,data_y_test.shape)"
   ]
  },
  {
   "cell_type": "markdown",
   "metadata": {},
   "source": [
    "Define LSTM Model"
   ]
  },
  {
   "cell_type": "code",
   "execution_count": null,
   "metadata": {},
   "outputs": [],
   "source": [
    "def build_model_LSTM(data_x_train,data_y_train):\n",
    "  n_timesteps, n_features, n_outputs = data_x_train.shape[1], data_x_train.shape[2], data_y_train.shape[1]\n",
    "  model = models.Sequential([\n",
    "  layers.LSTM(64, return_sequences=True,input_shape=(None, n_features), stateful=False), \n",
    "  layers.BatchNormalization(),\n",
    "  layers.LSTM(64, return_sequences=True, stateful=False),\n",
    "  layers.BatchNormalization(),\n",
    "  layers.LSTM(64, return_sequences=True, stateful=False),\n",
    "  layers.BatchNormalization(),\n",
    "  layers.LSTM(64, return_sequences=True, stateful=False),\n",
    "  layers.BatchNormalization(),\n",
    "  layers.LSTM(64, return_sequences=True, stateful=False),\n",
    "  layers.BatchNormalization(),\n",
    "  layers.LSTM(64, stateful=False),\n",
    "  layers.Dense(64, kernel_regularizer=regularizers.l2(0.0001), kernel_initializer=\"he_normal\"),\n",
    "  layers.LeakyReLU(alpha=0.1),\n",
    "  layers.BatchNormalization(),\n",
    "  layers.Dense(n_outputs),              \n",
    "  ])\n",
    "  model.compile(optimizer='Adam',loss='mse',metrics='mae') \n",
    "  return model"
   ]
  },
  {
   "cell_type": "markdown",
   "metadata": {},
   "source": [
    "Definening callback functions"
   ]
  },
  {
   "cell_type": "code",
   "execution_count": null,
   "metadata": {},
   "outputs": [],
   "source": [
    "myCheckpointMSLSTM= keras.callbacks.ModelCheckpoint(f\"./{model_type}/my_best_model_{namespace}.h5\", save_best_only=True)\n",
    "myEarly_stoppingMSLSTM = keras.callbacks.EarlyStopping(patience=20,restore_best_weights=True)"
   ]
  },
  {
   "cell_type": "markdown",
   "metadata": {},
   "source": [
    "Hypterparameters"
   ]
  },
  {
   "cell_type": "code",
   "execution_count": null,
   "metadata": {},
   "outputs": [],
   "source": [
    "num_epochs = 150\n",
    "batch_size = 32"
   ]
  },
  {
   "cell_type": "markdown",
   "metadata": {},
   "source": [
    "Training the model"
   ]
  },
  {
   "cell_type": "code",
   "execution_count": null,
   "metadata": {},
   "outputs": [
    {
     "name": "stdout",
     "output_type": "stream",
     "text": [
      "Epoch 1/150\n",
      "545/545 [==============================] - 23s 33ms/step - loss: 829088512.0000 - mae: 28435.9043 - val_loss: 901478400.0000 - val_mae: 29603.0195\n",
      "Epoch 2/150\n",
      "545/545 [==============================] - 17s 31ms/step - loss: 823088192.0000 - mae: 28342.0820 - val_loss: 895819328.0000 - val_mae: 29515.8887\n",
      "Epoch 3/150\n",
      "545/545 [==============================] - 17s 31ms/step - loss: 812134912.0000 - mae: 28165.3535 - val_loss: 878735488.0000 - val_mae: 29237.9688\n",
      "Epoch 4/150\n",
      "545/545 [==============================] - 17s 31ms/step - loss: 797313664.0000 - mae: 27920.0762 - val_loss: 848305472.0000 - val_mae: 28723.7422\n",
      "Epoch 5/150\n",
      "545/545 [==============================] - 17s 32ms/step - loss: 779359232.0000 - mae: 27615.8477 - val_loss: 815250816.0000 - val_mae: 28147.8691\n",
      "Epoch 6/150\n",
      "545/545 [==============================] - 17s 32ms/step - loss: 758927232.0000 - mae: 27259.6660 - val_loss: 784850112.0000 - val_mae: 27592.8223\n",
      "Epoch 7/150\n",
      "545/545 [==============================] - 17s 31ms/step - loss: 736421312.0000 - mae: 26856.3203 - val_loss: 760308928.0000 - val_mae: 27158.6152\n",
      "Epoch 8/150\n",
      "545/545 [==============================] - 17s 32ms/step - loss: 712232384.0000 - mae: 26409.4258 - val_loss: 732419328.0000 - val_mae: 26635.2676\n",
      "Epoch 9/150\n",
      "545/545 [==============================] - 17s 32ms/step - loss: 686481280.0000 - mae: 25920.2246 - val_loss: 729317120.0000 - val_mae: 26552.6680\n",
      "Epoch 10/150\n",
      "545/545 [==============================] - 18s 33ms/step - loss: 659234752.0000 - mae: 25390.0723 - val_loss: 707323392.0000 - val_mae: 26146.4629\n",
      "Epoch 11/150\n",
      "545/545 [==============================] - 17s 31ms/step - loss: 630531200.0000 - mae: 24819.2480 - val_loss: 681199680.0000 - val_mae: 25619.5918\n",
      "Epoch 12/150\n",
      "545/545 [==============================] - 17s 31ms/step - loss: 600641216.0000 - mae: 24209.5098 - val_loss: 628278208.0000 - val_mae: 24579.9668\n",
      "Epoch 13/150\n",
      "545/545 [==============================] - 17s 31ms/step - loss: 569717824.0000 - mae: 23561.9336 - val_loss: 541967104.0000 - val_mae: 22760.6465\n",
      "Epoch 14/150\n",
      "545/545 [==============================] - 17s 32ms/step - loss: 537962816.0000 - mae: 22877.6973 - val_loss: 527434272.0000 - val_mae: 22438.7012\n",
      "Epoch 15/150\n",
      "545/545 [==============================] - 17s 32ms/step - loss: 505530496.0000 - mae: 22159.0508 - val_loss: 516024960.0000 - val_mae: 22167.8867\n",
      "Epoch 16/150\n",
      "545/545 [==============================] - 17s 32ms/step - loss: 472695360.0000 - mae: 21405.1895 - val_loss: 484937792.0000 - val_mae: 21448.3965\n",
      "Epoch 17/150\n",
      "545/545 [==============================] - 18s 32ms/step - loss: 439650784.0000 - mae: 20618.1133 - val_loss: 448985856.0000 - val_mae: 20602.5156\n",
      "Epoch 18/150\n",
      "545/545 [==============================] - 17s 32ms/step - loss: 406511616.0000 - mae: 19798.8223 - val_loss: 405694816.0000 - val_mae: 19546.8809\n",
      "Epoch 19/150\n",
      "545/545 [==============================] - 17s 32ms/step - loss: 373522944.0000 - mae: 18948.0039 - val_loss: 395242784.0000 - val_mae: 19252.2852\n",
      "Epoch 20/150\n",
      "545/545 [==============================] - 17s 32ms/step - loss: 340913824.0000 - mae: 18066.9922 - val_loss: 356719360.0000 - val_mae: 18241.8320\n",
      "Epoch 21/150\n",
      "545/545 [==============================] - 18s 32ms/step - loss: 308866560.0000 - mae: 17157.3535 - val_loss: 328399008.0000 - val_mae: 17462.4961\n",
      "Epoch 22/150\n",
      "545/545 [==============================] - 17s 32ms/step - loss: 277614368.0000 - mae: 16219.6514 - val_loss: 293404992.0000 - val_mae: 16437.8789\n",
      "Epoch 23/150\n",
      "545/545 [==============================] - 17s 32ms/step - loss: 247368576.0000 - mae: 15257.8828 - val_loss: 245957088.0000 - val_mae: 14930.0498\n",
      "Epoch 24/150\n",
      "545/545 [==============================] - 18s 33ms/step - loss: 218186656.0000 - mae: 14271.4756 - val_loss: 213437264.0000 - val_mae: 13802.4072\n",
      "Epoch 25/150\n",
      "545/545 [==============================] - 18s 32ms/step - loss: 190438496.0000 - mae: 13264.4053 - val_loss: 187651328.0000 - val_mae: 12806.7861\n",
      "Epoch 26/150\n",
      "545/545 [==============================] - 17s 32ms/step - loss: 164266720.0000 - mae: 12238.9072 - val_loss: 158611488.0000 - val_mae: 11636.3682\n",
      "Epoch 27/150\n",
      "545/545 [==============================] - 18s 33ms/step - loss: 139847088.0000 - mae: 11196.3076 - val_loss: 134396032.0000 - val_mae: 10573.5527\n",
      "Epoch 28/150\n",
      "545/545 [==============================] - 18s 33ms/step - loss: 117366312.0000 - mae: 10144.5244 - val_loss: 122827424.0000 - val_mae: 10023.9492\n",
      "Epoch 29/150\n",
      "545/545 [==============================] - 18s 33ms/step - loss: 96973512.0000 - mae: 9087.8877 - val_loss: 103652696.0000 - val_mae: 9008.8789\n",
      "Epoch 30/150\n",
      "545/545 [==============================] - 18s 32ms/step - loss: 78775312.0000 - mae: 8041.1182 - val_loss: 80655912.0000 - val_mae: 7748.9668\n",
      "Epoch 31/150\n",
      "545/545 [==============================] - 18s 32ms/step - loss: 62937828.0000 - mae: 7037.1401 - val_loss: 66265928.0000 - val_mae: 6917.3208\n",
      "Epoch 32/150\n",
      "545/545 [==============================] - 18s 32ms/step - loss: 49504308.0000 - mae: 6121.9712 - val_loss: 58934100.0000 - val_mae: 6416.3760\n",
      "Epoch 33/150\n",
      "545/545 [==============================] - 18s 33ms/step - loss: 38521980.0000 - mae: 5336.6655 - val_loss: 44980464.0000 - val_mae: 5589.9233\n",
      "Epoch 34/150\n",
      "545/545 [==============================] - 18s 32ms/step - loss: 29849084.0000 - mae: 4700.3447 - val_loss: 34794404.0000 - val_mae: 4941.1641\n",
      "Epoch 35/150\n",
      "545/545 [==============================] - 17s 32ms/step - loss: 23432500.0000 - mae: 4207.2827 - val_loss: 31728328.0000 - val_mae: 4764.7471\n",
      "Epoch 36/150\n",
      "545/545 [==============================] - 18s 32ms/step - loss: 19059134.0000 - mae: 3837.1858 - val_loss: 29021972.0000 - val_mae: 4576.4517\n",
      "Epoch 37/150\n",
      "545/545 [==============================] - 17s 32ms/step - loss: 16300567.0000 - mae: 3562.4006 - val_loss: 27133450.0000 - val_mae: 4429.1265\n",
      "Epoch 38/150\n",
      "545/545 [==============================] - 18s 32ms/step - loss: 14683644.0000 - mae: 3361.7056 - val_loss: 24262320.0000 - val_mae: 4219.4502\n",
      "Epoch 39/150\n",
      "545/545 [==============================] - 18s 32ms/step - loss: 13851002.0000 - mae: 3227.1526 - val_loss: 23643894.0000 - val_mae: 4166.2510\n",
      "Epoch 40/150\n",
      "545/545 [==============================] - 18s 32ms/step - loss: 13295262.0000 - mae: 3128.9204 - val_loss: 24360654.0000 - val_mae: 4195.4858\n",
      "Epoch 41/150\n",
      "545/545 [==============================] - 17s 32ms/step - loss: 12723569.0000 - mae: 3037.5759 - val_loss: 23432344.0000 - val_mae: 4074.1350\n",
      "Epoch 42/150\n",
      "545/545 [==============================] - 17s 32ms/step - loss: 12123917.0000 - mae: 2949.1294 - val_loss: 23232486.0000 - val_mae: 4094.3206\n",
      "Epoch 43/150\n",
      "545/545 [==============================] - 18s 32ms/step - loss: 11463093.0000 - mae: 2854.9602 - val_loss: 22416356.0000 - val_mae: 4018.0583\n",
      "Epoch 44/150\n",
      "545/545 [==============================] - 18s 32ms/step - loss: 10766720.0000 - mae: 2756.3127 - val_loss: 21525236.0000 - val_mae: 3915.1729\n",
      "Epoch 45/150\n",
      "545/545 [==============================] - 18s 33ms/step - loss: 10082525.0000 - mae: 2657.1450 - val_loss: 21949776.0000 - val_mae: 3930.0820\n",
      "Epoch 46/150\n",
      "545/545 [==============================] - 18s 33ms/step - loss: 9410354.0000 - mae: 2560.4890 - val_loss: 21461578.0000 - val_mae: 3856.4314\n",
      "Epoch 47/150\n",
      "545/545 [==============================] - 17s 32ms/step - loss: 8766021.0000 - mae: 2462.6414 - val_loss: 20272722.0000 - val_mae: 3717.9946\n",
      "Epoch 48/150\n",
      "545/545 [==============================] - 18s 32ms/step - loss: 8006683.0000 - mae: 2349.4641 - val_loss: 19576110.0000 - val_mae: 3700.2258\n",
      "Epoch 49/150\n",
      "545/545 [==============================] - 18s 33ms/step - loss: 7370425.5000 - mae: 2254.1086 - val_loss: 19647792.0000 - val_mae: 3671.8599\n",
      "Epoch 50/150\n",
      "545/545 [==============================] - 17s 32ms/step - loss: 6834070.0000 - mae: 2170.2043 - val_loss: 19395944.0000 - val_mae: 3651.5415\n",
      "Epoch 51/150\n",
      "545/545 [==============================] - 18s 32ms/step - loss: 6339949.0000 - mae: 2090.2288 - val_loss: 19682840.0000 - val_mae: 3618.9585\n",
      "Epoch 52/150\n",
      "545/545 [==============================] - 18s 33ms/step - loss: 5962345.5000 - mae: 2029.8864 - val_loss: 18464572.0000 - val_mae: 3491.3289\n",
      "Epoch 53/150\n",
      "545/545 [==============================] - 18s 32ms/step - loss: 5599895.5000 - mae: 1967.2007 - val_loss: 18202674.0000 - val_mae: 3428.4407\n",
      "Epoch 54/150\n",
      "545/545 [==============================] - 17s 32ms/step - loss: 5354009.0000 - mae: 1922.5302 - val_loss: 18373062.0000 - val_mae: 3460.4124\n",
      "Epoch 55/150\n",
      "545/545 [==============================] - 18s 32ms/step - loss: 5163247.5000 - mae: 1887.4116 - val_loss: 18192598.0000 - val_mae: 3441.4238\n",
      "Epoch 56/150\n",
      "545/545 [==============================] - 17s 32ms/step - loss: 4989008.5000 - mae: 1852.9657 - val_loss: 16614869.0000 - val_mae: 3298.5762\n",
      "Epoch 57/150\n",
      "545/545 [==============================] - 18s 32ms/step - loss: 4936605.5000 - mae: 1840.1561 - val_loss: 17472584.0000 - val_mae: 3357.7410\n",
      "Epoch 58/150\n",
      "545/545 [==============================] - 18s 33ms/step - loss: 4880702.5000 - mae: 1825.2452 - val_loss: 18163546.0000 - val_mae: 3417.1455\n",
      "Epoch 59/150\n",
      "545/545 [==============================] - 18s 32ms/step - loss: 4748885.0000 - mae: 1801.1187 - val_loss: 19741592.0000 - val_mae: 3554.0896\n",
      "Epoch 60/150\n",
      "545/545 [==============================] - 18s 32ms/step - loss: 4679836.5000 - mae: 1786.6150 - val_loss: 19938378.0000 - val_mae: 3559.2485\n",
      "Epoch 61/150\n",
      "545/545 [==============================] - 18s 33ms/step - loss: 4540077.0000 - mae: 1757.0125 - val_loss: 19661692.0000 - val_mae: 3524.7231\n",
      "Epoch 62/150\n",
      "545/545 [==============================] - 18s 33ms/step - loss: 4349477.0000 - mae: 1717.9541 - val_loss: 19856520.0000 - val_mae: 3549.1245\n",
      "Epoch 63/150\n",
      "545/545 [==============================] - 18s 33ms/step - loss: 4189622.7500 - mae: 1681.5886 - val_loss: 19711622.0000 - val_mae: 3510.6841\n",
      "Epoch 64/150\n",
      "545/545 [==============================] - 18s 32ms/step - loss: 3895657.5000 - mae: 1616.5216 - val_loss: 19251142.0000 - val_mae: 3471.2190\n",
      "Epoch 65/150\n",
      "545/545 [==============================] - 18s 32ms/step - loss: 3707108.0000 - mae: 1567.2297 - val_loss: 18153954.0000 - val_mae: 3351.5610\n",
      "Epoch 66/150\n",
      "545/545 [==============================] - 17s 32ms/step - loss: 3349176.7500 - mae: 1486.9888 - val_loss: 17469880.0000 - val_mae: 3258.1130\n",
      "Epoch 67/150\n",
      "545/545 [==============================] - 18s 33ms/step - loss: 3072726.0000 - mae: 1416.5740 - val_loss: 16236215.0000 - val_mae: 3123.5884\n",
      "Epoch 68/150\n",
      "545/545 [==============================] - 18s 33ms/step - loss: 2834878.0000 - mae: 1356.2245 - val_loss: 16575056.0000 - val_mae: 3167.1899\n",
      "Epoch 69/150\n",
      "545/545 [==============================] - 17s 32ms/step - loss: 2566403.5000 - mae: 1282.8951 - val_loss: 15275442.0000 - val_mae: 3021.2097\n",
      "Epoch 70/150\n",
      "545/545 [==============================] - 17s 32ms/step - loss: 2289350.7500 - mae: 1209.8933 - val_loss: 15458379.0000 - val_mae: 3027.4836\n",
      "Epoch 71/150\n",
      "545/545 [==============================] - 18s 33ms/step - loss: 2088941.6250 - mae: 1150.0796 - val_loss: 13887348.0000 - val_mae: 2881.5955\n",
      "Epoch 72/150\n",
      "545/545 [==============================] - 17s 32ms/step - loss: 1939299.1250 - mae: 1103.1619 - val_loss: 14484879.0000 - val_mae: 2926.0310\n",
      "Epoch 73/150\n",
      "545/545 [==============================] - 17s 32ms/step - loss: 1814033.3750 - mae: 1063.3286 - val_loss: 13811998.0000 - val_mae: 2769.1101\n",
      "Epoch 74/150\n",
      "545/545 [==============================] - 18s 33ms/step - loss: 1739593.6250 - mae: 1040.1569 - val_loss: 13809478.0000 - val_mae: 2767.1033\n",
      "Epoch 75/150\n",
      "545/545 [==============================] - 18s 34ms/step - loss: 1627462.6250 - mae: 1002.7188 - val_loss: 14223452.0000 - val_mae: 2778.8774\n",
      "Epoch 76/150\n",
      "545/545 [==============================] - 18s 33ms/step - loss: 1580259.3750 - mae: 986.6167 - val_loss: 13187171.0000 - val_mae: 2658.2957\n",
      "Epoch 77/150\n",
      "545/545 [==============================] - 22s 41ms/step - loss: 1544494.6250 - mae: 973.9182 - val_loss: 14634921.0000 - val_mae: 2725.1069\n",
      "Epoch 78/150\n",
      "545/545 [==============================] - 25s 46ms/step - loss: 1517119.5000 - mae: 967.7733 - val_loss: 13622700.0000 - val_mae: 2680.0222\n",
      "Epoch 79/150\n",
      "545/545 [==============================] - 21s 38ms/step - loss: 1461575.2500 - mae: 946.3869 - val_loss: 12518148.0000 - val_mae: 2556.9546\n",
      "Epoch 80/150\n",
      "545/545 [==============================] - 22s 40ms/step - loss: 1452963.8750 - mae: 946.2431 - val_loss: 13092703.0000 - val_mae: 2596.6230\n",
      "Epoch 81/150\n",
      "545/545 [==============================] - 22s 40ms/step - loss: 1432614.3750 - mae: 937.4579 - val_loss: 12668680.0000 - val_mae: 2612.5156\n",
      "Epoch 82/150\n",
      "545/545 [==============================] - 21s 39ms/step - loss: 1448239.8750 - mae: 942.2620 - val_loss: 14623405.0000 - val_mae: 2769.7305\n",
      "Epoch 83/150\n",
      "545/545 [==============================] - 22s 41ms/step - loss: 1344987.3750 - mae: 910.7706 - val_loss: 14606514.0000 - val_mae: 2746.7319\n",
      "Epoch 84/150\n",
      "545/545 [==============================] - 22s 41ms/step - loss: 1381215.2500 - mae: 923.6292 - val_loss: 14577362.0000 - val_mae: 2768.2185\n",
      "Epoch 85/150\n",
      "545/545 [==============================] - 22s 40ms/step - loss: 1369343.5000 - mae: 922.0496 - val_loss: 13320787.0000 - val_mae: 2610.3652\n",
      "Epoch 86/150\n",
      "545/545 [==============================] - 22s 41ms/step - loss: 1299368.3750 - mae: 896.8735 - val_loss: 11152229.0000 - val_mae: 2415.4087\n",
      "Epoch 87/150\n",
      "545/545 [==============================] - 23s 41ms/step - loss: 1328432.8750 - mae: 907.5547 - val_loss: 12883163.0000 - val_mae: 2581.3083\n",
      "Epoch 88/150\n",
      "545/545 [==============================] - 22s 40ms/step - loss: 1298399.1250 - mae: 897.2681 - val_loss: 12373207.0000 - val_mae: 2551.2542\n",
      "Epoch 89/150\n",
      "545/545 [==============================] - 23s 43ms/step - loss: 1351480.6250 - mae: 915.7631 - val_loss: 12239473.0000 - val_mae: 2521.3320\n",
      "Epoch 90/150\n",
      "545/545 [==============================] - 24s 44ms/step - loss: 1273160.0000 - mae: 888.3364 - val_loss: 11870648.0000 - val_mae: 2499.5610\n",
      "Epoch 91/150\n",
      "545/545 [==============================] - 23s 42ms/step - loss: 1239457.6250 - mae: 877.2439 - val_loss: 12673998.0000 - val_mae: 2570.1465\n",
      "Epoch 92/150\n",
      "545/545 [==============================] - 23s 42ms/step - loss: 1301573.5000 - mae: 896.4274 - val_loss: 11926194.0000 - val_mae: 2524.4597\n",
      "Epoch 93/150\n",
      "545/545 [==============================] - 22s 41ms/step - loss: 1220495.0000 - mae: 870.5355 - val_loss: 11826252.0000 - val_mae: 2525.0884\n",
      "Epoch 94/150\n",
      "545/545 [==============================] - 22s 40ms/step - loss: 1232756.7500 - mae: 874.1398 - val_loss: 12791546.0000 - val_mae: 2636.9238\n",
      "Epoch 95/150\n",
      "545/545 [==============================] - 22s 40ms/step - loss: 1221309.1250 - mae: 869.1382 - val_loss: 12414664.0000 - val_mae: 2597.2217\n",
      "Epoch 96/150\n",
      "545/545 [==============================] - 22s 40ms/step - loss: 1230608.5000 - mae: 874.8011 - val_loss: 11962799.0000 - val_mae: 2513.7417\n",
      "Epoch 97/150\n",
      "545/545 [==============================] - 23s 42ms/step - loss: 1180147.2500 - mae: 854.6176 - val_loss: 12167358.0000 - val_mae: 2550.4053\n",
      "Epoch 98/150\n",
      "545/545 [==============================] - 22s 41ms/step - loss: 1181362.8750 - mae: 856.8232 - val_loss: 13432716.0000 - val_mae: 2626.1885\n",
      "Epoch 99/150\n",
      "545/545 [==============================] - 22s 40ms/step - loss: 1226241.0000 - mae: 875.6227 - val_loss: 13438984.0000 - val_mae: 2617.5784\n",
      "Epoch 100/150\n",
      "545/545 [==============================] - 22s 41ms/step - loss: 1185103.2500 - mae: 859.1482 - val_loss: 14252859.0000 - val_mae: 2696.6138\n",
      "Epoch 101/150\n",
      "545/545 [==============================] - 23s 42ms/step - loss: 1174073.1250 - mae: 854.6874 - val_loss: 13394057.0000 - val_mae: 2625.3440\n",
      "Epoch 102/150\n",
      "545/545 [==============================] - 22s 41ms/step - loss: 1220139.6250 - mae: 871.6970 - val_loss: 12703526.0000 - val_mae: 2549.8564\n",
      "Epoch 103/150\n",
      "545/545 [==============================] - 22s 41ms/step - loss: 1172878.7500 - mae: 854.9542 - val_loss: 11682135.0000 - val_mae: 2453.6599\n",
      "Epoch 104/150\n",
      "545/545 [==============================] - 23s 41ms/step - loss: 1179141.2500 - mae: 857.0916 - val_loss: 11600468.0000 - val_mae: 2492.8833\n",
      "Epoch 105/150\n",
      "545/545 [==============================] - 22s 41ms/step - loss: 1164392.1250 - mae: 850.7821 - val_loss: 12171953.0000 - val_mae: 2500.9116\n",
      "Epoch 106/150\n",
      "545/545 [==============================] - 22s 41ms/step - loss: 1190816.1250 - mae: 863.7993 - val_loss: 12237885.0000 - val_mae: 2559.2693\n"
     ]
    }
   ],
   "source": [
    "%%skip $SKIP_RETRAIN_LSTM\n",
    "\n",
    "model_MSLSTM = build_model_LSTM(data_x_train,data_y_train)\n",
    "history_MSLSTM = model_MSLSTM.fit(data_x_train, data_y_train, epochs=num_epochs, batch_size=batch_size, validation_data=(data_x_val, data_y_val) , \n",
    "                                 callbacks=[myCheckpointLSTM,myEarly_stoppingLSTM])"
   ]
  },
  {
   "cell_type": "markdown",
   "metadata": {},
   "source": [
    "Evaluate the training process"
   ]
  },
  {
   "cell_type": "code",
   "execution_count": null,
   "metadata": {
    "colab": {
     "base_uri": "https://localhost:8080/",
     "height": 159
    },
    "id": "0f_FwfmlHyAl",
    "outputId": "080474a2-3f61-42ca-95ef-7bc23f76c853"
   },
   "outputs": [],
   "source": [
    "%%skip $SKIP_RETRAIN_LSTM\n",
    "\n",
    "histMSLSTM = pd.DataFrame(history_MSLSTM.history)\n",
    "histMSLSTM['epoch'] = history_MSLSTM.epoch"
   ]
  },
  {
   "cell_type": "code",
   "execution_count": null,
   "metadata": {
    "colab": {
     "base_uri": "https://localhost:8080/",
     "height": 405
    },
    "id": "d2SviC32HyAr",
    "outputId": "512e600c-f7c8-46cd-9801-7387d6bf4f7f"
   },
   "outputs": [
    {
     "name": "stderr",
     "output_type": "stream",
     "text": [
      "<string>:3: UserWarning:\n",
      "\n",
      "Matplotlib is currently using module://ipykernel.pylab.backend_inline, which is a non-GUI backend, so cannot show the figure.\n",
      "\n"
     ]
    },
    {
     "data": {
      "image/png": "[encoded data removed]",
      "text/plain": [
       "<Figure size 576x576 with 1 Axes>"
      ]
     },
     "metadata": {},
     "output_type": "display_data"
    }
   ],
   "source": [
    "%%skip $SKIP_RETRAIN_LSTM\n",
    "\n",
    "fig = plot_learning_curves(histMSLSTM,model_type,f'./{model_type}/learningcurve_{namespace}.png')\n",
    "fig.show()"
   ]
  },
  {
   "cell_type": "markdown",
   "metadata": {},
   "source": [
    "Load best model"
   ]
  },
  {
   "cell_type": "code",
   "execution_count": null,
   "metadata": {},
   "outputs": [
    {
     "name": "stdout",
     "output_type": "stream",
     "text": [
      "Model: \"sequential\"\n",
      "_________________________________________________________________\n",
      "Layer (type)                 Output Shape              Param #   \n",
      "=================================================================\n",
      "lstm (LSTM)                  (None, None, 64)          23296     \n",
      "_________________________________________________________________\n",
      "batch_normalization (BatchNo (None, None, 64)          256       \n",
      "_________________________________________________________________\n",
      "dropout (Dropout)            (None, None, 64)          0         \n",
      "_________________________________________________________________\n",
      "lstm_1 (LSTM)                (None, None, 64)          33024     \n",
      "_________________________________________________________________\n",
      "batch_normalization_1 (Batch (None, None, 64)          256       \n",
      "_________________________________________________________________\n",
      "dropout_1 (Dropout)          (None, None, 64)          0         \n",
      "_________________________________________________________________\n",
      "lstm_2 (LSTM)                (None, None, 64)          33024     \n",
      "_________________________________________________________________\n",
      "batch_normalization_2 (Batch (None, None, 64)          256       \n",
      "_________________________________________________________________\n",
      "dropout_2 (Dropout)          (None, None, 64)          0         \n",
      "_________________________________________________________________\n",
      "lstm_3 (LSTM)                (None, None, 64)          33024     \n",
      "_________________________________________________________________\n",
      "batch_normalization_3 (Batch (None, None, 64)          256       \n",
      "_________________________________________________________________\n",
      "dropout_3 (Dropout)          (None, None, 64)          0         \n",
      "_________________________________________________________________\n",
      "lstm_4 (LSTM)                (None, None, 64)          33024     \n",
      "_________________________________________________________________\n",
      "batch_normalization_4 (Batch (None, None, 64)          256       \n",
      "_________________________________________________________________\n",
      "dropout_4 (Dropout)          (None, None, 64)          0         \n",
      "_________________________________________________________________\n",
      "lstm_5 (LSTM)                (None, 64)                33024     \n",
      "_________________________________________________________________\n",
      "dense (Dense)                (None, 64)                4160      \n",
      "_________________________________________________________________\n",
      "leaky_re_lu (LeakyReLU)      (None, 64)                0         \n",
      "_________________________________________________________________\n",
      "batch_normalization_5 (Batch (None, 64)                256       \n",
      "_________________________________________________________________\n",
      "dense_1 (Dense)              (None, 24)                1560      \n",
      "=================================================================\n",
      "Total params: 195,672\n",
      "Trainable params: 194,904\n",
      "Non-trainable params: 768\n",
      "_________________________________________________________________\n"
     ]
    }
   ],
   "source": [
    "model_best_MS_LSTM = keras.models.load_model(f\"./{model_type}/my_best_model_{namespace}.h5\")\n",
    "model_best_MS_LSTM.summary()"
   ]
  },
  {
   "cell_type": "code",
   "execution_count": null,
   "metadata": {},
   "outputs": [],
   "source": [
    "i=1\n",
    "case_test = data_x_test[i].reshape((1,data_x_test[0].shape[0], data_x_test[0].shape[1]))\n",
    "\n",
    "Y_test_predictions = pd.Series(model_best_MS_LSTM.predict(case_test).flatten(),index=pd.date_range(start=idx_test[i],freq='h',periods=24))\n",
    "y_test_filtered = data_y_test0.loc[Y_test_predictions.index]\n"
   ]
  },
  {
   "cell_type": "code",
   "execution_count": null,
   "metadata": {},
   "outputs": [],
   "source": [
    "eval_df = create_eval_df(Y_test_predictions,y_test_filtered)"
   ]
  },
  {
   "cell_type": "code",
   "execution_count": null,
   "metadata": {
    "colab": {
     "base_uri": "https://localhost:8080/",
     "height": 426
    },
    "id": "5X3Hs_GtHyAs",
    "outputId": "7281486a-4a6c-492c-e48f-37fa6e7d7c25"
   },
   "outputs": [
    {
     "name": "stderr",
     "output_type": "stream",
     "text": [
      "<ipython-input-47-f128fcf0dccf>:2: UserWarning:\n",
      "\n",
      "Matplotlib is currently using module://ipykernel.pylab.backend_inline, which is a non-GUI backend, so cannot show the figure.\n",
      "\n"
     ]
    },
    {
     "data": {
      "image/png": "[encoded data removed]",
      "text/plain": [
       "<Figure size 576x576 with 1 Axes>"
      ]
     },
     "metadata": {},
     "output_type": "display_data"
    }
   ],
   "source": [
    "fig = plot_accuracy(eval_df,model_type,f\"./{model_type}/accuracy_{namespace}.png\")\n",
    "fig.show()"
   ]
  },
  {
   "cell_type": "code",
   "execution_count": null,
   "metadata": {
    "colab": {
     "base_uri": "https://localhost:8080/",
     "height": 422
    },
    "id": "olr-44nOHyAt",
    "outputId": "ac65b698-1f77-4a62-87cf-c99f30d4d246"
   },
   "outputs": [
    {
     "name": "stderr",
     "output_type": "stream",
     "text": [
      "<ipython-input-48-05c98d64636b>:2: UserWarning:\n",
      "\n",
      "Matplotlib is currently using module://ipykernel.pylab.backend_inline, which is a non-GUI backend, so cannot show the figure.\n",
      "\n"
     ]
    },
    {
     "data": {
      "image/png": "[encoded data removed]",
      "text/plain": [
       "<Figure size 576x576 with 1 Axes>"
      ]
     },
     "metadata": {},
     "output_type": "display_data"
    }
   ],
   "source": [
    "fig = plot_error_variations(eval_df,model_type,f\"./{model_type}/error_variations_{namespace}.png\")\n",
    "fig.show()"
   ]
  },
  {
   "cell_type": "code",
   "execution_count": null,
   "metadata": {
    "colab": {
     "base_uri": "https://localhost:8080/"
    },
    "id": "-HSnhihhHyAt",
    "outputId": "b45d472e-df1f-4ab2-97ba-6318127d0d9e"
   },
   "outputs": [
    {
     "data": {
      "text/plain": [
       "nan"
      ]
     },
     "metadata": {},
     "output_type": "display_data"
    }
   ],
   "source": [
    "abs_error_MSLSTM = abs(Y_test_predictions - y_test_filtered)/y_test_filtered*100\n",
    "np.average(abs_error_MSLSTM)"
   ]
  },
  {
   "cell_type": "code",
   "execution_count": null,
   "metadata": {
    "colab": {
     "base_uri": "https://localhost:8080/"
    },
    "id": "-Og3-ec1HyAv",
    "outputId": "f0d3e172-622e-4dd4-a8ec-3f84e320356b"
   },
   "outputs": [
    {
     "name": "stdout",
     "output_type": "stream",
     "text": [
      "R^2 score is  0.79\n"
     ]
    }
   ],
   "source": [
    "r2_test = r2_score(y_test_filtered, Y_test_predictions)\n",
    "print('R^2 score is  %3.2f' %r2_test)"
   ]
  },
  {
   "cell_type": "code",
   "execution_count": null,
   "metadata": {
    "colab": {
     "base_uri": "https://localhost:8080/",
     "height": 421
    },
    "id": "bUVtrW7kHyAw",
    "outputId": "e4abb863-ccd1-4159-bd9d-7fb1a9711a9f"
   },
   "outputs": [
    {
     "name": "stderr",
     "output_type": "stream",
     "text": [
      "<ipython-input-51-c54bd844a7ce>:2: UserWarning:\n",
      "\n",
      "Matplotlib is currently using module://ipykernel.pylab.backend_inline, which is a non-GUI backend, so cannot show the figure.\n",
      "\n"
     ]
    },
    {
     "data": {
      "image/png": "[encoded data removed]",
      "text/plain": [
       "<Figure size 576x576 with 1 Axes>"
      ]
     },
     "metadata": {},
     "output_type": "display_data"
    }
   ],
   "source": [
    "fig = plot_predictions(eval_df,1,model_type,feature,f\"./{model_type}/predictions_{namespace}\")\n",
    "fig.show()"
   ]
  },
  {
   "cell_type": "code",
   "execution_count": null,
   "metadata": {},
   "outputs": [],
   "source": [
    "idx_prediction = pd.date_range(start=idx_test[0],freq='h',periods=len(idx_test)+24)\n",
    "y_test_filtered2 = data_y_test0.loc[idx_prediction]"
   ]
  },
  {
   "cell_type": "code",
   "execution_count": null,
   "metadata": {},
   "outputs": [
    {
     "data": {
      "application/vnd.plotly.v1+json": {
       "config": {
        "plotlyServerURL": "https://plot.ly"
       },
       "data": [
        {
         "type": "scatter",
         "x": [
          "2017-03-04T00:00:00+01:00",
          "2017-03-04T01:00:00+01:00",
          "2017-03-04T02:00:00+01:00",
          "2017-03-04T03:00:00+01:00",
          "2017-03-04T04:00:00+01:00",
          "2017-03-04T05:00:00+01:00",
          "2017-03-04T06:00:00+01:00",
          "2017-03-04T07:00:00+01:00",
          "2017-03-04T08:00:00+01:00",
          "2017-03-04T09:00:00+01:00",
          "2017-03-04T10:00:00+01:00",
          "2017-03-04T11:00:00+01:00",
          "2017-03-04T12:00:00+01:00",
          "2017-03-04T13:00:00+01:00",
          "2017-03-04T14:00:00+01:00",
          "2017-03-04T15:00:00+01:00",
          "2017-03-04T16:00:00+01:00",
          "2017-03-04T17:00:00+01:00",
          "2017-03-04T18:00:00+01:00",
          "2017-03-04T19:00:00+01:00",
          "2017-03-04T20:00:00+01:00",
          "2017-03-04T21:00:00+01:00",
          "2017-03-04T22:00:00+01:00",
          "2017-03-04T23:00:00+01:00",
          "2017-03-05T00:00:00+01:00",
          "2017-03-05T01:00:00+01:00",
          "2017-03-05T02:00:00+01:00",
          "2017-03-05T03:00:00+01:00",
          "2017-03-05T04:00:00+01:00",
          "2017-03-05T05:00:00+01:00",
          "2017-03-05T06:00:00+01:00",
          "2017-03-05T07:00:00+01:00",
          "2017-03-05T08:00:00+01:00",
          "2017-03-05T09:00:00+01:00",
          "2017-03-05T10:00:00+01:00",
          "2017-03-05T11:00:00+01:00",
          "2017-03-05T12:00:00+01:00",
          "2017-03-05T13:00:00+01:00",
          "2017-03-05T14:00:00+01:00",
          "2017-03-05T15:00:00+01:00",
          "2017-03-05T16:00:00+01:00",
          "2017-03-05T17:00:00+01:00",
          "2017-03-05T18:00:00+01:00",
          "2017-03-05T19:00:00+01:00",
          "2017-03-05T20:00:00+01:00",
          "2017-03-05T21:00:00+01:00",
          "2017-03-05T22:00:00+01:00",
          "2017-03-05T23:00:00+01:00",
          "2017-03-06T00:00:00+01:00",
          "2017-03-06T01:00:00+01:00",
          "2017-03-06T02:00:00+01:00",
          "2017-03-06T03:00:00+01:00",
          "2017-03-06T04:00:00+01:00",
          "2017-03-06T05:00:00+01:00",
          "2017-03-06T06:00:00+01:00",
          "2017-03-06T07:00:00+01:00",
          "2017-03-06T08:00:00+01:00",
          "2017-03-06T09:00:00+01:00",
          "2017-03-06T10:00:00+01:00",
          "2017-03-06T11:00:00+01:00",
          "2017-03-06T12:00:00+01:00",
          "2017-03-06T13:00:00+01:00",
          "2017-03-06T14:00:00+01:00",
          "2017-03-06T15:00:00+01:00",
          "2017-03-06T16:00:00+01:00",
          "2017-03-06T17:00:00+01:00",
          "2017-03-06T18:00:00+01:00",
          "2017-03-06T19:00:00+01:00",
          "2017-03-06T20:00:00+01:00",
          "2017-03-06T21:00:00+01:00",
          "2017-03-06T22:00:00+01:00",
          "2017-03-06T23:00:00+01:00",
          "2017-03-07T00:00:00+01:00",
          "2017-03-07T01:00:00+01:00",
          "2017-03-07T02:00:00+01:00",
          "2017-03-07T03:00:00+01:00",
          "2017-03-07T04:00:00+01:00",
          "2017-03-07T05:00:00+01:00",
          "2017-03-07T06:00:00+01:00",
          "2017-03-07T07:00:00+01:00",
          "2017-03-07T08:00:00+01:00",
          "2017-03-07T09:00:00+01:00",
          "2017-03-07T10:00:00+01:00",
          "2017-03-07T11:00:00+01:00",
          "2017-03-07T12:00:00+01:00",
          "2017-03-07T13:00:00+01:00",
          "2017-03-07T14:00:00+01:00",
          "2017-03-07T15:00:00+01:00",
          "2017-03-07T16:00:00+01:00",
          "2017-03-07T17:00:00+01:00",
          "2017-03-07T18:00:00+01:00",
          "2017-03-07T19:00:00+01:00",
          "2017-03-07T20:00:00+01:00",
          "2017-03-07T21:00:00+01:00",
          "2017-03-07T22:00:00+01:00",
          "2017-03-07T23:00:00+01:00",
          "2017-03-08T00:00:00+01:00",
          "2017-03-08T01:00:00+01:00",
          "2017-03-08T02:00:00+01:00",
          "2017-03-08T03:00:00+01:00",
          "2017-03-08T04:00:00+01:00",
          "2017-03-08T05:00:00+01:00",
          "2017-03-08T06:00:00+01:00",
          "2017-03-08T07:00:00+01:00",
          "2017-03-08T08:00:00+01:00",
          "2017-03-08T09:00:00+01:00",
          "2017-03-08T10:00:00+01:00",
          "2017-03-08T11:00:00+01:00",
          "2017-03-08T12:00:00+01:00",
          "2017-03-08T13:00:00+01:00",
          "2017-03-08T14:00:00+01:00",
          "2017-03-08T15:00:00+01:00",
          "2017-03-08T16:00:00+01:00",
          "2017-03-08T17:00:00+01:00",
          "2017-03-08T18:00:00+01:00",
          "2017-03-08T19:00:00+01:00",
          "2017-03-08T20:00:00+01:00",
          "2017-03-08T21:00:00+01:00",
          "2017-03-08T22:00:00+01:00",
          "2017-03-08T23:00:00+01:00",
          "2017-03-09T00:00:00+01:00",
          "2017-03-09T01:00:00+01:00",
          "2017-03-09T02:00:00+01:00",
          "2017-03-09T03:00:00+01:00",
          "2017-03-09T04:00:00+01:00",
          "2017-03-09T05:00:00+01:00",
          "2017-03-09T06:00:00+01:00",
          "2017-03-09T07:00:00+01:00",
          "2017-03-09T08:00:00+01:00",
          "2017-03-09T09:00:00+01:00",
          "2017-03-09T10:00:00+01:00",
          "2017-03-09T11:00:00+01:00",
          "2017-03-09T12:00:00+01:00",
          "2017-03-09T13:00:00+01:00",
          "2017-03-09T14:00:00+01:00",
          "2017-03-09T15:00:00+01:00",
          "2017-03-09T16:00:00+01:00",
          "2017-03-09T17:00:00+01:00",
          "2017-03-09T18:00:00+01:00",
          "2017-03-09T19:00:00+01:00",
          "2017-03-09T20:00:00+01:00",
          "2017-03-09T21:00:00+01:00",
          "2017-03-09T22:00:00+01:00",
          "2017-03-09T23:00:00+01:00",
          "2017-03-10T00:00:00+01:00",
          "2017-03-10T01:00:00+01:00",
          "2017-03-10T02:00:00+01:00",
          "2017-03-10T03:00:00+01:00",
          "2017-03-10T04:00:00+01:00",
          "2017-03-10T05:00:00+01:00",
          "2017-03-10T06:00:00+01:00",
          "2017-03-10T07:00:00+01:00",
          "2017-03-10T08:00:00+01:00",
          "2017-03-10T09:00:00+01:00",
          "2017-03-10T10:00:00+01:00",
          "2017-03-10T11:00:00+01:00",
          "2017-03-10T12:00:00+01:00",
          "2017-03-10T13:00:00+01:00",
          "2017-03-10T14:00:00+01:00",
          "2017-03-10T15:00:00+01:00",
          "2017-03-10T16:00:00+01:00",
          "2017-03-10T17:00:00+01:00",
          "2017-03-10T18:00:00+01:00",
          "2017-03-10T19:00:00+01:00",
          "2017-03-10T20:00:00+01:00",
          "2017-03-10T21:00:00+01:00",
          "2017-03-10T22:00:00+01:00",
          "2017-03-10T23:00:00+01:00",
          "2017-03-11T00:00:00+01:00",
          "2017-03-11T01:00:00+01:00",
          "2017-03-11T02:00:00+01:00",
          "2017-03-11T03:00:00+01:00",
          "2017-03-11T04:00:00+01:00",
          "2017-03-11T05:00:00+01:00",
          "2017-03-11T06:00:00+01:00",
          "2017-03-11T07:00:00+01:00",
          "2017-03-11T08:00:00+01:00",
          "2017-03-11T09:00:00+01:00",
          "2017-03-11T10:00:00+01:00",
          "2017-03-11T11:00:00+01:00",
          "2017-03-11T12:00:00+01:00",
          "2017-03-11T13:00:00+01:00",
          "2017-03-11T14:00:00+01:00",
          "2017-03-11T15:00:00+01:00",
          "2017-03-11T16:00:00+01:00",
          "2017-03-11T17:00:00+01:00",
          "2017-03-11T18:00:00+01:00",
          "2017-03-11T19:00:00+01:00",
          "2017-03-11T20:00:00+01:00",
          "2017-03-11T21:00:00+01:00",
          "2017-03-11T22:00:00+01:00",
          "2017-03-11T23:00:00+01:00"
         ],
         "y": [
          23883,
          22318,
          21483,
          21167,
          21195,
          21938,
          24929,
          28875,
          31046,
          32130,
          32136,
          32019,
          32064,
          31784,
          30638,
          29929,
          29513,
          29215,
          28744,
          28696,
          30553,
          32696,
          30130,
          27524,
          25015,
          23547,
          22649,
          22339,
          22247,
          22720,
          24762,
          27435,
          29946,
          30890,
          31370,
          31645,
          31831,
          31721,
          30677,
          30071,
          29832,
          29559,
          29261,
          29317,
          29990,
          31776,
          29932,
          27290,
          26782,
          25481,
          24225,
          23607,
          23236,
          22950,
          22654,
          23121,
          24929,
          27033,
          28767,
          29360,
          29680,
          29961,
          29133,
          27708,
          26808,
          26605,
          26678,
          26964,
          27488,
          27911,
          27432,
          25886,
          25206,
          23707,
          22755,
          22256,
          22322,
          22805,
          24608,
          26837,
          28863,
          30697,
          31828,
          32508,
          33433,
          33913,
          33221,
          32522,
          32432,
          32528,
          32238,
          32048,
          31683,
          31481,
          31060,
          28976,
          29358,
          27451,
          26115,
          25333,
          24997,
          25102,
          26732,
          28380,
          30877,
          33294,
          34958,
          36149,
          37164,
          37866,
          37376,
          36739,
          36723,
          36666,
          36271,
          35653,
          35095,
          35319,
          34820,
          32510,
          24748,
          23412,
          22186,
          21459,
          21052,
          20925,
          21073,
          21168,
          21210,
          22680,
          24312,
          25222,
          25955,
          26606,
          26881,
          25980,
          25386,
          25300,
          25471,
          25687,
          26871,
          29148,
          28083,
          26372,
          25601,
          24541,
          23766,
          23387,
          23158,
          23362,
          25143,
          28384,
          29829,
          30576,
          31193,
          31830,
          32462,
          32779,
          31872,
          31194,
          31107,
          31032,
          30530,
          30617,
          32867,
          32111,
          29419,
          26964,
          24943,
          23587,
          22979,
          22672,
          22592,
          22986,
          25256,
          28699,
          30462,
          31568,
          31862,
          31981,
          32174,
          32059,
          30867,
          30064,
          29622,
          29929,
          31697,
          32137,
          31837,
          30702,
          28285,
          26207
         ]
        },
        {
         "mode": "markers",
         "type": "scatter",
         "x": [
          "2017-03-04T00:00:00+01:00",
          "2017-03-04T01:00:00+01:00",
          "2017-03-04T02:00:00+01:00",
          "2017-03-04T03:00:00+01:00",
          "2017-03-04T04:00:00+01:00",
          "2017-03-04T05:00:00+01:00",
          "2017-03-04T06:00:00+01:00",
          "2017-03-04T07:00:00+01:00",
          "2017-03-04T08:00:00+01:00",
          "2017-03-04T09:00:00+01:00",
          "2017-03-04T10:00:00+01:00",
          "2017-03-04T11:00:00+01:00",
          "2017-03-04T12:00:00+01:00",
          "2017-03-04T13:00:00+01:00",
          "2017-03-04T14:00:00+01:00",
          "2017-03-04T15:00:00+01:00",
          "2017-03-04T16:00:00+01:00",
          "2017-03-04T17:00:00+01:00",
          "2017-03-04T18:00:00+01:00",
          "2017-03-04T19:00:00+01:00",
          "2017-03-04T20:00:00+01:00",
          "2017-03-04T21:00:00+01:00",
          "2017-03-04T22:00:00+01:00",
          "2017-03-04T23:00:00+01:00"
         ],
         "y": [
          26796.19140625,
          24794.474609375,
          23004.470703125,
          21801.001953125,
          21463.27734375,
          22082.052734375,
          23518.353515625,
          25468.34375,
          27560.822265625,
          29406.28125,
          30692.20703125,
          31293.751953125,
          31254.650390625,
          30812.98828125,
          30271.40625,
          29908.939453125,
          29931.158203125,
          30403.2109375,
          31143.076171875,
          31889.275390625,
          32368.92578125,
          32306.44140625,
          31570.494140625,
          30177.7890625
         ]
        },
        {
         "mode": "markers",
         "type": "scatter",
         "x": [
          "2017-03-04T01:00:00+01:00",
          "2017-03-04T02:00:00+01:00",
          "2017-03-04T03:00:00+01:00",
          "2017-03-04T04:00:00+01:00",
          "2017-03-04T05:00:00+01:00",
          "2017-03-04T06:00:00+01:00",
          "2017-03-04T07:00:00+01:00",
          "2017-03-04T08:00:00+01:00",
          "2017-03-04T09:00:00+01:00",
          "2017-03-04T10:00:00+01:00",
          "2017-03-04T11:00:00+01:00",
          "2017-03-04T12:00:00+01:00",
          "2017-03-04T13:00:00+01:00",
          "2017-03-04T14:00:00+01:00",
          "2017-03-04T15:00:00+01:00",
          "2017-03-04T16:00:00+01:00",
          "2017-03-04T17:00:00+01:00",
          "2017-03-04T18:00:00+01:00",
          "2017-03-04T19:00:00+01:00",
          "2017-03-04T20:00:00+01:00",
          "2017-03-04T21:00:00+01:00",
          "2017-03-04T22:00:00+01:00",
          "2017-03-04T23:00:00+01:00",
          "2017-03-05T00:00:00+01:00"
         ],
         "y": [
          24759.240234375,
          23051.6328125,
          21986.86328125,
          21800.552734375,
          22569.900390625,
          24142.779296875,
          26182.32421875,
          28276.8984375,
          30060.337890625,
          31255.083984375,
          31726.681640625,
          31576.453125,
          31026.490234375,
          30431.732421875,
          30078.201171875,
          30137.0859375,
          30636.232421875,
          31452.708984375,
          32227.5078125,
          32632.919921875,
          32436.666015625,
          31518.6328125,
          29960.560546875,
          27998.810546875
         ]
        },
        {
         "mode": "markers",
         "type": "scatter",
         "x": [
          "2017-03-04T02:00:00+01:00",
          "2017-03-04T03:00:00+01:00",
          "2017-03-04T04:00:00+01:00",
          "2017-03-04T05:00:00+01:00",
          "2017-03-04T06:00:00+01:00",
          "2017-03-04T07:00:00+01:00",
          "2017-03-04T08:00:00+01:00",
          "2017-03-04T09:00:00+01:00",
          "2017-03-04T10:00:00+01:00",
          "2017-03-04T11:00:00+01:00",
          "2017-03-04T12:00:00+01:00",
          "2017-03-04T13:00:00+01:00",
          "2017-03-04T14:00:00+01:00",
          "2017-03-04T15:00:00+01:00",
          "2017-03-04T16:00:00+01:00",
          "2017-03-04T17:00:00+01:00",
          "2017-03-04T18:00:00+01:00",
          "2017-03-04T19:00:00+01:00",
          "2017-03-04T20:00:00+01:00",
          "2017-03-04T21:00:00+01:00",
          "2017-03-04T22:00:00+01:00",
          "2017-03-04T23:00:00+01:00",
          "2017-03-05T00:00:00+01:00",
          "2017-03-05T01:00:00+01:00"
         ],
         "y": [
          23067.890625,
          22012.53125,
          21849.830078125,
          22623.349609375,
          24199.587890625,
          26252.271484375,
          28353.958984375,
          30110.89453125,
          31264.244140625,
          31715.244140625,
          31523.60546875,
          30955.357421875,
          30313.259765625,
          29942.08984375,
          30007.017578125,
          30518.216796875,
          31320.783203125,
          32156.734375,
          32605.041015625,
          32388.955078125,
          31404.599609375,
          29735.05078125,
          27653.787109375,
          25544.068359375
         ]
        },
        {
         "mode": "markers",
         "type": "scatter",
         "x": [
          "2017-03-04T03:00:00+01:00",
          "2017-03-04T04:00:00+01:00",
          "2017-03-04T05:00:00+01:00",
          "2017-03-04T06:00:00+01:00",
          "2017-03-04T07:00:00+01:00",
          "2017-03-04T08:00:00+01:00",
          "2017-03-04T09:00:00+01:00",
          "2017-03-04T10:00:00+01:00",
          "2017-03-04T11:00:00+01:00",
          "2017-03-04T12:00:00+01:00",
          "2017-03-04T13:00:00+01:00",
          "2017-03-04T14:00:00+01:00",
          "2017-03-04T15:00:00+01:00",
          "2017-03-04T16:00:00+01:00",
          "2017-03-04T17:00:00+01:00",
          "2017-03-04T18:00:00+01:00",
          "2017-03-04T19:00:00+01:00",
          "2017-03-04T20:00:00+01:00",
          "2017-03-04T21:00:00+01:00",
          "2017-03-04T22:00:00+01:00",
          "2017-03-04T23:00:00+01:00",
          "2017-03-05T00:00:00+01:00",
          "2017-03-05T01:00:00+01:00",
          "2017-03-05T02:00:00+01:00"
         ],
         "y": [
          22008.13671875,
          21766.322265625,
          22499.447265625,
          24061.3984375,
          26135.064453125,
          28298.658203125,
          30132.470703125,
          31339.033203125,
          31810.060546875,
          31631.830078125,
          31028.515625,
          30351.755859375,
          29898.990234375,
          29917.001953125,
          30410.470703125,
          31228.224609375,
          32080.8984375,
          32639.9765625,
          32535.888671875,
          31615.505859375,
          29931.505859375,
          27753.06640625,
          25489.083984375,
          23583.201171875
         ]
        },
        {
         "mode": "markers",
         "type": "scatter",
         "x": [
          "2017-03-04T04:00:00+01:00",
          "2017-03-04T05:00:00+01:00",
          "2017-03-04T06:00:00+01:00",
          "2017-03-04T07:00:00+01:00",
          "2017-03-04T08:00:00+01:00",
          "2017-03-04T09:00:00+01:00",
          "2017-03-04T10:00:00+01:00",
          "2017-03-04T11:00:00+01:00",
          "2017-03-04T12:00:00+01:00",
          "2017-03-04T13:00:00+01:00",
          "2017-03-04T14:00:00+01:00",
          "2017-03-04T15:00:00+01:00",
          "2017-03-04T16:00:00+01:00",
          "2017-03-04T17:00:00+01:00",
          "2017-03-04T18:00:00+01:00",
          "2017-03-04T19:00:00+01:00",
          "2017-03-04T20:00:00+01:00",
          "2017-03-04T21:00:00+01:00",
          "2017-03-04T22:00:00+01:00",
          "2017-03-04T23:00:00+01:00",
          "2017-03-05T00:00:00+01:00",
          "2017-03-05T01:00:00+01:00",
          "2017-03-05T02:00:00+01:00",
          "2017-03-05T03:00:00+01:00"
         ],
         "y": [
          21499.94140625,
          22134.861328125,
          23613.607421875,
          25652.716796875,
          27817.529296875,
          29696.51171875,
          30995.3125,
          31578.380859375,
          31497.48046875,
          30980.185546875,
          30342.3984375,
          29901.388671875,
          29862.779296875,
          30293.755859375,
          31040.625,
          31837.99609375,
          32359.330078125,
          32301.970703125,
          31490.6953125,
          29956.26953125,
          27892.953125,
          25680.68359375,
          23739.220703125,
          22456.05078125
         ]
        },
        {
         "mode": "markers",
         "type": "scatter",
         "x": [
          "2017-03-04T05:00:00+01:00",
          "2017-03-04T06:00:00+01:00",
          "2017-03-04T07:00:00+01:00",
          "2017-03-04T08:00:00+01:00",
          "2017-03-04T09:00:00+01:00",
          "2017-03-04T10:00:00+01:00",
          "2017-03-04T11:00:00+01:00",
          "2017-03-04T12:00:00+01:00",
          "2017-03-04T13:00:00+01:00",
          "2017-03-04T14:00:00+01:00",
          "2017-03-04T15:00:00+01:00",
          "2017-03-04T16:00:00+01:00",
          "2017-03-04T17:00:00+01:00",
          "2017-03-04T18:00:00+01:00",
          "2017-03-04T19:00:00+01:00",
          "2017-03-04T20:00:00+01:00",
          "2017-03-04T21:00:00+01:00",
          "2017-03-04T22:00:00+01:00",
          "2017-03-04T23:00:00+01:00",
          "2017-03-05T00:00:00+01:00",
          "2017-03-05T01:00:00+01:00",
          "2017-03-05T02:00:00+01:00",
          "2017-03-05T03:00:00+01:00",
          "2017-03-05T04:00:00+01:00"
         ],
         "y": [
          21749.9765625,
          23053.443359375,
          24925.4765625,
          27022.712890625,
          28883.900390625,
          30177.025390625,
          30786.197265625,
          30750.689453125,
          30249.595703125,
          29589.712890625,
          29112.525390625,
          29031.34765625,
          29423.50390625,
          30170.74609375,
          31004.611328125,
          31608.533203125,
          31692.603515625,
          31038.859375,
          29702.0625,
          27884.8359375,
          25867.220703125,
          24051.474609375,
          22774.71484375,
          22298.4375
         ]
        },
        {
         "mode": "markers",
         "type": "scatter",
         "x": [
          "2017-03-04T06:00:00+01:00",
          "2017-03-04T07:00:00+01:00",
          "2017-03-04T08:00:00+01:00",
          "2017-03-04T09:00:00+01:00",
          "2017-03-04T10:00:00+01:00",
          "2017-03-04T11:00:00+01:00",
          "2017-03-04T12:00:00+01:00",
          "2017-03-04T13:00:00+01:00",
          "2017-03-04T14:00:00+01:00",
          "2017-03-04T15:00:00+01:00",
          "2017-03-04T16:00:00+01:00",
          "2017-03-04T17:00:00+01:00",
          "2017-03-04T18:00:00+01:00",
          "2017-03-04T19:00:00+01:00",
          "2017-03-04T20:00:00+01:00",
          "2017-03-04T21:00:00+01:00",
          "2017-03-04T22:00:00+01:00",
          "2017-03-04T23:00:00+01:00",
          "2017-03-05T00:00:00+01:00",
          "2017-03-05T01:00:00+01:00",
          "2017-03-05T02:00:00+01:00",
          "2017-03-05T03:00:00+01:00",
          "2017-03-05T04:00:00+01:00",
          "2017-03-05T05:00:00+01:00"
         ],
         "y": [
          23257.533203125,
          25080.24609375,
          27118.662109375,
          29021.150390625,
          30394.64453125,
          31035.490234375,
          31011.96875,
          30514.736328125,
          29808.224609375,
          29204.94921875,
          28995.2421875,
          29247.86328125,
          29891.296875,
          30662.5859375,
          31236.81640625,
          31321.3515625,
          30735.958984375,
          29405.140625,
          27602.826171875,
          25667.48046875,
          23928.78125,
          22744.375,
          22325.140625,
          22753.90625
         ]
        },
        {
         "mode": "markers",
         "type": "scatter",
         "x": [
          "2017-03-04T07:00:00+01:00",
          "2017-03-04T08:00:00+01:00",
          "2017-03-04T09:00:00+01:00",
          "2017-03-04T10:00:00+01:00",
          "2017-03-04T11:00:00+01:00",
          "2017-03-04T12:00:00+01:00",
          "2017-03-04T13:00:00+01:00",
          "2017-03-04T14:00:00+01:00",
          "2017-03-04T15:00:00+01:00",
          "2017-03-04T16:00:00+01:00",
          "2017-03-04T17:00:00+01:00",
          "2017-03-04T18:00:00+01:00",
          "2017-03-04T19:00:00+01:00",
          "2017-03-04T20:00:00+01:00",
          "2017-03-04T21:00:00+01:00",
          "2017-03-04T22:00:00+01:00",
          "2017-03-04T23:00:00+01:00",
          "2017-03-05T00:00:00+01:00",
          "2017-03-05T01:00:00+01:00",
          "2017-03-05T02:00:00+01:00",
          "2017-03-05T03:00:00+01:00",
          "2017-03-05T04:00:00+01:00",
          "2017-03-05T05:00:00+01:00",
          "2017-03-05T06:00:00+01:00"
         ],
         "y": [
          25069.615234375,
          27024.595703125,
          28834.609375,
          30226.478515625,
          30966.654296875,
          31018.03125,
          30622.4296875,
          30064.068359375,
          29610.658203125,
          29485.53125,
          29832.7578125,
          30539.380859375,
          31376.01171875,
          31972.322265625,
          32029.05859375,
          31368.625,
          29991.4375,
          28008.615234375,
          25880.55078125,
          24037.2265625,
          22788.08984375,
          22362.609375,
          22797.857421875,
          23970.56640625
         ]
        },
        {
         "mode": "markers",
         "type": "scatter",
         "x": [
          "2017-03-04T08:00:00+01:00",
          "2017-03-04T09:00:00+01:00",
          "2017-03-04T10:00:00+01:00",
          "2017-03-04T11:00:00+01:00",
          "2017-03-04T12:00:00+01:00",
          "2017-03-04T13:00:00+01:00",
          "2017-03-04T14:00:00+01:00",
          "2017-03-04T15:00:00+01:00",
          "2017-03-04T16:00:00+01:00",
          "2017-03-04T17:00:00+01:00",
          "2017-03-04T18:00:00+01:00",
          "2017-03-04T19:00:00+01:00",
          "2017-03-04T20:00:00+01:00",
          "2017-03-04T21:00:00+01:00",
          "2017-03-04T22:00:00+01:00",
          "2017-03-04T23:00:00+01:00",
          "2017-03-05T00:00:00+01:00",
          "2017-03-05T01:00:00+01:00",
          "2017-03-05T02:00:00+01:00",
          "2017-03-05T03:00:00+01:00",
          "2017-03-05T04:00:00+01:00",
          "2017-03-05T05:00:00+01:00",
          "2017-03-05T06:00:00+01:00",
          "2017-03-05T07:00:00+01:00"
         ],
         "y": [
          27836.212890625,
          29374.46875,
          30415.8828125,
          30890.892578125,
          30807.595703125,
          30321.880859375,
          29789.130859375,
          29474.15625,
          29532.83984375,
          29992.0859375,
          30778.748046875,
          31606.611328125,
          32166.708984375,
          32109.251953125,
          31303.724609375,
          29800.18359375,
          27830.984375,
          25697.478515625,
          23922.70703125,
          22895,
          22761.83203125,
          23498.767578125,
          24891.13671875,
          26620.09375
         ]
        },
        {
         "mode": "markers",
         "type": "scatter",
         "x": [
          "2017-03-04T09:00:00+01:00",
          "2017-03-04T10:00:00+01:00",
          "2017-03-04T11:00:00+01:00",
          "2017-03-04T12:00:00+01:00",
          "2017-03-04T13:00:00+01:00",
          "2017-03-04T14:00:00+01:00",
          "2017-03-04T15:00:00+01:00",
          "2017-03-04T16:00:00+01:00",
          "2017-03-04T17:00:00+01:00",
          "2017-03-04T18:00:00+01:00",
          "2017-03-04T19:00:00+01:00",
          "2017-03-04T20:00:00+01:00",
          "2017-03-04T21:00:00+01:00",
          "2017-03-04T22:00:00+01:00",
          "2017-03-04T23:00:00+01:00",
          "2017-03-05T00:00:00+01:00",
          "2017-03-05T01:00:00+01:00",
          "2017-03-05T02:00:00+01:00",
          "2017-03-05T03:00:00+01:00",
          "2017-03-05T04:00:00+01:00",
          "2017-03-05T05:00:00+01:00",
          "2017-03-05T06:00:00+01:00",
          "2017-03-05T07:00:00+01:00",
          "2017-03-05T08:00:00+01:00"
         ],
         "y": [
          29785.205078125,
          30669.068359375,
          30894.103515625,
          30602.630859375,
          30007.50390625,
          29377.259765625,
          29063.0078125,
          29222.541015625,
          29840.017578125,
          30740.580078125,
          31671.265625,
          32258.21875,
          32223.49609375,
          31344.0859375,
          29710.806640625,
          27587.302734375,
          25386.09765625,
          23511.30078125,
          22432.078125,
          22393.40625,
          23340.07421875,
          25008.375,
          26982.89453125,
          28846.5703125
         ]
        },
        {
         "mode": "markers",
         "type": "scatter",
         "x": [
          "2017-03-04T10:00:00+01:00",
          "2017-03-04T11:00:00+01:00",
          "2017-03-04T12:00:00+01:00",
          "2017-03-04T13:00:00+01:00",
          "2017-03-04T14:00:00+01:00",
          "2017-03-04T15:00:00+01:00",
          "2017-03-04T16:00:00+01:00",
          "2017-03-04T17:00:00+01:00",
          "2017-03-04T18:00:00+01:00",
          "2017-03-04T19:00:00+01:00",
          "2017-03-04T20:00:00+01:00",
          "2017-03-04T21:00:00+01:00",
          "2017-03-04T22:00:00+01:00",
          "2017-03-04T23:00:00+01:00",
          "2017-03-05T00:00:00+01:00",
          "2017-03-05T01:00:00+01:00",
          "2017-03-05T02:00:00+01:00",
          "2017-03-05T03:00:00+01:00",
          "2017-03-05T04:00:00+01:00",
          "2017-03-05T05:00:00+01:00",
          "2017-03-05T06:00:00+01:00",
          "2017-03-05T07:00:00+01:00",
          "2017-03-05T08:00:00+01:00",
          "2017-03-05T09:00:00+01:00"
         ],
         "y": [
          30880.845703125,
          31074.1796875,
          30675.529296875,
          29977.935546875,
          29294.205078125,
          28892.927734375,
          29008.841796875,
          29634.517578125,
          30580.796875,
          31533.876953125,
          32160.822265625,
          32134.201171875,
          31305.216796875,
          29659.974609375,
          27495.466796875,
          25216.1796875,
          23298.603515625,
          22120.896484375,
          21987.359375,
          22930.744140625,
          24698.814453125,
          26861.615234375,
          28931.01953125,
          30506.58203125
         ]
        },
        {
         "mode": "markers",
         "type": "scatter",
         "x": [
          "2017-03-04T11:00:00+01:00",
          "2017-03-04T12:00:00+01:00",
          "2017-03-04T13:00:00+01:00",
          "2017-03-04T14:00:00+01:00",
          "2017-03-04T15:00:00+01:00",
          "2017-03-04T16:00:00+01:00",
          "2017-03-04T17:00:00+01:00",
          "2017-03-04T18:00:00+01:00",
          "2017-03-04T19:00:00+01:00",
          "2017-03-04T20:00:00+01:00",
          "2017-03-04T21:00:00+01:00",
          "2017-03-04T22:00:00+01:00",
          "2017-03-04T23:00:00+01:00",
          "2017-03-05T00:00:00+01:00",
          "2017-03-05T01:00:00+01:00",
          "2017-03-05T02:00:00+01:00",
          "2017-03-05T03:00:00+01:00",
          "2017-03-05T04:00:00+01:00",
          "2017-03-05T05:00:00+01:00",
          "2017-03-05T06:00:00+01:00",
          "2017-03-05T07:00:00+01:00",
          "2017-03-05T08:00:00+01:00",
          "2017-03-05T09:00:00+01:00",
          "2017-03-05T10:00:00+01:00"
         ],
         "y": [
          31092.64453125,
          30707.77734375,
          29954.0703125,
          29188.97265625,
          28710.84765625,
          28693.318359375,
          29203.478515625,
          30073.248046875,
          30997.07421875,
          31622.052734375,
          31651.923828125,
          30904.3125,
          29405.060546875,
          27342.80859375,
          25143.572265625,
          23247.26953125,
          22069.4296875,
          21855.09765625,
          22693.369140625,
          24406.201171875,
          26605.791015625,
          28799.88671875,
          30546.271484375,
          31558.134765625
         ]
        },
        {
         "mode": "markers",
         "type": "scatter",
         "x": [
          "2017-03-04T12:00:00+01:00",
          "2017-03-04T13:00:00+01:00",
          "2017-03-04T14:00:00+01:00",
          "2017-03-04T15:00:00+01:00",
          "2017-03-04T16:00:00+01:00",
          "2017-03-04T17:00:00+01:00",
          "2017-03-04T18:00:00+01:00",
          "2017-03-04T19:00:00+01:00",
          "2017-03-04T20:00:00+01:00",
          "2017-03-04T21:00:00+01:00",
          "2017-03-04T22:00:00+01:00",
          "2017-03-04T23:00:00+01:00",
          "2017-03-05T00:00:00+01:00",
          "2017-03-05T01:00:00+01:00",
          "2017-03-05T02:00:00+01:00",
          "2017-03-05T03:00:00+01:00",
          "2017-03-05T04:00:00+01:00",
          "2017-03-05T05:00:00+01:00",
          "2017-03-05T06:00:00+01:00",
          "2017-03-05T07:00:00+01:00",
          "2017-03-05T08:00:00+01:00",
          "2017-03-05T09:00:00+01:00",
          "2017-03-05T10:00:00+01:00",
          "2017-03-05T11:00:00+01:00"
         ],
         "y": [
          30707.7734375,
          30050.740234375,
          29277.6484375,
          28709.537109375,
          28549.380859375,
          28834.921875,
          29490.07421875,
          30256.005859375,
          30813.330078125,
          30874.642578125,
          30267.8203125,
          28979.87109375,
          27185.568359375,
          25187.294921875,
          23421.029296875,
          22255.458984375,
          21960.1875,
          22606.80078125,
          24094.8046875,
          26117.236328125,
          28261.828125,
          30091.99609375,
          31293.451171875,
          31736.24609375
         ]
        },
        {
         "mode": "markers",
         "type": "scatter",
         "x": [
          "2017-03-04T13:00:00+01:00",
          "2017-03-04T14:00:00+01:00",
          "2017-03-04T15:00:00+01:00",
          "2017-03-04T16:00:00+01:00",
          "2017-03-04T17:00:00+01:00",
          "2017-03-04T18:00:00+01:00",
          "2017-03-04T19:00:00+01:00",
          "2017-03-04T20:00:00+01:00",
          "2017-03-04T21:00:00+01:00",
          "2017-03-04T22:00:00+01:00",
          "2017-03-04T23:00:00+01:00",
          "2017-03-05T00:00:00+01:00",
          "2017-03-05T01:00:00+01:00",
          "2017-03-05T02:00:00+01:00",
          "2017-03-05T03:00:00+01:00",
          "2017-03-05T04:00:00+01:00",
          "2017-03-05T05:00:00+01:00",
          "2017-03-05T06:00:00+01:00",
          "2017-03-05T07:00:00+01:00",
          "2017-03-05T08:00:00+01:00",
          "2017-03-05T09:00:00+01:00",
          "2017-03-05T10:00:00+01:00",
          "2017-03-05T11:00:00+01:00",
          "2017-03-05T12:00:00+01:00"
         ],
         "y": [
          30040.662109375,
          29339.388671875,
          28806.65234375,
          28656.052734375,
          28936.76953125,
          29521.494140625,
          30190.8515625,
          30640.896484375,
          30596.34375,
          29906.9375,
          28583.078125,
          26804.587890625,
          24886.935546875,
          23203.140625,
          22130.017578125,
          21895.080078125,
          22567.3359375,
          24011.337890625,
          25953.0546875,
          27998.37109375,
          29778.943359375,
          30987.29296875,
          31499.751953125,
          31371.15234375
         ]
        },
        {
         "mode": "markers",
         "type": "scatter",
         "x": [
          "2017-03-04T14:00:00+01:00",
          "2017-03-04T15:00:00+01:00",
          "2017-03-04T16:00:00+01:00",
          "2017-03-04T17:00:00+01:00",
          "2017-03-04T18:00:00+01:00",
          "2017-03-04T19:00:00+01:00",
          "2017-03-04T20:00:00+01:00",
          "2017-03-04T21:00:00+01:00",
          "2017-03-04T22:00:00+01:00",
          "2017-03-04T23:00:00+01:00",
          "2017-03-05T00:00:00+01:00",
          "2017-03-05T01:00:00+01:00",
          "2017-03-05T02:00:00+01:00",
          "2017-03-05T03:00:00+01:00",
          "2017-03-05T04:00:00+01:00",
          "2017-03-05T05:00:00+01:00",
          "2017-03-05T06:00:00+01:00",
          "2017-03-05T07:00:00+01:00",
          "2017-03-05T08:00:00+01:00",
          "2017-03-05T09:00:00+01:00",
          "2017-03-05T10:00:00+01:00",
          "2017-03-05T11:00:00+01:00",
          "2017-03-05T12:00:00+01:00",
          "2017-03-05T13:00:00+01:00"
         ],
         "y": [
          29148.67578125,
          28617.171875,
          28457.66015625,
          28741.607421875,
          29355.671875,
          30044.923828125,
          30518.2109375,
          30509.818359375,
          29842.546875,
          28535.484375,
          26775.150390625,
          24877.421875,
          23221.935546875,
          22157.689453125,
          21932.923828125,
          22597.302734375,
          24028.658203125,
          25923.203125,
          27935.9921875,
          29675.681640625,
          30877.62890625,
          31398.95703125,
          31297.9140625,
          30773.357421875
         ]
        },
        {
         "mode": "markers",
         "type": "scatter",
         "x": [
          "2017-03-04T15:00:00+01:00",
          "2017-03-04T16:00:00+01:00",
          "2017-03-04T17:00:00+01:00",
          "2017-03-04T18:00:00+01:00",
          "2017-03-04T19:00:00+01:00",
          "2017-03-04T20:00:00+01:00",
          "2017-03-04T21:00:00+01:00",
          "2017-03-04T22:00:00+01:00",
          "2017-03-04T23:00:00+01:00",
          "2017-03-05T00:00:00+01:00",
          "2017-03-05T01:00:00+01:00",
          "2017-03-05T02:00:00+01:00",
          "2017-03-05T03:00:00+01:00",
          "2017-03-05T04:00:00+01:00",
          "2017-03-05T05:00:00+01:00",
          "2017-03-05T06:00:00+01:00",
          "2017-03-05T07:00:00+01:00",
          "2017-03-05T08:00:00+01:00",
          "2017-03-05T09:00:00+01:00",
          "2017-03-05T10:00:00+01:00",
          "2017-03-05T11:00:00+01:00",
          "2017-03-05T12:00:00+01:00",
          "2017-03-05T13:00:00+01:00",
          "2017-03-05T14:00:00+01:00"
         ],
         "y": [
          28351.666015625,
          28174.232421875,
          28450.484375,
          29084.361328125,
          29819.552734375,
          30329.580078125,
          30340.591796875,
          29706.947265625,
          28410.3828125,
          26654.3515625,
          24773.65234375,
          23150.8984375,
          22142.45703125,
          21979.078125,
          22714.265625,
          24195.205078125,
          26131.783203125,
          28114.455078125,
          29818.759765625,
          30953.94921875,
          31412.912109375,
          31248.703125,
          30672.25390625,
          29975.72265625
         ]
        },
        {
         "mode": "markers",
         "type": "scatter",
         "x": [
          "2017-03-04T16:00:00+01:00",
          "2017-03-04T17:00:00+01:00",
          "2017-03-04T18:00:00+01:00",
          "2017-03-04T19:00:00+01:00",
          "2017-03-04T20:00:00+01:00",
          "2017-03-04T21:00:00+01:00",
          "2017-03-04T22:00:00+01:00",
          "2017-03-04T23:00:00+01:00",
          "2017-03-05T00:00:00+01:00",
          "2017-03-05T01:00:00+01:00",
          "2017-03-05T02:00:00+01:00",
          "2017-03-05T03:00:00+01:00",
          "2017-03-05T04:00:00+01:00",
          "2017-03-05T05:00:00+01:00",
          "2017-03-05T06:00:00+01:00",
          "2017-03-05T07:00:00+01:00",
          "2017-03-05T08:00:00+01:00",
          "2017-03-05T09:00:00+01:00",
          "2017-03-05T10:00:00+01:00",
          "2017-03-05T11:00:00+01:00",
          "2017-03-05T12:00:00+01:00",
          "2017-03-05T13:00:00+01:00",
          "2017-03-05T14:00:00+01:00",
          "2017-03-05T15:00:00+01:00"
         ],
         "y": [
          28093.13671875,
          28291.029296875,
          28881.16796875,
          29635.279296875,
          30229.833984375,
          30346.818359375,
          29799.5234375,
          28593.8671875,
          26872.126953125,
          24969.041015625,
          23289.03125,
          22197.357421875,
          21954.8828125,
          22636.126953125,
          24105.359375,
          26054.837890625,
          28103.322265625,
          29830.966796875,
          30995.447265625,
          31457.447265625,
          31267.521484375,
          30637.455078125,
          29858.326171875,
          29238.333984375
         ]
        },
        {
         "mode": "markers",
         "type": "scatter",
         "x": [
          "2017-03-04T17:00:00+01:00",
          "2017-03-04T18:00:00+01:00",
          "2017-03-04T19:00:00+01:00",
          "2017-03-04T20:00:00+01:00",
          "2017-03-04T21:00:00+01:00",
          "2017-03-04T22:00:00+01:00",
          "2017-03-04T23:00:00+01:00",
          "2017-03-05T00:00:00+01:00",
          "2017-03-05T01:00:00+01:00",
          "2017-03-05T02:00:00+01:00",
          "2017-03-05T03:00:00+01:00",
          "2017-03-05T04:00:00+01:00",
          "2017-03-05T05:00:00+01:00",
          "2017-03-05T06:00:00+01:00",
          "2017-03-05T07:00:00+01:00",
          "2017-03-05T08:00:00+01:00",
          "2017-03-05T09:00:00+01:00",
          "2017-03-05T10:00:00+01:00",
          "2017-03-05T11:00:00+01:00",
          "2017-03-05T12:00:00+01:00",
          "2017-03-05T13:00:00+01:00",
          "2017-03-05T14:00:00+01:00",
          "2017-03-05T15:00:00+01:00",
          "2017-03-05T16:00:00+01:00"
         ],
         "y": [
          28470.19140625,
          29000.654296875,
          29727.314453125,
          30332.875,
          30501.111328125,
          30003.33203125,
          28797.865234375,
          27066.2734375,
          25103.080078125,
          23323.275390625,
          22126.84375,
          21786.30859375,
          22403.453125,
          23869.640625,
          25874.0234375,
          28003.04296875,
          29855.208984375,
          31083.171875,
          31575.2734375,
          31374.001953125,
          30681.19921875,
          29820.41015625,
          29097.669921875,
          28762.36328125
         ]
        },
        {
         "mode": "markers",
         "type": "scatter",
         "x": [
          "2017-03-04T18:00:00+01:00",
          "2017-03-04T19:00:00+01:00",
          "2017-03-04T20:00:00+01:00",
          "2017-03-04T21:00:00+01:00",
          "2017-03-04T22:00:00+01:00",
          "2017-03-04T23:00:00+01:00",
          "2017-03-05T00:00:00+01:00",
          "2017-03-05T01:00:00+01:00",
          "2017-03-05T02:00:00+01:00",
          "2017-03-05T03:00:00+01:00",
          "2017-03-05T04:00:00+01:00",
          "2017-03-05T05:00:00+01:00",
          "2017-03-05T06:00:00+01:00",
          "2017-03-05T07:00:00+01:00",
          "2017-03-05T08:00:00+01:00",
          "2017-03-05T09:00:00+01:00",
          "2017-03-05T10:00:00+01:00",
          "2017-03-05T11:00:00+01:00",
          "2017-03-05T12:00:00+01:00",
          "2017-03-05T13:00:00+01:00",
          "2017-03-05T14:00:00+01:00",
          "2017-03-05T15:00:00+01:00",
          "2017-03-05T16:00:00+01:00",
          "2017-03-05T17:00:00+01:00"
         ],
         "y": [
          29721.1875,
          30359.3515625,
          30852.046875,
          30886.505859375,
          30268.83984375,
          28960.005859375,
          27110.08203125,
          25064.525390625,
          23215.33984375,
          21963.357421875,
          21590.357421875,
          22187.09765625,
          23641.634765625,
          25665.248046875,
          27836.796875,
          29734.75,
          31044.04296875,
          31588.060546875,
          31416.953125,
          30746.400390625,
          29883,
          29163.89453125,
          28815.646484375,
          28937.279296875
         ]
        },
        {
         "mode": "markers",
         "type": "scatter",
         "x": [
          "2017-03-04T19:00:00+01:00",
          "2017-03-04T20:00:00+01:00",
          "2017-03-04T21:00:00+01:00",
          "2017-03-04T22:00:00+01:00",
          "2017-03-04T23:00:00+01:00",
          "2017-03-05T00:00:00+01:00",
          "2017-03-05T01:00:00+01:00",
          "2017-03-05T02:00:00+01:00",
          "2017-03-05T03:00:00+01:00",
          "2017-03-05T04:00:00+01:00",
          "2017-03-05T05:00:00+01:00",
          "2017-03-05T06:00:00+01:00",
          "2017-03-05T07:00:00+01:00",
          "2017-03-05T08:00:00+01:00",
          "2017-03-05T09:00:00+01:00",
          "2017-03-05T10:00:00+01:00",
          "2017-03-05T11:00:00+01:00",
          "2017-03-05T12:00:00+01:00",
          "2017-03-05T13:00:00+01:00",
          "2017-03-05T14:00:00+01:00",
          "2017-03-05T15:00:00+01:00",
          "2017-03-05T16:00:00+01:00",
          "2017-03-05T17:00:00+01:00",
          "2017-03-05T18:00:00+01:00"
         ],
         "y": [
          30500.6171875,
          30906.09375,
          30865.2265625,
          30172.5,
          28825.294921875,
          26985.009765625,
          24954.533203125,
          23148.939453125,
          21944.513671875,
          21618.68359375,
          22252.482421875,
          23725.890625,
          25743.056640625,
          27904.77734375,
          29794.634765625,
          31095.779296875,
          31661.296875,
          31517.982421875,
          30857.896484375,
          29994.0078125,
          29246.92578125,
          28862.744140625,
          28923.1328125,
          29354.271484375
         ]
        },
        {
         "mode": "markers",
         "type": "scatter",
         "x": [
          "2017-03-04T20:00:00+01:00",
          "2017-03-04T21:00:00+01:00",
          "2017-03-04T22:00:00+01:00",
          "2017-03-04T23:00:00+01:00",
          "2017-03-05T00:00:00+01:00",
          "2017-03-05T01:00:00+01:00",
          "2017-03-05T02:00:00+01:00",
          "2017-03-05T03:00:00+01:00",
          "2017-03-05T04:00:00+01:00",
          "2017-03-05T05:00:00+01:00",
          "2017-03-05T06:00:00+01:00",
          "2017-03-05T07:00:00+01:00",
          "2017-03-05T08:00:00+01:00",
          "2017-03-05T09:00:00+01:00",
          "2017-03-05T10:00:00+01:00",
          "2017-03-05T11:00:00+01:00",
          "2017-03-05T12:00:00+01:00",
          "2017-03-05T13:00:00+01:00",
          "2017-03-05T14:00:00+01:00",
          "2017-03-05T15:00:00+01:00",
          "2017-03-05T16:00:00+01:00",
          "2017-03-05T17:00:00+01:00",
          "2017-03-05T18:00:00+01:00",
          "2017-03-05T19:00:00+01:00"
         ],
         "y": [
          30702.37109375,
          30675.41796875,
          30031.953125,
          28721.154296875,
          26926.09375,
          24957.53515625,
          23185.177734375,
          21996.3359375,
          21662.931640625,
          22288.693359375,
          23751.30859375,
          25762.62890625,
          27926.95703125,
          29833.94140625,
          31162.259765625,
          31754.203125,
          31640.541015625,
          31015.576171875,
          30146.376953125,
          29350.35546875,
          28888.091796875,
          28864.232421875,
          29213.16796875,
          29727.53125
         ]
        },
        {
         "mode": "markers",
         "type": "scatter",
         "x": [
          "2017-03-04T21:00:00+01:00",
          "2017-03-04T22:00:00+01:00",
          "2017-03-04T23:00:00+01:00",
          "2017-03-05T00:00:00+01:00",
          "2017-03-05T01:00:00+01:00",
          "2017-03-05T02:00:00+01:00",
          "2017-03-05T03:00:00+01:00",
          "2017-03-05T04:00:00+01:00",
          "2017-03-05T05:00:00+01:00",
          "2017-03-05T06:00:00+01:00",
          "2017-03-05T07:00:00+01:00",
          "2017-03-05T08:00:00+01:00",
          "2017-03-05T09:00:00+01:00",
          "2017-03-05T10:00:00+01:00",
          "2017-03-05T11:00:00+01:00",
          "2017-03-05T12:00:00+01:00",
          "2017-03-05T13:00:00+01:00",
          "2017-03-05T14:00:00+01:00",
          "2017-03-05T15:00:00+01:00",
          "2017-03-05T16:00:00+01:00",
          "2017-03-05T17:00:00+01:00",
          "2017-03-05T18:00:00+01:00",
          "2017-03-05T19:00:00+01:00",
          "2017-03-05T20:00:00+01:00"
         ],
         "y": [
          30264.93359375,
          29728.05078125,
          28587.048828125,
          26942.4921875,
          25100.970703125,
          23429.48046875,
          22256.880859375,
          21857.037109375,
          22344.83984375,
          23652.04296875,
          25516.21875,
          27574.8046875,
          29444.65234375,
          30810.8125,
          31500.56640625,
          31513.5234375,
          31010.697265625,
          30264.529296875,
          29520.61328125,
          29009.595703125,
          28881.044921875,
          29098.40625,
          29500.6484375,
          29830.1796875
         ]
        },
        {
         "mode": "markers",
         "type": "scatter",
         "x": [
          "2017-03-04T22:00:00+01:00",
          "2017-03-04T23:00:00+01:00",
          "2017-03-05T00:00:00+01:00",
          "2017-03-05T01:00:00+01:00",
          "2017-03-05T02:00:00+01:00",
          "2017-03-05T03:00:00+01:00",
          "2017-03-05T04:00:00+01:00",
          "2017-03-05T05:00:00+01:00",
          "2017-03-05T06:00:00+01:00",
          "2017-03-05T07:00:00+01:00",
          "2017-03-05T08:00:00+01:00",
          "2017-03-05T09:00:00+01:00",
          "2017-03-05T10:00:00+01:00",
          "2017-03-05T11:00:00+01:00",
          "2017-03-05T12:00:00+01:00",
          "2017-03-05T13:00:00+01:00",
          "2017-03-05T14:00:00+01:00",
          "2017-03-05T15:00:00+01:00",
          "2017-03-05T16:00:00+01:00",
          "2017-03-05T17:00:00+01:00",
          "2017-03-05T18:00:00+01:00",
          "2017-03-05T19:00:00+01:00",
          "2017-03-05T20:00:00+01:00",
          "2017-03-05T21:00:00+01:00"
         ],
         "y": [
          28988.27734375,
          28002.603515625,
          26603.078125,
          25001.751953125,
          23547.673828125,
          22568.955078125,
          22271.814453125,
          22760.080078125,
          23976.314453125,
          25711.021484375,
          27629.615234375,
          29384.92578125,
          30690.40234375,
          31389.021484375,
          31471.853515625,
          31067.39453125,
          30409.1953125,
          29762.798828125,
          29289.9140625,
          29085.296875,
          29170.654296875,
          29400.384765625,
          29586.013671875,
          29498.470703125
         ]
        },
        {
         "mode": "markers",
         "type": "scatter",
         "x": [
          "2017-03-04T23:00:00+01:00",
          "2017-03-05T00:00:00+01:00",
          "2017-03-05T01:00:00+01:00",
          "2017-03-05T02:00:00+01:00",
          "2017-03-05T03:00:00+01:00",
          "2017-03-05T04:00:00+01:00",
          "2017-03-05T05:00:00+01:00",
          "2017-03-05T06:00:00+01:00",
          "2017-03-05T07:00:00+01:00",
          "2017-03-05T08:00:00+01:00",
          "2017-03-05T09:00:00+01:00",
          "2017-03-05T10:00:00+01:00",
          "2017-03-05T11:00:00+01:00",
          "2017-03-05T12:00:00+01:00",
          "2017-03-05T13:00:00+01:00",
          "2017-03-05T14:00:00+01:00",
          "2017-03-05T15:00:00+01:00",
          "2017-03-05T16:00:00+01:00",
          "2017-03-05T17:00:00+01:00",
          "2017-03-05T18:00:00+01:00",
          "2017-03-05T19:00:00+01:00",
          "2017-03-05T20:00:00+01:00",
          "2017-03-05T21:00:00+01:00",
          "2017-03-05T22:00:00+01:00"
         ],
         "y": [
          27635.5625,
          26328.4609375,
          24837.103515625,
          23442.921875,
          22491.478515625,
          22234.875,
          22739.2890625,
          23945.89453125,
          25654.716796875,
          27562.677734375,
          29310.888671875,
          30615.28125,
          31308.564453125,
          31393.439453125,
          31001.2734375,
          30349.423828125,
          29699.00390625,
          29267.50390625,
          29110.193359375,
          29187.126953125,
          29409.61328125,
          29560.1875,
          29462.078125,
          28949.134765625
         ]
        },
        {
         "mode": "markers",
         "type": "scatter",
         "x": [
          "2017-03-05T00:00:00+01:00",
          "2017-03-05T01:00:00+01:00",
          "2017-03-05T02:00:00+01:00",
          "2017-03-05T03:00:00+01:00",
          "2017-03-05T04:00:00+01:00",
          "2017-03-05T05:00:00+01:00",
          "2017-03-05T06:00:00+01:00",
          "2017-03-05T07:00:00+01:00",
          "2017-03-05T08:00:00+01:00",
          "2017-03-05T09:00:00+01:00",
          "2017-03-05T10:00:00+01:00",
          "2017-03-05T11:00:00+01:00",
          "2017-03-05T12:00:00+01:00",
          "2017-03-05T13:00:00+01:00",
          "2017-03-05T14:00:00+01:00",
          "2017-03-05T15:00:00+01:00",
          "2017-03-05T16:00:00+01:00",
          "2017-03-05T17:00:00+01:00",
          "2017-03-05T18:00:00+01:00",
          "2017-03-05T19:00:00+01:00",
          "2017-03-05T20:00:00+01:00",
          "2017-03-05T21:00:00+01:00",
          "2017-03-05T22:00:00+01:00",
          "2017-03-05T23:00:00+01:00"
         ],
         "y": [
          26140.55859375,
          24727.423828125,
          23408.587890625,
          22463.298828125,
          22167.83203125,
          22648.369140625,
          23818.830078125,
          25484.072265625,
          27357.529296875,
          29120.837890625,
          30458.6796875,
          31207.119140625,
          31334.140625,
          30982.998046875,
          30368.4765625,
          29726.822265625,
          29275.708984375,
          29135.69921875,
          29234.556640625,
          29420.302734375,
          29546.033203125,
          29395.287109375,
          28872.146484375,
          27918.662109375
         ]
        },
        {
         "mode": "markers",
         "type": "scatter",
         "x": [
          "2017-03-05T01:00:00+01:00",
          "2017-03-05T02:00:00+01:00",
          "2017-03-05T03:00:00+01:00",
          "2017-03-05T04:00:00+01:00",
          "2017-03-05T05:00:00+01:00",
          "2017-03-05T06:00:00+01:00",
          "2017-03-05T07:00:00+01:00",
          "2017-03-05T08:00:00+01:00",
          "2017-03-05T09:00:00+01:00",
          "2017-03-05T10:00:00+01:00",
          "2017-03-05T11:00:00+01:00",
          "2017-03-05T12:00:00+01:00",
          "2017-03-05T13:00:00+01:00",
          "2017-03-05T14:00:00+01:00",
          "2017-03-05T15:00:00+01:00",
          "2017-03-05T16:00:00+01:00",
          "2017-03-05T17:00:00+01:00",
          "2017-03-05T18:00:00+01:00",
          "2017-03-05T19:00:00+01:00",
          "2017-03-05T20:00:00+01:00",
          "2017-03-05T21:00:00+01:00",
          "2017-03-05T22:00:00+01:00",
          "2017-03-05T23:00:00+01:00",
          "2017-03-06T00:00:00+01:00"
         ],
         "y": [
          24518.81640625,
          23263.287109375,
          22403.216796875,
          22145.478515625,
          22634.146484375,
          23834.59375,
          25508.10546875,
          27361.455078125,
          29083.154296875,
          30414.197265625,
          31147.1875,
          31277.02734375,
          30910.29296875,
          30299.4140625,
          29680.345703125,
          29241.595703125,
          29095.265625,
          29233.359375,
          29455.3671875,
          29535.416015625,
          29327.83203125,
          28690.58984375,
          27661.267578125,
          26321.833984375
         ]
        },
        {
         "mode": "markers",
         "type": "scatter",
         "x": [
          "2017-03-05T02:00:00+01:00",
          "2017-03-05T03:00:00+01:00",
          "2017-03-05T04:00:00+01:00",
          "2017-03-05T05:00:00+01:00",
          "2017-03-05T06:00:00+01:00",
          "2017-03-05T07:00:00+01:00",
          "2017-03-05T08:00:00+01:00",
          "2017-03-05T09:00:00+01:00",
          "2017-03-05T10:00:00+01:00",
          "2017-03-05T11:00:00+01:00",
          "2017-03-05T12:00:00+01:00",
          "2017-03-05T13:00:00+01:00",
          "2017-03-05T14:00:00+01:00",
          "2017-03-05T15:00:00+01:00",
          "2017-03-05T16:00:00+01:00",
          "2017-03-05T17:00:00+01:00",
          "2017-03-05T18:00:00+01:00",
          "2017-03-05T19:00:00+01:00",
          "2017-03-05T20:00:00+01:00",
          "2017-03-05T21:00:00+01:00",
          "2017-03-05T22:00:00+01:00",
          "2017-03-05T23:00:00+01:00",
          "2017-03-06T00:00:00+01:00",
          "2017-03-06T01:00:00+01:00"
         ],
         "y": [
          23203.93359375,
          22423.73828125,
          22267.962890625,
          22807.5703125,
          24014.419921875,
          25703.884765625,
          27536.775390625,
          29200.794921875,
          30442.86328125,
          31132.96875,
          31218.19140625,
          30845,
          30213.505859375,
          29608.07421875,
          29203.677734375,
          29078.646484375,
          29204.21875,
          29452.404296875,
          29546.580078125,
          29265.16015625,
          28536.23046875,
          27359.9453125,
          25922.443359375,
          24433.1796875
         ]
        },
        {
         "mode": "markers",
         "type": "scatter",
         "x": [
          "2017-03-05T03:00:00+01:00",
          "2017-03-05T04:00:00+01:00",
          "2017-03-05T05:00:00+01:00",
          "2017-03-05T06:00:00+01:00",
          "2017-03-05T07:00:00+01:00",
          "2017-03-05T08:00:00+01:00",
          "2017-03-05T09:00:00+01:00",
          "2017-03-05T10:00:00+01:00",
          "2017-03-05T11:00:00+01:00",
          "2017-03-05T12:00:00+01:00",
          "2017-03-05T13:00:00+01:00",
          "2017-03-05T14:00:00+01:00",
          "2017-03-05T15:00:00+01:00",
          "2017-03-05T16:00:00+01:00",
          "2017-03-05T17:00:00+01:00",
          "2017-03-05T18:00:00+01:00",
          "2017-03-05T19:00:00+01:00",
          "2017-03-05T20:00:00+01:00",
          "2017-03-05T21:00:00+01:00",
          "2017-03-05T22:00:00+01:00",
          "2017-03-05T23:00:00+01:00",
          "2017-03-06T00:00:00+01:00",
          "2017-03-06T01:00:00+01:00",
          "2017-03-06T02:00:00+01:00"
         ],
         "y": [
          22516.1796875,
          22388.119140625,
          22969.138671875,
          24186.669921875,
          25852.5703125,
          27688.58984375,
          29347.1796875,
          30572.462890625,
          31219.568359375,
          31302.43359375,
          30913.5703125,
          30287.86328125,
          29651.595703125,
          29232.830078125,
          29104,
          29221.705078125,
          29443.572265625,
          29571.916015625,
          29356.33984375,
          28650.359375,
          27480.29296875,
          25986.8671875,
          24447.56640625,
          23135.724609375
         ]
        },
        {
         "mode": "markers",
         "type": "scatter",
         "x": [
          "2017-03-05T04:00:00+01:00",
          "2017-03-05T05:00:00+01:00",
          "2017-03-05T06:00:00+01:00",
          "2017-03-05T07:00:00+01:00",
          "2017-03-05T08:00:00+01:00",
          "2017-03-05T09:00:00+01:00",
          "2017-03-05T10:00:00+01:00",
          "2017-03-05T11:00:00+01:00",
          "2017-03-05T12:00:00+01:00",
          "2017-03-05T13:00:00+01:00",
          "2017-03-05T14:00:00+01:00",
          "2017-03-05T15:00:00+01:00",
          "2017-03-05T16:00:00+01:00",
          "2017-03-05T17:00:00+01:00",
          "2017-03-05T18:00:00+01:00",
          "2017-03-05T19:00:00+01:00",
          "2017-03-05T20:00:00+01:00",
          "2017-03-05T21:00:00+01:00",
          "2017-03-05T22:00:00+01:00",
          "2017-03-05T23:00:00+01:00",
          "2017-03-06T00:00:00+01:00",
          "2017-03-06T01:00:00+01:00",
          "2017-03-06T02:00:00+01:00",
          "2017-03-06T03:00:00+01:00"
         ],
         "y": [
          22502.5625,
          23344.453125,
          24848.625,
          26763.154296875,
          28714.755859375,
          30367.96875,
          31462.15625,
          31884.59375,
          31674.814453125,
          31033.400390625,
          30223.228515625,
          29518.7734375,
          29115.66796875,
          29095.74609375,
          29360.41796875,
          29710.353515625,
          29896.5390625,
          29684.138671875,
          28952.974609375,
          27717.875,
          26140.60546875,
          24520.220703125,
          23184.734375,
          22423.482421875
         ]
        },
        {
         "mode": "markers",
         "type": "scatter",
         "x": [
          "2017-03-05T05:00:00+01:00",
          "2017-03-05T06:00:00+01:00",
          "2017-03-05T07:00:00+01:00",
          "2017-03-05T08:00:00+01:00",
          "2017-03-05T09:00:00+01:00",
          "2017-03-05T10:00:00+01:00",
          "2017-03-05T11:00:00+01:00",
          "2017-03-05T12:00:00+01:00",
          "2017-03-05T13:00:00+01:00",
          "2017-03-05T14:00:00+01:00",
          "2017-03-05T15:00:00+01:00",
          "2017-03-05T16:00:00+01:00",
          "2017-03-05T17:00:00+01:00",
          "2017-03-05T18:00:00+01:00",
          "2017-03-05T19:00:00+01:00",
          "2017-03-05T20:00:00+01:00",
          "2017-03-05T21:00:00+01:00",
          "2017-03-05T22:00:00+01:00",
          "2017-03-05T23:00:00+01:00",
          "2017-03-06T00:00:00+01:00",
          "2017-03-06T01:00:00+01:00",
          "2017-03-06T02:00:00+01:00",
          "2017-03-06T03:00:00+01:00",
          "2017-03-06T04:00:00+01:00"
         ],
         "y": [
          23513.259765625,
          25064.681640625,
          26976.57421875,
          28921.494140625,
          30509.515625,
          31493.90234375,
          31808.337890625,
          31529.068359375,
          30848.513671875,
          30052.044921875,
          29428.3125,
          29138.251953125,
          29232.0546875,
          29593.947265625,
          29986.251953125,
          30148.8984375,
          29863.958984375,
          28995.677734375,
          27646.1796875,
          26021.173828125,
          24395.220703125,
          23112.5078125,
          22428.677734375,
          22508.048828125
         ]
        },
        {
         "mode": "markers",
         "type": "scatter",
         "x": [
          "2017-03-05T06:00:00+01:00",
          "2017-03-05T07:00:00+01:00",
          "2017-03-05T08:00:00+01:00",
          "2017-03-05T09:00:00+01:00",
          "2017-03-05T10:00:00+01:00",
          "2017-03-05T11:00:00+01:00",
          "2017-03-05T12:00:00+01:00",
          "2017-03-05T13:00:00+01:00",
          "2017-03-05T14:00:00+01:00",
          "2017-03-05T15:00:00+01:00",
          "2017-03-05T16:00:00+01:00",
          "2017-03-05T17:00:00+01:00",
          "2017-03-05T18:00:00+01:00",
          "2017-03-05T19:00:00+01:00",
          "2017-03-05T20:00:00+01:00",
          "2017-03-05T21:00:00+01:00",
          "2017-03-05T22:00:00+01:00",
          "2017-03-05T23:00:00+01:00",
          "2017-03-06T00:00:00+01:00",
          "2017-03-06T01:00:00+01:00",
          "2017-03-06T02:00:00+01:00",
          "2017-03-06T03:00:00+01:00",
          "2017-03-06T04:00:00+01:00",
          "2017-03-06T05:00:00+01:00"
         ],
         "y": [
          24973.119140625,
          26858.353515625,
          28781.34375,
          30421.748046875,
          31465.365234375,
          31784.751953125,
          31488.84375,
          30787.548828125,
          29949.162109375,
          29257.732421875,
          28947.9453125,
          29050.12890625,
          29471.49609375,
          29959.525390625,
          30223.087890625,
          30022.951171875,
          29235.220703125,
          27852.552734375,
          26154.599609375,
          24469.72265625,
          23109.666015625,
          22376.29296875,
          22410.9765625,
          23224.568359375
         ]
        },
        {
         "mode": "markers",
         "type": "scatter",
         "x": [
          "2017-03-05T07:00:00+01:00",
          "2017-03-05T08:00:00+01:00",
          "2017-03-05T09:00:00+01:00",
          "2017-03-05T10:00:00+01:00",
          "2017-03-05T11:00:00+01:00",
          "2017-03-05T12:00:00+01:00",
          "2017-03-05T13:00:00+01:00",
          "2017-03-05T14:00:00+01:00",
          "2017-03-05T15:00:00+01:00",
          "2017-03-05T16:00:00+01:00",
          "2017-03-05T17:00:00+01:00",
          "2017-03-05T18:00:00+01:00",
          "2017-03-05T19:00:00+01:00",
          "2017-03-05T20:00:00+01:00",
          "2017-03-05T21:00:00+01:00",
          "2017-03-05T22:00:00+01:00",
          "2017-03-05T23:00:00+01:00",
          "2017-03-06T00:00:00+01:00",
          "2017-03-06T01:00:00+01:00",
          "2017-03-06T02:00:00+01:00",
          "2017-03-06T03:00:00+01:00",
          "2017-03-06T04:00:00+01:00",
          "2017-03-06T05:00:00+01:00",
          "2017-03-06T06:00:00+01:00"
         ],
         "y": [
          27036.66015625,
          28852.080078125,
          30364.84375,
          31356.994140625,
          31680.537109375,
          31364.81640625,
          30668.904296875,
          29865.236328125,
          29208.748046875,
          28888.177734375,
          29000.697265625,
          29425.357421875,
          29946.732421875,
          30242.056640625,
          30067.986328125,
          29306.03515625,
          27989.03125,
          26270.263671875,
          24544.3125,
          23188.62890625,
          22463.63671875,
          22529.8828125,
          23359.45703125,
          24788.703125
         ]
        },
        {
         "mode": "markers",
         "type": "scatter",
         "x": [
          "2017-03-05T08:00:00+01:00",
          "2017-03-05T09:00:00+01:00",
          "2017-03-05T10:00:00+01:00",
          "2017-03-05T11:00:00+01:00",
          "2017-03-05T12:00:00+01:00",
          "2017-03-05T13:00:00+01:00",
          "2017-03-05T14:00:00+01:00",
          "2017-03-05T15:00:00+01:00",
          "2017-03-05T16:00:00+01:00",
          "2017-03-05T17:00:00+01:00",
          "2017-03-05T18:00:00+01:00",
          "2017-03-05T19:00:00+01:00",
          "2017-03-05T20:00:00+01:00",
          "2017-03-05T21:00:00+01:00",
          "2017-03-05T22:00:00+01:00",
          "2017-03-05T23:00:00+01:00",
          "2017-03-06T00:00:00+01:00",
          "2017-03-06T01:00:00+01:00",
          "2017-03-06T02:00:00+01:00",
          "2017-03-06T03:00:00+01:00",
          "2017-03-06T04:00:00+01:00",
          "2017-03-06T05:00:00+01:00",
          "2017-03-06T06:00:00+01:00",
          "2017-03-06T07:00:00+01:00"
         ],
         "y": [
          28787.6953125,
          30291.04296875,
          31250.123046875,
          31587.244140625,
          31323.837890625,
          30621.451171875,
          29818.625,
          29178.5078125,
          28879.66796875,
          28977.31640625,
          29420.69140625,
          29969.345703125,
          30347.15625,
          30240.3515625,
          29515.78515625,
          28206.302734375,
          26501.357421875,
          24682.419921875,
          23188.421875,
          22370.068359375,
          22383.083984375,
          23215.6328125,
          24674.970703125,
          26462.255859375
         ]
        },
        {
         "mode": "markers",
         "type": "scatter",
         "x": [
          "2017-03-05T09:00:00+01:00",
          "2017-03-05T10:00:00+01:00",
          "2017-03-05T11:00:00+01:00",
          "2017-03-05T12:00:00+01:00",
          "2017-03-05T13:00:00+01:00",
          "2017-03-05T14:00:00+01:00",
          "2017-03-05T15:00:00+01:00",
          "2017-03-05T16:00:00+01:00",
          "2017-03-05T17:00:00+01:00",
          "2017-03-05T18:00:00+01:00",
          "2017-03-05T19:00:00+01:00",
          "2017-03-05T20:00:00+01:00",
          "2017-03-05T21:00:00+01:00",
          "2017-03-05T22:00:00+01:00",
          "2017-03-05T23:00:00+01:00",
          "2017-03-06T00:00:00+01:00",
          "2017-03-06T01:00:00+01:00",
          "2017-03-06T02:00:00+01:00",
          "2017-03-06T03:00:00+01:00",
          "2017-03-06T04:00:00+01:00",
          "2017-03-06T05:00:00+01:00",
          "2017-03-06T06:00:00+01:00",
          "2017-03-06T07:00:00+01:00",
          "2017-03-06T08:00:00+01:00"
         ],
         "y": [
          29907.96875,
          30983.224609375,
          31427.7421875,
          31292.787109375,
          30719.451171875,
          29933.794921875,
          29268.333984375,
          28918.3515625,
          28955.6640625,
          29314.123046875,
          29838.146484375,
          30241.861328125,
          30268.4921875,
          29687.08203125,
          28497.236328125,
          26859.216796875,
          25067.1796875,
          23454.37890625,
          22424.736328125,
          22235.263671875,
          22913.92578125,
          24300.162109375,
          26088.60546875,
          27921.376953125
         ]
        },
        {
         "mode": "markers",
         "type": "scatter",
         "x": [
          "2017-03-05T10:00:00+01:00",
          "2017-03-05T11:00:00+01:00",
          "2017-03-05T12:00:00+01:00",
          "2017-03-05T13:00:00+01:00",
          "2017-03-05T14:00:00+01:00",
          "2017-03-05T15:00:00+01:00",
          "2017-03-05T16:00:00+01:00",
          "2017-03-05T17:00:00+01:00",
          "2017-03-05T18:00:00+01:00",
          "2017-03-05T19:00:00+01:00",
          "2017-03-05T20:00:00+01:00",
          "2017-03-05T21:00:00+01:00",
          "2017-03-05T22:00:00+01:00",
          "2017-03-05T23:00:00+01:00",
          "2017-03-06T00:00:00+01:00",
          "2017-03-06T01:00:00+01:00",
          "2017-03-06T02:00:00+01:00",
          "2017-03-06T03:00:00+01:00",
          "2017-03-06T04:00:00+01:00",
          "2017-03-06T05:00:00+01:00",
          "2017-03-06T06:00:00+01:00",
          "2017-03-06T07:00:00+01:00",
          "2017-03-06T08:00:00+01:00",
          "2017-03-06T09:00:00+01:00"
         ],
         "y": [
          30719.669921875,
          31244.39453125,
          31181.8203125,
          30694.134765625,
          30012.490234375,
          29367.5703125,
          29002.662109375,
          28995.357421875,
          29289.33203125,
          29715.861328125,
          30049.765625,
          30040.1640625,
          29521.814453125,
          28414.505859375,
          26864.7578125,
          25135.775390625,
          23566.82421875,
          22473.822265625,
          22128.1875,
          22629.94140625,
          23873.775390625,
          25579.001953125,
          27397.07421875,
          28983.322265625
         ]
        },
        {
         "mode": "markers",
         "type": "scatter",
         "x": [
          "2017-03-05T11:00:00+01:00",
          "2017-03-05T12:00:00+01:00",
          "2017-03-05T13:00:00+01:00",
          "2017-03-05T14:00:00+01:00",
          "2017-03-05T15:00:00+01:00",
          "2017-03-05T16:00:00+01:00",
          "2017-03-05T17:00:00+01:00",
          "2017-03-05T18:00:00+01:00",
          "2017-03-05T19:00:00+01:00",
          "2017-03-05T20:00:00+01:00",
          "2017-03-05T21:00:00+01:00",
          "2017-03-05T22:00:00+01:00",
          "2017-03-05T23:00:00+01:00",
          "2017-03-06T00:00:00+01:00",
          "2017-03-06T01:00:00+01:00",
          "2017-03-06T02:00:00+01:00",
          "2017-03-06T03:00:00+01:00",
          "2017-03-06T04:00:00+01:00",
          "2017-03-06T05:00:00+01:00",
          "2017-03-06T06:00:00+01:00",
          "2017-03-06T07:00:00+01:00",
          "2017-03-06T08:00:00+01:00",
          "2017-03-06T09:00:00+01:00",
          "2017-03-06T10:00:00+01:00"
         ],
         "y": [
          31053.296875,
          31063.91796875,
          30628.30859375,
          29987.697265625,
          29404.806640625,
          29066.166015625,
          29078.78125,
          29386.69140625,
          29812.53515625,
          30124.94921875,
          30080.919921875,
          29517.595703125,
          28401.00390625,
          26821.939453125,
          25060.27734375,
          23443.669921875,
          22302.92578125,
          21879.927734375,
          22281.4765625,
          23428.259765625,
          25096.515625,
          26922.56640625,
          28567.271484375,
          29748.57421875
         ]
        },
        {
         "mode": "markers",
         "type": "scatter",
         "x": [
          "2017-03-05T12:00:00+01:00",
          "2017-03-05T13:00:00+01:00",
          "2017-03-05T14:00:00+01:00",
          "2017-03-05T15:00:00+01:00",
          "2017-03-05T16:00:00+01:00",
          "2017-03-05T17:00:00+01:00",
          "2017-03-05T18:00:00+01:00",
          "2017-03-05T19:00:00+01:00",
          "2017-03-05T20:00:00+01:00",
          "2017-03-05T21:00:00+01:00",
          "2017-03-05T22:00:00+01:00",
          "2017-03-05T23:00:00+01:00",
          "2017-03-06T00:00:00+01:00",
          "2017-03-06T01:00:00+01:00",
          "2017-03-06T02:00:00+01:00",
          "2017-03-06T03:00:00+01:00",
          "2017-03-06T04:00:00+01:00",
          "2017-03-06T05:00:00+01:00",
          "2017-03-06T06:00:00+01:00",
          "2017-03-06T07:00:00+01:00",
          "2017-03-06T08:00:00+01:00",
          "2017-03-06T09:00:00+01:00",
          "2017-03-06T10:00:00+01:00",
          "2017-03-06T11:00:00+01:00"
         ],
         "y": [
          30730.62890625,
          30402.52734375,
          29867.251953125,
          29369.306640625,
          29111.26953125,
          29169.26171875,
          29494.080078125,
          29916.05078125,
          30197.63671875,
          30127.04296875,
          29536.828125,
          28407.197265625,
          26854.09765625,
          25109.6640625,
          23512.90625,
          22370.1484375,
          21916.015625,
          22249.849609375,
          23297.412109375,
          24828.626953125,
          26563.916015625,
          28148.359375,
          29334.681640625,
          29970.83984375
         ]
        },
        {
         "mode": "markers",
         "type": "scatter",
         "x": [
          "2017-03-05T13:00:00+01:00",
          "2017-03-05T14:00:00+01:00",
          "2017-03-05T15:00:00+01:00",
          "2017-03-05T16:00:00+01:00",
          "2017-03-05T17:00:00+01:00",
          "2017-03-05T18:00:00+01:00",
          "2017-03-05T19:00:00+01:00",
          "2017-03-05T20:00:00+01:00",
          "2017-03-05T21:00:00+01:00",
          "2017-03-05T22:00:00+01:00",
          "2017-03-05T23:00:00+01:00",
          "2017-03-06T00:00:00+01:00",
          "2017-03-06T01:00:00+01:00",
          "2017-03-06T02:00:00+01:00",
          "2017-03-06T03:00:00+01:00",
          "2017-03-06T04:00:00+01:00",
          "2017-03-06T05:00:00+01:00",
          "2017-03-06T06:00:00+01:00",
          "2017-03-06T07:00:00+01:00",
          "2017-03-06T08:00:00+01:00",
          "2017-03-06T09:00:00+01:00",
          "2017-03-06T10:00:00+01:00",
          "2017-03-06T11:00:00+01:00",
          "2017-03-06T12:00:00+01:00"
         ],
         "y": [
          29969.361328125,
          29551.142578125,
          29191.80078125,
          29061.1015625,
          29234.044921875,
          29642.60546875,
          30096.6171875,
          30367.91015625,
          30232.419921875,
          29576.078125,
          28379.34765625,
          26785.076171875,
          25042.369140625,
          23467.123046875,
          22370.62890625,
          21956.451171875,
          22302.0234375,
          23327.615234375,
          24802.673828125,
          26403.87890625,
          27869.896484375,
          28939.55078125,
          29520.341796875,
          29620.150390625
         ]
        },
        {
         "mode": "markers",
         "type": "scatter",
         "x": [
          "2017-03-05T14:00:00+01:00",
          "2017-03-05T15:00:00+01:00",
          "2017-03-05T16:00:00+01:00",
          "2017-03-05T17:00:00+01:00",
          "2017-03-05T18:00:00+01:00",
          "2017-03-05T19:00:00+01:00",
          "2017-03-05T20:00:00+01:00",
          "2017-03-05T21:00:00+01:00",
          "2017-03-05T22:00:00+01:00",
          "2017-03-05T23:00:00+01:00",
          "2017-03-06T00:00:00+01:00",
          "2017-03-06T01:00:00+01:00",
          "2017-03-06T02:00:00+01:00",
          "2017-03-06T03:00:00+01:00",
          "2017-03-06T04:00:00+01:00",
          "2017-03-06T05:00:00+01:00",
          "2017-03-06T06:00:00+01:00",
          "2017-03-06T07:00:00+01:00",
          "2017-03-06T08:00:00+01:00",
          "2017-03-06T09:00:00+01:00",
          "2017-03-06T10:00:00+01:00",
          "2017-03-06T11:00:00+01:00",
          "2017-03-06T12:00:00+01:00",
          "2017-03-06T13:00:00+01:00"
         ],
         "y": [
          29131.779296875,
          28874.8515625,
          28873.0546875,
          29166.029296875,
          29674.240234375,
          30207.291015625,
          30497.5,
          30342.8125,
          29607.0390625,
          28330.271484375,
          26663.123046875,
          24880.359375,
          23303.18359375,
          22242.6171875,
          21896.962890625,
          22308.3359375,
          23376.818359375,
          24860.796875,
          26448.640625,
          27810.005859375,
          28771.037109375,
          29223.29296875,
          29242.01953125,
          28973.705078125
         ]
        },
        {
         "mode": "markers",
         "type": "scatter",
         "x": [
          "2017-03-05T15:00:00+01:00",
          "2017-03-05T16:00:00+01:00",
          "2017-03-05T17:00:00+01:00",
          "2017-03-05T18:00:00+01:00",
          "2017-03-05T19:00:00+01:00",
          "2017-03-05T20:00:00+01:00",
          "2017-03-05T21:00:00+01:00",
          "2017-03-05T22:00:00+01:00",
          "2017-03-05T23:00:00+01:00",
          "2017-03-06T00:00:00+01:00",
          "2017-03-06T01:00:00+01:00",
          "2017-03-06T02:00:00+01:00",
          "2017-03-06T03:00:00+01:00",
          "2017-03-06T04:00:00+01:00",
          "2017-03-06T05:00:00+01:00",
          "2017-03-06T06:00:00+01:00",
          "2017-03-06T07:00:00+01:00",
          "2017-03-06T08:00:00+01:00",
          "2017-03-06T09:00:00+01:00",
          "2017-03-06T10:00:00+01:00",
          "2017-03-06T11:00:00+01:00",
          "2017-03-06T12:00:00+01:00",
          "2017-03-06T13:00:00+01:00",
          "2017-03-06T14:00:00+01:00"
         ],
         "y": [
          28585.1640625,
          28681.423828125,
          29081.431640625,
          29670.138671875,
          30241.33203125,
          30548.736328125,
          30347.513671875,
          29551.994140625,
          28180.27734375,
          26443.1015625,
          24628.14453125,
          23068.0234375,
          22060.291015625,
          21809.126953125,
          22329.69921875,
          23478.953125,
          25005.818359375,
          26577.490234375,
          27896.580078125,
          28729.498046875,
          29046.671875,
          28921.607421875,
          28563.62890625,
          28197.58984375
         ]
        },
        {
         "mode": "markers",
         "type": "scatter",
         "x": [
          "2017-03-05T16:00:00+01:00",
          "2017-03-05T17:00:00+01:00",
          "2017-03-05T18:00:00+01:00",
          "2017-03-05T19:00:00+01:00",
          "2017-03-05T20:00:00+01:00",
          "2017-03-05T21:00:00+01:00",
          "2017-03-05T22:00:00+01:00",
          "2017-03-05T23:00:00+01:00",
          "2017-03-06T00:00:00+01:00",
          "2017-03-06T01:00:00+01:00",
          "2017-03-06T02:00:00+01:00",
          "2017-03-06T03:00:00+01:00",
          "2017-03-06T04:00:00+01:00",
          "2017-03-06T05:00:00+01:00",
          "2017-03-06T06:00:00+01:00",
          "2017-03-06T07:00:00+01:00",
          "2017-03-06T08:00:00+01:00",
          "2017-03-06T09:00:00+01:00",
          "2017-03-06T10:00:00+01:00",
          "2017-03-06T11:00:00+01:00",
          "2017-03-06T12:00:00+01:00",
          "2017-03-06T13:00:00+01:00",
          "2017-03-06T14:00:00+01:00",
          "2017-03-06T15:00:00+01:00"
         ],
         "y": [
          28486.33203125,
          28935.09765625,
          29591.990234375,
          30219.142578125,
          30557.744140625,
          30384.951171875,
          29556.369140625,
          28143.458984375,
          26326.564453125,
          24440.91796875,
          22835.853515625,
          21816.55078125,
          21578.482421875,
          22167.974609375,
          23412.2109375,
          25019.94921875,
          26658.740234375,
          27995.369140625,
          28814.19140625,
          29035.3203125,
          28778.822265625,
          28268.375,
          27779.640625,
          27540.9453125
         ]
        },
        {
         "mode": "markers",
         "type": "scatter",
         "x": [
          "2017-03-05T17:00:00+01:00",
          "2017-03-05T18:00:00+01:00",
          "2017-03-05T19:00:00+01:00",
          "2017-03-05T20:00:00+01:00",
          "2017-03-05T21:00:00+01:00",
          "2017-03-05T22:00:00+01:00",
          "2017-03-05T23:00:00+01:00",
          "2017-03-06T00:00:00+01:00",
          "2017-03-06T01:00:00+01:00",
          "2017-03-06T02:00:00+01:00",
          "2017-03-06T03:00:00+01:00",
          "2017-03-06T04:00:00+01:00",
          "2017-03-06T05:00:00+01:00",
          "2017-03-06T06:00:00+01:00",
          "2017-03-06T07:00:00+01:00",
          "2017-03-06T08:00:00+01:00",
          "2017-03-06T09:00:00+01:00",
          "2017-03-06T10:00:00+01:00",
          "2017-03-06T11:00:00+01:00",
          "2017-03-06T12:00:00+01:00",
          "2017-03-06T13:00:00+01:00",
          "2017-03-06T14:00:00+01:00",
          "2017-03-06T15:00:00+01:00",
          "2017-03-06T16:00:00+01:00"
         ],
         "y": [
          28766.705078125,
          29475.2578125,
          30186.783203125,
          30594.501953125,
          30464.021484375,
          29670.64453125,
          28217.54296875,
          26344.115234375,
          24366.921875,
          22681.82421875,
          21618.185546875,
          21376.140625,
          21990.865234375,
          23331.359375,
          25063.96875,
          26807.8828125,
          28227.16796875,
          29068.9921875,
          29250.66796875,
          28866.951171875,
          28172.83203125,
          27485.310546875,
          27079.330078125,
          27115.515625
         ]
        },
        {
         "mode": "markers",
         "type": "scatter",
         "x": [
          "2017-03-05T18:00:00+01:00",
          "2017-03-05T19:00:00+01:00",
          "2017-03-05T20:00:00+01:00",
          "2017-03-05T21:00:00+01:00",
          "2017-03-05T22:00:00+01:00",
          "2017-03-05T23:00:00+01:00",
          "2017-03-06T00:00:00+01:00",
          "2017-03-06T01:00:00+01:00",
          "2017-03-06T02:00:00+01:00",
          "2017-03-06T03:00:00+01:00",
          "2017-03-06T04:00:00+01:00",
          "2017-03-06T05:00:00+01:00",
          "2017-03-06T06:00:00+01:00",
          "2017-03-06T07:00:00+01:00",
          "2017-03-06T08:00:00+01:00",
          "2017-03-06T09:00:00+01:00",
          "2017-03-06T10:00:00+01:00",
          "2017-03-06T11:00:00+01:00",
          "2017-03-06T12:00:00+01:00",
          "2017-03-06T13:00:00+01:00",
          "2017-03-06T14:00:00+01:00",
          "2017-03-06T15:00:00+01:00",
          "2017-03-06T16:00:00+01:00",
          "2017-03-06T17:00:00+01:00"
         ],
         "y": [
          29404.251953125,
          30081.6640625,
          30483.609375,
          30340.24609375,
          29543.685546875,
          28138.0625,
          26283.21875,
          24338.7734375,
          22669.39453125,
          21622.2890625,
          21398.494140625,
          22022.654296875,
          23346.724609375,
          25097.787109375,
          26875.1484375,
          28320.57421875,
          29199.8828125,
          29418.04296875,
          29040.662109375,
          28296.1875,
          27505.65625,
          26966.888671875,
          26866.10546875,
          27225.0078125
         ]
        },
        {
         "mode": "markers",
         "type": "scatter",
         "x": [
          "2017-03-05T19:00:00+01:00",
          "2017-03-05T20:00:00+01:00",
          "2017-03-05T21:00:00+01:00",
          "2017-03-05T22:00:00+01:00",
          "2017-03-05T23:00:00+01:00",
          "2017-03-06T00:00:00+01:00",
          "2017-03-06T01:00:00+01:00",
          "2017-03-06T02:00:00+01:00",
          "2017-03-06T03:00:00+01:00",
          "2017-03-06T04:00:00+01:00",
          "2017-03-06T05:00:00+01:00",
          "2017-03-06T06:00:00+01:00",
          "2017-03-06T07:00:00+01:00",
          "2017-03-06T08:00:00+01:00",
          "2017-03-06T09:00:00+01:00",
          "2017-03-06T10:00:00+01:00",
          "2017-03-06T11:00:00+01:00",
          "2017-03-06T12:00:00+01:00",
          "2017-03-06T13:00:00+01:00",
          "2017-03-06T14:00:00+01:00",
          "2017-03-06T15:00:00+01:00",
          "2017-03-06T16:00:00+01:00",
          "2017-03-06T17:00:00+01:00",
          "2017-03-06T18:00:00+01:00"
         ],
         "y": [
          29880.302734375,
          30368.29296875,
          30373.8671875,
          29708.35546875,
          28402.609375,
          26641.74609375,
          24687.515625,
          22944.236328125,
          21757.515625,
          21380.14453125,
          21870.08203125,
          23102.462890625,
          24801.587890625,
          26625.060546875,
          28180.806640625,
          29188.37890625,
          29534.650390625,
          29269.474609375,
          28552.236328125,
          27675.92578125,
          26968.029296875,
          26659.58984375,
          26834.755859375,
          27395.25
         ]
        },
        {
         "mode": "markers",
         "type": "scatter",
         "x": [
          "2017-03-05T20:00:00+01:00",
          "2017-03-05T21:00:00+01:00",
          "2017-03-05T22:00:00+01:00",
          "2017-03-05T23:00:00+01:00",
          "2017-03-06T00:00:00+01:00",
          "2017-03-06T01:00:00+01:00",
          "2017-03-06T02:00:00+01:00",
          "2017-03-06T03:00:00+01:00",
          "2017-03-06T04:00:00+01:00",
          "2017-03-06T05:00:00+01:00",
          "2017-03-06T06:00:00+01:00",
          "2017-03-06T07:00:00+01:00",
          "2017-03-06T08:00:00+01:00",
          "2017-03-06T09:00:00+01:00",
          "2017-03-06T10:00:00+01:00",
          "2017-03-06T11:00:00+01:00",
          "2017-03-06T12:00:00+01:00",
          "2017-03-06T13:00:00+01:00",
          "2017-03-06T14:00:00+01:00",
          "2017-03-06T15:00:00+01:00",
          "2017-03-06T16:00:00+01:00",
          "2017-03-06T17:00:00+01:00",
          "2017-03-06T18:00:00+01:00",
          "2017-03-06T19:00:00+01:00"
         ],
         "y": [
          30080.216796875,
          30110.685546875,
          29473.59765625,
          28141.896484375,
          26336.654296875,
          24396.58984375,
          22662.474609375,
          21516.146484375,
          21198.3046875,
          21783.259765625,
          23124.248046875,
          24923.365234375,
          26798.0546875,
          28388.01171875,
          29398.181640625,
          29710.125,
          29394.853515625,
          28671.76171875,
          27785.0625,
          27035.720703125,
          26679.09375,
          26794.39453125,
          27305.978515625,
          27974.369140625
         ]
        },
        {
         "mode": "markers",
         "type": "scatter",
         "x": [
          "2017-03-05T21:00:00+01:00",
          "2017-03-05T22:00:00+01:00",
          "2017-03-05T23:00:00+01:00",
          "2017-03-06T00:00:00+01:00",
          "2017-03-06T01:00:00+01:00",
          "2017-03-06T02:00:00+01:00",
          "2017-03-06T03:00:00+01:00",
          "2017-03-06T04:00:00+01:00",
          "2017-03-06T05:00:00+01:00",
          "2017-03-06T06:00:00+01:00",
          "2017-03-06T07:00:00+01:00",
          "2017-03-06T08:00:00+01:00",
          "2017-03-06T09:00:00+01:00",
          "2017-03-06T10:00:00+01:00",
          "2017-03-06T11:00:00+01:00",
          "2017-03-06T12:00:00+01:00",
          "2017-03-06T13:00:00+01:00",
          "2017-03-06T14:00:00+01:00",
          "2017-03-06T15:00:00+01:00",
          "2017-03-06T16:00:00+01:00",
          "2017-03-06T17:00:00+01:00",
          "2017-03-06T18:00:00+01:00",
          "2017-03-06T19:00:00+01:00",
          "2017-03-06T20:00:00+01:00"
         ],
         "y": [
          29622.69140625,
          29048.939453125,
          27811.42578125,
          26059.025390625,
          24154.29296875,
          22503.361328125,
          21416.69140625,
          21151.09375,
          21770.978515625,
          23154.494140625,
          24990.474609375,
          26893.37890625,
          28486.287109375,
          29505.5078125,
          29826.28125,
          29511.0390625,
          28783.087890625,
          27951.7734375,
          27250.546875,
          26885.119140625,
          26972.228515625,
          27419.640625,
          28030.26953125,
          28499.251953125
         ]
        },
        {
         "mode": "markers",
         "type": "scatter",
         "x": [
          "2017-03-05T22:00:00+01:00",
          "2017-03-05T23:00:00+01:00",
          "2017-03-06T00:00:00+01:00",
          "2017-03-06T01:00:00+01:00",
          "2017-03-06T02:00:00+01:00",
          "2017-03-06T03:00:00+01:00",
          "2017-03-06T04:00:00+01:00",
          "2017-03-06T05:00:00+01:00",
          "2017-03-06T06:00:00+01:00",
          "2017-03-06T07:00:00+01:00",
          "2017-03-06T08:00:00+01:00",
          "2017-03-06T09:00:00+01:00",
          "2017-03-06T10:00:00+01:00",
          "2017-03-06T11:00:00+01:00",
          "2017-03-06T12:00:00+01:00",
          "2017-03-06T13:00:00+01:00",
          "2017-03-06T14:00:00+01:00",
          "2017-03-06T15:00:00+01:00",
          "2017-03-06T16:00:00+01:00",
          "2017-03-06T17:00:00+01:00",
          "2017-03-06T18:00:00+01:00",
          "2017-03-06T19:00:00+01:00",
          "2017-03-06T20:00:00+01:00",
          "2017-03-06T21:00:00+01:00"
         ],
         "y": [
          28497.203125,
          27350.4765625,
          25729.15234375,
          23920.283203125,
          22344.541015625,
          21374.18359375,
          21191.748046875,
          21864.58203125,
          23263.06640625,
          25105.2265625,
          26993.283203125,
          28559.44140625,
          29533.615234375,
          29827.72265625,
          29507.744140625,
          28784.8515625,
          27964.826171875,
          27348.787109375,
          27071.197265625,
          27175.14453125,
          27620.158203125,
          28175.486328125,
          28598.552734375,
          28611.107421875
         ]
        },
        {
         "mode": "markers",
         "type": "scatter",
         "x": [
          "2017-03-05T23:00:00+01:00",
          "2017-03-06T00:00:00+01:00",
          "2017-03-06T01:00:00+01:00",
          "2017-03-06T02:00:00+01:00",
          "2017-03-06T03:00:00+01:00",
          "2017-03-06T04:00:00+01:00",
          "2017-03-06T05:00:00+01:00",
          "2017-03-06T06:00:00+01:00",
          "2017-03-06T07:00:00+01:00",
          "2017-03-06T08:00:00+01:00",
          "2017-03-06T09:00:00+01:00",
          "2017-03-06T10:00:00+01:00",
          "2017-03-06T11:00:00+01:00",
          "2017-03-06T12:00:00+01:00",
          "2017-03-06T13:00:00+01:00",
          "2017-03-06T14:00:00+01:00",
          "2017-03-06T15:00:00+01:00",
          "2017-03-06T16:00:00+01:00",
          "2017-03-06T17:00:00+01:00",
          "2017-03-06T18:00:00+01:00",
          "2017-03-06T19:00:00+01:00",
          "2017-03-06T20:00:00+01:00",
          "2017-03-06T21:00:00+01:00",
          "2017-03-06T22:00:00+01:00"
         ],
         "y": [
          26966.6015625,
          25503.162109375,
          23854.66015625,
          22360.466796875,
          21406.330078125,
          21251.107421875,
          21907.46875,
          23265.958984375,
          25057.201171875,
          26930.697265625,
          28494.89453125,
          29485.810546875,
          29785.177734375,
          29481.525390625,
          28777.65625,
          27952.419921875,
          27303.732421875,
          27047.447265625,
          27177.28125,
          27581.6953125,
          28113.33203125,
          28487.79296875,
          28507.1484375,
          27991.599609375
         ]
        },
        {
         "mode": "markers",
         "type": "scatter",
         "x": [
          "2017-03-06T00:00:00+01:00",
          "2017-03-06T01:00:00+01:00",
          "2017-03-06T02:00:00+01:00",
          "2017-03-06T03:00:00+01:00",
          "2017-03-06T04:00:00+01:00",
          "2017-03-06T05:00:00+01:00",
          "2017-03-06T06:00:00+01:00",
          "2017-03-06T07:00:00+01:00",
          "2017-03-06T08:00:00+01:00",
          "2017-03-06T09:00:00+01:00",
          "2017-03-06T10:00:00+01:00",
          "2017-03-06T11:00:00+01:00",
          "2017-03-06T12:00:00+01:00",
          "2017-03-06T13:00:00+01:00",
          "2017-03-06T14:00:00+01:00",
          "2017-03-06T15:00:00+01:00",
          "2017-03-06T16:00:00+01:00",
          "2017-03-06T17:00:00+01:00",
          "2017-03-06T18:00:00+01:00",
          "2017-03-06T19:00:00+01:00",
          "2017-03-06T20:00:00+01:00",
          "2017-03-06T21:00:00+01:00",
          "2017-03-06T22:00:00+01:00",
          "2017-03-06T23:00:00+01:00"
         ],
         "y": [
          25646.46484375,
          24243.701171875,
          22865.974609375,
          21812.763671875,
          21392.658203125,
          21756.861328125,
          22810.49609375,
          24370.349609375,
          26137.587890625,
          27789.1796875,
          28993.640625,
          29588.224609375,
          29548.919921875,
          29043.671875,
          28298.755859375,
          27571.244140625,
          27099.396484375,
          27015.560546875,
          27226.8828125,
          27563.900390625,
          27874.951171875,
          27914.5859375,
          27575.154296875,
          26765.556640625
         ]
        },
        {
         "mode": "markers",
         "type": "scatter",
         "x": [
          "2017-03-06T01:00:00+01:00",
          "2017-03-06T02:00:00+01:00",
          "2017-03-06T03:00:00+01:00",
          "2017-03-06T04:00:00+01:00",
          "2017-03-06T05:00:00+01:00",
          "2017-03-06T06:00:00+01:00",
          "2017-03-06T07:00:00+01:00",
          "2017-03-06T08:00:00+01:00",
          "2017-03-06T09:00:00+01:00",
          "2017-03-06T10:00:00+01:00",
          "2017-03-06T11:00:00+01:00",
          "2017-03-06T12:00:00+01:00",
          "2017-03-06T13:00:00+01:00",
          "2017-03-06T14:00:00+01:00",
          "2017-03-06T15:00:00+01:00",
          "2017-03-06T16:00:00+01:00",
          "2017-03-06T17:00:00+01:00",
          "2017-03-06T18:00:00+01:00",
          "2017-03-06T19:00:00+01:00",
          "2017-03-06T20:00:00+01:00",
          "2017-03-06T21:00:00+01:00",
          "2017-03-06T22:00:00+01:00",
          "2017-03-06T23:00:00+01:00",
          "2017-03-07T00:00:00+01:00"
         ],
         "y": [
          23998.541015625,
          22774.0390625,
          21894.525390625,
          21573.896484375,
          21971.53125,
          23062.6015625,
          24595.73828125,
          26290.15625,
          27832.38671875,
          28974.916015625,
          29512.970703125,
          29458.599609375,
          28934.00390625,
          28214.27734375,
          27538.568359375,
          27099.783203125,
          27013.490234375,
          27266.775390625,
          27630.546875,
          27859.591796875,
          27808.396484375,
          27319.412109375,
          26433.33984375,
          25212.52734375
         ]
        },
        {
         "mode": "markers",
         "type": "scatter",
         "x": [
          "2017-03-06T02:00:00+01:00",
          "2017-03-06T03:00:00+01:00",
          "2017-03-06T04:00:00+01:00",
          "2017-03-06T05:00:00+01:00",
          "2017-03-06T06:00:00+01:00",
          "2017-03-06T07:00:00+01:00",
          "2017-03-06T08:00:00+01:00",
          "2017-03-06T09:00:00+01:00",
          "2017-03-06T10:00:00+01:00",
          "2017-03-06T11:00:00+01:00",
          "2017-03-06T12:00:00+01:00",
          "2017-03-06T13:00:00+01:00",
          "2017-03-06T14:00:00+01:00",
          "2017-03-06T15:00:00+01:00",
          "2017-03-06T16:00:00+01:00",
          "2017-03-06T17:00:00+01:00",
          "2017-03-06T18:00:00+01:00",
          "2017-03-06T19:00:00+01:00",
          "2017-03-06T20:00:00+01:00",
          "2017-03-06T21:00:00+01:00",
          "2017-03-06T22:00:00+01:00",
          "2017-03-06T23:00:00+01:00",
          "2017-03-07T00:00:00+01:00",
          "2017-03-07T01:00:00+01:00"
         ],
         "y": [
          22746.396484375,
          21887.22265625,
          21613.3125,
          22014.73828125,
          23085.744140625,
          24646.46484375,
          26345.005859375,
          27870.44140625,
          28959.744140625,
          29484.693359375,
          29394.541015625,
          28854.947265625,
          28088.9140625,
          27409.48046875,
          27003.876953125,
          26957.212890625,
          27242.19140625,
          27716.283203125,
          28061.919921875,
          28023.1796875,
          27509.931640625,
          26496.427734375,
          25168.5078125,
          23724.228515625
         ]
        },
        {
         "mode": "markers",
         "type": "scatter",
         "x": [
          "2017-03-06T03:00:00+01:00",
          "2017-03-06T04:00:00+01:00",
          "2017-03-06T05:00:00+01:00",
          "2017-03-06T06:00:00+01:00",
          "2017-03-06T07:00:00+01:00",
          "2017-03-06T08:00:00+01:00",
          "2017-03-06T09:00:00+01:00",
          "2017-03-06T10:00:00+01:00",
          "2017-03-06T11:00:00+01:00",
          "2017-03-06T12:00:00+01:00",
          "2017-03-06T13:00:00+01:00",
          "2017-03-06T14:00:00+01:00",
          "2017-03-06T15:00:00+01:00",
          "2017-03-06T16:00:00+01:00",
          "2017-03-06T17:00:00+01:00",
          "2017-03-06T18:00:00+01:00",
          "2017-03-06T19:00:00+01:00",
          "2017-03-06T20:00:00+01:00",
          "2017-03-06T21:00:00+01:00",
          "2017-03-06T22:00:00+01:00",
          "2017-03-06T23:00:00+01:00",
          "2017-03-07T00:00:00+01:00",
          "2017-03-07T01:00:00+01:00",
          "2017-03-07T02:00:00+01:00"
         ],
         "y": [
          21784.306640625,
          21553.419921875,
          22045.166015625,
          23188.8984375,
          24798.982421875,
          26573.541015625,
          28131.384765625,
          29209.29296875,
          29658.150390625,
          29511.109375,
          28885.203125,
          28064.041015625,
          27312.259765625,
          26894.748046875,
          26882.984375,
          27219.34375,
          27730.705078125,
          28177.8984375,
          28237.6796875,
          27724.029296875,
          26654.669921875,
          25170.884765625,
          23586.134765625,
          22194.419921875
         ]
        },
        {
         "mode": "markers",
         "type": "scatter",
         "x": [
          "2017-03-06T04:00:00+01:00",
          "2017-03-06T05:00:00+01:00",
          "2017-03-06T06:00:00+01:00",
          "2017-03-06T07:00:00+01:00",
          "2017-03-06T08:00:00+01:00",
          "2017-03-06T09:00:00+01:00",
          "2017-03-06T10:00:00+01:00",
          "2017-03-06T11:00:00+01:00",
          "2017-03-06T12:00:00+01:00",
          "2017-03-06T13:00:00+01:00",
          "2017-03-06T14:00:00+01:00",
          "2017-03-06T15:00:00+01:00",
          "2017-03-06T16:00:00+01:00",
          "2017-03-06T17:00:00+01:00",
          "2017-03-06T18:00:00+01:00",
          "2017-03-06T19:00:00+01:00",
          "2017-03-06T20:00:00+01:00",
          "2017-03-06T21:00:00+01:00",
          "2017-03-06T22:00:00+01:00",
          "2017-03-06T23:00:00+01:00",
          "2017-03-07T00:00:00+01:00",
          "2017-03-07T01:00:00+01:00",
          "2017-03-07T02:00:00+01:00",
          "2017-03-07T03:00:00+01:00"
         ],
         "y": [
          21567.21484375,
          22119.8359375,
          23322.537109375,
          24965.6171875,
          26734.14453125,
          28303.2578125,
          29376.51171875,
          29822.77734375,
          29641.7890625,
          29014.39453125,
          28171.1640625,
          27408.962890625,
          26942.376953125,
          26894.88671875,
          27193.484375,
          27659.31640625,
          28045.091796875,
          28104.30078125,
          27641.490234375,
          26618.53515625,
          25178.513671875,
          23589.67578125,
          22198.728515625,
          21290.177734375
         ]
        },
        {
         "mode": "markers",
         "type": "scatter",
         "x": [
          "2017-03-06T05:00:00+01:00",
          "2017-03-06T06:00:00+01:00",
          "2017-03-06T07:00:00+01:00",
          "2017-03-06T08:00:00+01:00",
          "2017-03-06T09:00:00+01:00",
          "2017-03-06T10:00:00+01:00",
          "2017-03-06T11:00:00+01:00",
          "2017-03-06T12:00:00+01:00",
          "2017-03-06T13:00:00+01:00",
          "2017-03-06T14:00:00+01:00",
          "2017-03-06T15:00:00+01:00",
          "2017-03-06T16:00:00+01:00",
          "2017-03-06T17:00:00+01:00",
          "2017-03-06T18:00:00+01:00",
          "2017-03-06T19:00:00+01:00",
          "2017-03-06T20:00:00+01:00",
          "2017-03-06T21:00:00+01:00",
          "2017-03-06T22:00:00+01:00",
          "2017-03-06T23:00:00+01:00",
          "2017-03-07T00:00:00+01:00",
          "2017-03-07T01:00:00+01:00",
          "2017-03-07T02:00:00+01:00",
          "2017-03-07T03:00:00+01:00",
          "2017-03-07T04:00:00+01:00"
         ],
         "y": [
          22034.048828125,
          23291.36328125,
          24955.85546875,
          26735.263671875,
          28267.97265625,
          29296.236328125,
          29693.234375,
          29504.392578125,
          28875.44140625,
          28081.666015625,
          27394.88671875,
          27018.94140625,
          27043.248046875,
          27399.8671875,
          27877.08984375,
          28223.056640625,
          28202.884765625,
          27644.20703125,
          26567.796875,
          25119.09375,
          23553.966796875,
          22198.61328125,
          21341.541015625,
          21167.708984375
         ]
        },
        {
         "mode": "markers",
         "type": "scatter",
         "x": [
          "2017-03-06T06:00:00+01:00",
          "2017-03-06T07:00:00+01:00",
          "2017-03-06T08:00:00+01:00",
          "2017-03-06T09:00:00+01:00",
          "2017-03-06T10:00:00+01:00",
          "2017-03-06T11:00:00+01:00",
          "2017-03-06T12:00:00+01:00",
          "2017-03-06T13:00:00+01:00",
          "2017-03-06T14:00:00+01:00",
          "2017-03-06T15:00:00+01:00",
          "2017-03-06T16:00:00+01:00",
          "2017-03-06T17:00:00+01:00",
          "2017-03-06T18:00:00+01:00",
          "2017-03-06T19:00:00+01:00",
          "2017-03-06T20:00:00+01:00",
          "2017-03-06T21:00:00+01:00",
          "2017-03-06T22:00:00+01:00",
          "2017-03-06T23:00:00+01:00",
          "2017-03-07T00:00:00+01:00",
          "2017-03-07T01:00:00+01:00",
          "2017-03-07T02:00:00+01:00",
          "2017-03-07T03:00:00+01:00",
          "2017-03-07T04:00:00+01:00",
          "2017-03-07T05:00:00+01:00"
         ],
         "y": [
          23478.58984375,
          25232.34375,
          27027.02734375,
          28556.810546875,
          29514.62890625,
          29767.28515625,
          29407.080078125,
          28654.025390625,
          27767.39453125,
          27046.09375,
          26728.091796875,
          26863.923828125,
          27370.61328125,
          27991.25390625,
          28423.58203125,
          28413.162109375,
          27816.517578125,
          26601.66015625,
          25026.7421875,
          23405.328125,
          22059.056640625,
          21289.25,
          21251.8359375,
          21962.904296875
         ]
        },
        {
         "mode": "markers",
         "type": "scatter",
         "x": [
          "2017-03-06T07:00:00+01:00",
          "2017-03-06T08:00:00+01:00",
          "2017-03-06T09:00:00+01:00",
          "2017-03-06T10:00:00+01:00",
          "2017-03-06T11:00:00+01:00",
          "2017-03-06T12:00:00+01:00",
          "2017-03-06T13:00:00+01:00",
          "2017-03-06T14:00:00+01:00",
          "2017-03-06T15:00:00+01:00",
          "2017-03-06T16:00:00+01:00",
          "2017-03-06T17:00:00+01:00",
          "2017-03-06T18:00:00+01:00",
          "2017-03-06T19:00:00+01:00",
          "2017-03-06T20:00:00+01:00",
          "2017-03-06T21:00:00+01:00",
          "2017-03-06T22:00:00+01:00",
          "2017-03-06T23:00:00+01:00",
          "2017-03-07T00:00:00+01:00",
          "2017-03-07T01:00:00+01:00",
          "2017-03-07T02:00:00+01:00",
          "2017-03-07T03:00:00+01:00",
          "2017-03-07T04:00:00+01:00",
          "2017-03-07T05:00:00+01:00",
          "2017-03-07T06:00:00+01:00"
         ],
         "y": [
          25459.01953125,
          27174.90234375,
          28586.158203125,
          29485.5625,
          29724.060546875,
          29320.62109375,
          28534.328125,
          27658.677734375,
          26947.734375,
          26608.416015625,
          26749.37109375,
          27260.33203125,
          27926.583984375,
          28404.111328125,
          28431.1875,
          27867.99609375,
          26729.66015625,
          25145.603515625,
          23515.87109375,
          22213.904296875,
          21510.201171875,
          21564.970703125,
          22353.376953125,
          23713.25
         ]
        },
        {
         "mode": "markers",
         "type": "scatter",
         "x": [
          "2017-03-06T08:00:00+01:00",
          "2017-03-06T09:00:00+01:00",
          "2017-03-06T10:00:00+01:00",
          "2017-03-06T11:00:00+01:00",
          "2017-03-06T12:00:00+01:00",
          "2017-03-06T13:00:00+01:00",
          "2017-03-06T14:00:00+01:00",
          "2017-03-06T15:00:00+01:00",
          "2017-03-06T16:00:00+01:00",
          "2017-03-06T17:00:00+01:00",
          "2017-03-06T18:00:00+01:00",
          "2017-03-06T19:00:00+01:00",
          "2017-03-06T20:00:00+01:00",
          "2017-03-06T21:00:00+01:00",
          "2017-03-06T22:00:00+01:00",
          "2017-03-06T23:00:00+01:00",
          "2017-03-07T00:00:00+01:00",
          "2017-03-07T01:00:00+01:00",
          "2017-03-07T02:00:00+01:00",
          "2017-03-07T03:00:00+01:00",
          "2017-03-07T04:00:00+01:00",
          "2017-03-07T05:00:00+01:00",
          "2017-03-07T06:00:00+01:00",
          "2017-03-07T07:00:00+01:00"
         ],
         "y": [
          27464.17578125,
          28789.826171875,
          29531.962890625,
          29652.974609375,
          29201.91015625,
          28351.61328125,
          27461.3203125,
          26811.759765625,
          26562.5,
          26756.4921875,
          27327.15625,
          28015.994140625,
          28535.4765625,
          28548.65625,
          27929.474609375,
          26720.80078125,
          25129,
          23432.986328125,
          22097.474609375,
          21462.669921875,
          21663.296875,
          22647.076171875,
          24186.11328125,
          25956.755859375
         ]
        },
        {
         "mode": "markers",
         "type": "scatter",
         "x": [
          "2017-03-06T09:00:00+01:00",
          "2017-03-06T10:00:00+01:00",
          "2017-03-06T11:00:00+01:00",
          "2017-03-06T12:00:00+01:00",
          "2017-03-06T13:00:00+01:00",
          "2017-03-06T14:00:00+01:00",
          "2017-03-06T15:00:00+01:00",
          "2017-03-06T16:00:00+01:00",
          "2017-03-06T17:00:00+01:00",
          "2017-03-06T18:00:00+01:00",
          "2017-03-06T19:00:00+01:00",
          "2017-03-06T20:00:00+01:00",
          "2017-03-06T21:00:00+01:00",
          "2017-03-06T22:00:00+01:00",
          "2017-03-06T23:00:00+01:00",
          "2017-03-07T00:00:00+01:00",
          "2017-03-07T01:00:00+01:00",
          "2017-03-07T02:00:00+01:00",
          "2017-03-07T03:00:00+01:00",
          "2017-03-07T04:00:00+01:00",
          "2017-03-07T05:00:00+01:00",
          "2017-03-07T06:00:00+01:00",
          "2017-03-07T07:00:00+01:00",
          "2017-03-07T08:00:00+01:00"
         ],
         "y": [
          28784.12109375,
          29572.962890625,
          29681.498046875,
          29232.80859375,
          28419.69140625,
          27495.51953125,
          26811.599609375,
          26560.974609375,
          26767.126953125,
          27317.109375,
          28014.619140625,
          28539.87109375,
          28628.654296875,
          28048.310546875,
          26841.330078125,
          25211.392578125,
          23499.658203125,
          22047.0234375,
          21285.6171875,
          21436.322265625,
          22468.642578125,
          24139.998046875,
          26082.14453125,
          27895.015625
         ]
        },
        {
         "mode": "markers",
         "type": "scatter",
         "x": [
          "2017-03-06T10:00:00+01:00",
          "2017-03-06T11:00:00+01:00",
          "2017-03-06T12:00:00+01:00",
          "2017-03-06T13:00:00+01:00",
          "2017-03-06T14:00:00+01:00",
          "2017-03-06T15:00:00+01:00",
          "2017-03-06T16:00:00+01:00",
          "2017-03-06T17:00:00+01:00",
          "2017-03-06T18:00:00+01:00",
          "2017-03-06T19:00:00+01:00",
          "2017-03-06T20:00:00+01:00",
          "2017-03-06T21:00:00+01:00",
          "2017-03-06T22:00:00+01:00",
          "2017-03-06T23:00:00+01:00",
          "2017-03-07T00:00:00+01:00",
          "2017-03-07T01:00:00+01:00",
          "2017-03-07T02:00:00+01:00",
          "2017-03-07T03:00:00+01:00",
          "2017-03-07T04:00:00+01:00",
          "2017-03-07T05:00:00+01:00",
          "2017-03-07T06:00:00+01:00",
          "2017-03-07T07:00:00+01:00",
          "2017-03-07T08:00:00+01:00",
          "2017-03-07T09:00:00+01:00"
         ],
         "y": [
          29477.67578125,
          29692.658203125,
          29299.72265625,
          28537.71484375,
          27665.23828125,
          26932.3671875,
          26597.037109375,
          26724.97265625,
          27205.130859375,
          27819.662109375,
          28318.123046875,
          28420.37109375,
          27960.107421875,
          26864.833984375,
          25327.615234375,
          23654.78125,
          22228.623046875,
          21355.55859375,
          21345.48046875,
          22253.1796875,
          23895.287109375,
          25900.181640625,
          27855.669921875,
          29378.537109375
         ]
        },
        {
         "mode": "markers",
         "type": "scatter",
         "x": [
          "2017-03-06T11:00:00+01:00",
          "2017-03-06T12:00:00+01:00",
          "2017-03-06T13:00:00+01:00",
          "2017-03-06T14:00:00+01:00",
          "2017-03-06T15:00:00+01:00",
          "2017-03-06T16:00:00+01:00",
          "2017-03-06T17:00:00+01:00",
          "2017-03-06T18:00:00+01:00",
          "2017-03-06T19:00:00+01:00",
          "2017-03-06T20:00:00+01:00",
          "2017-03-06T21:00:00+01:00",
          "2017-03-06T22:00:00+01:00",
          "2017-03-06T23:00:00+01:00",
          "2017-03-07T00:00:00+01:00",
          "2017-03-07T01:00:00+01:00",
          "2017-03-07T02:00:00+01:00",
          "2017-03-07T03:00:00+01:00",
          "2017-03-07T04:00:00+01:00",
          "2017-03-07T05:00:00+01:00",
          "2017-03-07T06:00:00+01:00",
          "2017-03-07T07:00:00+01:00",
          "2017-03-07T08:00:00+01:00",
          "2017-03-07T09:00:00+01:00",
          "2017-03-07T10:00:00+01:00"
         ],
         "y": [
          29586.67578125,
          29331.20703125,
          28642.630859375,
          27819.572265625,
          27120.578125,
          26734.482421875,
          26781.392578125,
          27198.611328125,
          27770.21484375,
          28236.427734375,
          28354.291015625,
          27944.20703125,
          26970.93359375,
          25520.015625,
          23892.515625,
          22436.13671875,
          21498.248046875,
          21294.66015625,
          21973.671875,
          23426.095703125,
          25367.181640625,
          27368.5234375,
          29050.76171875,
          30111.427734375
         ]
        },
        {
         "mode": "markers",
         "type": "scatter",
         "x": [
          "2017-03-06T12:00:00+01:00",
          "2017-03-06T13:00:00+01:00",
          "2017-03-06T14:00:00+01:00",
          "2017-03-06T15:00:00+01:00",
          "2017-03-06T16:00:00+01:00",
          "2017-03-06T17:00:00+01:00",
          "2017-03-06T18:00:00+01:00",
          "2017-03-06T19:00:00+01:00",
          "2017-03-06T20:00:00+01:00",
          "2017-03-06T21:00:00+01:00",
          "2017-03-06T22:00:00+01:00",
          "2017-03-06T23:00:00+01:00",
          "2017-03-07T00:00:00+01:00",
          "2017-03-07T01:00:00+01:00",
          "2017-03-07T02:00:00+01:00",
          "2017-03-07T03:00:00+01:00",
          "2017-03-07T04:00:00+01:00",
          "2017-03-07T05:00:00+01:00",
          "2017-03-07T06:00:00+01:00",
          "2017-03-07T07:00:00+01:00",
          "2017-03-07T08:00:00+01:00",
          "2017-03-07T09:00:00+01:00",
          "2017-03-07T10:00:00+01:00",
          "2017-03-07T11:00:00+01:00"
         ],
         "y": [
          29110.94921875,
          28547.228515625,
          27814.013671875,
          27200.1015625,
          26887.673828125,
          26942.595703125,
          27322.28125,
          27850.4609375,
          28259.02734375,
          28320.509765625,
          27879.37890625,
          26909.345703125,
          25529.943359375,
          23962.15625,
          22554.201171875,
          21619.173828125,
          21391.341796875,
          21935.412109375,
          23213.744140625,
          24973.70703125,
          26888.080078125,
          28556.408203125,
          29705.791015625,
          30179.689453125
         ]
        },
        {
         "mode": "markers",
         "type": "scatter",
         "x": [
          "2017-03-06T13:00:00+01:00",
          "2017-03-06T14:00:00+01:00",
          "2017-03-06T15:00:00+01:00",
          "2017-03-06T16:00:00+01:00",
          "2017-03-06T17:00:00+01:00",
          "2017-03-06T18:00:00+01:00",
          "2017-03-06T19:00:00+01:00",
          "2017-03-06T20:00:00+01:00",
          "2017-03-06T21:00:00+01:00",
          "2017-03-06T22:00:00+01:00",
          "2017-03-06T23:00:00+01:00",
          "2017-03-07T00:00:00+01:00",
          "2017-03-07T01:00:00+01:00",
          "2017-03-07T02:00:00+01:00",
          "2017-03-07T03:00:00+01:00",
          "2017-03-07T04:00:00+01:00",
          "2017-03-07T05:00:00+01:00",
          "2017-03-07T06:00:00+01:00",
          "2017-03-07T07:00:00+01:00",
          "2017-03-07T08:00:00+01:00",
          "2017-03-07T09:00:00+01:00",
          "2017-03-07T10:00:00+01:00",
          "2017-03-07T11:00:00+01:00",
          "2017-03-07T12:00:00+01:00"
         ],
         "y": [
          28275.572265625,
          27653.197265625,
          27158.544921875,
          26987.89453125,
          27180.76171875,
          27638.62109375,
          28165.74609375,
          28523.314453125,
          28466.197265625,
          27878.802734375,
          26769.7265625,
          25293.958984375,
          23715.87890625,
          22342.0625,
          21484.404296875,
          21337.66796875,
          21958.9453125,
          23219.3828125,
          24907.318359375,
          26678.0625,
          28233.388671875,
          29289.638671875,
          29749.126953125,
          29638.232421875
         ]
        },
        {
         "mode": "markers",
         "type": "scatter",
         "x": [
          "2017-03-06T14:00:00+01:00",
          "2017-03-06T15:00:00+01:00",
          "2017-03-06T16:00:00+01:00",
          "2017-03-06T17:00:00+01:00",
          "2017-03-06T18:00:00+01:00",
          "2017-03-06T19:00:00+01:00",
          "2017-03-06T20:00:00+01:00",
          "2017-03-06T21:00:00+01:00",
          "2017-03-06T22:00:00+01:00",
          "2017-03-06T23:00:00+01:00",
          "2017-03-07T00:00:00+01:00",
          "2017-03-07T01:00:00+01:00",
          "2017-03-07T02:00:00+01:00",
          "2017-03-07T03:00:00+01:00",
          "2017-03-07T04:00:00+01:00",
          "2017-03-07T05:00:00+01:00",
          "2017-03-07T06:00:00+01:00",
          "2017-03-07T07:00:00+01:00",
          "2017-03-07T08:00:00+01:00",
          "2017-03-07T09:00:00+01:00",
          "2017-03-07T10:00:00+01:00",
          "2017-03-07T11:00:00+01:00",
          "2017-03-07T12:00:00+01:00",
          "2017-03-07T13:00:00+01:00"
         ],
         "y": [
          27357.69921875,
          26976.146484375,
          26926.46875,
          27250.5,
          27827.388671875,
          28425.421875,
          28771.6796875,
          28664.375,
          27964.798828125,
          26726.66796875,
          25136.720703125,
          23488.775390625,
          22114.001953125,
          21301.625,
          21231.6953125,
          21920.013671875,
          23233.57421875,
          24881.818359375,
          26567.4453125,
          27957.578125,
          28867.412109375,
          29194.8359375,
          29031.15234375,
          28553.611328125
         ]
        },
        {
         "mode": "markers",
         "type": "scatter",
         "x": [
          "2017-03-06T15:00:00+01:00",
          "2017-03-06T16:00:00+01:00",
          "2017-03-06T17:00:00+01:00",
          "2017-03-06T18:00:00+01:00",
          "2017-03-06T19:00:00+01:00",
          "2017-03-06T20:00:00+01:00",
          "2017-03-06T21:00:00+01:00",
          "2017-03-06T22:00:00+01:00",
          "2017-03-06T23:00:00+01:00",
          "2017-03-07T00:00:00+01:00",
          "2017-03-07T01:00:00+01:00",
          "2017-03-07T02:00:00+01:00",
          "2017-03-07T03:00:00+01:00",
          "2017-03-07T04:00:00+01:00",
          "2017-03-07T05:00:00+01:00",
          "2017-03-07T06:00:00+01:00",
          "2017-03-07T07:00:00+01:00",
          "2017-03-07T08:00:00+01:00",
          "2017-03-07T09:00:00+01:00",
          "2017-03-07T10:00:00+01:00",
          "2017-03-07T11:00:00+01:00",
          "2017-03-07T12:00:00+01:00",
          "2017-03-07T13:00:00+01:00",
          "2017-03-07T14:00:00+01:00"
         ],
         "y": [
          26763.1015625,
          26798.03515625,
          27211.2421875,
          27875.8515625,
          28545.3125,
          28930.087890625,
          28782.498046875,
          28025.482421875,
          26685.84765625,
          24992.755859375,
          23269.080078125,
          21865.07421875,
          21080.353515625,
          21089.04296875,
          21876.59765625,
          23265.7734375,
          24970.396484375,
          26617.24609375,
          27923.2578125,
          28669.201171875,
          28833.255859375,
          28513.625,
          27945.65625,
          27388.708984375
         ]
        },
        {
         "mode": "markers",
         "type": "scatter",
         "x": [
          "2017-03-06T16:00:00+01:00",
          "2017-03-06T17:00:00+01:00",
          "2017-03-06T18:00:00+01:00",
          "2017-03-06T19:00:00+01:00",
          "2017-03-06T20:00:00+01:00",
          "2017-03-06T21:00:00+01:00",
          "2017-03-06T22:00:00+01:00",
          "2017-03-06T23:00:00+01:00",
          "2017-03-07T00:00:00+01:00",
          "2017-03-07T01:00:00+01:00",
          "2017-03-07T02:00:00+01:00",
          "2017-03-07T03:00:00+01:00",
          "2017-03-07T04:00:00+01:00",
          "2017-03-07T05:00:00+01:00",
          "2017-03-07T06:00:00+01:00",
          "2017-03-07T07:00:00+01:00",
          "2017-03-07T08:00:00+01:00",
          "2017-03-07T09:00:00+01:00",
          "2017-03-07T10:00:00+01:00",
          "2017-03-07T11:00:00+01:00",
          "2017-03-07T12:00:00+01:00",
          "2017-03-07T13:00:00+01:00",
          "2017-03-07T14:00:00+01:00",
          "2017-03-07T15:00:00+01:00"
         ],
         "y": [
          26674.298828125,
          27126.29296875,
          27858.669921875,
          28609.3359375,
          29075.724609375,
          28991.17578125,
          28209.134765625,
          26816.419921875,
          25012.51171875,
          23157.755859375,
          21638.431640625,
          20777.3828125,
          20767.400390625,
          21620.505859375,
          23122.919921875,
          24941.671875,
          26706.201171875,
          28048.375,
          28766.845703125,
          28809.5078125,
          28319.76171875,
          27562.251953125,
          26847.31640625,
          26440.5234375
         ]
        },
        {
         "mode": "markers",
         "type": "scatter",
         "x": [
          "2017-03-06T17:00:00+01:00",
          "2017-03-06T18:00:00+01:00",
          "2017-03-06T19:00:00+01:00",
          "2017-03-06T20:00:00+01:00",
          "2017-03-06T21:00:00+01:00",
          "2017-03-06T22:00:00+01:00",
          "2017-03-06T23:00:00+01:00",
          "2017-03-07T00:00:00+01:00",
          "2017-03-07T01:00:00+01:00",
          "2017-03-07T02:00:00+01:00",
          "2017-03-07T03:00:00+01:00",
          "2017-03-07T04:00:00+01:00",
          "2017-03-07T05:00:00+01:00",
          "2017-03-07T06:00:00+01:00",
          "2017-03-07T07:00:00+01:00",
          "2017-03-07T08:00:00+01:00",
          "2017-03-07T09:00:00+01:00",
          "2017-03-07T10:00:00+01:00",
          "2017-03-07T11:00:00+01:00",
          "2017-03-07T12:00:00+01:00",
          "2017-03-07T13:00:00+01:00",
          "2017-03-07T14:00:00+01:00",
          "2017-03-07T15:00:00+01:00",
          "2017-03-07T16:00:00+01:00"
         ],
         "y": [
          27141.9609375,
          27833.39453125,
          28586.244140625,
          29084.857421875,
          29069.048828125,
          28381.5,
          27017.232421875,
          25217.876953125,
          23302.9921875,
          21676.421875,
          20686.52734375,
          20545.44921875,
          21290.060546875,
          22773.40234375,
          24639.828125,
          26488.982421875,
          27964.4609375,
          28791.986328125,
          28892.9921875,
          28378.21875,
          27514.93359375,
          26643.765625,
          26064.435546875,
          25963.603515625
         ]
        },
        {
         "mode": "markers",
         "type": "scatter",
         "x": [
          "2017-03-06T18:00:00+01:00",
          "2017-03-06T19:00:00+01:00",
          "2017-03-06T20:00:00+01:00",
          "2017-03-06T21:00:00+01:00",
          "2017-03-06T22:00:00+01:00",
          "2017-03-06T23:00:00+01:00",
          "2017-03-07T00:00:00+01:00",
          "2017-03-07T01:00:00+01:00",
          "2017-03-07T02:00:00+01:00",
          "2017-03-07T03:00:00+01:00",
          "2017-03-07T04:00:00+01:00",
          "2017-03-07T05:00:00+01:00",
          "2017-03-07T06:00:00+01:00",
          "2017-03-07T07:00:00+01:00",
          "2017-03-07T08:00:00+01:00",
          "2017-03-07T09:00:00+01:00",
          "2017-03-07T10:00:00+01:00",
          "2017-03-07T11:00:00+01:00",
          "2017-03-07T12:00:00+01:00",
          "2017-03-07T13:00:00+01:00",
          "2017-03-07T14:00:00+01:00",
          "2017-03-07T15:00:00+01:00",
          "2017-03-07T16:00:00+01:00",
          "2017-03-07T17:00:00+01:00"
         ],
         "y": [
          27915.779296875,
          28555.8046875,
          28986.8203125,
          28940.232421875,
          28289.861328125,
          27044.068359375,
          25337.0859375,
          23509.029296875,
          21909.71875,
          20882.974609375,
          20643.71875,
          21238.158203125,
          22540.578125,
          24291.87109375,
          26091.6640625,
          27580.740234375,
          28511.78515625,
          28765.642578125,
          28389.548828125,
          27604.361328125,
          26725.86328125,
          26060.23828125,
          25816.56640625,
          26042.890625
         ]
        },
        {
         "mode": "markers",
         "type": "scatter",
         "x": [
          "2017-03-06T19:00:00+01:00",
          "2017-03-06T20:00:00+01:00",
          "2017-03-06T21:00:00+01:00",
          "2017-03-06T22:00:00+01:00",
          "2017-03-06T23:00:00+01:00",
          "2017-03-07T00:00:00+01:00",
          "2017-03-07T01:00:00+01:00",
          "2017-03-07T02:00:00+01:00",
          "2017-03-07T03:00:00+01:00",
          "2017-03-07T04:00:00+01:00",
          "2017-03-07T05:00:00+01:00",
          "2017-03-07T06:00:00+01:00",
          "2017-03-07T07:00:00+01:00",
          "2017-03-07T08:00:00+01:00",
          "2017-03-07T09:00:00+01:00",
          "2017-03-07T10:00:00+01:00",
          "2017-03-07T11:00:00+01:00",
          "2017-03-07T12:00:00+01:00",
          "2017-03-07T13:00:00+01:00",
          "2017-03-07T14:00:00+01:00",
          "2017-03-07T15:00:00+01:00",
          "2017-03-07T16:00:00+01:00",
          "2017-03-07T17:00:00+01:00",
          "2017-03-07T18:00:00+01:00"
         ],
         "y": [
          28434.568359375,
          28802.697265625,
          28757.408203125,
          28134.32421875,
          26962.509765625,
          25395.556640625,
          23660.19140625,
          22120.439453125,
          21081.361328125,
          20768.8515625,
          21239.2578125,
          22386.51953125,
          23969.958984375,
          25684.607421875,
          27165.83984375,
          28156.35546875,
          28547.115234375,
          28366.62109375,
          27746.876953125,
          26949.916015625,
          26270.423828125,
          25920.09765625,
          25990.8515625,
          26402.6875
         ]
        },
        {
         "mode": "markers",
         "type": "scatter",
         "x": [
          "2017-03-06T20:00:00+01:00",
          "2017-03-06T21:00:00+01:00",
          "2017-03-06T22:00:00+01:00",
          "2017-03-06T23:00:00+01:00",
          "2017-03-07T00:00:00+01:00",
          "2017-03-07T01:00:00+01:00",
          "2017-03-07T02:00:00+01:00",
          "2017-03-07T03:00:00+01:00",
          "2017-03-07T04:00:00+01:00",
          "2017-03-07T05:00:00+01:00",
          "2017-03-07T06:00:00+01:00",
          "2017-03-07T07:00:00+01:00",
          "2017-03-07T08:00:00+01:00",
          "2017-03-07T09:00:00+01:00",
          "2017-03-07T10:00:00+01:00",
          "2017-03-07T11:00:00+01:00",
          "2017-03-07T12:00:00+01:00",
          "2017-03-07T13:00:00+01:00",
          "2017-03-07T14:00:00+01:00",
          "2017-03-07T15:00:00+01:00",
          "2017-03-07T16:00:00+01:00",
          "2017-03-07T17:00:00+01:00",
          "2017-03-07T18:00:00+01:00",
          "2017-03-07T19:00:00+01:00"
         ],
         "y": [
          28443.3671875,
          28413.931640625,
          27872.41015625,
          26781.275390625,
          25305.28515625,
          23695.52734375,
          22216.6875,
          21193.583984375,
          20835.26171875,
          21226.962890625,
          22278.6640625,
          23769.921875,
          25402.923828125,
          26884.111328125,
          27936.798828125,
          28428.880859375,
          28383.326171875,
          27940.587890625,
          27274.04296875,
          26630.017578125,
          26233.5,
          26177.775390625,
          26443.033203125,
          26858.1171875
         ]
        },
        {
         "mode": "markers",
         "type": "scatter",
         "x": [
          "2017-03-06T21:00:00+01:00",
          "2017-03-06T22:00:00+01:00",
          "2017-03-06T23:00:00+01:00",
          "2017-03-07T00:00:00+01:00",
          "2017-03-07T01:00:00+01:00",
          "2017-03-07T02:00:00+01:00",
          "2017-03-07T03:00:00+01:00",
          "2017-03-07T04:00:00+01:00",
          "2017-03-07T05:00:00+01:00",
          "2017-03-07T06:00:00+01:00",
          "2017-03-07T07:00:00+01:00",
          "2017-03-07T08:00:00+01:00",
          "2017-03-07T09:00:00+01:00",
          "2017-03-07T10:00:00+01:00",
          "2017-03-07T11:00:00+01:00",
          "2017-03-07T12:00:00+01:00",
          "2017-03-07T13:00:00+01:00",
          "2017-03-07T14:00:00+01:00",
          "2017-03-07T15:00:00+01:00",
          "2017-03-07T16:00:00+01:00",
          "2017-03-07T17:00:00+01:00",
          "2017-03-07T18:00:00+01:00",
          "2017-03-07T19:00:00+01:00",
          "2017-03-07T20:00:00+01:00"
         ],
         "y": [
          28119.294921875,
          27618.46484375,
          26615.943359375,
          25207.259765625,
          23659.1796875,
          22269.634765625,
          21281.404296875,
          20924.62890625,
          21274.86328125,
          22271.5703125,
          23705.62109375,
          25291.435546875,
          26735.98046875,
          27815.275390625,
          28380.33203125,
          28431.349609375,
          28102.373046875,
          27597.5078125,
          27084.10546875,
          26736.021484375,
          26672.447265625,
          26857.859375,
          27182.0546875,
          27427.23046875
         ]
        },
        {
         "mode": "markers",
         "type": "scatter",
         "x": [
          "2017-03-06T22:00:00+01:00",
          "2017-03-06T23:00:00+01:00",
          "2017-03-07T00:00:00+01:00",
          "2017-03-07T01:00:00+01:00",
          "2017-03-07T02:00:00+01:00",
          "2017-03-07T03:00:00+01:00",
          "2017-03-07T04:00:00+01:00",
          "2017-03-07T05:00:00+01:00",
          "2017-03-07T06:00:00+01:00",
          "2017-03-07T07:00:00+01:00",
          "2017-03-07T08:00:00+01:00",
          "2017-03-07T09:00:00+01:00",
          "2017-03-07T10:00:00+01:00",
          "2017-03-07T11:00:00+01:00",
          "2017-03-07T12:00:00+01:00",
          "2017-03-07T13:00:00+01:00",
          "2017-03-07T14:00:00+01:00",
          "2017-03-07T15:00:00+01:00",
          "2017-03-07T16:00:00+01:00",
          "2017-03-07T17:00:00+01:00",
          "2017-03-07T18:00:00+01:00",
          "2017-03-07T19:00:00+01:00",
          "2017-03-07T20:00:00+01:00",
          "2017-03-07T21:00:00+01:00"
         ],
         "y": [
          27271.6640625,
          26294.203125,
          24953.943359375,
          23464.58984375,
          22145.033203125,
          21276.751953125,
          21013.74609375,
          21440.201171875,
          22473.923828125,
          23920.203125,
          25490.638671875,
          26897.47265625,
          27918.51171875,
          28454.32421875,
          28509.970703125,
          28209.708984375,
          27763.4140625,
          27379.650390625,
          27169.337890625,
          27183.40234375,
          27414.46875,
          27707.263671875,
          27903.37890625,
          27793.619140625
         ]
        },
        {
         "mode": "markers",
         "type": "scatter",
         "x": [
          "2017-03-06T23:00:00+01:00",
          "2017-03-07T00:00:00+01:00",
          "2017-03-07T01:00:00+01:00",
          "2017-03-07T02:00:00+01:00",
          "2017-03-07T03:00:00+01:00",
          "2017-03-07T04:00:00+01:00",
          "2017-03-07T05:00:00+01:00",
          "2017-03-07T06:00:00+01:00",
          "2017-03-07T07:00:00+01:00",
          "2017-03-07T08:00:00+01:00",
          "2017-03-07T09:00:00+01:00",
          "2017-03-07T10:00:00+01:00",
          "2017-03-07T11:00:00+01:00",
          "2017-03-07T12:00:00+01:00",
          "2017-03-07T13:00:00+01:00",
          "2017-03-07T14:00:00+01:00",
          "2017-03-07T15:00:00+01:00",
          "2017-03-07T16:00:00+01:00",
          "2017-03-07T17:00:00+01:00",
          "2017-03-07T18:00:00+01:00",
          "2017-03-07T19:00:00+01:00",
          "2017-03-07T20:00:00+01:00",
          "2017-03-07T21:00:00+01:00",
          "2017-03-07T22:00:00+01:00"
         ],
         "y": [
          26058.197265625,
          24747.259765625,
          23317.38671875,
          22043.640625,
          21229.822265625,
          21072.408203125,
          21583.1953125,
          22685.041015625,
          24160.220703125,
          25737.212890625,
          27112.169921875,
          28074.537109375,
          28524.994140625,
          28517.048828125,
          28189.6640625,
          27741.6328125,
          27392.572265625,
          27290.05078125,
          27432.47265625,
          27730.974609375,
          28074.984375,
          28245.3359375,
          28109.345703125,
          27530.4609375
         ]
        },
        {
         "mode": "markers",
         "type": "scatter",
         "x": [
          "2017-03-07T00:00:00+01:00",
          "2017-03-07T01:00:00+01:00",
          "2017-03-07T02:00:00+01:00",
          "2017-03-07T03:00:00+01:00",
          "2017-03-07T04:00:00+01:00",
          "2017-03-07T05:00:00+01:00",
          "2017-03-07T06:00:00+01:00",
          "2017-03-07T07:00:00+01:00",
          "2017-03-07T08:00:00+01:00",
          "2017-03-07T09:00:00+01:00",
          "2017-03-07T10:00:00+01:00",
          "2017-03-07T11:00:00+01:00",
          "2017-03-07T12:00:00+01:00",
          "2017-03-07T13:00:00+01:00",
          "2017-03-07T14:00:00+01:00",
          "2017-03-07T15:00:00+01:00",
          "2017-03-07T16:00:00+01:00",
          "2017-03-07T17:00:00+01:00",
          "2017-03-07T18:00:00+01:00",
          "2017-03-07T19:00:00+01:00",
          "2017-03-07T20:00:00+01:00",
          "2017-03-07T21:00:00+01:00",
          "2017-03-07T22:00:00+01:00",
          "2017-03-07T23:00:00+01:00"
         ],
         "y": [
          24645.958984375,
          23258.97265625,
          22030.595703125,
          21221.537109375,
          21054.939453125,
          21599.80859375,
          22722.0546875,
          24219.23046875,
          25802.451171875,
          27203.09765625,
          28167.630859375,
          28611.96875,
          28565.767578125,
          28206.857421875,
          27742.9765625,
          27375.921875,
          27268.365234375,
          27465.861328125,
          27843.9921875,
          28210.72265625,
          28410.96875,
          28239.8359375,
          27654.4765625,
          26630.63671875
         ]
        },
        {
         "mode": "markers",
         "type": "scatter",
         "x": [
          "2017-03-07T01:00:00+01:00",
          "2017-03-07T02:00:00+01:00",
          "2017-03-07T03:00:00+01:00",
          "2017-03-07T04:00:00+01:00",
          "2017-03-07T05:00:00+01:00",
          "2017-03-07T06:00:00+01:00",
          "2017-03-07T07:00:00+01:00",
          "2017-03-07T08:00:00+01:00",
          "2017-03-07T09:00:00+01:00",
          "2017-03-07T10:00:00+01:00",
          "2017-03-07T11:00:00+01:00",
          "2017-03-07T12:00:00+01:00",
          "2017-03-07T13:00:00+01:00",
          "2017-03-07T14:00:00+01:00",
          "2017-03-07T15:00:00+01:00",
          "2017-03-07T16:00:00+01:00",
          "2017-03-07T17:00:00+01:00",
          "2017-03-07T18:00:00+01:00",
          "2017-03-07T19:00:00+01:00",
          "2017-03-07T20:00:00+01:00",
          "2017-03-07T21:00:00+01:00",
          "2017-03-07T22:00:00+01:00",
          "2017-03-07T23:00:00+01:00",
          "2017-03-08T00:00:00+01:00"
         ],
         "y": [
          23388.400390625,
          22215.712890625,
          21438.2578125,
          21233.58984375,
          21700.615234375,
          22773.6640625,
          24212.037109375,
          25756.7421875,
          27128.576171875,
          28134.087890625,
          28622.5390625,
          28641.626953125,
          28317.865234375,
          27885.0703125,
          27537.541015625,
          27412.63671875,
          27569.271484375,
          27946.71484375,
          28331.330078125,
          28499.1640625,
          28322.716796875,
          27686.0625,
          26666.458984375,
          25357.501953125
         ]
        },
        {
         "mode": "markers",
         "type": "scatter",
         "x": [
          "2017-03-07T02:00:00+01:00",
          "2017-03-07T03:00:00+01:00",
          "2017-03-07T04:00:00+01:00",
          "2017-03-07T05:00:00+01:00",
          "2017-03-07T06:00:00+01:00",
          "2017-03-07T07:00:00+01:00",
          "2017-03-07T08:00:00+01:00",
          "2017-03-07T09:00:00+01:00",
          "2017-03-07T10:00:00+01:00",
          "2017-03-07T11:00:00+01:00",
          "2017-03-07T12:00:00+01:00",
          "2017-03-07T13:00:00+01:00",
          "2017-03-07T14:00:00+01:00",
          "2017-03-07T15:00:00+01:00",
          "2017-03-07T16:00:00+01:00",
          "2017-03-07T17:00:00+01:00",
          "2017-03-07T18:00:00+01:00",
          "2017-03-07T19:00:00+01:00",
          "2017-03-07T20:00:00+01:00",
          "2017-03-07T21:00:00+01:00",
          "2017-03-07T22:00:00+01:00",
          "2017-03-07T23:00:00+01:00",
          "2017-03-08T00:00:00+01:00",
          "2017-03-08T01:00:00+01:00"
         ],
         "y": [
          22344.79296875,
          21540.55078125,
          21314.69140625,
          21736.6875,
          22760.986328125,
          24199.3515625,
          25745.390625,
          27129.91015625,
          28126.41796875,
          28646.900390625,
          28669.1796875,
          28355.91015625,
          27901.44140625,
          27545.83984375,
          27430.501953125,
          27599.80078125,
          27998.734375,
          28468.62890625,
          28754.13671875,
          28643.578125,
          28063.203125,
          27011.05859375,
          25671.134765625,
          24239.810546875
         ]
        },
        {
         "mode": "markers",
         "type": "scatter",
         "x": [
          "2017-03-07T03:00:00+01:00",
          "2017-03-07T04:00:00+01:00",
          "2017-03-07T05:00:00+01:00",
          "2017-03-07T06:00:00+01:00",
          "2017-03-07T07:00:00+01:00",
          "2017-03-07T08:00:00+01:00",
          "2017-03-07T09:00:00+01:00",
          "2017-03-07T10:00:00+01:00",
          "2017-03-07T11:00:00+01:00",
          "2017-03-07T12:00:00+01:00",
          "2017-03-07T13:00:00+01:00",
          "2017-03-07T14:00:00+01:00",
          "2017-03-07T15:00:00+01:00",
          "2017-03-07T16:00:00+01:00",
          "2017-03-07T17:00:00+01:00",
          "2017-03-07T18:00:00+01:00",
          "2017-03-07T19:00:00+01:00",
          "2017-03-07T20:00:00+01:00",
          "2017-03-07T21:00:00+01:00",
          "2017-03-07T22:00:00+01:00",
          "2017-03-07T23:00:00+01:00",
          "2017-03-08T00:00:00+01:00",
          "2017-03-08T01:00:00+01:00",
          "2017-03-08T02:00:00+01:00"
         ],
         "y": [
          21690.423828125,
          21414.076171875,
          21784.6484375,
          22765.06640625,
          24172,
          25741.40625,
          27172.01953125,
          28238.234375,
          28796.619140625,
          28868.00390625,
          28547.626953125,
          28060.4765625,
          27619.734375,
          27410.884765625,
          27500.53125,
          27841.203125,
          28295.61328125,
          28651.451171875,
          28699.896484375,
          28293.783203125,
          27422.08203125,
          26183.75,
          24810.880859375,
          23547.017578125
         ]
        },
        {
         "mode": "markers",
         "type": "scatter",
         "x": [
          "2017-03-07T04:00:00+01:00",
          "2017-03-07T05:00:00+01:00",
          "2017-03-07T06:00:00+01:00",
          "2017-03-07T07:00:00+01:00",
          "2017-03-07T08:00:00+01:00",
          "2017-03-07T09:00:00+01:00",
          "2017-03-07T10:00:00+01:00",
          "2017-03-07T11:00:00+01:00",
          "2017-03-07T12:00:00+01:00",
          "2017-03-07T13:00:00+01:00",
          "2017-03-07T14:00:00+01:00",
          "2017-03-07T15:00:00+01:00",
          "2017-03-07T16:00:00+01:00",
          "2017-03-07T17:00:00+01:00",
          "2017-03-07T18:00:00+01:00",
          "2017-03-07T19:00:00+01:00",
          "2017-03-07T20:00:00+01:00",
          "2017-03-07T21:00:00+01:00",
          "2017-03-07T22:00:00+01:00",
          "2017-03-07T23:00:00+01:00",
          "2017-03-08T00:00:00+01:00",
          "2017-03-08T01:00:00+01:00",
          "2017-03-08T02:00:00+01:00",
          "2017-03-08T03:00:00+01:00"
         ],
         "y": [
          21518.08984375,
          21897.419921875,
          22869.3515625,
          24295.919921875,
          25880.123046875,
          27328.884765625,
          28417.984375,
          29019.703125,
          29102.9765625,
          28794.931640625,
          28291.646484375,
          27818.462890625,
          27554.37109375,
          27571.564453125,
          27835.955078125,
          28214.482421875,
          28524.83203125,
          28549.2890625,
          28206.04296875,
          27464.88671875,
          26393.763671875,
          25174.94140625,
          24037.154296875,
          23214.486328125
         ]
        },
        {
         "mode": "markers",
         "type": "scatter",
         "x": [
          "2017-03-07T05:00:00+01:00",
          "2017-03-07T06:00:00+01:00",
          "2017-03-07T07:00:00+01:00",
          "2017-03-07T08:00:00+01:00",
          "2017-03-07T09:00:00+01:00",
          "2017-03-07T10:00:00+01:00",
          "2017-03-07T11:00:00+01:00",
          "2017-03-07T12:00:00+01:00",
          "2017-03-07T13:00:00+01:00",
          "2017-03-07T14:00:00+01:00",
          "2017-03-07T15:00:00+01:00",
          "2017-03-07T16:00:00+01:00",
          "2017-03-07T17:00:00+01:00",
          "2017-03-07T18:00:00+01:00",
          "2017-03-07T19:00:00+01:00",
          "2017-03-07T20:00:00+01:00",
          "2017-03-07T21:00:00+01:00",
          "2017-03-07T22:00:00+01:00",
          "2017-03-07T23:00:00+01:00",
          "2017-03-08T00:00:00+01:00",
          "2017-03-08T01:00:00+01:00",
          "2017-03-08T02:00:00+01:00",
          "2017-03-08T03:00:00+01:00",
          "2017-03-08T04:00:00+01:00"
         ],
         "y": [
          21752.9921875,
          22700.259765625,
          24085.8125,
          25699.5078125,
          27185.294921875,
          28273.5625,
          28875.455078125,
          28998.775390625,
          28730.734375,
          28279.630859375,
          27898.943359375,
          27747.390625,
          27909.46875,
          28299.130859375,
          28765.95703125,
          29108.693359375,
          29141.525390625,
          28690.83984375,
          27850.19921875,
          26742.341796875,
          25521.47265625,
          24426.55078125,
          23645.705078125,
          23355.0703125
         ]
        },
        {
         "mode": "markers",
         "type": "scatter",
         "x": [
          "2017-03-07T06:00:00+01:00",
          "2017-03-07T07:00:00+01:00",
          "2017-03-07T08:00:00+01:00",
          "2017-03-07T09:00:00+01:00",
          "2017-03-07T10:00:00+01:00",
          "2017-03-07T11:00:00+01:00",
          "2017-03-07T12:00:00+01:00",
          "2017-03-07T13:00:00+01:00",
          "2017-03-07T14:00:00+01:00",
          "2017-03-07T15:00:00+01:00",
          "2017-03-07T16:00:00+01:00",
          "2017-03-07T17:00:00+01:00",
          "2017-03-07T18:00:00+01:00",
          "2017-03-07T19:00:00+01:00",
          "2017-03-07T20:00:00+01:00",
          "2017-03-07T21:00:00+01:00",
          "2017-03-07T22:00:00+01:00",
          "2017-03-07T23:00:00+01:00",
          "2017-03-08T00:00:00+01:00",
          "2017-03-08T01:00:00+01:00",
          "2017-03-08T02:00:00+01:00",
          "2017-03-08T03:00:00+01:00",
          "2017-03-08T04:00:00+01:00",
          "2017-03-08T05:00:00+01:00"
         ],
         "y": [
          23160.66796875,
          24581.599609375,
          26096.134765625,
          27484.1796875,
          28443.62109375,
          28817.427734375,
          28733.2109375,
          28364.482421875,
          27899.90625,
          27561.357421875,
          27569.810546875,
          27931.857421875,
          28559.150390625,
          29183.98828125,
          29573.560546875,
          29534.546875,
          28976.72265625,
          27865.197265625,
          26525.939453125,
          25249.51953125,
          24241.90625,
          23710.791015625,
          23720.615234375,
          24280.5234375
         ]
        },
        {
         "mode": "markers",
         "type": "scatter",
         "x": [
          "2017-03-07T07:00:00+01:00",
          "2017-03-07T08:00:00+01:00",
          "2017-03-07T09:00:00+01:00",
          "2017-03-07T10:00:00+01:00",
          "2017-03-07T11:00:00+01:00",
          "2017-03-07T12:00:00+01:00",
          "2017-03-07T13:00:00+01:00",
          "2017-03-07T14:00:00+01:00",
          "2017-03-07T15:00:00+01:00",
          "2017-03-07T16:00:00+01:00",
          "2017-03-07T17:00:00+01:00",
          "2017-03-07T18:00:00+01:00",
          "2017-03-07T19:00:00+01:00",
          "2017-03-07T20:00:00+01:00",
          "2017-03-07T21:00:00+01:00",
          "2017-03-07T22:00:00+01:00",
          "2017-03-07T23:00:00+01:00",
          "2017-03-08T00:00:00+01:00",
          "2017-03-08T01:00:00+01:00",
          "2017-03-08T02:00:00+01:00",
          "2017-03-08T03:00:00+01:00",
          "2017-03-08T04:00:00+01:00",
          "2017-03-08T05:00:00+01:00",
          "2017-03-08T06:00:00+01:00"
         ],
         "y": [
          25267.8359375,
          26507.513671875,
          27532.125,
          28252.75,
          28533.107421875,
          28363.115234375,
          28014.119140625,
          27692.4609375,
          27539.552734375,
          27652.671875,
          28109.427734375,
          28760.73828125,
          29411.255859375,
          29745.287109375,
          29615.05078125,
          28977.474609375,
          27915.384765625,
          26548.63671875,
          25318.4375,
          24538.642578125,
          24314.357421875,
          24676.12109375,
          25495.580078125,
          26608.935546875
         ]
        },
        {
         "mode": "markers",
         "type": "scatter",
         "x": [
          "2017-03-07T08:00:00+01:00",
          "2017-03-07T09:00:00+01:00",
          "2017-03-07T10:00:00+01:00",
          "2017-03-07T11:00:00+01:00",
          "2017-03-07T12:00:00+01:00",
          "2017-03-07T13:00:00+01:00",
          "2017-03-07T14:00:00+01:00",
          "2017-03-07T15:00:00+01:00",
          "2017-03-07T16:00:00+01:00",
          "2017-03-07T17:00:00+01:00",
          "2017-03-07T18:00:00+01:00",
          "2017-03-07T19:00:00+01:00",
          "2017-03-07T20:00:00+01:00",
          "2017-03-07T21:00:00+01:00",
          "2017-03-07T22:00:00+01:00",
          "2017-03-07T23:00:00+01:00",
          "2017-03-08T00:00:00+01:00",
          "2017-03-08T01:00:00+01:00",
          "2017-03-08T02:00:00+01:00",
          "2017-03-08T03:00:00+01:00",
          "2017-03-08T04:00:00+01:00",
          "2017-03-08T05:00:00+01:00",
          "2017-03-08T06:00:00+01:00",
          "2017-03-08T07:00:00+01:00"
         ],
         "y": [
          27546.087890625,
          28232.029296875,
          28484.0546875,
          28408.564453125,
          28064.333984375,
          27576.69140625,
          27277.212890625,
          27309.849609375,
          27684.92578125,
          28311.509765625,
          29093.224609375,
          29755.375,
          30078.720703125,
          29812.603515625,
          28984.720703125,
          27752.654296875,
          26386.59375,
          25130.470703125,
          24438.205078125,
          24537.884765625,
          25349.705078125,
          26673.900390625,
          28169.93359375,
          29541.5390625
         ]
        },
        {
         "mode": "markers",
         "type": "scatter",
         "x": [
          "2017-03-07T09:00:00+01:00",
          "2017-03-07T10:00:00+01:00",
          "2017-03-07T11:00:00+01:00",
          "2017-03-07T12:00:00+01:00",
          "2017-03-07T13:00:00+01:00",
          "2017-03-07T14:00:00+01:00",
          "2017-03-07T15:00:00+01:00",
          "2017-03-07T16:00:00+01:00",
          "2017-03-07T17:00:00+01:00",
          "2017-03-07T18:00:00+01:00",
          "2017-03-07T19:00:00+01:00",
          "2017-03-07T20:00:00+01:00",
          "2017-03-07T21:00:00+01:00",
          "2017-03-07T22:00:00+01:00",
          "2017-03-07T23:00:00+01:00",
          "2017-03-08T00:00:00+01:00",
          "2017-03-08T01:00:00+01:00",
          "2017-03-08T02:00:00+01:00",
          "2017-03-08T03:00:00+01:00",
          "2017-03-08T04:00:00+01:00",
          "2017-03-08T05:00:00+01:00",
          "2017-03-08T06:00:00+01:00",
          "2017-03-08T07:00:00+01:00",
          "2017-03-08T08:00:00+01:00"
         ],
         "y": [
          29324.98828125,
          29347.197265625,
          28900.689453125,
          28256.359375,
          27598.9453125,
          27106.294921875,
          27065.837890625,
          27495.869140625,
          28258.16796875,
          29106.455078125,
          29837.0078125,
          30155.01953125,
          29914.34375,
          29018.7578125,
          27678.45703125,
          26205.880859375,
          24975.05078125,
          24251.134765625,
          24389.142578125,
          25455.216796875,
          27172.31640625,
          29156.193359375,
          30939.734375,
          32193.49609375
         ]
        },
        {
         "mode": "markers",
         "type": "scatter",
         "x": [
          "2017-03-07T10:00:00+01:00",
          "2017-03-07T11:00:00+01:00",
          "2017-03-07T12:00:00+01:00",
          "2017-03-07T13:00:00+01:00",
          "2017-03-07T14:00:00+01:00",
          "2017-03-07T15:00:00+01:00",
          "2017-03-07T16:00:00+01:00",
          "2017-03-07T17:00:00+01:00",
          "2017-03-07T18:00:00+01:00",
          "2017-03-07T19:00:00+01:00",
          "2017-03-07T20:00:00+01:00",
          "2017-03-07T21:00:00+01:00",
          "2017-03-07T22:00:00+01:00",
          "2017-03-07T23:00:00+01:00",
          "2017-03-08T00:00:00+01:00",
          "2017-03-08T01:00:00+01:00",
          "2017-03-08T02:00:00+01:00",
          "2017-03-08T03:00:00+01:00",
          "2017-03-08T04:00:00+01:00",
          "2017-03-08T05:00:00+01:00",
          "2017-03-08T06:00:00+01:00",
          "2017-03-08T07:00:00+01:00",
          "2017-03-08T08:00:00+01:00",
          "2017-03-08T09:00:00+01:00"
         ],
         "y": [
          30221.5859375,
          29681.8515625,
          28788.447265625,
          27908.001953125,
          27258.9375,
          26993.482421875,
          27289.322265625,
          28027.1875,
          28948.6953125,
          29730.103515625,
          30141.6328125,
          29959.3125,
          29157.98828125,
          27810.298828125,
          26263.06640625,
          24905.953125,
          24116.482421875,
          24097.896484375,
          25051.810546875,
          26871.22265625,
          29133.7265625,
          31354.724609375,
          33046.38671875,
          33927.734375
         ]
        },
        {
         "mode": "markers",
         "type": "scatter",
         "x": [
          "2017-03-07T11:00:00+01:00",
          "2017-03-07T12:00:00+01:00",
          "2017-03-07T13:00:00+01:00",
          "2017-03-07T14:00:00+01:00",
          "2017-03-07T15:00:00+01:00",
          "2017-03-07T16:00:00+01:00",
          "2017-03-07T17:00:00+01:00",
          "2017-03-07T18:00:00+01:00",
          "2017-03-07T19:00:00+01:00",
          "2017-03-07T20:00:00+01:00",
          "2017-03-07T21:00:00+01:00",
          "2017-03-07T22:00:00+01:00",
          "2017-03-07T23:00:00+01:00",
          "2017-03-08T00:00:00+01:00",
          "2017-03-08T01:00:00+01:00",
          "2017-03-08T02:00:00+01:00",
          "2017-03-08T03:00:00+01:00",
          "2017-03-08T04:00:00+01:00",
          "2017-03-08T05:00:00+01:00",
          "2017-03-08T06:00:00+01:00",
          "2017-03-08T07:00:00+01:00",
          "2017-03-08T08:00:00+01:00",
          "2017-03-08T09:00:00+01:00",
          "2017-03-08T10:00:00+01:00"
         ],
         "y": [
          30269.361328125,
          29249.427734375,
          28139.689453125,
          27334.2578125,
          26988.283203125,
          27146.01171875,
          27812.677734375,
          28727.728515625,
          29545.654296875,
          29953.439453125,
          29788.423828125,
          28986.974609375,
          27689.845703125,
          26142.498046875,
          24773.865234375,
          23963.9296875,
          23985.10546875,
          24889.42578125,
          26661.75390625,
          29016.546875,
          31443.853515625,
          33449.76953125,
          34637.14453125,
          34863.62109375
         ]
        },
        {
         "mode": "markers",
         "type": "scatter",
         "x": [
          "2017-03-07T12:00:00+01:00",
          "2017-03-07T13:00:00+01:00",
          "2017-03-07T14:00:00+01:00",
          "2017-03-07T15:00:00+01:00",
          "2017-03-07T16:00:00+01:00",
          "2017-03-07T17:00:00+01:00",
          "2017-03-07T18:00:00+01:00",
          "2017-03-07T19:00:00+01:00",
          "2017-03-07T20:00:00+01:00",
          "2017-03-07T21:00:00+01:00",
          "2017-03-07T22:00:00+01:00",
          "2017-03-07T23:00:00+01:00",
          "2017-03-08T00:00:00+01:00",
          "2017-03-08T01:00:00+01:00",
          "2017-03-08T02:00:00+01:00",
          "2017-03-08T03:00:00+01:00",
          "2017-03-08T04:00:00+01:00",
          "2017-03-08T05:00:00+01:00",
          "2017-03-08T06:00:00+01:00",
          "2017-03-08T07:00:00+01:00",
          "2017-03-08T08:00:00+01:00",
          "2017-03-08T09:00:00+01:00",
          "2017-03-08T10:00:00+01:00",
          "2017-03-08T11:00:00+01:00"
         ],
         "y": [
          29659.958984375,
          28442.392578125,
          27459.533203125,
          27031.2578125,
          27172.80078125,
          27760.54296875,
          28632.65625,
          29445.03125,
          29849.1953125,
          29634.654296875,
          28796.283203125,
          27467.228515625,
          25942.228515625,
          24577.138671875,
          23785.220703125,
          23835.607421875,
          24819.07421875,
          26582.451171875,
          28909.33984375,
          31396.048828125,
          33535.375,
          34931.2578125,
          35371.75390625,
          34901.7890625
         ]
        },
        {
         "mode": "markers",
         "type": "scatter",
         "x": [
          "2017-03-07T13:00:00+01:00",
          "2017-03-07T14:00:00+01:00",
          "2017-03-07T15:00:00+01:00",
          "2017-03-07T16:00:00+01:00",
          "2017-03-07T17:00:00+01:00",
          "2017-03-07T18:00:00+01:00",
          "2017-03-07T19:00:00+01:00",
          "2017-03-07T20:00:00+01:00",
          "2017-03-07T21:00:00+01:00",
          "2017-03-07T22:00:00+01:00",
          "2017-03-07T23:00:00+01:00",
          "2017-03-08T00:00:00+01:00",
          "2017-03-08T01:00:00+01:00",
          "2017-03-08T02:00:00+01:00",
          "2017-03-08T03:00:00+01:00",
          "2017-03-08T04:00:00+01:00",
          "2017-03-08T05:00:00+01:00",
          "2017-03-08T06:00:00+01:00",
          "2017-03-08T07:00:00+01:00",
          "2017-03-08T08:00:00+01:00",
          "2017-03-08T09:00:00+01:00",
          "2017-03-08T10:00:00+01:00",
          "2017-03-08T11:00:00+01:00",
          "2017-03-08T12:00:00+01:00"
         ],
         "y": [
          28911.283203125,
          27792.22265625,
          27158.14453125,
          27186.9453125,
          27732.373046875,
          28520.25390625,
          29294.931640625,
          29724.716796875,
          29542.59765625,
          28699.79296875,
          27370.958984375,
          25848.166015625,
          24507.5859375,
          23709.20703125,
          23753.537109375,
          24735.2421875,
          26544.10546875,
          28844.244140625,
          31312.1328125,
          33524.58203125,
          35065.04296875,
          35701.98828125,
          35430.13671875,
          34456.81640625
         ]
        },
        {
         "mode": "markers",
         "type": "scatter",
         "x": [
          "2017-03-07T14:00:00+01:00",
          "2017-03-07T15:00:00+01:00",
          "2017-03-07T16:00:00+01:00",
          "2017-03-07T17:00:00+01:00",
          "2017-03-07T18:00:00+01:00",
          "2017-03-07T19:00:00+01:00",
          "2017-03-07T20:00:00+01:00",
          "2017-03-07T21:00:00+01:00",
          "2017-03-07T22:00:00+01:00",
          "2017-03-07T23:00:00+01:00",
          "2017-03-08T00:00:00+01:00",
          "2017-03-08T01:00:00+01:00",
          "2017-03-08T02:00:00+01:00",
          "2017-03-08T03:00:00+01:00",
          "2017-03-08T04:00:00+01:00",
          "2017-03-08T05:00:00+01:00",
          "2017-03-08T06:00:00+01:00",
          "2017-03-08T07:00:00+01:00",
          "2017-03-08T08:00:00+01:00",
          "2017-03-08T09:00:00+01:00",
          "2017-03-08T10:00:00+01:00",
          "2017-03-08T11:00:00+01:00",
          "2017-03-08T12:00:00+01:00",
          "2017-03-08T13:00:00+01:00"
         ],
         "y": [
          28409.93359375,
          27588.169921875,
          27350.736328125,
          27715.5546875,
          28406.671875,
          29069.283203125,
          29452.35546875,
          29324.294921875,
          28561.853515625,
          27286.677734375,
          25815.560546875,
          24513.8515625,
          23746.6875,
          23773.865234375,
          24718.400390625,
          26485.673828125,
          28798.552734375,
          31215.068359375,
          33415.703125,
          35057.8671875,
          35874.58984375,
          35820.0546875,
          35047.45703125,
          33862.10546875
         ]
        },
        {
         "mode": "markers",
         "type": "scatter",
         "x": [
          "2017-03-07T15:00:00+01:00",
          "2017-03-07T16:00:00+01:00",
          "2017-03-07T17:00:00+01:00",
          "2017-03-07T18:00:00+01:00",
          "2017-03-07T19:00:00+01:00",
          "2017-03-07T20:00:00+01:00",
          "2017-03-07T21:00:00+01:00",
          "2017-03-07T22:00:00+01:00",
          "2017-03-07T23:00:00+01:00",
          "2017-03-08T00:00:00+01:00",
          "2017-03-08T01:00:00+01:00",
          "2017-03-08T02:00:00+01:00",
          "2017-03-08T03:00:00+01:00",
          "2017-03-08T04:00:00+01:00",
          "2017-03-08T05:00:00+01:00",
          "2017-03-08T06:00:00+01:00",
          "2017-03-08T07:00:00+01:00",
          "2017-03-08T08:00:00+01:00",
          "2017-03-08T09:00:00+01:00",
          "2017-03-08T10:00:00+01:00",
          "2017-03-08T11:00:00+01:00",
          "2017-03-08T12:00:00+01:00",
          "2017-03-08T13:00:00+01:00",
          "2017-03-08T14:00:00+01:00"
         ],
         "y": [
          28381.423828125,
          27913.7109375,
          27979.830078125,
          28460.66015625,
          29018.224609375,
          29297.0078125,
          29133.650390625,
          28440.845703125,
          27262.654296875,
          25849.0234375,
          24587.912109375,
          23827.7109375,
          23845.810546875,
          24739.408203125,
          26441.37890625,
          28700.24609375,
          31141.25,
          33309.515625,
          34967.62109375,
          35919.078125,
          36060.7421875,
          35510.640625,
          34502.05078125,
          33365.96484375
         ]
        },
        {
         "mode": "markers",
         "type": "scatter",
         "x": [
          "2017-03-07T16:00:00+01:00",
          "2017-03-07T17:00:00+01:00",
          "2017-03-07T18:00:00+01:00",
          "2017-03-07T19:00:00+01:00",
          "2017-03-07T20:00:00+01:00",
          "2017-03-07T21:00:00+01:00",
          "2017-03-07T22:00:00+01:00",
          "2017-03-07T23:00:00+01:00",
          "2017-03-08T00:00:00+01:00",
          "2017-03-08T01:00:00+01:00",
          "2017-03-08T02:00:00+01:00",
          "2017-03-08T03:00:00+01:00",
          "2017-03-08T04:00:00+01:00",
          "2017-03-08T05:00:00+01:00",
          "2017-03-08T06:00:00+01:00",
          "2017-03-08T07:00:00+01:00",
          "2017-03-08T08:00:00+01:00",
          "2017-03-08T09:00:00+01:00",
          "2017-03-08T10:00:00+01:00",
          "2017-03-08T11:00:00+01:00",
          "2017-03-08T12:00:00+01:00",
          "2017-03-08T13:00:00+01:00",
          "2017-03-08T14:00:00+01:00",
          "2017-03-08T15:00:00+01:00"
         ],
         "y": [
          28672.9921875,
          28510.9375,
          28712.25,
          29071.41015625,
          29262.068359375,
          29006.18359375,
          28277.666015625,
          27148.5,
          25809.599609375,
          24583.232421875,
          23843.525390625,
          23848.041015625,
          24726.35546875,
          26388.814453125,
          28602.314453125,
          31016.69140625,
          33237.90625,
          34883.2109375,
          35844.19140625,
          36098.203125,
          35695.15625,
          34865.7421875,
          33854.890625,
          32944.87890625
         ]
        },
        {
         "mode": "markers",
         "type": "scatter",
         "x": [
          "2017-03-07T17:00:00+01:00",
          "2017-03-07T18:00:00+01:00",
          "2017-03-07T19:00:00+01:00",
          "2017-03-07T20:00:00+01:00",
          "2017-03-07T21:00:00+01:00",
          "2017-03-07T22:00:00+01:00",
          "2017-03-07T23:00:00+01:00",
          "2017-03-08T00:00:00+01:00",
          "2017-03-08T01:00:00+01:00",
          "2017-03-08T02:00:00+01:00",
          "2017-03-08T03:00:00+01:00",
          "2017-03-08T04:00:00+01:00",
          "2017-03-08T05:00:00+01:00",
          "2017-03-08T06:00:00+01:00",
          "2017-03-08T07:00:00+01:00",
          "2017-03-08T08:00:00+01:00",
          "2017-03-08T09:00:00+01:00",
          "2017-03-08T10:00:00+01:00",
          "2017-03-08T11:00:00+01:00",
          "2017-03-08T12:00:00+01:00",
          "2017-03-08T13:00:00+01:00",
          "2017-03-08T14:00:00+01:00",
          "2017-03-08T15:00:00+01:00",
          "2017-03-08T16:00:00+01:00"
         ],
         "y": [
          29197.095703125,
          29152.60546875,
          29234.953125,
          29232.603515625,
          28906.337890625,
          28118.931640625,
          26988.439453125,
          25712.908203125,
          24560.984375,
          23849.267578125,
          23849.908203125,
          24676.552734375,
          26287.51171875,
          28434.7109375,
          30791.09765625,
          32995.6171875,
          34719.6171875,
          35716.14453125,
          36019.828125,
          35752.49609375,
          35067.2421875,
          34220.31640625,
          33403.77734375,
          32786.4296875
         ]
        },
        {
         "mode": "markers",
         "type": "scatter",
         "x": [
          "2017-03-07T18:00:00+01:00",
          "2017-03-07T19:00:00+01:00",
          "2017-03-07T20:00:00+01:00",
          "2017-03-07T21:00:00+01:00",
          "2017-03-07T22:00:00+01:00",
          "2017-03-07T23:00:00+01:00",
          "2017-03-08T00:00:00+01:00",
          "2017-03-08T01:00:00+01:00",
          "2017-03-08T02:00:00+01:00",
          "2017-03-08T03:00:00+01:00",
          "2017-03-08T04:00:00+01:00",
          "2017-03-08T05:00:00+01:00",
          "2017-03-08T06:00:00+01:00",
          "2017-03-08T07:00:00+01:00",
          "2017-03-08T08:00:00+01:00",
          "2017-03-08T09:00:00+01:00",
          "2017-03-08T10:00:00+01:00",
          "2017-03-08T11:00:00+01:00",
          "2017-03-08T12:00:00+01:00",
          "2017-03-08T13:00:00+01:00",
          "2017-03-08T14:00:00+01:00",
          "2017-03-08T15:00:00+01:00",
          "2017-03-08T16:00:00+01:00",
          "2017-03-08T17:00:00+01:00"
         ],
         "y": [
          29823.240234375,
          29677.259765625,
          29408.568359375,
          28874.943359375,
          27984.5390625,
          26773.96484375,
          25489.90234375,
          24399.248046875,
          23773.072265625,
          23841.625,
          24707.94921875,
          26308.693359375,
          28439.724609375,
          30742.97265625,
          32880.62890625,
          34565.37109375,
          35604.9609375,
          35925.390625,
          35698.37109375,
          35139.3125,
          34439.546875,
          33798.828125,
          33299.1484375,
          32960.08984375
         ]
        },
        {
         "mode": "markers",
         "type": "scatter",
         "x": [
          "2017-03-07T19:00:00+01:00",
          "2017-03-07T20:00:00+01:00",
          "2017-03-07T21:00:00+01:00",
          "2017-03-07T22:00:00+01:00",
          "2017-03-07T23:00:00+01:00",
          "2017-03-08T00:00:00+01:00",
          "2017-03-08T01:00:00+01:00",
          "2017-03-08T02:00:00+01:00",
          "2017-03-08T03:00:00+01:00",
          "2017-03-08T04:00:00+01:00",
          "2017-03-08T05:00:00+01:00",
          "2017-03-08T06:00:00+01:00",
          "2017-03-08T07:00:00+01:00",
          "2017-03-08T08:00:00+01:00",
          "2017-03-08T09:00:00+01:00",
          "2017-03-08T10:00:00+01:00",
          "2017-03-08T11:00:00+01:00",
          "2017-03-08T12:00:00+01:00",
          "2017-03-08T13:00:00+01:00",
          "2017-03-08T14:00:00+01:00",
          "2017-03-08T15:00:00+01:00",
          "2017-03-08T16:00:00+01:00",
          "2017-03-08T17:00:00+01:00",
          "2017-03-08T18:00:00+01:00"
         ],
         "y": [
          30159.099609375,
          29738.24609375,
          29034.19921875,
          28019.876953125,
          26755.80078125,
          25424.283203125,
          24333.10546875,
          23739.091796875,
          23840.08984375,
          24727.826171875,
          26328.017578125,
          28424.6328125,
          30714.541015625,
          32815.6328125,
          34459.19140625,
          35483.82421875,
          35854.328125,
          35647.91015625,
          35122.66015625,
          34510.109375,
          33973.8828125,
          33607.90625,
          33372.2734375,
          33160.51953125
         ]
        },
        {
         "mode": "markers",
         "type": "scatter",
         "x": [
          "2017-03-07T20:00:00+01:00",
          "2017-03-07T21:00:00+01:00",
          "2017-03-07T22:00:00+01:00",
          "2017-03-07T23:00:00+01:00",
          "2017-03-08T00:00:00+01:00",
          "2017-03-08T01:00:00+01:00",
          "2017-03-08T02:00:00+01:00",
          "2017-03-08T03:00:00+01:00",
          "2017-03-08T04:00:00+01:00",
          "2017-03-08T05:00:00+01:00",
          "2017-03-08T06:00:00+01:00",
          "2017-03-08T07:00:00+01:00",
          "2017-03-08T08:00:00+01:00",
          "2017-03-08T09:00:00+01:00",
          "2017-03-08T10:00:00+01:00",
          "2017-03-08T11:00:00+01:00",
          "2017-03-08T12:00:00+01:00",
          "2017-03-08T13:00:00+01:00",
          "2017-03-08T14:00:00+01:00",
          "2017-03-08T15:00:00+01:00",
          "2017-03-08T16:00:00+01:00",
          "2017-03-08T17:00:00+01:00",
          "2017-03-08T18:00:00+01:00",
          "2017-03-08T19:00:00+01:00"
         ],
         "y": [
          29916.0390625,
          29130.34375,
          28052.7109375,
          26778.1015625,
          25477.9765625,
          24406.560546875,
          23841.81640625,
          23955.1015625,
          24817.10546875,
          26367.333984375,
          28397.48828125,
          30605.3828125,
          32678.50390625,
          34303.8671875,
          35334.84765625,
          35745.046875,
          35628.46484375,
          35148.78515625,
          34571.6796875,
          34071.21875,
          33734.94921875,
          33545.98828125,
          33375.28515625,
          33059.51171875
         ]
        },
        {
         "mode": "markers",
         "type": "scatter",
         "x": [
          "2017-03-07T21:00:00+01:00",
          "2017-03-07T22:00:00+01:00",
          "2017-03-07T23:00:00+01:00",
          "2017-03-08T00:00:00+01:00",
          "2017-03-08T01:00:00+01:00",
          "2017-03-08T02:00:00+01:00",
          "2017-03-08T03:00:00+01:00",
          "2017-03-08T04:00:00+01:00",
          "2017-03-08T05:00:00+01:00",
          "2017-03-08T06:00:00+01:00",
          "2017-03-08T07:00:00+01:00",
          "2017-03-08T08:00:00+01:00",
          "2017-03-08T09:00:00+01:00",
          "2017-03-08T10:00:00+01:00",
          "2017-03-08T11:00:00+01:00",
          "2017-03-08T12:00:00+01:00",
          "2017-03-08T13:00:00+01:00",
          "2017-03-08T14:00:00+01:00",
          "2017-03-08T15:00:00+01:00",
          "2017-03-08T16:00:00+01:00",
          "2017-03-08T17:00:00+01:00",
          "2017-03-08T18:00:00+01:00",
          "2017-03-08T19:00:00+01:00",
          "2017-03-08T20:00:00+01:00"
         ],
         "y": [
          29134.15234375,
          28010.1015625,
          26719.91015625,
          25453.40234375,
          24436.595703125,
          23916.185546875,
          24072.30859375,
          24947.240234375,
          26469.7890625,
          28446.0546875,
          30594.6484375,
          32598.7265625,
          34206.99609375,
          35235.16796875,
          35671.671875,
          35601.95703125,
          35201.10546875,
          34653.01171875,
          34162.40625,
          33809.671875,
          33588.81640625,
          33401.65234375,
          33082.44921875,
          32484.400390625
         ]
        },
        {
         "mode": "markers",
         "type": "scatter",
         "x": [
          "2017-03-07T22:00:00+01:00",
          "2017-03-07T23:00:00+01:00",
          "2017-03-08T00:00:00+01:00",
          "2017-03-08T01:00:00+01:00",
          "2017-03-08T02:00:00+01:00",
          "2017-03-08T03:00:00+01:00",
          "2017-03-08T04:00:00+01:00",
          "2017-03-08T05:00:00+01:00",
          "2017-03-08T06:00:00+01:00",
          "2017-03-08T07:00:00+01:00",
          "2017-03-08T08:00:00+01:00",
          "2017-03-08T09:00:00+01:00",
          "2017-03-08T10:00:00+01:00",
          "2017-03-08T11:00:00+01:00",
          "2017-03-08T12:00:00+01:00",
          "2017-03-08T13:00:00+01:00",
          "2017-03-08T14:00:00+01:00",
          "2017-03-08T15:00:00+01:00",
          "2017-03-08T16:00:00+01:00",
          "2017-03-08T17:00:00+01:00",
          "2017-03-08T18:00:00+01:00",
          "2017-03-08T19:00:00+01:00",
          "2017-03-08T20:00:00+01:00",
          "2017-03-08T21:00:00+01:00"
         ],
         "y": [
          27954.572265625,
          26665.962890625,
          25421.4921875,
          24446.740234375,
          23957.884765625,
          24126.1640625,
          25001.380859375,
          26495.869140625,
          28426.767578125,
          30525.67578125,
          32504.1953125,
          34098.37109375,
          35156.51953125,
          35632.42578125,
          35619.78125,
          35265.16796875,
          34762.54296875,
          34259.51953125,
          33863.04296875,
          33562.7890625,
          33283.70703125,
          32901.515625,
          32278.1953125,
          31338.38671875
         ]
        },
        {
         "mode": "markers",
         "type": "scatter",
         "x": [
          "2017-03-07T23:00:00+01:00",
          "2017-03-08T00:00:00+01:00",
          "2017-03-08T01:00:00+01:00",
          "2017-03-08T02:00:00+01:00",
          "2017-03-08T03:00:00+01:00",
          "2017-03-08T04:00:00+01:00",
          "2017-03-08T05:00:00+01:00",
          "2017-03-08T06:00:00+01:00",
          "2017-03-08T07:00:00+01:00",
          "2017-03-08T08:00:00+01:00",
          "2017-03-08T09:00:00+01:00",
          "2017-03-08T10:00:00+01:00",
          "2017-03-08T11:00:00+01:00",
          "2017-03-08T12:00:00+01:00",
          "2017-03-08T13:00:00+01:00",
          "2017-03-08T14:00:00+01:00",
          "2017-03-08T15:00:00+01:00",
          "2017-03-08T16:00:00+01:00",
          "2017-03-08T17:00:00+01:00",
          "2017-03-08T18:00:00+01:00",
          "2017-03-08T19:00:00+01:00",
          "2017-03-08T20:00:00+01:00",
          "2017-03-08T21:00:00+01:00",
          "2017-03-08T22:00:00+01:00"
         ],
         "y": [
          26378.3515625,
          25197.83203125,
          24338.62890625,
          23987.509765625,
          24275.15625,
          25234.89453125,
          26763.615234375,
          28661.005859375,
          30681.46484375,
          32562.71484375,
          34080.953125,
          35090.4375,
          35565.484375,
          35585.51171875,
          35301.203125,
          34857.73046875,
          34397.87890625,
          33981.02734375,
          33599.98046875,
          33171.15625,
          32601.5703125,
          31808.185546875,
          30752.916015625,
          29475.923828125
         ]
        },
        {
         "mode": "markers",
         "type": "scatter",
         "x": [
          "2017-03-08T00:00:00+01:00",
          "2017-03-08T01:00:00+01:00",
          "2017-03-08T02:00:00+01:00",
          "2017-03-08T03:00:00+01:00",
          "2017-03-08T04:00:00+01:00",
          "2017-03-08T05:00:00+01:00",
          "2017-03-08T06:00:00+01:00",
          "2017-03-08T07:00:00+01:00",
          "2017-03-08T08:00:00+01:00",
          "2017-03-08T09:00:00+01:00",
          "2017-03-08T10:00:00+01:00",
          "2017-03-08T11:00:00+01:00",
          "2017-03-08T12:00:00+01:00",
          "2017-03-08T13:00:00+01:00",
          "2017-03-08T14:00:00+01:00",
          "2017-03-08T15:00:00+01:00",
          "2017-03-08T16:00:00+01:00",
          "2017-03-08T17:00:00+01:00",
          "2017-03-08T18:00:00+01:00",
          "2017-03-08T19:00:00+01:00",
          "2017-03-08T20:00:00+01:00",
          "2017-03-08T21:00:00+01:00",
          "2017-03-08T22:00:00+01:00",
          "2017-03-08T23:00:00+01:00"
         ],
         "y": [
          25052.009765625,
          24157.791015625,
          23825.765625,
          24162.48046875,
          25184.72265625,
          26786.208984375,
          28734.6484375,
          30761.314453125,
          32610.982421875,
          34080.65625,
          35045.9375,
          35488.8359375,
          35494.35546875,
          35227.1640625,
          34845.953125,
          34451.7734375,
          34101.36328125,
          33758.921875,
          33323.3046875,
          32668.7734375,
          31729.794921875,
          30501.96875,
          29064.611328125,
          27571.7109375
         ]
        },
        {
         "mode": "markers",
         "type": "scatter",
         "x": [
          "2017-03-08T01:00:00+01:00",
          "2017-03-08T02:00:00+01:00",
          "2017-03-08T03:00:00+01:00",
          "2017-03-08T04:00:00+01:00",
          "2017-03-08T05:00:00+01:00",
          "2017-03-08T06:00:00+01:00",
          "2017-03-08T07:00:00+01:00",
          "2017-03-08T08:00:00+01:00",
          "2017-03-08T09:00:00+01:00",
          "2017-03-08T10:00:00+01:00",
          "2017-03-08T11:00:00+01:00",
          "2017-03-08T12:00:00+01:00",
          "2017-03-08T13:00:00+01:00",
          "2017-03-08T14:00:00+01:00",
          "2017-03-08T15:00:00+01:00",
          "2017-03-08T16:00:00+01:00",
          "2017-03-08T17:00:00+01:00",
          "2017-03-08T18:00:00+01:00",
          "2017-03-08T19:00:00+01:00",
          "2017-03-08T20:00:00+01:00",
          "2017-03-08T21:00:00+01:00",
          "2017-03-08T22:00:00+01:00",
          "2017-03-08T23:00:00+01:00",
          "2017-03-09T00:00:00+01:00"
         ],
         "y": [
          24039.830078125,
          23604.412109375,
          23927.51953125,
          24999.80859375,
          26703.890625,
          28799.6640625,
          30956.177734375,
          32878.87890625,
          34350.48828125,
          35266.50390625,
          35628.58984375,
          35543.09375,
          35185.03125,
          34764.75390625,
          34406.70703125,
          34135.39453125,
          33903.6796875,
          33581.984375,
          33006.54296875,
          32044.2421875,
          30690.478515625,
          29046.625,
          27315.7265625,
          25753.39453125
         ]
        },
        {
         "mode": "markers",
         "type": "scatter",
         "x": [
          "2017-03-08T02:00:00+01:00",
          "2017-03-08T03:00:00+01:00",
          "2017-03-08T04:00:00+01:00",
          "2017-03-08T05:00:00+01:00",
          "2017-03-08T06:00:00+01:00",
          "2017-03-08T07:00:00+01:00",
          "2017-03-08T08:00:00+01:00",
          "2017-03-08T09:00:00+01:00",
          "2017-03-08T10:00:00+01:00",
          "2017-03-08T11:00:00+01:00",
          "2017-03-08T12:00:00+01:00",
          "2017-03-08T13:00:00+01:00",
          "2017-03-08T14:00:00+01:00",
          "2017-03-08T15:00:00+01:00",
          "2017-03-08T16:00:00+01:00",
          "2017-03-08T17:00:00+01:00",
          "2017-03-08T18:00:00+01:00",
          "2017-03-08T19:00:00+01:00",
          "2017-03-08T20:00:00+01:00",
          "2017-03-08T21:00:00+01:00",
          "2017-03-08T22:00:00+01:00",
          "2017-03-08T23:00:00+01:00",
          "2017-03-09T00:00:00+01:00",
          "2017-03-09T01:00:00+01:00"
         ],
         "y": [
          23885.712890625,
          23777.390625,
          24467.513671875,
          25874.537109375,
          27815.728515625,
          30001.7421875,
          32085.630859375,
          33790.6171875,
          34947.93359375,
          35519.06640625,
          35573.16015625,
          35265.8671875,
          34796.03125,
          34367.82421875,
          34066.25390625,
          33866.0703125,
          33671.1640625,
          33317.0703125,
          32635.3828125,
          31513.53125,
          29990.982421875,
          28227.083984375,
          26476.498046875,
          25022.927734375
         ]
        },
        {
         "mode": "markers",
         "type": "scatter",
         "x": [
          "2017-03-08T03:00:00+01:00",
          "2017-03-08T04:00:00+01:00",
          "2017-03-08T05:00:00+01:00",
          "2017-03-08T06:00:00+01:00",
          "2017-03-08T07:00:00+01:00",
          "2017-03-08T08:00:00+01:00",
          "2017-03-08T09:00:00+01:00",
          "2017-03-08T10:00:00+01:00",
          "2017-03-08T11:00:00+01:00",
          "2017-03-08T12:00:00+01:00",
          "2017-03-08T13:00:00+01:00",
          "2017-03-08T14:00:00+01:00",
          "2017-03-08T15:00:00+01:00",
          "2017-03-08T16:00:00+01:00",
          "2017-03-08T17:00:00+01:00",
          "2017-03-08T18:00:00+01:00",
          "2017-03-08T19:00:00+01:00",
          "2017-03-08T20:00:00+01:00",
          "2017-03-08T21:00:00+01:00",
          "2017-03-08T22:00:00+01:00",
          "2017-03-08T23:00:00+01:00",
          "2017-03-09T00:00:00+01:00",
          "2017-03-09T01:00:00+01:00",
          "2017-03-09T02:00:00+01:00"
         ],
         "y": [
          24111.75390625,
          24415.271484375,
          25514.314453125,
          27248.12109375,
          29368.0703125,
          31545.80078125,
          33441.45703125,
          34812.3984375,
          35556.62109375,
          35708.92578125,
          35412.2578125,
          34863.08984375,
          34277.109375,
          33837.86328125,
          33582.51171875,
          33433.2890625,
          33251.48828125,
          32844.7265625,
          32059.298828125,
          30815.4453125,
          29197.728515625,
          27421.18359375,
          25776.0078125,
          24557.724609375
         ]
        },
        {
         "mode": "markers",
         "type": "scatter",
         "x": [
          "2017-03-08T04:00:00+01:00",
          "2017-03-08T05:00:00+01:00",
          "2017-03-08T06:00:00+01:00",
          "2017-03-08T07:00:00+01:00",
          "2017-03-08T08:00:00+01:00",
          "2017-03-08T09:00:00+01:00",
          "2017-03-08T10:00:00+01:00",
          "2017-03-08T11:00:00+01:00",
          "2017-03-08T12:00:00+01:00",
          "2017-03-08T13:00:00+01:00",
          "2017-03-08T14:00:00+01:00",
          "2017-03-08T15:00:00+01:00",
          "2017-03-08T16:00:00+01:00",
          "2017-03-08T17:00:00+01:00",
          "2017-03-08T18:00:00+01:00",
          "2017-03-08T19:00:00+01:00",
          "2017-03-08T20:00:00+01:00",
          "2017-03-08T21:00:00+01:00",
          "2017-03-08T22:00:00+01:00",
          "2017-03-08T23:00:00+01:00",
          "2017-03-09T00:00:00+01:00",
          "2017-03-09T01:00:00+01:00",
          "2017-03-09T02:00:00+01:00",
          "2017-03-09T03:00:00+01:00"
         ],
         "y": [
          24679.568359375,
          25622.126953125,
          27282.1328125,
          29393.396484375,
          31631.478515625,
          33644.1640625,
          35139.02734375,
          35953.01171875,
          36093.078125,
          35698.78125,
          35001.2734375,
          34226.46875,
          33580.17578125,
          33183.5,
          32988.0703125,
          32846.76171875,
          32575.619140625,
          31973.6484375,
          30941.333984375,
          29475.638671875,
          27741.9296875,
          26028.142578125,
          24655.525390625,
          23904.306640625
         ]
        },
        {
         "mode": "markers",
         "type": "scatter",
         "x": [
          "2017-03-08T05:00:00+01:00",
          "2017-03-08T06:00:00+01:00",
          "2017-03-08T07:00:00+01:00",
          "2017-03-08T08:00:00+01:00",
          "2017-03-08T09:00:00+01:00",
          "2017-03-08T10:00:00+01:00",
          "2017-03-08T11:00:00+01:00",
          "2017-03-08T12:00:00+01:00",
          "2017-03-08T13:00:00+01:00",
          "2017-03-08T14:00:00+01:00",
          "2017-03-08T15:00:00+01:00",
          "2017-03-08T16:00:00+01:00",
          "2017-03-08T17:00:00+01:00",
          "2017-03-08T18:00:00+01:00",
          "2017-03-08T19:00:00+01:00",
          "2017-03-08T20:00:00+01:00",
          "2017-03-08T21:00:00+01:00",
          "2017-03-08T22:00:00+01:00",
          "2017-03-08T23:00:00+01:00",
          "2017-03-09T00:00:00+01:00",
          "2017-03-09T01:00:00+01:00",
          "2017-03-09T02:00:00+01:00",
          "2017-03-09T03:00:00+01:00",
          "2017-03-09T04:00:00+01:00"
         ],
         "y": [
          25381.408203125,
          26931.9765625,
          29009.40234375,
          31274.576171875,
          33372.62109375,
          34999.21484375,
          35966.765625,
          36231.13671875,
          35910.0078125,
          35224.43359375,
          34435.28515625,
          33730.546875,
          33242.1015625,
          32981.94140625,
          32805.86328125,
          32521.255859375,
          31943.017578125,
          30926.728515625,
          29486.51171875,
          27738.2734375,
          25937.419921875,
          24418.216796875,
          23484.021484375,
          23340.509765625
         ]
        },
        {
         "mode": "markers",
         "type": "scatter",
         "x": [
          "2017-03-08T06:00:00+01:00",
          "2017-03-08T07:00:00+01:00",
          "2017-03-08T08:00:00+01:00",
          "2017-03-08T09:00:00+01:00",
          "2017-03-08T10:00:00+01:00",
          "2017-03-08T11:00:00+01:00",
          "2017-03-08T12:00:00+01:00",
          "2017-03-08T13:00:00+01:00",
          "2017-03-08T14:00:00+01:00",
          "2017-03-08T15:00:00+01:00",
          "2017-03-08T16:00:00+01:00",
          "2017-03-08T17:00:00+01:00",
          "2017-03-08T18:00:00+01:00",
          "2017-03-08T19:00:00+01:00",
          "2017-03-08T20:00:00+01:00",
          "2017-03-08T21:00:00+01:00",
          "2017-03-08T22:00:00+01:00",
          "2017-03-08T23:00:00+01:00",
          "2017-03-09T00:00:00+01:00",
          "2017-03-09T01:00:00+01:00",
          "2017-03-09T02:00:00+01:00",
          "2017-03-09T03:00:00+01:00",
          "2017-03-09T04:00:00+01:00",
          "2017-03-09T05:00:00+01:00"
         ],
         "y": [
          26784.30859375,
          28781.158203125,
          31012.3828125,
          33120.578125,
          34793.94921875,
          35840.49609375,
          36211.74609375,
          35985.5703125,
          35364.19921875,
          34600.26171875,
          33912.921875,
          33403.3828125,
          33092.9453125,
          32883.31640625,
          32567.935546875,
          31961.470703125,
          30933.33203125,
          29454.052734375,
          27663.908203125,
          25793.01953125,
          24155.0390625,
          23073.564453125,
          22777.140625,
          23343.935546875
         ]
        },
        {
         "mode": "markers",
         "type": "scatter",
         "x": [
          "2017-03-08T07:00:00+01:00",
          "2017-03-08T08:00:00+01:00",
          "2017-03-08T09:00:00+01:00",
          "2017-03-08T10:00:00+01:00",
          "2017-03-08T11:00:00+01:00",
          "2017-03-08T12:00:00+01:00",
          "2017-03-08T13:00:00+01:00",
          "2017-03-08T14:00:00+01:00",
          "2017-03-08T15:00:00+01:00",
          "2017-03-08T16:00:00+01:00",
          "2017-03-08T17:00:00+01:00",
          "2017-03-08T18:00:00+01:00",
          "2017-03-08T19:00:00+01:00",
          "2017-03-08T20:00:00+01:00",
          "2017-03-08T21:00:00+01:00",
          "2017-03-08T22:00:00+01:00",
          "2017-03-08T23:00:00+01:00",
          "2017-03-09T00:00:00+01:00",
          "2017-03-09T01:00:00+01:00",
          "2017-03-09T02:00:00+01:00",
          "2017-03-09T03:00:00+01:00",
          "2017-03-09T04:00:00+01:00",
          "2017-03-09T05:00:00+01:00",
          "2017-03-09T06:00:00+01:00"
         ],
         "y": [
          28349.947265625,
          30498.400390625,
          32610.052734375,
          34360.2578125,
          35531.66796875,
          36052.921875,
          35983.6875,
          35477.59765625,
          34767.99609375,
          34086.671875,
          33569.53125,
          33230.85546875,
          32998.59375,
          32709.66796875,
          32149.123046875,
          31183.197265625,
          29758.9375,
          27966.0859375,
          26016.40234375,
          24204.287109375,
          22858.884765625,
          22250.427734375,
          22520.87109375,
          23628.28515625
         ]
        },
        {
         "mode": "markers",
         "type": "scatter",
         "x": [
          "2017-03-08T08:00:00+01:00",
          "2017-03-08T09:00:00+01:00",
          "2017-03-08T10:00:00+01:00",
          "2017-03-08T11:00:00+01:00",
          "2017-03-08T12:00:00+01:00",
          "2017-03-08T13:00:00+01:00",
          "2017-03-08T14:00:00+01:00",
          "2017-03-08T15:00:00+01:00",
          "2017-03-08T16:00:00+01:00",
          "2017-03-08T17:00:00+01:00",
          "2017-03-08T18:00:00+01:00",
          "2017-03-08T19:00:00+01:00",
          "2017-03-08T20:00:00+01:00",
          "2017-03-08T21:00:00+01:00",
          "2017-03-08T22:00:00+01:00",
          "2017-03-08T23:00:00+01:00",
          "2017-03-09T00:00:00+01:00",
          "2017-03-09T01:00:00+01:00",
          "2017-03-09T02:00:00+01:00",
          "2017-03-09T03:00:00+01:00",
          "2017-03-09T04:00:00+01:00",
          "2017-03-09T05:00:00+01:00",
          "2017-03-09T06:00:00+01:00",
          "2017-03-09T07:00:00+01:00"
         ],
         "y": [
          30169.078125,
          32251.32421875,
          34032.3359375,
          35265.5390625,
          35867.0390625,
          35890.234375,
          35483.76953125,
          34837.1875,
          34172.58203125,
          33655.515625,
          33313.0859375,
          33069.51953125,
          32780.90625,
          32258.462890625,
          31330.876953125,
          29956.326171875,
          28184.421875,
          26226.857421875,
          24331.3046875,
          22810.333984375,
          21960.822265625,
          21954.16796875,
          22815.458984375,
          24385.07421875
         ]
        },
        {
         "mode": "markers",
         "type": "scatter",
         "x": [
          "2017-03-08T09:00:00+01:00",
          "2017-03-08T10:00:00+01:00",
          "2017-03-08T11:00:00+01:00",
          "2017-03-08T12:00:00+01:00",
          "2017-03-08T13:00:00+01:00",
          "2017-03-08T14:00:00+01:00",
          "2017-03-08T15:00:00+01:00",
          "2017-03-08T16:00:00+01:00",
          "2017-03-08T17:00:00+01:00",
          "2017-03-08T18:00:00+01:00",
          "2017-03-08T19:00:00+01:00",
          "2017-03-08T20:00:00+01:00",
          "2017-03-08T21:00:00+01:00",
          "2017-03-08T22:00:00+01:00",
          "2017-03-08T23:00:00+01:00",
          "2017-03-09T00:00:00+01:00",
          "2017-03-09T01:00:00+01:00",
          "2017-03-09T02:00:00+01:00",
          "2017-03-09T03:00:00+01:00",
          "2017-03-09T04:00:00+01:00",
          "2017-03-09T05:00:00+01:00",
          "2017-03-09T06:00:00+01:00",
          "2017-03-09T07:00:00+01:00",
          "2017-03-09T08:00:00+01:00"
         ],
         "y": [
          31584.453125,
          33432.45703125,
          34812.93359375,
          35573.6796875,
          35759.86328125,
          35514.63671875,
          35006.0546875,
          34405.91015625,
          33878.359375,
          33505.33203125,
          33211.9921875,
          32868.24609375,
          32316.275390625,
          31405.408203125,
          30054.4296875,
          28322.650390625,
          26351.603515625,
          24433.568359375,
          22797.650390625,
          21706.55859375,
          21393.865234375,
          21918.12109375,
          23204.27734375,
          25015.423828125
         ]
        },
        {
         "mode": "markers",
         "type": "scatter",
         "x": [
          "2017-03-08T10:00:00+01:00",
          "2017-03-08T11:00:00+01:00",
          "2017-03-08T12:00:00+01:00",
          "2017-03-08T13:00:00+01:00",
          "2017-03-08T14:00:00+01:00",
          "2017-03-08T15:00:00+01:00",
          "2017-03-08T16:00:00+01:00",
          "2017-03-08T17:00:00+01:00",
          "2017-03-08T18:00:00+01:00",
          "2017-03-08T19:00:00+01:00",
          "2017-03-08T20:00:00+01:00",
          "2017-03-08T21:00:00+01:00",
          "2017-03-08T22:00:00+01:00",
          "2017-03-08T23:00:00+01:00",
          "2017-03-09T00:00:00+01:00",
          "2017-03-09T01:00:00+01:00",
          "2017-03-09T02:00:00+01:00",
          "2017-03-09T03:00:00+01:00",
          "2017-03-09T04:00:00+01:00",
          "2017-03-09T05:00:00+01:00",
          "2017-03-09T06:00:00+01:00",
          "2017-03-09T07:00:00+01:00",
          "2017-03-09T08:00:00+01:00",
          "2017-03-09T09:00:00+01:00"
         ],
         "y": [
          32575.884765625,
          34079.3203125,
          35061.51171875,
          35461.16796875,
          35416.25,
          35106.8203125,
          34664.1171875,
          34195.4609375,
          33779.8984375,
          33420.8359375,
          32974.5546875,
          32314.85546875,
          31328.185546875,
          29960.3515625,
          28245.427734375,
          26332.59765625,
          24421.837890625,
          22824.421875,
          21695.107421875,
          21190.150390625,
          21444.029296875,
          22406.076171875,
          23935.63671875,
          25767.919921875
         ]
        },
        {
         "mode": "markers",
         "type": "scatter",
         "x": [
          "2017-03-08T11:00:00+01:00",
          "2017-03-08T12:00:00+01:00",
          "2017-03-08T13:00:00+01:00",
          "2017-03-08T14:00:00+01:00",
          "2017-03-08T15:00:00+01:00",
          "2017-03-08T16:00:00+01:00",
          "2017-03-08T17:00:00+01:00",
          "2017-03-08T18:00:00+01:00",
          "2017-03-08T19:00:00+01:00",
          "2017-03-08T20:00:00+01:00",
          "2017-03-08T21:00:00+01:00",
          "2017-03-08T22:00:00+01:00",
          "2017-03-08T23:00:00+01:00",
          "2017-03-09T00:00:00+01:00",
          "2017-03-09T01:00:00+01:00",
          "2017-03-09T02:00:00+01:00",
          "2017-03-09T03:00:00+01:00",
          "2017-03-09T04:00:00+01:00",
          "2017-03-09T05:00:00+01:00",
          "2017-03-09T06:00:00+01:00",
          "2017-03-09T07:00:00+01:00",
          "2017-03-09T08:00:00+01:00",
          "2017-03-09T09:00:00+01:00",
          "2017-03-09T10:00:00+01:00"
         ],
         "y": [
          33370.484375,
          34444.0078125,
          35034.90625,
          35155,
          34989.71484375,
          34704.7265625,
          34361.49609375,
          33979.30859375,
          33553.1328125,
          33031.3515625,
          32250.6875,
          31145.599609375,
          29688.52734375,
          27954.587890625,
          26085.345703125,
          24287.296875,
          22768.994140625,
          21794.732421875,
          21396.296875,
          21591.16015625,
          22395.259765625,
          23670.470703125,
          25254.818359375,
          26906.67578125
         ]
        },
        {
         "mode": "markers",
         "type": "scatter",
         "x": [
          "2017-03-08T12:00:00+01:00",
          "2017-03-08T13:00:00+01:00",
          "2017-03-08T14:00:00+01:00",
          "2017-03-08T15:00:00+01:00",
          "2017-03-08T16:00:00+01:00",
          "2017-03-08T17:00:00+01:00",
          "2017-03-08T18:00:00+01:00",
          "2017-03-08T19:00:00+01:00",
          "2017-03-08T20:00:00+01:00",
          "2017-03-08T21:00:00+01:00",
          "2017-03-08T22:00:00+01:00",
          "2017-03-08T23:00:00+01:00",
          "2017-03-09T00:00:00+01:00",
          "2017-03-09T01:00:00+01:00",
          "2017-03-09T02:00:00+01:00",
          "2017-03-09T03:00:00+01:00",
          "2017-03-09T04:00:00+01:00",
          "2017-03-09T05:00:00+01:00",
          "2017-03-09T06:00:00+01:00",
          "2017-03-09T07:00:00+01:00",
          "2017-03-09T08:00:00+01:00",
          "2017-03-09T09:00:00+01:00",
          "2017-03-09T10:00:00+01:00",
          "2017-03-09T11:00:00+01:00"
         ],
         "y": [
          33806.4921875,
          34522.51171875,
          34839.12109375,
          34803.29296875,
          34601.68359375,
          34357.796875,
          34061.68359375,
          33663.41015625,
          33107.8984375,
          32331.732421875,
          31197.54296875,
          29718.36328125,
          27952.64453125,
          26076.794921875,
          24294.6015625,
          22820.5078125,
          21829.173828125,
          21503.84375,
          21758.810546875,
          22494.296875,
          23644.203125,
          25030.0859375,
          26510.94921875,
          27897.7421875
         ]
        },
        {
         "mode": "markers",
         "type": "scatter",
         "x": [
          "2017-03-08T13:00:00+01:00",
          "2017-03-08T14:00:00+01:00",
          "2017-03-08T15:00:00+01:00",
          "2017-03-08T16:00:00+01:00",
          "2017-03-08T17:00:00+01:00",
          "2017-03-08T18:00:00+01:00",
          "2017-03-08T19:00:00+01:00",
          "2017-03-08T20:00:00+01:00",
          "2017-03-08T21:00:00+01:00",
          "2017-03-08T22:00:00+01:00",
          "2017-03-08T23:00:00+01:00",
          "2017-03-09T00:00:00+01:00",
          "2017-03-09T01:00:00+01:00",
          "2017-03-09T02:00:00+01:00",
          "2017-03-09T03:00:00+01:00",
          "2017-03-09T04:00:00+01:00",
          "2017-03-09T05:00:00+01:00",
          "2017-03-09T06:00:00+01:00",
          "2017-03-09T07:00:00+01:00",
          "2017-03-09T08:00:00+01:00",
          "2017-03-09T09:00:00+01:00",
          "2017-03-09T10:00:00+01:00",
          "2017-03-09T11:00:00+01:00",
          "2017-03-09T12:00:00+01:00"
         ],
         "y": [
          33827.7734375,
          34316.1640625,
          34511.1953125,
          34451.4375,
          34280.3515625,
          34063.3984375,
          33722.38671875,
          33173.51953125,
          32355.2109375,
          31240.87109375,
          29764.083984375,
          28020.171875,
          26143.30859375,
          24371.2421875,
          22911.935546875,
          21935.302734375,
          21542.42578125,
          21812.82421875,
          22561.224609375,
          23606.515625,
          24855.0625,
          26142.966796875,
          27388.69921875,
          28477.1015625
         ]
        },
        {
         "mode": "markers",
         "type": "scatter",
         "x": [
          "2017-03-08T14:00:00+01:00",
          "2017-03-08T15:00:00+01:00",
          "2017-03-08T16:00:00+01:00",
          "2017-03-08T17:00:00+01:00",
          "2017-03-08T18:00:00+01:00",
          "2017-03-08T19:00:00+01:00",
          "2017-03-08T20:00:00+01:00",
          "2017-03-08T21:00:00+01:00",
          "2017-03-08T22:00:00+01:00",
          "2017-03-08T23:00:00+01:00",
          "2017-03-09T00:00:00+01:00",
          "2017-03-09T01:00:00+01:00",
          "2017-03-09T02:00:00+01:00",
          "2017-03-09T03:00:00+01:00",
          "2017-03-09T04:00:00+01:00",
          "2017-03-09T05:00:00+01:00",
          "2017-03-09T06:00:00+01:00",
          "2017-03-09T07:00:00+01:00",
          "2017-03-09T08:00:00+01:00",
          "2017-03-09T09:00:00+01:00",
          "2017-03-09T10:00:00+01:00",
          "2017-03-09T11:00:00+01:00",
          "2017-03-09T12:00:00+01:00",
          "2017-03-09T13:00:00+01:00"
         ],
         "y": [
          33617.66796875,
          33989.27734375,
          34166.97265625,
          34145.390625,
          33996.2578125,
          33728.44140625,
          33211.98828125,
          32370.966796875,
          31178.60546875,
          29684.640625,
          27921.498046875,
          26057.68359375,
          24282.72265625,
          22852.419921875,
          21925.171875,
          21581.689453125,
          21822.955078125,
          22615.400390625,
          23702.513671875,
          24860.771484375,
          26016.0703125,
          27063.126953125,
          28002.673828125,
          28800.216796875
         ]
        },
        {
         "mode": "markers",
         "type": "scatter",
         "x": [
          "2017-03-08T15:00:00+01:00",
          "2017-03-08T16:00:00+01:00",
          "2017-03-08T17:00:00+01:00",
          "2017-03-08T18:00:00+01:00",
          "2017-03-08T19:00:00+01:00",
          "2017-03-08T20:00:00+01:00",
          "2017-03-08T21:00:00+01:00",
          "2017-03-08T22:00:00+01:00",
          "2017-03-08T23:00:00+01:00",
          "2017-03-09T00:00:00+01:00",
          "2017-03-09T01:00:00+01:00",
          "2017-03-09T02:00:00+01:00",
          "2017-03-09T03:00:00+01:00",
          "2017-03-09T04:00:00+01:00",
          "2017-03-09T05:00:00+01:00",
          "2017-03-09T06:00:00+01:00",
          "2017-03-09T07:00:00+01:00",
          "2017-03-09T08:00:00+01:00",
          "2017-03-09T09:00:00+01:00",
          "2017-03-09T10:00:00+01:00",
          "2017-03-09T11:00:00+01:00",
          "2017-03-09T12:00:00+01:00",
          "2017-03-09T13:00:00+01:00",
          "2017-03-09T14:00:00+01:00"
         ],
         "y": [
          33222.44140625,
          33627.921875,
          33898.87109375,
          33953.03125,
          33778.12109375,
          33336.875,
          32492.74609375,
          31228.6015625,
          29599.59375,
          27761.296875,
          25850.607421875,
          24088.251953125,
          22674.630859375,
          21820.359375,
          21578.576171875,
          21906.7109375,
          22693.84375,
          23812.60546875,
          24980.73828125,
          25998.4765625,
          26858.25,
          27555.451171875,
          28180.9609375,
          28771.91015625
         ]
        },
        {
         "mode": "markers",
         "type": "scatter",
         "x": [
          "2017-03-08T16:00:00+01:00",
          "2017-03-08T17:00:00+01:00",
          "2017-03-08T18:00:00+01:00",
          "2017-03-08T19:00:00+01:00",
          "2017-03-08T20:00:00+01:00",
          "2017-03-08T21:00:00+01:00",
          "2017-03-08T22:00:00+01:00",
          "2017-03-08T23:00:00+01:00",
          "2017-03-09T00:00:00+01:00",
          "2017-03-09T01:00:00+01:00",
          "2017-03-09T02:00:00+01:00",
          "2017-03-09T03:00:00+01:00",
          "2017-03-09T04:00:00+01:00",
          "2017-03-09T05:00:00+01:00",
          "2017-03-09T06:00:00+01:00",
          "2017-03-09T07:00:00+01:00",
          "2017-03-09T08:00:00+01:00",
          "2017-03-09T09:00:00+01:00",
          "2017-03-09T10:00:00+01:00",
          "2017-03-09T11:00:00+01:00",
          "2017-03-09T12:00:00+01:00",
          "2017-03-09T13:00:00+01:00",
          "2017-03-09T14:00:00+01:00",
          "2017-03-09T15:00:00+01:00"
         ],
         "y": [
          32726.322265625,
          33292.4140625,
          33718.52734375,
          33829.53515625,
          33543.515625,
          32803.359375,
          31522.328125,
          29786.283203125,
          27766.69921875,
          25727.3203125,
          23886.166015625,
          22477.82421875,
          21656.3671875,
          21527.35546875,
          21999.708984375,
          22899.419921875,
          24018.248046875,
          25181.97265625,
          26134.978515625,
          26771.4453125,
          27184.04296875,
          27491.484375,
          27861.427734375,
          28375.091796875
         ]
        },
        {
         "mode": "markers",
         "type": "scatter",
         "x": [
          "2017-03-08T17:00:00+01:00",
          "2017-03-08T18:00:00+01:00",
          "2017-03-08T19:00:00+01:00",
          "2017-03-08T20:00:00+01:00",
          "2017-03-08T21:00:00+01:00",
          "2017-03-08T22:00:00+01:00",
          "2017-03-08T23:00:00+01:00",
          "2017-03-09T00:00:00+01:00",
          "2017-03-09T01:00:00+01:00",
          "2017-03-09T02:00:00+01:00",
          "2017-03-09T03:00:00+01:00",
          "2017-03-09T04:00:00+01:00",
          "2017-03-09T05:00:00+01:00",
          "2017-03-09T06:00:00+01:00",
          "2017-03-09T07:00:00+01:00",
          "2017-03-09T08:00:00+01:00",
          "2017-03-09T09:00:00+01:00",
          "2017-03-09T10:00:00+01:00",
          "2017-03-09T11:00:00+01:00",
          "2017-03-09T12:00:00+01:00",
          "2017-03-09T13:00:00+01:00",
          "2017-03-09T14:00:00+01:00",
          "2017-03-09T15:00:00+01:00",
          "2017-03-09T16:00:00+01:00"
         ],
         "y": [
          32305.16796875,
          33013.25,
          33507.79296875,
          33543.30859375,
          33014.66796875,
          31890.486328125,
          30170.9921875,
          28060.115234375,
          25839.54296875,
          23845.51171875,
          22324.578125,
          21473.365234375,
          21353.3984375,
          21940.67578125,
          23003.69921875,
          24266.208984375,
          25468.302734375,
          26445.28125,
          27008.53125,
          27176.419921875,
          27144.990234375,
          27134.90234375,
          27355.064453125,
          27887.05859375
         ]
        },
        {
         "mode": "markers",
         "type": "scatter",
         "x": [
          "2017-03-08T18:00:00+01:00",
          "2017-03-08T19:00:00+01:00",
          "2017-03-08T20:00:00+01:00",
          "2017-03-08T21:00:00+01:00",
          "2017-03-08T22:00:00+01:00",
          "2017-03-08T23:00:00+01:00",
          "2017-03-09T00:00:00+01:00",
          "2017-03-09T01:00:00+01:00",
          "2017-03-09T02:00:00+01:00",
          "2017-03-09T03:00:00+01:00",
          "2017-03-09T04:00:00+01:00",
          "2017-03-09T05:00:00+01:00",
          "2017-03-09T06:00:00+01:00",
          "2017-03-09T07:00:00+01:00",
          "2017-03-09T08:00:00+01:00",
          "2017-03-09T09:00:00+01:00",
          "2017-03-09T10:00:00+01:00",
          "2017-03-09T11:00:00+01:00",
          "2017-03-09T12:00:00+01:00",
          "2017-03-09T13:00:00+01:00",
          "2017-03-09T14:00:00+01:00",
          "2017-03-09T15:00:00+01:00",
          "2017-03-09T16:00:00+01:00",
          "2017-03-09T17:00:00+01:00"
         ],
         "y": [
          32019.0703125,
          32721.2734375,
          33083.109375,
          32844.1640625,
          31939.755859375,
          30414.6640625,
          28367.873046875,
          26105.666015625,
          23975.30078125,
          22324.169921875,
          21357.9375,
          21183.998046875,
          21744.404296875,
          22896.5234375,
          24311.642578125,
          25669.53515625,
          26722.828125,
          27369.57421875,
          27510.1953125,
          27275.515625,
          26938.845703125,
          26765.69921875,
          26956.8828125,
          27546.259765625
         ]
        },
        {
         "mode": "markers",
         "type": "scatter",
         "x": [
          "2017-03-08T19:00:00+01:00",
          "2017-03-08T20:00:00+01:00",
          "2017-03-08T21:00:00+01:00",
          "2017-03-08T22:00:00+01:00",
          "2017-03-08T23:00:00+01:00",
          "2017-03-09T00:00:00+01:00",
          "2017-03-09T01:00:00+01:00",
          "2017-03-09T02:00:00+01:00",
          "2017-03-09T03:00:00+01:00",
          "2017-03-09T04:00:00+01:00",
          "2017-03-09T05:00:00+01:00",
          "2017-03-09T06:00:00+01:00",
          "2017-03-09T07:00:00+01:00",
          "2017-03-09T08:00:00+01:00",
          "2017-03-09T09:00:00+01:00",
          "2017-03-09T10:00:00+01:00",
          "2017-03-09T11:00:00+01:00",
          "2017-03-09T12:00:00+01:00",
          "2017-03-09T13:00:00+01:00",
          "2017-03-09T14:00:00+01:00",
          "2017-03-09T15:00:00+01:00",
          "2017-03-09T16:00:00+01:00",
          "2017-03-09T17:00:00+01:00",
          "2017-03-09T18:00:00+01:00"
         ],
         "y": [
          31867.748046875,
          32419.087890625,
          32469.55859375,
          31801.373046875,
          30445.623046875,
          28557.07421875,
          26335.064453125,
          24156.52734375,
          22382.8984375,
          21309.947265625,
          21044.09375,
          21566.263671875,
          22691.7421875,
          24183.740234375,
          25672.267578125,
          26858.39453125,
          27568.4453125,
          27804.53125,
          27565.294921875,
          27068.240234375,
          26622.3671875,
          26475.798828125,
          26768.5546875,
          27448.576171875
         ]
        },
        {
         "mode": "markers",
         "type": "scatter",
         "x": [
          "2017-03-08T20:00:00+01:00",
          "2017-03-08T21:00:00+01:00",
          "2017-03-08T22:00:00+01:00",
          "2017-03-08T23:00:00+01:00",
          "2017-03-09T00:00:00+01:00",
          "2017-03-09T01:00:00+01:00",
          "2017-03-09T02:00:00+01:00",
          "2017-03-09T03:00:00+01:00",
          "2017-03-09T04:00:00+01:00",
          "2017-03-09T05:00:00+01:00",
          "2017-03-09T06:00:00+01:00",
          "2017-03-09T07:00:00+01:00",
          "2017-03-09T08:00:00+01:00",
          "2017-03-09T09:00:00+01:00",
          "2017-03-09T10:00:00+01:00",
          "2017-03-09T11:00:00+01:00",
          "2017-03-09T12:00:00+01:00",
          "2017-03-09T13:00:00+01:00",
          "2017-03-09T14:00:00+01:00",
          "2017-03-09T15:00:00+01:00",
          "2017-03-09T16:00:00+01:00",
          "2017-03-09T17:00:00+01:00",
          "2017-03-09T18:00:00+01:00",
          "2017-03-09T19:00:00+01:00"
         ],
         "y": [
          31686.3125,
          31971.60546875,
          31596.361328125,
          30432.861328125,
          28641.18359375,
          26494.3984375,
          24283.548828125,
          22414.759765625,
          21213.44921875,
          20871.9609375,
          21360.314453125,
          22516.34765625,
          24040.845703125,
          25633.0390625,
          26938.3046875,
          27737.82421875,
          27976.306640625,
          27781.74609375,
          27248.46875,
          26649.333984375,
          26281.326171875,
          26321.21484375,
          26806.291015625,
          27579.314453125
         ]
        },
        {
         "mode": "markers",
         "type": "scatter",
         "x": [
          "2017-03-08T21:00:00+01:00",
          "2017-03-08T22:00:00+01:00",
          "2017-03-08T23:00:00+01:00",
          "2017-03-09T00:00:00+01:00",
          "2017-03-09T01:00:00+01:00",
          "2017-03-09T02:00:00+01:00",
          "2017-03-09T03:00:00+01:00",
          "2017-03-09T04:00:00+01:00",
          "2017-03-09T05:00:00+01:00",
          "2017-03-09T06:00:00+01:00",
          "2017-03-09T07:00:00+01:00",
          "2017-03-09T08:00:00+01:00",
          "2017-03-09T09:00:00+01:00",
          "2017-03-09T10:00:00+01:00",
          "2017-03-09T11:00:00+01:00",
          "2017-03-09T12:00:00+01:00",
          "2017-03-09T13:00:00+01:00",
          "2017-03-09T14:00:00+01:00",
          "2017-03-09T15:00:00+01:00",
          "2017-03-09T16:00:00+01:00",
          "2017-03-09T17:00:00+01:00",
          "2017-03-09T18:00:00+01:00",
          "2017-03-09T19:00:00+01:00",
          "2017-03-09T20:00:00+01:00"
         ],
         "y": [
          31142.029296875,
          31038.669921875,
          30194.990234375,
          28606.84375,
          26559.611328125,
          24415.423828125,
          22505.1640625,
          21199.611328125,
          20728.921875,
          21147.126953125,
          22283.111328125,
          23855.8671875,
          25503.884765625,
          26925.443359375,
          27843.01171875,
          28158.533203125,
          27946.23046875,
          27440.814453125,
          26794.1796875,
          26275.08984375,
          26116.783203125,
          26385.91796875,
          27010.869140625,
          27748.255859375
         ]
        },
        {
         "mode": "markers",
         "type": "scatter",
         "x": [
          "2017-03-08T22:00:00+01:00",
          "2017-03-08T23:00:00+01:00",
          "2017-03-09T00:00:00+01:00",
          "2017-03-09T01:00:00+01:00",
          "2017-03-09T02:00:00+01:00",
          "2017-03-09T03:00:00+01:00",
          "2017-03-09T04:00:00+01:00",
          "2017-03-09T05:00:00+01:00",
          "2017-03-09T06:00:00+01:00",
          "2017-03-09T07:00:00+01:00",
          "2017-03-09T08:00:00+01:00",
          "2017-03-09T09:00:00+01:00",
          "2017-03-09T10:00:00+01:00",
          "2017-03-09T11:00:00+01:00",
          "2017-03-09T12:00:00+01:00",
          "2017-03-09T13:00:00+01:00",
          "2017-03-09T14:00:00+01:00",
          "2017-03-09T15:00:00+01:00",
          "2017-03-09T16:00:00+01:00",
          "2017-03-09T17:00:00+01:00",
          "2017-03-09T18:00:00+01:00",
          "2017-03-09T19:00:00+01:00",
          "2017-03-09T20:00:00+01:00",
          "2017-03-09T21:00:00+01:00"
         ],
         "y": [
          30140.380859375,
          29569.3671875,
          28311.55859375,
          26493.615234375,
          24488.810546875,
          22688.083984375,
          21381.80859375,
          20832.560546875,
          21125.87890625,
          22167.90625,
          23675.5703125,
          25312.26953125,
          26735.494140625,
          27724.755859375,
          28133.419921875,
          27997.681640625,
          27499.009765625,
          26922.330078125,
          26411.265625,
          26154.41015625,
          26276.580078125,
          26719.037109375,
          27330.44921875,
          27831.7578125
         ]
        },
        {
         "mode": "markers",
         "type": "scatter",
         "x": [
          "2017-03-08T23:00:00+01:00",
          "2017-03-09T00:00:00+01:00",
          "2017-03-09T01:00:00+01:00",
          "2017-03-09T02:00:00+01:00",
          "2017-03-09T03:00:00+01:00",
          "2017-03-09T04:00:00+01:00",
          "2017-03-09T05:00:00+01:00",
          "2017-03-09T06:00:00+01:00",
          "2017-03-09T07:00:00+01:00",
          "2017-03-09T08:00:00+01:00",
          "2017-03-09T09:00:00+01:00",
          "2017-03-09T10:00:00+01:00",
          "2017-03-09T11:00:00+01:00",
          "2017-03-09T12:00:00+01:00",
          "2017-03-09T13:00:00+01:00",
          "2017-03-09T14:00:00+01:00",
          "2017-03-09T15:00:00+01:00",
          "2017-03-09T16:00:00+01:00",
          "2017-03-09T17:00:00+01:00",
          "2017-03-09T18:00:00+01:00",
          "2017-03-09T19:00:00+01:00",
          "2017-03-09T20:00:00+01:00",
          "2017-03-09T21:00:00+01:00",
          "2017-03-09T22:00:00+01:00"
         ],
         "y": [
          28727.177734375,
          27696.703125,
          26156.361328125,
          24343.837890625,
          22670.197265625,
          21489.974609375,
          20985.611328125,
          21261.935546875,
          22241.18359375,
          23699.34375,
          25284.556640625,
          26676.033203125,
          27618.521484375,
          28030.73828125,
          27920.775390625,
          27446.08984375,
          26855.177734375,
          26421.54296875,
          26220.185546875,
          26307.41015625,
          26681.74609375,
          27171.40234375,
          27592.875,
          27687.72265625
         ]
        },
        {
         "mode": "markers",
         "type": "scatter",
         "x": [
          "2017-03-09T00:00:00+01:00",
          "2017-03-09T01:00:00+01:00",
          "2017-03-09T02:00:00+01:00",
          "2017-03-09T03:00:00+01:00",
          "2017-03-09T04:00:00+01:00",
          "2017-03-09T05:00:00+01:00",
          "2017-03-09T06:00:00+01:00",
          "2017-03-09T07:00:00+01:00",
          "2017-03-09T08:00:00+01:00",
          "2017-03-09T09:00:00+01:00",
          "2017-03-09T10:00:00+01:00",
          "2017-03-09T11:00:00+01:00",
          "2017-03-09T12:00:00+01:00",
          "2017-03-09T13:00:00+01:00",
          "2017-03-09T14:00:00+01:00",
          "2017-03-09T15:00:00+01:00",
          "2017-03-09T16:00:00+01:00",
          "2017-03-09T17:00:00+01:00",
          "2017-03-09T18:00:00+01:00",
          "2017-03-09T19:00:00+01:00",
          "2017-03-09T20:00:00+01:00",
          "2017-03-09T21:00:00+01:00",
          "2017-03-09T22:00:00+01:00",
          "2017-03-09T23:00:00+01:00"
         ],
         "y": [
          27244.130859375,
          25939.10546875,
          24351.216796875,
          22767.22265625,
          21576.671875,
          21050.921875,
          21247.025390625,
          22129.45703125,
          23502.845703125,
          25079.876953125,
          26500.01171875,
          27514.048828125,
          27974.615234375,
          27930.46875,
          27502.39453125,
          26909.921875,
          26407.390625,
          26209.0234375,
          26297.484375,
          26609.291015625,
          27055.529296875,
          27410.720703125,
          27519.4765625,
          27187.904296875
         ]
        },
        {
         "mode": "markers",
         "type": "scatter",
         "x": [
          "2017-03-09T01:00:00+01:00",
          "2017-03-09T02:00:00+01:00",
          "2017-03-09T03:00:00+01:00",
          "2017-03-09T04:00:00+01:00",
          "2017-03-09T05:00:00+01:00",
          "2017-03-09T06:00:00+01:00",
          "2017-03-09T07:00:00+01:00",
          "2017-03-09T08:00:00+01:00",
          "2017-03-09T09:00:00+01:00",
          "2017-03-09T10:00:00+01:00",
          "2017-03-09T11:00:00+01:00",
          "2017-03-09T12:00:00+01:00",
          "2017-03-09T13:00:00+01:00",
          "2017-03-09T14:00:00+01:00",
          "2017-03-09T15:00:00+01:00",
          "2017-03-09T16:00:00+01:00",
          "2017-03-09T17:00:00+01:00",
          "2017-03-09T18:00:00+01:00",
          "2017-03-09T19:00:00+01:00",
          "2017-03-09T20:00:00+01:00",
          "2017-03-09T21:00:00+01:00",
          "2017-03-09T22:00:00+01:00",
          "2017-03-09T23:00:00+01:00",
          "2017-03-10T00:00:00+01:00"
         ],
         "y": [
          25502.12109375,
          24108.5390625,
          22718.712890625,
          21609.5,
          21088.12109375,
          21294.53515625,
          22140.056640625,
          23461.296875,
          24985.37890625,
          26423.544921875,
          27464.224609375,
          27982.34375,
          27958.55078125,
          27563.82421875,
          26991.61328125,
          26468.951171875,
          26197.90625,
          26289.095703125,
          26611.650390625,
          26996.970703125,
          27307.83984375,
          27324.541015625,
          26979.44140625,
          26187.193359375
         ]
        },
        {
         "mode": "markers",
         "type": "scatter",
         "x": [
          "2017-03-09T02:00:00+01:00",
          "2017-03-09T03:00:00+01:00",
          "2017-03-09T04:00:00+01:00",
          "2017-03-09T05:00:00+01:00",
          "2017-03-09T06:00:00+01:00",
          "2017-03-09T07:00:00+01:00",
          "2017-03-09T08:00:00+01:00",
          "2017-03-09T09:00:00+01:00",
          "2017-03-09T10:00:00+01:00",
          "2017-03-09T11:00:00+01:00",
          "2017-03-09T12:00:00+01:00",
          "2017-03-09T13:00:00+01:00",
          "2017-03-09T14:00:00+01:00",
          "2017-03-09T15:00:00+01:00",
          "2017-03-09T16:00:00+01:00",
          "2017-03-09T17:00:00+01:00",
          "2017-03-09T18:00:00+01:00",
          "2017-03-09T19:00:00+01:00",
          "2017-03-09T20:00:00+01:00",
          "2017-03-09T21:00:00+01:00",
          "2017-03-09T22:00:00+01:00",
          "2017-03-09T23:00:00+01:00",
          "2017-03-10T00:00:00+01:00",
          "2017-03-10T01:00:00+01:00"
         ],
         "y": [
          23902.111328125,
          22658.712890625,
          21687.3515625,
          21198.15234375,
          21374.646484375,
          22212.5703125,
          23494.607421875,
          24975.728515625,
          26366.98828125,
          27438.912109375,
          27977.185546875,
          27996.603515625,
          27594.453125,
          27023.830078125,
          26490.767578125,
          26175.166015625,
          26183.076171875,
          26509.7578125,
          26922.423828125,
          27193.41015625,
          27192.072265625,
          26765.0625,
          25963.0703125,
          24822.935546875
         ]
        },
        {
         "mode": "markers",
         "type": "scatter",
         "x": [
          "2017-03-09T03:00:00+01:00",
          "2017-03-09T04:00:00+01:00",
          "2017-03-09T05:00:00+01:00",
          "2017-03-09T06:00:00+01:00",
          "2017-03-09T07:00:00+01:00",
          "2017-03-09T08:00:00+01:00",
          "2017-03-09T09:00:00+01:00",
          "2017-03-09T10:00:00+01:00",
          "2017-03-09T11:00:00+01:00",
          "2017-03-09T12:00:00+01:00",
          "2017-03-09T13:00:00+01:00",
          "2017-03-09T14:00:00+01:00",
          "2017-03-09T15:00:00+01:00",
          "2017-03-09T16:00:00+01:00",
          "2017-03-09T17:00:00+01:00",
          "2017-03-09T18:00:00+01:00",
          "2017-03-09T19:00:00+01:00",
          "2017-03-09T20:00:00+01:00",
          "2017-03-09T21:00:00+01:00",
          "2017-03-09T22:00:00+01:00",
          "2017-03-09T23:00:00+01:00",
          "2017-03-10T00:00:00+01:00",
          "2017-03-10T01:00:00+01:00",
          "2017-03-10T02:00:00+01:00"
         ],
         "y": [
          22652.625,
          21732.34375,
          21294.306640625,
          21446.625,
          22229.916015625,
          23510.29296875,
          24980.611328125,
          26367.111328125,
          27417.548828125,
          28000.681640625,
          28028.75390625,
          27642.236328125,
          27024.9609375,
          26460.900390625,
          26118.216796875,
          26091.693359375,
          26372.896484375,
          26849.318359375,
          27224.1640625,
          27258.982421875,
          26869.423828125,
          26006.2578125,
          24837.4921875,
          23510.115234375
         ]
        },
        {
         "mode": "markers",
         "type": "scatter",
         "x": [
          "2017-03-09T04:00:00+01:00",
          "2017-03-09T05:00:00+01:00",
          "2017-03-09T06:00:00+01:00",
          "2017-03-09T07:00:00+01:00",
          "2017-03-09T08:00:00+01:00",
          "2017-03-09T09:00:00+01:00",
          "2017-03-09T10:00:00+01:00",
          "2017-03-09T11:00:00+01:00",
          "2017-03-09T12:00:00+01:00",
          "2017-03-09T13:00:00+01:00",
          "2017-03-09T14:00:00+01:00",
          "2017-03-09T15:00:00+01:00",
          "2017-03-09T16:00:00+01:00",
          "2017-03-09T17:00:00+01:00",
          "2017-03-09T18:00:00+01:00",
          "2017-03-09T19:00:00+01:00",
          "2017-03-09T20:00:00+01:00",
          "2017-03-09T21:00:00+01:00",
          "2017-03-09T22:00:00+01:00",
          "2017-03-09T23:00:00+01:00",
          "2017-03-10T00:00:00+01:00",
          "2017-03-10T01:00:00+01:00",
          "2017-03-10T02:00:00+01:00",
          "2017-03-10T03:00:00+01:00"
         ],
         "y": [
          21594.955078125,
          21231.890625,
          21479.37890625,
          22305.150390625,
          23585.1640625,
          25077.470703125,
          26448.90625,
          27468.0625,
          27980.41015625,
          27997.759765625,
          27581.294921875,
          26972.353515625,
          26391.08984375,
          26072.267578125,
          26083.52734375,
          26393.01171875,
          26864.453125,
          27299.189453125,
          27406.26171875,
          27010.6484375,
          26123.22265625,
          24840.578125,
          23439.08203125,
          22149.232421875
         ]
        },
        {
         "mode": "markers",
         "type": "scatter",
         "x": [
          "2017-03-09T05:00:00+01:00",
          "2017-03-09T06:00:00+01:00",
          "2017-03-09T07:00:00+01:00",
          "2017-03-09T08:00:00+01:00",
          "2017-03-09T09:00:00+01:00",
          "2017-03-09T10:00:00+01:00",
          "2017-03-09T11:00:00+01:00",
          "2017-03-09T12:00:00+01:00",
          "2017-03-09T13:00:00+01:00",
          "2017-03-09T14:00:00+01:00",
          "2017-03-09T15:00:00+01:00",
          "2017-03-09T16:00:00+01:00",
          "2017-03-09T17:00:00+01:00",
          "2017-03-09T18:00:00+01:00",
          "2017-03-09T19:00:00+01:00",
          "2017-03-09T20:00:00+01:00",
          "2017-03-09T21:00:00+01:00",
          "2017-03-09T22:00:00+01:00",
          "2017-03-09T23:00:00+01:00",
          "2017-03-10T00:00:00+01:00",
          "2017-03-10T01:00:00+01:00",
          "2017-03-10T02:00:00+01:00",
          "2017-03-10T03:00:00+01:00",
          "2017-03-10T04:00:00+01:00"
         ],
         "y": [
          21157.3828125,
          21482.97265625,
          22391.345703125,
          23726.236328125,
          25228.47265625,
          26616.04296875,
          27621.255859375,
          28115.3046875,
          28070.408203125,
          27629.685546875,
          26971.28125,
          26362.37109375,
          25994.953125,
          25984.388671875,
          26280.783203125,
          26740.828125,
          27156.349609375,
          27304.44921875,
          27004.177734375,
          26201.716796875,
          25004.619140625,
          23624.46875,
          22363.20703125,
          21459.462890625
         ]
        },
        {
         "mode": "markers",
         "type": "scatter",
         "x": [
          "2017-03-09T06:00:00+01:00",
          "2017-03-09T07:00:00+01:00",
          "2017-03-09T08:00:00+01:00",
          "2017-03-09T09:00:00+01:00",
          "2017-03-09T10:00:00+01:00",
          "2017-03-09T11:00:00+01:00",
          "2017-03-09T12:00:00+01:00",
          "2017-03-09T13:00:00+01:00",
          "2017-03-09T14:00:00+01:00",
          "2017-03-09T15:00:00+01:00",
          "2017-03-09T16:00:00+01:00",
          "2017-03-09T17:00:00+01:00",
          "2017-03-09T18:00:00+01:00",
          "2017-03-09T19:00:00+01:00",
          "2017-03-09T20:00:00+01:00",
          "2017-03-09T21:00:00+01:00",
          "2017-03-09T22:00:00+01:00",
          "2017-03-09T23:00:00+01:00",
          "2017-03-10T00:00:00+01:00",
          "2017-03-10T01:00:00+01:00",
          "2017-03-10T02:00:00+01:00",
          "2017-03-10T03:00:00+01:00",
          "2017-03-10T04:00:00+01:00",
          "2017-03-10T05:00:00+01:00"
         ],
         "y": [
          21306.8515625,
          22292.787109375,
          23680.27734375,
          25234.64453125,
          26628.564453125,
          27613.392578125,
          28069.58984375,
          28015.650390625,
          27553.431640625,
          26915.599609375,
          26339.60546875,
          26022.595703125,
          26059.349609375,
          26394.64453125,
          26860.85546875,
          27243.560546875,
          27337.62109375,
          26969.228515625,
          26155.6953125,
          25005.064453125,
          23711.1953125,
          22542.314453125,
          21742.00390625,
          21477.595703125
         ]
        },
        {
         "mode": "markers",
         "type": "scatter",
         "x": [
          "2017-03-09T07:00:00+01:00",
          "2017-03-09T08:00:00+01:00",
          "2017-03-09T09:00:00+01:00",
          "2017-03-09T10:00:00+01:00",
          "2017-03-09T11:00:00+01:00",
          "2017-03-09T12:00:00+01:00",
          "2017-03-09T13:00:00+01:00",
          "2017-03-09T14:00:00+01:00",
          "2017-03-09T15:00:00+01:00",
          "2017-03-09T16:00:00+01:00",
          "2017-03-09T17:00:00+01:00",
          "2017-03-09T18:00:00+01:00",
          "2017-03-09T19:00:00+01:00",
          "2017-03-09T20:00:00+01:00",
          "2017-03-09T21:00:00+01:00",
          "2017-03-09T22:00:00+01:00",
          "2017-03-09T23:00:00+01:00",
          "2017-03-10T00:00:00+01:00",
          "2017-03-10T01:00:00+01:00",
          "2017-03-10T02:00:00+01:00",
          "2017-03-10T03:00:00+01:00",
          "2017-03-10T04:00:00+01:00",
          "2017-03-10T05:00:00+01:00",
          "2017-03-10T06:00:00+01:00"
         ],
         "y": [
          22348.791015625,
          23774.501953125,
          25308.560546875,
          26708.015625,
          27673.509765625,
          28045.26953125,
          27891.6953125,
          27374.841796875,
          26688.3046875,
          26087.96875,
          25798.068359375,
          25887.587890625,
          26314.4453125,
          26860.75,
          27288.212890625,
          27381.12109375,
          27006.677734375,
          26102.060546875,
          24897.771484375,
          23642.236328125,
          22573.615234375,
          21933.568359375,
          21842.00390625,
          22331.033203125
         ]
        },
        {
         "mode": "markers",
         "type": "scatter",
         "x": [
          "2017-03-09T08:00:00+01:00",
          "2017-03-09T09:00:00+01:00",
          "2017-03-09T10:00:00+01:00",
          "2017-03-09T11:00:00+01:00",
          "2017-03-09T12:00:00+01:00",
          "2017-03-09T13:00:00+01:00",
          "2017-03-09T14:00:00+01:00",
          "2017-03-09T15:00:00+01:00",
          "2017-03-09T16:00:00+01:00",
          "2017-03-09T17:00:00+01:00",
          "2017-03-09T18:00:00+01:00",
          "2017-03-09T19:00:00+01:00",
          "2017-03-09T20:00:00+01:00",
          "2017-03-09T21:00:00+01:00",
          "2017-03-09T22:00:00+01:00",
          "2017-03-09T23:00:00+01:00",
          "2017-03-10T00:00:00+01:00",
          "2017-03-10T01:00:00+01:00",
          "2017-03-10T02:00:00+01:00",
          "2017-03-10T03:00:00+01:00",
          "2017-03-10T04:00:00+01:00",
          "2017-03-10T05:00:00+01:00",
          "2017-03-10T06:00:00+01:00",
          "2017-03-10T07:00:00+01:00"
         ],
         "y": [
          23738.099609375,
          25165.171875,
          26449.0390625,
          27422.111328125,
          27885.96484375,
          27782.73046875,
          27313.37109375,
          26699.708984375,
          26130.197265625,
          25797.826171875,
          25845.19140625,
          26219.43359375,
          26780.2578125,
          27234.4453125,
          27374.412109375,
          27068.388671875,
          26299.08984375,
          25118,
          23884.361328125,
          22895.59765625,
          22343.556640625,
          22357.58984375,
          22914.423828125,
          23912.912109375
         ]
        },
        {
         "mode": "markers",
         "type": "scatter",
         "x": [
          "2017-03-09T09:00:00+01:00",
          "2017-03-09T10:00:00+01:00",
          "2017-03-09T11:00:00+01:00",
          "2017-03-09T12:00:00+01:00",
          "2017-03-09T13:00:00+01:00",
          "2017-03-09T14:00:00+01:00",
          "2017-03-09T15:00:00+01:00",
          "2017-03-09T16:00:00+01:00",
          "2017-03-09T17:00:00+01:00",
          "2017-03-09T18:00:00+01:00",
          "2017-03-09T19:00:00+01:00",
          "2017-03-09T20:00:00+01:00",
          "2017-03-09T21:00:00+01:00",
          "2017-03-09T22:00:00+01:00",
          "2017-03-09T23:00:00+01:00",
          "2017-03-10T00:00:00+01:00",
          "2017-03-10T01:00:00+01:00",
          "2017-03-10T02:00:00+01:00",
          "2017-03-10T03:00:00+01:00",
          "2017-03-10T04:00:00+01:00",
          "2017-03-10T05:00:00+01:00",
          "2017-03-10T06:00:00+01:00",
          "2017-03-10T07:00:00+01:00",
          "2017-03-10T08:00:00+01:00"
         ],
         "y": [
          25822.09765625,
          26925.078125,
          27599.7578125,
          27838.431640625,
          27624.986328125,
          27049.904296875,
          26425.1171875,
          25974.333984375,
          25804.171875,
          25958.49609375,
          26421.552734375,
          26991.31640625,
          27448.126953125,
          27489.380859375,
          27028.4765625,
          26106.376953125,
          24887.458984375,
          23569.94140625,
          22596.060546875,
          22245.15625,
          22580.396484375,
          23526.916015625,
          24859.794921875,
          26315.04296875
         ]
        },
        {
         "mode": "markers",
         "type": "scatter",
         "x": [
          "2017-03-09T10:00:00+01:00",
          "2017-03-09T11:00:00+01:00",
          "2017-03-09T12:00:00+01:00",
          "2017-03-09T13:00:00+01:00",
          "2017-03-09T14:00:00+01:00",
          "2017-03-09T15:00:00+01:00",
          "2017-03-09T16:00:00+01:00",
          "2017-03-09T17:00:00+01:00",
          "2017-03-09T18:00:00+01:00",
          "2017-03-09T19:00:00+01:00",
          "2017-03-09T20:00:00+01:00",
          "2017-03-09T21:00:00+01:00",
          "2017-03-09T22:00:00+01:00",
          "2017-03-09T23:00:00+01:00",
          "2017-03-10T00:00:00+01:00",
          "2017-03-10T01:00:00+01:00",
          "2017-03-10T02:00:00+01:00",
          "2017-03-10T03:00:00+01:00",
          "2017-03-10T04:00:00+01:00",
          "2017-03-10T05:00:00+01:00",
          "2017-03-10T06:00:00+01:00",
          "2017-03-10T07:00:00+01:00",
          "2017-03-10T08:00:00+01:00",
          "2017-03-10T09:00:00+01:00"
         ],
         "y": [
          27355.5859375,
          27953.23828125,
          27995.89453125,
          27632.0859375,
          26987.359375,
          26242.90625,
          25730.111328125,
          25606.89453125,
          25862.9453125,
          26392.732421875,
          27055.396484375,
          27570.28125,
          27719.134765625,
          27275.2421875,
          26299.5546875,
          24985.41015625,
          23634.068359375,
          22513.49609375,
          22060.83984375,
          22461.02734375,
          23619.40234375,
          25276.3828125,
          27056.71484375,
          28609.09765625
         ]
        },
        {
         "mode": "markers",
         "type": "scatter",
         "x": [
          "2017-03-09T11:00:00+01:00",
          "2017-03-09T12:00:00+01:00",
          "2017-03-09T13:00:00+01:00",
          "2017-03-09T14:00:00+01:00",
          "2017-03-09T15:00:00+01:00",
          "2017-03-09T16:00:00+01:00",
          "2017-03-09T17:00:00+01:00",
          "2017-03-09T18:00:00+01:00",
          "2017-03-09T19:00:00+01:00",
          "2017-03-09T20:00:00+01:00",
          "2017-03-09T21:00:00+01:00",
          "2017-03-09T22:00:00+01:00",
          "2017-03-09T23:00:00+01:00",
          "2017-03-10T00:00:00+01:00",
          "2017-03-10T01:00:00+01:00",
          "2017-03-10T02:00:00+01:00",
          "2017-03-10T03:00:00+01:00",
          "2017-03-10T04:00:00+01:00",
          "2017-03-10T05:00:00+01:00",
          "2017-03-10T06:00:00+01:00",
          "2017-03-10T07:00:00+01:00",
          "2017-03-10T08:00:00+01:00",
          "2017-03-10T09:00:00+01:00",
          "2017-03-10T10:00:00+01:00"
         ],
         "y": [
          28657.193359375,
          28522.45703125,
          27880.47265625,
          27031.78125,
          26200.388671875,
          25579.46484375,
          25416.556640625,
          25724.005859375,
          26336.810546875,
          27008.2890625,
          27520.291015625,
          27614.76953125,
          27176.892578125,
          26155.966796875,
          24792.5703125,
          23412.650390625,
          22384.685546875,
          21952.5234375,
          22417.857421875,
          23778.91796875,
          25744.576171875,
          27891.35546875,
          29760.57421875,
          31011.0234375
         ]
        },
        {
         "mode": "markers",
         "type": "scatter",
         "x": [
          "2017-03-09T12:00:00+01:00",
          "2017-03-09T13:00:00+01:00",
          "2017-03-09T14:00:00+01:00",
          "2017-03-09T15:00:00+01:00",
          "2017-03-09T16:00:00+01:00",
          "2017-03-09T17:00:00+01:00",
          "2017-03-09T18:00:00+01:00",
          "2017-03-09T19:00:00+01:00",
          "2017-03-09T20:00:00+01:00",
          "2017-03-09T21:00:00+01:00",
          "2017-03-09T22:00:00+01:00",
          "2017-03-09T23:00:00+01:00",
          "2017-03-10T00:00:00+01:00",
          "2017-03-10T01:00:00+01:00",
          "2017-03-10T02:00:00+01:00",
          "2017-03-10T03:00:00+01:00",
          "2017-03-10T04:00:00+01:00",
          "2017-03-10T05:00:00+01:00",
          "2017-03-10T06:00:00+01:00",
          "2017-03-10T07:00:00+01:00",
          "2017-03-10T08:00:00+01:00",
          "2017-03-10T09:00:00+01:00",
          "2017-03-10T10:00:00+01:00",
          "2017-03-10T11:00:00+01:00"
         ],
         "y": [
          28894.361328125,
          28174.18359375,
          27164.208984375,
          26236.779296875,
          25608.65234375,
          25392.353515625,
          25682.95703125,
          26335.5703125,
          27067.73828125,
          27581.28515625,
          27674.287109375,
          27206.037109375,
          26215.84375,
          24832.26953125,
          23418.966796875,
          22346.93359375,
          21937.666015625,
          22325.1171875,
          23619.716796875,
          25632.455078125,
          27944.07421875,
          30071.130859375,
          31588.009765625,
          32258.7734375
         ]
        },
        {
         "mode": "markers",
         "type": "scatter",
         "x": [
          "2017-03-09T13:00:00+01:00",
          "2017-03-09T14:00:00+01:00",
          "2017-03-09T15:00:00+01:00",
          "2017-03-09T16:00:00+01:00",
          "2017-03-09T17:00:00+01:00",
          "2017-03-09T18:00:00+01:00",
          "2017-03-09T19:00:00+01:00",
          "2017-03-09T20:00:00+01:00",
          "2017-03-09T21:00:00+01:00",
          "2017-03-09T22:00:00+01:00",
          "2017-03-09T23:00:00+01:00",
          "2017-03-10T00:00:00+01:00",
          "2017-03-10T01:00:00+01:00",
          "2017-03-10T02:00:00+01:00",
          "2017-03-10T03:00:00+01:00",
          "2017-03-10T04:00:00+01:00",
          "2017-03-10T05:00:00+01:00",
          "2017-03-10T06:00:00+01:00",
          "2017-03-10T07:00:00+01:00",
          "2017-03-10T08:00:00+01:00",
          "2017-03-10T09:00:00+01:00",
          "2017-03-10T10:00:00+01:00",
          "2017-03-10T11:00:00+01:00",
          "2017-03-10T12:00:00+01:00"
         ],
         "y": [
          28381.5,
          27355.2109375,
          26333.525390625,
          25664.1875,
          25466.857421875,
          25710.98828125,
          26330.5859375,
          27067.736328125,
          27600.576171875,
          27676.66796875,
          27203.73828125,
          26206.12890625,
          24878.986328125,
          23478.7578125,
          22400.662109375,
          21960.203125,
          22345.04296875,
          23521.490234375,
          25408.390625,
          27681.552734375,
          29884.091796875,
          31583.044921875,
          32477.1875,
          32496.36328125
         ]
        },
        {
         "mode": "markers",
         "type": "scatter",
         "x": [
          "2017-03-09T14:00:00+01:00",
          "2017-03-09T15:00:00+01:00",
          "2017-03-09T16:00:00+01:00",
          "2017-03-09T17:00:00+01:00",
          "2017-03-09T18:00:00+01:00",
          "2017-03-09T19:00:00+01:00",
          "2017-03-09T20:00:00+01:00",
          "2017-03-09T21:00:00+01:00",
          "2017-03-09T22:00:00+01:00",
          "2017-03-09T23:00:00+01:00",
          "2017-03-10T00:00:00+01:00",
          "2017-03-10T01:00:00+01:00",
          "2017-03-10T02:00:00+01:00",
          "2017-03-10T03:00:00+01:00",
          "2017-03-10T04:00:00+01:00",
          "2017-03-10T05:00:00+01:00",
          "2017-03-10T06:00:00+01:00",
          "2017-03-10T07:00:00+01:00",
          "2017-03-10T08:00:00+01:00",
          "2017-03-10T09:00:00+01:00",
          "2017-03-10T10:00:00+01:00",
          "2017-03-10T11:00:00+01:00",
          "2017-03-10T12:00:00+01:00",
          "2017-03-10T13:00:00+01:00"
         ],
         "y": [
          27387.466796875,
          26339.875,
          25603.181640625,
          25416.140625,
          25741.279296875,
          26378.4453125,
          27121.779296875,
          27669.599609375,
          27737.015625,
          27198.197265625,
          26135.109375,
          24749.45703125,
          23361.8984375,
          22291.228515625,
          21872.0390625,
          22279.509765625,
          23512.576171875,
          25342.28125,
          27531.671875,
          29688.779296875,
          31404.380859375,
          32384.08984375,
          32519.630859375,
          31926.873046875
         ]
        },
        {
         "mode": "markers",
         "type": "scatter",
         "x": [
          "2017-03-09T15:00:00+01:00",
          "2017-03-09T16:00:00+01:00",
          "2017-03-09T17:00:00+01:00",
          "2017-03-09T18:00:00+01:00",
          "2017-03-09T19:00:00+01:00",
          "2017-03-09T20:00:00+01:00",
          "2017-03-09T21:00:00+01:00",
          "2017-03-09T22:00:00+01:00",
          "2017-03-09T23:00:00+01:00",
          "2017-03-10T00:00:00+01:00",
          "2017-03-10T01:00:00+01:00",
          "2017-03-10T02:00:00+01:00",
          "2017-03-10T03:00:00+01:00",
          "2017-03-10T04:00:00+01:00",
          "2017-03-10T05:00:00+01:00",
          "2017-03-10T06:00:00+01:00",
          "2017-03-10T07:00:00+01:00",
          "2017-03-10T08:00:00+01:00",
          "2017-03-10T09:00:00+01:00",
          "2017-03-10T10:00:00+01:00",
          "2017-03-10T11:00:00+01:00",
          "2017-03-10T12:00:00+01:00",
          "2017-03-10T13:00:00+01:00",
          "2017-03-10T14:00:00+01:00"
         ],
         "y": [
          26350.20703125,
          25568.6796875,
          25310.62890625,
          25646.35546875,
          26367.693359375,
          27140.734375,
          27696.962890625,
          27786.6484375,
          27243.96875,
          26120.671875,
          24679.501953125,
          23250.419921875,
          22203.810546875,
          21816.88671875,
          22273.892578125,
          23553.333984375,
          25458.8984375,
          27600.50390625,
          29684.90625,
          31350.521484375,
          32316.779296875,
          32486.107421875,
          31945.333984375,
          30961.29296875
         ]
        },
        {
         "mode": "markers",
         "type": "scatter",
         "x": [
          "2017-03-09T16:00:00+01:00",
          "2017-03-09T17:00:00+01:00",
          "2017-03-09T18:00:00+01:00",
          "2017-03-09T19:00:00+01:00",
          "2017-03-09T20:00:00+01:00",
          "2017-03-09T21:00:00+01:00",
          "2017-03-09T22:00:00+01:00",
          "2017-03-09T23:00:00+01:00",
          "2017-03-10T00:00:00+01:00",
          "2017-03-10T01:00:00+01:00",
          "2017-03-10T02:00:00+01:00",
          "2017-03-10T03:00:00+01:00",
          "2017-03-10T04:00:00+01:00",
          "2017-03-10T05:00:00+01:00",
          "2017-03-10T06:00:00+01:00",
          "2017-03-10T07:00:00+01:00",
          "2017-03-10T08:00:00+01:00",
          "2017-03-10T09:00:00+01:00",
          "2017-03-10T10:00:00+01:00",
          "2017-03-10T11:00:00+01:00",
          "2017-03-10T12:00:00+01:00",
          "2017-03-10T13:00:00+01:00",
          "2017-03-10T14:00:00+01:00",
          "2017-03-10T15:00:00+01:00"
         ],
         "y": [
          25750.240234375,
          25397.93359375,
          25607.244140625,
          26274.353515625,
          27074.59765625,
          27627.521484375,
          27707.29296875,
          27199.32421875,
          26112.638671875,
          24664.939453125,
          23240.71875,
          22199.2890625,
          21860.431640625,
          22360.90625,
          23682.791015625,
          25610.177734375,
          27806.353515625,
          29814.521484375,
          31395.41015625,
          32316.900390625,
          32473.93359375,
          31970.162109375,
          31022.142578125,
          29968.12109375
         ]
        },
        {
         "mode": "markers",
         "type": "scatter",
         "x": [
          "2017-03-09T17:00:00+01:00",
          "2017-03-09T18:00:00+01:00",
          "2017-03-09T19:00:00+01:00",
          "2017-03-09T20:00:00+01:00",
          "2017-03-09T21:00:00+01:00",
          "2017-03-09T22:00:00+01:00",
          "2017-03-09T23:00:00+01:00",
          "2017-03-10T00:00:00+01:00",
          "2017-03-10T01:00:00+01:00",
          "2017-03-10T02:00:00+01:00",
          "2017-03-10T03:00:00+01:00",
          "2017-03-10T04:00:00+01:00",
          "2017-03-10T05:00:00+01:00",
          "2017-03-10T06:00:00+01:00",
          "2017-03-10T07:00:00+01:00",
          "2017-03-10T08:00:00+01:00",
          "2017-03-10T09:00:00+01:00",
          "2017-03-10T10:00:00+01:00",
          "2017-03-10T11:00:00+01:00",
          "2017-03-10T12:00:00+01:00",
          "2017-03-10T13:00:00+01:00",
          "2017-03-10T14:00:00+01:00",
          "2017-03-10T15:00:00+01:00",
          "2017-03-10T16:00:00+01:00"
         ],
         "y": [
          25860.7421875,
          25911.701171875,
          26372.564453125,
          27024.01953125,
          27520.501953125,
          27547.685546875,
          27007.826171875,
          25964.3046875,
          24590.6015625,
          23207.54296875,
          22218.462890625,
          21907.248046875,
          22446.603515625,
          23786.787109375,
          25717.232421875,
          27892.2578125,
          29930.744140625,
          31427.6171875,
          32269.75,
          32412.931640625,
          31923.87890625,
          31047.263671875,
          30042.599609375,
          29212.935546875
         ]
        },
        {
         "mode": "markers",
         "type": "scatter",
         "x": [
          "2017-03-09T18:00:00+01:00",
          "2017-03-09T19:00:00+01:00",
          "2017-03-09T20:00:00+01:00",
          "2017-03-09T21:00:00+01:00",
          "2017-03-09T22:00:00+01:00",
          "2017-03-09T23:00:00+01:00",
          "2017-03-10T00:00:00+01:00",
          "2017-03-10T01:00:00+01:00",
          "2017-03-10T02:00:00+01:00",
          "2017-03-10T03:00:00+01:00",
          "2017-03-10T04:00:00+01:00",
          "2017-03-10T05:00:00+01:00",
          "2017-03-10T06:00:00+01:00",
          "2017-03-10T07:00:00+01:00",
          "2017-03-10T08:00:00+01:00",
          "2017-03-10T09:00:00+01:00",
          "2017-03-10T10:00:00+01:00",
          "2017-03-10T11:00:00+01:00",
          "2017-03-10T12:00:00+01:00",
          "2017-03-10T13:00:00+01:00",
          "2017-03-10T14:00:00+01:00",
          "2017-03-10T15:00:00+01:00",
          "2017-03-10T16:00:00+01:00",
          "2017-03-10T17:00:00+01:00"
         ],
         "y": [
          26685.828125,
          26942.583984375,
          27335.681640625,
          27619.7578125,
          27529.478515625,
          26902.9765625,
          25810.005859375,
          24469.99609375,
          23160.517578125,
          22213.291015625,
          21946.03125,
          22489.7109375,
          23826.888671875,
          25732.642578125,
          27875.171875,
          29879.1875,
          31421.41796875,
          32237.748046875,
          32370.06640625,
          31947.94140625,
          31155.1875,
          30277.724609375,
          29527.568359375,
          29086.630859375
         ]
        },
        {
         "mode": "markers",
         "type": "scatter",
         "x": [
          "2017-03-09T19:00:00+01:00",
          "2017-03-09T20:00:00+01:00",
          "2017-03-09T21:00:00+01:00",
          "2017-03-09T22:00:00+01:00",
          "2017-03-09T23:00:00+01:00",
          "2017-03-10T00:00:00+01:00",
          "2017-03-10T01:00:00+01:00",
          "2017-03-10T02:00:00+01:00",
          "2017-03-10T03:00:00+01:00",
          "2017-03-10T04:00:00+01:00",
          "2017-03-10T05:00:00+01:00",
          "2017-03-10T06:00:00+01:00",
          "2017-03-10T07:00:00+01:00",
          "2017-03-10T08:00:00+01:00",
          "2017-03-10T09:00:00+01:00",
          "2017-03-10T10:00:00+01:00",
          "2017-03-10T11:00:00+01:00",
          "2017-03-10T12:00:00+01:00",
          "2017-03-10T13:00:00+01:00",
          "2017-03-10T14:00:00+01:00",
          "2017-03-10T15:00:00+01:00",
          "2017-03-10T16:00:00+01:00",
          "2017-03-10T17:00:00+01:00",
          "2017-03-10T18:00:00+01:00"
         ],
         "y": [
          27799.171875,
          27957.916015625,
          27946.857421875,
          27594.716796875,
          26800.361328125,
          25599.150390625,
          24217.859375,
          22963.34765625,
          22125.484375,
          21945.62890625,
          22566.875,
          23925.2109375,
          25819.201171875,
          27905.58203125,
          29833.90625,
          31306.791015625,
          32146.8671875,
          32281.669921875,
          31895.974609375,
          31230.35546875,
          30502.42578125,
          29931.75,
          29608.27734375,
          29544.873046875
         ]
        },
        {
         "mode": "markers",
         "type": "scatter",
         "x": [
          "2017-03-09T20:00:00+01:00",
          "2017-03-09T21:00:00+01:00",
          "2017-03-09T22:00:00+01:00",
          "2017-03-09T23:00:00+01:00",
          "2017-03-10T00:00:00+01:00",
          "2017-03-10T01:00:00+01:00",
          "2017-03-10T02:00:00+01:00",
          "2017-03-10T03:00:00+01:00",
          "2017-03-10T04:00:00+01:00",
          "2017-03-10T05:00:00+01:00",
          "2017-03-10T06:00:00+01:00",
          "2017-03-10T07:00:00+01:00",
          "2017-03-10T08:00:00+01:00",
          "2017-03-10T09:00:00+01:00",
          "2017-03-10T10:00:00+01:00",
          "2017-03-10T11:00:00+01:00",
          "2017-03-10T12:00:00+01:00",
          "2017-03-10T13:00:00+01:00",
          "2017-03-10T14:00:00+01:00",
          "2017-03-10T15:00:00+01:00",
          "2017-03-10T16:00:00+01:00",
          "2017-03-10T17:00:00+01:00",
          "2017-03-10T18:00:00+01:00",
          "2017-03-10T19:00:00+01:00"
         ],
         "y": [
          28649.859375,
          28439.82421875,
          27838.021484375,
          26817.1484375,
          25467.296875,
          23998.333984375,
          22725.75390625,
          21950.111328125,
          21878.30859375,
          22590,
          24022.146484375,
          25934.171875,
          28005.75,
          29869.259765625,
          31255.875,
          32019.265625,
          32162.876953125,
          31794.166015625,
          31183.37109375,
          30589.595703125,
          30181.361328125,
          30039.12109375,
          30103.744140625,
          30234.509765625
         ]
        },
        {
         "mode": "markers",
         "type": "scatter",
         "x": [
          "2017-03-09T21:00:00+01:00",
          "2017-03-09T22:00:00+01:00",
          "2017-03-09T23:00:00+01:00",
          "2017-03-10T00:00:00+01:00",
          "2017-03-10T01:00:00+01:00",
          "2017-03-10T02:00:00+01:00",
          "2017-03-10T03:00:00+01:00",
          "2017-03-10T04:00:00+01:00",
          "2017-03-10T05:00:00+01:00",
          "2017-03-10T06:00:00+01:00",
          "2017-03-10T07:00:00+01:00",
          "2017-03-10T08:00:00+01:00",
          "2017-03-10T09:00:00+01:00",
          "2017-03-10T10:00:00+01:00",
          "2017-03-10T11:00:00+01:00",
          "2017-03-10T12:00:00+01:00",
          "2017-03-10T13:00:00+01:00",
          "2017-03-10T14:00:00+01:00",
          "2017-03-10T15:00:00+01:00",
          "2017-03-10T16:00:00+01:00",
          "2017-03-10T17:00:00+01:00",
          "2017-03-10T18:00:00+01:00",
          "2017-03-10T19:00:00+01:00",
          "2017-03-10T20:00:00+01:00"
         ],
         "y": [
          28852.462890625,
          28131.845703125,
          26966.46484375,
          25489.443359375,
          23940.626953125,
          22623.75390625,
          21843.458984375,
          21804.39453125,
          22564.515625,
          24023.654296875,
          25951.919921875,
          28006.28515625,
          29849.205078125,
          31190.767578125,
          31909.255859375,
          32025.66796875,
          31695.173828125,
          31134.416015625,
          30612.859375,
          30317.453125,
          30308.25,
          30510.630859375,
          30746.517578125,
          30793.689453125
         ]
        },
        {
         "mode": "markers",
         "type": "scatter",
         "x": [
          "2017-03-09T22:00:00+01:00",
          "2017-03-09T23:00:00+01:00",
          "2017-03-10T00:00:00+01:00",
          "2017-03-10T01:00:00+01:00",
          "2017-03-10T02:00:00+01:00",
          "2017-03-10T03:00:00+01:00",
          "2017-03-10T04:00:00+01:00",
          "2017-03-10T05:00:00+01:00",
          "2017-03-10T06:00:00+01:00",
          "2017-03-10T07:00:00+01:00",
          "2017-03-10T08:00:00+01:00",
          "2017-03-10T09:00:00+01:00",
          "2017-03-10T10:00:00+01:00",
          "2017-03-10T11:00:00+01:00",
          "2017-03-10T12:00:00+01:00",
          "2017-03-10T13:00:00+01:00",
          "2017-03-10T14:00:00+01:00",
          "2017-03-10T15:00:00+01:00",
          "2017-03-10T16:00:00+01:00",
          "2017-03-10T17:00:00+01:00",
          "2017-03-10T18:00:00+01:00",
          "2017-03-10T19:00:00+01:00",
          "2017-03-10T20:00:00+01:00",
          "2017-03-10T21:00:00+01:00"
         ],
         "y": [
          28455.21875,
          27236.0625,
          25677.630859375,
          24044.408203125,
          22655.908203125,
          21821.40625,
          21753.88671875,
          22508.802734375,
          23978.47265625,
          25909.341796875,
          27973.412109375,
          29811.3203125,
          31153.58203125,
          31854.404296875,
          31955.443359375,
          31617.240234375,
          31087.708984375,
          30609.8125,
          30377.205078125,
          30451.986328125,
          30765.951171875,
          31119.6328125,
          31275.810546875,
          31013.166015625
         ]
        },
        {
         "mode": "markers",
         "type": "scatter",
         "x": [
          "2017-03-09T23:00:00+01:00",
          "2017-03-10T00:00:00+01:00",
          "2017-03-10T01:00:00+01:00",
          "2017-03-10T02:00:00+01:00",
          "2017-03-10T03:00:00+01:00",
          "2017-03-10T04:00:00+01:00",
          "2017-03-10T05:00:00+01:00",
          "2017-03-10T06:00:00+01:00",
          "2017-03-10T07:00:00+01:00",
          "2017-03-10T08:00:00+01:00",
          "2017-03-10T09:00:00+01:00",
          "2017-03-10T10:00:00+01:00",
          "2017-03-10T11:00:00+01:00",
          "2017-03-10T12:00:00+01:00",
          "2017-03-10T13:00:00+01:00",
          "2017-03-10T14:00:00+01:00",
          "2017-03-10T15:00:00+01:00",
          "2017-03-10T16:00:00+01:00",
          "2017-03-10T17:00:00+01:00",
          "2017-03-10T18:00:00+01:00",
          "2017-03-10T19:00:00+01:00",
          "2017-03-10T20:00:00+01:00",
          "2017-03-10T21:00:00+01:00",
          "2017-03-10T22:00:00+01:00"
         ],
         "y": [
          27475.18359375,
          25822.43359375,
          24080.884765625,
          22602.529296875,
          21714.57421875,
          21646.654296875,
          22448.41796875,
          23987.85546875,
          25993.658203125,
          28101.77734375,
          29953.267578125,
          31261.44140625,
          31897.26953125,
          31907.576171875,
          31495.43359375,
          30920.9453125,
          30458.3515625,
          30298.12109375,
          30484.94921875,
          30920.365234375,
          31408.576171875,
          31671.416015625,
          31484.171875,
          30707.8125
         ]
        },
        {
         "mode": "markers",
         "type": "scatter",
         "x": [
          "2017-03-10T00:00:00+01:00",
          "2017-03-10T01:00:00+01:00",
          "2017-03-10T02:00:00+01:00",
          "2017-03-10T03:00:00+01:00",
          "2017-03-10T04:00:00+01:00",
          "2017-03-10T05:00:00+01:00",
          "2017-03-10T06:00:00+01:00",
          "2017-03-10T07:00:00+01:00",
          "2017-03-10T08:00:00+01:00",
          "2017-03-10T09:00:00+01:00",
          "2017-03-10T10:00:00+01:00",
          "2017-03-10T11:00:00+01:00",
          "2017-03-10T12:00:00+01:00",
          "2017-03-10T13:00:00+01:00",
          "2017-03-10T14:00:00+01:00",
          "2017-03-10T15:00:00+01:00",
          "2017-03-10T16:00:00+01:00",
          "2017-03-10T17:00:00+01:00",
          "2017-03-10T18:00:00+01:00",
          "2017-03-10T19:00:00+01:00",
          "2017-03-10T20:00:00+01:00",
          "2017-03-10T21:00:00+01:00",
          "2017-03-10T22:00:00+01:00",
          "2017-03-10T23:00:00+01:00"
         ],
         "y": [
          26102.083984375,
          24328.771484375,
          22766.857421875,
          21759.91015625,
          21558.134765625,
          22253.330078125,
          23728.388671875,
          25710.66796875,
          27844.009765625,
          29756.115234375,
          31141.66015625,
          31848.9453125,
          31896.681640625,
          31482.55859375,
          30889.662109375,
          30386.671875,
          30190.130859375,
          30380.958984375,
          30853.65234375,
          31391.064453125,
          31742.8359375,
          31644.3125,
          30964.85546875,
          29693.345703125
         ]
        },
        {
         "mode": "markers",
         "type": "scatter",
         "x": [
          "2017-03-10T01:00:00+01:00",
          "2017-03-10T02:00:00+01:00",
          "2017-03-10T03:00:00+01:00",
          "2017-03-10T04:00:00+01:00",
          "2017-03-10T05:00:00+01:00",
          "2017-03-10T06:00:00+01:00",
          "2017-03-10T07:00:00+01:00",
          "2017-03-10T08:00:00+01:00",
          "2017-03-10T09:00:00+01:00",
          "2017-03-10T10:00:00+01:00",
          "2017-03-10T11:00:00+01:00",
          "2017-03-10T12:00:00+01:00",
          "2017-03-10T13:00:00+01:00",
          "2017-03-10T14:00:00+01:00",
          "2017-03-10T15:00:00+01:00",
          "2017-03-10T16:00:00+01:00",
          "2017-03-10T17:00:00+01:00",
          "2017-03-10T18:00:00+01:00",
          "2017-03-10T19:00:00+01:00",
          "2017-03-10T20:00:00+01:00",
          "2017-03-10T21:00:00+01:00",
          "2017-03-10T22:00:00+01:00",
          "2017-03-10T23:00:00+01:00",
          "2017-03-11T00:00:00+01:00"
         ],
         "y": [
          24103.625,
          22576.662109375,
          21650.380859375,
          21553.4296875,
          22355.9140625,
          23933.986328125,
          25977.365234375,
          28106.728515625,
          29956.50390625,
          31252.322265625,
          31844.994140625,
          31793.130859375,
          31289.609375,
          30655.775390625,
          30174.1640625,
          30027.349609375,
          30275.416015625,
          30825.896484375,
          31404.755859375,
          31716.140625,
          31536.1796875,
          30723.259765625,
          29336.65234375,
          27557.873046875
         ]
        },
        {
         "mode": "markers",
         "type": "scatter",
         "x": [
          "2017-03-10T02:00:00+01:00",
          "2017-03-10T03:00:00+01:00",
          "2017-03-10T04:00:00+01:00",
          "2017-03-10T05:00:00+01:00",
          "2017-03-10T06:00:00+01:00",
          "2017-03-10T07:00:00+01:00",
          "2017-03-10T08:00:00+01:00",
          "2017-03-10T09:00:00+01:00",
          "2017-03-10T10:00:00+01:00",
          "2017-03-10T11:00:00+01:00",
          "2017-03-10T12:00:00+01:00",
          "2017-03-10T13:00:00+01:00",
          "2017-03-10T14:00:00+01:00",
          "2017-03-10T15:00:00+01:00",
          "2017-03-10T16:00:00+01:00",
          "2017-03-10T17:00:00+01:00",
          "2017-03-10T18:00:00+01:00",
          "2017-03-10T19:00:00+01:00",
          "2017-03-10T20:00:00+01:00",
          "2017-03-10T21:00:00+01:00",
          "2017-03-10T22:00:00+01:00",
          "2017-03-10T23:00:00+01:00",
          "2017-03-11T00:00:00+01:00",
          "2017-03-11T01:00:00+01:00"
         ],
         "y": [
          22993.48828125,
          21910.62890625,
          21634.31640625,
          22255.908203125,
          23691.33203125,
          25676.43359375,
          27814.83984375,
          29721.46875,
          31098.009765625,
          31797.02734375,
          31814.787109375,
          31346.158203125,
          30666.5859375,
          30115.021484375,
          29901.615234375,
          30096.216796875,
          30621.158203125,
          31272.763671875,
          31707.64453125,
          31642.74609375,
          30935.4140625,
          29585.6953125,
          27797.42578125,
          25871.82421875
         ]
        },
        {
         "mode": "markers",
         "type": "scatter",
         "x": [
          "2017-03-10T03:00:00+01:00",
          "2017-03-10T04:00:00+01:00",
          "2017-03-10T05:00:00+01:00",
          "2017-03-10T06:00:00+01:00",
          "2017-03-10T07:00:00+01:00",
          "2017-03-10T08:00:00+01:00",
          "2017-03-10T09:00:00+01:00",
          "2017-03-10T10:00:00+01:00",
          "2017-03-10T11:00:00+01:00",
          "2017-03-10T12:00:00+01:00",
          "2017-03-10T13:00:00+01:00",
          "2017-03-10T14:00:00+01:00",
          "2017-03-10T15:00:00+01:00",
          "2017-03-10T16:00:00+01:00",
          "2017-03-10T17:00:00+01:00",
          "2017-03-10T18:00:00+01:00",
          "2017-03-10T19:00:00+01:00",
          "2017-03-10T20:00:00+01:00",
          "2017-03-10T21:00:00+01:00",
          "2017-03-10T22:00:00+01:00",
          "2017-03-10T23:00:00+01:00",
          "2017-03-11T00:00:00+01:00",
          "2017-03-11T01:00:00+01:00",
          "2017-03-11T02:00:00+01:00"
         ],
         "y": [
          22470.6875,
          21872.375,
          22154.873046875,
          23285.416015625,
          25065.884765625,
          27154.830078125,
          29144.4296875,
          30694.373046875,
          31599.580078125,
          31828.544921875,
          31489.779296875,
          30850.197265625,
          30204.13671875,
          29849.27734375,
          29904,
          30335.18359375,
          30970.388671875,
          31547.310546875,
          31725.9453125,
          31281.509765625,
          30161.005859375,
          28485.6875,
          26550.978515625,
          24713.37109375
         ]
        },
        {
         "mode": "markers",
         "type": "scatter",
         "x": [
          "2017-03-10T04:00:00+01:00",
          "2017-03-10T05:00:00+01:00",
          "2017-03-10T06:00:00+01:00",
          "2017-03-10T07:00:00+01:00",
          "2017-03-10T08:00:00+01:00",
          "2017-03-10T09:00:00+01:00",
          "2017-03-10T10:00:00+01:00",
          "2017-03-10T11:00:00+01:00",
          "2017-03-10T12:00:00+01:00",
          "2017-03-10T13:00:00+01:00",
          "2017-03-10T14:00:00+01:00",
          "2017-03-10T15:00:00+01:00",
          "2017-03-10T16:00:00+01:00",
          "2017-03-10T17:00:00+01:00",
          "2017-03-10T18:00:00+01:00",
          "2017-03-10T19:00:00+01:00",
          "2017-03-10T20:00:00+01:00",
          "2017-03-10T21:00:00+01:00",
          "2017-03-10T22:00:00+01:00",
          "2017-03-10T23:00:00+01:00",
          "2017-03-11T00:00:00+01:00",
          "2017-03-11T01:00:00+01:00",
          "2017-03-11T02:00:00+01:00",
          "2017-03-11T03:00:00+01:00"
         ],
         "y": [
          22477.220703125,
          22312.87890625,
          23001.423828125,
          24423.611328125,
          26318.322265625,
          28321.390625,
          30062.208984375,
          31263.591796875,
          31805.822265625,
          31737.310546875,
          31232.291015625,
          30573.138671875,
          30032.58984375,
          29842.8359375,
          30045.71875,
          30540.208984375,
          31113.4609375,
          31493.533203125,
          31392.267578125,
          30656.91015625,
          29307.455078125,
          27541.71484375,
          25687.1484375,
          24100.4921875
         ]
        },
        {
         "mode": "markers",
         "type": "scatter",
         "x": [
          "2017-03-10T05:00:00+01:00",
          "2017-03-10T06:00:00+01:00",
          "2017-03-10T07:00:00+01:00",
          "2017-03-10T08:00:00+01:00",
          "2017-03-10T09:00:00+01:00",
          "2017-03-10T10:00:00+01:00",
          "2017-03-10T11:00:00+01:00",
          "2017-03-10T12:00:00+01:00",
          "2017-03-10T13:00:00+01:00",
          "2017-03-10T14:00:00+01:00",
          "2017-03-10T15:00:00+01:00",
          "2017-03-10T16:00:00+01:00",
          "2017-03-10T17:00:00+01:00",
          "2017-03-10T18:00:00+01:00",
          "2017-03-10T19:00:00+01:00",
          "2017-03-10T20:00:00+01:00",
          "2017-03-10T21:00:00+01:00",
          "2017-03-10T22:00:00+01:00",
          "2017-03-10T23:00:00+01:00",
          "2017-03-11T00:00:00+01:00",
          "2017-03-11T01:00:00+01:00",
          "2017-03-11T02:00:00+01:00",
          "2017-03-11T03:00:00+01:00",
          "2017-03-11T04:00:00+01:00"
         ],
         "y": [
          22563.62890625,
          22936.037109375,
          24114.19140625,
          25878.1328125,
          27885.4921875,
          29749.6328125,
          31153.30078125,
          31902.662109375,
          31984.35546875,
          31546.404296875,
          30844.642578125,
          30178.8125,
          29788.900390625,
          29821.787109375,
          30219.841796875,
          30799.173828125,
          31296.35546875,
          31431.302734375,
          30981.97265625,
          29891.853515625,
          28271.228515625,
          26410.689453125,
          24672.390625,
          23412.587890625
         ]
        },
        {
         "mode": "markers",
         "type": "scatter",
         "x": [
          "2017-03-10T06:00:00+01:00",
          "2017-03-10T07:00:00+01:00",
          "2017-03-10T08:00:00+01:00",
          "2017-03-10T09:00:00+01:00",
          "2017-03-10T10:00:00+01:00",
          "2017-03-10T11:00:00+01:00",
          "2017-03-10T12:00:00+01:00",
          "2017-03-10T13:00:00+01:00",
          "2017-03-10T14:00:00+01:00",
          "2017-03-10T15:00:00+01:00",
          "2017-03-10T16:00:00+01:00",
          "2017-03-10T17:00:00+01:00",
          "2017-03-10T18:00:00+01:00",
          "2017-03-10T19:00:00+01:00",
          "2017-03-10T20:00:00+01:00",
          "2017-03-10T21:00:00+01:00",
          "2017-03-10T22:00:00+01:00",
          "2017-03-10T23:00:00+01:00",
          "2017-03-11T00:00:00+01:00",
          "2017-03-11T01:00:00+01:00",
          "2017-03-11T02:00:00+01:00",
          "2017-03-11T03:00:00+01:00",
          "2017-03-11T04:00:00+01:00",
          "2017-03-11T05:00:00+01:00"
         ],
         "y": [
          23065.576171875,
          24118.7734375,
          25781.580078125,
          27753.083984375,
          29646.34765625,
          31120.658203125,
          31988.044921875,
          32193.6953125,
          31845.697265625,
          31177.75390625,
          30487.037109375,
          30011.3046875,
          29898.21484375,
          30149.248046875,
          30598.73828125,
          31005.068359375,
          31112.62890625,
          30701.974609375,
          29719.93359375,
          28256.134765625,
          26520.88671875,
          24858.615234375,
          23593.958984375,
          23001.22265625
         ]
        },
        {
         "mode": "markers",
         "type": "scatter",
         "x": [
          "2017-03-10T07:00:00+01:00",
          "2017-03-10T08:00:00+01:00",
          "2017-03-10T09:00:00+01:00",
          "2017-03-10T10:00:00+01:00",
          "2017-03-10T11:00:00+01:00",
          "2017-03-10T12:00:00+01:00",
          "2017-03-10T13:00:00+01:00",
          "2017-03-10T14:00:00+01:00",
          "2017-03-10T15:00:00+01:00",
          "2017-03-10T16:00:00+01:00",
          "2017-03-10T17:00:00+01:00",
          "2017-03-10T18:00:00+01:00",
          "2017-03-10T19:00:00+01:00",
          "2017-03-10T20:00:00+01:00",
          "2017-03-10T21:00:00+01:00",
          "2017-03-10T22:00:00+01:00",
          "2017-03-10T23:00:00+01:00",
          "2017-03-11T00:00:00+01:00",
          "2017-03-11T01:00:00+01:00",
          "2017-03-11T02:00:00+01:00",
          "2017-03-11T03:00:00+01:00",
          "2017-03-11T04:00:00+01:00",
          "2017-03-11T05:00:00+01:00",
          "2017-03-11T06:00:00+01:00"
         ],
         "y": [
          24133.68359375,
          25732.400390625,
          27649.580078125,
          29545.630859375,
          31047.927734375,
          31912.75,
          32129.017578125,
          31800.001953125,
          31147.154296875,
          30451.88671875,
          30003.7734375,
          29924.505859375,
          30222.6953125,
          30732.693359375,
          31190.4765625,
          31327.36328125,
          30943.744140625,
          29927.470703125,
          28427.630859375,
          26692.494140625,
          25012.298828125,
          23741.01171875,
          23116.92578125,
          23284.86328125
         ]
        },
        {
         "mode": "markers",
         "type": "scatter",
         "x": [
          "2017-03-10T08:00:00+01:00",
          "2017-03-10T09:00:00+01:00",
          "2017-03-10T10:00:00+01:00",
          "2017-03-10T11:00:00+01:00",
          "2017-03-10T12:00:00+01:00",
          "2017-03-10T13:00:00+01:00",
          "2017-03-10T14:00:00+01:00",
          "2017-03-10T15:00:00+01:00",
          "2017-03-10T16:00:00+01:00",
          "2017-03-10T17:00:00+01:00",
          "2017-03-10T18:00:00+01:00",
          "2017-03-10T19:00:00+01:00",
          "2017-03-10T20:00:00+01:00",
          "2017-03-10T21:00:00+01:00",
          "2017-03-10T22:00:00+01:00",
          "2017-03-10T23:00:00+01:00",
          "2017-03-11T00:00:00+01:00",
          "2017-03-11T01:00:00+01:00",
          "2017-03-11T02:00:00+01:00",
          "2017-03-11T03:00:00+01:00",
          "2017-03-11T04:00:00+01:00",
          "2017-03-11T05:00:00+01:00",
          "2017-03-11T06:00:00+01:00",
          "2017-03-11T07:00:00+01:00"
         ],
         "y": [
          26062.5234375,
          27686.546875,
          29299.501953125,
          30647.35546875,
          31505.60546875,
          31783.224609375,
          31610.646484375,
          31158.919921875,
          30648.97265625,
          30278.046875,
          30206.384765625,
          30410.08984375,
          30781.912109375,
          31091.353515625,
          31109.5390625,
          30668.671875,
          29719.763671875,
          28306.712890625,
          26708.21875,
          25223.81640625,
          24108.2265625,
          23593.794921875,
          23752.87890625,
          24559.947265625
         ]
        },
        {
         "mode": "markers",
         "type": "scatter",
         "x": [
          "2017-03-10T09:00:00+01:00",
          "2017-03-10T10:00:00+01:00",
          "2017-03-10T11:00:00+01:00",
          "2017-03-10T12:00:00+01:00",
          "2017-03-10T13:00:00+01:00",
          "2017-03-10T14:00:00+01:00",
          "2017-03-10T15:00:00+01:00",
          "2017-03-10T16:00:00+01:00",
          "2017-03-10T17:00:00+01:00",
          "2017-03-10T18:00:00+01:00",
          "2017-03-10T19:00:00+01:00",
          "2017-03-10T20:00:00+01:00",
          "2017-03-10T21:00:00+01:00",
          "2017-03-10T22:00:00+01:00",
          "2017-03-10T23:00:00+01:00",
          "2017-03-11T00:00:00+01:00",
          "2017-03-11T01:00:00+01:00",
          "2017-03-11T02:00:00+01:00",
          "2017-03-11T03:00:00+01:00",
          "2017-03-11T04:00:00+01:00",
          "2017-03-11T05:00:00+01:00",
          "2017-03-11T06:00:00+01:00",
          "2017-03-11T07:00:00+01:00",
          "2017-03-11T08:00:00+01:00"
         ],
         "y": [
          27867.89453125,
          29186.677734375,
          30272.041015625,
          30999.828125,
          31304.125,
          31213.19140625,
          30921.7109375,
          30586.509765625,
          30358.755859375,
          30315.806640625,
          30483,
          30737.66015625,
          30929.0625,
          30845.642578125,
          30362.681640625,
          29450.09375,
          28194.646484375,
          26753.123046875,
          25427.40234375,
          24481.41796875,
          24071.626953125,
          24274.91796875,
          25012.005859375,
          26140.865234375
         ]
        },
        {
         "mode": "markers",
         "type": "scatter",
         "x": [
          "2017-03-10T10:00:00+01:00",
          "2017-03-10T11:00:00+01:00",
          "2017-03-10T12:00:00+01:00",
          "2017-03-10T13:00:00+01:00",
          "2017-03-10T14:00:00+01:00",
          "2017-03-10T15:00:00+01:00",
          "2017-03-10T16:00:00+01:00",
          "2017-03-10T17:00:00+01:00",
          "2017-03-10T18:00:00+01:00",
          "2017-03-10T19:00:00+01:00",
          "2017-03-10T20:00:00+01:00",
          "2017-03-10T21:00:00+01:00",
          "2017-03-10T22:00:00+01:00",
          "2017-03-10T23:00:00+01:00",
          "2017-03-11T00:00:00+01:00",
          "2017-03-11T01:00:00+01:00",
          "2017-03-11T02:00:00+01:00",
          "2017-03-11T03:00:00+01:00",
          "2017-03-11T04:00:00+01:00",
          "2017-03-11T05:00:00+01:00",
          "2017-03-11T06:00:00+01:00",
          "2017-03-11T07:00:00+01:00",
          "2017-03-11T08:00:00+01:00",
          "2017-03-11T09:00:00+01:00"
         ],
         "y": [
          29232.8515625,
          30152.572265625,
          30727.794921875,
          30956.82421875,
          30895.1875,
          30641.47265625,
          30396.65234375,
          30262.2421875,
          30295.515625,
          30466.41015625,
          30699.01953125,
          30824.939453125,
          30702.927734375,
          30186.53125,
          29273.712890625,
          28059.302734375,
          26726.75,
          25490.021484375,
          24616.005859375,
          24286.5703125,
          24541.724609375,
          25313.80078125,
          26416.025390625,
          27641.451171875
         ]
        },
        {
         "mode": "markers",
         "type": "scatter",
         "x": [
          "2017-03-10T11:00:00+01:00",
          "2017-03-10T12:00:00+01:00",
          "2017-03-10T13:00:00+01:00",
          "2017-03-10T14:00:00+01:00",
          "2017-03-10T15:00:00+01:00",
          "2017-03-10T16:00:00+01:00",
          "2017-03-10T17:00:00+01:00",
          "2017-03-10T18:00:00+01:00",
          "2017-03-10T19:00:00+01:00",
          "2017-03-10T20:00:00+01:00",
          "2017-03-10T21:00:00+01:00",
          "2017-03-10T22:00:00+01:00",
          "2017-03-10T23:00:00+01:00",
          "2017-03-11T00:00:00+01:00",
          "2017-03-11T01:00:00+01:00",
          "2017-03-11T02:00:00+01:00",
          "2017-03-11T03:00:00+01:00",
          "2017-03-11T04:00:00+01:00",
          "2017-03-11T05:00:00+01:00",
          "2017-03-11T06:00:00+01:00",
          "2017-03-11T07:00:00+01:00",
          "2017-03-11T08:00:00+01:00",
          "2017-03-11T09:00:00+01:00",
          "2017-03-11T10:00:00+01:00"
         ],
         "y": [
          30122.447265625,
          30622.517578125,
          30761.296875,
          30641.5703125,
          30404.541015625,
          30175.00390625,
          30114.701171875,
          30243.0234375,
          30514.9296875,
          30807.314453125,
          30974.76953125,
          30845.01171875,
          30325.8671875,
          29368.400390625,
          28096.40234375,
          26707.109375,
          25447.859375,
          24545.240234375,
          24193.978515625,
          24465.91015625,
          25282.662109375,
          26457.041015625,
          27732.474609375,
          28881.486328125
         ]
        },
        {
         "mode": "markers",
         "type": "scatter",
         "x": [
          "2017-03-10T12:00:00+01:00",
          "2017-03-10T13:00:00+01:00",
          "2017-03-10T14:00:00+01:00",
          "2017-03-10T15:00:00+01:00",
          "2017-03-10T16:00:00+01:00",
          "2017-03-10T17:00:00+01:00",
          "2017-03-10T18:00:00+01:00",
          "2017-03-10T19:00:00+01:00",
          "2017-03-10T20:00:00+01:00",
          "2017-03-10T21:00:00+01:00",
          "2017-03-10T22:00:00+01:00",
          "2017-03-10T23:00:00+01:00",
          "2017-03-11T00:00:00+01:00",
          "2017-03-11T01:00:00+01:00",
          "2017-03-11T02:00:00+01:00",
          "2017-03-11T03:00:00+01:00",
          "2017-03-11T04:00:00+01:00",
          "2017-03-11T05:00:00+01:00",
          "2017-03-11T06:00:00+01:00",
          "2017-03-11T07:00:00+01:00",
          "2017-03-11T08:00:00+01:00",
          "2017-03-11T09:00:00+01:00",
          "2017-03-11T10:00:00+01:00",
          "2017-03-11T11:00:00+01:00"
         ],
         "y": [
          30540.40234375,
          30636.736328125,
          30479.220703125,
          30229.451171875,
          30047.220703125,
          30013.869140625,
          30198.826171875,
          30517.5546875,
          30839.8671875,
          30996.830078125,
          30843.279296875,
          30277.595703125,
          29309.37109375,
          28017.51171875,
          26626.966796875,
          25382.173828125,
          24520.111328125,
          24202.966796875,
          24495.49609375,
          25333.400390625,
          26534.013671875,
          27845.51171875,
          29013.716796875,
          29862.625
         ]
        },
        {
         "mode": "markers",
         "type": "scatter",
         "x": [
          "2017-03-10T13:00:00+01:00",
          "2017-03-10T14:00:00+01:00",
          "2017-03-10T15:00:00+01:00",
          "2017-03-10T16:00:00+01:00",
          "2017-03-10T17:00:00+01:00",
          "2017-03-10T18:00:00+01:00",
          "2017-03-10T19:00:00+01:00",
          "2017-03-10T20:00:00+01:00",
          "2017-03-10T21:00:00+01:00",
          "2017-03-10T22:00:00+01:00",
          "2017-03-10T23:00:00+01:00",
          "2017-03-11T00:00:00+01:00",
          "2017-03-11T01:00:00+01:00",
          "2017-03-11T02:00:00+01:00",
          "2017-03-11T03:00:00+01:00",
          "2017-03-11T04:00:00+01:00",
          "2017-03-11T05:00:00+01:00",
          "2017-03-11T06:00:00+01:00",
          "2017-03-11T07:00:00+01:00",
          "2017-03-11T08:00:00+01:00",
          "2017-03-11T09:00:00+01:00",
          "2017-03-11T10:00:00+01:00",
          "2017-03-11T11:00:00+01:00",
          "2017-03-11T12:00:00+01:00"
         ],
         "y": [
          30617.515625,
          30391.623046875,
          30092.3828125,
          29892.05859375,
          29912.193359375,
          30143.455078125,
          30540.2109375,
          30921.271484375,
          31104.05078125,
          30925.2890625,
          30299.431640625,
          29242.8203125,
          27888.13671875,
          26437.26953125,
          25174.427734375,
          24335.25,
          24086.03125,
          24471.505859375,
          25404.44140625,
          26689.08203125,
          28071.33984375,
          29289.703125,
          30152.287109375,
          30582.337890625
         ]
        },
        {
         "mode": "markers",
         "type": "scatter",
         "x": [
          "2017-03-10T14:00:00+01:00",
          "2017-03-10T15:00:00+01:00",
          "2017-03-10T16:00:00+01:00",
          "2017-03-10T17:00:00+01:00",
          "2017-03-10T18:00:00+01:00",
          "2017-03-10T19:00:00+01:00",
          "2017-03-10T20:00:00+01:00",
          "2017-03-10T21:00:00+01:00",
          "2017-03-10T22:00:00+01:00",
          "2017-03-10T23:00:00+01:00",
          "2017-03-11T00:00:00+01:00",
          "2017-03-11T01:00:00+01:00",
          "2017-03-11T02:00:00+01:00",
          "2017-03-11T03:00:00+01:00",
          "2017-03-11T04:00:00+01:00",
          "2017-03-11T05:00:00+01:00",
          "2017-03-11T06:00:00+01:00",
          "2017-03-11T07:00:00+01:00",
          "2017-03-11T08:00:00+01:00",
          "2017-03-11T09:00:00+01:00",
          "2017-03-11T10:00:00+01:00",
          "2017-03-11T11:00:00+01:00",
          "2017-03-11T12:00:00+01:00",
          "2017-03-11T13:00:00+01:00"
         ],
         "y": [
          30369.451171875,
          29984.841796875,
          29711.94140625,
          29685.806640625,
          29949.36328125,
          30392.14453125,
          30870.7109375,
          31152.640625,
          31050.998046875,
          30460.578125,
          29391.044921875,
          27980.849609375,
          26462.986328125,
          25110.73828125,
          24206.29296875,
          23922.962890625,
          24320.3125,
          25310.9375,
          26688.7890625,
          28172.375,
          29493.396484375,
          30433.392578125,
          30900.623046875,
          30927.529296875
         ]
        },
        {
         "mode": "markers",
         "type": "scatter",
         "x": [
          "2017-03-10T15:00:00+01:00",
          "2017-03-10T16:00:00+01:00",
          "2017-03-10T17:00:00+01:00",
          "2017-03-10T18:00:00+01:00",
          "2017-03-10T19:00:00+01:00",
          "2017-03-10T20:00:00+01:00",
          "2017-03-10T21:00:00+01:00",
          "2017-03-10T22:00:00+01:00",
          "2017-03-10T23:00:00+01:00",
          "2017-03-11T00:00:00+01:00",
          "2017-03-11T01:00:00+01:00",
          "2017-03-11T02:00:00+01:00",
          "2017-03-11T03:00:00+01:00",
          "2017-03-11T04:00:00+01:00",
          "2017-03-11T05:00:00+01:00",
          "2017-03-11T06:00:00+01:00",
          "2017-03-11T07:00:00+01:00",
          "2017-03-11T08:00:00+01:00",
          "2017-03-11T09:00:00+01:00",
          "2017-03-11T10:00:00+01:00",
          "2017-03-11T11:00:00+01:00",
          "2017-03-11T12:00:00+01:00",
          "2017-03-11T13:00:00+01:00",
          "2017-03-11T14:00:00+01:00"
         ],
         "y": [
          29913.791015625,
          29524.521484375,
          29397.744140625,
          29595.546875,
          30061.8828125,
          30599.044921875,
          31000.830078125,
          31038.37890625,
          30565.541015625,
          29573.861328125,
          28181.337890625,
          26628.142578125,
          25206.716796875,
          24200.275390625,
          23831.6640625,
          24171.701171875,
          25158.296875,
          26580.6796875,
          28166.419921875,
          29603.7890625,
          30664.16796875,
          31211.66796875,
          31270.0625,
          30969.419921875
         ]
        },
        {
         "mode": "markers",
         "type": "scatter",
         "x": [
          "2017-03-10T16:00:00+01:00",
          "2017-03-10T17:00:00+01:00",
          "2017-03-10T18:00:00+01:00",
          "2017-03-10T19:00:00+01:00",
          "2017-03-10T20:00:00+01:00",
          "2017-03-10T21:00:00+01:00",
          "2017-03-10T22:00:00+01:00",
          "2017-03-10T23:00:00+01:00",
          "2017-03-11T00:00:00+01:00",
          "2017-03-11T01:00:00+01:00",
          "2017-03-11T02:00:00+01:00",
          "2017-03-11T03:00:00+01:00",
          "2017-03-11T04:00:00+01:00",
          "2017-03-11T05:00:00+01:00",
          "2017-03-11T06:00:00+01:00",
          "2017-03-11T07:00:00+01:00",
          "2017-03-11T08:00:00+01:00",
          "2017-03-11T09:00:00+01:00",
          "2017-03-11T10:00:00+01:00",
          "2017-03-11T11:00:00+01:00",
          "2017-03-11T12:00:00+01:00",
          "2017-03-11T13:00:00+01:00",
          "2017-03-11T14:00:00+01:00",
          "2017-03-11T15:00:00+01:00"
         ],
         "y": [
          29423.07421875,
          29160.517578125,
          29239.728515625,
          29630.935546875,
          30185.3125,
          30653.634765625,
          30816.58984375,
          30502.814453125,
          29645.59375,
          28348.232421875,
          26825.3828125,
          25374.7109375,
          24294.921875,
          23819.205078125,
          24065.373046875,
          24981.51953125,
          26394.623046875,
          28006.611328125,
          29538.96484375,
          30710.365234375,
          31374.998046875,
          31503.83203125,
          31223.5234375,
          30731.26171875
         ]
        },
        {
         "mode": "markers",
         "type": "scatter",
         "x": [
          "2017-03-10T17:00:00+01:00",
          "2017-03-10T18:00:00+01:00",
          "2017-03-10T19:00:00+01:00",
          "2017-03-10T20:00:00+01:00",
          "2017-03-10T21:00:00+01:00",
          "2017-03-10T22:00:00+01:00",
          "2017-03-10T23:00:00+01:00",
          "2017-03-11T00:00:00+01:00",
          "2017-03-11T01:00:00+01:00",
          "2017-03-11T02:00:00+01:00",
          "2017-03-11T03:00:00+01:00",
          "2017-03-11T04:00:00+01:00",
          "2017-03-11T05:00:00+01:00",
          "2017-03-11T06:00:00+01:00",
          "2017-03-11T07:00:00+01:00",
          "2017-03-11T08:00:00+01:00",
          "2017-03-11T09:00:00+01:00",
          "2017-03-11T10:00:00+01:00",
          "2017-03-11T11:00:00+01:00",
          "2017-03-11T12:00:00+01:00",
          "2017-03-11T13:00:00+01:00",
          "2017-03-11T14:00:00+01:00",
          "2017-03-11T15:00:00+01:00",
          "2017-03-11T16:00:00+01:00"
         ],
         "y": [
          29071.52734375,
          29016.712890625,
          29298.453125,
          29792.013671875,
          30281.267578125,
          30508.662109375,
          30293.294921875,
          29564.28515625,
          28362.611328125,
          26897.88671875,
          25454.7265625,
          24337.27734375,
          23796.951171875,
          23968.669921875,
          24834.912109375,
          26218.611328125,
          27860.666015625,
          29424.8046875,
          30676.763671875,
          31420.033203125,
          31619.412109375,
          31362.552734375,
          30851.115234375,
          30313.138671875
         ]
        },
        {
         "mode": "markers",
         "type": "scatter",
         "x": [
          "2017-03-10T18:00:00+01:00",
          "2017-03-10T19:00:00+01:00",
          "2017-03-10T20:00:00+01:00",
          "2017-03-10T21:00:00+01:00",
          "2017-03-10T22:00:00+01:00",
          "2017-03-10T23:00:00+01:00",
          "2017-03-11T00:00:00+01:00",
          "2017-03-11T01:00:00+01:00",
          "2017-03-11T02:00:00+01:00",
          "2017-03-11T03:00:00+01:00",
          "2017-03-11T04:00:00+01:00",
          "2017-03-11T05:00:00+01:00",
          "2017-03-11T06:00:00+01:00",
          "2017-03-11T07:00:00+01:00",
          "2017-03-11T08:00:00+01:00",
          "2017-03-11T09:00:00+01:00",
          "2017-03-11T10:00:00+01:00",
          "2017-03-11T11:00:00+01:00",
          "2017-03-11T12:00:00+01:00",
          "2017-03-11T13:00:00+01:00",
          "2017-03-11T14:00:00+01:00",
          "2017-03-11T15:00:00+01:00",
          "2017-03-11T16:00:00+01:00",
          "2017-03-11T17:00:00+01:00"
         ],
         "y": [
          28965.716796875,
          29134.083984375,
          29542.482421875,
          29986.734375,
          30228.216796875,
          30051.904296875,
          29366.3828125,
          28231.267578125,
          26806.51171875,
          25382.390625,
          24267.19921875,
          23715.201171875,
          23874.75390625,
          24743.654296875,
          26158.17578125,
          27835.138671875,
          29470.189453125,
          30749.859375,
          31526.08984375,
          31733.044921875,
          31458.0859375,
          30895.919921875,
          30284.7265625,
          29839.068359375
         ]
        },
        {
         "mode": "markers",
         "type": "scatter",
         "x": [
          "2017-03-10T19:00:00+01:00",
          "2017-03-10T20:00:00+01:00",
          "2017-03-10T21:00:00+01:00",
          "2017-03-10T22:00:00+01:00",
          "2017-03-10T23:00:00+01:00",
          "2017-03-11T00:00:00+01:00",
          "2017-03-11T01:00:00+01:00",
          "2017-03-11T02:00:00+01:00",
          "2017-03-11T03:00:00+01:00",
          "2017-03-11T04:00:00+01:00",
          "2017-03-11T05:00:00+01:00",
          "2017-03-11T06:00:00+01:00",
          "2017-03-11T07:00:00+01:00",
          "2017-03-11T08:00:00+01:00",
          "2017-03-11T09:00:00+01:00",
          "2017-03-11T10:00:00+01:00",
          "2017-03-11T11:00:00+01:00",
          "2017-03-11T12:00:00+01:00",
          "2017-03-11T13:00:00+01:00",
          "2017-03-11T14:00:00+01:00",
          "2017-03-11T15:00:00+01:00",
          "2017-03-11T16:00:00+01:00",
          "2017-03-11T17:00:00+01:00",
          "2017-03-11T18:00:00+01:00"
         ],
         "y": [
          29141.775390625,
          29433.689453125,
          29788.0546875,
          29970.1875,
          29784.50390625,
          29115.818359375,
          27995.3359375,
          26611.25390625,
          25214.734375,
          24120.740234375,
          23590.724609375,
          23771.005859375,
          24664.69140625,
          26123.279296875,
          27867.658203125,
          29564.32421875,
          30927.931640625,
          31733.76953125,
          31948.12890625,
          31646.8046875,
          31020.43359375,
          30321.689453125,
          29771.837890625,
          29517.716796875
         ]
        },
        {
         "mode": "markers",
         "type": "scatter",
         "x": [
          "2017-03-10T20:00:00+01:00",
          "2017-03-10T21:00:00+01:00",
          "2017-03-10T22:00:00+01:00",
          "2017-03-10T23:00:00+01:00",
          "2017-03-11T00:00:00+01:00",
          "2017-03-11T01:00:00+01:00",
          "2017-03-11T02:00:00+01:00",
          "2017-03-11T03:00:00+01:00",
          "2017-03-11T04:00:00+01:00",
          "2017-03-11T05:00:00+01:00",
          "2017-03-11T06:00:00+01:00",
          "2017-03-11T07:00:00+01:00",
          "2017-03-11T08:00:00+01:00",
          "2017-03-11T09:00:00+01:00",
          "2017-03-11T10:00:00+01:00",
          "2017-03-11T11:00:00+01:00",
          "2017-03-11T12:00:00+01:00",
          "2017-03-11T13:00:00+01:00",
          "2017-03-11T14:00:00+01:00",
          "2017-03-11T15:00:00+01:00",
          "2017-03-11T16:00:00+01:00",
          "2017-03-11T17:00:00+01:00",
          "2017-03-11T18:00:00+01:00",
          "2017-03-11T19:00:00+01:00"
         ],
         "y": [
          29433.619140625,
          29603.46875,
          29637.333984375,
          29355.69140625,
          28680.10546875,
          27631.140625,
          26352.240234375,
          25097.291015625,
          24125.234375,
          23683.001953125,
          23903.115234375,
          24785.23046875,
          26192.70703125,
          27880.974609375,
          29546.69921875,
          30903.810546875,
          31766.75,
          32048.83984375,
          31823.236328125,
          31256.0859375,
          30570.443359375,
          29983.978515625,
          29635.90625,
          29561.8359375
         ]
        },
        {
         "mode": "markers",
         "type": "scatter",
         "x": [
          "2017-03-10T21:00:00+01:00",
          "2017-03-10T22:00:00+01:00",
          "2017-03-10T23:00:00+01:00",
          "2017-03-11T00:00:00+01:00",
          "2017-03-11T01:00:00+01:00",
          "2017-03-11T02:00:00+01:00",
          "2017-03-11T03:00:00+01:00",
          "2017-03-11T04:00:00+01:00",
          "2017-03-11T05:00:00+01:00",
          "2017-03-11T06:00:00+01:00",
          "2017-03-11T07:00:00+01:00",
          "2017-03-11T08:00:00+01:00",
          "2017-03-11T09:00:00+01:00",
          "2017-03-11T10:00:00+01:00",
          "2017-03-11T11:00:00+01:00",
          "2017-03-11T12:00:00+01:00",
          "2017-03-11T13:00:00+01:00",
          "2017-03-11T14:00:00+01:00",
          "2017-03-11T15:00:00+01:00",
          "2017-03-11T16:00:00+01:00",
          "2017-03-11T17:00:00+01:00",
          "2017-03-11T18:00:00+01:00",
          "2017-03-11T19:00:00+01:00",
          "2017-03-11T20:00:00+01:00"
         ],
         "y": [
          29890.361328125,
          29808.3046875,
          29383,
          28537.435546875,
          27348.205078125,
          25986.955078125,
          24699.017578125,
          23764.669921875,
          23403.53515625,
          23743.974609375,
          24750.234375,
          26260.57421875,
          28010.765625,
          29694.62890625,
          31040.408203125,
          31866.005859375,
          32127.67578125,
          31897.85546875,
          31345.712890625,
          30692.2265625,
          30147.076171875,
          29838.84375,
          29786.2109375,
          29894.560546875
         ]
        },
        {
         "mode": "markers",
         "type": "scatter",
         "x": [
          "2017-03-10T22:00:00+01:00",
          "2017-03-10T23:00:00+01:00",
          "2017-03-11T00:00:00+01:00",
          "2017-03-11T01:00:00+01:00",
          "2017-03-11T02:00:00+01:00",
          "2017-03-11T03:00:00+01:00",
          "2017-03-11T04:00:00+01:00",
          "2017-03-11T05:00:00+01:00",
          "2017-03-11T06:00:00+01:00",
          "2017-03-11T07:00:00+01:00",
          "2017-03-11T08:00:00+01:00",
          "2017-03-11T09:00:00+01:00",
          "2017-03-11T10:00:00+01:00",
          "2017-03-11T11:00:00+01:00",
          "2017-03-11T12:00:00+01:00",
          "2017-03-11T13:00:00+01:00",
          "2017-03-11T14:00:00+01:00",
          "2017-03-11T15:00:00+01:00",
          "2017-03-11T16:00:00+01:00",
          "2017-03-11T17:00:00+01:00",
          "2017-03-11T18:00:00+01:00",
          "2017-03-11T19:00:00+01:00",
          "2017-03-11T20:00:00+01:00",
          "2017-03-11T21:00:00+01:00"
         ],
         "y": [
          30109.41796875,
          29598.4375,
          28626.1953125,
          27263.5390625,
          25743.662109375,
          24359.357421875,
          23391.078125,
          23067.712890625,
          23495.734375,
          24637.267578125,
          26283.453125,
          28138.9921875,
          29877.279296875,
          31216.119140625,
          31993.701171875,
          32181.611328125,
          31893.333984375,
          31334.171875,
          30717.421875,
          30239.462890625,
          30029.896484375,
          30077.34765625,
          30268.255859375,
          30403.15625
         ]
        },
        {
         "mode": "markers",
         "type": "scatter",
         "x": [
          "2017-03-10T23:00:00+01:00",
          "2017-03-11T00:00:00+01:00",
          "2017-03-11T01:00:00+01:00",
          "2017-03-11T02:00:00+01:00",
          "2017-03-11T03:00:00+01:00",
          "2017-03-11T04:00:00+01:00",
          "2017-03-11T05:00:00+01:00",
          "2017-03-11T06:00:00+01:00",
          "2017-03-11T07:00:00+01:00",
          "2017-03-11T08:00:00+01:00",
          "2017-03-11T09:00:00+01:00",
          "2017-03-11T10:00:00+01:00",
          "2017-03-11T11:00:00+01:00",
          "2017-03-11T12:00:00+01:00",
          "2017-03-11T13:00:00+01:00",
          "2017-03-11T14:00:00+01:00",
          "2017-03-11T15:00:00+01:00",
          "2017-03-11T16:00:00+01:00",
          "2017-03-11T17:00:00+01:00",
          "2017-03-11T18:00:00+01:00",
          "2017-03-11T19:00:00+01:00",
          "2017-03-11T20:00:00+01:00",
          "2017-03-11T21:00:00+01:00",
          "2017-03-11T22:00:00+01:00"
         ],
         "y": [
          29442.462890625,
          28401.82421875,
          27000.896484375,
          25453.486328125,
          24078.6015625,
          23181.44921875,
          22961.345703125,
          23497.0625,
          24723.16796875,
          26434.69921875,
          28314.171875,
          30033.93359375,
          31324.947265625,
          32040.03125,
          32183.87890625,
          31879.1796875,
          31344.6875,
          30821.041015625,
          30463.521484375,
          30349.392578125,
          30473.1328125,
          30688.771484375,
          30808.99609375,
          30626.330078125
         ]
        },
        {
         "type": "scatter",
         "x": [
          "2017-03-04T00:00:00+01:00",
          "2017-03-04T01:00:00+01:00",
          "2017-03-04T02:00:00+01:00",
          "2017-03-04T03:00:00+01:00",
          "2017-03-04T04:00:00+01:00",
          "2017-03-04T05:00:00+01:00",
          "2017-03-04T06:00:00+01:00",
          "2017-03-04T07:00:00+01:00",
          "2017-03-04T08:00:00+01:00",
          "2017-03-04T09:00:00+01:00",
          "2017-03-04T10:00:00+01:00",
          "2017-03-04T11:00:00+01:00",
          "2017-03-04T12:00:00+01:00",
          "2017-03-04T13:00:00+01:00",
          "2017-03-04T14:00:00+01:00",
          "2017-03-04T15:00:00+01:00",
          "2017-03-04T16:00:00+01:00",
          "2017-03-04T17:00:00+01:00",
          "2017-03-04T18:00:00+01:00",
          "2017-03-04T19:00:00+01:00",
          "2017-03-04T20:00:00+01:00",
          "2017-03-04T21:00:00+01:00",
          "2017-03-04T22:00:00+01:00",
          "2017-03-04T23:00:00+01:00",
          "2017-03-05T00:00:00+01:00",
          "2017-03-05T01:00:00+01:00",
          "2017-03-05T02:00:00+01:00",
          "2017-03-05T03:00:00+01:00",
          "2017-03-05T04:00:00+01:00",
          "2017-03-05T05:00:00+01:00",
          "2017-03-05T06:00:00+01:00",
          "2017-03-05T07:00:00+01:00",
          "2017-03-05T08:00:00+01:00",
          "2017-03-05T09:00:00+01:00",
          "2017-03-05T10:00:00+01:00",
          "2017-03-05T11:00:00+01:00",
          "2017-03-05T12:00:00+01:00",
          "2017-03-05T13:00:00+01:00",
          "2017-03-05T14:00:00+01:00",
          "2017-03-05T15:00:00+01:00",
          "2017-03-05T16:00:00+01:00",
          "2017-03-05T17:00:00+01:00",
          "2017-03-05T18:00:00+01:00",
          "2017-03-05T19:00:00+01:00",
          "2017-03-05T20:00:00+01:00",
          "2017-03-05T21:00:00+01:00",
          "2017-03-05T22:00:00+01:00",
          "2017-03-05T23:00:00+01:00",
          "2017-03-06T00:00:00+01:00",
          "2017-03-06T01:00:00+01:00",
          "2017-03-06T02:00:00+01:00",
          "2017-03-06T03:00:00+01:00",
          "2017-03-06T04:00:00+01:00",
          "2017-03-06T05:00:00+01:00",
          "2017-03-06T06:00:00+01:00",
          "2017-03-06T07:00:00+01:00",
          "2017-03-06T08:00:00+01:00",
          "2017-03-06T09:00:00+01:00",
          "2017-03-06T10:00:00+01:00",
          "2017-03-06T11:00:00+01:00",
          "2017-03-06T12:00:00+01:00",
          "2017-03-06T13:00:00+01:00",
          "2017-03-06T14:00:00+01:00",
          "2017-03-06T15:00:00+01:00",
          "2017-03-06T16:00:00+01:00",
          "2017-03-06T17:00:00+01:00",
          "2017-03-06T18:00:00+01:00",
          "2017-03-06T19:00:00+01:00",
          "2017-03-06T20:00:00+01:00",
          "2017-03-06T21:00:00+01:00",
          "2017-03-06T22:00:00+01:00",
          "2017-03-06T23:00:00+01:00",
          "2017-03-07T00:00:00+01:00",
          "2017-03-07T01:00:00+01:00",
          "2017-03-07T02:00:00+01:00",
          "2017-03-07T03:00:00+01:00",
          "2017-03-07T04:00:00+01:00",
          "2017-03-07T05:00:00+01:00",
          "2017-03-07T06:00:00+01:00",
          "2017-03-07T07:00:00+01:00",
          "2017-03-07T08:00:00+01:00",
          "2017-03-07T09:00:00+01:00",
          "2017-03-07T10:00:00+01:00",
          "2017-03-07T11:00:00+01:00",
          "2017-03-07T12:00:00+01:00",
          "2017-03-07T13:00:00+01:00",
          "2017-03-07T14:00:00+01:00",
          "2017-03-07T15:00:00+01:00",
          "2017-03-07T16:00:00+01:00",
          "2017-03-07T17:00:00+01:00",
          "2017-03-07T18:00:00+01:00",
          "2017-03-07T19:00:00+01:00",
          "2017-03-07T20:00:00+01:00",
          "2017-03-07T21:00:00+01:00",
          "2017-03-07T22:00:00+01:00",
          "2017-03-07T23:00:00+01:00",
          "2017-03-08T00:00:00+01:00",
          "2017-03-08T01:00:00+01:00",
          "2017-03-08T02:00:00+01:00",
          "2017-03-08T03:00:00+01:00",
          "2017-03-08T04:00:00+01:00",
          "2017-03-08T05:00:00+01:00",
          "2017-03-08T06:00:00+01:00",
          "2017-03-08T07:00:00+01:00",
          "2017-03-08T08:00:00+01:00",
          "2017-03-08T09:00:00+01:00",
          "2017-03-08T10:00:00+01:00",
          "2017-03-08T11:00:00+01:00",
          "2017-03-08T12:00:00+01:00",
          "2017-03-08T13:00:00+01:00",
          "2017-03-08T14:00:00+01:00",
          "2017-03-08T15:00:00+01:00",
          "2017-03-08T16:00:00+01:00",
          "2017-03-08T17:00:00+01:00",
          "2017-03-08T18:00:00+01:00",
          "2017-03-08T19:00:00+01:00",
          "2017-03-08T20:00:00+01:00",
          "2017-03-08T21:00:00+01:00",
          "2017-03-08T22:00:00+01:00",
          "2017-03-08T23:00:00+01:00",
          "2017-03-09T00:00:00+01:00",
          "2017-03-09T01:00:00+01:00",
          "2017-03-09T02:00:00+01:00",
          "2017-03-09T03:00:00+01:00",
          "2017-03-09T04:00:00+01:00",
          "2017-03-09T05:00:00+01:00",
          "2017-03-09T06:00:00+01:00",
          "2017-03-09T07:00:00+01:00",
          "2017-03-09T08:00:00+01:00",
          "2017-03-09T09:00:00+01:00",
          "2017-03-09T10:00:00+01:00",
          "2017-03-09T11:00:00+01:00",
          "2017-03-09T12:00:00+01:00",
          "2017-03-09T13:00:00+01:00",
          "2017-03-09T14:00:00+01:00",
          "2017-03-09T15:00:00+01:00",
          "2017-03-09T16:00:00+01:00",
          "2017-03-09T17:00:00+01:00",
          "2017-03-09T18:00:00+01:00",
          "2017-03-09T19:00:00+01:00",
          "2017-03-09T20:00:00+01:00",
          "2017-03-09T21:00:00+01:00",
          "2017-03-09T22:00:00+01:00",
          "2017-03-09T23:00:00+01:00",
          "2017-03-10T00:00:00+01:00",
          "2017-03-10T01:00:00+01:00",
          "2017-03-10T02:00:00+01:00",
          "2017-03-10T03:00:00+01:00",
          "2017-03-10T04:00:00+01:00",
          "2017-03-10T05:00:00+01:00",
          "2017-03-10T06:00:00+01:00",
          "2017-03-10T07:00:00+01:00",
          "2017-03-10T08:00:00+01:00",
          "2017-03-10T09:00:00+01:00",
          "2017-03-10T10:00:00+01:00",
          "2017-03-10T11:00:00+01:00",
          "2017-03-10T12:00:00+01:00",
          "2017-03-10T13:00:00+01:00",
          "2017-03-10T14:00:00+01:00",
          "2017-03-10T15:00:00+01:00",
          "2017-03-10T16:00:00+01:00",
          "2017-03-10T17:00:00+01:00",
          "2017-03-10T18:00:00+01:00",
          "2017-03-10T19:00:00+01:00",
          "2017-03-10T20:00:00+01:00",
          "2017-03-10T21:00:00+01:00",
          "2017-03-10T22:00:00+01:00",
          "2017-03-10T23:00:00+01:00",
          "2017-03-11T00:00:00+01:00",
          "2017-03-11T01:00:00+01:00",
          "2017-03-11T02:00:00+01:00",
          "2017-03-11T03:00:00+01:00",
          "2017-03-11T04:00:00+01:00",
          "2017-03-11T05:00:00+01:00",
          "2017-03-11T06:00:00+01:00",
          "2017-03-11T07:00:00+01:00",
          "2017-03-11T08:00:00+01:00",
          "2017-03-11T09:00:00+01:00",
          "2017-03-11T10:00:00+01:00",
          "2017-03-11T11:00:00+01:00",
          "2017-03-11T12:00:00+01:00",
          "2017-03-11T13:00:00+01:00",
          "2017-03-11T14:00:00+01:00",
          "2017-03-11T15:00:00+01:00",
          "2017-03-11T16:00:00+01:00",
          "2017-03-11T17:00:00+01:00",
          "2017-03-11T18:00:00+01:00",
          "2017-03-11T19:00:00+01:00",
          "2017-03-11T20:00:00+01:00",
          "2017-03-11T21:00:00+01:00",
          "2017-03-11T22:00:00+01:00",
          "2017-03-11T23:00:00+01:00"
         ],
         "y": [
          26796.19140625,
          24776.857421875,
          23041.330078125,
          21952.1328125,
          21675.984375,
          22276.599609375,
          23692.38671875,
          25595.7578125,
          27701.1171875,
          29530.58203125,
          30755.439453125,
          31238.689453125,
          31058.923828125,
          30467.361328125,
          29772.5234375,
          29267.732421875,
          29162.0703125,
          29508.951171875,
          30211.30859375,
          30978.91796875,
          31474.13671875,
          31408.783203125,
          30622.494140625,
          29169.501953125,
          27226.884765625,
          25188.853515625,
          23448.935546875,
          22346.6015625,
          22091.666015625,
          22751.224609375,
          24196.421875,
          26140.033203125,
          28142.994140625,
          29842.634765625,
          30991.138671875,
          31477.501953125,
          31345.662109375,
          30770.373046875,
          30010.947265625,
          29350.013671875,
          29000.822265625,
          29039.712890625,
          29380.501953125,
          29815.740234375,
          30089.447265625,
          29955.015625,
          29258.390625,
          27983.916015625,
          26311.689453125,
          24534.109375,
          23005.181640625,
          22008.916015625,
          21744.998046875,
          22255.625,
          23449.4765625,
          25075.34375,
          26804.125,
          28284.982421875,
          29254.625,
          29583.931640625,
          29316.603515625,
          28642.28125,
          27829.5703125,
          27162.390625,
          26852.044921875,
          26978.451171875,
          27450.927734375,
          28049.271484375,
          28465.134765625,
          28447.09375,
          27854.09375,
          26706.125,
          25166.083984375,
          23529.375,
          22131.685546875,
          21284.140625,
          21161.703125,
          21780.6328125,
          23024.078125,
          24644.689453125,
          26314.126953125,
          27717.087890625,
          28613.4453125,
          28914.369140625,
          28685,
          28136.6484375,
          27555.171875,
          27197.322265625,
          27212.046875,
          27602.646484375,
          28229.9609375,
          28855.947265625,
          29210.568359375,
          29076.892578125,
          28381.029296875,
          27223.072265625,
          25871.478515625,
          24666.234375,
          23952.251953125,
          23953.822265625,
          24754.009765625,
          26270.876953125,
          28281.958984375,
          30443.25,
          32435.666015625,
          34006.27734375,
          35025.125,
          35489.10546875,
          35496.07421875,
          35193.33984375,
          34746.48828125,
          34292.16015625,
          33918.95703125,
          33646.26953125,
          33420.78125,
          33145.734375,
          32706.671875,
          31992.5078125,
          30931.802734375,
          29527.318359375,
          27849.0078125,
          26035.478515625,
          24260.775390625,
          22765.275390625,
          21763.2734375,
          21398.103515625,
          21686.529296875,
          22562.7265625,
          23829.671875,
          25263.884765625,
          26575.03125,
          27528.8828125,
          27970.494140625,
          27894.615234375,
          27422.546875,
          26777.734375,
          26221.9609375,
          25966.072265625,
          26103.25,
          26568.705078125,
          27153.193359375,
          27578.193359375,
          27595.3671875,
          27066.619140625,
          26013.455078125,
          24615.5078125,
          23227.302734375,
          22214.107421875,
          21881.75,
          22343.015625,
          23552.240234375,
          25313.525390625,
          27345.037109375,
          29265.9375,
          30760.796875,
          31623.28125,
          31851.287109375,
          31580.181640625,
          31034.59375,
          30459.634765625,
          30057.126953125,
          29939.083984375,
          30097.572265625,
          30427.986328125,
          30764.287109375,
          30929.580078125,
          30763.173828125,
          30150.849609375,
          29128.453125,
          27810.255859375,
          26369.169921875,
          25038.388671875,
          24065.41796875,
          23685.857421875,
          24005.82421875,
          24968.51171875,
          26371.5078125,
          27967.46875,
          29494.841796875,
          30721.890625,
          31492.36328125,
          31754.400390625,
          31572.666015625,
          31097.421875,
          30531.52734375,
          30074.15625,
          29874.349609375,
          29974.6328125,
          30283.861328125,
          30606.076171875,
          30626.330078125,
          null
         ]
        },
        {
         "type": "scatter",
         "x": [
          "2017-03-04T00:00:00+01:00",
          "2017-03-04T01:00:00+01:00",
          "2017-03-04T02:00:00+01:00",
          "2017-03-04T03:00:00+01:00",
          "2017-03-04T04:00:00+01:00",
          "2017-03-04T05:00:00+01:00",
          "2017-03-04T06:00:00+01:00",
          "2017-03-04T07:00:00+01:00",
          "2017-03-04T08:00:00+01:00",
          "2017-03-04T09:00:00+01:00",
          "2017-03-04T10:00:00+01:00",
          "2017-03-04T11:00:00+01:00",
          "2017-03-04T12:00:00+01:00",
          "2017-03-04T13:00:00+01:00",
          "2017-03-04T14:00:00+01:00",
          "2017-03-04T15:00:00+01:00",
          "2017-03-04T16:00:00+01:00",
          "2017-03-04T17:00:00+01:00",
          "2017-03-04T18:00:00+01:00",
          "2017-03-04T19:00:00+01:00",
          "2017-03-04T20:00:00+01:00",
          "2017-03-04T21:00:00+01:00",
          "2017-03-04T22:00:00+01:00",
          "2017-03-04T23:00:00+01:00",
          "2017-03-05T00:00:00+01:00",
          "2017-03-05T01:00:00+01:00",
          "2017-03-05T02:00:00+01:00",
          "2017-03-05T03:00:00+01:00",
          "2017-03-05T04:00:00+01:00",
          "2017-03-05T05:00:00+01:00",
          "2017-03-05T06:00:00+01:00",
          "2017-03-05T07:00:00+01:00",
          "2017-03-05T08:00:00+01:00",
          "2017-03-05T09:00:00+01:00",
          "2017-03-05T10:00:00+01:00",
          "2017-03-05T11:00:00+01:00",
          "2017-03-05T12:00:00+01:00",
          "2017-03-05T13:00:00+01:00",
          "2017-03-05T14:00:00+01:00",
          "2017-03-05T15:00:00+01:00",
          "2017-03-05T16:00:00+01:00",
          "2017-03-05T17:00:00+01:00",
          "2017-03-05T18:00:00+01:00",
          "2017-03-05T19:00:00+01:00",
          "2017-03-05T20:00:00+01:00",
          "2017-03-05T21:00:00+01:00",
          "2017-03-05T22:00:00+01:00",
          "2017-03-05T23:00:00+01:00",
          "2017-03-06T00:00:00+01:00",
          "2017-03-06T01:00:00+01:00",
          "2017-03-06T02:00:00+01:00",
          "2017-03-06T03:00:00+01:00",
          "2017-03-06T04:00:00+01:00",
          "2017-03-06T05:00:00+01:00",
          "2017-03-06T06:00:00+01:00",
          "2017-03-06T07:00:00+01:00",
          "2017-03-06T08:00:00+01:00",
          "2017-03-06T09:00:00+01:00",
          "2017-03-06T10:00:00+01:00",
          "2017-03-06T11:00:00+01:00",
          "2017-03-06T12:00:00+01:00",
          "2017-03-06T13:00:00+01:00",
          "2017-03-06T14:00:00+01:00",
          "2017-03-06T15:00:00+01:00",
          "2017-03-06T16:00:00+01:00",
          "2017-03-06T17:00:00+01:00",
          "2017-03-06T18:00:00+01:00",
          "2017-03-06T19:00:00+01:00",
          "2017-03-06T20:00:00+01:00",
          "2017-03-06T21:00:00+01:00",
          "2017-03-06T22:00:00+01:00",
          "2017-03-06T23:00:00+01:00",
          "2017-03-07T00:00:00+01:00",
          "2017-03-07T01:00:00+01:00",
          "2017-03-07T02:00:00+01:00",
          "2017-03-07T03:00:00+01:00",
          "2017-03-07T04:00:00+01:00",
          "2017-03-07T05:00:00+01:00",
          "2017-03-07T06:00:00+01:00",
          "2017-03-07T07:00:00+01:00",
          "2017-03-07T08:00:00+01:00",
          "2017-03-07T09:00:00+01:00",
          "2017-03-07T10:00:00+01:00",
          "2017-03-07T11:00:00+01:00",
          "2017-03-07T12:00:00+01:00",
          "2017-03-07T13:00:00+01:00",
          "2017-03-07T14:00:00+01:00",
          "2017-03-07T15:00:00+01:00",
          "2017-03-07T16:00:00+01:00",
          "2017-03-07T17:00:00+01:00",
          "2017-03-07T18:00:00+01:00",
          "2017-03-07T19:00:00+01:00",
          "2017-03-07T20:00:00+01:00",
          "2017-03-07T21:00:00+01:00",
          "2017-03-07T22:00:00+01:00",
          "2017-03-07T23:00:00+01:00",
          "2017-03-08T00:00:00+01:00",
          "2017-03-08T01:00:00+01:00",
          "2017-03-08T02:00:00+01:00",
          "2017-03-08T03:00:00+01:00",
          "2017-03-08T04:00:00+01:00",
          "2017-03-08T05:00:00+01:00",
          "2017-03-08T06:00:00+01:00",
          "2017-03-08T07:00:00+01:00",
          "2017-03-08T08:00:00+01:00",
          "2017-03-08T09:00:00+01:00",
          "2017-03-08T10:00:00+01:00",
          "2017-03-08T11:00:00+01:00",
          "2017-03-08T12:00:00+01:00",
          "2017-03-08T13:00:00+01:00",
          "2017-03-08T14:00:00+01:00",
          "2017-03-08T15:00:00+01:00",
          "2017-03-08T16:00:00+01:00",
          "2017-03-08T17:00:00+01:00",
          "2017-03-08T18:00:00+01:00",
          "2017-03-08T19:00:00+01:00",
          "2017-03-08T20:00:00+01:00",
          "2017-03-08T21:00:00+01:00",
          "2017-03-08T22:00:00+01:00",
          "2017-03-08T23:00:00+01:00",
          "2017-03-09T00:00:00+01:00",
          "2017-03-09T01:00:00+01:00",
          "2017-03-09T02:00:00+01:00",
          "2017-03-09T03:00:00+01:00",
          "2017-03-09T04:00:00+01:00",
          "2017-03-09T05:00:00+01:00",
          "2017-03-09T06:00:00+01:00",
          "2017-03-09T07:00:00+01:00",
          "2017-03-09T08:00:00+01:00",
          "2017-03-09T09:00:00+01:00",
          "2017-03-09T10:00:00+01:00",
          "2017-03-09T11:00:00+01:00",
          "2017-03-09T12:00:00+01:00",
          "2017-03-09T13:00:00+01:00",
          "2017-03-09T14:00:00+01:00",
          "2017-03-09T15:00:00+01:00",
          "2017-03-09T16:00:00+01:00",
          "2017-03-09T17:00:00+01:00",
          "2017-03-09T18:00:00+01:00",
          "2017-03-09T19:00:00+01:00",
          "2017-03-09T20:00:00+01:00",
          "2017-03-09T21:00:00+01:00",
          "2017-03-09T22:00:00+01:00",
          "2017-03-09T23:00:00+01:00",
          "2017-03-10T00:00:00+01:00",
          "2017-03-10T01:00:00+01:00",
          "2017-03-10T02:00:00+01:00",
          "2017-03-10T03:00:00+01:00",
          "2017-03-10T04:00:00+01:00",
          "2017-03-10T05:00:00+01:00",
          "2017-03-10T06:00:00+01:00",
          "2017-03-10T07:00:00+01:00",
          "2017-03-10T08:00:00+01:00",
          "2017-03-10T09:00:00+01:00",
          "2017-03-10T10:00:00+01:00",
          "2017-03-10T11:00:00+01:00",
          "2017-03-10T12:00:00+01:00",
          "2017-03-10T13:00:00+01:00",
          "2017-03-10T14:00:00+01:00",
          "2017-03-10T15:00:00+01:00",
          "2017-03-10T16:00:00+01:00",
          "2017-03-10T17:00:00+01:00",
          "2017-03-10T18:00:00+01:00",
          "2017-03-10T19:00:00+01:00",
          "2017-03-10T20:00:00+01:00",
          "2017-03-10T21:00:00+01:00",
          "2017-03-10T22:00:00+01:00",
          "2017-03-10T23:00:00+01:00",
          "2017-03-11T00:00:00+01:00",
          "2017-03-11T01:00:00+01:00",
          "2017-03-11T02:00:00+01:00",
          "2017-03-11T03:00:00+01:00",
          "2017-03-11T04:00:00+01:00",
          "2017-03-11T05:00:00+01:00",
          "2017-03-11T06:00:00+01:00",
          "2017-03-11T07:00:00+01:00",
          "2017-03-11T08:00:00+01:00",
          "2017-03-11T09:00:00+01:00",
          "2017-03-11T10:00:00+01:00",
          "2017-03-11T11:00:00+01:00",
          "2017-03-11T12:00:00+01:00",
          "2017-03-11T13:00:00+01:00",
          "2017-03-11T14:00:00+01:00",
          "2017-03-11T15:00:00+01:00",
          "2017-03-11T16:00:00+01:00",
          "2017-03-11T17:00:00+01:00",
          "2017-03-11T18:00:00+01:00",
          "2017-03-11T19:00:00+01:00",
          "2017-03-11T20:00:00+01:00",
          "2017-03-11T21:00:00+01:00",
          "2017-03-11T22:00:00+01:00",
          "2017-03-11T23:00:00+01:00"
         ],
         "y": [
          26796.19140625,
          24776.857421875,
          23046.48046875,
          21986.86328125,
          21721.15234375,
          22276.599609375,
          23652.99609375,
          25595.7578125,
          27759.32421875,
          29530.58203125,
          30723.82421875,
          31092.64453125,
          31015,
          30467.361328125,
          29780.828125,
          29204.94921875,
          29096.708984375,
          29508.951171875,
          30191.02734375,
          30997.07421875,
          31541.3359375,
          31408.783203125,
          30679.2265625,
          29169.501953125,
          27185.568359375,
          25103.080078125,
          23408.587890625,
          22346.6015625,
          22091.666015625,
          22714.265625,
          24028.658203125,
          25953.0546875,
          28003.04296875,
          29830.966796875,
          30991.138671875,
          31477.501953125,
          31345.662109375,
          30773.357421875,
          29994.0078125,
          29350.35546875,
          29002.662109375,
          29078.646484375,
          29380.501953125,
          29838.146484375,
          30148.8984375,
          30067.986328125,
          29473.59765625,
          28138.0625,
          26321.833984375,
          24469.72265625,
          23068.0234375,
          22008.916015625,
          21613.3125,
          22119.8359375,
          23327.615234375,
          25005.818359375,
          26798.0546875,
          28284.982421875,
          29296.236328125,
          29652.974609375,
          29331.20703125,
          28642.630859375,
          27814.013671875,
          27158.544921875,
          26885.119140625,
          26972.228515625,
          27370.61328125,
          28014.619140625,
          28465.134765625,
          28431.1875,
          27878.802734375,
          26726.66796875,
          25170.884765625,
          23515.87109375,
          22145.033203125,
          21289.25,
          21231.6953125,
          21780.6328125,
          22869.3515625,
          24581.599609375,
          26096.134765625,
          27532.125,
          28443.62109375,
          28809.5078125,
          28565.767578125,
          28139.689453125,
          27597.5078125,
          27309.849609375,
          27290.05078125,
          27715.5546875,
          28406.671875,
          29069.283203125,
          29297.0078125,
          29130.34375,
          28293.783203125,
          27262.654296875,
          25848.166015625,
          24577.138671875,
          23885.712890625,
          23927.51953125,
          24739.408203125,
          26441.37890625,
          28439.724609375,
          30714.541015625,
          32610.982421875,
          34098.37109375,
          35139.02734375,
          35628.58984375,
          35601.95703125,
          35201.10546875,
          34796.03125,
          34367.82421875,
          33918.95703125,
          33599.98046875,
          33401.65234375,
          33082.44921875,
          32709.66796875,
          32149.123046875,
          31178.60546875,
          29688.52734375,
          27952.64453125,
          26057.68359375,
          24287.296875,
          22765.275390625,
          21695.107421875,
          21294.306640625,
          21566.263671875,
          22406.076171875,
          23726.236328125,
          25234.64453125,
          26575.03125,
          27528.8828125,
          27982.34375,
          27930.46875,
          27422.546875,
          26777.734375,
          26281.326171875,
          25994.953125,
          26059.349609375,
          26393.01171875,
          27055.529296875,
          27570.28125,
          27594.716796875,
          27028.4765625,
          26106.376953125,
          24749.45703125,
          23250.419921875,
          22214.107421875,
          21878.30859375,
          22357.58984375,
          23619.716796875,
          25610.177734375,
          27806.353515625,
          29756.115234375,
          31153.58203125,
          31848.9453125,
          31907.576171875,
          31695.173828125,
          31034.59375,
          30458.3515625,
          30057.126953125,
          30011.3046875,
          30143.455078125,
          30466.41015625,
          30793.689453125,
          31005.068359375,
          30845.01171875,
          30277.595703125,
          29308.4140625,
          28017.51171875,
          26566.0703125,
          25174.427734375,
          24162.75390625,
          23715.201171875,
          23987.24609375,
          24968.51171875,
          26383.06640625,
          27967.46875,
          29516.90234375,
          30721.890625,
          31509.2265625,
          31754.400390625,
          31609.734375,
          31097.421875,
          30550.984375,
          30074.15625,
          29856.59765625,
          29974.6328125,
          30276.05859375,
          30606.076171875,
          30626.330078125,
          null
         ]
        }
       ],
       "layout": {
        "template": {
         "data": {
          "bar": [
           {
            "error_x": {
             "color": "#2a3f5f"
            },
            "error_y": {
             "color": "#2a3f5f"
            },
            "marker": {
             "line": {
              "color": "#E5ECF6",
              "width": 0.5
             },
             "pattern": {
              "fillmode": "overlay",
              "size": 10,
              "solidity": 0.2
             }
            },
            "type": "bar"
           }
          ],
          "barpolar": [
           {
            "marker": {
             "line": {
              "color": "#E5ECF6",
              "width": 0.5
             },
             "pattern": {
              "fillmode": "overlay",
              "size": 10,
              "solidity": 0.2
             }
            },
            "type": "barpolar"
           }
          ],
          "carpet": [
           {
            "aaxis": {
             "endlinecolor": "#2a3f5f",
             "gridcolor": "white",
             "linecolor": "white",
             "minorgridcolor": "white",
             "startlinecolor": "#2a3f5f"
            },
            "baxis": {
             "endlinecolor": "#2a3f5f",
             "gridcolor": "white",
             "linecolor": "white",
             "minorgridcolor": "white",
             "startlinecolor": "#2a3f5f"
            },
            "type": "carpet"
           }
          ],
          "choropleth": [
           {
            "colorbar": {
             "outlinewidth": 0,
             "ticks": ""
            },
            "type": "choropleth"
           }
          ],
          "contour": [
           {
            "colorbar": {
             "outlinewidth": 0,
             "ticks": ""
            },
            "colorscale": [
             [
              0,
              "#0d0887"
             ],
             [
              0.1111111111111111,
              "#46039f"
             ],
             [
              0.2222222222222222,
              "#7201a8"
             ],
             [
              0.3333333333333333,
              "#9c179e"
             ],
             [
              0.4444444444444444,
              "#bd3786"
             ],
             [
              0.5555555555555556,
              "#d8576b"
             ],
             [
              0.6666666666666666,
              "#ed7953"
             ],
             [
              0.7777777777777778,
              "#fb9f3a"
             ],
             [
              0.8888888888888888,
              "#fdca26"
             ],
             [
              1,
              "#f0f921"
             ]
            ],
            "type": "contour"
           }
          ],
          "contourcarpet": [
           {
            "colorbar": {
             "outlinewidth": 0,
             "ticks": ""
            },
            "type": "contourcarpet"
           }
          ],
          "heatmap": [
           {
            "colorbar": {
             "outlinewidth": 0,
             "ticks": ""
            },
            "colorscale": [
             [
              0,
              "#0d0887"
             ],
             [
              0.1111111111111111,
              "#46039f"
             ],
             [
              0.2222222222222222,
              "#7201a8"
             ],
             [
              0.3333333333333333,
              "#9c179e"
             ],
             [
              0.4444444444444444,
              "#bd3786"
             ],
             [
              0.5555555555555556,
              "#d8576b"
             ],
             [
              0.6666666666666666,
              "#ed7953"
             ],
             [
              0.7777777777777778,
              "#fb9f3a"
             ],
             [
              0.8888888888888888,
              "#fdca26"
             ],
             [
              1,
              "#f0f921"
             ]
            ],
            "type": "heatmap"
           }
          ],
          "heatmapgl": [
           {
            "colorbar": {
             "outlinewidth": 0,
             "ticks": ""
            },
            "colorscale": [
             [
              0,
              "#0d0887"
             ],
             [
              0.1111111111111111,
              "#46039f"
             ],
             [
              0.2222222222222222,
              "#7201a8"
             ],
             [
              0.3333333333333333,
              "#9c179e"
             ],
             [
              0.4444444444444444,
              "#bd3786"
             ],
             [
              0.5555555555555556,
              "#d8576b"
             ],
             [
              0.6666666666666666,
              "#ed7953"
             ],
             [
              0.7777777777777778,
              "#fb9f3a"
             ],
             [
              0.8888888888888888,
              "#fdca26"
             ],
             [
              1,
              "#f0f921"
             ]
            ],
            "type": "heatmapgl"
           }
          ],
          "histogram": [
           {
            "marker": {
             "pattern": {
              "fillmode": "overlay",
              "size": 10,
              "solidity": 0.2
             }
            },
            "type": "histogram"
           }
          ],
          "histogram2d": [
           {
            "colorbar": {
             "outlinewidth": 0,
             "ticks": ""
            },
            "colorscale": [
             [
              0,
              "#0d0887"
             ],
             [
              0.1111111111111111,
              "#46039f"
             ],
             [
              0.2222222222222222,
              "#7201a8"
             ],
             [
              0.3333333333333333,
              "#9c179e"
             ],
             [
              0.4444444444444444,
              "#bd3786"
             ],
             [
              0.5555555555555556,
              "#d8576b"
             ],
             [
              0.6666666666666666,
              "#ed7953"
             ],
             [
              0.7777777777777778,
              "#fb9f3a"
             ],
             [
              0.8888888888888888,
              "#fdca26"
             ],
             [
              1,
              "#f0f921"
             ]
            ],
            "type": "histogram2d"
           }
          ],
          "histogram2dcontour": [
           {
            "colorbar": {
             "outlinewidth": 0,
             "ticks": ""
            },
            "colorscale": [
             [
              0,
              "#0d0887"
             ],
             [
              0.1111111111111111,
              "#46039f"
             ],
             [
              0.2222222222222222,
              "#7201a8"
             ],
             [
              0.3333333333333333,
              "#9c179e"
             ],
             [
              0.4444444444444444,
              "#bd3786"
             ],
             [
              0.5555555555555556,
              "#d8576b"
             ],
             [
              0.6666666666666666,
              "#ed7953"
             ],
             [
              0.7777777777777778,
              "#fb9f3a"
             ],
             [
              0.8888888888888888,
              "#fdca26"
             ],
             [
              1,
              "#f0f921"
             ]
            ],
            "type": "histogram2dcontour"
           }
          ],
          "mesh3d": [
           {
            "colorbar": {
             "outlinewidth": 0,
             "ticks": ""
            },
            "type": "mesh3d"
           }
          ],
          "parcoords": [
           {
            "line": {
             "colorbar": {
              "outlinewidth": 0,
              "ticks": ""
             }
            },
            "type": "parcoords"
           }
          ],
          "pie": [
           {
            "automargin": true,
            "type": "pie"
           }
          ],
          "scatter": [
           {
            "marker": {
             "colorbar": {
              "outlinewidth": 0,
              "ticks": ""
             }
            },
            "type": "scatter"
           }
          ],
          "scatter3d": [
           {
            "line": {
             "colorbar": {
              "outlinewidth": 0,
              "ticks": ""
             }
            },
            "marker": {
             "colorbar": {
              "outlinewidth": 0,
              "ticks": ""
             }
            },
            "type": "scatter3d"
           }
          ],
          "scattercarpet": [
           {
            "marker": {
             "colorbar": {
              "outlinewidth": 0,
              "ticks": ""
             }
            },
            "type": "scattercarpet"
           }
          ],
          "scattergeo": [
           {
            "marker": {
             "colorbar": {
              "outlinewidth": 0,
              "ticks": ""
             }
            },
            "type": "scattergeo"
           }
          ],
          "scattergl": [
           {
            "marker": {
             "colorbar": {
              "outlinewidth": 0,
              "ticks": ""
             }
            },
            "type": "scattergl"
           }
          ],
          "scattermapbox": [
           {
            "marker": {
             "colorbar": {
              "outlinewidth": 0,
              "ticks": ""
             }
            },
            "type": "scattermapbox"
           }
          ],
          "scatterpolar": [
           {
            "marker": {
             "colorbar": {
              "outlinewidth": 0,
              "ticks": ""
             }
            },
            "type": "scatterpolar"
           }
          ],
          "scatterpolargl": [
           {
            "marker": {
             "colorbar": {
              "outlinewidth": 0,
              "ticks": ""
             }
            },
            "type": "scatterpolargl"
           }
          ],
          "scatterternary": [
           {
            "marker": {
             "colorbar": {
              "outlinewidth": 0,
              "ticks": ""
             }
            },
            "type": "scatterternary"
           }
          ],
          "surface": [
           {
            "colorbar": {
             "outlinewidth": 0,
             "ticks": ""
            },
            "colorscale": [
             [
              0,
              "#0d0887"
             ],
             [
              0.1111111111111111,
              "#46039f"
             ],
             [
              0.2222222222222222,
              "#7201a8"
             ],
             [
              0.3333333333333333,
              "#9c179e"
             ],
             [
              0.4444444444444444,
              "#bd3786"
             ],
             [
              0.5555555555555556,
              "#d8576b"
             ],
             [
              0.6666666666666666,
              "#ed7953"
             ],
             [
              0.7777777777777778,
              "#fb9f3a"
             ],
             [
              0.8888888888888888,
              "#fdca26"
             ],
             [
              1,
              "#f0f921"
             ]
            ],
            "type": "surface"
           }
          ],
          "table": [
           {
            "cells": {
             "fill": {
              "color": "#EBF0F8"
             },
             "line": {
              "color": "white"
             }
            },
            "header": {
             "fill": {
              "color": "#C8D4E3"
             },
             "line": {
              "color": "white"
             }
            },
            "type": "table"
           }
          ]
         },
         "layout": {
          "annotationdefaults": {
           "arrowcolor": "#2a3f5f",
           "arrowhead": 0,
           "arrowwidth": 1
          },
          "autotypenumbers": "strict",
          "coloraxis": {
           "colorbar": {
            "outlinewidth": 0,
            "ticks": ""
           }
          },
          "colorscale": {
           "diverging": [
            [
             0,
             "#8e0152"
            ],
            [
             0.1,
             "#c51b7d"
            ],
            [
             0.2,
             "#de77ae"
            ],
            [
             0.3,
             "#f1b6da"
            ],
            [
             0.4,
             "#fde0ef"
            ],
            [
             0.5,
             "#f7f7f7"
            ],
            [
             0.6,
             "#e6f5d0"
            ],
            [
             0.7,
             "#b8e186"
            ],
            [
             0.8,
             "#7fbc41"
            ],
            [
             0.9,
             "#4d9221"
            ],
            [
             1,
             "#276419"
            ]
           ],
           "sequential": [
            [
             0,
             "#0d0887"
            ],
            [
             0.1111111111111111,
             "#46039f"
            ],
            [
             0.2222222222222222,
             "#7201a8"
            ],
            [
             0.3333333333333333,
             "#9c179e"
            ],
            [
             0.4444444444444444,
             "#bd3786"
            ],
            [
             0.5555555555555556,
             "#d8576b"
            ],
            [
             0.6666666666666666,
             "#ed7953"
            ],
            [
             0.7777777777777778,
             "#fb9f3a"
            ],
            [
             0.8888888888888888,
             "#fdca26"
            ],
            [
             1,
             "#f0f921"
            ]
           ],
           "sequentialminus": [
            [
             0,
             "#0d0887"
            ],
            [
             0.1111111111111111,
             "#46039f"
            ],
            [
             0.2222222222222222,
             "#7201a8"
            ],
            [
             0.3333333333333333,
             "#9c179e"
            ],
            [
             0.4444444444444444,
             "#bd3786"
            ],
            [
             0.5555555555555556,
             "#d8576b"
            ],
            [
             0.6666666666666666,
             "#ed7953"
            ],
            [
             0.7777777777777778,
             "#fb9f3a"
            ],
            [
             0.8888888888888888,
             "#fdca26"
            ],
            [
             1,
             "#f0f921"
            ]
           ]
          },
          "colorway": [
           "#636efa",
           "#EF553B",
           "#00cc96",
           "#ab63fa",
           "#FFA15A",
           "#19d3f3",
           "#FF6692",
           "#B6E880",
           "#FF97FF",
           "#FECB52"
          ],
          "font": {
           "color": "#2a3f5f"
          },
          "geo": {
           "bgcolor": "white",
           "lakecolor": "white",
           "landcolor": "#E5ECF6",
           "showlakes": true,
           "showland": true,
           "subunitcolor": "white"
          },
          "hoverlabel": {
           "align": "left"
          },
          "hovermode": "closest",
          "mapbox": {
           "style": "light"
          },
          "paper_bgcolor": "white",
          "plot_bgcolor": "#E5ECF6",
          "polar": {
           "angularaxis": {
            "gridcolor": "white",
            "linecolor": "white",
            "ticks": ""
           },
           "bgcolor": "#E5ECF6",
           "radialaxis": {
            "gridcolor": "white",
            "linecolor": "white",
            "ticks": ""
           }
          },
          "scene": {
           "xaxis": {
            "backgroundcolor": "#E5ECF6",
            "gridcolor": "white",
            "gridwidth": 2,
            "linecolor": "white",
            "showbackground": true,
            "ticks": "",
            "zerolinecolor": "white"
           },
           "yaxis": {
            "backgroundcolor": "#E5ECF6",
            "gridcolor": "white",
            "gridwidth": 2,
            "linecolor": "white",
            "showbackground": true,
            "ticks": "",
            "zerolinecolor": "white"
           },
           "zaxis": {
            "backgroundcolor": "#E5ECF6",
            "gridcolor": "white",
            "gridwidth": 2,
            "linecolor": "white",
            "showbackground": true,
            "ticks": "",
            "zerolinecolor": "white"
           }
          },
          "shapedefaults": {
           "line": {
            "color": "#2a3f5f"
           }
          },
          "ternary": {
           "aaxis": {
            "gridcolor": "white",
            "linecolor": "white",
            "ticks": ""
           },
           "baxis": {
            "gridcolor": "white",
            "linecolor": "white",
            "ticks": ""
           },
           "bgcolor": "#E5ECF6",
           "caxis": {
            "gridcolor": "white",
            "linecolor": "white",
            "ticks": ""
           }
          },
          "title": {
           "x": 0.05
          },
          "xaxis": {
           "automargin": true,
           "gridcolor": "white",
           "linecolor": "white",
           "ticks": "",
           "title": {
            "standoff": 15
           },
           "zerolinecolor": "white",
           "zerolinewidth": 2
          },
          "yaxis": {
           "automargin": true,
           "gridcolor": "white",
           "linecolor": "white",
           "ticks": "",
           "title": {
            "standoff": 15
           },
           "zerolinecolor": "white",
           "zerolinewidth": 2
          }
         }
        }
       }
      }
     },
     "metadata": {},
     "output_type": "display_data"
    }
   ],
   "source": [
    "fig = go.Figure()\n",
    "df_pred =pd.DataFrame(index=y_test_filtered2.index)\n",
    "fig.add_trace(go.Scatter(x = y_test_filtered2.index,y=y_test_filtered2[feature]))\n",
    "for i in range(len(data_x_test)):\n",
    "    case_test = data_x_test[i].reshape((1,data_x_test[0].shape[0], data_x_test[0].shape[1]))\n",
    "    Y_test_predictions = pd.Series(model_best_MS_LSTM.predict(case_test).flatten(),index=pd.date_range(start=idx_test[i],freq='h',periods=24))\n",
    "    df_pred[f'pred_{i}'] = Y_test_predictions\n",
    "    fig.add_trace(go.Scatter(x = Y_test_predictions.index,y=Y_test_predictions,mode='markers'))\n",
    "\n",
    "df_pred['mean'] = df_pred.mean(axis=1)\n",
    "df_pred['median'] = df_pred.median(axis=1)\n",
    "fig.add_trace(go.Scatter(x = y_test_filtered2.index,y=df_pred['mean']))\n",
    "fig.add_trace(go.Scatter(x = y_test_filtered2.index,y=df_pred['median']))\n",
    "fig.show()\n",
    "eval_df2  =create_eval_df(df_pred['mean'],y_test_filtered2)"
   ]
  },
  {
   "cell_type": "code",
   "execution_count": null,
   "metadata": {},
   "outputs": [
    {
     "name": "stdout",
     "output_type": "stream",
     "text": [
      "R^2 score is  0.77\n"
     ]
    }
   ],
   "source": [
    "#Calculating R2 value:\n",
    "r2_test = r2_score(y_test_filtered2[:-1],df_pred['mean'][:-1])\n",
    "print('R^2 score is  %3.2f' %r2_test)"
   ]
  },
  {
   "cell_type": "markdown",
   "metadata": {},
   "source": [
    "## Encoder-Decoder + LSTM"
   ]
  },
  {
   "cell_type": "markdown",
   "metadata": {},
   "source": [
    "Scale the input data"
   ]
  },
  {
   "cell_type": "code",
   "execution_count": null,
   "metadata": {},
   "outputs": [],
   "source": [
    "scaled_df = combined_df.copy(deep=True)\n",
    "featuresToScale = scaled_df.columns\n",
    "sX = pp.StandardScaler(copy=True)\n",
    "scaled_df.loc[:,featuresToScale] = sX.fit_transform(scaled_df[featuresToScale])"
   ]
  },
  {
   "cell_type": "markdown",
   "metadata": {},
   "source": [
    "Create Train Validation Test Split"
   ]
  },
  {
   "cell_type": "code",
   "execution_count": null,
   "metadata": {},
   "outputs": [],
   "source": [
    "train_start = '2015-01-01'\n",
    "validation_start = '2017-01-01'\n",
    "test_start = '2017-03-01'\n",
    "test_end = '2017-03-14'\n",
    "feature = 'total load actual'\n",
    "namespace= 'MS_EDLSTM_LOAD'\n",
    "modeltype = 'EDLSTM'\n",
    "feature_df = combined_df[[feature]]\n",
    "data_x_train0,data_x_val0,data_x_test0,data_y_train0,data_y_val0,data_y_test0 = create_test_train_split(scaled_df,feature_df,train_start,test_start,test_end,validation_start=validation_start)"
   ]
  },
  {
   "cell_type": "markdown",
   "metadata": {},
   "source": [
    "Convert to (sample,timestep,feature) format"
   ]
  },
  {
   "cell_type": "code",
   "execution_count": null,
   "metadata": {},
   "outputs": [],
   "source": [
    "data_x_train,data_y_train,idx_train = convert_to_sample_time_feature(data_x_train0,data_y_train0,72,24,32)\n",
    "data_x_test,data_y_test,idx_test = convert_to_sample_time_feature(data_x_test0,data_y_test0,72,24,32)\n",
    "data_x_val,data_y_val,idx_val = convert_to_sample_time_feature(data_x_val0,data_y_val0,72,24,32)\n"
   ]
  },
  {
   "cell_type": "code",
   "execution_count": null,
   "metadata": {},
   "outputs": [],
   "source": [
    "print(data_x_train.shape,data_y_train.shape)\n",
    "print(data_x_val.shape,data_y_val.shape)\n",
    "print(data_x_test.shape,data_y_test.shape)"
   ]
  },
  {
   "cell_type": "markdown",
   "metadata": {},
   "source": [
    "Define ED LSTM Model"
   ]
  },
  {
   "cell_type": "code",
   "execution_count": null,
   "metadata": {},
   "outputs": [],
   "source": [
    "def build_model_ED_LSTM(data_x_train,data_y_train):\n",
    "    n_timesteps, n_features, n_outputs = data_x_train.shape[1], data_x_train.shape[2], data_y_train.shape[1]\n",
    "    model = models.Sequential([\n",
    "    layers.LSTM(80, return_sequences=True,input_shape=(None, n_features), stateful=False),\n",
    "    layers.BatchNormalization(),\n",
    "    layers.LSTM(64, return_sequences=True, stateful=False),\n",
    "    layers.BatchNormalization(),\n",
    "    layers.LSTM(32, return_sequences=False, stateful=False),\n",
    "    layers.BatchNormalization(),\n",
    "    layers.RepeatVector(n_outputs),\n",
    "    # define decoder:\n",
    "    layers.LSTM(32, return_sequences=True, stateful=False),\n",
    "    layers.BatchNormalization(),\n",
    "    layers.LSTM(64, return_sequences=True, stateful=False),\n",
    "    layers.BatchNormalization(),\n",
    "    layers.LSTM(80, return_sequences=True, stateful=False),\n",
    "    layers.BatchNormalization(),\n",
    "    layers.TimeDistributed(layers.Dense(1))                     \n",
    "    ])\n",
    "    model.compile(optimizer='Adam',loss='mse',metrics='mae') \n",
    "    return model\n"
   ]
  },
  {
   "cell_type": "markdown",
   "metadata": {},
   "source": [
    "Definening callback functions"
   ]
  },
  {
   "cell_type": "code",
   "execution_count": null,
   "metadata": {},
   "outputs": [],
   "source": [
    "myCheckpointEDLSTM= keras.callbacks.ModelCheckpoint(f\"./{modeltype}/my_best_model_{namespace}.h5\", save_best_only=True)\n",
    "myEarly_stoppingEDLSTM = keras.callbacks.EarlyStopping(patience=20,restore_best_weights=True)"
   ]
  },
  {
   "cell_type": "markdown",
   "metadata": {},
   "source": [
    "Hypterparameters"
   ]
  },
  {
   "cell_type": "code",
   "execution_count": null,
   "metadata": {},
   "outputs": [],
   "source": [
    "num_epochs = 150\n",
    "batch_size = 32"
   ]
  },
  {
   "cell_type": "markdown",
   "metadata": {},
   "source": [
    "Training the model"
   ]
  },
  {
   "cell_type": "code",
   "execution_count": null,
   "metadata": {},
   "outputs": [],
   "source": [
    "model_ED_LSTM = build_model_ED_LSTM(data_x_train,data_y_train)\n",
    "model_ED_LSTM.summary()\n"
   ]
  },
  {
   "cell_type": "code",
   "execution_count": null,
   "metadata": {},
   "outputs": [],
   "source": [
    "%%skip $SKIP_RETRAIN_ED_LSTM\n",
    "\n",
    "history_ED_LSTM = model_ED_LSTM.fit(data_x_train, data_y_train, epochs=num_epochs, batch_size=batch_size, validation_data=(data_x_val, data_y_val) , \n",
    "                                 callbacks=[myCheckpointEDLSTM,myEarly_stoppingEDLSTM])"
   ]
  },
  {
   "cell_type": "markdown",
   "metadata": {},
   "source": [
    "Evaluate the training process"
   ]
  },
  {
   "cell_type": "code",
   "execution_count": null,
   "metadata": {
    "colab": {
     "base_uri": "https://localhost:8080/",
     "height": 159
    },
    "id": "0f_FwfmlHyAl",
    "outputId": "080474a2-3f61-42ca-95ef-7bc23f76c853"
   },
   "outputs": [],
   "source": [
    "%%skip $SKIP_RETRAIN_ED_LSTM\n",
    "\n",
    "histEDLSTM = pd.DataFrame(history_ED_LSTM.history)\n",
    "histEDLSTM['epoch'] = history_ED_LSTM.epoch"
   ]
  },
  {
   "cell_type": "code",
   "execution_count": null,
   "metadata": {
    "colab": {
     "base_uri": "https://localhost:8080/",
     "height": 405
    },
    "id": "d2SviC32HyAr",
    "outputId": "512e600c-f7c8-46cd-9801-7387d6bf4f7f"
   },
   "outputs": [],
   "source": [
    "%%skip $SKIP_RETRAIN_ED_LSTM\n",
    "\n",
    "fig = plot_learning_curves(histEDLSTM,modeltype,f\"./{modeltype}/learningcurve_{namespace}.png\")\n",
    "fig.show()"
   ]
  },
  {
   "cell_type": "markdown",
   "metadata": {},
   "source": [
    "Load best model"
   ]
  },
  {
   "cell_type": "code",
   "execution_count": null,
   "metadata": {},
   "outputs": [],
   "source": [
    "#Calling back the best model:\n",
    "model_best_ED_LSTM = keras.models.load_model(f\"./{modeltype}/my_best_model_{namespace}.h5\")\n",
    "model_best_ED_LSTM.summary()"
   ]
  },
  {
   "cell_type": "code",
   "execution_count": null,
   "metadata": {},
   "outputs": [],
   "source": [
    "i=1\n",
    "case_test = data_x_test[i].reshape((1,data_x_test[0].shape[0], data_x_test[0].shape[1]))\n",
    "Y_test_predictions = pd.Series(model_best_ED_LSTM.predict(case_test).flatten(),index=pd.date_range(start=idx_test[i],freq='h',periods=24))\n",
    "y_test_filtered = data_y_test0.loc[Y_test_predictions.index]\n"
   ]
  },
  {
   "cell_type": "code",
   "execution_count": null,
   "metadata": {},
   "outputs": [],
   "source": [
    "eval_df = create_eval_df(Y_test_predictions,y_test_filtered)"
   ]
  },
  {
   "cell_type": "code",
   "execution_count": null,
   "metadata": {
    "colab": {
     "base_uri": "https://localhost:8080/",
     "height": 426
    },
    "id": "5X3Hs_GtHyAs",
    "outputId": "7281486a-4a6c-492c-e48f-37fa6e7d7c25"
   },
   "outputs": [],
   "source": [
    "fig = plot_accuracy(eval_df,modeltype,f\"./{modeltype}/accuracy_{namespace}.png\")\n",
    "fig.show()"
   ]
  },
  {
   "cell_type": "code",
   "execution_count": null,
   "metadata": {
    "colab": {
     "base_uri": "https://localhost:8080/",
     "height": 422
    },
    "id": "olr-44nOHyAt",
    "outputId": "ac65b698-1f77-4a62-87cf-c99f30d4d246"
   },
   "outputs": [],
   "source": [
    "fig = plot_error_variations(eval_df,modeltype,f\"./{modeltype}/error_variations_{namespace}.png\")\n",
    "fig.show()"
   ]
  },
  {
   "cell_type": "code",
   "execution_count": null,
   "metadata": {
    "colab": {
     "base_uri": "https://localhost:8080/"
    },
    "id": "-HSnhihhHyAt",
    "outputId": "b45d472e-df1f-4ab2-97ba-6318127d0d9e"
   },
   "outputs": [],
   "source": [
    "abs_error_ED_LSTM = abs(Y_test_predictions - y_test_filtered)/y_test_filtered*100\n",
    "np.average(abs_error_ED_LSTM)"
   ]
  },
  {
   "cell_type": "code",
   "execution_count": null,
   "metadata": {
    "colab": {
     "base_uri": "https://localhost:8080/"
    },
    "id": "-Og3-ec1HyAv",
    "outputId": "f0d3e172-622e-4dd4-a8ec-3f84e320356b"
   },
   "outputs": [],
   "source": [
    "r2_test = r2_score(y_test_filtered, Y_test_predictions)\n",
    "print('R^2 score is  %3.2f' %r2_test)"
   ]
  },
  {
   "cell_type": "code",
   "execution_count": null,
   "metadata": {
    "colab": {
     "base_uri": "https://localhost:8080/",
     "height": 421
    },
    "id": "bUVtrW7kHyAw",
    "outputId": "e4abb863-ccd1-4159-bd9d-7fb1a9711a9f"
   },
   "outputs": [],
   "source": [
    "fig=plot_predictions(eval_df,1,model_type,feature,f\"./{modeltype}/predictions_{namespace}.png\")\n",
    "fig.show()"
   ]
  },
  {
   "cell_type": "code",
   "execution_count": null,
   "metadata": {},
   "outputs": [],
   "source": [
    "idx_prediction = pd.date_range(start=idx_test[0],freq='h',periods=len(idx_test)+24)\n",
    "y_test_filtered2 = data_y_test0.loc[idx_prediction]"
   ]
  },
  {
   "cell_type": "code",
   "execution_count": null,
   "metadata": {},
   "outputs": [],
   "source": [
    "fig = go.Figure()\n",
    "df_pred =pd.DataFrame(index=y_test_filtered2.index)\n",
    "fig.add_trace(go.Scatter(x = y_test_filtered2.index,y=y_test_filtered2[feature]))\n",
    "for i in range(len(data_x_test)):\n",
    "    case_test = data_x_test[i].reshape((1,data_x_test[0].shape[0], data_x_test[0].shape[1]))\n",
    "    Y_test_predictions = pd.Series(model_best_ED_LSTM.predict(case_test).flatten(),index=pd.date_range(start=idx_test[i],freq='h',periods=24))\n",
    "    df_pred[f'pred_{i}'] = Y_test_predictions\n",
    "    fig.add_trace(go.Scatter(x = Y_test_predictions.index,y=Y_test_predictions,mode='markers'))\n",
    "\n",
    "df_pred['mean'] = df_pred.mean(axis=1)\n",
    "df_pred['median'] = df_pred.median(axis=1)\n",
    "fig.add_trace(go.Scatter(x = y_test_filtered2.index,y=df_pred['mean']))\n",
    "fig.add_trace(go.Scatter(x = y_test_filtered2.index,y=df_pred['median']))\n",
    "fig.show()\n",
    "eval_df2  =create_eval_df(df_pred['mean'],y_test_filtered2)"
   ]
  },
  {
   "cell_type": "code",
   "execution_count": null,
   "metadata": {},
   "outputs": [],
   "source": [
    "r2_test = r2_score(y_test_filtered2[:-1],df_pred['mean'][:-1])\n",
    "print('R^2 score is  %3.2f' %r2_test)"
   ]
  },
  {
   "cell_type": "markdown",
   "metadata": {},
   "source": [
    "# Hyperparameter Tuning\n"
   ]
  },
  {
   "cell_type": "markdown",
   "metadata": {},
   "source": [
    "We may investigate the following parameters:\n",
    "\n",
    "*   Number of layers\n",
    "*   Number of nodes\n",
    "*   Activation function\n",
    "*   Optimizer\n",
    "*   Learning rate\n",
    "*   Number of epochs \n",
    "*   Batch size to update the optimization\n",
    "\n",
    "Other options we can include can be listed as:\n",
    "\n",
    "*   Adding weight regularization\n",
    "*   Adding dropout\n",
    "*   Early stopping / Callback"
   ]
  },
  {
   "cell_type": "markdown",
   "metadata": {},
   "source": [
    "## LSTM Hyperparameter Tuning"
   ]
  },
  {
   "cell_type": "markdown",
   "metadata": {},
   "source": [
    "Scale the input data"
   ]
  },
  {
   "cell_type": "code",
   "execution_count": null,
   "metadata": {},
   "outputs": [],
   "source": [
    "scaled_df = combined_df.copy(deep=True)\n",
    "featuresToScale = scaled_df.columns\n",
    "sX = pp.StandardScaler(copy=True)\n",
    "scaled_df.loc[:,featuresToScale] = sX.fit_transform(scaled_df[featuresToScale])"
   ]
  },
  {
   "cell_type": "markdown",
   "metadata": {},
   "source": [
    "Create Train Validation Test Split"
   ]
  },
  {
   "cell_type": "code",
   "execution_count": null,
   "metadata": {},
   "outputs": [],
   "source": [
    "train_start = '2015-01-01'\n",
    "validation_start = '2017-01-01'\n",
    "test_start = '2017-03-01'\n",
    "test_end = '2017-03-14'\n",
    "feature = 'total load actual'\n",
    "modeltype = 'LSTM'\n",
    "namespace = 'MS_LSTM_LOAD_HPT'\n",
    "feature_df = combined_df[[feature]]\n",
    "data_x_train0,data_x_val0,data_x_test0,data_y_train0,data_y_val0,data_y_test0 = create_test_train_split(scaled_df,feature_df,train_start,test_start,test_end,validation_start=validation_start)"
   ]
  },
  {
   "cell_type": "markdown",
   "metadata": {},
   "source": [
    "Convert to (sample,timestep,feature) format"
   ]
  },
  {
   "cell_type": "code",
   "execution_count": null,
   "metadata": {},
   "outputs": [],
   "source": [
    "data_x_train,data_y_train,idx_train = convert_to_sample_time_feature(data_x_train0,data_y_train0,72,24,32)\n",
    "data_x_test,data_y_test,idx_test = convert_to_sample_time_feature(data_x_test0,data_y_test0,72,24,32)\n",
    "data_x_val,data_y_val,idx_val = convert_to_sample_time_feature(data_x_val0,data_y_val0,72,24,32)\n"
   ]
  },
  {
   "cell_type": "code",
   "execution_count": null,
   "metadata": {},
   "outputs": [],
   "source": [
    "print(data_x_train.shape,data_y_train.shape)\n",
    "print(data_x_val.shape,data_y_val.shape)\n",
    "print(data_x_test.shape,data_y_test.shape)"
   ]
  },
  {
   "cell_type": "markdown",
   "metadata": {},
   "source": [
    "Define LSTM Model for Hyperparamter Tuning \n"
   ]
  },
  {
   "cell_type": "code",
   "execution_count": null,
   "metadata": {},
   "outputs": [],
   "source": [
    "def build_model_LSTM(hp):\n",
    "    n_timesteps, n_features, n_outputs = data_x_train.shape[1], data_x_train.shape[2], data_y_train.shape[1]\n",
    "    model = models.Sequential()\n",
    "    \n",
    "    model.add(layers.LSTM(hp.Int('Neurons',min_value=16,max_value=96,step=16), return_sequences=True,input_shape=(None, n_features), stateful=False)) \n",
    "    model.add(layers.BatchNormalization())\n",
    "    model.add(layers.Dropout(hp.Float('Dropout',min_value=0.1,max_value=0.4,step=0.1)))\n",
    "    \n",
    "    for i in range(hp.Int('n_layers',1,4,1)):\n",
    "      model.add(layers.LSTM(hp.Int('Neurons',min_value=16,max_value=96,step=16), return_sequences=True, stateful=False))\n",
    "      model.add(layers.BatchNormalization())\n",
    "      model.add(layers.Dropout(hp.Float('Dropout',min_value=0.1,max_value=0.4,step=0.1)))\n",
    "      \n",
    "    model.add(layers.LSTM(hp.Int('Neurons',min_value=16,max_value=96,step=16), stateful=False))\n",
    "    \n",
    "    model.add(layers.Dense(hp.Int('Neurons',min_value=16,max_value=96,step=16), kernel_regularizer=regularizers.l2(0.0001), kernel_initializer=\"he_normal\"),)\n",
    "    model.add(layers.LeakyReLU(alpha=0.1))\n",
    "    model.add(layers.BatchNormalization())\n",
    "    model.add(layers.Dense(n_outputs))                     \n",
    "    \n",
    "    model.compile(optimizer='Adam',loss='mse',metrics='mae') \n",
    "    return model"
   ]
  },
  {
   "cell_type": "code",
   "execution_count": null,
   "metadata": {},
   "outputs": [],
   "source": [
    "tuner = kt.RandomSearch(\n",
    "    build_model_LSTM,\n",
    "    objective='val_loss',\n",
    "    max_trials=10,\n",
    "    executions_per_trial = 1,\n",
    "    directory = \"./hpt_LSTM/\",\n",
    "    project_name=\"Load\")\n",
    "tuner.search_space_summary()\n"
   ]
  },
  {
   "cell_type": "code",
   "execution_count": null,
   "metadata": {},
   "outputs": [],
   "source": [
    "myCheckpointLSTM= keras.callbacks.ModelCheckpoint(f\"./{modeltype}/my_best_model_{namespace}.h5\", save_best_only=True)\n",
    "myEarly_stoppingLSTM = keras.callbacks.EarlyStopping(patience=10,restore_best_weights=True)"
   ]
  },
  {
   "cell_type": "code",
   "execution_count": null,
   "metadata": {},
   "outputs": [],
   "source": [
    "num_epochs = 150\n",
    "batch_size = 32"
   ]
  },
  {
   "cell_type": "code",
   "execution_count": null,
   "metadata": {},
   "outputs": [],
   "source": [
    "tuner.search(data_x_train,data_y_train,epochs=150,validation_data=(data_x_val,data_y_val),batch_size=batch_size,callbacks=[myCheckpointLSTM,myEarly_stoppingLSTM])"
   ]
  },
  {
   "cell_type": "code",
   "execution_count": null,
   "metadata": {},
   "outputs": [],
   "source": [
    "tuner.results_summary()"
   ]
  },
  {
   "cell_type": "code",
   "execution_count": null,
   "metadata": {},
   "outputs": [],
   "source": [
    "best_models = tuner.get_best_models()\n",
    "best_hps = tuner.get_best_hyperparameters(5)"
   ]
  },
  {
   "cell_type": "code",
   "execution_count": null,
   "metadata": {},
   "outputs": [],
   "source": [
    "best_hps[0]"
   ]
  },
  {
   "cell_type": "code",
   "execution_count": null,
   "metadata": {},
   "outputs": [],
   "source": [
    "%%skip $SKIP_RETRAIN_LSTM\n",
    "\n",
    "model_LSTM= build_model_LSTM(best_hps[1])\n",
    "history_LSTM = model_LSTM.fit(data_x_train, data_y_train, epochs=num_epochs, batch_size=batch_size, validation_data=(data_x_val, data_y_val) , \n",
    "                                 callbacks=[myCheckpointLSTM,myEarly_stoppingLSTM])"
   ]
  },
  {
   "cell_type": "markdown",
   "metadata": {},
   "source": [
    "Evaluate the training process"
   ]
  },
  {
   "cell_type": "code",
   "execution_count": null,
   "metadata": {
    "colab": {
     "base_uri": "https://localhost:8080/",
     "height": 159
    },
    "id": "0f_FwfmlHyAl",
    "outputId": "080474a2-3f61-42ca-95ef-7bc23f76c853"
   },
   "outputs": [],
   "source": [
    "%%skip $SKIP_RETRAIN_LSTM\n",
    "\n",
    "histLSTM = pd.DataFrame(history_LSTM.history)\n",
    "histLSTM['epoch'] = history_LSTM.epoch"
   ]
  },
  {
   "cell_type": "code",
   "execution_count": null,
   "metadata": {
    "colab": {
     "base_uri": "https://localhost:8080/",
     "height": 405
    },
    "id": "d2SviC32HyAr",
    "outputId": "512e600c-f7c8-46cd-9801-7387d6bf4f7f"
   },
   "outputs": [],
   "source": [
    "%%skip $SKIP_RETRAIN_LSTM\n",
    "\n",
    "fig = plot_learning_curves(histLSTM,modeltype,f'./{modeltype}/learningcurve_{namespace}.png')\n",
    "fig.show()"
   ]
  },
  {
   "cell_type": "markdown",
   "metadata": {},
   "source": [
    "Load best model"
   ]
  },
  {
   "cell_type": "code",
   "execution_count": null,
   "metadata": {},
   "outputs": [],
   "source": [
    "model_best_MS_LSTM = keras.models.load_model(f\"./{modeltype}/my_best_model_{namespace}.h5\")\n",
    "model_best_MS_LSTM.summary()"
   ]
  },
  {
   "cell_type": "code",
   "execution_count": null,
   "metadata": {},
   "outputs": [],
   "source": [
    "i=1\n",
    "case_test = data_x_test[i].reshape((1,data_x_test[0].shape[0], data_x_test[0].shape[1]))\n",
    "\n",
    "Y_test_predictions = pd.Series(model_best_MS_LSTM.predict(case_test).flatten(),index=pd.date_range(start=idx_test[i],freq='h',periods=24))\n",
    "y_test_filtered = data_y_test0.loc[Y_test_predictions.index]"
   ]
  },
  {
   "cell_type": "code",
   "execution_count": null,
   "metadata": {},
   "outputs": [],
   "source": [
    "eval_df = create_eval_df(Y_test_predictions,y_test_filtered)"
   ]
  },
  {
   "cell_type": "code",
   "execution_count": null,
   "metadata": {
    "colab": {
     "base_uri": "https://localhost:8080/",
     "height": 426
    },
    "id": "5X3Hs_GtHyAs",
    "outputId": "7281486a-4a6c-492c-e48f-37fa6e7d7c25"
   },
   "outputs": [],
   "source": [
    "fig = plot_accuracy(eval_df,modeltype,f'./{modeltype}/accuracy_{namespace}.png')\n",
    "fig.show()"
   ]
  },
  {
   "cell_type": "code",
   "execution_count": null,
   "metadata": {
    "colab": {
     "base_uri": "https://localhost:8080/",
     "height": 422
    },
    "id": "olr-44nOHyAt",
    "outputId": "ac65b698-1f77-4a62-87cf-c99f30d4d246"
   },
   "outputs": [],
   "source": [
    "fig = plot_error_variations(eval_df,modeltype,f'./{modeltype}/error_variations_{namespace}.png')\n",
    "fig.show()"
   ]
  },
  {
   "cell_type": "code",
   "execution_count": null,
   "metadata": {
    "colab": {
     "base_uri": "https://localhost:8080/"
    },
    "id": "-HSnhihhHyAt",
    "outputId": "b45d472e-df1f-4ab2-97ba-6318127d0d9e"
   },
   "outputs": [],
   "source": [
    "abs_error_LSTM = abs(Y_test_predictions - y_test_filtered)/y_test_filtered*100\n",
    "np.average(abs_error_LSTM)"
   ]
  },
  {
   "cell_type": "code",
   "execution_count": null,
   "metadata": {
    "colab": {
     "base_uri": "https://localhost:8080/"
    },
    "id": "-Og3-ec1HyAv",
    "outputId": "f0d3e172-622e-4dd4-a8ec-3f84e320356b"
   },
   "outputs": [],
   "source": [
    "r2_test = r2_score(y_test_filtered, Y_test_predictions)\n",
    "print('R^2 score is  %3.2f' %r2_test)"
   ]
  },
  {
   "cell_type": "code",
   "execution_count": null,
   "metadata": {
    "colab": {
     "base_uri": "https://localhost:8080/",
     "height": 421
    },
    "id": "bUVtrW7kHyAw",
    "outputId": "e4abb863-ccd1-4159-bd9d-7fb1a9711a9f"
   },
   "outputs": [],
   "source": [
    "fig = plot_predictions(eval_df,1,modeltype,feature,f'./{modeltype}/predictions_{namespace}.png')\n",
    "fig.show()"
   ]
  },
  {
   "cell_type": "code",
   "execution_count": null,
   "metadata": {},
   "outputs": [],
   "source": [
    "idx_prediction = pd.date_range(start=idx_test[0],freq='h',periods=len(idx_test)+24)\n",
    "y_test_filtered2 = data_y_test0.loc[idx_prediction]"
   ]
  },
  {
   "cell_type": "code",
   "execution_count": null,
   "metadata": {},
   "outputs": [],
   "source": [
    "fig = go.Figure()\n",
    "df_pred =pd.DataFrame(index=y_test_filtered2.index)\n",
    "fig.add_trace(go.Scatter(x = y_test_filtered2.index,y=y_test_filtered2[feature]))\n",
    "for i in range(len(data_x_test)):\n",
    "    case_test = data_x_test[i].reshape((1,data_x_test[0].shape[0], data_x_test[0].shape[1]))\n",
    "    Y_test_predictions = pd.Series(model_best_MS_LSTM.predict(case_test).flatten(),index=pd.date_range(start=idx_test[i],freq='h',periods=24))\n",
    "    df_pred[f'pred_{i}'] = Y_test_predictions\n",
    "    fig.add_trace(go.Scatter(x = Y_test_predictions.index,y=Y_test_predictions,mode='markers'))\n",
    "\n",
    "df_pred['mean'] = df_pred.mean(axis=1)\n",
    "df_pred['median'] = df_pred.median(axis=1)\n",
    "fig.add_trace(go.Scatter(x = y_test_filtered2.index,y=df_pred['mean']))\n",
    "fig.add_trace(go.Scatter(x = y_test_filtered2.index,y=df_pred['median']))\n",
    "fig.show()\n",
    "eval_df2  =create_eval_df(df_pred['mean'],y_test_filtered2)"
   ]
  },
  {
   "cell_type": "code",
   "execution_count": null,
   "metadata": {},
   "outputs": [],
   "source": [
    "r2_test = r2_score(y_test_filtered2[:-1],df_pred['mean'][:-1])\n",
    "print('R^2 score is  %3.2f' %r2_test)"
   ]
  },
  {
   "cell_type": "markdown",
   "metadata": {},
   "source": [
    "## ED-LSTM Hyperparameter Tuning"
   ]
  },
  {
   "cell_type": "markdown",
   "metadata": {},
   "source": [
    "Scale the input data"
   ]
  },
  {
   "cell_type": "code",
   "execution_count": null,
   "metadata": {},
   "outputs": [],
   "source": [
    "scaled_df = combined_df.copy(deep=True)\n",
    "featuresToScale = scaled_df.columns\n",
    "sX = pp.StandardScaler(copy=True)\n",
    "scaled_df.loc[:,featuresToScale] = sX.fit_transform(scaled_df[featuresToScale])"
   ]
  },
  {
   "cell_type": "markdown",
   "metadata": {},
   "source": [
    "Create Train Validation Test Split"
   ]
  },
  {
   "cell_type": "code",
   "execution_count": null,
   "metadata": {},
   "outputs": [],
   "source": [
    "train_start = '2015-01-01'\n",
    "validation_start = '2017-01-01'\n",
    "test_start = '2017-03-01'\n",
    "test_end = '2017-03-14'\n",
    "feature = 'total load actual'\n",
    "namespace= 'MS_EDLSTM_LOAD_HPT'\n",
    "model_type = 'EDLSTM'\n",
    "feature_df = combined_df[[feature]]\n",
    "data_x_train0,data_x_val0,data_x_test0,data_y_train0,data_y_val0,data_y_test0 = create_test_train_split(scaled_df,feature_df,train_start,test_start,test_end,validation_start=validation_start)"
   ]
  },
  {
   "cell_type": "markdown",
   "metadata": {},
   "source": [
    "Convert to (sample,timestep,feature) format"
   ]
  },
  {
   "cell_type": "code",
   "execution_count": null,
   "metadata": {},
   "outputs": [],
   "source": [
    "data_x_train,data_y_train,idx_train = convert_to_sample_time_feature(data_x_train0,data_y_train0,72,24,32)\n",
    "data_x_test,data_y_test,idx_test = convert_to_sample_time_feature(data_x_test0,data_y_test0,72,24,32)\n",
    "data_x_val,data_y_val,idx_val = convert_to_sample_time_feature(data_x_val0,data_y_val0,72,24,32)\n"
   ]
  },
  {
   "cell_type": "code",
   "execution_count": null,
   "metadata": {},
   "outputs": [
    {
     "name": "stdout",
     "output_type": "stream",
     "text": [
      "(17416, 72, 26) (17416, 24)\n",
      "(1288, 72, 26) (1288, 24)\n",
      "(168, 72, 26) (168, 24)\n"
     ]
    }
   ],
   "source": [
    "print(data_x_train.shape,data_y_train.shape)\n",
    "print(data_x_val.shape,data_y_val.shape)\n",
    "print(data_x_test.shape,data_y_test.shape)"
   ]
  },
  {
   "cell_type": "markdown",
   "metadata": {},
   "source": [
    "Define LSTM Model"
   ]
  },
  {
   "cell_type": "code",
   "execution_count": null,
   "metadata": {},
   "outputs": [],
   "source": [
    "def build_model_ED_LSTM(hp):\n",
    "  n_timesteps, n_features, n_outputs = data_x_train.shape[1], data_x_train.shape[2], data_y_train.shape[1]\n",
    "  model = models.Sequential()\n",
    "  # Encoder\n",
    "  model.add(layers.LSTM(hp.Int('Neurons',min_value=32,max_value=96,step=16), return_sequences=True,input_shape=(None, n_features), stateful=False)) \n",
    "  model.add(layers.BatchNormalization())\n",
    "  \n",
    "  for i in range(hp.Int('n_layers',1,4,1)):\n",
    "    model.add(layers.LSTM(hp.Int('Neurons',min_value=32,max_value=96,step=16), return_sequences=True, stateful=False))\n",
    "    model.add(layers.BatchNormalization())\n",
    "  \n",
    "  model.add(layers.LSTM(hp.Int('Neurons',min_value=32,max_value=96,step=16), return_sequences=False, stateful=False)) \n",
    "  model.add(layers.BatchNormalization())  \n",
    "  \n",
    "  # Repeat Vector\n",
    "  model.add(layers.RepeatVector(n_outputs))\n",
    "  \n",
    "  # Decoder\n",
    "  model.add(layers.LSTM(hp.Int('Neurons',min_value=32,max_value=96,step=16), return_sequences=True,stateful=False))\n",
    "  model.add(layers.BatchNormalization())\n",
    "\n",
    "  for i in range(hp.Int('n_layers',1,4,1)):\n",
    "      model.add(layers.LSTM(hp.Int('Neurons',min_value=32,max_value=96,step=16), return_sequences=True, stateful=False))\n",
    "      model.add(layers.BatchNormalization())\n",
    "\n",
    "  model.add(layers.LSTM(hp.Int('Neurons',min_value=32,max_value=96,step=16), return_sequences=True,stateful=False))\n",
    "  model.add(layers.BatchNormalization())\n",
    "\n",
    "  # End\n",
    "  model.add(layers.TimeDistributed(layers.Dense(1)))                     \n",
    "              \n",
    "  \n",
    "  model.compile(optimizer='Adam',loss='mse',metrics='mae') \n",
    "  return model"
   ]
  },
  {
   "cell_type": "code",
   "execution_count": null,
   "metadata": {},
   "outputs": [
    {
     "name": "stdout",
     "output_type": "stream",
     "text": [
      "INFO:tensorflow:Reloading Oracle from existing project ./hpt_ED_LSTM/DDE_2\\oracle.json\n",
      "INFO:tensorflow:Reloading Tuner from ./hpt_ED_LSTM/DDE_2\\tuner0.json\n",
      "Search space summary\n",
      "Default search space size: 2\n",
      "Neurons (Int)\n",
      "{'default': None, 'conditions': [], 'min_value': 32, 'max_value': 96, 'step': 16, 'sampling': None}\n",
      "n_layers (Int)\n",
      "{'default': None, 'conditions': [], 'min_value': 1, 'max_value': 4, 'step': 1, 'sampling': None}\n"
     ]
    }
   ],
   "source": [
    "tuner = kt.RandomSearch(\n",
    "    build_model_ED_LSTM,\n",
    "    objective='val_loss',\n",
    "    max_trials=10,\n",
    "    executions_per_trial = 1,\n",
    "    directory = \"./hpt_ED_LSTM/\",\n",
    "    project_name=\"DDE_2\")\n",
    "tuner.search_space_summary()\n"
   ]
  },
  {
   "cell_type": "code",
   "execution_count": null,
   "metadata": {},
   "outputs": [],
   "source": [
    "myCheckpointLSTM= keras.callbacks.ModelCheckpoint(f\"./{model_type}/my_best_model_{namespace}.h5\", save_best_only=True)\n",
    "myEarly_stoppingLSTM = keras.callbacks.EarlyStopping(patience=10,restore_best_weights=True)"
   ]
  },
  {
   "cell_type": "code",
   "execution_count": null,
   "metadata": {},
   "outputs": [],
   "source": [
    "num_epochs = 150\n",
    "batch_size = 32"
   ]
  },
  {
   "cell_type": "code",
   "execution_count": null,
   "metadata": {},
   "outputs": [
    {
     "name": "stdout",
     "output_type": "stream",
     "text": [
      "INFO:tensorflow:Oracle triggered exit\n"
     ]
    }
   ],
   "source": [
    "tuner.search(data_x_train,data_y_train,epochs=150,validation_data=(data_x_val,data_y_val),batch_size=batch_size,callbacks=[myCheckpointLSTM,myEarly_stoppingLSTM])"
   ]
  },
  {
   "cell_type": "code",
   "execution_count": null,
   "metadata": {},
   "outputs": [
    {
     "name": "stdout",
     "output_type": "stream",
     "text": [
      "Results summary\n",
      "Results in ./hpt_ED_LSTM/DDE_2\n",
      "Showing 10 best trials\n",
      "Objective(name='val_loss', direction='min')\n",
      "Trial summary\n",
      "Hyperparameters:\n",
      "Neurons: 80\n",
      "n_layers: 2\n",
      "Score: 6554375.0\n",
      "Trial summary\n",
      "Hyperparameters:\n",
      "Neurons: 64\n",
      "n_layers: 1\n",
      "Score: 6809337.0\n",
      "Trial summary\n",
      "Hyperparameters:\n",
      "Neurons: 80\n",
      "n_layers: 3\n",
      "Score: 7097545.0\n",
      "Trial summary\n",
      "Hyperparameters:\n",
      "Neurons: 64\n",
      "n_layers: 3\n",
      "Score: 7223991.5\n",
      "Trial summary\n",
      "Hyperparameters:\n",
      "Neurons: 96\n",
      "n_layers: 3\n",
      "Score: 8044475.5\n",
      "Trial summary\n",
      "Hyperparameters:\n",
      "Neurons: 32\n",
      "n_layers: 4\n",
      "Score: 9238089.0\n",
      "Trial summary\n",
      "Hyperparameters:\n",
      "Neurons: 48\n",
      "n_layers: 2\n",
      "Score: 9645877.0\n",
      "Trial summary\n",
      "Hyperparameters:\n",
      "Neurons: 32\n",
      "n_layers: 2\n",
      "Score: 9690508.0\n",
      "Trial summary\n",
      "Hyperparameters:\n",
      "Neurons: 48\n",
      "n_layers: 3\n",
      "Score: 10513382.0\n",
      "Trial summary\n",
      "Hyperparameters:\n",
      "Neurons: 32\n",
      "n_layers: 3\n",
      "Score: 10803020.0\n"
     ]
    }
   ],
   "source": [
    "tuner.results_summary()"
   ]
  },
  {
   "cell_type": "code",
   "execution_count": null,
   "metadata": {},
   "outputs": [],
   "source": [
    "best_models = tuner.get_best_models()\n",
    "best_hps = tuner.get_best_hyperparameters(5)"
   ]
  },
  {
   "cell_type": "code",
   "execution_count": null,
   "metadata": {},
   "outputs": [
    {
     "data": {
      "text/plain": [
       "<keras_tuner.engine.hyperparameters.HyperParameters at 0x2335450c7c0>"
      ]
     },
     "metadata": {},
     "output_type": "display_data"
    }
   ],
   "source": [
    "best_hps[0]"
   ]
  },
  {
   "cell_type": "code",
   "execution_count": null,
   "metadata": {},
   "outputs": [],
   "source": [
    "%%skip $SKIP_RETRAIN_ED_LSTM\n",
    "model_ED_LSTM= build_model_ED_LSTM(best_hps[0])\n",
    "history_ED_LSTM = model_ED_LSTM.fit(data_x_train, data_y_train, epochs=num_epochs, batch_size=batch_size, validation_data=(data_x_val, data_y_val) , \n",
    "                                 callbacks=[myCheckpointLSTM,myEarly_stoppingLSTM])"
   ]
  },
  {
   "cell_type": "code",
   "execution_count": null,
   "metadata": {
    "colab": {
     "base_uri": "https://localhost:8080/",
     "height": 159
    },
    "id": "0f_FwfmlHyAl",
    "outputId": "080474a2-3f61-42ca-95ef-7bc23f76c853"
   },
   "outputs": [],
   "source": [
    "%%skip $SKIP_RETRAIN_ED_LSTM\n",
    "histEDLSTM = pd.DataFrame(history_ED_LSTM.history)\n",
    "histEDLSTM['epoch'] = history_ED_LSTM.epoch"
   ]
  },
  {
   "cell_type": "code",
   "execution_count": null,
   "metadata": {
    "colab": {
     "base_uri": "https://localhost:8080/",
     "height": 405
    },
    "id": "d2SviC32HyAr",
    "outputId": "512e600c-f7c8-46cd-9801-7387d6bf4f7f"
   },
   "outputs": [],
   "source": [
    "%%skip $SKIP_RETRAIN_ED_LSTM\n",
    "fig = plot_learning_curves(histEDLSTM,model_type,f\"./{model_type}/learningcurve_{namespace}.png\")\n",
    "fig.show()"
   ]
  },
  {
   "cell_type": "markdown",
   "metadata": {},
   "source": [
    "Load best model"
   ]
  },
  {
   "cell_type": "code",
   "execution_count": null,
   "metadata": {},
   "outputs": [
    {
     "name": "stdout",
     "output_type": "stream",
     "text": [
      "Model: \"sequential_1\"\n",
      "_________________________________________________________________\n",
      "Layer (type)                 Output Shape              Param #   \n",
      "=================================================================\n",
      "lstm_8 (LSTM)                (None, None, 80)          34240     \n",
      "_________________________________________________________________\n",
      "batch_normalization_8 (Batch (None, None, 80)          320       \n",
      "_________________________________________________________________\n",
      "lstm_9 (LSTM)                (None, None, 80)          51520     \n",
      "_________________________________________________________________\n",
      "batch_normalization_9 (Batch (None, None, 80)          320       \n",
      "_________________________________________________________________\n",
      "lstm_10 (LSTM)               (None, None, 80)          51520     \n",
      "_________________________________________________________________\n",
      "batch_normalization_10 (Batc (None, None, 80)          320       \n",
      "_________________________________________________________________\n",
      "lstm_11 (LSTM)               (None, 80)                51520     \n",
      "_________________________________________________________________\n",
      "batch_normalization_11 (Batc (None, 80)                320       \n",
      "_________________________________________________________________\n",
      "repeat_vector_1 (RepeatVecto (None, 24, 80)            0         \n",
      "_________________________________________________________________\n",
      "lstm_12 (LSTM)               (None, 24, 80)            51520     \n",
      "_________________________________________________________________\n",
      "batch_normalization_12 (Batc (None, 24, 80)            320       \n",
      "_________________________________________________________________\n",
      "lstm_13 (LSTM)               (None, 24, 80)            51520     \n",
      "_________________________________________________________________\n",
      "batch_normalization_13 (Batc (None, 24, 80)            320       \n",
      "_________________________________________________________________\n",
      "lstm_14 (LSTM)               (None, 24, 80)            51520     \n",
      "_________________________________________________________________\n",
      "batch_normalization_14 (Batc (None, 24, 80)            320       \n",
      "_________________________________________________________________\n",
      "lstm_15 (LSTM)               (None, 24, 80)            51520     \n",
      "_________________________________________________________________\n",
      "batch_normalization_15 (Batc (None, 24, 80)            320       \n",
      "_________________________________________________________________\n",
      "time_distributed_1 (TimeDist (None, 24, 1)             81        \n",
      "=================================================================\n",
      "Total params: 397,521\n",
      "Trainable params: 396,241\n",
      "Non-trainable params: 1,280\n",
      "_________________________________________________________________\n"
     ]
    }
   ],
   "source": [
    "#Calling back the best model:\n",
    "model_best_ED_LSTM = keras.models.load_model(f\"./{model_type}/my_best_model_{namespace}.h5\")\n",
    "model_best_ED_LSTM.summary()"
   ]
  },
  {
   "cell_type": "code",
   "execution_count": null,
   "metadata": {},
   "outputs": [],
   "source": [
    "i=1\n",
    "case_test = data_x_test[i].reshape((1,data_x_test[0].shape[0], data_x_test[0].shape[1]))\n",
    "Y_test_predictions = pd.Series(model_best_ED_LSTM.predict(case_test).flatten(),index=pd.date_range(start=idx_test[i],freq='h',periods=24))\n",
    "y_test_filtered = data_y_test0.loc[Y_test_predictions.index]"
   ]
  },
  {
   "cell_type": "code",
   "execution_count": null,
   "metadata": {},
   "outputs": [],
   "source": [
    "eval_df = create_eval_df(Y_test_predictions,y_test_filtered)"
   ]
  },
  {
   "cell_type": "code",
   "execution_count": null,
   "metadata": {
    "colab": {
     "base_uri": "https://localhost:8080/",
     "height": 426
    },
    "id": "5X3Hs_GtHyAs",
    "outputId": "7281486a-4a6c-492c-e48f-37fa6e7d7c25"
   },
   "outputs": [
    {
     "name": "stderr",
     "output_type": "stream",
     "text": [
      "<ipython-input-27-f128fcf0dccf>:2: UserWarning: Matplotlib is currently using module://ipykernel.pylab.backend_inline, which is a non-GUI backend, so cannot show the figure.\n",
      "  fig.show()\n"
     ]
    },
    {
     "data": {
      "image/png": "[encoded data removed]",
      "text/plain": [
       "<Figure size 576x576 with 1 Axes>"
      ]
     },
     "metadata": {},
     "output_type": "display_data"
    }
   ],
   "source": [
    "fig = plot_accuracy(eval_df,model_type,f\"./{model_type}/accuracy_{namespace}.png\")\n",
    "fig.show()"
   ]
  },
  {
   "cell_type": "code",
   "execution_count": null,
   "metadata": {
    "colab": {
     "base_uri": "https://localhost:8080/",
     "height": 422
    },
    "id": "olr-44nOHyAt",
    "outputId": "ac65b698-1f77-4a62-87cf-c99f30d4d246"
   },
   "outputs": [
    {
     "name": "stderr",
     "output_type": "stream",
     "text": [
      "<ipython-input-28-05c98d64636b>:2: UserWarning: Matplotlib is currently using module://ipykernel.pylab.backend_inline, which is a non-GUI backend, so cannot show the figure.\n",
      "  fig.show()\n"
     ]
    },
    {
     "data": {
      "image/png": "[encoded data removed]",
      "text/plain": [
       "<Figure size 576x576 with 1 Axes>"
      ]
     },
     "metadata": {},
     "output_type": "display_data"
    }
   ],
   "source": [
    "fig = plot_error_variations(eval_df,model_type,f\"./{model_type}/error_variations_{namespace}.png\")\n",
    "fig.show()"
   ]
  },
  {
   "cell_type": "code",
   "execution_count": null,
   "metadata": {
    "colab": {
     "base_uri": "https://localhost:8080/"
    },
    "id": "-HSnhihhHyAt",
    "outputId": "b45d472e-df1f-4ab2-97ba-6318127d0d9e"
   },
   "outputs": [
    {
     "data": {
      "text/plain": [
       "nan"
      ]
     },
     "metadata": {},
     "output_type": "display_data"
    }
   ],
   "source": [
    "#Calculating the mean absolutepercentage error:\n",
    "abs_error_ED_LSTM = abs(Y_test_predictions - y_test_filtered)/y_test_filtered*100\n",
    "np.average(abs_error_ED_LSTM)"
   ]
  },
  {
   "cell_type": "code",
   "execution_count": null,
   "metadata": {
    "colab": {
     "base_uri": "https://localhost:8080/"
    },
    "id": "-Og3-ec1HyAv",
    "outputId": "f0d3e172-622e-4dd4-a8ec-3f84e320356b"
   },
   "outputs": [
    {
     "name": "stdout",
     "output_type": "stream",
     "text": [
      "R^2 score is  0.04\n"
     ]
    }
   ],
   "source": [
    "#Calculating R2 value:\n",
    "r2_test = r2_score(y_test_filtered, Y_test_predictions)\n",
    "print('R^2 score is  %3.2f' %r2_test)"
   ]
  },
  {
   "cell_type": "code",
   "execution_count": null,
   "metadata": {
    "colab": {
     "base_uri": "https://localhost:8080/",
     "height": 421
    },
    "id": "bUVtrW7kHyAw",
    "outputId": "e4abb863-ccd1-4159-bd9d-7fb1a9711a9f"
   },
   "outputs": [
    {
     "name": "stderr",
     "output_type": "stream",
     "text": [
      "<ipython-input-31-65a49c2caced>:2: UserWarning: Matplotlib is currently using module://ipykernel.pylab.backend_inline, which is a non-GUI backend, so cannot show the figure.\n",
      "  fig.show()\n"
     ]
    },
    {
     "data": {
      "image/png": "[encoded data removed]",
      "text/plain": [
       "<Figure size 576x576 with 1 Axes>"
      ]
     },
     "metadata": {},
     "output_type": "display_data"
    }
   ],
   "source": [
    "fig=plot_predictions(eval_df,1,model_type,feature,f\"./{model_type}/predictions_{namespace}.png\")\n",
    "fig.show()"
   ]
  },
  {
   "cell_type": "code",
   "execution_count": null,
   "metadata": {},
   "outputs": [],
   "source": [
    "idx_prediction = pd.date_range(start=idx_test[0],freq='h',periods=len(idx_test)+24)\n",
    "y_test_filtered2 = data_y_test0.loc[idx_prediction]"
   ]
  },
  {
   "cell_type": "code",
   "execution_count": null,
   "metadata": {},
   "outputs": [
    {
     "data": {
      "application/vnd.plotly.v1+json": {
       "config": {
        "plotlyServerURL": "https://plot.ly"
       },
       "data": [
        {
         "type": "scatter",
         "x": [
          "2017-03-04T00:00:00+01:00",
          "2017-03-04T01:00:00+01:00",
          "2017-03-04T02:00:00+01:00",
          "2017-03-04T03:00:00+01:00",
          "2017-03-04T04:00:00+01:00",
          "2017-03-04T05:00:00+01:00",
          "2017-03-04T06:00:00+01:00",
          "2017-03-04T07:00:00+01:00",
          "2017-03-04T08:00:00+01:00",
          "2017-03-04T09:00:00+01:00",
          "2017-03-04T10:00:00+01:00",
          "2017-03-04T11:00:00+01:00",
          "2017-03-04T12:00:00+01:00",
          "2017-03-04T13:00:00+01:00",
          "2017-03-04T14:00:00+01:00",
          "2017-03-04T15:00:00+01:00",
          "2017-03-04T16:00:00+01:00",
          "2017-03-04T17:00:00+01:00",
          "2017-03-04T18:00:00+01:00",
          "2017-03-04T19:00:00+01:00",
          "2017-03-04T20:00:00+01:00",
          "2017-03-04T21:00:00+01:00",
          "2017-03-04T22:00:00+01:00",
          "2017-03-04T23:00:00+01:00",
          "2017-03-05T00:00:00+01:00",
          "2017-03-05T01:00:00+01:00",
          "2017-03-05T02:00:00+01:00",
          "2017-03-05T03:00:00+01:00",
          "2017-03-05T04:00:00+01:00",
          "2017-03-05T05:00:00+01:00",
          "2017-03-05T06:00:00+01:00",
          "2017-03-05T07:00:00+01:00",
          "2017-03-05T08:00:00+01:00",
          "2017-03-05T09:00:00+01:00",
          "2017-03-05T10:00:00+01:00",
          "2017-03-05T11:00:00+01:00",
          "2017-03-05T12:00:00+01:00",
          "2017-03-05T13:00:00+01:00",
          "2017-03-05T14:00:00+01:00",
          "2017-03-05T15:00:00+01:00",
          "2017-03-05T16:00:00+01:00",
          "2017-03-05T17:00:00+01:00",
          "2017-03-05T18:00:00+01:00",
          "2017-03-05T19:00:00+01:00",
          "2017-03-05T20:00:00+01:00",
          "2017-03-05T21:00:00+01:00",
          "2017-03-05T22:00:00+01:00",
          "2017-03-05T23:00:00+01:00",
          "2017-03-06T00:00:00+01:00",
          "2017-03-06T01:00:00+01:00",
          "2017-03-06T02:00:00+01:00",
          "2017-03-06T03:00:00+01:00",
          "2017-03-06T04:00:00+01:00",
          "2017-03-06T05:00:00+01:00",
          "2017-03-06T06:00:00+01:00",
          "2017-03-06T07:00:00+01:00",
          "2017-03-06T08:00:00+01:00",
          "2017-03-06T09:00:00+01:00",
          "2017-03-06T10:00:00+01:00",
          "2017-03-06T11:00:00+01:00",
          "2017-03-06T12:00:00+01:00",
          "2017-03-06T13:00:00+01:00",
          "2017-03-06T14:00:00+01:00",
          "2017-03-06T15:00:00+01:00",
          "2017-03-06T16:00:00+01:00",
          "2017-03-06T17:00:00+01:00",
          "2017-03-06T18:00:00+01:00",
          "2017-03-06T19:00:00+01:00",
          "2017-03-06T20:00:00+01:00",
          "2017-03-06T21:00:00+01:00",
          "2017-03-06T22:00:00+01:00",
          "2017-03-06T23:00:00+01:00",
          "2017-03-07T00:00:00+01:00",
          "2017-03-07T01:00:00+01:00",
          "2017-03-07T02:00:00+01:00",
          "2017-03-07T03:00:00+01:00",
          "2017-03-07T04:00:00+01:00",
          "2017-03-07T05:00:00+01:00",
          "2017-03-07T06:00:00+01:00",
          "2017-03-07T07:00:00+01:00",
          "2017-03-07T08:00:00+01:00",
          "2017-03-07T09:00:00+01:00",
          "2017-03-07T10:00:00+01:00",
          "2017-03-07T11:00:00+01:00",
          "2017-03-07T12:00:00+01:00",
          "2017-03-07T13:00:00+01:00",
          "2017-03-07T14:00:00+01:00",
          "2017-03-07T15:00:00+01:00",
          "2017-03-07T16:00:00+01:00",
          "2017-03-07T17:00:00+01:00",
          "2017-03-07T18:00:00+01:00",
          "2017-03-07T19:00:00+01:00",
          "2017-03-07T20:00:00+01:00",
          "2017-03-07T21:00:00+01:00",
          "2017-03-07T22:00:00+01:00",
          "2017-03-07T23:00:00+01:00",
          "2017-03-08T00:00:00+01:00",
          "2017-03-08T01:00:00+01:00",
          "2017-03-08T02:00:00+01:00",
          "2017-03-08T03:00:00+01:00",
          "2017-03-08T04:00:00+01:00",
          "2017-03-08T05:00:00+01:00",
          "2017-03-08T06:00:00+01:00",
          "2017-03-08T07:00:00+01:00",
          "2017-03-08T08:00:00+01:00",
          "2017-03-08T09:00:00+01:00",
          "2017-03-08T10:00:00+01:00",
          "2017-03-08T11:00:00+01:00",
          "2017-03-08T12:00:00+01:00",
          "2017-03-08T13:00:00+01:00",
          "2017-03-08T14:00:00+01:00",
          "2017-03-08T15:00:00+01:00",
          "2017-03-08T16:00:00+01:00",
          "2017-03-08T17:00:00+01:00",
          "2017-03-08T18:00:00+01:00",
          "2017-03-08T19:00:00+01:00",
          "2017-03-08T20:00:00+01:00",
          "2017-03-08T21:00:00+01:00",
          "2017-03-08T22:00:00+01:00",
          "2017-03-08T23:00:00+01:00",
          "2017-03-09T00:00:00+01:00",
          "2017-03-09T01:00:00+01:00",
          "2017-03-09T02:00:00+01:00",
          "2017-03-09T03:00:00+01:00",
          "2017-03-09T04:00:00+01:00",
          "2017-03-09T05:00:00+01:00",
          "2017-03-09T06:00:00+01:00",
          "2017-03-09T07:00:00+01:00",
          "2017-03-09T08:00:00+01:00",
          "2017-03-09T09:00:00+01:00",
          "2017-03-09T10:00:00+01:00",
          "2017-03-09T11:00:00+01:00",
          "2017-03-09T12:00:00+01:00",
          "2017-03-09T13:00:00+01:00",
          "2017-03-09T14:00:00+01:00",
          "2017-03-09T15:00:00+01:00",
          "2017-03-09T16:00:00+01:00",
          "2017-03-09T17:00:00+01:00",
          "2017-03-09T18:00:00+01:00",
          "2017-03-09T19:00:00+01:00",
          "2017-03-09T20:00:00+01:00",
          "2017-03-09T21:00:00+01:00",
          "2017-03-09T22:00:00+01:00",
          "2017-03-09T23:00:00+01:00",
          "2017-03-10T00:00:00+01:00",
          "2017-03-10T01:00:00+01:00",
          "2017-03-10T02:00:00+01:00",
          "2017-03-10T03:00:00+01:00",
          "2017-03-10T04:00:00+01:00",
          "2017-03-10T05:00:00+01:00",
          "2017-03-10T06:00:00+01:00",
          "2017-03-10T07:00:00+01:00",
          "2017-03-10T08:00:00+01:00",
          "2017-03-10T09:00:00+01:00",
          "2017-03-10T10:00:00+01:00",
          "2017-03-10T11:00:00+01:00",
          "2017-03-10T12:00:00+01:00",
          "2017-03-10T13:00:00+01:00",
          "2017-03-10T14:00:00+01:00",
          "2017-03-10T15:00:00+01:00",
          "2017-03-10T16:00:00+01:00",
          "2017-03-10T17:00:00+01:00",
          "2017-03-10T18:00:00+01:00",
          "2017-03-10T19:00:00+01:00",
          "2017-03-10T20:00:00+01:00",
          "2017-03-10T21:00:00+01:00",
          "2017-03-10T22:00:00+01:00",
          "2017-03-10T23:00:00+01:00",
          "2017-03-11T00:00:00+01:00",
          "2017-03-11T01:00:00+01:00",
          "2017-03-11T02:00:00+01:00",
          "2017-03-11T03:00:00+01:00",
          "2017-03-11T04:00:00+01:00",
          "2017-03-11T05:00:00+01:00",
          "2017-03-11T06:00:00+01:00",
          "2017-03-11T07:00:00+01:00",
          "2017-03-11T08:00:00+01:00",
          "2017-03-11T09:00:00+01:00",
          "2017-03-11T10:00:00+01:00",
          "2017-03-11T11:00:00+01:00",
          "2017-03-11T12:00:00+01:00",
          "2017-03-11T13:00:00+01:00",
          "2017-03-11T14:00:00+01:00",
          "2017-03-11T15:00:00+01:00",
          "2017-03-11T16:00:00+01:00",
          "2017-03-11T17:00:00+01:00",
          "2017-03-11T18:00:00+01:00",
          "2017-03-11T19:00:00+01:00",
          "2017-03-11T20:00:00+01:00",
          "2017-03-11T21:00:00+01:00",
          "2017-03-11T22:00:00+01:00",
          "2017-03-11T23:00:00+01:00"
         ],
         "y": [
          23883,
          22318,
          21483,
          21167,
          21195,
          21938,
          24929,
          28875,
          31046,
          32130,
          32136,
          32019,
          32064,
          31784,
          30638,
          29929,
          29513,
          29215,
          28744,
          28696,
          30553,
          32696,
          30130,
          27524,
          25015,
          23547,
          22649,
          22339,
          22247,
          22720,
          24762,
          27435,
          29946,
          30890,
          31370,
          31645,
          31831,
          31721,
          30677,
          30071,
          29832,
          29559,
          29261,
          29317,
          29990,
          31776,
          29932,
          27290,
          26782,
          25481,
          24225,
          23607,
          23236,
          22950,
          22654,
          23121,
          24929,
          27033,
          28767,
          29360,
          29680,
          29961,
          29133,
          27708,
          26808,
          26605,
          26678,
          26964,
          27488,
          27911,
          27432,
          25886,
          25206,
          23707,
          22755,
          22256,
          22322,
          22805,
          24608,
          26837,
          28863,
          30697,
          31828,
          32508,
          33433,
          33913,
          33221,
          32522,
          32432,
          32528,
          32238,
          32048,
          31683,
          31481,
          31060,
          28976,
          29358,
          27451,
          26115,
          25333,
          24997,
          25102,
          26732,
          28380,
          30877,
          33294,
          34958,
          36149,
          37164,
          37866,
          37376,
          36739,
          36723,
          36666,
          36271,
          35653,
          35095,
          35319,
          34820,
          32510,
          24748,
          23412,
          22186,
          21459,
          21052,
          20925,
          21073,
          21168,
          21210,
          22680,
          24312,
          25222,
          25955,
          26606,
          26881,
          25980,
          25386,
          25300,
          25471,
          25687,
          26871,
          29148,
          28083,
          26372,
          25601,
          24541,
          23766,
          23387,
          23158,
          23362,
          25143,
          28384,
          29829,
          30576,
          31193,
          31830,
          32462,
          32779,
          31872,
          31194,
          31107,
          31032,
          30530,
          30617,
          32867,
          32111,
          29419,
          26964,
          24943,
          23587,
          22979,
          22672,
          22592,
          22986,
          25256,
          28699,
          30462,
          31568,
          31862,
          31981,
          32174,
          32059,
          30867,
          30064,
          29622,
          29929,
          31697,
          32137,
          31837,
          30702,
          28285,
          26207
         ]
        },
        {
         "type": "scatter",
         "x": [
          "2017-03-04T00:00:00+01:00",
          "2017-03-04T01:00:00+01:00",
          "2017-03-04T02:00:00+01:00",
          "2017-03-04T03:00:00+01:00",
          "2017-03-04T04:00:00+01:00",
          "2017-03-04T05:00:00+01:00",
          "2017-03-04T06:00:00+01:00",
          "2017-03-04T07:00:00+01:00",
          "2017-03-04T08:00:00+01:00",
          "2017-03-04T09:00:00+01:00",
          "2017-03-04T10:00:00+01:00",
          "2017-03-04T11:00:00+01:00",
          "2017-03-04T12:00:00+01:00",
          "2017-03-04T13:00:00+01:00",
          "2017-03-04T14:00:00+01:00",
          "2017-03-04T15:00:00+01:00",
          "2017-03-04T16:00:00+01:00",
          "2017-03-04T17:00:00+01:00",
          "2017-03-04T18:00:00+01:00",
          "2017-03-04T19:00:00+01:00",
          "2017-03-04T20:00:00+01:00",
          "2017-03-04T21:00:00+01:00",
          "2017-03-04T22:00:00+01:00",
          "2017-03-04T23:00:00+01:00",
          "2017-03-05T00:00:00+01:00",
          "2017-03-05T01:00:00+01:00",
          "2017-03-05T02:00:00+01:00",
          "2017-03-05T03:00:00+01:00",
          "2017-03-05T04:00:00+01:00",
          "2017-03-05T05:00:00+01:00",
          "2017-03-05T06:00:00+01:00",
          "2017-03-05T07:00:00+01:00",
          "2017-03-05T08:00:00+01:00",
          "2017-03-05T09:00:00+01:00",
          "2017-03-05T10:00:00+01:00",
          "2017-03-05T11:00:00+01:00",
          "2017-03-05T12:00:00+01:00",
          "2017-03-05T13:00:00+01:00",
          "2017-03-05T14:00:00+01:00",
          "2017-03-05T15:00:00+01:00",
          "2017-03-05T16:00:00+01:00",
          "2017-03-05T17:00:00+01:00",
          "2017-03-05T18:00:00+01:00",
          "2017-03-05T19:00:00+01:00",
          "2017-03-05T20:00:00+01:00",
          "2017-03-05T21:00:00+01:00",
          "2017-03-05T22:00:00+01:00",
          "2017-03-05T23:00:00+01:00",
          "2017-03-06T00:00:00+01:00",
          "2017-03-06T01:00:00+01:00",
          "2017-03-06T02:00:00+01:00",
          "2017-03-06T03:00:00+01:00",
          "2017-03-06T04:00:00+01:00",
          "2017-03-06T05:00:00+01:00",
          "2017-03-06T06:00:00+01:00",
          "2017-03-06T07:00:00+01:00",
          "2017-03-06T08:00:00+01:00",
          "2017-03-06T09:00:00+01:00",
          "2017-03-06T10:00:00+01:00",
          "2017-03-06T11:00:00+01:00",
          "2017-03-06T12:00:00+01:00",
          "2017-03-06T13:00:00+01:00",
          "2017-03-06T14:00:00+01:00",
          "2017-03-06T15:00:00+01:00",
          "2017-03-06T16:00:00+01:00",
          "2017-03-06T17:00:00+01:00",
          "2017-03-06T18:00:00+01:00",
          "2017-03-06T19:00:00+01:00",
          "2017-03-06T20:00:00+01:00",
          "2017-03-06T21:00:00+01:00",
          "2017-03-06T22:00:00+01:00",
          "2017-03-06T23:00:00+01:00",
          "2017-03-07T00:00:00+01:00",
          "2017-03-07T01:00:00+01:00",
          "2017-03-07T02:00:00+01:00",
          "2017-03-07T03:00:00+01:00",
          "2017-03-07T04:00:00+01:00",
          "2017-03-07T05:00:00+01:00",
          "2017-03-07T06:00:00+01:00",
          "2017-03-07T07:00:00+01:00",
          "2017-03-07T08:00:00+01:00",
          "2017-03-07T09:00:00+01:00",
          "2017-03-07T10:00:00+01:00",
          "2017-03-07T11:00:00+01:00",
          "2017-03-07T12:00:00+01:00",
          "2017-03-07T13:00:00+01:00",
          "2017-03-07T14:00:00+01:00",
          "2017-03-07T15:00:00+01:00",
          "2017-03-07T16:00:00+01:00",
          "2017-03-07T17:00:00+01:00",
          "2017-03-07T18:00:00+01:00",
          "2017-03-07T19:00:00+01:00",
          "2017-03-07T20:00:00+01:00",
          "2017-03-07T21:00:00+01:00",
          "2017-03-07T22:00:00+01:00",
          "2017-03-07T23:00:00+01:00",
          "2017-03-08T00:00:00+01:00",
          "2017-03-08T01:00:00+01:00",
          "2017-03-08T02:00:00+01:00",
          "2017-03-08T03:00:00+01:00",
          "2017-03-08T04:00:00+01:00",
          "2017-03-08T05:00:00+01:00",
          "2017-03-08T06:00:00+01:00",
          "2017-03-08T07:00:00+01:00",
          "2017-03-08T08:00:00+01:00",
          "2017-03-08T09:00:00+01:00",
          "2017-03-08T10:00:00+01:00",
          "2017-03-08T11:00:00+01:00",
          "2017-03-08T12:00:00+01:00",
          "2017-03-08T13:00:00+01:00",
          "2017-03-08T14:00:00+01:00",
          "2017-03-08T15:00:00+01:00",
          "2017-03-08T16:00:00+01:00",
          "2017-03-08T17:00:00+01:00",
          "2017-03-08T18:00:00+01:00",
          "2017-03-08T19:00:00+01:00",
          "2017-03-08T20:00:00+01:00",
          "2017-03-08T21:00:00+01:00",
          "2017-03-08T22:00:00+01:00",
          "2017-03-08T23:00:00+01:00",
          "2017-03-09T00:00:00+01:00",
          "2017-03-09T01:00:00+01:00",
          "2017-03-09T02:00:00+01:00",
          "2017-03-09T03:00:00+01:00",
          "2017-03-09T04:00:00+01:00",
          "2017-03-09T05:00:00+01:00",
          "2017-03-09T06:00:00+01:00",
          "2017-03-09T07:00:00+01:00",
          "2017-03-09T08:00:00+01:00",
          "2017-03-09T09:00:00+01:00",
          "2017-03-09T10:00:00+01:00",
          "2017-03-09T11:00:00+01:00",
          "2017-03-09T12:00:00+01:00",
          "2017-03-09T13:00:00+01:00",
          "2017-03-09T14:00:00+01:00",
          "2017-03-09T15:00:00+01:00",
          "2017-03-09T16:00:00+01:00",
          "2017-03-09T17:00:00+01:00",
          "2017-03-09T18:00:00+01:00",
          "2017-03-09T19:00:00+01:00",
          "2017-03-09T20:00:00+01:00",
          "2017-03-09T21:00:00+01:00",
          "2017-03-09T22:00:00+01:00",
          "2017-03-09T23:00:00+01:00",
          "2017-03-10T00:00:00+01:00",
          "2017-03-10T01:00:00+01:00",
          "2017-03-10T02:00:00+01:00",
          "2017-03-10T03:00:00+01:00",
          "2017-03-10T04:00:00+01:00",
          "2017-03-10T05:00:00+01:00",
          "2017-03-10T06:00:00+01:00",
          "2017-03-10T07:00:00+01:00",
          "2017-03-10T08:00:00+01:00",
          "2017-03-10T09:00:00+01:00",
          "2017-03-10T10:00:00+01:00",
          "2017-03-10T11:00:00+01:00",
          "2017-03-10T12:00:00+01:00",
          "2017-03-10T13:00:00+01:00",
          "2017-03-10T14:00:00+01:00",
          "2017-03-10T15:00:00+01:00",
          "2017-03-10T16:00:00+01:00",
          "2017-03-10T17:00:00+01:00",
          "2017-03-10T18:00:00+01:00",
          "2017-03-10T19:00:00+01:00",
          "2017-03-10T20:00:00+01:00",
          "2017-03-10T21:00:00+01:00",
          "2017-03-10T22:00:00+01:00",
          "2017-03-10T23:00:00+01:00",
          "2017-03-11T00:00:00+01:00",
          "2017-03-11T01:00:00+01:00",
          "2017-03-11T02:00:00+01:00",
          "2017-03-11T03:00:00+01:00",
          "2017-03-11T04:00:00+01:00",
          "2017-03-11T05:00:00+01:00",
          "2017-03-11T06:00:00+01:00",
          "2017-03-11T07:00:00+01:00",
          "2017-03-11T08:00:00+01:00",
          "2017-03-11T09:00:00+01:00",
          "2017-03-11T10:00:00+01:00",
          "2017-03-11T11:00:00+01:00",
          "2017-03-11T12:00:00+01:00",
          "2017-03-11T13:00:00+01:00",
          "2017-03-11T14:00:00+01:00",
          "2017-03-11T15:00:00+01:00",
          "2017-03-11T16:00:00+01:00",
          "2017-03-11T17:00:00+01:00",
          "2017-03-11T18:00:00+01:00",
          "2017-03-11T19:00:00+01:00",
          "2017-03-11T20:00:00+01:00",
          "2017-03-11T21:00:00+01:00",
          "2017-03-11T22:00:00+01:00",
          "2017-03-11T23:00:00+01:00"
         ],
         "y": [
          28251.55078125,
          26083.6484375,
          24613.810546875,
          23933.2578125,
          23787.06640625,
          24436.75,
          27060.224609375,
          31343.13671875,
          34065.01171875,
          35381.46875,
          36025.90625,
          36048.32421875,
          35718.16015625,
          35286.34765625,
          34012.046875,
          33345.3359375,
          32976.45703125,
          32912.2421875,
          33147.57421875,
          35162.1484375,
          35809.5546875,
          34950.1328125,
          32631.5703125,
          29814.46875,
          25345.365234375,
          23549.373046875,
          22332.0546875,
          21631.236328125,
          21308.607421875,
          21260.359375,
          21482.779296875,
          22102.783203125,
          23173.279296875,
          25269.880859375,
          27477.755859375,
          28574.515625,
          28916.052734375,
          29315.333984375,
          29042.724609375,
          27934.2890625,
          27380.775390625,
          27288.455078125,
          27818.802734375,
          28970.498046875,
          30379.744140625,
          31181.484375,
          29718.099609375,
          27530.697265625,
          25022.705078125,
          23185.296875,
          22015.720703125,
          21377.990234375,
          21093.1171875,
          21236.51171875,
          21968.609375,
          23394.78125,
          25422.685546875,
          27824.650390625,
          29653.412109375,
          30417.412109375,
          30527.837890625,
          30622.712890625,
          29950.421875,
          28986.837890625,
          28389.427734375,
          28338.962890625,
          28512.443359375,
          28782.416015625,
          29477.412109375,
          31223.962890625,
          30394.892578125,
          28487.2734375,
          26491.017578125,
          24773.166015625,
          23355.685546875,
          22499.291015625,
          21996.099609375,
          21780.966796875,
          21888.28125,
          22654.962890625,
          24190.623046875,
          26295.291015625,
          28550.134765625,
          29984.787109375,
          30698.927734375,
          31200.884765625,
          31277.2734375,
          30693.287109375,
          30077.900390625,
          30042.552734375,
          30353.166015625,
          30506.8125,
          30629.5625,
          31569.671875,
          31794.458984375,
          29690.595703125,
          29226.0390625,
          28367.9375,
          26770.361328125,
          25929.166015625,
          25528.8984375,
          25520.306640625,
          26512.416015625,
          28211.447265625,
          30347.603515625,
          32357.083984375,
          33594.98046875,
          34264.43359375,
          34778.99609375,
          35049.59375,
          34645.734375,
          33693.99609375,
          33210.12109375,
          33017.4140625,
          32778.48046875,
          32394.890625,
          31977.541015625,
          31804.099609375,
          31964.384765625,
          30619.046875,
          28205.140625,
          24923.9375,
          23412.724609375,
          22401.248046875,
          21899.904296875,
          21693.966796875,
          21841.9765625,
          22422.46875,
          23486.904296875,
          25288.484375,
          27359.478515625,
          28338.59375,
          28608.0546875,
          28699.427734375,
          28566.439453125,
          27682.462890625,
          26698.015625,
          26324.138671875,
          26536.494140625,
          27162.392578125,
          28214.7109375,
          29312.84375,
          28629.755859375,
          26773.423828125,
          25041.7265625,
          23385.318359375,
          22073.494140625,
          21280.845703125,
          20838.716796875,
          20759.326171875,
          21288.216796875,
          23197.2578125,
          25859.115234375,
          28008.958984375,
          29609.546875,
          30683.025390625,
          31069.396484375,
          31335.177734375,
          31127.099609375,
          30250.1171875,
          29668.162109375,
          29912.5,
          30985.876953125,
          32370.080078125,
          32905.63671875,
          32599.205078125,
          30738.111328125,
          27992.833984375,
          26146.818359375,
          24661.693359375,
          23418.296875,
          22862.09765625,
          22716.2109375,
          23214.796875,
          25557.14453125,
          29530.880859375,
          31892.05078125,
          32932.33984375,
          33194.74609375,
          33184.51171875,
          33108.3984375,
          32737.87890625,
          31505.1328125,
          30765.16015625,
          30586.767578125,
          30859.4140625,
          31722.55078125,
          32620.103515625,
          33522.41796875,
          32549.7890625,
          30298.1484375,
          null
         ]
        }
       ],
       "layout": {
        "template": {
         "data": {
          "bar": [
           {
            "error_x": {
             "color": "#2a3f5f"
            },
            "error_y": {
             "color": "#2a3f5f"
            },
            "marker": {
             "line": {
              "color": "#E5ECF6",
              "width": 0.5
             },
             "pattern": {
              "fillmode": "overlay",
              "size": 10,
              "solidity": 0.2
             }
            },
            "type": "bar"
           }
          ],
          "barpolar": [
           {
            "marker": {
             "line": {
              "color": "#E5ECF6",
              "width": 0.5
             },
             "pattern": {
              "fillmode": "overlay",
              "size": 10,
              "solidity": 0.2
             }
            },
            "type": "barpolar"
           }
          ],
          "carpet": [
           {
            "aaxis": {
             "endlinecolor": "#2a3f5f",
             "gridcolor": "white",
             "linecolor": "white",
             "minorgridcolor": "white",
             "startlinecolor": "#2a3f5f"
            },
            "baxis": {
             "endlinecolor": "#2a3f5f",
             "gridcolor": "white",
             "linecolor": "white",
             "minorgridcolor": "white",
             "startlinecolor": "#2a3f5f"
            },
            "type": "carpet"
           }
          ],
          "choropleth": [
           {
            "colorbar": {
             "outlinewidth": 0,
             "ticks": ""
            },
            "type": "choropleth"
           }
          ],
          "contour": [
           {
            "colorbar": {
             "outlinewidth": 0,
             "ticks": ""
            },
            "colorscale": [
             [
              0,
              "#0d0887"
             ],
             [
              0.1111111111111111,
              "#46039f"
             ],
             [
              0.2222222222222222,
              "#7201a8"
             ],
             [
              0.3333333333333333,
              "#9c179e"
             ],
             [
              0.4444444444444444,
              "#bd3786"
             ],
             [
              0.5555555555555556,
              "#d8576b"
             ],
             [
              0.6666666666666666,
              "#ed7953"
             ],
             [
              0.7777777777777778,
              "#fb9f3a"
             ],
             [
              0.8888888888888888,
              "#fdca26"
             ],
             [
              1,
              "#f0f921"
             ]
            ],
            "type": "contour"
           }
          ],
          "contourcarpet": [
           {
            "colorbar": {
             "outlinewidth": 0,
             "ticks": ""
            },
            "type": "contourcarpet"
           }
          ],
          "heatmap": [
           {
            "colorbar": {
             "outlinewidth": 0,
             "ticks": ""
            },
            "colorscale": [
             [
              0,
              "#0d0887"
             ],
             [
              0.1111111111111111,
              "#46039f"
             ],
             [
              0.2222222222222222,
              "#7201a8"
             ],
             [
              0.3333333333333333,
              "#9c179e"
             ],
             [
              0.4444444444444444,
              "#bd3786"
             ],
             [
              0.5555555555555556,
              "#d8576b"
             ],
             [
              0.6666666666666666,
              "#ed7953"
             ],
             [
              0.7777777777777778,
              "#fb9f3a"
             ],
             [
              0.8888888888888888,
              "#fdca26"
             ],
             [
              1,
              "#f0f921"
             ]
            ],
            "type": "heatmap"
           }
          ],
          "heatmapgl": [
           {
            "colorbar": {
             "outlinewidth": 0,
             "ticks": ""
            },
            "colorscale": [
             [
              0,
              "#0d0887"
             ],
             [
              0.1111111111111111,
              "#46039f"
             ],
             [
              0.2222222222222222,
              "#7201a8"
             ],
             [
              0.3333333333333333,
              "#9c179e"
             ],
             [
              0.4444444444444444,
              "#bd3786"
             ],
             [
              0.5555555555555556,
              "#d8576b"
             ],
             [
              0.6666666666666666,
              "#ed7953"
             ],
             [
              0.7777777777777778,
              "#fb9f3a"
             ],
             [
              0.8888888888888888,
              "#fdca26"
             ],
             [
              1,
              "#f0f921"
             ]
            ],
            "type": "heatmapgl"
           }
          ],
          "histogram": [
           {
            "marker": {
             "pattern": {
              "fillmode": "overlay",
              "size": 10,
              "solidity": 0.2
             }
            },
            "type": "histogram"
           }
          ],
          "histogram2d": [
           {
            "colorbar": {
             "outlinewidth": 0,
             "ticks": ""
            },
            "colorscale": [
             [
              0,
              "#0d0887"
             ],
             [
              0.1111111111111111,
              "#46039f"
             ],
             [
              0.2222222222222222,
              "#7201a8"
             ],
             [
              0.3333333333333333,
              "#9c179e"
             ],
             [
              0.4444444444444444,
              "#bd3786"
             ],
             [
              0.5555555555555556,
              "#d8576b"
             ],
             [
              0.6666666666666666,
              "#ed7953"
             ],
             [
              0.7777777777777778,
              "#fb9f3a"
             ],
             [
              0.8888888888888888,
              "#fdca26"
             ],
             [
              1,
              "#f0f921"
             ]
            ],
            "type": "histogram2d"
           }
          ],
          "histogram2dcontour": [
           {
            "colorbar": {
             "outlinewidth": 0,
             "ticks": ""
            },
            "colorscale": [
             [
              0,
              "#0d0887"
             ],
             [
              0.1111111111111111,
              "#46039f"
             ],
             [
              0.2222222222222222,
              "#7201a8"
             ],
             [
              0.3333333333333333,
              "#9c179e"
             ],
             [
              0.4444444444444444,
              "#bd3786"
             ],
             [
              0.5555555555555556,
              "#d8576b"
             ],
             [
              0.6666666666666666,
              "#ed7953"
             ],
             [
              0.7777777777777778,
              "#fb9f3a"
             ],
             [
              0.8888888888888888,
              "#fdca26"
             ],
             [
              1,
              "#f0f921"
             ]
            ],
            "type": "histogram2dcontour"
           }
          ],
          "mesh3d": [
           {
            "colorbar": {
             "outlinewidth": 0,
             "ticks": ""
            },
            "type": "mesh3d"
           }
          ],
          "parcoords": [
           {
            "line": {
             "colorbar": {
              "outlinewidth": 0,
              "ticks": ""
             }
            },
            "type": "parcoords"
           }
          ],
          "pie": [
           {
            "automargin": true,
            "type": "pie"
           }
          ],
          "scatter": [
           {
            "marker": {
             "colorbar": {
              "outlinewidth": 0,
              "ticks": ""
             }
            },
            "type": "scatter"
           }
          ],
          "scatter3d": [
           {
            "line": {
             "colorbar": {
              "outlinewidth": 0,
              "ticks": ""
             }
            },
            "marker": {
             "colorbar": {
              "outlinewidth": 0,
              "ticks": ""
             }
            },
            "type": "scatter3d"
           }
          ],
          "scattercarpet": [
           {
            "marker": {
             "colorbar": {
              "outlinewidth": 0,
              "ticks": ""
             }
            },
            "type": "scattercarpet"
           }
          ],
          "scattergeo": [
           {
            "marker": {
             "colorbar": {
              "outlinewidth": 0,
              "ticks": ""
             }
            },
            "type": "scattergeo"
           }
          ],
          "scattergl": [
           {
            "marker": {
             "colorbar": {
              "outlinewidth": 0,
              "ticks": ""
             }
            },
            "type": "scattergl"
           }
          ],
          "scattermapbox": [
           {
            "marker": {
             "colorbar": {
              "outlinewidth": 0,
              "ticks": ""
             }
            },
            "type": "scattermapbox"
           }
          ],
          "scatterpolar": [
           {
            "marker": {
             "colorbar": {
              "outlinewidth": 0,
              "ticks": ""
             }
            },
            "type": "scatterpolar"
           }
          ],
          "scatterpolargl": [
           {
            "marker": {
             "colorbar": {
              "outlinewidth": 0,
              "ticks": ""
             }
            },
            "type": "scatterpolargl"
           }
          ],
          "scatterternary": [
           {
            "marker": {
             "colorbar": {
              "outlinewidth": 0,
              "ticks": ""
             }
            },
            "type": "scatterternary"
           }
          ],
          "surface": [
           {
            "colorbar": {
             "outlinewidth": 0,
             "ticks": ""
            },
            "colorscale": [
             [
              0,
              "#0d0887"
             ],
             [
              0.1111111111111111,
              "#46039f"
             ],
             [
              0.2222222222222222,
              "#7201a8"
             ],
             [
              0.3333333333333333,
              "#9c179e"
             ],
             [
              0.4444444444444444,
              "#bd3786"
             ],
             [
              0.5555555555555556,
              "#d8576b"
             ],
             [
              0.6666666666666666,
              "#ed7953"
             ],
             [
              0.7777777777777778,
              "#fb9f3a"
             ],
             [
              0.8888888888888888,
              "#fdca26"
             ],
             [
              1,
              "#f0f921"
             ]
            ],
            "type": "surface"
           }
          ],
          "table": [
           {
            "cells": {
             "fill": {
              "color": "#EBF0F8"
             },
             "line": {
              "color": "white"
             }
            },
            "header": {
             "fill": {
              "color": "#C8D4E3"
             },
             "line": {
              "color": "white"
             }
            },
            "type": "table"
           }
          ]
         },
         "layout": {
          "annotationdefaults": {
           "arrowcolor": "#2a3f5f",
           "arrowhead": 0,
           "arrowwidth": 1
          },
          "autotypenumbers": "strict",
          "coloraxis": {
           "colorbar": {
            "outlinewidth": 0,
            "ticks": ""
           }
          },
          "colorscale": {
           "diverging": [
            [
             0,
             "#8e0152"
            ],
            [
             0.1,
             "#c51b7d"
            ],
            [
             0.2,
             "#de77ae"
            ],
            [
             0.3,
             "#f1b6da"
            ],
            [
             0.4,
             "#fde0ef"
            ],
            [
             0.5,
             "#f7f7f7"
            ],
            [
             0.6,
             "#e6f5d0"
            ],
            [
             0.7,
             "#b8e186"
            ],
            [
             0.8,
             "#7fbc41"
            ],
            [
             0.9,
             "#4d9221"
            ],
            [
             1,
             "#276419"
            ]
           ],
           "sequential": [
            [
             0,
             "#0d0887"
            ],
            [
             0.1111111111111111,
             "#46039f"
            ],
            [
             0.2222222222222222,
             "#7201a8"
            ],
            [
             0.3333333333333333,
             "#9c179e"
            ],
            [
             0.4444444444444444,
             "#bd3786"
            ],
            [
             0.5555555555555556,
             "#d8576b"
            ],
            [
             0.6666666666666666,
             "#ed7953"
            ],
            [
             0.7777777777777778,
             "#fb9f3a"
            ],
            [
             0.8888888888888888,
             "#fdca26"
            ],
            [
             1,
             "#f0f921"
            ]
           ],
           "sequentialminus": [
            [
             0,
             "#0d0887"
            ],
            [
             0.1111111111111111,
             "#46039f"
            ],
            [
             0.2222222222222222,
             "#7201a8"
            ],
            [
             0.3333333333333333,
             "#9c179e"
            ],
            [
             0.4444444444444444,
             "#bd3786"
            ],
            [
             0.5555555555555556,
             "#d8576b"
            ],
            [
             0.6666666666666666,
             "#ed7953"
            ],
            [
             0.7777777777777778,
             "#fb9f3a"
            ],
            [
             0.8888888888888888,
             "#fdca26"
            ],
            [
             1,
             "#f0f921"
            ]
           ]
          },
          "colorway": [
           "#636efa",
           "#EF553B",
           "#00cc96",
           "#ab63fa",
           "#FFA15A",
           "#19d3f3",
           "#FF6692",
           "#B6E880",
           "#FF97FF",
           "#FECB52"
          ],
          "font": {
           "color": "#2a3f5f"
          },
          "geo": {
           "bgcolor": "white",
           "lakecolor": "white",
           "landcolor": "#E5ECF6",
           "showlakes": true,
           "showland": true,
           "subunitcolor": "white"
          },
          "hoverlabel": {
           "align": "left"
          },
          "hovermode": "closest",
          "mapbox": {
           "style": "light"
          },
          "paper_bgcolor": "white",
          "plot_bgcolor": "#E5ECF6",
          "polar": {
           "angularaxis": {
            "gridcolor": "white",
            "linecolor": "white",
            "ticks": ""
           },
           "bgcolor": "#E5ECF6",
           "radialaxis": {
            "gridcolor": "white",
            "linecolor": "white",
            "ticks": ""
           }
          },
          "scene": {
           "xaxis": {
            "backgroundcolor": "#E5ECF6",
            "gridcolor": "white",
            "gridwidth": 2,
            "linecolor": "white",
            "showbackground": true,
            "ticks": "",
            "zerolinecolor": "white"
           },
           "yaxis": {
            "backgroundcolor": "#E5ECF6",
            "gridcolor": "white",
            "gridwidth": 2,
            "linecolor": "white",
            "showbackground": true,
            "ticks": "",
            "zerolinecolor": "white"
           },
           "zaxis": {
            "backgroundcolor": "#E5ECF6",
            "gridcolor": "white",
            "gridwidth": 2,
            "linecolor": "white",
            "showbackground": true,
            "ticks": "",
            "zerolinecolor": "white"
           }
          },
          "shapedefaults": {
           "line": {
            "color": "#2a3f5f"
           }
          },
          "ternary": {
           "aaxis": {
            "gridcolor": "white",
            "linecolor": "white",
            "ticks": ""
           },
           "baxis": {
            "gridcolor": "white",
            "linecolor": "white",
            "ticks": ""
           },
           "bgcolor": "#E5ECF6",
           "caxis": {
            "gridcolor": "white",
            "linecolor": "white",
            "ticks": ""
           }
          },
          "title": {
           "x": 0.05
          },
          "xaxis": {
           "automargin": true,
           "gridcolor": "white",
           "linecolor": "white",
           "ticks": "",
           "title": {
            "standoff": 15
           },
           "zerolinecolor": "white",
           "zerolinewidth": 2
          },
          "yaxis": {
           "automargin": true,
           "gridcolor": "white",
           "linecolor": "white",
           "ticks": "",
           "title": {
            "standoff": 15
           },
           "zerolinecolor": "white",
           "zerolinewidth": 2
          }
         }
        }
       }
      }
     },
     "metadata": {},
     "output_type": "display_data"
    }
   ],
   "source": [
    "fig = go.Figure()\n",
    "df_pred =pd.DataFrame(index=y_test_filtered2.index)\n",
    "fig.add_trace(go.Scatter(x = y_test_filtered2.index,y=y_test_filtered2[feature]))\n",
    "for i in range(len(data_x_test)):\n",
    "    case_test = data_x_test[i].reshape((1,data_x_test[0].shape[0], data_x_test[0].shape[1]))\n",
    "    Y_test_predictions = pd.Series(model_best_ED_LSTM.predict(case_test).flatten(),index=pd.date_range(start=idx_test[i],freq='h',periods=24))\n",
    "    df_pred[f'pred_{i}'] = Y_test_predictions\n",
    "    #fig.add_trace(go.Scatter(x = Y_test_predictions.index,y=Y_test_predictions,mode='markers'))\n",
    "\n",
    "df_pred['mean'] = df_pred.mean(axis=1)\n",
    "df_pred['median'] = df_pred.median(axis=1)\n",
    "fig.add_trace(go.Scatter(x = y_test_filtered2.index,y=df_pred['mean']))\n",
    "fig.show()\n",
    "eval_df2  =create_eval_df(df_pred['mean'],y_test_filtered2)"
   ]
  },
  {
   "cell_type": "code",
   "execution_count": null,
   "metadata": {},
   "outputs": [
    {
     "name": "stdout",
     "output_type": "stream",
     "text": [
      "R^2 score is  0.68\n"
     ]
    }
   ],
   "source": [
    "#Calculating R2 value:\n",
    "r2_test = r2_score(y_test_filtered2[:-1],df_pred['mean'][:-1])\n",
    "print('R^2 score is  %3.2f' %r2_test)"
   ]
  },
  {
   "cell_type": "code",
   "execution_count": null,
   "metadata": {},
   "outputs": [
    {
     "name": "stderr",
     "output_type": "stream",
     "text": [
      "<ipython-input-36-c9c5c3e61439>:2: UserWarning:\n",
      "\n",
      "Matplotlib is currently using module://ipykernel.pylab.backend_inline, which is a non-GUI backend, so cannot show the figure.\n",
      "\n",
      "<ipython-input-36-c9c5c3e61439>:4: UserWarning:\n",
      "\n",
      "Matplotlib is currently using module://ipykernel.pylab.backend_inline, which is a non-GUI backend, so cannot show the figure.\n",
      "\n"
     ]
    },
    {
     "data": {
      "image/png": "[encoded data removed]",
      "text/plain": [
       "<Figure size 576x576 with 1 Axes>"
      ]
     },
     "metadata": {},
     "output_type": "display_data"
    },
    {
     "data": {
      "image/png": "[encoded data removed]",
      "text/plain": [
       "<Figure size 576x576 with 1 Axes>"
      ]
     },
     "metadata": {},
     "output_type": "display_data"
    }
   ],
   "source": [
    "fig = plot_accuracy(eval_df2,model_type,f\"./{model_type}/accuracy2_{namespace}.png\")\n",
    "fig.show()\n",
    "fig = plot_error_variations(eval_df2,model_type,f\"./{model_type}/error_variations2_{namespace}.png\")\n",
    "fig.show()"
   ]
  },
  {
   "cell_type": "markdown",
   "metadata": {},
   "source": [
    "# Conclusion and outlook\n"
   ]
  },
  {
   "cell_type": "markdown",
   "metadata": {},
   "source": []
  }
 ],
 "metadata": {
  "celltoolbar": "Slideshow",
  "interpreter": {
   "hash": "1259e544f7c88cffa22b374c78440332cebcf1c64fb277e69ada7ea019600051"
  },
  "kernelspec": {
   "display_name": "Python 3",
   "language": "python",
   "name": "python3"
  },
  "language_info": {
   "codemirror_mode": {
    "name": "ipython",
    "version": 3
   },
   "file_extension": ".py",
   "mimetype": "text/x-python",
   "name": "python",
   "nbconvert_exporter": "python",
   "pygments_lexer": "ipython3",
   "version": "3.9.4"
  }
 },
 "nbformat": 4,
 "nbformat_minor": 2
}
