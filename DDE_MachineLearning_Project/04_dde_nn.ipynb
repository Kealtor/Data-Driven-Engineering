{
 "cells": [
  {
   "cell_type": "code",
   "execution_count": 1,
   "metadata": {},
   "outputs": [],
   "source": [
    "import numpy as np\n",
    "import pandas as pd\n",
    "from datetime import date\n",
    "import plotly.express as px\n",
    "import plotly.graph_objects as go\n",
    "import math\n",
    "import matplotlib.pyplot as plt\n",
    "from sklearn import preprocessing as pp\n",
    "import matplotlib as mpl\n",
    "from sklearn.decomposition import PCA\n",
    "from pandas.plotting import lag_plot, autocorrelation_plot\n",
    "from statsmodels.graphics.tsaplots import plot_acf, plot_pacf \n",
    "import statsmodels.api as smw\n",
    "from datetime import timedelta\n",
    "from statsmodels.tsa.statespace.sarimax import SARIMAX\n",
    "from sklearn.svm import SVR\n",
    "from sklearn.metrics import r2_score\n",
    "# ML Algorithms to be used\n",
    "import tensorflow as tf\n",
    "from tensorflow import keras\n",
    "from keras import optimizers, models, layers, regularizers\n",
    "tf.__version__\n",
    "from utils.dde_preprocessing_utils import (set_timestamp_index,\n",
    "remove_duplicates,\n",
    "remove_columns,\n",
    "extract_correlations,\n",
    "prepare_data_sarimax,\n",
    "create_test_train_split,\n",
    "create_sarimax_test_train_split,\n",
    "create_eval_df,\n",
    "convert_to_sample_time_feature)\n",
    "from utils.dde_plotting_utils import(\n",
    "display_double_timestamps,\n",
    "display_seasonal_decomposition,\n",
    "plot_predictions,\n",
    "plot_accuracy,\n",
    "plot_error_variations,\n",
    "plot_learning_curves,\n",
    ")\n",
    "\n",
    "%load_ext skip_kernel_extension"
   ]
  },
  {
   "cell_type": "code",
   "execution_count": 2,
   "metadata": {},
   "outputs": [],
   "source": [
    "config = tf.compat.v1.ConfigProto(gpu_options=tf.compat.v1.GPUOptions(per_process_gpu_memory_fraction=0.8))\n",
    "config.gpu_options.allow_growth = True\n",
    "session = tf.compat.v1.Session(config=config)\n",
    "tf.compat.v1.keras.backend.set_session(session)\n",
    "mpl.rcParams['figure.figsize'] = [8.0, 8.0]"
   ]
  },
  {
   "cell_type": "code",
   "execution_count": 3,
   "metadata": {},
   "outputs": [],
   "source": [
    "SKIP_RETRAIN_NN = False\n",
    "SKIP_RETRAIN_RNN = True\n",
    "SKIP_RETRAIN_LSTM = True\n",
    "SKIP_RETRAIN_ED_LSTM = True"
   ]
  },
  {
   "cell_type": "markdown",
   "metadata": {},
   "source": [
    "## Loading Data"
   ]
  },
  {
   "cell_type": "code",
   "execution_count": 4,
   "metadata": {},
   "outputs": [],
   "source": [
    "combined_df = pd.read_csv(\"preprocessed_data.csv\")\n",
    "combined_df = set_timestamp_index(combined_df,\"Unnamed: 0\")"
   ]
  },
  {
   "cell_type": "code",
   "execution_count": 5,
   "metadata": {},
   "outputs": [
    {
     "data": {
      "text/html": [
       "<div>\n",
       "<style scoped>\n",
       "    .dataframe tbody tr th:only-of-type {\n",
       "        vertical-align: middle;\n",
       "    }\n",
       "\n",
       "    .dataframe tbody tr th {\n",
       "        vertical-align: top;\n",
       "    }\n",
       "\n",
       "    .dataframe thead th {\n",
       "        text-align: right;\n",
       "    }\n",
       "</style>\n",
       "<table border=\"1\" class=\"dataframe\">\n",
       "  <thead>\n",
       "    <tr style=\"text-align: right;\">\n",
       "      <th></th>\n",
       "      <th>temp</th>\n",
       "      <th>pressure</th>\n",
       "      <th>humidity</th>\n",
       "      <th>wind_speed</th>\n",
       "      <th>wind_deg</th>\n",
       "      <th>generation biomass</th>\n",
       "      <th>generation fossil brown coal/lignite</th>\n",
       "      <th>generation fossil gas</th>\n",
       "      <th>generation fossil hard coal</th>\n",
       "      <th>generation fossil oil</th>\n",
       "      <th>...</th>\n",
       "      <th>generation solar</th>\n",
       "      <th>generation waste</th>\n",
       "      <th>generation wind onshore</th>\n",
       "      <th>total load actual</th>\n",
       "      <th>price actual</th>\n",
       "      <th>generation</th>\n",
       "      <th>energy_difference</th>\n",
       "      <th>month</th>\n",
       "      <th>day</th>\n",
       "      <th>weekend</th>\n",
       "    </tr>\n",
       "  </thead>\n",
       "  <tbody>\n",
       "    <tr>\n",
       "      <th>2015-01-01 00:00:00+01:00</th>\n",
       "      <td>-2.675</td>\n",
       "      <td>1001.0</td>\n",
       "      <td>77</td>\n",
       "      <td>1.0</td>\n",
       "      <td>62</td>\n",
       "      <td>447.0</td>\n",
       "      <td>329.0</td>\n",
       "      <td>4844.0</td>\n",
       "      <td>4821.0</td>\n",
       "      <td>162.0</td>\n",
       "      <td>...</td>\n",
       "      <td>49.0</td>\n",
       "      <td>196.0</td>\n",
       "      <td>6378.0</td>\n",
       "      <td>25385.0</td>\n",
       "      <td>65.41</td>\n",
       "      <td>28251.0</td>\n",
       "      <td>2866.0</td>\n",
       "      <td>1</td>\n",
       "      <td>1</td>\n",
       "      <td>0</td>\n",
       "    </tr>\n",
       "    <tr>\n",
       "      <th>2015-01-01 01:00:00+01:00</th>\n",
       "      <td>-2.675</td>\n",
       "      <td>1001.0</td>\n",
       "      <td>77</td>\n",
       "      <td>1.0</td>\n",
       "      <td>62</td>\n",
       "      <td>449.0</td>\n",
       "      <td>328.0</td>\n",
       "      <td>5196.0</td>\n",
       "      <td>4755.0</td>\n",
       "      <td>158.0</td>\n",
       "      <td>...</td>\n",
       "      <td>50.0</td>\n",
       "      <td>195.0</td>\n",
       "      <td>5890.0</td>\n",
       "      <td>24382.0</td>\n",
       "      <td>64.92</td>\n",
       "      <td>27818.0</td>\n",
       "      <td>3436.0</td>\n",
       "      <td>1</td>\n",
       "      <td>1</td>\n",
       "      <td>0</td>\n",
       "    </tr>\n",
       "    <tr>\n",
       "      <th>2015-01-01 02:00:00+01:00</th>\n",
       "      <td>-3.464</td>\n",
       "      <td>1002.0</td>\n",
       "      <td>78</td>\n",
       "      <td>0.0</td>\n",
       "      <td>23</td>\n",
       "      <td>448.0</td>\n",
       "      <td>323.0</td>\n",
       "      <td>4857.0</td>\n",
       "      <td>4581.0</td>\n",
       "      <td>157.0</td>\n",
       "      <td>...</td>\n",
       "      <td>50.0</td>\n",
       "      <td>196.0</td>\n",
       "      <td>5461.0</td>\n",
       "      <td>22734.0</td>\n",
       "      <td>64.48</td>\n",
       "      <td>26796.0</td>\n",
       "      <td>4062.0</td>\n",
       "      <td>1</td>\n",
       "      <td>1</td>\n",
       "      <td>0</td>\n",
       "    </tr>\n",
       "    <tr>\n",
       "      <th>2015-01-01 03:00:00+01:00</th>\n",
       "      <td>-3.464</td>\n",
       "      <td>1002.0</td>\n",
       "      <td>78</td>\n",
       "      <td>0.0</td>\n",
       "      <td>23</td>\n",
       "      <td>438.0</td>\n",
       "      <td>254.0</td>\n",
       "      <td>4314.0</td>\n",
       "      <td>4131.0</td>\n",
       "      <td>160.0</td>\n",
       "      <td>...</td>\n",
       "      <td>50.0</td>\n",
       "      <td>191.0</td>\n",
       "      <td>5238.0</td>\n",
       "      <td>21286.0</td>\n",
       "      <td>59.32</td>\n",
       "      <td>25223.0</td>\n",
       "      <td>3937.0</td>\n",
       "      <td>1</td>\n",
       "      <td>1</td>\n",
       "      <td>0</td>\n",
       "    </tr>\n",
       "    <tr>\n",
       "      <th>2015-01-01 04:00:00+01:00</th>\n",
       "      <td>-3.464</td>\n",
       "      <td>1002.0</td>\n",
       "      <td>78</td>\n",
       "      <td>0.0</td>\n",
       "      <td>23</td>\n",
       "      <td>428.0</td>\n",
       "      <td>187.0</td>\n",
       "      <td>4130.0</td>\n",
       "      <td>3840.0</td>\n",
       "      <td>156.0</td>\n",
       "      <td>...</td>\n",
       "      <td>42.0</td>\n",
       "      <td>189.0</td>\n",
       "      <td>4935.0</td>\n",
       "      <td>20264.0</td>\n",
       "      <td>56.04</td>\n",
       "      <td>24620.0</td>\n",
       "      <td>4356.0</td>\n",
       "      <td>1</td>\n",
       "      <td>1</td>\n",
       "      <td>0</td>\n",
       "    </tr>\n",
       "    <tr>\n",
       "      <th>...</th>\n",
       "      <td>...</td>\n",
       "      <td>...</td>\n",
       "      <td>...</td>\n",
       "      <td>...</td>\n",
       "      <td>...</td>\n",
       "      <td>...</td>\n",
       "      <td>...</td>\n",
       "      <td>...</td>\n",
       "      <td>...</td>\n",
       "      <td>...</td>\n",
       "      <td>...</td>\n",
       "      <td>...</td>\n",
       "      <td>...</td>\n",
       "      <td>...</td>\n",
       "      <td>...</td>\n",
       "      <td>...</td>\n",
       "      <td>...</td>\n",
       "      <td>...</td>\n",
       "      <td>...</td>\n",
       "      <td>...</td>\n",
       "      <td>...</td>\n",
       "    </tr>\n",
       "    <tr>\n",
       "      <th>2018-12-31 19:00:00+01:00</th>\n",
       "      <td>12.490</td>\n",
       "      <td>1028.0</td>\n",
       "      <td>62</td>\n",
       "      <td>2.0</td>\n",
       "      <td>140</td>\n",
       "      <td>297.0</td>\n",
       "      <td>0.0</td>\n",
       "      <td>7634.0</td>\n",
       "      <td>2628.0</td>\n",
       "      <td>178.0</td>\n",
       "      <td>...</td>\n",
       "      <td>85.0</td>\n",
       "      <td>277.0</td>\n",
       "      <td>3113.0</td>\n",
       "      <td>30653.0</td>\n",
       "      <td>77.02</td>\n",
       "      <td>26415.0</td>\n",
       "      <td>-4238.0</td>\n",
       "      <td>12</td>\n",
       "      <td>31</td>\n",
       "      <td>0</td>\n",
       "    </tr>\n",
       "    <tr>\n",
       "      <th>2018-12-31 20:00:00+01:00</th>\n",
       "      <td>9.990</td>\n",
       "      <td>1029.0</td>\n",
       "      <td>71</td>\n",
       "      <td>1.0</td>\n",
       "      <td>242</td>\n",
       "      <td>296.0</td>\n",
       "      <td>0.0</td>\n",
       "      <td>7241.0</td>\n",
       "      <td>2566.0</td>\n",
       "      <td>174.0</td>\n",
       "      <td>...</td>\n",
       "      <td>33.0</td>\n",
       "      <td>280.0</td>\n",
       "      <td>3288.0</td>\n",
       "      <td>29735.0</td>\n",
       "      <td>76.16</td>\n",
       "      <td>25213.0</td>\n",
       "      <td>-4522.0</td>\n",
       "      <td>12</td>\n",
       "      <td>31</td>\n",
       "      <td>0</td>\n",
       "    </tr>\n",
       "    <tr>\n",
       "      <th>2018-12-31 21:00:00+01:00</th>\n",
       "      <td>8.510</td>\n",
       "      <td>1029.0</td>\n",
       "      <td>81</td>\n",
       "      <td>3.0</td>\n",
       "      <td>300</td>\n",
       "      <td>292.0</td>\n",
       "      <td>0.0</td>\n",
       "      <td>7025.0</td>\n",
       "      <td>2422.0</td>\n",
       "      <td>168.0</td>\n",
       "      <td>...</td>\n",
       "      <td>31.0</td>\n",
       "      <td>286.0</td>\n",
       "      <td>3503.0</td>\n",
       "      <td>28071.0</td>\n",
       "      <td>74.30</td>\n",
       "      <td>23987.0</td>\n",
       "      <td>-4084.0</td>\n",
       "      <td>12</td>\n",
       "      <td>31</td>\n",
       "      <td>0</td>\n",
       "    </tr>\n",
       "    <tr>\n",
       "      <th>2018-12-31 22:00:00+01:00</th>\n",
       "      <td>6.990</td>\n",
       "      <td>1029.0</td>\n",
       "      <td>81</td>\n",
       "      <td>2.0</td>\n",
       "      <td>310</td>\n",
       "      <td>293.0</td>\n",
       "      <td>0.0</td>\n",
       "      <td>6562.0</td>\n",
       "      <td>2293.0</td>\n",
       "      <td>163.0</td>\n",
       "      <td>...</td>\n",
       "      <td>31.0</td>\n",
       "      <td>287.0</td>\n",
       "      <td>3586.0</td>\n",
       "      <td>25801.0</td>\n",
       "      <td>69.89</td>\n",
       "      <td>22748.0</td>\n",
       "      <td>-3053.0</td>\n",
       "      <td>12</td>\n",
       "      <td>31</td>\n",
       "      <td>0</td>\n",
       "    </tr>\n",
       "    <tr>\n",
       "      <th>2018-12-31 23:00:00+01:00</th>\n",
       "      <td>5.990</td>\n",
       "      <td>1029.0</td>\n",
       "      <td>75</td>\n",
       "      <td>2.0</td>\n",
       "      <td>300</td>\n",
       "      <td>290.0</td>\n",
       "      <td>0.0</td>\n",
       "      <td>6926.0</td>\n",
       "      <td>2166.0</td>\n",
       "      <td>163.0</td>\n",
       "      <td>...</td>\n",
       "      <td>31.0</td>\n",
       "      <td>287.0</td>\n",
       "      <td>3651.0</td>\n",
       "      <td>24455.0</td>\n",
       "      <td>69.88</td>\n",
       "      <td>22605.0</td>\n",
       "      <td>-1850.0</td>\n",
       "      <td>12</td>\n",
       "      <td>31</td>\n",
       "      <td>0</td>\n",
       "    </tr>\n",
       "  </tbody>\n",
       "</table>\n",
       "<p>35064 rows × 26 columns</p>\n",
       "</div>"
      ],
      "text/plain": [
       "                             temp  pressure  humidity  wind_speed  wind_deg  \\\n",
       "2015-01-01 00:00:00+01:00  -2.675    1001.0        77         1.0        62   \n",
       "2015-01-01 01:00:00+01:00  -2.675    1001.0        77         1.0        62   \n",
       "2015-01-01 02:00:00+01:00  -3.464    1002.0        78         0.0        23   \n",
       "2015-01-01 03:00:00+01:00  -3.464    1002.0        78         0.0        23   \n",
       "2015-01-01 04:00:00+01:00  -3.464    1002.0        78         0.0        23   \n",
       "...                           ...       ...       ...         ...       ...   \n",
       "2018-12-31 19:00:00+01:00  12.490    1028.0        62         2.0       140   \n",
       "2018-12-31 20:00:00+01:00   9.990    1029.0        71         1.0       242   \n",
       "2018-12-31 21:00:00+01:00   8.510    1029.0        81         3.0       300   \n",
       "2018-12-31 22:00:00+01:00   6.990    1029.0        81         2.0       310   \n",
       "2018-12-31 23:00:00+01:00   5.990    1029.0        75         2.0       300   \n",
       "\n",
       "                           generation biomass  \\\n",
       "2015-01-01 00:00:00+01:00               447.0   \n",
       "2015-01-01 01:00:00+01:00               449.0   \n",
       "2015-01-01 02:00:00+01:00               448.0   \n",
       "2015-01-01 03:00:00+01:00               438.0   \n",
       "2015-01-01 04:00:00+01:00               428.0   \n",
       "...                                       ...   \n",
       "2018-12-31 19:00:00+01:00               297.0   \n",
       "2018-12-31 20:00:00+01:00               296.0   \n",
       "2018-12-31 21:00:00+01:00               292.0   \n",
       "2018-12-31 22:00:00+01:00               293.0   \n",
       "2018-12-31 23:00:00+01:00               290.0   \n",
       "\n",
       "                           generation fossil brown coal/lignite  \\\n",
       "2015-01-01 00:00:00+01:00                                 329.0   \n",
       "2015-01-01 01:00:00+01:00                                 328.0   \n",
       "2015-01-01 02:00:00+01:00                                 323.0   \n",
       "2015-01-01 03:00:00+01:00                                 254.0   \n",
       "2015-01-01 04:00:00+01:00                                 187.0   \n",
       "...                                                         ...   \n",
       "2018-12-31 19:00:00+01:00                                   0.0   \n",
       "2018-12-31 20:00:00+01:00                                   0.0   \n",
       "2018-12-31 21:00:00+01:00                                   0.0   \n",
       "2018-12-31 22:00:00+01:00                                   0.0   \n",
       "2018-12-31 23:00:00+01:00                                   0.0   \n",
       "\n",
       "                           generation fossil gas  generation fossil hard coal  \\\n",
       "2015-01-01 00:00:00+01:00                 4844.0                       4821.0   \n",
       "2015-01-01 01:00:00+01:00                 5196.0                       4755.0   \n",
       "2015-01-01 02:00:00+01:00                 4857.0                       4581.0   \n",
       "2015-01-01 03:00:00+01:00                 4314.0                       4131.0   \n",
       "2015-01-01 04:00:00+01:00                 4130.0                       3840.0   \n",
       "...                                          ...                          ...   \n",
       "2018-12-31 19:00:00+01:00                 7634.0                       2628.0   \n",
       "2018-12-31 20:00:00+01:00                 7241.0                       2566.0   \n",
       "2018-12-31 21:00:00+01:00                 7025.0                       2422.0   \n",
       "2018-12-31 22:00:00+01:00                 6562.0                       2293.0   \n",
       "2018-12-31 23:00:00+01:00                 6926.0                       2166.0   \n",
       "\n",
       "                           generation fossil oil  ...  generation solar  \\\n",
       "2015-01-01 00:00:00+01:00                  162.0  ...              49.0   \n",
       "2015-01-01 01:00:00+01:00                  158.0  ...              50.0   \n",
       "2015-01-01 02:00:00+01:00                  157.0  ...              50.0   \n",
       "2015-01-01 03:00:00+01:00                  160.0  ...              50.0   \n",
       "2015-01-01 04:00:00+01:00                  156.0  ...              42.0   \n",
       "...                                          ...  ...               ...   \n",
       "2018-12-31 19:00:00+01:00                  178.0  ...              85.0   \n",
       "2018-12-31 20:00:00+01:00                  174.0  ...              33.0   \n",
       "2018-12-31 21:00:00+01:00                  168.0  ...              31.0   \n",
       "2018-12-31 22:00:00+01:00                  163.0  ...              31.0   \n",
       "2018-12-31 23:00:00+01:00                  163.0  ...              31.0   \n",
       "\n",
       "                           generation waste  generation wind onshore  \\\n",
       "2015-01-01 00:00:00+01:00             196.0                   6378.0   \n",
       "2015-01-01 01:00:00+01:00             195.0                   5890.0   \n",
       "2015-01-01 02:00:00+01:00             196.0                   5461.0   \n",
       "2015-01-01 03:00:00+01:00             191.0                   5238.0   \n",
       "2015-01-01 04:00:00+01:00             189.0                   4935.0   \n",
       "...                                     ...                      ...   \n",
       "2018-12-31 19:00:00+01:00             277.0                   3113.0   \n",
       "2018-12-31 20:00:00+01:00             280.0                   3288.0   \n",
       "2018-12-31 21:00:00+01:00             286.0                   3503.0   \n",
       "2018-12-31 22:00:00+01:00             287.0                   3586.0   \n",
       "2018-12-31 23:00:00+01:00             287.0                   3651.0   \n",
       "\n",
       "                           total load actual  price actual  generation  \\\n",
       "2015-01-01 00:00:00+01:00            25385.0         65.41     28251.0   \n",
       "2015-01-01 01:00:00+01:00            24382.0         64.92     27818.0   \n",
       "2015-01-01 02:00:00+01:00            22734.0         64.48     26796.0   \n",
       "2015-01-01 03:00:00+01:00            21286.0         59.32     25223.0   \n",
       "2015-01-01 04:00:00+01:00            20264.0         56.04     24620.0   \n",
       "...                                      ...           ...         ...   \n",
       "2018-12-31 19:00:00+01:00            30653.0         77.02     26415.0   \n",
       "2018-12-31 20:00:00+01:00            29735.0         76.16     25213.0   \n",
       "2018-12-31 21:00:00+01:00            28071.0         74.30     23987.0   \n",
       "2018-12-31 22:00:00+01:00            25801.0         69.89     22748.0   \n",
       "2018-12-31 23:00:00+01:00            24455.0         69.88     22605.0   \n",
       "\n",
       "                           energy_difference  month  day  weekend  \n",
       "2015-01-01 00:00:00+01:00             2866.0      1    1        0  \n",
       "2015-01-01 01:00:00+01:00             3436.0      1    1        0  \n",
       "2015-01-01 02:00:00+01:00             4062.0      1    1        0  \n",
       "2015-01-01 03:00:00+01:00             3937.0      1    1        0  \n",
       "2015-01-01 04:00:00+01:00             4356.0      1    1        0  \n",
       "...                                      ...    ...  ...      ...  \n",
       "2018-12-31 19:00:00+01:00            -4238.0     12   31        0  \n",
       "2018-12-31 20:00:00+01:00            -4522.0     12   31        0  \n",
       "2018-12-31 21:00:00+01:00            -4084.0     12   31        0  \n",
       "2018-12-31 22:00:00+01:00            -3053.0     12   31        0  \n",
       "2018-12-31 23:00:00+01:00            -1850.0     12   31        0  \n",
       "\n",
       "[35064 rows x 26 columns]"
      ]
     },
     "execution_count": 5,
     "metadata": {},
     "output_type": "execute_result"
    }
   ],
   "source": [
    "combined_df"
   ]
  },
  {
   "cell_type": "markdown",
   "metadata": {},
   "source": [
    "# Simple NN\n"
   ]
  },
  {
   "cell_type": "markdown",
   "metadata": {},
   "source": [
    "Scale the input data"
   ]
  },
  {
   "cell_type": "code",
   "execution_count": 6,
   "metadata": {},
   "outputs": [],
   "source": [
    "scaled_df = combined_df.copy(deep=True)\n",
    "featuresToScale = scaled_df.columns\n",
    "sX = pp.StandardScaler(copy=True)\n",
    "scaled_df.loc[:,featuresToScale] = sX.fit_transform(scaled_df[featuresToScale])"
   ]
  },
  {
   "cell_type": "markdown",
   "metadata": {},
   "source": [
    "Create Train Validation Test Split"
   ]
  },
  {
   "cell_type": "code",
   "execution_count": 7,
   "metadata": {},
   "outputs": [],
   "source": [
    "train_start = '2015-01-01'\n",
    "validation_start = '2017-01-01'\n",
    "test_start = '2017-03-01'\n",
    "test_end = '2017-03-06'\n",
    "feature = 'total load actual'\n",
    "namespace = 'NN'\n",
    "modeltype = 'NN'\n",
    "feature_df = combined_df[[feature]]\n",
    "data_x_train,data_x_val,data_x_test,data_y_train,data_y_val,data_y_test = create_test_train_split(scaled_df,feature_df,train_start,test_start,test_end,validation_start=validation_start)\n"
   ]
  },
  {
   "cell_type": "markdown",
   "metadata": {},
   "source": [
    "Define the Model"
   ]
  },
  {
   "cell_type": "code",
   "execution_count": 8,
   "metadata": {},
   "outputs": [],
   "source": [
    "def build_model_batch():\n",
    "  model = models.Sequential([\n",
    "  layers.Dense(32, kernel_initializer=\"he_normal\", input_shape=(data_x_train.shape[1],)),keras.layers.LeakyReLU(alpha=0.1),                           \n",
    "  layers.BatchNormalization(),\n",
    "  layers.Dense(32, kernel_regularizer=regularizers.l2(0.0001), kernel_initializer=\"he_normal\"),keras.layers.LeakyReLU(alpha=0.1),\n",
    "  layers.BatchNormalization(),\n",
    "  layers.Dense(1)\n",
    "  ])\n",
    "  \n",
    "  model.compile(optimizer='Adam', loss=['mse'], metrics=['mae'])\n",
    "  return model\n"
   ]
  },
  {
   "cell_type": "code",
   "execution_count": 9,
   "metadata": {},
   "outputs": [
    {
     "name": "stdout",
     "output_type": "stream",
     "text": [
      "Model: \"sequential\"\n",
      "_________________________________________________________________\n",
      "Layer (type)                 Output Shape              Param #   \n",
      "=================================================================\n",
      "dense (Dense)                (None, 32)                864       \n",
      "_________________________________________________________________\n",
      "leaky_re_lu (LeakyReLU)      (None, 32)                0         \n",
      "_________________________________________________________________\n",
      "batch_normalization (BatchNo (None, 32)                128       \n",
      "_________________________________________________________________\n",
      "dense_1 (Dense)              (None, 32)                1056      \n",
      "_________________________________________________________________\n",
      "leaky_re_lu_1 (LeakyReLU)    (None, 32)                0         \n",
      "_________________________________________________________________\n",
      "batch_normalization_1 (Batch (None, 32)                128       \n",
      "_________________________________________________________________\n",
      "dense_2 (Dense)              (None, 1)                 33        \n",
      "=================================================================\n",
      "Total params: 2,209\n",
      "Trainable params: 2,081\n",
      "Non-trainable params: 128\n",
      "_________________________________________________________________\n"
     ]
    }
   ],
   "source": [
    "build_model_batch().summary()"
   ]
  },
  {
   "cell_type": "markdown",
   "metadata": {},
   "source": [
    "Define Callback functions"
   ]
  },
  {
   "cell_type": "code",
   "execution_count": 10,
   "metadata": {},
   "outputs": [],
   "source": [
    "myCheckpoint= keras.callbacks.ModelCheckpoint(f\"./{modeltype}/my_best_model_{namespace}.h5\", save_best_only=True)\n",
    "myEarly_stopping = keras.callbacks.EarlyStopping(patience=20,restore_best_weights=True)"
   ]
  },
  {
   "cell_type": "markdown",
   "metadata": {},
   "source": [
    "Hyperparameters"
   ]
  },
  {
   "cell_type": "code",
   "execution_count": 11,
   "metadata": {},
   "outputs": [],
   "source": [
    "num_epochs = 100\n",
    "batch_size = 10"
   ]
  },
  {
   "cell_type": "markdown",
   "metadata": {},
   "source": [
    "Training the model"
   ]
  },
  {
   "cell_type": "code",
   "execution_count": 12,
   "metadata": {},
   "outputs": [
    {
     "name": "stdout",
     "output_type": "stream",
     "text": [
      "Epoch 1/100\n",
      "1755/1755 [==============================] - 7s 3ms/step - loss: 823735232.0000 - mae: 28356.8418 - val_loss: 881919232.0000 - val_mae: 29325.8672\n",
      "Epoch 2/100\n",
      "1755/1755 [==============================] - 5s 3ms/step - loss: 797260800.0000 - mae: 27950.9453 - val_loss: 835633600.0000 - val_mae: 28637.0137\n",
      "Epoch 3/100\n",
      "1755/1755 [==============================] - 5s 3ms/step - loss: 754726720.0000 - mae: 27264.4492 - val_loss: 763100032.0000 - val_mae: 27458.2656\n",
      "Epoch 4/100\n",
      "1755/1755 [==============================] - 5s 3ms/step - loss: 701683136.0000 - mae: 26355.0664 - val_loss: 702101440.0000 - val_mae: 26422.5020\n",
      "Epoch 5/100\n",
      "1755/1755 [==============================] - 5s 3ms/step - loss: 640984896.0000 - mae: 25240.1777 - val_loss: 621515136.0000 - val_mae: 24917.7344\n",
      "Epoch 6/100\n",
      "1755/1755 [==============================] - 5s 3ms/step - loss: 575505728.0000 - mae: 23931.2656 - val_loss: 537377536.0000 - val_mae: 23177.1152\n",
      "Epoch 7/100\n",
      "1755/1755 [==============================] - 5s 3ms/step - loss: 505679232.0000 - mae: 22427.1367 - val_loss: 463646464.0000 - val_mae: 21527.8652\n",
      "Epoch 8/100\n",
      "1755/1755 [==============================] - 5s 3ms/step - loss: 432566432.0000 - mae: 20736.5957 - val_loss: 399064480.0000 - val_mae: 19969.4121\n",
      "Epoch 9/100\n",
      "1755/1755 [==============================] - 5s 3ms/step - loss: 358566912.0000 - mae: 18867.1582 - val_loss: 327477888.0000 - val_mae: 18089.3125\n",
      "Epoch 10/100\n",
      "1755/1755 [==============================] - 5s 3ms/step - loss: 285902112.0000 - mae: 16833.3086 - val_loss: 253699360.0000 - val_mae: 15923.4365\n",
      "Epoch 11/100\n",
      "1755/1755 [==============================] - 5s 3ms/step - loss: 217222672.0000 - mae: 14648.1875 - val_loss: 184517680.0000 - val_mae: 13576.7314\n",
      "Epoch 12/100\n",
      "1755/1755 [==============================] - 5s 3ms/step - loss: 154779200.0000 - mae: 12332.6904 - val_loss: 124901992.0000 - val_mae: 11174.5010\n",
      "Epoch 13/100\n",
      "1755/1755 [==============================] - 5s 3ms/step - loss: 101042392.0000 - mae: 9915.5781 - val_loss: 77039776.0000 - val_mae: 8770.1729\n",
      "Epoch 14/100\n",
      "1755/1755 [==============================] - 5s 3ms/step - loss: 58245208.0000 - mae: 7441.1230 - val_loss: 36939768.0000 - val_mae: 6075.1318\n",
      "Epoch 15/100\n",
      "1755/1755 [==============================] - 5s 3ms/step - loss: 27681038.0000 - mae: 5010.9761 - val_loss: 14575727.0000 - val_mae: 3814.0759\n",
      "Epoch 16/100\n",
      "1755/1755 [==============================] - 5s 3ms/step - loss: 10164879.0000 - mae: 2829.1919 - val_loss: 3150031.2500 - val_mae: 1767.6870\n",
      "Epoch 17/100\n",
      "1755/1755 [==============================] - 5s 3ms/step - loss: 3452424.0000 - mae: 1497.9056 - val_loss: 366104.9062 - val_mae: 586.9018\n",
      "Epoch 18/100\n",
      "1755/1755 [==============================] - 5s 3ms/step - loss: 2137245.0000 - mae: 1166.5261 - val_loss: 79023.1484 - val_mae: 223.0843\n",
      "Epoch 19/100\n",
      "1755/1755 [==============================] - 5s 3ms/step - loss: 2111002.0000 - mae: 1162.6467 - val_loss: 49925.3516 - val_mae: 182.3191\n",
      "Epoch 20/100\n",
      "1755/1755 [==============================] - 5s 3ms/step - loss: 2135284.7500 - mae: 1173.0031 - val_loss: 19978.7285 - val_mae: 113.7836\n",
      "Epoch 21/100\n",
      "1755/1755 [==============================] - 6s 3ms/step - loss: 2126019.2500 - mae: 1167.5527 - val_loss: 126466.6641 - val_mae: 294.3607\n",
      "Epoch 22/100\n",
      "1755/1755 [==============================] - 5s 3ms/step - loss: 2167704.0000 - mae: 1188.2062 - val_loss: 47671.4805 - val_mae: 195.5282\n",
      "Epoch 23/100\n",
      "1755/1755 [==============================] - 5s 3ms/step - loss: 2116466.7500 - mae: 1166.1490 - val_loss: 119783.5000 - val_mae: 275.8495\n",
      "Epoch 24/100\n",
      "1755/1755 [==============================] - 5s 3ms/step - loss: 2128741.5000 - mae: 1170.4261 - val_loss: 90483.5781 - val_mae: 252.4409\n",
      "Epoch 25/100\n",
      "1755/1755 [==============================] - 5s 3ms/step - loss: 2038684.5000 - mae: 1135.3361 - val_loss: 84522.1953 - val_mae: 242.9220\n",
      "Epoch 26/100\n",
      "1755/1755 [==============================] - 5s 3ms/step - loss: 2076962.6250 - mae: 1148.4623 - val_loss: 124056.8125 - val_mae: 333.3879\n",
      "Epoch 27/100\n",
      "1755/1755 [==============================] - 5s 3ms/step - loss: 2158598.2500 - mae: 1181.1632 - val_loss: 29117.2266 - val_mae: 140.6559\n",
      "Epoch 28/100\n",
      "1755/1755 [==============================] - 5s 3ms/step - loss: 2026777.6250 - mae: 1128.7317 - val_loss: 67137.2109 - val_mae: 214.7460\n",
      "Epoch 29/100\n",
      "1755/1755 [==============================] - 5s 3ms/step - loss: 2087668.5000 - mae: 1154.7129 - val_loss: 11408.9922 - val_mae: 90.3086\n",
      "Epoch 30/100\n",
      "1755/1755 [==============================] - 5s 3ms/step - loss: 2115724.7500 - mae: 1169.6862 - val_loss: 62749.8086 - val_mae: 235.7447\n",
      "Epoch 31/100\n",
      "1755/1755 [==============================] - 6s 3ms/step - loss: 2195926.7500 - mae: 1195.6962 - val_loss: 11420.6699 - val_mae: 89.5374\n",
      "Epoch 32/100\n",
      "1755/1755 [==============================] - 5s 3ms/step - loss: 2134137.7500 - mae: 1169.7623 - val_loss: 50663.9336 - val_mae: 189.8319\n",
      "Epoch 33/100\n",
      "1755/1755 [==============================] - 5s 3ms/step - loss: 2105417.7500 - mae: 1168.5760 - val_loss: 15353.1133 - val_mae: 99.9558\n",
      "Epoch 34/100\n",
      "1755/1755 [==============================] - 5s 3ms/step - loss: 2062373.1250 - mae: 1147.7748 - val_loss: 7797.9683 - val_mae: 70.3561\n",
      "Epoch 35/100\n",
      "1755/1755 [==============================] - 5s 3ms/step - loss: 2045207.0000 - mae: 1149.5360 - val_loss: 46181.7617 - val_mae: 180.6579\n",
      "Epoch 36/100\n",
      "1755/1755 [==============================] - 5s 3ms/step - loss: 2105697.7500 - mae: 1157.0558 - val_loss: 37954.0664 - val_mae: 163.3423\n",
      "Epoch 37/100\n",
      "1755/1755 [==============================] - 5s 3ms/step - loss: 1976940.1250 - mae: 1130.2301 - val_loss: 29160.6523 - val_mae: 141.0873\n",
      "Epoch 38/100\n",
      "1755/1755 [==============================] - 5s 3ms/step - loss: 1969855.6250 - mae: 1126.3794 - val_loss: 50951.9648 - val_mae: 192.6404\n",
      "Epoch 39/100\n",
      "1755/1755 [==============================] - 5s 3ms/step - loss: 2153271.2500 - mae: 1185.8102 - val_loss: 26460.7266 - val_mae: 131.8976\n",
      "Epoch 40/100\n",
      "1755/1755 [==============================] - 5s 3ms/step - loss: 2102554.7500 - mae: 1170.4263 - val_loss: 103695.2578 - val_mae: 265.1152\n",
      "Epoch 41/100\n",
      "1755/1755 [==============================] - 5s 3ms/step - loss: 2110391.5000 - mae: 1165.8063 - val_loss: 28070.4102 - val_mae: 141.4742\n",
      "Epoch 42/100\n",
      "1755/1755 [==============================] - 5s 3ms/step - loss: 2040871.0000 - mae: 1143.4467 - val_loss: 132505.8125 - val_mae: 307.0932\n",
      "Epoch 43/100\n",
      "1755/1755 [==============================] - 5s 3ms/step - loss: 2124057.7500 - mae: 1165.7402 - val_loss: 61214.1562 - val_mae: 197.4107\n",
      "Epoch 44/100\n",
      "1755/1755 [==============================] - 5s 3ms/step - loss: 2069262.1250 - mae: 1141.9991 - val_loss: 35529.8633 - val_mae: 157.2437\n",
      "Epoch 45/100\n",
      "1755/1755 [==============================] - 5s 3ms/step - loss: 1985345.2500 - mae: 1122.1365 - val_loss: 20554.7520 - val_mae: 111.4280\n",
      "Epoch 46/100\n",
      "1755/1755 [==============================] - 5s 3ms/step - loss: 2029657.0000 - mae: 1143.3075 - val_loss: 24848.2715 - val_mae: 124.2932\n",
      "Epoch 47/100\n",
      "1755/1755 [==============================] - 5s 3ms/step - loss: 1951664.0000 - mae: 1127.7854 - val_loss: 11487.1553 - val_mae: 88.0173\n",
      "Epoch 48/100\n",
      "1755/1755 [==============================] - 5s 3ms/step - loss: 2200712.5000 - mae: 1178.7217 - val_loss: 23973.5000 - val_mae: 125.8865\n",
      "Epoch 49/100\n",
      "1755/1755 [==============================] - 5s 3ms/step - loss: 2079761.0000 - mae: 1144.0728 - val_loss: 36659.1289 - val_mae: 161.4855\n",
      "Epoch 50/100\n",
      "1755/1755 [==============================] - 5s 3ms/step - loss: 2037944.5000 - mae: 1141.0577 - val_loss: 64909.1797 - val_mae: 196.1208\n",
      "Epoch 51/100\n",
      "1755/1755 [==============================] - 5s 3ms/step - loss: 2184057.2500 - mae: 1178.2338 - val_loss: 47659.0273 - val_mae: 182.7900\n",
      "Epoch 52/100\n",
      "1755/1755 [==============================] - 5s 3ms/step - loss: 2126670.5000 - mae: 1165.6975 - val_loss: 9488.1328 - val_mae: 79.3672\n",
      "Epoch 53/100\n",
      "1755/1755 [==============================] - 5s 3ms/step - loss: 1932458.0000 - mae: 1113.2023 - val_loss: 14014.6738 - val_mae: 95.7839\n",
      "Epoch 54/100\n",
      "1755/1755 [==============================] - 5s 3ms/step - loss: 2111973.0000 - mae: 1160.6718 - val_loss: 140055.0000 - val_mae: 304.2086\n"
     ]
    }
   ],
   "source": [
    "%%skip $SKIP_RETRAIN_NN\n",
    "\n",
    "model_base = build_model_batch()\n",
    "history_base = model_base.fit(data_x_train, data_y_train, epochs=num_epochs, batch_size=batch_size, validation_data=(data_x_val, data_y_val) , \n",
    "                                callbacks=[myCheckpoint,myEarly_stopping])"
   ]
  },
  {
   "cell_type": "markdown",
   "metadata": {},
   "source": [
    "Evaluate the training process"
   ]
  },
  {
   "cell_type": "code",
   "execution_count": 13,
   "metadata": {
    "colab": {
     "base_uri": "https://localhost:8080/",
     "height": 159
    },
    "id": "m2wbpzv8gPh0",
    "outputId": "1ead09f5-6fa5-499d-b0b2-7f94452a48be"
   },
   "outputs": [],
   "source": [
    "%%skip $SKIP_RETRAIN_NN\n",
    "\n",
    "hist = pd.DataFrame(history_base.history)\n",
    "hist['epoch'] = history_base.epoch"
   ]
  },
  {
   "cell_type": "code",
   "execution_count": 14,
   "metadata": {
    "colab": {
     "base_uri": "https://localhost:8080/",
     "height": 296
    },
    "id": "2VoMpChceA-8",
    "outputId": "ed11291b-62a2-468b-f749-c1e62639ccb4"
   },
   "outputs": [
    {
     "data": {
      "image/png": "[encoded data removed]",
      "text/plain": [
       "<Figure size 576x576 with 1 Axes>"
      ]
     },
     "metadata": {
      "needs_background": "light"
     },
     "output_type": "display_data"
    }
   ],
   "source": [
    "%%skip $SKIP_RETRAIN_NN\n",
    "\n",
    "fig = plot_learning_curves(hist,modeltype, f\"./{modeltype}/learningcurve_{namespace}\")"
   ]
  },
  {
   "cell_type": "markdown",
   "metadata": {},
   "source": [
    "Load best model"
   ]
  },
  {
   "cell_type": "code",
   "execution_count": 15,
   "metadata": {},
   "outputs": [
    {
     "name": "stdout",
     "output_type": "stream",
     "text": [
      "Model: \"sequential_1\"\n",
      "_________________________________________________________________\n",
      "Layer (type)                 Output Shape              Param #   \n",
      "=================================================================\n",
      "dense_3 (Dense)              (None, 32)                864       \n",
      "_________________________________________________________________\n",
      "leaky_re_lu_2 (LeakyReLU)    (None, 32)                0         \n",
      "_________________________________________________________________\n",
      "batch_normalization_2 (Batch (None, 32)                128       \n",
      "_________________________________________________________________\n",
      "dense_4 (Dense)              (None, 32)                1056      \n",
      "_________________________________________________________________\n",
      "leaky_re_lu_3 (LeakyReLU)    (None, 32)                0         \n",
      "_________________________________________________________________\n",
      "batch_normalization_3 (Batch (None, 32)                128       \n",
      "_________________________________________________________________\n",
      "dense_5 (Dense)              (None, 1)                 33        \n",
      "=================================================================\n",
      "Total params: 2,209\n",
      "Trainable params: 2,081\n",
      "Non-trainable params: 128\n",
      "_________________________________________________________________\n"
     ]
    }
   ],
   "source": [
    "model_best = keras.models.load_model(f\"./{modeltype}/my_best_model_{namespace}.h5\")\n",
    "model_best.summary()"
   ]
  },
  {
   "cell_type": "markdown",
   "metadata": {},
   "source": [
    "Evaluate Predictions"
   ]
  },
  {
   "cell_type": "code",
   "execution_count": 16,
   "metadata": {},
   "outputs": [],
   "source": [
    "Y_test_predictions = pd.Series(model_best.predict(data_x_test).flatten(),index=data_x_test.index)"
   ]
  },
  {
   "cell_type": "code",
   "execution_count": 17,
   "metadata": {},
   "outputs": [],
   "source": [
    "eval_df = create_eval_df(Y_test_predictions,data_y_test,)"
   ]
  },
  {
   "cell_type": "code",
   "execution_count": 18,
   "metadata": {},
   "outputs": [
    {
     "data": {
      "image/png": "[encoded data removed]",
      "text/plain": [
       "<Figure size 576x576 with 1 Axes>"
      ]
     },
     "metadata": {
      "needs_background": "light"
     },
     "output_type": "display_data"
    }
   ],
   "source": [
    "fig = plot_accuracy(eval_df,modeltype, f\"./{modeltype}/accuracy_{namespace}\")"
   ]
  },
  {
   "cell_type": "code",
   "execution_count": 19,
   "metadata": {},
   "outputs": [
    {
     "data": {
      "image/png": "[encoded data removed]",
      "text/plain": [
       "<Figure size 576x576 with 1 Axes>"
      ]
     },
     "metadata": {
      "needs_background": "light"
     },
     "output_type": "display_data"
    }
   ],
   "source": [
    "fig = plot_error_variations(eval_df,modeltype, f\"./{modeltype}/error_variations_{namespace}\")"
   ]
  },
  {
   "cell_type": "code",
   "execution_count": 20,
   "metadata": {},
   "outputs": [
    {
     "data": {
      "text/plain": [
       "nan"
      ]
     },
     "execution_count": 20,
     "metadata": {},
     "output_type": "execute_result"
    }
   ],
   "source": [
    "abs_error_nn = abs(Y_test_predictions - data_y_test)/data_y_test*100\n",
    "np.average(abs_error_nn)\n"
   ]
  },
  {
   "cell_type": "code",
   "execution_count": 21,
   "metadata": {},
   "outputs": [
    {
     "name": "stdout",
     "output_type": "stream",
     "text": [
      "R^2 score is  1.00\n"
     ]
    }
   ],
   "source": [
    "r2_test = r2_score(data_y_test, Y_test_predictions)\n",
    "print('R^2 score is  %3.2f' %r2_test)"
   ]
  },
  {
   "cell_type": "code",
   "execution_count": 22,
   "metadata": {},
   "outputs": [
    {
     "data": {
      "image/png": "[encoded data removed]",
      "text/plain": [
       "<Figure size 576x576 with 1 Axes>"
      ]
     },
     "metadata": {
      "needs_background": "light"
     },
     "output_type": "display_data"
    }
   ],
   "source": [
    "fig = plot_predictions(eval_df,1,modeltype,feature ,f\"./{modeltype}/predictions_{namespace}\")"
   ]
  },
  {
   "cell_type": "markdown",
   "metadata": {},
   "source": [
    "### Conclusion"
   ]
  },
  {
   "cell_type": "markdown",
   "metadata": {},
   "source": []
  }
 ],
 "metadata": {
  "interpreter": {
   "hash": "39d1545a961fb91480a52a0b6f0ba22788119e75d6e41681ee81894caf37680e"
  },
  "kernelspec": {
   "display_name": "Python 3",
   "language": "python",
   "name": "python3"
  },
  "language_info": {
   "codemirror_mode": {
    "name": "ipython",
    "version": 3
   },
   "file_extension": ".py",
   "mimetype": "text/x-python",
   "name": "python",
   "nbconvert_exporter": "python",
   "pygments_lexer": "ipython3",
   "version": "3.9.4"
  }
 },
 "nbformat": 4,
 "nbformat_minor": 2
}
