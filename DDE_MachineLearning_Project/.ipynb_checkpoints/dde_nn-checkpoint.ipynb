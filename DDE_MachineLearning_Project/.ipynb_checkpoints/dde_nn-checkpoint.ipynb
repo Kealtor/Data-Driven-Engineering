{
 "cells": [
  {
   "cell_type": "code",
   "execution_count": 1,
   "metadata": {},
   "outputs": [],
   "source": [
    "import numpy as np\n",
    "import pandas as pd\n",
    "from datetime import date\n",
    "import plotly.express as px\n",
    "import plotly.graph_objects as go\n",
    "import math\n",
    "import matplotlib.pyplot as plt\n",
    "from sklearn import preprocessing as pp\n",
    "import matplotlib as mpl\n",
    "from sklearn.decomposition import PCA\n",
    "from pandas.plotting import lag_plot, autocorrelation_plot\n",
    "from statsmodels.graphics.tsaplots import plot_acf, plot_pacf \n",
    "import statsmodels.api as smw\n",
    "from datetime import timedelta\n",
    "from statsmodels.tsa.statespace.sarimax import SARIMAX\n",
    "from sklearn.svm import SVR\n",
    "from sklearn.metrics import r2_score\n",
    "# ML Algorithms to be used\n",
    "import tensorflow as tf\n",
    "from tensorflow import keras\n",
    "from keras import optimizers, models, layers, regularizers\n",
    "tf.__version__\n",
    "from dde_preprocessing_utils import (set_timestamp_index,\n",
    "remove_duplicates,\n",
    "remove_columns,\n",
    "extract_correlations,\n",
    "prepare_data_sarimax,\n",
    "create_test_train_split,\n",
    "create_sarimax_test_train_split,)\n",
    "from dde_plotting_utils import(\n",
    "display_double_timestamps,\n",
    "display_seasonal_decomposition,\n",
    "plot_predictions,\n",
    "plot_accuracy,\n",
    "plot_error_variations,\n",
    ")\n",
    "%load_ext skip_kernel_extension"
   ]
  },
  {
   "cell_type": "code",
   "execution_count": 2,
   "metadata": {},
   "outputs": [],
   "source": [
    "SKIP_RETRAIN_NN =True\n",
    "SKIP_RETRAIN_RNN = False"
   ]
  },
  {
   "cell_type": "markdown",
   "metadata": {},
   "source": [
    "## Loading Data"
   ]
  },
  {
   "cell_type": "code",
   "execution_count": 3,
   "metadata": {},
   "outputs": [],
   "source": [
    "combined_df = pd.read_csv(\"preprocessed_data.csv\")\n",
    "combined_df = set_timestamp_index(combined_df,\"Unnamed: 0\")"
   ]
  },
  {
   "cell_type": "code",
   "execution_count": 4,
   "metadata": {},
   "outputs": [
    {
     "data": {
      "text/html": [
       "<div>\n",
       "<style scoped>\n",
       "    .dataframe tbody tr th:only-of-type {\n",
       "        vertical-align: middle;\n",
       "    }\n",
       "\n",
       "    .dataframe tbody tr th {\n",
       "        vertical-align: top;\n",
       "    }\n",
       "\n",
       "    .dataframe thead th {\n",
       "        text-align: right;\n",
       "    }\n",
       "</style>\n",
       "<table border=\"1\" class=\"dataframe\">\n",
       "  <thead>\n",
       "    <tr style=\"text-align: right;\">\n",
       "      <th></th>\n",
       "      <th>temp</th>\n",
       "      <th>pressure</th>\n",
       "      <th>humidity</th>\n",
       "      <th>wind_speed</th>\n",
       "      <th>wind_deg</th>\n",
       "      <th>generation biomass</th>\n",
       "      <th>generation fossil brown coal/lignite</th>\n",
       "      <th>generation fossil gas</th>\n",
       "      <th>generation fossil hard coal</th>\n",
       "      <th>generation fossil oil</th>\n",
       "      <th>...</th>\n",
       "      <th>generation solar</th>\n",
       "      <th>generation waste</th>\n",
       "      <th>generation wind onshore</th>\n",
       "      <th>total load actual</th>\n",
       "      <th>price actual</th>\n",
       "      <th>generation</th>\n",
       "      <th>energy_difference</th>\n",
       "      <th>month</th>\n",
       "      <th>day</th>\n",
       "      <th>weekend</th>\n",
       "    </tr>\n",
       "  </thead>\n",
       "  <tbody>\n",
       "    <tr>\n",
       "      <th>2015-01-01 00:00:00+01:00</th>\n",
       "      <td>-2.675</td>\n",
       "      <td>1001.0</td>\n",
       "      <td>77</td>\n",
       "      <td>1.0</td>\n",
       "      <td>62</td>\n",
       "      <td>447.0</td>\n",
       "      <td>329.0</td>\n",
       "      <td>4844.0</td>\n",
       "      <td>4821.0</td>\n",
       "      <td>162.0</td>\n",
       "      <td>...</td>\n",
       "      <td>49.0</td>\n",
       "      <td>196.0</td>\n",
       "      <td>6378.0</td>\n",
       "      <td>25385.0</td>\n",
       "      <td>65.41</td>\n",
       "      <td>28251.0</td>\n",
       "      <td>2866.0</td>\n",
       "      <td>1</td>\n",
       "      <td>1</td>\n",
       "      <td>0</td>\n",
       "    </tr>\n",
       "    <tr>\n",
       "      <th>2015-01-01 01:00:00+01:00</th>\n",
       "      <td>-2.675</td>\n",
       "      <td>1001.0</td>\n",
       "      <td>77</td>\n",
       "      <td>1.0</td>\n",
       "      <td>62</td>\n",
       "      <td>449.0</td>\n",
       "      <td>328.0</td>\n",
       "      <td>5196.0</td>\n",
       "      <td>4755.0</td>\n",
       "      <td>158.0</td>\n",
       "      <td>...</td>\n",
       "      <td>50.0</td>\n",
       "      <td>195.0</td>\n",
       "      <td>5890.0</td>\n",
       "      <td>24382.0</td>\n",
       "      <td>64.92</td>\n",
       "      <td>27818.0</td>\n",
       "      <td>3436.0</td>\n",
       "      <td>1</td>\n",
       "      <td>1</td>\n",
       "      <td>0</td>\n",
       "    </tr>\n",
       "    <tr>\n",
       "      <th>2015-01-01 02:00:00+01:00</th>\n",
       "      <td>-3.464</td>\n",
       "      <td>1002.0</td>\n",
       "      <td>78</td>\n",
       "      <td>0.0</td>\n",
       "      <td>23</td>\n",
       "      <td>448.0</td>\n",
       "      <td>323.0</td>\n",
       "      <td>4857.0</td>\n",
       "      <td>4581.0</td>\n",
       "      <td>157.0</td>\n",
       "      <td>...</td>\n",
       "      <td>50.0</td>\n",
       "      <td>196.0</td>\n",
       "      <td>5461.0</td>\n",
       "      <td>22734.0</td>\n",
       "      <td>64.48</td>\n",
       "      <td>26796.0</td>\n",
       "      <td>4062.0</td>\n",
       "      <td>1</td>\n",
       "      <td>1</td>\n",
       "      <td>0</td>\n",
       "    </tr>\n",
       "    <tr>\n",
       "      <th>2015-01-01 03:00:00+01:00</th>\n",
       "      <td>-3.464</td>\n",
       "      <td>1002.0</td>\n",
       "      <td>78</td>\n",
       "      <td>0.0</td>\n",
       "      <td>23</td>\n",
       "      <td>438.0</td>\n",
       "      <td>254.0</td>\n",
       "      <td>4314.0</td>\n",
       "      <td>4131.0</td>\n",
       "      <td>160.0</td>\n",
       "      <td>...</td>\n",
       "      <td>50.0</td>\n",
       "      <td>191.0</td>\n",
       "      <td>5238.0</td>\n",
       "      <td>21286.0</td>\n",
       "      <td>59.32</td>\n",
       "      <td>25223.0</td>\n",
       "      <td>3937.0</td>\n",
       "      <td>1</td>\n",
       "      <td>1</td>\n",
       "      <td>0</td>\n",
       "    </tr>\n",
       "    <tr>\n",
       "      <th>2015-01-01 04:00:00+01:00</th>\n",
       "      <td>-3.464</td>\n",
       "      <td>1002.0</td>\n",
       "      <td>78</td>\n",
       "      <td>0.0</td>\n",
       "      <td>23</td>\n",
       "      <td>428.0</td>\n",
       "      <td>187.0</td>\n",
       "      <td>4130.0</td>\n",
       "      <td>3840.0</td>\n",
       "      <td>156.0</td>\n",
       "      <td>...</td>\n",
       "      <td>42.0</td>\n",
       "      <td>189.0</td>\n",
       "      <td>4935.0</td>\n",
       "      <td>20264.0</td>\n",
       "      <td>56.04</td>\n",
       "      <td>24620.0</td>\n",
       "      <td>4356.0</td>\n",
       "      <td>1</td>\n",
       "      <td>1</td>\n",
       "      <td>0</td>\n",
       "    </tr>\n",
       "    <tr>\n",
       "      <th>...</th>\n",
       "      <td>...</td>\n",
       "      <td>...</td>\n",
       "      <td>...</td>\n",
       "      <td>...</td>\n",
       "      <td>...</td>\n",
       "      <td>...</td>\n",
       "      <td>...</td>\n",
       "      <td>...</td>\n",
       "      <td>...</td>\n",
       "      <td>...</td>\n",
       "      <td>...</td>\n",
       "      <td>...</td>\n",
       "      <td>...</td>\n",
       "      <td>...</td>\n",
       "      <td>...</td>\n",
       "      <td>...</td>\n",
       "      <td>...</td>\n",
       "      <td>...</td>\n",
       "      <td>...</td>\n",
       "      <td>...</td>\n",
       "      <td>...</td>\n",
       "    </tr>\n",
       "    <tr>\n",
       "      <th>2018-12-31 19:00:00+01:00</th>\n",
       "      <td>12.490</td>\n",
       "      <td>1028.0</td>\n",
       "      <td>62</td>\n",
       "      <td>2.0</td>\n",
       "      <td>140</td>\n",
       "      <td>297.0</td>\n",
       "      <td>0.0</td>\n",
       "      <td>7634.0</td>\n",
       "      <td>2628.0</td>\n",
       "      <td>178.0</td>\n",
       "      <td>...</td>\n",
       "      <td>85.0</td>\n",
       "      <td>277.0</td>\n",
       "      <td>3113.0</td>\n",
       "      <td>30653.0</td>\n",
       "      <td>77.02</td>\n",
       "      <td>26415.0</td>\n",
       "      <td>-4238.0</td>\n",
       "      <td>12</td>\n",
       "      <td>31</td>\n",
       "      <td>0</td>\n",
       "    </tr>\n",
       "    <tr>\n",
       "      <th>2018-12-31 20:00:00+01:00</th>\n",
       "      <td>9.990</td>\n",
       "      <td>1029.0</td>\n",
       "      <td>71</td>\n",
       "      <td>1.0</td>\n",
       "      <td>242</td>\n",
       "      <td>296.0</td>\n",
       "      <td>0.0</td>\n",
       "      <td>7241.0</td>\n",
       "      <td>2566.0</td>\n",
       "      <td>174.0</td>\n",
       "      <td>...</td>\n",
       "      <td>33.0</td>\n",
       "      <td>280.0</td>\n",
       "      <td>3288.0</td>\n",
       "      <td>29735.0</td>\n",
       "      <td>76.16</td>\n",
       "      <td>25213.0</td>\n",
       "      <td>-4522.0</td>\n",
       "      <td>12</td>\n",
       "      <td>31</td>\n",
       "      <td>0</td>\n",
       "    </tr>\n",
       "    <tr>\n",
       "      <th>2018-12-31 21:00:00+01:00</th>\n",
       "      <td>8.510</td>\n",
       "      <td>1029.0</td>\n",
       "      <td>81</td>\n",
       "      <td>3.0</td>\n",
       "      <td>300</td>\n",
       "      <td>292.0</td>\n",
       "      <td>0.0</td>\n",
       "      <td>7025.0</td>\n",
       "      <td>2422.0</td>\n",
       "      <td>168.0</td>\n",
       "      <td>...</td>\n",
       "      <td>31.0</td>\n",
       "      <td>286.0</td>\n",
       "      <td>3503.0</td>\n",
       "      <td>28071.0</td>\n",
       "      <td>74.30</td>\n",
       "      <td>23987.0</td>\n",
       "      <td>-4084.0</td>\n",
       "      <td>12</td>\n",
       "      <td>31</td>\n",
       "      <td>0</td>\n",
       "    </tr>\n",
       "    <tr>\n",
       "      <th>2018-12-31 22:00:00+01:00</th>\n",
       "      <td>6.990</td>\n",
       "      <td>1029.0</td>\n",
       "      <td>81</td>\n",
       "      <td>2.0</td>\n",
       "      <td>310</td>\n",
       "      <td>293.0</td>\n",
       "      <td>0.0</td>\n",
       "      <td>6562.0</td>\n",
       "      <td>2293.0</td>\n",
       "      <td>163.0</td>\n",
       "      <td>...</td>\n",
       "      <td>31.0</td>\n",
       "      <td>287.0</td>\n",
       "      <td>3586.0</td>\n",
       "      <td>25801.0</td>\n",
       "      <td>69.89</td>\n",
       "      <td>22748.0</td>\n",
       "      <td>-3053.0</td>\n",
       "      <td>12</td>\n",
       "      <td>31</td>\n",
       "      <td>0</td>\n",
       "    </tr>\n",
       "    <tr>\n",
       "      <th>2018-12-31 23:00:00+01:00</th>\n",
       "      <td>5.990</td>\n",
       "      <td>1029.0</td>\n",
       "      <td>75</td>\n",
       "      <td>2.0</td>\n",
       "      <td>300</td>\n",
       "      <td>290.0</td>\n",
       "      <td>0.0</td>\n",
       "      <td>6926.0</td>\n",
       "      <td>2166.0</td>\n",
       "      <td>163.0</td>\n",
       "      <td>...</td>\n",
       "      <td>31.0</td>\n",
       "      <td>287.0</td>\n",
       "      <td>3651.0</td>\n",
       "      <td>24455.0</td>\n",
       "      <td>69.88</td>\n",
       "      <td>22605.0</td>\n",
       "      <td>-1850.0</td>\n",
       "      <td>12</td>\n",
       "      <td>31</td>\n",
       "      <td>0</td>\n",
       "    </tr>\n",
       "  </tbody>\n",
       "</table>\n",
       "<p>35064 rows × 26 columns</p>\n",
       "</div>"
      ],
      "text/plain": [
       "                             temp  pressure  humidity  wind_speed  wind_deg  \\\n",
       "2015-01-01 00:00:00+01:00  -2.675    1001.0        77         1.0        62   \n",
       "2015-01-01 01:00:00+01:00  -2.675    1001.0        77         1.0        62   \n",
       "2015-01-01 02:00:00+01:00  -3.464    1002.0        78         0.0        23   \n",
       "2015-01-01 03:00:00+01:00  -3.464    1002.0        78         0.0        23   \n",
       "2015-01-01 04:00:00+01:00  -3.464    1002.0        78         0.0        23   \n",
       "...                           ...       ...       ...         ...       ...   \n",
       "2018-12-31 19:00:00+01:00  12.490    1028.0        62         2.0       140   \n",
       "2018-12-31 20:00:00+01:00   9.990    1029.0        71         1.0       242   \n",
       "2018-12-31 21:00:00+01:00   8.510    1029.0        81         3.0       300   \n",
       "2018-12-31 22:00:00+01:00   6.990    1029.0        81         2.0       310   \n",
       "2018-12-31 23:00:00+01:00   5.990    1029.0        75         2.0       300   \n",
       "\n",
       "                           generation biomass  \\\n",
       "2015-01-01 00:00:00+01:00               447.0   \n",
       "2015-01-01 01:00:00+01:00               449.0   \n",
       "2015-01-01 02:00:00+01:00               448.0   \n",
       "2015-01-01 03:00:00+01:00               438.0   \n",
       "2015-01-01 04:00:00+01:00               428.0   \n",
       "...                                       ...   \n",
       "2018-12-31 19:00:00+01:00               297.0   \n",
       "2018-12-31 20:00:00+01:00               296.0   \n",
       "2018-12-31 21:00:00+01:00               292.0   \n",
       "2018-12-31 22:00:00+01:00               293.0   \n",
       "2018-12-31 23:00:00+01:00               290.0   \n",
       "\n",
       "                           generation fossil brown coal/lignite  \\\n",
       "2015-01-01 00:00:00+01:00                                 329.0   \n",
       "2015-01-01 01:00:00+01:00                                 328.0   \n",
       "2015-01-01 02:00:00+01:00                                 323.0   \n",
       "2015-01-01 03:00:00+01:00                                 254.0   \n",
       "2015-01-01 04:00:00+01:00                                 187.0   \n",
       "...                                                         ...   \n",
       "2018-12-31 19:00:00+01:00                                   0.0   \n",
       "2018-12-31 20:00:00+01:00                                   0.0   \n",
       "2018-12-31 21:00:00+01:00                                   0.0   \n",
       "2018-12-31 22:00:00+01:00                                   0.0   \n",
       "2018-12-31 23:00:00+01:00                                   0.0   \n",
       "\n",
       "                           generation fossil gas  generation fossil hard coal  \\\n",
       "2015-01-01 00:00:00+01:00                 4844.0                       4821.0   \n",
       "2015-01-01 01:00:00+01:00                 5196.0                       4755.0   \n",
       "2015-01-01 02:00:00+01:00                 4857.0                       4581.0   \n",
       "2015-01-01 03:00:00+01:00                 4314.0                       4131.0   \n",
       "2015-01-01 04:00:00+01:00                 4130.0                       3840.0   \n",
       "...                                          ...                          ...   \n",
       "2018-12-31 19:00:00+01:00                 7634.0                       2628.0   \n",
       "2018-12-31 20:00:00+01:00                 7241.0                       2566.0   \n",
       "2018-12-31 21:00:00+01:00                 7025.0                       2422.0   \n",
       "2018-12-31 22:00:00+01:00                 6562.0                       2293.0   \n",
       "2018-12-31 23:00:00+01:00                 6926.0                       2166.0   \n",
       "\n",
       "                           generation fossil oil  ...  generation solar  \\\n",
       "2015-01-01 00:00:00+01:00                  162.0  ...              49.0   \n",
       "2015-01-01 01:00:00+01:00                  158.0  ...              50.0   \n",
       "2015-01-01 02:00:00+01:00                  157.0  ...              50.0   \n",
       "2015-01-01 03:00:00+01:00                  160.0  ...              50.0   \n",
       "2015-01-01 04:00:00+01:00                  156.0  ...              42.0   \n",
       "...                                          ...  ...               ...   \n",
       "2018-12-31 19:00:00+01:00                  178.0  ...              85.0   \n",
       "2018-12-31 20:00:00+01:00                  174.0  ...              33.0   \n",
       "2018-12-31 21:00:00+01:00                  168.0  ...              31.0   \n",
       "2018-12-31 22:00:00+01:00                  163.0  ...              31.0   \n",
       "2018-12-31 23:00:00+01:00                  163.0  ...              31.0   \n",
       "\n",
       "                           generation waste  generation wind onshore  \\\n",
       "2015-01-01 00:00:00+01:00             196.0                   6378.0   \n",
       "2015-01-01 01:00:00+01:00             195.0                   5890.0   \n",
       "2015-01-01 02:00:00+01:00             196.0                   5461.0   \n",
       "2015-01-01 03:00:00+01:00             191.0                   5238.0   \n",
       "2015-01-01 04:00:00+01:00             189.0                   4935.0   \n",
       "...                                     ...                      ...   \n",
       "2018-12-31 19:00:00+01:00             277.0                   3113.0   \n",
       "2018-12-31 20:00:00+01:00             280.0                   3288.0   \n",
       "2018-12-31 21:00:00+01:00             286.0                   3503.0   \n",
       "2018-12-31 22:00:00+01:00             287.0                   3586.0   \n",
       "2018-12-31 23:00:00+01:00             287.0                   3651.0   \n",
       "\n",
       "                           total load actual  price actual  generation  \\\n",
       "2015-01-01 00:00:00+01:00            25385.0         65.41     28251.0   \n",
       "2015-01-01 01:00:00+01:00            24382.0         64.92     27818.0   \n",
       "2015-01-01 02:00:00+01:00            22734.0         64.48     26796.0   \n",
       "2015-01-01 03:00:00+01:00            21286.0         59.32     25223.0   \n",
       "2015-01-01 04:00:00+01:00            20264.0         56.04     24620.0   \n",
       "...                                      ...           ...         ...   \n",
       "2018-12-31 19:00:00+01:00            30653.0         77.02     26415.0   \n",
       "2018-12-31 20:00:00+01:00            29735.0         76.16     25213.0   \n",
       "2018-12-31 21:00:00+01:00            28071.0         74.30     23987.0   \n",
       "2018-12-31 22:00:00+01:00            25801.0         69.89     22748.0   \n",
       "2018-12-31 23:00:00+01:00            24455.0         69.88     22605.0   \n",
       "\n",
       "                           energy_difference  month  day  weekend  \n",
       "2015-01-01 00:00:00+01:00             2866.0      1    1        0  \n",
       "2015-01-01 01:00:00+01:00             3436.0      1    1        0  \n",
       "2015-01-01 02:00:00+01:00             4062.0      1    1        0  \n",
       "2015-01-01 03:00:00+01:00             3937.0      1    1        0  \n",
       "2015-01-01 04:00:00+01:00             4356.0      1    1        0  \n",
       "...                                      ...    ...  ...      ...  \n",
       "2018-12-31 19:00:00+01:00            -4238.0     12   31        0  \n",
       "2018-12-31 20:00:00+01:00            -4522.0     12   31        0  \n",
       "2018-12-31 21:00:00+01:00            -4084.0     12   31        0  \n",
       "2018-12-31 22:00:00+01:00            -3053.0     12   31        0  \n",
       "2018-12-31 23:00:00+01:00            -1850.0     12   31        0  \n",
       "\n",
       "[35064 rows x 26 columns]"
      ]
     },
     "execution_count": 4,
     "metadata": {},
     "output_type": "execute_result"
    }
   ],
   "source": [
    "combined_df"
   ]
  },
  {
   "cell_type": "code",
   "execution_count": 5,
   "metadata": {},
   "outputs": [],
   "source": [
    "#Rescaling the data\n",
    "scaled_df = combined_df.copy(deep=True)\n",
    "featuresToScale = scaled_df.columns\n",
    "sX = pp.StandardScaler(copy=True)\n",
    "scaled_df.loc[:,featuresToScale] = sX.fit_transform(scaled_df[featuresToScale])"
   ]
  },
  {
   "cell_type": "markdown",
   "metadata": {},
   "source": [
    "# NN\n"
   ]
  },
  {
   "cell_type": "markdown",
   "metadata": {},
   "source": [
    "Create Train Validation Test Splot"
   ]
  },
  {
   "cell_type": "code",
   "execution_count": 6,
   "metadata": {},
   "outputs": [],
   "source": [
    "train_start = '2015-01-01'\n",
    "validation_start = '2017-01-01'\n",
    "test_start = '2017-03-01'\n",
    "test_end = '2017-03-06'\n",
    "feature = 'total load actual'\n",
    "feature_df = combined_df[feature]\n",
    "data_x_train,data_x_val,data_x_test,data_y_train,data_y_val,data_y_test = create_test_train_split(scaled_df,feature_df,train_start,test_start,test_end,validation_start=validation_start)\n"
   ]
  },
  {
   "cell_type": "markdown",
   "metadata": {},
   "source": [
    "Define the Model"
   ]
  },
  {
   "cell_type": "code",
   "execution_count": 7,
   "metadata": {},
   "outputs": [],
   "source": [
    "def build_model_batch():\n",
    "  #Here we will use Sequential API\n",
    "  model = models.Sequential([\n",
    "  layers.Dense(32, kernel_initializer=\"he_normal\", input_shape=(data_x_train.shape[1],)),keras.layers.LeakyReLU(alpha=0.1),                           \n",
    "  layers.BatchNormalization(),\n",
    "  layers.Dense(32, kernel_regularizer=regularizers.l2(0.0001), kernel_initializer=\"he_normal\"),keras.layers.LeakyReLU(alpha=0.1),\n",
    "  layers.BatchNormalization(),\n",
    "  layers.Dense(1)\n",
    "  ])\n",
    "  \n",
    "  model.compile(optimizer='Adam', loss=['mse'], metrics=['mae'])\n",
    "  return model\n"
   ]
  },
  {
   "cell_type": "code",
   "execution_count": 8,
   "metadata": {},
   "outputs": [
    {
     "name": "stdout",
     "output_type": "stream",
     "text": [
      "Model: \"sequential\"\n",
      "_________________________________________________________________\n",
      "Layer (type)                 Output Shape              Param #   \n",
      "=================================================================\n",
      "dense (Dense)                (None, 32)                864       \n",
      "_________________________________________________________________\n",
      "leaky_re_lu (LeakyReLU)      (None, 32)                0         \n",
      "_________________________________________________________________\n",
      "batch_normalization (BatchNo (None, 32)                128       \n",
      "_________________________________________________________________\n",
      "dense_1 (Dense)              (None, 32)                1056      \n",
      "_________________________________________________________________\n",
      "leaky_re_lu_1 (LeakyReLU)    (None, 32)                0         \n",
      "_________________________________________________________________\n",
      "batch_normalization_1 (Batch (None, 32)                128       \n",
      "_________________________________________________________________\n",
      "dense_2 (Dense)              (None, 1)                 33        \n",
      "=================================================================\n",
      "Total params: 2,209\n",
      "Trainable params: 2,081\n",
      "Non-trainable params: 128\n",
      "_________________________________________________________________\n"
     ]
    }
   ],
   "source": [
    "build_model_batch().summary()"
   ]
  },
  {
   "cell_type": "code",
   "execution_count": 9,
   "metadata": {},
   "outputs": [],
   "source": [
    "#We will first create the object to feed fit() method:\n",
    "myCheckpoint= keras.callbacks.ModelCheckpoint(\"my_best_NN_model.h5\", save_best_only=True)\n",
    "myEarly_stopping = keras.callbacks.EarlyStopping(patience=20,restore_best_weights=True)"
   ]
  },
  {
   "cell_type": "code",
   "execution_count": 10,
   "metadata": {},
   "outputs": [],
   "source": [
    "#Model Training\n",
    "#--------------------------------------------------------------------------\n",
    "#Hyperparameters\n",
    "num_epochs = 1000\n",
    "batch_size = 10"
   ]
  },
  {
   "cell_type": "code",
   "execution_count": 11,
   "metadata": {},
   "outputs": [
    {
     "name": "stderr",
     "output_type": "stream",
     "text": [
      "UsageError: Line magic function `%%skip` not found.\n"
     ]
    }
   ],
   "source": [
    "# Model Training:\n",
    "#-----------------------------------------------------------------------------\n",
    "#Building the Keras models:\n",
    "%%skip $SKIP_RETRAIN_NN\n",
    "model_base = build_model_batch()\n",
    "history_base = model_base.fit(data_x_train, data_y_train, epochs=num_epochs, batch_size=batch_size, validation_data=(data_x_val, data_y_val) , \n",
    "                                callbacks=[myCheckpoint,myEarly_stopping])#, verbose=0)\n",
    "#Calling back the best model:\n"
   ]
  },
  {
   "cell_type": "code",
   "execution_count": 12,
   "metadata": {},
   "outputs": [],
   "source": [
    "%%skip $SKIP_RETRAIN_NN\n",
    "#Let's look into the history recorded:\n",
    "hist = pd.DataFrame(history_base.history)\n",
    "hist.sample(3)"
   ]
  },
  {
   "cell_type": "code",
   "execution_count": 13,
   "metadata": {
    "colab": {
     "base_uri": "https://localhost:8080/",
     "height": 159
    },
    "id": "m2wbpzv8gPh0",
    "outputId": "1ead09f5-6fa5-499d-b0b2-7f94452a48be"
   },
   "outputs": [],
   "source": [
    "%%skip $SKIP_RETRAIN_NN\n",
    "#Adding epoch column:\n",
    "hist['epoch'] = history_base.epoch\n",
    "# As you can see, we have the losses as well as mae for both training and CV data:\n",
    "hist.sample(3)"
   ]
  },
  {
   "cell_type": "code",
   "execution_count": 14,
   "metadata": {
    "colab": {
     "base_uri": "https://localhost:8080/"
    },
    "id": "qW7yDuQldiKd",
    "outputId": "2a530fbd-c90b-48aa-930a-20f826722592"
   },
   "outputs": [],
   "source": [
    "# Defining our function to see the evolution of error:\n",
    "def plot_learning_curves(history):\n",
    "  #We will omit the first 10 points for a better visualization:\n",
    "  plt.plot(history['epoch'],history['loss'], \"k--\", linewidth=1.5, label=\"Training\")\n",
    "  plt.plot(history['epoch'],history['val_loss'], \"b-.\", linewidth=1.5, label=\"Validation\")\n",
    "  plt.legend()\n",
    "  plt.yscale(\"log\")\n",
    "  plt.xlabel(\"Epochs\"),  plt.ylabel(\"Loss (MSE)\")"
   ]
  },
  {
   "cell_type": "code",
   "execution_count": 15,
   "metadata": {
    "colab": {
     "base_uri": "https://localhost:8080/",
     "height": 296
    },
    "id": "2VoMpChceA-8",
    "outputId": "ed11291b-62a2-468b-f749-c1e62639ccb4"
   },
   "outputs": [],
   "source": [
    "%%skip $SKIP_RETRAIN_NN\n",
    "# Plotting the results:\n",
    "# Remember that we defined our loss as MSE in the model.\n",
    "plot_learning_curves(hist)"
   ]
  },
  {
   "cell_type": "code",
   "execution_count": 16,
   "metadata": {},
   "outputs": [],
   "source": [
    "model_best = keras.models.load_model(\"my_best_NN_model.h5\")\n"
   ]
  },
  {
   "cell_type": "code",
   "execution_count": 17,
   "metadata": {},
   "outputs": [
    {
     "data": {
      "text/plain": [
       "[<matplotlib.lines.Line2D at 0x2120a6815b0>]"
      ]
     },
     "execution_count": 17,
     "metadata": {},
     "output_type": "execute_result"
    },
    {
     "data": {
      "image/png": "[encoded data removed]",
      "text/plain": [
       "<Figure size 432x288 with 1 Axes>"
      ]
     },
     "metadata": {
      "needs_background": "light"
     },
     "output_type": "display_data"
    }
   ],
   "source": [
    "# Calling trained model for predictions:\n",
    "Y_test_predictions = pd.Series(model_best.predict(data_x_test).flatten(),index=data_x_test.index)\n",
    "\n",
    "#Visualization of the accuracy:\n",
    "a = plt.axes(aspect='equal')\n",
    "plt.scatter(data_y_test, Y_test_predictions)\n",
    "plt.xlabel('True Load Values')\n",
    "plt.ylabel('Predicted Load')\n",
    "lims = [20000, 40000]\n",
    "plt.xlim(lims), plt.ylim(lims)\n",
    "plt.plot(lims, lims)\n"
   ]
  },
  {
   "cell_type": "code",
   "execution_count": 18,
   "metadata": {},
   "outputs": [
    {
     "data": {
      "text/plain": [
       "Text(0, 0.5, 'Count')"
      ]
     },
     "execution_count": 18,
     "metadata": {},
     "output_type": "execute_result"
    },
    {
     "data": {
      "image/png": "[encoded data removed]",
      "text/plain": [
       "<Figure size 432x288 with 1 Axes>"
      ]
     },
     "metadata": {
      "needs_background": "light"
     },
     "output_type": "display_data"
    }
   ],
   "source": [
    "# Calculating the error variations:\n",
    "error_nn = (Y_test_predictions - data_y_test)/data_y_test*100\n",
    "plt.hist(error_nn, bins=20)\n",
    "plt.xlabel('Predicted Relative % Error')\n",
    "plt.ylabel('Count')\n"
   ]
  },
  {
   "cell_type": "code",
   "execution_count": 19,
   "metadata": {},
   "outputs": [
    {
     "data": {
      "text/plain": [
       "0.04784980774463672"
      ]
     },
     "execution_count": 19,
     "metadata": {},
     "output_type": "execute_result"
    }
   ],
   "source": [
    "#Calculating the mean absolutepercentage error:\n",
    "abs_error_nn = abs(Y_test_predictions - data_y_test)/data_y_test*100\n",
    "np.average(error_nn)\n"
   ]
  },
  {
   "cell_type": "code",
   "execution_count": 20,
   "metadata": {},
   "outputs": [
    {
     "name": "stdout",
     "output_type": "stream",
     "text": [
      "R^2 score is  1.00\n"
     ]
    }
   ],
   "source": [
    "#Calculating R2 value:\n",
    "r2_test = r2_score(data_y_test, Y_test_predictions)\n",
    "print('R^2 score is  %3.2f' %r2_test)"
   ]
  },
  {
   "cell_type": "code",
   "execution_count": 21,
   "metadata": {},
   "outputs": [
    {
     "data": {
      "image/png": "[encoded data removed]",
      "text/plain": [
       "<Figure size 432x288 with 1 Axes>"
      ]
     },
     "metadata": {
      "needs_background": "light"
     },
     "output_type": "display_data"
    }
   ],
   "source": [
    "#Plotting the Figure: \n",
    "plt.figure();\n",
    "plt.plot(data_y_test, 'k.-');\n",
    "plt.plot(Y_test_predictions, 'x', alpha=0.70);\n",
    "\n",
    "plt.legend(['Actual',\n",
    "            'Predicted 1 hr ahead'\n",
    "            ]);\n",
    "plt.ylabel('Load');\n",
    "plt.xlabel('Time Index');\n",
    "plt.title('MLP');\n",
    "mpl.rcParams['figure.figsize'] = [12.0, 6.0]"
   ]
  },
  {
   "cell_type": "markdown",
   "metadata": {},
   "source": [
    "# RNN"
   ]
  },
  {
   "cell_type": "code",
   "execution_count": 22,
   "metadata": {},
   "outputs": [],
   "source": [
    "#Rescaling the data\n",
    "scaled_df = combined_df.copy(deep=True)\n",
    "featuresToScale = scaled_df.columns\n",
    "sX = pp.StandardScaler(copy=True)\n",
    "scaled_df.loc[:,featuresToScale] = sX.fit_transform(scaled_df[featuresToScale])"
   ]
  },
  {
   "cell_type": "code",
   "execution_count": 23,
   "metadata": {},
   "outputs": [],
   "source": [
    "train_start = '2015-01-01'\n",
    "validation_start = '2017-01-01'\n",
    "test_start = '2017-03-01'\n",
    "test_end = '2017-03-06'\n",
    "feature = 'total load actual'\n",
    "feature_df = combined_df[[feature]]\n",
    "data_x_train0,data_x_val0,data_x_test0,data_y_train0,data_y_val0,data_y_test0 = create_test_train_split(scaled_df,feature_df,train_start,test_start,test_end,validation_start=validation_start)\n"
   ]
  },
  {
   "cell_type": "code",
   "execution_count": 24,
   "metadata": {},
   "outputs": [
    {
     "data": {
      "text/plain": [
       "array([27070.])"
      ]
     },
     "execution_count": 24,
     "metadata": {},
     "output_type": "execute_result"
    }
   ],
   "source": [
    "feature_df.loc['2015-01-02 00:00:00'].to_numpy()"
   ]
  },
  {
   "cell_type": "code",
   "execution_count": 25,
   "metadata": {},
   "outputs": [],
   "source": [
    "\n",
    "def convert_to_rnn_train_test_split(data_x,data_y,n_inputs,n_outputs,batch_size):\n",
    "    remainder = len(data_y)%batch_size\n",
    "    first_date_index = data_y.index[0] \n",
    "    last_date_index = data_y.index[-1] - timedelta(hours = remainder)\n",
    "    date_index_range = pd.date_range(start=first_date_index,end=last_date_index,freq='H')\n",
    "\n",
    "    data_x = data_x[first_date_index:last_date_index].copy()\n",
    "    data_y = data_y[first_date_index:last_date_index].copy()\n",
    "    X,Y = list(), list()\n",
    "   \n",
    "    for idx in date_index_range[:-n_inputs]:\n",
    "        start = idx \n",
    "        end_x = idx + timedelta(hours=n_inputs-1)\n",
    "        end_y = idx + timedelta(hours=n_inputs)\n",
    "        X.append(data_x[start:end_x].to_numpy())\n",
    "        Y.append(data_y.loc[end_y].to_numpy())\n",
    "    \n",
    "    return np.array(X),np.array(Y), date_index_range[n_inputs:]\n",
    "\n"
   ]
  },
  {
   "cell_type": "code",
   "execution_count": 26,
   "metadata": {},
   "outputs": [],
   "source": [
    "data_x_train,data_y_train,idx_train = convert_to_rnn_train_test_split(data_x_train0,data_y_train0,24,1,32)\n",
    "data_x_test,data_y_test,idx_test = convert_to_rnn_train_test_split(data_x_test0,data_y_test0,24,1,32)\n",
    "data_x_val,data_y_val,idx_val = convert_to_rnn_train_test_split(data_x_val0,data_y_val0,24,1,32)\n"
   ]
  },
  {
   "cell_type": "code",
   "execution_count": 27,
   "metadata": {},
   "outputs": [
    {
     "name": "stdout",
     "output_type": "stream",
     "text": [
      "(17512, 24, 26) (17512, 1)\n",
      "(1384, 24, 26) (1384, 1)\n",
      "(72, 24, 26) (72, 1)\n"
     ]
    }
   ],
   "source": [
    "print(data_x_train.shape,data_y_train.shape)\n",
    "print(data_x_val.shape,data_y_val.shape)\n",
    "print(data_x_test.shape,data_y_test.shape)"
   ]
  },
  {
   "cell_type": "code",
   "execution_count": 28,
   "metadata": {},
   "outputs": [],
   "source": [
    "def build_model_RNN(data_x_train,data_y_train):\n",
    "      #Here we will use Sequential API\n",
    "  n_timesteps, n_features, n_outputs = data_x_train.shape[1], data_x_train.shape[2], data_y_train.shape[1]\n",
    "  model = models.Sequential([\n",
    "  # At the input layer; we can fix the input shape as n_timesteps.\n",
    "  # In this case, it expects fix sizes of time steps. If set to none, \n",
    "  #it can vary from instance to instance.\n",
    "  #-------------------\n",
    "  # Stateful network: you pass the states from the previous epoch to the current one.\n",
    "  # If you want a stateful network, you need to define the batch input shape instead of input shape.\n",
    "  # In this case, however, the shapes must be the same for each batch and you can make\n",
    "  #predictions with fixed sizes (same as batch size)\n",
    "  #For instance:\n",
    "  #If you prefer online training (batch=1), you can make predictions with size (1,none,n_features);\n",
    "  #If you prefer mini-batch training (batch=32), you can make predictions with size (32,none,n_features);\n",
    "  #-------------------\n",
    "  #Note: if return_sequences is false; you will only pass the last hidden state output. \n",
    "  layers.SimpleRNN(32, return_sequences=True,input_shape=(None, n_features), stateful=False), \n",
    "  layers.BatchNormalization(),\n",
    "  layers.SimpleRNN(32, return_sequences=True, stateful=False),\n",
    "  layers.BatchNormalization(),\n",
    "  layers.SimpleRNN(32, stateful=False),\n",
    "  layers.BatchNormalization(),\n",
    "  layers.Dense(n_outputs)                     \n",
    "  ])\n",
    "  model.compile(optimizer='Adam',loss='mse',metrics='mae') \n",
    "  return model"
   ]
  },
  {
   "cell_type": "code",
   "execution_count": 29,
   "metadata": {},
   "outputs": [],
   "source": [
    "#We will first create the object to feed fit() method:\n",
    "myCheckpointRNN= keras.callbacks.ModelCheckpoint(\"my_best_RNN_model.h5\", save_best_only=True)"
   ]
  },
  {
   "cell_type": "code",
   "execution_count": 30,
   "metadata": {},
   "outputs": [],
   "source": [
    "#For its implementation:\n",
    "#https://keras.io/api/callbacks/early_stopping/\n",
    "# Here patience refers to the number of epochs with no improvement after which training will be stopped.\n",
    "myEarly_stoppingRNN = keras.callbacks.EarlyStopping(patience=10,restore_best_weights=True)"
   ]
  },
  {
   "cell_type": "code",
   "execution_count": 31,
   "metadata": {},
   "outputs": [],
   "source": [
    "#Model Training\n",
    "#--------------------------------------------------------------------------\n",
    "#Hyperparameters\n",
    "num_epochs = 150\n",
    "batch_size = 32"
   ]
  },
  {
   "cell_type": "code",
   "execution_count": 34,
   "metadata": {},
   "outputs": [
    {
     "name": "stdout",
     "output_type": "stream",
     "text": [
      "Epoch 1/150\n",
      "548/548 [==============================] - 43s 75ms/step - loss: 828868160.0000 - mae: 28433.2598 - val_loss: 906051520.0000 - val_mae: 29690.2598\n",
      "Epoch 2/150\n",
      "548/548 [==============================] - 41s 75ms/step - loss: 825603392.0000 - mae: 28386.8789 - val_loss: 899555648.0000 - val_mae: 29596.1582\n",
      "Epoch 3/150\n",
      "548/548 [==============================] - 36s 66ms/step - loss: 819662016.0000 - mae: 28298.9082 - val_loss: 889848256.0000 - val_mae: 29458.0645\n",
      "Epoch 4/150\n",
      "548/548 [==============================] - 34s 62ms/step - loss: 811493504.0000 - mae: 28175.6172 - val_loss: 878619008.0000 - val_mae: 29291.5957\n",
      "Epoch 5/150\n",
      "548/548 [==============================] - 35s 63ms/step - loss: 801469504.0000 - mae: 28021.6953 - val_loss: 862559424.0000 - val_mae: 29042.6328\n",
      "Epoch 6/150\n",
      "548/548 [==============================] - 37s 68ms/step - loss: 789862400.0000 - mae: 27840.5176 - val_loss: 847604864.0000 - val_mae: 28815.1797\n",
      "Epoch 7/150\n",
      "548/548 [==============================] - 36s 65ms/step - loss: 776939968.0000 - mae: 27634.6836 - val_loss: 834215808.0000 - val_mae: 28612.0234\n",
      "Epoch 8/150\n",
      "548/548 [==============================] - 37s 67ms/step - loss: 762732608.0000 - mae: 27405.7656 - val_loss: 809744064.0000 - val_mae: 28230.1016\n",
      "Epoch 9/150\n",
      "548/548 [==============================] - 35s 63ms/step - loss: 747449984.0000 - mae: 27154.6504 - val_loss: 789953920.0000 - val_mae: 27902.6367\n",
      "Epoch 10/150\n",
      "548/548 [==============================] - 36s 66ms/step - loss: 731157888.0000 - mae: 26882.2246 - val_loss: 767609216.0000 - val_mae: 27540.5781\n",
      "Epoch 11/150\n",
      "548/548 [==============================] - 37s 67ms/step - loss: 714091200.0000 - mae: 26589.4766 - val_loss: 749209664.0000 - val_mae: 27231.1738\n",
      "Epoch 12/150\n",
      "548/548 [==============================] - 36s 66ms/step - loss: 696212096.0000 - mae: 26276.6211 - val_loss: 720577216.0000 - val_mae: 26730.8574\n",
      "Epoch 13/150\n",
      "548/548 [==============================] - 36s 66ms/step - loss: 677603840.0000 - mae: 25944.0020 - val_loss: 698572352.0000 - val_mae: 26345.5703\n",
      "Epoch 14/150\n",
      "548/548 [==============================] - 39s 71ms/step - loss: 658395392.0000 - mae: 25592.1660 - val_loss: 668450112.0000 - val_mae: 25794.3984\n",
      "Epoch 15/150\n",
      "548/548 [==============================] - 39s 71ms/step - loss: 638725376.0000 - mae: 25220.2246 - val_loss: 647592320.0000 - val_mae: 25402.5176\n",
      "Epoch 16/150\n",
      "548/548 [==============================] - 38s 69ms/step - loss: 618553152.0000 - mae: 24830.8887 - val_loss: 627962112.0000 - val_mae: 25026.0312\n",
      "Epoch 17/150\n",
      "548/548 [==============================] - 38s 69ms/step - loss: 598002816.0000 - mae: 24421.7129 - val_loss: 596327104.0000 - val_mae: 24399.1328\n",
      "Epoch 18/150\n",
      "548/548 [==============================] - 37s 67ms/step - loss: 577019392.0000 - mae: 23994.3770 - val_loss: 576969536.0000 - val_mae: 24004.9141\n",
      "Epoch 19/150\n",
      "548/548 [==============================] - 34s 61ms/step - loss: 555749120.0000 - mae: 23548.0352 - val_loss: 548246080.0000 - val_mae: 23402.0645\n",
      "Epoch 20/150\n",
      "548/548 [==============================] - 37s 67ms/step - loss: 534053920.0000 - mae: 23082.0039 - val_loss: 529472768.0000 - val_mae: 22998.0977\n",
      "Epoch 21/150\n",
      "548/548 [==============================] - 36s 65ms/step - loss: 511802752.0000 - mae: 22597.9023 - val_loss: 516300928.0000 - val_mae: 22711.2988\n",
      "Epoch 22/150\n",
      "548/548 [==============================] - 36s 66ms/step - loss: 489220544.0000 - mae: 22093.7598 - val_loss: 492364192.0000 - val_mae: 22173.6309\n",
      "Epoch 23/150\n",
      "548/548 [==============================] - 35s 64ms/step - loss: 466535392.0000 - mae: 21571.5195 - val_loss: 468701856.0000 - val_mae: 21636.0078\n",
      "Epoch 24/150\n",
      "548/548 [==============================] - 35s 64ms/step - loss: 443375424.0000 - mae: 21031.5859 - val_loss: 440395296.0000 - val_mae: 20972.8496\n",
      "Epoch 25/150\n",
      "548/548 [==============================] - 37s 68ms/step - loss: 420279296.0000 - mae: 20474.3691 - val_loss: 414953504.0000 - val_mae: 20358.6113\n",
      "Epoch 26/150\n",
      "548/548 [==============================] - 35s 64ms/step - loss: 397079680.0000 - mae: 19900.0996 - val_loss: 395214144.0000 - val_mae: 19867.0293\n",
      "Epoch 27/150\n",
      "548/548 [==============================] - 37s 67ms/step - loss: 373875328.0000 - mae: 19308.9570 - val_loss: 367156928.0000 - val_mae: 19148.0762\n",
      "Epoch 28/150\n",
      "548/548 [==============================] - 35s 63ms/step - loss: 350813984.0000 - mae: 18700.8301 - val_loss: 342602912.0000 - val_mae: 18497.5977\n",
      "Epoch 29/150\n",
      "548/548 [==============================] - 38s 69ms/step - loss: 327771648.0000 - mae: 18077.5410 - val_loss: 325790368.0000 - val_mae: 18036.7852\n",
      "Epoch 30/150\n",
      "548/548 [==============================] - 37s 68ms/step - loss: 305029824.0000 - mae: 17437.1465 - val_loss: 296439264.0000 - val_mae: 17201.2734\n",
      "Epoch 31/150\n",
      "548/548 [==============================] - 37s 68ms/step - loss: 282687008.0000 - mae: 16781.9395 - val_loss: 280799648.0000 - val_mae: 16742.3750\n",
      "Epoch 32/150\n",
      "548/548 [==============================] - 37s 68ms/step - loss: 260619872.0000 - mae: 16111.8193 - val_loss: 252646752.0000 - val_mae: 15880.9404\n",
      "Epoch 33/150\n",
      "548/548 [==============================] - 38s 69ms/step - loss: 239036400.0000 - mae: 15428.4658 - val_loss: 229719040.0000 - val_mae: 15141.5088\n",
      "Epoch 34/150\n",
      "548/548 [==============================] - 37s 68ms/step - loss: 217979312.0000 - mae: 14729.7227 - val_loss: 210831232.0000 - val_mae: 14505.1152\n",
      "Epoch 35/150\n",
      "548/548 [==============================] - 39s 71ms/step - loss: 197468720.0000 - mae: 14018.2256 - val_loss: 190846848.0000 - val_mae: 13800.1953\n",
      "Epoch 36/150\n",
      "548/548 [==============================] - 38s 70ms/step - loss: 177665792.0000 - mae: 13294.6143 - val_loss: 168537280.0000 - val_mae: 12965.7266\n",
      "Epoch 37/150\n",
      "548/548 [==============================] - 39s 70ms/step - loss: 158762256.0000 - mae: 12558.2422 - val_loss: 151302592.0000 - val_mae: 12284.6455\n",
      "Epoch 38/150\n",
      "548/548 [==============================] - 36s 67ms/step - loss: 140518496.0000 - mae: 11813.1357 - val_loss: 136984256.0000 - val_mae: 11683.8633\n",
      "Epoch 39/150\n",
      "548/548 [==============================] - 35s 65ms/step - loss: 123280680.0000 - mae: 11057.1572 - val_loss: 116531072.0000 - val_mae: 10776.4951\n",
      "Epoch 40/150\n",
      "548/548 [==============================] - 36s 65ms/step - loss: 106876816.0000 - mae: 10292.4697 - val_loss: 102010264.0000 - val_mae: 10081.0674\n",
      "Epoch 41/150\n",
      "548/548 [==============================] - 38s 69ms/step - loss: 91671312.0000 - mae: 9520.9277 - val_loss: 86992680.0000 - val_mae: 9303.4951\n",
      "Epoch 42/150\n",
      "548/548 [==============================] - 39s 72ms/step - loss: 77455272.0000 - mae: 8744.2451 - val_loss: 73674424.0000 - val_mae: 8558.9219\n",
      "Epoch 43/150\n",
      "548/548 [==============================] - 38s 70ms/step - loss: 64470844.0000 - mae: 7965.1523 - val_loss: 59785180.0000 - val_mae: 7708.5146\n",
      "Epoch 44/150\n",
      "548/548 [==============================] - 28s 51ms/step - loss: 52592760.0000 - mae: 7185.3960 - val_loss: 49205408.0000 - val_mae: 6987.8267\n",
      "Epoch 45/150\n",
      "548/548 [==============================] - 28s 50ms/step - loss: 41977488.0000 - mae: 6407.3062 - val_loss: 37883528.0000 - val_mae: 6124.6582\n",
      "Epoch 46/150\n",
      "548/548 [==============================] - 27s 50ms/step - loss: 32689414.0000 - mae: 5639.1094 - val_loss: 29118976.0000 - val_mae: 5362.2349\n",
      "Epoch 47/150\n",
      "548/548 [==============================] - 25s 46ms/step - loss: 24763430.0000 - mae: 4876.4492 - val_loss: 20941148.0000 - val_mae: 4535.9551\n",
      "Epoch 48/150\n",
      "548/548 [==============================] - 26s 47ms/step - loss: 18135882.0000 - mae: 4136.7114 - val_loss: 16674584.0000 - val_mae: 4009.5740\n",
      "Epoch 49/150\n",
      "548/548 [==============================] - 26s 47ms/step - loss: 12716264.0000 - mae: 3420.4941 - val_loss: 11099479.0000 - val_mae: 3274.9856\n",
      "Epoch 50/150\n",
      "548/548 [==============================] - 25s 45ms/step - loss: 8406531.0000 - mae: 2745.1003 - val_loss: 6117406.0000 - val_mae: 2399.8152\n",
      "Epoch 51/150\n",
      "548/548 [==============================] - 25s 46ms/step - loss: 5454752.5000 - mae: 2121.7993 - val_loss: 4272906.0000 - val_mae: 1987.2688\n",
      "Epoch 52/150\n",
      "548/548 [==============================] - 26s 47ms/step - loss: 3288317.7500 - mae: 1584.0599 - val_loss: 2334618.0000 - val_mae: 1425.3436\n",
      "Epoch 53/150\n",
      "548/548 [==============================] - 25s 46ms/step - loss: 2024078.6250 - mae: 1166.6432 - val_loss: 1084637.2500 - val_mae: 882.8490\n",
      "Epoch 54/150\n",
      "548/548 [==============================] - 25s 45ms/step - loss: 1362126.1250 - mae: 919.1565 - val_loss: 736911.3750 - val_mae: 694.5812\n",
      "Epoch 55/150\n",
      "548/548 [==============================] - 25s 45ms/step - loss: 1017910.9375 - mae: 792.4491 - val_loss: 386892.5625 - val_mae: 433.8571\n",
      "Epoch 56/150\n",
      "548/548 [==============================] - 25s 45ms/step - loss: 983321.5000 - mae: 770.7769 - val_loss: 406793.4688 - val_mae: 455.8143\n",
      "Epoch 57/150\n",
      "548/548 [==============================] - 25s 46ms/step - loss: 881862.3750 - mae: 737.5253 - val_loss: 377874.1875 - val_mae: 412.8527\n",
      "Epoch 58/150\n",
      "548/548 [==============================] - 26s 47ms/step - loss: 815428.2500 - mae: 705.7759 - val_loss: 344232.0312 - val_mae: 402.4953\n",
      "Epoch 59/150\n",
      "548/548 [==============================] - 25s 45ms/step - loss: 864840.1875 - mae: 720.1393 - val_loss: 372269.2188 - val_mae: 429.8522\n",
      "Epoch 60/150\n",
      "548/548 [==============================] - 24s 44ms/step - loss: 869602.0000 - mae: 725.6993 - val_loss: 349809.3125 - val_mae: 398.2980\n",
      "Epoch 61/150\n",
      "548/548 [==============================] - 26s 47ms/step - loss: 860019.0625 - mae: 727.8559 - val_loss: 397941.4062 - val_mae: 447.3084\n",
      "Epoch 62/150\n",
      "548/548 [==============================] - 25s 46ms/step - loss: 930177.3750 - mae: 749.8373 - val_loss: 358153.2812 - val_mae: 411.8022\n",
      "Epoch 63/150\n",
      "548/548 [==============================] - 26s 47ms/step - loss: 868014.3750 - mae: 728.7646 - val_loss: 425985.7500 - val_mae: 466.4204\n",
      "Epoch 64/150\n",
      "548/548 [==============================] - 26s 47ms/step - loss: 835419.6250 - mae: 709.7620 - val_loss: 367017.9375 - val_mae: 410.4569\n",
      "Epoch 65/150\n",
      "548/548 [==============================] - 26s 48ms/step - loss: 861723.4375 - mae: 724.6684 - val_loss: 360400.0312 - val_mae: 415.2379\n",
      "Epoch 66/150\n",
      "548/548 [==============================] - 25s 46ms/step - loss: 866038.8750 - mae: 723.6952 - val_loss: 340656.4375 - val_mae: 402.6064\n",
      "Epoch 67/150\n",
      "548/548 [==============================] - 26s 47ms/step - loss: 799190.5625 - mae: 702.2117 - val_loss: 351673.4062 - val_mae: 407.9756\n",
      "Epoch 68/150\n",
      "548/548 [==============================] - 25s 46ms/step - loss: 870645.8125 - mae: 731.5681 - val_loss: 324021.1875 - val_mae: 380.5093\n",
      "Epoch 69/150\n",
      "548/548 [==============================] - 26s 48ms/step - loss: 830571.3125 - mae: 706.9635 - val_loss: 358070.9688 - val_mae: 416.2711\n",
      "Epoch 70/150\n",
      "548/548 [==============================] - 25s 46ms/step - loss: 878899.8750 - mae: 740.5253 - val_loss: 406380.9375 - val_mae: 426.4590\n",
      "Epoch 71/150\n",
      "548/548 [==============================] - 25s 46ms/step - loss: 853259.2500 - mae: 717.4360 - val_loss: 405697.8125 - val_mae: 425.1213\n",
      "Epoch 72/150\n",
      "548/548 [==============================] - 25s 46ms/step - loss: 949976.7500 - mae: 772.6848 - val_loss: 388362.5312 - val_mae: 424.9798\n",
      "Epoch 73/150\n",
      "548/548 [==============================] - 25s 45ms/step - loss: 873329.6875 - mae: 727.8653 - val_loss: 421119.5938 - val_mae: 447.5110\n",
      "Epoch 74/150\n",
      "548/548 [==============================] - 25s 46ms/step - loss: 815431.4375 - mae: 699.0698 - val_loss: 368177.0625 - val_mae: 420.7314\n",
      "Epoch 75/150\n",
      "548/548 [==============================] - 25s 46ms/step - loss: 822805.3750 - mae: 705.6843 - val_loss: 346596.6875 - val_mae: 390.6415\n",
      "Epoch 76/150\n",
      "548/548 [==============================] - 28s 52ms/step - loss: 861834.3125 - mae: 726.7173 - val_loss: 367131.8125 - val_mae: 398.1829\n",
      "Epoch 77/150\n",
      "548/548 [==============================] - 35s 63ms/step - loss: 867385.6250 - mae: 729.9904 - val_loss: 323355.6875 - val_mae: 373.0253\n",
      "Epoch 78/150\n",
      "548/548 [==============================] - 39s 71ms/step - loss: 851479.8750 - mae: 721.1021 - val_loss: 383367.9062 - val_mae: 417.5135\n",
      "Epoch 79/150\n",
      "548/548 [==============================] - 39s 72ms/step - loss: 899450.8125 - mae: 743.5262 - val_loss: 360445.1562 - val_mae: 402.8469\n",
      "Epoch 80/150\n",
      "548/548 [==============================] - 39s 70ms/step - loss: 891386.0625 - mae: 740.9268 - val_loss: 361417.0312 - val_mae: 397.4295\n",
      "Epoch 81/150\n",
      "548/548 [==============================] - 39s 71ms/step - loss: 820011.1250 - mae: 716.9617 - val_loss: 376790.2188 - val_mae: 420.1544\n",
      "Epoch 82/150\n",
      "548/548 [==============================] - 37s 68ms/step - loss: 858271.3125 - mae: 734.3867 - val_loss: 406272.7812 - val_mae: 437.0055\n",
      "Epoch 83/150\n",
      "548/548 [==============================] - 33s 61ms/step - loss: 815532.5625 - mae: 716.3790 - val_loss: 335746.0625 - val_mae: 392.8166\n",
      "Epoch 84/150\n",
      "548/548 [==============================] - 29s 53ms/step - loss: 881352.6250 - mae: 742.8391 - val_loss: 418777.9062 - val_mae: 433.1676\n",
      "Epoch 85/150\n",
      "548/548 [==============================] - 28s 51ms/step - loss: 812294.6250 - mae: 707.3176 - val_loss: 379632.6562 - val_mae: 417.1026\n",
      "Epoch 86/150\n",
      "548/548 [==============================] - 28s 52ms/step - loss: 862392.6875 - mae: 735.0914 - val_loss: 334560.7188 - val_mae: 394.8988\n",
      "Epoch 87/150\n",
      "548/548 [==============================] - 26s 47ms/step - loss: 845019.0625 - mae: 717.9570 - val_loss: 392631.3125 - val_mae: 437.8894\n",
      "Epoch 88/150\n",
      "548/548 [==============================] - 26s 47ms/step - loss: 910494.1875 - mae: 746.4828 - val_loss: 387282.0312 - val_mae: 429.9252\n",
      "Epoch 89/150\n",
      "548/548 [==============================] - 26s 48ms/step - loss: 895661.6250 - mae: 749.4651 - val_loss: 394222.3750 - val_mae: 450.6784\n",
      "Epoch 90/150\n",
      "548/548 [==============================] - 26s 47ms/step - loss: 785151.5625 - mae: 695.7305 - val_loss: 450095.5312 - val_mae: 449.8217\n",
      "Epoch 91/150\n",
      "548/548 [==============================] - 27s 48ms/step - loss: 838331.3125 - mae: 720.5640 - val_loss: 379517.2188 - val_mae: 413.8937\n",
      "Epoch 92/150\n",
      "548/548 [==============================] - 26s 48ms/step - loss: 736700.3125 - mae: 678.8055 - val_loss: 387977.5625 - val_mae: 430.8298\n",
      "Epoch 93/150\n",
      "548/548 [==============================] - 26s 48ms/step - loss: 806668.6875 - mae: 698.9625 - val_loss: 418642.1250 - val_mae: 458.8823\n",
      "Epoch 94/150\n",
      "548/548 [==============================] - 26s 47ms/step - loss: 834967.1250 - mae: 715.3973 - val_loss: 361549.9375 - val_mae: 413.5660\n",
      "Epoch 95/150\n",
      "548/548 [==============================] - 26s 47ms/step - loss: 813816.1250 - mae: 709.3558 - val_loss: 365534.3438 - val_mae: 406.8018\n",
      "Epoch 96/150\n",
      "548/548 [==============================] - 26s 48ms/step - loss: 823592.4375 - mae: 713.3932 - val_loss: 338282.0000 - val_mae: 389.5706\n",
      "Epoch 97/150\n",
      "548/548 [==============================] - 26s 47ms/step - loss: 824613.2500 - mae: 717.3369 - val_loss: 329687.8438 - val_mae: 378.2162\n"
     ]
    }
   ],
   "source": [
    "%%skip $SKIP_RETRAIN_RNN\n",
    "# Model Training:\n",
    "#-----------------------------------------------------------------------------\n",
    "#Building the Keras models:\n",
    "model_rnn = build_model_RNN(data_x_train,data_y_train)\n",
    "\n",
    "#Training step: Trains the model in silent mode (verbose = 0)\n",
    "history_rnn = model_rnn.fit(data_x_train, data_y_train, epochs=num_epochs, batch_size=batch_size, validation_data=(data_x_val, data_y_val) , \n",
    "                                 callbacks=[myCheckpointRNN,myEarly_stoppingRNN])#, verbose=0)\n",
    "\n"
   ]
  },
  {
   "cell_type": "code",
   "execution_count": 35,
   "metadata": {},
   "outputs": [
    {
     "name": "stdout",
     "output_type": "stream",
     "text": [
      "Model: \"sequential_1\"\n",
      "_________________________________________________________________\n",
      "Layer (type)                 Output Shape              Param #   \n",
      "=================================================================\n",
      "simple_rnn (SimpleRNN)       (None, None, 32)          1888      \n",
      "_________________________________________________________________\n",
      "batch_normalization_2 (Batch (None, None, 32)          128       \n",
      "_________________________________________________________________\n",
      "simple_rnn_1 (SimpleRNN)     (None, None, 32)          2080      \n",
      "_________________________________________________________________\n",
      "batch_normalization_3 (Batch (None, None, 32)          128       \n",
      "_________________________________________________________________\n",
      "simple_rnn_2 (SimpleRNN)     (None, 32)                2080      \n",
      "_________________________________________________________________\n",
      "batch_normalization_4 (Batch (None, 32)                128       \n",
      "_________________________________________________________________\n",
      "dense_3 (Dense)              (None, 1)                 33        \n",
      "=================================================================\n",
      "Total params: 6,465\n",
      "Trainable params: 6,273\n",
      "Non-trainable params: 192\n",
      "_________________________________________________________________\n"
     ]
    }
   ],
   "source": [
    "#Calling back the best model:\n",
    "model_best_RNN = keras.models.load_model(\"my_best_RNN_model.h5\")\n",
    "model_best_RNN.summary()"
   ]
  },
  {
   "cell_type": "code",
   "execution_count": 43,
   "metadata": {
    "colab": {
     "base_uri": "https://localhost:8080/",
     "height": 159
    },
    "id": "0f_FwfmlHyAl",
    "outputId": "080474a2-3f61-42ca-95ef-7bc23f76c853"
   },
   "outputs": [],
   "source": [
    "%%skip $SKIP_RETRAIN_RNN\n",
    "#Let's look into the history recorded:\n",
    "histRNN = pd.DataFrame(history_rnn.history)\n",
    "histRNN.sample(3)"
   ]
  },
  {
   "cell_type": "code",
   "execution_count": 44,
   "metadata": {
    "colab": {
     "base_uri": "https://localhost:8080/",
     "height": 159
    },
    "id": "f88fhosiHyAn",
    "outputId": "d8bc5b8d-8271-45cd-e420-81c09cbdcdcb"
   },
   "outputs": [],
   "source": [
    "%%skip $SKIP_RETRAIN_RNN\n",
    "#Adding epoch column:\n",
    "histRNN['epoch'] = history_rnn.epoch\n",
    "# As you can see, we have the losses as well as mae for both training and CV data:\n",
    "histRNN.sample(3)"
   ]
  },
  {
   "cell_type": "code",
   "execution_count": 45,
   "metadata": {
    "colab": {
     "base_uri": "https://localhost:8080/"
    },
    "id": "LaiYlGZmHyAp",
    "outputId": "35108595-6213-4922-9039-92cb0c9a2c49"
   },
   "outputs": [],
   "source": [
    "# Defining our function to see the evolution of error:\n",
    "def plot_learning_curves(history):\n",
    "  #We will omit the first 10 points for a better visualization:\n",
    "  plt.plot(history['epoch'],history['loss'], \"k--\", linewidth=1.5, label=\"Training\")\n",
    "  plt.plot(history['epoch'],history['val_loss'], \"b-.\", linewidth=1.5, label=\"Validation\")\n",
    "  plt.legend()\n",
    "  plt.yscale(\"log\")\n",
    "  plt.xlabel(\"Epochs\"),  plt.ylabel(\"Loss (MSE)\")"
   ]
  },
  {
   "cell_type": "code",
   "execution_count": 46,
   "metadata": {
    "colab": {
     "base_uri": "https://localhost:8080/",
     "height": 405
    },
    "id": "d2SviC32HyAr",
    "outputId": "512e600c-f7c8-46cd-9801-7387d6bf4f7f"
   },
   "outputs": [
    {
     "data": {
      "image/png": "[encoded data removed]",
      "text/plain": [
       "<Figure size 864x432 with 1 Axes>"
      ]
     },
     "metadata": {
      "needs_background": "light"
     },
     "output_type": "display_data"
    }
   ],
   "source": [
    "%%skip $SKIP_RETRAIN_RNN\n",
    "# Plotting the results:\n",
    "# Remember that we defined our loss as MSE in the model.\n",
    "plot_learning_curves(histRNN)"
   ]
  },
  {
   "cell_type": "code",
   "execution_count": 47,
   "metadata": {
    "colab": {
     "base_uri": "https://localhost:8080/"
    },
    "id": "9uYdwycxdrO0",
    "outputId": "a8fcc94c-f612-4f97-f5fa-e55b79b33234"
   },
   "outputs": [
    {
     "data": {
      "text/html": [
       "<div>\n",
       "<style scoped>\n",
       "    .dataframe tbody tr th:only-of-type {\n",
       "        vertical-align: middle;\n",
       "    }\n",
       "\n",
       "    .dataframe tbody tr th {\n",
       "        vertical-align: top;\n",
       "    }\n",
       "\n",
       "    .dataframe thead th {\n",
       "        text-align: right;\n",
       "    }\n",
       "</style>\n",
       "<table border=\"1\" class=\"dataframe\">\n",
       "  <thead>\n",
       "    <tr style=\"text-align: right;\">\n",
       "      <th></th>\n",
       "      <th>total load actual</th>\n",
       "    </tr>\n",
       "  </thead>\n",
       "  <tbody>\n",
       "    <tr>\n",
       "      <th>2017-03-02 00:00:00+01:00</th>\n",
       "      <td>27736.0</td>\n",
       "    </tr>\n",
       "    <tr>\n",
       "      <th>2017-03-02 01:00:00+01:00</th>\n",
       "      <td>25618.0</td>\n",
       "    </tr>\n",
       "    <tr>\n",
       "      <th>2017-03-02 02:00:00+01:00</th>\n",
       "      <td>24320.0</td>\n",
       "    </tr>\n",
       "    <tr>\n",
       "      <th>2017-03-02 03:00:00+01:00</th>\n",
       "      <td>23951.0</td>\n",
       "    </tr>\n",
       "    <tr>\n",
       "      <th>2017-03-02 04:00:00+01:00</th>\n",
       "      <td>23711.0</td>\n",
       "    </tr>\n",
       "    <tr>\n",
       "      <th>...</th>\n",
       "      <td>...</td>\n",
       "    </tr>\n",
       "    <tr>\n",
       "      <th>2017-03-04 19:00:00+01:00</th>\n",
       "      <td>28696.0</td>\n",
       "    </tr>\n",
       "    <tr>\n",
       "      <th>2017-03-04 20:00:00+01:00</th>\n",
       "      <td>30553.0</td>\n",
       "    </tr>\n",
       "    <tr>\n",
       "      <th>2017-03-04 21:00:00+01:00</th>\n",
       "      <td>32696.0</td>\n",
       "    </tr>\n",
       "    <tr>\n",
       "      <th>2017-03-04 22:00:00+01:00</th>\n",
       "      <td>30130.0</td>\n",
       "    </tr>\n",
       "    <tr>\n",
       "      <th>2017-03-04 23:00:00+01:00</th>\n",
       "      <td>27524.0</td>\n",
       "    </tr>\n",
       "  </tbody>\n",
       "</table>\n",
       "<p>72 rows × 1 columns</p>\n",
       "</div>"
      ],
      "text/plain": [
       "                           total load actual\n",
       "2017-03-02 00:00:00+01:00            27736.0\n",
       "2017-03-02 01:00:00+01:00            25618.0\n",
       "2017-03-02 02:00:00+01:00            24320.0\n",
       "2017-03-02 03:00:00+01:00            23951.0\n",
       "2017-03-02 04:00:00+01:00            23711.0\n",
       "...                                      ...\n",
       "2017-03-04 19:00:00+01:00            28696.0\n",
       "2017-03-04 20:00:00+01:00            30553.0\n",
       "2017-03-04 21:00:00+01:00            32696.0\n",
       "2017-03-04 22:00:00+01:00            30130.0\n",
       "2017-03-04 23:00:00+01:00            27524.0\n",
       "\n",
       "[72 rows x 1 columns]"
      ]
     },
     "execution_count": 47,
     "metadata": {},
     "output_type": "execute_result"
    }
   ],
   "source": [
    "#Label and indices:\n",
    "#Since we have shifted the data by 4 width windows, initial label DF is to be filtered.\n",
    "y_test_filtered = data_y_test0.loc[idx_test]\n",
    "y_test_filtered"
   ]
  },
  {
   "cell_type": "code",
   "execution_count": 50,
   "metadata": {
    "colab": {
     "base_uri": "https://localhost:8080/",
     "height": 426
    },
    "id": "5X3Hs_GtHyAs",
    "outputId": "7281486a-4a6c-492c-e48f-37fa6e7d7c25"
   },
   "outputs": [
    {
     "name": "stdout",
     "output_type": "stream",
     "text": [
      "(72, 24, 26)\n"
     ]
    },
    {
     "data": {
      "text/plain": [
       "[<matplotlib.lines.Line2D at 0x213bda26760>]"
      ]
     },
     "execution_count": 50,
     "metadata": {},
     "output_type": "execute_result"
    },
    {
     "data": {
      "image/png": "[encoded data removed]",
      "text/plain": [
       "<Figure size 864x432 with 1 Axes>"
      ]
     },
     "metadata": {
      "needs_background": "light"
     },
     "output_type": "display_data"
    }
   ],
   "source": [
    "# Calling trained model for predictions:\n",
    "print(data_x_test.shape)\n",
    "Y_test_predictions = pd.Series(model_best_RNN.predict(data_x_test).flatten(),index=y_test_filtered.index)\n",
    "#Visualization of the accuracy:\n",
    "a = plt.axes(aspect='equal')\n",
    "plt.scatter(y_test_filtered, Y_test_predictions)\n",
    "plt.xlabel('True Pressure Values')\n",
    "plt.ylabel('Predicted Pressures')\n",
    "lims = [20000, 40000]\n",
    "plt.xlim(lims), plt.ylim(lims)\n",
    "plt.plot(lims, lims)"
   ]
  },
  {
   "cell_type": "code",
   "execution_count": 63,
   "metadata": {
    "colab": {
     "base_uri": "https://localhost:8080/",
     "height": 422
    },
    "id": "olr-44nOHyAt",
    "outputId": "ac65b698-1f77-4a62-87cf-c99f30d4d246"
   },
   "outputs": [
    {
     "name": "stdout",
     "output_type": "stream",
     "text": [
      "                           2017-03-02 00:00:00+01:00  \\\n",
      "2017-03-02 00:00:00+01:00                        NaN   \n",
      "2017-03-02 01:00:00+01:00                        NaN   \n",
      "2017-03-02 02:00:00+01:00                        NaN   \n",
      "2017-03-02 03:00:00+01:00                        NaN   \n",
      "2017-03-02 04:00:00+01:00                        NaN   \n",
      "...                                              ...   \n",
      "2017-03-04 19:00:00+01:00                        NaN   \n",
      "2017-03-04 20:00:00+01:00                        NaN   \n",
      "2017-03-04 21:00:00+01:00                        NaN   \n",
      "2017-03-04 22:00:00+01:00                        NaN   \n",
      "2017-03-04 23:00:00+01:00                        NaN   \n",
      "\n",
      "                           2017-03-02 01:00:00+01:00  \\\n",
      "2017-03-02 00:00:00+01:00                        NaN   \n",
      "2017-03-02 01:00:00+01:00                        NaN   \n",
      "2017-03-02 02:00:00+01:00                        NaN   \n",
      "2017-03-02 03:00:00+01:00                        NaN   \n",
      "2017-03-02 04:00:00+01:00                        NaN   \n",
      "...                                              ...   \n",
      "2017-03-04 19:00:00+01:00                        NaN   \n",
      "2017-03-04 20:00:00+01:00                        NaN   \n",
      "2017-03-04 21:00:00+01:00                        NaN   \n",
      "2017-03-04 22:00:00+01:00                        NaN   \n",
      "2017-03-04 23:00:00+01:00                        NaN   \n",
      "\n",
      "                           2017-03-02 02:00:00+01:00  \\\n",
      "2017-03-02 00:00:00+01:00                        NaN   \n",
      "2017-03-02 01:00:00+01:00                        NaN   \n",
      "2017-03-02 02:00:00+01:00                        NaN   \n",
      "2017-03-02 03:00:00+01:00                        NaN   \n",
      "2017-03-02 04:00:00+01:00                        NaN   \n",
      "...                                              ...   \n",
      "2017-03-04 19:00:00+01:00                        NaN   \n",
      "2017-03-04 20:00:00+01:00                        NaN   \n",
      "2017-03-04 21:00:00+01:00                        NaN   \n",
      "2017-03-04 22:00:00+01:00                        NaN   \n",
      "2017-03-04 23:00:00+01:00                        NaN   \n",
      "\n",
      "                           2017-03-02 03:00:00+01:00  \\\n",
      "2017-03-02 00:00:00+01:00                        NaN   \n",
      "2017-03-02 01:00:00+01:00                        NaN   \n",
      "2017-03-02 02:00:00+01:00                        NaN   \n",
      "2017-03-02 03:00:00+01:00                        NaN   \n",
      "2017-03-02 04:00:00+01:00                        NaN   \n",
      "...                                              ...   \n",
      "2017-03-04 19:00:00+01:00                        NaN   \n",
      "2017-03-04 20:00:00+01:00                        NaN   \n",
      "2017-03-04 21:00:00+01:00                        NaN   \n",
      "2017-03-04 22:00:00+01:00                        NaN   \n",
      "2017-03-04 23:00:00+01:00                        NaN   \n",
      "\n",
      "                           2017-03-02 04:00:00+01:00  \\\n",
      "2017-03-02 00:00:00+01:00                        NaN   \n",
      "2017-03-02 01:00:00+01:00                        NaN   \n",
      "2017-03-02 02:00:00+01:00                        NaN   \n",
      "2017-03-02 03:00:00+01:00                        NaN   \n",
      "2017-03-02 04:00:00+01:00                        NaN   \n",
      "...                                              ...   \n",
      "2017-03-04 19:00:00+01:00                        NaN   \n",
      "2017-03-04 20:00:00+01:00                        NaN   \n",
      "2017-03-04 21:00:00+01:00                        NaN   \n",
      "2017-03-04 22:00:00+01:00                        NaN   \n",
      "2017-03-04 23:00:00+01:00                        NaN   \n",
      "\n",
      "                           2017-03-02 05:00:00+01:00  \\\n",
      "2017-03-02 00:00:00+01:00                        NaN   \n",
      "2017-03-02 01:00:00+01:00                        NaN   \n",
      "2017-03-02 02:00:00+01:00                        NaN   \n",
      "2017-03-02 03:00:00+01:00                        NaN   \n",
      "2017-03-02 04:00:00+01:00                        NaN   \n",
      "...                                              ...   \n",
      "2017-03-04 19:00:00+01:00                        NaN   \n",
      "2017-03-04 20:00:00+01:00                        NaN   \n",
      "2017-03-04 21:00:00+01:00                        NaN   \n",
      "2017-03-04 22:00:00+01:00                        NaN   \n",
      "2017-03-04 23:00:00+01:00                        NaN   \n",
      "\n",
      "                           2017-03-02 06:00:00+01:00  \\\n",
      "2017-03-02 00:00:00+01:00                        NaN   \n",
      "2017-03-02 01:00:00+01:00                        NaN   \n",
      "2017-03-02 02:00:00+01:00                        NaN   \n",
      "2017-03-02 03:00:00+01:00                        NaN   \n",
      "2017-03-02 04:00:00+01:00                        NaN   \n",
      "...                                              ...   \n",
      "2017-03-04 19:00:00+01:00                        NaN   \n",
      "2017-03-04 20:00:00+01:00                        NaN   \n",
      "2017-03-04 21:00:00+01:00                        NaN   \n",
      "2017-03-04 22:00:00+01:00                        NaN   \n",
      "2017-03-04 23:00:00+01:00                        NaN   \n",
      "\n",
      "                           2017-03-02 07:00:00+01:00  \\\n",
      "2017-03-02 00:00:00+01:00                        NaN   \n",
      "2017-03-02 01:00:00+01:00                        NaN   \n",
      "2017-03-02 02:00:00+01:00                        NaN   \n",
      "2017-03-02 03:00:00+01:00                        NaN   \n",
      "2017-03-02 04:00:00+01:00                        NaN   \n",
      "...                                              ...   \n",
      "2017-03-04 19:00:00+01:00                        NaN   \n",
      "2017-03-04 20:00:00+01:00                        NaN   \n",
      "2017-03-04 21:00:00+01:00                        NaN   \n",
      "2017-03-04 22:00:00+01:00                        NaN   \n",
      "2017-03-04 23:00:00+01:00                        NaN   \n",
      "\n",
      "                           2017-03-02 08:00:00+01:00  \\\n",
      "2017-03-02 00:00:00+01:00                        NaN   \n",
      "2017-03-02 01:00:00+01:00                        NaN   \n",
      "2017-03-02 02:00:00+01:00                        NaN   \n",
      "2017-03-02 03:00:00+01:00                        NaN   \n",
      "2017-03-02 04:00:00+01:00                        NaN   \n",
      "...                                              ...   \n",
      "2017-03-04 19:00:00+01:00                        NaN   \n",
      "2017-03-04 20:00:00+01:00                        NaN   \n",
      "2017-03-04 21:00:00+01:00                        NaN   \n",
      "2017-03-04 22:00:00+01:00                        NaN   \n",
      "2017-03-04 23:00:00+01:00                        NaN   \n",
      "\n",
      "                           2017-03-02 09:00:00+01:00  ...  \\\n",
      "2017-03-02 00:00:00+01:00                        NaN  ...   \n",
      "2017-03-02 01:00:00+01:00                        NaN  ...   \n",
      "2017-03-02 02:00:00+01:00                        NaN  ...   \n",
      "2017-03-02 03:00:00+01:00                        NaN  ...   \n",
      "2017-03-02 04:00:00+01:00                        NaN  ...   \n",
      "...                                              ...  ...   \n",
      "2017-03-04 19:00:00+01:00                        NaN  ...   \n",
      "2017-03-04 20:00:00+01:00                        NaN  ...   \n",
      "2017-03-04 21:00:00+01:00                        NaN  ...   \n",
      "2017-03-04 22:00:00+01:00                        NaN  ...   \n",
      "2017-03-04 23:00:00+01:00                        NaN  ...   \n",
      "\n",
      "                           2017-03-04 15:00:00+01:00  \\\n",
      "2017-03-02 00:00:00+01:00                        NaN   \n",
      "2017-03-02 01:00:00+01:00                        NaN   \n",
      "2017-03-02 02:00:00+01:00                        NaN   \n",
      "2017-03-02 03:00:00+01:00                        NaN   \n",
      "2017-03-02 04:00:00+01:00                        NaN   \n",
      "...                                              ...   \n",
      "2017-03-04 19:00:00+01:00                        NaN   \n",
      "2017-03-04 20:00:00+01:00                        NaN   \n",
      "2017-03-04 21:00:00+01:00                        NaN   \n",
      "2017-03-04 22:00:00+01:00                        NaN   \n",
      "2017-03-04 23:00:00+01:00                        NaN   \n",
      "\n",
      "                           2017-03-04 16:00:00+01:00  \\\n",
      "2017-03-02 00:00:00+01:00                        NaN   \n",
      "2017-03-02 01:00:00+01:00                        NaN   \n",
      "2017-03-02 02:00:00+01:00                        NaN   \n",
      "2017-03-02 03:00:00+01:00                        NaN   \n",
      "2017-03-02 04:00:00+01:00                        NaN   \n",
      "...                                              ...   \n",
      "2017-03-04 19:00:00+01:00                        NaN   \n",
      "2017-03-04 20:00:00+01:00                        NaN   \n",
      "2017-03-04 21:00:00+01:00                        NaN   \n",
      "2017-03-04 22:00:00+01:00                        NaN   \n",
      "2017-03-04 23:00:00+01:00                        NaN   \n",
      "\n",
      "                           2017-03-04 17:00:00+01:00  \\\n",
      "2017-03-02 00:00:00+01:00                        NaN   \n",
      "2017-03-02 01:00:00+01:00                        NaN   \n",
      "2017-03-02 02:00:00+01:00                        NaN   \n",
      "2017-03-02 03:00:00+01:00                        NaN   \n",
      "2017-03-02 04:00:00+01:00                        NaN   \n",
      "...                                              ...   \n",
      "2017-03-04 19:00:00+01:00                        NaN   \n",
      "2017-03-04 20:00:00+01:00                        NaN   \n",
      "2017-03-04 21:00:00+01:00                        NaN   \n",
      "2017-03-04 22:00:00+01:00                        NaN   \n",
      "2017-03-04 23:00:00+01:00                        NaN   \n",
      "\n",
      "                           2017-03-04 18:00:00+01:00  \\\n",
      "2017-03-02 00:00:00+01:00                        NaN   \n",
      "2017-03-02 01:00:00+01:00                        NaN   \n",
      "2017-03-02 02:00:00+01:00                        NaN   \n",
      "2017-03-02 03:00:00+01:00                        NaN   \n",
      "2017-03-02 04:00:00+01:00                        NaN   \n",
      "...                                              ...   \n",
      "2017-03-04 19:00:00+01:00                        NaN   \n",
      "2017-03-04 20:00:00+01:00                        NaN   \n",
      "2017-03-04 21:00:00+01:00                        NaN   \n",
      "2017-03-04 22:00:00+01:00                        NaN   \n",
      "2017-03-04 23:00:00+01:00                        NaN   \n",
      "\n",
      "                           2017-03-04 19:00:00+01:00  \\\n",
      "2017-03-02 00:00:00+01:00                        NaN   \n",
      "2017-03-02 01:00:00+01:00                        NaN   \n",
      "2017-03-02 02:00:00+01:00                        NaN   \n",
      "2017-03-02 03:00:00+01:00                        NaN   \n",
      "2017-03-02 04:00:00+01:00                        NaN   \n",
      "...                                              ...   \n",
      "2017-03-04 19:00:00+01:00                        NaN   \n",
      "2017-03-04 20:00:00+01:00                        NaN   \n",
      "2017-03-04 21:00:00+01:00                        NaN   \n",
      "2017-03-04 22:00:00+01:00                        NaN   \n",
      "2017-03-04 23:00:00+01:00                        NaN   \n",
      "\n",
      "                           2017-03-04 20:00:00+01:00  \\\n",
      "2017-03-02 00:00:00+01:00                        NaN   \n",
      "2017-03-02 01:00:00+01:00                        NaN   \n",
      "2017-03-02 02:00:00+01:00                        NaN   \n",
      "2017-03-02 03:00:00+01:00                        NaN   \n",
      "2017-03-02 04:00:00+01:00                        NaN   \n",
      "...                                              ...   \n",
      "2017-03-04 19:00:00+01:00                        NaN   \n",
      "2017-03-04 20:00:00+01:00                        NaN   \n",
      "2017-03-04 21:00:00+01:00                        NaN   \n",
      "2017-03-04 22:00:00+01:00                        NaN   \n",
      "2017-03-04 23:00:00+01:00                        NaN   \n",
      "\n",
      "                           2017-03-04 21:00:00+01:00  \\\n",
      "2017-03-02 00:00:00+01:00                        NaN   \n",
      "2017-03-02 01:00:00+01:00                        NaN   \n",
      "2017-03-02 02:00:00+01:00                        NaN   \n",
      "2017-03-02 03:00:00+01:00                        NaN   \n",
      "2017-03-02 04:00:00+01:00                        NaN   \n",
      "...                                              ...   \n",
      "2017-03-04 19:00:00+01:00                        NaN   \n",
      "2017-03-04 20:00:00+01:00                        NaN   \n",
      "2017-03-04 21:00:00+01:00                        NaN   \n",
      "2017-03-04 22:00:00+01:00                        NaN   \n",
      "2017-03-04 23:00:00+01:00                        NaN   \n",
      "\n",
      "                           2017-03-04 22:00:00+01:00  \\\n",
      "2017-03-02 00:00:00+01:00                        NaN   \n",
      "2017-03-02 01:00:00+01:00                        NaN   \n",
      "2017-03-02 02:00:00+01:00                        NaN   \n",
      "2017-03-02 03:00:00+01:00                        NaN   \n",
      "2017-03-02 04:00:00+01:00                        NaN   \n",
      "...                                              ...   \n",
      "2017-03-04 19:00:00+01:00                        NaN   \n",
      "2017-03-04 20:00:00+01:00                        NaN   \n",
      "2017-03-04 21:00:00+01:00                        NaN   \n",
      "2017-03-04 22:00:00+01:00                        NaN   \n",
      "2017-03-04 23:00:00+01:00                        NaN   \n",
      "\n",
      "                           2017-03-04 23:00:00+01:00  total load actual  \n",
      "2017-03-02 00:00:00+01:00                        NaN                NaN  \n",
      "2017-03-02 01:00:00+01:00                        NaN                NaN  \n",
      "2017-03-02 02:00:00+01:00                        NaN                NaN  \n",
      "2017-03-02 03:00:00+01:00                        NaN                NaN  \n",
      "2017-03-02 04:00:00+01:00                        NaN                NaN  \n",
      "...                                              ...                ...  \n",
      "2017-03-04 19:00:00+01:00                        NaN                NaN  \n",
      "2017-03-04 20:00:00+01:00                        NaN                NaN  \n",
      "2017-03-04 21:00:00+01:00                        NaN                NaN  \n",
      "2017-03-04 22:00:00+01:00                        NaN                NaN  \n",
      "2017-03-04 23:00:00+01:00                        NaN                NaN  \n",
      "\n",
      "[72 rows x 73 columns]\n"
     ]
    },
    {
     "name": "stderr",
     "output_type": "stream",
     "text": [
      "C:\\Users\\Benjamin\\anaconda3\\envs\\env\\lib\\site-packages\\matplotlib\\axes\\_axes.py:6623: RuntimeWarning: All-NaN slice encountered\n",
      "  xmin = min(xmin, np.nanmin(xi))\n",
      "C:\\Users\\Benjamin\\anaconda3\\envs\\env\\lib\\site-packages\\matplotlib\\axes\\_axes.py:6624: RuntimeWarning: All-NaN slice encountered\n",
      "  xmax = max(xmax, np.nanmax(xi))\n"
     ]
    },
    {
     "ename": "ValueError",
     "evalue": "autodetected range of [nan, nan] is not finite",
     "output_type": "error",
     "traceback": [
      "\u001b[1;31m---------------------------------------------------------------------------\u001b[0m",
      "\u001b[1;31mValueError\u001b[0m                                Traceback (most recent call last)",
      "\u001b[1;32m<ipython-input-63-85be6959f3f8>\u001b[0m in \u001b[0;36m<module>\u001b[1;34m\u001b[0m\n\u001b[0;32m      2\u001b[0m \u001b[0merror_nn\u001b[0m \u001b[1;33m=\u001b[0m \u001b[1;33m(\u001b[0m\u001b[0mY_test_predictions\u001b[0m\u001b[1;33m.\u001b[0m\u001b[0mastype\u001b[0m\u001b[1;33m(\u001b[0m\u001b[1;34m'float64'\u001b[0m\u001b[1;33m)\u001b[0m \u001b[1;33m-\u001b[0m \u001b[0my_test_filtered\u001b[0m\u001b[1;33m.\u001b[0m\u001b[0mastype\u001b[0m\u001b[1;33m(\u001b[0m\u001b[1;34m'float64'\u001b[0m\u001b[1;33m)\u001b[0m\u001b[1;33m)\u001b[0m\u001b[1;33m/\u001b[0m\u001b[0my_test_filtered\u001b[0m\u001b[1;33m.\u001b[0m\u001b[0mastype\u001b[0m\u001b[1;33m(\u001b[0m\u001b[1;34m'float64'\u001b[0m\u001b[1;33m)\u001b[0m\u001b[1;33m*\u001b[0m\u001b[1;36m100\u001b[0m\u001b[1;33m\u001b[0m\u001b[1;33m\u001b[0m\u001b[0m\n\u001b[0;32m      3\u001b[0m \u001b[0mprint\u001b[0m\u001b[1;33m(\u001b[0m\u001b[0merror_nn\u001b[0m\u001b[1;33m)\u001b[0m\u001b[1;33m\u001b[0m\u001b[1;33m\u001b[0m\u001b[0m\n\u001b[1;32m----> 4\u001b[1;33m \u001b[0mplt\u001b[0m\u001b[1;33m.\u001b[0m\u001b[0mhist\u001b[0m\u001b[1;33m(\u001b[0m\u001b[0merror_nn\u001b[0m\u001b[1;33m,\u001b[0m \u001b[0mbins\u001b[0m\u001b[1;33m=\u001b[0m\u001b[1;36m10\u001b[0m\u001b[1;33m)\u001b[0m\u001b[1;33m\u001b[0m\u001b[1;33m\u001b[0m\u001b[0m\n\u001b[0m\u001b[0;32m      5\u001b[0m \u001b[0mplt\u001b[0m\u001b[1;33m.\u001b[0m\u001b[0mxlabel\u001b[0m\u001b[1;33m(\u001b[0m\u001b[1;34m'Predicted Relative % Error'\u001b[0m\u001b[1;33m)\u001b[0m\u001b[1;33m\u001b[0m\u001b[1;33m\u001b[0m\u001b[0m\n\u001b[0;32m      6\u001b[0m \u001b[0mplt\u001b[0m\u001b[1;33m.\u001b[0m\u001b[0mylabel\u001b[0m\u001b[1;33m(\u001b[0m\u001b[1;34m'Count'\u001b[0m\u001b[1;33m)\u001b[0m\u001b[1;33m\u001b[0m\u001b[1;33m\u001b[0m\u001b[0m\n",
      "\u001b[1;32m~\\anaconda3\\envs\\env\\lib\\site-packages\\matplotlib\\pyplot.py\u001b[0m in \u001b[0;36mhist\u001b[1;34m(x, bins, range, density, weights, cumulative, bottom, histtype, align, orientation, rwidth, log, color, label, stacked, data, **kwargs)\u001b[0m\n\u001b[0;32m   2683\u001b[0m         \u001b[0morientation\u001b[0m\u001b[1;33m=\u001b[0m\u001b[1;34m'vertical'\u001b[0m\u001b[1;33m,\u001b[0m \u001b[0mrwidth\u001b[0m\u001b[1;33m=\u001b[0m\u001b[1;32mNone\u001b[0m\u001b[1;33m,\u001b[0m \u001b[0mlog\u001b[0m\u001b[1;33m=\u001b[0m\u001b[1;32mFalse\u001b[0m\u001b[1;33m,\u001b[0m \u001b[0mcolor\u001b[0m\u001b[1;33m=\u001b[0m\u001b[1;32mNone\u001b[0m\u001b[1;33m,\u001b[0m\u001b[1;33m\u001b[0m\u001b[1;33m\u001b[0m\u001b[0m\n\u001b[0;32m   2684\u001b[0m         label=None, stacked=False, *, data=None, **kwargs):\n\u001b[1;32m-> 2685\u001b[1;33m     return gca().hist(\n\u001b[0m\u001b[0;32m   2686\u001b[0m         \u001b[0mx\u001b[0m\u001b[1;33m,\u001b[0m \u001b[0mbins\u001b[0m\u001b[1;33m=\u001b[0m\u001b[0mbins\u001b[0m\u001b[1;33m,\u001b[0m \u001b[0mrange\u001b[0m\u001b[1;33m=\u001b[0m\u001b[0mrange\u001b[0m\u001b[1;33m,\u001b[0m \u001b[0mdensity\u001b[0m\u001b[1;33m=\u001b[0m\u001b[0mdensity\u001b[0m\u001b[1;33m,\u001b[0m \u001b[0mweights\u001b[0m\u001b[1;33m=\u001b[0m\u001b[0mweights\u001b[0m\u001b[1;33m,\u001b[0m\u001b[1;33m\u001b[0m\u001b[1;33m\u001b[0m\u001b[0m\n\u001b[0;32m   2687\u001b[0m         \u001b[0mcumulative\u001b[0m\u001b[1;33m=\u001b[0m\u001b[0mcumulative\u001b[0m\u001b[1;33m,\u001b[0m \u001b[0mbottom\u001b[0m\u001b[1;33m=\u001b[0m\u001b[0mbottom\u001b[0m\u001b[1;33m,\u001b[0m \u001b[0mhisttype\u001b[0m\u001b[1;33m=\u001b[0m\u001b[0mhisttype\u001b[0m\u001b[1;33m,\u001b[0m\u001b[1;33m\u001b[0m\u001b[1;33m\u001b[0m\u001b[0m\n",
      "\u001b[1;32m~\\anaconda3\\envs\\env\\lib\\site-packages\\matplotlib\\__init__.py\u001b[0m in \u001b[0;36minner\u001b[1;34m(ax, data, *args, **kwargs)\u001b[0m\n\u001b[0;32m   1445\u001b[0m     \u001b[1;32mdef\u001b[0m \u001b[0minner\u001b[0m\u001b[1;33m(\u001b[0m\u001b[0max\u001b[0m\u001b[1;33m,\u001b[0m \u001b[1;33m*\u001b[0m\u001b[0margs\u001b[0m\u001b[1;33m,\u001b[0m \u001b[0mdata\u001b[0m\u001b[1;33m=\u001b[0m\u001b[1;32mNone\u001b[0m\u001b[1;33m,\u001b[0m \u001b[1;33m**\u001b[0m\u001b[0mkwargs\u001b[0m\u001b[1;33m)\u001b[0m\u001b[1;33m:\u001b[0m\u001b[1;33m\u001b[0m\u001b[1;33m\u001b[0m\u001b[0m\n\u001b[0;32m   1446\u001b[0m         \u001b[1;32mif\u001b[0m \u001b[0mdata\u001b[0m \u001b[1;32mis\u001b[0m \u001b[1;32mNone\u001b[0m\u001b[1;33m:\u001b[0m\u001b[1;33m\u001b[0m\u001b[1;33m\u001b[0m\u001b[0m\n\u001b[1;32m-> 1447\u001b[1;33m             \u001b[1;32mreturn\u001b[0m \u001b[0mfunc\u001b[0m\u001b[1;33m(\u001b[0m\u001b[0max\u001b[0m\u001b[1;33m,\u001b[0m \u001b[1;33m*\u001b[0m\u001b[0mmap\u001b[0m\u001b[1;33m(\u001b[0m\u001b[0msanitize_sequence\u001b[0m\u001b[1;33m,\u001b[0m \u001b[0margs\u001b[0m\u001b[1;33m)\u001b[0m\u001b[1;33m,\u001b[0m \u001b[1;33m**\u001b[0m\u001b[0mkwargs\u001b[0m\u001b[1;33m)\u001b[0m\u001b[1;33m\u001b[0m\u001b[1;33m\u001b[0m\u001b[0m\n\u001b[0m\u001b[0;32m   1448\u001b[0m \u001b[1;33m\u001b[0m\u001b[0m\n\u001b[0;32m   1449\u001b[0m         \u001b[0mbound\u001b[0m \u001b[1;33m=\u001b[0m \u001b[0mnew_sig\u001b[0m\u001b[1;33m.\u001b[0m\u001b[0mbind\u001b[0m\u001b[1;33m(\u001b[0m\u001b[0max\u001b[0m\u001b[1;33m,\u001b[0m \u001b[1;33m*\u001b[0m\u001b[0margs\u001b[0m\u001b[1;33m,\u001b[0m \u001b[1;33m**\u001b[0m\u001b[0mkwargs\u001b[0m\u001b[1;33m)\u001b[0m\u001b[1;33m\u001b[0m\u001b[1;33m\u001b[0m\u001b[0m\n",
      "\u001b[1;32m~\\anaconda3\\envs\\env\\lib\\site-packages\\matplotlib\\axes\\_axes.py\u001b[0m in \u001b[0;36mhist\u001b[1;34m(self, x, bins, range, density, weights, cumulative, bottom, histtype, align, orientation, rwidth, log, color, label, stacked, **kwargs)\u001b[0m\n\u001b[0;32m   6634\u001b[0m             \u001b[1;32melse\u001b[0m\u001b[1;33m:\u001b[0m\u001b[1;33m\u001b[0m\u001b[1;33m\u001b[0m\u001b[0m\n\u001b[0;32m   6635\u001b[0m                 \u001b[0m_w\u001b[0m \u001b[1;33m=\u001b[0m \u001b[1;32mNone\u001b[0m\u001b[1;33m\u001b[0m\u001b[1;33m\u001b[0m\u001b[0m\n\u001b[1;32m-> 6636\u001b[1;33m             bins = np.histogram_bin_edges(\n\u001b[0m\u001b[0;32m   6637\u001b[0m                 np.concatenate(x), bins, bin_range, _w)\n\u001b[0;32m   6638\u001b[0m         \u001b[1;32melse\u001b[0m\u001b[1;33m:\u001b[0m\u001b[1;33m\u001b[0m\u001b[1;33m\u001b[0m\u001b[0m\n",
      "\u001b[1;32m<__array_function__ internals>\u001b[0m in \u001b[0;36mhistogram_bin_edges\u001b[1;34m(*args, **kwargs)\u001b[0m\n",
      "\u001b[1;32m~\\anaconda3\\envs\\env\\lib\\site-packages\\numpy\\lib\\histograms.py\u001b[0m in \u001b[0;36mhistogram_bin_edges\u001b[1;34m(a, bins, range, weights)\u001b[0m\n\u001b[0;32m    666\u001b[0m     \"\"\"\n\u001b[0;32m    667\u001b[0m     \u001b[0ma\u001b[0m\u001b[1;33m,\u001b[0m \u001b[0mweights\u001b[0m \u001b[1;33m=\u001b[0m \u001b[0m_ravel_and_check_weights\u001b[0m\u001b[1;33m(\u001b[0m\u001b[0ma\u001b[0m\u001b[1;33m,\u001b[0m \u001b[0mweights\u001b[0m\u001b[1;33m)\u001b[0m\u001b[1;33m\u001b[0m\u001b[1;33m\u001b[0m\u001b[0m\n\u001b[1;32m--> 668\u001b[1;33m     \u001b[0mbin_edges\u001b[0m\u001b[1;33m,\u001b[0m \u001b[0m_\u001b[0m \u001b[1;33m=\u001b[0m \u001b[0m_get_bin_edges\u001b[0m\u001b[1;33m(\u001b[0m\u001b[0ma\u001b[0m\u001b[1;33m,\u001b[0m \u001b[0mbins\u001b[0m\u001b[1;33m,\u001b[0m \u001b[0mrange\u001b[0m\u001b[1;33m,\u001b[0m \u001b[0mweights\u001b[0m\u001b[1;33m)\u001b[0m\u001b[1;33m\u001b[0m\u001b[1;33m\u001b[0m\u001b[0m\n\u001b[0m\u001b[0;32m    669\u001b[0m     \u001b[1;32mreturn\u001b[0m \u001b[0mbin_edges\u001b[0m\u001b[1;33m\u001b[0m\u001b[1;33m\u001b[0m\u001b[0m\n\u001b[0;32m    670\u001b[0m \u001b[1;33m\u001b[0m\u001b[0m\n",
      "\u001b[1;32m~\\anaconda3\\envs\\env\\lib\\site-packages\\numpy\\lib\\histograms.py\u001b[0m in \u001b[0;36m_get_bin_edges\u001b[1;34m(a, bins, range, weights)\u001b[0m\n\u001b[0;32m    424\u001b[0m             \u001b[1;32mraise\u001b[0m \u001b[0mValueError\u001b[0m\u001b[1;33m(\u001b[0m\u001b[1;34m'`bins` must be positive, when an integer'\u001b[0m\u001b[1;33m)\u001b[0m\u001b[1;33m\u001b[0m\u001b[1;33m\u001b[0m\u001b[0m\n\u001b[0;32m    425\u001b[0m \u001b[1;33m\u001b[0m\u001b[0m\n\u001b[1;32m--> 426\u001b[1;33m         \u001b[0mfirst_edge\u001b[0m\u001b[1;33m,\u001b[0m \u001b[0mlast_edge\u001b[0m \u001b[1;33m=\u001b[0m \u001b[0m_get_outer_edges\u001b[0m\u001b[1;33m(\u001b[0m\u001b[0ma\u001b[0m\u001b[1;33m,\u001b[0m \u001b[0mrange\u001b[0m\u001b[1;33m)\u001b[0m\u001b[1;33m\u001b[0m\u001b[1;33m\u001b[0m\u001b[0m\n\u001b[0m\u001b[0;32m    427\u001b[0m \u001b[1;33m\u001b[0m\u001b[0m\n\u001b[0;32m    428\u001b[0m     \u001b[1;32melif\u001b[0m \u001b[0mnp\u001b[0m\u001b[1;33m.\u001b[0m\u001b[0mndim\u001b[0m\u001b[1;33m(\u001b[0m\u001b[0mbins\u001b[0m\u001b[1;33m)\u001b[0m \u001b[1;33m==\u001b[0m \u001b[1;36m1\u001b[0m\u001b[1;33m:\u001b[0m\u001b[1;33m\u001b[0m\u001b[1;33m\u001b[0m\u001b[0m\n",
      "\u001b[1;32m~\\anaconda3\\envs\\env\\lib\\site-packages\\numpy\\lib\\histograms.py\u001b[0m in \u001b[0;36m_get_outer_edges\u001b[1;34m(a, range)\u001b[0m\n\u001b[0;32m    321\u001b[0m         \u001b[0mfirst_edge\u001b[0m\u001b[1;33m,\u001b[0m \u001b[0mlast_edge\u001b[0m \u001b[1;33m=\u001b[0m \u001b[0ma\u001b[0m\u001b[1;33m.\u001b[0m\u001b[0mmin\u001b[0m\u001b[1;33m(\u001b[0m\u001b[1;33m)\u001b[0m\u001b[1;33m,\u001b[0m \u001b[0ma\u001b[0m\u001b[1;33m.\u001b[0m\u001b[0mmax\u001b[0m\u001b[1;33m(\u001b[0m\u001b[1;33m)\u001b[0m\u001b[1;33m\u001b[0m\u001b[1;33m\u001b[0m\u001b[0m\n\u001b[0;32m    322\u001b[0m         \u001b[1;32mif\u001b[0m \u001b[1;32mnot\u001b[0m \u001b[1;33m(\u001b[0m\u001b[0mnp\u001b[0m\u001b[1;33m.\u001b[0m\u001b[0misfinite\u001b[0m\u001b[1;33m(\u001b[0m\u001b[0mfirst_edge\u001b[0m\u001b[1;33m)\u001b[0m \u001b[1;32mand\u001b[0m \u001b[0mnp\u001b[0m\u001b[1;33m.\u001b[0m\u001b[0misfinite\u001b[0m\u001b[1;33m(\u001b[0m\u001b[0mlast_edge\u001b[0m\u001b[1;33m)\u001b[0m\u001b[1;33m)\u001b[0m\u001b[1;33m:\u001b[0m\u001b[1;33m\u001b[0m\u001b[1;33m\u001b[0m\u001b[0m\n\u001b[1;32m--> 323\u001b[1;33m             raise ValueError(\n\u001b[0m\u001b[0;32m    324\u001b[0m                 \"autodetected range of [{}, {}] is not finite\".format(first_edge, last_edge))\n\u001b[0;32m    325\u001b[0m \u001b[1;33m\u001b[0m\u001b[0m\n",
      "\u001b[1;31mValueError\u001b[0m: autodetected range of [nan, nan] is not finite"
     ]
    },
    {
     "data": {
      "image/png": "[encoded data removed]",
      "text/plain": [
       "<Figure size 864x432 with 1 Axes>"
      ]
     },
     "metadata": {
      "needs_background": "light"
     },
     "output_type": "display_data"
    }
   ],
   "source": [
    "# # Calculating the error variations:\n",
    "# error_nn = (Y_test_predictions.astype('float64') - y_test_filtered.astype('float64'))/y_test_filtered.astype('float64')*100\n",
    "# print(error_nn)\n",
    "# plt.hist(error_nn, bins=10)\n",
    "# plt.xlabel('Predicted Relative % Error')\n",
    "# plt.ylabel('Count')"
   ]
  },
  {
   "cell_type": "code",
   "execution_count": 58,
   "metadata": {
    "colab": {
     "base_uri": "https://localhost:8080/"
    },
    "id": "-HSnhihhHyAt",
    "outputId": "b45d472e-df1f-4ab2-97ba-6318127d0d9e"
   },
   "outputs": [
    {
     "data": {
      "text/plain": [
       "0.0"
      ]
     },
     "execution_count": 58,
     "metadata": {},
     "output_type": "execute_result"
    }
   ],
   "source": [
    "#Calculating the mean absolutepercentage error:\n",
    "abs_error_nn = abs(Y_test_predictions - y_test_filtered)/y_test_filtered*100\n",
    "np.average(error_nn)"
   ]
  },
  {
   "cell_type": "code",
   "execution_count": 59,
   "metadata": {
    "colab": {
     "base_uri": "https://localhost:8080/"
    },
    "id": "-Og3-ec1HyAv",
    "outputId": "f0d3e172-622e-4dd4-a8ec-3f84e320356b"
   },
   "outputs": [
    {
     "name": "stdout",
     "output_type": "stream",
     "text": [
      "R^2 score is  0.98\n"
     ]
    }
   ],
   "source": [
    "#Calculating R2 value:\n",
    "r2_test = r2_score(y_test_filtered, Y_test_predictions)\n",
    "print('R^2 score is  %3.2f' %r2_test)"
   ]
  },
  {
   "cell_type": "code",
   "execution_count": 60,
   "metadata": {
    "colab": {
     "base_uri": "https://localhost:8080/",
     "height": 421
    },
    "id": "bUVtrW7kHyAw",
    "outputId": "e4abb863-ccd1-4159-bd9d-7fb1a9711a9f"
   },
   "outputs": [
    {
     "data": {
      "image/png": "[encoded data removed]",
      "text/plain": [
       "<Figure size 864x432 with 1 Axes>"
      ]
     },
     "metadata": {
      "needs_background": "light"
     },
     "output_type": "display_data"
    }
   ],
   "source": [
    "#Plotting the Figure: \n",
    "plt.figure();\n",
    "plt.plot(y_test_filtered, 'k.-');\n",
    "plt.plot(Y_test_predictions, 'x', alpha=0.70);\n",
    "\n",
    "plt.legend(['Actual',\n",
    "            'Predicted 1 hr ahead'\n",
    "            ]);\n",
    "plt.ylabel('Load');\n",
    "plt.xlabel('Time Index');\n",
    "plt.title('Simple RNN');\n",
    "mpl.rcParams['figure.figsize'] = [12.0, 6.0]"
   ]
  },
  {
   "cell_type": "code",
   "execution_count": null,
   "metadata": {},
   "outputs": [],
   "source": []
  }
 ],
 "metadata": {
  "interpreter": {
   "hash": "39d1545a961fb91480a52a0b6f0ba22788119e75d6e41681ee81894caf37680e"
  },
  "kernelspec": {
   "display_name": "Python 3",
   "language": "python",
   "name": "python3"
  },
  "language_info": {
   "codemirror_mode": {
    "name": "ipython",
    "version": 3
   },
   "file_extension": ".py",
   "mimetype": "text/x-python",
   "name": "python",
   "nbconvert_exporter": "python",
   "pygments_lexer": "ipython3",
   "version": "3.8.5"
  }
 },
 "nbformat": 4,
 "nbformat_minor": 2
}
