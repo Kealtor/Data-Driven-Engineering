{
 "cells": [
  {
   "cell_type": "code",
   "execution_count": 1,
   "metadata": {},
   "outputs": [],
   "source": [
    "import numpy as np\n",
    "import pandas as pd\n",
    "from datetime import date\n",
    "import plotly.express as px\n",
    "import plotly.graph_objects as go"
   ]
  },
  {
   "cell_type": "code",
   "execution_count": 1,
   "metadata": {},
   "outputs": [
    {
     "ename": "SyntaxError",
     "evalue": "invalid syntax (<ipython-input-1-3e68597a6d15>, line 62)",
     "output_type": "error",
     "traceback": [
      "\u001b[1;36m  File \u001b[1;32m\"<ipython-input-1-3e68597a6d15>\"\u001b[1;36m, line \u001b[1;32m62\u001b[0m\n\u001b[1;33m    \"\"\"months_list = ['January','February','March','April','May','June','July','August','September','October','November','December']\u001b[0m\n\u001b[1;37m       ^\u001b[0m\n\u001b[1;31mSyntaxError\u001b[0m\u001b[1;31m:\u001b[0m invalid syntax\n"
     ]
    }
   ],
   "source": [
    "def set_timestamp_index(df,time_col):\n",
    "    \"\"\"\n",
    "    Creates a timestamp (datetime-object) column and sets it as an index \n",
    "    \"\"\"\n",
    "\n",
    "    df['timestamp'] = df[time_col].apply(lambda x: pd.Timestamp(x).tz_convert(\"Europe/Berlin\"))\n",
    "    df = df.set_index(['timestamp'])\n",
    "    df.drop(time_col,axis=1,inplace=True)\n",
    "    df['day'] = df.index.day\n",
    "    df['month'] = df.index.month_name()\n",
    "    df['year'] = df.index.year\n",
    "    df['date'] = df.index.date\n",
    "    return df\n",
    "\n",
    "def reorder_columns(df,order):\n",
    "    \"\"\"\n",
    "    Reorders the columns by given order\n",
    "    \"\"\"\n",
    "\n",
    "    new_order= order + [x for x in df.columns if x not in order]\n",
    "    df = df.reindex(columns=new_order)#axis='columns',)\n",
    "    return df\n",
    "\n",
    "def remove_duplicates(df):\n",
    "    \"\"\"\"Removes duplicate indecies from dataframe\"\"\"\n",
    "\n",
    "    df = df[~df.index.duplicated(keep='first')]\n",
    "    return df\n",
    "\n",
    "def process_weather_csv():\n",
    "    \"\"\"\n",
    "    Loads weather_features.csv and preprocesses the data\n",
    "    \"\"\"\n",
    "\n",
    "    df_weather = pd.read_csv('weather_features.csv')\n",
    "    df_weather = set_timestamp_index(df_weather,'dt_iso')\n",
    "    cities = df_weather.city_name.unique()\n",
    "    df_cities = [df_weather.query(f\"city_name == '{x}'\") for x in cities]\n",
    "    return df_cities\n",
    "\n",
    "def process_energy_csv():\n",
    "    \"\"\"\n",
    "    Loads energy_dataset.csv and preprocesses the data\n",
    "    \"\"\"\n",
    "\n",
    "    df_energy = pd.read_csv('energy_dataset.csv')\n",
    "    df_energy = set_timestamp_index(df_energy,'time') \n",
    "    return df_energy\n",
    "\n",
    "def average_over_year(df):\n",
    "    \"\"\"\n",
    "    Filters the dataframe and groups them by their month day and averages them. \n",
    "    Returns list with dataframes for each month\n",
    "    \"\"\"\n",
    "\n",
    "    months_list = ['January','February','March','April','May','June','July','August','September','October','November','December']\n",
    "    return [df.query(f\"month == '{x}'\").groupby('day').mean() for x in months_list]\n",
    "    \n",
    "def average_over_day(df):\n",
    "    \"\"\"\n",
    "    Filters the dataframe and groups them by their specific data and averages them.\n",
    "    Returns list with dataframe for each month and every year.\n",
    "    \"\"\"\n",
    "\n",
    "    months_list = ['January','February','March','April','May','June','July','August','September','October','November','December']\n",
    "    return [df.query(f\"month == '{x}'\").groupby('date').mean() for x in months_list]\n",
    "    \n",
    "months_list = ['January','February','March','April','May','June','July','August','September','October','November','December']\n",
    "  \n",
    "df_cities = process_weather_csv()\n",
    "\n"
   ]
  },
  {
   "cell_type": "code",
   "execution_count": 30,
   "metadata": {},
   "outputs": [
    {
     "name": "stdout",
     "output_type": "stream",
     "text": [
      "[\"['Valencia']\", \"['Madrid']\", \"['Bilbao']\", \"[' Barcelona']\", \"['Seville']\"]\n"
     ]
    }
   ],
   "source": [
    "city_names = []\n",
    "for item in df_cities:\n",
    "    city_names.append(str(item['city_name'].unique()))\n",
    "print(city_names)\n",
    "for i, city in enumerate(df_cities):\n",
    "    df_cities[i] = remove_duplicates(city)\n",
    "df_valencia = df_cities[0]\n",
    "df_valencia_list = average_over_year(df_valencia)\n",
    "df_madrid_list = average_over_year(df_cities[1])"
   ]
  },
  {
   "cell_type": "code",
   "execution_count": 15,
   "metadata": {},
   "outputs": [],
   "source": [
    "# display double timestamps in dataframe \n",
    "def display_double_timestamps():\n",
    "    \"\"\"\n",
    "    Returns double Timestamps from Weather Dataset\n",
    "    \"\"\"\n",
    "    df_cities = process_weather_csv()\n",
    "    df_city_dup=[]\n",
    "    for i,item in enumerate(df_cities):\n",
    "        df_city_dup.append(item[item.index.duplicated(keep=False)])\n",
    "    return df_city_dup\n"
   ]
  },
  {
   "cell_type": "code",
   "execution_count": 19,
   "metadata": {},
   "outputs": [],
   "source": [
    "def display_monthly_averaged_data(df_list,description,feature):\n",
    "    fig = px.line()\n",
    "    for item,desc in zip(df_list,description):\n",
    "        fig.add_traces(go.Scatter(x=item.index,y=item[feature],name=desc))\n",
    "\n",
    "    fig.show() "
   ]
  },
  {
   "cell_type": "code",
   "execution_count": 31,
   "metadata": {},
   "outputs": [
    {
     "data": {
      "application/vnd.plotly.v1+json": {
       "config": {
        "plotlyServerURL": "https://plot.ly"
       },
       "data": [
        {
         "name": "January",
         "type": "scatter",
         "x": [
          1,
          2,
          3,
          4,
          5,
          6,
          7,
          8,
          9,
          10,
          11,
          12,
          13,
          14,
          15,
          16,
          17,
          18,
          19,
          20,
          21,
          22,
          23,
          24,
          25,
          26,
          27,
          28,
          29,
          30,
          31
         ],
         "y": [
          277.05785058593756,
          277.7471927083332,
          278.5183515625002,
          280.15490104166656,
          278.9947711588544,
          275.9068125000002,
          277.18077180989604,
          277.4047317708335,
          277.1440800781252,
          278.6402526041669,
          280.09681966145854,
          277.9438593750001,
          276.9202708333335,
          277.0368750000002,
          277.9220869140626,
          278.68818066406254,
          276.97224479166664,
          276.4559583333335,
          276.8921171875002,
          277.3037395833334,
          278.5994062500002,
          278.60997916666673,
          279.2279010416667,
          277.74014583333326,
          277.6215833333333,
          277.1310833333333,
          278.45099609375,
          278.6136510416667,
          279.70219270833326,
          281.49964095052104,
          280.6462509765626
         ]
        },
        {
         "name": "February",
         "type": "scatter",
         "x": [
          1,
          2,
          3,
          4,
          5,
          6,
          7,
          8,
          9,
          10,
          11,
          12,
          13,
          14,
          15,
          16,
          17,
          18,
          19,
          20,
          21,
          22,
          23,
          24,
          25,
          26,
          27,
          28,
          29
         ],
         "y": [
          279.02811295572934,
          278.7531992187499,
          279.9235696614585,
          278.53771875000024,
          277.2002083333335,
          277.8099791666668,
          277.1645364583333,
          276.8019166666667,
          277.3037812500001,
          279.3123958333334,
          280.87107259114595,
          281.76947395833355,
          282.2012968750001,
          281.65971875000025,
          280.3283349609375,
          280.53320638020847,
          279.55868619791687,
          279.6975937500003,
          280.7211337890623,
          280.42944433593766,
          280.6430882161458,
          280.97647395833343,
          280.71232812500006,
          280.4567291666668,
          280.84036979166655,
          281.07816145833345,
          279.54402148437515,
          281.3948177083333,
          280.6886458333334
         ]
        },
        {
         "name": "March",
         "type": "scatter",
         "x": [
          1,
          2,
          3,
          4,
          5,
          6,
          7,
          8,
          9,
          10,
          11,
          12,
          13,
          14,
          15,
          16,
          17,
          18,
          19,
          20,
          21,
          22,
          23,
          24,
          25,
          26,
          27,
          28,
          29,
          30,
          31
         ],
         "y": [
          283.3965205078127,
          282.82913541666693,
          282.7242343750002,
          281.70223274739607,
          280.46002083333343,
          282.12662500000005,
          282.76412141927074,
          283.03372070312525,
          284.1660312500001,
          284.08107356770864,
          283.1770423177085,
          282.3225524088542,
          282.10872200520856,
          281.9636533203126,
          281.3869863281252,
          280.82372884114585,
          281.4081923828125,
          281.90580664062503,
          282.4720452473959,
          282.24533138020826,
          281.6124873046875,
          281.1466647135417,
          279.61021940104183,
          280.5347649739585,
          280.0768555921056,
          282.1242240131581,
          284.64519276315787,
          284.9869843750002,
          285.41693421052645,
          284.8686041666668,
          284.77539583333345
         ]
        },
        {
         "name": "April",
         "type": "scatter",
         "x": [
          1,
          2,
          3,
          4,
          5,
          6,
          7,
          8,
          9,
          10,
          11,
          12,
          13,
          14,
          15,
          16,
          17,
          18,
          19,
          20,
          21,
          22,
          23,
          24,
          25,
          26,
          27,
          28,
          29,
          30
         ],
         "y": [
          283.97717773437523,
          284.68872428385424,
          285.072728515625,
          284.4792451171876,
          284.9375683593751,
          285.3729586588542,
          285.20568261718756,
          284.05897460937507,
          283.36991634114605,
          283.79145833333354,
          284.2999326171877,
          285.43743261718777,
          286.3909160156252,
          287.46871907552105,
          287.24800553385415,
          286.7020104166667,
          287.599369466146,
          288.5049479166667,
          287.2545472005209,
          286.5107708333334,
          286.73991373697925,
          287.41432845052094,
          288.0345485026044,
          288.87167545572925,
          288.8886181640626,
          287.8313906250001,
          286.0785113932291,
          285.44014550781253,
          284.91185286458347,
          284.8234739583333
         ]
        },
        {
         "name": "May",
         "type": "scatter",
         "x": [
          1,
          2,
          3,
          4,
          5,
          6,
          7,
          8,
          9,
          10,
          11,
          12,
          13,
          14,
          15,
          16,
          17,
          18,
          19,
          20,
          21,
          22,
          23,
          24,
          25,
          26,
          27,
          28,
          29,
          30,
          31
         ],
         "y": [
          285.1377985026043,
          287.59683138020836,
          289.6734443359374,
          290.97014583333345,
          289.5153854166668,
          287.98018750000006,
          289.77854003906265,
          290.1966943359376,
          290.5420660807293,
          290.6552792968751,
          289.6007936197917,
          289.4586875000001,
          289.32724674479164,
          290.7113802083334,
          290.4564791666667,
          291.7060416666668,
          292.89610937500015,
          291.4737845052083,
          290.5375885416668,
          290.55488541666665,
          291.19928645833346,
          291.38026041666683,
          291.9649375000001,
          293.2189531250001,
          292.5161360677086,
          292.9079075520834,
          293.4352916666668,
          292.2470416666668,
          291.3758229166668,
          291.2008645833334,
          292.2817083333336
         ]
        },
        {
         "name": "June",
         "type": "scatter",
         "x": [
          1,
          2,
          3,
          4,
          5,
          6,
          7,
          8,
          9,
          10,
          11,
          12,
          13,
          14,
          15,
          16,
          17,
          18,
          19,
          20,
          21,
          22,
          23,
          24,
          25,
          26,
          27,
          28,
          29,
          30
         ],
         "y": [
          294.01360937500004,
          294.48520833333356,
          294.62962500000003,
          293.59388541666664,
          292.9537604166668,
          293.846,
          295.6312395833332,
          296.15976041666687,
          296.7269791666668,
          295.1530208333333,
          295.4185833333333,
          295.63512500000013,
          295.63244791666665,
          295.2792395833334,
          294.8731666666666,
          295.03697916666675,
          296.3929166666665,
          297.2220729166666,
          297.4574166666667,
          298.5859375,
          300.0740104166668,
          300.5841875000002,
          299.4788125000001,
          299.21369791666683,
          299.3965625000001,
          298.8774999999999,
          299.37791666666675,
          299.2676562500002,
          298.7416666666666,
          297.8066666666668
         ]
        },
        {
         "name": "July",
         "type": "scatter",
         "x": [
          1,
          2,
          3,
          4,
          5,
          6,
          7,
          8,
          9,
          10,
          11,
          12,
          13,
          14,
          15,
          16,
          17,
          18,
          19,
          20,
          21,
          22,
          23,
          24,
          25,
          26,
          27,
          28,
          29,
          30,
          31
         ],
         "y": [
          297.91092708333326,
          298.27724576822925,
          300.15197916666665,
          300.29885416666684,
          300.31791666666663,
          299.0556250000001,
          298.644375,
          299.3047916666667,
          300.7986458333334,
          301.6066145833335,
          301.35947916666686,
          300.9557291666668,
          300.94333333333344,
          301.4882708333335,
          300.3228854166667,
          300.6593125000002,
          301.47716666666673,
          301.74940625000005,
          298.51122916666696,
          298.30912500000017,
          299.91256250000015,
          299.77645833333344,
          299.89875000000006,
          299.9743750000001,
          299.72031250000015,
          300.6666666666667,
          302.41677083333343,
          302.07427083333346,
          302.21218749999997,
          301.1691666666668,
          300.0927083333333
         ]
        },
        {
         "name": "August",
         "type": "scatter",
         "x": [
          1,
          2,
          3,
          4,
          5,
          6,
          7,
          8,
          9,
          10,
          11,
          12,
          13,
          14,
          15,
          16,
          17,
          18,
          19,
          20,
          21,
          22,
          23,
          24,
          25,
          26,
          27,
          28,
          29,
          30,
          31
         ],
         "y": [
          299.7647916666666,
          301.4697916666667,
          302.7093020833333,
          303.07906250000013,
          302.5441666666668,
          301.82541666666674,
          302.1178466796876,
          300.14447916666677,
          297.2629895833333,
          296.3000937500001,
          298.2542708333334,
          299.15593750000005,
          298.8310416666667,
          298.8905208333335,
          299.47645833333354,
          299.3379635416669,
          299.9503125000002,
          299.2484375000002,
          299.6001041666669,
          300.5383333333334,
          299.7958020833334,
          300.07443750000016,
          299.67843750000026,
          298.5621875,
          297.883125,
          298.5855208333336,
          298.9955208333335,
          298.4736458333334,
          298.5835416666667,
          297.589375,
          297.63104166666676
         ]
        },
        {
         "name": "September",
         "type": "scatter",
         "x": [
          1,
          2,
          3,
          4,
          5,
          6,
          7,
          8,
          9,
          10,
          11,
          12,
          13,
          14,
          15,
          16,
          17,
          18,
          19,
          20,
          21,
          22,
          23,
          24,
          25,
          26,
          27,
          28,
          29,
          30
         ],
         "y": [
          296.92617154947925,
          296.5189583333335,
          296.6376041666667,
          296.27406250000007,
          296.0587500000001,
          296.35125000000005,
          295.7686458333333,
          294.0155416666668,
          293.59458333333356,
          294.1451041666668,
          294.70229166666667,
          294.99979166666685,
          294.1966666666669,
          292.4045833333334,
          290.4641666666668,
          290.69614583333345,
          290.32312500000006,
          290.70375,
          292.1289583333334,
          293.68572916666676,
          294.2329296875002,
          294.34685416666673,
          294.63875,
          294.7078125,
          294.50510416666674,
          293.86296354166683,
          293.7984895833334,
          293.06780208333333,
          292.7694791666667,
          293.05375
         ]
        },
        {
         "name": "October",
         "type": "scatter",
         "x": [
          1,
          2,
          3,
          4,
          5,
          6,
          7,
          8,
          9,
          10,
          11,
          12,
          13,
          14,
          15,
          16,
          17,
          18,
          19,
          20,
          21,
          22,
          23,
          24,
          25,
          26,
          27,
          28,
          29,
          30,
          31
         ],
         "y": [
          292.82135416666694,
          292.06479166666685,
          293.09885416666674,
          293.08739583333323,
          293.23011458333343,
          292.1568854166668,
          289.50122916666675,
          288.46388541666687,
          288.4200208333335,
          288.48464583333356,
          289.2424895833335,
          289.6424166666668,
          289.19575000000015,
          287.76839062500017,
          286.7210729166667,
          287.7225104166668,
          287.80281250000013,
          287.5392812500001,
          287.3361197916668,
          288.2564166666667,
          287.8493177083335,
          286.89165104166676,
          287.2174166666668,
          287.4333125000001,
          287.9315051546394,
          288.0857604166669,
          287.88884895833337,
          285.8952989690723,
          285.35731958762904,
          285.09514432989727,
          285.24127083333343
         ]
        },
        {
         "name": "November",
         "type": "scatter",
         "x": [
          1,
          2,
          3,
          4,
          5,
          6,
          7,
          8,
          9,
          10,
          11,
          12,
          13,
          14,
          15,
          16,
          17,
          18,
          19,
          20,
          21,
          22,
          23,
          24,
          25,
          26,
          27,
          28,
          29,
          30
         ],
         "y": [
          285.44204166666674,
          286.4900729166665,
          285.2555520833333,
          284.6299270833335,
          285.0703020833334,
          283.6606666666668,
          283.3703229166668,
          282.93725520833345,
          282.95431770833335,
          283.1864895833335,
          283.64493750000014,
          283.1897864583336,
          284.33161458333353,
          283.1649375,
          282.7861041666668,
          282.63933886718763,
          283.12043391927085,
          282.5804860026042,
          282.19453125,
          282.59851041666684,
          282.70544791666674,
          280.08604166666674,
          280.6936927083334,
          279.68254687500007,
          281.68403125000015,
          281.7037916666667,
          281.00644791666684,
          279.7585416666668,
          279.2945416666668,
          279.6666979166668
         ]
        },
        {
         "name": "December",
         "type": "scatter",
         "x": [
          1,
          2,
          3,
          4,
          5,
          6,
          7,
          8,
          9,
          10,
          11,
          12,
          13,
          14,
          15,
          16,
          17,
          18,
          19,
          20,
          21,
          22,
          23,
          24,
          25,
          26,
          27,
          28,
          29,
          30,
          31
         ],
         "y": [
          278.4810416666667,
          278.6191458333334,
          278.97205403645836,
          280.3401302083334,
          281.0342535807294,
          279.81440266927086,
          278.7087500000001,
          280.0846250000001,
          281.2277672526042,
          282.0169098307292,
          280.6328333333334,
          279.2319479166667,
          278.81804687500016,
          280.18853125000015,
          281.2055729166667,
          280.5238645833335,
          279.4403020833333,
          278.7921354166667,
          280.22447916666675,
          278.82580729166665,
          279.8559583333334,
          279.23159375000006,
          279.19240625000015,
          278.70598958333335,
          277.98759895833336,
          278.43503125000007,
          279.4840625,
          280.7458645833334,
          280.72805729166674,
          279.6692395833334,
          278.32180208333347
         ]
        }
       ],
       "layout": {
        "legend": {
         "tracegroupgap": 0
        },
        "margin": {
         "t": 60
        },
        "template": {
         "data": {
          "bar": [
           {
            "error_x": {
             "color": "#2a3f5f"
            },
            "error_y": {
             "color": "#2a3f5f"
            },
            "marker": {
             "line": {
              "color": "#E5ECF6",
              "width": 0.5
             },
             "pattern": {
              "fillmode": "overlay",
              "size": 10,
              "solidity": 0.2
             }
            },
            "type": "bar"
           }
          ],
          "barpolar": [
           {
            "marker": {
             "line": {
              "color": "#E5ECF6",
              "width": 0.5
             },
             "pattern": {
              "fillmode": "overlay",
              "size": 10,
              "solidity": 0.2
             }
            },
            "type": "barpolar"
           }
          ],
          "carpet": [
           {
            "aaxis": {
             "endlinecolor": "#2a3f5f",
             "gridcolor": "white",
             "linecolor": "white",
             "minorgridcolor": "white",
             "startlinecolor": "#2a3f5f"
            },
            "baxis": {
             "endlinecolor": "#2a3f5f",
             "gridcolor": "white",
             "linecolor": "white",
             "minorgridcolor": "white",
             "startlinecolor": "#2a3f5f"
            },
            "type": "carpet"
           }
          ],
          "choropleth": [
           {
            "colorbar": {
             "outlinewidth": 0,
             "ticks": ""
            },
            "type": "choropleth"
           }
          ],
          "contour": [
           {
            "colorbar": {
             "outlinewidth": 0,
             "ticks": ""
            },
            "colorscale": [
             [
              0,
              "#0d0887"
             ],
             [
              0.1111111111111111,
              "#46039f"
             ],
             [
              0.2222222222222222,
              "#7201a8"
             ],
             [
              0.3333333333333333,
              "#9c179e"
             ],
             [
              0.4444444444444444,
              "#bd3786"
             ],
             [
              0.5555555555555556,
              "#d8576b"
             ],
             [
              0.6666666666666666,
              "#ed7953"
             ],
             [
              0.7777777777777778,
              "#fb9f3a"
             ],
             [
              0.8888888888888888,
              "#fdca26"
             ],
             [
              1,
              "#f0f921"
             ]
            ],
            "type": "contour"
           }
          ],
          "contourcarpet": [
           {
            "colorbar": {
             "outlinewidth": 0,
             "ticks": ""
            },
            "type": "contourcarpet"
           }
          ],
          "heatmap": [
           {
            "colorbar": {
             "outlinewidth": 0,
             "ticks": ""
            },
            "colorscale": [
             [
              0,
              "#0d0887"
             ],
             [
              0.1111111111111111,
              "#46039f"
             ],
             [
              0.2222222222222222,
              "#7201a8"
             ],
             [
              0.3333333333333333,
              "#9c179e"
             ],
             [
              0.4444444444444444,
              "#bd3786"
             ],
             [
              0.5555555555555556,
              "#d8576b"
             ],
             [
              0.6666666666666666,
              "#ed7953"
             ],
             [
              0.7777777777777778,
              "#fb9f3a"
             ],
             [
              0.8888888888888888,
              "#fdca26"
             ],
             [
              1,
              "#f0f921"
             ]
            ],
            "type": "heatmap"
           }
          ],
          "heatmapgl": [
           {
            "colorbar": {
             "outlinewidth": 0,
             "ticks": ""
            },
            "colorscale": [
             [
              0,
              "#0d0887"
             ],
             [
              0.1111111111111111,
              "#46039f"
             ],
             [
              0.2222222222222222,
              "#7201a8"
             ],
             [
              0.3333333333333333,
              "#9c179e"
             ],
             [
              0.4444444444444444,
              "#bd3786"
             ],
             [
              0.5555555555555556,
              "#d8576b"
             ],
             [
              0.6666666666666666,
              "#ed7953"
             ],
             [
              0.7777777777777778,
              "#fb9f3a"
             ],
             [
              0.8888888888888888,
              "#fdca26"
             ],
             [
              1,
              "#f0f921"
             ]
            ],
            "type": "heatmapgl"
           }
          ],
          "histogram": [
           {
            "marker": {
             "pattern": {
              "fillmode": "overlay",
              "size": 10,
              "solidity": 0.2
             }
            },
            "type": "histogram"
           }
          ],
          "histogram2d": [
           {
            "colorbar": {
             "outlinewidth": 0,
             "ticks": ""
            },
            "colorscale": [
             [
              0,
              "#0d0887"
             ],
             [
              0.1111111111111111,
              "#46039f"
             ],
             [
              0.2222222222222222,
              "#7201a8"
             ],
             [
              0.3333333333333333,
              "#9c179e"
             ],
             [
              0.4444444444444444,
              "#bd3786"
             ],
             [
              0.5555555555555556,
              "#d8576b"
             ],
             [
              0.6666666666666666,
              "#ed7953"
             ],
             [
              0.7777777777777778,
              "#fb9f3a"
             ],
             [
              0.8888888888888888,
              "#fdca26"
             ],
             [
              1,
              "#f0f921"
             ]
            ],
            "type": "histogram2d"
           }
          ],
          "histogram2dcontour": [
           {
            "colorbar": {
             "outlinewidth": 0,
             "ticks": ""
            },
            "colorscale": [
             [
              0,
              "#0d0887"
             ],
             [
              0.1111111111111111,
              "#46039f"
             ],
             [
              0.2222222222222222,
              "#7201a8"
             ],
             [
              0.3333333333333333,
              "#9c179e"
             ],
             [
              0.4444444444444444,
              "#bd3786"
             ],
             [
              0.5555555555555556,
              "#d8576b"
             ],
             [
              0.6666666666666666,
              "#ed7953"
             ],
             [
              0.7777777777777778,
              "#fb9f3a"
             ],
             [
              0.8888888888888888,
              "#fdca26"
             ],
             [
              1,
              "#f0f921"
             ]
            ],
            "type": "histogram2dcontour"
           }
          ],
          "mesh3d": [
           {
            "colorbar": {
             "outlinewidth": 0,
             "ticks": ""
            },
            "type": "mesh3d"
           }
          ],
          "parcoords": [
           {
            "line": {
             "colorbar": {
              "outlinewidth": 0,
              "ticks": ""
             }
            },
            "type": "parcoords"
           }
          ],
          "pie": [
           {
            "automargin": true,
            "type": "pie"
           }
          ],
          "scatter": [
           {
            "marker": {
             "colorbar": {
              "outlinewidth": 0,
              "ticks": ""
             }
            },
            "type": "scatter"
           }
          ],
          "scatter3d": [
           {
            "line": {
             "colorbar": {
              "outlinewidth": 0,
              "ticks": ""
             }
            },
            "marker": {
             "colorbar": {
              "outlinewidth": 0,
              "ticks": ""
             }
            },
            "type": "scatter3d"
           }
          ],
          "scattercarpet": [
           {
            "marker": {
             "colorbar": {
              "outlinewidth": 0,
              "ticks": ""
             }
            },
            "type": "scattercarpet"
           }
          ],
          "scattergeo": [
           {
            "marker": {
             "colorbar": {
              "outlinewidth": 0,
              "ticks": ""
             }
            },
            "type": "scattergeo"
           }
          ],
          "scattergl": [
           {
            "marker": {
             "colorbar": {
              "outlinewidth": 0,
              "ticks": ""
             }
            },
            "type": "scattergl"
           }
          ],
          "scattermapbox": [
           {
            "marker": {
             "colorbar": {
              "outlinewidth": 0,
              "ticks": ""
             }
            },
            "type": "scattermapbox"
           }
          ],
          "scatterpolar": [
           {
            "marker": {
             "colorbar": {
              "outlinewidth": 0,
              "ticks": ""
             }
            },
            "type": "scatterpolar"
           }
          ],
          "scatterpolargl": [
           {
            "marker": {
             "colorbar": {
              "outlinewidth": 0,
              "ticks": ""
             }
            },
            "type": "scatterpolargl"
           }
          ],
          "scatterternary": [
           {
            "marker": {
             "colorbar": {
              "outlinewidth": 0,
              "ticks": ""
             }
            },
            "type": "scatterternary"
           }
          ],
          "surface": [
           {
            "colorbar": {
             "outlinewidth": 0,
             "ticks": ""
            },
            "colorscale": [
             [
              0,
              "#0d0887"
             ],
             [
              0.1111111111111111,
              "#46039f"
             ],
             [
              0.2222222222222222,
              "#7201a8"
             ],
             [
              0.3333333333333333,
              "#9c179e"
             ],
             [
              0.4444444444444444,
              "#bd3786"
             ],
             [
              0.5555555555555556,
              "#d8576b"
             ],
             [
              0.6666666666666666,
              "#ed7953"
             ],
             [
              0.7777777777777778,
              "#fb9f3a"
             ],
             [
              0.8888888888888888,
              "#fdca26"
             ],
             [
              1,
              "#f0f921"
             ]
            ],
            "type": "surface"
           }
          ],
          "table": [
           {
            "cells": {
             "fill": {
              "color": "#EBF0F8"
             },
             "line": {
              "color": "white"
             }
            },
            "header": {
             "fill": {
              "color": "#C8D4E3"
             },
             "line": {
              "color": "white"
             }
            },
            "type": "table"
           }
          ]
         },
         "layout": {
          "annotationdefaults": {
           "arrowcolor": "#2a3f5f",
           "arrowhead": 0,
           "arrowwidth": 1
          },
          "autotypenumbers": "strict",
          "coloraxis": {
           "colorbar": {
            "outlinewidth": 0,
            "ticks": ""
           }
          },
          "colorscale": {
           "diverging": [
            [
             0,
             "#8e0152"
            ],
            [
             0.1,
             "#c51b7d"
            ],
            [
             0.2,
             "#de77ae"
            ],
            [
             0.3,
             "#f1b6da"
            ],
            [
             0.4,
             "#fde0ef"
            ],
            [
             0.5,
             "#f7f7f7"
            ],
            [
             0.6,
             "#e6f5d0"
            ],
            [
             0.7,
             "#b8e186"
            ],
            [
             0.8,
             "#7fbc41"
            ],
            [
             0.9,
             "#4d9221"
            ],
            [
             1,
             "#276419"
            ]
           ],
           "sequential": [
            [
             0,
             "#0d0887"
            ],
            [
             0.1111111111111111,
             "#46039f"
            ],
            [
             0.2222222222222222,
             "#7201a8"
            ],
            [
             0.3333333333333333,
             "#9c179e"
            ],
            [
             0.4444444444444444,
             "#bd3786"
            ],
            [
             0.5555555555555556,
             "#d8576b"
            ],
            [
             0.6666666666666666,
             "#ed7953"
            ],
            [
             0.7777777777777778,
             "#fb9f3a"
            ],
            [
             0.8888888888888888,
             "#fdca26"
            ],
            [
             1,
             "#f0f921"
            ]
           ],
           "sequentialminus": [
            [
             0,
             "#0d0887"
            ],
            [
             0.1111111111111111,
             "#46039f"
            ],
            [
             0.2222222222222222,
             "#7201a8"
            ],
            [
             0.3333333333333333,
             "#9c179e"
            ],
            [
             0.4444444444444444,
             "#bd3786"
            ],
            [
             0.5555555555555556,
             "#d8576b"
            ],
            [
             0.6666666666666666,
             "#ed7953"
            ],
            [
             0.7777777777777778,
             "#fb9f3a"
            ],
            [
             0.8888888888888888,
             "#fdca26"
            ],
            [
             1,
             "#f0f921"
            ]
           ]
          },
          "colorway": [
           "#636efa",
           "#EF553B",
           "#00cc96",
           "#ab63fa",
           "#FFA15A",
           "#19d3f3",
           "#FF6692",
           "#B6E880",
           "#FF97FF",
           "#FECB52"
          ],
          "font": {
           "color": "#2a3f5f"
          },
          "geo": {
           "bgcolor": "white",
           "lakecolor": "white",
           "landcolor": "#E5ECF6",
           "showlakes": true,
           "showland": true,
           "subunitcolor": "white"
          },
          "hoverlabel": {
           "align": "left"
          },
          "hovermode": "closest",
          "mapbox": {
           "style": "light"
          },
          "paper_bgcolor": "white",
          "plot_bgcolor": "#E5ECF6",
          "polar": {
           "angularaxis": {
            "gridcolor": "white",
            "linecolor": "white",
            "ticks": ""
           },
           "bgcolor": "#E5ECF6",
           "radialaxis": {
            "gridcolor": "white",
            "linecolor": "white",
            "ticks": ""
           }
          },
          "scene": {
           "xaxis": {
            "backgroundcolor": "#E5ECF6",
            "gridcolor": "white",
            "gridwidth": 2,
            "linecolor": "white",
            "showbackground": true,
            "ticks": "",
            "zerolinecolor": "white"
           },
           "yaxis": {
            "backgroundcolor": "#E5ECF6",
            "gridcolor": "white",
            "gridwidth": 2,
            "linecolor": "white",
            "showbackground": true,
            "ticks": "",
            "zerolinecolor": "white"
           },
           "zaxis": {
            "backgroundcolor": "#E5ECF6",
            "gridcolor": "white",
            "gridwidth": 2,
            "linecolor": "white",
            "showbackground": true,
            "ticks": "",
            "zerolinecolor": "white"
           }
          },
          "shapedefaults": {
           "line": {
            "color": "#2a3f5f"
           }
          },
          "ternary": {
           "aaxis": {
            "gridcolor": "white",
            "linecolor": "white",
            "ticks": ""
           },
           "baxis": {
            "gridcolor": "white",
            "linecolor": "white",
            "ticks": ""
           },
           "bgcolor": "#E5ECF6",
           "caxis": {
            "gridcolor": "white",
            "linecolor": "white",
            "ticks": ""
           }
          },
          "title": {
           "x": 0.05
          },
          "xaxis": {
           "automargin": true,
           "gridcolor": "white",
           "linecolor": "white",
           "ticks": "",
           "title": {
            "standoff": 15
           },
           "zerolinecolor": "white",
           "zerolinewidth": 2
          },
          "yaxis": {
           "automargin": true,
           "gridcolor": "white",
           "linecolor": "white",
           "ticks": "",
           "title": {
            "standoff": 15
           },
           "zerolinecolor": "white",
           "zerolinewidth": 2
          }
         }
        },
        "xaxis": {
         "anchor": "y",
         "domain": [
          0,
          1
         ]
        },
        "yaxis": {
         "anchor": "x",
         "domain": [
          0,
          1
         ]
        }
       }
      }
     },
     "metadata": {},
     "output_type": "display_data"
    }
   ],
   "source": [
    "display_monthly_averaged_data(df_madrid_list,months_list,'temp')"
   ]
  },
  {
   "cell_type": "code",
   "execution_count": 26,
   "metadata": {},
   "outputs": [
    {
     "data": {
      "application/vnd.plotly.v1+json": {
       "config": {
        "plotlyServerURL": "https://plot.ly"
       },
       "data": [
        {
         "name": "January",
         "type": "scatter",
         "x": [
          1,
          2,
          3,
          4,
          5,
          6,
          7,
          8,
          9,
          10,
          11,
          12,
          13,
          14,
          15,
          16,
          17,
          18,
          19,
          20,
          21,
          22,
          23,
          24,
          25,
          26,
          27,
          28,
          29,
          30,
          31
         ],
         "y": [
          282.3692675781255,
          282.3770520833338,
          283.3812109375006,
          285.64286458333385,
          283.81569270833387,
          281.0066598307297,
          282.4971393229173,
          282.45385937500055,
          282.6933343098964,
          285.95428287760467,
          286.58497753906306,
          284.0235156250006,
          283.9789583333339,
          284.4498229166672,
          284.0479775390631,
          284.60535091145886,
          283.3118906250005,
          281.32191666666716,
          281.5087757161464,
          282.15334375000054,
          284.2710413411464,
          284.41636458333386,
          283.7881197916672,
          282.6572692057296,
          283.08625520833385,
          282.78428125000045,
          284.02815104166723,
          284.62312923177143,
          284.3094469401047,
          286.16175911458384,
          284.50783723958386
         ]
        },
        {
         "name": "February",
         "type": "scatter",
         "x": [
          1,
          2,
          3,
          4,
          5,
          6,
          7,
          8,
          9,
          10,
          11,
          12,
          13,
          14,
          15,
          16,
          17,
          18,
          19,
          20,
          21,
          22,
          23,
          24,
          25,
          26,
          27,
          28,
          29
         ],
         "y": [
          284.0115520833339,
          283.4114010416672,
          284.91041438802137,
          283.2317760416673,
          282.6050468750005,
          282.62717871093804,
          283.3179166666672,
          282.57952604166724,
          283.22834375000053,
          284.14736458333385,
          285.2691979166672,
          285.98873079427136,
          286.6075488281255,
          285.6518499348962,
          285.05197460937535,
          283.63054166666706,
          282.39538313802126,
          282.969256835938,
          282.6121149088545,
          282.7497184244797,
          282.58454947916715,
          284.1426458333339,
          285.0321666666672,
          284.5122916666672,
          285.4405052083339,
          285.86159375000057,
          283.89429264322973,
          284.2615364583339,
          285.695625
         ]
        },
        {
         "name": "March",
         "type": "scatter",
         "x": [
          1,
          2,
          3,
          4,
          5,
          6,
          7,
          8,
          9,
          10,
          11,
          12,
          13,
          14,
          15,
          16,
          17,
          18,
          19,
          20,
          21,
          22,
          23,
          24,
          25,
          26,
          27,
          28,
          29,
          30,
          31
         ],
         "y": [
          286.3134479166672,
          287.92344270833394,
          287.05203125000054,
          286.64760937500057,
          285.7806419270839,
          286.69238541666726,
          286.41706250000055,
          285.7231875000006,
          287.61312695312546,
          287.6662910156255,
          285.9413372395839,
          286.50513574218803,
          284.8864222005214,
          285.6112164713547,
          284.8237535807297,
          284.5514459635422,
          283.212077148438,
          284.72201595052144,
          284.9534290364589,
          284.7886149088547,
          284.6182679036463,
          285.26755501302137,
          285.5439475911464,
          285.0629918619796,
          285.269816447369,
          286.13762006579003,
          289.6629161184216,
          290.3874622395839,
          290.5102832236848,
          289.54166145833386,
          289.09804752604225
         ]
        },
        {
         "name": "April",
         "type": "scatter",
         "x": [
          1,
          2,
          3,
          4,
          5,
          6,
          7,
          8,
          9,
          10,
          11,
          12,
          13,
          14,
          15,
          16,
          17,
          18,
          19,
          20,
          21,
          22,
          23,
          24,
          25,
          26,
          27,
          28,
          29,
          30
         ],
         "y": [
          287.29649479166716,
          286.7701871744797,
          288.08005761718806,
          288.2692347005214,
          286.9158489583339,
          287.56004166666725,
          286.99669270833385,
          287.01099576822975,
          286.80721386718807,
          286.83615104166716,
          286.8978636067714,
          288.46269303385475,
          288.69516796875047,
          289.30392805989635,
          289.5893802083339,
          290.80785416666725,
          291.2007034505214,
          289.94804199218805,
          288.6604847005214,
          287.9637399088547,
          287.8378854166671,
          288.13771354166727,
          289.2514947916672,
          289.3759687500005,
          290.17854166666723,
          290.7718805338547,
          288.8783746744798,
          288.3586998697922,
          288.26142447916726,
          289.50657291666727
         ]
        },
        {
         "name": "May",
         "type": "scatter",
         "x": [
          1,
          2,
          3,
          4,
          5,
          6,
          7,
          8,
          9,
          10,
          11,
          12,
          13,
          14,
          15,
          16,
          17,
          18,
          19,
          20,
          21,
          22,
          23,
          24,
          25,
          26,
          27,
          28,
          29,
          30,
          31
         ],
         "y": [
          289.42327083333385,
          290.6990729166669,
          291.720104166667,
          291.2741822916673,
          291.33660937500053,
          291.75578125000055,
          290.6437135416672,
          291.15245833333387,
          291.2842031250006,
          290.6739583333339,
          291.6208437500006,
          292.6581093750006,
          293.07086979166723,
          294.9381041666673,
          293.396958333334,
          292.7471093750006,
          292.1355260416672,
          292.07705208333397,
          291.5148177083339,
          291.5078958333339,
          291.60460416666723,
          292.30613020833385,
          292.2569166666672,
          292.50627604166726,
          293.37456250000054,
          293.90799218750055,
          293.5094114583339,
          293.36258333333376,
          293.03054166666726,
          293.1164166666673,
          293.40582291666726
         ]
        },
        {
         "name": "June",
         "type": "scatter",
         "x": [
          1,
          2,
          3,
          4,
          5,
          6,
          7,
          8,
          9,
          10,
          11,
          12,
          13,
          14,
          15,
          16,
          17,
          18,
          19,
          20,
          21,
          22,
          23,
          24,
          25,
          26,
          27,
          28,
          29,
          30
         ],
         "y": [
          294.1521822916672,
          294.60958333333394,
          294.7461145833339,
          293.9127291666672,
          294.1336458333339,
          294.7538958333339,
          294.6134166666672,
          295.87720833333395,
          296.77812500000056,
          296.4705208333339,
          296.1547291666672,
          296.74264583333394,
          296.9783854166673,
          296.1918437500006,
          296.44764583333387,
          295.84125000000057,
          296.39291666666725,
          296.94715625000066,
          297.0685625000006,
          297.26078125000055,
          297.81682291666726,
          298.3605416666672,
          298.22629166666724,
          297.5077604166673,
          297.47666666666726,
          298.43520833333395,
          299.38354166666727,
          299.76286458333396,
          299.0609375000006,
          298.3183645833339
         ]
        },
        {
         "name": "July",
         "type": "scatter",
         "x": [
          1,
          2,
          3,
          4,
          5,
          6,
          7,
          8,
          9,
          10,
          11,
          12,
          13,
          14,
          15,
          16,
          17,
          18,
          19,
          20,
          21,
          22,
          23,
          24,
          25,
          26,
          27,
          28,
          29,
          30,
          31
         ],
         "y": [
          297.8888541666673,
          298.53870410156304,
          298.0706250000006,
          298.65072916666725,
          299.24958333333393,
          299.8531250000006,
          299.77197916666734,
          300.689895833334,
          300.20412500000054,
          300.4037500000006,
          299.7732291666673,
          299.85781250000065,
          299.2976145833339,
          299.5305937500006,
          299.42517708333395,
          300.16004166666727,
          299.32904166666725,
          299.2462812500006,
          297.73237500000056,
          297.9705833333339,
          299.8322500000006,
          299.45645833333396,
          299.54454166666727,
          300.7027708333339,
          300.0225625000006,
          300.0007291666673,
          300.6127604166673,
          300.38677083333397,
          300.7732291666673,
          300.53979166666727,
          300.43239583333394
         ]
        },
        {
         "name": "August",
         "type": "scatter",
         "x": [
          1,
          2,
          3,
          4,
          5,
          6,
          7,
          8,
          9,
          10,
          11,
          12,
          13,
          14,
          15,
          16,
          17,
          18,
          19,
          20,
          21,
          22,
          23,
          24,
          25,
          26,
          27,
          28,
          29,
          30,
          31
         ],
         "y": [
          299.3404166666673,
          300.0779062500006,
          301.1891979166672,
          301.7952187500005,
          301.3368125000005,
          300.74714583333395,
          300.89672656250053,
          299.6110416666673,
          299.3309062500006,
          297.0581250000006,
          298.05437500000056,
          298.8600000000006,
          299.2308333333339,
          298.5413541666673,
          297.8657291666672,
          298.00228645833386,
          299.44583333333395,
          298.6976562500006,
          299.0569791666673,
          299.37802083333395,
          299.2127812500006,
          298.99672916666725,
          298.8878125000006,
          298.7959375000006,
          298.22134895833386,
          298.83270833333387,
          299.5882291666673,
          299.6342708333339,
          298.4930208333339,
          298.3530208333339,
          298.4034375000006
         ]
        },
        {
         "name": "September",
         "type": "scatter",
         "x": [
          1,
          2,
          3,
          4,
          5,
          6,
          7,
          8,
          9,
          10,
          11,
          12,
          13,
          14,
          15,
          16,
          17,
          18,
          19,
          20,
          21,
          22,
          23,
          24,
          25,
          26,
          27,
          28,
          29,
          30
         ],
         "y": [
          297.8267343750006,
          298.11752604166725,
          298.3628125000006,
          297.8878125000006,
          298.57218750000055,
          297.6122916666672,
          296.43197916666725,
          296.26687500000054,
          296.31041666666727,
          296.1867708333339,
          297.5709375000006,
          296.82781250000056,
          296.66062500000055,
          296.28458333333396,
          294.23947916666725,
          294.8012500000006,
          294.78760416666734,
          294.3910244140631,
          294.4056250000006,
          294.96910416666725,
          295.57096582031306,
          295.66940104166724,
          295.66208333333395,
          295.1800572916672,
          295.39813541666723,
          294.36218750000063,
          294.1181250000006,
          293.2888281250005,
          292.9957291666672,
          293.3634375000006
         ]
        },
        {
         "name": "October",
         "type": "scatter",
         "x": [
          1,
          2,
          3,
          4,
          5,
          6,
          7,
          8,
          9,
          10,
          11,
          12,
          13,
          14,
          15,
          16,
          17,
          18,
          19,
          20,
          21,
          22,
          23,
          24,
          25,
          26,
          27,
          28,
          29,
          30,
          31
         ],
         "y": [
          293.98376041666734,
          293.8268750000006,
          293.84844270833383,
          294.2961927083339,
          294.59481770833395,
          294.20321875000053,
          292.6339427083339,
          291.7796562500005,
          291.5520208333339,
          291.7764270833339,
          292.7544687500006,
          292.67915625000063,
          291.5805989583339,
          291.42627083333394,
          290.5168645833339,
          290.7075087890631,
          292.4481302083339,
          291.89395833333396,
          290.81481770833386,
          290.84641666666715,
          290.61339062500053,
          290.12036458333387,
          289.89361458333394,
          290.8425312500005,
          291.35150515463977,
          291.02789583333384,
          290.8456354166672,
          289.29326288659854,
          288.5343298969078,
          287.4624329896913,
          288.1898645833339
         ]
        },
        {
         "name": "November",
         "type": "scatter",
         "x": [
          1,
          2,
          3,
          4,
          5,
          6,
          7,
          8,
          9,
          10,
          11,
          12,
          13,
          14,
          15,
          16,
          17,
          18,
          19,
          20,
          21,
          22,
          23,
          24,
          25,
          26,
          27,
          28,
          29,
          30
         ],
         "y": [
          289.0958437500006,
          289.09505208333377,
          289.1714375000005,
          289.5590572916671,
          290.26835937500044,
          288.9444166666671,
          287.5331979166671,
          287.34214583333375,
          287.6988854166671,
          287.42131250000045,
          288.60730208333376,
          287.77781250000044,
          288.8163489583338,
          286.9669791666671,
          286.1111041666671,
          286.0495472005213,
          286.1130052083338,
          286.1787431640628,
          286.7704895833336,
          287.8743385416671,
          287.71064062500045,
          284.93689062500044,
          284.43978645833374,
          284.9481842447921,
          287.0651354166671,
          287.5182395833338,
          285.66886979166696,
          285.5540000000001,
          283.9564791666666,
          284.32553125000015
         ]
        },
        {
         "name": "December",
         "type": "scatter",
         "x": [
          1,
          2,
          3,
          4,
          5,
          6,
          7,
          8,
          9,
          10,
          11,
          12,
          13,
          14,
          15,
          16,
          17,
          18,
          19,
          20,
          21,
          22,
          23,
          24,
          25,
          26,
          27,
          28,
          29,
          30,
          31
         ],
         "y": [
          283.18353125000016,
          283.34254166666676,
          283.5554951171877,
          284.3775052083335,
          284.5181165364584,
          284.68002441406264,
          284.13370312500007,
          285.28323958333334,
          286.5056839192709,
          286.72421191406255,
          285.26404166666674,
          284.5102395833335,
          283.8588489583334,
          285.35484570312514,
          286.32326236979185,
          285.63079882812514,
          284.1873333333335,
          282.57703125000006,
          284.81923958333346,
          283.3966197916668,
          282.81497916666666,
          283.8261770833334,
          283.1294895833334,
          283.4215937500002,
          282.17297395833356,
          283.75860416666677,
          283.8655729166668,
          284.6853333333335,
          284.1797500000001,
          283.61983333333336,
          284.2688541666668
         ]
        }
       ],
       "layout": {
        "legend": {
         "tracegroupgap": 0
        },
        "margin": {
         "t": 60
        },
        "template": {
         "data": {
          "bar": [
           {
            "error_x": {
             "color": "#2a3f5f"
            },
            "error_y": {
             "color": "#2a3f5f"
            },
            "marker": {
             "line": {
              "color": "#E5ECF6",
              "width": 0.5
             },
             "pattern": {
              "fillmode": "overlay",
              "size": 10,
              "solidity": 0.2
             }
            },
            "type": "bar"
           }
          ],
          "barpolar": [
           {
            "marker": {
             "line": {
              "color": "#E5ECF6",
              "width": 0.5
             },
             "pattern": {
              "fillmode": "overlay",
              "size": 10,
              "solidity": 0.2
             }
            },
            "type": "barpolar"
           }
          ],
          "carpet": [
           {
            "aaxis": {
             "endlinecolor": "#2a3f5f",
             "gridcolor": "white",
             "linecolor": "white",
             "minorgridcolor": "white",
             "startlinecolor": "#2a3f5f"
            },
            "baxis": {
             "endlinecolor": "#2a3f5f",
             "gridcolor": "white",
             "linecolor": "white",
             "minorgridcolor": "white",
             "startlinecolor": "#2a3f5f"
            },
            "type": "carpet"
           }
          ],
          "choropleth": [
           {
            "colorbar": {
             "outlinewidth": 0,
             "ticks": ""
            },
            "type": "choropleth"
           }
          ],
          "contour": [
           {
            "colorbar": {
             "outlinewidth": 0,
             "ticks": ""
            },
            "colorscale": [
             [
              0,
              "#0d0887"
             ],
             [
              0.1111111111111111,
              "#46039f"
             ],
             [
              0.2222222222222222,
              "#7201a8"
             ],
             [
              0.3333333333333333,
              "#9c179e"
             ],
             [
              0.4444444444444444,
              "#bd3786"
             ],
             [
              0.5555555555555556,
              "#d8576b"
             ],
             [
              0.6666666666666666,
              "#ed7953"
             ],
             [
              0.7777777777777778,
              "#fb9f3a"
             ],
             [
              0.8888888888888888,
              "#fdca26"
             ],
             [
              1,
              "#f0f921"
             ]
            ],
            "type": "contour"
           }
          ],
          "contourcarpet": [
           {
            "colorbar": {
             "outlinewidth": 0,
             "ticks": ""
            },
            "type": "contourcarpet"
           }
          ],
          "heatmap": [
           {
            "colorbar": {
             "outlinewidth": 0,
             "ticks": ""
            },
            "colorscale": [
             [
              0,
              "#0d0887"
             ],
             [
              0.1111111111111111,
              "#46039f"
             ],
             [
              0.2222222222222222,
              "#7201a8"
             ],
             [
              0.3333333333333333,
              "#9c179e"
             ],
             [
              0.4444444444444444,
              "#bd3786"
             ],
             [
              0.5555555555555556,
              "#d8576b"
             ],
             [
              0.6666666666666666,
              "#ed7953"
             ],
             [
              0.7777777777777778,
              "#fb9f3a"
             ],
             [
              0.8888888888888888,
              "#fdca26"
             ],
             [
              1,
              "#f0f921"
             ]
            ],
            "type": "heatmap"
           }
          ],
          "heatmapgl": [
           {
            "colorbar": {
             "outlinewidth": 0,
             "ticks": ""
            },
            "colorscale": [
             [
              0,
              "#0d0887"
             ],
             [
              0.1111111111111111,
              "#46039f"
             ],
             [
              0.2222222222222222,
              "#7201a8"
             ],
             [
              0.3333333333333333,
              "#9c179e"
             ],
             [
              0.4444444444444444,
              "#bd3786"
             ],
             [
              0.5555555555555556,
              "#d8576b"
             ],
             [
              0.6666666666666666,
              "#ed7953"
             ],
             [
              0.7777777777777778,
              "#fb9f3a"
             ],
             [
              0.8888888888888888,
              "#fdca26"
             ],
             [
              1,
              "#f0f921"
             ]
            ],
            "type": "heatmapgl"
           }
          ],
          "histogram": [
           {
            "marker": {
             "pattern": {
              "fillmode": "overlay",
              "size": 10,
              "solidity": 0.2
             }
            },
            "type": "histogram"
           }
          ],
          "histogram2d": [
           {
            "colorbar": {
             "outlinewidth": 0,
             "ticks": ""
            },
            "colorscale": [
             [
              0,
              "#0d0887"
             ],
             [
              0.1111111111111111,
              "#46039f"
             ],
             [
              0.2222222222222222,
              "#7201a8"
             ],
             [
              0.3333333333333333,
              "#9c179e"
             ],
             [
              0.4444444444444444,
              "#bd3786"
             ],
             [
              0.5555555555555556,
              "#d8576b"
             ],
             [
              0.6666666666666666,
              "#ed7953"
             ],
             [
              0.7777777777777778,
              "#fb9f3a"
             ],
             [
              0.8888888888888888,
              "#fdca26"
             ],
             [
              1,
              "#f0f921"
             ]
            ],
            "type": "histogram2d"
           }
          ],
          "histogram2dcontour": [
           {
            "colorbar": {
             "outlinewidth": 0,
             "ticks": ""
            },
            "colorscale": [
             [
              0,
              "#0d0887"
             ],
             [
              0.1111111111111111,
              "#46039f"
             ],
             [
              0.2222222222222222,
              "#7201a8"
             ],
             [
              0.3333333333333333,
              "#9c179e"
             ],
             [
              0.4444444444444444,
              "#bd3786"
             ],
             [
              0.5555555555555556,
              "#d8576b"
             ],
             [
              0.6666666666666666,
              "#ed7953"
             ],
             [
              0.7777777777777778,
              "#fb9f3a"
             ],
             [
              0.8888888888888888,
              "#fdca26"
             ],
             [
              1,
              "#f0f921"
             ]
            ],
            "type": "histogram2dcontour"
           }
          ],
          "mesh3d": [
           {
            "colorbar": {
             "outlinewidth": 0,
             "ticks": ""
            },
            "type": "mesh3d"
           }
          ],
          "parcoords": [
           {
            "line": {
             "colorbar": {
              "outlinewidth": 0,
              "ticks": ""
             }
            },
            "type": "parcoords"
           }
          ],
          "pie": [
           {
            "automargin": true,
            "type": "pie"
           }
          ],
          "scatter": [
           {
            "marker": {
             "colorbar": {
              "outlinewidth": 0,
              "ticks": ""
             }
            },
            "type": "scatter"
           }
          ],
          "scatter3d": [
           {
            "line": {
             "colorbar": {
              "outlinewidth": 0,
              "ticks": ""
             }
            },
            "marker": {
             "colorbar": {
              "outlinewidth": 0,
              "ticks": ""
             }
            },
            "type": "scatter3d"
           }
          ],
          "scattercarpet": [
           {
            "marker": {
             "colorbar": {
              "outlinewidth": 0,
              "ticks": ""
             }
            },
            "type": "scattercarpet"
           }
          ],
          "scattergeo": [
           {
            "marker": {
             "colorbar": {
              "outlinewidth": 0,
              "ticks": ""
             }
            },
            "type": "scattergeo"
           }
          ],
          "scattergl": [
           {
            "marker": {
             "colorbar": {
              "outlinewidth": 0,
              "ticks": ""
             }
            },
            "type": "scattergl"
           }
          ],
          "scattermapbox": [
           {
            "marker": {
             "colorbar": {
              "outlinewidth": 0,
              "ticks": ""
             }
            },
            "type": "scattermapbox"
           }
          ],
          "scatterpolar": [
           {
            "marker": {
             "colorbar": {
              "outlinewidth": 0,
              "ticks": ""
             }
            },
            "type": "scatterpolar"
           }
          ],
          "scatterpolargl": [
           {
            "marker": {
             "colorbar": {
              "outlinewidth": 0,
              "ticks": ""
             }
            },
            "type": "scatterpolargl"
           }
          ],
          "scatterternary": [
           {
            "marker": {
             "colorbar": {
              "outlinewidth": 0,
              "ticks": ""
             }
            },
            "type": "scatterternary"
           }
          ],
          "surface": [
           {
            "colorbar": {
             "outlinewidth": 0,
             "ticks": ""
            },
            "colorscale": [
             [
              0,
              "#0d0887"
             ],
             [
              0.1111111111111111,
              "#46039f"
             ],
             [
              0.2222222222222222,
              "#7201a8"
             ],
             [
              0.3333333333333333,
              "#9c179e"
             ],
             [
              0.4444444444444444,
              "#bd3786"
             ],
             [
              0.5555555555555556,
              "#d8576b"
             ],
             [
              0.6666666666666666,
              "#ed7953"
             ],
             [
              0.7777777777777778,
              "#fb9f3a"
             ],
             [
              0.8888888888888888,
              "#fdca26"
             ],
             [
              1,
              "#f0f921"
             ]
            ],
            "type": "surface"
           }
          ],
          "table": [
           {
            "cells": {
             "fill": {
              "color": "#EBF0F8"
             },
             "line": {
              "color": "white"
             }
            },
            "header": {
             "fill": {
              "color": "#C8D4E3"
             },
             "line": {
              "color": "white"
             }
            },
            "type": "table"
           }
          ]
         },
         "layout": {
          "annotationdefaults": {
           "arrowcolor": "#2a3f5f",
           "arrowhead": 0,
           "arrowwidth": 1
          },
          "autotypenumbers": "strict",
          "coloraxis": {
           "colorbar": {
            "outlinewidth": 0,
            "ticks": ""
           }
          },
          "colorscale": {
           "diverging": [
            [
             0,
             "#8e0152"
            ],
            [
             0.1,
             "#c51b7d"
            ],
            [
             0.2,
             "#de77ae"
            ],
            [
             0.3,
             "#f1b6da"
            ],
            [
             0.4,
             "#fde0ef"
            ],
            [
             0.5,
             "#f7f7f7"
            ],
            [
             0.6,
             "#e6f5d0"
            ],
            [
             0.7,
             "#b8e186"
            ],
            [
             0.8,
             "#7fbc41"
            ],
            [
             0.9,
             "#4d9221"
            ],
            [
             1,
             "#276419"
            ]
           ],
           "sequential": [
            [
             0,
             "#0d0887"
            ],
            [
             0.1111111111111111,
             "#46039f"
            ],
            [
             0.2222222222222222,
             "#7201a8"
            ],
            [
             0.3333333333333333,
             "#9c179e"
            ],
            [
             0.4444444444444444,
             "#bd3786"
            ],
            [
             0.5555555555555556,
             "#d8576b"
            ],
            [
             0.6666666666666666,
             "#ed7953"
            ],
            [
             0.7777777777777778,
             "#fb9f3a"
            ],
            [
             0.8888888888888888,
             "#fdca26"
            ],
            [
             1,
             "#f0f921"
            ]
           ],
           "sequentialminus": [
            [
             0,
             "#0d0887"
            ],
            [
             0.1111111111111111,
             "#46039f"
            ],
            [
             0.2222222222222222,
             "#7201a8"
            ],
            [
             0.3333333333333333,
             "#9c179e"
            ],
            [
             0.4444444444444444,
             "#bd3786"
            ],
            [
             0.5555555555555556,
             "#d8576b"
            ],
            [
             0.6666666666666666,
             "#ed7953"
            ],
            [
             0.7777777777777778,
             "#fb9f3a"
            ],
            [
             0.8888888888888888,
             "#fdca26"
            ],
            [
             1,
             "#f0f921"
            ]
           ]
          },
          "colorway": [
           "#636efa",
           "#EF553B",
           "#00cc96",
           "#ab63fa",
           "#FFA15A",
           "#19d3f3",
           "#FF6692",
           "#B6E880",
           "#FF97FF",
           "#FECB52"
          ],
          "font": {
           "color": "#2a3f5f"
          },
          "geo": {
           "bgcolor": "white",
           "lakecolor": "white",
           "landcolor": "#E5ECF6",
           "showlakes": true,
           "showland": true,
           "subunitcolor": "white"
          },
          "hoverlabel": {
           "align": "left"
          },
          "hovermode": "closest",
          "mapbox": {
           "style": "light"
          },
          "paper_bgcolor": "white",
          "plot_bgcolor": "#E5ECF6",
          "polar": {
           "angularaxis": {
            "gridcolor": "white",
            "linecolor": "white",
            "ticks": ""
           },
           "bgcolor": "#E5ECF6",
           "radialaxis": {
            "gridcolor": "white",
            "linecolor": "white",
            "ticks": ""
           }
          },
          "scene": {
           "xaxis": {
            "backgroundcolor": "#E5ECF6",
            "gridcolor": "white",
            "gridwidth": 2,
            "linecolor": "white",
            "showbackground": true,
            "ticks": "",
            "zerolinecolor": "white"
           },
           "yaxis": {
            "backgroundcolor": "#E5ECF6",
            "gridcolor": "white",
            "gridwidth": 2,
            "linecolor": "white",
            "showbackground": true,
            "ticks": "",
            "zerolinecolor": "white"
           },
           "zaxis": {
            "backgroundcolor": "#E5ECF6",
            "gridcolor": "white",
            "gridwidth": 2,
            "linecolor": "white",
            "showbackground": true,
            "ticks": "",
            "zerolinecolor": "white"
           }
          },
          "shapedefaults": {
           "line": {
            "color": "#2a3f5f"
           }
          },
          "ternary": {
           "aaxis": {
            "gridcolor": "white",
            "linecolor": "white",
            "ticks": ""
           },
           "baxis": {
            "gridcolor": "white",
            "linecolor": "white",
            "ticks": ""
           },
           "bgcolor": "#E5ECF6",
           "caxis": {
            "gridcolor": "white",
            "linecolor": "white",
            "ticks": ""
           }
          },
          "title": {
           "x": 0.05
          },
          "xaxis": {
           "automargin": true,
           "gridcolor": "white",
           "linecolor": "white",
           "ticks": "",
           "title": {
            "standoff": 15
           },
           "zerolinecolor": "white",
           "zerolinewidth": 2
          },
          "yaxis": {
           "automargin": true,
           "gridcolor": "white",
           "linecolor": "white",
           "ticks": "",
           "title": {
            "standoff": 15
           },
           "zerolinecolor": "white",
           "zerolinewidth": 2
          }
         }
        },
        "xaxis": {
         "anchor": "y",
         "domain": [
          0,
          1
         ]
        },
        "yaxis": {
         "anchor": "x",
         "domain": [
          0,
          1
         ]
        }
       }
      }
     },
     "metadata": {},
     "output_type": "display_data"
    }
   ],
   "source": [
    "display_monthly_averaged_data(df_valencia_list,months_list,'temp')"
   ]
  },
  {
   "cell_type": "code",
   "execution_count": null,
   "metadata": {},
   "outputs": [],
   "source": []
  }
 ],
 "metadata": {
  "interpreter": {
   "hash": "1259e544f7c88cffa22b374c78440332cebcf1c64fb277e69ada7ea019600051"
  },
  "kernelspec": {
   "display_name": "Python 3.9.4 64-bit ('env': conda)",
   "name": "python3"
  },
  "language_info": {
   "codemirror_mode": {
    "name": "ipython",
    "version": 3
   },
   "file_extension": ".py",
   "mimetype": "text/x-python",
   "name": "python",
   "nbconvert_exporter": "python",
   "pygments_lexer": "ipython3",
   "version": "3.9.4"
  },
  "orig_nbformat": 4
 },
 "nbformat": 4,
 "nbformat_minor": 2
}
