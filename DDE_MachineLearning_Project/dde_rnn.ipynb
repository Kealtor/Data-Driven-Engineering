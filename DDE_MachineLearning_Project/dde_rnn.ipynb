{
 "cells": [
  {
   "cell_type": "code",
   "execution_count": 1,
   "metadata": {},
   "outputs": [],
   "source": [
    "import numpy as np\n",
    "import pandas as pd\n",
    "from datetime import date\n",
    "import plotly.express as px\n",
    "import plotly.graph_objects as go\n",
    "import math\n",
    "import matplotlib.pyplot as plt\n",
    "from sklearn import preprocessing as pp\n",
    "import matplotlib as mpl\n",
    "from sklearn.decomposition import PCA\n",
    "from pandas.plotting import lag_plot, autocorrelation_plot\n",
    "from statsmodels.graphics.tsaplots import plot_acf, plot_pacf \n",
    "import statsmodels.api as smw\n",
    "from datetime import timedelta\n",
    "from statsmodels.tsa.statespace.sarimax import SARIMAX\n",
    "from sklearn.svm import SVR\n",
    "from sklearn.metrics import r2_score\n",
    "# ML Algorithms to be used\n",
    "import tensorflow as tf\n",
    "from tensorflow import keras\n",
    "from keras import optimizers, models, layers, regularizers\n",
    "tf.__version__\n",
    "from utils.dde_preprocessing_utils import (set_timestamp_index,\n",
    "remove_duplicates,\n",
    "remove_columns,\n",
    "extract_correlations,\n",
    "prepare_data_sarimax,\n",
    "create_test_train_split,\n",
    "create_sarimax_test_train_split,\n",
    "create_eval_df,\n",
    "convert_to_sample_time_feature)\n",
    "from utils.dde_plotting_utils import(\n",
    "display_double_timestamps,\n",
    "display_seasonal_decomposition,\n",
    "plot_predictions,\n",
    "plot_accuracy,\n",
    "plot_error_variations,\n",
    "plot_learning_curves,\n",
    ")\n",
    "%load_ext skip_kernel_extension"
   ]
  },
  {
   "cell_type": "code",
   "execution_count": 2,
   "metadata": {},
   "outputs": [],
   "source": [
    "SKIP_RETRAIN_RNN = False\n"
   ]
  },
  {
   "cell_type": "markdown",
   "metadata": {},
   "source": [
    "## Loading Data"
   ]
  },
  {
   "cell_type": "code",
   "execution_count": 3,
   "metadata": {},
   "outputs": [],
   "source": [
    "combined_df = pd.read_csv(\"preprocessed_data.csv\")\n",
    "combined_df = set_timestamp_index(combined_df,\"Unnamed: 0\")"
   ]
  },
  {
   "cell_type": "code",
   "execution_count": 4,
   "metadata": {},
   "outputs": [
    {
     "data": {
      "text/html": [
       "<div>\n",
       "<style scoped>\n",
       "    .dataframe tbody tr th:only-of-type {\n",
       "        vertical-align: middle;\n",
       "    }\n",
       "\n",
       "    .dataframe tbody tr th {\n",
       "        vertical-align: top;\n",
       "    }\n",
       "\n",
       "    .dataframe thead th {\n",
       "        text-align: right;\n",
       "    }\n",
       "</style>\n",
       "<table border=\"1\" class=\"dataframe\">\n",
       "  <thead>\n",
       "    <tr style=\"text-align: right;\">\n",
       "      <th></th>\n",
       "      <th>temp</th>\n",
       "      <th>pressure</th>\n",
       "      <th>humidity</th>\n",
       "      <th>wind_speed</th>\n",
       "      <th>wind_deg</th>\n",
       "      <th>generation biomass</th>\n",
       "      <th>generation fossil brown coal/lignite</th>\n",
       "      <th>generation fossil gas</th>\n",
       "      <th>generation fossil hard coal</th>\n",
       "      <th>generation fossil oil</th>\n",
       "      <th>...</th>\n",
       "      <th>generation solar</th>\n",
       "      <th>generation waste</th>\n",
       "      <th>generation wind onshore</th>\n",
       "      <th>total load actual</th>\n",
       "      <th>price actual</th>\n",
       "      <th>generation</th>\n",
       "      <th>energy_difference</th>\n",
       "      <th>month</th>\n",
       "      <th>day</th>\n",
       "      <th>weekend</th>\n",
       "    </tr>\n",
       "  </thead>\n",
       "  <tbody>\n",
       "    <tr>\n",
       "      <th>2015-01-01 00:00:00+01:00</th>\n",
       "      <td>-2.675</td>\n",
       "      <td>1001.0</td>\n",
       "      <td>77</td>\n",
       "      <td>1.0</td>\n",
       "      <td>62</td>\n",
       "      <td>447.0</td>\n",
       "      <td>329.0</td>\n",
       "      <td>4844.0</td>\n",
       "      <td>4821.0</td>\n",
       "      <td>162.0</td>\n",
       "      <td>...</td>\n",
       "      <td>49.0</td>\n",
       "      <td>196.0</td>\n",
       "      <td>6378.0</td>\n",
       "      <td>25385.0</td>\n",
       "      <td>65.41</td>\n",
       "      <td>28251.0</td>\n",
       "      <td>2866.0</td>\n",
       "      <td>1</td>\n",
       "      <td>1</td>\n",
       "      <td>0</td>\n",
       "    </tr>\n",
       "    <tr>\n",
       "      <th>2015-01-01 01:00:00+01:00</th>\n",
       "      <td>-2.675</td>\n",
       "      <td>1001.0</td>\n",
       "      <td>77</td>\n",
       "      <td>1.0</td>\n",
       "      <td>62</td>\n",
       "      <td>449.0</td>\n",
       "      <td>328.0</td>\n",
       "      <td>5196.0</td>\n",
       "      <td>4755.0</td>\n",
       "      <td>158.0</td>\n",
       "      <td>...</td>\n",
       "      <td>50.0</td>\n",
       "      <td>195.0</td>\n",
       "      <td>5890.0</td>\n",
       "      <td>24382.0</td>\n",
       "      <td>64.92</td>\n",
       "      <td>27818.0</td>\n",
       "      <td>3436.0</td>\n",
       "      <td>1</td>\n",
       "      <td>1</td>\n",
       "      <td>0</td>\n",
       "    </tr>\n",
       "    <tr>\n",
       "      <th>2015-01-01 02:00:00+01:00</th>\n",
       "      <td>-3.464</td>\n",
       "      <td>1002.0</td>\n",
       "      <td>78</td>\n",
       "      <td>0.0</td>\n",
       "      <td>23</td>\n",
       "      <td>448.0</td>\n",
       "      <td>323.0</td>\n",
       "      <td>4857.0</td>\n",
       "      <td>4581.0</td>\n",
       "      <td>157.0</td>\n",
       "      <td>...</td>\n",
       "      <td>50.0</td>\n",
       "      <td>196.0</td>\n",
       "      <td>5461.0</td>\n",
       "      <td>22734.0</td>\n",
       "      <td>64.48</td>\n",
       "      <td>26796.0</td>\n",
       "      <td>4062.0</td>\n",
       "      <td>1</td>\n",
       "      <td>1</td>\n",
       "      <td>0</td>\n",
       "    </tr>\n",
       "    <tr>\n",
       "      <th>2015-01-01 03:00:00+01:00</th>\n",
       "      <td>-3.464</td>\n",
       "      <td>1002.0</td>\n",
       "      <td>78</td>\n",
       "      <td>0.0</td>\n",
       "      <td>23</td>\n",
       "      <td>438.0</td>\n",
       "      <td>254.0</td>\n",
       "      <td>4314.0</td>\n",
       "      <td>4131.0</td>\n",
       "      <td>160.0</td>\n",
       "      <td>...</td>\n",
       "      <td>50.0</td>\n",
       "      <td>191.0</td>\n",
       "      <td>5238.0</td>\n",
       "      <td>21286.0</td>\n",
       "      <td>59.32</td>\n",
       "      <td>25223.0</td>\n",
       "      <td>3937.0</td>\n",
       "      <td>1</td>\n",
       "      <td>1</td>\n",
       "      <td>0</td>\n",
       "    </tr>\n",
       "    <tr>\n",
       "      <th>2015-01-01 04:00:00+01:00</th>\n",
       "      <td>-3.464</td>\n",
       "      <td>1002.0</td>\n",
       "      <td>78</td>\n",
       "      <td>0.0</td>\n",
       "      <td>23</td>\n",
       "      <td>428.0</td>\n",
       "      <td>187.0</td>\n",
       "      <td>4130.0</td>\n",
       "      <td>3840.0</td>\n",
       "      <td>156.0</td>\n",
       "      <td>...</td>\n",
       "      <td>42.0</td>\n",
       "      <td>189.0</td>\n",
       "      <td>4935.0</td>\n",
       "      <td>20264.0</td>\n",
       "      <td>56.04</td>\n",
       "      <td>24620.0</td>\n",
       "      <td>4356.0</td>\n",
       "      <td>1</td>\n",
       "      <td>1</td>\n",
       "      <td>0</td>\n",
       "    </tr>\n",
       "    <tr>\n",
       "      <th>...</th>\n",
       "      <td>...</td>\n",
       "      <td>...</td>\n",
       "      <td>...</td>\n",
       "      <td>...</td>\n",
       "      <td>...</td>\n",
       "      <td>...</td>\n",
       "      <td>...</td>\n",
       "      <td>...</td>\n",
       "      <td>...</td>\n",
       "      <td>...</td>\n",
       "      <td>...</td>\n",
       "      <td>...</td>\n",
       "      <td>...</td>\n",
       "      <td>...</td>\n",
       "      <td>...</td>\n",
       "      <td>...</td>\n",
       "      <td>...</td>\n",
       "      <td>...</td>\n",
       "      <td>...</td>\n",
       "      <td>...</td>\n",
       "      <td>...</td>\n",
       "    </tr>\n",
       "    <tr>\n",
       "      <th>2018-12-31 19:00:00+01:00</th>\n",
       "      <td>12.490</td>\n",
       "      <td>1028.0</td>\n",
       "      <td>62</td>\n",
       "      <td>2.0</td>\n",
       "      <td>140</td>\n",
       "      <td>297.0</td>\n",
       "      <td>0.0</td>\n",
       "      <td>7634.0</td>\n",
       "      <td>2628.0</td>\n",
       "      <td>178.0</td>\n",
       "      <td>...</td>\n",
       "      <td>85.0</td>\n",
       "      <td>277.0</td>\n",
       "      <td>3113.0</td>\n",
       "      <td>30653.0</td>\n",
       "      <td>77.02</td>\n",
       "      <td>26415.0</td>\n",
       "      <td>-4238.0</td>\n",
       "      <td>12</td>\n",
       "      <td>31</td>\n",
       "      <td>0</td>\n",
       "    </tr>\n",
       "    <tr>\n",
       "      <th>2018-12-31 20:00:00+01:00</th>\n",
       "      <td>9.990</td>\n",
       "      <td>1029.0</td>\n",
       "      <td>71</td>\n",
       "      <td>1.0</td>\n",
       "      <td>242</td>\n",
       "      <td>296.0</td>\n",
       "      <td>0.0</td>\n",
       "      <td>7241.0</td>\n",
       "      <td>2566.0</td>\n",
       "      <td>174.0</td>\n",
       "      <td>...</td>\n",
       "      <td>33.0</td>\n",
       "      <td>280.0</td>\n",
       "      <td>3288.0</td>\n",
       "      <td>29735.0</td>\n",
       "      <td>76.16</td>\n",
       "      <td>25213.0</td>\n",
       "      <td>-4522.0</td>\n",
       "      <td>12</td>\n",
       "      <td>31</td>\n",
       "      <td>0</td>\n",
       "    </tr>\n",
       "    <tr>\n",
       "      <th>2018-12-31 21:00:00+01:00</th>\n",
       "      <td>8.510</td>\n",
       "      <td>1029.0</td>\n",
       "      <td>81</td>\n",
       "      <td>3.0</td>\n",
       "      <td>300</td>\n",
       "      <td>292.0</td>\n",
       "      <td>0.0</td>\n",
       "      <td>7025.0</td>\n",
       "      <td>2422.0</td>\n",
       "      <td>168.0</td>\n",
       "      <td>...</td>\n",
       "      <td>31.0</td>\n",
       "      <td>286.0</td>\n",
       "      <td>3503.0</td>\n",
       "      <td>28071.0</td>\n",
       "      <td>74.30</td>\n",
       "      <td>23987.0</td>\n",
       "      <td>-4084.0</td>\n",
       "      <td>12</td>\n",
       "      <td>31</td>\n",
       "      <td>0</td>\n",
       "    </tr>\n",
       "    <tr>\n",
       "      <th>2018-12-31 22:00:00+01:00</th>\n",
       "      <td>6.990</td>\n",
       "      <td>1029.0</td>\n",
       "      <td>81</td>\n",
       "      <td>2.0</td>\n",
       "      <td>310</td>\n",
       "      <td>293.0</td>\n",
       "      <td>0.0</td>\n",
       "      <td>6562.0</td>\n",
       "      <td>2293.0</td>\n",
       "      <td>163.0</td>\n",
       "      <td>...</td>\n",
       "      <td>31.0</td>\n",
       "      <td>287.0</td>\n",
       "      <td>3586.0</td>\n",
       "      <td>25801.0</td>\n",
       "      <td>69.89</td>\n",
       "      <td>22748.0</td>\n",
       "      <td>-3053.0</td>\n",
       "      <td>12</td>\n",
       "      <td>31</td>\n",
       "      <td>0</td>\n",
       "    </tr>\n",
       "    <tr>\n",
       "      <th>2018-12-31 23:00:00+01:00</th>\n",
       "      <td>5.990</td>\n",
       "      <td>1029.0</td>\n",
       "      <td>75</td>\n",
       "      <td>2.0</td>\n",
       "      <td>300</td>\n",
       "      <td>290.0</td>\n",
       "      <td>0.0</td>\n",
       "      <td>6926.0</td>\n",
       "      <td>2166.0</td>\n",
       "      <td>163.0</td>\n",
       "      <td>...</td>\n",
       "      <td>31.0</td>\n",
       "      <td>287.0</td>\n",
       "      <td>3651.0</td>\n",
       "      <td>24455.0</td>\n",
       "      <td>69.88</td>\n",
       "      <td>22605.0</td>\n",
       "      <td>-1850.0</td>\n",
       "      <td>12</td>\n",
       "      <td>31</td>\n",
       "      <td>0</td>\n",
       "    </tr>\n",
       "  </tbody>\n",
       "</table>\n",
       "<p>35064 rows × 26 columns</p>\n",
       "</div>"
      ],
      "text/plain": [
       "                             temp  pressure  humidity  wind_speed  wind_deg  \\\n",
       "2015-01-01 00:00:00+01:00  -2.675    1001.0        77         1.0        62   \n",
       "2015-01-01 01:00:00+01:00  -2.675    1001.0        77         1.0        62   \n",
       "2015-01-01 02:00:00+01:00  -3.464    1002.0        78         0.0        23   \n",
       "2015-01-01 03:00:00+01:00  -3.464    1002.0        78         0.0        23   \n",
       "2015-01-01 04:00:00+01:00  -3.464    1002.0        78         0.0        23   \n",
       "...                           ...       ...       ...         ...       ...   \n",
       "2018-12-31 19:00:00+01:00  12.490    1028.0        62         2.0       140   \n",
       "2018-12-31 20:00:00+01:00   9.990    1029.0        71         1.0       242   \n",
       "2018-12-31 21:00:00+01:00   8.510    1029.0        81         3.0       300   \n",
       "2018-12-31 22:00:00+01:00   6.990    1029.0        81         2.0       310   \n",
       "2018-12-31 23:00:00+01:00   5.990    1029.0        75         2.0       300   \n",
       "\n",
       "                           generation biomass  \\\n",
       "2015-01-01 00:00:00+01:00               447.0   \n",
       "2015-01-01 01:00:00+01:00               449.0   \n",
       "2015-01-01 02:00:00+01:00               448.0   \n",
       "2015-01-01 03:00:00+01:00               438.0   \n",
       "2015-01-01 04:00:00+01:00               428.0   \n",
       "...                                       ...   \n",
       "2018-12-31 19:00:00+01:00               297.0   \n",
       "2018-12-31 20:00:00+01:00               296.0   \n",
       "2018-12-31 21:00:00+01:00               292.0   \n",
       "2018-12-31 22:00:00+01:00               293.0   \n",
       "2018-12-31 23:00:00+01:00               290.0   \n",
       "\n",
       "                           generation fossil brown coal/lignite  \\\n",
       "2015-01-01 00:00:00+01:00                                 329.0   \n",
       "2015-01-01 01:00:00+01:00                                 328.0   \n",
       "2015-01-01 02:00:00+01:00                                 323.0   \n",
       "2015-01-01 03:00:00+01:00                                 254.0   \n",
       "2015-01-01 04:00:00+01:00                                 187.0   \n",
       "...                                                         ...   \n",
       "2018-12-31 19:00:00+01:00                                   0.0   \n",
       "2018-12-31 20:00:00+01:00                                   0.0   \n",
       "2018-12-31 21:00:00+01:00                                   0.0   \n",
       "2018-12-31 22:00:00+01:00                                   0.0   \n",
       "2018-12-31 23:00:00+01:00                                   0.0   \n",
       "\n",
       "                           generation fossil gas  generation fossil hard coal  \\\n",
       "2015-01-01 00:00:00+01:00                 4844.0                       4821.0   \n",
       "2015-01-01 01:00:00+01:00                 5196.0                       4755.0   \n",
       "2015-01-01 02:00:00+01:00                 4857.0                       4581.0   \n",
       "2015-01-01 03:00:00+01:00                 4314.0                       4131.0   \n",
       "2015-01-01 04:00:00+01:00                 4130.0                       3840.0   \n",
       "...                                          ...                          ...   \n",
       "2018-12-31 19:00:00+01:00                 7634.0                       2628.0   \n",
       "2018-12-31 20:00:00+01:00                 7241.0                       2566.0   \n",
       "2018-12-31 21:00:00+01:00                 7025.0                       2422.0   \n",
       "2018-12-31 22:00:00+01:00                 6562.0                       2293.0   \n",
       "2018-12-31 23:00:00+01:00                 6926.0                       2166.0   \n",
       "\n",
       "                           generation fossil oil  ...  generation solar  \\\n",
       "2015-01-01 00:00:00+01:00                  162.0  ...              49.0   \n",
       "2015-01-01 01:00:00+01:00                  158.0  ...              50.0   \n",
       "2015-01-01 02:00:00+01:00                  157.0  ...              50.0   \n",
       "2015-01-01 03:00:00+01:00                  160.0  ...              50.0   \n",
       "2015-01-01 04:00:00+01:00                  156.0  ...              42.0   \n",
       "...                                          ...  ...               ...   \n",
       "2018-12-31 19:00:00+01:00                  178.0  ...              85.0   \n",
       "2018-12-31 20:00:00+01:00                  174.0  ...              33.0   \n",
       "2018-12-31 21:00:00+01:00                  168.0  ...              31.0   \n",
       "2018-12-31 22:00:00+01:00                  163.0  ...              31.0   \n",
       "2018-12-31 23:00:00+01:00                  163.0  ...              31.0   \n",
       "\n",
       "                           generation waste  generation wind onshore  \\\n",
       "2015-01-01 00:00:00+01:00             196.0                   6378.0   \n",
       "2015-01-01 01:00:00+01:00             195.0                   5890.0   \n",
       "2015-01-01 02:00:00+01:00             196.0                   5461.0   \n",
       "2015-01-01 03:00:00+01:00             191.0                   5238.0   \n",
       "2015-01-01 04:00:00+01:00             189.0                   4935.0   \n",
       "...                                     ...                      ...   \n",
       "2018-12-31 19:00:00+01:00             277.0                   3113.0   \n",
       "2018-12-31 20:00:00+01:00             280.0                   3288.0   \n",
       "2018-12-31 21:00:00+01:00             286.0                   3503.0   \n",
       "2018-12-31 22:00:00+01:00             287.0                   3586.0   \n",
       "2018-12-31 23:00:00+01:00             287.0                   3651.0   \n",
       "\n",
       "                           total load actual  price actual  generation  \\\n",
       "2015-01-01 00:00:00+01:00            25385.0         65.41     28251.0   \n",
       "2015-01-01 01:00:00+01:00            24382.0         64.92     27818.0   \n",
       "2015-01-01 02:00:00+01:00            22734.0         64.48     26796.0   \n",
       "2015-01-01 03:00:00+01:00            21286.0         59.32     25223.0   \n",
       "2015-01-01 04:00:00+01:00            20264.0         56.04     24620.0   \n",
       "...                                      ...           ...         ...   \n",
       "2018-12-31 19:00:00+01:00            30653.0         77.02     26415.0   \n",
       "2018-12-31 20:00:00+01:00            29735.0         76.16     25213.0   \n",
       "2018-12-31 21:00:00+01:00            28071.0         74.30     23987.0   \n",
       "2018-12-31 22:00:00+01:00            25801.0         69.89     22748.0   \n",
       "2018-12-31 23:00:00+01:00            24455.0         69.88     22605.0   \n",
       "\n",
       "                           energy_difference  month  day  weekend  \n",
       "2015-01-01 00:00:00+01:00             2866.0      1    1        0  \n",
       "2015-01-01 01:00:00+01:00             3436.0      1    1        0  \n",
       "2015-01-01 02:00:00+01:00             4062.0      1    1        0  \n",
       "2015-01-01 03:00:00+01:00             3937.0      1    1        0  \n",
       "2015-01-01 04:00:00+01:00             4356.0      1    1        0  \n",
       "...                                      ...    ...  ...      ...  \n",
       "2018-12-31 19:00:00+01:00            -4238.0     12   31        0  \n",
       "2018-12-31 20:00:00+01:00            -4522.0     12   31        0  \n",
       "2018-12-31 21:00:00+01:00            -4084.0     12   31        0  \n",
       "2018-12-31 22:00:00+01:00            -3053.0     12   31        0  \n",
       "2018-12-31 23:00:00+01:00            -1850.0     12   31        0  \n",
       "\n",
       "[35064 rows x 26 columns]"
      ]
     },
     "execution_count": 4,
     "metadata": {},
     "output_type": "execute_result"
    }
   ],
   "source": [
    "combined_df"
   ]
  },
  {
   "cell_type": "markdown",
   "metadata": {},
   "source": [
    "# RNN"
   ]
  },
  {
   "cell_type": "markdown",
   "metadata": {},
   "source": [
    "Scale the input data"
   ]
  },
  {
   "cell_type": "code",
   "execution_count": 5,
   "metadata": {},
   "outputs": [],
   "source": [
    "#Rescaling the data\n",
    "scaled_df = combined_df.copy(deep=True)\n",
    "featuresToScale = scaled_df.columns\n",
    "sX = pp.StandardScaler(copy=True)\n",
    "scaled_df.loc[:,featuresToScale] = sX.fit_transform(scaled_df[featuresToScale])"
   ]
  },
  {
   "cell_type": "markdown",
   "metadata": {},
   "source": [
    "Create Train Validation Test Split"
   ]
  },
  {
   "cell_type": "code",
   "execution_count": 6,
   "metadata": {},
   "outputs": [],
   "source": [
    "train_start = '2015-01-01'\n",
    "validation_start = '2017-01-01'\n",
    "test_start = '2017-03-01'\n",
    "test_end = '2017-03-06'\n",
    "feature = 'total load actual'\n",
    "feature_df = combined_df[[feature]]\n",
    "data_x_train0,data_x_val0,data_x_test0,data_y_train0,data_y_val0,data_y_test0 = create_test_train_split(scaled_df,feature_df,train_start,test_start,test_end,validation_start=validation_start)\n"
   ]
  },
  {
   "cell_type": "markdown",
   "metadata": {},
   "source": [
    "Convert to (sample,timestep,feature) format"
   ]
  },
  {
   "cell_type": "code",
   "execution_count": 7,
   "metadata": {},
   "outputs": [],
   "source": [
    "data_x_train,data_y_train,idx_train = convert_to_sample_time_feature(data_x_train0,data_y_train0,24,1,32)\n",
    "data_x_test,data_y_test,idx_test = convert_to_sample_time_feature(data_x_test0,data_y_test0,24,1,32)\n",
    "data_x_val,data_y_val,idx_val = convert_to_sample_time_feature(data_x_val0,data_y_val0,24,1,32)\n"
   ]
  },
  {
   "cell_type": "code",
   "execution_count": 8,
   "metadata": {},
   "outputs": [
    {
     "name": "stdout",
     "output_type": "stream",
     "text": [
      "(17510, 24, 26) (17510, 1)\n",
      "(1382, 24, 26) (1382, 1)\n",
      "(70, 24, 26) (70, 1)\n"
     ]
    }
   ],
   "source": [
    "print(data_x_train.shape,data_y_train.shape)\n",
    "print(data_x_val.shape,data_y_val.shape)\n",
    "print(data_x_test.shape,data_y_test.shape)"
   ]
  },
  {
   "cell_type": "markdown",
   "metadata": {},
   "source": [
    "Define RNN Model"
   ]
  },
  {
   "cell_type": "code",
   "execution_count": 9,
   "metadata": {},
   "outputs": [],
   "source": [
    "def build_model_RNN(data_x_train,data_y_train):\n",
    "  n_timesteps, n_features, n_outputs = data_x_train.shape[1], data_x_train.shape[2], data_y_train.shape[1]\n",
    "  model = models.Sequential([\n",
    "  layers.SimpleRNN(32, return_sequences=True,input_shape=(None, n_features), stateful=False), \n",
    "  layers.BatchNormalization(),\n",
    "  layers.SimpleRNN(32, return_sequences=True, stateful=False),\n",
    "  layers.BatchNormalization(),\n",
    "  layers.SimpleRNN(32, stateful=False),\n",
    "  layers.BatchNormalization(),\n",
    "  layers.Dense(n_outputs)                     \n",
    "  ])\n",
    "  model.compile(optimizer='Adam',loss='mse',metrics='mae') \n",
    "  return model"
   ]
  },
  {
   "cell_type": "markdown",
   "metadata": {},
   "source": [
    "Define Callback functions"
   ]
  },
  {
   "cell_type": "code",
   "execution_count": 10,
   "metadata": {},
   "outputs": [],
   "source": [
    "myCheckpointRNN= keras.callbacks.ModelCheckpoint(\"./RNN/my_best_RNN_model.h5\", save_best_only=True)\n",
    "myEarly_stoppingRNN = keras.callbacks.EarlyStopping(patience=10,restore_best_weights=True)"
   ]
  },
  {
   "cell_type": "markdown",
   "metadata": {},
   "source": [
    "Hyperparameters"
   ]
  },
  {
   "cell_type": "code",
   "execution_count": 11,
   "metadata": {},
   "outputs": [],
   "source": [
    "num_epochs = 150\n",
    "batch_size = 32"
   ]
  },
  {
   "cell_type": "markdown",
   "metadata": {},
   "source": [
    "Training the Model"
   ]
  },
  {
   "cell_type": "code",
   "execution_count": 12,
   "metadata": {},
   "outputs": [
    {
     "name": "stdout",
     "output_type": "stream",
     "text": [
      "Epoch 1/150\n",
      "548/548 [==============================] - 27s 45ms/step - loss: 828875392.0000 - mae: 28433.3750 - val_loss: 905632704.0000 - val_mae: 29682.7754\n",
      "Epoch 2/150\n",
      "548/548 [==============================] - 25s 45ms/step - loss: 825605952.0000 - mae: 28387.0352 - val_loss: 899147968.0000 - val_mae: 29588.7324\n",
      "Epoch 3/150\n",
      "548/548 [==============================] - 25s 46ms/step - loss: 819672896.0000 - mae: 28299.1836 - val_loss: 890919040.0000 - val_mae: 29471.5430\n",
      "Epoch 4/150\n",
      "548/548 [==============================] - 25s 45ms/step - loss: 811508288.0000 - mae: 28175.8945 - val_loss: 877644864.0000 - val_mae: 29271.7578\n",
      "Epoch 5/150\n",
      "548/548 [==============================] - 23s 42ms/step - loss: 801502848.0000 - mae: 28022.0410 - val_loss: 862249280.0000 - val_mae: 29038.0547\n",
      "Epoch 6/150\n",
      "548/548 [==============================] - 23s 42ms/step - loss: 789909504.0000 - mae: 27841.0430 - val_loss: 847335744.0000 - val_mae: 28813.3516\n",
      "Epoch 7/150\n",
      "548/548 [==============================] - 24s 43ms/step - loss: 776919040.0000 - mae: 27635.1133 - val_loss: 827322496.0000 - val_mae: 28502.5176\n",
      "Epoch 8/150\n",
      "548/548 [==============================] - 23s 42ms/step - loss: 762721984.0000 - mae: 27406.3145 - val_loss: 809327296.0000 - val_mae: 28219.2715\n",
      "Epoch 9/150\n",
      "548/548 [==============================] - 25s 45ms/step - loss: 747439040.0000 - mae: 27155.2070 - val_loss: 784810048.0000 - val_mae: 27813.3750\n",
      "Epoch 10/150\n",
      "548/548 [==============================] - 24s 44ms/step - loss: 731221376.0000 - mae: 26883.1484 - val_loss: 773061120.0000 - val_mae: 27637.1465\n",
      "Epoch 11/150\n",
      "548/548 [==============================] - 24s 44ms/step - loss: 714089856.0000 - mae: 26590.1309 - val_loss: 746384448.0000 - val_mae: 27181.7715\n",
      "Epoch 12/150\n",
      "548/548 [==============================] - 24s 43ms/step - loss: 696231296.0000 - mae: 26277.3418 - val_loss: 720075456.0000 - val_mae: 26725.6445\n",
      "Epoch 13/150\n",
      "548/548 [==============================] - 23s 42ms/step - loss: 677640512.0000 - mae: 25944.8262 - val_loss: 696250944.0000 - val_mae: 26309.0254\n",
      "Epoch 14/150\n",
      "548/548 [==============================] - 23s 42ms/step - loss: 658483392.0000 - mae: 25592.9277 - val_loss: 675571200.0000 - val_mae: 25931.8633\n",
      "Epoch 15/150\n",
      "548/548 [==============================] - 23s 43ms/step - loss: 638790720.0000 - mae: 25221.7227 - val_loss: 642602112.0000 - val_mae: 25297.6270\n",
      "Epoch 16/150\n",
      "548/548 [==============================] - 24s 44ms/step - loss: 618632640.0000 - mae: 24831.6680 - val_loss: 625941440.0000 - val_mae: 24992.8887\n",
      "Epoch 17/150\n",
      "548/548 [==============================] - 23s 42ms/step - loss: 598058368.0000 - mae: 24422.6680 - val_loss: 594696832.0000 - val_mae: 24365.0586\n",
      "Epoch 18/150\n",
      "548/548 [==============================] - 23s 43ms/step - loss: 577214144.0000 - mae: 23995.6367 - val_loss: 582872448.0000 - val_mae: 24126.7246\n",
      "Epoch 19/150\n",
      "548/548 [==============================] - 24s 43ms/step - loss: 555848896.0000 - mae: 23549.1309 - val_loss: 558268480.0000 - val_mae: 23612.9199\n",
      "Epoch 20/150\n",
      "548/548 [==============================] - 23s 42ms/step - loss: 534112032.0000 - mae: 23083.5352 - val_loss: 522557408.0000 - val_mae: 22845.0703\n",
      "Epoch 21/150\n",
      "548/548 [==============================] - 23s 43ms/step - loss: 511938880.0000 - mae: 22598.6914 - val_loss: 501453216.0000 - val_mae: 22379.7305\n",
      "Epoch 22/150\n",
      "548/548 [==============================] - 24s 43ms/step - loss: 489388320.0000 - mae: 22094.9824 - val_loss: 487517760.0000 - val_mae: 22066.8105\n",
      "Epoch 23/150\n",
      "548/548 [==============================] - 24s 43ms/step - loss: 466493888.0000 - mae: 21573.0898 - val_loss: 458965728.0000 - val_mae: 21409.4043\n",
      "Epoch 24/150\n",
      "548/548 [==============================] - 24s 44ms/step - loss: 443558080.0000 - mae: 21033.0039 - val_loss: 436845664.0000 - val_mae: 20885.0840\n",
      "Epoch 25/150\n",
      "548/548 [==============================] - 23s 42ms/step - loss: 420357248.0000 - mae: 20476.2344 - val_loss: 411679936.0000 - val_mae: 20275.2344\n",
      "Epoch 26/150\n",
      "548/548 [==============================] - 24s 43ms/step - loss: 397181696.0000 - mae: 19901.3711 - val_loss: 388612544.0000 - val_mae: 19700.0254\n",
      "Epoch 27/150\n",
      "548/548 [==============================] - 24s 44ms/step - loss: 374006752.0000 - mae: 19310.3789 - val_loss: 367743328.0000 - val_mae: 19161.6660\n",
      "Epoch 28/150\n",
      "548/548 [==============================] - 23s 42ms/step - loss: 350887904.0000 - mae: 18702.5391 - val_loss: 347863008.0000 - val_mae: 18634.3672\n",
      "Epoch 29/150\n",
      "548/548 [==============================] - 23s 41ms/step - loss: 328028384.0000 - mae: 18078.3809 - val_loss: 316973280.0000 - val_mae: 17780.9980\n",
      "Epoch 30/150\n",
      "548/548 [==============================] - 24s 44ms/step - loss: 305348032.0000 - mae: 17438.8496 - val_loss: 293393184.0000 - val_mae: 17109.1992\n",
      "Epoch 31/150\n",
      "548/548 [==============================] - 24s 43ms/step - loss: 282835264.0000 - mae: 16784.2324 - val_loss: 279555104.0000 - val_mae: 16702.7656\n",
      "Epoch 32/150\n",
      "548/548 [==============================] - 23s 42ms/step - loss: 260797168.0000 - mae: 16113.1367 - val_loss: 252116560.0000 - val_mae: 15859.8828\n",
      "Epoch 33/150\n",
      "548/548 [==============================] - 23s 42ms/step - loss: 239156704.0000 - mae: 15428.9365 - val_loss: 224683104.0000 - val_mae: 14971.2490\n",
      "Epoch 34/150\n",
      "548/548 [==============================] - 24s 44ms/step - loss: 218132384.0000 - mae: 14730.8916 - val_loss: 211945648.0000 - val_mae: 14540.6777\n",
      "Epoch 35/150\n",
      "548/548 [==============================] - 23s 42ms/step - loss: 197731040.0000 - mae: 14020.1270 - val_loss: 193234240.0000 - val_mae: 13881.0029\n",
      "Epoch 36/150\n",
      "548/548 [==============================] - 23s 42ms/step - loss: 177840208.0000 - mae: 13296.9600 - val_loss: 170448992.0000 - val_mae: 13036.7451\n",
      "Epoch 37/150\n",
      "548/548 [==============================] - 24s 45ms/step - loss: 158834160.0000 - mae: 12561.1699 - val_loss: 155947744.0000 - val_mae: 12467.7412\n",
      "Epoch 38/150\n",
      "548/548 [==============================] - 24s 44ms/step - loss: 140644432.0000 - mae: 11812.9150 - val_loss: 132236424.0000 - val_mae: 11479.8115\n",
      "Epoch 39/150\n",
      "548/548 [==============================] - 24s 44ms/step - loss: 123347776.0000 - mae: 11058.3408 - val_loss: 114609624.0000 - val_mae: 10683.5781\n",
      "Epoch 40/150\n",
      "548/548 [==============================] - 24s 44ms/step - loss: 107094752.0000 - mae: 10294.5742 - val_loss: 100626000.0000 - val_mae: 10008.3613\n",
      "Epoch 41/150\n",
      "548/548 [==============================] - 24s 44ms/step - loss: 91801880.0000 - mae: 9524.0020 - val_loss: 89117984.0000 - val_mae: 9412.4082\n",
      "Epoch 42/150\n",
      "548/548 [==============================] - 23s 41ms/step - loss: 77572304.0000 - mae: 8746.4502 - val_loss: 72385648.0000 - val_mae: 8478.4072\n",
      "Epoch 43/150\n",
      "548/548 [==============================] - 23s 42ms/step - loss: 64519748.0000 - mae: 7967.8628 - val_loss: 58532112.0000 - val_mae: 7620.4185\n",
      "Epoch 44/150\n",
      "548/548 [==============================] - 22s 40ms/step - loss: 52697584.0000 - mae: 7187.1680 - val_loss: 47973780.0000 - val_mae: 6891.9429\n",
      "Epoch 45/150\n",
      "548/548 [==============================] - 23s 42ms/step - loss: 42115796.0000 - mae: 6410.7417 - val_loss: 38172224.0000 - val_mae: 6141.0581\n",
      "Epoch 46/150\n",
      "548/548 [==============================] - 23s 42ms/step - loss: 32815268.0000 - mae: 5641.0117 - val_loss: 28972796.0000 - val_mae: 5330.7461\n",
      "Epoch 47/150\n",
      "548/548 [==============================] - 24s 43ms/step - loss: 24832864.0000 - mae: 4881.0742 - val_loss: 23122232.0000 - val_mae: 4766.5107\n",
      "Epoch 48/150\n",
      "548/548 [==============================] - 23s 42ms/step - loss: 18183088.0000 - mae: 4138.3413 - val_loss: 14180860.0000 - val_mae: 3705.2004\n",
      "Epoch 49/150\n",
      "548/548 [==============================] - 24s 43ms/step - loss: 12816563.0000 - mae: 3422.9705 - val_loss: 10166944.0000 - val_mae: 3111.2732\n",
      "Epoch 50/150\n",
      "548/548 [==============================] - 23s 43ms/step - loss: 8584397.0000 - mae: 2753.0276 - val_loss: 6985843.5000 - val_mae: 2556.7146\n",
      "Epoch 51/150\n",
      "548/548 [==============================] - 22s 41ms/step - loss: 5413918.0000 - mae: 2121.3267 - val_loss: 4043651.5000 - val_mae: 1896.7994\n",
      "Epoch 52/150\n",
      "548/548 [==============================] - 23s 42ms/step - loss: 3437377.5000 - mae: 1611.7495 - val_loss: 2012149.7500 - val_mae: 1282.4167\n",
      "Epoch 53/150\n",
      "548/548 [==============================] - 24s 44ms/step - loss: 2026599.2500 - mae: 1173.3002 - val_loss: 987699.5000 - val_mae: 809.3250\n",
      "Epoch 54/150\n",
      "548/548 [==============================] - 24s 44ms/step - loss: 1464956.1250 - mae: 968.3430 - val_loss: 613796.3125 - val_mae: 582.8953\n",
      "Epoch 55/150\n",
      "548/548 [==============================] - 25s 45ms/step - loss: 1260204.8750 - mae: 876.3335 - val_loss: 591313.7500 - val_mae: 562.8896\n",
      "Epoch 56/150\n",
      "548/548 [==============================] - 23s 43ms/step - loss: 1150519.1250 - mae: 829.8348 - val_loss: 876573.1875 - val_mae: 713.2017\n",
      "Epoch 57/150\n",
      "548/548 [==============================] - 23s 43ms/step - loss: 1137135.5000 - mae: 824.1129 - val_loss: 668403.6250 - val_mae: 602.2002\n",
      "Epoch 58/150\n",
      "548/548 [==============================] - 23s 42ms/step - loss: 1068890.6250 - mae: 799.7918 - val_loss: 593751.2500 - val_mae: 578.1663\n",
      "Epoch 59/150\n",
      "548/548 [==============================] - 23s 43ms/step - loss: 1102818.8750 - mae: 821.5538 - val_loss: 566290.1250 - val_mae: 547.6868\n",
      "Epoch 60/150\n",
      "548/548 [==============================] - 23s 42ms/step - loss: 1028171.0000 - mae: 791.7965 - val_loss: 529941.3125 - val_mae: 533.0120\n",
      "Epoch 61/150\n",
      "548/548 [==============================] - 23s 42ms/step - loss: 1047898.8125 - mae: 795.5950 - val_loss: 525671.3125 - val_mae: 513.6785\n",
      "Epoch 62/150\n",
      "548/548 [==============================] - 23s 42ms/step - loss: 1061652.3750 - mae: 800.6761 - val_loss: 487910.2500 - val_mae: 501.8999\n",
      "Epoch 63/150\n",
      "548/548 [==============================] - 23s 41ms/step - loss: 1096499.0000 - mae: 814.0817 - val_loss: 687432.5000 - val_mae: 617.8972\n",
      "Epoch 64/150\n",
      "548/548 [==============================] - 23s 42ms/step - loss: 1101527.2500 - mae: 823.8797 - val_loss: 544579.5000 - val_mae: 523.7233\n",
      "Epoch 65/150\n",
      "548/548 [==============================] - 24s 44ms/step - loss: 1011489.8750 - mae: 780.1067 - val_loss: 503819.5312 - val_mae: 511.2747\n",
      "Epoch 66/150\n",
      "548/548 [==============================] - 23s 42ms/step - loss: 1053436.3750 - mae: 801.6512 - val_loss: 497798.8125 - val_mae: 505.3630\n",
      "Epoch 67/150\n",
      "548/548 [==============================] - 23s 42ms/step - loss: 949076.5625 - mae: 755.0906 - val_loss: 435934.1562 - val_mae: 471.2902\n",
      "Epoch 68/150\n",
      "548/548 [==============================] - 23s 43ms/step - loss: 936466.6250 - mae: 754.5403 - val_loss: 467841.7188 - val_mae: 487.0388\n",
      "Epoch 69/150\n",
      "548/548 [==============================] - 23s 43ms/step - loss: 996920.6875 - mae: 771.0021 - val_loss: 448549.0938 - val_mae: 470.7626\n",
      "Epoch 70/150\n",
      "548/548 [==============================] - 24s 43ms/step - loss: 992102.6875 - mae: 778.3267 - val_loss: 576408.3750 - val_mae: 563.7900\n",
      "Epoch 71/150\n",
      "548/548 [==============================] - 22s 41ms/step - loss: 999279.3125 - mae: 772.6470 - val_loss: 500471.9375 - val_mae: 504.1797\n",
      "Epoch 72/150\n",
      "548/548 [==============================] - 23s 42ms/step - loss: 948629.1250 - mae: 756.0731 - val_loss: 496936.1562 - val_mae: 491.6403\n",
      "Epoch 73/150\n",
      "548/548 [==============================] - 23s 42ms/step - loss: 996745.3125 - mae: 778.4363 - val_loss: 545316.2500 - val_mae: 521.4856\n",
      "Epoch 74/150\n",
      "548/548 [==============================] - 23s 43ms/step - loss: 1011414.8125 - mae: 772.9382 - val_loss: 488503.1875 - val_mae: 485.8835\n",
      "Epoch 75/150\n",
      "548/548 [==============================] - 23s 42ms/step - loss: 1071864.8750 - mae: 805.7741 - val_loss: 528801.5000 - val_mae: 534.9123\n",
      "Epoch 76/150\n",
      "548/548 [==============================] - 23s 43ms/step - loss: 945488.2500 - mae: 758.2010 - val_loss: 469024.3750 - val_mae: 482.8437\n",
      "Epoch 77/150\n",
      "548/548 [==============================] - 24s 44ms/step - loss: 991837.5000 - mae: 782.1257 - val_loss: 567006.6250 - val_mae: 550.8187\n"
     ]
    }
   ],
   "source": [
    "%%skip $SKIP_RETRAIN_RNN\n",
    "\n",
    "model_rnn = build_model_RNN(data_x_train,data_y_train)\n",
    "history_rnn = model_rnn.fit(data_x_train, data_y_train, epochs=num_epochs, batch_size=batch_size, validation_data=(data_x_val, data_y_val) , \n",
    "                                 callbacks=[myCheckpointRNN,myEarly_stoppingRNN])#, verbose=0)\n",
    "\n"
   ]
  },
  {
   "cell_type": "markdown",
   "metadata": {},
   "source": [
    "Evaluate the training process"
   ]
  },
  {
   "cell_type": "code",
   "execution_count": 13,
   "metadata": {
    "colab": {
     "base_uri": "https://localhost:8080/",
     "height": 159
    },
    "id": "0f_FwfmlHyAl",
    "outputId": "080474a2-3f61-42ca-95ef-7bc23f76c853"
   },
   "outputs": [],
   "source": [
    "%%skip $SKIP_RETRAIN_RNN\n",
    "histRNN = pd.DataFrame(history_rnn.history)\n",
    "histRNN['epoch'] = history_rnn.epoch"
   ]
  },
  {
   "cell_type": "code",
   "execution_count": 14,
   "metadata": {
    "colab": {
     "base_uri": "https://localhost:8080/",
     "height": 405
    },
    "id": "d2SviC32HyAr",
    "outputId": "512e600c-f7c8-46cd-9801-7387d6bf4f7f"
   },
   "outputs": [
    {
     "data": {
      "image/png": "[encoded data removed]",
      "text/plain": [
       "<Figure size 432x288 with 1 Axes>"
      ]
     },
     "metadata": {
      "needs_background": "light"
     },
     "output_type": "display_data"
    }
   ],
   "source": [
    "%%skip $SKIP_RETRAIN_RNN\n",
    "# Plotting the results:\n",
    "# Remember that we defined our loss as MSE in the model.\n",
    "fig = plot_learning_curves(histRNN,'RNN',\"./RNN/learningcurve_RNN.png\")"
   ]
  },
  {
   "cell_type": "markdown",
   "metadata": {},
   "source": [
    "Load best model"
   ]
  },
  {
   "cell_type": "code",
   "execution_count": 15,
   "metadata": {},
   "outputs": [
    {
     "name": "stdout",
     "output_type": "stream",
     "text": [
      "Model: \"sequential\"\n",
      "_________________________________________________________________\n",
      "Layer (type)                 Output Shape              Param #   \n",
      "=================================================================\n",
      "simple_rnn (SimpleRNN)       (None, None, 32)          1888      \n",
      "_________________________________________________________________\n",
      "batch_normalization (BatchNo (None, None, 32)          128       \n",
      "_________________________________________________________________\n",
      "simple_rnn_1 (SimpleRNN)     (None, None, 32)          2080      \n",
      "_________________________________________________________________\n",
      "batch_normalization_1 (Batch (None, None, 32)          128       \n",
      "_________________________________________________________________\n",
      "simple_rnn_2 (SimpleRNN)     (None, 32)                2080      \n",
      "_________________________________________________________________\n",
      "batch_normalization_2 (Batch (None, 32)                128       \n",
      "_________________________________________________________________\n",
      "dense (Dense)                (None, 1)                 33        \n",
      "=================================================================\n",
      "Total params: 6,465\n",
      "Trainable params: 6,273\n",
      "Non-trainable params: 192\n",
      "_________________________________________________________________\n"
     ]
    }
   ],
   "source": [
    "#Calling back the best model:\n",
    "model_best_RNN = keras.models.load_model(\"./RNN/my_best_RNN_model.h5\")\n",
    "model_best_RNN.summary()"
   ]
  },
  {
   "cell_type": "markdown",
   "metadata": {},
   "source": [
    "Evaluate predictions"
   ]
  },
  {
   "cell_type": "code",
   "execution_count": 16,
   "metadata": {
    "colab": {
     "base_uri": "https://localhost:8080/"
    },
    "id": "9uYdwycxdrO0",
    "outputId": "a8fcc94c-f612-4f97-f5fa-e55b79b33234"
   },
   "outputs": [],
   "source": [
    "#Label and indices:\n",
    "#Since we have shifted the data by 4 width windows, initial label DF is to be filtered.\n",
    "y_test_filtered = data_y_test0.loc[idx_test]\n",
    "y_test_filtered = y_test_filtered.squeeze(axis=1)\n",
    "Y_test_predictions = pd.Series(model_best_RNN.predict(data_x_test).flatten(),index=y_test_filtered.index)"
   ]
  },
  {
   "cell_type": "code",
   "execution_count": 17,
   "metadata": {},
   "outputs": [],
   "source": [
    "eval_df = create_eval_df(Y_test_predictions,y_test_filtered)"
   ]
  },
  {
   "cell_type": "code",
   "execution_count": 18,
   "metadata": {
    "colab": {
     "base_uri": "https://localhost:8080/",
     "height": 426
    },
    "id": "5X3Hs_GtHyAs",
    "outputId": "7281486a-4a6c-492c-e48f-37fa6e7d7c25"
   },
   "outputs": [
    {
     "data": {
      "image/png": "[encoded data removed]",
      "text/plain": [
       "<Figure size 432x288 with 1 Axes>"
      ]
     },
     "metadata": {
      "needs_background": "light"
     },
     "output_type": "display_data"
    }
   ],
   "source": [
    "fig = plot_accuracy(eval_df,'RNN',\"./RNN/accuracy_RNN.png\")"
   ]
  },
  {
   "cell_type": "code",
   "execution_count": 19,
   "metadata": {
    "colab": {
     "base_uri": "https://localhost:8080/",
     "height": 422
    },
    "id": "olr-44nOHyAt",
    "outputId": "ac65b698-1f77-4a62-87cf-c99f30d4d246"
   },
   "outputs": [
    {
     "data": {
      "image/png": "[encoded data removed]",
      "text/plain": [
       "<Figure size 432x288 with 1 Axes>"
      ]
     },
     "metadata": {
      "needs_background": "light"
     },
     "output_type": "display_data"
    }
   ],
   "source": [
    "fig = plot_error_variations(eval_df,'RNN',\"./RNN/error_variations_RNN.png\")"
   ]
  },
  {
   "cell_type": "code",
   "execution_count": 20,
   "metadata": {
    "colab": {
     "base_uri": "https://localhost:8080/"
    },
    "id": "-HSnhihhHyAt",
    "outputId": "b45d472e-df1f-4ab2-97ba-6318127d0d9e"
   },
   "outputs": [
    {
     "data": {
      "text/plain": [
       "1.4054912751853301"
      ]
     },
     "execution_count": 20,
     "metadata": {},
     "output_type": "execute_result"
    }
   ],
   "source": [
    "#Calculating the mean absolutepercentage error:\n",
    "abs_error_rnn = abs(Y_test_predictions - y_test_filtered)/y_test_filtered*100\n",
    "np.average(abs_error_rnn)"
   ]
  },
  {
   "cell_type": "code",
   "execution_count": 21,
   "metadata": {
    "colab": {
     "base_uri": "https://localhost:8080/"
    },
    "id": "-Og3-ec1HyAv",
    "outputId": "f0d3e172-622e-4dd4-a8ec-3f84e320356b"
   },
   "outputs": [
    {
     "name": "stdout",
     "output_type": "stream",
     "text": [
      "R^2 score is  0.98\n"
     ]
    }
   ],
   "source": [
    "#Calculating R2 value:\n",
    "r2_test = r2_score(y_test_filtered, Y_test_predictions)\n",
    "print('R^2 score is  %3.2f' %r2_test)"
   ]
  },
  {
   "cell_type": "code",
   "execution_count": 22,
   "metadata": {
    "colab": {
     "base_uri": "https://localhost:8080/",
     "height": 421
    },
    "id": "bUVtrW7kHyAw",
    "outputId": "e4abb863-ccd1-4159-bd9d-7fb1a9711a9f"
   },
   "outputs": [
    {
     "name": "stderr",
     "output_type": "stream",
     "text": [
      "<ipython-input-22-eb7f14214c10>:2: UserWarning: Matplotlib is currently using module://ipykernel.pylab.backend_inline, which is a non-GUI backend, so cannot show the figure.\n",
      "  fig.show()\n"
     ]
    },
    {
     "data": {
      "image/png": "[encoded data removed]",
      "text/plain": [
       "<Figure size 432x288 with 1 Axes>"
      ]
     },
     "metadata": {
      "needs_background": "light"
     },
     "output_type": "display_data"
    }
   ],
   "source": [
    "fig = plot_predictions(eval_df,1,'Simple RNN', 'Total Load',\"./RNN/predictions_RNN.png\")\n",
    "fig.show()"
   ]
  }
 ],
 "metadata": {
  "interpreter": {
   "hash": "39d1545a961fb91480a52a0b6f0ba22788119e75d6e41681ee81894caf37680e"
  },
  "kernelspec": {
   "display_name": "Python 3",
   "language": "python",
   "name": "python3"
  },
  "language_info": {
   "codemirror_mode": {
    "name": "ipython",
    "version": 3
   },
   "file_extension": ".py",
   "mimetype": "text/x-python",
   "name": "python",
   "nbconvert_exporter": "python",
   "pygments_lexer": "ipython3",
   "version": "3.9.4"
  }
 },
 "nbformat": 4,
 "nbformat_minor": 2
}
