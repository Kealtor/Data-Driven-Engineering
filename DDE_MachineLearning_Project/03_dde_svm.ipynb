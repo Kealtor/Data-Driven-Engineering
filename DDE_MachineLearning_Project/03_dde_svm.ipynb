{
 "cells": [
  {
   "cell_type": "code",
   "execution_count": 20,
   "metadata": {},
   "outputs": [],
   "source": [
    "import numpy as np\n",
    "import pandas as pd\n",
    "from datetime import date\n",
    "import plotly.express as px\n",
    "import plotly.graph_objects as go\n",
    "import math\n",
    "from datetime import timedelta\n",
    "import matplotlib.pyplot as plt\n",
    "from sklearn import preprocessing as pp\n",
    "import matplotlib as mpl\n",
    "from sklearn.decomposition import PCA\n",
    "from pandas.plotting import lag_plot, autocorrelation_plot\n",
    "from statsmodels.graphics.tsaplots import plot_acf, plot_pacf \n",
    "import statsmodels.api as smw\n",
    "from statsmodels.tsa.statespace.sarimax import SARIMAX\n",
    "from sklearn.svm import SVR\n",
    "from sklearn.metrics import r2_score\n",
    "from utils.dde_preprocessing_utils import (set_timestamp_index,\n",
    "remove_duplicates,\n",
    "remove_columns,\n",
    "extract_correlations,\n",
    "prepare_data_sarimax,\n",
    "create_test_train_split,\n",
    "create_sarimax_test_train_split)\n",
    "from utils.dde_plotting_utils import(\n",
    "display_double_timestamps,\n",
    "display_seasonal_decomposition,\n",
    "plot_predictions,\n",
    "plot_accuracy,\n",
    "plot_error_variations,\n",
    ")\n",
    "%load_ext skip_kernel_extension"
   ]
  },
  {
   "cell_type": "markdown",
   "metadata": {},
   "source": [
    "## Loading Data"
   ]
  },
  {
   "cell_type": "code",
   "execution_count": 21,
   "metadata": {},
   "outputs": [],
   "source": [
    "combined_df = pd.read_csv(\"preprocessed_data.csv\")\n",
    "combined_df = set_timestamp_index(combined_df,\"Unnamed: 0\")"
   ]
  },
  {
   "cell_type": "code",
   "execution_count": 22,
   "metadata": {},
   "outputs": [
    {
     "data": {
      "text/html": [
       "<div>\n",
       "<style scoped>\n",
       "    .dataframe tbody tr th:only-of-type {\n",
       "        vertical-align: middle;\n",
       "    }\n",
       "\n",
       "    .dataframe tbody tr th {\n",
       "        vertical-align: top;\n",
       "    }\n",
       "\n",
       "    .dataframe thead th {\n",
       "        text-align: right;\n",
       "    }\n",
       "</style>\n",
       "<table border=\"1\" class=\"dataframe\">\n",
       "  <thead>\n",
       "    <tr style=\"text-align: right;\">\n",
       "      <th></th>\n",
       "      <th>temp</th>\n",
       "      <th>pressure</th>\n",
       "      <th>humidity</th>\n",
       "      <th>wind_speed</th>\n",
       "      <th>wind_deg</th>\n",
       "      <th>generation biomass</th>\n",
       "      <th>generation fossil brown coal/lignite</th>\n",
       "      <th>generation fossil gas</th>\n",
       "      <th>generation fossil hard coal</th>\n",
       "      <th>generation fossil oil</th>\n",
       "      <th>...</th>\n",
       "      <th>generation solar</th>\n",
       "      <th>generation waste</th>\n",
       "      <th>generation wind onshore</th>\n",
       "      <th>total load actual</th>\n",
       "      <th>price actual</th>\n",
       "      <th>generation</th>\n",
       "      <th>energy_difference</th>\n",
       "      <th>month</th>\n",
       "      <th>day</th>\n",
       "      <th>weekend</th>\n",
       "    </tr>\n",
       "  </thead>\n",
       "  <tbody>\n",
       "    <tr>\n",
       "      <th>2015-01-01 00:00:00+01:00</th>\n",
       "      <td>-2.675</td>\n",
       "      <td>1001.0</td>\n",
       "      <td>77</td>\n",
       "      <td>1.0</td>\n",
       "      <td>62</td>\n",
       "      <td>447.0</td>\n",
       "      <td>329.0</td>\n",
       "      <td>4844.0</td>\n",
       "      <td>4821.0</td>\n",
       "      <td>162.0</td>\n",
       "      <td>...</td>\n",
       "      <td>49.0</td>\n",
       "      <td>196.0</td>\n",
       "      <td>6378.0</td>\n",
       "      <td>25385.0</td>\n",
       "      <td>65.41</td>\n",
       "      <td>28251.0</td>\n",
       "      <td>2866.0</td>\n",
       "      <td>1</td>\n",
       "      <td>1</td>\n",
       "      <td>0</td>\n",
       "    </tr>\n",
       "    <tr>\n",
       "      <th>2015-01-01 01:00:00+01:00</th>\n",
       "      <td>-2.675</td>\n",
       "      <td>1001.0</td>\n",
       "      <td>77</td>\n",
       "      <td>1.0</td>\n",
       "      <td>62</td>\n",
       "      <td>449.0</td>\n",
       "      <td>328.0</td>\n",
       "      <td>5196.0</td>\n",
       "      <td>4755.0</td>\n",
       "      <td>158.0</td>\n",
       "      <td>...</td>\n",
       "      <td>50.0</td>\n",
       "      <td>195.0</td>\n",
       "      <td>5890.0</td>\n",
       "      <td>24382.0</td>\n",
       "      <td>64.92</td>\n",
       "      <td>27818.0</td>\n",
       "      <td>3436.0</td>\n",
       "      <td>1</td>\n",
       "      <td>1</td>\n",
       "      <td>0</td>\n",
       "    </tr>\n",
       "    <tr>\n",
       "      <th>2015-01-01 02:00:00+01:00</th>\n",
       "      <td>-3.464</td>\n",
       "      <td>1002.0</td>\n",
       "      <td>78</td>\n",
       "      <td>0.0</td>\n",
       "      <td>23</td>\n",
       "      <td>448.0</td>\n",
       "      <td>323.0</td>\n",
       "      <td>4857.0</td>\n",
       "      <td>4581.0</td>\n",
       "      <td>157.0</td>\n",
       "      <td>...</td>\n",
       "      <td>50.0</td>\n",
       "      <td>196.0</td>\n",
       "      <td>5461.0</td>\n",
       "      <td>22734.0</td>\n",
       "      <td>64.48</td>\n",
       "      <td>26796.0</td>\n",
       "      <td>4062.0</td>\n",
       "      <td>1</td>\n",
       "      <td>1</td>\n",
       "      <td>0</td>\n",
       "    </tr>\n",
       "    <tr>\n",
       "      <th>2015-01-01 03:00:00+01:00</th>\n",
       "      <td>-3.464</td>\n",
       "      <td>1002.0</td>\n",
       "      <td>78</td>\n",
       "      <td>0.0</td>\n",
       "      <td>23</td>\n",
       "      <td>438.0</td>\n",
       "      <td>254.0</td>\n",
       "      <td>4314.0</td>\n",
       "      <td>4131.0</td>\n",
       "      <td>160.0</td>\n",
       "      <td>...</td>\n",
       "      <td>50.0</td>\n",
       "      <td>191.0</td>\n",
       "      <td>5238.0</td>\n",
       "      <td>21286.0</td>\n",
       "      <td>59.32</td>\n",
       "      <td>25223.0</td>\n",
       "      <td>3937.0</td>\n",
       "      <td>1</td>\n",
       "      <td>1</td>\n",
       "      <td>0</td>\n",
       "    </tr>\n",
       "    <tr>\n",
       "      <th>2015-01-01 04:00:00+01:00</th>\n",
       "      <td>-3.464</td>\n",
       "      <td>1002.0</td>\n",
       "      <td>78</td>\n",
       "      <td>0.0</td>\n",
       "      <td>23</td>\n",
       "      <td>428.0</td>\n",
       "      <td>187.0</td>\n",
       "      <td>4130.0</td>\n",
       "      <td>3840.0</td>\n",
       "      <td>156.0</td>\n",
       "      <td>...</td>\n",
       "      <td>42.0</td>\n",
       "      <td>189.0</td>\n",
       "      <td>4935.0</td>\n",
       "      <td>20264.0</td>\n",
       "      <td>56.04</td>\n",
       "      <td>24620.0</td>\n",
       "      <td>4356.0</td>\n",
       "      <td>1</td>\n",
       "      <td>1</td>\n",
       "      <td>0</td>\n",
       "    </tr>\n",
       "    <tr>\n",
       "      <th>...</th>\n",
       "      <td>...</td>\n",
       "      <td>...</td>\n",
       "      <td>...</td>\n",
       "      <td>...</td>\n",
       "      <td>...</td>\n",
       "      <td>...</td>\n",
       "      <td>...</td>\n",
       "      <td>...</td>\n",
       "      <td>...</td>\n",
       "      <td>...</td>\n",
       "      <td>...</td>\n",
       "      <td>...</td>\n",
       "      <td>...</td>\n",
       "      <td>...</td>\n",
       "      <td>...</td>\n",
       "      <td>...</td>\n",
       "      <td>...</td>\n",
       "      <td>...</td>\n",
       "      <td>...</td>\n",
       "      <td>...</td>\n",
       "      <td>...</td>\n",
       "    </tr>\n",
       "    <tr>\n",
       "      <th>2018-12-31 19:00:00+01:00</th>\n",
       "      <td>12.490</td>\n",
       "      <td>1028.0</td>\n",
       "      <td>62</td>\n",
       "      <td>2.0</td>\n",
       "      <td>140</td>\n",
       "      <td>297.0</td>\n",
       "      <td>0.0</td>\n",
       "      <td>7634.0</td>\n",
       "      <td>2628.0</td>\n",
       "      <td>178.0</td>\n",
       "      <td>...</td>\n",
       "      <td>85.0</td>\n",
       "      <td>277.0</td>\n",
       "      <td>3113.0</td>\n",
       "      <td>30653.0</td>\n",
       "      <td>77.02</td>\n",
       "      <td>26415.0</td>\n",
       "      <td>-4238.0</td>\n",
       "      <td>12</td>\n",
       "      <td>31</td>\n",
       "      <td>0</td>\n",
       "    </tr>\n",
       "    <tr>\n",
       "      <th>2018-12-31 20:00:00+01:00</th>\n",
       "      <td>9.990</td>\n",
       "      <td>1029.0</td>\n",
       "      <td>71</td>\n",
       "      <td>1.0</td>\n",
       "      <td>242</td>\n",
       "      <td>296.0</td>\n",
       "      <td>0.0</td>\n",
       "      <td>7241.0</td>\n",
       "      <td>2566.0</td>\n",
       "      <td>174.0</td>\n",
       "      <td>...</td>\n",
       "      <td>33.0</td>\n",
       "      <td>280.0</td>\n",
       "      <td>3288.0</td>\n",
       "      <td>29735.0</td>\n",
       "      <td>76.16</td>\n",
       "      <td>25213.0</td>\n",
       "      <td>-4522.0</td>\n",
       "      <td>12</td>\n",
       "      <td>31</td>\n",
       "      <td>0</td>\n",
       "    </tr>\n",
       "    <tr>\n",
       "      <th>2018-12-31 21:00:00+01:00</th>\n",
       "      <td>8.510</td>\n",
       "      <td>1029.0</td>\n",
       "      <td>81</td>\n",
       "      <td>3.0</td>\n",
       "      <td>300</td>\n",
       "      <td>292.0</td>\n",
       "      <td>0.0</td>\n",
       "      <td>7025.0</td>\n",
       "      <td>2422.0</td>\n",
       "      <td>168.0</td>\n",
       "      <td>...</td>\n",
       "      <td>31.0</td>\n",
       "      <td>286.0</td>\n",
       "      <td>3503.0</td>\n",
       "      <td>28071.0</td>\n",
       "      <td>74.30</td>\n",
       "      <td>23987.0</td>\n",
       "      <td>-4084.0</td>\n",
       "      <td>12</td>\n",
       "      <td>31</td>\n",
       "      <td>0</td>\n",
       "    </tr>\n",
       "    <tr>\n",
       "      <th>2018-12-31 22:00:00+01:00</th>\n",
       "      <td>6.990</td>\n",
       "      <td>1029.0</td>\n",
       "      <td>81</td>\n",
       "      <td>2.0</td>\n",
       "      <td>310</td>\n",
       "      <td>293.0</td>\n",
       "      <td>0.0</td>\n",
       "      <td>6562.0</td>\n",
       "      <td>2293.0</td>\n",
       "      <td>163.0</td>\n",
       "      <td>...</td>\n",
       "      <td>31.0</td>\n",
       "      <td>287.0</td>\n",
       "      <td>3586.0</td>\n",
       "      <td>25801.0</td>\n",
       "      <td>69.89</td>\n",
       "      <td>22748.0</td>\n",
       "      <td>-3053.0</td>\n",
       "      <td>12</td>\n",
       "      <td>31</td>\n",
       "      <td>0</td>\n",
       "    </tr>\n",
       "    <tr>\n",
       "      <th>2018-12-31 23:00:00+01:00</th>\n",
       "      <td>5.990</td>\n",
       "      <td>1029.0</td>\n",
       "      <td>75</td>\n",
       "      <td>2.0</td>\n",
       "      <td>300</td>\n",
       "      <td>290.0</td>\n",
       "      <td>0.0</td>\n",
       "      <td>6926.0</td>\n",
       "      <td>2166.0</td>\n",
       "      <td>163.0</td>\n",
       "      <td>...</td>\n",
       "      <td>31.0</td>\n",
       "      <td>287.0</td>\n",
       "      <td>3651.0</td>\n",
       "      <td>24455.0</td>\n",
       "      <td>69.88</td>\n",
       "      <td>22605.0</td>\n",
       "      <td>-1850.0</td>\n",
       "      <td>12</td>\n",
       "      <td>31</td>\n",
       "      <td>0</td>\n",
       "    </tr>\n",
       "  </tbody>\n",
       "</table>\n",
       "<p>35064 rows × 26 columns</p>\n",
       "</div>"
      ],
      "text/plain": [
       "                             temp  pressure  humidity  wind_speed  wind_deg  \\\n",
       "2015-01-01 00:00:00+01:00  -2.675    1001.0        77         1.0        62   \n",
       "2015-01-01 01:00:00+01:00  -2.675    1001.0        77         1.0        62   \n",
       "2015-01-01 02:00:00+01:00  -3.464    1002.0        78         0.0        23   \n",
       "2015-01-01 03:00:00+01:00  -3.464    1002.0        78         0.0        23   \n",
       "2015-01-01 04:00:00+01:00  -3.464    1002.0        78         0.0        23   \n",
       "...                           ...       ...       ...         ...       ...   \n",
       "2018-12-31 19:00:00+01:00  12.490    1028.0        62         2.0       140   \n",
       "2018-12-31 20:00:00+01:00   9.990    1029.0        71         1.0       242   \n",
       "2018-12-31 21:00:00+01:00   8.510    1029.0        81         3.0       300   \n",
       "2018-12-31 22:00:00+01:00   6.990    1029.0        81         2.0       310   \n",
       "2018-12-31 23:00:00+01:00   5.990    1029.0        75         2.0       300   \n",
       "\n",
       "                           generation biomass  \\\n",
       "2015-01-01 00:00:00+01:00               447.0   \n",
       "2015-01-01 01:00:00+01:00               449.0   \n",
       "2015-01-01 02:00:00+01:00               448.0   \n",
       "2015-01-01 03:00:00+01:00               438.0   \n",
       "2015-01-01 04:00:00+01:00               428.0   \n",
       "...                                       ...   \n",
       "2018-12-31 19:00:00+01:00               297.0   \n",
       "2018-12-31 20:00:00+01:00               296.0   \n",
       "2018-12-31 21:00:00+01:00               292.0   \n",
       "2018-12-31 22:00:00+01:00               293.0   \n",
       "2018-12-31 23:00:00+01:00               290.0   \n",
       "\n",
       "                           generation fossil brown coal/lignite  \\\n",
       "2015-01-01 00:00:00+01:00                                 329.0   \n",
       "2015-01-01 01:00:00+01:00                                 328.0   \n",
       "2015-01-01 02:00:00+01:00                                 323.0   \n",
       "2015-01-01 03:00:00+01:00                                 254.0   \n",
       "2015-01-01 04:00:00+01:00                                 187.0   \n",
       "...                                                         ...   \n",
       "2018-12-31 19:00:00+01:00                                   0.0   \n",
       "2018-12-31 20:00:00+01:00                                   0.0   \n",
       "2018-12-31 21:00:00+01:00                                   0.0   \n",
       "2018-12-31 22:00:00+01:00                                   0.0   \n",
       "2018-12-31 23:00:00+01:00                                   0.0   \n",
       "\n",
       "                           generation fossil gas  generation fossil hard coal  \\\n",
       "2015-01-01 00:00:00+01:00                 4844.0                       4821.0   \n",
       "2015-01-01 01:00:00+01:00                 5196.0                       4755.0   \n",
       "2015-01-01 02:00:00+01:00                 4857.0                       4581.0   \n",
       "2015-01-01 03:00:00+01:00                 4314.0                       4131.0   \n",
       "2015-01-01 04:00:00+01:00                 4130.0                       3840.0   \n",
       "...                                          ...                          ...   \n",
       "2018-12-31 19:00:00+01:00                 7634.0                       2628.0   \n",
       "2018-12-31 20:00:00+01:00                 7241.0                       2566.0   \n",
       "2018-12-31 21:00:00+01:00                 7025.0                       2422.0   \n",
       "2018-12-31 22:00:00+01:00                 6562.0                       2293.0   \n",
       "2018-12-31 23:00:00+01:00                 6926.0                       2166.0   \n",
       "\n",
       "                           generation fossil oil  ...  generation solar  \\\n",
       "2015-01-01 00:00:00+01:00                  162.0  ...              49.0   \n",
       "2015-01-01 01:00:00+01:00                  158.0  ...              50.0   \n",
       "2015-01-01 02:00:00+01:00                  157.0  ...              50.0   \n",
       "2015-01-01 03:00:00+01:00                  160.0  ...              50.0   \n",
       "2015-01-01 04:00:00+01:00                  156.0  ...              42.0   \n",
       "...                                          ...  ...               ...   \n",
       "2018-12-31 19:00:00+01:00                  178.0  ...              85.0   \n",
       "2018-12-31 20:00:00+01:00                  174.0  ...              33.0   \n",
       "2018-12-31 21:00:00+01:00                  168.0  ...              31.0   \n",
       "2018-12-31 22:00:00+01:00                  163.0  ...              31.0   \n",
       "2018-12-31 23:00:00+01:00                  163.0  ...              31.0   \n",
       "\n",
       "                           generation waste  generation wind onshore  \\\n",
       "2015-01-01 00:00:00+01:00             196.0                   6378.0   \n",
       "2015-01-01 01:00:00+01:00             195.0                   5890.0   \n",
       "2015-01-01 02:00:00+01:00             196.0                   5461.0   \n",
       "2015-01-01 03:00:00+01:00             191.0                   5238.0   \n",
       "2015-01-01 04:00:00+01:00             189.0                   4935.0   \n",
       "...                                     ...                      ...   \n",
       "2018-12-31 19:00:00+01:00             277.0                   3113.0   \n",
       "2018-12-31 20:00:00+01:00             280.0                   3288.0   \n",
       "2018-12-31 21:00:00+01:00             286.0                   3503.0   \n",
       "2018-12-31 22:00:00+01:00             287.0                   3586.0   \n",
       "2018-12-31 23:00:00+01:00             287.0                   3651.0   \n",
       "\n",
       "                           total load actual  price actual  generation  \\\n",
       "2015-01-01 00:00:00+01:00            25385.0         65.41     28251.0   \n",
       "2015-01-01 01:00:00+01:00            24382.0         64.92     27818.0   \n",
       "2015-01-01 02:00:00+01:00            22734.0         64.48     26796.0   \n",
       "2015-01-01 03:00:00+01:00            21286.0         59.32     25223.0   \n",
       "2015-01-01 04:00:00+01:00            20264.0         56.04     24620.0   \n",
       "...                                      ...           ...         ...   \n",
       "2018-12-31 19:00:00+01:00            30653.0         77.02     26415.0   \n",
       "2018-12-31 20:00:00+01:00            29735.0         76.16     25213.0   \n",
       "2018-12-31 21:00:00+01:00            28071.0         74.30     23987.0   \n",
       "2018-12-31 22:00:00+01:00            25801.0         69.89     22748.0   \n",
       "2018-12-31 23:00:00+01:00            24455.0         69.88     22605.0   \n",
       "\n",
       "                           energy_difference  month  day  weekend  \n",
       "2015-01-01 00:00:00+01:00             2866.0      1    1        0  \n",
       "2015-01-01 01:00:00+01:00             3436.0      1    1        0  \n",
       "2015-01-01 02:00:00+01:00             4062.0      1    1        0  \n",
       "2015-01-01 03:00:00+01:00             3937.0      1    1        0  \n",
       "2015-01-01 04:00:00+01:00             4356.0      1    1        0  \n",
       "...                                      ...    ...  ...      ...  \n",
       "2018-12-31 19:00:00+01:00            -4238.0     12   31        0  \n",
       "2018-12-31 20:00:00+01:00            -4522.0     12   31        0  \n",
       "2018-12-31 21:00:00+01:00            -4084.0     12   31        0  \n",
       "2018-12-31 22:00:00+01:00            -3053.0     12   31        0  \n",
       "2018-12-31 23:00:00+01:00            -1850.0     12   31        0  \n",
       "\n",
       "[35064 rows x 26 columns]"
      ]
     },
     "execution_count": 22,
     "metadata": {},
     "output_type": "execute_result"
    }
   ],
   "source": [
    "combined_df"
   ]
  },
  {
   "cell_type": "markdown",
   "metadata": {},
   "source": [
    "## SVM\n"
   ]
  },
  {
   "cell_type": "markdown",
   "metadata": {},
   "source": [
    "### Singlestep prediction\n"
   ]
  },
  {
   "cell_type": "markdown",
   "metadata": {},
   "source": [
    "Loading the data set"
   ]
  },
  {
   "cell_type": "code",
   "execution_count": null,
   "metadata": {},
   "outputs": [],
   "source": [
    "%%skip $SKIP_SVM\n",
    "\n",
    "scaled_df = combined_df.copy(deep=True)"
   ]
  },
  {
   "cell_type": "markdown",
   "metadata": {},
   "source": [
    "Scaling the data set"
   ]
  },
  {
   "cell_type": "code",
   "execution_count": null,
   "metadata": {},
   "outputs": [],
   "source": [
    "%%skip $SKIP_SVM\n",
    "\n",
    "featuresToScale = scaled_df.columns\n",
    "sX = pp.StandardScaler(copy=True)\n",
    "scaled_df.loc[:,featuresToScale] = sX.fit_transform(scaled_df[featuresToScale])"
   ]
  },
  {
   "cell_type": "markdown",
   "metadata": {},
   "source": [
    "Creating Test-Train split"
   ]
  },
  {
   "cell_type": "code",
   "execution_count": null,
   "metadata": {},
   "outputs": [],
   "source": [
    "%%skip $SKIP_SVM\n",
    "\n",
    "train_start = '2015-01-01'\n",
    "test_start = '2017-01-01'\n",
    "test_end = '2017-01-04'\n",
    "scaled_df.index.freq = 'h' \n",
    "feature = 'total load actual'\n",
    "namespace = 'SVR'\n",
    "modeltype = 'SVR'\n",
    "feature_df = combined_df[feature]\n",
    "(\n",
    "    data_x_train,\n",
    "    data_x_test,\n",
    "    data_y_train,\n",
    "    data_y_test,\n",
    "\n",
    ") = create_test_train_split(\n",
    "    df_x=scaled_df,df_y=feature_df,train_start=train_start,test_start=test_start,test_end=test_end,)\n"
   ]
  },
  {
   "cell_type": "markdown",
   "metadata": {},
   "source": [
    "Hyperparameters"
   ]
  },
  {
   "cell_type": "code",
   "execution_count": null,
   "metadata": {},
   "outputs": [],
   "source": [
    "%%skip $SKIP_SVM\n",
    "\n",
    "kernel='linear' \n",
    "gamma='scale'\n",
    "C=1.0\n",
    "epsilon=0.1    \n",
    "shrinking=True \n",
    "tol=0.00001\n",
    "\n",
    "svr = SVR(kernel= kernel, gamma=gamma, tol=tol, C=C, epsilon=epsilon, shrinking=shrinking)"
   ]
  },
  {
   "cell_type": "markdown",
   "metadata": {},
   "source": [
    "Fitting the model to the training data"
   ]
  },
  {
   "cell_type": "code",
   "execution_count": null,
   "metadata": {},
   "outputs": [],
   "source": [
    "%%skip $SKIP_SVM\n",
    "\n",
    "model = svr\n",
    "model.fit(data_x_train, data_y_train)"
   ]
  },
  {
   "cell_type": "markdown",
   "metadata": {},
   "source": [
    "Getting model prediction scores"
   ]
  },
  {
   "cell_type": "code",
   "execution_count": null,
   "metadata": {},
   "outputs": [
    {
     "name": "stdout",
     "output_type": "stream",
     "text": [
      "-----------------------------------\n",
      "SVM Regression Training R^2 Score:  0.9999999997764674\n",
      "-----------------------------------\n",
      "-----------------------------------\n",
      "SVM Regression Validation R^2 Score:  0.9999999998156412\n",
      "-----------------------------------\n"
     ]
    }
   ],
   "source": [
    "%%skip $SKIP_SVM\n",
    "\n",
    "scoreTraining = model.score(data_x_train, data_y_train)\n",
    "print('-----------------------------------')\n",
    "print('SVM Regression Training R^2 Score: ', scoreTraining)\n",
    "print('-----------------------------------')\n",
    "scoreValidation = model.score(data_x_test, data_y_test)\n",
    "print('-----------------------------------')\n",
    "print('SVM Regression Validation R^2 Score: ', scoreValidation)\n",
    "print('-----------------------------------')"
   ]
  },
  {
   "cell_type": "markdown",
   "metadata": {},
   "source": [
    "Model predictions"
   ]
  },
  {
   "cell_type": "code",
   "execution_count": null,
   "metadata": {},
   "outputs": [],
   "source": [
    "%%skip $SKIP_SVM\n",
    "\n",
    "y_predict = pd.Series(svr.predict(data_x_test),index=data_y_test.index)"
   ]
  },
  {
   "cell_type": "code",
   "execution_count": null,
   "metadata": {},
   "outputs": [
    {
     "data": {
      "image/png": "[encoded data removed]",
      "text/plain": [
       "<Figure size 432x288 with 1 Axes>"
      ]
     },
     "metadata": {},
     "output_type": "display_data"
    }
   ],
   "source": [
    "%%skip $SKIP_SVM\n",
    "\n",
    "plt.figure();\n",
    "plt.plot(data_y_test, 'k.-');\n",
    "plt.plot(y_predict, 'x', alpha=0.70);\n",
    "\n",
    "plt.legend(['Actual',\n",
    "            'Predicted 1 hr ahead for 72 hours'\n",
    "            ]);\n",
    "plt.ylabel('Load');\n",
    "plt.xlabel('Time Index');\n",
    "plt.title('SVM');"
   ]
  },
  {
   "cell_type": "markdown",
   "metadata": {},
   "source": [
    "### Multistep prediction\n"
   ]
  },
  {
   "cell_type": "markdown",
   "metadata": {},
   "source": [
    "Loading the data set"
   ]
  },
  {
   "cell_type": "code",
   "execution_count": null,
   "metadata": {},
   "outputs": [],
   "source": [
    "%%skip $SKIP_SVM\n",
    "\n",
    "scaled_df = combined_df.copy(deep=True)"
   ]
  },
  {
   "cell_type": "markdown",
   "metadata": {},
   "source": [
    "Scaling the data set"
   ]
  },
  {
   "cell_type": "code",
   "execution_count": null,
   "metadata": {},
   "outputs": [],
   "source": [
    "%%skip $SKIP_SVM\n",
    "\n",
    "featuresToScale = scaled_df.columns\n",
    "sX = pp.StandardScaler(copy=True)\n",
    "scaled_df.loc[:,featuresToScale] = sX.fit_transform(scaled_df[featuresToScale])"
   ]
  },
  {
   "cell_type": "markdown",
   "metadata": {},
   "source": [
    "Creating Test-Train split"
   ]
  },
  {
   "cell_type": "code",
   "execution_count": null,
   "metadata": {},
   "outputs": [],
   "source": [
    "%%skip $SKIP_SVM\n",
    "\n",
    "train_start = '2015-01-01'\n",
    "test_start = '2017-01-01'\n",
    "test_end = '2017-01-04'\n",
    "scaled_df.index.freq = 'h' \n",
    "feature = 'total load actual'\n",
    "namespace = 'MS_SVR'\n",
    "modeltype = 'SVR'\n",
    "feature_df = combined_df[feature]\n",
    "(\n",
    "    data_x_train,\n",
    "    data_x_test,\n",
    "    data_y_train,\n",
    "    data_y_test,\n",
    "\n",
    ") = create_test_train_split(\n",
    "    df_x=scaled_df,df_y=feature_df,train_start=train_start,test_start=test_start,test_end=test_end,)\n"
   ]
  },
  {
   "cell_type": "markdown",
   "metadata": {},
   "source": [
    "Hyperparameters"
   ]
  },
  {
   "cell_type": "code",
   "execution_count": null,
   "metadata": {},
   "outputs": [],
   "source": [
    "%%skip $SKIP_SVM\n",
    "\n",
    "pd.options.mode.chained_assignment = None \n",
    "\n",
    "kernel='linear' \n",
    "gamma='scale' \n",
    "C=1\n",
    "epsilon=0.1    \n",
    "shrinking=True \n",
    "tol=0.00001\n",
    "\n",
    "svr = SVR(kernel= kernel, gamma=gamma, tol=tol, C=C, epsilon=epsilon, shrinking=shrinking)"
   ]
  },
  {
   "cell_type": "markdown",
   "metadata": {},
   "source": [
    "Fitting the model to the training data"
   ]
  },
  {
   "cell_type": "code",
   "execution_count": null,
   "metadata": {},
   "outputs": [],
   "source": [
    "%%skip $SKIP_SVM\n",
    "\n",
    "model = svr\n",
    "model.fit(data_x_train, data_y_train)"
   ]
  },
  {
   "cell_type": "code",
   "execution_count": null,
   "metadata": {},
   "outputs": [
    {
     "name": "stderr",
     "output_type": "stream",
     "text": [
      "<string>:2: DeprecationWarning:\n",
      "\n",
      "The default dtype for empty Series will be 'object' instead of 'float64' in a future version. Specify a dtype explicitly to silence this warning.\n",
      "\n"
     ]
    }
   ],
   "source": [
    "%%skip $SKIP_SVM\n",
    "\n",
    "y_predicted =pd.Series(index=data_y_test.index)"
   ]
  },
  {
   "cell_type": "markdown",
   "metadata": {},
   "source": [
    "Model predictions"
   ]
  },
  {
   "cell_type": "code",
   "execution_count": null,
   "metadata": {},
   "outputs": [],
   "source": [
    "%%skip $SKIP_SVM\n",
    "\n",
    "case_indices = data_y_test.index\n",
    "window = 720\n",
    "start_case_index = case_indices[0]-timedelta(hours=window)\n",
    "end_case_index = case_indices[0]-timedelta(hours=1)\n",
    "data_x_last = scaled_df[start_case_index:end_case_index]\n",
    "dummy_array = np.zeros((1,data_x_last.shape[1])) \n",
    "\n",
    "for case_index in case_indices:\n",
    "\n",
    "  load_prediction = svr.predict(data_x_last).flatten()[0]\n",
    "\n",
    "  y_predicted.update(pd.Series(load_prediction,index=[case_index]))\n",
    "\n",
    "  dummy_array[0,data_x_last.shape[1]-1] = load_prediction\n",
    "  load_scaled = sX.transform(dummy_array)[0,data_x_last.shape[1]-1]\n",
    "  \n",
    "  start_case_index = case_index-timedelta(hours=window-1)\n",
    "  end_case_index=case_index\n",
    "\n",
    "  data_x_last = scaled_df[start_case_index:end_case_index]\n",
    "  data_x_last.loc[case_index,'total load actual'] = load_scaled\n"
   ]
  },
  {
   "cell_type": "code",
   "execution_count": null,
   "metadata": {},
   "outputs": [
    {
     "data": {
      "image/png": "[encoded data removed]",
      "text/plain": [
       "<Figure size 432x288 with 1 Axes>"
      ]
     },
     "metadata": {},
     "output_type": "display_data"
    }
   ],
   "source": [
    "%%skip $SKIP_SVM\n",
    "\n",
    "plt.figure();\n",
    "plt.plot(data_y_test, 'k.-');\n",
    "plt.plot(y_predicted, 'x', alpha=0.70);\n",
    "\n",
    "plt.legend(['Actual',\n",
    "            'Predicted 1 hr ahead for 72 hours'\n",
    "            ]);\n",
    "plt.ylabel('Load');\n",
    "plt.xlabel('Time Index');\n",
    "plt.title('SVM');"
   ]
  }
 ],
 "metadata": {
  "interpreter": {
   "hash": "39d1545a961fb91480a52a0b6f0ba22788119e75d6e41681ee81894caf37680e"
  },
  "kernelspec": {
   "display_name": "Python 3.9.5 64-bit ('env': conda)",
   "language": "python",
   "name": "python3"
  },
  "language_info": {
   "codemirror_mode": {
    "name": "ipython",
    "version": 3
   },
   "file_extension": ".py",
   "mimetype": "text/x-python",
   "name": "python",
   "nbconvert_exporter": "python",
   "pygments_lexer": "ipython3",
   "version": "3.9.4"
  },
  "orig_nbformat": 4
 },
 "nbformat": 4,
 "nbformat_minor": 2
}
