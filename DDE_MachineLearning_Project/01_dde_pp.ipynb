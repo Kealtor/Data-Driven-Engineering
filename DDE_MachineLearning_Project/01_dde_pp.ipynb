{
 "cells": [
  {
   "cell_type": "code",
   "execution_count": 1,
   "metadata": {
    "slideshow": {
     "slide_type": "skip"
    }
   },
   "outputs": [],
   "source": [
    "import numpy as np\n",
    "from datetime import timedelta\n",
    "import pandas as pd\n",
    "from pandas.plotting import lag_plot, autocorrelation_plot\n",
    "from datetime import date\n",
    "\n",
    "import plotly.express as px\n",
    "import plotly.graph_objects as go\n",
    "import matplotlib.pyplot as plt\n",
    "import matplotlib as mpl\n",
    "\n",
    "from statsmodels.graphics.tsaplots import plot_acf, plot_pacf \n",
    "import statsmodels.api as smw\n",
    "from statsmodels.tsa.statespace.sarimax import SARIMAX\n",
    "\n",
    "from sklearn import preprocessing as pp\n",
    "from sklearn.decomposition import PCA\n",
    "from sklearn.svm import SVR\n",
    "from sklearn.metrics import r2_score\n",
    "\n",
    "import tensorflow as tf\n",
    "from tensorflow import keras\n",
    "from keras import optimizers, models, layers, regularizers\n",
    "tf.__version__\n",
    "%load_ext skip_kernel_extension"
   ]
  },
  {
   "cell_type": "code",
   "execution_count": 2,
   "metadata": {},
   "outputs": [],
   "source": [
    "from utils.dde_preprocessing_utils import (set_timestamp_index,\n",
    "remove_duplicates,\n",
    "remove_columns,\n",
    "extract_correlations,\n",
    "prepare_data_sarimax,\n",
    "create_test_train_split,\n",
    "create_sarimax_test_train_split,\n",
    "create_eval_df,\n",
    "convert_to_sample_time_feature,\n",
    "average_over_year,\n",
    "average_over_day)\n",
    "from utils.dde_plotting_utils import(\n",
    "display_double_timestamps,\n",
    "display_seasonal_decomposition,\n",
    "plot_predictions,\n",
    "plot_accuracy,\n",
    "plot_error_variations,\n",
    "plot_learning_curves,\n",
    ")"
   ]
  },
  {
   "cell_type": "code",
   "execution_count": 3,
   "metadata": {},
   "outputs": [],
   "source": [
    "mpl.rcParams[\"figure.figsize\"] = [8.0, 8.0]"
   ]
  },
  {
   "cell_type": "markdown",
   "metadata": {
    "slideshow": {
     "slide_type": "slide"
    }
   },
   "source": [
    "# Project Outline\n"
   ]
  },
  {
   "cell_type": "markdown",
   "metadata": {
    "slideshow": {
     "slide_type": "slide"
    }
   },
   "source": [
    "- [Introduction](#introduction)\n",
    "- [Analyzing Energy dataset](#analyzing-energy-dataset)\n",
    "- [Analyzing Weather Data](#analyzing-weather-dateset)\n",
    "- [Feature engineering](#feature-engineering)\n",
    "- [Baseline models](#baseline-models)\n",
    "  - [SARIMAX](#sarimax)\n",
    "  - [SVM](#svm)\n",
    "- [Advanced models](#advanced-models)\n",
    "  - [Simple NN](#simple-nn)\n",
    "  - [RNN](#rnn)\n",
    "  - [LSTM](#lstm)\n",
    "- [Hyperparameter Tuning](#hyperparameter-tuning)\n",
    "- [Conclusion and outlook](#conclusion-and-outlook)\n"
   ]
  },
  {
   "cell_type": "markdown",
   "metadata": {},
   "source": [
    "# Introduction\n"
   ]
  },
  {
   "cell_type": "markdown",
   "metadata": {},
   "source": [
    "\"Climate change is one of the greatest challenges facing humanity, and we, as machine learning experts,\n",
    "may wonder how we can help. Here we describe how machine learning can be a powerful tool in\n",
    "reducing greenhouse gas emissions and helping society adapt to a changing climate. \\\n",
    "From smart grids to disaster management, we identify high impact problems where existing gaps can be filled by machine\n",
    "learning, in collaboration with other fields. Our recommendations encompass exciting research questions\n",
    "as well as promising business opportunities. We call on the machine learning community to join\n",
    "the global effort against climate change.\" \\\n",
    "[David Rolnick et. al., 2019, Tackling Climate Change with Machine Learning](https://arxiv.org/abs/1906.05433)"
   ]
  },
  {
   "cell_type": "markdown",
   "metadata": {},
   "source": [
    "\"This dataset contains 4 years of electrical consumption, generation, pricing, and weather data for Spain. Consumption and generation data was retrieved from ENTSOE a public portal for Transmission Service Operator (TSO) data. Settlement prices were obtained from the Spanish TSO Red Electric España. Weather data was purchased as part of a personal project from the Open Weather API for the 5 largest cities in Spain and made public here.\" \\\n",
    "[Nicholas Jhana, 2019, Hourly energy demand generation and weather](https://www.kaggle.com/nicholasjhana/energy-consumption-generation-prices-and-weather)"
   ]
  },
  {
   "cell_type": "markdown",
   "metadata": {},
   "source": [
    "As described, in this project we are presented with two files, containing electrical consumption, generation, pricing and weather data for the region of Spain. \\\n",
    "In total there are up to 45 columns/features in the dataset and the data for each feature is hourly collected from 2015 to 2018, which results in 35064 timesteps.\n",
    "With a dataset of this size and detail, it is only natural to thing about the application of Machine Learning and Neural Networks. "
   ]
  },
  {
   "cell_type": "markdown",
   "metadata": {},
   "source": [
    "On one hand it is interesting to forecast the electrical prices, especially for businesses. On the other hand the prediction of electrical consumption can play a crucial role in our fight against global warming. With accurate predictions on the electrical load and sufficient storage capacities, renewable energy sources, where energy production heavily depends on weather, can be planned ahead in time, stored and used later on, which reduces the necessity for other energy generation methods. In turn this might also have an influence on the price. \\\n",
    "Therefore it is interesting to investigate the dependencies between weather, energy generation, consumption and pricing. \\\n",
    "From intuition one might say that the weather and energy consumption are the most basic and indepent variables in this project, because the energy generation from renewable energy sources are dependent from the weather. The increase and decrease of energy prices depends on the supply and demand, or in our case the generation and consumption. \n"
   ]
  },
  {
   "cell_type": "markdown",
   "metadata": {},
   "source": [
    "![energy graph](energy.jpg)"
   ]
  },
  {
   "cell_type": "markdown",
   "metadata": {},
   "source": [
    "There are many ways to tackle a problem of this size and complexity. \\\n",
    "So first of all, we should define the goals of this project. This dataset is very suited for short term load forecasting, since the overall dataset has a length of 4 years and the resolution is down to hours. The model should be able to predict features for up to 24 hours into the future. \\\n",
    "For this project we are going to start with analyzing the dataset with statistical methods to get a feel for the dataset itself. \\\n",
    "And with a dataset that rich in features, it would be very beneficial apply Feature engineering methods like Correlation Analysis and Dimensionality Reduction to compress the dataset. \\\n",
    "With data like Weather and Energy demand it is worthwhile to look into seasonal trends and patterns and apply a Decomposition to the dataset. Furthermore, it would be practical to look into the history dependcy of the data and apply Autocorrelation and Partial Autocorrelation functions to analyze the dataset. \\\n",
    "For the Basemodel I choose to approach the task as a Regression Problem and model it with the SARIMAX-Model and the SVR-Model. \\\n",
    "The advanced model will be a neural network. And for this NN we will investigate different architectures to find the most suitable Model for this task. We especially will look into recurrent neural networks for their capability to process past data to predict the future. Furthermore, we will model it in a way, that a direct multistep prediction is possible.\\"
   ]
  },
  {
   "cell_type": "markdown",
   "metadata": {},
   "source": [
    "![model graph](DDE_graphs_1.png)"
   ]
  },
  {
   "cell_type": "code",
   "execution_count": 4,
   "metadata": {},
   "outputs": [],
   "source": [
    "SKIP_SARIMAX = True\n",
    "SKIP_SVM = True\n",
    "SKIP_RETRAIN_NN =True\n",
    "SKIP_RETRAIN_RNN = True\n",
    "SKIP_RETRAIN_LSTM = True\n",
    "SKIP_RETRAIN_ED_LSTM = True"
   ]
  },
  {
   "cell_type": "markdown",
   "metadata": {},
   "source": [
    "# Analyzing energy dataset\n"
   ]
  },
  {
   "cell_type": "code",
   "execution_count": 5,
   "metadata": {
    "slideshow": {
     "slide_type": "slide"
    }
   },
   "outputs": [
    {
     "data": {
      "text/html": [
       "<div>\n",
       "<style scoped>\n",
       "    .dataframe tbody tr th:only-of-type {\n",
       "        vertical-align: middle;\n",
       "    }\n",
       "\n",
       "    .dataframe tbody tr th {\n",
       "        vertical-align: top;\n",
       "    }\n",
       "\n",
       "    .dataframe thead th {\n",
       "        text-align: right;\n",
       "    }\n",
       "</style>\n",
       "<table border=\"1\" class=\"dataframe\">\n",
       "  <thead>\n",
       "    <tr style=\"text-align: right;\">\n",
       "      <th></th>\n",
       "      <th>generation biomass</th>\n",
       "      <th>generation fossil brown coal/lignite</th>\n",
       "      <th>generation fossil coal-derived gas</th>\n",
       "      <th>generation fossil gas</th>\n",
       "      <th>generation fossil hard coal</th>\n",
       "      <th>generation fossil oil</th>\n",
       "      <th>generation fossil oil shale</th>\n",
       "      <th>generation fossil peat</th>\n",
       "      <th>generation geothermal</th>\n",
       "      <th>generation hydro pumped storage aggregated</th>\n",
       "      <th>...</th>\n",
       "      <th>generation waste</th>\n",
       "      <th>generation wind offshore</th>\n",
       "      <th>generation wind onshore</th>\n",
       "      <th>forecast solar day ahead</th>\n",
       "      <th>forecast wind offshore eday ahead</th>\n",
       "      <th>forecast wind onshore day ahead</th>\n",
       "      <th>total load forecast</th>\n",
       "      <th>total load actual</th>\n",
       "      <th>price day ahead</th>\n",
       "      <th>price actual</th>\n",
       "    </tr>\n",
       "  </thead>\n",
       "  <tbody>\n",
       "    <tr>\n",
       "      <th>2015-01-01 00:00:00+01:00</th>\n",
       "      <td>447.0</td>\n",
       "      <td>329.0</td>\n",
       "      <td>0.0</td>\n",
       "      <td>4844.0</td>\n",
       "      <td>4821.0</td>\n",
       "      <td>162.0</td>\n",
       "      <td>0.0</td>\n",
       "      <td>0.0</td>\n",
       "      <td>0.0</td>\n",
       "      <td>NaN</td>\n",
       "      <td>...</td>\n",
       "      <td>196.0</td>\n",
       "      <td>0.0</td>\n",
       "      <td>6378.0</td>\n",
       "      <td>17.0</td>\n",
       "      <td>NaN</td>\n",
       "      <td>6436.0</td>\n",
       "      <td>26118.0</td>\n",
       "      <td>25385.0</td>\n",
       "      <td>50.10</td>\n",
       "      <td>65.41</td>\n",
       "    </tr>\n",
       "    <tr>\n",
       "      <th>2015-01-01 01:00:00+01:00</th>\n",
       "      <td>449.0</td>\n",
       "      <td>328.0</td>\n",
       "      <td>0.0</td>\n",
       "      <td>5196.0</td>\n",
       "      <td>4755.0</td>\n",
       "      <td>158.0</td>\n",
       "      <td>0.0</td>\n",
       "      <td>0.0</td>\n",
       "      <td>0.0</td>\n",
       "      <td>NaN</td>\n",
       "      <td>...</td>\n",
       "      <td>195.0</td>\n",
       "      <td>0.0</td>\n",
       "      <td>5890.0</td>\n",
       "      <td>16.0</td>\n",
       "      <td>NaN</td>\n",
       "      <td>5856.0</td>\n",
       "      <td>24934.0</td>\n",
       "      <td>24382.0</td>\n",
       "      <td>48.10</td>\n",
       "      <td>64.92</td>\n",
       "    </tr>\n",
       "    <tr>\n",
       "      <th>2015-01-01 02:00:00+01:00</th>\n",
       "      <td>448.0</td>\n",
       "      <td>323.0</td>\n",
       "      <td>0.0</td>\n",
       "      <td>4857.0</td>\n",
       "      <td>4581.0</td>\n",
       "      <td>157.0</td>\n",
       "      <td>0.0</td>\n",
       "      <td>0.0</td>\n",
       "      <td>0.0</td>\n",
       "      <td>NaN</td>\n",
       "      <td>...</td>\n",
       "      <td>196.0</td>\n",
       "      <td>0.0</td>\n",
       "      <td>5461.0</td>\n",
       "      <td>8.0</td>\n",
       "      <td>NaN</td>\n",
       "      <td>5454.0</td>\n",
       "      <td>23515.0</td>\n",
       "      <td>22734.0</td>\n",
       "      <td>47.33</td>\n",
       "      <td>64.48</td>\n",
       "    </tr>\n",
       "    <tr>\n",
       "      <th>2015-01-01 03:00:00+01:00</th>\n",
       "      <td>438.0</td>\n",
       "      <td>254.0</td>\n",
       "      <td>0.0</td>\n",
       "      <td>4314.0</td>\n",
       "      <td>4131.0</td>\n",
       "      <td>160.0</td>\n",
       "      <td>0.0</td>\n",
       "      <td>0.0</td>\n",
       "      <td>0.0</td>\n",
       "      <td>NaN</td>\n",
       "      <td>...</td>\n",
       "      <td>191.0</td>\n",
       "      <td>0.0</td>\n",
       "      <td>5238.0</td>\n",
       "      <td>2.0</td>\n",
       "      <td>NaN</td>\n",
       "      <td>5151.0</td>\n",
       "      <td>22642.0</td>\n",
       "      <td>21286.0</td>\n",
       "      <td>42.27</td>\n",
       "      <td>59.32</td>\n",
       "    </tr>\n",
       "    <tr>\n",
       "      <th>2015-01-01 04:00:00+01:00</th>\n",
       "      <td>428.0</td>\n",
       "      <td>187.0</td>\n",
       "      <td>0.0</td>\n",
       "      <td>4130.0</td>\n",
       "      <td>3840.0</td>\n",
       "      <td>156.0</td>\n",
       "      <td>0.0</td>\n",
       "      <td>0.0</td>\n",
       "      <td>0.0</td>\n",
       "      <td>NaN</td>\n",
       "      <td>...</td>\n",
       "      <td>189.0</td>\n",
       "      <td>0.0</td>\n",
       "      <td>4935.0</td>\n",
       "      <td>9.0</td>\n",
       "      <td>NaN</td>\n",
       "      <td>4861.0</td>\n",
       "      <td>21785.0</td>\n",
       "      <td>20264.0</td>\n",
       "      <td>38.41</td>\n",
       "      <td>56.04</td>\n",
       "    </tr>\n",
       "    <tr>\n",
       "      <th>...</th>\n",
       "      <td>...</td>\n",
       "      <td>...</td>\n",
       "      <td>...</td>\n",
       "      <td>...</td>\n",
       "      <td>...</td>\n",
       "      <td>...</td>\n",
       "      <td>...</td>\n",
       "      <td>...</td>\n",
       "      <td>...</td>\n",
       "      <td>...</td>\n",
       "      <td>...</td>\n",
       "      <td>...</td>\n",
       "      <td>...</td>\n",
       "      <td>...</td>\n",
       "      <td>...</td>\n",
       "      <td>...</td>\n",
       "      <td>...</td>\n",
       "      <td>...</td>\n",
       "      <td>...</td>\n",
       "      <td>...</td>\n",
       "      <td>...</td>\n",
       "    </tr>\n",
       "    <tr>\n",
       "      <th>2018-12-31 19:00:00+01:00</th>\n",
       "      <td>297.0</td>\n",
       "      <td>0.0</td>\n",
       "      <td>0.0</td>\n",
       "      <td>7634.0</td>\n",
       "      <td>2628.0</td>\n",
       "      <td>178.0</td>\n",
       "      <td>0.0</td>\n",
       "      <td>0.0</td>\n",
       "      <td>0.0</td>\n",
       "      <td>NaN</td>\n",
       "      <td>...</td>\n",
       "      <td>277.0</td>\n",
       "      <td>0.0</td>\n",
       "      <td>3113.0</td>\n",
       "      <td>96.0</td>\n",
       "      <td>NaN</td>\n",
       "      <td>3253.0</td>\n",
       "      <td>30619.0</td>\n",
       "      <td>30653.0</td>\n",
       "      <td>68.85</td>\n",
       "      <td>77.02</td>\n",
       "    </tr>\n",
       "    <tr>\n",
       "      <th>2018-12-31 20:00:00+01:00</th>\n",
       "      <td>296.0</td>\n",
       "      <td>0.0</td>\n",
       "      <td>0.0</td>\n",
       "      <td>7241.0</td>\n",
       "      <td>2566.0</td>\n",
       "      <td>174.0</td>\n",
       "      <td>0.0</td>\n",
       "      <td>0.0</td>\n",
       "      <td>0.0</td>\n",
       "      <td>NaN</td>\n",
       "      <td>...</td>\n",
       "      <td>280.0</td>\n",
       "      <td>0.0</td>\n",
       "      <td>3288.0</td>\n",
       "      <td>51.0</td>\n",
       "      <td>NaN</td>\n",
       "      <td>3353.0</td>\n",
       "      <td>29932.0</td>\n",
       "      <td>29735.0</td>\n",
       "      <td>68.40</td>\n",
       "      <td>76.16</td>\n",
       "    </tr>\n",
       "    <tr>\n",
       "      <th>2018-12-31 21:00:00+01:00</th>\n",
       "      <td>292.0</td>\n",
       "      <td>0.0</td>\n",
       "      <td>0.0</td>\n",
       "      <td>7025.0</td>\n",
       "      <td>2422.0</td>\n",
       "      <td>168.0</td>\n",
       "      <td>0.0</td>\n",
       "      <td>0.0</td>\n",
       "      <td>0.0</td>\n",
       "      <td>NaN</td>\n",
       "      <td>...</td>\n",
       "      <td>286.0</td>\n",
       "      <td>0.0</td>\n",
       "      <td>3503.0</td>\n",
       "      <td>36.0</td>\n",
       "      <td>NaN</td>\n",
       "      <td>3404.0</td>\n",
       "      <td>27903.0</td>\n",
       "      <td>28071.0</td>\n",
       "      <td>66.88</td>\n",
       "      <td>74.30</td>\n",
       "    </tr>\n",
       "    <tr>\n",
       "      <th>2018-12-31 22:00:00+01:00</th>\n",
       "      <td>293.0</td>\n",
       "      <td>0.0</td>\n",
       "      <td>0.0</td>\n",
       "      <td>6562.0</td>\n",
       "      <td>2293.0</td>\n",
       "      <td>163.0</td>\n",
       "      <td>0.0</td>\n",
       "      <td>0.0</td>\n",
       "      <td>0.0</td>\n",
       "      <td>NaN</td>\n",
       "      <td>...</td>\n",
       "      <td>287.0</td>\n",
       "      <td>0.0</td>\n",
       "      <td>3586.0</td>\n",
       "      <td>29.0</td>\n",
       "      <td>NaN</td>\n",
       "      <td>3273.0</td>\n",
       "      <td>25450.0</td>\n",
       "      <td>25801.0</td>\n",
       "      <td>63.93</td>\n",
       "      <td>69.89</td>\n",
       "    </tr>\n",
       "    <tr>\n",
       "      <th>2018-12-31 23:00:00+01:00</th>\n",
       "      <td>290.0</td>\n",
       "      <td>0.0</td>\n",
       "      <td>0.0</td>\n",
       "      <td>6926.0</td>\n",
       "      <td>2166.0</td>\n",
       "      <td>163.0</td>\n",
       "      <td>0.0</td>\n",
       "      <td>0.0</td>\n",
       "      <td>0.0</td>\n",
       "      <td>NaN</td>\n",
       "      <td>...</td>\n",
       "      <td>287.0</td>\n",
       "      <td>0.0</td>\n",
       "      <td>3651.0</td>\n",
       "      <td>26.0</td>\n",
       "      <td>NaN</td>\n",
       "      <td>3117.0</td>\n",
       "      <td>24424.0</td>\n",
       "      <td>24455.0</td>\n",
       "      <td>64.27</td>\n",
       "      <td>69.88</td>\n",
       "    </tr>\n",
       "  </tbody>\n",
       "</table>\n",
       "<p>35064 rows × 28 columns</p>\n",
       "</div>"
      ],
      "text/plain": [
       "                           generation biomass  \\\n",
       "2015-01-01 00:00:00+01:00               447.0   \n",
       "2015-01-01 01:00:00+01:00               449.0   \n",
       "2015-01-01 02:00:00+01:00               448.0   \n",
       "2015-01-01 03:00:00+01:00               438.0   \n",
       "2015-01-01 04:00:00+01:00               428.0   \n",
       "...                                       ...   \n",
       "2018-12-31 19:00:00+01:00               297.0   \n",
       "2018-12-31 20:00:00+01:00               296.0   \n",
       "2018-12-31 21:00:00+01:00               292.0   \n",
       "2018-12-31 22:00:00+01:00               293.0   \n",
       "2018-12-31 23:00:00+01:00               290.0   \n",
       "\n",
       "                           generation fossil brown coal/lignite  \\\n",
       "2015-01-01 00:00:00+01:00                                 329.0   \n",
       "2015-01-01 01:00:00+01:00                                 328.0   \n",
       "2015-01-01 02:00:00+01:00                                 323.0   \n",
       "2015-01-01 03:00:00+01:00                                 254.0   \n",
       "2015-01-01 04:00:00+01:00                                 187.0   \n",
       "...                                                         ...   \n",
       "2018-12-31 19:00:00+01:00                                   0.0   \n",
       "2018-12-31 20:00:00+01:00                                   0.0   \n",
       "2018-12-31 21:00:00+01:00                                   0.0   \n",
       "2018-12-31 22:00:00+01:00                                   0.0   \n",
       "2018-12-31 23:00:00+01:00                                   0.0   \n",
       "\n",
       "                           generation fossil coal-derived gas  \\\n",
       "2015-01-01 00:00:00+01:00                                 0.0   \n",
       "2015-01-01 01:00:00+01:00                                 0.0   \n",
       "2015-01-01 02:00:00+01:00                                 0.0   \n",
       "2015-01-01 03:00:00+01:00                                 0.0   \n",
       "2015-01-01 04:00:00+01:00                                 0.0   \n",
       "...                                                       ...   \n",
       "2018-12-31 19:00:00+01:00                                 0.0   \n",
       "2018-12-31 20:00:00+01:00                                 0.0   \n",
       "2018-12-31 21:00:00+01:00                                 0.0   \n",
       "2018-12-31 22:00:00+01:00                                 0.0   \n",
       "2018-12-31 23:00:00+01:00                                 0.0   \n",
       "\n",
       "                           generation fossil gas  generation fossil hard coal  \\\n",
       "2015-01-01 00:00:00+01:00                 4844.0                       4821.0   \n",
       "2015-01-01 01:00:00+01:00                 5196.0                       4755.0   \n",
       "2015-01-01 02:00:00+01:00                 4857.0                       4581.0   \n",
       "2015-01-01 03:00:00+01:00                 4314.0                       4131.0   \n",
       "2015-01-01 04:00:00+01:00                 4130.0                       3840.0   \n",
       "...                                          ...                          ...   \n",
       "2018-12-31 19:00:00+01:00                 7634.0                       2628.0   \n",
       "2018-12-31 20:00:00+01:00                 7241.0                       2566.0   \n",
       "2018-12-31 21:00:00+01:00                 7025.0                       2422.0   \n",
       "2018-12-31 22:00:00+01:00                 6562.0                       2293.0   \n",
       "2018-12-31 23:00:00+01:00                 6926.0                       2166.0   \n",
       "\n",
       "                           generation fossil oil  generation fossil oil shale  \\\n",
       "2015-01-01 00:00:00+01:00                  162.0                          0.0   \n",
       "2015-01-01 01:00:00+01:00                  158.0                          0.0   \n",
       "2015-01-01 02:00:00+01:00                  157.0                          0.0   \n",
       "2015-01-01 03:00:00+01:00                  160.0                          0.0   \n",
       "2015-01-01 04:00:00+01:00                  156.0                          0.0   \n",
       "...                                          ...                          ...   \n",
       "2018-12-31 19:00:00+01:00                  178.0                          0.0   \n",
       "2018-12-31 20:00:00+01:00                  174.0                          0.0   \n",
       "2018-12-31 21:00:00+01:00                  168.0                          0.0   \n",
       "2018-12-31 22:00:00+01:00                  163.0                          0.0   \n",
       "2018-12-31 23:00:00+01:00                  163.0                          0.0   \n",
       "\n",
       "                           generation fossil peat  generation geothermal  \\\n",
       "2015-01-01 00:00:00+01:00                     0.0                    0.0   \n",
       "2015-01-01 01:00:00+01:00                     0.0                    0.0   \n",
       "2015-01-01 02:00:00+01:00                     0.0                    0.0   \n",
       "2015-01-01 03:00:00+01:00                     0.0                    0.0   \n",
       "2015-01-01 04:00:00+01:00                     0.0                    0.0   \n",
       "...                                           ...                    ...   \n",
       "2018-12-31 19:00:00+01:00                     0.0                    0.0   \n",
       "2018-12-31 20:00:00+01:00                     0.0                    0.0   \n",
       "2018-12-31 21:00:00+01:00                     0.0                    0.0   \n",
       "2018-12-31 22:00:00+01:00                     0.0                    0.0   \n",
       "2018-12-31 23:00:00+01:00                     0.0                    0.0   \n",
       "\n",
       "                           generation hydro pumped storage aggregated  ...  \\\n",
       "2015-01-01 00:00:00+01:00                                         NaN  ...   \n",
       "2015-01-01 01:00:00+01:00                                         NaN  ...   \n",
       "2015-01-01 02:00:00+01:00                                         NaN  ...   \n",
       "2015-01-01 03:00:00+01:00                                         NaN  ...   \n",
       "2015-01-01 04:00:00+01:00                                         NaN  ...   \n",
       "...                                                               ...  ...   \n",
       "2018-12-31 19:00:00+01:00                                         NaN  ...   \n",
       "2018-12-31 20:00:00+01:00                                         NaN  ...   \n",
       "2018-12-31 21:00:00+01:00                                         NaN  ...   \n",
       "2018-12-31 22:00:00+01:00                                         NaN  ...   \n",
       "2018-12-31 23:00:00+01:00                                         NaN  ...   \n",
       "\n",
       "                           generation waste  generation wind offshore  \\\n",
       "2015-01-01 00:00:00+01:00             196.0                       0.0   \n",
       "2015-01-01 01:00:00+01:00             195.0                       0.0   \n",
       "2015-01-01 02:00:00+01:00             196.0                       0.0   \n",
       "2015-01-01 03:00:00+01:00             191.0                       0.0   \n",
       "2015-01-01 04:00:00+01:00             189.0                       0.0   \n",
       "...                                     ...                       ...   \n",
       "2018-12-31 19:00:00+01:00             277.0                       0.0   \n",
       "2018-12-31 20:00:00+01:00             280.0                       0.0   \n",
       "2018-12-31 21:00:00+01:00             286.0                       0.0   \n",
       "2018-12-31 22:00:00+01:00             287.0                       0.0   \n",
       "2018-12-31 23:00:00+01:00             287.0                       0.0   \n",
       "\n",
       "                           generation wind onshore  forecast solar day ahead  \\\n",
       "2015-01-01 00:00:00+01:00                   6378.0                      17.0   \n",
       "2015-01-01 01:00:00+01:00                   5890.0                      16.0   \n",
       "2015-01-01 02:00:00+01:00                   5461.0                       8.0   \n",
       "2015-01-01 03:00:00+01:00                   5238.0                       2.0   \n",
       "2015-01-01 04:00:00+01:00                   4935.0                       9.0   \n",
       "...                                            ...                       ...   \n",
       "2018-12-31 19:00:00+01:00                   3113.0                      96.0   \n",
       "2018-12-31 20:00:00+01:00                   3288.0                      51.0   \n",
       "2018-12-31 21:00:00+01:00                   3503.0                      36.0   \n",
       "2018-12-31 22:00:00+01:00                   3586.0                      29.0   \n",
       "2018-12-31 23:00:00+01:00                   3651.0                      26.0   \n",
       "\n",
       "                           forecast wind offshore eday ahead  \\\n",
       "2015-01-01 00:00:00+01:00                                NaN   \n",
       "2015-01-01 01:00:00+01:00                                NaN   \n",
       "2015-01-01 02:00:00+01:00                                NaN   \n",
       "2015-01-01 03:00:00+01:00                                NaN   \n",
       "2015-01-01 04:00:00+01:00                                NaN   \n",
       "...                                                      ...   \n",
       "2018-12-31 19:00:00+01:00                                NaN   \n",
       "2018-12-31 20:00:00+01:00                                NaN   \n",
       "2018-12-31 21:00:00+01:00                                NaN   \n",
       "2018-12-31 22:00:00+01:00                                NaN   \n",
       "2018-12-31 23:00:00+01:00                                NaN   \n",
       "\n",
       "                           forecast wind onshore day ahead  \\\n",
       "2015-01-01 00:00:00+01:00                           6436.0   \n",
       "2015-01-01 01:00:00+01:00                           5856.0   \n",
       "2015-01-01 02:00:00+01:00                           5454.0   \n",
       "2015-01-01 03:00:00+01:00                           5151.0   \n",
       "2015-01-01 04:00:00+01:00                           4861.0   \n",
       "...                                                    ...   \n",
       "2018-12-31 19:00:00+01:00                           3253.0   \n",
       "2018-12-31 20:00:00+01:00                           3353.0   \n",
       "2018-12-31 21:00:00+01:00                           3404.0   \n",
       "2018-12-31 22:00:00+01:00                           3273.0   \n",
       "2018-12-31 23:00:00+01:00                           3117.0   \n",
       "\n",
       "                           total load forecast  total load actual  \\\n",
       "2015-01-01 00:00:00+01:00              26118.0            25385.0   \n",
       "2015-01-01 01:00:00+01:00              24934.0            24382.0   \n",
       "2015-01-01 02:00:00+01:00              23515.0            22734.0   \n",
       "2015-01-01 03:00:00+01:00              22642.0            21286.0   \n",
       "2015-01-01 04:00:00+01:00              21785.0            20264.0   \n",
       "...                                        ...                ...   \n",
       "2018-12-31 19:00:00+01:00              30619.0            30653.0   \n",
       "2018-12-31 20:00:00+01:00              29932.0            29735.0   \n",
       "2018-12-31 21:00:00+01:00              27903.0            28071.0   \n",
       "2018-12-31 22:00:00+01:00              25450.0            25801.0   \n",
       "2018-12-31 23:00:00+01:00              24424.0            24455.0   \n",
       "\n",
       "                           price day ahead  price actual  \n",
       "2015-01-01 00:00:00+01:00            50.10         65.41  \n",
       "2015-01-01 01:00:00+01:00            48.10         64.92  \n",
       "2015-01-01 02:00:00+01:00            47.33         64.48  \n",
       "2015-01-01 03:00:00+01:00            42.27         59.32  \n",
       "2015-01-01 04:00:00+01:00            38.41         56.04  \n",
       "...                                    ...           ...  \n",
       "2018-12-31 19:00:00+01:00            68.85         77.02  \n",
       "2018-12-31 20:00:00+01:00            68.40         76.16  \n",
       "2018-12-31 21:00:00+01:00            66.88         74.30  \n",
       "2018-12-31 22:00:00+01:00            63.93         69.89  \n",
       "2018-12-31 23:00:00+01:00            64.27         69.88  \n",
       "\n",
       "[35064 rows x 28 columns]"
      ]
     },
     "execution_count": 5,
     "metadata": {},
     "output_type": "execute_result"
    }
   ],
   "source": [
    "df_energy = pd.read_csv(\"energy_dataset.csv\")\n",
    "df_energy = set_timestamp_index(df_energy, \"time\")\n",
    "df_energy"
   ]
  },
  {
   "cell_type": "markdown",
   "metadata": {},
   "source": [
    "## General Analysis\n"
   ]
  },
  {
   "cell_type": "code",
   "execution_count": 6,
   "metadata": {
    "slideshow": {
     "slide_type": "slide"
    }
   },
   "outputs": [
    {
     "data": {
      "text/html": [
       "<div>\n",
       "<style scoped>\n",
       "    .dataframe tbody tr th:only-of-type {\n",
       "        vertical-align: middle;\n",
       "    }\n",
       "\n",
       "    .dataframe tbody tr th {\n",
       "        vertical-align: top;\n",
       "    }\n",
       "\n",
       "    .dataframe thead th {\n",
       "        text-align: right;\n",
       "    }\n",
       "</style>\n",
       "<table border=\"1\" class=\"dataframe\">\n",
       "  <thead>\n",
       "    <tr style=\"text-align: right;\">\n",
       "      <th></th>\n",
       "      <th>generation biomass</th>\n",
       "      <th>generation fossil brown coal/lignite</th>\n",
       "      <th>generation fossil coal-derived gas</th>\n",
       "      <th>generation fossil gas</th>\n",
       "      <th>generation fossil hard coal</th>\n",
       "      <th>generation fossil oil</th>\n",
       "      <th>generation fossil oil shale</th>\n",
       "      <th>generation fossil peat</th>\n",
       "      <th>generation geothermal</th>\n",
       "      <th>generation hydro pumped storage aggregated</th>\n",
       "      <th>...</th>\n",
       "      <th>generation waste</th>\n",
       "      <th>generation wind offshore</th>\n",
       "      <th>generation wind onshore</th>\n",
       "      <th>forecast solar day ahead</th>\n",
       "      <th>forecast wind offshore eday ahead</th>\n",
       "      <th>forecast wind onshore day ahead</th>\n",
       "      <th>total load forecast</th>\n",
       "      <th>total load actual</th>\n",
       "      <th>price day ahead</th>\n",
       "      <th>price actual</th>\n",
       "    </tr>\n",
       "  </thead>\n",
       "  <tbody>\n",
       "    <tr>\n",
       "      <th>count</th>\n",
       "      <td>35045.000000</td>\n",
       "      <td>35046.000000</td>\n",
       "      <td>35046.0</td>\n",
       "      <td>35046.000000</td>\n",
       "      <td>35046.000000</td>\n",
       "      <td>35045.000000</td>\n",
       "      <td>35046.0</td>\n",
       "      <td>35046.0</td>\n",
       "      <td>35046.0</td>\n",
       "      <td>0.0</td>\n",
       "      <td>...</td>\n",
       "      <td>35045.000000</td>\n",
       "      <td>35046.0</td>\n",
       "      <td>35046.000000</td>\n",
       "      <td>35064.000000</td>\n",
       "      <td>0.0</td>\n",
       "      <td>35064.000000</td>\n",
       "      <td>35064.000000</td>\n",
       "      <td>35028.000000</td>\n",
       "      <td>35064.000000</td>\n",
       "      <td>35064.000000</td>\n",
       "    </tr>\n",
       "    <tr>\n",
       "      <th>mean</th>\n",
       "      <td>383.513540</td>\n",
       "      <td>448.059208</td>\n",
       "      <td>0.0</td>\n",
       "      <td>5622.737488</td>\n",
       "      <td>4256.065742</td>\n",
       "      <td>298.319789</td>\n",
       "      <td>0.0</td>\n",
       "      <td>0.0</td>\n",
       "      <td>0.0</td>\n",
       "      <td>NaN</td>\n",
       "      <td>...</td>\n",
       "      <td>269.452133</td>\n",
       "      <td>0.0</td>\n",
       "      <td>5464.479769</td>\n",
       "      <td>1439.066735</td>\n",
       "      <td>NaN</td>\n",
       "      <td>5471.216689</td>\n",
       "      <td>28712.129962</td>\n",
       "      <td>28696.939905</td>\n",
       "      <td>49.874341</td>\n",
       "      <td>57.884023</td>\n",
       "    </tr>\n",
       "    <tr>\n",
       "      <th>std</th>\n",
       "      <td>85.353943</td>\n",
       "      <td>354.568590</td>\n",
       "      <td>0.0</td>\n",
       "      <td>2201.830478</td>\n",
       "      <td>1961.601013</td>\n",
       "      <td>52.520673</td>\n",
       "      <td>0.0</td>\n",
       "      <td>0.0</td>\n",
       "      <td>0.0</td>\n",
       "      <td>NaN</td>\n",
       "      <td>...</td>\n",
       "      <td>50.195536</td>\n",
       "      <td>0.0</td>\n",
       "      <td>3213.691587</td>\n",
       "      <td>1677.703355</td>\n",
       "      <td>NaN</td>\n",
       "      <td>3176.312853</td>\n",
       "      <td>4594.100854</td>\n",
       "      <td>4574.987950</td>\n",
       "      <td>14.618900</td>\n",
       "      <td>14.204083</td>\n",
       "    </tr>\n",
       "    <tr>\n",
       "      <th>min</th>\n",
       "      <td>0.000000</td>\n",
       "      <td>0.000000</td>\n",
       "      <td>0.0</td>\n",
       "      <td>0.000000</td>\n",
       "      <td>0.000000</td>\n",
       "      <td>0.000000</td>\n",
       "      <td>0.0</td>\n",
       "      <td>0.0</td>\n",
       "      <td>0.0</td>\n",
       "      <td>NaN</td>\n",
       "      <td>...</td>\n",
       "      <td>0.000000</td>\n",
       "      <td>0.0</td>\n",
       "      <td>0.000000</td>\n",
       "      <td>0.000000</td>\n",
       "      <td>NaN</td>\n",
       "      <td>237.000000</td>\n",
       "      <td>18105.000000</td>\n",
       "      <td>18041.000000</td>\n",
       "      <td>2.060000</td>\n",
       "      <td>9.330000</td>\n",
       "    </tr>\n",
       "    <tr>\n",
       "      <th>25%</th>\n",
       "      <td>333.000000</td>\n",
       "      <td>0.000000</td>\n",
       "      <td>0.0</td>\n",
       "      <td>4126.000000</td>\n",
       "      <td>2527.000000</td>\n",
       "      <td>263.000000</td>\n",
       "      <td>0.0</td>\n",
       "      <td>0.0</td>\n",
       "      <td>0.0</td>\n",
       "      <td>NaN</td>\n",
       "      <td>...</td>\n",
       "      <td>240.000000</td>\n",
       "      <td>0.0</td>\n",
       "      <td>2933.000000</td>\n",
       "      <td>69.000000</td>\n",
       "      <td>NaN</td>\n",
       "      <td>2979.000000</td>\n",
       "      <td>24793.750000</td>\n",
       "      <td>24807.750000</td>\n",
       "      <td>41.490000</td>\n",
       "      <td>49.347500</td>\n",
       "    </tr>\n",
       "    <tr>\n",
       "      <th>50%</th>\n",
       "      <td>367.000000</td>\n",
       "      <td>509.000000</td>\n",
       "      <td>0.0</td>\n",
       "      <td>4969.000000</td>\n",
       "      <td>4474.000000</td>\n",
       "      <td>300.000000</td>\n",
       "      <td>0.0</td>\n",
       "      <td>0.0</td>\n",
       "      <td>0.0</td>\n",
       "      <td>NaN</td>\n",
       "      <td>...</td>\n",
       "      <td>279.000000</td>\n",
       "      <td>0.0</td>\n",
       "      <td>4849.000000</td>\n",
       "      <td>576.000000</td>\n",
       "      <td>NaN</td>\n",
       "      <td>4855.000000</td>\n",
       "      <td>28906.000000</td>\n",
       "      <td>28901.000000</td>\n",
       "      <td>50.520000</td>\n",
       "      <td>58.020000</td>\n",
       "    </tr>\n",
       "    <tr>\n",
       "      <th>75%</th>\n",
       "      <td>433.000000</td>\n",
       "      <td>757.000000</td>\n",
       "      <td>0.0</td>\n",
       "      <td>6429.000000</td>\n",
       "      <td>5838.750000</td>\n",
       "      <td>330.000000</td>\n",
       "      <td>0.0</td>\n",
       "      <td>0.0</td>\n",
       "      <td>0.0</td>\n",
       "      <td>NaN</td>\n",
       "      <td>...</td>\n",
       "      <td>310.000000</td>\n",
       "      <td>0.0</td>\n",
       "      <td>7398.000000</td>\n",
       "      <td>2636.000000</td>\n",
       "      <td>NaN</td>\n",
       "      <td>7353.000000</td>\n",
       "      <td>32263.250000</td>\n",
       "      <td>32192.000000</td>\n",
       "      <td>60.530000</td>\n",
       "      <td>68.010000</td>\n",
       "    </tr>\n",
       "    <tr>\n",
       "      <th>max</th>\n",
       "      <td>592.000000</td>\n",
       "      <td>999.000000</td>\n",
       "      <td>0.0</td>\n",
       "      <td>20034.000000</td>\n",
       "      <td>8359.000000</td>\n",
       "      <td>449.000000</td>\n",
       "      <td>0.0</td>\n",
       "      <td>0.0</td>\n",
       "      <td>0.0</td>\n",
       "      <td>NaN</td>\n",
       "      <td>...</td>\n",
       "      <td>357.000000</td>\n",
       "      <td>0.0</td>\n",
       "      <td>17436.000000</td>\n",
       "      <td>5836.000000</td>\n",
       "      <td>NaN</td>\n",
       "      <td>17430.000000</td>\n",
       "      <td>41390.000000</td>\n",
       "      <td>41015.000000</td>\n",
       "      <td>101.990000</td>\n",
       "      <td>116.800000</td>\n",
       "    </tr>\n",
       "  </tbody>\n",
       "</table>\n",
       "<p>8 rows × 28 columns</p>\n",
       "</div>"
      ],
      "text/plain": [
       "       generation biomass  generation fossil brown coal/lignite  \\\n",
       "count        35045.000000                          35046.000000   \n",
       "mean           383.513540                            448.059208   \n",
       "std             85.353943                            354.568590   \n",
       "min              0.000000                              0.000000   \n",
       "25%            333.000000                              0.000000   \n",
       "50%            367.000000                            509.000000   \n",
       "75%            433.000000                            757.000000   \n",
       "max            592.000000                            999.000000   \n",
       "\n",
       "       generation fossil coal-derived gas  generation fossil gas  \\\n",
       "count                             35046.0           35046.000000   \n",
       "mean                                  0.0            5622.737488   \n",
       "std                                   0.0            2201.830478   \n",
       "min                                   0.0               0.000000   \n",
       "25%                                   0.0            4126.000000   \n",
       "50%                                   0.0            4969.000000   \n",
       "75%                                   0.0            6429.000000   \n",
       "max                                   0.0           20034.000000   \n",
       "\n",
       "       generation fossil hard coal  generation fossil oil  \\\n",
       "count                 35046.000000           35045.000000   \n",
       "mean                   4256.065742             298.319789   \n",
       "std                    1961.601013              52.520673   \n",
       "min                       0.000000               0.000000   \n",
       "25%                    2527.000000             263.000000   \n",
       "50%                    4474.000000             300.000000   \n",
       "75%                    5838.750000             330.000000   \n",
       "max                    8359.000000             449.000000   \n",
       "\n",
       "       generation fossil oil shale  generation fossil peat  \\\n",
       "count                      35046.0                 35046.0   \n",
       "mean                           0.0                     0.0   \n",
       "std                            0.0                     0.0   \n",
       "min                            0.0                     0.0   \n",
       "25%                            0.0                     0.0   \n",
       "50%                            0.0                     0.0   \n",
       "75%                            0.0                     0.0   \n",
       "max                            0.0                     0.0   \n",
       "\n",
       "       generation geothermal  generation hydro pumped storage aggregated  ...  \\\n",
       "count                35046.0                                         0.0  ...   \n",
       "mean                     0.0                                         NaN  ...   \n",
       "std                      0.0                                         NaN  ...   \n",
       "min                      0.0                                         NaN  ...   \n",
       "25%                      0.0                                         NaN  ...   \n",
       "50%                      0.0                                         NaN  ...   \n",
       "75%                      0.0                                         NaN  ...   \n",
       "max                      0.0                                         NaN  ...   \n",
       "\n",
       "       generation waste  generation wind offshore  generation wind onshore  \\\n",
       "count      35045.000000                   35046.0             35046.000000   \n",
       "mean         269.452133                       0.0              5464.479769   \n",
       "std           50.195536                       0.0              3213.691587   \n",
       "min            0.000000                       0.0                 0.000000   \n",
       "25%          240.000000                       0.0              2933.000000   \n",
       "50%          279.000000                       0.0              4849.000000   \n",
       "75%          310.000000                       0.0              7398.000000   \n",
       "max          357.000000                       0.0             17436.000000   \n",
       "\n",
       "       forecast solar day ahead  forecast wind offshore eday ahead  \\\n",
       "count              35064.000000                                0.0   \n",
       "mean                1439.066735                                NaN   \n",
       "std                 1677.703355                                NaN   \n",
       "min                    0.000000                                NaN   \n",
       "25%                   69.000000                                NaN   \n",
       "50%                  576.000000                                NaN   \n",
       "75%                 2636.000000                                NaN   \n",
       "max                 5836.000000                                NaN   \n",
       "\n",
       "       forecast wind onshore day ahead  total load forecast  \\\n",
       "count                     35064.000000         35064.000000   \n",
       "mean                       5471.216689         28712.129962   \n",
       "std                        3176.312853          4594.100854   \n",
       "min                         237.000000         18105.000000   \n",
       "25%                        2979.000000         24793.750000   \n",
       "50%                        4855.000000         28906.000000   \n",
       "75%                        7353.000000         32263.250000   \n",
       "max                       17430.000000         41390.000000   \n",
       "\n",
       "       total load actual  price day ahead  price actual  \n",
       "count       35028.000000     35064.000000  35064.000000  \n",
       "mean        28696.939905        49.874341     57.884023  \n",
       "std          4574.987950        14.618900     14.204083  \n",
       "min         18041.000000         2.060000      9.330000  \n",
       "25%         24807.750000        41.490000     49.347500  \n",
       "50%         28901.000000        50.520000     58.020000  \n",
       "75%         32192.000000        60.530000     68.010000  \n",
       "max         41015.000000       101.990000    116.800000  \n",
       "\n",
       "[8 rows x 28 columns]"
      ]
     },
     "execution_count": 6,
     "metadata": {},
     "output_type": "execute_result"
    }
   ],
   "source": [
    "df_energy.describe()"
   ]
  },
  {
   "cell_type": "code",
   "execution_count": 7,
   "metadata": {
    "slideshow": {
     "slide_type": "slide"
    }
   },
   "outputs": [
    {
     "data": {
      "image/png": "[encoded data removed]",
      "text/plain": [
       "<Figure size 1800x1080 with 30 Axes>"
      ]
     },
     "metadata": {
      "needs_background": "light"
     },
     "output_type": "display_data"
    }
   ],
   "source": [
    "df_energy.hist(bins=50, figsize=(25, 15))\n",
    "plt.show()\n"
   ]
  },
  {
   "cell_type": "markdown",
   "metadata": {},
   "source": [
    "## Data Preparation and Cleaning\n"
   ]
  },
  {
   "cell_type": "markdown",
   "metadata": {},
   "source": [
    "### Dataframe cleaning\n"
   ]
  },
  {
   "cell_type": "markdown",
   "metadata": {},
   "source": [
    "- Columns with no actual data:\n",
    "  - generation fossil coal-derived gas\n",
    "  - generation fossil oil shale\n",
    "  - generation fossil peat\n",
    "  - generation geothermal\n",
    "  - generation hydro pumped storage aggregated\n",
    "  - generation marine\n",
    "  - generation wind offshore\n",
    "  - forecast wind offshore eday ahead\n",
    "- The Count of values is different from the length of the DataFrame\n",
    "- Therefore NaN-Values are in the Dataframe\n"
   ]
  },
  {
   "cell_type": "code",
   "execution_count": 8,
   "metadata": {},
   "outputs": [
    {
     "data": {
      "text/html": [
       "<div>\n",
       "<style scoped>\n",
       "    .dataframe tbody tr th:only-of-type {\n",
       "        vertical-align: middle;\n",
       "    }\n",
       "\n",
       "    .dataframe tbody tr th {\n",
       "        vertical-align: top;\n",
       "    }\n",
       "\n",
       "    .dataframe thead th {\n",
       "        text-align: right;\n",
       "    }\n",
       "</style>\n",
       "<table border=\"1\" class=\"dataframe\">\n",
       "  <thead>\n",
       "    <tr style=\"text-align: right;\">\n",
       "      <th></th>\n",
       "      <th>generation biomass</th>\n",
       "      <th>generation fossil brown coal/lignite</th>\n",
       "      <th>generation fossil gas</th>\n",
       "      <th>generation fossil hard coal</th>\n",
       "      <th>generation fossil oil</th>\n",
       "      <th>generation hydro pumped storage consumption</th>\n",
       "      <th>generation hydro run-of-river and poundage</th>\n",
       "      <th>generation hydro water reservoir</th>\n",
       "      <th>generation nuclear</th>\n",
       "      <th>generation other</th>\n",
       "      <th>generation other renewable</th>\n",
       "      <th>generation solar</th>\n",
       "      <th>generation waste</th>\n",
       "      <th>generation wind onshore</th>\n",
       "      <th>total load actual</th>\n",
       "      <th>price actual</th>\n",
       "    </tr>\n",
       "  </thead>\n",
       "  <tbody>\n",
       "    <tr>\n",
       "      <th>count</th>\n",
       "      <td>35064.000000</td>\n",
       "      <td>35064.000000</td>\n",
       "      <td>35064.000000</td>\n",
       "      <td>35064.000000</td>\n",
       "      <td>35064.000000</td>\n",
       "      <td>35064.000000</td>\n",
       "      <td>35064.000000</td>\n",
       "      <td>35064.000000</td>\n",
       "      <td>35064.000000</td>\n",
       "      <td>35064.000000</td>\n",
       "      <td>35064.000000</td>\n",
       "      <td>35064.000000</td>\n",
       "      <td>35064.000000</td>\n",
       "      <td>35064.000000</td>\n",
       "      <td>35064.000000</td>\n",
       "      <td>35064.000000</td>\n",
       "    </tr>\n",
       "    <tr>\n",
       "      <th>mean</th>\n",
       "      <td>383.531343</td>\n",
       "      <td>448.094570</td>\n",
       "      <td>5622.700647</td>\n",
       "      <td>4256.531271</td>\n",
       "      <td>298.342417</td>\n",
       "      <td>475.582706</td>\n",
       "      <td>972.201902</td>\n",
       "      <td>2605.534123</td>\n",
       "      <td>6263.483430</td>\n",
       "      <td>60.226030</td>\n",
       "      <td>85.634326</td>\n",
       "      <td>1432.818546</td>\n",
       "      <td>269.418692</td>\n",
       "      <td>5464.980450</td>\n",
       "      <td>28698.281385</td>\n",
       "      <td>57.884023</td>\n",
       "    </tr>\n",
       "    <tr>\n",
       "      <th>std</th>\n",
       "      <td>85.346266</td>\n",
       "      <td>354.618269</td>\n",
       "      <td>2201.510984</td>\n",
       "      <td>1961.988937</td>\n",
       "      <td>52.519927</td>\n",
       "      <td>792.312704</td>\n",
       "      <td>400.712304</td>\n",
       "      <td>1835.175078</td>\n",
       "      <td>840.272333</td>\n",
       "      <td>20.238792</td>\n",
       "      <td>14.076948</td>\n",
       "      <td>1679.961733</td>\n",
       "      <td>50.218423</td>\n",
       "      <td>3213.586296</td>\n",
       "      <td>4575.828854</td>\n",
       "      <td>14.204083</td>\n",
       "    </tr>\n",
       "    <tr>\n",
       "      <th>min</th>\n",
       "      <td>0.000000</td>\n",
       "      <td>0.000000</td>\n",
       "      <td>0.000000</td>\n",
       "      <td>0.000000</td>\n",
       "      <td>0.000000</td>\n",
       "      <td>0.000000</td>\n",
       "      <td>0.000000</td>\n",
       "      <td>0.000000</td>\n",
       "      <td>0.000000</td>\n",
       "      <td>0.000000</td>\n",
       "      <td>0.000000</td>\n",
       "      <td>0.000000</td>\n",
       "      <td>0.000000</td>\n",
       "      <td>0.000000</td>\n",
       "      <td>18041.000000</td>\n",
       "      <td>9.330000</td>\n",
       "    </tr>\n",
       "    <tr>\n",
       "      <th>25%</th>\n",
       "      <td>333.000000</td>\n",
       "      <td>0.000000</td>\n",
       "      <td>4126.000000</td>\n",
       "      <td>2527.000000</td>\n",
       "      <td>263.000000</td>\n",
       "      <td>0.000000</td>\n",
       "      <td>637.000000</td>\n",
       "      <td>1078.000000</td>\n",
       "      <td>5759.000000</td>\n",
       "      <td>53.000000</td>\n",
       "      <td>73.000000</td>\n",
       "      <td>71.000000</td>\n",
       "      <td>240.000000</td>\n",
       "      <td>2933.000000</td>\n",
       "      <td>24807.000000</td>\n",
       "      <td>49.347500</td>\n",
       "    </tr>\n",
       "    <tr>\n",
       "      <th>50%</th>\n",
       "      <td>367.000000</td>\n",
       "      <td>509.000000</td>\n",
       "      <td>4969.500000</td>\n",
       "      <td>4475.000000</td>\n",
       "      <td>300.000000</td>\n",
       "      <td>68.000000</td>\n",
       "      <td>906.000000</td>\n",
       "      <td>2165.000000</td>\n",
       "      <td>6564.000000</td>\n",
       "      <td>57.000000</td>\n",
       "      <td>88.000000</td>\n",
       "      <td>616.000000</td>\n",
       "      <td>279.000000</td>\n",
       "      <td>4849.500000</td>\n",
       "      <td>28902.000000</td>\n",
       "      <td>58.020000</td>\n",
       "    </tr>\n",
       "    <tr>\n",
       "      <th>75%</th>\n",
       "      <td>433.000000</td>\n",
       "      <td>757.000000</td>\n",
       "      <td>6429.000000</td>\n",
       "      <td>5839.000000</td>\n",
       "      <td>330.000000</td>\n",
       "      <td>616.000000</td>\n",
       "      <td>1250.000000</td>\n",
       "      <td>3758.000000</td>\n",
       "      <td>7025.000000</td>\n",
       "      <td>80.000000</td>\n",
       "      <td>97.000000</td>\n",
       "      <td>2579.000000</td>\n",
       "      <td>310.000000</td>\n",
       "      <td>7399.500000</td>\n",
       "      <td>32194.250000</td>\n",
       "      <td>68.010000</td>\n",
       "    </tr>\n",
       "    <tr>\n",
       "      <th>max</th>\n",
       "      <td>592.000000</td>\n",
       "      <td>999.000000</td>\n",
       "      <td>20034.000000</td>\n",
       "      <td>8359.000000</td>\n",
       "      <td>449.000000</td>\n",
       "      <td>4523.000000</td>\n",
       "      <td>2000.000000</td>\n",
       "      <td>9728.000000</td>\n",
       "      <td>7117.000000</td>\n",
       "      <td>106.000000</td>\n",
       "      <td>119.000000</td>\n",
       "      <td>5792.000000</td>\n",
       "      <td>357.000000</td>\n",
       "      <td>17436.000000</td>\n",
       "      <td>41015.000000</td>\n",
       "      <td>116.800000</td>\n",
       "    </tr>\n",
       "  </tbody>\n",
       "</table>\n",
       "</div>"
      ],
      "text/plain": [
       "       generation biomass  generation fossil brown coal/lignite  \\\n",
       "count        35064.000000                          35064.000000   \n",
       "mean           383.531343                            448.094570   \n",
       "std             85.346266                            354.618269   \n",
       "min              0.000000                              0.000000   \n",
       "25%            333.000000                              0.000000   \n",
       "50%            367.000000                            509.000000   \n",
       "75%            433.000000                            757.000000   \n",
       "max            592.000000                            999.000000   \n",
       "\n",
       "       generation fossil gas  generation fossil hard coal  \\\n",
       "count           35064.000000                 35064.000000   \n",
       "mean             5622.700647                  4256.531271   \n",
       "std              2201.510984                  1961.988937   \n",
       "min                 0.000000                     0.000000   \n",
       "25%              4126.000000                  2527.000000   \n",
       "50%              4969.500000                  4475.000000   \n",
       "75%              6429.000000                  5839.000000   \n",
       "max             20034.000000                  8359.000000   \n",
       "\n",
       "       generation fossil oil  generation hydro pumped storage consumption  \\\n",
       "count           35064.000000                                 35064.000000   \n",
       "mean              298.342417                                   475.582706   \n",
       "std                52.519927                                   792.312704   \n",
       "min                 0.000000                                     0.000000   \n",
       "25%               263.000000                                     0.000000   \n",
       "50%               300.000000                                    68.000000   \n",
       "75%               330.000000                                   616.000000   \n",
       "max               449.000000                                  4523.000000   \n",
       "\n",
       "       generation hydro run-of-river and poundage  \\\n",
       "count                                35064.000000   \n",
       "mean                                   972.201902   \n",
       "std                                    400.712304   \n",
       "min                                      0.000000   \n",
       "25%                                    637.000000   \n",
       "50%                                    906.000000   \n",
       "75%                                   1250.000000   \n",
       "max                                   2000.000000   \n",
       "\n",
       "       generation hydro water reservoir  generation nuclear  generation other  \\\n",
       "count                      35064.000000        35064.000000      35064.000000   \n",
       "mean                        2605.534123         6263.483430         60.226030   \n",
       "std                         1835.175078          840.272333         20.238792   \n",
       "min                            0.000000            0.000000          0.000000   \n",
       "25%                         1078.000000         5759.000000         53.000000   \n",
       "50%                         2165.000000         6564.000000         57.000000   \n",
       "75%                         3758.000000         7025.000000         80.000000   \n",
       "max                         9728.000000         7117.000000        106.000000   \n",
       "\n",
       "       generation other renewable  generation solar  generation waste  \\\n",
       "count                35064.000000      35064.000000      35064.000000   \n",
       "mean                    85.634326       1432.818546        269.418692   \n",
       "std                     14.076948       1679.961733         50.218423   \n",
       "min                      0.000000          0.000000          0.000000   \n",
       "25%                     73.000000         71.000000        240.000000   \n",
       "50%                     88.000000        616.000000        279.000000   \n",
       "75%                     97.000000       2579.000000        310.000000   \n",
       "max                    119.000000       5792.000000        357.000000   \n",
       "\n",
       "       generation wind onshore  total load actual  price actual  \n",
       "count             35064.000000       35064.000000  35064.000000  \n",
       "mean               5464.980450       28698.281385     57.884023  \n",
       "std                3213.586296        4575.828854     14.204083  \n",
       "min                   0.000000       18041.000000      9.330000  \n",
       "25%                2933.000000       24807.000000     49.347500  \n",
       "50%                4849.500000       28902.000000     58.020000  \n",
       "75%                7399.500000       32194.250000     68.010000  \n",
       "max               17436.000000       41015.000000    116.800000  "
      ]
     },
     "execution_count": 8,
     "metadata": {},
     "output_type": "execute_result"
    }
   ],
   "source": [
    "# remove data with no values\n",
    "df_energy = remove_columns(\n",
    "    df_energy,\n",
    "    [\n",
    "        \"generation fossil coal-derived gas\",\n",
    "        \"generation fossil oil shale\",\n",
    "        \"generation fossil peat\",\n",
    "        \"generation geothermal\",\n",
    "        \"generation hydro pumped storage aggregated\",\n",
    "        \"generation marine\",\n",
    "        \"generation wind offshore\",\n",
    "        \"forecast wind offshore eday ahead\",\n",
    "    ],\n",
    ")\n",
    "\n",
    "# remove useless data\n",
    "df_energy = remove_columns(\n",
    "    df_energy,\n",
    "    [\n",
    "        \"forecast solar day ahead\",\n",
    "        \"forecast wind onshore day ahead\",\n",
    "        \"total load forecast\",\n",
    "        \"price day ahead\",\n",
    "    ],\n",
    ")\n",
    "\n",
    "# interpolate for missing data\n",
    "df_energy.interpolate(inplace=True)\n",
    "generation_parameters = [x for x in df_energy.columns if \"generation\" in x]\n",
    "energy_parameters = [x for x in df_energy.columns if x not in generation_parameters]\n",
    "df_energy.describe()"
   ]
  },
  {
   "cell_type": "code",
   "execution_count": 9,
   "metadata": {},
   "outputs": [
    {
     "data": {
      "image/png": "[encoded data removed]",
      "text/plain": [
       "<Figure size 1800x1080 with 16 Axes>"
      ]
     },
     "metadata": {
      "needs_background": "light"
     },
     "output_type": "display_data"
    }
   ],
   "source": [
    "df_energy.hist(bins=50, figsize=(25, 15))\n",
    "plt.show()"
   ]
  },
  {
   "cell_type": "markdown",
   "metadata": {},
   "source": [
    "### Checking for overall length of the dataframe\n"
   ]
  },
  {
   "cell_type": "code",
   "execution_count": 10,
   "metadata": {},
   "outputs": [
    {
     "name": "stdout",
     "output_type": "stream",
     "text": [
      "Length of the data frames:  35064\n",
      "Length of the time periode:  35064\n"
     ]
    }
   ],
   "source": [
    "date_period = pd.date_range(\n",
    "    start=\"2015-01-01 00:00:00+1\", end=\"2018-12-31 23:00:00+1\", freq=\"H\"\n",
    ")\n",
    "print(\"Length of the data frames: \", len(df_energy))\n",
    "print(\"Length of the time periode: \", len(date_period))"
   ]
  },
  {
   "cell_type": "markdown",
   "metadata": {},
   "source": [
    "## Checking energy mix"
   ]
  },
  {
   "cell_type": "code",
   "execution_count": 11,
   "metadata": {},
   "outputs": [],
   "source": [
    "df_generation = average_over_year(df_energy)\n",
    "df_generation = remove_columns(df_generation,[\"total load actual\",\"price actual\"])"
   ]
  },
  {
   "cell_type": "code",
   "execution_count": 12,
   "metadata": {},
   "outputs": [],
   "source": [
    "months_list = ['January','February','March','April','May','June','July','August','September','October','November','December']\n",
    "df_generation['month'] = months_list\n",
    "df_generation.set_index('month',inplace=True)"
   ]
  },
  {
   "cell_type": "code",
   "execution_count": 13,
   "metadata": {},
   "outputs": [
    {
     "data": {
      "application/vnd.plotly.v1+json": {
       "config": {
        "plotlyServerURL": "https://plot.ly"
       },
       "data": [
        {
         "alignmentgroup": "True",
         "hovertemplate": "variable=generation biomass<br>month=%{x}<br>value=%{y}<extra></extra>",
         "legendgroup": "generation biomass",
         "marker": {
          "color": "#636efa",
          "pattern": {
           "shape": ""
          }
         },
         "name": "generation biomass",
         "offsetgroup": "generation biomass",
         "orientation": "v",
         "showlegend": true,
         "textposition": "auto",
         "type": "bar",
         "x": [
          "January",
          "February",
          "March",
          "April",
          "May",
          "June",
          "July",
          "August",
          "September",
          "October",
          "November",
          "December"
         ],
         "xaxis": "x",
         "y": [
          408.47345430107526,
          403.3340707964602,
          372.37685060565275,
          323.32881944444443,
          378.14650537634407,
          379.5130208333333,
          399.8190524193548,
          403.1992607526882,
          393.48368055555557,
          379.3947986577181,
          388.97743055555554,
          372.5015120967742
         ],
         "yaxis": "y"
        },
        {
         "alignmentgroup": "True",
         "hovertemplate": "variable=generation fossil brown coal/lignite<br>month=%{x}<br>value=%{y}<extra></extra>",
         "legendgroup": "generation fossil brown coal/lignite",
         "marker": {
          "color": "#EF553B",
          "pattern": {
           "shape": ""
          }
         },
         "name": "generation fossil brown coal/lignite",
         "offsetgroup": "generation fossil brown coal/lignite",
         "orientation": "v",
         "showlegend": true,
         "textposition": "auto",
         "type": "bar",
         "x": [
          "January",
          "February",
          "March",
          "April",
          "May",
          "June",
          "July",
          "August",
          "September",
          "October",
          "November",
          "December"
         ],
         "xaxis": "x",
         "y": [
          513.7481518817204,
          377.20575221238937,
          219.43102288021535,
          290.5159722222222,
          340.43951612903226,
          413.4998263888889,
          560.1334005376344,
          465.5325940860215,
          555.6489583333333,
          527.3796979865772,
          597.0534722222222,
          511.91952284946234
         ],
         "yaxis": "y"
        },
        {
         "alignmentgroup": "True",
         "hovertemplate": "variable=generation fossil gas<br>month=%{x}<br>value=%{y}<extra></extra>",
         "legendgroup": "generation fossil gas",
         "marker": {
          "color": "#00cc96",
          "pattern": {
           "shape": ""
          }
         },
         "name": "generation fossil gas",
         "offsetgroup": "generation fossil gas",
         "orientation": "v",
         "showlegend": true,
         "textposition": "auto",
         "type": "bar",
         "x": [
          "January",
          "February",
          "March",
          "April",
          "May",
          "June",
          "July",
          "August",
          "September",
          "October",
          "November",
          "December"
         ],
         "xaxis": "x",
         "y": [
          5555.846270161291,
          5033.216076696165,
          4806.194818304172,
          4783.241493055555,
          5048.454637096775,
          5732.932986111111,
          6310.058971774193,
          5652.690524193548,
          5663.661458333333,
          6136.279530201342,
          6826.844791666666,
          5885.5467069892475
         ],
         "yaxis": "y"
        },
        {
         "alignmentgroup": "True",
         "hovertemplate": "variable=generation fossil hard coal<br>month=%{x}<br>value=%{y}<extra></extra>",
         "legendgroup": "generation fossil hard coal",
         "marker": {
          "color": "#ab63fa",
          "pattern": {
           "shape": ""
          }
         },
         "name": "generation fossil hard coal",
         "offsetgroup": "generation fossil hard coal",
         "orientation": "v",
         "showlegend": true,
         "textposition": "auto",
         "type": "bar",
         "x": [
          "January",
          "February",
          "March",
          "April",
          "May",
          "June",
          "July",
          "August",
          "September",
          "October",
          "November",
          "December"
         ],
         "xaxis": "x",
         "y": [
          4729.419858870968,
          3892.41703539823,
          3086.184387617766,
          3235.644097222222,
          3587.334005376344,
          4309.029166666666,
          4833.067036290323,
          4484.917674731183,
          4630.842708333334,
          4541.702684563758,
          5223.564583333334,
          4502.026041666667
         ],
         "yaxis": "y"
        },
        {
         "alignmentgroup": "True",
         "hovertemplate": "variable=generation fossil oil<br>month=%{x}<br>value=%{y}<extra></extra>",
         "legendgroup": "generation fossil oil",
         "marker": {
          "color": "#FFA15A",
          "pattern": {
           "shape": ""
          }
         },
         "name": "generation fossil oil",
         "offsetgroup": "generation fossil oil",
         "orientation": "v",
         "showlegend": true,
         "textposition": "auto",
         "type": "bar",
         "x": [
          "January",
          "February",
          "March",
          "April",
          "May",
          "June",
          "July",
          "August",
          "September",
          "October",
          "November",
          "December"
         ],
         "xaxis": "x",
         "y": [
          302.2967069892473,
          300.9162979351033,
          301.0050471063257,
          279.48055555555555,
          295.713373655914,
          298.39149305555554,
          309.18245967741933,
          299.19724462365593,
          307.95381944444443,
          294.7989932885906,
          298.53993055555554,
          292.5793010752688
         ],
         "yaxis": "y"
        },
        {
         "alignmentgroup": "True",
         "hovertemplate": "variable=generation hydro pumped storage consumption<br>month=%{x}<br>value=%{y}<extra></extra>",
         "legendgroup": "generation hydro pumped storage consumption",
         "marker": {
          "color": "#19d3f3",
          "pattern": {
           "shape": ""
          }
         },
         "name": "generation hydro pumped storage consumption",
         "offsetgroup": "generation hydro pumped storage consumption",
         "orientation": "v",
         "showlegend": true,
         "textposition": "auto",
         "type": "bar",
         "x": [
          "January",
          "February",
          "March",
          "April",
          "May",
          "June",
          "July",
          "August",
          "September",
          "October",
          "November",
          "December"
         ],
         "xaxis": "x",
         "y": [
          665.5756048387096,
          607.6327433628319,
          632.7809555854643,
          546.8736111111111,
          449.49798387096774,
          353.9017361111111,
          302.9319556451613,
          346.6639784946237,
          313.6201388888889,
          468.4330536912752,
          455.3152777777778,
          568.1965725806451
         ],
         "yaxis": "y"
        },
        {
         "alignmentgroup": "True",
         "hovertemplate": "variable=generation hydro run-of-river and poundage<br>month=%{x}<br>value=%{y}<extra></extra>",
         "legendgroup": "generation hydro run-of-river and poundage",
         "marker": {
          "color": "#FF6692",
          "pattern": {
           "shape": ""
          }
         },
         "name": "generation hydro run-of-river and poundage",
         "offsetgroup": "generation hydro run-of-river and poundage",
         "orientation": "v",
         "showlegend": true,
         "textposition": "auto",
         "type": "bar",
         "x": [
          "January",
          "February",
          "March",
          "April",
          "May",
          "June",
          "July",
          "August",
          "September",
          "October",
          "November",
          "December"
         ],
         "xaxis": "x",
         "y": [
          979.1253360215054,
          1147.1087758112094,
          1247.9236204576043,
          1229.89375,
          1163.926747311828,
          1041.3822916666666,
          862.0527553763441,
          784.1797715053764,
          738.3517361111111,
          703.641610738255,
          871.6069444444445,
          913.2326948924731
         ],
         "yaxis": "y"
        },
        {
         "alignmentgroup": "True",
         "hovertemplate": "variable=generation hydro water reservoir<br>month=%{x}<br>value=%{y}<extra></extra>",
         "legendgroup": "generation hydro water reservoir",
         "marker": {
          "color": "#B6E880",
          "pattern": {
           "shape": ""
          }
         },
         "name": "generation hydro water reservoir",
         "offsetgroup": "generation hydro water reservoir",
         "orientation": "v",
         "showlegend": true,
         "textposition": "auto",
         "type": "bar",
         "x": [
          "January",
          "February",
          "March",
          "April",
          "May",
          "June",
          "July",
          "August",
          "September",
          "October",
          "November",
          "December"
         ],
         "xaxis": "x",
         "y": [
          2770.8229166666665,
          3324.480825958702,
          3427.5111036339167,
          3352.929861111111,
          2987.6851478494623,
          2582.0227430555556,
          2261.67624327957,
          1994.950940860215,
          2100.692361111111,
          2045.9743288590605,
          2235.7315972222223,
          2242.702620967742
         ],
         "yaxis": "y"
        },
        {
         "alignmentgroup": "True",
         "hovertemplate": "variable=generation nuclear<br>month=%{x}<br>value=%{y}<extra></extra>",
         "legendgroup": "generation nuclear",
         "marker": {
          "color": "#FF97FF",
          "pattern": {
           "shape": ""
          }
         },
         "name": "generation nuclear",
         "offsetgroup": "generation nuclear",
         "orientation": "v",
         "showlegend": true,
         "textposition": "auto",
         "type": "bar",
         "x": [
          "January",
          "February",
          "March",
          "April",
          "May",
          "June",
          "July",
          "August",
          "September",
          "October",
          "November",
          "December"
         ],
         "xaxis": "x",
         "y": [
          6589.230174731183,
          6499.22197640118,
          6558.859690444146,
          6239.123958333334,
          5536.0668682795695,
          5993.238194444444,
          6337.735215053764,
          6600.590725806452,
          6547.904513888889,
          6243.791946308725,
          5619.021527777778,
          6397.2345430107525
         ],
         "yaxis": "y"
        },
        {
         "alignmentgroup": "True",
         "hovertemplate": "variable=generation other<br>month=%{x}<br>value=%{y}<extra></extra>",
         "legendgroup": "generation other",
         "marker": {
          "color": "#FECB52",
          "pattern": {
           "shape": ""
          }
         },
         "name": "generation other",
         "offsetgroup": "generation other",
         "orientation": "v",
         "showlegend": true,
         "textposition": "auto",
         "type": "bar",
         "x": [
          "January",
          "February",
          "March",
          "April",
          "May",
          "June",
          "July",
          "August",
          "September",
          "October",
          "November",
          "December"
         ],
         "xaxis": "x",
         "y": [
          62.62684811827957,
          67.5405604719764,
          64.6971736204576,
          45.47743055555556,
          55.401881720430104,
          62.03715277777778,
          55.57459677419355,
          61.689516129032256,
          62.215625,
          64.01140939597316,
          61.51076388888889,
          60.26747311827957
         ],
         "yaxis": "y"
        },
        {
         "alignmentgroup": "True",
         "hovertemplate": "variable=generation other renewable<br>month=%{x}<br>value=%{y}<extra></extra>",
         "legendgroup": "generation other renewable",
         "marker": {
          "color": "#636efa",
          "pattern": {
           "shape": ""
          }
         },
         "name": "generation other renewable",
         "offsetgroup": "generation other renewable",
         "orientation": "v",
         "showlegend": true,
         "textposition": "auto",
         "type": "bar",
         "x": [
          "January",
          "February",
          "March",
          "April",
          "May",
          "June",
          "July",
          "August",
          "September",
          "October",
          "November",
          "December"
         ],
         "xaxis": "x",
         "y": [
          86.21538978494624,
          84.07300884955752,
          83.34051144010768,
          85.27743055555555,
          86.79603494623656,
          85.55034722222223,
          84.26814516129032,
          83.86727150537635,
          86.70625,
          87.1738255033557,
          86.90833333333333,
          87.35315860215054
         ],
         "yaxis": "y"
        },
        {
         "alignmentgroup": "True",
         "hovertemplate": "variable=generation solar<br>month=%{x}<br>value=%{y}<extra></extra>",
         "legendgroup": "generation solar",
         "marker": {
          "color": "#EF553B",
          "pattern": {
           "shape": ""
          }
         },
         "name": "generation solar",
         "offsetgroup": "generation solar",
         "orientation": "v",
         "showlegend": true,
         "textposition": "auto",
         "type": "bar",
         "x": [
          "January",
          "February",
          "March",
          "April",
          "May",
          "June",
          "July",
          "August",
          "September",
          "October",
          "November",
          "December"
         ],
         "xaxis": "x",
         "y": [
          1077.9899193548388,
          1226.8178466076697,
          1358.448855989233,
          1455.1270833333333,
          1734.1014784946237,
          1928.6583333333333,
          1980.365255376344,
          1758.97311827957,
          1595.3809027777777,
          1110.2677852348993,
          1033.8538194444445,
          924.9860551075269
         ],
         "yaxis": "y"
        },
        {
         "alignmentgroup": "True",
         "hovertemplate": "variable=generation waste<br>month=%{x}<br>value=%{y}<extra></extra>",
         "legendgroup": "generation waste",
         "marker": {
          "color": "#00cc96",
          "pattern": {
           "shape": ""
          }
         },
         "name": "generation waste",
         "offsetgroup": "generation waste",
         "orientation": "v",
         "showlegend": true,
         "textposition": "auto",
         "type": "bar",
         "x": [
          "January",
          "February",
          "March",
          "April",
          "May",
          "June",
          "July",
          "August",
          "September",
          "October",
          "November",
          "December"
         ],
         "xaxis": "x",
         "y": [
          270.9761424731183,
          256.3550884955752,
          248.41251682368775,
          261.03211805555554,
          244.22043010752688,
          274.02743055555555,
          286.63877688172045,
          284.46538978494624,
          283.2993055555556,
          278.78724832214766,
          273.0295138888889,
          271.0230174731183
         ],
         "yaxis": "y"
        },
        {
         "alignmentgroup": "True",
         "hovertemplate": "variable=generation wind onshore<br>month=%{x}<br>value=%{y}<extra></extra>",
         "legendgroup": "generation wind onshore",
         "marker": {
          "color": "#ab63fa",
          "pattern": {
           "shape": ""
          }
         },
         "name": "generation wind onshore",
         "offsetgroup": "generation wind onshore",
         "orientation": "v",
         "showlegend": true,
         "textposition": "auto",
         "type": "bar",
         "x": [
          "January",
          "February",
          "March",
          "April",
          "May",
          "June",
          "July",
          "August",
          "September",
          "October",
          "November",
          "December"
         ],
         "xaxis": "x",
         "y": [
          6316.984375,
          6614.693215339233,
          6756.739905787349,
          5467.761458333333,
          5372.1098790322585,
          5094.382291666667,
          4634.704133064516,
          4666.615255376344,
          4489.590972222222,
          5194.152852348993,
          5379.476388888889,
          5650.5581317204305
         ],
         "yaxis": "y"
        }
       ],
       "layout": {
        "barmode": "relative",
        "legend": {
         "title": {
          "text": "variable"
         },
         "tracegroupgap": 0
        },
        "margin": {
         "t": 60
        },
        "template": {
         "data": {
          "bar": [
           {
            "error_x": {
             "color": "#2a3f5f"
            },
            "error_y": {
             "color": "#2a3f5f"
            },
            "marker": {
             "line": {
              "color": "#E5ECF6",
              "width": 0.5
             },
             "pattern": {
              "fillmode": "overlay",
              "size": 10,
              "solidity": 0.2
             }
            },
            "type": "bar"
           }
          ],
          "barpolar": [
           {
            "marker": {
             "line": {
              "color": "#E5ECF6",
              "width": 0.5
             },
             "pattern": {
              "fillmode": "overlay",
              "size": 10,
              "solidity": 0.2
             }
            },
            "type": "barpolar"
           }
          ],
          "carpet": [
           {
            "aaxis": {
             "endlinecolor": "#2a3f5f",
             "gridcolor": "white",
             "linecolor": "white",
             "minorgridcolor": "white",
             "startlinecolor": "#2a3f5f"
            },
            "baxis": {
             "endlinecolor": "#2a3f5f",
             "gridcolor": "white",
             "linecolor": "white",
             "minorgridcolor": "white",
             "startlinecolor": "#2a3f5f"
            },
            "type": "carpet"
           }
          ],
          "choropleth": [
           {
            "colorbar": {
             "outlinewidth": 0,
             "ticks": ""
            },
            "type": "choropleth"
           }
          ],
          "contour": [
           {
            "colorbar": {
             "outlinewidth": 0,
             "ticks": ""
            },
            "colorscale": [
             [
              0,
              "#0d0887"
             ],
             [
              0.1111111111111111,
              "#46039f"
             ],
             [
              0.2222222222222222,
              "#7201a8"
             ],
             [
              0.3333333333333333,
              "#9c179e"
             ],
             [
              0.4444444444444444,
              "#bd3786"
             ],
             [
              0.5555555555555556,
              "#d8576b"
             ],
             [
              0.6666666666666666,
              "#ed7953"
             ],
             [
              0.7777777777777778,
              "#fb9f3a"
             ],
             [
              0.8888888888888888,
              "#fdca26"
             ],
             [
              1,
              "#f0f921"
             ]
            ],
            "type": "contour"
           }
          ],
          "contourcarpet": [
           {
            "colorbar": {
             "outlinewidth": 0,
             "ticks": ""
            },
            "type": "contourcarpet"
           }
          ],
          "heatmap": [
           {
            "colorbar": {
             "outlinewidth": 0,
             "ticks": ""
            },
            "colorscale": [
             [
              0,
              "#0d0887"
             ],
             [
              0.1111111111111111,
              "#46039f"
             ],
             [
              0.2222222222222222,
              "#7201a8"
             ],
             [
              0.3333333333333333,
              "#9c179e"
             ],
             [
              0.4444444444444444,
              "#bd3786"
             ],
             [
              0.5555555555555556,
              "#d8576b"
             ],
             [
              0.6666666666666666,
              "#ed7953"
             ],
             [
              0.7777777777777778,
              "#fb9f3a"
             ],
             [
              0.8888888888888888,
              "#fdca26"
             ],
             [
              1,
              "#f0f921"
             ]
            ],
            "type": "heatmap"
           }
          ],
          "heatmapgl": [
           {
            "colorbar": {
             "outlinewidth": 0,
             "ticks": ""
            },
            "colorscale": [
             [
              0,
              "#0d0887"
             ],
             [
              0.1111111111111111,
              "#46039f"
             ],
             [
              0.2222222222222222,
              "#7201a8"
             ],
             [
              0.3333333333333333,
              "#9c179e"
             ],
             [
              0.4444444444444444,
              "#bd3786"
             ],
             [
              0.5555555555555556,
              "#d8576b"
             ],
             [
              0.6666666666666666,
              "#ed7953"
             ],
             [
              0.7777777777777778,
              "#fb9f3a"
             ],
             [
              0.8888888888888888,
              "#fdca26"
             ],
             [
              1,
              "#f0f921"
             ]
            ],
            "type": "heatmapgl"
           }
          ],
          "histogram": [
           {
            "marker": {
             "pattern": {
              "fillmode": "overlay",
              "size": 10,
              "solidity": 0.2
             }
            },
            "type": "histogram"
           }
          ],
          "histogram2d": [
           {
            "colorbar": {
             "outlinewidth": 0,
             "ticks": ""
            },
            "colorscale": [
             [
              0,
              "#0d0887"
             ],
             [
              0.1111111111111111,
              "#46039f"
             ],
             [
              0.2222222222222222,
              "#7201a8"
             ],
             [
              0.3333333333333333,
              "#9c179e"
             ],
             [
              0.4444444444444444,
              "#bd3786"
             ],
             [
              0.5555555555555556,
              "#d8576b"
             ],
             [
              0.6666666666666666,
              "#ed7953"
             ],
             [
              0.7777777777777778,
              "#fb9f3a"
             ],
             [
              0.8888888888888888,
              "#fdca26"
             ],
             [
              1,
              "#f0f921"
             ]
            ],
            "type": "histogram2d"
           }
          ],
          "histogram2dcontour": [
           {
            "colorbar": {
             "outlinewidth": 0,
             "ticks": ""
            },
            "colorscale": [
             [
              0,
              "#0d0887"
             ],
             [
              0.1111111111111111,
              "#46039f"
             ],
             [
              0.2222222222222222,
              "#7201a8"
             ],
             [
              0.3333333333333333,
              "#9c179e"
             ],
             [
              0.4444444444444444,
              "#bd3786"
             ],
             [
              0.5555555555555556,
              "#d8576b"
             ],
             [
              0.6666666666666666,
              "#ed7953"
             ],
             [
              0.7777777777777778,
              "#fb9f3a"
             ],
             [
              0.8888888888888888,
              "#fdca26"
             ],
             [
              1,
              "#f0f921"
             ]
            ],
            "type": "histogram2dcontour"
           }
          ],
          "mesh3d": [
           {
            "colorbar": {
             "outlinewidth": 0,
             "ticks": ""
            },
            "type": "mesh3d"
           }
          ],
          "parcoords": [
           {
            "line": {
             "colorbar": {
              "outlinewidth": 0,
              "ticks": ""
             }
            },
            "type": "parcoords"
           }
          ],
          "pie": [
           {
            "automargin": true,
            "type": "pie"
           }
          ],
          "scatter": [
           {
            "marker": {
             "colorbar": {
              "outlinewidth": 0,
              "ticks": ""
             }
            },
            "type": "scatter"
           }
          ],
          "scatter3d": [
           {
            "line": {
             "colorbar": {
              "outlinewidth": 0,
              "ticks": ""
             }
            },
            "marker": {
             "colorbar": {
              "outlinewidth": 0,
              "ticks": ""
             }
            },
            "type": "scatter3d"
           }
          ],
          "scattercarpet": [
           {
            "marker": {
             "colorbar": {
              "outlinewidth": 0,
              "ticks": ""
             }
            },
            "type": "scattercarpet"
           }
          ],
          "scattergeo": [
           {
            "marker": {
             "colorbar": {
              "outlinewidth": 0,
              "ticks": ""
             }
            },
            "type": "scattergeo"
           }
          ],
          "scattergl": [
           {
            "marker": {
             "colorbar": {
              "outlinewidth": 0,
              "ticks": ""
             }
            },
            "type": "scattergl"
           }
          ],
          "scattermapbox": [
           {
            "marker": {
             "colorbar": {
              "outlinewidth": 0,
              "ticks": ""
             }
            },
            "type": "scattermapbox"
           }
          ],
          "scatterpolar": [
           {
            "marker": {
             "colorbar": {
              "outlinewidth": 0,
              "ticks": ""
             }
            },
            "type": "scatterpolar"
           }
          ],
          "scatterpolargl": [
           {
            "marker": {
             "colorbar": {
              "outlinewidth": 0,
              "ticks": ""
             }
            },
            "type": "scatterpolargl"
           }
          ],
          "scatterternary": [
           {
            "marker": {
             "colorbar": {
              "outlinewidth": 0,
              "ticks": ""
             }
            },
            "type": "scatterternary"
           }
          ],
          "surface": [
           {
            "colorbar": {
             "outlinewidth": 0,
             "ticks": ""
            },
            "colorscale": [
             [
              0,
              "#0d0887"
             ],
             [
              0.1111111111111111,
              "#46039f"
             ],
             [
              0.2222222222222222,
              "#7201a8"
             ],
             [
              0.3333333333333333,
              "#9c179e"
             ],
             [
              0.4444444444444444,
              "#bd3786"
             ],
             [
              0.5555555555555556,
              "#d8576b"
             ],
             [
              0.6666666666666666,
              "#ed7953"
             ],
             [
              0.7777777777777778,
              "#fb9f3a"
             ],
             [
              0.8888888888888888,
              "#fdca26"
             ],
             [
              1,
              "#f0f921"
             ]
            ],
            "type": "surface"
           }
          ],
          "table": [
           {
            "cells": {
             "fill": {
              "color": "#EBF0F8"
             },
             "line": {
              "color": "white"
             }
            },
            "header": {
             "fill": {
              "color": "#C8D4E3"
             },
             "line": {
              "color": "white"
             }
            },
            "type": "table"
           }
          ]
         },
         "layout": {
          "annotationdefaults": {
           "arrowcolor": "#2a3f5f",
           "arrowhead": 0,
           "arrowwidth": 1
          },
          "autotypenumbers": "strict",
          "coloraxis": {
           "colorbar": {
            "outlinewidth": 0,
            "ticks": ""
           }
          },
          "colorscale": {
           "diverging": [
            [
             0,
             "#8e0152"
            ],
            [
             0.1,
             "#c51b7d"
            ],
            [
             0.2,
             "#de77ae"
            ],
            [
             0.3,
             "#f1b6da"
            ],
            [
             0.4,
             "#fde0ef"
            ],
            [
             0.5,
             "#f7f7f7"
            ],
            [
             0.6,
             "#e6f5d0"
            ],
            [
             0.7,
             "#b8e186"
            ],
            [
             0.8,
             "#7fbc41"
            ],
            [
             0.9,
             "#4d9221"
            ],
            [
             1,
             "#276419"
            ]
           ],
           "sequential": [
            [
             0,
             "#0d0887"
            ],
            [
             0.1111111111111111,
             "#46039f"
            ],
            [
             0.2222222222222222,
             "#7201a8"
            ],
            [
             0.3333333333333333,
             "#9c179e"
            ],
            [
             0.4444444444444444,
             "#bd3786"
            ],
            [
             0.5555555555555556,
             "#d8576b"
            ],
            [
             0.6666666666666666,
             "#ed7953"
            ],
            [
             0.7777777777777778,
             "#fb9f3a"
            ],
            [
             0.8888888888888888,
             "#fdca26"
            ],
            [
             1,
             "#f0f921"
            ]
           ],
           "sequentialminus": [
            [
             0,
             "#0d0887"
            ],
            [
             0.1111111111111111,
             "#46039f"
            ],
            [
             0.2222222222222222,
             "#7201a8"
            ],
            [
             0.3333333333333333,
             "#9c179e"
            ],
            [
             0.4444444444444444,
             "#bd3786"
            ],
            [
             0.5555555555555556,
             "#d8576b"
            ],
            [
             0.6666666666666666,
             "#ed7953"
            ],
            [
             0.7777777777777778,
             "#fb9f3a"
            ],
            [
             0.8888888888888888,
             "#fdca26"
            ],
            [
             1,
             "#f0f921"
            ]
           ]
          },
          "colorway": [
           "#636efa",
           "#EF553B",
           "#00cc96",
           "#ab63fa",
           "#FFA15A",
           "#19d3f3",
           "#FF6692",
           "#B6E880",
           "#FF97FF",
           "#FECB52"
          ],
          "font": {
           "color": "#2a3f5f"
          },
          "geo": {
           "bgcolor": "white",
           "lakecolor": "white",
           "landcolor": "#E5ECF6",
           "showlakes": true,
           "showland": true,
           "subunitcolor": "white"
          },
          "hoverlabel": {
           "align": "left"
          },
          "hovermode": "closest",
          "mapbox": {
           "style": "light"
          },
          "paper_bgcolor": "white",
          "plot_bgcolor": "#E5ECF6",
          "polar": {
           "angularaxis": {
            "gridcolor": "white",
            "linecolor": "white",
            "ticks": ""
           },
           "bgcolor": "#E5ECF6",
           "radialaxis": {
            "gridcolor": "white",
            "linecolor": "white",
            "ticks": ""
           }
          },
          "scene": {
           "xaxis": {
            "backgroundcolor": "#E5ECF6",
            "gridcolor": "white",
            "gridwidth": 2,
            "linecolor": "white",
            "showbackground": true,
            "ticks": "",
            "zerolinecolor": "white"
           },
           "yaxis": {
            "backgroundcolor": "#E5ECF6",
            "gridcolor": "white",
            "gridwidth": 2,
            "linecolor": "white",
            "showbackground": true,
            "ticks": "",
            "zerolinecolor": "white"
           },
           "zaxis": {
            "backgroundcolor": "#E5ECF6",
            "gridcolor": "white",
            "gridwidth": 2,
            "linecolor": "white",
            "showbackground": true,
            "ticks": "",
            "zerolinecolor": "white"
           }
          },
          "shapedefaults": {
           "line": {
            "color": "#2a3f5f"
           }
          },
          "ternary": {
           "aaxis": {
            "gridcolor": "white",
            "linecolor": "white",
            "ticks": ""
           },
           "baxis": {
            "gridcolor": "white",
            "linecolor": "white",
            "ticks": ""
           },
           "bgcolor": "#E5ECF6",
           "caxis": {
            "gridcolor": "white",
            "linecolor": "white",
            "ticks": ""
           }
          },
          "title": {
           "x": 0.05
          },
          "xaxis": {
           "automargin": true,
           "gridcolor": "white",
           "linecolor": "white",
           "ticks": "",
           "title": {
            "standoff": 15
           },
           "zerolinecolor": "white",
           "zerolinewidth": 2
          },
          "yaxis": {
           "automargin": true,
           "gridcolor": "white",
           "linecolor": "white",
           "ticks": "",
           "title": {
            "standoff": 15
           },
           "zerolinecolor": "white",
           "zerolinewidth": 2
          }
         }
        },
        "xaxis": {
         "anchor": "y",
         "domain": [
          0,
          1
         ],
         "title": {
          "text": "month"
         }
        },
        "yaxis": {
         "anchor": "x",
         "domain": [
          0,
          1
         ],
         "title": {
          "text": "value"
         }
        }
       }
      }
     },
     "metadata": {},
     "output_type": "display_data"
    }
   ],
   "source": [
    "fig= px.bar(df_generation)\n",
    "fig.update_layout(barmode=\"relative\")\n",
    "fig.show()"
   ]
  },
  {
   "cell_type": "code",
   "execution_count": 14,
   "metadata": {},
   "outputs": [],
   "source": [
    "df_generation['sum'] = df_generation.sum(axis=1)\n",
    "for col in df_generation.columns:\n",
    "    df_generation[col]= df_generation[col]/df_generation['sum']\n",
    "df_generation = remove_columns(df_generation,[\"sum\"])"
   ]
  },
  {
   "cell_type": "code",
   "execution_count": 15,
   "metadata": {},
   "outputs": [
    {
     "data": {
      "application/vnd.plotly.v1+json": {
       "config": {
        "plotlyServerURL": "https://plot.ly"
       },
       "data": [
        {
         "alignmentgroup": "True",
         "hovertemplate": "variable=generation biomass<br>month=%{x}<br>value=%{y}<extra></extra>",
         "legendgroup": "generation biomass",
         "marker": {
          "color": "#636efa",
          "pattern": {
           "shape": ""
          }
         },
         "name": "generation biomass",
         "offsetgroup": "generation biomass",
         "orientation": "v",
         "showlegend": true,
         "textposition": "auto",
         "type": "bar",
         "x": [
          "January",
          "February",
          "March",
          "April",
          "May",
          "June",
          "July",
          "August",
          "September",
          "October",
          "November",
          "December"
         ],
         "xaxis": "x",
         "y": [
          0.013467934795256325,
          0.01351881653571789,
          0.01276841465366132,
          0.011716634473572896,
          0.013861729029978283,
          0.013293592657337238,
          0.013683900547772795,
          0.014458046787608722,
          0.014169710350270613,
          0.01351323691450778,
          0.013252416409566203,
          0.012988140098647183
         ],
         "yaxis": "y"
        },
        {
         "alignmentgroup": "True",
         "hovertemplate": "variable=generation fossil brown coal/lignite<br>month=%{x}<br>value=%{y}<extra></extra>",
         "legendgroup": "generation fossil brown coal/lignite",
         "marker": {
          "color": "#EF553B",
          "pattern": {
           "shape": ""
          }
         },
         "name": "generation fossil brown coal/lignite",
         "offsetgroup": "generation fossil brown coal/lignite",
         "orientation": "v",
         "showlegend": true,
         "textposition": "auto",
         "type": "bar",
         "x": [
          "January",
          "February",
          "March",
          "April",
          "May",
          "June",
          "July",
          "August",
          "September",
          "October",
          "November",
          "December"
         ],
         "xaxis": "x",
         "y": [
          0.01693898719211884,
          0.012643056289063464,
          0.007524061400311716,
          0.0105275782749929,
          0.012479502670482118,
          0.014484083428345848,
          0.019170696594026867,
          0.016693215195602722,
          0.020009431610725423,
          0.01878414471681688,
          0.020341543264773485,
          0.0178492764890417
         ],
         "yaxis": "y"
        },
        {
         "alignmentgroup": "True",
         "hovertemplate": "variable=generation fossil gas<br>month=%{x}<br>value=%{y}<extra></extra>",
         "legendgroup": "generation fossil gas",
         "marker": {
          "color": "#00cc96",
          "pattern": {
           "shape": ""
          }
         },
         "name": "generation fossil gas",
         "offsetgroup": "generation fossil gas",
         "orientation": "v",
         "showlegend": true,
         "textposition": "auto",
         "type": "bar",
         "x": [
          "January",
          "February",
          "March",
          "April",
          "May",
          "June",
          "July",
          "August",
          "September",
          "October",
          "November",
          "December"
         ],
         "xaxis": "x",
         "y": [
          0.1831839364617515,
          0.16870165367165013,
          0.16479941824142635,
          0.1733328079731804,
          0.18506136961367947,
          0.2008133362113075,
          0.21596324361695074,
          0.20269596705632825,
          0.20395367419880536,
          0.21856124374563393,
          0.2325898184206429,
          0.20521340908717858
         ],
         "yaxis": "y"
        },
        {
         "alignmentgroup": "True",
         "hovertemplate": "variable=generation fossil hard coal<br>month=%{x}<br>value=%{y}<extra></extra>",
         "legendgroup": "generation fossil hard coal",
         "marker": {
          "color": "#ab63fa",
          "pattern": {
           "shape": ""
          }
         },
         "name": "generation fossil hard coal",
         "offsetgroup": "generation fossil hard coal",
         "orientation": "v",
         "showlegend": true,
         "textposition": "auto",
         "type": "bar",
         "x": [
          "January",
          "February",
          "March",
          "April",
          "May",
          "June",
          "July",
          "August",
          "September",
          "October",
          "November",
          "December"
         ],
         "xaxis": "x",
         "y": [
          0.15593551455541158,
          0.13046473281600443,
          0.10582205068512733,
          0.11725171680911829,
          0.1315010219995658,
          0.15093679359003634,
          0.16541284930051087,
          0.1608215983798885,
          0.1667609181709927,
          0.1617658032975185,
          0.17796624575807748,
          0.15697371167109164
         ],
         "yaxis": "y"
        },
        {
         "alignmentgroup": "True",
         "hovertemplate": "variable=generation fossil oil<br>month=%{x}<br>value=%{y}<extra></extra>",
         "legendgroup": "generation fossil oil",
         "marker": {
          "color": "#FFA15A",
          "pattern": {
           "shape": ""
          }
         },
         "name": "generation fossil oil",
         "offsetgroup": "generation fossil oil",
         "orientation": "v",
         "showlegend": true,
         "textposition": "auto",
         "type": "bar",
         "x": [
          "January",
          "February",
          "March",
          "April",
          "May",
          "June",
          "July",
          "August",
          "September",
          "October",
          "November",
          "December"
         ],
         "xaxis": "x",
         "y": [
          0.009967140571027242,
          0.01008601186693447,
          0.010321149792333742,
          0.01012768214581681,
          0.010839974977633175,
          0.01045206552435322,
          0.0105818419701121,
          0.010728709555213609,
          0.011089701144978533,
          0.010500114004096069,
          0.010171221165594416,
          0.010201464501284029
         ],
         "yaxis": "y"
        },
        {
         "alignmentgroup": "True",
         "hovertemplate": "variable=generation hydro pumped storage consumption<br>month=%{x}<br>value=%{y}<extra></extra>",
         "legendgroup": "generation hydro pumped storage consumption",
         "marker": {
          "color": "#19d3f3",
          "pattern": {
           "shape": ""
          }
         },
         "name": "generation hydro pumped storage consumption",
         "offsetgroup": "generation hydro pumped storage consumption",
         "orientation": "v",
         "showlegend": true,
         "textposition": "auto",
         "type": "bar",
         "x": [
          "January",
          "February",
          "March",
          "April",
          "May",
          "June",
          "July",
          "August",
          "September",
          "October",
          "November",
          "December"
         ],
         "xaxis": "x",
         "y": [
          0.02194494832624778,
          0.02036643113832666,
          0.021697400396169002,
          0.019817343271909316,
          0.01647726255129552,
          0.012396479863207771,
          0.010367917008224186,
          0.012430786731348035,
          0.01129375053570936,
          0.016684590446447784,
          0.015512539249720323,
          0.01981150800357376
         ],
         "yaxis": "y"
        },
        {
         "alignmentgroup": "True",
         "hovertemplate": "variable=generation hydro run-of-river and poundage<br>month=%{x}<br>value=%{y}<extra></extra>",
         "legendgroup": "generation hydro run-of-river and poundage",
         "marker": {
          "color": "#FF6692",
          "pattern": {
           "shape": ""
          }
         },
         "name": "generation hydro run-of-river and poundage",
         "offsetgroup": "generation hydro run-of-river and poundage",
         "orientation": "v",
         "showlegend": true,
         "textposition": "auto",
         "type": "bar",
         "x": [
          "January",
          "February",
          "March",
          "April",
          "May",
          "June",
          "July",
          "August",
          "September",
          "October",
          "November",
          "December"
         ],
         "xaxis": "x",
         "y": [
          0.03228311667029757,
          0.038448408427488055,
          0.04279000216094282,
          0.04456829903020093,
          0.042666101504556894,
          0.03647756789894337,
          0.029503957102901577,
          0.02811936660091076,
          0.026588727193316817,
          0.02506221967842592,
          0.029695548548279233,
          0.03184200278050703
         ],
         "yaxis": "y"
        },
        {
         "alignmentgroup": "True",
         "hovertemplate": "variable=generation hydro water reservoir<br>month=%{x}<br>value=%{y}<extra></extra>",
         "legendgroup": "generation hydro water reservoir",
         "marker": {
          "color": "#B6E880",
          "pattern": {
           "shape": ""
          }
         },
         "name": "generation hydro water reservoir",
         "offsetgroup": "generation hydro water reservoir",
         "orientation": "v",
         "showlegend": true,
         "textposition": "auto",
         "type": "bar",
         "x": [
          "January",
          "February",
          "March",
          "April",
          "May",
          "June",
          "July",
          "August",
          "September",
          "October",
          "November",
          "December"
         ],
         "xaxis": "x",
         "y": [
          0.09135786420863233,
          0.11142883682972514,
          0.11752578853934226,
          0.12150186199197295,
          0.10951967387656478,
          0.09044316451328016,
          0.07740639821195233,
          0.07153558264987153,
          0.07564786994455254,
          0.07287326005704346,
          0.07617111888495985,
          0.07819709422592841
         ],
         "yaxis": "y"
        },
        {
         "alignmentgroup": "True",
         "hovertemplate": "variable=generation nuclear<br>month=%{x}<br>value=%{y}<extra></extra>",
         "legendgroup": "generation nuclear",
         "marker": {
          "color": "#FF97FF",
          "pattern": {
           "shape": ""
          }
         },
         "name": "generation nuclear",
         "offsetgroup": "generation nuclear",
         "orientation": "v",
         "showlegend": true,
         "textposition": "auto",
         "type": "bar",
         "x": [
          "January",
          "February",
          "March",
          "April",
          "May",
          "June",
          "July",
          "August",
          "September",
          "October",
          "November",
          "December"
         ],
         "xaxis": "x",
         "y": [
          0.21725603318840053,
          0.21783874927891284,
          0.22489647260984783,
          0.2260903775317916,
          0.20293578739689314,
          0.20993131429429482,
          0.21691046951397072,
          0.23668607269124223,
          0.23579608239924266,
          0.2223906076569218,
          0.19143941846207568,
          0.22305460727080997
         ],
         "yaxis": "y"
        },
        {
         "alignmentgroup": "True",
         "hovertemplate": "variable=generation other<br>month=%{x}<br>value=%{y}<extra></extra>",
         "legendgroup": "generation other",
         "marker": {
          "color": "#FECB52",
          "pattern": {
           "shape": ""
          }
         },
         "name": "generation other",
         "offsetgroup": "generation other",
         "orientation": "v",
         "showlegend": true,
         "textposition": "auto",
         "type": "bar",
         "x": [
          "January",
          "February",
          "March",
          "April",
          "May",
          "June",
          "July",
          "August",
          "September",
          "October",
          "November",
          "December"
         ],
         "xaxis": "x",
         "y": [
          0.0020648938089076457,
          0.0022638019246357752,
          0.0022183987494451985,
          0.0016479892869812511,
          0.0020308686216608134,
          0.0021730391142783696,
          0.0019020535680801024,
          0.002212082206781538,
          0.002240442054080528,
          0.0022799504459725616,
          0.00209566466507274,
          0.0021013669980708962
         ],
         "yaxis": "y"
        },
        {
         "alignmentgroup": "True",
         "hovertemplate": "variable=generation other renewable<br>month=%{x}<br>value=%{y}<extra></extra>",
         "legendgroup": "generation other renewable",
         "marker": {
          "color": "#636efa",
          "pattern": {
           "shape": ""
          }
         },
         "name": "generation other renewable",
         "offsetgroup": "generation other renewable",
         "orientation": "v",
         "showlegend": true,
         "textposition": "auto",
         "type": "bar",
         "x": [
          "January",
          "February",
          "March",
          "April",
          "May",
          "June",
          "July",
          "August",
          "September",
          "October",
          "November",
          "December"
         ],
         "xaxis": "x",
         "y": [
          0.002842640655701987,
          0.002817931001957223,
          0.0028576594001070437,
          0.00309024257219552,
          0.003181685141064172,
          0.002996659943758367,
          0.002884096970253729,
          0.003007339182889935,
          0.003122372054473772,
          0.003104946512019984,
          0.0029609569407400838,
          0.0030457730375315264
         ],
         "yaxis": "y"
        },
        {
         "alignmentgroup": "True",
         "hovertemplate": "variable=generation solar<br>month=%{x}<br>value=%{y}<extra></extra>",
         "legendgroup": "generation solar",
         "marker": {
          "color": "#EF553B",
          "pattern": {
           "shape": ""
          }
         },
         "name": "generation solar",
         "offsetgroup": "generation solar",
         "orientation": "v",
         "showlegend": true,
         "textposition": "auto",
         "type": "bar",
         "x": [
          "January",
          "February",
          "March",
          "April",
          "May",
          "June",
          "July",
          "August",
          "September",
          "October",
          "November",
          "December"
         ],
         "xaxis": "x",
         "y": [
          0.03554281873385468,
          0.041120070412804646,
          0.046579797457471366,
          0.05273019639049643,
          0.06356701559744449,
          0.06755709778340331,
          0.06777846387973363,
          0.06307381515223295,
          0.0574511381483396,
          0.03954538036237209,
          0.03522328095573505,
          0.03225181128905162
         ],
         "yaxis": "y"
        },
        {
         "alignmentgroup": "True",
         "hovertemplate": "variable=generation waste<br>month=%{x}<br>value=%{y}<extra></extra>",
         "legendgroup": "generation waste",
         "marker": {
          "color": "#00cc96",
          "pattern": {
           "shape": ""
          }
         },
         "name": "generation waste",
         "offsetgroup": "generation waste",
         "orientation": "v",
         "showlegend": true,
         "textposition": "auto",
         "type": "bar",
         "x": [
          "January",
          "February",
          "March",
          "April",
          "May",
          "June",
          "July",
          "August",
          "September",
          "October",
          "November",
          "December"
         ],
         "xaxis": "x",
         "y": [
          0.008934458235829692,
          0.008592424147372131,
          0.008517806664956834,
          0.009459156527941305,
          0.008952396432610442,
          0.009598640464939665,
          0.009810279155658422,
          0.01020045003874349,
          0.010201869354498586,
          0.0099298096564568,
          0.00930208419801933,
          0.009449854045114484
         ],
         "yaxis": "y"
        },
        {
         "alignmentgroup": "True",
         "hovertemplate": "variable=generation wind onshore<br>month=%{x}<br>value=%{y}<extra></extra>",
         "legendgroup": "generation wind onshore",
         "marker": {
          "color": "#ab63fa",
          "pattern": {
           "shape": ""
          }
         },
         "name": "generation wind onshore",
         "offsetgroup": "generation wind onshore",
         "orientation": "v",
         "showlegend": true,
         "textposition": "auto",
         "type": "bar",
         "x": [
          "January",
          "February",
          "March",
          "April",
          "May",
          "June",
          "July",
          "August",
          "September",
          "October",
          "November",
          "December"
         ],
         "xaxis": "x",
         "y": [
          0.20827971259656242,
          0.22170907565940684,
          0.2316815792488572,
          0.1981381137198295,
          0.19692561058657093,
          0.17844616471251426,
          0.15862383255985185,
          0.1673369677713378,
          0.16167431284001324,
          0.1850046925057664,
          0.18327814307674323,
          0.1970199805021693
         ],
         "yaxis": "y"
        }
       ],
       "layout": {
        "barmode": "relative",
        "legend": {
         "title": {
          "text": "variable"
         },
         "tracegroupgap": 0
        },
        "margin": {
         "t": 60
        },
        "template": {
         "data": {
          "bar": [
           {
            "error_x": {
             "color": "#2a3f5f"
            },
            "error_y": {
             "color": "#2a3f5f"
            },
            "marker": {
             "line": {
              "color": "#E5ECF6",
              "width": 0.5
             },
             "pattern": {
              "fillmode": "overlay",
              "size": 10,
              "solidity": 0.2
             }
            },
            "type": "bar"
           }
          ],
          "barpolar": [
           {
            "marker": {
             "line": {
              "color": "#E5ECF6",
              "width": 0.5
             },
             "pattern": {
              "fillmode": "overlay",
              "size": 10,
              "solidity": 0.2
             }
            },
            "type": "barpolar"
           }
          ],
          "carpet": [
           {
            "aaxis": {
             "endlinecolor": "#2a3f5f",
             "gridcolor": "white",
             "linecolor": "white",
             "minorgridcolor": "white",
             "startlinecolor": "#2a3f5f"
            },
            "baxis": {
             "endlinecolor": "#2a3f5f",
             "gridcolor": "white",
             "linecolor": "white",
             "minorgridcolor": "white",
             "startlinecolor": "#2a3f5f"
            },
            "type": "carpet"
           }
          ],
          "choropleth": [
           {
            "colorbar": {
             "outlinewidth": 0,
             "ticks": ""
            },
            "type": "choropleth"
           }
          ],
          "contour": [
           {
            "colorbar": {
             "outlinewidth": 0,
             "ticks": ""
            },
            "colorscale": [
             [
              0,
              "#0d0887"
             ],
             [
              0.1111111111111111,
              "#46039f"
             ],
             [
              0.2222222222222222,
              "#7201a8"
             ],
             [
              0.3333333333333333,
              "#9c179e"
             ],
             [
              0.4444444444444444,
              "#bd3786"
             ],
             [
              0.5555555555555556,
              "#d8576b"
             ],
             [
              0.6666666666666666,
              "#ed7953"
             ],
             [
              0.7777777777777778,
              "#fb9f3a"
             ],
             [
              0.8888888888888888,
              "#fdca26"
             ],
             [
              1,
              "#f0f921"
             ]
            ],
            "type": "contour"
           }
          ],
          "contourcarpet": [
           {
            "colorbar": {
             "outlinewidth": 0,
             "ticks": ""
            },
            "type": "contourcarpet"
           }
          ],
          "heatmap": [
           {
            "colorbar": {
             "outlinewidth": 0,
             "ticks": ""
            },
            "colorscale": [
             [
              0,
              "#0d0887"
             ],
             [
              0.1111111111111111,
              "#46039f"
             ],
             [
              0.2222222222222222,
              "#7201a8"
             ],
             [
              0.3333333333333333,
              "#9c179e"
             ],
             [
              0.4444444444444444,
              "#bd3786"
             ],
             [
              0.5555555555555556,
              "#d8576b"
             ],
             [
              0.6666666666666666,
              "#ed7953"
             ],
             [
              0.7777777777777778,
              "#fb9f3a"
             ],
             [
              0.8888888888888888,
              "#fdca26"
             ],
             [
              1,
              "#f0f921"
             ]
            ],
            "type": "heatmap"
           }
          ],
          "heatmapgl": [
           {
            "colorbar": {
             "outlinewidth": 0,
             "ticks": ""
            },
            "colorscale": [
             [
              0,
              "#0d0887"
             ],
             [
              0.1111111111111111,
              "#46039f"
             ],
             [
              0.2222222222222222,
              "#7201a8"
             ],
             [
              0.3333333333333333,
              "#9c179e"
             ],
             [
              0.4444444444444444,
              "#bd3786"
             ],
             [
              0.5555555555555556,
              "#d8576b"
             ],
             [
              0.6666666666666666,
              "#ed7953"
             ],
             [
              0.7777777777777778,
              "#fb9f3a"
             ],
             [
              0.8888888888888888,
              "#fdca26"
             ],
             [
              1,
              "#f0f921"
             ]
            ],
            "type": "heatmapgl"
           }
          ],
          "histogram": [
           {
            "marker": {
             "pattern": {
              "fillmode": "overlay",
              "size": 10,
              "solidity": 0.2
             }
            },
            "type": "histogram"
           }
          ],
          "histogram2d": [
           {
            "colorbar": {
             "outlinewidth": 0,
             "ticks": ""
            },
            "colorscale": [
             [
              0,
              "#0d0887"
             ],
             [
              0.1111111111111111,
              "#46039f"
             ],
             [
              0.2222222222222222,
              "#7201a8"
             ],
             [
              0.3333333333333333,
              "#9c179e"
             ],
             [
              0.4444444444444444,
              "#bd3786"
             ],
             [
              0.5555555555555556,
              "#d8576b"
             ],
             [
              0.6666666666666666,
              "#ed7953"
             ],
             [
              0.7777777777777778,
              "#fb9f3a"
             ],
             [
              0.8888888888888888,
              "#fdca26"
             ],
             [
              1,
              "#f0f921"
             ]
            ],
            "type": "histogram2d"
           }
          ],
          "histogram2dcontour": [
           {
            "colorbar": {
             "outlinewidth": 0,
             "ticks": ""
            },
            "colorscale": [
             [
              0,
              "#0d0887"
             ],
             [
              0.1111111111111111,
              "#46039f"
             ],
             [
              0.2222222222222222,
              "#7201a8"
             ],
             [
              0.3333333333333333,
              "#9c179e"
             ],
             [
              0.4444444444444444,
              "#bd3786"
             ],
             [
              0.5555555555555556,
              "#d8576b"
             ],
             [
              0.6666666666666666,
              "#ed7953"
             ],
             [
              0.7777777777777778,
              "#fb9f3a"
             ],
             [
              0.8888888888888888,
              "#fdca26"
             ],
             [
              1,
              "#f0f921"
             ]
            ],
            "type": "histogram2dcontour"
           }
          ],
          "mesh3d": [
           {
            "colorbar": {
             "outlinewidth": 0,
             "ticks": ""
            },
            "type": "mesh3d"
           }
          ],
          "parcoords": [
           {
            "line": {
             "colorbar": {
              "outlinewidth": 0,
              "ticks": ""
             }
            },
            "type": "parcoords"
           }
          ],
          "pie": [
           {
            "automargin": true,
            "type": "pie"
           }
          ],
          "scatter": [
           {
            "marker": {
             "colorbar": {
              "outlinewidth": 0,
              "ticks": ""
             }
            },
            "type": "scatter"
           }
          ],
          "scatter3d": [
           {
            "line": {
             "colorbar": {
              "outlinewidth": 0,
              "ticks": ""
             }
            },
            "marker": {
             "colorbar": {
              "outlinewidth": 0,
              "ticks": ""
             }
            },
            "type": "scatter3d"
           }
          ],
          "scattercarpet": [
           {
            "marker": {
             "colorbar": {
              "outlinewidth": 0,
              "ticks": ""
             }
            },
            "type": "scattercarpet"
           }
          ],
          "scattergeo": [
           {
            "marker": {
             "colorbar": {
              "outlinewidth": 0,
              "ticks": ""
             }
            },
            "type": "scattergeo"
           }
          ],
          "scattergl": [
           {
            "marker": {
             "colorbar": {
              "outlinewidth": 0,
              "ticks": ""
             }
            },
            "type": "scattergl"
           }
          ],
          "scattermapbox": [
           {
            "marker": {
             "colorbar": {
              "outlinewidth": 0,
              "ticks": ""
             }
            },
            "type": "scattermapbox"
           }
          ],
          "scatterpolar": [
           {
            "marker": {
             "colorbar": {
              "outlinewidth": 0,
              "ticks": ""
             }
            },
            "type": "scatterpolar"
           }
          ],
          "scatterpolargl": [
           {
            "marker": {
             "colorbar": {
              "outlinewidth": 0,
              "ticks": ""
             }
            },
            "type": "scatterpolargl"
           }
          ],
          "scatterternary": [
           {
            "marker": {
             "colorbar": {
              "outlinewidth": 0,
              "ticks": ""
             }
            },
            "type": "scatterternary"
           }
          ],
          "surface": [
           {
            "colorbar": {
             "outlinewidth": 0,
             "ticks": ""
            },
            "colorscale": [
             [
              0,
              "#0d0887"
             ],
             [
              0.1111111111111111,
              "#46039f"
             ],
             [
              0.2222222222222222,
              "#7201a8"
             ],
             [
              0.3333333333333333,
              "#9c179e"
             ],
             [
              0.4444444444444444,
              "#bd3786"
             ],
             [
              0.5555555555555556,
              "#d8576b"
             ],
             [
              0.6666666666666666,
              "#ed7953"
             ],
             [
              0.7777777777777778,
              "#fb9f3a"
             ],
             [
              0.8888888888888888,
              "#fdca26"
             ],
             [
              1,
              "#f0f921"
             ]
            ],
            "type": "surface"
           }
          ],
          "table": [
           {
            "cells": {
             "fill": {
              "color": "#EBF0F8"
             },
             "line": {
              "color": "white"
             }
            },
            "header": {
             "fill": {
              "color": "#C8D4E3"
             },
             "line": {
              "color": "white"
             }
            },
            "type": "table"
           }
          ]
         },
         "layout": {
          "annotationdefaults": {
           "arrowcolor": "#2a3f5f",
           "arrowhead": 0,
           "arrowwidth": 1
          },
          "autotypenumbers": "strict",
          "coloraxis": {
           "colorbar": {
            "outlinewidth": 0,
            "ticks": ""
           }
          },
          "colorscale": {
           "diverging": [
            [
             0,
             "#8e0152"
            ],
            [
             0.1,
             "#c51b7d"
            ],
            [
             0.2,
             "#de77ae"
            ],
            [
             0.3,
             "#f1b6da"
            ],
            [
             0.4,
             "#fde0ef"
            ],
            [
             0.5,
             "#f7f7f7"
            ],
            [
             0.6,
             "#e6f5d0"
            ],
            [
             0.7,
             "#b8e186"
            ],
            [
             0.8,
             "#7fbc41"
            ],
            [
             0.9,
             "#4d9221"
            ],
            [
             1,
             "#276419"
            ]
           ],
           "sequential": [
            [
             0,
             "#0d0887"
            ],
            [
             0.1111111111111111,
             "#46039f"
            ],
            [
             0.2222222222222222,
             "#7201a8"
            ],
            [
             0.3333333333333333,
             "#9c179e"
            ],
            [
             0.4444444444444444,
             "#bd3786"
            ],
            [
             0.5555555555555556,
             "#d8576b"
            ],
            [
             0.6666666666666666,
             "#ed7953"
            ],
            [
             0.7777777777777778,
             "#fb9f3a"
            ],
            [
             0.8888888888888888,
             "#fdca26"
            ],
            [
             1,
             "#f0f921"
            ]
           ],
           "sequentialminus": [
            [
             0,
             "#0d0887"
            ],
            [
             0.1111111111111111,
             "#46039f"
            ],
            [
             0.2222222222222222,
             "#7201a8"
            ],
            [
             0.3333333333333333,
             "#9c179e"
            ],
            [
             0.4444444444444444,
             "#bd3786"
            ],
            [
             0.5555555555555556,
             "#d8576b"
            ],
            [
             0.6666666666666666,
             "#ed7953"
            ],
            [
             0.7777777777777778,
             "#fb9f3a"
            ],
            [
             0.8888888888888888,
             "#fdca26"
            ],
            [
             1,
             "#f0f921"
            ]
           ]
          },
          "colorway": [
           "#636efa",
           "#EF553B",
           "#00cc96",
           "#ab63fa",
           "#FFA15A",
           "#19d3f3",
           "#FF6692",
           "#B6E880",
           "#FF97FF",
           "#FECB52"
          ],
          "font": {
           "color": "#2a3f5f"
          },
          "geo": {
           "bgcolor": "white",
           "lakecolor": "white",
           "landcolor": "#E5ECF6",
           "showlakes": true,
           "showland": true,
           "subunitcolor": "white"
          },
          "hoverlabel": {
           "align": "left"
          },
          "hovermode": "closest",
          "mapbox": {
           "style": "light"
          },
          "paper_bgcolor": "white",
          "plot_bgcolor": "#E5ECF6",
          "polar": {
           "angularaxis": {
            "gridcolor": "white",
            "linecolor": "white",
            "ticks": ""
           },
           "bgcolor": "#E5ECF6",
           "radialaxis": {
            "gridcolor": "white",
            "linecolor": "white",
            "ticks": ""
           }
          },
          "scene": {
           "xaxis": {
            "backgroundcolor": "#E5ECF6",
            "gridcolor": "white",
            "gridwidth": 2,
            "linecolor": "white",
            "showbackground": true,
            "ticks": "",
            "zerolinecolor": "white"
           },
           "yaxis": {
            "backgroundcolor": "#E5ECF6",
            "gridcolor": "white",
            "gridwidth": 2,
            "linecolor": "white",
            "showbackground": true,
            "ticks": "",
            "zerolinecolor": "white"
           },
           "zaxis": {
            "backgroundcolor": "#E5ECF6",
            "gridcolor": "white",
            "gridwidth": 2,
            "linecolor": "white",
            "showbackground": true,
            "ticks": "",
            "zerolinecolor": "white"
           }
          },
          "shapedefaults": {
           "line": {
            "color": "#2a3f5f"
           }
          },
          "ternary": {
           "aaxis": {
            "gridcolor": "white",
            "linecolor": "white",
            "ticks": ""
           },
           "baxis": {
            "gridcolor": "white",
            "linecolor": "white",
            "ticks": ""
           },
           "bgcolor": "#E5ECF6",
           "caxis": {
            "gridcolor": "white",
            "linecolor": "white",
            "ticks": ""
           }
          },
          "title": {
           "x": 0.05
          },
          "xaxis": {
           "automargin": true,
           "gridcolor": "white",
           "linecolor": "white",
           "ticks": "",
           "title": {
            "standoff": 15
           },
           "zerolinecolor": "white",
           "zerolinewidth": 2
          },
          "yaxis": {
           "automargin": true,
           "gridcolor": "white",
           "linecolor": "white",
           "ticks": "",
           "title": {
            "standoff": 15
           },
           "zerolinecolor": "white",
           "zerolinewidth": 2
          }
         }
        },
        "xaxis": {
         "anchor": "y",
         "domain": [
          0,
          1
         ],
         "title": {
          "text": "month"
         }
        },
        "yaxis": {
         "anchor": "x",
         "domain": [
          0,
          1
         ],
         "title": {
          "text": "value"
         }
        }
       }
      }
     },
     "metadata": {},
     "output_type": "display_data"
    }
   ],
   "source": [
    "fig= px.bar(df_generation)\n",
    "fig.show()"
   ]
  },
  {
   "cell_type": "markdown",
   "metadata": {},
   "source": [
    "# Analyzing weather dataset\n"
   ]
  },
  {
   "cell_type": "code",
   "execution_count": 16,
   "metadata": {},
   "outputs": [
    {
     "data": {
      "text/html": [
       "<div>\n",
       "<style scoped>\n",
       "    .dataframe tbody tr th:only-of-type {\n",
       "        vertical-align: middle;\n",
       "    }\n",
       "\n",
       "    .dataframe tbody tr th {\n",
       "        vertical-align: top;\n",
       "    }\n",
       "\n",
       "    .dataframe thead th {\n",
       "        text-align: right;\n",
       "    }\n",
       "</style>\n",
       "<table border=\"1\" class=\"dataframe\">\n",
       "  <thead>\n",
       "    <tr style=\"text-align: right;\">\n",
       "      <th></th>\n",
       "      <th>dt_iso</th>\n",
       "      <th>city_name</th>\n",
       "      <th>temp</th>\n",
       "      <th>temp_min</th>\n",
       "      <th>temp_max</th>\n",
       "      <th>pressure</th>\n",
       "      <th>humidity</th>\n",
       "      <th>wind_speed</th>\n",
       "      <th>wind_deg</th>\n",
       "      <th>rain_1h</th>\n",
       "      <th>rain_3h</th>\n",
       "      <th>snow_3h</th>\n",
       "      <th>clouds_all</th>\n",
       "      <th>weather_id</th>\n",
       "      <th>weather_main</th>\n",
       "      <th>weather_description</th>\n",
       "      <th>weather_icon</th>\n",
       "    </tr>\n",
       "  </thead>\n",
       "  <tbody>\n",
       "    <tr>\n",
       "      <th>0</th>\n",
       "      <td>2015-01-01 00:00:00+01:00</td>\n",
       "      <td>Valencia</td>\n",
       "      <td>270.475</td>\n",
       "      <td>270.475</td>\n",
       "      <td>270.475</td>\n",
       "      <td>1001</td>\n",
       "      <td>77</td>\n",
       "      <td>1</td>\n",
       "      <td>62</td>\n",
       "      <td>0.0</td>\n",
       "      <td>0.0</td>\n",
       "      <td>0.0</td>\n",
       "      <td>0</td>\n",
       "      <td>800</td>\n",
       "      <td>clear</td>\n",
       "      <td>sky is clear</td>\n",
       "      <td>01n</td>\n",
       "    </tr>\n",
       "    <tr>\n",
       "      <th>1</th>\n",
       "      <td>2015-01-01 01:00:00+01:00</td>\n",
       "      <td>Valencia</td>\n",
       "      <td>270.475</td>\n",
       "      <td>270.475</td>\n",
       "      <td>270.475</td>\n",
       "      <td>1001</td>\n",
       "      <td>77</td>\n",
       "      <td>1</td>\n",
       "      <td>62</td>\n",
       "      <td>0.0</td>\n",
       "      <td>0.0</td>\n",
       "      <td>0.0</td>\n",
       "      <td>0</td>\n",
       "      <td>800</td>\n",
       "      <td>clear</td>\n",
       "      <td>sky is clear</td>\n",
       "      <td>01n</td>\n",
       "    </tr>\n",
       "    <tr>\n",
       "      <th>2</th>\n",
       "      <td>2015-01-01 02:00:00+01:00</td>\n",
       "      <td>Valencia</td>\n",
       "      <td>269.686</td>\n",
       "      <td>269.686</td>\n",
       "      <td>269.686</td>\n",
       "      <td>1002</td>\n",
       "      <td>78</td>\n",
       "      <td>0</td>\n",
       "      <td>23</td>\n",
       "      <td>0.0</td>\n",
       "      <td>0.0</td>\n",
       "      <td>0.0</td>\n",
       "      <td>0</td>\n",
       "      <td>800</td>\n",
       "      <td>clear</td>\n",
       "      <td>sky is clear</td>\n",
       "      <td>01n</td>\n",
       "    </tr>\n",
       "    <tr>\n",
       "      <th>3</th>\n",
       "      <td>2015-01-01 03:00:00+01:00</td>\n",
       "      <td>Valencia</td>\n",
       "      <td>269.686</td>\n",
       "      <td>269.686</td>\n",
       "      <td>269.686</td>\n",
       "      <td>1002</td>\n",
       "      <td>78</td>\n",
       "      <td>0</td>\n",
       "      <td>23</td>\n",
       "      <td>0.0</td>\n",
       "      <td>0.0</td>\n",
       "      <td>0.0</td>\n",
       "      <td>0</td>\n",
       "      <td>800</td>\n",
       "      <td>clear</td>\n",
       "      <td>sky is clear</td>\n",
       "      <td>01n</td>\n",
       "    </tr>\n",
       "    <tr>\n",
       "      <th>4</th>\n",
       "      <td>2015-01-01 04:00:00+01:00</td>\n",
       "      <td>Valencia</td>\n",
       "      <td>269.686</td>\n",
       "      <td>269.686</td>\n",
       "      <td>269.686</td>\n",
       "      <td>1002</td>\n",
       "      <td>78</td>\n",
       "      <td>0</td>\n",
       "      <td>23</td>\n",
       "      <td>0.0</td>\n",
       "      <td>0.0</td>\n",
       "      <td>0.0</td>\n",
       "      <td>0</td>\n",
       "      <td>800</td>\n",
       "      <td>clear</td>\n",
       "      <td>sky is clear</td>\n",
       "      <td>01n</td>\n",
       "    </tr>\n",
       "    <tr>\n",
       "      <th>...</th>\n",
       "      <td>...</td>\n",
       "      <td>...</td>\n",
       "      <td>...</td>\n",
       "      <td>...</td>\n",
       "      <td>...</td>\n",
       "      <td>...</td>\n",
       "      <td>...</td>\n",
       "      <td>...</td>\n",
       "      <td>...</td>\n",
       "      <td>...</td>\n",
       "      <td>...</td>\n",
       "      <td>...</td>\n",
       "      <td>...</td>\n",
       "      <td>...</td>\n",
       "      <td>...</td>\n",
       "      <td>...</td>\n",
       "      <td>...</td>\n",
       "    </tr>\n",
       "    <tr>\n",
       "      <th>178391</th>\n",
       "      <td>2018-12-31 19:00:00+01:00</td>\n",
       "      <td>Seville</td>\n",
       "      <td>287.760</td>\n",
       "      <td>287.150</td>\n",
       "      <td>288.150</td>\n",
       "      <td>1028</td>\n",
       "      <td>54</td>\n",
       "      <td>3</td>\n",
       "      <td>30</td>\n",
       "      <td>0.0</td>\n",
       "      <td>0.0</td>\n",
       "      <td>0.0</td>\n",
       "      <td>0</td>\n",
       "      <td>800</td>\n",
       "      <td>clear</td>\n",
       "      <td>sky is clear</td>\n",
       "      <td>01n</td>\n",
       "    </tr>\n",
       "    <tr>\n",
       "      <th>178392</th>\n",
       "      <td>2018-12-31 20:00:00+01:00</td>\n",
       "      <td>Seville</td>\n",
       "      <td>285.760</td>\n",
       "      <td>285.150</td>\n",
       "      <td>286.150</td>\n",
       "      <td>1029</td>\n",
       "      <td>62</td>\n",
       "      <td>3</td>\n",
       "      <td>30</td>\n",
       "      <td>0.0</td>\n",
       "      <td>0.0</td>\n",
       "      <td>0.0</td>\n",
       "      <td>0</td>\n",
       "      <td>800</td>\n",
       "      <td>clear</td>\n",
       "      <td>sky is clear</td>\n",
       "      <td>01n</td>\n",
       "    </tr>\n",
       "    <tr>\n",
       "      <th>178393</th>\n",
       "      <td>2018-12-31 21:00:00+01:00</td>\n",
       "      <td>Seville</td>\n",
       "      <td>285.150</td>\n",
       "      <td>285.150</td>\n",
       "      <td>285.150</td>\n",
       "      <td>1028</td>\n",
       "      <td>58</td>\n",
       "      <td>4</td>\n",
       "      <td>50</td>\n",
       "      <td>0.0</td>\n",
       "      <td>0.0</td>\n",
       "      <td>0.0</td>\n",
       "      <td>0</td>\n",
       "      <td>800</td>\n",
       "      <td>clear</td>\n",
       "      <td>sky is clear</td>\n",
       "      <td>01n</td>\n",
       "    </tr>\n",
       "    <tr>\n",
       "      <th>178394</th>\n",
       "      <td>2018-12-31 22:00:00+01:00</td>\n",
       "      <td>Seville</td>\n",
       "      <td>284.150</td>\n",
       "      <td>284.150</td>\n",
       "      <td>284.150</td>\n",
       "      <td>1029</td>\n",
       "      <td>57</td>\n",
       "      <td>4</td>\n",
       "      <td>60</td>\n",
       "      <td>0.0</td>\n",
       "      <td>0.0</td>\n",
       "      <td>0.0</td>\n",
       "      <td>0</td>\n",
       "      <td>800</td>\n",
       "      <td>clear</td>\n",
       "      <td>sky is clear</td>\n",
       "      <td>01n</td>\n",
       "    </tr>\n",
       "    <tr>\n",
       "      <th>178395</th>\n",
       "      <td>2018-12-31 23:00:00+01:00</td>\n",
       "      <td>Seville</td>\n",
       "      <td>283.970</td>\n",
       "      <td>282.150</td>\n",
       "      <td>285.150</td>\n",
       "      <td>1029</td>\n",
       "      <td>70</td>\n",
       "      <td>3</td>\n",
       "      <td>50</td>\n",
       "      <td>0.0</td>\n",
       "      <td>0.0</td>\n",
       "      <td>0.0</td>\n",
       "      <td>0</td>\n",
       "      <td>800</td>\n",
       "      <td>clear</td>\n",
       "      <td>sky is clear</td>\n",
       "      <td>01n</td>\n",
       "    </tr>\n",
       "  </tbody>\n",
       "</table>\n",
       "<p>178396 rows × 17 columns</p>\n",
       "</div>"
      ],
      "text/plain": [
       "                           dt_iso city_name     temp  temp_min  temp_max  \\\n",
       "0       2015-01-01 00:00:00+01:00  Valencia  270.475   270.475   270.475   \n",
       "1       2015-01-01 01:00:00+01:00  Valencia  270.475   270.475   270.475   \n",
       "2       2015-01-01 02:00:00+01:00  Valencia  269.686   269.686   269.686   \n",
       "3       2015-01-01 03:00:00+01:00  Valencia  269.686   269.686   269.686   \n",
       "4       2015-01-01 04:00:00+01:00  Valencia  269.686   269.686   269.686   \n",
       "...                           ...       ...      ...       ...       ...   \n",
       "178391  2018-12-31 19:00:00+01:00   Seville  287.760   287.150   288.150   \n",
       "178392  2018-12-31 20:00:00+01:00   Seville  285.760   285.150   286.150   \n",
       "178393  2018-12-31 21:00:00+01:00   Seville  285.150   285.150   285.150   \n",
       "178394  2018-12-31 22:00:00+01:00   Seville  284.150   284.150   284.150   \n",
       "178395  2018-12-31 23:00:00+01:00   Seville  283.970   282.150   285.150   \n",
       "\n",
       "        pressure  humidity  wind_speed  wind_deg  rain_1h  rain_3h  snow_3h  \\\n",
       "0           1001        77           1        62      0.0      0.0      0.0   \n",
       "1           1001        77           1        62      0.0      0.0      0.0   \n",
       "2           1002        78           0        23      0.0      0.0      0.0   \n",
       "3           1002        78           0        23      0.0      0.0      0.0   \n",
       "4           1002        78           0        23      0.0      0.0      0.0   \n",
       "...          ...       ...         ...       ...      ...      ...      ...   \n",
       "178391      1028        54           3        30      0.0      0.0      0.0   \n",
       "178392      1029        62           3        30      0.0      0.0      0.0   \n",
       "178393      1028        58           4        50      0.0      0.0      0.0   \n",
       "178394      1029        57           4        60      0.0      0.0      0.0   \n",
       "178395      1029        70           3        50      0.0      0.0      0.0   \n",
       "\n",
       "        clouds_all  weather_id weather_main weather_description weather_icon  \n",
       "0                0         800        clear        sky is clear          01n  \n",
       "1                0         800        clear        sky is clear          01n  \n",
       "2                0         800        clear        sky is clear          01n  \n",
       "3                0         800        clear        sky is clear          01n  \n",
       "4                0         800        clear        sky is clear          01n  \n",
       "...            ...         ...          ...                 ...          ...  \n",
       "178391           0         800        clear        sky is clear          01n  \n",
       "178392           0         800        clear        sky is clear          01n  \n",
       "178393           0         800        clear        sky is clear          01n  \n",
       "178394           0         800        clear        sky is clear          01n  \n",
       "178395           0         800        clear        sky is clear          01n  \n",
       "\n",
       "[178396 rows x 17 columns]"
      ]
     },
     "execution_count": 16,
     "metadata": {},
     "output_type": "execute_result"
    }
   ],
   "source": [
    "df_weather = pd.read_csv(\"weather_features.csv\")\n",
    "df_weather"
   ]
  },
  {
   "cell_type": "markdown",
   "metadata": {},
   "source": [
    "## General Analysis\n"
   ]
  },
  {
   "cell_type": "code",
   "execution_count": 17,
   "metadata": {},
   "outputs": [
    {
     "data": {
      "text/html": [
       "<div>\n",
       "<style scoped>\n",
       "    .dataframe tbody tr th:only-of-type {\n",
       "        vertical-align: middle;\n",
       "    }\n",
       "\n",
       "    .dataframe tbody tr th {\n",
       "        vertical-align: top;\n",
       "    }\n",
       "\n",
       "    .dataframe thead th {\n",
       "        text-align: right;\n",
       "    }\n",
       "</style>\n",
       "<table border=\"1\" class=\"dataframe\">\n",
       "  <thead>\n",
       "    <tr style=\"text-align: right;\">\n",
       "      <th></th>\n",
       "      <th>temp</th>\n",
       "      <th>temp_min</th>\n",
       "      <th>temp_max</th>\n",
       "      <th>pressure</th>\n",
       "      <th>humidity</th>\n",
       "      <th>wind_speed</th>\n",
       "      <th>wind_deg</th>\n",
       "      <th>rain_1h</th>\n",
       "      <th>rain_3h</th>\n",
       "      <th>snow_3h</th>\n",
       "      <th>clouds_all</th>\n",
       "      <th>weather_id</th>\n",
       "    </tr>\n",
       "  </thead>\n",
       "  <tbody>\n",
       "    <tr>\n",
       "      <th>count</th>\n",
       "      <td>178396.000000</td>\n",
       "      <td>178396.000000</td>\n",
       "      <td>178396.000000</td>\n",
       "      <td>1.783960e+05</td>\n",
       "      <td>178396.000000</td>\n",
       "      <td>178396.00000</td>\n",
       "      <td>178396.000000</td>\n",
       "      <td>178396.000000</td>\n",
       "      <td>178396.000000</td>\n",
       "      <td>178396.000000</td>\n",
       "      <td>178396.000000</td>\n",
       "      <td>178396.000000</td>\n",
       "    </tr>\n",
       "    <tr>\n",
       "      <th>mean</th>\n",
       "      <td>289.618605</td>\n",
       "      <td>288.330442</td>\n",
       "      <td>291.091267</td>\n",
       "      <td>1.069261e+03</td>\n",
       "      <td>68.423457</td>\n",
       "      <td>2.47056</td>\n",
       "      <td>166.591190</td>\n",
       "      <td>0.075492</td>\n",
       "      <td>0.000380</td>\n",
       "      <td>0.004763</td>\n",
       "      <td>25.073292</td>\n",
       "      <td>759.831902</td>\n",
       "    </tr>\n",
       "    <tr>\n",
       "      <th>std</th>\n",
       "      <td>8.026199</td>\n",
       "      <td>7.955491</td>\n",
       "      <td>8.612454</td>\n",
       "      <td>5.969632e+03</td>\n",
       "      <td>21.902888</td>\n",
       "      <td>2.09591</td>\n",
       "      <td>116.611927</td>\n",
       "      <td>0.398847</td>\n",
       "      <td>0.007288</td>\n",
       "      <td>0.222604</td>\n",
       "      <td>30.774129</td>\n",
       "      <td>108.733223</td>\n",
       "    </tr>\n",
       "    <tr>\n",
       "      <th>min</th>\n",
       "      <td>262.240000</td>\n",
       "      <td>262.240000</td>\n",
       "      <td>262.240000</td>\n",
       "      <td>0.000000e+00</td>\n",
       "      <td>0.000000</td>\n",
       "      <td>0.00000</td>\n",
       "      <td>0.000000</td>\n",
       "      <td>0.000000</td>\n",
       "      <td>0.000000</td>\n",
       "      <td>0.000000</td>\n",
       "      <td>0.000000</td>\n",
       "      <td>200.000000</td>\n",
       "    </tr>\n",
       "    <tr>\n",
       "      <th>25%</th>\n",
       "      <td>283.670000</td>\n",
       "      <td>282.483602</td>\n",
       "      <td>284.650000</td>\n",
       "      <td>1.013000e+03</td>\n",
       "      <td>53.000000</td>\n",
       "      <td>1.00000</td>\n",
       "      <td>55.000000</td>\n",
       "      <td>0.000000</td>\n",
       "      <td>0.000000</td>\n",
       "      <td>0.000000</td>\n",
       "      <td>0.000000</td>\n",
       "      <td>800.000000</td>\n",
       "    </tr>\n",
       "    <tr>\n",
       "      <th>50%</th>\n",
       "      <td>289.150000</td>\n",
       "      <td>288.150000</td>\n",
       "      <td>290.150000</td>\n",
       "      <td>1.018000e+03</td>\n",
       "      <td>72.000000</td>\n",
       "      <td>2.00000</td>\n",
       "      <td>177.000000</td>\n",
       "      <td>0.000000</td>\n",
       "      <td>0.000000</td>\n",
       "      <td>0.000000</td>\n",
       "      <td>20.000000</td>\n",
       "      <td>800.000000</td>\n",
       "    </tr>\n",
       "    <tr>\n",
       "      <th>75%</th>\n",
       "      <td>295.150000</td>\n",
       "      <td>293.730125</td>\n",
       "      <td>297.150000</td>\n",
       "      <td>1.022000e+03</td>\n",
       "      <td>87.000000</td>\n",
       "      <td>4.00000</td>\n",
       "      <td>270.000000</td>\n",
       "      <td>0.000000</td>\n",
       "      <td>0.000000</td>\n",
       "      <td>0.000000</td>\n",
       "      <td>40.000000</td>\n",
       "      <td>801.000000</td>\n",
       "    </tr>\n",
       "    <tr>\n",
       "      <th>max</th>\n",
       "      <td>315.600000</td>\n",
       "      <td>315.150000</td>\n",
       "      <td>321.150000</td>\n",
       "      <td>1.008371e+06</td>\n",
       "      <td>100.000000</td>\n",
       "      <td>133.00000</td>\n",
       "      <td>360.000000</td>\n",
       "      <td>12.000000</td>\n",
       "      <td>2.315000</td>\n",
       "      <td>21.500000</td>\n",
       "      <td>100.000000</td>\n",
       "      <td>804.000000</td>\n",
       "    </tr>\n",
       "  </tbody>\n",
       "</table>\n",
       "</div>"
      ],
      "text/plain": [
       "                temp       temp_min       temp_max      pressure  \\\n",
       "count  178396.000000  178396.000000  178396.000000  1.783960e+05   \n",
       "mean      289.618605     288.330442     291.091267  1.069261e+03   \n",
       "std         8.026199       7.955491       8.612454  5.969632e+03   \n",
       "min       262.240000     262.240000     262.240000  0.000000e+00   \n",
       "25%       283.670000     282.483602     284.650000  1.013000e+03   \n",
       "50%       289.150000     288.150000     290.150000  1.018000e+03   \n",
       "75%       295.150000     293.730125     297.150000  1.022000e+03   \n",
       "max       315.600000     315.150000     321.150000  1.008371e+06   \n",
       "\n",
       "            humidity    wind_speed       wind_deg        rain_1h  \\\n",
       "count  178396.000000  178396.00000  178396.000000  178396.000000   \n",
       "mean       68.423457       2.47056     166.591190       0.075492   \n",
       "std        21.902888       2.09591     116.611927       0.398847   \n",
       "min         0.000000       0.00000       0.000000       0.000000   \n",
       "25%        53.000000       1.00000      55.000000       0.000000   \n",
       "50%        72.000000       2.00000     177.000000       0.000000   \n",
       "75%        87.000000       4.00000     270.000000       0.000000   \n",
       "max       100.000000     133.00000     360.000000      12.000000   \n",
       "\n",
       "             rain_3h        snow_3h     clouds_all     weather_id  \n",
       "count  178396.000000  178396.000000  178396.000000  178396.000000  \n",
       "mean        0.000380       0.004763      25.073292     759.831902  \n",
       "std         0.007288       0.222604      30.774129     108.733223  \n",
       "min         0.000000       0.000000       0.000000     200.000000  \n",
       "25%         0.000000       0.000000       0.000000     800.000000  \n",
       "50%         0.000000       0.000000      20.000000     800.000000  \n",
       "75%         0.000000       0.000000      40.000000     801.000000  \n",
       "max         2.315000      21.500000     100.000000     804.000000  "
      ]
     },
     "execution_count": 17,
     "metadata": {},
     "output_type": "execute_result"
    }
   ],
   "source": [
    "df_weather.describe()"
   ]
  },
  {
   "cell_type": "code",
   "execution_count": 18,
   "metadata": {},
   "outputs": [
    {
     "data": {
      "image/png": "[encoded data removed]",
      "text/plain": [
       "<Figure size 1800x1080 with 12 Axes>"
      ]
     },
     "metadata": {
      "needs_background": "light"
     },
     "output_type": "display_data"
    }
   ],
   "source": [
    "df_weather.hist(bins=50, figsize=(25, 15))\n",
    "plt.show()"
   ]
  },
  {
   "cell_type": "markdown",
   "metadata": {},
   "source": [
    "## Data Preparation and Analysis\n"
   ]
  },
  {
   "cell_type": "markdown",
   "metadata": {},
   "source": [
    "### Outlier Handling\n"
   ]
  },
  {
   "cell_type": "markdown",
   "metadata": {},
   "source": [
    "- Outliers in:\n",
    "  - pressure\n",
    "  - windspeed\n",
    "- Removing Outliers by masking dataframe\n",
    "- Data with no useful information:\n",
    "  - temp_min\n",
    "  - temp_max\n",
    "  - rain_1h\n",
    "  - rain_3h\n",
    "  - snow_3h\n",
    "  - clouds_all\n",
    "  - weather_id\n",
    "  - weather_main\n",
    "  - weather_description\n",
    "  - weather_icon\n"
   ]
  },
  {
   "cell_type": "code",
   "execution_count": 19,
   "metadata": {},
   "outputs": [],
   "source": [
    "# Removing outliers with upper and lower treshhold\n",
    "df_weather[\"pressure\"].mask(df_weather[\"pressure\"] >= 1.1e3, inplace=True)\n",
    "df_weather[\"pressure\"].mask(df_weather[\"pressure\"] <= 0.9e3, inplace=True)\n",
    "df_weather[\"wind_speed\"].mask(df_weather[\"wind_speed\"] >= 15, inplace=True)\n",
    "\n",
    "# interpolating missing data\n",
    "df_weather.interpolate(inplace=True)\n",
    "\n",
    "# dropping columns with no useful data\n",
    "df_weather = remove_columns(\n",
    "    df_weather,\n",
    "    [\n",
    "        \"temp_min\",\n",
    "        \"temp_max\",\n",
    "        \"rain_1h\",\n",
    "        \"rain_3h\",\n",
    "        \"snow_3h\",\n",
    "        \"clouds_all\",\n",
    "        \"weather_id\",\n",
    "        \"weather_main\",\n",
    "        \"weather_description\",\n",
    "        \"weather_icon\",\n",
    "    ],\n",
    ")\n",
    "\n",
    "weather_parameters = [x for x in df_weather.columns]"
   ]
  },
  {
   "cell_type": "code",
   "execution_count": 20,
   "metadata": {},
   "outputs": [
    {
     "data": {
      "text/html": [
       "<div>\n",
       "<style scoped>\n",
       "    .dataframe tbody tr th:only-of-type {\n",
       "        vertical-align: middle;\n",
       "    }\n",
       "\n",
       "    .dataframe tbody tr th {\n",
       "        vertical-align: top;\n",
       "    }\n",
       "\n",
       "    .dataframe thead th {\n",
       "        text-align: right;\n",
       "    }\n",
       "</style>\n",
       "<table border=\"1\" class=\"dataframe\">\n",
       "  <thead>\n",
       "    <tr style=\"text-align: right;\">\n",
       "      <th></th>\n",
       "      <th>temp</th>\n",
       "      <th>pressure</th>\n",
       "      <th>humidity</th>\n",
       "      <th>wind_speed</th>\n",
       "      <th>wind_deg</th>\n",
       "    </tr>\n",
       "  </thead>\n",
       "  <tbody>\n",
       "    <tr>\n",
       "      <th>count</th>\n",
       "      <td>178396.000000</td>\n",
       "      <td>178396.000000</td>\n",
       "      <td>178396.000000</td>\n",
       "      <td>178396.000000</td>\n",
       "      <td>178396.000000</td>\n",
       "    </tr>\n",
       "    <tr>\n",
       "      <th>mean</th>\n",
       "      <td>289.618605</td>\n",
       "      <td>1016.206927</td>\n",
       "      <td>68.423457</td>\n",
       "      <td>2.462953</td>\n",
       "      <td>166.591190</td>\n",
       "    </tr>\n",
       "    <tr>\n",
       "      <th>std</th>\n",
       "      <td>8.026199</td>\n",
       "      <td>12.448205</td>\n",
       "      <td>21.902888</td>\n",
       "      <td>2.024503</td>\n",
       "      <td>116.611927</td>\n",
       "    </tr>\n",
       "    <tr>\n",
       "      <th>min</th>\n",
       "      <td>262.240000</td>\n",
       "      <td>918.000000</td>\n",
       "      <td>0.000000</td>\n",
       "      <td>0.000000</td>\n",
       "      <td>0.000000</td>\n",
       "    </tr>\n",
       "    <tr>\n",
       "      <th>25%</th>\n",
       "      <td>283.670000</td>\n",
       "      <td>1013.000000</td>\n",
       "      <td>53.000000</td>\n",
       "      <td>1.000000</td>\n",
       "      <td>55.000000</td>\n",
       "    </tr>\n",
       "    <tr>\n",
       "      <th>50%</th>\n",
       "      <td>289.150000</td>\n",
       "      <td>1018.000000</td>\n",
       "      <td>72.000000</td>\n",
       "      <td>2.000000</td>\n",
       "      <td>177.000000</td>\n",
       "    </tr>\n",
       "    <tr>\n",
       "      <th>75%</th>\n",
       "      <td>295.150000</td>\n",
       "      <td>1022.000000</td>\n",
       "      <td>87.000000</td>\n",
       "      <td>4.000000</td>\n",
       "      <td>270.000000</td>\n",
       "    </tr>\n",
       "    <tr>\n",
       "      <th>max</th>\n",
       "      <td>315.600000</td>\n",
       "      <td>1090.000000</td>\n",
       "      <td>100.000000</td>\n",
       "      <td>14.000000</td>\n",
       "      <td>360.000000</td>\n",
       "    </tr>\n",
       "  </tbody>\n",
       "</table>\n",
       "</div>"
      ],
      "text/plain": [
       "                temp       pressure       humidity     wind_speed  \\\n",
       "count  178396.000000  178396.000000  178396.000000  178396.000000   \n",
       "mean      289.618605    1016.206927      68.423457       2.462953   \n",
       "std         8.026199      12.448205      21.902888       2.024503   \n",
       "min       262.240000     918.000000       0.000000       0.000000   \n",
       "25%       283.670000    1013.000000      53.000000       1.000000   \n",
       "50%       289.150000    1018.000000      72.000000       2.000000   \n",
       "75%       295.150000    1022.000000      87.000000       4.000000   \n",
       "max       315.600000    1090.000000     100.000000      14.000000   \n",
       "\n",
       "            wind_deg  \n",
       "count  178396.000000  \n",
       "mean      166.591190  \n",
       "std       116.611927  \n",
       "min         0.000000  \n",
       "25%        55.000000  \n",
       "50%       177.000000  \n",
       "75%       270.000000  \n",
       "max       360.000000  "
      ]
     },
     "execution_count": 20,
     "metadata": {},
     "output_type": "execute_result"
    }
   ],
   "source": [
    "df_weather.describe()"
   ]
  },
  {
   "cell_type": "code",
   "execution_count": 21,
   "metadata": {},
   "outputs": [
    {
     "data": {
      "image/png": "[encoded data removed]",
      "text/plain": [
       "<Figure size 1800x1080 with 6 Axes>"
      ]
     },
     "metadata": {
      "needs_background": "light"
     },
     "output_type": "display_data"
    }
   ],
   "source": [
    "df_weather.hist(bins=50, figsize=(25, 15))\n",
    "plt.show()"
   ]
  },
  {
   "cell_type": "markdown",
   "metadata": {},
   "source": [
    "### Splitting into city data\n"
   ]
  },
  {
   "cell_type": "code",
   "execution_count": 22,
   "metadata": {},
   "outputs": [],
   "source": [
    "city_list = [\"Valencia\", \"Madrid\", \"Bilbao\", \"Barcelona\", \"Seville\"]\n",
    "df_weather[\"temp\"] = df_weather[\"temp\"].apply(lambda x: x - 273.15)\n",
    "df_cities = [df_weather.query(f\"city_name == '{x}'\") for x in df_weather.city_name.unique()]\n",
    "\n",
    "for i, df in enumerate(df_cities):\n",
    "    df_cities[i] = set_timestamp_index(df.copy(deep=True), \"dt_iso\")"
   ]
  },
  {
   "cell_type": "code",
   "execution_count": 23,
   "metadata": {},
   "outputs": [
    {
     "name": "stdout",
     "output_type": "stream",
     "text": [
      "Length of the Valencia DataFrame:  35145\n",
      "Length of the Madrid DataFrame:  36267\n",
      "Length of the Bilbao DataFrame:  35951\n",
      "Length of the Barcelona DataFrame:  35476\n",
      "Length of the Seville DataFrame:  35557\n"
     ]
    }
   ],
   "source": [
    "for name, df in zip(city_list, df_cities):\n",
    "    print(f\"Length of the {name} DataFrame: \", len(df))"
   ]
  },
  {
   "cell_type": "markdown",
   "metadata": {},
   "source": [
    "### Cleaning timeseries\n"
   ]
  },
  {
   "cell_type": "code",
   "execution_count": 24,
   "metadata": {},
   "outputs": [
    {
     "data": {
      "text/html": [
       "<div>\n",
       "<style scoped>\n",
       "    .dataframe tbody tr th:only-of-type {\n",
       "        vertical-align: middle;\n",
       "    }\n",
       "\n",
       "    .dataframe tbody tr th {\n",
       "        vertical-align: top;\n",
       "    }\n",
       "\n",
       "    .dataframe thead th {\n",
       "        text-align: right;\n",
       "    }\n",
       "</style>\n",
       "<table border=\"1\" class=\"dataframe\">\n",
       "  <thead>\n",
       "    <tr style=\"text-align: right;\">\n",
       "      <th></th>\n",
       "      <th>city_name</th>\n",
       "      <th>temp</th>\n",
       "      <th>temp_min</th>\n",
       "      <th>temp_max</th>\n",
       "      <th>pressure</th>\n",
       "      <th>humidity</th>\n",
       "      <th>wind_speed</th>\n",
       "      <th>wind_deg</th>\n",
       "      <th>rain_1h</th>\n",
       "      <th>rain_3h</th>\n",
       "      <th>snow_3h</th>\n",
       "      <th>clouds_all</th>\n",
       "      <th>weather_id</th>\n",
       "      <th>weather_main</th>\n",
       "      <th>weather_description</th>\n",
       "      <th>weather_icon</th>\n",
       "    </tr>\n",
       "  </thead>\n",
       "  <tbody>\n",
       "    <tr>\n",
       "      <th>2015-01-06 04:00:00+01:00</th>\n",
       "      <td>Valencia</td>\n",
       "      <td>273.142</td>\n",
       "      <td>273.142</td>\n",
       "      <td>273.142</td>\n",
       "      <td>995</td>\n",
       "      <td>86</td>\n",
       "      <td>1</td>\n",
       "      <td>265</td>\n",
       "      <td>0.0</td>\n",
       "      <td>0.0</td>\n",
       "      <td>0.0</td>\n",
       "      <td>0</td>\n",
       "      <td>800</td>\n",
       "      <td>clear</td>\n",
       "      <td>sky is clear</td>\n",
       "      <td>01n</td>\n",
       "    </tr>\n",
       "    <tr>\n",
       "      <th>2015-01-06 04:00:00+01:00</th>\n",
       "      <td>Valencia</td>\n",
       "      <td>273.142</td>\n",
       "      <td>273.142</td>\n",
       "      <td>273.142</td>\n",
       "      <td>995</td>\n",
       "      <td>86</td>\n",
       "      <td>1</td>\n",
       "      <td>265</td>\n",
       "      <td>0.0</td>\n",
       "      <td>0.0</td>\n",
       "      <td>0.0</td>\n",
       "      <td>0</td>\n",
       "      <td>800</td>\n",
       "      <td>clear</td>\n",
       "      <td>sky is clear</td>\n",
       "      <td>01n</td>\n",
       "    </tr>\n",
       "    <tr>\n",
       "      <th>2015-06-15 21:00:00+02:00</th>\n",
       "      <td>Valencia</td>\n",
       "      <td>289.610</td>\n",
       "      <td>288.650</td>\n",
       "      <td>290.930</td>\n",
       "      <td>1018</td>\n",
       "      <td>100</td>\n",
       "      <td>3</td>\n",
       "      <td>330</td>\n",
       "      <td>0.9</td>\n",
       "      <td>0.0</td>\n",
       "      <td>0.0</td>\n",
       "      <td>75</td>\n",
       "      <td>501</td>\n",
       "      <td>rain</td>\n",
       "      <td>moderate rain</td>\n",
       "      <td>10d</td>\n",
       "    </tr>\n",
       "    <tr>\n",
       "      <th>2015-06-15 21:00:00+02:00</th>\n",
       "      <td>Valencia</td>\n",
       "      <td>289.610</td>\n",
       "      <td>288.650</td>\n",
       "      <td>290.930</td>\n",
       "      <td>1018</td>\n",
       "      <td>100</td>\n",
       "      <td>3</td>\n",
       "      <td>330</td>\n",
       "      <td>0.9</td>\n",
       "      <td>0.0</td>\n",
       "      <td>0.0</td>\n",
       "      <td>75</td>\n",
       "      <td>200</td>\n",
       "      <td>thunderstorm</td>\n",
       "      <td>thunderstorm with light rain</td>\n",
       "      <td>11d</td>\n",
       "    </tr>\n",
       "    <tr>\n",
       "      <th>2015-06-15 22:00:00+02:00</th>\n",
       "      <td>Valencia</td>\n",
       "      <td>289.240</td>\n",
       "      <td>288.150</td>\n",
       "      <td>290.370</td>\n",
       "      <td>1018</td>\n",
       "      <td>100</td>\n",
       "      <td>2</td>\n",
       "      <td>300</td>\n",
       "      <td>0.9</td>\n",
       "      <td>0.0</td>\n",
       "      <td>0.0</td>\n",
       "      <td>75</td>\n",
       "      <td>501</td>\n",
       "      <td>rain</td>\n",
       "      <td>moderate rain</td>\n",
       "      <td>10n</td>\n",
       "    </tr>\n",
       "    <tr>\n",
       "      <th>...</th>\n",
       "      <td>...</td>\n",
       "      <td>...</td>\n",
       "      <td>...</td>\n",
       "      <td>...</td>\n",
       "      <td>...</td>\n",
       "      <td>...</td>\n",
       "      <td>...</td>\n",
       "      <td>...</td>\n",
       "      <td>...</td>\n",
       "      <td>...</td>\n",
       "      <td>...</td>\n",
       "      <td>...</td>\n",
       "      <td>...</td>\n",
       "      <td>...</td>\n",
       "      <td>...</td>\n",
       "      <td>...</td>\n",
       "    </tr>\n",
       "    <tr>\n",
       "      <th>2018-11-16 21:00:00+01:00</th>\n",
       "      <td>Valencia</td>\n",
       "      <td>290.150</td>\n",
       "      <td>290.150</td>\n",
       "      <td>290.150</td>\n",
       "      <td>1019</td>\n",
       "      <td>93</td>\n",
       "      <td>3</td>\n",
       "      <td>40</td>\n",
       "      <td>0.3</td>\n",
       "      <td>0.0</td>\n",
       "      <td>0.0</td>\n",
       "      <td>75</td>\n",
       "      <td>520</td>\n",
       "      <td>rain</td>\n",
       "      <td>light intensity shower rain</td>\n",
       "      <td>09n</td>\n",
       "    </tr>\n",
       "    <tr>\n",
       "      <th>2018-12-13 08:00:00+01:00</th>\n",
       "      <td>Valencia</td>\n",
       "      <td>285.140</td>\n",
       "      <td>284.150</td>\n",
       "      <td>286.150</td>\n",
       "      <td>1011</td>\n",
       "      <td>76</td>\n",
       "      <td>4</td>\n",
       "      <td>270</td>\n",
       "      <td>0.3</td>\n",
       "      <td>0.0</td>\n",
       "      <td>0.0</td>\n",
       "      <td>40</td>\n",
       "      <td>500</td>\n",
       "      <td>rain</td>\n",
       "      <td>light rain</td>\n",
       "      <td>10n</td>\n",
       "    </tr>\n",
       "    <tr>\n",
       "      <th>2018-12-13 08:00:00+01:00</th>\n",
       "      <td>Valencia</td>\n",
       "      <td>285.140</td>\n",
       "      <td>284.150</td>\n",
       "      <td>286.150</td>\n",
       "      <td>1011</td>\n",
       "      <td>76</td>\n",
       "      <td>4</td>\n",
       "      <td>270</td>\n",
       "      <td>0.3</td>\n",
       "      <td>0.0</td>\n",
       "      <td>0.0</td>\n",
       "      <td>40</td>\n",
       "      <td>701</td>\n",
       "      <td>mist</td>\n",
       "      <td>mist</td>\n",
       "      <td>50n</td>\n",
       "    </tr>\n",
       "    <tr>\n",
       "      <th>2018-12-13 09:00:00+01:00</th>\n",
       "      <td>Valencia</td>\n",
       "      <td>283.640</td>\n",
       "      <td>283.150</td>\n",
       "      <td>284.150</td>\n",
       "      <td>1010</td>\n",
       "      <td>93</td>\n",
       "      <td>2</td>\n",
       "      <td>270</td>\n",
       "      <td>0.3</td>\n",
       "      <td>0.0</td>\n",
       "      <td>0.0</td>\n",
       "      <td>40</td>\n",
       "      <td>500</td>\n",
       "      <td>rain</td>\n",
       "      <td>light rain</td>\n",
       "      <td>10d</td>\n",
       "    </tr>\n",
       "    <tr>\n",
       "      <th>2018-12-13 09:00:00+01:00</th>\n",
       "      <td>Valencia</td>\n",
       "      <td>283.640</td>\n",
       "      <td>283.150</td>\n",
       "      <td>284.150</td>\n",
       "      <td>1010</td>\n",
       "      <td>93</td>\n",
       "      <td>2</td>\n",
       "      <td>270</td>\n",
       "      <td>0.3</td>\n",
       "      <td>0.0</td>\n",
       "      <td>0.0</td>\n",
       "      <td>40</td>\n",
       "      <td>701</td>\n",
       "      <td>mist</td>\n",
       "      <td>mist</td>\n",
       "      <td>50d</td>\n",
       "    </tr>\n",
       "  </tbody>\n",
       "</table>\n",
       "<p>162 rows × 16 columns</p>\n",
       "</div>"
      ],
      "text/plain": [
       "                          city_name     temp  temp_min  temp_max  pressure  \\\n",
       "2015-01-06 04:00:00+01:00  Valencia  273.142   273.142   273.142       995   \n",
       "2015-01-06 04:00:00+01:00  Valencia  273.142   273.142   273.142       995   \n",
       "2015-06-15 21:00:00+02:00  Valencia  289.610   288.650   290.930      1018   \n",
       "2015-06-15 21:00:00+02:00  Valencia  289.610   288.650   290.930      1018   \n",
       "2015-06-15 22:00:00+02:00  Valencia  289.240   288.150   290.370      1018   \n",
       "...                             ...      ...       ...       ...       ...   \n",
       "2018-11-16 21:00:00+01:00  Valencia  290.150   290.150   290.150      1019   \n",
       "2018-12-13 08:00:00+01:00  Valencia  285.140   284.150   286.150      1011   \n",
       "2018-12-13 08:00:00+01:00  Valencia  285.140   284.150   286.150      1011   \n",
       "2018-12-13 09:00:00+01:00  Valencia  283.640   283.150   284.150      1010   \n",
       "2018-12-13 09:00:00+01:00  Valencia  283.640   283.150   284.150      1010   \n",
       "\n",
       "                           humidity  wind_speed  wind_deg  rain_1h  rain_3h  \\\n",
       "2015-01-06 04:00:00+01:00        86           1       265      0.0      0.0   \n",
       "2015-01-06 04:00:00+01:00        86           1       265      0.0      0.0   \n",
       "2015-06-15 21:00:00+02:00       100           3       330      0.9      0.0   \n",
       "2015-06-15 21:00:00+02:00       100           3       330      0.9      0.0   \n",
       "2015-06-15 22:00:00+02:00       100           2       300      0.9      0.0   \n",
       "...                             ...         ...       ...      ...      ...   \n",
       "2018-11-16 21:00:00+01:00        93           3        40      0.3      0.0   \n",
       "2018-12-13 08:00:00+01:00        76           4       270      0.3      0.0   \n",
       "2018-12-13 08:00:00+01:00        76           4       270      0.3      0.0   \n",
       "2018-12-13 09:00:00+01:00        93           2       270      0.3      0.0   \n",
       "2018-12-13 09:00:00+01:00        93           2       270      0.3      0.0   \n",
       "\n",
       "                           snow_3h  clouds_all  weather_id  weather_main  \\\n",
       "2015-01-06 04:00:00+01:00      0.0           0         800         clear   \n",
       "2015-01-06 04:00:00+01:00      0.0           0         800         clear   \n",
       "2015-06-15 21:00:00+02:00      0.0          75         501          rain   \n",
       "2015-06-15 21:00:00+02:00      0.0          75         200  thunderstorm   \n",
       "2015-06-15 22:00:00+02:00      0.0          75         501          rain   \n",
       "...                            ...         ...         ...           ...   \n",
       "2018-11-16 21:00:00+01:00      0.0          75         520          rain   \n",
       "2018-12-13 08:00:00+01:00      0.0          40         500          rain   \n",
       "2018-12-13 08:00:00+01:00      0.0          40         701          mist   \n",
       "2018-12-13 09:00:00+01:00      0.0          40         500          rain   \n",
       "2018-12-13 09:00:00+01:00      0.0          40         701          mist   \n",
       "\n",
       "                                    weather_description weather_icon  \n",
       "2015-01-06 04:00:00+01:00                  sky is clear          01n  \n",
       "2015-01-06 04:00:00+01:00                  sky is clear          01n  \n",
       "2015-06-15 21:00:00+02:00                 moderate rain          10d  \n",
       "2015-06-15 21:00:00+02:00  thunderstorm with light rain          11d  \n",
       "2015-06-15 22:00:00+02:00                 moderate rain          10n  \n",
       "...                                                 ...          ...  \n",
       "2018-11-16 21:00:00+01:00   light intensity shower rain          09n  \n",
       "2018-12-13 08:00:00+01:00                    light rain          10n  \n",
       "2018-12-13 08:00:00+01:00                          mist          50n  \n",
       "2018-12-13 09:00:00+01:00                    light rain          10d  \n",
       "2018-12-13 09:00:00+01:00                          mist          50d  \n",
       "\n",
       "[162 rows x 16 columns]"
      ]
     },
     "execution_count": 24,
     "metadata": {},
     "output_type": "execute_result"
    }
   ],
   "source": [
    "df_city_duplicates = display_double_timestamps()\n",
    "df_valencia_duplicates = df_city_duplicates[0]\n",
    "df_valencia_duplicates"
   ]
  },
  {
   "cell_type": "markdown",
   "metadata": {},
   "source": [
    "As you can see in the DataFrame the difference mostly occours due to a slight weather change within the hour timestamp.\n"
   ]
  },
  {
   "cell_type": "code",
   "execution_count": 25,
   "metadata": {},
   "outputs": [
    {
     "name": "stdout",
     "output_type": "stream",
     "text": [
      "Length of the Valencia DataFrame:  35064\n",
      "Length of the Madrid DataFrame:  35064\n",
      "Length of the Bilbao DataFrame:  35064\n",
      "Length of the Barcelona DataFrame:  35064\n",
      "Length of the Seville DataFrame:  35064\n"
     ]
    }
   ],
   "source": [
    "for i, item in enumerate(df_cities):\n",
    "    df_cities[i] = remove_duplicates(item)\n",
    "\n",
    "for name, df in zip(city_list, df_cities):\n",
    "    print(f\"Length of the {name} DataFrame: \", len(df))\n",
    "\n",
    "df_valencia = df_cities[0]\n",
    "df_madrid = df_cities[1]\n",
    "df_bilbao = df_cities[2]\n",
    "df_barcelona = df_cities[3]\n",
    "df_seville = df_cities[4]"
   ]
  },
  {
   "cell_type": "markdown",
   "metadata": {},
   "source": [
    "# Feature Engineering\n"
   ]
  },
  {
   "cell_type": "code",
   "execution_count": 26,
   "metadata": {},
   "outputs": [],
   "source": [
    "combined_df = pd.concat([df_valencia, df_energy], axis=1)\n",
    "combined_df = remove_columns(combined_df, [\"city_name\"])"
   ]
  },
  {
   "cell_type": "markdown",
   "metadata": {},
   "source": [
    "## General Feature Extension\n"
   ]
  },
  {
   "cell_type": "code",
   "execution_count": 27,
   "metadata": {},
   "outputs": [],
   "source": [
    "combined_df[\"generation\"] = combined_df[generation_parameters].sum(axis=1)\n",
    "combined_df[\"energy_difference\"] = (combined_df[\"generation\"] - combined_df[\"total load actual\"])"
   ]
  },
  {
   "cell_type": "markdown",
   "metadata": {},
   "source": [
    "## Time Feature Extension\n"
   ]
  },
  {
   "cell_type": "code",
   "execution_count": 28,
   "metadata": {},
   "outputs": [
    {
     "data": {
      "text/html": [
       "<div>\n",
       "<style scoped>\n",
       "    .dataframe tbody tr th:only-of-type {\n",
       "        vertical-align: middle;\n",
       "    }\n",
       "\n",
       "    .dataframe tbody tr th {\n",
       "        vertical-align: top;\n",
       "    }\n",
       "\n",
       "    .dataframe thead th {\n",
       "        text-align: right;\n",
       "    }\n",
       "</style>\n",
       "<table border=\"1\" class=\"dataframe\">\n",
       "  <thead>\n",
       "    <tr style=\"text-align: right;\">\n",
       "      <th></th>\n",
       "      <th>temp</th>\n",
       "      <th>pressure</th>\n",
       "      <th>humidity</th>\n",
       "      <th>wind_speed</th>\n",
       "      <th>wind_deg</th>\n",
       "      <th>generation biomass</th>\n",
       "      <th>generation fossil brown coal/lignite</th>\n",
       "      <th>generation fossil gas</th>\n",
       "      <th>generation fossil hard coal</th>\n",
       "      <th>generation fossil oil</th>\n",
       "      <th>...</th>\n",
       "      <th>generation solar</th>\n",
       "      <th>generation waste</th>\n",
       "      <th>generation wind onshore</th>\n",
       "      <th>total load actual</th>\n",
       "      <th>price actual</th>\n",
       "      <th>generation</th>\n",
       "      <th>energy_difference</th>\n",
       "      <th>month</th>\n",
       "      <th>day</th>\n",
       "      <th>weekend</th>\n",
       "    </tr>\n",
       "  </thead>\n",
       "  <tbody>\n",
       "    <tr>\n",
       "      <th>2015-01-01 00:00:00+01:00</th>\n",
       "      <td>-2.675</td>\n",
       "      <td>1001.0</td>\n",
       "      <td>77</td>\n",
       "      <td>1.0</td>\n",
       "      <td>62</td>\n",
       "      <td>447.0</td>\n",
       "      <td>329.0</td>\n",
       "      <td>4844.0</td>\n",
       "      <td>4821.0</td>\n",
       "      <td>162.0</td>\n",
       "      <td>...</td>\n",
       "      <td>49.0</td>\n",
       "      <td>196.0</td>\n",
       "      <td>6378.0</td>\n",
       "      <td>25385.0</td>\n",
       "      <td>65.41</td>\n",
       "      <td>28251.0</td>\n",
       "      <td>2866.0</td>\n",
       "      <td>1</td>\n",
       "      <td>1</td>\n",
       "      <td>0</td>\n",
       "    </tr>\n",
       "    <tr>\n",
       "      <th>2015-01-01 01:00:00+01:00</th>\n",
       "      <td>-2.675</td>\n",
       "      <td>1001.0</td>\n",
       "      <td>77</td>\n",
       "      <td>1.0</td>\n",
       "      <td>62</td>\n",
       "      <td>449.0</td>\n",
       "      <td>328.0</td>\n",
       "      <td>5196.0</td>\n",
       "      <td>4755.0</td>\n",
       "      <td>158.0</td>\n",
       "      <td>...</td>\n",
       "      <td>50.0</td>\n",
       "      <td>195.0</td>\n",
       "      <td>5890.0</td>\n",
       "      <td>24382.0</td>\n",
       "      <td>64.92</td>\n",
       "      <td>27818.0</td>\n",
       "      <td>3436.0</td>\n",
       "      <td>1</td>\n",
       "      <td>1</td>\n",
       "      <td>0</td>\n",
       "    </tr>\n",
       "    <tr>\n",
       "      <th>2015-01-01 02:00:00+01:00</th>\n",
       "      <td>-3.464</td>\n",
       "      <td>1002.0</td>\n",
       "      <td>78</td>\n",
       "      <td>0.0</td>\n",
       "      <td>23</td>\n",
       "      <td>448.0</td>\n",
       "      <td>323.0</td>\n",
       "      <td>4857.0</td>\n",
       "      <td>4581.0</td>\n",
       "      <td>157.0</td>\n",
       "      <td>...</td>\n",
       "      <td>50.0</td>\n",
       "      <td>196.0</td>\n",
       "      <td>5461.0</td>\n",
       "      <td>22734.0</td>\n",
       "      <td>64.48</td>\n",
       "      <td>26796.0</td>\n",
       "      <td>4062.0</td>\n",
       "      <td>1</td>\n",
       "      <td>1</td>\n",
       "      <td>0</td>\n",
       "    </tr>\n",
       "    <tr>\n",
       "      <th>2015-01-01 03:00:00+01:00</th>\n",
       "      <td>-3.464</td>\n",
       "      <td>1002.0</td>\n",
       "      <td>78</td>\n",
       "      <td>0.0</td>\n",
       "      <td>23</td>\n",
       "      <td>438.0</td>\n",
       "      <td>254.0</td>\n",
       "      <td>4314.0</td>\n",
       "      <td>4131.0</td>\n",
       "      <td>160.0</td>\n",
       "      <td>...</td>\n",
       "      <td>50.0</td>\n",
       "      <td>191.0</td>\n",
       "      <td>5238.0</td>\n",
       "      <td>21286.0</td>\n",
       "      <td>59.32</td>\n",
       "      <td>25223.0</td>\n",
       "      <td>3937.0</td>\n",
       "      <td>1</td>\n",
       "      <td>1</td>\n",
       "      <td>0</td>\n",
       "    </tr>\n",
       "    <tr>\n",
       "      <th>2015-01-01 04:00:00+01:00</th>\n",
       "      <td>-3.464</td>\n",
       "      <td>1002.0</td>\n",
       "      <td>78</td>\n",
       "      <td>0.0</td>\n",
       "      <td>23</td>\n",
       "      <td>428.0</td>\n",
       "      <td>187.0</td>\n",
       "      <td>4130.0</td>\n",
       "      <td>3840.0</td>\n",
       "      <td>156.0</td>\n",
       "      <td>...</td>\n",
       "      <td>42.0</td>\n",
       "      <td>189.0</td>\n",
       "      <td>4935.0</td>\n",
       "      <td>20264.0</td>\n",
       "      <td>56.04</td>\n",
       "      <td>24620.0</td>\n",
       "      <td>4356.0</td>\n",
       "      <td>1</td>\n",
       "      <td>1</td>\n",
       "      <td>0</td>\n",
       "    </tr>\n",
       "    <tr>\n",
       "      <th>...</th>\n",
       "      <td>...</td>\n",
       "      <td>...</td>\n",
       "      <td>...</td>\n",
       "      <td>...</td>\n",
       "      <td>...</td>\n",
       "      <td>...</td>\n",
       "      <td>...</td>\n",
       "      <td>...</td>\n",
       "      <td>...</td>\n",
       "      <td>...</td>\n",
       "      <td>...</td>\n",
       "      <td>...</td>\n",
       "      <td>...</td>\n",
       "      <td>...</td>\n",
       "      <td>...</td>\n",
       "      <td>...</td>\n",
       "      <td>...</td>\n",
       "      <td>...</td>\n",
       "      <td>...</td>\n",
       "      <td>...</td>\n",
       "      <td>...</td>\n",
       "    </tr>\n",
       "    <tr>\n",
       "      <th>2018-12-31 19:00:00+01:00</th>\n",
       "      <td>12.490</td>\n",
       "      <td>1028.0</td>\n",
       "      <td>62</td>\n",
       "      <td>2.0</td>\n",
       "      <td>140</td>\n",
       "      <td>297.0</td>\n",
       "      <td>0.0</td>\n",
       "      <td>7634.0</td>\n",
       "      <td>2628.0</td>\n",
       "      <td>178.0</td>\n",
       "      <td>...</td>\n",
       "      <td>85.0</td>\n",
       "      <td>277.0</td>\n",
       "      <td>3113.0</td>\n",
       "      <td>30653.0</td>\n",
       "      <td>77.02</td>\n",
       "      <td>26415.0</td>\n",
       "      <td>-4238.0</td>\n",
       "      <td>12</td>\n",
       "      <td>31</td>\n",
       "      <td>0</td>\n",
       "    </tr>\n",
       "    <tr>\n",
       "      <th>2018-12-31 20:00:00+01:00</th>\n",
       "      <td>9.990</td>\n",
       "      <td>1029.0</td>\n",
       "      <td>71</td>\n",
       "      <td>1.0</td>\n",
       "      <td>242</td>\n",
       "      <td>296.0</td>\n",
       "      <td>0.0</td>\n",
       "      <td>7241.0</td>\n",
       "      <td>2566.0</td>\n",
       "      <td>174.0</td>\n",
       "      <td>...</td>\n",
       "      <td>33.0</td>\n",
       "      <td>280.0</td>\n",
       "      <td>3288.0</td>\n",
       "      <td>29735.0</td>\n",
       "      <td>76.16</td>\n",
       "      <td>25213.0</td>\n",
       "      <td>-4522.0</td>\n",
       "      <td>12</td>\n",
       "      <td>31</td>\n",
       "      <td>0</td>\n",
       "    </tr>\n",
       "    <tr>\n",
       "      <th>2018-12-31 21:00:00+01:00</th>\n",
       "      <td>8.510</td>\n",
       "      <td>1029.0</td>\n",
       "      <td>81</td>\n",
       "      <td>3.0</td>\n",
       "      <td>300</td>\n",
       "      <td>292.0</td>\n",
       "      <td>0.0</td>\n",
       "      <td>7025.0</td>\n",
       "      <td>2422.0</td>\n",
       "      <td>168.0</td>\n",
       "      <td>...</td>\n",
       "      <td>31.0</td>\n",
       "      <td>286.0</td>\n",
       "      <td>3503.0</td>\n",
       "      <td>28071.0</td>\n",
       "      <td>74.30</td>\n",
       "      <td>23987.0</td>\n",
       "      <td>-4084.0</td>\n",
       "      <td>12</td>\n",
       "      <td>31</td>\n",
       "      <td>0</td>\n",
       "    </tr>\n",
       "    <tr>\n",
       "      <th>2018-12-31 22:00:00+01:00</th>\n",
       "      <td>6.990</td>\n",
       "      <td>1029.0</td>\n",
       "      <td>81</td>\n",
       "      <td>2.0</td>\n",
       "      <td>310</td>\n",
       "      <td>293.0</td>\n",
       "      <td>0.0</td>\n",
       "      <td>6562.0</td>\n",
       "      <td>2293.0</td>\n",
       "      <td>163.0</td>\n",
       "      <td>...</td>\n",
       "      <td>31.0</td>\n",
       "      <td>287.0</td>\n",
       "      <td>3586.0</td>\n",
       "      <td>25801.0</td>\n",
       "      <td>69.89</td>\n",
       "      <td>22748.0</td>\n",
       "      <td>-3053.0</td>\n",
       "      <td>12</td>\n",
       "      <td>31</td>\n",
       "      <td>0</td>\n",
       "    </tr>\n",
       "    <tr>\n",
       "      <th>2018-12-31 23:00:00+01:00</th>\n",
       "      <td>5.990</td>\n",
       "      <td>1029.0</td>\n",
       "      <td>75</td>\n",
       "      <td>2.0</td>\n",
       "      <td>300</td>\n",
       "      <td>290.0</td>\n",
       "      <td>0.0</td>\n",
       "      <td>6926.0</td>\n",
       "      <td>2166.0</td>\n",
       "      <td>163.0</td>\n",
       "      <td>...</td>\n",
       "      <td>31.0</td>\n",
       "      <td>287.0</td>\n",
       "      <td>3651.0</td>\n",
       "      <td>24455.0</td>\n",
       "      <td>69.88</td>\n",
       "      <td>22605.0</td>\n",
       "      <td>-1850.0</td>\n",
       "      <td>12</td>\n",
       "      <td>31</td>\n",
       "      <td>0</td>\n",
       "    </tr>\n",
       "  </tbody>\n",
       "</table>\n",
       "<p>35064 rows × 26 columns</p>\n",
       "</div>"
      ],
      "text/plain": [
       "                             temp  pressure  humidity  wind_speed  wind_deg  \\\n",
       "2015-01-01 00:00:00+01:00  -2.675    1001.0        77         1.0        62   \n",
       "2015-01-01 01:00:00+01:00  -2.675    1001.0        77         1.0        62   \n",
       "2015-01-01 02:00:00+01:00  -3.464    1002.0        78         0.0        23   \n",
       "2015-01-01 03:00:00+01:00  -3.464    1002.0        78         0.0        23   \n",
       "2015-01-01 04:00:00+01:00  -3.464    1002.0        78         0.0        23   \n",
       "...                           ...       ...       ...         ...       ...   \n",
       "2018-12-31 19:00:00+01:00  12.490    1028.0        62         2.0       140   \n",
       "2018-12-31 20:00:00+01:00   9.990    1029.0        71         1.0       242   \n",
       "2018-12-31 21:00:00+01:00   8.510    1029.0        81         3.0       300   \n",
       "2018-12-31 22:00:00+01:00   6.990    1029.0        81         2.0       310   \n",
       "2018-12-31 23:00:00+01:00   5.990    1029.0        75         2.0       300   \n",
       "\n",
       "                           generation biomass  \\\n",
       "2015-01-01 00:00:00+01:00               447.0   \n",
       "2015-01-01 01:00:00+01:00               449.0   \n",
       "2015-01-01 02:00:00+01:00               448.0   \n",
       "2015-01-01 03:00:00+01:00               438.0   \n",
       "2015-01-01 04:00:00+01:00               428.0   \n",
       "...                                       ...   \n",
       "2018-12-31 19:00:00+01:00               297.0   \n",
       "2018-12-31 20:00:00+01:00               296.0   \n",
       "2018-12-31 21:00:00+01:00               292.0   \n",
       "2018-12-31 22:00:00+01:00               293.0   \n",
       "2018-12-31 23:00:00+01:00               290.0   \n",
       "\n",
       "                           generation fossil brown coal/lignite  \\\n",
       "2015-01-01 00:00:00+01:00                                 329.0   \n",
       "2015-01-01 01:00:00+01:00                                 328.0   \n",
       "2015-01-01 02:00:00+01:00                                 323.0   \n",
       "2015-01-01 03:00:00+01:00                                 254.0   \n",
       "2015-01-01 04:00:00+01:00                                 187.0   \n",
       "...                                                         ...   \n",
       "2018-12-31 19:00:00+01:00                                   0.0   \n",
       "2018-12-31 20:00:00+01:00                                   0.0   \n",
       "2018-12-31 21:00:00+01:00                                   0.0   \n",
       "2018-12-31 22:00:00+01:00                                   0.0   \n",
       "2018-12-31 23:00:00+01:00                                   0.0   \n",
       "\n",
       "                           generation fossil gas  generation fossil hard coal  \\\n",
       "2015-01-01 00:00:00+01:00                 4844.0                       4821.0   \n",
       "2015-01-01 01:00:00+01:00                 5196.0                       4755.0   \n",
       "2015-01-01 02:00:00+01:00                 4857.0                       4581.0   \n",
       "2015-01-01 03:00:00+01:00                 4314.0                       4131.0   \n",
       "2015-01-01 04:00:00+01:00                 4130.0                       3840.0   \n",
       "...                                          ...                          ...   \n",
       "2018-12-31 19:00:00+01:00                 7634.0                       2628.0   \n",
       "2018-12-31 20:00:00+01:00                 7241.0                       2566.0   \n",
       "2018-12-31 21:00:00+01:00                 7025.0                       2422.0   \n",
       "2018-12-31 22:00:00+01:00                 6562.0                       2293.0   \n",
       "2018-12-31 23:00:00+01:00                 6926.0                       2166.0   \n",
       "\n",
       "                           generation fossil oil  ...  generation solar  \\\n",
       "2015-01-01 00:00:00+01:00                  162.0  ...              49.0   \n",
       "2015-01-01 01:00:00+01:00                  158.0  ...              50.0   \n",
       "2015-01-01 02:00:00+01:00                  157.0  ...              50.0   \n",
       "2015-01-01 03:00:00+01:00                  160.0  ...              50.0   \n",
       "2015-01-01 04:00:00+01:00                  156.0  ...              42.0   \n",
       "...                                          ...  ...               ...   \n",
       "2018-12-31 19:00:00+01:00                  178.0  ...              85.0   \n",
       "2018-12-31 20:00:00+01:00                  174.0  ...              33.0   \n",
       "2018-12-31 21:00:00+01:00                  168.0  ...              31.0   \n",
       "2018-12-31 22:00:00+01:00                  163.0  ...              31.0   \n",
       "2018-12-31 23:00:00+01:00                  163.0  ...              31.0   \n",
       "\n",
       "                           generation waste  generation wind onshore  \\\n",
       "2015-01-01 00:00:00+01:00             196.0                   6378.0   \n",
       "2015-01-01 01:00:00+01:00             195.0                   5890.0   \n",
       "2015-01-01 02:00:00+01:00             196.0                   5461.0   \n",
       "2015-01-01 03:00:00+01:00             191.0                   5238.0   \n",
       "2015-01-01 04:00:00+01:00             189.0                   4935.0   \n",
       "...                                     ...                      ...   \n",
       "2018-12-31 19:00:00+01:00             277.0                   3113.0   \n",
       "2018-12-31 20:00:00+01:00             280.0                   3288.0   \n",
       "2018-12-31 21:00:00+01:00             286.0                   3503.0   \n",
       "2018-12-31 22:00:00+01:00             287.0                   3586.0   \n",
       "2018-12-31 23:00:00+01:00             287.0                   3651.0   \n",
       "\n",
       "                           total load actual  price actual  generation  \\\n",
       "2015-01-01 00:00:00+01:00            25385.0         65.41     28251.0   \n",
       "2015-01-01 01:00:00+01:00            24382.0         64.92     27818.0   \n",
       "2015-01-01 02:00:00+01:00            22734.0         64.48     26796.0   \n",
       "2015-01-01 03:00:00+01:00            21286.0         59.32     25223.0   \n",
       "2015-01-01 04:00:00+01:00            20264.0         56.04     24620.0   \n",
       "...                                      ...           ...         ...   \n",
       "2018-12-31 19:00:00+01:00            30653.0         77.02     26415.0   \n",
       "2018-12-31 20:00:00+01:00            29735.0         76.16     25213.0   \n",
       "2018-12-31 21:00:00+01:00            28071.0         74.30     23987.0   \n",
       "2018-12-31 22:00:00+01:00            25801.0         69.89     22748.0   \n",
       "2018-12-31 23:00:00+01:00            24455.0         69.88     22605.0   \n",
       "\n",
       "                           energy_difference  month  day  weekend  \n",
       "2015-01-01 00:00:00+01:00             2866.0      1    1        0  \n",
       "2015-01-01 01:00:00+01:00             3436.0      1    1        0  \n",
       "2015-01-01 02:00:00+01:00             4062.0      1    1        0  \n",
       "2015-01-01 03:00:00+01:00             3937.0      1    1        0  \n",
       "2015-01-01 04:00:00+01:00             4356.0      1    1        0  \n",
       "...                                      ...    ...  ...      ...  \n",
       "2018-12-31 19:00:00+01:00            -4238.0     12   31        0  \n",
       "2018-12-31 20:00:00+01:00            -4522.0     12   31        0  \n",
       "2018-12-31 21:00:00+01:00            -4084.0     12   31        0  \n",
       "2018-12-31 22:00:00+01:00            -3053.0     12   31        0  \n",
       "2018-12-31 23:00:00+01:00            -1850.0     12   31        0  \n",
       "\n",
       "[35064 rows x 26 columns]"
      ]
     },
     "execution_count": 28,
     "metadata": {},
     "output_type": "execute_result"
    }
   ],
   "source": [
    "# month, day, holiday\n",
    "combined_df[\"month\"] = combined_df.index.month\n",
    "combined_df[\"day\"] = combined_df.index.day\n",
    "combined_df[\"weekend\"] = np.where(df.index.weekday <= 4, 0, 1)\n",
    "combined_df"
   ]
  },
  {
   "cell_type": "markdown",
   "metadata": {},
   "source": [
    "## Data Scaling\n"
   ]
  },
  {
   "cell_type": "code",
   "execution_count": 29,
   "metadata": {},
   "outputs": [
    {
     "data": {
      "text/html": [
       "<div>\n",
       "<style scoped>\n",
       "    .dataframe tbody tr th:only-of-type {\n",
       "        vertical-align: middle;\n",
       "    }\n",
       "\n",
       "    .dataframe tbody tr th {\n",
       "        vertical-align: top;\n",
       "    }\n",
       "\n",
       "    .dataframe thead th {\n",
       "        text-align: right;\n",
       "    }\n",
       "</style>\n",
       "<table border=\"1\" class=\"dataframe\">\n",
       "  <thead>\n",
       "    <tr style=\"text-align: right;\">\n",
       "      <th></th>\n",
       "      <th>temp</th>\n",
       "      <th>pressure</th>\n",
       "      <th>humidity</th>\n",
       "      <th>wind_speed</th>\n",
       "      <th>wind_deg</th>\n",
       "      <th>generation biomass</th>\n",
       "      <th>generation fossil brown coal/lignite</th>\n",
       "      <th>generation fossil gas</th>\n",
       "      <th>generation fossil hard coal</th>\n",
       "      <th>generation fossil oil</th>\n",
       "      <th>...</th>\n",
       "      <th>generation solar</th>\n",
       "      <th>generation waste</th>\n",
       "      <th>generation wind onshore</th>\n",
       "      <th>total load actual</th>\n",
       "      <th>price actual</th>\n",
       "      <th>generation</th>\n",
       "      <th>energy_difference</th>\n",
       "      <th>month</th>\n",
       "      <th>day</th>\n",
       "      <th>weekend</th>\n",
       "    </tr>\n",
       "  </thead>\n",
       "  <tbody>\n",
       "    <tr>\n",
       "      <th>count</th>\n",
       "      <td>3.506400e+04</td>\n",
       "      <td>3.506400e+04</td>\n",
       "      <td>3.506400e+04</td>\n",
       "      <td>3.506400e+04</td>\n",
       "      <td>3.506400e+04</td>\n",
       "      <td>3.506400e+04</td>\n",
       "      <td>3.506400e+04</td>\n",
       "      <td>3.506400e+04</td>\n",
       "      <td>3.506400e+04</td>\n",
       "      <td>3.506400e+04</td>\n",
       "      <td>...</td>\n",
       "      <td>3.506400e+04</td>\n",
       "      <td>3.506400e+04</td>\n",
       "      <td>3.506400e+04</td>\n",
       "      <td>3.506400e+04</td>\n",
       "      <td>3.506400e+04</td>\n",
       "      <td>3.506400e+04</td>\n",
       "      <td>3.506400e+04</td>\n",
       "      <td>3.506400e+04</td>\n",
       "      <td>3.506400e+04</td>\n",
       "      <td>3.506400e+04</td>\n",
       "    </tr>\n",
       "    <tr>\n",
       "      <th>mean</th>\n",
       "      <td>3.015308e-16</td>\n",
       "      <td>6.111673e-16</td>\n",
       "      <td>2.982885e-16</td>\n",
       "      <td>5.187627e-17</td>\n",
       "      <td>-1.134793e-16</td>\n",
       "      <td>2.658659e-16</td>\n",
       "      <td>-1.167216e-16</td>\n",
       "      <td>-2.010205e-16</td>\n",
       "      <td>8.754120e-17</td>\n",
       "      <td>-3.177421e-16</td>\n",
       "      <td>...</td>\n",
       "      <td>-6.484533e-17</td>\n",
       "      <td>-1.296907e-16</td>\n",
       "      <td>-7.781440e-17</td>\n",
       "      <td>-2.289851e-16</td>\n",
       "      <td>2.010205e-16</td>\n",
       "      <td>-1.617080e-16</td>\n",
       "      <td>4.052833e-18</td>\n",
       "      <td>-3.890720e-17</td>\n",
       "      <td>9.645743e-17</td>\n",
       "      <td>4.863400e-18</td>\n",
       "    </tr>\n",
       "    <tr>\n",
       "      <th>std</th>\n",
       "      <td>1.000014e+00</td>\n",
       "      <td>1.000014e+00</td>\n",
       "      <td>1.000014e+00</td>\n",
       "      <td>1.000014e+00</td>\n",
       "      <td>1.000014e+00</td>\n",
       "      <td>1.000014e+00</td>\n",
       "      <td>1.000014e+00</td>\n",
       "      <td>1.000014e+00</td>\n",
       "      <td>1.000014e+00</td>\n",
       "      <td>1.000014e+00</td>\n",
       "      <td>...</td>\n",
       "      <td>1.000014e+00</td>\n",
       "      <td>1.000014e+00</td>\n",
       "      <td>1.000014e+00</td>\n",
       "      <td>1.000014e+00</td>\n",
       "      <td>1.000014e+00</td>\n",
       "      <td>1.000014e+00</td>\n",
       "      <td>1.000014e+00</td>\n",
       "      <td>1.000014e+00</td>\n",
       "      <td>1.000014e+00</td>\n",
       "      <td>1.000014e+00</td>\n",
       "    </tr>\n",
       "    <tr>\n",
       "      <th>min</th>\n",
       "      <td>-3.034543e+00</td>\n",
       "      <td>-3.935452e+00</td>\n",
       "      <td>-2.901411e+00</td>\n",
       "      <td>-1.161697e+00</td>\n",
       "      <td>-1.335441e+00</td>\n",
       "      <td>-4.493891e+00</td>\n",
       "      <td>-1.263615e+00</td>\n",
       "      <td>-2.554055e+00</td>\n",
       "      <td>-2.169529e+00</td>\n",
       "      <td>-5.680638e+00</td>\n",
       "      <td>...</td>\n",
       "      <td>-8.528998e-01</td>\n",
       "      <td>-5.365014e+00</td>\n",
       "      <td>-1.700610e+00</td>\n",
       "      <td>-2.329072e+00</td>\n",
       "      <td>-3.418363e+00</td>\n",
       "      <td>-5.193211e+00</td>\n",
       "      <td>-1.146634e+01</td>\n",
       "      <td>-1.601685e+00</td>\n",
       "      <td>-1.673784e+00</td>\n",
       "      <td>-6.330616e-01</td>\n",
       "    </tr>\n",
       "    <tr>\n",
       "      <th>25%</th>\n",
       "      <td>-7.787656e-01</td>\n",
       "      <td>-3.333518e-01</td>\n",
       "      <td>-7.162298e-01</td>\n",
       "      <td>-7.242735e-01</td>\n",
       "      <td>-9.201962e-01</td>\n",
       "      <td>-5.920829e-01</td>\n",
       "      <td>-1.263615e+00</td>\n",
       "      <td>-6.798612e-01</td>\n",
       "      <td>-8.815320e-01</td>\n",
       "      <td>-6.729431e-01</td>\n",
       "      <td>...</td>\n",
       "      <td>-8.106363e-01</td>\n",
       "      <td>-5.858231e-01</td>\n",
       "      <td>-7.879099e-01</td>\n",
       "      <td>-8.504114e-01</td>\n",
       "      <td>-6.009993e-01</td>\n",
       "      <td>-7.622765e-01</td>\n",
       "      <td>-7.005958e-01</td>\n",
       "      <td>-7.317916e-01</td>\n",
       "      <td>-8.783552e-01</td>\n",
       "      <td>-6.330616e-01</td>\n",
       "    </tr>\n",
       "    <tr>\n",
       "      <th>50%</th>\n",
       "      <td>-8.210053e-02</td>\n",
       "      <td>8.549706e-02</td>\n",
       "      <td>9.686091e-02</td>\n",
       "      <td>-2.868501e-01</td>\n",
       "      <td>-2.558045e-01</td>\n",
       "      <td>-1.937001e-01</td>\n",
       "      <td>1.717517e-01</td>\n",
       "      <td>-2.967098e-01</td>\n",
       "      <td>1.113522e-01</td>\n",
       "      <td>3.156149e-02</td>\n",
       "      <td>...</td>\n",
       "      <td>-4.862195e-01</td>\n",
       "      <td>1.907954e-01</td>\n",
       "      <td>-1.915272e-01</td>\n",
       "      <td>4.452123e-02</td>\n",
       "      <td>9.573234e-03</td>\n",
       "      <td>-4.373375e-02</td>\n",
       "      <td>-1.482682e-01</td>\n",
       "      <td>1.381020e-01</td>\n",
       "      <td>3.070583e-02</td>\n",
       "      <td>-6.330616e-01</td>\n",
       "    </tr>\n",
       "    <tr>\n",
       "      <th>75%</th>\n",
       "      <td>7.417336e-01</td>\n",
       "      <td>4.205762e-01</td>\n",
       "      <td>8.591335e-01</td>\n",
       "      <td>5.879966e-01</td>\n",
       "      <td>9.899300e-01</td>\n",
       "      <td>5.796313e-01</td>\n",
       "      <td>8.711052e-01</td>\n",
       "      <td>3.662534e-01</td>\n",
       "      <td>8.065750e-01</td>\n",
       "      <td>6.027814e-01</td>\n",
       "      <td>...</td>\n",
       "      <td>6.822761e-01</td>\n",
       "      <td>8.081076e-01</td>\n",
       "      <td>6.019901e-01</td>\n",
       "      <td>7.640186e-01</td>\n",
       "      <td>7.129021e-01</td>\n",
       "      <td>7.003689e-01</td>\n",
       "      <td>5.128981e-01</td>\n",
       "      <td>1.007996e+00</td>\n",
       "      <td>8.261342e-01</td>\n",
       "      <td>1.579625e+00</td>\n",
       "    </tr>\n",
       "    <tr>\n",
       "      <th>max</th>\n",
       "      <td>2.815142e+00</td>\n",
       "      <td>5.949381e+00</td>\n",
       "      <td>1.773861e+00</td>\n",
       "      <td>4.962230e+00</td>\n",
       "      <td>1.654322e+00</td>\n",
       "      <td>2.442657e+00</td>\n",
       "      <td>1.553539e+00</td>\n",
       "      <td>6.546188e+00</td>\n",
       "      <td>2.091004e+00</td>\n",
       "      <td>2.868620e+00</td>\n",
       "      <td>...</td>\n",
       "      <td>2.594847e+00</td>\n",
       "      <td>1.744032e+00</td>\n",
       "      <td>3.725181e+00</td>\n",
       "      <td>2.691730e+00</td>\n",
       "      <td>4.147879e+00</td>\n",
       "      <td>3.265672e+00</td>\n",
       "      <td>4.487255e+00</td>\n",
       "      <td>1.587925e+00</td>\n",
       "      <td>1.735195e+00</td>\n",
       "      <td>1.579625e+00</td>\n",
       "    </tr>\n",
       "  </tbody>\n",
       "</table>\n",
       "<p>8 rows × 26 columns</p>\n",
       "</div>"
      ],
      "text/plain": [
       "               temp      pressure      humidity    wind_speed      wind_deg  \\\n",
       "count  3.506400e+04  3.506400e+04  3.506400e+04  3.506400e+04  3.506400e+04   \n",
       "mean   3.015308e-16  6.111673e-16  2.982885e-16  5.187627e-17 -1.134793e-16   \n",
       "std    1.000014e+00  1.000014e+00  1.000014e+00  1.000014e+00  1.000014e+00   \n",
       "min   -3.034543e+00 -3.935452e+00 -2.901411e+00 -1.161697e+00 -1.335441e+00   \n",
       "25%   -7.787656e-01 -3.333518e-01 -7.162298e-01 -7.242735e-01 -9.201962e-01   \n",
       "50%   -8.210053e-02  8.549706e-02  9.686091e-02 -2.868501e-01 -2.558045e-01   \n",
       "75%    7.417336e-01  4.205762e-01  8.591335e-01  5.879966e-01  9.899300e-01   \n",
       "max    2.815142e+00  5.949381e+00  1.773861e+00  4.962230e+00  1.654322e+00   \n",
       "\n",
       "       generation biomass  generation fossil brown coal/lignite  \\\n",
       "count        3.506400e+04                          3.506400e+04   \n",
       "mean         2.658659e-16                         -1.167216e-16   \n",
       "std          1.000014e+00                          1.000014e+00   \n",
       "min         -4.493891e+00                         -1.263615e+00   \n",
       "25%         -5.920829e-01                         -1.263615e+00   \n",
       "50%         -1.937001e-01                          1.717517e-01   \n",
       "75%          5.796313e-01                          8.711052e-01   \n",
       "max          2.442657e+00                          1.553539e+00   \n",
       "\n",
       "       generation fossil gas  generation fossil hard coal  \\\n",
       "count           3.506400e+04                 3.506400e+04   \n",
       "mean           -2.010205e-16                 8.754120e-17   \n",
       "std             1.000014e+00                 1.000014e+00   \n",
       "min            -2.554055e+00                -2.169529e+00   \n",
       "25%            -6.798612e-01                -8.815320e-01   \n",
       "50%            -2.967098e-01                 1.113522e-01   \n",
       "75%             3.662534e-01                 8.065750e-01   \n",
       "max             6.546188e+00                 2.091004e+00   \n",
       "\n",
       "       generation fossil oil  ...  generation solar  generation waste  \\\n",
       "count           3.506400e+04  ...      3.506400e+04      3.506400e+04   \n",
       "mean           -3.177421e-16  ...     -6.484533e-17     -1.296907e-16   \n",
       "std             1.000014e+00  ...      1.000014e+00      1.000014e+00   \n",
       "min            -5.680638e+00  ...     -8.528998e-01     -5.365014e+00   \n",
       "25%            -6.729431e-01  ...     -8.106363e-01     -5.858231e-01   \n",
       "50%             3.156149e-02  ...     -4.862195e-01      1.907954e-01   \n",
       "75%             6.027814e-01  ...      6.822761e-01      8.081076e-01   \n",
       "max             2.868620e+00  ...      2.594847e+00      1.744032e+00   \n",
       "\n",
       "       generation wind onshore  total load actual  price actual    generation  \\\n",
       "count             3.506400e+04       3.506400e+04  3.506400e+04  3.506400e+04   \n",
       "mean             -7.781440e-17      -2.289851e-16  2.010205e-16 -1.617080e-16   \n",
       "std               1.000014e+00       1.000014e+00  1.000014e+00  1.000014e+00   \n",
       "min              -1.700610e+00      -2.329072e+00 -3.418363e+00 -5.193211e+00   \n",
       "25%              -7.879099e-01      -8.504114e-01 -6.009993e-01 -7.622765e-01   \n",
       "50%              -1.915272e-01       4.452123e-02  9.573234e-03 -4.373375e-02   \n",
       "75%               6.019901e-01       7.640186e-01  7.129021e-01  7.003689e-01   \n",
       "max               3.725181e+00       2.691730e+00  4.147879e+00  3.265672e+00   \n",
       "\n",
       "       energy_difference         month           day       weekend  \n",
       "count       3.506400e+04  3.506400e+04  3.506400e+04  3.506400e+04  \n",
       "mean        4.052833e-18 -3.890720e-17  9.645743e-17  4.863400e-18  \n",
       "std         1.000014e+00  1.000014e+00  1.000014e+00  1.000014e+00  \n",
       "min        -1.146634e+01 -1.601685e+00 -1.673784e+00 -6.330616e-01  \n",
       "25%        -7.005958e-01 -7.317916e-01 -8.783552e-01 -6.330616e-01  \n",
       "50%        -1.482682e-01  1.381020e-01  3.070583e-02 -6.330616e-01  \n",
       "75%         5.128981e-01  1.007996e+00  8.261342e-01  1.579625e+00  \n",
       "max         4.487255e+00  1.587925e+00  1.735195e+00  1.579625e+00  \n",
       "\n",
       "[8 rows x 26 columns]"
      ]
     },
     "execution_count": 29,
     "metadata": {},
     "output_type": "execute_result"
    }
   ],
   "source": [
    "# Rescaling the data\n",
    "featuresToScale = combined_df.columns\n",
    "sX = pp.StandardScaler(copy=True)\n",
    "scaled_df = combined_df.copy(deep=True)\n",
    "scaled_df.loc[:, featuresToScale] = sX.fit_transform(scaled_df[featuresToScale])\n",
    "scaled_df.sort_index(inplace=True)\n",
    "scaled_df.describe()"
   ]
  },
  {
   "cell_type": "markdown",
   "metadata": {},
   "source": [
    "## Correlation Matrix\n"
   ]
  },
  {
   "cell_type": "code",
   "execution_count": 30,
   "metadata": {},
   "outputs": [
    {
     "data": {
      "image/png": "[encoded data removed]",
      "text/plain": [
       "<Figure size 1800x1800 with 2 Axes>"
      ]
     },
     "metadata": {
      "needs_background": "light"
     },
     "output_type": "display_data"
    }
   ],
   "source": [
    "correlationMatrix = pd.DataFrame(scaled_df).corr()\n",
    "f = plt.figure(figsize=(25, 25))\n",
    "plt.matshow(correlationMatrix, fignum=f.number)\n",
    "plt.xticks(range(scaled_df.shape[1]), scaled_df.columns, fontsize=14, rotation=90)\n",
    "plt.yticks(range(scaled_df.shape[1]), scaled_df.columns, fontsize=14)\n",
    "cb = plt.colorbar()\n",
    "cb.ax.tick_params(labelsize=14)\n",
    "plt.show()"
   ]
  },
  {
   "cell_type": "code",
   "execution_count": 31,
   "metadata": {},
   "outputs": [
    {
     "name": "stdout",
     "output_type": "stream",
     "text": [
      "('generation hydro pumped storage consumption', 'total load actual', -0.5629342077948891)\n",
      "('generation biomass', 'generation other renewable', -0.5605666986824334)\n",
      "('generation fossil brown coal/lignite', 'generation hydro run-of-river and poundage', -0.5247213973083811)\n",
      "('humidity', 'generation solar', -0.5047695097546638)\n",
      "('generation fossil hard coal', 'generation hydro run-of-river and poundage', -0.4975783169794325)\n",
      "('generation other', 'generation other renewable', -0.44345430163624594)\n",
      "('generation fossil hard coal', 'generation wind onshore', -0.4417562740188647)\n",
      "('generation fossil brown coal/lignite', 'generation wind onshore', -0.434172302338624)\n",
      "('total load actual', 'energy_difference', -0.4265643564076236)\n",
      "('humidity', 'wind_speed', -0.4263445615968573)\n",
      "('generation hydro pumped storage consumption', 'price actual', -0.42619560242913923)\n",
      "('generation fossil gas', 'generation hydro pumped storage consumption', -0.4207520079278396)\n",
      "('generation fossil hard coal', 'generation hydro pumped storage consumption', -0.4063173314838529)\n",
      "('temp', 'humidity', -0.403820346616554)\n",
      "('generation fossil gas', 'generation fossil hard coal', 0.5416836149264029)\n",
      "('generation fossil gas', 'total load actual', 0.5489856700067709)\n",
      "('generation other renewable', 'generation waste', 0.6140092536832001)\n",
      "('generation hydro run-of-river and poundage', 'generation hydro water reservoir', 0.6527240783695041)\n",
      "('generation biomass', 'generation other', 0.6584077655966513)\n",
      "('generation fossil brown coal/lignite', 'generation fossil hard coal', 0.7688305822740326)\n",
      "('generation hydro pumped storage consumption', 'energy_difference', 0.7698335269911751)\n",
      "('total load actual', 'generation', 0.8299692508194444)\n"
     ]
    }
   ],
   "source": [
    "# Extract high correlation pairs with upper and lower treshhold\n",
    "correlations = extract_correlations(correlationMatrix, 0.5, -0.4)\n",
    "for item in correlations:\n",
    "    print(item)"
   ]
  },
  {
   "cell_type": "markdown",
   "metadata": {},
   "source": [
    "## PCA Analysis\n"
   ]
  },
  {
   "cell_type": "code",
   "execution_count": 32,
   "metadata": {},
   "outputs": [],
   "source": [
    "n_components = None\n",
    "whiten = False\n",
    "svd_solver = \"auto\"\n",
    "random_state = 2020\n",
    "\n",
    "pca = PCA(\n",
    "    n_components=n_components,\n",
    "    whiten=whiten,\n",
    "    svd_solver=svd_solver,\n",
    "    random_state=random_state,\n",
    ")\n",
    "\n",
    "x_pca = pca.fit(scaled_df)"
   ]
  },
  {
   "cell_type": "code",
   "execution_count": 33,
   "metadata": {},
   "outputs": [
    {
     "data": {
      "text/plain": [
       "Text(0, 0.5, 'cumulative explained variance')"
      ]
     },
     "execution_count": 33,
     "metadata": {},
     "output_type": "execute_result"
    },
    {
     "data": {
      "image/png": "[encoded data removed]",
      "text/plain": [
       "<Figure size 576x576 with 1 Axes>"
      ]
     },
     "metadata": {
      "needs_background": "light"
     },
     "output_type": "display_data"
    }
   ],
   "source": [
    "plt.plot(np.cumsum(pca.explained_variance_ratio_))\n",
    "plt.xlabel(\"number of components\")\n",
    "plt.ylabel(\"cumulative explained variance\")"
   ]
  },
  {
   "cell_type": "code",
   "execution_count": 34,
   "metadata": {},
   "outputs": [
    {
     "name": "stdout",
     "output_type": "stream",
     "text": [
      "19\n"
     ]
    }
   ],
   "source": [
    "pca = PCA(n_components=0.95)\n",
    "X_pca = pca.fit_transform(scaled_df)  # this will fit and reduce dimensions\n",
    "print(pca.n_components_)  # one can print and see how many components are selected. In this case it is 4 same as above we saw in step 5"
   ]
  },
  {
   "cell_type": "code",
   "execution_count": 35,
   "metadata": {},
   "outputs": [
    {
     "data": {
      "text/html": [
       "<div>\n",
       "<style scoped>\n",
       "    .dataframe tbody tr th:only-of-type {\n",
       "        vertical-align: middle;\n",
       "    }\n",
       "\n",
       "    .dataframe tbody tr th {\n",
       "        vertical-align: top;\n",
       "    }\n",
       "\n",
       "    .dataframe thead th {\n",
       "        text-align: right;\n",
       "    }\n",
       "</style>\n",
       "<table border=\"1\" class=\"dataframe\">\n",
       "  <thead>\n",
       "    <tr style=\"text-align: right;\">\n",
       "      <th></th>\n",
       "      <th>temp</th>\n",
       "      <th>pressure</th>\n",
       "      <th>humidity</th>\n",
       "      <th>wind_speed</th>\n",
       "      <th>wind_deg</th>\n",
       "      <th>generation biomass</th>\n",
       "      <th>generation fossil brown coal/lignite</th>\n",
       "      <th>generation fossil gas</th>\n",
       "      <th>generation fossil hard coal</th>\n",
       "      <th>generation fossil oil</th>\n",
       "      <th>...</th>\n",
       "      <th>generation solar</th>\n",
       "      <th>generation waste</th>\n",
       "      <th>generation wind onshore</th>\n",
       "      <th>total load actual</th>\n",
       "      <th>price actual</th>\n",
       "      <th>generation</th>\n",
       "      <th>energy_difference</th>\n",
       "      <th>month</th>\n",
       "      <th>day</th>\n",
       "      <th>weekend</th>\n",
       "    </tr>\n",
       "  </thead>\n",
       "  <tbody>\n",
       "    <tr>\n",
       "      <th>0</th>\n",
       "      <td>-0.129891</td>\n",
       "      <td>-0.034692</td>\n",
       "      <td>0.037501</td>\n",
       "      <td>0.043391</td>\n",
       "      <td>0.092407</td>\n",
       "      <td>-0.109197</td>\n",
       "      <td>-0.309731</td>\n",
       "      <td>-0.337886</td>\n",
       "      <td>-0.348331</td>\n",
       "      <td>-0.257588</td>\n",
       "      <td>...</td>\n",
       "      <td>-0.136203</td>\n",
       "      <td>-0.124399</td>\n",
       "      <td>0.209294</td>\n",
       "      <td>-0.333061</td>\n",
       "      <td>-0.297654</td>\n",
       "      <td>-0.213466</td>\n",
       "      <td>0.244165</td>\n",
       "      <td>-0.105579</td>\n",
       "      <td>-0.037446</td>\n",
       "      <td>0.137048</td>\n",
       "    </tr>\n",
       "    <tr>\n",
       "      <th>1</th>\n",
       "      <td>0.082167</td>\n",
       "      <td>-0.097318</td>\n",
       "      <td>-0.322151</td>\n",
       "      <td>0.253435</td>\n",
       "      <td>0.054915</td>\n",
       "      <td>0.058220</td>\n",
       "      <td>-0.191368</td>\n",
       "      <td>-0.041307</td>\n",
       "      <td>-0.117293</td>\n",
       "      <td>0.162759</td>\n",
       "      <td>...</td>\n",
       "      <td>0.213997</td>\n",
       "      <td>-0.246102</td>\n",
       "      <td>0.245612</td>\n",
       "      <td>0.309592</td>\n",
       "      <td>-0.031865</td>\n",
       "      <td>0.370998</td>\n",
       "      <td>0.052857</td>\n",
       "      <td>-0.221286</td>\n",
       "      <td>-0.076144</td>\n",
       "      <td>-0.078758</td>\n",
       "    </tr>\n",
       "    <tr>\n",
       "      <th>2</th>\n",
       "      <td>0.136422</td>\n",
       "      <td>0.014764</td>\n",
       "      <td>-0.132476</td>\n",
       "      <td>0.095570</td>\n",
       "      <td>-0.002007</td>\n",
       "      <td>-0.474636</td>\n",
       "      <td>-0.122909</td>\n",
       "      <td>0.076058</td>\n",
       "      <td>-0.213176</td>\n",
       "      <td>-0.231788</td>\n",
       "      <td>...</td>\n",
       "      <td>0.123745</td>\n",
       "      <td>0.302517</td>\n",
       "      <td>-0.046978</td>\n",
       "      <td>0.084913</td>\n",
       "      <td>0.004022</td>\n",
       "      <td>-0.042088</td>\n",
       "      <td>-0.218736</td>\n",
       "      <td>-0.026941</td>\n",
       "      <td>-0.009546</td>\n",
       "      <td>0.015525</td>\n",
       "    </tr>\n",
       "    <tr>\n",
       "      <th>3</th>\n",
       "      <td>0.259807</td>\n",
       "      <td>-0.071369</td>\n",
       "      <td>-0.325590</td>\n",
       "      <td>0.321474</td>\n",
       "      <td>0.117263</td>\n",
       "      <td>-0.014562</td>\n",
       "      <td>0.145195</td>\n",
       "      <td>0.051524</td>\n",
       "      <td>0.094549</td>\n",
       "      <td>-0.088079</td>\n",
       "      <td>...</td>\n",
       "      <td>0.240566</td>\n",
       "      <td>0.221768</td>\n",
       "      <td>0.201603</td>\n",
       "      <td>-0.006756</td>\n",
       "      <td>-0.075757</td>\n",
       "      <td>0.194219</td>\n",
       "      <td>0.326890</td>\n",
       "      <td>0.094451</td>\n",
       "      <td>0.030271</td>\n",
       "      <td>0.115294</td>\n",
       "    </tr>\n",
       "    <tr>\n",
       "      <th>4</th>\n",
       "      <td>0.467364</td>\n",
       "      <td>0.002712</td>\n",
       "      <td>-0.235875</td>\n",
       "      <td>-0.071883</td>\n",
       "      <td>-0.279008</td>\n",
       "      <td>0.159873</td>\n",
       "      <td>-0.095859</td>\n",
       "      <td>-0.205589</td>\n",
       "      <td>-0.076772</td>\n",
       "      <td>-0.054406</td>\n",
       "      <td>...</td>\n",
       "      <td>0.389005</td>\n",
       "      <td>-0.150069</td>\n",
       "      <td>-0.270516</td>\n",
       "      <td>-0.117086</td>\n",
       "      <td>-0.129462</td>\n",
       "      <td>-0.271751</td>\n",
       "      <td>-0.233116</td>\n",
       "      <td>0.089360</td>\n",
       "      <td>0.042268</td>\n",
       "      <td>0.231084</td>\n",
       "    </tr>\n",
       "    <tr>\n",
       "      <th>5</th>\n",
       "      <td>0.197188</td>\n",
       "      <td>0.334137</td>\n",
       "      <td>0.108848</td>\n",
       "      <td>-0.350053</td>\n",
       "      <td>-0.454364</td>\n",
       "      <td>-0.119766</td>\n",
       "      <td>-0.128225</td>\n",
       "      <td>0.030846</td>\n",
       "      <td>-0.127258</td>\n",
       "      <td>0.006471</td>\n",
       "      <td>...</td>\n",
       "      <td>0.038884</td>\n",
       "      <td>-0.023972</td>\n",
       "      <td>0.244157</td>\n",
       "      <td>0.074873</td>\n",
       "      <td>0.156157</td>\n",
       "      <td>0.212266</td>\n",
       "      <td>0.211480</td>\n",
       "      <td>0.413016</td>\n",
       "      <td>-0.238221</td>\n",
       "      <td>-0.085757</td>\n",
       "    </tr>\n",
       "    <tr>\n",
       "      <th>6</th>\n",
       "      <td>0.093896</td>\n",
       "      <td>-0.429390</td>\n",
       "      <td>-0.004803</td>\n",
       "      <td>0.018679</td>\n",
       "      <td>0.031073</td>\n",
       "      <td>-0.019076</td>\n",
       "      <td>0.012797</td>\n",
       "      <td>0.190123</td>\n",
       "      <td>0.023537</td>\n",
       "      <td>-0.029426</td>\n",
       "      <td>...</td>\n",
       "      <td>-0.083495</td>\n",
       "      <td>-0.130266</td>\n",
       "      <td>0.050543</td>\n",
       "      <td>-0.084799</td>\n",
       "      <td>0.166308</td>\n",
       "      <td>0.003213</td>\n",
       "      <td>0.155501</td>\n",
       "      <td>0.275048</td>\n",
       "      <td>-0.022318</td>\n",
       "      <td>-0.039639</td>\n",
       "    </tr>\n",
       "    <tr>\n",
       "      <th>7</th>\n",
       "      <td>0.037515</td>\n",
       "      <td>-0.373028</td>\n",
       "      <td>0.125443</td>\n",
       "      <td>-0.151533</td>\n",
       "      <td>-0.432017</td>\n",
       "      <td>-0.059303</td>\n",
       "      <td>-0.020612</td>\n",
       "      <td>0.056382</td>\n",
       "      <td>-0.028135</td>\n",
       "      <td>0.002300</td>\n",
       "      <td>...</td>\n",
       "      <td>0.005854</td>\n",
       "      <td>-0.010104</td>\n",
       "      <td>0.061876</td>\n",
       "      <td>0.043516</td>\n",
       "      <td>-0.066535</td>\n",
       "      <td>0.110209</td>\n",
       "      <td>0.101574</td>\n",
       "      <td>-0.186208</td>\n",
       "      <td>0.720528</td>\n",
       "      <td>-0.065219</td>\n",
       "    </tr>\n",
       "    <tr>\n",
       "      <th>8</th>\n",
       "      <td>-0.138905</td>\n",
       "      <td>-0.165550</td>\n",
       "      <td>0.098651</td>\n",
       "      <td>-0.079662</td>\n",
       "      <td>-0.219812</td>\n",
       "      <td>-0.012782</td>\n",
       "      <td>0.176474</td>\n",
       "      <td>0.152897</td>\n",
       "      <td>0.151581</td>\n",
       "      <td>-0.241212</td>\n",
       "      <td>...</td>\n",
       "      <td>0.006756</td>\n",
       "      <td>0.054389</td>\n",
       "      <td>-0.129734</td>\n",
       "      <td>0.086021</td>\n",
       "      <td>-0.039971</td>\n",
       "      <td>0.175528</td>\n",
       "      <td>0.132152</td>\n",
       "      <td>-0.190690</td>\n",
       "      <td>-0.289054</td>\n",
       "      <td>0.712387</td>\n",
       "    </tr>\n",
       "    <tr>\n",
       "      <th>9</th>\n",
       "      <td>-0.104099</td>\n",
       "      <td>0.424308</td>\n",
       "      <td>-0.015174</td>\n",
       "      <td>0.069400</td>\n",
       "      <td>0.281400</td>\n",
       "      <td>0.047196</td>\n",
       "      <td>-0.109352</td>\n",
       "      <td>0.036985</td>\n",
       "      <td>-0.019620</td>\n",
       "      <td>-0.173771</td>\n",
       "      <td>...</td>\n",
       "      <td>0.005938</td>\n",
       "      <td>-0.037721</td>\n",
       "      <td>0.050166</td>\n",
       "      <td>0.085948</td>\n",
       "      <td>0.185404</td>\n",
       "      <td>0.087798</td>\n",
       "      <td>-0.009967</td>\n",
       "      <td>0.319378</td>\n",
       "      <td>0.557398</td>\n",
       "      <td>0.405409</td>\n",
       "    </tr>\n",
       "    <tr>\n",
       "      <th>10</th>\n",
       "      <td>-0.130732</td>\n",
       "      <td>0.433193</td>\n",
       "      <td>-0.132923</td>\n",
       "      <td>-0.061694</td>\n",
       "      <td>-0.029348</td>\n",
       "      <td>-0.091213</td>\n",
       "      <td>0.180162</td>\n",
       "      <td>0.232350</td>\n",
       "      <td>0.125551</td>\n",
       "      <td>-0.064063</td>\n",
       "      <td>...</td>\n",
       "      <td>0.235206</td>\n",
       "      <td>-0.154724</td>\n",
       "      <td>-0.366454</td>\n",
       "      <td>-0.092760</td>\n",
       "      <td>-0.229359</td>\n",
       "      <td>0.046841</td>\n",
       "      <td>0.240350</td>\n",
       "      <td>-0.243844</td>\n",
       "      <td>0.083329</td>\n",
       "      <td>-0.258750</td>\n",
       "    </tr>\n",
       "    <tr>\n",
       "      <th>11</th>\n",
       "      <td>-0.067172</td>\n",
       "      <td>0.340447</td>\n",
       "      <td>-0.088905</td>\n",
       "      <td>0.106489</td>\n",
       "      <td>-0.360444</td>\n",
       "      <td>0.141914</td>\n",
       "      <td>-0.003847</td>\n",
       "      <td>-0.068459</td>\n",
       "      <td>0.015113</td>\n",
       "      <td>0.224167</td>\n",
       "      <td>...</td>\n",
       "      <td>-0.205765</td>\n",
       "      <td>0.170896</td>\n",
       "      <td>0.347569</td>\n",
       "      <td>0.058392</td>\n",
       "      <td>-0.156162</td>\n",
       "      <td>-0.021155</td>\n",
       "      <td>-0.137791</td>\n",
       "      <td>-0.334383</td>\n",
       "      <td>0.027729</td>\n",
       "      <td>0.153686</td>\n",
       "    </tr>\n",
       "    <tr>\n",
       "      <th>12</th>\n",
       "      <td>0.147328</td>\n",
       "      <td>0.045923</td>\n",
       "      <td>0.072910</td>\n",
       "      <td>0.359568</td>\n",
       "      <td>-0.103600</td>\n",
       "      <td>-0.100101</td>\n",
       "      <td>0.095286</td>\n",
       "      <td>0.195646</td>\n",
       "      <td>0.025168</td>\n",
       "      <td>0.087708</td>\n",
       "      <td>...</td>\n",
       "      <td>-0.405455</td>\n",
       "      <td>-0.161464</td>\n",
       "      <td>0.017424</td>\n",
       "      <td>0.068780</td>\n",
       "      <td>-0.511902</td>\n",
       "      <td>0.014117</td>\n",
       "      <td>-0.099011</td>\n",
       "      <td>0.328606</td>\n",
       "      <td>0.005605</td>\n",
       "      <td>0.031865</td>\n",
       "    </tr>\n",
       "    <tr>\n",
       "      <th>13</th>\n",
       "      <td>-0.015018</td>\n",
       "      <td>0.079106</td>\n",
       "      <td>0.093304</td>\n",
       "      <td>0.644880</td>\n",
       "      <td>-0.399902</td>\n",
       "      <td>0.082453</td>\n",
       "      <td>0.028005</td>\n",
       "      <td>-0.083130</td>\n",
       "      <td>0.078296</td>\n",
       "      <td>-0.310244</td>\n",
       "      <td>...</td>\n",
       "      <td>-0.084964</td>\n",
       "      <td>-0.016831</td>\n",
       "      <td>-0.163621</td>\n",
       "      <td>-0.128292</td>\n",
       "      <td>0.374998</td>\n",
       "      <td>-0.095684</td>\n",
       "      <td>0.072227</td>\n",
       "      <td>-0.001610</td>\n",
       "      <td>-0.016553</td>\n",
       "      <td>-0.176908</td>\n",
       "    </tr>\n",
       "    <tr>\n",
       "      <th>14</th>\n",
       "      <td>-0.404629</td>\n",
       "      <td>-0.017226</td>\n",
       "      <td>0.083134</td>\n",
       "      <td>0.080814</td>\n",
       "      <td>-0.097642</td>\n",
       "      <td>-0.089766</td>\n",
       "      <td>0.070024</td>\n",
       "      <td>-0.177493</td>\n",
       "      <td>0.033805</td>\n",
       "      <td>-0.106499</td>\n",
       "      <td>...</td>\n",
       "      <td>0.305629</td>\n",
       "      <td>-0.369917</td>\n",
       "      <td>0.241198</td>\n",
       "      <td>0.102977</td>\n",
       "      <td>0.193558</td>\n",
       "      <td>0.031172</td>\n",
       "      <td>-0.131965</td>\n",
       "      <td>0.030121</td>\n",
       "      <td>-0.041800</td>\n",
       "      <td>0.021679</td>\n",
       "    </tr>\n",
       "    <tr>\n",
       "      <th>15</th>\n",
       "      <td>-0.264591</td>\n",
       "      <td>-0.046182</td>\n",
       "      <td>-0.045594</td>\n",
       "      <td>0.149148</td>\n",
       "      <td>-0.116803</td>\n",
       "      <td>-0.131583</td>\n",
       "      <td>-0.329698</td>\n",
       "      <td>0.435180</td>\n",
       "      <td>-0.234355</td>\n",
       "      <td>0.305830</td>\n",
       "      <td>...</td>\n",
       "      <td>0.132994</td>\n",
       "      <td>-0.328741</td>\n",
       "      <td>-0.194962</td>\n",
       "      <td>-0.068556</td>\n",
       "      <td>-0.031158</td>\n",
       "      <td>-0.071649</td>\n",
       "      <td>0.005327</td>\n",
       "      <td>0.078910</td>\n",
       "      <td>-0.047935</td>\n",
       "      <td>0.156433</td>\n",
       "    </tr>\n",
       "    <tr>\n",
       "      <th>16</th>\n",
       "      <td>0.227774</td>\n",
       "      <td>0.069128</td>\n",
       "      <td>-0.381808</td>\n",
       "      <td>-0.156163</td>\n",
       "      <td>0.042257</td>\n",
       "      <td>0.116682</td>\n",
       "      <td>-0.205851</td>\n",
       "      <td>0.263904</td>\n",
       "      <td>0.020472</td>\n",
       "      <td>-0.112701</td>\n",
       "      <td>...</td>\n",
       "      <td>-0.439585</td>\n",
       "      <td>-0.231010</td>\n",
       "      <td>0.020918</td>\n",
       "      <td>-0.101430</td>\n",
       "      <td>0.379511</td>\n",
       "      <td>-0.068230</td>\n",
       "      <td>0.069136</td>\n",
       "      <td>-0.285482</td>\n",
       "      <td>-0.012733</td>\n",
       "      <td>0.060587</td>\n",
       "    </tr>\n",
       "    <tr>\n",
       "      <th>17</th>\n",
       "      <td>-0.248782</td>\n",
       "      <td>-0.059190</td>\n",
       "      <td>-0.269961</td>\n",
       "      <td>-0.151340</td>\n",
       "      <td>-0.098155</td>\n",
       "      <td>-0.042326</td>\n",
       "      <td>-0.130503</td>\n",
       "      <td>0.191482</td>\n",
       "      <td>-0.032907</td>\n",
       "      <td>-0.586460</td>\n",
       "      <td>...</td>\n",
       "      <td>-0.046421</td>\n",
       "      <td>0.101167</td>\n",
       "      <td>0.089454</td>\n",
       "      <td>0.124310</td>\n",
       "      <td>-0.219640</td>\n",
       "      <td>0.056006</td>\n",
       "      <td>-0.129506</td>\n",
       "      <td>0.055655</td>\n",
       "      <td>-0.039225</td>\n",
       "      <td>-0.253026</td>\n",
       "    </tr>\n",
       "    <tr>\n",
       "      <th>18</th>\n",
       "      <td>0.225116</td>\n",
       "      <td>0.062329</td>\n",
       "      <td>0.564985</td>\n",
       "      <td>0.130396</td>\n",
       "      <td>0.132878</td>\n",
       "      <td>0.220938</td>\n",
       "      <td>-0.398999</td>\n",
       "      <td>0.287780</td>\n",
       "      <td>-0.134524</td>\n",
       "      <td>-0.114571</td>\n",
       "      <td>...</td>\n",
       "      <td>0.187756</td>\n",
       "      <td>0.188900</td>\n",
       "      <td>0.002782</td>\n",
       "      <td>0.106552</td>\n",
       "      <td>0.007106</td>\n",
       "      <td>0.082843</td>\n",
       "      <td>-0.054519</td>\n",
       "      <td>-0.238143</td>\n",
       "      <td>-0.062100</td>\n",
       "      <td>-0.048489</td>\n",
       "    </tr>\n",
       "  </tbody>\n",
       "</table>\n",
       "<p>19 rows × 26 columns</p>\n",
       "</div>"
      ],
      "text/plain": [
       "        temp  pressure  humidity  wind_speed  wind_deg  generation biomass  \\\n",
       "0  -0.129891 -0.034692  0.037501    0.043391  0.092407           -0.109197   \n",
       "1   0.082167 -0.097318 -0.322151    0.253435  0.054915            0.058220   \n",
       "2   0.136422  0.014764 -0.132476    0.095570 -0.002007           -0.474636   \n",
       "3   0.259807 -0.071369 -0.325590    0.321474  0.117263           -0.014562   \n",
       "4   0.467364  0.002712 -0.235875   -0.071883 -0.279008            0.159873   \n",
       "5   0.197188  0.334137  0.108848   -0.350053 -0.454364           -0.119766   \n",
       "6   0.093896 -0.429390 -0.004803    0.018679  0.031073           -0.019076   \n",
       "7   0.037515 -0.373028  0.125443   -0.151533 -0.432017           -0.059303   \n",
       "8  -0.138905 -0.165550  0.098651   -0.079662 -0.219812           -0.012782   \n",
       "9  -0.104099  0.424308 -0.015174    0.069400  0.281400            0.047196   \n",
       "10 -0.130732  0.433193 -0.132923   -0.061694 -0.029348           -0.091213   \n",
       "11 -0.067172  0.340447 -0.088905    0.106489 -0.360444            0.141914   \n",
       "12  0.147328  0.045923  0.072910    0.359568 -0.103600           -0.100101   \n",
       "13 -0.015018  0.079106  0.093304    0.644880 -0.399902            0.082453   \n",
       "14 -0.404629 -0.017226  0.083134    0.080814 -0.097642           -0.089766   \n",
       "15 -0.264591 -0.046182 -0.045594    0.149148 -0.116803           -0.131583   \n",
       "16  0.227774  0.069128 -0.381808   -0.156163  0.042257            0.116682   \n",
       "17 -0.248782 -0.059190 -0.269961   -0.151340 -0.098155           -0.042326   \n",
       "18  0.225116  0.062329  0.564985    0.130396  0.132878            0.220938   \n",
       "\n",
       "    generation fossil brown coal/lignite  generation fossil gas  \\\n",
       "0                              -0.309731              -0.337886   \n",
       "1                              -0.191368              -0.041307   \n",
       "2                              -0.122909               0.076058   \n",
       "3                               0.145195               0.051524   \n",
       "4                              -0.095859              -0.205589   \n",
       "5                              -0.128225               0.030846   \n",
       "6                               0.012797               0.190123   \n",
       "7                              -0.020612               0.056382   \n",
       "8                               0.176474               0.152897   \n",
       "9                              -0.109352               0.036985   \n",
       "10                              0.180162               0.232350   \n",
       "11                             -0.003847              -0.068459   \n",
       "12                              0.095286               0.195646   \n",
       "13                              0.028005              -0.083130   \n",
       "14                              0.070024              -0.177493   \n",
       "15                             -0.329698               0.435180   \n",
       "16                             -0.205851               0.263904   \n",
       "17                             -0.130503               0.191482   \n",
       "18                             -0.398999               0.287780   \n",
       "\n",
       "    generation fossil hard coal  generation fossil oil  ...  generation solar  \\\n",
       "0                     -0.348331              -0.257588  ...         -0.136203   \n",
       "1                     -0.117293               0.162759  ...          0.213997   \n",
       "2                     -0.213176              -0.231788  ...          0.123745   \n",
       "3                      0.094549              -0.088079  ...          0.240566   \n",
       "4                     -0.076772              -0.054406  ...          0.389005   \n",
       "5                     -0.127258               0.006471  ...          0.038884   \n",
       "6                      0.023537              -0.029426  ...         -0.083495   \n",
       "7                     -0.028135               0.002300  ...          0.005854   \n",
       "8                      0.151581              -0.241212  ...          0.006756   \n",
       "9                     -0.019620              -0.173771  ...          0.005938   \n",
       "10                     0.125551              -0.064063  ...          0.235206   \n",
       "11                     0.015113               0.224167  ...         -0.205765   \n",
       "12                     0.025168               0.087708  ...         -0.405455   \n",
       "13                     0.078296              -0.310244  ...         -0.084964   \n",
       "14                     0.033805              -0.106499  ...          0.305629   \n",
       "15                    -0.234355               0.305830  ...          0.132994   \n",
       "16                     0.020472              -0.112701  ...         -0.439585   \n",
       "17                    -0.032907              -0.586460  ...         -0.046421   \n",
       "18                    -0.134524              -0.114571  ...          0.187756   \n",
       "\n",
       "    generation waste  generation wind onshore  total load actual  \\\n",
       "0          -0.124399                 0.209294          -0.333061   \n",
       "1          -0.246102                 0.245612           0.309592   \n",
       "2           0.302517                -0.046978           0.084913   \n",
       "3           0.221768                 0.201603          -0.006756   \n",
       "4          -0.150069                -0.270516          -0.117086   \n",
       "5          -0.023972                 0.244157           0.074873   \n",
       "6          -0.130266                 0.050543          -0.084799   \n",
       "7          -0.010104                 0.061876           0.043516   \n",
       "8           0.054389                -0.129734           0.086021   \n",
       "9          -0.037721                 0.050166           0.085948   \n",
       "10         -0.154724                -0.366454          -0.092760   \n",
       "11          0.170896                 0.347569           0.058392   \n",
       "12         -0.161464                 0.017424           0.068780   \n",
       "13         -0.016831                -0.163621          -0.128292   \n",
       "14         -0.369917                 0.241198           0.102977   \n",
       "15         -0.328741                -0.194962          -0.068556   \n",
       "16         -0.231010                 0.020918          -0.101430   \n",
       "17          0.101167                 0.089454           0.124310   \n",
       "18          0.188900                 0.002782           0.106552   \n",
       "\n",
       "    price actual  generation  energy_difference     month       day   weekend  \n",
       "0      -0.297654   -0.213466           0.244165 -0.105579 -0.037446  0.137048  \n",
       "1      -0.031865    0.370998           0.052857 -0.221286 -0.076144 -0.078758  \n",
       "2       0.004022   -0.042088          -0.218736 -0.026941 -0.009546  0.015525  \n",
       "3      -0.075757    0.194219           0.326890  0.094451  0.030271  0.115294  \n",
       "4      -0.129462   -0.271751          -0.233116  0.089360  0.042268  0.231084  \n",
       "5       0.156157    0.212266           0.211480  0.413016 -0.238221 -0.085757  \n",
       "6       0.166308    0.003213           0.155501  0.275048 -0.022318 -0.039639  \n",
       "7      -0.066535    0.110209           0.101574 -0.186208  0.720528 -0.065219  \n",
       "8      -0.039971    0.175528           0.132152 -0.190690 -0.289054  0.712387  \n",
       "9       0.185404    0.087798          -0.009967  0.319378  0.557398  0.405409  \n",
       "10     -0.229359    0.046841           0.240350 -0.243844  0.083329 -0.258750  \n",
       "11     -0.156162   -0.021155          -0.137791 -0.334383  0.027729  0.153686  \n",
       "12     -0.511902    0.014117          -0.099011  0.328606  0.005605  0.031865  \n",
       "13      0.374998   -0.095684           0.072227 -0.001610 -0.016553 -0.176908  \n",
       "14      0.193558    0.031172          -0.131965  0.030121 -0.041800  0.021679  \n",
       "15     -0.031158   -0.071649           0.005327  0.078910 -0.047935  0.156433  \n",
       "16      0.379511   -0.068230           0.069136 -0.285482 -0.012733  0.060587  \n",
       "17     -0.219640    0.056006          -0.129506  0.055655 -0.039225 -0.253026  \n",
       "18      0.007106    0.082843          -0.054519 -0.238143 -0.062100 -0.048489  \n",
       "\n",
       "[19 rows x 26 columns]"
      ]
     },
     "execution_count": 35,
     "metadata": {},
     "output_type": "execute_result"
    }
   ],
   "source": [
    "pd.DataFrame(pca.components_, columns=scaled_df.columns)"
   ]
  },
  {
   "cell_type": "code",
   "execution_count": 36,
   "metadata": {},
   "outputs": [
    {
     "name": "stdout",
     "output_type": "stream",
     "text": [
      "Most important components:\n",
      "generation fossil hard coal\n",
      "generation\n",
      "generation biomass\n",
      "generation hydro water reservoir\n",
      "temp\n",
      "wind_deg\n",
      "generation nuclear\n",
      "day\n",
      "weekend\n",
      "day\n",
      "pressure\n",
      "generation nuclear\n",
      "price actual\n",
      "wind_speed\n",
      "generation other\n",
      "generation fossil gas\n",
      "generation solar\n",
      "generation fossil oil\n",
      "humidity\n",
      "\n",
      "Least important components:\n",
      "generation fossil brown coal/lignite\n",
      "generation hydro pumped storage consumption\n",
      "generation hydro run-of-river and poundage\n",
      "generation other renewable\n",
      "generation waste\n",
      "generation wind onshore\n",
      "total load actual\n",
      "energy_difference\n",
      "month\n"
     ]
    }
   ],
   "source": [
    "n_pcs = pca.n_components_\n",
    "\n",
    "# get the index of the most important feature on EACH component\n",
    "most_important = [np.abs(pca.components_[i]).argmax() for i in range(n_pcs)]\n",
    "initial_feature_names = scaled_df.columns\n",
    "\n",
    "# get the most important feature names\n",
    "most_important_names = [initial_feature_names[most_important[i]] for i in range(n_pcs)]\n",
    "\n",
    "print(\"Most important components:\")\n",
    "for item in most_important_names:\n",
    "    print(item)\n",
    "\n",
    "print(\"\")\n",
    "\n",
    "print(\"Least important components:\")\n",
    "for item in scaled_df.columns:\n",
    "    if item not in most_important_names:\n",
    "        print(item)"
   ]
  },
  {
   "cell_type": "markdown",
   "metadata": {},
   "source": [
    "## Decomposition\n"
   ]
  },
  {
   "cell_type": "code",
   "execution_count": 37,
   "metadata": {},
   "outputs": [],
   "source": [
    "feature = 'price actual'"
   ]
  },
  {
   "cell_type": "code",
   "execution_count": 38,
   "metadata": {},
   "outputs": [
    {
     "data": {
      "image/png": "[encoded data removed]",
      "text/plain": [
       "<Figure size 576x576 with 4 Axes>"
      ]
     },
     "metadata": {
      "needs_background": "light"
     },
     "output_type": "display_data"
    }
   ],
   "source": [
    "fig = display_seasonal_decomposition(\n",
    "    scaled_df[\"2015-01-01 00:00:00\":\"2015-12-31 23:00:00\"],\n",
    "    feature,\n",
    "    72,\n",
    "    \"median\",\n",
    ")"
   ]
  },
  {
   "cell_type": "code",
   "execution_count": 39,
   "metadata": {},
   "outputs": [
    {
     "data": {
      "image/png": "[encoded data removed]",
      "text/plain": [
       "<Figure size 576x576 with 4 Axes>"
      ]
     },
     "metadata": {
      "needs_background": "light"
     },
     "output_type": "display_data"
    }
   ],
   "source": [
    "fig = display_seasonal_decomposition(\n",
    "    scaled_df[\"2016-01-01 00:00:00\":\"2016-12-31 23:00:00\"],\n",
    "    feature,\n",
    "    72,\n",
    "    \"median\",\n",
    ")"
   ]
  },
  {
   "cell_type": "markdown",
   "metadata": {},
   "source": [
    "## Autocorrelation and Partial Autocorrelation\n"
   ]
  },
  {
   "cell_type": "code",
   "execution_count": 40,
   "metadata": {},
   "outputs": [
    {
     "data": {
      "image/png": "[encoded data removed]",
      "text/plain": [
       "<Figure size 576x576 with 1 Axes>"
      ]
     },
     "metadata": {
      "needs_background": "light"
     },
     "output_type": "display_data"
    }
   ],
   "source": [
    "fig = lag_plot(combined_df[feature])"
   ]
  },
  {
   "cell_type": "code",
   "execution_count": 41,
   "metadata": {},
   "outputs": [
    {
     "data": {
      "image/png": "[encoded data removed]",
      "text/plain": [
       "<Figure size 576x576 with 1 Axes>"
      ]
     },
     "metadata": {
      "needs_background": "light"
     },
     "output_type": "display_data"
    }
   ],
   "source": [
    "# Checking autocorrelations:\n",
    "fig = autocorrelation_plot(combined_df[feature])"
   ]
  },
  {
   "cell_type": "code",
   "execution_count": 42,
   "metadata": {},
   "outputs": [
    {
     "data": {
      "image/png": "[encoded data removed]",
      "text/plain": [
       "<Figure size 576x576 with 1 Axes>"
      ]
     },
     "metadata": {
      "needs_background": "light"
     },
     "output_type": "display_data"
    }
   ],
   "source": [
    "# Checking autocorrelations:\n",
    "subset = combined_df[feature][\"2015-01-01\":\"2015-01-07\"]\n",
    "fig = autocorrelation_plot(subset)"
   ]
  },
  {
   "cell_type": "code",
   "execution_count": 43,
   "metadata": {},
   "outputs": [
    {
     "data": {
      "text/plain": [
       "<Figure size 576x576 with 0 Axes>"
      ]
     },
     "metadata": {},
     "output_type": "display_data"
    },
    {
     "data": {
      "image/png": "[encoded data removed]",
      "text/plain": [
       "<Figure size 576x576 with 1 Axes>"
      ]
     },
     "metadata": {
      "needs_background": "light"
     },
     "output_type": "display_data"
    }
   ],
   "source": [
    "plt.figure()\n",
    "fig = plot_acf(combined_df[feature])"
   ]
  },
  {
   "cell_type": "code",
   "execution_count": 44,
   "metadata": {},
   "outputs": [
    {
     "data": {
      "image/png": "[encoded data removed]",
      "text/plain": [
       "<Figure size 576x576 with 1 Axes>"
      ]
     },
     "metadata": {
      "needs_background": "light"
     },
     "output_type": "display_data"
    }
   ],
   "source": [
    "fig = plot_pacf(combined_df[feature], lags=25)"
   ]
  }
 ],
 "metadata": {
  "celltoolbar": "Slideshow",
  "interpreter": {
   "hash": "1259e544f7c88cffa22b374c78440332cebcf1c64fb277e69ada7ea019600051"
  },
  "kernelspec": {
   "display_name": "Python 3",
   "language": "python",
   "name": "python3"
  },
  "language_info": {
   "codemirror_mode": {
    "name": "ipython",
    "version": 3
   },
   "file_extension": ".py",
   "mimetype": "text/x-python",
   "name": "python",
   "nbconvert_exporter": "python",
   "pygments_lexer": "ipython3",
   "version": "3.9.4"
  }
 },
 "nbformat": 4,
 "nbformat_minor": 2
}
